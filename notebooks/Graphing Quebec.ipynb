{
 "cells": [
  {
   "cell_type": "code",
   "execution_count": 76,
   "metadata": {},
   "outputs": [],
   "source": [
    "import plotly.graph_objects as go\n",
    "import plotly.express as px\n",
    "\n",
    "import numpy as np\n",
    "import pandas as pd"
   ]
  },
  {
   "cell_type": "code",
   "execution_count": 96,
   "metadata": {},
   "outputs": [],
   "source": [
    "quebec_path = \"../data/quebec/Quebec.csv\"\n",
    "headers = [\"Region\",  \"Total Number of Cases\", \"Date of Infection\", \"Lat\", \"Long\"]\n",
    "df = pd.read_csv(quebec_path)\n",
    "regions = df[:19]\n",
    "dates = list(regions)[1:]\n",
    "\n",
    "\n",
    "\n",
    "lat_long = [(48.333333, -68.666667), (49.8667, -71.75), (47.333333, -71.5), (47, -73), (45.481556, -71.667917),\n",
    "               (45.5, -73.566667), (45.783333, -75.083333), (48.233333, -79.016667), (50.866667, -65.816667),\n",
    "               (56.166667, -74.416667), (48.683333, -65.4), (46.483333, -70.616667), (45.583333, -73.75),\n",
    "               (46.766667, -73.833333), (46.433333, -74.983333), (45.383333, -73.1), (46.283333, -72.066667)]"
   ]
  },
  {
   "cell_type": "code",
   "execution_count": 109,
   "metadata": {},
   "outputs": [],
   "source": [
    "boundaries = [[[-75.521078,47.846988],[-75.521328,47.763314],[-75.308858,47.547632],[-75.558812,47.207758],[-75.796918,47.319068],[-76.091496,47.188543],[-76.130591,46.924539],[-75.896777,46.817864],[-75.747563,46.842662],[-75.745234,46.438231],[-75.788765,46.274808],[-75.748112,45.972435],[-75.408277,45.97322],[-75.408148,46.097566],[-74.939369,46.105915],[-74.714402,45.8879],[-74.807877,45.638399],[-75.683908,45.459147],[-75.863327,45.378637],[-75.959496,45.465951],[-76.205678,45.51791],[-76.347222,45.456245],[-76.656641,45.558558],[-76.782695,45.874218],[-76.993624,45.787639],[-77.194378,45.86903],[-77.277882,46.009395],[-77.568477,46.157865],[-77.841593,46.20636],[-77.742892,46.409166],[-77.828896,46.764638],[-77.834224,46.771435],[-77.887515,46.836003],[-77.890685,46.842495],[-77.891966,46.844478],[-77.892402,46.853972],[-77.850785,46.891076],[-77.850058,46.884025],[-77.844448,46.886294],[-77.84366,46.896653],[-77.834101,46.926713],[-77.836447,46.934191],[-77.860428,47.239651],[-77.433071,47.290474],[-77.433281,47.144924],[-77.002301,47.145024],[-77.001718,47.289943],[-76.575914,47.289729],[-76.575596,47.604154],[-76.454455,47.622073],[-76.451946,47.627699],[-76.288937,47.681683],[-76.289692,47.683687],[-76.229669,47.73144],[-75.837584,47.750306],[-75.8341,47.749513],[-75.81342,47.68064],[-75.812205,47.67892],[-75.811202,47.674356],[-75.810177,47.67167],[-75.782192,47.799428],[-75.780107,47.800688],[-75.521078,47.846988]]]"
   ]
  },
  {
   "cell_type": "code",
   "execution_count": 97,
   "metadata": {},
   "outputs": [],
   "source": [
    "stacked_df = pd.DataFrame(columns=headers)\n",
    "for ix,row in regions.iterrows():\n",
    "    region = [list(row)[0]]*(len(row)-1)\n",
    "    if ix < 17:\n",
    "        lat = [lat_long[ix][0]]*(len(row)-1)\n",
    "        long = [lat_long[ix][1]]*(len(row)-1)\n",
    "    else : \n",
    "        lat = [\"na\"]*(len(row)-1)\n",
    "        long = [\"na\"]*(len(row)-1)\n",
    "    num_cases = list(row)[1:]\n",
    "    region_list = [region, num_cases, dates, lat, long]\n",
    "    temp = pd.DataFrame(list(map(list, zip(*region_list))), columns = headers)\n",
    "    stacked_df =stacked_df.append(temp,  ignore_index=True)\n"
   ]
  },
  {
   "cell_type": "code",
   "execution_count": 98,
   "metadata": {},
   "outputs": [
    {
     "data": {
      "text/html": [
       "<div>\n",
       "<style scoped>\n",
       "    .dataframe tbody tr th:only-of-type {\n",
       "        vertical-align: middle;\n",
       "    }\n",
       "\n",
       "    .dataframe tbody tr th {\n",
       "        vertical-align: top;\n",
       "    }\n",
       "\n",
       "    .dataframe thead th {\n",
       "        text-align: right;\n",
       "    }\n",
       "</style>\n",
       "<table border=\"1\" class=\"dataframe\">\n",
       "  <thead>\n",
       "    <tr style=\"text-align: right;\">\n",
       "      <th></th>\n",
       "      <th>Region</th>\n",
       "      <th>Total Number of Cases</th>\n",
       "      <th>Date of Infection</th>\n",
       "      <th>Lat</th>\n",
       "      <th>Long</th>\n",
       "    </tr>\n",
       "  </thead>\n",
       "  <tbody>\n",
       "    <tr>\n",
       "      <th>0</th>\n",
       "      <td>01-Bas-Saint-Laurent</td>\n",
       "      <td>0.0</td>\n",
       "      <td>13th</td>\n",
       "      <td>48.3333</td>\n",
       "      <td>-68.6667</td>\n",
       "    </tr>\n",
       "    <tr>\n",
       "      <th>1</th>\n",
       "      <td>01-Bas-Saint-Laurent</td>\n",
       "      <td>0.0</td>\n",
       "      <td>14th</td>\n",
       "      <td>48.3333</td>\n",
       "      <td>-68.6667</td>\n",
       "    </tr>\n",
       "    <tr>\n",
       "      <th>2</th>\n",
       "      <td>01-Bas-Saint-Laurent</td>\n",
       "      <td>0.0</td>\n",
       "      <td>15th</td>\n",
       "      <td>48.3333</td>\n",
       "      <td>-68.6667</td>\n",
       "    </tr>\n",
       "    <tr>\n",
       "      <th>3</th>\n",
       "      <td>01-Bas-Saint-Laurent</td>\n",
       "      <td>0.0</td>\n",
       "      <td>16th</td>\n",
       "      <td>48.3333</td>\n",
       "      <td>-68.6667</td>\n",
       "    </tr>\n",
       "    <tr>\n",
       "      <th>4</th>\n",
       "      <td>01-Bas-Saint-Laurent</td>\n",
       "      <td>0.0</td>\n",
       "      <td>17th</td>\n",
       "      <td>48.3333</td>\n",
       "      <td>-68.6667</td>\n",
       "    </tr>\n",
       "    <tr>\n",
       "      <th>...</th>\n",
       "      <td>...</td>\n",
       "      <td>...</td>\n",
       "      <td>...</td>\n",
       "      <td>...</td>\n",
       "      <td>...</td>\n",
       "    </tr>\n",
       "    <tr>\n",
       "      <th>242</th>\n",
       "      <td>Hors Quebec</td>\n",
       "      <td>2.0</td>\n",
       "      <td>21st</td>\n",
       "      <td>na</td>\n",
       "      <td>na</td>\n",
       "    </tr>\n",
       "    <tr>\n",
       "      <th>243</th>\n",
       "      <td>Hors Quebec</td>\n",
       "      <td>2.0</td>\n",
       "      <td>22nd</td>\n",
       "      <td>na</td>\n",
       "      <td>na</td>\n",
       "    </tr>\n",
       "    <tr>\n",
       "      <th>244</th>\n",
       "      <td>Hors Quebec</td>\n",
       "      <td>3.0</td>\n",
       "      <td>23rd</td>\n",
       "      <td>na</td>\n",
       "      <td>na</td>\n",
       "    </tr>\n",
       "    <tr>\n",
       "      <th>245</th>\n",
       "      <td>Hors Quebec</td>\n",
       "      <td>0.0</td>\n",
       "      <td>24th</td>\n",
       "      <td>na</td>\n",
       "      <td>na</td>\n",
       "    </tr>\n",
       "    <tr>\n",
       "      <th>246</th>\n",
       "      <td>Hors Quebec</td>\n",
       "      <td>0.0</td>\n",
       "      <td>25th</td>\n",
       "      <td>na</td>\n",
       "      <td>na</td>\n",
       "    </tr>\n",
       "  </tbody>\n",
       "</table>\n",
       "<p>247 rows × 5 columns</p>\n",
       "</div>"
      ],
      "text/plain": [
       "                   Region  Total Number of Cases Date of Infection      Lat  \\\n",
       "0    01-Bas-Saint-Laurent                    0.0              13th  48.3333   \n",
       "1    01-Bas-Saint-Laurent                    0.0              14th  48.3333   \n",
       "2    01-Bas-Saint-Laurent                    0.0              15th  48.3333   \n",
       "3    01-Bas-Saint-Laurent                    0.0              16th  48.3333   \n",
       "4    01-Bas-Saint-Laurent                    0.0              17th  48.3333   \n",
       "..                    ...                    ...               ...      ...   \n",
       "242           Hors Quebec                    2.0              21st       na   \n",
       "243           Hors Quebec                    2.0              22nd       na   \n",
       "244           Hors Quebec                    3.0              23rd       na   \n",
       "245           Hors Quebec                    0.0              24th       na   \n",
       "246           Hors Quebec                    0.0              25th       na   \n",
       "\n",
       "        Long  \n",
       "0   -68.6667  \n",
       "1   -68.6667  \n",
       "2   -68.6667  \n",
       "3   -68.6667  \n",
       "4   -68.6667  \n",
       "..       ...  \n",
       "242       na  \n",
       "243       na  \n",
       "244       na  \n",
       "245       na  \n",
       "246       na  \n",
       "\n",
       "[247 rows x 5 columns]"
      ]
     },
     "execution_count": 98,
     "metadata": {},
     "output_type": "execute_result"
    }
   ],
   "source": [
    "stacked_df"
   ]
  },
  {
   "cell_type": "code",
   "execution_count": 99,
   "metadata": {},
   "outputs": [],
   "source": [
    "total_cases = list(df.iloc[19])[1:]"
   ]
  },
  {
   "cell_type": "code",
   "execution_count": 100,
   "metadata": {},
   "outputs": [
    {
     "data": {
      "application/vnd.plotly.v1+json": {
       "config": {
        "plotlyServerURL": "https://plot.ly"
       },
       "data": [
        {
         "alignmentgroup": "True",
         "hoverlabel": {
          "namelength": 0
         },
         "hovertemplate": "Region=01-Bas-Saint-Laurent<br>Date of Infection=%{x}<br>Total Number of Cases=%{y}",
         "legendgroup": "01-Bas-Saint-Laurent",
         "marker": {
          "color": "#FD3216"
         },
         "name": "01-Bas-Saint-Laurent",
         "offsetgroup": "01-Bas-Saint-Laurent",
         "orientation": "v",
         "showlegend": true,
         "textposition": "auto",
         "type": "bar",
         "x": [
          "13th",
          "14th",
          "15th",
          "16th",
          "17th",
          "18th",
          "19th",
          "20th",
          "21st",
          "22nd",
          "23rd",
          "24th",
          "25th"
         ],
         "xaxis": "x",
         "y": [
          0,
          0,
          0,
          0,
          0,
          0,
          1,
          1,
          1,
          1,
          3,
          4,
          6
         ],
         "yaxis": "y"
        },
        {
         "alignmentgroup": "True",
         "hoverlabel": {
          "namelength": 0
         },
         "hovertemplate": "Region=02- Saguenay-Lac-Saint-Jean<br>Date of Infection=%{x}<br>Total Number of Cases=%{y}",
         "legendgroup": "02- Saguenay-Lac-Saint-Jean",
         "marker": {
          "color": "#00FE35"
         },
         "name": "02- Saguenay-Lac-Saint-Jean",
         "offsetgroup": "02- Saguenay-Lac-Saint-Jean",
         "orientation": "v",
         "showlegend": true,
         "textposition": "auto",
         "type": "bar",
         "x": [
          "13th",
          "14th",
          "15th",
          "16th",
          "17th",
          "18th",
          "19th",
          "20th",
          "21st",
          "22nd",
          "23rd",
          "24th",
          "25th"
         ],
         "xaxis": "x",
         "y": [
          0,
          0,
          0,
          0,
          0,
          0,
          0,
          0,
          1,
          1,
          1,
          5,
          8
         ],
         "yaxis": "y"
        },
        {
         "alignmentgroup": "True",
         "hoverlabel": {
          "namelength": 0
         },
         "hovertemplate": "Region=03- Capitale-Nationale<br>Date of Infection=%{x}<br>Total Number of Cases=%{y}",
         "legendgroup": "03- Capitale-Nationale",
         "marker": {
          "color": "#6A76FC"
         },
         "name": "03- Capitale-Nationale",
         "offsetgroup": "03- Capitale-Nationale",
         "orientation": "v",
         "showlegend": true,
         "textposition": "auto",
         "type": "bar",
         "x": [
          "13th",
          "14th",
          "15th",
          "16th",
          "17th",
          "18th",
          "19th",
          "20th",
          "21st",
          "22nd",
          "23rd",
          "24th",
          "25th"
         ],
         "xaxis": "x",
         "y": [
          0,
          0,
          2,
          2,
          3,
          8,
          10,
          10,
          13,
          13,
          33,
          79,
          95
         ],
         "yaxis": "y"
        },
        {
         "alignmentgroup": "True",
         "hoverlabel": {
          "namelength": 0
         },
         "hovertemplate": "Region=04-Mauricie<br>Date of Infection=%{x}<br>Total Number of Cases=%{y}",
         "legendgroup": "04-Mauricie",
         "marker": {
          "color": "#FED4C4"
         },
         "name": "04-Mauricie",
         "offsetgroup": "04-Mauricie",
         "orientation": "v",
         "showlegend": true,
         "textposition": "auto",
         "type": "bar",
         "x": [
          "13th",
          "14th",
          "15th",
          "16th",
          "17th",
          "18th",
          "19th",
          "20th",
          "21st",
          "22nd",
          "23rd",
          "24th",
          "25th"
         ],
         "xaxis": "x",
         "y": [
          1,
          1,
          3,
          3,
          3,
          3,
          3,
          4,
          5,
          7,
          16,
          32,
          35
         ],
         "yaxis": "y"
        },
        {
         "alignmentgroup": "True",
         "hoverlabel": {
          "namelength": 0
         },
         "hovertemplate": "Region=05-Estrie<br>Date of Infection=%{x}<br>Total Number of Cases=%{y}",
         "legendgroup": "05-Estrie",
         "marker": {
          "color": "#FE00CE"
         },
         "name": "05-Estrie",
         "offsetgroup": "05-Estrie",
         "orientation": "v",
         "showlegend": true,
         "textposition": "auto",
         "type": "bar",
         "x": [
          "13th",
          "14th",
          "15th",
          "16th",
          "17th",
          "18th",
          "19th",
          "20th",
          "21st",
          "22nd",
          "23rd",
          "24th",
          "25th"
         ],
         "xaxis": "x",
         "y": [
          2,
          3,
          4,
          4,
          9,
          18,
          26,
          26,
          27,
          30,
          48,
          130,
          169
         ],
         "yaxis": "y"
        },
        {
         "alignmentgroup": "True",
         "hoverlabel": {
          "namelength": 0
         },
         "hovertemplate": "Region=06-Montreal<br>Date of Infection=%{x}<br>Total Number of Cases=%{y}",
         "legendgroup": "06-Montreal",
         "marker": {
          "color": "#0DF9FF"
         },
         "name": "06-Montreal",
         "offsetgroup": "06-Montreal",
         "orientation": "v",
         "showlegend": true,
         "textposition": "auto",
         "type": "bar",
         "x": [
          "13th",
          "14th",
          "15th",
          "16th",
          "17th",
          "18th",
          "19th",
          "20th",
          "21st",
          "22nd",
          "23rd",
          "24th",
          "25th"
         ],
         "xaxis": "x",
         "y": [
          7,
          8,
          10,
          18,
          22,
          24,
          28,
          31,
          41,
          46,
          265,
          439,
          603
         ],
         "yaxis": "y"
        },
        {
         "alignmentgroup": "True",
         "hoverlabel": {
          "namelength": 0
         },
         "hovertemplate": "Region=07-Outauais<br>Date of Infection=%{x}<br>Total Number of Cases=%{y}",
         "legendgroup": "07-Outauais",
         "marker": {
          "color": "#F6F926"
         },
         "name": "07-Outauais",
         "offsetgroup": "07-Outauais",
         "orientation": "v",
         "showlegend": true,
         "textposition": "auto",
         "type": "bar",
         "x": [
          "13th",
          "14th",
          "15th",
          "16th",
          "17th",
          "18th",
          "19th",
          "20th",
          "21st",
          "22nd",
          "23rd",
          "24th",
          "25th"
         ],
         "xaxis": "x",
         "y": [
          0,
          0,
          0,
          0,
          0,
          1,
          1,
          1,
          3,
          5,
          8,
          12,
          13
         ],
         "yaxis": "y"
        },
        {
         "alignmentgroup": "True",
         "hoverlabel": {
          "namelength": 0
         },
         "hovertemplate": "Region=08-Abititi-Temiscaminigue<br>Date of Infection=%{x}<br>Total Number of Cases=%{y}",
         "legendgroup": "08-Abititi-Temiscaminigue",
         "marker": {
          "color": "#FF9616"
         },
         "name": "08-Abititi-Temiscaminigue",
         "offsetgroup": "08-Abititi-Temiscaminigue",
         "orientation": "v",
         "showlegend": true,
         "textposition": "auto",
         "type": "bar",
         "x": [
          "13th",
          "14th",
          "15th",
          "16th",
          "17th",
          "18th",
          "19th",
          "20th",
          "21st",
          "22nd",
          "23rd",
          "24th",
          "25th"
         ],
         "xaxis": "x",
         "y": [
          0,
          0,
          0,
          0,
          0,
          0,
          0,
          0,
          0,
          0,
          3,
          5,
          5
         ],
         "yaxis": "y"
        },
        {
         "alignmentgroup": "True",
         "hoverlabel": {
          "namelength": 0
         },
         "hovertemplate": "Region=9-Cote-Nord<br>Date of Infection=%{x}<br>Total Number of Cases=%{y}",
         "legendgroup": "9-Cote-Nord",
         "marker": {
          "color": "#479B55"
         },
         "name": "9-Cote-Nord",
         "offsetgroup": "9-Cote-Nord",
         "orientation": "v",
         "showlegend": true,
         "textposition": "auto",
         "type": "bar",
         "x": [
          "13th",
          "14th",
          "15th",
          "16th",
          "17th",
          "18th",
          "19th",
          "20th",
          "21st",
          "22nd",
          "23rd",
          "24th",
          "25th"
         ],
         "xaxis": "x",
         "y": [
          0,
          0,
          0,
          0,
          0,
          0,
          0,
          0,
          0,
          0,
          0,
          1,
          2
         ],
         "yaxis": "y"
        },
        {
         "alignmentgroup": "True",
         "hoverlabel": {
          "namelength": 0
         },
         "hovertemplate": "Region=10-Nord-du-Quebec<br>Date of Infection=%{x}<br>Total Number of Cases=%{y}",
         "legendgroup": "10-Nord-du-Quebec",
         "marker": {
          "color": "#EEA6FB"
         },
         "name": "10-Nord-du-Quebec",
         "offsetgroup": "10-Nord-du-Quebec",
         "orientation": "v",
         "showlegend": true,
         "textposition": "auto",
         "type": "bar",
         "x": [
          "13th",
          "14th",
          "15th",
          "16th",
          "17th",
          "18th",
          "19th",
          "20th",
          "21st",
          "22nd",
          "23rd",
          "24th",
          "25th"
         ],
         "xaxis": "x",
         "y": [
          0,
          0,
          0,
          0,
          0,
          0,
          0,
          1,
          1,
          1,
          1,
          1,
          1
         ],
         "yaxis": "y"
        },
        {
         "alignmentgroup": "True",
         "hoverlabel": {
          "namelength": 0
         },
         "hovertemplate": "Region=11- Gaspesie-Iles-de-la-Madelaine<br>Date of Infection=%{x}<br>Total Number of Cases=%{y}",
         "legendgroup": "11- Gaspesie-Iles-de-la-Madelaine",
         "marker": {
          "color": "#DC587D"
         },
         "name": "11- Gaspesie-Iles-de-la-Madelaine",
         "offsetgroup": "11- Gaspesie-Iles-de-la-Madelaine",
         "orientation": "v",
         "showlegend": true,
         "textposition": "auto",
         "type": "bar",
         "x": [
          "13th",
          "14th",
          "15th",
          "16th",
          "17th",
          "18th",
          "19th",
          "20th",
          "21st",
          "22nd",
          "23rd",
          "24th",
          "25th"
         ],
         "xaxis": "x",
         "y": [
          0,
          0,
          0,
          0,
          0,
          0,
          0,
          0,
          0,
          0,
          3,
          7,
          7
         ],
         "yaxis": "y"
        },
        {
         "alignmentgroup": "True",
         "hoverlabel": {
          "namelength": 0
         },
         "hovertemplate": "Region=12-Chaudiere-Appalaches<br>Date of Infection=%{x}<br>Total Number of Cases=%{y}",
         "legendgroup": "12-Chaudiere-Appalaches",
         "marker": {
          "color": "#D626FF"
         },
         "name": "12-Chaudiere-Appalaches",
         "offsetgroup": "12-Chaudiere-Appalaches",
         "orientation": "v",
         "showlegend": true,
         "textposition": "auto",
         "type": "bar",
         "x": [
          "13th",
          "14th",
          "15th",
          "16th",
          "17th",
          "18th",
          "19th",
          "20th",
          "21st",
          "22nd",
          "23rd",
          "24th",
          "25th"
         ],
         "xaxis": "x",
         "y": [
          1,
          1,
          3,
          4,
          4,
          6,
          6,
          6,
          13,
          13,
          15,
          14,
          46
         ],
         "yaxis": "y"
        },
        {
         "alignmentgroup": "True",
         "hoverlabel": {
          "namelength": 0
         },
         "hovertemplate": "Region=13- Laval<br>Date of Infection=%{x}<br>Total Number of Cases=%{y}",
         "legendgroup": "13- Laval",
         "marker": {
          "color": "#6E899C"
         },
         "name": "13- Laval",
         "offsetgroup": "13- Laval",
         "orientation": "v",
         "showlegend": true,
         "textposition": "auto",
         "type": "bar",
         "x": [
          "13th",
          "14th",
          "15th",
          "16th",
          "17th",
          "18th",
          "19th",
          "20th",
          "21st",
          "22nd",
          "23rd",
          "24th",
          "25th"
         ],
         "xaxis": "x",
         "y": [
          0,
          0,
          0,
          0,
          0,
          0,
          1,
          1,
          3,
          4,
          21,
          60,
          83
         ],
         "yaxis": "y"
        },
        {
         "alignmentgroup": "True",
         "hoverlabel": {
          "namelength": 0
         },
         "hovertemplate": "Region=14- Lanaudiere<br>Date of Infection=%{x}<br>Total Number of Cases=%{y}",
         "legendgroup": "14- Lanaudiere",
         "marker": {
          "color": "#00B5F7"
         },
         "name": "14- Lanaudiere",
         "offsetgroup": "14- Lanaudiere",
         "orientation": "v",
         "showlegend": true,
         "textposition": "auto",
         "type": "bar",
         "x": [
          "13th",
          "14th",
          "15th",
          "16th",
          "17th",
          "18th",
          "19th",
          "20th",
          "21st",
          "22nd",
          "23rd",
          "24th",
          "25th"
         ],
         "xaxis": "x",
         "y": [
          0,
          1,
          2,
          3,
          6,
          6,
          7,
          7,
          9,
          15,
          50,
          55,
          68
         ],
         "yaxis": "y"
        },
        {
         "alignmentgroup": "True",
         "hoverlabel": {
          "namelength": 0
         },
         "hovertemplate": "Region=15- Laurentides<br>Date of Infection=%{x}<br>Total Number of Cases=%{y}",
         "legendgroup": "15- Laurentides",
         "marker": {
          "color": "#B68E00"
         },
         "name": "15- Laurentides",
         "offsetgroup": "15- Laurentides",
         "orientation": "v",
         "showlegend": true,
         "textposition": "auto",
         "type": "bar",
         "x": [
          "13th",
          "14th",
          "15th",
          "16th",
          "17th",
          "18th",
          "19th",
          "20th",
          "21st",
          "22nd",
          "23rd",
          "24th",
          "25th"
         ],
         "xaxis": "x",
         "y": [
          2,
          2,
          3,
          3,
          7,
          8,
          9,
          10,
          14,
          17,
          30,
          44,
          50
         ],
         "yaxis": "y"
        },
        {
         "alignmentgroup": "True",
         "hoverlabel": {
          "namelength": 0
         },
         "hovertemplate": "Region=16- Monteregie<br>Date of Infection=%{x}<br>Total Number of Cases=%{y}",
         "legendgroup": "16- Monteregie",
         "marker": {
          "color": "#C9FBE5"
         },
         "name": "16- Monteregie",
         "offsetgroup": "16- Monteregie",
         "orientation": "v",
         "showlegend": true,
         "textposition": "auto",
         "type": "bar",
         "x": [
          "13th",
          "14th",
          "15th",
          "16th",
          "17th",
          "18th",
          "19th",
          "20th",
          "21st",
          "22nd",
          "23rd",
          "24th",
          "25th"
         ],
         "xaxis": "x",
         "y": [
          4,
          7,
          9,
          10,
          13,
          13,
          19,
          21,
          26,
          40,
          66,
          125,
          148
         ],
         "yaxis": "y"
        },
        {
         "alignmentgroup": "True",
         "hoverlabel": {
          "namelength": 0
         },
         "hovertemplate": "Region=17- Centre du Quebec<br>Date of Infection=%{x}<br>Total Number of Cases=%{y}",
         "legendgroup": "17- Centre du Quebec",
         "marker": {
          "color": "#FF0092"
         },
         "name": "17- Centre du Quebec",
         "offsetgroup": "17- Centre du Quebec",
         "orientation": "v",
         "showlegend": true,
         "textposition": "auto",
         "type": "bar",
         "x": [
          "13th",
          "14th",
          "15th",
          "16th",
          "17th",
          "18th",
          "19th",
          "20th",
          "21st",
          "22nd",
          "23rd",
          "24th",
          "25th"
         ],
         "xaxis": "x",
         "y": [
          0,
          0,
          0,
          0,
          0,
          0,
          0,
          0,
          0,
          0,
          0,
          0,
          0
         ],
         "yaxis": "y"
        },
        {
         "alignmentgroup": "True",
         "hoverlabel": {
          "namelength": 0
         },
         "hovertemplate": "Region=Undetermined<br>Date of Infection=%{x}<br>Total Number of Cases=%{y}",
         "legendgroup": "Undetermined",
         "marker": {
          "color": "#22FFA7"
         },
         "name": "Undetermined",
         "offsetgroup": "Undetermined",
         "orientation": "v",
         "showlegend": true,
         "textposition": "auto",
         "type": "bar",
         "x": [
          "13th",
          "14th",
          "15th",
          "16th",
          "17th",
          "18th",
          "19th",
          "20th",
          "21st",
          "22nd",
          "23rd",
          "24th",
          "25th"
         ],
         "xaxis": "x",
         "y": [
          0,
          1,
          2,
          3,
          5,
          5,
          8,
          18,
          22,
          24,
          62,
          0,
          0
         ],
         "yaxis": "y"
        },
        {
         "alignmentgroup": "True",
         "hoverlabel": {
          "namelength": 0
         },
         "hovertemplate": "Region=Hors Quebec<br>Date of Infection=%{x}<br>Total Number of Cases=%{y}",
         "legendgroup": "Hors Quebec",
         "marker": {
          "color": "#E3EE9E"
         },
         "name": "Hors Quebec",
         "offsetgroup": "Hors Quebec",
         "orientation": "v",
         "showlegend": true,
         "textposition": "auto",
         "type": "bar",
         "x": [
          "13th",
          "14th",
          "15th",
          "16th",
          "17th",
          "18th",
          "19th",
          "20th",
          "21st",
          "22nd",
          "23rd",
          "24th",
          "25th"
         ],
         "xaxis": "x",
         "y": [
          0,
          0,
          1,
          1,
          2,
          2,
          2,
          2,
          2,
          2,
          3,
          0,
          0
         ],
         "yaxis": "y"
        },
        {
         "mode": "lines",
         "name": "Total",
         "type": "scatter",
         "x": [
          "13th",
          "14th",
          "15th",
          "16th",
          "17th",
          "18th",
          "19th",
          "20th",
          "21st",
          "22nd",
          "23rd",
          "24th",
          "25th"
         ],
         "y": [
          17,
          24,
          39,
          51,
          74,
          94,
          121,
          139,
          181,
          219,
          628,
          1013,
          1339
         ]
        }
       ],
       "layout": {
        "barmode": "relative",
        "legend": {
         "title": {
          "text": "Region"
         },
         "tracegroupgap": 0
        },
        "margin": {
         "t": 60
        },
        "template": {
         "data": {
          "bar": [
           {
            "error_x": {
             "color": "#2a3f5f"
            },
            "error_y": {
             "color": "#2a3f5f"
            },
            "marker": {
             "line": {
              "color": "#E5ECF6",
              "width": 0.5
             }
            },
            "type": "bar"
           }
          ],
          "barpolar": [
           {
            "marker": {
             "line": {
              "color": "#E5ECF6",
              "width": 0.5
             }
            },
            "type": "barpolar"
           }
          ],
          "carpet": [
           {
            "aaxis": {
             "endlinecolor": "#2a3f5f",
             "gridcolor": "white",
             "linecolor": "white",
             "minorgridcolor": "white",
             "startlinecolor": "#2a3f5f"
            },
            "baxis": {
             "endlinecolor": "#2a3f5f",
             "gridcolor": "white",
             "linecolor": "white",
             "minorgridcolor": "white",
             "startlinecolor": "#2a3f5f"
            },
            "type": "carpet"
           }
          ],
          "choropleth": [
           {
            "colorbar": {
             "outlinewidth": 0,
             "ticks": ""
            },
            "type": "choropleth"
           }
          ],
          "contour": [
           {
            "colorbar": {
             "outlinewidth": 0,
             "ticks": ""
            },
            "colorscale": [
             [
              0,
              "#0d0887"
             ],
             [
              0.1111111111111111,
              "#46039f"
             ],
             [
              0.2222222222222222,
              "#7201a8"
             ],
             [
              0.3333333333333333,
              "#9c179e"
             ],
             [
              0.4444444444444444,
              "#bd3786"
             ],
             [
              0.5555555555555556,
              "#d8576b"
             ],
             [
              0.6666666666666666,
              "#ed7953"
             ],
             [
              0.7777777777777778,
              "#fb9f3a"
             ],
             [
              0.8888888888888888,
              "#fdca26"
             ],
             [
              1,
              "#f0f921"
             ]
            ],
            "type": "contour"
           }
          ],
          "contourcarpet": [
           {
            "colorbar": {
             "outlinewidth": 0,
             "ticks": ""
            },
            "type": "contourcarpet"
           }
          ],
          "heatmap": [
           {
            "colorbar": {
             "outlinewidth": 0,
             "ticks": ""
            },
            "colorscale": [
             [
              0,
              "#0d0887"
             ],
             [
              0.1111111111111111,
              "#46039f"
             ],
             [
              0.2222222222222222,
              "#7201a8"
             ],
             [
              0.3333333333333333,
              "#9c179e"
             ],
             [
              0.4444444444444444,
              "#bd3786"
             ],
             [
              0.5555555555555556,
              "#d8576b"
             ],
             [
              0.6666666666666666,
              "#ed7953"
             ],
             [
              0.7777777777777778,
              "#fb9f3a"
             ],
             [
              0.8888888888888888,
              "#fdca26"
             ],
             [
              1,
              "#f0f921"
             ]
            ],
            "type": "heatmap"
           }
          ],
          "heatmapgl": [
           {
            "colorbar": {
             "outlinewidth": 0,
             "ticks": ""
            },
            "colorscale": [
             [
              0,
              "#0d0887"
             ],
             [
              0.1111111111111111,
              "#46039f"
             ],
             [
              0.2222222222222222,
              "#7201a8"
             ],
             [
              0.3333333333333333,
              "#9c179e"
             ],
             [
              0.4444444444444444,
              "#bd3786"
             ],
             [
              0.5555555555555556,
              "#d8576b"
             ],
             [
              0.6666666666666666,
              "#ed7953"
             ],
             [
              0.7777777777777778,
              "#fb9f3a"
             ],
             [
              0.8888888888888888,
              "#fdca26"
             ],
             [
              1,
              "#f0f921"
             ]
            ],
            "type": "heatmapgl"
           }
          ],
          "histogram": [
           {
            "marker": {
             "colorbar": {
              "outlinewidth": 0,
              "ticks": ""
             }
            },
            "type": "histogram"
           }
          ],
          "histogram2d": [
           {
            "colorbar": {
             "outlinewidth": 0,
             "ticks": ""
            },
            "colorscale": [
             [
              0,
              "#0d0887"
             ],
             [
              0.1111111111111111,
              "#46039f"
             ],
             [
              0.2222222222222222,
              "#7201a8"
             ],
             [
              0.3333333333333333,
              "#9c179e"
             ],
             [
              0.4444444444444444,
              "#bd3786"
             ],
             [
              0.5555555555555556,
              "#d8576b"
             ],
             [
              0.6666666666666666,
              "#ed7953"
             ],
             [
              0.7777777777777778,
              "#fb9f3a"
             ],
             [
              0.8888888888888888,
              "#fdca26"
             ],
             [
              1,
              "#f0f921"
             ]
            ],
            "type": "histogram2d"
           }
          ],
          "histogram2dcontour": [
           {
            "colorbar": {
             "outlinewidth": 0,
             "ticks": ""
            },
            "colorscale": [
             [
              0,
              "#0d0887"
             ],
             [
              0.1111111111111111,
              "#46039f"
             ],
             [
              0.2222222222222222,
              "#7201a8"
             ],
             [
              0.3333333333333333,
              "#9c179e"
             ],
             [
              0.4444444444444444,
              "#bd3786"
             ],
             [
              0.5555555555555556,
              "#d8576b"
             ],
             [
              0.6666666666666666,
              "#ed7953"
             ],
             [
              0.7777777777777778,
              "#fb9f3a"
             ],
             [
              0.8888888888888888,
              "#fdca26"
             ],
             [
              1,
              "#f0f921"
             ]
            ],
            "type": "histogram2dcontour"
           }
          ],
          "mesh3d": [
           {
            "colorbar": {
             "outlinewidth": 0,
             "ticks": ""
            },
            "type": "mesh3d"
           }
          ],
          "parcoords": [
           {
            "line": {
             "colorbar": {
              "outlinewidth": 0,
              "ticks": ""
             }
            },
            "type": "parcoords"
           }
          ],
          "pie": [
           {
            "automargin": true,
            "type": "pie"
           }
          ],
          "scatter": [
           {
            "marker": {
             "colorbar": {
              "outlinewidth": 0,
              "ticks": ""
             }
            },
            "type": "scatter"
           }
          ],
          "scatter3d": [
           {
            "line": {
             "colorbar": {
              "outlinewidth": 0,
              "ticks": ""
             }
            },
            "marker": {
             "colorbar": {
              "outlinewidth": 0,
              "ticks": ""
             }
            },
            "type": "scatter3d"
           }
          ],
          "scattercarpet": [
           {
            "marker": {
             "colorbar": {
              "outlinewidth": 0,
              "ticks": ""
             }
            },
            "type": "scattercarpet"
           }
          ],
          "scattergeo": [
           {
            "marker": {
             "colorbar": {
              "outlinewidth": 0,
              "ticks": ""
             }
            },
            "type": "scattergeo"
           }
          ],
          "scattergl": [
           {
            "marker": {
             "colorbar": {
              "outlinewidth": 0,
              "ticks": ""
             }
            },
            "type": "scattergl"
           }
          ],
          "scattermapbox": [
           {
            "marker": {
             "colorbar": {
              "outlinewidth": 0,
              "ticks": ""
             }
            },
            "type": "scattermapbox"
           }
          ],
          "scatterpolar": [
           {
            "marker": {
             "colorbar": {
              "outlinewidth": 0,
              "ticks": ""
             }
            },
            "type": "scatterpolar"
           }
          ],
          "scatterpolargl": [
           {
            "marker": {
             "colorbar": {
              "outlinewidth": 0,
              "ticks": ""
             }
            },
            "type": "scatterpolargl"
           }
          ],
          "scatterternary": [
           {
            "marker": {
             "colorbar": {
              "outlinewidth": 0,
              "ticks": ""
             }
            },
            "type": "scatterternary"
           }
          ],
          "surface": [
           {
            "colorbar": {
             "outlinewidth": 0,
             "ticks": ""
            },
            "colorscale": [
             [
              0,
              "#0d0887"
             ],
             [
              0.1111111111111111,
              "#46039f"
             ],
             [
              0.2222222222222222,
              "#7201a8"
             ],
             [
              0.3333333333333333,
              "#9c179e"
             ],
             [
              0.4444444444444444,
              "#bd3786"
             ],
             [
              0.5555555555555556,
              "#d8576b"
             ],
             [
              0.6666666666666666,
              "#ed7953"
             ],
             [
              0.7777777777777778,
              "#fb9f3a"
             ],
             [
              0.8888888888888888,
              "#fdca26"
             ],
             [
              1,
              "#f0f921"
             ]
            ],
            "type": "surface"
           }
          ],
          "table": [
           {
            "cells": {
             "fill": {
              "color": "#EBF0F8"
             },
             "line": {
              "color": "white"
             }
            },
            "header": {
             "fill": {
              "color": "#C8D4E3"
             },
             "line": {
              "color": "white"
             }
            },
            "type": "table"
           }
          ]
         },
         "layout": {
          "annotationdefaults": {
           "arrowcolor": "#2a3f5f",
           "arrowhead": 0,
           "arrowwidth": 1
          },
          "coloraxis": {
           "colorbar": {
            "outlinewidth": 0,
            "ticks": ""
           }
          },
          "colorscale": {
           "diverging": [
            [
             0,
             "#8e0152"
            ],
            [
             0.1,
             "#c51b7d"
            ],
            [
             0.2,
             "#de77ae"
            ],
            [
             0.3,
             "#f1b6da"
            ],
            [
             0.4,
             "#fde0ef"
            ],
            [
             0.5,
             "#f7f7f7"
            ],
            [
             0.6,
             "#e6f5d0"
            ],
            [
             0.7,
             "#b8e186"
            ],
            [
             0.8,
             "#7fbc41"
            ],
            [
             0.9,
             "#4d9221"
            ],
            [
             1,
             "#276419"
            ]
           ],
           "sequential": [
            [
             0,
             "#0d0887"
            ],
            [
             0.1111111111111111,
             "#46039f"
            ],
            [
             0.2222222222222222,
             "#7201a8"
            ],
            [
             0.3333333333333333,
             "#9c179e"
            ],
            [
             0.4444444444444444,
             "#bd3786"
            ],
            [
             0.5555555555555556,
             "#d8576b"
            ],
            [
             0.6666666666666666,
             "#ed7953"
            ],
            [
             0.7777777777777778,
             "#fb9f3a"
            ],
            [
             0.8888888888888888,
             "#fdca26"
            ],
            [
             1,
             "#f0f921"
            ]
           ],
           "sequentialminus": [
            [
             0,
             "#0d0887"
            ],
            [
             0.1111111111111111,
             "#46039f"
            ],
            [
             0.2222222222222222,
             "#7201a8"
            ],
            [
             0.3333333333333333,
             "#9c179e"
            ],
            [
             0.4444444444444444,
             "#bd3786"
            ],
            [
             0.5555555555555556,
             "#d8576b"
            ],
            [
             0.6666666666666666,
             "#ed7953"
            ],
            [
             0.7777777777777778,
             "#fb9f3a"
            ],
            [
             0.8888888888888888,
             "#fdca26"
            ],
            [
             1,
             "#f0f921"
            ]
           ]
          },
          "colorway": [
           "#636efa",
           "#EF553B",
           "#00cc96",
           "#ab63fa",
           "#FFA15A",
           "#19d3f3",
           "#FF6692",
           "#B6E880",
           "#FF97FF",
           "#FECB52"
          ],
          "font": {
           "color": "#2a3f5f"
          },
          "geo": {
           "bgcolor": "white",
           "lakecolor": "white",
           "landcolor": "#E5ECF6",
           "showlakes": true,
           "showland": true,
           "subunitcolor": "white"
          },
          "hoverlabel": {
           "align": "left"
          },
          "hovermode": "closest",
          "mapbox": {
           "style": "light"
          },
          "paper_bgcolor": "white",
          "plot_bgcolor": "#E5ECF6",
          "polar": {
           "angularaxis": {
            "gridcolor": "white",
            "linecolor": "white",
            "ticks": ""
           },
           "bgcolor": "#E5ECF6",
           "radialaxis": {
            "gridcolor": "white",
            "linecolor": "white",
            "ticks": ""
           }
          },
          "scene": {
           "xaxis": {
            "backgroundcolor": "#E5ECF6",
            "gridcolor": "white",
            "gridwidth": 2,
            "linecolor": "white",
            "showbackground": true,
            "ticks": "",
            "zerolinecolor": "white"
           },
           "yaxis": {
            "backgroundcolor": "#E5ECF6",
            "gridcolor": "white",
            "gridwidth": 2,
            "linecolor": "white",
            "showbackground": true,
            "ticks": "",
            "zerolinecolor": "white"
           },
           "zaxis": {
            "backgroundcolor": "#E5ECF6",
            "gridcolor": "white",
            "gridwidth": 2,
            "linecolor": "white",
            "showbackground": true,
            "ticks": "",
            "zerolinecolor": "white"
           }
          },
          "shapedefaults": {
           "line": {
            "color": "#2a3f5f"
           }
          },
          "ternary": {
           "aaxis": {
            "gridcolor": "white",
            "linecolor": "white",
            "ticks": ""
           },
           "baxis": {
            "gridcolor": "white",
            "linecolor": "white",
            "ticks": ""
           },
           "bgcolor": "#E5ECF6",
           "caxis": {
            "gridcolor": "white",
            "linecolor": "white",
            "ticks": ""
           }
          },
          "title": {
           "x": 0.05
          },
          "xaxis": {
           "automargin": true,
           "gridcolor": "white",
           "linecolor": "white",
           "ticks": "",
           "title": {
            "standoff": 15
           },
           "zerolinecolor": "white",
           "zerolinewidth": 2
          },
          "yaxis": {
           "automargin": true,
           "gridcolor": "white",
           "linecolor": "white",
           "ticks": "",
           "title": {
            "standoff": 15
           },
           "zerolinecolor": "white",
           "zerolinewidth": 2
          }
         }
        },
        "xaxis": {
         "anchor": "y",
         "domain": [
          0,
          1
         ],
         "title": {
          "text": "Date of Infection"
         }
        },
        "yaxis": {
         "anchor": "x",
         "domain": [
          0,
          1
         ],
         "title": {
          "text": "Total Number of Cases"
         }
        }
       }
      },
      "text/html": [
       "<div>\n",
       "        \n",
       "        \n",
       "            <div id=\"7cc0588e-442b-4099-b025-953d7c325413\" class=\"plotly-graph-div\" style=\"height:525px; width:100%;\"></div>\n",
       "            <script type=\"text/javascript\">\n",
       "                require([\"plotly\"], function(Plotly) {\n",
       "                    window.PLOTLYENV=window.PLOTLYENV || {};\n",
       "                    \n",
       "                if (document.getElementById(\"7cc0588e-442b-4099-b025-953d7c325413\")) {\n",
       "                    Plotly.newPlot(\n",
       "                        '7cc0588e-442b-4099-b025-953d7c325413',\n",
       "                        [{\"alignmentgroup\": \"True\", \"hoverlabel\": {\"namelength\": 0}, \"hovertemplate\": \"Region=01-Bas-Saint-Laurent<br>Date of Infection=%{x}<br>Total Number of Cases=%{y}\", \"legendgroup\": \"01-Bas-Saint-Laurent\", \"marker\": {\"color\": \"#FD3216\"}, \"name\": \"01-Bas-Saint-Laurent\", \"offsetgroup\": \"01-Bas-Saint-Laurent\", \"orientation\": \"v\", \"showlegend\": true, \"textposition\": \"auto\", \"type\": \"bar\", \"x\": [\"13th\", \"14th\", \"15th\", \"16th\", \"17th\", \"18th\", \"19th\", \"20th\", \"21st\", \"22nd\", \"23rd\", \"24th\", \"25th\"], \"xaxis\": \"x\", \"y\": [0.0, 0.0, 0.0, 0.0, 0.0, 0.0, 1.0, 1.0, 1.0, 1.0, 3.0, 4.0, 6.0], \"yaxis\": \"y\"}, {\"alignmentgroup\": \"True\", \"hoverlabel\": {\"namelength\": 0}, \"hovertemplate\": \"Region=02- Saguenay-Lac-Saint-Jean<br>Date of Infection=%{x}<br>Total Number of Cases=%{y}\", \"legendgroup\": \"02- Saguenay-Lac-Saint-Jean\", \"marker\": {\"color\": \"#00FE35\"}, \"name\": \"02- Saguenay-Lac-Saint-Jean\", \"offsetgroup\": \"02- Saguenay-Lac-Saint-Jean\", \"orientation\": \"v\", \"showlegend\": true, \"textposition\": \"auto\", \"type\": \"bar\", \"x\": [\"13th\", \"14th\", \"15th\", \"16th\", \"17th\", \"18th\", \"19th\", \"20th\", \"21st\", \"22nd\", \"23rd\", \"24th\", \"25th\"], \"xaxis\": \"x\", \"y\": [0.0, 0.0, 0.0, 0.0, 0.0, 0.0, 0.0, 0.0, 1.0, 1.0, 1.0, 5.0, 8.0], \"yaxis\": \"y\"}, {\"alignmentgroup\": \"True\", \"hoverlabel\": {\"namelength\": 0}, \"hovertemplate\": \"Region=03- Capitale-Nationale<br>Date of Infection=%{x}<br>Total Number of Cases=%{y}\", \"legendgroup\": \"03- Capitale-Nationale\", \"marker\": {\"color\": \"#6A76FC\"}, \"name\": \"03- Capitale-Nationale\", \"offsetgroup\": \"03- Capitale-Nationale\", \"orientation\": \"v\", \"showlegend\": true, \"textposition\": \"auto\", \"type\": \"bar\", \"x\": [\"13th\", \"14th\", \"15th\", \"16th\", \"17th\", \"18th\", \"19th\", \"20th\", \"21st\", \"22nd\", \"23rd\", \"24th\", \"25th\"], \"xaxis\": \"x\", \"y\": [0.0, 0.0, 2.0, 2.0, 3.0, 8.0, 10.0, 10.0, 13.0, 13.0, 33.0, 79.0, 95.0], \"yaxis\": \"y\"}, {\"alignmentgroup\": \"True\", \"hoverlabel\": {\"namelength\": 0}, \"hovertemplate\": \"Region=04-Mauricie<br>Date of Infection=%{x}<br>Total Number of Cases=%{y}\", \"legendgroup\": \"04-Mauricie\", \"marker\": {\"color\": \"#FED4C4\"}, \"name\": \"04-Mauricie\", \"offsetgroup\": \"04-Mauricie\", \"orientation\": \"v\", \"showlegend\": true, \"textposition\": \"auto\", \"type\": \"bar\", \"x\": [\"13th\", \"14th\", \"15th\", \"16th\", \"17th\", \"18th\", \"19th\", \"20th\", \"21st\", \"22nd\", \"23rd\", \"24th\", \"25th\"], \"xaxis\": \"x\", \"y\": [1.0, 1.0, 3.0, 3.0, 3.0, 3.0, 3.0, 4.0, 5.0, 7.0, 16.0, 32.0, 35.0], \"yaxis\": \"y\"}, {\"alignmentgroup\": \"True\", \"hoverlabel\": {\"namelength\": 0}, \"hovertemplate\": \"Region=05-Estrie<br>Date of Infection=%{x}<br>Total Number of Cases=%{y}\", \"legendgroup\": \"05-Estrie\", \"marker\": {\"color\": \"#FE00CE\"}, \"name\": \"05-Estrie\", \"offsetgroup\": \"05-Estrie\", \"orientation\": \"v\", \"showlegend\": true, \"textposition\": \"auto\", \"type\": \"bar\", \"x\": [\"13th\", \"14th\", \"15th\", \"16th\", \"17th\", \"18th\", \"19th\", \"20th\", \"21st\", \"22nd\", \"23rd\", \"24th\", \"25th\"], \"xaxis\": \"x\", \"y\": [2.0, 3.0, 4.0, 4.0, 9.0, 18.0, 26.0, 26.0, 27.0, 30.0, 48.0, 130.0, 169.0], \"yaxis\": \"y\"}, {\"alignmentgroup\": \"True\", \"hoverlabel\": {\"namelength\": 0}, \"hovertemplate\": \"Region=06-Montreal<br>Date of Infection=%{x}<br>Total Number of Cases=%{y}\", \"legendgroup\": \"06-Montreal\", \"marker\": {\"color\": \"#0DF9FF\"}, \"name\": \"06-Montreal\", \"offsetgroup\": \"06-Montreal\", \"orientation\": \"v\", \"showlegend\": true, \"textposition\": \"auto\", \"type\": \"bar\", \"x\": [\"13th\", \"14th\", \"15th\", \"16th\", \"17th\", \"18th\", \"19th\", \"20th\", \"21st\", \"22nd\", \"23rd\", \"24th\", \"25th\"], \"xaxis\": \"x\", \"y\": [7.0, 8.0, 10.0, 18.0, 22.0, 24.0, 28.0, 31.0, 41.0, 46.0, 265.0, 439.0, 603.0], \"yaxis\": \"y\"}, {\"alignmentgroup\": \"True\", \"hoverlabel\": {\"namelength\": 0}, \"hovertemplate\": \"Region=07-Outauais<br>Date of Infection=%{x}<br>Total Number of Cases=%{y}\", \"legendgroup\": \"07-Outauais\", \"marker\": {\"color\": \"#F6F926\"}, \"name\": \"07-Outauais\", \"offsetgroup\": \"07-Outauais\", \"orientation\": \"v\", \"showlegend\": true, \"textposition\": \"auto\", \"type\": \"bar\", \"x\": [\"13th\", \"14th\", \"15th\", \"16th\", \"17th\", \"18th\", \"19th\", \"20th\", \"21st\", \"22nd\", \"23rd\", \"24th\", \"25th\"], \"xaxis\": \"x\", \"y\": [0.0, 0.0, 0.0, 0.0, 0.0, 1.0, 1.0, 1.0, 3.0, 5.0, 8.0, 12.0, 13.0], \"yaxis\": \"y\"}, {\"alignmentgroup\": \"True\", \"hoverlabel\": {\"namelength\": 0}, \"hovertemplate\": \"Region=08-Abititi-Temiscaminigue<br>Date of Infection=%{x}<br>Total Number of Cases=%{y}\", \"legendgroup\": \"08-Abititi-Temiscaminigue\", \"marker\": {\"color\": \"#FF9616\"}, \"name\": \"08-Abititi-Temiscaminigue\", \"offsetgroup\": \"08-Abititi-Temiscaminigue\", \"orientation\": \"v\", \"showlegend\": true, \"textposition\": \"auto\", \"type\": \"bar\", \"x\": [\"13th\", \"14th\", \"15th\", \"16th\", \"17th\", \"18th\", \"19th\", \"20th\", \"21st\", \"22nd\", \"23rd\", \"24th\", \"25th\"], \"xaxis\": \"x\", \"y\": [0.0, 0.0, 0.0, 0.0, 0.0, 0.0, 0.0, 0.0, 0.0, 0.0, 3.0, 5.0, 5.0], \"yaxis\": \"y\"}, {\"alignmentgroup\": \"True\", \"hoverlabel\": {\"namelength\": 0}, \"hovertemplate\": \"Region=9-Cote-Nord<br>Date of Infection=%{x}<br>Total Number of Cases=%{y}\", \"legendgroup\": \"9-Cote-Nord\", \"marker\": {\"color\": \"#479B55\"}, \"name\": \"9-Cote-Nord\", \"offsetgroup\": \"9-Cote-Nord\", \"orientation\": \"v\", \"showlegend\": true, \"textposition\": \"auto\", \"type\": \"bar\", \"x\": [\"13th\", \"14th\", \"15th\", \"16th\", \"17th\", \"18th\", \"19th\", \"20th\", \"21st\", \"22nd\", \"23rd\", \"24th\", \"25th\"], \"xaxis\": \"x\", \"y\": [0.0, 0.0, 0.0, 0.0, 0.0, 0.0, 0.0, 0.0, 0.0, 0.0, 0.0, 1.0, 2.0], \"yaxis\": \"y\"}, {\"alignmentgroup\": \"True\", \"hoverlabel\": {\"namelength\": 0}, \"hovertemplate\": \"Region=10-Nord-du-Quebec<br>Date of Infection=%{x}<br>Total Number of Cases=%{y}\", \"legendgroup\": \"10-Nord-du-Quebec\", \"marker\": {\"color\": \"#EEA6FB\"}, \"name\": \"10-Nord-du-Quebec\", \"offsetgroup\": \"10-Nord-du-Quebec\", \"orientation\": \"v\", \"showlegend\": true, \"textposition\": \"auto\", \"type\": \"bar\", \"x\": [\"13th\", \"14th\", \"15th\", \"16th\", \"17th\", \"18th\", \"19th\", \"20th\", \"21st\", \"22nd\", \"23rd\", \"24th\", \"25th\"], \"xaxis\": \"x\", \"y\": [0.0, 0.0, 0.0, 0.0, 0.0, 0.0, 0.0, 1.0, 1.0, 1.0, 1.0, 1.0, 1.0], \"yaxis\": \"y\"}, {\"alignmentgroup\": \"True\", \"hoverlabel\": {\"namelength\": 0}, \"hovertemplate\": \"Region=11- Gaspesie-Iles-de-la-Madelaine<br>Date of Infection=%{x}<br>Total Number of Cases=%{y}\", \"legendgroup\": \"11- Gaspesie-Iles-de-la-Madelaine\", \"marker\": {\"color\": \"#DC587D\"}, \"name\": \"11- Gaspesie-Iles-de-la-Madelaine\", \"offsetgroup\": \"11- Gaspesie-Iles-de-la-Madelaine\", \"orientation\": \"v\", \"showlegend\": true, \"textposition\": \"auto\", \"type\": \"bar\", \"x\": [\"13th\", \"14th\", \"15th\", \"16th\", \"17th\", \"18th\", \"19th\", \"20th\", \"21st\", \"22nd\", \"23rd\", \"24th\", \"25th\"], \"xaxis\": \"x\", \"y\": [0.0, 0.0, 0.0, 0.0, 0.0, 0.0, 0.0, 0.0, 0.0, 0.0, 3.0, 7.0, 7.0], \"yaxis\": \"y\"}, {\"alignmentgroup\": \"True\", \"hoverlabel\": {\"namelength\": 0}, \"hovertemplate\": \"Region=12-Chaudiere-Appalaches<br>Date of Infection=%{x}<br>Total Number of Cases=%{y}\", \"legendgroup\": \"12-Chaudiere-Appalaches\", \"marker\": {\"color\": \"#D626FF\"}, \"name\": \"12-Chaudiere-Appalaches\", \"offsetgroup\": \"12-Chaudiere-Appalaches\", \"orientation\": \"v\", \"showlegend\": true, \"textposition\": \"auto\", \"type\": \"bar\", \"x\": [\"13th\", \"14th\", \"15th\", \"16th\", \"17th\", \"18th\", \"19th\", \"20th\", \"21st\", \"22nd\", \"23rd\", \"24th\", \"25th\"], \"xaxis\": \"x\", \"y\": [1.0, 1.0, 3.0, 4.0, 4.0, 6.0, 6.0, 6.0, 13.0, 13.0, 15.0, 14.0, 46.0], \"yaxis\": \"y\"}, {\"alignmentgroup\": \"True\", \"hoverlabel\": {\"namelength\": 0}, \"hovertemplate\": \"Region=13- Laval<br>Date of Infection=%{x}<br>Total Number of Cases=%{y}\", \"legendgroup\": \"13- Laval\", \"marker\": {\"color\": \"#6E899C\"}, \"name\": \"13- Laval\", \"offsetgroup\": \"13- Laval\", \"orientation\": \"v\", \"showlegend\": true, \"textposition\": \"auto\", \"type\": \"bar\", \"x\": [\"13th\", \"14th\", \"15th\", \"16th\", \"17th\", \"18th\", \"19th\", \"20th\", \"21st\", \"22nd\", \"23rd\", \"24th\", \"25th\"], \"xaxis\": \"x\", \"y\": [0.0, 0.0, 0.0, 0.0, 0.0, 0.0, 1.0, 1.0, 3.0, 4.0, 21.0, 60.0, 83.0], \"yaxis\": \"y\"}, {\"alignmentgroup\": \"True\", \"hoverlabel\": {\"namelength\": 0}, \"hovertemplate\": \"Region=14- Lanaudiere<br>Date of Infection=%{x}<br>Total Number of Cases=%{y}\", \"legendgroup\": \"14- Lanaudiere\", \"marker\": {\"color\": \"#00B5F7\"}, \"name\": \"14- Lanaudiere\", \"offsetgroup\": \"14- Lanaudiere\", \"orientation\": \"v\", \"showlegend\": true, \"textposition\": \"auto\", \"type\": \"bar\", \"x\": [\"13th\", \"14th\", \"15th\", \"16th\", \"17th\", \"18th\", \"19th\", \"20th\", \"21st\", \"22nd\", \"23rd\", \"24th\", \"25th\"], \"xaxis\": \"x\", \"y\": [0.0, 1.0, 2.0, 3.0, 6.0, 6.0, 7.0, 7.0, 9.0, 15.0, 50.0, 55.0, 68.0], \"yaxis\": \"y\"}, {\"alignmentgroup\": \"True\", \"hoverlabel\": {\"namelength\": 0}, \"hovertemplate\": \"Region=15- Laurentides<br>Date of Infection=%{x}<br>Total Number of Cases=%{y}\", \"legendgroup\": \"15- Laurentides\", \"marker\": {\"color\": \"#B68E00\"}, \"name\": \"15- Laurentides\", \"offsetgroup\": \"15- Laurentides\", \"orientation\": \"v\", \"showlegend\": true, \"textposition\": \"auto\", \"type\": \"bar\", \"x\": [\"13th\", \"14th\", \"15th\", \"16th\", \"17th\", \"18th\", \"19th\", \"20th\", \"21st\", \"22nd\", \"23rd\", \"24th\", \"25th\"], \"xaxis\": \"x\", \"y\": [2.0, 2.0, 3.0, 3.0, 7.0, 8.0, 9.0, 10.0, 14.0, 17.0, 30.0, 44.0, 50.0], \"yaxis\": \"y\"}, {\"alignmentgroup\": \"True\", \"hoverlabel\": {\"namelength\": 0}, \"hovertemplate\": \"Region=16- Monteregie<br>Date of Infection=%{x}<br>Total Number of Cases=%{y}\", \"legendgroup\": \"16- Monteregie\", \"marker\": {\"color\": \"#C9FBE5\"}, \"name\": \"16- Monteregie\", \"offsetgroup\": \"16- Monteregie\", \"orientation\": \"v\", \"showlegend\": true, \"textposition\": \"auto\", \"type\": \"bar\", \"x\": [\"13th\", \"14th\", \"15th\", \"16th\", \"17th\", \"18th\", \"19th\", \"20th\", \"21st\", \"22nd\", \"23rd\", \"24th\", \"25th\"], \"xaxis\": \"x\", \"y\": [4.0, 7.0, 9.0, 10.0, 13.0, 13.0, 19.0, 21.0, 26.0, 40.0, 66.0, 125.0, 148.0], \"yaxis\": \"y\"}, {\"alignmentgroup\": \"True\", \"hoverlabel\": {\"namelength\": 0}, \"hovertemplate\": \"Region=17- Centre du Quebec<br>Date of Infection=%{x}<br>Total Number of Cases=%{y}\", \"legendgroup\": \"17- Centre du Quebec\", \"marker\": {\"color\": \"#FF0092\"}, \"name\": \"17- Centre du Quebec\", \"offsetgroup\": \"17- Centre du Quebec\", \"orientation\": \"v\", \"showlegend\": true, \"textposition\": \"auto\", \"type\": \"bar\", \"x\": [\"13th\", \"14th\", \"15th\", \"16th\", \"17th\", \"18th\", \"19th\", \"20th\", \"21st\", \"22nd\", \"23rd\", \"24th\", \"25th\"], \"xaxis\": \"x\", \"y\": [0.0, 0.0, 0.0, 0.0, 0.0, 0.0, 0.0, 0.0, 0.0, 0.0, 0.0, 0.0, 0.0], \"yaxis\": \"y\"}, {\"alignmentgroup\": \"True\", \"hoverlabel\": {\"namelength\": 0}, \"hovertemplate\": \"Region=Undetermined<br>Date of Infection=%{x}<br>Total Number of Cases=%{y}\", \"legendgroup\": \"Undetermined\", \"marker\": {\"color\": \"#22FFA7\"}, \"name\": \"Undetermined\", \"offsetgroup\": \"Undetermined\", \"orientation\": \"v\", \"showlegend\": true, \"textposition\": \"auto\", \"type\": \"bar\", \"x\": [\"13th\", \"14th\", \"15th\", \"16th\", \"17th\", \"18th\", \"19th\", \"20th\", \"21st\", \"22nd\", \"23rd\", \"24th\", \"25th\"], \"xaxis\": \"x\", \"y\": [0.0, 1.0, 2.0, 3.0, 5.0, 5.0, 8.0, 18.0, 22.0, 24.0, 62.0, 0.0, 0.0], \"yaxis\": \"y\"}, {\"alignmentgroup\": \"True\", \"hoverlabel\": {\"namelength\": 0}, \"hovertemplate\": \"Region=Hors Quebec<br>Date of Infection=%{x}<br>Total Number of Cases=%{y}\", \"legendgroup\": \"Hors Quebec\", \"marker\": {\"color\": \"#E3EE9E\"}, \"name\": \"Hors Quebec\", \"offsetgroup\": \"Hors Quebec\", \"orientation\": \"v\", \"showlegend\": true, \"textposition\": \"auto\", \"type\": \"bar\", \"x\": [\"13th\", \"14th\", \"15th\", \"16th\", \"17th\", \"18th\", \"19th\", \"20th\", \"21st\", \"22nd\", \"23rd\", \"24th\", \"25th\"], \"xaxis\": \"x\", \"y\": [0.0, 0.0, 1.0, 1.0, 2.0, 2.0, 2.0, 2.0, 2.0, 2.0, 3.0, 0.0, 0.0], \"yaxis\": \"y\"}, {\"mode\": \"lines\", \"name\": \"Total\", \"type\": \"scatter\", \"x\": [\"13th\", \"14th\", \"15th\", \"16th\", \"17th\", \"18th\", \"19th\", \"20th\", \"21st\", \"22nd\", \"23rd\", \"24th\", \"25th\"], \"y\": [17.0, 24.0, 39, 51, 74, 94, 121, 139, 181, 219, 628, 1013, 1339]}],\n",
       "                        {\"barmode\": \"relative\", \"legend\": {\"title\": {\"text\": \"Region\"}, \"tracegroupgap\": 0}, \"margin\": {\"t\": 60}, \"template\": {\"data\": {\"bar\": [{\"error_x\": {\"color\": \"#2a3f5f\"}, \"error_y\": {\"color\": \"#2a3f5f\"}, \"marker\": {\"line\": {\"color\": \"#E5ECF6\", \"width\": 0.5}}, \"type\": \"bar\"}], \"barpolar\": [{\"marker\": {\"line\": {\"color\": \"#E5ECF6\", \"width\": 0.5}}, \"type\": \"barpolar\"}], \"carpet\": [{\"aaxis\": {\"endlinecolor\": \"#2a3f5f\", \"gridcolor\": \"white\", \"linecolor\": \"white\", \"minorgridcolor\": \"white\", \"startlinecolor\": \"#2a3f5f\"}, \"baxis\": {\"endlinecolor\": \"#2a3f5f\", \"gridcolor\": \"white\", \"linecolor\": \"white\", \"minorgridcolor\": \"white\", \"startlinecolor\": \"#2a3f5f\"}, \"type\": \"carpet\"}], \"choropleth\": [{\"colorbar\": {\"outlinewidth\": 0, \"ticks\": \"\"}, \"type\": \"choropleth\"}], \"contour\": [{\"colorbar\": {\"outlinewidth\": 0, \"ticks\": \"\"}, \"colorscale\": [[0.0, \"#0d0887\"], [0.1111111111111111, \"#46039f\"], [0.2222222222222222, \"#7201a8\"], [0.3333333333333333, \"#9c179e\"], [0.4444444444444444, \"#bd3786\"], [0.5555555555555556, \"#d8576b\"], [0.6666666666666666, \"#ed7953\"], [0.7777777777777778, \"#fb9f3a\"], [0.8888888888888888, \"#fdca26\"], [1.0, \"#f0f921\"]], \"type\": \"contour\"}], \"contourcarpet\": [{\"colorbar\": {\"outlinewidth\": 0, \"ticks\": \"\"}, \"type\": \"contourcarpet\"}], \"heatmap\": [{\"colorbar\": {\"outlinewidth\": 0, \"ticks\": \"\"}, \"colorscale\": [[0.0, \"#0d0887\"], [0.1111111111111111, \"#46039f\"], [0.2222222222222222, \"#7201a8\"], [0.3333333333333333, \"#9c179e\"], [0.4444444444444444, \"#bd3786\"], [0.5555555555555556, \"#d8576b\"], [0.6666666666666666, \"#ed7953\"], [0.7777777777777778, \"#fb9f3a\"], [0.8888888888888888, \"#fdca26\"], [1.0, \"#f0f921\"]], \"type\": \"heatmap\"}], \"heatmapgl\": [{\"colorbar\": {\"outlinewidth\": 0, \"ticks\": \"\"}, \"colorscale\": [[0.0, \"#0d0887\"], [0.1111111111111111, \"#46039f\"], [0.2222222222222222, \"#7201a8\"], [0.3333333333333333, \"#9c179e\"], [0.4444444444444444, \"#bd3786\"], [0.5555555555555556, \"#d8576b\"], [0.6666666666666666, \"#ed7953\"], [0.7777777777777778, \"#fb9f3a\"], [0.8888888888888888, \"#fdca26\"], [1.0, \"#f0f921\"]], \"type\": \"heatmapgl\"}], \"histogram\": [{\"marker\": {\"colorbar\": {\"outlinewidth\": 0, \"ticks\": \"\"}}, \"type\": \"histogram\"}], \"histogram2d\": [{\"colorbar\": {\"outlinewidth\": 0, \"ticks\": \"\"}, \"colorscale\": [[0.0, \"#0d0887\"], [0.1111111111111111, \"#46039f\"], [0.2222222222222222, \"#7201a8\"], [0.3333333333333333, \"#9c179e\"], [0.4444444444444444, \"#bd3786\"], [0.5555555555555556, \"#d8576b\"], [0.6666666666666666, \"#ed7953\"], [0.7777777777777778, \"#fb9f3a\"], [0.8888888888888888, \"#fdca26\"], [1.0, \"#f0f921\"]], \"type\": \"histogram2d\"}], \"histogram2dcontour\": [{\"colorbar\": {\"outlinewidth\": 0, \"ticks\": \"\"}, \"colorscale\": [[0.0, \"#0d0887\"], [0.1111111111111111, \"#46039f\"], [0.2222222222222222, \"#7201a8\"], [0.3333333333333333, \"#9c179e\"], [0.4444444444444444, \"#bd3786\"], [0.5555555555555556, \"#d8576b\"], [0.6666666666666666, \"#ed7953\"], [0.7777777777777778, \"#fb9f3a\"], [0.8888888888888888, \"#fdca26\"], [1.0, \"#f0f921\"]], \"type\": \"histogram2dcontour\"}], \"mesh3d\": [{\"colorbar\": {\"outlinewidth\": 0, \"ticks\": \"\"}, \"type\": \"mesh3d\"}], \"parcoords\": [{\"line\": {\"colorbar\": {\"outlinewidth\": 0, \"ticks\": \"\"}}, \"type\": \"parcoords\"}], \"pie\": [{\"automargin\": true, \"type\": \"pie\"}], \"scatter\": [{\"marker\": {\"colorbar\": {\"outlinewidth\": 0, \"ticks\": \"\"}}, \"type\": \"scatter\"}], \"scatter3d\": [{\"line\": {\"colorbar\": {\"outlinewidth\": 0, \"ticks\": \"\"}}, \"marker\": {\"colorbar\": {\"outlinewidth\": 0, \"ticks\": \"\"}}, \"type\": \"scatter3d\"}], \"scattercarpet\": [{\"marker\": {\"colorbar\": {\"outlinewidth\": 0, \"ticks\": \"\"}}, \"type\": \"scattercarpet\"}], \"scattergeo\": [{\"marker\": {\"colorbar\": {\"outlinewidth\": 0, \"ticks\": \"\"}}, \"type\": \"scattergeo\"}], \"scattergl\": [{\"marker\": {\"colorbar\": {\"outlinewidth\": 0, \"ticks\": \"\"}}, \"type\": \"scattergl\"}], \"scattermapbox\": [{\"marker\": {\"colorbar\": {\"outlinewidth\": 0, \"ticks\": \"\"}}, \"type\": \"scattermapbox\"}], \"scatterpolar\": [{\"marker\": {\"colorbar\": {\"outlinewidth\": 0, \"ticks\": \"\"}}, \"type\": \"scatterpolar\"}], \"scatterpolargl\": [{\"marker\": {\"colorbar\": {\"outlinewidth\": 0, \"ticks\": \"\"}}, \"type\": \"scatterpolargl\"}], \"scatterternary\": [{\"marker\": {\"colorbar\": {\"outlinewidth\": 0, \"ticks\": \"\"}}, \"type\": \"scatterternary\"}], \"surface\": [{\"colorbar\": {\"outlinewidth\": 0, \"ticks\": \"\"}, \"colorscale\": [[0.0, \"#0d0887\"], [0.1111111111111111, \"#46039f\"], [0.2222222222222222, \"#7201a8\"], [0.3333333333333333, \"#9c179e\"], [0.4444444444444444, \"#bd3786\"], [0.5555555555555556, \"#d8576b\"], [0.6666666666666666, \"#ed7953\"], [0.7777777777777778, \"#fb9f3a\"], [0.8888888888888888, \"#fdca26\"], [1.0, \"#f0f921\"]], \"type\": \"surface\"}], \"table\": [{\"cells\": {\"fill\": {\"color\": \"#EBF0F8\"}, \"line\": {\"color\": \"white\"}}, \"header\": {\"fill\": {\"color\": \"#C8D4E3\"}, \"line\": {\"color\": \"white\"}}, \"type\": \"table\"}]}, \"layout\": {\"annotationdefaults\": {\"arrowcolor\": \"#2a3f5f\", \"arrowhead\": 0, \"arrowwidth\": 1}, \"coloraxis\": {\"colorbar\": {\"outlinewidth\": 0, \"ticks\": \"\"}}, \"colorscale\": {\"diverging\": [[0, \"#8e0152\"], [0.1, \"#c51b7d\"], [0.2, \"#de77ae\"], [0.3, \"#f1b6da\"], [0.4, \"#fde0ef\"], [0.5, \"#f7f7f7\"], [0.6, \"#e6f5d0\"], [0.7, \"#b8e186\"], [0.8, \"#7fbc41\"], [0.9, \"#4d9221\"], [1, \"#276419\"]], \"sequential\": [[0.0, \"#0d0887\"], [0.1111111111111111, \"#46039f\"], [0.2222222222222222, \"#7201a8\"], [0.3333333333333333, \"#9c179e\"], [0.4444444444444444, \"#bd3786\"], [0.5555555555555556, \"#d8576b\"], [0.6666666666666666, \"#ed7953\"], [0.7777777777777778, \"#fb9f3a\"], [0.8888888888888888, \"#fdca26\"], [1.0, \"#f0f921\"]], \"sequentialminus\": [[0.0, \"#0d0887\"], [0.1111111111111111, \"#46039f\"], [0.2222222222222222, \"#7201a8\"], [0.3333333333333333, \"#9c179e\"], [0.4444444444444444, \"#bd3786\"], [0.5555555555555556, \"#d8576b\"], [0.6666666666666666, \"#ed7953\"], [0.7777777777777778, \"#fb9f3a\"], [0.8888888888888888, \"#fdca26\"], [1.0, \"#f0f921\"]]}, \"colorway\": [\"#636efa\", \"#EF553B\", \"#00cc96\", \"#ab63fa\", \"#FFA15A\", \"#19d3f3\", \"#FF6692\", \"#B6E880\", \"#FF97FF\", \"#FECB52\"], \"font\": {\"color\": \"#2a3f5f\"}, \"geo\": {\"bgcolor\": \"white\", \"lakecolor\": \"white\", \"landcolor\": \"#E5ECF6\", \"showlakes\": true, \"showland\": true, \"subunitcolor\": \"white\"}, \"hoverlabel\": {\"align\": \"left\"}, \"hovermode\": \"closest\", \"mapbox\": {\"style\": \"light\"}, \"paper_bgcolor\": \"white\", \"plot_bgcolor\": \"#E5ECF6\", \"polar\": {\"angularaxis\": {\"gridcolor\": \"white\", \"linecolor\": \"white\", \"ticks\": \"\"}, \"bgcolor\": \"#E5ECF6\", \"radialaxis\": {\"gridcolor\": \"white\", \"linecolor\": \"white\", \"ticks\": \"\"}}, \"scene\": {\"xaxis\": {\"backgroundcolor\": \"#E5ECF6\", \"gridcolor\": \"white\", \"gridwidth\": 2, \"linecolor\": \"white\", \"showbackground\": true, \"ticks\": \"\", \"zerolinecolor\": \"white\"}, \"yaxis\": {\"backgroundcolor\": \"#E5ECF6\", \"gridcolor\": \"white\", \"gridwidth\": 2, \"linecolor\": \"white\", \"showbackground\": true, \"ticks\": \"\", \"zerolinecolor\": \"white\"}, \"zaxis\": {\"backgroundcolor\": \"#E5ECF6\", \"gridcolor\": \"white\", \"gridwidth\": 2, \"linecolor\": \"white\", \"showbackground\": true, \"ticks\": \"\", \"zerolinecolor\": \"white\"}}, \"shapedefaults\": {\"line\": {\"color\": \"#2a3f5f\"}}, \"ternary\": {\"aaxis\": {\"gridcolor\": \"white\", \"linecolor\": \"white\", \"ticks\": \"\"}, \"baxis\": {\"gridcolor\": \"white\", \"linecolor\": \"white\", \"ticks\": \"\"}, \"bgcolor\": \"#E5ECF6\", \"caxis\": {\"gridcolor\": \"white\", \"linecolor\": \"white\", \"ticks\": \"\"}}, \"title\": {\"x\": 0.05}, \"xaxis\": {\"automargin\": true, \"gridcolor\": \"white\", \"linecolor\": \"white\", \"ticks\": \"\", \"title\": {\"standoff\": 15}, \"zerolinecolor\": \"white\", \"zerolinewidth\": 2}, \"yaxis\": {\"automargin\": true, \"gridcolor\": \"white\", \"linecolor\": \"white\", \"ticks\": \"\", \"title\": {\"standoff\": 15}, \"zerolinecolor\": \"white\", \"zerolinewidth\": 2}}}, \"xaxis\": {\"anchor\": \"y\", \"domain\": [0.0, 1.0], \"title\": {\"text\": \"Date of Infection\"}}, \"yaxis\": {\"anchor\": \"x\", \"domain\": [0.0, 1.0], \"title\": {\"text\": \"Total Number of Cases\"}}},\n",
       "                        {\"responsive\": true}\n",
       "                    ).then(function(){\n",
       "                            \n",
       "var gd = document.getElementById('7cc0588e-442b-4099-b025-953d7c325413');\n",
       "var x = new MutationObserver(function (mutations, observer) {{\n",
       "        var display = window.getComputedStyle(gd).display;\n",
       "        if (!display || display === 'none') {{\n",
       "            console.log([gd, 'removed!']);\n",
       "            Plotly.purge(gd);\n",
       "            observer.disconnect();\n",
       "        }}\n",
       "}});\n",
       "\n",
       "// Listen for the removal of the full notebook cells\n",
       "var notebookContainer = gd.closest('#notebook-container');\n",
       "if (notebookContainer) {{\n",
       "    x.observe(notebookContainer, {childList: true});\n",
       "}}\n",
       "\n",
       "// Listen for the clearing of the current output cell\n",
       "var outputEl = gd.closest('.output');\n",
       "if (outputEl) {{\n",
       "    x.observe(outputEl, {childList: true});\n",
       "}}\n",
       "\n",
       "                        })\n",
       "                };\n",
       "                });\n",
       "            </script>\n",
       "        </div>"
      ]
     },
     "metadata": {},
     "output_type": "display_data"
    }
   ],
   "source": [
    "fig = px.bar(stacked_df, x=\"Date of Infection\", y=\"Total Number of Cases\", color = \"Region\", color_discrete_sequence= px.colors.qualitative.Light24)\n",
    "fig.add_trace(go.Scatter(x=dates, y=total_cases,\n",
    "                    mode='lines',\n",
    "                    name='Total'))\n",
    "fig.show()\n",
    "with open('../plotly/total_cases.json', 'w') as f:\n",
    "    f.write(fig.to_json())"
   ]
  },
  {
   "cell_type": "code",
   "execution_count": 101,
   "metadata": {},
   "outputs": [],
   "source": [
    "new_cases = list(df.iloc[20])[2:]"
   ]
  },
  {
   "cell_type": "code",
   "execution_count": 102,
   "metadata": {},
   "outputs": [
    {
     "data": {
      "application/vnd.plotly.v1+json": {
       "config": {
        "plotlyServerURL": "https://plot.ly"
       },
       "data": [
        {
         "mode": "lines",
         "name": "New Cases",
         "type": "scatter",
         "x": [
          "14th",
          "15th",
          "16th",
          "17th",
          "18th",
          "19th",
          "20th",
          "21st",
          "22nd",
          "23rd",
          "24th",
          "25th"
         ],
         "y": [
          7,
          15,
          12,
          23,
          20,
          27,
          18,
          42,
          38,
          409,
          385,
          326
         ]
        }
       ],
       "layout": {
        "template": {
         "data": {
          "bar": [
           {
            "error_x": {
             "color": "#2a3f5f"
            },
            "error_y": {
             "color": "#2a3f5f"
            },
            "marker": {
             "line": {
              "color": "#E5ECF6",
              "width": 0.5
             }
            },
            "type": "bar"
           }
          ],
          "barpolar": [
           {
            "marker": {
             "line": {
              "color": "#E5ECF6",
              "width": 0.5
             }
            },
            "type": "barpolar"
           }
          ],
          "carpet": [
           {
            "aaxis": {
             "endlinecolor": "#2a3f5f",
             "gridcolor": "white",
             "linecolor": "white",
             "minorgridcolor": "white",
             "startlinecolor": "#2a3f5f"
            },
            "baxis": {
             "endlinecolor": "#2a3f5f",
             "gridcolor": "white",
             "linecolor": "white",
             "minorgridcolor": "white",
             "startlinecolor": "#2a3f5f"
            },
            "type": "carpet"
           }
          ],
          "choropleth": [
           {
            "colorbar": {
             "outlinewidth": 0,
             "ticks": ""
            },
            "type": "choropleth"
           }
          ],
          "contour": [
           {
            "colorbar": {
             "outlinewidth": 0,
             "ticks": ""
            },
            "colorscale": [
             [
              0,
              "#0d0887"
             ],
             [
              0.1111111111111111,
              "#46039f"
             ],
             [
              0.2222222222222222,
              "#7201a8"
             ],
             [
              0.3333333333333333,
              "#9c179e"
             ],
             [
              0.4444444444444444,
              "#bd3786"
             ],
             [
              0.5555555555555556,
              "#d8576b"
             ],
             [
              0.6666666666666666,
              "#ed7953"
             ],
             [
              0.7777777777777778,
              "#fb9f3a"
             ],
             [
              0.8888888888888888,
              "#fdca26"
             ],
             [
              1,
              "#f0f921"
             ]
            ],
            "type": "contour"
           }
          ],
          "contourcarpet": [
           {
            "colorbar": {
             "outlinewidth": 0,
             "ticks": ""
            },
            "type": "contourcarpet"
           }
          ],
          "heatmap": [
           {
            "colorbar": {
             "outlinewidth": 0,
             "ticks": ""
            },
            "colorscale": [
             [
              0,
              "#0d0887"
             ],
             [
              0.1111111111111111,
              "#46039f"
             ],
             [
              0.2222222222222222,
              "#7201a8"
             ],
             [
              0.3333333333333333,
              "#9c179e"
             ],
             [
              0.4444444444444444,
              "#bd3786"
             ],
             [
              0.5555555555555556,
              "#d8576b"
             ],
             [
              0.6666666666666666,
              "#ed7953"
             ],
             [
              0.7777777777777778,
              "#fb9f3a"
             ],
             [
              0.8888888888888888,
              "#fdca26"
             ],
             [
              1,
              "#f0f921"
             ]
            ],
            "type": "heatmap"
           }
          ],
          "heatmapgl": [
           {
            "colorbar": {
             "outlinewidth": 0,
             "ticks": ""
            },
            "colorscale": [
             [
              0,
              "#0d0887"
             ],
             [
              0.1111111111111111,
              "#46039f"
             ],
             [
              0.2222222222222222,
              "#7201a8"
             ],
             [
              0.3333333333333333,
              "#9c179e"
             ],
             [
              0.4444444444444444,
              "#bd3786"
             ],
             [
              0.5555555555555556,
              "#d8576b"
             ],
             [
              0.6666666666666666,
              "#ed7953"
             ],
             [
              0.7777777777777778,
              "#fb9f3a"
             ],
             [
              0.8888888888888888,
              "#fdca26"
             ],
             [
              1,
              "#f0f921"
             ]
            ],
            "type": "heatmapgl"
           }
          ],
          "histogram": [
           {
            "marker": {
             "colorbar": {
              "outlinewidth": 0,
              "ticks": ""
             }
            },
            "type": "histogram"
           }
          ],
          "histogram2d": [
           {
            "colorbar": {
             "outlinewidth": 0,
             "ticks": ""
            },
            "colorscale": [
             [
              0,
              "#0d0887"
             ],
             [
              0.1111111111111111,
              "#46039f"
             ],
             [
              0.2222222222222222,
              "#7201a8"
             ],
             [
              0.3333333333333333,
              "#9c179e"
             ],
             [
              0.4444444444444444,
              "#bd3786"
             ],
             [
              0.5555555555555556,
              "#d8576b"
             ],
             [
              0.6666666666666666,
              "#ed7953"
             ],
             [
              0.7777777777777778,
              "#fb9f3a"
             ],
             [
              0.8888888888888888,
              "#fdca26"
             ],
             [
              1,
              "#f0f921"
             ]
            ],
            "type": "histogram2d"
           }
          ],
          "histogram2dcontour": [
           {
            "colorbar": {
             "outlinewidth": 0,
             "ticks": ""
            },
            "colorscale": [
             [
              0,
              "#0d0887"
             ],
             [
              0.1111111111111111,
              "#46039f"
             ],
             [
              0.2222222222222222,
              "#7201a8"
             ],
             [
              0.3333333333333333,
              "#9c179e"
             ],
             [
              0.4444444444444444,
              "#bd3786"
             ],
             [
              0.5555555555555556,
              "#d8576b"
             ],
             [
              0.6666666666666666,
              "#ed7953"
             ],
             [
              0.7777777777777778,
              "#fb9f3a"
             ],
             [
              0.8888888888888888,
              "#fdca26"
             ],
             [
              1,
              "#f0f921"
             ]
            ],
            "type": "histogram2dcontour"
           }
          ],
          "mesh3d": [
           {
            "colorbar": {
             "outlinewidth": 0,
             "ticks": ""
            },
            "type": "mesh3d"
           }
          ],
          "parcoords": [
           {
            "line": {
             "colorbar": {
              "outlinewidth": 0,
              "ticks": ""
             }
            },
            "type": "parcoords"
           }
          ],
          "pie": [
           {
            "automargin": true,
            "type": "pie"
           }
          ],
          "scatter": [
           {
            "marker": {
             "colorbar": {
              "outlinewidth": 0,
              "ticks": ""
             }
            },
            "type": "scatter"
           }
          ],
          "scatter3d": [
           {
            "line": {
             "colorbar": {
              "outlinewidth": 0,
              "ticks": ""
             }
            },
            "marker": {
             "colorbar": {
              "outlinewidth": 0,
              "ticks": ""
             }
            },
            "type": "scatter3d"
           }
          ],
          "scattercarpet": [
           {
            "marker": {
             "colorbar": {
              "outlinewidth": 0,
              "ticks": ""
             }
            },
            "type": "scattercarpet"
           }
          ],
          "scattergeo": [
           {
            "marker": {
             "colorbar": {
              "outlinewidth": 0,
              "ticks": ""
             }
            },
            "type": "scattergeo"
           }
          ],
          "scattergl": [
           {
            "marker": {
             "colorbar": {
              "outlinewidth": 0,
              "ticks": ""
             }
            },
            "type": "scattergl"
           }
          ],
          "scattermapbox": [
           {
            "marker": {
             "colorbar": {
              "outlinewidth": 0,
              "ticks": ""
             }
            },
            "type": "scattermapbox"
           }
          ],
          "scatterpolar": [
           {
            "marker": {
             "colorbar": {
              "outlinewidth": 0,
              "ticks": ""
             }
            },
            "type": "scatterpolar"
           }
          ],
          "scatterpolargl": [
           {
            "marker": {
             "colorbar": {
              "outlinewidth": 0,
              "ticks": ""
             }
            },
            "type": "scatterpolargl"
           }
          ],
          "scatterternary": [
           {
            "marker": {
             "colorbar": {
              "outlinewidth": 0,
              "ticks": ""
             }
            },
            "type": "scatterternary"
           }
          ],
          "surface": [
           {
            "colorbar": {
             "outlinewidth": 0,
             "ticks": ""
            },
            "colorscale": [
             [
              0,
              "#0d0887"
             ],
             [
              0.1111111111111111,
              "#46039f"
             ],
             [
              0.2222222222222222,
              "#7201a8"
             ],
             [
              0.3333333333333333,
              "#9c179e"
             ],
             [
              0.4444444444444444,
              "#bd3786"
             ],
             [
              0.5555555555555556,
              "#d8576b"
             ],
             [
              0.6666666666666666,
              "#ed7953"
             ],
             [
              0.7777777777777778,
              "#fb9f3a"
             ],
             [
              0.8888888888888888,
              "#fdca26"
             ],
             [
              1,
              "#f0f921"
             ]
            ],
            "type": "surface"
           }
          ],
          "table": [
           {
            "cells": {
             "fill": {
              "color": "#EBF0F8"
             },
             "line": {
              "color": "white"
             }
            },
            "header": {
             "fill": {
              "color": "#C8D4E3"
             },
             "line": {
              "color": "white"
             }
            },
            "type": "table"
           }
          ]
         },
         "layout": {
          "annotationdefaults": {
           "arrowcolor": "#2a3f5f",
           "arrowhead": 0,
           "arrowwidth": 1
          },
          "coloraxis": {
           "colorbar": {
            "outlinewidth": 0,
            "ticks": ""
           }
          },
          "colorscale": {
           "diverging": [
            [
             0,
             "#8e0152"
            ],
            [
             0.1,
             "#c51b7d"
            ],
            [
             0.2,
             "#de77ae"
            ],
            [
             0.3,
             "#f1b6da"
            ],
            [
             0.4,
             "#fde0ef"
            ],
            [
             0.5,
             "#f7f7f7"
            ],
            [
             0.6,
             "#e6f5d0"
            ],
            [
             0.7,
             "#b8e186"
            ],
            [
             0.8,
             "#7fbc41"
            ],
            [
             0.9,
             "#4d9221"
            ],
            [
             1,
             "#276419"
            ]
           ],
           "sequential": [
            [
             0,
             "#0d0887"
            ],
            [
             0.1111111111111111,
             "#46039f"
            ],
            [
             0.2222222222222222,
             "#7201a8"
            ],
            [
             0.3333333333333333,
             "#9c179e"
            ],
            [
             0.4444444444444444,
             "#bd3786"
            ],
            [
             0.5555555555555556,
             "#d8576b"
            ],
            [
             0.6666666666666666,
             "#ed7953"
            ],
            [
             0.7777777777777778,
             "#fb9f3a"
            ],
            [
             0.8888888888888888,
             "#fdca26"
            ],
            [
             1,
             "#f0f921"
            ]
           ],
           "sequentialminus": [
            [
             0,
             "#0d0887"
            ],
            [
             0.1111111111111111,
             "#46039f"
            ],
            [
             0.2222222222222222,
             "#7201a8"
            ],
            [
             0.3333333333333333,
             "#9c179e"
            ],
            [
             0.4444444444444444,
             "#bd3786"
            ],
            [
             0.5555555555555556,
             "#d8576b"
            ],
            [
             0.6666666666666666,
             "#ed7953"
            ],
            [
             0.7777777777777778,
             "#fb9f3a"
            ],
            [
             0.8888888888888888,
             "#fdca26"
            ],
            [
             1,
             "#f0f921"
            ]
           ]
          },
          "colorway": [
           "#636efa",
           "#EF553B",
           "#00cc96",
           "#ab63fa",
           "#FFA15A",
           "#19d3f3",
           "#FF6692",
           "#B6E880",
           "#FF97FF",
           "#FECB52"
          ],
          "font": {
           "color": "#2a3f5f"
          },
          "geo": {
           "bgcolor": "white",
           "lakecolor": "white",
           "landcolor": "#E5ECF6",
           "showlakes": true,
           "showland": true,
           "subunitcolor": "white"
          },
          "hoverlabel": {
           "align": "left"
          },
          "hovermode": "closest",
          "mapbox": {
           "style": "light"
          },
          "paper_bgcolor": "white",
          "plot_bgcolor": "#E5ECF6",
          "polar": {
           "angularaxis": {
            "gridcolor": "white",
            "linecolor": "white",
            "ticks": ""
           },
           "bgcolor": "#E5ECF6",
           "radialaxis": {
            "gridcolor": "white",
            "linecolor": "white",
            "ticks": ""
           }
          },
          "scene": {
           "xaxis": {
            "backgroundcolor": "#E5ECF6",
            "gridcolor": "white",
            "gridwidth": 2,
            "linecolor": "white",
            "showbackground": true,
            "ticks": "",
            "zerolinecolor": "white"
           },
           "yaxis": {
            "backgroundcolor": "#E5ECF6",
            "gridcolor": "white",
            "gridwidth": 2,
            "linecolor": "white",
            "showbackground": true,
            "ticks": "",
            "zerolinecolor": "white"
           },
           "zaxis": {
            "backgroundcolor": "#E5ECF6",
            "gridcolor": "white",
            "gridwidth": 2,
            "linecolor": "white",
            "showbackground": true,
            "ticks": "",
            "zerolinecolor": "white"
           }
          },
          "shapedefaults": {
           "line": {
            "color": "#2a3f5f"
           }
          },
          "ternary": {
           "aaxis": {
            "gridcolor": "white",
            "linecolor": "white",
            "ticks": ""
           },
           "baxis": {
            "gridcolor": "white",
            "linecolor": "white",
            "ticks": ""
           },
           "bgcolor": "#E5ECF6",
           "caxis": {
            "gridcolor": "white",
            "linecolor": "white",
            "ticks": ""
           }
          },
          "title": {
           "x": 0.05
          },
          "xaxis": {
           "automargin": true,
           "gridcolor": "white",
           "linecolor": "white",
           "ticks": "",
           "title": {
            "standoff": 15
           },
           "zerolinecolor": "white",
           "zerolinewidth": 2
          },
          "yaxis": {
           "automargin": true,
           "gridcolor": "white",
           "linecolor": "white",
           "ticks": "",
           "title": {
            "standoff": 15
           },
           "zerolinecolor": "white",
           "zerolinewidth": 2
          }
         }
        },
        "title": {
         "text": "New Cases Each Day"
        },
        "xaxis": {
         "title": {
          "text": "Day"
         }
        },
        "yaxis": {
         "title": {
          "text": "Number of New Cases"
         }
        }
       }
      },
      "text/html": [
       "<div>\n",
       "        \n",
       "        \n",
       "            <div id=\"6c3ff1e6-0ca8-44f1-9bcd-add28c01a054\" class=\"plotly-graph-div\" style=\"height:525px; width:100%;\"></div>\n",
       "            <script type=\"text/javascript\">\n",
       "                require([\"plotly\"], function(Plotly) {\n",
       "                    window.PLOTLYENV=window.PLOTLYENV || {};\n",
       "                    \n",
       "                if (document.getElementById(\"6c3ff1e6-0ca8-44f1-9bcd-add28c01a054\")) {\n",
       "                    Plotly.newPlot(\n",
       "                        '6c3ff1e6-0ca8-44f1-9bcd-add28c01a054',\n",
       "                        [{\"mode\": \"lines\", \"name\": \"New Cases\", \"type\": \"scatter\", \"x\": [\"14th\", \"15th\", \"16th\", \"17th\", \"18th\", \"19th\", \"20th\", \"21st\", \"22nd\", \"23rd\", \"24th\", \"25th\"], \"y\": [7.0, 15, 12, 23, 20, 27, 18, 42, 38, 409, 385, 326]}],\n",
       "                        {\"template\": {\"data\": {\"bar\": [{\"error_x\": {\"color\": \"#2a3f5f\"}, \"error_y\": {\"color\": \"#2a3f5f\"}, \"marker\": {\"line\": {\"color\": \"#E5ECF6\", \"width\": 0.5}}, \"type\": \"bar\"}], \"barpolar\": [{\"marker\": {\"line\": {\"color\": \"#E5ECF6\", \"width\": 0.5}}, \"type\": \"barpolar\"}], \"carpet\": [{\"aaxis\": {\"endlinecolor\": \"#2a3f5f\", \"gridcolor\": \"white\", \"linecolor\": \"white\", \"minorgridcolor\": \"white\", \"startlinecolor\": \"#2a3f5f\"}, \"baxis\": {\"endlinecolor\": \"#2a3f5f\", \"gridcolor\": \"white\", \"linecolor\": \"white\", \"minorgridcolor\": \"white\", \"startlinecolor\": \"#2a3f5f\"}, \"type\": \"carpet\"}], \"choropleth\": [{\"colorbar\": {\"outlinewidth\": 0, \"ticks\": \"\"}, \"type\": \"choropleth\"}], \"contour\": [{\"colorbar\": {\"outlinewidth\": 0, \"ticks\": \"\"}, \"colorscale\": [[0.0, \"#0d0887\"], [0.1111111111111111, \"#46039f\"], [0.2222222222222222, \"#7201a8\"], [0.3333333333333333, \"#9c179e\"], [0.4444444444444444, \"#bd3786\"], [0.5555555555555556, \"#d8576b\"], [0.6666666666666666, \"#ed7953\"], [0.7777777777777778, \"#fb9f3a\"], [0.8888888888888888, \"#fdca26\"], [1.0, \"#f0f921\"]], \"type\": \"contour\"}], \"contourcarpet\": [{\"colorbar\": {\"outlinewidth\": 0, \"ticks\": \"\"}, \"type\": \"contourcarpet\"}], \"heatmap\": [{\"colorbar\": {\"outlinewidth\": 0, \"ticks\": \"\"}, \"colorscale\": [[0.0, \"#0d0887\"], [0.1111111111111111, \"#46039f\"], [0.2222222222222222, \"#7201a8\"], [0.3333333333333333, \"#9c179e\"], [0.4444444444444444, \"#bd3786\"], [0.5555555555555556, \"#d8576b\"], [0.6666666666666666, \"#ed7953\"], [0.7777777777777778, \"#fb9f3a\"], [0.8888888888888888, \"#fdca26\"], [1.0, \"#f0f921\"]], \"type\": \"heatmap\"}], \"heatmapgl\": [{\"colorbar\": {\"outlinewidth\": 0, \"ticks\": \"\"}, \"colorscale\": [[0.0, \"#0d0887\"], [0.1111111111111111, \"#46039f\"], [0.2222222222222222, \"#7201a8\"], [0.3333333333333333, \"#9c179e\"], [0.4444444444444444, \"#bd3786\"], [0.5555555555555556, \"#d8576b\"], [0.6666666666666666, \"#ed7953\"], [0.7777777777777778, \"#fb9f3a\"], [0.8888888888888888, \"#fdca26\"], [1.0, \"#f0f921\"]], \"type\": \"heatmapgl\"}], \"histogram\": [{\"marker\": {\"colorbar\": {\"outlinewidth\": 0, \"ticks\": \"\"}}, \"type\": \"histogram\"}], \"histogram2d\": [{\"colorbar\": {\"outlinewidth\": 0, \"ticks\": \"\"}, \"colorscale\": [[0.0, \"#0d0887\"], [0.1111111111111111, \"#46039f\"], [0.2222222222222222, \"#7201a8\"], [0.3333333333333333, \"#9c179e\"], [0.4444444444444444, \"#bd3786\"], [0.5555555555555556, \"#d8576b\"], [0.6666666666666666, \"#ed7953\"], [0.7777777777777778, \"#fb9f3a\"], [0.8888888888888888, \"#fdca26\"], [1.0, \"#f0f921\"]], \"type\": \"histogram2d\"}], \"histogram2dcontour\": [{\"colorbar\": {\"outlinewidth\": 0, \"ticks\": \"\"}, \"colorscale\": [[0.0, \"#0d0887\"], [0.1111111111111111, \"#46039f\"], [0.2222222222222222, \"#7201a8\"], [0.3333333333333333, \"#9c179e\"], [0.4444444444444444, \"#bd3786\"], [0.5555555555555556, \"#d8576b\"], [0.6666666666666666, \"#ed7953\"], [0.7777777777777778, \"#fb9f3a\"], [0.8888888888888888, \"#fdca26\"], [1.0, \"#f0f921\"]], \"type\": \"histogram2dcontour\"}], \"mesh3d\": [{\"colorbar\": {\"outlinewidth\": 0, \"ticks\": \"\"}, \"type\": \"mesh3d\"}], \"parcoords\": [{\"line\": {\"colorbar\": {\"outlinewidth\": 0, \"ticks\": \"\"}}, \"type\": \"parcoords\"}], \"pie\": [{\"automargin\": true, \"type\": \"pie\"}], \"scatter\": [{\"marker\": {\"colorbar\": {\"outlinewidth\": 0, \"ticks\": \"\"}}, \"type\": \"scatter\"}], \"scatter3d\": [{\"line\": {\"colorbar\": {\"outlinewidth\": 0, \"ticks\": \"\"}}, \"marker\": {\"colorbar\": {\"outlinewidth\": 0, \"ticks\": \"\"}}, \"type\": \"scatter3d\"}], \"scattercarpet\": [{\"marker\": {\"colorbar\": {\"outlinewidth\": 0, \"ticks\": \"\"}}, \"type\": \"scattercarpet\"}], \"scattergeo\": [{\"marker\": {\"colorbar\": {\"outlinewidth\": 0, \"ticks\": \"\"}}, \"type\": \"scattergeo\"}], \"scattergl\": [{\"marker\": {\"colorbar\": {\"outlinewidth\": 0, \"ticks\": \"\"}}, \"type\": \"scattergl\"}], \"scattermapbox\": [{\"marker\": {\"colorbar\": {\"outlinewidth\": 0, \"ticks\": \"\"}}, \"type\": \"scattermapbox\"}], \"scatterpolar\": [{\"marker\": {\"colorbar\": {\"outlinewidth\": 0, \"ticks\": \"\"}}, \"type\": \"scatterpolar\"}], \"scatterpolargl\": [{\"marker\": {\"colorbar\": {\"outlinewidth\": 0, \"ticks\": \"\"}}, \"type\": \"scatterpolargl\"}], \"scatterternary\": [{\"marker\": {\"colorbar\": {\"outlinewidth\": 0, \"ticks\": \"\"}}, \"type\": \"scatterternary\"}], \"surface\": [{\"colorbar\": {\"outlinewidth\": 0, \"ticks\": \"\"}, \"colorscale\": [[0.0, \"#0d0887\"], [0.1111111111111111, \"#46039f\"], [0.2222222222222222, \"#7201a8\"], [0.3333333333333333, \"#9c179e\"], [0.4444444444444444, \"#bd3786\"], [0.5555555555555556, \"#d8576b\"], [0.6666666666666666, \"#ed7953\"], [0.7777777777777778, \"#fb9f3a\"], [0.8888888888888888, \"#fdca26\"], [1.0, \"#f0f921\"]], \"type\": \"surface\"}], \"table\": [{\"cells\": {\"fill\": {\"color\": \"#EBF0F8\"}, \"line\": {\"color\": \"white\"}}, \"header\": {\"fill\": {\"color\": \"#C8D4E3\"}, \"line\": {\"color\": \"white\"}}, \"type\": \"table\"}]}, \"layout\": {\"annotationdefaults\": {\"arrowcolor\": \"#2a3f5f\", \"arrowhead\": 0, \"arrowwidth\": 1}, \"coloraxis\": {\"colorbar\": {\"outlinewidth\": 0, \"ticks\": \"\"}}, \"colorscale\": {\"diverging\": [[0, \"#8e0152\"], [0.1, \"#c51b7d\"], [0.2, \"#de77ae\"], [0.3, \"#f1b6da\"], [0.4, \"#fde0ef\"], [0.5, \"#f7f7f7\"], [0.6, \"#e6f5d0\"], [0.7, \"#b8e186\"], [0.8, \"#7fbc41\"], [0.9, \"#4d9221\"], [1, \"#276419\"]], \"sequential\": [[0.0, \"#0d0887\"], [0.1111111111111111, \"#46039f\"], [0.2222222222222222, \"#7201a8\"], [0.3333333333333333, \"#9c179e\"], [0.4444444444444444, \"#bd3786\"], [0.5555555555555556, \"#d8576b\"], [0.6666666666666666, \"#ed7953\"], [0.7777777777777778, \"#fb9f3a\"], [0.8888888888888888, \"#fdca26\"], [1.0, \"#f0f921\"]], \"sequentialminus\": [[0.0, \"#0d0887\"], [0.1111111111111111, \"#46039f\"], [0.2222222222222222, \"#7201a8\"], [0.3333333333333333, \"#9c179e\"], [0.4444444444444444, \"#bd3786\"], [0.5555555555555556, \"#d8576b\"], [0.6666666666666666, \"#ed7953\"], [0.7777777777777778, \"#fb9f3a\"], [0.8888888888888888, \"#fdca26\"], [1.0, \"#f0f921\"]]}, \"colorway\": [\"#636efa\", \"#EF553B\", \"#00cc96\", \"#ab63fa\", \"#FFA15A\", \"#19d3f3\", \"#FF6692\", \"#B6E880\", \"#FF97FF\", \"#FECB52\"], \"font\": {\"color\": \"#2a3f5f\"}, \"geo\": {\"bgcolor\": \"white\", \"lakecolor\": \"white\", \"landcolor\": \"#E5ECF6\", \"showlakes\": true, \"showland\": true, \"subunitcolor\": \"white\"}, \"hoverlabel\": {\"align\": \"left\"}, \"hovermode\": \"closest\", \"mapbox\": {\"style\": \"light\"}, \"paper_bgcolor\": \"white\", \"plot_bgcolor\": \"#E5ECF6\", \"polar\": {\"angularaxis\": {\"gridcolor\": \"white\", \"linecolor\": \"white\", \"ticks\": \"\"}, \"bgcolor\": \"#E5ECF6\", \"radialaxis\": {\"gridcolor\": \"white\", \"linecolor\": \"white\", \"ticks\": \"\"}}, \"scene\": {\"xaxis\": {\"backgroundcolor\": \"#E5ECF6\", \"gridcolor\": \"white\", \"gridwidth\": 2, \"linecolor\": \"white\", \"showbackground\": true, \"ticks\": \"\", \"zerolinecolor\": \"white\"}, \"yaxis\": {\"backgroundcolor\": \"#E5ECF6\", \"gridcolor\": \"white\", \"gridwidth\": 2, \"linecolor\": \"white\", \"showbackground\": true, \"ticks\": \"\", \"zerolinecolor\": \"white\"}, \"zaxis\": {\"backgroundcolor\": \"#E5ECF6\", \"gridcolor\": \"white\", \"gridwidth\": 2, \"linecolor\": \"white\", \"showbackground\": true, \"ticks\": \"\", \"zerolinecolor\": \"white\"}}, \"shapedefaults\": {\"line\": {\"color\": \"#2a3f5f\"}}, \"ternary\": {\"aaxis\": {\"gridcolor\": \"white\", \"linecolor\": \"white\", \"ticks\": \"\"}, \"baxis\": {\"gridcolor\": \"white\", \"linecolor\": \"white\", \"ticks\": \"\"}, \"bgcolor\": \"#E5ECF6\", \"caxis\": {\"gridcolor\": \"white\", \"linecolor\": \"white\", \"ticks\": \"\"}}, \"title\": {\"x\": 0.05}, \"xaxis\": {\"automargin\": true, \"gridcolor\": \"white\", \"linecolor\": \"white\", \"ticks\": \"\", \"title\": {\"standoff\": 15}, \"zerolinecolor\": \"white\", \"zerolinewidth\": 2}, \"yaxis\": {\"automargin\": true, \"gridcolor\": \"white\", \"linecolor\": \"white\", \"ticks\": \"\", \"title\": {\"standoff\": 15}, \"zerolinecolor\": \"white\", \"zerolinewidth\": 2}}}, \"title\": {\"text\": \"New Cases Each Day\"}, \"xaxis\": {\"title\": {\"text\": \"Day\"}}, \"yaxis\": {\"title\": {\"text\": \"Number of New Cases\"}}},\n",
       "                        {\"responsive\": true}\n",
       "                    ).then(function(){\n",
       "                            \n",
       "var gd = document.getElementById('6c3ff1e6-0ca8-44f1-9bcd-add28c01a054');\n",
       "var x = new MutationObserver(function (mutations, observer) {{\n",
       "        var display = window.getComputedStyle(gd).display;\n",
       "        if (!display || display === 'none') {{\n",
       "            console.log([gd, 'removed!']);\n",
       "            Plotly.purge(gd);\n",
       "            observer.disconnect();\n",
       "        }}\n",
       "}});\n",
       "\n",
       "// Listen for the removal of the full notebook cells\n",
       "var notebookContainer = gd.closest('#notebook-container');\n",
       "if (notebookContainer) {{\n",
       "    x.observe(notebookContainer, {childList: true});\n",
       "}}\n",
       "\n",
       "// Listen for the clearing of the current output cell\n",
       "var outputEl = gd.closest('.output');\n",
       "if (outputEl) {{\n",
       "    x.observe(outputEl, {childList: true});\n",
       "}}\n",
       "\n",
       "                        })\n",
       "                };\n",
       "                });\n",
       "            </script>\n",
       "        </div>"
      ]
     },
     "metadata": {},
     "output_type": "display_data"
    }
   ],
   "source": [
    "fig = go.Figure(data=go.Scatter(x=dates[1:], y=new_cases,\n",
    "                    mode='lines',\n",
    "                    name='New Cases'))\n",
    "fig.update_layout(title='New Cases Each Day',\n",
    "                   xaxis_title='Day',\n",
    "                   yaxis_title='Number of New Cases')\n",
    "fig.show()\n",
    "with open('../plotly/new_cases.json', 'w') as f:\n",
    "    f.write(fig.to_json())"
   ]
  },
  {
   "cell_type": "code",
   "execution_count": 103,
   "metadata": {},
   "outputs": [],
   "source": [
    "headers = [\"Results\",  \"People Tested\", \"Lab Report Date\"]\n",
    "positive = list(df.iloc[20])[1:]\n",
    "negative = list(df.iloc[23])[1:]"
   ]
  },
  {
   "cell_type": "code",
   "execution_count": 104,
   "metadata": {},
   "outputs": [
    {
     "data": {
      "application/vnd.plotly.v1+json": {
       "config": {
        "plotlyServerURL": "https://plot.ly"
       },
       "data": [
        {
         "name": "Negative",
         "type": "bar",
         "x": [
          "15th",
          "16th",
          "17th",
          "18th",
          "19th",
          "20th",
          "21st",
          "22nd",
          "23rd",
          "24th",
          "25th"
         ],
         "y": [
          1480,
          3073,
          2949,
          3627,
          3997,
          3400,
          1512,
          2063,
          1888,
          2548,
          2998
         ]
        },
        {
         "name": "Positive",
         "type": "bar",
         "x": [
          "15th",
          "16th",
          "17th",
          "18th",
          "19th",
          "20th",
          "21st",
          "22nd",
          "23rd",
          "24th",
          "25th"
         ],
         "y": [
          15,
          12,
          23,
          20,
          27,
          18,
          42,
          38,
          409,
          385,
          326
         ]
        }
       ],
       "layout": {
        "barmode": "stack",
        "template": {
         "data": {
          "bar": [
           {
            "error_x": {
             "color": "#2a3f5f"
            },
            "error_y": {
             "color": "#2a3f5f"
            },
            "marker": {
             "line": {
              "color": "#E5ECF6",
              "width": 0.5
             }
            },
            "type": "bar"
           }
          ],
          "barpolar": [
           {
            "marker": {
             "line": {
              "color": "#E5ECF6",
              "width": 0.5
             }
            },
            "type": "barpolar"
           }
          ],
          "carpet": [
           {
            "aaxis": {
             "endlinecolor": "#2a3f5f",
             "gridcolor": "white",
             "linecolor": "white",
             "minorgridcolor": "white",
             "startlinecolor": "#2a3f5f"
            },
            "baxis": {
             "endlinecolor": "#2a3f5f",
             "gridcolor": "white",
             "linecolor": "white",
             "minorgridcolor": "white",
             "startlinecolor": "#2a3f5f"
            },
            "type": "carpet"
           }
          ],
          "choropleth": [
           {
            "colorbar": {
             "outlinewidth": 0,
             "ticks": ""
            },
            "type": "choropleth"
           }
          ],
          "contour": [
           {
            "colorbar": {
             "outlinewidth": 0,
             "ticks": ""
            },
            "colorscale": [
             [
              0,
              "#0d0887"
             ],
             [
              0.1111111111111111,
              "#46039f"
             ],
             [
              0.2222222222222222,
              "#7201a8"
             ],
             [
              0.3333333333333333,
              "#9c179e"
             ],
             [
              0.4444444444444444,
              "#bd3786"
             ],
             [
              0.5555555555555556,
              "#d8576b"
             ],
             [
              0.6666666666666666,
              "#ed7953"
             ],
             [
              0.7777777777777778,
              "#fb9f3a"
             ],
             [
              0.8888888888888888,
              "#fdca26"
             ],
             [
              1,
              "#f0f921"
             ]
            ],
            "type": "contour"
           }
          ],
          "contourcarpet": [
           {
            "colorbar": {
             "outlinewidth": 0,
             "ticks": ""
            },
            "type": "contourcarpet"
           }
          ],
          "heatmap": [
           {
            "colorbar": {
             "outlinewidth": 0,
             "ticks": ""
            },
            "colorscale": [
             [
              0,
              "#0d0887"
             ],
             [
              0.1111111111111111,
              "#46039f"
             ],
             [
              0.2222222222222222,
              "#7201a8"
             ],
             [
              0.3333333333333333,
              "#9c179e"
             ],
             [
              0.4444444444444444,
              "#bd3786"
             ],
             [
              0.5555555555555556,
              "#d8576b"
             ],
             [
              0.6666666666666666,
              "#ed7953"
             ],
             [
              0.7777777777777778,
              "#fb9f3a"
             ],
             [
              0.8888888888888888,
              "#fdca26"
             ],
             [
              1,
              "#f0f921"
             ]
            ],
            "type": "heatmap"
           }
          ],
          "heatmapgl": [
           {
            "colorbar": {
             "outlinewidth": 0,
             "ticks": ""
            },
            "colorscale": [
             [
              0,
              "#0d0887"
             ],
             [
              0.1111111111111111,
              "#46039f"
             ],
             [
              0.2222222222222222,
              "#7201a8"
             ],
             [
              0.3333333333333333,
              "#9c179e"
             ],
             [
              0.4444444444444444,
              "#bd3786"
             ],
             [
              0.5555555555555556,
              "#d8576b"
             ],
             [
              0.6666666666666666,
              "#ed7953"
             ],
             [
              0.7777777777777778,
              "#fb9f3a"
             ],
             [
              0.8888888888888888,
              "#fdca26"
             ],
             [
              1,
              "#f0f921"
             ]
            ],
            "type": "heatmapgl"
           }
          ],
          "histogram": [
           {
            "marker": {
             "colorbar": {
              "outlinewidth": 0,
              "ticks": ""
             }
            },
            "type": "histogram"
           }
          ],
          "histogram2d": [
           {
            "colorbar": {
             "outlinewidth": 0,
             "ticks": ""
            },
            "colorscale": [
             [
              0,
              "#0d0887"
             ],
             [
              0.1111111111111111,
              "#46039f"
             ],
             [
              0.2222222222222222,
              "#7201a8"
             ],
             [
              0.3333333333333333,
              "#9c179e"
             ],
             [
              0.4444444444444444,
              "#bd3786"
             ],
             [
              0.5555555555555556,
              "#d8576b"
             ],
             [
              0.6666666666666666,
              "#ed7953"
             ],
             [
              0.7777777777777778,
              "#fb9f3a"
             ],
             [
              0.8888888888888888,
              "#fdca26"
             ],
             [
              1,
              "#f0f921"
             ]
            ],
            "type": "histogram2d"
           }
          ],
          "histogram2dcontour": [
           {
            "colorbar": {
             "outlinewidth": 0,
             "ticks": ""
            },
            "colorscale": [
             [
              0,
              "#0d0887"
             ],
             [
              0.1111111111111111,
              "#46039f"
             ],
             [
              0.2222222222222222,
              "#7201a8"
             ],
             [
              0.3333333333333333,
              "#9c179e"
             ],
             [
              0.4444444444444444,
              "#bd3786"
             ],
             [
              0.5555555555555556,
              "#d8576b"
             ],
             [
              0.6666666666666666,
              "#ed7953"
             ],
             [
              0.7777777777777778,
              "#fb9f3a"
             ],
             [
              0.8888888888888888,
              "#fdca26"
             ],
             [
              1,
              "#f0f921"
             ]
            ],
            "type": "histogram2dcontour"
           }
          ],
          "mesh3d": [
           {
            "colorbar": {
             "outlinewidth": 0,
             "ticks": ""
            },
            "type": "mesh3d"
           }
          ],
          "parcoords": [
           {
            "line": {
             "colorbar": {
              "outlinewidth": 0,
              "ticks": ""
             }
            },
            "type": "parcoords"
           }
          ],
          "pie": [
           {
            "automargin": true,
            "type": "pie"
           }
          ],
          "scatter": [
           {
            "marker": {
             "colorbar": {
              "outlinewidth": 0,
              "ticks": ""
             }
            },
            "type": "scatter"
           }
          ],
          "scatter3d": [
           {
            "line": {
             "colorbar": {
              "outlinewidth": 0,
              "ticks": ""
             }
            },
            "marker": {
             "colorbar": {
              "outlinewidth": 0,
              "ticks": ""
             }
            },
            "type": "scatter3d"
           }
          ],
          "scattercarpet": [
           {
            "marker": {
             "colorbar": {
              "outlinewidth": 0,
              "ticks": ""
             }
            },
            "type": "scattercarpet"
           }
          ],
          "scattergeo": [
           {
            "marker": {
             "colorbar": {
              "outlinewidth": 0,
              "ticks": ""
             }
            },
            "type": "scattergeo"
           }
          ],
          "scattergl": [
           {
            "marker": {
             "colorbar": {
              "outlinewidth": 0,
              "ticks": ""
             }
            },
            "type": "scattergl"
           }
          ],
          "scattermapbox": [
           {
            "marker": {
             "colorbar": {
              "outlinewidth": 0,
              "ticks": ""
             }
            },
            "type": "scattermapbox"
           }
          ],
          "scatterpolar": [
           {
            "marker": {
             "colorbar": {
              "outlinewidth": 0,
              "ticks": ""
             }
            },
            "type": "scatterpolar"
           }
          ],
          "scatterpolargl": [
           {
            "marker": {
             "colorbar": {
              "outlinewidth": 0,
              "ticks": ""
             }
            },
            "type": "scatterpolargl"
           }
          ],
          "scatterternary": [
           {
            "marker": {
             "colorbar": {
              "outlinewidth": 0,
              "ticks": ""
             }
            },
            "type": "scatterternary"
           }
          ],
          "surface": [
           {
            "colorbar": {
             "outlinewidth": 0,
             "ticks": ""
            },
            "colorscale": [
             [
              0,
              "#0d0887"
             ],
             [
              0.1111111111111111,
              "#46039f"
             ],
             [
              0.2222222222222222,
              "#7201a8"
             ],
             [
              0.3333333333333333,
              "#9c179e"
             ],
             [
              0.4444444444444444,
              "#bd3786"
             ],
             [
              0.5555555555555556,
              "#d8576b"
             ],
             [
              0.6666666666666666,
              "#ed7953"
             ],
             [
              0.7777777777777778,
              "#fb9f3a"
             ],
             [
              0.8888888888888888,
              "#fdca26"
             ],
             [
              1,
              "#f0f921"
             ]
            ],
            "type": "surface"
           }
          ],
          "table": [
           {
            "cells": {
             "fill": {
              "color": "#EBF0F8"
             },
             "line": {
              "color": "white"
             }
            },
            "header": {
             "fill": {
              "color": "#C8D4E3"
             },
             "line": {
              "color": "white"
             }
            },
            "type": "table"
           }
          ]
         },
         "layout": {
          "annotationdefaults": {
           "arrowcolor": "#2a3f5f",
           "arrowhead": 0,
           "arrowwidth": 1
          },
          "coloraxis": {
           "colorbar": {
            "outlinewidth": 0,
            "ticks": ""
           }
          },
          "colorscale": {
           "diverging": [
            [
             0,
             "#8e0152"
            ],
            [
             0.1,
             "#c51b7d"
            ],
            [
             0.2,
             "#de77ae"
            ],
            [
             0.3,
             "#f1b6da"
            ],
            [
             0.4,
             "#fde0ef"
            ],
            [
             0.5,
             "#f7f7f7"
            ],
            [
             0.6,
             "#e6f5d0"
            ],
            [
             0.7,
             "#b8e186"
            ],
            [
             0.8,
             "#7fbc41"
            ],
            [
             0.9,
             "#4d9221"
            ],
            [
             1,
             "#276419"
            ]
           ],
           "sequential": [
            [
             0,
             "#0d0887"
            ],
            [
             0.1111111111111111,
             "#46039f"
            ],
            [
             0.2222222222222222,
             "#7201a8"
            ],
            [
             0.3333333333333333,
             "#9c179e"
            ],
            [
             0.4444444444444444,
             "#bd3786"
            ],
            [
             0.5555555555555556,
             "#d8576b"
            ],
            [
             0.6666666666666666,
             "#ed7953"
            ],
            [
             0.7777777777777778,
             "#fb9f3a"
            ],
            [
             0.8888888888888888,
             "#fdca26"
            ],
            [
             1,
             "#f0f921"
            ]
           ],
           "sequentialminus": [
            [
             0,
             "#0d0887"
            ],
            [
             0.1111111111111111,
             "#46039f"
            ],
            [
             0.2222222222222222,
             "#7201a8"
            ],
            [
             0.3333333333333333,
             "#9c179e"
            ],
            [
             0.4444444444444444,
             "#bd3786"
            ],
            [
             0.5555555555555556,
             "#d8576b"
            ],
            [
             0.6666666666666666,
             "#ed7953"
            ],
            [
             0.7777777777777778,
             "#fb9f3a"
            ],
            [
             0.8888888888888888,
             "#fdca26"
            ],
            [
             1,
             "#f0f921"
            ]
           ]
          },
          "colorway": [
           "#636efa",
           "#EF553B",
           "#00cc96",
           "#ab63fa",
           "#FFA15A",
           "#19d3f3",
           "#FF6692",
           "#B6E880",
           "#FF97FF",
           "#FECB52"
          ],
          "font": {
           "color": "#2a3f5f"
          },
          "geo": {
           "bgcolor": "white",
           "lakecolor": "white",
           "landcolor": "#E5ECF6",
           "showlakes": true,
           "showland": true,
           "subunitcolor": "white"
          },
          "hoverlabel": {
           "align": "left"
          },
          "hovermode": "closest",
          "mapbox": {
           "style": "light"
          },
          "paper_bgcolor": "white",
          "plot_bgcolor": "#E5ECF6",
          "polar": {
           "angularaxis": {
            "gridcolor": "white",
            "linecolor": "white",
            "ticks": ""
           },
           "bgcolor": "#E5ECF6",
           "radialaxis": {
            "gridcolor": "white",
            "linecolor": "white",
            "ticks": ""
           }
          },
          "scene": {
           "xaxis": {
            "backgroundcolor": "#E5ECF6",
            "gridcolor": "white",
            "gridwidth": 2,
            "linecolor": "white",
            "showbackground": true,
            "ticks": "",
            "zerolinecolor": "white"
           },
           "yaxis": {
            "backgroundcolor": "#E5ECF6",
            "gridcolor": "white",
            "gridwidth": 2,
            "linecolor": "white",
            "showbackground": true,
            "ticks": "",
            "zerolinecolor": "white"
           },
           "zaxis": {
            "backgroundcolor": "#E5ECF6",
            "gridcolor": "white",
            "gridwidth": 2,
            "linecolor": "white",
            "showbackground": true,
            "ticks": "",
            "zerolinecolor": "white"
           }
          },
          "shapedefaults": {
           "line": {
            "color": "#2a3f5f"
           }
          },
          "ternary": {
           "aaxis": {
            "gridcolor": "white",
            "linecolor": "white",
            "ticks": ""
           },
           "baxis": {
            "gridcolor": "white",
            "linecolor": "white",
            "ticks": ""
           },
           "bgcolor": "#E5ECF6",
           "caxis": {
            "gridcolor": "white",
            "linecolor": "white",
            "ticks": ""
           }
          },
          "title": {
           "x": 0.05
          },
          "xaxis": {
           "automargin": true,
           "gridcolor": "white",
           "linecolor": "white",
           "ticks": "",
           "title": {
            "standoff": 15
           },
           "zerolinecolor": "white",
           "zerolinewidth": 2
          },
          "yaxis": {
           "automargin": true,
           "gridcolor": "white",
           "linecolor": "white",
           "ticks": "",
           "title": {
            "standoff": 15
           },
           "zerolinecolor": "white",
           "zerolinewidth": 2
          }
         }
        },
        "xaxis": {
         "title": {
          "text": "Lab Report Day"
         }
        },
        "yaxis": {
         "title": {
          "text": "Peope Tested"
         }
        }
       }
      },
      "text/html": [
       "<div>\n",
       "        \n",
       "        \n",
       "            <div id=\"f89c18b2-23d9-4347-a50f-be0dcd0f16c2\" class=\"plotly-graph-div\" style=\"height:525px; width:100%;\"></div>\n",
       "            <script type=\"text/javascript\">\n",
       "                require([\"plotly\"], function(Plotly) {\n",
       "                    window.PLOTLYENV=window.PLOTLYENV || {};\n",
       "                    \n",
       "                if (document.getElementById(\"f89c18b2-23d9-4347-a50f-be0dcd0f16c2\")) {\n",
       "                    Plotly.newPlot(\n",
       "                        'f89c18b2-23d9-4347-a50f-be0dcd0f16c2',\n",
       "                        [{\"name\": \"Negative\", \"type\": \"bar\", \"x\": [\"15th\", \"16th\", \"17th\", \"18th\", \"19th\", \"20th\", \"21st\", \"22nd\", \"23rd\", \"24th\", \"25th\"], \"y\": [1480, 3073, 2949, 3627, 3997, 3400, 1512, 2063, 1888, 2548, 2998]}, {\"name\": \"Positive\", \"type\": \"bar\", \"x\": [\"15th\", \"16th\", \"17th\", \"18th\", \"19th\", \"20th\", \"21st\", \"22nd\", \"23rd\", \"24th\", \"25th\"], \"y\": [15, 12, 23, 20, 27, 18, 42, 38, 409, 385, 326]}],\n",
       "                        {\"barmode\": \"stack\", \"template\": {\"data\": {\"bar\": [{\"error_x\": {\"color\": \"#2a3f5f\"}, \"error_y\": {\"color\": \"#2a3f5f\"}, \"marker\": {\"line\": {\"color\": \"#E5ECF6\", \"width\": 0.5}}, \"type\": \"bar\"}], \"barpolar\": [{\"marker\": {\"line\": {\"color\": \"#E5ECF6\", \"width\": 0.5}}, \"type\": \"barpolar\"}], \"carpet\": [{\"aaxis\": {\"endlinecolor\": \"#2a3f5f\", \"gridcolor\": \"white\", \"linecolor\": \"white\", \"minorgridcolor\": \"white\", \"startlinecolor\": \"#2a3f5f\"}, \"baxis\": {\"endlinecolor\": \"#2a3f5f\", \"gridcolor\": \"white\", \"linecolor\": \"white\", \"minorgridcolor\": \"white\", \"startlinecolor\": \"#2a3f5f\"}, \"type\": \"carpet\"}], \"choropleth\": [{\"colorbar\": {\"outlinewidth\": 0, \"ticks\": \"\"}, \"type\": \"choropleth\"}], \"contour\": [{\"colorbar\": {\"outlinewidth\": 0, \"ticks\": \"\"}, \"colorscale\": [[0.0, \"#0d0887\"], [0.1111111111111111, \"#46039f\"], [0.2222222222222222, \"#7201a8\"], [0.3333333333333333, \"#9c179e\"], [0.4444444444444444, \"#bd3786\"], [0.5555555555555556, \"#d8576b\"], [0.6666666666666666, \"#ed7953\"], [0.7777777777777778, \"#fb9f3a\"], [0.8888888888888888, \"#fdca26\"], [1.0, \"#f0f921\"]], \"type\": \"contour\"}], \"contourcarpet\": [{\"colorbar\": {\"outlinewidth\": 0, \"ticks\": \"\"}, \"type\": \"contourcarpet\"}], \"heatmap\": [{\"colorbar\": {\"outlinewidth\": 0, \"ticks\": \"\"}, \"colorscale\": [[0.0, \"#0d0887\"], [0.1111111111111111, \"#46039f\"], [0.2222222222222222, \"#7201a8\"], [0.3333333333333333, \"#9c179e\"], [0.4444444444444444, \"#bd3786\"], [0.5555555555555556, \"#d8576b\"], [0.6666666666666666, \"#ed7953\"], [0.7777777777777778, \"#fb9f3a\"], [0.8888888888888888, \"#fdca26\"], [1.0, \"#f0f921\"]], \"type\": \"heatmap\"}], \"heatmapgl\": [{\"colorbar\": {\"outlinewidth\": 0, \"ticks\": \"\"}, \"colorscale\": [[0.0, \"#0d0887\"], [0.1111111111111111, \"#46039f\"], [0.2222222222222222, \"#7201a8\"], [0.3333333333333333, \"#9c179e\"], [0.4444444444444444, \"#bd3786\"], [0.5555555555555556, \"#d8576b\"], [0.6666666666666666, \"#ed7953\"], [0.7777777777777778, \"#fb9f3a\"], [0.8888888888888888, \"#fdca26\"], [1.0, \"#f0f921\"]], \"type\": \"heatmapgl\"}], \"histogram\": [{\"marker\": {\"colorbar\": {\"outlinewidth\": 0, \"ticks\": \"\"}}, \"type\": \"histogram\"}], \"histogram2d\": [{\"colorbar\": {\"outlinewidth\": 0, \"ticks\": \"\"}, \"colorscale\": [[0.0, \"#0d0887\"], [0.1111111111111111, \"#46039f\"], [0.2222222222222222, \"#7201a8\"], [0.3333333333333333, \"#9c179e\"], [0.4444444444444444, \"#bd3786\"], [0.5555555555555556, \"#d8576b\"], [0.6666666666666666, \"#ed7953\"], [0.7777777777777778, \"#fb9f3a\"], [0.8888888888888888, \"#fdca26\"], [1.0, \"#f0f921\"]], \"type\": \"histogram2d\"}], \"histogram2dcontour\": [{\"colorbar\": {\"outlinewidth\": 0, \"ticks\": \"\"}, \"colorscale\": [[0.0, \"#0d0887\"], [0.1111111111111111, \"#46039f\"], [0.2222222222222222, \"#7201a8\"], [0.3333333333333333, \"#9c179e\"], [0.4444444444444444, \"#bd3786\"], [0.5555555555555556, \"#d8576b\"], [0.6666666666666666, \"#ed7953\"], [0.7777777777777778, \"#fb9f3a\"], [0.8888888888888888, \"#fdca26\"], [1.0, \"#f0f921\"]], \"type\": \"histogram2dcontour\"}], \"mesh3d\": [{\"colorbar\": {\"outlinewidth\": 0, \"ticks\": \"\"}, \"type\": \"mesh3d\"}], \"parcoords\": [{\"line\": {\"colorbar\": {\"outlinewidth\": 0, \"ticks\": \"\"}}, \"type\": \"parcoords\"}], \"pie\": [{\"automargin\": true, \"type\": \"pie\"}], \"scatter\": [{\"marker\": {\"colorbar\": {\"outlinewidth\": 0, \"ticks\": \"\"}}, \"type\": \"scatter\"}], \"scatter3d\": [{\"line\": {\"colorbar\": {\"outlinewidth\": 0, \"ticks\": \"\"}}, \"marker\": {\"colorbar\": {\"outlinewidth\": 0, \"ticks\": \"\"}}, \"type\": \"scatter3d\"}], \"scattercarpet\": [{\"marker\": {\"colorbar\": {\"outlinewidth\": 0, \"ticks\": \"\"}}, \"type\": \"scattercarpet\"}], \"scattergeo\": [{\"marker\": {\"colorbar\": {\"outlinewidth\": 0, \"ticks\": \"\"}}, \"type\": \"scattergeo\"}], \"scattergl\": [{\"marker\": {\"colorbar\": {\"outlinewidth\": 0, \"ticks\": \"\"}}, \"type\": \"scattergl\"}], \"scattermapbox\": [{\"marker\": {\"colorbar\": {\"outlinewidth\": 0, \"ticks\": \"\"}}, \"type\": \"scattermapbox\"}], \"scatterpolar\": [{\"marker\": {\"colorbar\": {\"outlinewidth\": 0, \"ticks\": \"\"}}, \"type\": \"scatterpolar\"}], \"scatterpolargl\": [{\"marker\": {\"colorbar\": {\"outlinewidth\": 0, \"ticks\": \"\"}}, \"type\": \"scatterpolargl\"}], \"scatterternary\": [{\"marker\": {\"colorbar\": {\"outlinewidth\": 0, \"ticks\": \"\"}}, \"type\": \"scatterternary\"}], \"surface\": [{\"colorbar\": {\"outlinewidth\": 0, \"ticks\": \"\"}, \"colorscale\": [[0.0, \"#0d0887\"], [0.1111111111111111, \"#46039f\"], [0.2222222222222222, \"#7201a8\"], [0.3333333333333333, \"#9c179e\"], [0.4444444444444444, \"#bd3786\"], [0.5555555555555556, \"#d8576b\"], [0.6666666666666666, \"#ed7953\"], [0.7777777777777778, \"#fb9f3a\"], [0.8888888888888888, \"#fdca26\"], [1.0, \"#f0f921\"]], \"type\": \"surface\"}], \"table\": [{\"cells\": {\"fill\": {\"color\": \"#EBF0F8\"}, \"line\": {\"color\": \"white\"}}, \"header\": {\"fill\": {\"color\": \"#C8D4E3\"}, \"line\": {\"color\": \"white\"}}, \"type\": \"table\"}]}, \"layout\": {\"annotationdefaults\": {\"arrowcolor\": \"#2a3f5f\", \"arrowhead\": 0, \"arrowwidth\": 1}, \"coloraxis\": {\"colorbar\": {\"outlinewidth\": 0, \"ticks\": \"\"}}, \"colorscale\": {\"diverging\": [[0, \"#8e0152\"], [0.1, \"#c51b7d\"], [0.2, \"#de77ae\"], [0.3, \"#f1b6da\"], [0.4, \"#fde0ef\"], [0.5, \"#f7f7f7\"], [0.6, \"#e6f5d0\"], [0.7, \"#b8e186\"], [0.8, \"#7fbc41\"], [0.9, \"#4d9221\"], [1, \"#276419\"]], \"sequential\": [[0.0, \"#0d0887\"], [0.1111111111111111, \"#46039f\"], [0.2222222222222222, \"#7201a8\"], [0.3333333333333333, \"#9c179e\"], [0.4444444444444444, \"#bd3786\"], [0.5555555555555556, \"#d8576b\"], [0.6666666666666666, \"#ed7953\"], [0.7777777777777778, \"#fb9f3a\"], [0.8888888888888888, \"#fdca26\"], [1.0, \"#f0f921\"]], \"sequentialminus\": [[0.0, \"#0d0887\"], [0.1111111111111111, \"#46039f\"], [0.2222222222222222, \"#7201a8\"], [0.3333333333333333, \"#9c179e\"], [0.4444444444444444, \"#bd3786\"], [0.5555555555555556, \"#d8576b\"], [0.6666666666666666, \"#ed7953\"], [0.7777777777777778, \"#fb9f3a\"], [0.8888888888888888, \"#fdca26\"], [1.0, \"#f0f921\"]]}, \"colorway\": [\"#636efa\", \"#EF553B\", \"#00cc96\", \"#ab63fa\", \"#FFA15A\", \"#19d3f3\", \"#FF6692\", \"#B6E880\", \"#FF97FF\", \"#FECB52\"], \"font\": {\"color\": \"#2a3f5f\"}, \"geo\": {\"bgcolor\": \"white\", \"lakecolor\": \"white\", \"landcolor\": \"#E5ECF6\", \"showlakes\": true, \"showland\": true, \"subunitcolor\": \"white\"}, \"hoverlabel\": {\"align\": \"left\"}, \"hovermode\": \"closest\", \"mapbox\": {\"style\": \"light\"}, \"paper_bgcolor\": \"white\", \"plot_bgcolor\": \"#E5ECF6\", \"polar\": {\"angularaxis\": {\"gridcolor\": \"white\", \"linecolor\": \"white\", \"ticks\": \"\"}, \"bgcolor\": \"#E5ECF6\", \"radialaxis\": {\"gridcolor\": \"white\", \"linecolor\": \"white\", \"ticks\": \"\"}}, \"scene\": {\"xaxis\": {\"backgroundcolor\": \"#E5ECF6\", \"gridcolor\": \"white\", \"gridwidth\": 2, \"linecolor\": \"white\", \"showbackground\": true, \"ticks\": \"\", \"zerolinecolor\": \"white\"}, \"yaxis\": {\"backgroundcolor\": \"#E5ECF6\", \"gridcolor\": \"white\", \"gridwidth\": 2, \"linecolor\": \"white\", \"showbackground\": true, \"ticks\": \"\", \"zerolinecolor\": \"white\"}, \"zaxis\": {\"backgroundcolor\": \"#E5ECF6\", \"gridcolor\": \"white\", \"gridwidth\": 2, \"linecolor\": \"white\", \"showbackground\": true, \"ticks\": \"\", \"zerolinecolor\": \"white\"}}, \"shapedefaults\": {\"line\": {\"color\": \"#2a3f5f\"}}, \"ternary\": {\"aaxis\": {\"gridcolor\": \"white\", \"linecolor\": \"white\", \"ticks\": \"\"}, \"baxis\": {\"gridcolor\": \"white\", \"linecolor\": \"white\", \"ticks\": \"\"}, \"bgcolor\": \"#E5ECF6\", \"caxis\": {\"gridcolor\": \"white\", \"linecolor\": \"white\", \"ticks\": \"\"}}, \"title\": {\"x\": 0.05}, \"xaxis\": {\"automargin\": true, \"gridcolor\": \"white\", \"linecolor\": \"white\", \"ticks\": \"\", \"title\": {\"standoff\": 15}, \"zerolinecolor\": \"white\", \"zerolinewidth\": 2}, \"yaxis\": {\"automargin\": true, \"gridcolor\": \"white\", \"linecolor\": \"white\", \"ticks\": \"\", \"title\": {\"standoff\": 15}, \"zerolinecolor\": \"white\", \"zerolinewidth\": 2}}}, \"xaxis\": {\"title\": {\"text\": \"Lab Report Day\"}}, \"yaxis\": {\"title\": {\"text\": \"Peope Tested\"}}},\n",
       "                        {\"responsive\": true}\n",
       "                    ).then(function(){\n",
       "                            \n",
       "var gd = document.getElementById('f89c18b2-23d9-4347-a50f-be0dcd0f16c2');\n",
       "var x = new MutationObserver(function (mutations, observer) {{\n",
       "        var display = window.getComputedStyle(gd).display;\n",
       "        if (!display || display === 'none') {{\n",
       "            console.log([gd, 'removed!']);\n",
       "            Plotly.purge(gd);\n",
       "            observer.disconnect();\n",
       "        }}\n",
       "}});\n",
       "\n",
       "// Listen for the removal of the full notebook cells\n",
       "var notebookContainer = gd.closest('#notebook-container');\n",
       "if (notebookContainer) {{\n",
       "    x.observe(notebookContainer, {childList: true});\n",
       "}}\n",
       "\n",
       "// Listen for the clearing of the current output cell\n",
       "var outputEl = gd.closest('.output');\n",
       "if (outputEl) {{\n",
       "    x.observe(outputEl, {childList: true});\n",
       "}}\n",
       "\n",
       "                        })\n",
       "                };\n",
       "                });\n",
       "            </script>\n",
       "        </div>"
      ]
     },
     "metadata": {},
     "output_type": "display_data"
    }
   ],
   "source": [
    "fig = go.Figure(data=[\n",
    "    go.Bar(name='Negative', x=dates[2:], y=negative[2:]),\n",
    "    go.Bar(name='Positive', x=dates[2:], y=positive[2:])\n",
    "])\n",
    "# Change the bar mode\n",
    "fig.update_layout(barmode='stack')\n",
    "fig.update_layout(\n",
    "                   xaxis_title='Lab Report Day',\n",
    "                   yaxis_title='Peope Tested')\n",
    "fig.show()\n",
    "with open('../plotly/tested.json', 'w') as f:\n",
    "    f.write(fig.to_json())"
   ]
  },
  {
   "cell_type": "code",
   "execution_count": 128,
   "metadata": {},
   "outputs": [],
   "source": [
    "lastday_df = stacked_df.loc[stacked_df['Date of Infection'] == dates[-1]][:17]\n",
    "lastday_df = lastday_df.rename(columns = {\"Region\":\"res_nm_reg\"})\n",
    "#del lastday_df['Date of Infection']"
   ]
  },
  {
   "cell_type": "code",
   "execution_count": 137,
   "metadata": {},
   "outputs": [
    {
     "data": {
      "application/vnd.plotly.v1+json": {
       "config": {
        "plotlyServerURL": "https://plot.ly"
       },
       "data": [
        {
         "coloraxis": "coloraxis",
         "featureidkey": "properties.res_nm_reg",
         "geo": "geo",
         "geojson": {
          "features": [
           {
            "geometry": {
             "coordinates": [
              [
               [
                -75.521078,
                47.846988
               ],
               [
                -75.521328,
                47.763314
               ],
               [
                -75.308858,
                47.547632
               ],
               [
                -75.558812,
                47.207758
               ],
               [
                -75.796918,
                47.319068
               ],
               [
                -76.091496,
                47.188543
               ],
               [
                -76.130591,
                46.924539
               ],
               [
                -75.896777,
                46.817864
               ],
               [
                -75.747563,
                46.842662
               ],
               [
                -75.745234,
                46.438231
               ],
               [
                -75.788765,
                46.274808
               ],
               [
                -75.748112,
                45.972435
               ],
               [
                -75.408277,
                45.97322
               ],
               [
                -75.408148,
                46.097566
               ],
               [
                -74.939369,
                46.105915
               ],
               [
                -74.714402,
                45.8879
               ],
               [
                -74.807877,
                45.638399
               ],
               [
                -75.683908,
                45.459147
               ],
               [
                -75.863327,
                45.378637
               ],
               [
                -75.959496,
                45.465951
               ],
               [
                -76.205678,
                45.51791
               ],
               [
                -76.347222,
                45.456245
               ],
               [
                -76.656641,
                45.558558
               ],
               [
                -76.782695,
                45.874218
               ],
               [
                -76.993624,
                45.787639
               ],
               [
                -77.194378,
                45.86903
               ],
               [
                -77.277882,
                46.009395
               ],
               [
                -77.568477,
                46.157865
               ],
               [
                -77.841593,
                46.20636
               ],
               [
                -77.742892,
                46.409166
               ],
               [
                -77.828896,
                46.764638
               ],
               [
                -77.834224,
                46.771435
               ],
               [
                -77.887515,
                46.836003
               ],
               [
                -77.890685,
                46.842495
               ],
               [
                -77.891966,
                46.844478
               ],
               [
                -77.892402,
                46.853972
               ],
               [
                -77.850785,
                46.891076
               ],
               [
                -77.850058,
                46.884025
               ],
               [
                -77.844448,
                46.886294
               ],
               [
                -77.84366,
                46.896653
               ],
               [
                -77.834101,
                46.926713
               ],
               [
                -77.836447,
                46.934191
               ],
               [
                -77.860428,
                47.239651
               ],
               [
                -77.433071,
                47.290474
               ],
               [
                -77.433281,
                47.144924
               ],
               [
                -77.002301,
                47.145024
               ],
               [
                -77.001718,
                47.289943
               ],
               [
                -76.575914,
                47.289729
               ],
               [
                -76.575596,
                47.604154
               ],
               [
                -76.454455,
                47.622073
               ],
               [
                -76.451946,
                47.627699
               ],
               [
                -76.288937,
                47.681683
               ],
               [
                -76.289692,
                47.683687
               ],
               [
                -76.229669,
                47.73144
               ],
               [
                -75.837584,
                47.750306
               ],
               [
                -75.8341,
                47.749513
               ],
               [
                -75.81342,
                47.68064
               ],
               [
                -75.812205,
                47.67892
               ],
               [
                -75.811202,
                47.674356
               ],
               [
                -75.810177,
                47.67167
               ],
               [
                -75.782192,
                47.799428
               ],
               [
                -75.780107,
                47.800688
               ],
               [
                -75.521078,
                47.846988
               ]
              ]
             ],
             "type": "Polygon"
            },
            "id": 12,
            "properties": {
             "area": 3.99614361096536,
             "cartodb_id": 10,
             "perimeter": 15.4275800017612,
             "regio_s_": 11,
             "regio_s_id": 12,
             "res_co_ref": "BDGA1M",
             "res_co_reg": 7,
             "res_co_ver": "V2012-05",
             "res_de_ind": "RÃ©gion administrative",
             "res_nm_reg": "07-Outauais",
             "res_no_ind": "50 02 0100 000"
            },
            "type": "Feature"
           },
           {
            "geometry": {
             "coordinates": [
              [
               [
                -72.07341,
                47.949997
               ],
               [
                -72.123555,
                47.998509
               ],
               [
                -73.017829,
                47.998663
               ],
               [
                -74.471679,
                48.945649
               ],
               [
                -74.420869,
                48.925683
               ],
               [
                -74.41643,
                48.925868
               ],
               [
                -74.402448,
                48.923826
               ],
               [
                -74.396992,
                48.926784
               ],
               [
                -74.279062,
                49.000026
               ],
               [
                -74.289071,
                49.00669
               ],
               [
                -74.227998,
                49.218962
               ],
               [
                -74.314451,
                49.260076
               ],
               [
                -74.314645,
                49.266932
               ],
               [
                -74.372596,
                49.311446
               ],
               [
                -74.372024,
                49.314222
               ],
               [
                -74.407789,
                49.427228
               ],
               [
                -74.247109,
                49.564582
               ],
               [
                -73.895668,
                49.945404
               ],
               [
                -73.896492,
                49.952643
               ],
               [
                -73.778651,
                50.081098
               ],
               [
                -73.750269,
                50.230163
               ],
               [
                -73.74554,
                50.232972
               ],
               [
                -73.551879,
                50.364399
               ],
               [
                -73.541397,
                50.36738
               ],
               [
                -73.306574,
                50.611597
               ],
               [
                -73.30154,
                50.614383
               ],
               [
                -73.149666,
                50.747545
               ],
               [
                -73.019848,
                50.668756
               ],
               [
                -73.01826,
                50.670501
               ],
               [
                -72.863413,
                50.804071
               ],
               [
                -72.85882,
                50.810156
               ],
               [
                -72.855975,
                50.81184
               ],
               [
                -72.842828,
                50.810644
               ],
               [
                -72.75607,
                50.819404
               ],
               [
                -72.751628,
                50.818176
               ],
               [
                -72.602482,
                50.814747
               ],
               [
                -72.601113,
                50.831484
               ],
               [
                -72.599596,
                50.837254
               ],
               [
                -72.598438,
                50.839056
               ],
               [
                -72.541758,
                50.757474
               ],
               [
                -72.533808,
                50.75494
               ],
               [
                -72.534238,
                50.747853
               ],
               [
                -72.53324,
                50.746069
               ],
               [
                -72.509938,
                50.747318
               ],
               [
                -72.500216,
                50.747245
               ],
               [
                -72.376146,
                50.886885
               ],
               [
                -72.370661,
                50.88857
               ],
               [
                -72.161703,
                50.978119
               ],
               [
                -72.118311,
                51.105061
               ],
               [
                -71.837837,
                51.355642
               ],
               [
                -71.583528,
                51.510729
               ],
               [
                -71.57795,
                51.516338
               ],
               [
                -71.570951,
                51.530783
               ],
               [
                -71.572969,
                51.536908
               ],
               [
                -71.580903,
                51.57797
               ],
               [
                -71.57877,
                51.581075
               ],
               [
                -71.616985,
                51.615556
               ],
               [
                -71.612674,
                51.621228
               ],
               [
                -71.551188,
                51.827533
               ],
               [
                -71.376365,
                51.845963
               ],
               [
                -71.246359,
                52.070431
               ],
               [
                -70.967297,
                52.231721
               ],
               [
                -70.961298,
                52.235813
               ],
               [
                -70.279659,
                52.353398
               ],
               [
                -70.277413,
                52.426716
               ],
               [
                -70.273153,
                52.431986
               ],
               [
                -70.219026,
                52.554111
               ],
               [
                -70.227242,
                52.554116
               ],
               [
                -70.237541,
                52.559448
               ],
               [
                -70.237324,
                52.56694
               ],
               [
                -70.216784,
                52.711207
               ],
               [
                -70.029906,
                52.832544
               ],
               [
                -70.02479,
                52.000079
               ],
               [
                -70.025553,
                50.750063
               ],
               [
                -70.010424,
                49.796526
               ],
               [
                -70.010523,
                49.000001
               ],
               [
                -70.018179,
                48.256731
               ],
               [
                -69.871054,
                48.186107
               ],
               [
                -69.956127,
                48.056784
               ],
               [
                -70.172546,
                48.128806
               ],
               [
                -70.263326,
                47.994919
               ],
               [
                -71.41121,
                47.995934
               ],
               [
                -71.379536,
                47.950024
               ],
               [
                -72.07341,
                47.949997
               ]
              ]
             ],
             "type": "Polygon"
            },
            "id": 6,
            "properties": {
             "area": 13.298006548304,
             "cartodb_id": 4,
             "perimeter": 19.7857933261279,
             "regio_s_": 5,
             "regio_s_id": 6,
             "res_co_ref": "BDGA1M",
             "res_co_reg": 2,
             "res_co_ver": "V2012-05",
             "res_de_ind": "Région administrative",
             "res_nm_reg": "02- Saguenay-Lac-Saint-Jean",
             "res_no_ind": "50 02 0100 000"
            },
            "type": "Feature"
           },
           {
            "geometry": {
             "coordinates": [
              [
               [
                -67.153341,
                49.189062
               ],
               [
                -66.563434,
                49.539165
               ],
               [
                -66.295707,
                49.64523
               ],
               [
                -66.000015,
                49.704048
               ],
               [
                -65.395762,
                49.699742
               ],
               [
                -64.910024,
                49.61016
               ],
               [
                -64.595671,
                49.509706
               ],
               [
                -64.163784,
                49.319935
               ],
               [
                -63.600509,
                48.968992
               ],
               [
                -62.999129,
                48.666683
               ],
               [
                -61.749088,
                48.666663
               ],
               [
                -60.468609,
                48.666663
               ],
               [
                -60.403772,
                47.761098
               ],
               [
                -60.762679,
                47.423328
               ],
               [
                -60.991849,
                47.329432
               ],
               [
                -61.350481,
                47.009723
               ],
               [
                -61.399367,
                46.839999
               ],
               [
                -62.299956,
                46.839999
               ],
               [
                -62.98636,
                47.139728
               ],
               [
                -63.791667,
                48.220564
               ],
               [
                -64.421965,
                48.220568
               ],
               [
                -65.111678,
                47.921103
               ],
               [
                -65.536139,
                47.828607
               ],
               [
                -65.606408,
                47.933611
               ],
               [
                -65.858147,
                48.022234
               ],
               [
                -66.302721,
                48.032746
               ],
               [
                -66.452257,
                48.08721
               ],
               [
                -66.699094,
                48.005315
               ],
               [
                -66.916487,
                47.984707
               ],
               [
                -67.209206,
                47.875818
               ],
               [
                -67.392456,
                47.866956
               ],
               [
                -67.598344,
                48.000066
               ],
               [
                -67.5867,
                48.042391
               ],
               [
                -67.588931,
                48.04974
               ],
               [
                -67.666615,
                48.118412
               ],
               [
                -67.374601,
                48.194887
               ],
               [
                -67.277586,
                48.031515
               ],
               [
                -66.879578,
                48.136958
               ],
               [
                -66.974198,
                48.303186
               ],
               [
                -65.948463,
                48.567122
               ],
               [
                -66.537875,
                48.95834
               ],
               [
                -66.698123,
                48.964179
               ],
               [
                -66.698745,
                48.967353
               ],
               [
                -66.70181,
                48.984814
               ],
               [
                -66.700265,
                48.987354
               ],
               [
                -66.83247,
                48.985116
               ],
               [
                -67.153341,
                49.189062
               ]
              ]
             ],
             "type": "Polygon"
            },
            "id": 7,
            "properties": {
             "area": 9.48314959730072,
             "cartodb_id": 5,
             "perimeter": 20.8678792455471,
             "regio_s_": 6,
             "regio_s_id": 7,
             "res_co_ref": "BDGA1M",
             "res_co_reg": 11,
             "res_co_ver": "V2012-05",
             "res_de_ind": "Région administrative",
             "res_nm_reg": "11- Gaspesie-Iles-de-la-Madelaine",
             "res_no_ind": "50 02 0100 000"
            },
            "type": "Feature"
           },
           {
            "geometry": {
             "coordinates": [
              [
               [
                -75.521078,
                47.846988
               ],
               [
                -75.780107,
                47.800688
               ],
               [
                -75.782192,
                47.799428
               ],
               [
                -75.810177,
                47.67167
               ],
               [
                -75.811202,
                47.674356
               ],
               [
                -75.812205,
                47.67892
               ],
               [
                -75.81342,
                47.68064
               ],
               [
                -75.8341,
                47.749513
               ],
               [
                -75.837584,
                47.750306
               ],
               [
                -76.229669,
                47.73144
               ],
               [
                -76.289692,
                47.683687
               ],
               [
                -76.288937,
                47.681683
               ],
               [
                -76.451946,
                47.627699
               ],
               [
                -76.454455,
                47.622073
               ],
               [
                -76.575596,
                47.604154
               ],
               [
                -76.575914,
                47.289729
               ],
               [
                -77.001718,
                47.289943
               ],
               [
                -77.002301,
                47.145024
               ],
               [
                -77.433281,
                47.144924
               ],
               [
                -77.433071,
                47.290474
               ],
               [
                -77.860428,
                47.239651
               ],
               [
                -77.836447,
                46.934191
               ],
               [
                -77.834101,
                46.926713
               ],
               [
                -77.84366,
                46.896653
               ],
               [
                -77.844448,
                46.886294
               ],
               [
                -77.850058,
                46.884025
               ],
               [
                -77.850785,
                46.891076
               ],
               [
                -77.892402,
                46.853972
               ],
               [
                -77.891966,
                46.844478
               ],
               [
                -77.890685,
                46.842495
               ],
               [
                -77.887515,
                46.836003
               ],
               [
                -77.834224,
                46.771435
               ],
               [
                -77.828896,
                46.764638
               ],
               [
                -77.742892,
                46.409166
               ],
               [
                -77.841593,
                46.20636
               ],
               [
                -78.129115,
                46.272815
               ],
               [
                -78.692863,
                46.31873
               ],
               [
                -78.987859,
                46.547015
               ],
               [
                -79.168966,
                46.823485
               ],
               [
                -79.446562,
                47.110438
               ],
               [
                -79.428976,
                47.240774
               ],
               [
                -79.579327,
                47.432637
               ],
               [
                -79.517205,
                47.533414
               ],
               [
                -79.517764,
                49.009109
               ],
               [
                -79.053418,
                49.000045
               ],
               [
                -76.999737,
                48.999999
               ],
               [
                -75.520551,
                49.000016
               ],
               [
                -75.521078,
                47.846988
               ]
              ]
             ],
             "type": "Polygon"
            },
            "id": 9,
            "properties": {
             "area": 7.78473054972107,
             "cartodb_id": 7,
             "perimeter": 14.9638243152797,
             "regio_s_": 8,
             "regio_s_id": 9,
             "res_co_ref": "BDGA1M",
             "res_co_reg": 8,
             "res_co_ver": "V2012-05",
             "res_de_ind": "Région administrative",
             "res_nm_reg": "08-Abititi-Temiscaminigue",
             "res_no_ind": "50 02 0100 000"
            },
            "type": "Feature"
           },
           {
            "geometry": {
             "coordinates": [
              [
               [
                -74.471679,
                48.945649
               ],
               [
                -73.017829,
                47.998663
               ],
               [
                -72.123555,
                47.998509
               ],
               [
                -72.07341,
                47.949997
               ],
               [
                -71.890536,
                47.770179
               ],
               [
                -72.238828,
                47.536571
               ],
               [
                -72.145723,
                47.399614
               ],
               [
                -72.239878,
                47.290108
               ],
               [
                -72.50337,
                47.311941
               ],
               [
                -72.540745,
                47.190662
               ],
               [
                -72.435868,
                47.057484
               ],
               [
                -72.167602,
                46.874224
               ],
               [
                -72.392221,
                46.791376
               ],
               [
                -72.082727,
                46.57015
               ],
               [
                -72.198901,
                46.532325
               ],
               [
                -72.21268,
                46.520967
               ],
               [
                -72.267698,
                46.433635
               ],
               [
                -72.936232,
                46.151217
               ],
               [
                -73.216489,
                46.279333
               ],
               [
                -73.167306,
                46.382865
               ],
               [
                -73.333101,
                46.498727
               ],
               [
                -73.536358,
                46.865513
               ],
               [
                -73.543432,
                46.866338
               ],
               [
                -73.570849,
                46.871483
               ],
               [
                -73.573687,
                46.869887
               ],
               [
                -73.66083,
                46.894617
               ],
               [
                -73.65012,
                46.938033
               ],
               [
                -73.853208,
                47.151075
               ],
               [
                -74.028553,
                47.177965
               ],
               [
                -73.975508,
                47.364768
               ],
               [
                -73.972952,
                47.370797
               ],
               [
                -74.511525,
                47.762906
               ],
               [
                -74.889411,
                47.762619
               ],
               [
                -75.521328,
                47.763314
               ],
               [
                -75.521078,
                47.846988
               ],
               [
                -75.520551,
                49.000016
               ],
               [
                -74.55934,
                48.999925
               ],
               [
                -74.471679,
                48.945649
               ]
              ]
             ],
             "type": "Polygon"
            },
            "id": 10,
            "properties": {
             "area": 4.78751317999797,
             "cartodb_id": 8,
             "perimeter": 13.1966772376706,
             "regio_s_": 9,
             "regio_s_id": 10,
             "res_co_ref": "BDGA1M",
             "res_co_reg": 4,
             "res_co_ver": "V2012-05",
             "res_de_ind": "Région administrative",
             "res_nm_reg": "04-Mauricie",
             "res_no_ind": "50 02 0100 000"
            },
            "type": "Feature"
           },
           {
            "geometry": {
             "coordinates": [
              [
               [
                -72.07341,
                47.949997
               ],
               [
                -71.379536,
                47.950024
               ],
               [
                -71.41121,
                47.995934
               ],
               [
                -70.263326,
                47.994919
               ],
               [
                -70.172546,
                48.128806
               ],
               [
                -69.956127,
                48.056784
               ],
               [
                -69.871054,
                48.186107
               ],
               [
                -69.548369,
                48.049451
               ],
               [
                -69.656537,
                47.99422
               ],
               [
                -69.893749,
                47.701311
               ],
               [
                -70.198248,
                47.411201
               ],
               [
                -70.454932,
                47.253498
               ],
               [
                -70.716252,
                46.993868
               ],
               [
                -71.000352,
                46.84744
               ],
               [
                -71.115357,
                46.839533
               ],
               [
                -71.128385,
                46.8377
               ],
               [
                -71.283693,
                46.746726
               ],
               [
                -71.690822,
                46.649837
               ],
               [
                -71.870955,
                46.677671
               ],
               [
                -72.054301,
                46.570497
               ],
               [
                -72.066825,
                46.569761
               ],
               [
                -72.082727,
                46.57015
               ],
               [
                -72.392221,
                46.791376
               ],
               [
                -72.167602,
                46.874224
               ],
               [
                -72.435868,
                47.057484
               ],
               [
                -72.540745,
                47.190662
               ],
               [
                -72.50337,
                47.311941
               ],
               [
                -72.239878,
                47.290108
               ],
               [
                -72.145723,
                47.399614
               ],
               [
                -72.238828,
                47.536571
               ],
               [
                -71.890536,
                47.770179
               ],
               [
                -72.07341,
                47.949997
               ]
              ]
             ],
             "type": "Polygon"
            },
            "id": 11,
            "properties": {
             "area": 2.49937337388851,
             "cartodb_id": 9,
             "perimeter": 8.81817210239763,
             "regio_s_": 10,
             "regio_s_id": 11,
             "res_co_ref": "BDGA1M",
             "res_co_reg": 3,
             "res_co_ver": "V2012-05",
             "res_de_ind": "Région administrative",
             "res_nm_reg": "03- Capitale-Nationale",
             "res_no_ind": "50 02 0100 000"
            },
            "type": "Feature"
           },
           {
            "geometry": {
             "coordinates": [
              [
               [
                -75.521328,
                47.763314
               ],
               [
                -74.889411,
                47.762619
               ],
               [
                -74.5078,
                47.502208
               ],
               [
                -74.507743,
                47.502935
               ],
               [
                -74.619692,
                47.251113
               ],
               [
                -74.415157,
                47.100723
               ],
               [
                -74.57475,
                46.997571
               ],
               [
                -74.427279,
                46.896617
               ],
               [
                -74.508932,
                46.646535
               ],
               [
                -74.508288,
                46.642451
               ],
               [
                -74.503725,
                46.640022
               ],
               [
                -74.499065,
                46.639045
               ],
               [
                -74.491004,
                46.593768
               ],
               [
                -74.488473,
                46.596463
               ],
               [
                -74.445787,
                46.620477
               ],
               [
                -74.423104,
                46.605517
               ],
               [
                -74.38517,
                46.578771
               ],
               [
                -74.376332,
                46.527668
               ],
               [
                -74.477748,
                46.454113
               ],
               [
                -74.412684,
                46.298891
               ],
               [
                -74.182687,
                46.250042
               ],
               [
                -74.03304,
                46.148714
               ],
               [
                -73.935392,
                45.944243
               ],
               [
                -73.937068,
                45.925236
               ],
               [
                -73.759062,
                45.727893
               ],
               [
                -73.761411,
                45.714365
               ],
               [
                -73.744881,
                45.668642
               ],
               [
                -73.895779,
                45.525458
               ],
               [
                -73.977851,
                45.46442
               ],
               [
                -73.990063,
                45.459525
               ],
               [
                -73.996551,
                45.457488
               ],
               [
                -74.339075,
                45.513261
               ],
               [
                -74.380758,
                45.565982
               ],
               [
                -74.629351,
                45.63829
               ],
               [
                -74.807877,
                45.638399
               ],
               [
                -74.714402,
                45.8879
               ],
               [
                -74.939369,
                46.105915
               ],
               [
                -75.408148,
                46.097566
               ],
               [
                -75.408277,
                45.97322
               ],
               [
                -75.748112,
                45.972435
               ],
               [
                -75.788765,
                46.274808
               ],
               [
                -75.745234,
                46.438231
               ],
               [
                -75.747563,
                46.842662
               ],
               [
                -75.896777,
                46.817864
               ],
               [
                -76.130591,
                46.924539
               ],
               [
                -76.091496,
                47.188543
               ],
               [
                -75.796918,
                47.319068
               ],
               [
                -75.558812,
                47.207758
               ],
               [
                -75.308858,
                47.547632
               ],
               [
                -75.521328,
                47.763314
               ]
              ]
             ],
             "type": "Polygon"
            },
            "id": 13,
            "properties": {
             "area": 2.64627784216984,
             "cartodb_id": 11,
             "perimeter": 12.0473497358836,
             "regio_s_": 12,
             "regio_s_id": 13,
             "res_co_ref": "BDGA1M",
             "res_co_reg": 15,
             "res_co_ver": "V2012-05",
             "res_de_ind": "Région administrative",
             "res_nm_reg": "15- Laurentides",
             "res_no_ind": "50 02 0100 000"
            },
            "type": "Feature"
           },
           {
            "geometry": {
             "coordinates": [
              [
               [
                -70.198248,
                47.411201
               ],
               [
                -70.003487,
                47.278656
               ],
               [
                -69.985984,
                47.285714
               ],
               [
                -69.625519,
                47.06655
               ],
               [
                -69.997359,
                46.695246
               ],
               [
                -70.057197,
                46.416557
               ],
               [
                -70.208698,
                46.329344
               ],
               [
                -70.315785,
                46.020046
               ],
               [
                -70.242194,
                45.938925
               ],
               [
                -70.413606,
                45.795991
               ],
               [
                -70.895614,
                45.780022
               ],
               [
                -70.899805,
                45.886751
               ],
               [
                -71.461258,
                45.816568
               ],
               [
                -71.68617,
                45.966808
               ],
               [
                -71.509741,
                46.137326
               ],
               [
                -71.478962,
                46.395879
               ],
               [
                -71.617519,
                46.451759
               ],
               [
                -71.759723,
                46.363955
               ],
               [
                -72.054301,
                46.570497
               ],
               [
                -71.870955,
                46.677671
               ],
               [
                -71.690822,
                46.649837
               ],
               [
                -71.283693,
                46.746726
               ],
               [
                -71.128385,
                46.8377
               ],
               [
                -71.115357,
                46.839533
               ],
               [
                -71.000352,
                46.84744
               ],
               [
                -70.716252,
                46.993868
               ],
               [
                -70.454932,
                47.253498
               ],
               [
                -70.198248,
                47.411201
               ]
              ]
             ],
             "type": "Polygon"
            },
            "id": 15,
            "properties": {
             "area": 1.89098805979165,
             "cartodb_id": 13,
             "perimeter": 8.20535335218676,
             "regio_s_": 14,
             "regio_s_id": 15,
             "res_co_ref": "BDGA1M",
             "res_co_reg": 12,
             "res_co_ver": "V2012-05",
             "res_de_ind": "Région administrative",
             "res_nm_reg": "Chaudière-Appalaches",
             "res_no_ind": "50 02 0100 000"
            },
            "type": "Feature"
           },
           {
            "geometry": {
             "coordinates": [
              [
               [
                -74.889411,
                47.762619
               ],
               [
                -74.511525,
                47.762906
               ],
               [
                -73.972952,
                47.370797
               ],
               [
                -73.975508,
                47.364768
               ],
               [
                -74.028553,
                47.177965
               ],
               [
                -73.853208,
                47.151075
               ],
               [
                -73.65012,
                46.938033
               ],
               [
                -73.66083,
                46.894617
               ],
               [
                -73.573687,
                46.869887
               ],
               [
                -73.570849,
                46.871483
               ],
               [
                -73.543432,
                46.866338
               ],
               [
                -73.536358,
                46.865513
               ],
               [
                -73.333101,
                46.498727
               ],
               [
                -73.167306,
                46.382865
               ],
               [
                -73.216489,
                46.279333
               ],
               [
                -72.936232,
                46.151217
               ],
               [
                -72.992102,
                46.111805
               ],
               [
                -73.158932,
                46.043609
               ],
               [
                -73.290566,
                45.831375
               ],
               [
                -73.474364,
                45.700024
               ],
               [
                -73.523106,
                45.69786
               ],
               [
                -73.744881,
                45.668642
               ],
               [
                -73.761411,
                45.714365
               ],
               [
                -73.759062,
                45.727893
               ],
               [
                -73.937068,
                45.925236
               ],
               [
                -73.935392,
                45.944243
               ],
               [
                -74.03304,
                46.148714
               ],
               [
                -74.182687,
                46.250042
               ],
               [
                -74.412684,
                46.298891
               ],
               [
                -74.477748,
                46.454113
               ],
               [
                -74.376332,
                46.527668
               ],
               [
                -74.38517,
                46.578771
               ],
               [
                -74.423104,
                46.605517
               ],
               [
                -74.445787,
                46.620477
               ],
               [
                -74.488473,
                46.596463
               ],
               [
                -74.491004,
                46.593768
               ],
               [
                -74.499065,
                46.639045
               ],
               [
                -74.503725,
                46.640022
               ],
               [
                -74.508288,
                46.642451
               ],
               [
                -74.508932,
                46.646535
               ],
               [
                -74.427279,
                46.896617
               ],
               [
                -74.57475,
                46.997571
               ],
               [
                -74.415157,
                47.100723
               ],
               [
                -74.619692,
                47.251113
               ],
               [
                -74.507743,
                47.502935
               ],
               [
                -74.5078,
                47.502208
               ],
               [
                -74.889411,
                47.762619
               ]
              ]
             ],
             "type": "Polygon"
            },
            "id": 14,
            "properties": {
             "area": 1.58700910317102,
             "cartodb_id": 12,
             "perimeter": 9.01209725042588,
             "regio_s_": 13,
             "regio_s_id": 14,
             "res_co_ref": "BDGA1M",
             "res_co_reg": 14,
             "res_co_ver": "V2012-05",
             "res_de_ind": "Région administrative",
             "res_nm_reg": "14- Lanaudiere",
             "res_no_ind": "50 02 0100 000"
            },
            "type": "Feature"
           },
           {
            "geometry": {
             "coordinates": [
              [
               [
                -72.992102,
                46.111805
               ],
               [
                -72.752495,
                45.942799
               ],
               [
                -72.852977,
                45.86388
               ],
               [
                -72.577873,
                45.752622
               ],
               [
                -72.315602,
                45.599234
               ],
               [
                -72.350469,
                45.589009
               ],
               [
                -72.359986,
                45.589036
               ],
               [
                -72.454557,
                45.451383
               ],
               [
                -72.403368,
                45.155766
               ],
               [
                -72.485017,
                45.008814
               ],
               [
                -73.068118,
                45.015872
               ],
               [
                -74.148943,
                44.991358
               ],
               [
                -74.495201,
                45.064735
               ],
               [
                -74.318803,
                45.187976
               ],
               [
                -74.472294,
                45.302813
               ],
               [
                -74.380758,
                45.565982
               ],
               [
                -74.339075,
                45.513261
               ],
               [
                -73.996551,
                45.457488
               ],
               [
                -73.822172,
                45.385406
               ],
               [
                -73.559613,
                45.419082
               ],
               [
                -73.474364,
                45.700024
               ],
               [
                -73.290566,
                45.831375
               ],
               [
                -73.158932,
                46.043609
               ],
               [
                -72.992102,
                46.111805
               ]
              ]
             ],
             "type": "Polygon"
            },
            "id": 17,
            "properties": {
             "area": 1.36183178555221,
             "cartodb_id": 15,
             "perimeter": 7.09129879389589,
             "regio_s_": 16,
             "regio_s_id": 17,
             "res_co_ref": "BDGA1M",
             "res_co_reg": 16,
             "res_co_ver": "V2012-05",
             "res_de_ind": "Région administrative",
             "res_nm_reg": "16- Monteregie",
             "res_no_ind": "50 02 0100 000"
            },
            "type": "Feature"
           },
           {
            "geometry": {
             "coordinates": [
              [
               [
                -71.461258,
                45.816568
               ],
               [
                -70.899805,
                45.886751
               ],
               [
                -70.895614,
                45.780022
               ],
               [
                -70.413606,
                45.795991
               ],
               [
                -70.645443,
                45.606152
               ],
               [
                -70.825525,
                45.400367
               ],
               [
                -71.228181,
                45.249407
               ],
               [
                -71.384778,
                45.233288
               ],
               [
                -71.500556,
                45.013252
               ],
               [
                -72.485017,
                45.008814
               ],
               [
                -72.403368,
                45.155766
               ],
               [
                -72.454557,
                45.451383
               ],
               [
                -72.359986,
                45.589036
               ],
               [
                -72.350469,
                45.589009
               ],
               [
                -72.315602,
                45.599234
               ],
               [
                -72.029639,
                45.85343
               ],
               [
                -71.798933,
                45.858038
               ],
               [
                -71.780876,
                45.875051
               ],
               [
                -71.461258,
                45.816568
               ]
              ]
             ],
             "type": "Polygon"
            },
            "id": 18,
            "properties": {
             "area": 1.20899519667971,
             "cartodb_id": 16,
             "perimeter": 7.28698953467045,
             "regio_s_": 17,
             "regio_s_id": 18,
             "res_co_ref": "BDGA1M",
             "res_co_reg": 5,
             "res_co_ver": "V2012-05",
             "res_de_ind": "Région administrative",
             "res_nm_reg": "05-Estrie",
             "res_no_ind": "50 02 0100 000"
            },
            "type": "Feature"
           },
           {
            "geometry": {
             "coordinates": [
              [
               [
                -70.029906,
                52.832544
               ],
               [
                -70.216784,
                52.711207
               ],
               [
                -70.237324,
                52.56694
               ],
               [
                -70.237541,
                52.559448
               ],
               [
                -70.227242,
                52.554116
               ],
               [
                -70.219026,
                52.554111
               ],
               [
                -70.273153,
                52.431986
               ],
               [
                -70.277413,
                52.426716
               ],
               [
                -70.279659,
                52.353398
               ],
               [
                -70.961298,
                52.235813
               ],
               [
                -70.967297,
                52.231721
               ],
               [
                -71.246359,
                52.070431
               ],
               [
                -71.376365,
                51.845963
               ],
               [
                -71.551188,
                51.827533
               ],
               [
                -71.612674,
                51.621228
               ],
               [
                -71.616985,
                51.615556
               ],
               [
                -71.57877,
                51.581075
               ],
               [
                -71.580903,
                51.57797
               ],
               [
                -71.572969,
                51.536908
               ],
               [
                -71.570951,
                51.530783
               ],
               [
                -71.57795,
                51.516338
               ],
               [
                -71.583528,
                51.510729
               ],
               [
                -71.837837,
                51.355642
               ],
               [
                -72.118311,
                51.105061
               ],
               [
                -72.161703,
                50.978119
               ],
               [
                -72.370661,
                50.88857
               ],
               [
                -72.376146,
                50.886885
               ],
               [
                -72.500216,
                50.747245
               ],
               [
                -72.509938,
                50.747318
               ],
               [
                -72.53324,
                50.746069
               ],
               [
                -72.534238,
                50.747853
               ],
               [
                -72.533808,
                50.75494
               ],
               [
                -72.541758,
                50.757474
               ],
               [
                -72.598438,
                50.839056
               ],
               [
                -72.599596,
                50.837254
               ],
               [
                -72.601113,
                50.831484
               ],
               [
                -72.602482,
                50.814747
               ],
               [
                -72.751628,
                50.818176
               ],
               [
                -72.75607,
                50.819404
               ],
               [
                -72.842828,
                50.810644
               ],
               [
                -72.855975,
                50.81184
               ],
               [
                -72.85882,
                50.810156
               ],
               [
                -72.863413,
                50.804071
               ],
               [
                -73.01826,
                50.670501
               ],
               [
                -73.019848,
                50.668756
               ],
               [
                -73.149666,
                50.747545
               ],
               [
                -73.30154,
                50.614383
               ],
               [
                -73.306574,
                50.611597
               ],
               [
                -73.541397,
                50.36738
               ],
               [
                -73.551879,
                50.364399
               ],
               [
                -73.74554,
                50.232972
               ],
               [
                -73.750269,
                50.230163
               ],
               [
                -73.778651,
                50.081098
               ],
               [
                -73.896492,
                49.952643
               ],
               [
                -73.895668,
                49.945404
               ],
               [
                -74.247109,
                49.564582
               ],
               [
                -74.407789,
                49.427228
               ],
               [
                -74.372024,
                49.314222
               ],
               [
                -74.372596,
                49.311446
               ],
               [
                -74.314645,
                49.266932
               ],
               [
                -74.314451,
                49.260076
               ],
               [
                -74.227998,
                49.218962
               ],
               [
                -74.289071,
                49.00669
               ],
               [
                -74.279062,
                49.000026
               ],
               [
                -74.396992,
                48.926784
               ],
               [
                -74.402448,
                48.923826
               ],
               [
                -74.41643,
                48.925868
               ],
               [
                -74.420869,
                48.925683
               ],
               [
                -74.471679,
                48.945649
               ],
               [
                -74.55934,
                48.999925
               ],
               [
                -75.520551,
                49.000016
               ],
               [
                -76.999737,
                48.999999
               ],
               [
                -79.053418,
                49.000045
               ],
               [
                -79.517764,
                49.009109
               ],
               [
                -79.517778,
                49.750087
               ],
               [
                -79.517782,
                50.749782
               ],
               [
                -79.518348,
                51.582765
               ],
               [
                -79.216599,
                51.64224
               ],
               [
                -78.97984,
                51.461542
               ],
               [
                -78.8012,
                51.47268
               ],
               [
                -78.85079,
                51.616359
               ],
               [
                -79.048087,
                51.764299
               ],
               [
                -78.892221,
                51.9468
               ],
               [
                -78.779781,
                51.969912
               ],
               [
                -78.559298,
                52.160636
               ],
               [
                -78.516069,
                52.332222
               ],
               [
                -78.589509,
                52.517228
               ],
               [
                -78.761621,
                52.540806
               ],
               [
                -78.997057,
                53.094311
               ],
               [
                -78.983656,
                53.399893
               ],
               [
                -79.139357,
                53.493777
               ],
               [
                -79.06147,
                53.613062
               ],
               [
                -79.105933,
                53.903362
               ],
               [
                -79.480179,
                54.233108
               ],
               [
                -79.533899,
                54.519204
               ],
               [
                -79.654207,
                54.689571
               ],
               [
                -79.004662,
                54.83803
               ],
               [
                -78.318669,
                55.041928
               ],
               [
                -77.78361,
                55.268906
               ],
               [
                -77.252517,
                55.577846
               ],
               [
                -77.196747,
                55.669994
               ],
               [
                -76.689674,
                56.049426
               ],
               [
                -76.547842,
                56.302428
               ],
               [
                -76.532224,
                56.798183
               ],
               [
                -76.575855,
                57.128172
               ],
               [
                -76.697944,
                57.435416
               ],
               [
                -77.091539,
                57.939337
               ],
               [
                -77.650514,
                58.263961
               ],
               [
                -78.207122,
                58.404029
               ],
               [
                -78.240246,
                58.495866
               ],
               [
                -78.587222,
                58.648907
               ],
               [
                -78.577592,
                58.917305
               ],
               [
                -77.989747,
                59.262379
               ],
               [
                -77.835235,
                59.588562
               ],
               [
                -77.84815,
                59.726042
               ],
               [
                -77.54479,
                59.756544
               ],
               [
                -77.46729,
                59.918075
               ],
               [
                -77.624387,
                60.054652
               ],
               [
                -77.607278,
                60.292636
               ],
               [
                -78.07599,
                60.791496
               ],
               [
                -78.10992,
                60.917371
               ],
               [
                -77.858235,
                61.053848
               ],
               [
                -77.743741,
                61.259786
               ],
               [
                -77.88746,
                61.623668
               ],
               [
                -78.000007,
                61.692107
               ],
               [
                -78.202012,
                62.254555
               ],
               [
                -78.086497,
                62.362423
               ],
               [
                -77.506116,
                62.582171
               ],
               [
                -76.930718,
                62.537763
               ],
               [
                -76.524456,
                62.443992
               ],
               [
                -75.580695,
                62.286842
               ],
               [
                -75.340345,
                62.317039
               ],
               [
                -74.967923,
                62.265525
               ],
               [
                -74.423074,
                62.242752
               ],
               [
                -74.004542,
                62.365341
               ],
               [
                -73.831326,
                62.459269
               ],
               [
                -73.224515,
                62.322815
               ],
               [
                -73.044368,
                62.202256
               ],
               [
                -72.613396,
                62.112375
               ],
               [
                -72.595276,
                61.976047
               ],
               [
                -72.180093,
                61.85322
               ],
               [
                -72.032175,
                61.731028
               ],
               [
                -71.62851,
                61.653167
               ],
               [
                -71.565604,
                61.544934
               ],
               [
                -71.607302,
                61.262205
               ],
               [
                -71.313338,
                61.153081
               ],
               [
                -70.667132,
                61.055773
               ],
               [
                -70.298932,
                61.101411
               ],
               [
                -69.964086,
                60.945368
               ],
               [
                -69.758506,
                60.917128
               ],
               [
                -69.592277,
                61.081513
               ],
               [
                -69.371593,
                60.916188
               ],
               [
                -69.371451,
                60.79946
               ],
               [
                -69.674783,
                60.673021
               ],
               [
                -69.717298,
                60.40712
               ],
               [
                -69.542288,
                60.094026
               ],
               [
                -69.49501,
                59.611084
               ],
               [
                -69.626464,
                59.471705
               ],
               [
                -69.232263,
                59.346558
               ],
               [
                -69.205631,
                59.223358
               ],
               [
                -68.892257,
                58.924126
               ],
               [
                -68.552048,
                58.941038
               ],
               [
                -68.260454,
                58.823208
               ],
               [
                -68.268268,
                58.616334
               ],
               [
                -68.00256,
                58.590248
               ],
               [
                -67.365056,
                58.31443
               ],
               [
                -66.938354,
                58.515877
               ],
               [
                -66.78029,
                58.501722
               ],
               [
                -66.573738,
                58.665141
               ],
               [
                -66.4834,
                58.857892
               ],
               [
                -66.095088,
                58.861308
               ],
               [
                -65.989371,
                58.918389
               ],
               [
                -65.80651,
                59.209121
               ],
               [
                -65.848893,
                59.283289
               ],
               [
                -65.526989,
                59.469633
               ],
               [
                -65.433076,
                59.588142
               ],
               [
                -65.566606,
                59.690521
               ],
               [
                -65.463741,
                59.815967
               ],
               [
                -65.235871,
                59.925633
               ],
               [
                -65.142601,
                60.063364
               ],
               [
                -64.855821,
                60.268343
               ],
               [
                -64.642658,
                59.906278
               ],
               [
                -64.818186,
                59.821003
               ],
               [
                -64.751401,
                59.725478
               ],
               [
                -64.838986,
                59.554562
               ],
               [
                -64.510789,
                59.421548
               ],
               [
                -64.471064,
                59.179491
               ],
               [
                -64.26522,
                59.01681
               ],
               [
                -64.226498,
                58.783589
               ],
               [
                -63.681534,
                58.880981
               ],
               [
                -63.497759,
                58.745886
               ],
               [
                -63.94783,
                58.689451
               ],
               [
                -64.143259,
                58.601834
               ],
               [
                -63.985802,
                58.442829
               ],
               [
                -64.168456,
                58.364842
               ],
               [
                -64.25609,
                58.224024
               ],
               [
                -64.423654,
                58.193974
               ],
               [
                -64.407753,
                58.062696
               ],
               [
                -64.193215,
                57.932683
               ],
               [
                -63.901728,
                57.913835
               ],
               [
                -63.883302,
                57.716043
               ],
               [
                -63.697963,
                57.36678
               ],
               [
                -63.881318,
                57.268014
               ],
               [
                -63.766982,
                57.143241
               ],
               [
                -63.899353,
                57.079276
               ],
               [
                -63.910478,
                56.925497
               ],
               [
                -64.142895,
                56.704203
               ],
               [
                -63.943953,
                56.540104
               ],
               [
                -63.934837,
                56.265269
               ],
               [
                -64.008251,
                56.076014
               ],
               [
                -63.730528,
                56.068031
               ],
               [
                -63.547381,
                56.005863
               ],
               [
                -63.845131,
                55.886814
               ],
               [
                -63.709229,
                55.754368
               ],
               [
                -63.644633,
                55.286198
               ],
               [
                -63.550617,
                55.19001
               ],
               [
                -63.553921,
                55.000047
               ],
               [
                -64.750002,
                54.999996
               ],
               [
                -66.259781,
                55.000009
               ],
               [
                -66.609089,
                55.269845
               ],
               [
                -66.762782,
                55.136899
               ],
               [
                -66.642917,
                55.000063
               ],
               [
                -68.250018,
                54.999987
               ],
               [
                -70.029883,
                55.000136
               ],
               [
                -70.029708,
                54.000024
               ],
               [
                -70.029906,
                52.832544
               ]
              ]
             ],
             "type": "Polygon"
            },
            "id": 1,
            "properties": {
             "area": 124.08686903197,
             "cartodb_id": 19,
             "perimeter": 94.6754067058214,
             "regio_s_": 20,
             "regio_s_id": 1,
             "res_co_ref": "BDGA1M",
             "res_co_reg": 10,
             "res_co_ver": "V2012-05",
             "res_de_ind": "Région administrative",
             "res_nm_reg": "10-Nord-du-Quebec",
             "res_no_ind": "50 02 0100 000"
            },
            "type": "Feature"
           },
           {
            "geometry": {
             "coordinates": [
              [
               [
                -73.523106,
                45.69786
               ],
               [
                -73.474364,
                45.700024
               ],
               [
                -73.559613,
                45.419082
               ],
               [
                -73.822172,
                45.385406
               ],
               [
                -73.996551,
                45.457488
               ],
               [
                -73.990063,
                45.459525
               ],
               [
                -73.977851,
                45.46442
               ],
               [
                -73.895779,
                45.525458
               ],
               [
                -73.732746,
                45.531604
               ],
               [
                -73.726358,
                45.534538
               ],
               [
                -73.523106,
                45.69786
               ]
              ]
             ],
             "type": "Polygon"
            },
            "id": 19,
            "properties": {
             "area": 0.0719384128928997,
             "cartodb_id": 17,
             "perimeter": 1.46897572891785,
             "regio_s_": 18,
             "regio_s_id": 19,
             "res_co_ref": "BDGA1M",
             "res_co_reg": 6,
             "res_co_ver": "V2012-05",
             "res_de_ind": "Région administrative",
             "res_nm_reg": "06-Montreal",
             "res_no_ind": "50 02 0100 000"
            },
            "type": "Feature"
           },
           {
            "geometry": {
             "coordinates": [
              [
               [
                [
                 -60.468609,
                 48.666663
                ],
                [
                 -61.999092,
                 48.666676
                ],
                [
                 -62.999129,
                 48.666683
                ],
                [
                 -63.600509,
                 48.968992
                ],
                [
                 -64.163784,
                 49.319935
                ],
                [
                 -64.595671,
                 49.509706
                ],
                [
                 -65.095087,
                 49.652753
                ],
                [
                 -65.645385,
                 49.717895
                ],
                [
                 -66.000015,
                 49.704048
                ],
                [
                 -66.48767,
                 49.575425
                ],
                [
                 -67.153341,
                 49.189062
                ],
                [
                 -67.592507,
                 49.078342
                ],
                [
                 -68.173272,
                 48.881427
                ],
                [
                 -68.723464,
                 48.621039
                ],
                [
                 -69.234461,
                 48.291093
                ],
                [
                 -69.548369,
                 48.049451
                ],
                [
                 -70.077876,
                 48.252828
                ],
                [
                 -70.007992,
                 48.357004
                ],
                [
                 -70.010424,
                 49.796526
                ],
                [
                 -70.025553,
                 50.750063
                ],
                [
                 -70.02479,
                 52.000079
                ],
                [
                 -70.029896,
                 52.916605
                ],
                [
                 -70.029883,
                 55.000136
                ],
                [
                 -69,
                 55.000117
                ],
                [
                 -67.41416,
                 54.994108
                ],
                [
                 -67.053178,
                 54.695712
                ],
                [
                 -67.304721,
                 54.514433
                ],
                [
                 -67.670849,
                 54.446101
                ],
                [
                 -67.725908,
                 54.334933
                ],
                [
                 -67.634491,
                 54.159846
                ],
                [
                 -67.809196,
                 54.017238
                ],
                [
                 -67.588854,
                 53.917925
                ],
                [
                 -67.565856,
                 53.794452
                ],
                [
                 -67.212496,
                 53.539563
                ],
                [
                 -67.028292,
                 53.533339
                ],
                [
                 -66.913542,
                 53.420893
                ],
                [
                 -66.968385,
                 53.203975
                ],
                [
                 -67.383275,
                 53.08794
                ],
                [
                 -67.340285,
                 52.893365
                ],
                [
                 -66.899719,
                 52.686938
                ],
                [
                 -66.416261,
                 52.846906
                ],
                [
                 -66.314061,
                 52.732515
                ],
                [
                 -66.438777,
                 52.623627
                ],
                [
                 -66.343028,
                 52.398622
                ],
                [
                 -66.4844,
                 52.348634
                ],
                [
                 -66.097613,
                 52.200563
                ],
                [
                 -66.090954,
                 52.108479
                ],
                [
                 -65.673164,
                 52.120423
                ],
                [
                 -65.198951,
                 52.260113
                ],
                [
                 -64.83546,
                 52.034965
                ],
                [
                 -64.71066,
                 51.873309
                ],
                [
                 -64.774169,
                 51.804733
                ],
                [
                 -64.557126,
                 51.580661
                ],
                [
                 -64.286166,
                 51.727896
                ],
                [
                 -64.36103,
                 51.864222
                ],
                [
                 -64.33689,
                 52.009271
                ],
                [
                 -64.200549,
                 52.176679
                ],
                [
                 -64.252993,
                 52.274969
                ],
                [
                 -64.107507,
                 52.407321
                ],
                [
                 -64.176955,
                 52.585072
                ],
                [
                 -64.148678,
                 52.728806
                ],
                [
                 -63.722772,
                 52.773221
                ],
                [
                 -63.567018,
                 52.944469
                ],
                [
                 -63.446819,
                 52.944523
                ],
                [
                 -62.963909,
                 52.758547
                ],
                [
                 -62.611145,
                 52.79977
                ],
                [
                 -62.336163,
                 52.736907
                ],
                [
                 -62.15596,
                 52.780601
                ],
                [
                 -61.70826,
                 52.573288
                ],
                [
                 -61.2725,
                 52.513978
                ],
                [
                 -60.947423,
                 52.36681
                ],
                [
                 -60.564327,
                 52.318835
                ],
                [
                 -60.517378,
                 52.454503
                ],
                [
                 -59.96797,
                 52.496555
                ],
                [
                 -59.83671,
                 52.662084
                ],
                [
                 -59.512005,
                 52.612942
                ],
                [
                 -59.316081,
                 52.626663
                ],
                [
                 -59.138521,
                 52.516299
                ],
                [
                 -58.730084,
                 52.481882
                ],
                [
                 -58.56987,
                 52.652822
                ],
                [
                 -58.326417,
                 52.690593
                ],
                [
                 -58.077696,
                 52.544371
                ],
                [
                 -57.979881,
                 52.431115
                ],
                [
                 -57.739883,
                 52.370728
                ],
                [
                 -57.296976,
                 52.09591
                ],
                [
                 -56.981755,
                 52.030747
                ],
                [
                 -57.107498,
                 51.805965
                ],
                [
                 -57.107482,
                 51.202493
                ],
                [
                 -57.736141,
                 50.998608
                ],
                [
                 -58.940366,
                 49.84861
                ],
                [
                 -60,
                 49.112579
                ],
                [
                 -60.476819,
                 48.781392
                ],
                [
                 -60.468609,
                 48.666663
                ]
               ]
              ],
              [
               [
                [
                 -66.72991,
                 54.973408
                ],
                [
                 -66.597631,
                 54.812183
                ],
                [
                 -66.670161,
                 54.712626
                ],
                [
                 -66.946476,
                 54.817491
                ],
                [
                 -67.218818,
                 55.000107
                ],
                [
                 -66.72991,
                 54.973408
                ]
               ]
              ],
              [
               [
                [
                 -63.563353,
                 54.98803
                ],
                [
                 -63.786125,
                 54.949003
                ],
                [
                 -63.909794,
                 54.784361
                ],
                [
                 -63.763296,
                 54.698498
                ],
                [
                 -64.052221,
                 54.597304
                ],
                [
                 -64.324983,
                 54.77317
                ],
                [
                 -64.600434,
                 54.731281
                ],
                [
                 -64.964562,
                 54.932565
                ],
                [
                 -65.427553,
                 54.747206
                ],
                [
                 -65.679536,
                 54.705263
                ],
                [
                 -65.919348,
                 54.937431
                ],
                [
                 -65.374133,
                 55.000096
                ],
                [
                 -63.563353,
                 54.98803
                ]
               ]
              ],
              [
               [
                [
                 -66.84942,
                 55.306585
                ],
                [
                 -66.765893,
                 55.248563
                ],
                [
                 -66.782005,
                 55.041497
                ],
                [
                 -67.048984,
                 55.230236
                ],
                [
                 -66.84942,
                 55.306585
                ]
               ]
              ]
             ],
             "type": "MultiPolygon"
            },
            "id": 2,
            "properties": {
             "area": 0.000753085700268219,
             "cartodb_id": 1,
             "perimeter": 0.151935634889039,
             "regio_s_": 2,
             "regio_s_id": 2,
             "res_co_ref": "BDGA1M",
             "res_co_reg": 9,
             "res_co_ver": "V2012-05",
             "res_de_ind": "Région administrative",
             "res_nm_reg": "9-Cote-Nord",
             "res_no_ind": "50 02 0100 000"
            },
            "type": "Feature"
           },
           {
            "geometry": {
             "coordinates": [
              [
               [
                -67.153341,
                49.189062
               ],
               [
                -66.83247,
                48.985116
               ],
               [
                -66.700265,
                48.987354
               ],
               [
                -66.70181,
                48.984814
               ],
               [
                -66.698745,
                48.967353
               ],
               [
                -66.698123,
                48.964179
               ],
               [
                -66.537875,
                48.95834
               ],
               [
                -65.948463,
                48.567122
               ],
               [
                -66.974198,
                48.303186
               ],
               [
                -66.879578,
                48.136958
               ],
               [
                -67.277586,
                48.031515
               ],
               [
                -67.374601,
                48.194887
               ],
               [
                -67.666615,
                48.118412
               ],
               [
                -67.588931,
                48.04974
               ],
               [
                -67.5867,
                48.042391
               ],
               [
                -67.598344,
                48.000066
               ],
               [
                -68.122856,
                48.000061
               ],
               [
                -68.122785,
                47.916561
               ],
               [
                -68.383141,
                47.916615
               ],
               [
                -68.38295,
                47.553498
               ],
               [
                -68.569408,
                47.427049
               ],
               [
                -69.051087,
                47.300133
               ],
               [
                -69.032042,
                47.408305
               ],
               [
                -69.229788,
                47.454624
               ],
               [
                -69.625519,
                47.06655
               ],
               [
                -69.985984,
                47.285714
               ],
               [
                -70.003487,
                47.278656
               ],
               [
                -70.198248,
                47.411201
               ],
               [
                -69.893749,
                47.701311
               ],
               [
                -69.656537,
                47.99422
               ],
               [
                -69.548369,
                48.049451
               ],
               [
                -69.234461,
                48.291093
               ],
               [
                -68.723464,
                48.621039
               ],
               [
                -68.093746,
                48.909451
               ],
               [
                -67.592507,
                49.078342
               ],
               [
                -67.153341,
                49.189062
               ]
              ]
             ],
             "type": "Polygon"
            },
            "id": 8,
            "properties": {
             "area": 3.43782496715336,
             "cartodb_id": 6,
             "perimeter": 11.2654083386742,
             "regio_s_": 7,
             "regio_s_id": 8,
             "res_co_ref": "BDGA1M",
             "res_co_reg": 1,
             "res_co_ver": "V2012-05",
             "res_de_ind": "Région administrative",
             "res_nm_reg": "01-Bas-Saint-Laurent",
             "res_no_ind": "50 02 0100 000"
            },
            "type": "Feature"
           },
           {
            "geometry": {
             "coordinates": [
              [
               [
                -73.744881,
                45.668642
               ],
               [
                -73.523106,
                45.69786
               ],
               [
                -73.726358,
                45.534538
               ],
               [
                -73.732746,
                45.531604
               ],
               [
                -73.895779,
                45.525458
               ],
               [
                -73.744881,
                45.668642
               ]
              ]
             ],
             "type": "Polygon"
            },
            "id": 20,
            "properties": {
             "area": 0.0307859846863181,
             "cartodb_id": 18,
             "perimeter": 0.931105008023468,
             "regio_s_": 19,
             "regio_s_id": 20,
             "res_co_ref": "BDGA1M",
             "res_co_reg": 13,
             "res_co_ver": "V2012-05",
             "res_de_ind": "Région administrative",
             "res_nm_reg": "13- Laval",
             "res_no_ind": "50 02 0100 000"
            },
            "type": "Feature"
           },
           {
            "geometry": {
             "coordinates": [
              [
               [
                -72.082727,
                46.57015
               ],
               [
                -72.066825,
                46.569761
               ],
               [
                -72.054301,
                46.570497
               ],
               [
                -71.759723,
                46.363955
               ],
               [
                -71.617519,
                46.451759
               ],
               [
                -71.478962,
                46.395879
               ],
               [
                -71.509741,
                46.137326
               ],
               [
                -71.68617,
                45.966808
               ],
               [
                -71.461258,
                45.816568
               ],
               [
                -71.780876,
                45.875051
               ],
               [
                -71.798933,
                45.858038
               ],
               [
                -72.029639,
                45.85343
               ],
               [
                -72.315602,
                45.599234
               ],
               [
                -72.577873,
                45.752622
               ],
               [
                -72.852977,
                45.86388
               ],
               [
                -72.752495,
                45.942799
               ],
               [
                -72.992102,
                46.111805
               ],
               [
                -72.936232,
                46.151217
               ],
               [
                -72.267698,
                46.433635
               ],
               [
                -72.21268,
                46.520967
               ],
               [
                -72.198901,
                46.532325
               ],
               [
                -72.082727,
                46.57015
               ]
              ]
             ],
             "type": "Polygon"
            },
            "id": 16,
            "properties": {
             "area": 0.844851321836394,
             "cartodb_id": 14,
             "perimeter": 5.40454763380291,
             "regio_s_": 15,
             "regio_s_id": 16,
             "res_co_ref": "BDGA1M",
             "res_co_reg": 17,
             "res_co_ver": "V2012-05",
             "res_de_ind": "Région administrative",
             "res_nm_reg": "17- Centre du Quebec",
             "res_no_ind": "50 02 0100 000"
            },
            "type": "Feature"
           }
          ],
          "type": "FeatureCollection"
         },
         "hoverlabel": {
          "namelength": 0
         },
         "hovertemplate": "res_nm_reg=%{location}<br>Total Number of Cases=%{z}",
         "locations": [
          "01-Bas-Saint-Laurent",
          "02- Saguenay-Lac-Saint-Jean",
          "03- Capitale-Nationale",
          "04-Mauricie",
          "05-Estrie",
          "06-Montreal",
          "07-Outauais",
          "08-Abititi-Temiscaminigue",
          "9-Cote-Nord",
          "10-Nord-du-Quebec",
          "11- Gaspesie-Iles-de-la-Madelaine",
          "12-Chaudiere-Appalaches",
          "13- Laval",
          "14- Lanaudiere",
          "15- Laurentides",
          "16- Monteregie",
          "17- Centre du Quebec"
         ],
         "name": "",
         "type": "choropleth",
         "z": [
          6,
          8,
          95,
          35,
          169,
          603,
          13,
          5,
          2,
          1,
          7,
          46,
          83,
          68,
          50,
          148,
          0
         ]
        }
       ],
       "layout": {
        "coloraxis": {
         "colorbar": {
          "title": {
           "text": "Total Number of Cases"
          }
         },
         "colorscale": [
          [
           0,
           "rgb(247,251,255)"
          ],
          [
           0.125,
           "rgb(222,235,247)"
          ],
          [
           0.25,
           "rgb(198,219,239)"
          ],
          [
           0.375,
           "rgb(158,202,225)"
          ],
          [
           0.5,
           "rgb(107,174,214)"
          ],
          [
           0.625,
           "rgb(66,146,198)"
          ],
          [
           0.75,
           "rgb(33,113,181)"
          ],
          [
           0.875,
           "rgb(8,81,156)"
          ],
          [
           1,
           "rgb(8,48,107)"
          ]
         ]
        },
        "geo": {
         "center": {},
         "domain": {
          "x": [
           0,
           1
          ],
          "y": [
           0,
           1
          ]
         },
         "fitbounds": "locations",
         "projection": {
          "type": "mercator"
         },
         "visible": false
        },
        "legend": {
         "tracegroupgap": 0
        },
        "margin": {
         "t": 60
        },
        "template": {
         "data": {
          "bar": [
           {
            "error_x": {
             "color": "#2a3f5f"
            },
            "error_y": {
             "color": "#2a3f5f"
            },
            "marker": {
             "line": {
              "color": "#E5ECF6",
              "width": 0.5
             }
            },
            "type": "bar"
           }
          ],
          "barpolar": [
           {
            "marker": {
             "line": {
              "color": "#E5ECF6",
              "width": 0.5
             }
            },
            "type": "barpolar"
           }
          ],
          "carpet": [
           {
            "aaxis": {
             "endlinecolor": "#2a3f5f",
             "gridcolor": "white",
             "linecolor": "white",
             "minorgridcolor": "white",
             "startlinecolor": "#2a3f5f"
            },
            "baxis": {
             "endlinecolor": "#2a3f5f",
             "gridcolor": "white",
             "linecolor": "white",
             "minorgridcolor": "white",
             "startlinecolor": "#2a3f5f"
            },
            "type": "carpet"
           }
          ],
          "choropleth": [
           {
            "colorbar": {
             "outlinewidth": 0,
             "ticks": ""
            },
            "type": "choropleth"
           }
          ],
          "contour": [
           {
            "colorbar": {
             "outlinewidth": 0,
             "ticks": ""
            },
            "colorscale": [
             [
              0,
              "#0d0887"
             ],
             [
              0.1111111111111111,
              "#46039f"
             ],
             [
              0.2222222222222222,
              "#7201a8"
             ],
             [
              0.3333333333333333,
              "#9c179e"
             ],
             [
              0.4444444444444444,
              "#bd3786"
             ],
             [
              0.5555555555555556,
              "#d8576b"
             ],
             [
              0.6666666666666666,
              "#ed7953"
             ],
             [
              0.7777777777777778,
              "#fb9f3a"
             ],
             [
              0.8888888888888888,
              "#fdca26"
             ],
             [
              1,
              "#f0f921"
             ]
            ],
            "type": "contour"
           }
          ],
          "contourcarpet": [
           {
            "colorbar": {
             "outlinewidth": 0,
             "ticks": ""
            },
            "type": "contourcarpet"
           }
          ],
          "heatmap": [
           {
            "colorbar": {
             "outlinewidth": 0,
             "ticks": ""
            },
            "colorscale": [
             [
              0,
              "#0d0887"
             ],
             [
              0.1111111111111111,
              "#46039f"
             ],
             [
              0.2222222222222222,
              "#7201a8"
             ],
             [
              0.3333333333333333,
              "#9c179e"
             ],
             [
              0.4444444444444444,
              "#bd3786"
             ],
             [
              0.5555555555555556,
              "#d8576b"
             ],
             [
              0.6666666666666666,
              "#ed7953"
             ],
             [
              0.7777777777777778,
              "#fb9f3a"
             ],
             [
              0.8888888888888888,
              "#fdca26"
             ],
             [
              1,
              "#f0f921"
             ]
            ],
            "type": "heatmap"
           }
          ],
          "heatmapgl": [
           {
            "colorbar": {
             "outlinewidth": 0,
             "ticks": ""
            },
            "colorscale": [
             [
              0,
              "#0d0887"
             ],
             [
              0.1111111111111111,
              "#46039f"
             ],
             [
              0.2222222222222222,
              "#7201a8"
             ],
             [
              0.3333333333333333,
              "#9c179e"
             ],
             [
              0.4444444444444444,
              "#bd3786"
             ],
             [
              0.5555555555555556,
              "#d8576b"
             ],
             [
              0.6666666666666666,
              "#ed7953"
             ],
             [
              0.7777777777777778,
              "#fb9f3a"
             ],
             [
              0.8888888888888888,
              "#fdca26"
             ],
             [
              1,
              "#f0f921"
             ]
            ],
            "type": "heatmapgl"
           }
          ],
          "histogram": [
           {
            "marker": {
             "colorbar": {
              "outlinewidth": 0,
              "ticks": ""
             }
            },
            "type": "histogram"
           }
          ],
          "histogram2d": [
           {
            "colorbar": {
             "outlinewidth": 0,
             "ticks": ""
            },
            "colorscale": [
             [
              0,
              "#0d0887"
             ],
             [
              0.1111111111111111,
              "#46039f"
             ],
             [
              0.2222222222222222,
              "#7201a8"
             ],
             [
              0.3333333333333333,
              "#9c179e"
             ],
             [
              0.4444444444444444,
              "#bd3786"
             ],
             [
              0.5555555555555556,
              "#d8576b"
             ],
             [
              0.6666666666666666,
              "#ed7953"
             ],
             [
              0.7777777777777778,
              "#fb9f3a"
             ],
             [
              0.8888888888888888,
              "#fdca26"
             ],
             [
              1,
              "#f0f921"
             ]
            ],
            "type": "histogram2d"
           }
          ],
          "histogram2dcontour": [
           {
            "colorbar": {
             "outlinewidth": 0,
             "ticks": ""
            },
            "colorscale": [
             [
              0,
              "#0d0887"
             ],
             [
              0.1111111111111111,
              "#46039f"
             ],
             [
              0.2222222222222222,
              "#7201a8"
             ],
             [
              0.3333333333333333,
              "#9c179e"
             ],
             [
              0.4444444444444444,
              "#bd3786"
             ],
             [
              0.5555555555555556,
              "#d8576b"
             ],
             [
              0.6666666666666666,
              "#ed7953"
             ],
             [
              0.7777777777777778,
              "#fb9f3a"
             ],
             [
              0.8888888888888888,
              "#fdca26"
             ],
             [
              1,
              "#f0f921"
             ]
            ],
            "type": "histogram2dcontour"
           }
          ],
          "mesh3d": [
           {
            "colorbar": {
             "outlinewidth": 0,
             "ticks": ""
            },
            "type": "mesh3d"
           }
          ],
          "parcoords": [
           {
            "line": {
             "colorbar": {
              "outlinewidth": 0,
              "ticks": ""
             }
            },
            "type": "parcoords"
           }
          ],
          "pie": [
           {
            "automargin": true,
            "type": "pie"
           }
          ],
          "scatter": [
           {
            "marker": {
             "colorbar": {
              "outlinewidth": 0,
              "ticks": ""
             }
            },
            "type": "scatter"
           }
          ],
          "scatter3d": [
           {
            "line": {
             "colorbar": {
              "outlinewidth": 0,
              "ticks": ""
             }
            },
            "marker": {
             "colorbar": {
              "outlinewidth": 0,
              "ticks": ""
             }
            },
            "type": "scatter3d"
           }
          ],
          "scattercarpet": [
           {
            "marker": {
             "colorbar": {
              "outlinewidth": 0,
              "ticks": ""
             }
            },
            "type": "scattercarpet"
           }
          ],
          "scattergeo": [
           {
            "marker": {
             "colorbar": {
              "outlinewidth": 0,
              "ticks": ""
             }
            },
            "type": "scattergeo"
           }
          ],
          "scattergl": [
           {
            "marker": {
             "colorbar": {
              "outlinewidth": 0,
              "ticks": ""
             }
            },
            "type": "scattergl"
           }
          ],
          "scattermapbox": [
           {
            "marker": {
             "colorbar": {
              "outlinewidth": 0,
              "ticks": ""
             }
            },
            "type": "scattermapbox"
           }
          ],
          "scatterpolar": [
           {
            "marker": {
             "colorbar": {
              "outlinewidth": 0,
              "ticks": ""
             }
            },
            "type": "scatterpolar"
           }
          ],
          "scatterpolargl": [
           {
            "marker": {
             "colorbar": {
              "outlinewidth": 0,
              "ticks": ""
             }
            },
            "type": "scatterpolargl"
           }
          ],
          "scatterternary": [
           {
            "marker": {
             "colorbar": {
              "outlinewidth": 0,
              "ticks": ""
             }
            },
            "type": "scatterternary"
           }
          ],
          "surface": [
           {
            "colorbar": {
             "outlinewidth": 0,
             "ticks": ""
            },
            "colorscale": [
             [
              0,
              "#0d0887"
             ],
             [
              0.1111111111111111,
              "#46039f"
             ],
             [
              0.2222222222222222,
              "#7201a8"
             ],
             [
              0.3333333333333333,
              "#9c179e"
             ],
             [
              0.4444444444444444,
              "#bd3786"
             ],
             [
              0.5555555555555556,
              "#d8576b"
             ],
             [
              0.6666666666666666,
              "#ed7953"
             ],
             [
              0.7777777777777778,
              "#fb9f3a"
             ],
             [
              0.8888888888888888,
              "#fdca26"
             ],
             [
              1,
              "#f0f921"
             ]
            ],
            "type": "surface"
           }
          ],
          "table": [
           {
            "cells": {
             "fill": {
              "color": "#EBF0F8"
             },
             "line": {
              "color": "white"
             }
            },
            "header": {
             "fill": {
              "color": "#C8D4E3"
             },
             "line": {
              "color": "white"
             }
            },
            "type": "table"
           }
          ]
         },
         "layout": {
          "annotationdefaults": {
           "arrowcolor": "#2a3f5f",
           "arrowhead": 0,
           "arrowwidth": 1
          },
          "coloraxis": {
           "colorbar": {
            "outlinewidth": 0,
            "ticks": ""
           }
          },
          "colorscale": {
           "diverging": [
            [
             0,
             "#8e0152"
            ],
            [
             0.1,
             "#c51b7d"
            ],
            [
             0.2,
             "#de77ae"
            ],
            [
             0.3,
             "#f1b6da"
            ],
            [
             0.4,
             "#fde0ef"
            ],
            [
             0.5,
             "#f7f7f7"
            ],
            [
             0.6,
             "#e6f5d0"
            ],
            [
             0.7,
             "#b8e186"
            ],
            [
             0.8,
             "#7fbc41"
            ],
            [
             0.9,
             "#4d9221"
            ],
            [
             1,
             "#276419"
            ]
           ],
           "sequential": [
            [
             0,
             "#0d0887"
            ],
            [
             0.1111111111111111,
             "#46039f"
            ],
            [
             0.2222222222222222,
             "#7201a8"
            ],
            [
             0.3333333333333333,
             "#9c179e"
            ],
            [
             0.4444444444444444,
             "#bd3786"
            ],
            [
             0.5555555555555556,
             "#d8576b"
            ],
            [
             0.6666666666666666,
             "#ed7953"
            ],
            [
             0.7777777777777778,
             "#fb9f3a"
            ],
            [
             0.8888888888888888,
             "#fdca26"
            ],
            [
             1,
             "#f0f921"
            ]
           ],
           "sequentialminus": [
            [
             0,
             "#0d0887"
            ],
            [
             0.1111111111111111,
             "#46039f"
            ],
            [
             0.2222222222222222,
             "#7201a8"
            ],
            [
             0.3333333333333333,
             "#9c179e"
            ],
            [
             0.4444444444444444,
             "#bd3786"
            ],
            [
             0.5555555555555556,
             "#d8576b"
            ],
            [
             0.6666666666666666,
             "#ed7953"
            ],
            [
             0.7777777777777778,
             "#fb9f3a"
            ],
            [
             0.8888888888888888,
             "#fdca26"
            ],
            [
             1,
             "#f0f921"
            ]
           ]
          },
          "colorway": [
           "#636efa",
           "#EF553B",
           "#00cc96",
           "#ab63fa",
           "#FFA15A",
           "#19d3f3",
           "#FF6692",
           "#B6E880",
           "#FF97FF",
           "#FECB52"
          ],
          "font": {
           "color": "#2a3f5f"
          },
          "geo": {
           "bgcolor": "white",
           "lakecolor": "white",
           "landcolor": "#E5ECF6",
           "showlakes": true,
           "showland": true,
           "subunitcolor": "white"
          },
          "hoverlabel": {
           "align": "left"
          },
          "hovermode": "closest",
          "mapbox": {
           "style": "light"
          },
          "paper_bgcolor": "white",
          "plot_bgcolor": "#E5ECF6",
          "polar": {
           "angularaxis": {
            "gridcolor": "white",
            "linecolor": "white",
            "ticks": ""
           },
           "bgcolor": "#E5ECF6",
           "radialaxis": {
            "gridcolor": "white",
            "linecolor": "white",
            "ticks": ""
           }
          },
          "scene": {
           "xaxis": {
            "backgroundcolor": "#E5ECF6",
            "gridcolor": "white",
            "gridwidth": 2,
            "linecolor": "white",
            "showbackground": true,
            "ticks": "",
            "zerolinecolor": "white"
           },
           "yaxis": {
            "backgroundcolor": "#E5ECF6",
            "gridcolor": "white",
            "gridwidth": 2,
            "linecolor": "white",
            "showbackground": true,
            "ticks": "",
            "zerolinecolor": "white"
           },
           "zaxis": {
            "backgroundcolor": "#E5ECF6",
            "gridcolor": "white",
            "gridwidth": 2,
            "linecolor": "white",
            "showbackground": true,
            "ticks": "",
            "zerolinecolor": "white"
           }
          },
          "shapedefaults": {
           "line": {
            "color": "#2a3f5f"
           }
          },
          "ternary": {
           "aaxis": {
            "gridcolor": "white",
            "linecolor": "white",
            "ticks": ""
           },
           "baxis": {
            "gridcolor": "white",
            "linecolor": "white",
            "ticks": ""
           },
           "bgcolor": "#E5ECF6",
           "caxis": {
            "gridcolor": "white",
            "linecolor": "white",
            "ticks": ""
           }
          },
          "title": {
           "x": 0.05
          },
          "xaxis": {
           "automargin": true,
           "gridcolor": "white",
           "linecolor": "white",
           "ticks": "",
           "title": {
            "standoff": 15
           },
           "zerolinecolor": "white",
           "zerolinewidth": 2
          },
          "yaxis": {
           "automargin": true,
           "gridcolor": "white",
           "linecolor": "white",
           "ticks": "",
           "title": {
            "standoff": 15
           },
           "zerolinecolor": "white",
           "zerolinewidth": 2
          }
         }
        }
       }
      },
      "text/html": [
       "<div>\n",
       "        \n",
       "        \n",
       "            <div id=\"7316c3d6-bcf7-44c8-9dfb-071f0e3e69d9\" class=\"plotly-graph-div\" style=\"height:525px; width:100%;\"></div>\n",
       "            <script type=\"text/javascript\">\n",
       "                require([\"plotly\"], function(Plotly) {\n",
       "                    window.PLOTLYENV=window.PLOTLYENV || {};\n",
       "                    \n",
       "                if (document.getElementById(\"7316c3d6-bcf7-44c8-9dfb-071f0e3e69d9\")) {\n",
       "                    Plotly.newPlot(\n",
       "                        '7316c3d6-bcf7-44c8-9dfb-071f0e3e69d9',\n",
       "                        [{\"coloraxis\": \"coloraxis\", \"featureidkey\": \"properties.res_nm_reg\", \"geo\": \"geo\", \"geojson\": {\"features\": [{\"geometry\": {\"coordinates\": [[[-75.521078, 47.846988], [-75.521328, 47.763314], [-75.308858, 47.547632], [-75.558812, 47.207758], [-75.796918, 47.319068], [-76.091496, 47.188543], [-76.130591, 46.924539], [-75.896777, 46.817864], [-75.747563, 46.842662], [-75.745234, 46.438231], [-75.788765, 46.274808], [-75.748112, 45.972435], [-75.408277, 45.97322], [-75.408148, 46.097566], [-74.939369, 46.105915], [-74.714402, 45.8879], [-74.807877, 45.638399], [-75.683908, 45.459147], [-75.863327, 45.378637], [-75.959496, 45.465951], [-76.205678, 45.51791], [-76.347222, 45.456245], [-76.656641, 45.558558], [-76.782695, 45.874218], [-76.993624, 45.787639], [-77.194378, 45.86903], [-77.277882, 46.009395], [-77.568477, 46.157865], [-77.841593, 46.20636], [-77.742892, 46.409166], [-77.828896, 46.764638], [-77.834224, 46.771435], [-77.887515, 46.836003], [-77.890685, 46.842495], [-77.891966, 46.844478], [-77.892402, 46.853972], [-77.850785, 46.891076], [-77.850058, 46.884025], [-77.844448, 46.886294], [-77.84366, 46.896653], [-77.834101, 46.926713], [-77.836447, 46.934191], [-77.860428, 47.239651], [-77.433071, 47.290474], [-77.433281, 47.144924], [-77.002301, 47.145024], [-77.001718, 47.289943], [-76.575914, 47.289729], [-76.575596, 47.604154], [-76.454455, 47.622073], [-76.451946, 47.627699], [-76.288937, 47.681683], [-76.289692, 47.683687], [-76.229669, 47.73144], [-75.837584, 47.750306], [-75.8341, 47.749513], [-75.81342, 47.68064], [-75.812205, 47.67892], [-75.811202, 47.674356], [-75.810177, 47.67167], [-75.782192, 47.799428], [-75.780107, 47.800688], [-75.521078, 47.846988]]], \"type\": \"Polygon\"}, \"id\": 12, \"properties\": {\"area\": 3.99614361096536, \"cartodb_id\": 10, \"perimeter\": 15.4275800017612, \"regio_s_\": 11, \"regio_s_id\": 12, \"res_co_ref\": \"BDGA1M\", \"res_co_reg\": 7, \"res_co_ver\": \"V2012-05\", \"res_de_ind\": \"R\\u00c3\\u00a9gion administrative\", \"res_nm_reg\": \"07-Outauais\", \"res_no_ind\": \"50 02 0100 000\"}, \"type\": \"Feature\"}, {\"geometry\": {\"coordinates\": [[[-72.07341, 47.949997], [-72.123555, 47.998509], [-73.017829, 47.998663], [-74.471679, 48.945649], [-74.420869, 48.925683], [-74.41643, 48.925868], [-74.402448, 48.923826], [-74.396992, 48.926784], [-74.279062, 49.000026], [-74.289071, 49.00669], [-74.227998, 49.218962], [-74.314451, 49.260076], [-74.314645, 49.266932], [-74.372596, 49.311446], [-74.372024, 49.314222], [-74.407789, 49.427228], [-74.247109, 49.564582], [-73.895668, 49.945404], [-73.896492, 49.952643], [-73.778651, 50.081098], [-73.750269, 50.230163], [-73.74554, 50.232972], [-73.551879, 50.364399], [-73.541397, 50.36738], [-73.306574, 50.611597], [-73.30154, 50.614383], [-73.149666, 50.747545], [-73.019848, 50.668756], [-73.01826, 50.670501], [-72.863413, 50.804071], [-72.85882, 50.810156], [-72.855975, 50.81184], [-72.842828, 50.810644], [-72.75607, 50.819404], [-72.751628, 50.818176], [-72.602482, 50.814747], [-72.601113, 50.831484], [-72.599596, 50.837254], [-72.598438, 50.839056], [-72.541758, 50.757474], [-72.533808, 50.75494], [-72.534238, 50.747853], [-72.53324, 50.746069], [-72.509938, 50.747318], [-72.500216, 50.747245], [-72.376146, 50.886885], [-72.370661, 50.88857], [-72.161703, 50.978119], [-72.118311, 51.105061], [-71.837837, 51.355642], [-71.583528, 51.510729], [-71.57795, 51.516338], [-71.570951, 51.530783], [-71.572969, 51.536908], [-71.580903, 51.57797], [-71.57877, 51.581075], [-71.616985, 51.615556], [-71.612674, 51.621228], [-71.551188, 51.827533], [-71.376365, 51.845963], [-71.246359, 52.070431], [-70.967297, 52.231721], [-70.961298, 52.235813], [-70.279659, 52.353398], [-70.277413, 52.426716], [-70.273153, 52.431986], [-70.219026, 52.554111], [-70.227242, 52.554116], [-70.237541, 52.559448], [-70.237324, 52.56694], [-70.216784, 52.711207], [-70.029906, 52.832544], [-70.02479, 52.000079], [-70.025553, 50.750063], [-70.010424, 49.796526], [-70.010523, 49.000001], [-70.018179, 48.256731], [-69.871054, 48.186107], [-69.956127, 48.056784], [-70.172546, 48.128806], [-70.263326, 47.994919], [-71.41121, 47.995934], [-71.379536, 47.950024], [-72.07341, 47.949997]]], \"type\": \"Polygon\"}, \"id\": 6, \"properties\": {\"area\": 13.298006548304, \"cartodb_id\": 4, \"perimeter\": 19.7857933261279, \"regio_s_\": 5, \"regio_s_id\": 6, \"res_co_ref\": \"BDGA1M\", \"res_co_reg\": 2, \"res_co_ver\": \"V2012-05\", \"res_de_ind\": \"R\\u00e9gion administrative\", \"res_nm_reg\": \"02- Saguenay-Lac-Saint-Jean\", \"res_no_ind\": \"50 02 0100 000\"}, \"type\": \"Feature\"}, {\"geometry\": {\"coordinates\": [[[-67.153341, 49.189062], [-66.563434, 49.539165], [-66.295707, 49.64523], [-66.000015, 49.704048], [-65.395762, 49.699742], [-64.910024, 49.61016], [-64.595671, 49.509706], [-64.163784, 49.319935], [-63.600509, 48.968992], [-62.999129, 48.666683], [-61.749088, 48.666663], [-60.468609, 48.666663], [-60.403772, 47.761098], [-60.762679, 47.423328], [-60.991849, 47.329432], [-61.350481, 47.009723], [-61.399367, 46.839999], [-62.299956, 46.839999], [-62.98636, 47.139728], [-63.791667, 48.220564], [-64.421965, 48.220568], [-65.111678, 47.921103], [-65.536139, 47.828607], [-65.606408, 47.933611], [-65.858147, 48.022234], [-66.302721, 48.032746], [-66.452257, 48.08721], [-66.699094, 48.005315], [-66.916487, 47.984707], [-67.209206, 47.875818], [-67.392456, 47.866956], [-67.598344, 48.000066], [-67.5867, 48.042391], [-67.588931, 48.04974], [-67.666615, 48.118412], [-67.374601, 48.194887], [-67.277586, 48.031515], [-66.879578, 48.136958], [-66.974198, 48.303186], [-65.948463, 48.567122], [-66.537875, 48.95834], [-66.698123, 48.964179], [-66.698745, 48.967353], [-66.70181, 48.984814], [-66.700265, 48.987354], [-66.83247, 48.985116], [-67.153341, 49.189062]]], \"type\": \"Polygon\"}, \"id\": 7, \"properties\": {\"area\": 9.48314959730072, \"cartodb_id\": 5, \"perimeter\": 20.8678792455471, \"regio_s_\": 6, \"regio_s_id\": 7, \"res_co_ref\": \"BDGA1M\", \"res_co_reg\": 11, \"res_co_ver\": \"V2012-05\", \"res_de_ind\": \"R\\u00e9gion administrative\", \"res_nm_reg\": \"11- Gaspesie-Iles-de-la-Madelaine\", \"res_no_ind\": \"50 02 0100 000\"}, \"type\": \"Feature\"}, {\"geometry\": {\"coordinates\": [[[-75.521078, 47.846988], [-75.780107, 47.800688], [-75.782192, 47.799428], [-75.810177, 47.67167], [-75.811202, 47.674356], [-75.812205, 47.67892], [-75.81342, 47.68064], [-75.8341, 47.749513], [-75.837584, 47.750306], [-76.229669, 47.73144], [-76.289692, 47.683687], [-76.288937, 47.681683], [-76.451946, 47.627699], [-76.454455, 47.622073], [-76.575596, 47.604154], [-76.575914, 47.289729], [-77.001718, 47.289943], [-77.002301, 47.145024], [-77.433281, 47.144924], [-77.433071, 47.290474], [-77.860428, 47.239651], [-77.836447, 46.934191], [-77.834101, 46.926713], [-77.84366, 46.896653], [-77.844448, 46.886294], [-77.850058, 46.884025], [-77.850785, 46.891076], [-77.892402, 46.853972], [-77.891966, 46.844478], [-77.890685, 46.842495], [-77.887515, 46.836003], [-77.834224, 46.771435], [-77.828896, 46.764638], [-77.742892, 46.409166], [-77.841593, 46.20636], [-78.129115, 46.272815], [-78.692863, 46.31873], [-78.987859, 46.547015], [-79.168966, 46.823485], [-79.446562, 47.110438], [-79.428976, 47.240774], [-79.579327, 47.432637], [-79.517205, 47.533414], [-79.517764, 49.009109], [-79.053418, 49.000045], [-76.999737, 48.999999], [-75.520551, 49.000016], [-75.521078, 47.846988]]], \"type\": \"Polygon\"}, \"id\": 9, \"properties\": {\"area\": 7.78473054972107, \"cartodb_id\": 7, \"perimeter\": 14.9638243152797, \"regio_s_\": 8, \"regio_s_id\": 9, \"res_co_ref\": \"BDGA1M\", \"res_co_reg\": 8, \"res_co_ver\": \"V2012-05\", \"res_de_ind\": \"R\\u00e9gion administrative\", \"res_nm_reg\": \"08-Abititi-Temiscaminigue\", \"res_no_ind\": \"50 02 0100 000\"}, \"type\": \"Feature\"}, {\"geometry\": {\"coordinates\": [[[-74.471679, 48.945649], [-73.017829, 47.998663], [-72.123555, 47.998509], [-72.07341, 47.949997], [-71.890536, 47.770179], [-72.238828, 47.536571], [-72.145723, 47.399614], [-72.239878, 47.290108], [-72.50337, 47.311941], [-72.540745, 47.190662], [-72.435868, 47.057484], [-72.167602, 46.874224], [-72.392221, 46.791376], [-72.082727, 46.57015], [-72.198901, 46.532325], [-72.21268, 46.520967], [-72.267698, 46.433635], [-72.936232, 46.151217], [-73.216489, 46.279333], [-73.167306, 46.382865], [-73.333101, 46.498727], [-73.536358, 46.865513], [-73.543432, 46.866338], [-73.570849, 46.871483], [-73.573687, 46.869887], [-73.66083, 46.894617], [-73.65012, 46.938033], [-73.853208, 47.151075], [-74.028553, 47.177965], [-73.975508, 47.364768], [-73.972952, 47.370797], [-74.511525, 47.762906], [-74.889411, 47.762619], [-75.521328, 47.763314], [-75.521078, 47.846988], [-75.520551, 49.000016], [-74.55934, 48.999925], [-74.471679, 48.945649]]], \"type\": \"Polygon\"}, \"id\": 10, \"properties\": {\"area\": 4.78751317999797, \"cartodb_id\": 8, \"perimeter\": 13.1966772376706, \"regio_s_\": 9, \"regio_s_id\": 10, \"res_co_ref\": \"BDGA1M\", \"res_co_reg\": 4, \"res_co_ver\": \"V2012-05\", \"res_de_ind\": \"R\\u00e9gion administrative\", \"res_nm_reg\": \"04-Mauricie\", \"res_no_ind\": \"50 02 0100 000\"}, \"type\": \"Feature\"}, {\"geometry\": {\"coordinates\": [[[-72.07341, 47.949997], [-71.379536, 47.950024], [-71.41121, 47.995934], [-70.263326, 47.994919], [-70.172546, 48.128806], [-69.956127, 48.056784], [-69.871054, 48.186107], [-69.548369, 48.049451], [-69.656537, 47.99422], [-69.893749, 47.701311], [-70.198248, 47.411201], [-70.454932, 47.253498], [-70.716252, 46.993868], [-71.000352, 46.84744], [-71.115357, 46.839533], [-71.128385, 46.8377], [-71.283693, 46.746726], [-71.690822, 46.649837], [-71.870955, 46.677671], [-72.054301, 46.570497], [-72.066825, 46.569761], [-72.082727, 46.57015], [-72.392221, 46.791376], [-72.167602, 46.874224], [-72.435868, 47.057484], [-72.540745, 47.190662], [-72.50337, 47.311941], [-72.239878, 47.290108], [-72.145723, 47.399614], [-72.238828, 47.536571], [-71.890536, 47.770179], [-72.07341, 47.949997]]], \"type\": \"Polygon\"}, \"id\": 11, \"properties\": {\"area\": 2.49937337388851, \"cartodb_id\": 9, \"perimeter\": 8.81817210239763, \"regio_s_\": 10, \"regio_s_id\": 11, \"res_co_ref\": \"BDGA1M\", \"res_co_reg\": 3, \"res_co_ver\": \"V2012-05\", \"res_de_ind\": \"R\\u00e9gion administrative\", \"res_nm_reg\": \"03- Capitale-Nationale\", \"res_no_ind\": \"50 02 0100 000\"}, \"type\": \"Feature\"}, {\"geometry\": {\"coordinates\": [[[-75.521328, 47.763314], [-74.889411, 47.762619], [-74.5078, 47.502208], [-74.507743, 47.502935], [-74.619692, 47.251113], [-74.415157, 47.100723], [-74.57475, 46.997571], [-74.427279, 46.896617], [-74.508932, 46.646535], [-74.508288, 46.642451], [-74.503725, 46.640022], [-74.499065, 46.639045], [-74.491004, 46.593768], [-74.488473, 46.596463], [-74.445787, 46.620477], [-74.423104, 46.605517], [-74.38517, 46.578771], [-74.376332, 46.527668], [-74.477748, 46.454113], [-74.412684, 46.298891], [-74.182687, 46.250042], [-74.03304, 46.148714], [-73.935392, 45.944243], [-73.937068, 45.925236], [-73.759062, 45.727893], [-73.761411, 45.714365], [-73.744881, 45.668642], [-73.895779, 45.525458], [-73.977851, 45.46442], [-73.990063, 45.459525], [-73.996551, 45.457488], [-74.339075, 45.513261], [-74.380758, 45.565982], [-74.629351, 45.63829], [-74.807877, 45.638399], [-74.714402, 45.8879], [-74.939369, 46.105915], [-75.408148, 46.097566], [-75.408277, 45.97322], [-75.748112, 45.972435], [-75.788765, 46.274808], [-75.745234, 46.438231], [-75.747563, 46.842662], [-75.896777, 46.817864], [-76.130591, 46.924539], [-76.091496, 47.188543], [-75.796918, 47.319068], [-75.558812, 47.207758], [-75.308858, 47.547632], [-75.521328, 47.763314]]], \"type\": \"Polygon\"}, \"id\": 13, \"properties\": {\"area\": 2.64627784216984, \"cartodb_id\": 11, \"perimeter\": 12.0473497358836, \"regio_s_\": 12, \"regio_s_id\": 13, \"res_co_ref\": \"BDGA1M\", \"res_co_reg\": 15, \"res_co_ver\": \"V2012-05\", \"res_de_ind\": \"R\\u00e9gion administrative\", \"res_nm_reg\": \"15- Laurentides\", \"res_no_ind\": \"50 02 0100 000\"}, \"type\": \"Feature\"}, {\"geometry\": {\"coordinates\": [[[-70.198248, 47.411201], [-70.003487, 47.278656], [-69.985984, 47.285714], [-69.625519, 47.06655], [-69.997359, 46.695246], [-70.057197, 46.416557], [-70.208698, 46.329344], [-70.315785, 46.020046], [-70.242194, 45.938925], [-70.413606, 45.795991], [-70.895614, 45.780022], [-70.899805, 45.886751], [-71.461258, 45.816568], [-71.68617, 45.966808], [-71.509741, 46.137326], [-71.478962, 46.395879], [-71.617519, 46.451759], [-71.759723, 46.363955], [-72.054301, 46.570497], [-71.870955, 46.677671], [-71.690822, 46.649837], [-71.283693, 46.746726], [-71.128385, 46.8377], [-71.115357, 46.839533], [-71.000352, 46.84744], [-70.716252, 46.993868], [-70.454932, 47.253498], [-70.198248, 47.411201]]], \"type\": \"Polygon\"}, \"id\": 15, \"properties\": {\"area\": 1.89098805979165, \"cartodb_id\": 13, \"perimeter\": 8.20535335218676, \"regio_s_\": 14, \"regio_s_id\": 15, \"res_co_ref\": \"BDGA1M\", \"res_co_reg\": 12, \"res_co_ver\": \"V2012-05\", \"res_de_ind\": \"R\\u00e9gion administrative\", \"res_nm_reg\": \"Chaudi\\u00e8re-Appalaches\", \"res_no_ind\": \"50 02 0100 000\"}, \"type\": \"Feature\"}, {\"geometry\": {\"coordinates\": [[[-74.889411, 47.762619], [-74.511525, 47.762906], [-73.972952, 47.370797], [-73.975508, 47.364768], [-74.028553, 47.177965], [-73.853208, 47.151075], [-73.65012, 46.938033], [-73.66083, 46.894617], [-73.573687, 46.869887], [-73.570849, 46.871483], [-73.543432, 46.866338], [-73.536358, 46.865513], [-73.333101, 46.498727], [-73.167306, 46.382865], [-73.216489, 46.279333], [-72.936232, 46.151217], [-72.992102, 46.111805], [-73.158932, 46.043609], [-73.290566, 45.831375], [-73.474364, 45.700024], [-73.523106, 45.69786], [-73.744881, 45.668642], [-73.761411, 45.714365], [-73.759062, 45.727893], [-73.937068, 45.925236], [-73.935392, 45.944243], [-74.03304, 46.148714], [-74.182687, 46.250042], [-74.412684, 46.298891], [-74.477748, 46.454113], [-74.376332, 46.527668], [-74.38517, 46.578771], [-74.423104, 46.605517], [-74.445787, 46.620477], [-74.488473, 46.596463], [-74.491004, 46.593768], [-74.499065, 46.639045], [-74.503725, 46.640022], [-74.508288, 46.642451], [-74.508932, 46.646535], [-74.427279, 46.896617], [-74.57475, 46.997571], [-74.415157, 47.100723], [-74.619692, 47.251113], [-74.507743, 47.502935], [-74.5078, 47.502208], [-74.889411, 47.762619]]], \"type\": \"Polygon\"}, \"id\": 14, \"properties\": {\"area\": 1.58700910317102, \"cartodb_id\": 12, \"perimeter\": 9.01209725042588, \"regio_s_\": 13, \"regio_s_id\": 14, \"res_co_ref\": \"BDGA1M\", \"res_co_reg\": 14, \"res_co_ver\": \"V2012-05\", \"res_de_ind\": \"R\\u00e9gion administrative\", \"res_nm_reg\": \"14- Lanaudiere\", \"res_no_ind\": \"50 02 0100 000\"}, \"type\": \"Feature\"}, {\"geometry\": {\"coordinates\": [[[-72.992102, 46.111805], [-72.752495, 45.942799], [-72.852977, 45.86388], [-72.577873, 45.752622], [-72.315602, 45.599234], [-72.350469, 45.589009], [-72.359986, 45.589036], [-72.454557, 45.451383], [-72.403368, 45.155766], [-72.485017, 45.008814], [-73.068118, 45.015872], [-74.148943, 44.991358], [-74.495201, 45.064735], [-74.318803, 45.187976], [-74.472294, 45.302813], [-74.380758, 45.565982], [-74.339075, 45.513261], [-73.996551, 45.457488], [-73.822172, 45.385406], [-73.559613, 45.419082], [-73.474364, 45.700024], [-73.290566, 45.831375], [-73.158932, 46.043609], [-72.992102, 46.111805]]], \"type\": \"Polygon\"}, \"id\": 17, \"properties\": {\"area\": 1.36183178555221, \"cartodb_id\": 15, \"perimeter\": 7.09129879389589, \"regio_s_\": 16, \"regio_s_id\": 17, \"res_co_ref\": \"BDGA1M\", \"res_co_reg\": 16, \"res_co_ver\": \"V2012-05\", \"res_de_ind\": \"R\\u00e9gion administrative\", \"res_nm_reg\": \"16- Monteregie\", \"res_no_ind\": \"50 02 0100 000\"}, \"type\": \"Feature\"}, {\"geometry\": {\"coordinates\": [[[-71.461258, 45.816568], [-70.899805, 45.886751], [-70.895614, 45.780022], [-70.413606, 45.795991], [-70.645443, 45.606152], [-70.825525, 45.400367], [-71.228181, 45.249407], [-71.384778, 45.233288], [-71.500556, 45.013252], [-72.485017, 45.008814], [-72.403368, 45.155766], [-72.454557, 45.451383], [-72.359986, 45.589036], [-72.350469, 45.589009], [-72.315602, 45.599234], [-72.029639, 45.85343], [-71.798933, 45.858038], [-71.780876, 45.875051], [-71.461258, 45.816568]]], \"type\": \"Polygon\"}, \"id\": 18, \"properties\": {\"area\": 1.20899519667971, \"cartodb_id\": 16, \"perimeter\": 7.28698953467045, \"regio_s_\": 17, \"regio_s_id\": 18, \"res_co_ref\": \"BDGA1M\", \"res_co_reg\": 5, \"res_co_ver\": \"V2012-05\", \"res_de_ind\": \"R\\u00e9gion administrative\", \"res_nm_reg\": \"05-Estrie\", \"res_no_ind\": \"50 02 0100 000\"}, \"type\": \"Feature\"}, {\"geometry\": {\"coordinates\": [[[-70.029906, 52.832544], [-70.216784, 52.711207], [-70.237324, 52.56694], [-70.237541, 52.559448], [-70.227242, 52.554116], [-70.219026, 52.554111], [-70.273153, 52.431986], [-70.277413, 52.426716], [-70.279659, 52.353398], [-70.961298, 52.235813], [-70.967297, 52.231721], [-71.246359, 52.070431], [-71.376365, 51.845963], [-71.551188, 51.827533], [-71.612674, 51.621228], [-71.616985, 51.615556], [-71.57877, 51.581075], [-71.580903, 51.57797], [-71.572969, 51.536908], [-71.570951, 51.530783], [-71.57795, 51.516338], [-71.583528, 51.510729], [-71.837837, 51.355642], [-72.118311, 51.105061], [-72.161703, 50.978119], [-72.370661, 50.88857], [-72.376146, 50.886885], [-72.500216, 50.747245], [-72.509938, 50.747318], [-72.53324, 50.746069], [-72.534238, 50.747853], [-72.533808, 50.75494], [-72.541758, 50.757474], [-72.598438, 50.839056], [-72.599596, 50.837254], [-72.601113, 50.831484], [-72.602482, 50.814747], [-72.751628, 50.818176], [-72.75607, 50.819404], [-72.842828, 50.810644], [-72.855975, 50.81184], [-72.85882, 50.810156], [-72.863413, 50.804071], [-73.01826, 50.670501], [-73.019848, 50.668756], [-73.149666, 50.747545], [-73.30154, 50.614383], [-73.306574, 50.611597], [-73.541397, 50.36738], [-73.551879, 50.364399], [-73.74554, 50.232972], [-73.750269, 50.230163], [-73.778651, 50.081098], [-73.896492, 49.952643], [-73.895668, 49.945404], [-74.247109, 49.564582], [-74.407789, 49.427228], [-74.372024, 49.314222], [-74.372596, 49.311446], [-74.314645, 49.266932], [-74.314451, 49.260076], [-74.227998, 49.218962], [-74.289071, 49.00669], [-74.279062, 49.000026], [-74.396992, 48.926784], [-74.402448, 48.923826], [-74.41643, 48.925868], [-74.420869, 48.925683], [-74.471679, 48.945649], [-74.55934, 48.999925], [-75.520551, 49.000016], [-76.999737, 48.999999], [-79.053418, 49.000045], [-79.517764, 49.009109], [-79.517778, 49.750087], [-79.517782, 50.749782], [-79.518348, 51.582765], [-79.216599, 51.64224], [-78.97984, 51.461542], [-78.8012, 51.47268], [-78.85079, 51.616359], [-79.048087, 51.764299], [-78.892221, 51.9468], [-78.779781, 51.969912], [-78.559298, 52.160636], [-78.516069, 52.332222], [-78.589509, 52.517228], [-78.761621, 52.540806], [-78.997057, 53.094311], [-78.983656, 53.399893], [-79.139357, 53.493777], [-79.06147, 53.613062], [-79.105933, 53.903362], [-79.480179, 54.233108], [-79.533899, 54.519204], [-79.654207, 54.689571], [-79.004662, 54.83803], [-78.318669, 55.041928], [-77.78361, 55.268906], [-77.252517, 55.577846], [-77.196747, 55.669994], [-76.689674, 56.049426], [-76.547842, 56.302428], [-76.532224, 56.798183], [-76.575855, 57.128172], [-76.697944, 57.435416], [-77.091539, 57.939337], [-77.650514, 58.263961], [-78.207122, 58.404029], [-78.240246, 58.495866], [-78.587222, 58.648907], [-78.577592, 58.917305], [-77.989747, 59.262379], [-77.835235, 59.588562], [-77.84815, 59.726042], [-77.54479, 59.756544], [-77.46729, 59.918075], [-77.624387, 60.054652], [-77.607278, 60.292636], [-78.07599, 60.791496], [-78.10992, 60.917371], [-77.858235, 61.053848], [-77.743741, 61.259786], [-77.88746, 61.623668], [-78.000007, 61.692107], [-78.202012, 62.254555], [-78.086497, 62.362423], [-77.506116, 62.582171], [-76.930718, 62.537763], [-76.524456, 62.443992], [-75.580695, 62.286842], [-75.340345, 62.317039], [-74.967923, 62.265525], [-74.423074, 62.242752], [-74.004542, 62.365341], [-73.831326, 62.459269], [-73.224515, 62.322815], [-73.044368, 62.202256], [-72.613396, 62.112375], [-72.595276, 61.976047], [-72.180093, 61.85322], [-72.032175, 61.731028], [-71.62851, 61.653167], [-71.565604, 61.544934], [-71.607302, 61.262205], [-71.313338, 61.153081], [-70.667132, 61.055773], [-70.298932, 61.101411], [-69.964086, 60.945368], [-69.758506, 60.917128], [-69.592277, 61.081513], [-69.371593, 60.916188], [-69.371451, 60.79946], [-69.674783, 60.673021], [-69.717298, 60.40712], [-69.542288, 60.094026], [-69.49501, 59.611084], [-69.626464, 59.471705], [-69.232263, 59.346558], [-69.205631, 59.223358], [-68.892257, 58.924126], [-68.552048, 58.941038], [-68.260454, 58.823208], [-68.268268, 58.616334], [-68.00256, 58.590248], [-67.365056, 58.31443], [-66.938354, 58.515877], [-66.78029, 58.501722], [-66.573738, 58.665141], [-66.4834, 58.857892], [-66.095088, 58.861308], [-65.989371, 58.918389], [-65.80651, 59.209121], [-65.848893, 59.283289], [-65.526989, 59.469633], [-65.433076, 59.588142], [-65.566606, 59.690521], [-65.463741, 59.815967], [-65.235871, 59.925633], [-65.142601, 60.063364], [-64.855821, 60.268343], [-64.642658, 59.906278], [-64.818186, 59.821003], [-64.751401, 59.725478], [-64.838986, 59.554562], [-64.510789, 59.421548], [-64.471064, 59.179491], [-64.26522, 59.01681], [-64.226498, 58.783589], [-63.681534, 58.880981], [-63.497759, 58.745886], [-63.94783, 58.689451], [-64.143259, 58.601834], [-63.985802, 58.442829], [-64.168456, 58.364842], [-64.25609, 58.224024], [-64.423654, 58.193974], [-64.407753, 58.062696], [-64.193215, 57.932683], [-63.901728, 57.913835], [-63.883302, 57.716043], [-63.697963, 57.36678], [-63.881318, 57.268014], [-63.766982, 57.143241], [-63.899353, 57.079276], [-63.910478, 56.925497], [-64.142895, 56.704203], [-63.943953, 56.540104], [-63.934837, 56.265269], [-64.008251, 56.076014], [-63.730528, 56.068031], [-63.547381, 56.005863], [-63.845131, 55.886814], [-63.709229, 55.754368], [-63.644633, 55.286198], [-63.550617, 55.19001], [-63.553921, 55.000047], [-64.750002, 54.999996], [-66.259781, 55.000009], [-66.609089, 55.269845], [-66.762782, 55.136899], [-66.642917, 55.000063], [-68.250018, 54.999987], [-70.029883, 55.000136], [-70.029708, 54.000024], [-70.029906, 52.832544]]], \"type\": \"Polygon\"}, \"id\": 1, \"properties\": {\"area\": 124.08686903197, \"cartodb_id\": 19, \"perimeter\": 94.6754067058214, \"regio_s_\": 20, \"regio_s_id\": 1, \"res_co_ref\": \"BDGA1M\", \"res_co_reg\": 10, \"res_co_ver\": \"V2012-05\", \"res_de_ind\": \"R\\u00e9gion administrative\", \"res_nm_reg\": \"10-Nord-du-Quebec\", \"res_no_ind\": \"50 02 0100 000\"}, \"type\": \"Feature\"}, {\"geometry\": {\"coordinates\": [[[-73.523106, 45.69786], [-73.474364, 45.700024], [-73.559613, 45.419082], [-73.822172, 45.385406], [-73.996551, 45.457488], [-73.990063, 45.459525], [-73.977851, 45.46442], [-73.895779, 45.525458], [-73.732746, 45.531604], [-73.726358, 45.534538], [-73.523106, 45.69786]]], \"type\": \"Polygon\"}, \"id\": 19, \"properties\": {\"area\": 0.0719384128928997, \"cartodb_id\": 17, \"perimeter\": 1.46897572891785, \"regio_s_\": 18, \"regio_s_id\": 19, \"res_co_ref\": \"BDGA1M\", \"res_co_reg\": 6, \"res_co_ver\": \"V2012-05\", \"res_de_ind\": \"R\\u00e9gion administrative\", \"res_nm_reg\": \"06-Montreal\", \"res_no_ind\": \"50 02 0100 000\"}, \"type\": \"Feature\"}, {\"geometry\": {\"coordinates\": [[[[-60.468609, 48.666663], [-61.999092, 48.666676], [-62.999129, 48.666683], [-63.600509, 48.968992], [-64.163784, 49.319935], [-64.595671, 49.509706], [-65.095087, 49.652753], [-65.645385, 49.717895], [-66.000015, 49.704048], [-66.48767, 49.575425], [-67.153341, 49.189062], [-67.592507, 49.078342], [-68.173272, 48.881427], [-68.723464, 48.621039], [-69.234461, 48.291093], [-69.548369, 48.049451], [-70.077876, 48.252828], [-70.007992, 48.357004], [-70.010424, 49.796526], [-70.025553, 50.750063], [-70.02479, 52.000079], [-70.029896, 52.916605], [-70.029883, 55.000136], [-69, 55.000117], [-67.41416, 54.994108], [-67.053178, 54.695712], [-67.304721, 54.514433], [-67.670849, 54.446101], [-67.725908, 54.334933], [-67.634491, 54.159846], [-67.809196, 54.017238], [-67.588854, 53.917925], [-67.565856, 53.794452], [-67.212496, 53.539563], [-67.028292, 53.533339], [-66.913542, 53.420893], [-66.968385, 53.203975], [-67.383275, 53.08794], [-67.340285, 52.893365], [-66.899719, 52.686938], [-66.416261, 52.846906], [-66.314061, 52.732515], [-66.438777, 52.623627], [-66.343028, 52.398622], [-66.4844, 52.348634], [-66.097613, 52.200563], [-66.090954, 52.108479], [-65.673164, 52.120423], [-65.198951, 52.260113], [-64.83546, 52.034965], [-64.71066, 51.873309], [-64.774169, 51.804733], [-64.557126, 51.580661], [-64.286166, 51.727896], [-64.36103, 51.864222], [-64.33689, 52.009271], [-64.200549, 52.176679], [-64.252993, 52.274969], [-64.107507, 52.407321], [-64.176955, 52.585072], [-64.148678, 52.728806], [-63.722772, 52.773221], [-63.567018, 52.944469], [-63.446819, 52.944523], [-62.963909, 52.758547], [-62.611145, 52.79977], [-62.336163, 52.736907], [-62.15596, 52.780601], [-61.70826, 52.573288], [-61.2725, 52.513978], [-60.947423, 52.36681], [-60.564327, 52.318835], [-60.517378, 52.454503], [-59.96797, 52.496555], [-59.83671, 52.662084], [-59.512005, 52.612942], [-59.316081, 52.626663], [-59.138521, 52.516299], [-58.730084, 52.481882], [-58.56987, 52.652822], [-58.326417, 52.690593], [-58.077696, 52.544371], [-57.979881, 52.431115], [-57.739883, 52.370728], [-57.296976, 52.09591], [-56.981755, 52.030747], [-57.107498, 51.805965], [-57.107482, 51.202493], [-57.736141, 50.998608], [-58.940366, 49.84861], [-60, 49.112579], [-60.476819, 48.781392], [-60.468609, 48.666663]]], [[[-66.72991, 54.973408], [-66.597631, 54.812183], [-66.670161, 54.712626], [-66.946476, 54.817491], [-67.218818, 55.000107], [-66.72991, 54.973408]]], [[[-63.563353, 54.98803], [-63.786125, 54.949003], [-63.909794, 54.784361], [-63.763296, 54.698498], [-64.052221, 54.597304], [-64.324983, 54.77317], [-64.600434, 54.731281], [-64.964562, 54.932565], [-65.427553, 54.747206], [-65.679536, 54.705263], [-65.919348, 54.937431], [-65.374133, 55.000096], [-63.563353, 54.98803]]], [[[-66.84942, 55.306585], [-66.765893, 55.248563], [-66.782005, 55.041497], [-67.048984, 55.230236], [-66.84942, 55.306585]]]], \"type\": \"MultiPolygon\"}, \"id\": 2, \"properties\": {\"area\": 0.000753085700268219, \"cartodb_id\": 1, \"perimeter\": 0.151935634889039, \"regio_s_\": 2, \"regio_s_id\": 2, \"res_co_ref\": \"BDGA1M\", \"res_co_reg\": 9, \"res_co_ver\": \"V2012-05\", \"res_de_ind\": \"R\\u00e9gion administrative\", \"res_nm_reg\": \"9-Cote-Nord\", \"res_no_ind\": \"50 02 0100 000\"}, \"type\": \"Feature\"}, {\"geometry\": {\"coordinates\": [[[-67.153341, 49.189062], [-66.83247, 48.985116], [-66.700265, 48.987354], [-66.70181, 48.984814], [-66.698745, 48.967353], [-66.698123, 48.964179], [-66.537875, 48.95834], [-65.948463, 48.567122], [-66.974198, 48.303186], [-66.879578, 48.136958], [-67.277586, 48.031515], [-67.374601, 48.194887], [-67.666615, 48.118412], [-67.588931, 48.04974], [-67.5867, 48.042391], [-67.598344, 48.000066], [-68.122856, 48.000061], [-68.122785, 47.916561], [-68.383141, 47.916615], [-68.38295, 47.553498], [-68.569408, 47.427049], [-69.051087, 47.300133], [-69.032042, 47.408305], [-69.229788, 47.454624], [-69.625519, 47.06655], [-69.985984, 47.285714], [-70.003487, 47.278656], [-70.198248, 47.411201], [-69.893749, 47.701311], [-69.656537, 47.99422], [-69.548369, 48.049451], [-69.234461, 48.291093], [-68.723464, 48.621039], [-68.093746, 48.909451], [-67.592507, 49.078342], [-67.153341, 49.189062]]], \"type\": \"Polygon\"}, \"id\": 8, \"properties\": {\"area\": 3.43782496715336, \"cartodb_id\": 6, \"perimeter\": 11.2654083386742, \"regio_s_\": 7, \"regio_s_id\": 8, \"res_co_ref\": \"BDGA1M\", \"res_co_reg\": 1, \"res_co_ver\": \"V2012-05\", \"res_de_ind\": \"R\\u00e9gion administrative\", \"res_nm_reg\": \"01-Bas-Saint-Laurent\", \"res_no_ind\": \"50 02 0100 000\"}, \"type\": \"Feature\"}, {\"geometry\": {\"coordinates\": [[[-73.744881, 45.668642], [-73.523106, 45.69786], [-73.726358, 45.534538], [-73.732746, 45.531604], [-73.895779, 45.525458], [-73.744881, 45.668642]]], \"type\": \"Polygon\"}, \"id\": 20, \"properties\": {\"area\": 0.0307859846863181, \"cartodb_id\": 18, \"perimeter\": 0.931105008023468, \"regio_s_\": 19, \"regio_s_id\": 20, \"res_co_ref\": \"BDGA1M\", \"res_co_reg\": 13, \"res_co_ver\": \"V2012-05\", \"res_de_ind\": \"R\\u00e9gion administrative\", \"res_nm_reg\": \"13- Laval\", \"res_no_ind\": \"50 02 0100 000\"}, \"type\": \"Feature\"}, {\"geometry\": {\"coordinates\": [[[-72.082727, 46.57015], [-72.066825, 46.569761], [-72.054301, 46.570497], [-71.759723, 46.363955], [-71.617519, 46.451759], [-71.478962, 46.395879], [-71.509741, 46.137326], [-71.68617, 45.966808], [-71.461258, 45.816568], [-71.780876, 45.875051], [-71.798933, 45.858038], [-72.029639, 45.85343], [-72.315602, 45.599234], [-72.577873, 45.752622], [-72.852977, 45.86388], [-72.752495, 45.942799], [-72.992102, 46.111805], [-72.936232, 46.151217], [-72.267698, 46.433635], [-72.21268, 46.520967], [-72.198901, 46.532325], [-72.082727, 46.57015]]], \"type\": \"Polygon\"}, \"id\": 16, \"properties\": {\"area\": 0.844851321836394, \"cartodb_id\": 14, \"perimeter\": 5.40454763380291, \"regio_s_\": 15, \"regio_s_id\": 16, \"res_co_ref\": \"BDGA1M\", \"res_co_reg\": 17, \"res_co_ver\": \"V2012-05\", \"res_de_ind\": \"R\\u00e9gion administrative\", \"res_nm_reg\": \"17- Centre du Quebec\", \"res_no_ind\": \"50 02 0100 000\"}, \"type\": \"Feature\"}], \"type\": \"FeatureCollection\"}, \"hoverlabel\": {\"namelength\": 0}, \"hovertemplate\": \"res_nm_reg=%{location}<br>Total Number of Cases=%{z}\", \"locations\": [\"01-Bas-Saint-Laurent\", \"02- Saguenay-Lac-Saint-Jean\", \"03- Capitale-Nationale\", \"04-Mauricie\", \"05-Estrie\", \"06-Montreal\", \"07-Outauais\", \"08-Abititi-Temiscaminigue\", \"9-Cote-Nord\", \"10-Nord-du-Quebec\", \"11- Gaspesie-Iles-de-la-Madelaine\", \"12-Chaudiere-Appalaches\", \"13- Laval\", \"14- Lanaudiere\", \"15- Laurentides\", \"16- Monteregie\", \"17- Centre du Quebec\"], \"name\": \"\", \"type\": \"choropleth\", \"z\": [6.0, 8.0, 95.0, 35.0, 169.0, 603.0, 13.0, 5.0, 2.0, 1.0, 7.0, 46.0, 83.0, 68.0, 50.0, 148.0, 0.0]}],\n",
       "                        {\"coloraxis\": {\"colorbar\": {\"title\": {\"text\": \"Total Number of Cases\"}}, \"colorscale\": [[0.0, \"rgb(247,251,255)\"], [0.125, \"rgb(222,235,247)\"], [0.25, \"rgb(198,219,239)\"], [0.375, \"rgb(158,202,225)\"], [0.5, \"rgb(107,174,214)\"], [0.625, \"rgb(66,146,198)\"], [0.75, \"rgb(33,113,181)\"], [0.875, \"rgb(8,81,156)\"], [1.0, \"rgb(8,48,107)\"]]}, \"geo\": {\"center\": {}, \"domain\": {\"x\": [0.0, 1.0], \"y\": [0.0, 1.0]}, \"fitbounds\": \"locations\", \"projection\": {\"type\": \"mercator\"}, \"visible\": false}, \"legend\": {\"tracegroupgap\": 0}, \"margin\": {\"t\": 60}, \"template\": {\"data\": {\"bar\": [{\"error_x\": {\"color\": \"#2a3f5f\"}, \"error_y\": {\"color\": \"#2a3f5f\"}, \"marker\": {\"line\": {\"color\": \"#E5ECF6\", \"width\": 0.5}}, \"type\": \"bar\"}], \"barpolar\": [{\"marker\": {\"line\": {\"color\": \"#E5ECF6\", \"width\": 0.5}}, \"type\": \"barpolar\"}], \"carpet\": [{\"aaxis\": {\"endlinecolor\": \"#2a3f5f\", \"gridcolor\": \"white\", \"linecolor\": \"white\", \"minorgridcolor\": \"white\", \"startlinecolor\": \"#2a3f5f\"}, \"baxis\": {\"endlinecolor\": \"#2a3f5f\", \"gridcolor\": \"white\", \"linecolor\": \"white\", \"minorgridcolor\": \"white\", \"startlinecolor\": \"#2a3f5f\"}, \"type\": \"carpet\"}], \"choropleth\": [{\"colorbar\": {\"outlinewidth\": 0, \"ticks\": \"\"}, \"type\": \"choropleth\"}], \"contour\": [{\"colorbar\": {\"outlinewidth\": 0, \"ticks\": \"\"}, \"colorscale\": [[0.0, \"#0d0887\"], [0.1111111111111111, \"#46039f\"], [0.2222222222222222, \"#7201a8\"], [0.3333333333333333, \"#9c179e\"], [0.4444444444444444, \"#bd3786\"], [0.5555555555555556, \"#d8576b\"], [0.6666666666666666, \"#ed7953\"], [0.7777777777777778, \"#fb9f3a\"], [0.8888888888888888, \"#fdca26\"], [1.0, \"#f0f921\"]], \"type\": \"contour\"}], \"contourcarpet\": [{\"colorbar\": {\"outlinewidth\": 0, \"ticks\": \"\"}, \"type\": \"contourcarpet\"}], \"heatmap\": [{\"colorbar\": {\"outlinewidth\": 0, \"ticks\": \"\"}, \"colorscale\": [[0.0, \"#0d0887\"], [0.1111111111111111, \"#46039f\"], [0.2222222222222222, \"#7201a8\"], [0.3333333333333333, \"#9c179e\"], [0.4444444444444444, \"#bd3786\"], [0.5555555555555556, \"#d8576b\"], [0.6666666666666666, \"#ed7953\"], [0.7777777777777778, \"#fb9f3a\"], [0.8888888888888888, \"#fdca26\"], [1.0, \"#f0f921\"]], \"type\": \"heatmap\"}], \"heatmapgl\": [{\"colorbar\": {\"outlinewidth\": 0, \"ticks\": \"\"}, \"colorscale\": [[0.0, \"#0d0887\"], [0.1111111111111111, \"#46039f\"], [0.2222222222222222, \"#7201a8\"], [0.3333333333333333, \"#9c179e\"], [0.4444444444444444, \"#bd3786\"], [0.5555555555555556, \"#d8576b\"], [0.6666666666666666, \"#ed7953\"], [0.7777777777777778, \"#fb9f3a\"], [0.8888888888888888, \"#fdca26\"], [1.0, \"#f0f921\"]], \"type\": \"heatmapgl\"}], \"histogram\": [{\"marker\": {\"colorbar\": {\"outlinewidth\": 0, \"ticks\": \"\"}}, \"type\": \"histogram\"}], \"histogram2d\": [{\"colorbar\": {\"outlinewidth\": 0, \"ticks\": \"\"}, \"colorscale\": [[0.0, \"#0d0887\"], [0.1111111111111111, \"#46039f\"], [0.2222222222222222, \"#7201a8\"], [0.3333333333333333, \"#9c179e\"], [0.4444444444444444, \"#bd3786\"], [0.5555555555555556, \"#d8576b\"], [0.6666666666666666, \"#ed7953\"], [0.7777777777777778, \"#fb9f3a\"], [0.8888888888888888, \"#fdca26\"], [1.0, \"#f0f921\"]], \"type\": \"histogram2d\"}], \"histogram2dcontour\": [{\"colorbar\": {\"outlinewidth\": 0, \"ticks\": \"\"}, \"colorscale\": [[0.0, \"#0d0887\"], [0.1111111111111111, \"#46039f\"], [0.2222222222222222, \"#7201a8\"], [0.3333333333333333, \"#9c179e\"], [0.4444444444444444, \"#bd3786\"], [0.5555555555555556, \"#d8576b\"], [0.6666666666666666, \"#ed7953\"], [0.7777777777777778, \"#fb9f3a\"], [0.8888888888888888, \"#fdca26\"], [1.0, \"#f0f921\"]], \"type\": \"histogram2dcontour\"}], \"mesh3d\": [{\"colorbar\": {\"outlinewidth\": 0, \"ticks\": \"\"}, \"type\": \"mesh3d\"}], \"parcoords\": [{\"line\": {\"colorbar\": {\"outlinewidth\": 0, \"ticks\": \"\"}}, \"type\": \"parcoords\"}], \"pie\": [{\"automargin\": true, \"type\": \"pie\"}], \"scatter\": [{\"marker\": {\"colorbar\": {\"outlinewidth\": 0, \"ticks\": \"\"}}, \"type\": \"scatter\"}], \"scatter3d\": [{\"line\": {\"colorbar\": {\"outlinewidth\": 0, \"ticks\": \"\"}}, \"marker\": {\"colorbar\": {\"outlinewidth\": 0, \"ticks\": \"\"}}, \"type\": \"scatter3d\"}], \"scattercarpet\": [{\"marker\": {\"colorbar\": {\"outlinewidth\": 0, \"ticks\": \"\"}}, \"type\": \"scattercarpet\"}], \"scattergeo\": [{\"marker\": {\"colorbar\": {\"outlinewidth\": 0, \"ticks\": \"\"}}, \"type\": \"scattergeo\"}], \"scattergl\": [{\"marker\": {\"colorbar\": {\"outlinewidth\": 0, \"ticks\": \"\"}}, \"type\": \"scattergl\"}], \"scattermapbox\": [{\"marker\": {\"colorbar\": {\"outlinewidth\": 0, \"ticks\": \"\"}}, \"type\": \"scattermapbox\"}], \"scatterpolar\": [{\"marker\": {\"colorbar\": {\"outlinewidth\": 0, \"ticks\": \"\"}}, \"type\": \"scatterpolar\"}], \"scatterpolargl\": [{\"marker\": {\"colorbar\": {\"outlinewidth\": 0, \"ticks\": \"\"}}, \"type\": \"scatterpolargl\"}], \"scatterternary\": [{\"marker\": {\"colorbar\": {\"outlinewidth\": 0, \"ticks\": \"\"}}, \"type\": \"scatterternary\"}], \"surface\": [{\"colorbar\": {\"outlinewidth\": 0, \"ticks\": \"\"}, \"colorscale\": [[0.0, \"#0d0887\"], [0.1111111111111111, \"#46039f\"], [0.2222222222222222, \"#7201a8\"], [0.3333333333333333, \"#9c179e\"], [0.4444444444444444, \"#bd3786\"], [0.5555555555555556, \"#d8576b\"], [0.6666666666666666, \"#ed7953\"], [0.7777777777777778, \"#fb9f3a\"], [0.8888888888888888, \"#fdca26\"], [1.0, \"#f0f921\"]], \"type\": \"surface\"}], \"table\": [{\"cells\": {\"fill\": {\"color\": \"#EBF0F8\"}, \"line\": {\"color\": \"white\"}}, \"header\": {\"fill\": {\"color\": \"#C8D4E3\"}, \"line\": {\"color\": \"white\"}}, \"type\": \"table\"}]}, \"layout\": {\"annotationdefaults\": {\"arrowcolor\": \"#2a3f5f\", \"arrowhead\": 0, \"arrowwidth\": 1}, \"coloraxis\": {\"colorbar\": {\"outlinewidth\": 0, \"ticks\": \"\"}}, \"colorscale\": {\"diverging\": [[0, \"#8e0152\"], [0.1, \"#c51b7d\"], [0.2, \"#de77ae\"], [0.3, \"#f1b6da\"], [0.4, \"#fde0ef\"], [0.5, \"#f7f7f7\"], [0.6, \"#e6f5d0\"], [0.7, \"#b8e186\"], [0.8, \"#7fbc41\"], [0.9, \"#4d9221\"], [1, \"#276419\"]], \"sequential\": [[0.0, \"#0d0887\"], [0.1111111111111111, \"#46039f\"], [0.2222222222222222, \"#7201a8\"], [0.3333333333333333, \"#9c179e\"], [0.4444444444444444, \"#bd3786\"], [0.5555555555555556, \"#d8576b\"], [0.6666666666666666, \"#ed7953\"], [0.7777777777777778, \"#fb9f3a\"], [0.8888888888888888, \"#fdca26\"], [1.0, \"#f0f921\"]], \"sequentialminus\": [[0.0, \"#0d0887\"], [0.1111111111111111, \"#46039f\"], [0.2222222222222222, \"#7201a8\"], [0.3333333333333333, \"#9c179e\"], [0.4444444444444444, \"#bd3786\"], [0.5555555555555556, \"#d8576b\"], [0.6666666666666666, \"#ed7953\"], [0.7777777777777778, \"#fb9f3a\"], [0.8888888888888888, \"#fdca26\"], [1.0, \"#f0f921\"]]}, \"colorway\": [\"#636efa\", \"#EF553B\", \"#00cc96\", \"#ab63fa\", \"#FFA15A\", \"#19d3f3\", \"#FF6692\", \"#B6E880\", \"#FF97FF\", \"#FECB52\"], \"font\": {\"color\": \"#2a3f5f\"}, \"geo\": {\"bgcolor\": \"white\", \"lakecolor\": \"white\", \"landcolor\": \"#E5ECF6\", \"showlakes\": true, \"showland\": true, \"subunitcolor\": \"white\"}, \"hoverlabel\": {\"align\": \"left\"}, \"hovermode\": \"closest\", \"mapbox\": {\"style\": \"light\"}, \"paper_bgcolor\": \"white\", \"plot_bgcolor\": \"#E5ECF6\", \"polar\": {\"angularaxis\": {\"gridcolor\": \"white\", \"linecolor\": \"white\", \"ticks\": \"\"}, \"bgcolor\": \"#E5ECF6\", \"radialaxis\": {\"gridcolor\": \"white\", \"linecolor\": \"white\", \"ticks\": \"\"}}, \"scene\": {\"xaxis\": {\"backgroundcolor\": \"#E5ECF6\", \"gridcolor\": \"white\", \"gridwidth\": 2, \"linecolor\": \"white\", \"showbackground\": true, \"ticks\": \"\", \"zerolinecolor\": \"white\"}, \"yaxis\": {\"backgroundcolor\": \"#E5ECF6\", \"gridcolor\": \"white\", \"gridwidth\": 2, \"linecolor\": \"white\", \"showbackground\": true, \"ticks\": \"\", \"zerolinecolor\": \"white\"}, \"zaxis\": {\"backgroundcolor\": \"#E5ECF6\", \"gridcolor\": \"white\", \"gridwidth\": 2, \"linecolor\": \"white\", \"showbackground\": true, \"ticks\": \"\", \"zerolinecolor\": \"white\"}}, \"shapedefaults\": {\"line\": {\"color\": \"#2a3f5f\"}}, \"ternary\": {\"aaxis\": {\"gridcolor\": \"white\", \"linecolor\": \"white\", \"ticks\": \"\"}, \"baxis\": {\"gridcolor\": \"white\", \"linecolor\": \"white\", \"ticks\": \"\"}, \"bgcolor\": \"#E5ECF6\", \"caxis\": {\"gridcolor\": \"white\", \"linecolor\": \"white\", \"ticks\": \"\"}}, \"title\": {\"x\": 0.05}, \"xaxis\": {\"automargin\": true, \"gridcolor\": \"white\", \"linecolor\": \"white\", \"ticks\": \"\", \"title\": {\"standoff\": 15}, \"zerolinecolor\": \"white\", \"zerolinewidth\": 2}, \"yaxis\": {\"automargin\": true, \"gridcolor\": \"white\", \"linecolor\": \"white\", \"ticks\": \"\", \"title\": {\"standoff\": 15}, \"zerolinecolor\": \"white\", \"zerolinewidth\": 2}}}},\n",
       "                        {\"responsive\": true}\n",
       "                    ).then(function(){\n",
       "                            \n",
       "var gd = document.getElementById('7316c3d6-bcf7-44c8-9dfb-071f0e3e69d9');\n",
       "var x = new MutationObserver(function (mutations, observer) {{\n",
       "        var display = window.getComputedStyle(gd).display;\n",
       "        if (!display || display === 'none') {{\n",
       "            console.log([gd, 'removed!']);\n",
       "            Plotly.purge(gd);\n",
       "            observer.disconnect();\n",
       "        }}\n",
       "}});\n",
       "\n",
       "// Listen for the removal of the full notebook cells\n",
       "var notebookContainer = gd.closest('#notebook-container');\n",
       "if (notebookContainer) {{\n",
       "    x.observe(notebookContainer, {childList: true});\n",
       "}}\n",
       "\n",
       "// Listen for the clearing of the current output cell\n",
       "var outputEl = gd.closest('.output');\n",
       "if (outputEl) {{\n",
       "    x.observe(outputEl, {childList: true});\n",
       "}}\n",
       "\n",
       "                        })\n",
       "                };\n",
       "                });\n",
       "            </script>\n",
       "        </div>"
      ]
     },
     "metadata": {},
     "output_type": "display_data"
    }
   ],
   "source": [
    "fig = px.choropleth(lastday_df, geojson=quebec, color=\"Total Number of Cases\", locations=\"res_nm_reg\", \n",
    "                    featureidkey= \"properties.res_nm_reg\", color_continuous_scale='Blues',\n",
    "                    projection=\"mercator\"\n",
    "                   )\n",
    "fig.update_geos(fitbounds=\"locations\", visible=False)\n",
    "\n",
    "fig.show()\n",
    "with open('../plotly/map.json', 'w') as f:\n",
    "    f.write(fig.to_json())"
   ]
  },
  {
   "cell_type": "code",
   "execution_count": 106,
   "metadata": {
    "scrolled": true
   },
   "outputs": [
    {
     "data": {
      "application/vnd.plotly.v1+json": {
       "config": {
        "plotlyServerURL": "https://plot.ly"
       },
       "data": [
        {
         "hoverlabel": {
          "namelength": 0
         },
         "hovertemplate": "Region=01-Bas-Saint-Laurent<br>Total Number of Cases=%{marker.size}<br>Lat=%{lat}<br>Long=%{lon}",
         "lat": [
          48.333333
         ],
         "legendgroup": "01-Bas-Saint-Laurent",
         "lon": [
          -68.666667
         ],
         "marker": {
          "color": "#636efa",
          "size": [
           6
          ],
          "sizemode": "area",
          "sizeref": 0.67
         },
         "mode": "markers",
         "name": "01-Bas-Saint-Laurent",
         "showlegend": true,
         "subplot": "mapbox",
         "type": "scattermapbox"
        },
        {
         "hoverlabel": {
          "namelength": 0
         },
         "hovertemplate": "Region=02- Saguenay-Lac-Saint-Jean<br>Total Number of Cases=%{marker.size}<br>Lat=%{lat}<br>Long=%{lon}",
         "lat": [
          49.8667
         ],
         "legendgroup": "02- Saguenay-Lac-Saint-Jean",
         "lon": [
          -71.75
         ],
         "marker": {
          "color": "#EF553B",
          "size": [
           8
          ],
          "sizemode": "area",
          "sizeref": 0.67
         },
         "mode": "markers",
         "name": "02- Saguenay-Lac-Saint-Jean",
         "showlegend": true,
         "subplot": "mapbox",
         "type": "scattermapbox"
        },
        {
         "hoverlabel": {
          "namelength": 0
         },
         "hovertemplate": "Region=03- Capitale-Nationale<br>Total Number of Cases=%{marker.size}<br>Lat=%{lat}<br>Long=%{lon}",
         "lat": [
          47.333333
         ],
         "legendgroup": "03- Capitale-Nationale",
         "lon": [
          -71.5
         ],
         "marker": {
          "color": "#00cc96",
          "size": [
           95
          ],
          "sizemode": "area",
          "sizeref": 0.67
         },
         "mode": "markers",
         "name": "03- Capitale-Nationale",
         "showlegend": true,
         "subplot": "mapbox",
         "type": "scattermapbox"
        },
        {
         "hoverlabel": {
          "namelength": 0
         },
         "hovertemplate": "Region=04-Mauricie<br>Total Number of Cases=%{marker.size}<br>Lat=%{lat}<br>Long=%{lon}",
         "lat": [
          47
         ],
         "legendgroup": "04-Mauricie",
         "lon": [
          -73
         ],
         "marker": {
          "color": "#ab63fa",
          "size": [
           35
          ],
          "sizemode": "area",
          "sizeref": 0.67
         },
         "mode": "markers",
         "name": "04-Mauricie",
         "showlegend": true,
         "subplot": "mapbox",
         "type": "scattermapbox"
        },
        {
         "hoverlabel": {
          "namelength": 0
         },
         "hovertemplate": "Region=05-Estrie<br>Total Number of Cases=%{marker.size}<br>Lat=%{lat}<br>Long=%{lon}",
         "lat": [
          45.481556
         ],
         "legendgroup": "05-Estrie",
         "lon": [
          -71.667917
         ],
         "marker": {
          "color": "#FFA15A",
          "size": [
           169
          ],
          "sizemode": "area",
          "sizeref": 0.67
         },
         "mode": "markers",
         "name": "05-Estrie",
         "showlegend": true,
         "subplot": "mapbox",
         "type": "scattermapbox"
        },
        {
         "hoverlabel": {
          "namelength": 0
         },
         "hovertemplate": "Region=06-Montreal<br>Total Number of Cases=%{marker.size}<br>Lat=%{lat}<br>Long=%{lon}",
         "lat": [
          45.5
         ],
         "legendgroup": "06-Montreal",
         "lon": [
          -73.566667
         ],
         "marker": {
          "color": "#19d3f3",
          "size": [
           603
          ],
          "sizemode": "area",
          "sizeref": 0.67
         },
         "mode": "markers",
         "name": "06-Montreal",
         "showlegend": true,
         "subplot": "mapbox",
         "type": "scattermapbox"
        },
        {
         "hoverlabel": {
          "namelength": 0
         },
         "hovertemplate": "Region=07-Outauais<br>Total Number of Cases=%{marker.size}<br>Lat=%{lat}<br>Long=%{lon}",
         "lat": [
          45.783333
         ],
         "legendgroup": "07-Outauais",
         "lon": [
          -75.083333
         ],
         "marker": {
          "color": "#FF6692",
          "size": [
           13
          ],
          "sizemode": "area",
          "sizeref": 0.67
         },
         "mode": "markers",
         "name": "07-Outauais",
         "showlegend": true,
         "subplot": "mapbox",
         "type": "scattermapbox"
        },
        {
         "hoverlabel": {
          "namelength": 0
         },
         "hovertemplate": "Region=08-Abititi-Temiscaminigue<br>Total Number of Cases=%{marker.size}<br>Lat=%{lat}<br>Long=%{lon}",
         "lat": [
          48.233333
         ],
         "legendgroup": "08-Abititi-Temiscaminigue",
         "lon": [
          -79.016667
         ],
         "marker": {
          "color": "#B6E880",
          "size": [
           5
          ],
          "sizemode": "area",
          "sizeref": 0.67
         },
         "mode": "markers",
         "name": "08-Abititi-Temiscaminigue",
         "showlegend": true,
         "subplot": "mapbox",
         "type": "scattermapbox"
        },
        {
         "hoverlabel": {
          "namelength": 0
         },
         "hovertemplate": "Region=9-Cote-Nord<br>Total Number of Cases=%{marker.size}<br>Lat=%{lat}<br>Long=%{lon}",
         "lat": [
          50.866667
         ],
         "legendgroup": "9-Cote-Nord",
         "lon": [
          -65.816667
         ],
         "marker": {
          "color": "#FF97FF",
          "size": [
           2
          ],
          "sizemode": "area",
          "sizeref": 0.67
         },
         "mode": "markers",
         "name": "9-Cote-Nord",
         "showlegend": true,
         "subplot": "mapbox",
         "type": "scattermapbox"
        },
        {
         "hoverlabel": {
          "namelength": 0
         },
         "hovertemplate": "Region=10-Nord-du-Quebec<br>Total Number of Cases=%{marker.size}<br>Lat=%{lat}<br>Long=%{lon}",
         "lat": [
          56.166667
         ],
         "legendgroup": "10-Nord-du-Quebec",
         "lon": [
          -74.416667
         ],
         "marker": {
          "color": "#FECB52",
          "size": [
           1
          ],
          "sizemode": "area",
          "sizeref": 0.67
         },
         "mode": "markers",
         "name": "10-Nord-du-Quebec",
         "showlegend": true,
         "subplot": "mapbox",
         "type": "scattermapbox"
        },
        {
         "hoverlabel": {
          "namelength": 0
         },
         "hovertemplate": "Region=11- Gaspesie-Iles-de-la-Madelaine<br>Total Number of Cases=%{marker.size}<br>Lat=%{lat}<br>Long=%{lon}",
         "lat": [
          48.683333
         ],
         "legendgroup": "11- Gaspesie-Iles-de-la-Madelaine",
         "lon": [
          -65.4
         ],
         "marker": {
          "color": "#636efa",
          "size": [
           7
          ],
          "sizemode": "area",
          "sizeref": 0.67
         },
         "mode": "markers",
         "name": "11- Gaspesie-Iles-de-la-Madelaine",
         "showlegend": true,
         "subplot": "mapbox",
         "type": "scattermapbox"
        },
        {
         "hoverlabel": {
          "namelength": 0
         },
         "hovertemplate": "Region=12-Chaudiere-Appalaches<br>Total Number of Cases=%{marker.size}<br>Lat=%{lat}<br>Long=%{lon}",
         "lat": [
          46.483333
         ],
         "legendgroup": "12-Chaudiere-Appalaches",
         "lon": [
          -70.616667
         ],
         "marker": {
          "color": "#EF553B",
          "size": [
           46
          ],
          "sizemode": "area",
          "sizeref": 0.67
         },
         "mode": "markers",
         "name": "12-Chaudiere-Appalaches",
         "showlegend": true,
         "subplot": "mapbox",
         "type": "scattermapbox"
        },
        {
         "hoverlabel": {
          "namelength": 0
         },
         "hovertemplate": "Region=13- Laval<br>Total Number of Cases=%{marker.size}<br>Lat=%{lat}<br>Long=%{lon}",
         "lat": [
          45.583333
         ],
         "legendgroup": "13- Laval",
         "lon": [
          -73.75
         ],
         "marker": {
          "color": "#00cc96",
          "size": [
           83
          ],
          "sizemode": "area",
          "sizeref": 0.67
         },
         "mode": "markers",
         "name": "13- Laval",
         "showlegend": true,
         "subplot": "mapbox",
         "type": "scattermapbox"
        },
        {
         "hoverlabel": {
          "namelength": 0
         },
         "hovertemplate": "Region=14- Lanaudiere<br>Total Number of Cases=%{marker.size}<br>Lat=%{lat}<br>Long=%{lon}",
         "lat": [
          46.766667
         ],
         "legendgroup": "14- Lanaudiere",
         "lon": [
          -73.833333
         ],
         "marker": {
          "color": "#ab63fa",
          "size": [
           68
          ],
          "sizemode": "area",
          "sizeref": 0.67
         },
         "mode": "markers",
         "name": "14- Lanaudiere",
         "showlegend": true,
         "subplot": "mapbox",
         "type": "scattermapbox"
        },
        {
         "hoverlabel": {
          "namelength": 0
         },
         "hovertemplate": "Region=15- Laurentides<br>Total Number of Cases=%{marker.size}<br>Lat=%{lat}<br>Long=%{lon}",
         "lat": [
          46.433333
         ],
         "legendgroup": "15- Laurentides",
         "lon": [
          -74.983333
         ],
         "marker": {
          "color": "#FFA15A",
          "size": [
           50
          ],
          "sizemode": "area",
          "sizeref": 0.67
         },
         "mode": "markers",
         "name": "15- Laurentides",
         "showlegend": true,
         "subplot": "mapbox",
         "type": "scattermapbox"
        },
        {
         "hoverlabel": {
          "namelength": 0
         },
         "hovertemplate": "Region=16- Monteregie<br>Total Number of Cases=%{marker.size}<br>Lat=%{lat}<br>Long=%{lon}",
         "lat": [
          45.383333
         ],
         "legendgroup": "16- Monteregie",
         "lon": [
          -73.1
         ],
         "marker": {
          "color": "#19d3f3",
          "size": [
           148
          ],
          "sizemode": "area",
          "sizeref": 0.67
         },
         "mode": "markers",
         "name": "16- Monteregie",
         "showlegend": true,
         "subplot": "mapbox",
         "type": "scattermapbox"
        },
        {
         "hoverlabel": {
          "namelength": 0
         },
         "hovertemplate": "Region=17- Centre du Quebec<br>Total Number of Cases=%{marker.size}<br>Lat=%{lat}<br>Long=%{lon}",
         "lat": [
          46.283333
         ],
         "legendgroup": "17- Centre du Quebec",
         "lon": [
          -72.066667
         ],
         "marker": {
          "color": "#FF6692",
          "size": [
           0
          ],
          "sizemode": "area",
          "sizeref": 0.67
         },
         "mode": "markers",
         "name": "17- Centre du Quebec",
         "showlegend": true,
         "subplot": "mapbox",
         "type": "scattermapbox"
        }
       ],
       "layout": {
        "legend": {
         "itemsizing": "constant",
         "title": {
          "text": "Region"
         },
         "tracegroupgap": 0
        },
        "mapbox": {
         "accesstoken": "pk.eyJ1Ijoibmlja2JlbnQiLCJhIjoiY2s4MjFyejMwMGRhMDNqcnU1aG0wZTdrZSJ9.t7FEmorhX4kygVCGQw17Bg",
         "center": {
          "lat": 47.657740411764706,
          "lon": -72.24909323529411
         },
         "domain": {
          "x": [
           0,
           1
          ],
          "y": [
           0,
           1
          ]
         },
         "style": "carto-positron",
         "zoom": 4
        },
        "margin": {
         "t": 60
        },
        "template": {
         "data": {
          "bar": [
           {
            "error_x": {
             "color": "#2a3f5f"
            },
            "error_y": {
             "color": "#2a3f5f"
            },
            "marker": {
             "line": {
              "color": "#E5ECF6",
              "width": 0.5
             }
            },
            "type": "bar"
           }
          ],
          "barpolar": [
           {
            "marker": {
             "line": {
              "color": "#E5ECF6",
              "width": 0.5
             }
            },
            "type": "barpolar"
           }
          ],
          "carpet": [
           {
            "aaxis": {
             "endlinecolor": "#2a3f5f",
             "gridcolor": "white",
             "linecolor": "white",
             "minorgridcolor": "white",
             "startlinecolor": "#2a3f5f"
            },
            "baxis": {
             "endlinecolor": "#2a3f5f",
             "gridcolor": "white",
             "linecolor": "white",
             "minorgridcolor": "white",
             "startlinecolor": "#2a3f5f"
            },
            "type": "carpet"
           }
          ],
          "choropleth": [
           {
            "colorbar": {
             "outlinewidth": 0,
             "ticks": ""
            },
            "type": "choropleth"
           }
          ],
          "contour": [
           {
            "colorbar": {
             "outlinewidth": 0,
             "ticks": ""
            },
            "colorscale": [
             [
              0,
              "#0d0887"
             ],
             [
              0.1111111111111111,
              "#46039f"
             ],
             [
              0.2222222222222222,
              "#7201a8"
             ],
             [
              0.3333333333333333,
              "#9c179e"
             ],
             [
              0.4444444444444444,
              "#bd3786"
             ],
             [
              0.5555555555555556,
              "#d8576b"
             ],
             [
              0.6666666666666666,
              "#ed7953"
             ],
             [
              0.7777777777777778,
              "#fb9f3a"
             ],
             [
              0.8888888888888888,
              "#fdca26"
             ],
             [
              1,
              "#f0f921"
             ]
            ],
            "type": "contour"
           }
          ],
          "contourcarpet": [
           {
            "colorbar": {
             "outlinewidth": 0,
             "ticks": ""
            },
            "type": "contourcarpet"
           }
          ],
          "heatmap": [
           {
            "colorbar": {
             "outlinewidth": 0,
             "ticks": ""
            },
            "colorscale": [
             [
              0,
              "#0d0887"
             ],
             [
              0.1111111111111111,
              "#46039f"
             ],
             [
              0.2222222222222222,
              "#7201a8"
             ],
             [
              0.3333333333333333,
              "#9c179e"
             ],
             [
              0.4444444444444444,
              "#bd3786"
             ],
             [
              0.5555555555555556,
              "#d8576b"
             ],
             [
              0.6666666666666666,
              "#ed7953"
             ],
             [
              0.7777777777777778,
              "#fb9f3a"
             ],
             [
              0.8888888888888888,
              "#fdca26"
             ],
             [
              1,
              "#f0f921"
             ]
            ],
            "type": "heatmap"
           }
          ],
          "heatmapgl": [
           {
            "colorbar": {
             "outlinewidth": 0,
             "ticks": ""
            },
            "colorscale": [
             [
              0,
              "#0d0887"
             ],
             [
              0.1111111111111111,
              "#46039f"
             ],
             [
              0.2222222222222222,
              "#7201a8"
             ],
             [
              0.3333333333333333,
              "#9c179e"
             ],
             [
              0.4444444444444444,
              "#bd3786"
             ],
             [
              0.5555555555555556,
              "#d8576b"
             ],
             [
              0.6666666666666666,
              "#ed7953"
             ],
             [
              0.7777777777777778,
              "#fb9f3a"
             ],
             [
              0.8888888888888888,
              "#fdca26"
             ],
             [
              1,
              "#f0f921"
             ]
            ],
            "type": "heatmapgl"
           }
          ],
          "histogram": [
           {
            "marker": {
             "colorbar": {
              "outlinewidth": 0,
              "ticks": ""
             }
            },
            "type": "histogram"
           }
          ],
          "histogram2d": [
           {
            "colorbar": {
             "outlinewidth": 0,
             "ticks": ""
            },
            "colorscale": [
             [
              0,
              "#0d0887"
             ],
             [
              0.1111111111111111,
              "#46039f"
             ],
             [
              0.2222222222222222,
              "#7201a8"
             ],
             [
              0.3333333333333333,
              "#9c179e"
             ],
             [
              0.4444444444444444,
              "#bd3786"
             ],
             [
              0.5555555555555556,
              "#d8576b"
             ],
             [
              0.6666666666666666,
              "#ed7953"
             ],
             [
              0.7777777777777778,
              "#fb9f3a"
             ],
             [
              0.8888888888888888,
              "#fdca26"
             ],
             [
              1,
              "#f0f921"
             ]
            ],
            "type": "histogram2d"
           }
          ],
          "histogram2dcontour": [
           {
            "colorbar": {
             "outlinewidth": 0,
             "ticks": ""
            },
            "colorscale": [
             [
              0,
              "#0d0887"
             ],
             [
              0.1111111111111111,
              "#46039f"
             ],
             [
              0.2222222222222222,
              "#7201a8"
             ],
             [
              0.3333333333333333,
              "#9c179e"
             ],
             [
              0.4444444444444444,
              "#bd3786"
             ],
             [
              0.5555555555555556,
              "#d8576b"
             ],
             [
              0.6666666666666666,
              "#ed7953"
             ],
             [
              0.7777777777777778,
              "#fb9f3a"
             ],
             [
              0.8888888888888888,
              "#fdca26"
             ],
             [
              1,
              "#f0f921"
             ]
            ],
            "type": "histogram2dcontour"
           }
          ],
          "mesh3d": [
           {
            "colorbar": {
             "outlinewidth": 0,
             "ticks": ""
            },
            "type": "mesh3d"
           }
          ],
          "parcoords": [
           {
            "line": {
             "colorbar": {
              "outlinewidth": 0,
              "ticks": ""
             }
            },
            "type": "parcoords"
           }
          ],
          "pie": [
           {
            "automargin": true,
            "type": "pie"
           }
          ],
          "scatter": [
           {
            "marker": {
             "colorbar": {
              "outlinewidth": 0,
              "ticks": ""
             }
            },
            "type": "scatter"
           }
          ],
          "scatter3d": [
           {
            "line": {
             "colorbar": {
              "outlinewidth": 0,
              "ticks": ""
             }
            },
            "marker": {
             "colorbar": {
              "outlinewidth": 0,
              "ticks": ""
             }
            },
            "type": "scatter3d"
           }
          ],
          "scattercarpet": [
           {
            "marker": {
             "colorbar": {
              "outlinewidth": 0,
              "ticks": ""
             }
            },
            "type": "scattercarpet"
           }
          ],
          "scattergeo": [
           {
            "marker": {
             "colorbar": {
              "outlinewidth": 0,
              "ticks": ""
             }
            },
            "type": "scattergeo"
           }
          ],
          "scattergl": [
           {
            "marker": {
             "colorbar": {
              "outlinewidth": 0,
              "ticks": ""
             }
            },
            "type": "scattergl"
           }
          ],
          "scattermapbox": [
           {
            "marker": {
             "colorbar": {
              "outlinewidth": 0,
              "ticks": ""
             }
            },
            "type": "scattermapbox"
           }
          ],
          "scatterpolar": [
           {
            "marker": {
             "colorbar": {
              "outlinewidth": 0,
              "ticks": ""
             }
            },
            "type": "scatterpolar"
           }
          ],
          "scatterpolargl": [
           {
            "marker": {
             "colorbar": {
              "outlinewidth": 0,
              "ticks": ""
             }
            },
            "type": "scatterpolargl"
           }
          ],
          "scatterternary": [
           {
            "marker": {
             "colorbar": {
              "outlinewidth": 0,
              "ticks": ""
             }
            },
            "type": "scatterternary"
           }
          ],
          "surface": [
           {
            "colorbar": {
             "outlinewidth": 0,
             "ticks": ""
            },
            "colorscale": [
             [
              0,
              "#0d0887"
             ],
             [
              0.1111111111111111,
              "#46039f"
             ],
             [
              0.2222222222222222,
              "#7201a8"
             ],
             [
              0.3333333333333333,
              "#9c179e"
             ],
             [
              0.4444444444444444,
              "#bd3786"
             ],
             [
              0.5555555555555556,
              "#d8576b"
             ],
             [
              0.6666666666666666,
              "#ed7953"
             ],
             [
              0.7777777777777778,
              "#fb9f3a"
             ],
             [
              0.8888888888888888,
              "#fdca26"
             ],
             [
              1,
              "#f0f921"
             ]
            ],
            "type": "surface"
           }
          ],
          "table": [
           {
            "cells": {
             "fill": {
              "color": "#EBF0F8"
             },
             "line": {
              "color": "white"
             }
            },
            "header": {
             "fill": {
              "color": "#C8D4E3"
             },
             "line": {
              "color": "white"
             }
            },
            "type": "table"
           }
          ]
         },
         "layout": {
          "annotationdefaults": {
           "arrowcolor": "#2a3f5f",
           "arrowhead": 0,
           "arrowwidth": 1
          },
          "coloraxis": {
           "colorbar": {
            "outlinewidth": 0,
            "ticks": ""
           }
          },
          "colorscale": {
           "diverging": [
            [
             0,
             "#8e0152"
            ],
            [
             0.1,
             "#c51b7d"
            ],
            [
             0.2,
             "#de77ae"
            ],
            [
             0.3,
             "#f1b6da"
            ],
            [
             0.4,
             "#fde0ef"
            ],
            [
             0.5,
             "#f7f7f7"
            ],
            [
             0.6,
             "#e6f5d0"
            ],
            [
             0.7,
             "#b8e186"
            ],
            [
             0.8,
             "#7fbc41"
            ],
            [
             0.9,
             "#4d9221"
            ],
            [
             1,
             "#276419"
            ]
           ],
           "sequential": [
            [
             0,
             "#0d0887"
            ],
            [
             0.1111111111111111,
             "#46039f"
            ],
            [
             0.2222222222222222,
             "#7201a8"
            ],
            [
             0.3333333333333333,
             "#9c179e"
            ],
            [
             0.4444444444444444,
             "#bd3786"
            ],
            [
             0.5555555555555556,
             "#d8576b"
            ],
            [
             0.6666666666666666,
             "#ed7953"
            ],
            [
             0.7777777777777778,
             "#fb9f3a"
            ],
            [
             0.8888888888888888,
             "#fdca26"
            ],
            [
             1,
             "#f0f921"
            ]
           ],
           "sequentialminus": [
            [
             0,
             "#0d0887"
            ],
            [
             0.1111111111111111,
             "#46039f"
            ],
            [
             0.2222222222222222,
             "#7201a8"
            ],
            [
             0.3333333333333333,
             "#9c179e"
            ],
            [
             0.4444444444444444,
             "#bd3786"
            ],
            [
             0.5555555555555556,
             "#d8576b"
            ],
            [
             0.6666666666666666,
             "#ed7953"
            ],
            [
             0.7777777777777778,
             "#fb9f3a"
            ],
            [
             0.8888888888888888,
             "#fdca26"
            ],
            [
             1,
             "#f0f921"
            ]
           ]
          },
          "colorway": [
           "#636efa",
           "#EF553B",
           "#00cc96",
           "#ab63fa",
           "#FFA15A",
           "#19d3f3",
           "#FF6692",
           "#B6E880",
           "#FF97FF",
           "#FECB52"
          ],
          "font": {
           "color": "#2a3f5f"
          },
          "geo": {
           "bgcolor": "white",
           "lakecolor": "white",
           "landcolor": "#E5ECF6",
           "showlakes": true,
           "showland": true,
           "subunitcolor": "white"
          },
          "hoverlabel": {
           "align": "left"
          },
          "hovermode": "closest",
          "mapbox": {
           "style": "light"
          },
          "paper_bgcolor": "white",
          "plot_bgcolor": "#E5ECF6",
          "polar": {
           "angularaxis": {
            "gridcolor": "white",
            "linecolor": "white",
            "ticks": ""
           },
           "bgcolor": "#E5ECF6",
           "radialaxis": {
            "gridcolor": "white",
            "linecolor": "white",
            "ticks": ""
           }
          },
          "scene": {
           "xaxis": {
            "backgroundcolor": "#E5ECF6",
            "gridcolor": "white",
            "gridwidth": 2,
            "linecolor": "white",
            "showbackground": true,
            "ticks": "",
            "zerolinecolor": "white"
           },
           "yaxis": {
            "backgroundcolor": "#E5ECF6",
            "gridcolor": "white",
            "gridwidth": 2,
            "linecolor": "white",
            "showbackground": true,
            "ticks": "",
            "zerolinecolor": "white"
           },
           "zaxis": {
            "backgroundcolor": "#E5ECF6",
            "gridcolor": "white",
            "gridwidth": 2,
            "linecolor": "white",
            "showbackground": true,
            "ticks": "",
            "zerolinecolor": "white"
           }
          },
          "shapedefaults": {
           "line": {
            "color": "#2a3f5f"
           }
          },
          "ternary": {
           "aaxis": {
            "gridcolor": "white",
            "linecolor": "white",
            "ticks": ""
           },
           "baxis": {
            "gridcolor": "white",
            "linecolor": "white",
            "ticks": ""
           },
           "bgcolor": "#E5ECF6",
           "caxis": {
            "gridcolor": "white",
            "linecolor": "white",
            "ticks": ""
           }
          },
          "title": {
           "x": 0.05
          },
          "xaxis": {
           "automargin": true,
           "gridcolor": "white",
           "linecolor": "white",
           "ticks": "",
           "title": {
            "standoff": 15
           },
           "zerolinecolor": "white",
           "zerolinewidth": 2
          },
          "yaxis": {
           "automargin": true,
           "gridcolor": "white",
           "linecolor": "white",
           "ticks": "",
           "title": {
            "standoff": 15
           },
           "zerolinecolor": "white",
           "zerolinewidth": 2
          }
         }
        }
       }
      },
      "text/html": [
       "<div>\n",
       "        \n",
       "        \n",
       "            <div id=\"c6e8f2ee-d58e-416a-8d80-7ebbe7eac88b\" class=\"plotly-graph-div\" style=\"height:525px; width:100%;\"></div>\n",
       "            <script type=\"text/javascript\">\n",
       "                require([\"plotly\"], function(Plotly) {\n",
       "                    window.PLOTLYENV=window.PLOTLYENV || {};\n",
       "                    \n",
       "                if (document.getElementById(\"c6e8f2ee-d58e-416a-8d80-7ebbe7eac88b\")) {\n",
       "                    Plotly.newPlot(\n",
       "                        'c6e8f2ee-d58e-416a-8d80-7ebbe7eac88b',\n",
       "                        [{\"hoverlabel\": {\"namelength\": 0}, \"hovertemplate\": \"Region=01-Bas-Saint-Laurent<br>Total Number of Cases=%{marker.size}<br>Lat=%{lat}<br>Long=%{lon}\", \"lat\": [48.333333], \"legendgroup\": \"01-Bas-Saint-Laurent\", \"lon\": [-68.666667], \"marker\": {\"color\": \"#636efa\", \"size\": [6.0], \"sizemode\": \"area\", \"sizeref\": 0.67}, \"mode\": \"markers\", \"name\": \"01-Bas-Saint-Laurent\", \"showlegend\": true, \"subplot\": \"mapbox\", \"type\": \"scattermapbox\"}, {\"hoverlabel\": {\"namelength\": 0}, \"hovertemplate\": \"Region=02- Saguenay-Lac-Saint-Jean<br>Total Number of Cases=%{marker.size}<br>Lat=%{lat}<br>Long=%{lon}\", \"lat\": [49.8667], \"legendgroup\": \"02- Saguenay-Lac-Saint-Jean\", \"lon\": [-71.75], \"marker\": {\"color\": \"#EF553B\", \"size\": [8.0], \"sizemode\": \"area\", \"sizeref\": 0.67}, \"mode\": \"markers\", \"name\": \"02- Saguenay-Lac-Saint-Jean\", \"showlegend\": true, \"subplot\": \"mapbox\", \"type\": \"scattermapbox\"}, {\"hoverlabel\": {\"namelength\": 0}, \"hovertemplate\": \"Region=03- Capitale-Nationale<br>Total Number of Cases=%{marker.size}<br>Lat=%{lat}<br>Long=%{lon}\", \"lat\": [47.333333], \"legendgroup\": \"03- Capitale-Nationale\", \"lon\": [-71.5], \"marker\": {\"color\": \"#00cc96\", \"size\": [95.0], \"sizemode\": \"area\", \"sizeref\": 0.67}, \"mode\": \"markers\", \"name\": \"03- Capitale-Nationale\", \"showlegend\": true, \"subplot\": \"mapbox\", \"type\": \"scattermapbox\"}, {\"hoverlabel\": {\"namelength\": 0}, \"hovertemplate\": \"Region=04-Mauricie<br>Total Number of Cases=%{marker.size}<br>Lat=%{lat}<br>Long=%{lon}\", \"lat\": [47.0], \"legendgroup\": \"04-Mauricie\", \"lon\": [-73.0], \"marker\": {\"color\": \"#ab63fa\", \"size\": [35.0], \"sizemode\": \"area\", \"sizeref\": 0.67}, \"mode\": \"markers\", \"name\": \"04-Mauricie\", \"showlegend\": true, \"subplot\": \"mapbox\", \"type\": \"scattermapbox\"}, {\"hoverlabel\": {\"namelength\": 0}, \"hovertemplate\": \"Region=05-Estrie<br>Total Number of Cases=%{marker.size}<br>Lat=%{lat}<br>Long=%{lon}\", \"lat\": [45.481556], \"legendgroup\": \"05-Estrie\", \"lon\": [-71.667917], \"marker\": {\"color\": \"#FFA15A\", \"size\": [169.0], \"sizemode\": \"area\", \"sizeref\": 0.67}, \"mode\": \"markers\", \"name\": \"05-Estrie\", \"showlegend\": true, \"subplot\": \"mapbox\", \"type\": \"scattermapbox\"}, {\"hoverlabel\": {\"namelength\": 0}, \"hovertemplate\": \"Region=06-Montreal<br>Total Number of Cases=%{marker.size}<br>Lat=%{lat}<br>Long=%{lon}\", \"lat\": [45.5], \"legendgroup\": \"06-Montreal\", \"lon\": [-73.566667], \"marker\": {\"color\": \"#19d3f3\", \"size\": [603.0], \"sizemode\": \"area\", \"sizeref\": 0.67}, \"mode\": \"markers\", \"name\": \"06-Montreal\", \"showlegend\": true, \"subplot\": \"mapbox\", \"type\": \"scattermapbox\"}, {\"hoverlabel\": {\"namelength\": 0}, \"hovertemplate\": \"Region=07-Outauais<br>Total Number of Cases=%{marker.size}<br>Lat=%{lat}<br>Long=%{lon}\", \"lat\": [45.783333], \"legendgroup\": \"07-Outauais\", \"lon\": [-75.083333], \"marker\": {\"color\": \"#FF6692\", \"size\": [13.0], \"sizemode\": \"area\", \"sizeref\": 0.67}, \"mode\": \"markers\", \"name\": \"07-Outauais\", \"showlegend\": true, \"subplot\": \"mapbox\", \"type\": \"scattermapbox\"}, {\"hoverlabel\": {\"namelength\": 0}, \"hovertemplate\": \"Region=08-Abititi-Temiscaminigue<br>Total Number of Cases=%{marker.size}<br>Lat=%{lat}<br>Long=%{lon}\", \"lat\": [48.233333], \"legendgroup\": \"08-Abititi-Temiscaminigue\", \"lon\": [-79.016667], \"marker\": {\"color\": \"#B6E880\", \"size\": [5.0], \"sizemode\": \"area\", \"sizeref\": 0.67}, \"mode\": \"markers\", \"name\": \"08-Abititi-Temiscaminigue\", \"showlegend\": true, \"subplot\": \"mapbox\", \"type\": \"scattermapbox\"}, {\"hoverlabel\": {\"namelength\": 0}, \"hovertemplate\": \"Region=9-Cote-Nord<br>Total Number of Cases=%{marker.size}<br>Lat=%{lat}<br>Long=%{lon}\", \"lat\": [50.866667], \"legendgroup\": \"9-Cote-Nord\", \"lon\": [-65.816667], \"marker\": {\"color\": \"#FF97FF\", \"size\": [2.0], \"sizemode\": \"area\", \"sizeref\": 0.67}, \"mode\": \"markers\", \"name\": \"9-Cote-Nord\", \"showlegend\": true, \"subplot\": \"mapbox\", \"type\": \"scattermapbox\"}, {\"hoverlabel\": {\"namelength\": 0}, \"hovertemplate\": \"Region=10-Nord-du-Quebec<br>Total Number of Cases=%{marker.size}<br>Lat=%{lat}<br>Long=%{lon}\", \"lat\": [56.166667], \"legendgroup\": \"10-Nord-du-Quebec\", \"lon\": [-74.416667], \"marker\": {\"color\": \"#FECB52\", \"size\": [1.0], \"sizemode\": \"area\", \"sizeref\": 0.67}, \"mode\": \"markers\", \"name\": \"10-Nord-du-Quebec\", \"showlegend\": true, \"subplot\": \"mapbox\", \"type\": \"scattermapbox\"}, {\"hoverlabel\": {\"namelength\": 0}, \"hovertemplate\": \"Region=11- Gaspesie-Iles-de-la-Madelaine<br>Total Number of Cases=%{marker.size}<br>Lat=%{lat}<br>Long=%{lon}\", \"lat\": [48.683333], \"legendgroup\": \"11- Gaspesie-Iles-de-la-Madelaine\", \"lon\": [-65.4], \"marker\": {\"color\": \"#636efa\", \"size\": [7.0], \"sizemode\": \"area\", \"sizeref\": 0.67}, \"mode\": \"markers\", \"name\": \"11- Gaspesie-Iles-de-la-Madelaine\", \"showlegend\": true, \"subplot\": \"mapbox\", \"type\": \"scattermapbox\"}, {\"hoverlabel\": {\"namelength\": 0}, \"hovertemplate\": \"Region=12-Chaudiere-Appalaches<br>Total Number of Cases=%{marker.size}<br>Lat=%{lat}<br>Long=%{lon}\", \"lat\": [46.483333], \"legendgroup\": \"12-Chaudiere-Appalaches\", \"lon\": [-70.616667], \"marker\": {\"color\": \"#EF553B\", \"size\": [46.0], \"sizemode\": \"area\", \"sizeref\": 0.67}, \"mode\": \"markers\", \"name\": \"12-Chaudiere-Appalaches\", \"showlegend\": true, \"subplot\": \"mapbox\", \"type\": \"scattermapbox\"}, {\"hoverlabel\": {\"namelength\": 0}, \"hovertemplate\": \"Region=13- Laval<br>Total Number of Cases=%{marker.size}<br>Lat=%{lat}<br>Long=%{lon}\", \"lat\": [45.583333], \"legendgroup\": \"13- Laval\", \"lon\": [-73.75], \"marker\": {\"color\": \"#00cc96\", \"size\": [83.0], \"sizemode\": \"area\", \"sizeref\": 0.67}, \"mode\": \"markers\", \"name\": \"13- Laval\", \"showlegend\": true, \"subplot\": \"mapbox\", \"type\": \"scattermapbox\"}, {\"hoverlabel\": {\"namelength\": 0}, \"hovertemplate\": \"Region=14- Lanaudiere<br>Total Number of Cases=%{marker.size}<br>Lat=%{lat}<br>Long=%{lon}\", \"lat\": [46.766667], \"legendgroup\": \"14- Lanaudiere\", \"lon\": [-73.833333], \"marker\": {\"color\": \"#ab63fa\", \"size\": [68.0], \"sizemode\": \"area\", \"sizeref\": 0.67}, \"mode\": \"markers\", \"name\": \"14- Lanaudiere\", \"showlegend\": true, \"subplot\": \"mapbox\", \"type\": \"scattermapbox\"}, {\"hoverlabel\": {\"namelength\": 0}, \"hovertemplate\": \"Region=15- Laurentides<br>Total Number of Cases=%{marker.size}<br>Lat=%{lat}<br>Long=%{lon}\", \"lat\": [46.433333], \"legendgroup\": \"15- Laurentides\", \"lon\": [-74.983333], \"marker\": {\"color\": \"#FFA15A\", \"size\": [50.0], \"sizemode\": \"area\", \"sizeref\": 0.67}, \"mode\": \"markers\", \"name\": \"15- Laurentides\", \"showlegend\": true, \"subplot\": \"mapbox\", \"type\": \"scattermapbox\"}, {\"hoverlabel\": {\"namelength\": 0}, \"hovertemplate\": \"Region=16- Monteregie<br>Total Number of Cases=%{marker.size}<br>Lat=%{lat}<br>Long=%{lon}\", \"lat\": [45.383333], \"legendgroup\": \"16- Monteregie\", \"lon\": [-73.1], \"marker\": {\"color\": \"#19d3f3\", \"size\": [148.0], \"sizemode\": \"area\", \"sizeref\": 0.67}, \"mode\": \"markers\", \"name\": \"16- Monteregie\", \"showlegend\": true, \"subplot\": \"mapbox\", \"type\": \"scattermapbox\"}, {\"hoverlabel\": {\"namelength\": 0}, \"hovertemplate\": \"Region=17- Centre du Quebec<br>Total Number of Cases=%{marker.size}<br>Lat=%{lat}<br>Long=%{lon}\", \"lat\": [46.283333], \"legendgroup\": \"17- Centre du Quebec\", \"lon\": [-72.066667], \"marker\": {\"color\": \"#FF6692\", \"size\": [0.0], \"sizemode\": \"area\", \"sizeref\": 0.67}, \"mode\": \"markers\", \"name\": \"17- Centre du Quebec\", \"showlegend\": true, \"subplot\": \"mapbox\", \"type\": \"scattermapbox\"}],\n",
       "                        {\"legend\": {\"itemsizing\": \"constant\", \"title\": {\"text\": \"Region\"}, \"tracegroupgap\": 0}, \"mapbox\": {\"accesstoken\": \"pk.eyJ1Ijoibmlja2JlbnQiLCJhIjoiY2s4MjFyejMwMGRhMDNqcnU1aG0wZTdrZSJ9.t7FEmorhX4kygVCGQw17Bg\", \"center\": {\"lat\": 47.657740411764706, \"lon\": -72.24909323529411}, \"domain\": {\"x\": [0.0, 1.0], \"y\": [0.0, 1.0]}, \"style\": \"carto-positron\", \"zoom\": 4}, \"margin\": {\"t\": 60}, \"template\": {\"data\": {\"bar\": [{\"error_x\": {\"color\": \"#2a3f5f\"}, \"error_y\": {\"color\": \"#2a3f5f\"}, \"marker\": {\"line\": {\"color\": \"#E5ECF6\", \"width\": 0.5}}, \"type\": \"bar\"}], \"barpolar\": [{\"marker\": {\"line\": {\"color\": \"#E5ECF6\", \"width\": 0.5}}, \"type\": \"barpolar\"}], \"carpet\": [{\"aaxis\": {\"endlinecolor\": \"#2a3f5f\", \"gridcolor\": \"white\", \"linecolor\": \"white\", \"minorgridcolor\": \"white\", \"startlinecolor\": \"#2a3f5f\"}, \"baxis\": {\"endlinecolor\": \"#2a3f5f\", \"gridcolor\": \"white\", \"linecolor\": \"white\", \"minorgridcolor\": \"white\", \"startlinecolor\": \"#2a3f5f\"}, \"type\": \"carpet\"}], \"choropleth\": [{\"colorbar\": {\"outlinewidth\": 0, \"ticks\": \"\"}, \"type\": \"choropleth\"}], \"contour\": [{\"colorbar\": {\"outlinewidth\": 0, \"ticks\": \"\"}, \"colorscale\": [[0.0, \"#0d0887\"], [0.1111111111111111, \"#46039f\"], [0.2222222222222222, \"#7201a8\"], [0.3333333333333333, \"#9c179e\"], [0.4444444444444444, \"#bd3786\"], [0.5555555555555556, \"#d8576b\"], [0.6666666666666666, \"#ed7953\"], [0.7777777777777778, \"#fb9f3a\"], [0.8888888888888888, \"#fdca26\"], [1.0, \"#f0f921\"]], \"type\": \"contour\"}], \"contourcarpet\": [{\"colorbar\": {\"outlinewidth\": 0, \"ticks\": \"\"}, \"type\": \"contourcarpet\"}], \"heatmap\": [{\"colorbar\": {\"outlinewidth\": 0, \"ticks\": \"\"}, \"colorscale\": [[0.0, \"#0d0887\"], [0.1111111111111111, \"#46039f\"], [0.2222222222222222, \"#7201a8\"], [0.3333333333333333, \"#9c179e\"], [0.4444444444444444, \"#bd3786\"], [0.5555555555555556, \"#d8576b\"], [0.6666666666666666, \"#ed7953\"], [0.7777777777777778, \"#fb9f3a\"], [0.8888888888888888, \"#fdca26\"], [1.0, \"#f0f921\"]], \"type\": \"heatmap\"}], \"heatmapgl\": [{\"colorbar\": {\"outlinewidth\": 0, \"ticks\": \"\"}, \"colorscale\": [[0.0, \"#0d0887\"], [0.1111111111111111, \"#46039f\"], [0.2222222222222222, \"#7201a8\"], [0.3333333333333333, \"#9c179e\"], [0.4444444444444444, \"#bd3786\"], [0.5555555555555556, \"#d8576b\"], [0.6666666666666666, \"#ed7953\"], [0.7777777777777778, \"#fb9f3a\"], [0.8888888888888888, \"#fdca26\"], [1.0, \"#f0f921\"]], \"type\": \"heatmapgl\"}], \"histogram\": [{\"marker\": {\"colorbar\": {\"outlinewidth\": 0, \"ticks\": \"\"}}, \"type\": \"histogram\"}], \"histogram2d\": [{\"colorbar\": {\"outlinewidth\": 0, \"ticks\": \"\"}, \"colorscale\": [[0.0, \"#0d0887\"], [0.1111111111111111, \"#46039f\"], [0.2222222222222222, \"#7201a8\"], [0.3333333333333333, \"#9c179e\"], [0.4444444444444444, \"#bd3786\"], [0.5555555555555556, \"#d8576b\"], [0.6666666666666666, \"#ed7953\"], [0.7777777777777778, \"#fb9f3a\"], [0.8888888888888888, \"#fdca26\"], [1.0, \"#f0f921\"]], \"type\": \"histogram2d\"}], \"histogram2dcontour\": [{\"colorbar\": {\"outlinewidth\": 0, \"ticks\": \"\"}, \"colorscale\": [[0.0, \"#0d0887\"], [0.1111111111111111, \"#46039f\"], [0.2222222222222222, \"#7201a8\"], [0.3333333333333333, \"#9c179e\"], [0.4444444444444444, \"#bd3786\"], [0.5555555555555556, \"#d8576b\"], [0.6666666666666666, \"#ed7953\"], [0.7777777777777778, \"#fb9f3a\"], [0.8888888888888888, \"#fdca26\"], [1.0, \"#f0f921\"]], \"type\": \"histogram2dcontour\"}], \"mesh3d\": [{\"colorbar\": {\"outlinewidth\": 0, \"ticks\": \"\"}, \"type\": \"mesh3d\"}], \"parcoords\": [{\"line\": {\"colorbar\": {\"outlinewidth\": 0, \"ticks\": \"\"}}, \"type\": \"parcoords\"}], \"pie\": [{\"automargin\": true, \"type\": \"pie\"}], \"scatter\": [{\"marker\": {\"colorbar\": {\"outlinewidth\": 0, \"ticks\": \"\"}}, \"type\": \"scatter\"}], \"scatter3d\": [{\"line\": {\"colorbar\": {\"outlinewidth\": 0, \"ticks\": \"\"}}, \"marker\": {\"colorbar\": {\"outlinewidth\": 0, \"ticks\": \"\"}}, \"type\": \"scatter3d\"}], \"scattercarpet\": [{\"marker\": {\"colorbar\": {\"outlinewidth\": 0, \"ticks\": \"\"}}, \"type\": \"scattercarpet\"}], \"scattergeo\": [{\"marker\": {\"colorbar\": {\"outlinewidth\": 0, \"ticks\": \"\"}}, \"type\": \"scattergeo\"}], \"scattergl\": [{\"marker\": {\"colorbar\": {\"outlinewidth\": 0, \"ticks\": \"\"}}, \"type\": \"scattergl\"}], \"scattermapbox\": [{\"marker\": {\"colorbar\": {\"outlinewidth\": 0, \"ticks\": \"\"}}, \"type\": \"scattermapbox\"}], \"scatterpolar\": [{\"marker\": {\"colorbar\": {\"outlinewidth\": 0, \"ticks\": \"\"}}, \"type\": \"scatterpolar\"}], \"scatterpolargl\": [{\"marker\": {\"colorbar\": {\"outlinewidth\": 0, \"ticks\": \"\"}}, \"type\": \"scatterpolargl\"}], \"scatterternary\": [{\"marker\": {\"colorbar\": {\"outlinewidth\": 0, \"ticks\": \"\"}}, \"type\": \"scatterternary\"}], \"surface\": [{\"colorbar\": {\"outlinewidth\": 0, \"ticks\": \"\"}, \"colorscale\": [[0.0, \"#0d0887\"], [0.1111111111111111, \"#46039f\"], [0.2222222222222222, \"#7201a8\"], [0.3333333333333333, \"#9c179e\"], [0.4444444444444444, \"#bd3786\"], [0.5555555555555556, \"#d8576b\"], [0.6666666666666666, \"#ed7953\"], [0.7777777777777778, \"#fb9f3a\"], [0.8888888888888888, \"#fdca26\"], [1.0, \"#f0f921\"]], \"type\": \"surface\"}], \"table\": [{\"cells\": {\"fill\": {\"color\": \"#EBF0F8\"}, \"line\": {\"color\": \"white\"}}, \"header\": {\"fill\": {\"color\": \"#C8D4E3\"}, \"line\": {\"color\": \"white\"}}, \"type\": \"table\"}]}, \"layout\": {\"annotationdefaults\": {\"arrowcolor\": \"#2a3f5f\", \"arrowhead\": 0, \"arrowwidth\": 1}, \"coloraxis\": {\"colorbar\": {\"outlinewidth\": 0, \"ticks\": \"\"}}, \"colorscale\": {\"diverging\": [[0, \"#8e0152\"], [0.1, \"#c51b7d\"], [0.2, \"#de77ae\"], [0.3, \"#f1b6da\"], [0.4, \"#fde0ef\"], [0.5, \"#f7f7f7\"], [0.6, \"#e6f5d0\"], [0.7, \"#b8e186\"], [0.8, \"#7fbc41\"], [0.9, \"#4d9221\"], [1, \"#276419\"]], \"sequential\": [[0.0, \"#0d0887\"], [0.1111111111111111, \"#46039f\"], [0.2222222222222222, \"#7201a8\"], [0.3333333333333333, \"#9c179e\"], [0.4444444444444444, \"#bd3786\"], [0.5555555555555556, \"#d8576b\"], [0.6666666666666666, \"#ed7953\"], [0.7777777777777778, \"#fb9f3a\"], [0.8888888888888888, \"#fdca26\"], [1.0, \"#f0f921\"]], \"sequentialminus\": [[0.0, \"#0d0887\"], [0.1111111111111111, \"#46039f\"], [0.2222222222222222, \"#7201a8\"], [0.3333333333333333, \"#9c179e\"], [0.4444444444444444, \"#bd3786\"], [0.5555555555555556, \"#d8576b\"], [0.6666666666666666, \"#ed7953\"], [0.7777777777777778, \"#fb9f3a\"], [0.8888888888888888, \"#fdca26\"], [1.0, \"#f0f921\"]]}, \"colorway\": [\"#636efa\", \"#EF553B\", \"#00cc96\", \"#ab63fa\", \"#FFA15A\", \"#19d3f3\", \"#FF6692\", \"#B6E880\", \"#FF97FF\", \"#FECB52\"], \"font\": {\"color\": \"#2a3f5f\"}, \"geo\": {\"bgcolor\": \"white\", \"lakecolor\": \"white\", \"landcolor\": \"#E5ECF6\", \"showlakes\": true, \"showland\": true, \"subunitcolor\": \"white\"}, \"hoverlabel\": {\"align\": \"left\"}, \"hovermode\": \"closest\", \"mapbox\": {\"style\": \"light\"}, \"paper_bgcolor\": \"white\", \"plot_bgcolor\": \"#E5ECF6\", \"polar\": {\"angularaxis\": {\"gridcolor\": \"white\", \"linecolor\": \"white\", \"ticks\": \"\"}, \"bgcolor\": \"#E5ECF6\", \"radialaxis\": {\"gridcolor\": \"white\", \"linecolor\": \"white\", \"ticks\": \"\"}}, \"scene\": {\"xaxis\": {\"backgroundcolor\": \"#E5ECF6\", \"gridcolor\": \"white\", \"gridwidth\": 2, \"linecolor\": \"white\", \"showbackground\": true, \"ticks\": \"\", \"zerolinecolor\": \"white\"}, \"yaxis\": {\"backgroundcolor\": \"#E5ECF6\", \"gridcolor\": \"white\", \"gridwidth\": 2, \"linecolor\": \"white\", \"showbackground\": true, \"ticks\": \"\", \"zerolinecolor\": \"white\"}, \"zaxis\": {\"backgroundcolor\": \"#E5ECF6\", \"gridcolor\": \"white\", \"gridwidth\": 2, \"linecolor\": \"white\", \"showbackground\": true, \"ticks\": \"\", \"zerolinecolor\": \"white\"}}, \"shapedefaults\": {\"line\": {\"color\": \"#2a3f5f\"}}, \"ternary\": {\"aaxis\": {\"gridcolor\": \"white\", \"linecolor\": \"white\", \"ticks\": \"\"}, \"baxis\": {\"gridcolor\": \"white\", \"linecolor\": \"white\", \"ticks\": \"\"}, \"bgcolor\": \"#E5ECF6\", \"caxis\": {\"gridcolor\": \"white\", \"linecolor\": \"white\", \"ticks\": \"\"}}, \"title\": {\"x\": 0.05}, \"xaxis\": {\"automargin\": true, \"gridcolor\": \"white\", \"linecolor\": \"white\", \"ticks\": \"\", \"title\": {\"standoff\": 15}, \"zerolinecolor\": \"white\", \"zerolinewidth\": 2}, \"yaxis\": {\"automargin\": true, \"gridcolor\": \"white\", \"linecolor\": \"white\", \"ticks\": \"\", \"title\": {\"standoff\": 15}, \"zerolinecolor\": \"white\", \"zerolinewidth\": 2}}}},\n",
       "                        {\"responsive\": true}\n",
       "                    ).then(function(){\n",
       "                            \n",
       "var gd = document.getElementById('c6e8f2ee-d58e-416a-8d80-7ebbe7eac88b');\n",
       "var x = new MutationObserver(function (mutations, observer) {{\n",
       "        var display = window.getComputedStyle(gd).display;\n",
       "        if (!display || display === 'none') {{\n",
       "            console.log([gd, 'removed!']);\n",
       "            Plotly.purge(gd);\n",
       "            observer.disconnect();\n",
       "        }}\n",
       "}});\n",
       "\n",
       "// Listen for the removal of the full notebook cells\n",
       "var notebookContainer = gd.closest('#notebook-container');\n",
       "if (notebookContainer) {{\n",
       "    x.observe(notebookContainer, {childList: true});\n",
       "}}\n",
       "\n",
       "// Listen for the clearing of the current output cell\n",
       "var outputEl = gd.closest('.output');\n",
       "if (outputEl) {{\n",
       "    x.observe(outputEl, {childList: true});\n",
       "}}\n",
       "\n",
       "                        })\n",
       "                };\n",
       "                });\n",
       "            </script>\n",
       "        </div>"
      ]
     },
     "metadata": {},
     "output_type": "display_data"
    }
   ],
   "source": [
    "token = \"pk.eyJ1Ijoibmlja2JlbnQiLCJhIjoiY2s4MjFyejMwMGRhMDNqcnU1aG0wZTdrZSJ9.t7FEmorhX4kygVCGQw17Bg\"\n",
    "px.set_mapbox_access_token(token)\n",
    "fig = px.scatter_mapbox(lastday_df, lat=\"Lat\", lon=\"Long\",     color=\"Region\", size=\"Total Number of Cases\",\n",
    "                        mapbox_style=\"carto-positron\", color_continuous_scale=px.colors.cyclical.IceFire, size_max=30, zoom=4)\n",
    "fig.show()\n",
    "with open('../plotly/map.json', 'w') as f:\n",
    "    f.write(fig.to_json())"
   ]
  },
  {
   "cell_type": "code",
   "execution_count": 107,
   "metadata": {},
   "outputs": [
    {
     "data": {
      "application/vnd.plotly.v1+json": {
       "config": {
        "plotlyServerURL": "https://plot.ly"
       },
       "data": [
        {
         "geo": "geo",
         "hoverlabel": {
          "namelength": 0
         },
         "hovertemplate": "Region=01-Bas-Saint-Laurent<br>Date of Infection=13th<br>Total Number of Cases=%{marker.size}<br>Lat=%{lat}<br>Long=%{lon}",
         "lat": [
          48.333333
         ],
         "legendgroup": "01-Bas-Saint-Laurent",
         "lon": [
          -68.666667
         ],
         "marker": {
          "color": "#636efa",
          "size": [
           0
          ],
          "sizemode": "area",
          "sizeref": 0.67
         },
         "name": "01-Bas-Saint-Laurent",
         "showlegend": true,
         "type": "scattergeo"
        },
        {
         "geo": "geo",
         "hoverlabel": {
          "namelength": 0
         },
         "hovertemplate": "Region=02- Saguenay-Lac-Saint-Jean<br>Date of Infection=13th<br>Total Number of Cases=%{marker.size}<br>Lat=%{lat}<br>Long=%{lon}",
         "lat": [
          49.8667
         ],
         "legendgroup": "02- Saguenay-Lac-Saint-Jean",
         "lon": [
          -71.75
         ],
         "marker": {
          "color": "#EF553B",
          "size": [
           0
          ],
          "sizemode": "area",
          "sizeref": 0.67
         },
         "name": "02- Saguenay-Lac-Saint-Jean",
         "showlegend": true,
         "type": "scattergeo"
        },
        {
         "geo": "geo",
         "hoverlabel": {
          "namelength": 0
         },
         "hovertemplate": "Region=03- Capitale-Nationale<br>Date of Infection=13th<br>Total Number of Cases=%{marker.size}<br>Lat=%{lat}<br>Long=%{lon}",
         "lat": [
          47.333333
         ],
         "legendgroup": "03- Capitale-Nationale",
         "lon": [
          -71.5
         ],
         "marker": {
          "color": "#00cc96",
          "size": [
           0
          ],
          "sizemode": "area",
          "sizeref": 0.67
         },
         "name": "03- Capitale-Nationale",
         "showlegend": true,
         "type": "scattergeo"
        },
        {
         "geo": "geo",
         "hoverlabel": {
          "namelength": 0
         },
         "hovertemplate": "Region=04-Mauricie<br>Date of Infection=13th<br>Total Number of Cases=%{marker.size}<br>Lat=%{lat}<br>Long=%{lon}",
         "lat": [
          47
         ],
         "legendgroup": "04-Mauricie",
         "lon": [
          -73
         ],
         "marker": {
          "color": "#ab63fa",
          "size": [
           1
          ],
          "sizemode": "area",
          "sizeref": 0.67
         },
         "name": "04-Mauricie",
         "showlegend": true,
         "type": "scattergeo"
        },
        {
         "geo": "geo",
         "hoverlabel": {
          "namelength": 0
         },
         "hovertemplate": "Region=05-Estrie<br>Date of Infection=13th<br>Total Number of Cases=%{marker.size}<br>Lat=%{lat}<br>Long=%{lon}",
         "lat": [
          45.481556
         ],
         "legendgroup": "05-Estrie",
         "lon": [
          -71.667917
         ],
         "marker": {
          "color": "#FFA15A",
          "size": [
           2
          ],
          "sizemode": "area",
          "sizeref": 0.67
         },
         "name": "05-Estrie",
         "showlegend": true,
         "type": "scattergeo"
        },
        {
         "geo": "geo",
         "hoverlabel": {
          "namelength": 0
         },
         "hovertemplate": "Region=06-Montreal<br>Date of Infection=13th<br>Total Number of Cases=%{marker.size}<br>Lat=%{lat}<br>Long=%{lon}",
         "lat": [
          45.5
         ],
         "legendgroup": "06-Montreal",
         "lon": [
          -73.566667
         ],
         "marker": {
          "color": "#19d3f3",
          "size": [
           7
          ],
          "sizemode": "area",
          "sizeref": 0.67
         },
         "name": "06-Montreal",
         "showlegend": true,
         "type": "scattergeo"
        },
        {
         "geo": "geo",
         "hoverlabel": {
          "namelength": 0
         },
         "hovertemplate": "Region=07-Outauais<br>Date of Infection=13th<br>Total Number of Cases=%{marker.size}<br>Lat=%{lat}<br>Long=%{lon}",
         "lat": [
          45.783333
         ],
         "legendgroup": "07-Outauais",
         "lon": [
          -75.083333
         ],
         "marker": {
          "color": "#FF6692",
          "size": [
           0
          ],
          "sizemode": "area",
          "sizeref": 0.67
         },
         "name": "07-Outauais",
         "showlegend": true,
         "type": "scattergeo"
        },
        {
         "geo": "geo",
         "hoverlabel": {
          "namelength": 0
         },
         "hovertemplate": "Region=08-Abititi-Temiscaminigue<br>Date of Infection=13th<br>Total Number of Cases=%{marker.size}<br>Lat=%{lat}<br>Long=%{lon}",
         "lat": [
          48.233333
         ],
         "legendgroup": "08-Abititi-Temiscaminigue",
         "lon": [
          -79.016667
         ],
         "marker": {
          "color": "#B6E880",
          "size": [
           0
          ],
          "sizemode": "area",
          "sizeref": 0.67
         },
         "name": "08-Abititi-Temiscaminigue",
         "showlegend": true,
         "type": "scattergeo"
        },
        {
         "geo": "geo",
         "hoverlabel": {
          "namelength": 0
         },
         "hovertemplate": "Region=9-Cote-Nord<br>Date of Infection=13th<br>Total Number of Cases=%{marker.size}<br>Lat=%{lat}<br>Long=%{lon}",
         "lat": [
          50.866667
         ],
         "legendgroup": "9-Cote-Nord",
         "lon": [
          -65.816667
         ],
         "marker": {
          "color": "#FF97FF",
          "size": [
           0
          ],
          "sizemode": "area",
          "sizeref": 0.67
         },
         "name": "9-Cote-Nord",
         "showlegend": true,
         "type": "scattergeo"
        },
        {
         "geo": "geo",
         "hoverlabel": {
          "namelength": 0
         },
         "hovertemplate": "Region=10-Nord-du-Quebec<br>Date of Infection=13th<br>Total Number of Cases=%{marker.size}<br>Lat=%{lat}<br>Long=%{lon}",
         "lat": [
          56.166667
         ],
         "legendgroup": "10-Nord-du-Quebec",
         "lon": [
          -74.416667
         ],
         "marker": {
          "color": "#FECB52",
          "size": [
           0
          ],
          "sizemode": "area",
          "sizeref": 0.67
         },
         "name": "10-Nord-du-Quebec",
         "showlegend": true,
         "type": "scattergeo"
        },
        {
         "geo": "geo",
         "hoverlabel": {
          "namelength": 0
         },
         "hovertemplate": "Region=11- Gaspesie-Iles-de-la-Madelaine<br>Date of Infection=13th<br>Total Number of Cases=%{marker.size}<br>Lat=%{lat}<br>Long=%{lon}",
         "lat": [
          48.683333
         ],
         "legendgroup": "11- Gaspesie-Iles-de-la-Madelaine",
         "lon": [
          -65.4
         ],
         "marker": {
          "color": "#636efa",
          "size": [
           0
          ],
          "sizemode": "area",
          "sizeref": 0.67
         },
         "name": "11- Gaspesie-Iles-de-la-Madelaine",
         "showlegend": true,
         "type": "scattergeo"
        },
        {
         "geo": "geo",
         "hoverlabel": {
          "namelength": 0
         },
         "hovertemplate": "Region=12-Chaudiere-Appalaches<br>Date of Infection=13th<br>Total Number of Cases=%{marker.size}<br>Lat=%{lat}<br>Long=%{lon}",
         "lat": [
          46.483333
         ],
         "legendgroup": "12-Chaudiere-Appalaches",
         "lon": [
          -70.616667
         ],
         "marker": {
          "color": "#EF553B",
          "size": [
           1
          ],
          "sizemode": "area",
          "sizeref": 0.67
         },
         "name": "12-Chaudiere-Appalaches",
         "showlegend": true,
         "type": "scattergeo"
        },
        {
         "geo": "geo",
         "hoverlabel": {
          "namelength": 0
         },
         "hovertemplate": "Region=13- Laval<br>Date of Infection=13th<br>Total Number of Cases=%{marker.size}<br>Lat=%{lat}<br>Long=%{lon}",
         "lat": [
          45.583333
         ],
         "legendgroup": "13- Laval",
         "lon": [
          -73.75
         ],
         "marker": {
          "color": "#00cc96",
          "size": [
           0
          ],
          "sizemode": "area",
          "sizeref": 0.67
         },
         "name": "13- Laval",
         "showlegend": true,
         "type": "scattergeo"
        },
        {
         "geo": "geo",
         "hoverlabel": {
          "namelength": 0
         },
         "hovertemplate": "Region=14- Lanaudiere<br>Date of Infection=13th<br>Total Number of Cases=%{marker.size}<br>Lat=%{lat}<br>Long=%{lon}",
         "lat": [
          46.766667
         ],
         "legendgroup": "14- Lanaudiere",
         "lon": [
          -73.833333
         ],
         "marker": {
          "color": "#ab63fa",
          "size": [
           0
          ],
          "sizemode": "area",
          "sizeref": 0.67
         },
         "name": "14- Lanaudiere",
         "showlegend": true,
         "type": "scattergeo"
        },
        {
         "geo": "geo",
         "hoverlabel": {
          "namelength": 0
         },
         "hovertemplate": "Region=15- Laurentides<br>Date of Infection=13th<br>Total Number of Cases=%{marker.size}<br>Lat=%{lat}<br>Long=%{lon}",
         "lat": [
          46.433333
         ],
         "legendgroup": "15- Laurentides",
         "lon": [
          -74.983333
         ],
         "marker": {
          "color": "#FFA15A",
          "size": [
           2
          ],
          "sizemode": "area",
          "sizeref": 0.67
         },
         "name": "15- Laurentides",
         "showlegend": true,
         "type": "scattergeo"
        },
        {
         "geo": "geo",
         "hoverlabel": {
          "namelength": 0
         },
         "hovertemplate": "Region=16- Monteregie<br>Date of Infection=13th<br>Total Number of Cases=%{marker.size}<br>Lat=%{lat}<br>Long=%{lon}",
         "lat": [
          45.383333
         ],
         "legendgroup": "16- Monteregie",
         "lon": [
          -73.1
         ],
         "marker": {
          "color": "#19d3f3",
          "size": [
           4
          ],
          "sizemode": "area",
          "sizeref": 0.67
         },
         "name": "16- Monteregie",
         "showlegend": true,
         "type": "scattergeo"
        },
        {
         "geo": "geo",
         "hoverlabel": {
          "namelength": 0
         },
         "hovertemplate": "Region=17- Centre du Quebec<br>Date of Infection=13th<br>Total Number of Cases=%{marker.size}<br>Lat=%{lat}<br>Long=%{lon}",
         "lat": [
          46.283333
         ],
         "legendgroup": "17- Centre du Quebec",
         "lon": [
          -72.066667
         ],
         "marker": {
          "color": "#FF6692",
          "size": [
           0
          ],
          "sizemode": "area",
          "sizeref": 0.67
         },
         "name": "17- Centre du Quebec",
         "showlegend": true,
         "type": "scattergeo"
        },
        {
         "geo": "geo",
         "hoverlabel": {
          "namelength": 0
         },
         "hovertemplate": "Region=Undetermined<br>Date of Infection=13th<br>Total Number of Cases=%{marker.size}<br>Lat=%{lat}<br>Long=%{lon}",
         "lat": [
          "na"
         ],
         "legendgroup": "Undetermined",
         "lon": [
          "na"
         ],
         "marker": {
          "color": "#B6E880",
          "size": [
           0
          ],
          "sizemode": "area",
          "sizeref": 0.67
         },
         "name": "Undetermined",
         "showlegend": true,
         "type": "scattergeo"
        },
        {
         "geo": "geo",
         "hoverlabel": {
          "namelength": 0
         },
         "hovertemplate": "Region=Hors Quebec<br>Date of Infection=13th<br>Total Number of Cases=%{marker.size}<br>Lat=%{lat}<br>Long=%{lon}",
         "lat": [
          "na"
         ],
         "legendgroup": "Hors Quebec",
         "lon": [
          "na"
         ],
         "marker": {
          "color": "#FF97FF",
          "size": [
           0
          ],
          "sizemode": "area",
          "sizeref": 0.67
         },
         "name": "Hors Quebec",
         "showlegend": true,
         "type": "scattergeo"
        }
       ],
       "frames": [
        {
         "data": [
          {
           "geo": "geo",
           "hoverlabel": {
            "namelength": 0
           },
           "hovertemplate": "Region=01-Bas-Saint-Laurent<br>Date of Infection=13th<br>Total Number of Cases=%{marker.size}<br>Lat=%{lat}<br>Long=%{lon}",
           "lat": [
            48.333333
           ],
           "legendgroup": "01-Bas-Saint-Laurent",
           "lon": [
            -68.666667
           ],
           "marker": {
            "color": "#636efa",
            "size": [
             0
            ],
            "sizemode": "area",
            "sizeref": 0.67
           },
           "name": "01-Bas-Saint-Laurent",
           "showlegend": true,
           "type": "scattergeo"
          },
          {
           "geo": "geo",
           "hoverlabel": {
            "namelength": 0
           },
           "hovertemplate": "Region=02- Saguenay-Lac-Saint-Jean<br>Date of Infection=13th<br>Total Number of Cases=%{marker.size}<br>Lat=%{lat}<br>Long=%{lon}",
           "lat": [
            49.8667
           ],
           "legendgroup": "02- Saguenay-Lac-Saint-Jean",
           "lon": [
            -71.75
           ],
           "marker": {
            "color": "#EF553B",
            "size": [
             0
            ],
            "sizemode": "area",
            "sizeref": 0.67
           },
           "name": "02- Saguenay-Lac-Saint-Jean",
           "showlegend": true,
           "type": "scattergeo"
          },
          {
           "geo": "geo",
           "hoverlabel": {
            "namelength": 0
           },
           "hovertemplate": "Region=03- Capitale-Nationale<br>Date of Infection=13th<br>Total Number of Cases=%{marker.size}<br>Lat=%{lat}<br>Long=%{lon}",
           "lat": [
            47.333333
           ],
           "legendgroup": "03- Capitale-Nationale",
           "lon": [
            -71.5
           ],
           "marker": {
            "color": "#00cc96",
            "size": [
             0
            ],
            "sizemode": "area",
            "sizeref": 0.67
           },
           "name": "03- Capitale-Nationale",
           "showlegend": true,
           "type": "scattergeo"
          },
          {
           "geo": "geo",
           "hoverlabel": {
            "namelength": 0
           },
           "hovertemplate": "Region=04-Mauricie<br>Date of Infection=13th<br>Total Number of Cases=%{marker.size}<br>Lat=%{lat}<br>Long=%{lon}",
           "lat": [
            47
           ],
           "legendgroup": "04-Mauricie",
           "lon": [
            -73
           ],
           "marker": {
            "color": "#ab63fa",
            "size": [
             1
            ],
            "sizemode": "area",
            "sizeref": 0.67
           },
           "name": "04-Mauricie",
           "showlegend": true,
           "type": "scattergeo"
          },
          {
           "geo": "geo",
           "hoverlabel": {
            "namelength": 0
           },
           "hovertemplate": "Region=05-Estrie<br>Date of Infection=13th<br>Total Number of Cases=%{marker.size}<br>Lat=%{lat}<br>Long=%{lon}",
           "lat": [
            45.481556
           ],
           "legendgroup": "05-Estrie",
           "lon": [
            -71.667917
           ],
           "marker": {
            "color": "#FFA15A",
            "size": [
             2
            ],
            "sizemode": "area",
            "sizeref": 0.67
           },
           "name": "05-Estrie",
           "showlegend": true,
           "type": "scattergeo"
          },
          {
           "geo": "geo",
           "hoverlabel": {
            "namelength": 0
           },
           "hovertemplate": "Region=06-Montreal<br>Date of Infection=13th<br>Total Number of Cases=%{marker.size}<br>Lat=%{lat}<br>Long=%{lon}",
           "lat": [
            45.5
           ],
           "legendgroup": "06-Montreal",
           "lon": [
            -73.566667
           ],
           "marker": {
            "color": "#19d3f3",
            "size": [
             7
            ],
            "sizemode": "area",
            "sizeref": 0.67
           },
           "name": "06-Montreal",
           "showlegend": true,
           "type": "scattergeo"
          },
          {
           "geo": "geo",
           "hoverlabel": {
            "namelength": 0
           },
           "hovertemplate": "Region=07-Outauais<br>Date of Infection=13th<br>Total Number of Cases=%{marker.size}<br>Lat=%{lat}<br>Long=%{lon}",
           "lat": [
            45.783333
           ],
           "legendgroup": "07-Outauais",
           "lon": [
            -75.083333
           ],
           "marker": {
            "color": "#FF6692",
            "size": [
             0
            ],
            "sizemode": "area",
            "sizeref": 0.67
           },
           "name": "07-Outauais",
           "showlegend": true,
           "type": "scattergeo"
          },
          {
           "geo": "geo",
           "hoverlabel": {
            "namelength": 0
           },
           "hovertemplate": "Region=08-Abititi-Temiscaminigue<br>Date of Infection=13th<br>Total Number of Cases=%{marker.size}<br>Lat=%{lat}<br>Long=%{lon}",
           "lat": [
            48.233333
           ],
           "legendgroup": "08-Abititi-Temiscaminigue",
           "lon": [
            -79.016667
           ],
           "marker": {
            "color": "#B6E880",
            "size": [
             0
            ],
            "sizemode": "area",
            "sizeref": 0.67
           },
           "name": "08-Abititi-Temiscaminigue",
           "showlegend": true,
           "type": "scattergeo"
          },
          {
           "geo": "geo",
           "hoverlabel": {
            "namelength": 0
           },
           "hovertemplate": "Region=9-Cote-Nord<br>Date of Infection=13th<br>Total Number of Cases=%{marker.size}<br>Lat=%{lat}<br>Long=%{lon}",
           "lat": [
            50.866667
           ],
           "legendgroup": "9-Cote-Nord",
           "lon": [
            -65.816667
           ],
           "marker": {
            "color": "#FF97FF",
            "size": [
             0
            ],
            "sizemode": "area",
            "sizeref": 0.67
           },
           "name": "9-Cote-Nord",
           "showlegend": true,
           "type": "scattergeo"
          },
          {
           "geo": "geo",
           "hoverlabel": {
            "namelength": 0
           },
           "hovertemplate": "Region=10-Nord-du-Quebec<br>Date of Infection=13th<br>Total Number of Cases=%{marker.size}<br>Lat=%{lat}<br>Long=%{lon}",
           "lat": [
            56.166667
           ],
           "legendgroup": "10-Nord-du-Quebec",
           "lon": [
            -74.416667
           ],
           "marker": {
            "color": "#FECB52",
            "size": [
             0
            ],
            "sizemode": "area",
            "sizeref": 0.67
           },
           "name": "10-Nord-du-Quebec",
           "showlegend": true,
           "type": "scattergeo"
          },
          {
           "geo": "geo",
           "hoverlabel": {
            "namelength": 0
           },
           "hovertemplate": "Region=11- Gaspesie-Iles-de-la-Madelaine<br>Date of Infection=13th<br>Total Number of Cases=%{marker.size}<br>Lat=%{lat}<br>Long=%{lon}",
           "lat": [
            48.683333
           ],
           "legendgroup": "11- Gaspesie-Iles-de-la-Madelaine",
           "lon": [
            -65.4
           ],
           "marker": {
            "color": "#636efa",
            "size": [
             0
            ],
            "sizemode": "area",
            "sizeref": 0.67
           },
           "name": "11- Gaspesie-Iles-de-la-Madelaine",
           "showlegend": true,
           "type": "scattergeo"
          },
          {
           "geo": "geo",
           "hoverlabel": {
            "namelength": 0
           },
           "hovertemplate": "Region=12-Chaudiere-Appalaches<br>Date of Infection=13th<br>Total Number of Cases=%{marker.size}<br>Lat=%{lat}<br>Long=%{lon}",
           "lat": [
            46.483333
           ],
           "legendgroup": "12-Chaudiere-Appalaches",
           "lon": [
            -70.616667
           ],
           "marker": {
            "color": "#EF553B",
            "size": [
             1
            ],
            "sizemode": "area",
            "sizeref": 0.67
           },
           "name": "12-Chaudiere-Appalaches",
           "showlegend": true,
           "type": "scattergeo"
          },
          {
           "geo": "geo",
           "hoverlabel": {
            "namelength": 0
           },
           "hovertemplate": "Region=13- Laval<br>Date of Infection=13th<br>Total Number of Cases=%{marker.size}<br>Lat=%{lat}<br>Long=%{lon}",
           "lat": [
            45.583333
           ],
           "legendgroup": "13- Laval",
           "lon": [
            -73.75
           ],
           "marker": {
            "color": "#00cc96",
            "size": [
             0
            ],
            "sizemode": "area",
            "sizeref": 0.67
           },
           "name": "13- Laval",
           "showlegend": true,
           "type": "scattergeo"
          },
          {
           "geo": "geo",
           "hoverlabel": {
            "namelength": 0
           },
           "hovertemplate": "Region=14- Lanaudiere<br>Date of Infection=13th<br>Total Number of Cases=%{marker.size}<br>Lat=%{lat}<br>Long=%{lon}",
           "lat": [
            46.766667
           ],
           "legendgroup": "14- Lanaudiere",
           "lon": [
            -73.833333
           ],
           "marker": {
            "color": "#ab63fa",
            "size": [
             0
            ],
            "sizemode": "area",
            "sizeref": 0.67
           },
           "name": "14- Lanaudiere",
           "showlegend": true,
           "type": "scattergeo"
          },
          {
           "geo": "geo",
           "hoverlabel": {
            "namelength": 0
           },
           "hovertemplate": "Region=15- Laurentides<br>Date of Infection=13th<br>Total Number of Cases=%{marker.size}<br>Lat=%{lat}<br>Long=%{lon}",
           "lat": [
            46.433333
           ],
           "legendgroup": "15- Laurentides",
           "lon": [
            -74.983333
           ],
           "marker": {
            "color": "#FFA15A",
            "size": [
             2
            ],
            "sizemode": "area",
            "sizeref": 0.67
           },
           "name": "15- Laurentides",
           "showlegend": true,
           "type": "scattergeo"
          },
          {
           "geo": "geo",
           "hoverlabel": {
            "namelength": 0
           },
           "hovertemplate": "Region=16- Monteregie<br>Date of Infection=13th<br>Total Number of Cases=%{marker.size}<br>Lat=%{lat}<br>Long=%{lon}",
           "lat": [
            45.383333
           ],
           "legendgroup": "16- Monteregie",
           "lon": [
            -73.1
           ],
           "marker": {
            "color": "#19d3f3",
            "size": [
             4
            ],
            "sizemode": "area",
            "sizeref": 0.67
           },
           "name": "16- Monteregie",
           "showlegend": true,
           "type": "scattergeo"
          },
          {
           "geo": "geo",
           "hoverlabel": {
            "namelength": 0
           },
           "hovertemplate": "Region=17- Centre du Quebec<br>Date of Infection=13th<br>Total Number of Cases=%{marker.size}<br>Lat=%{lat}<br>Long=%{lon}",
           "lat": [
            46.283333
           ],
           "legendgroup": "17- Centre du Quebec",
           "lon": [
            -72.066667
           ],
           "marker": {
            "color": "#FF6692",
            "size": [
             0
            ],
            "sizemode": "area",
            "sizeref": 0.67
           },
           "name": "17- Centre du Quebec",
           "showlegend": true,
           "type": "scattergeo"
          },
          {
           "geo": "geo",
           "hoverlabel": {
            "namelength": 0
           },
           "hovertemplate": "Region=Undetermined<br>Date of Infection=13th<br>Total Number of Cases=%{marker.size}<br>Lat=%{lat}<br>Long=%{lon}",
           "lat": [
            "na"
           ],
           "legendgroup": "Undetermined",
           "lon": [
            "na"
           ],
           "marker": {
            "color": "#B6E880",
            "size": [
             0
            ],
            "sizemode": "area",
            "sizeref": 0.67
           },
           "name": "Undetermined",
           "showlegend": true,
           "type": "scattergeo"
          },
          {
           "geo": "geo",
           "hoverlabel": {
            "namelength": 0
           },
           "hovertemplate": "Region=Hors Quebec<br>Date of Infection=13th<br>Total Number of Cases=%{marker.size}<br>Lat=%{lat}<br>Long=%{lon}",
           "lat": [
            "na"
           ],
           "legendgroup": "Hors Quebec",
           "lon": [
            "na"
           ],
           "marker": {
            "color": "#FF97FF",
            "size": [
             0
            ],
            "sizemode": "area",
            "sizeref": 0.67
           },
           "name": "Hors Quebec",
           "showlegend": true,
           "type": "scattergeo"
          }
         ],
         "name": "13th"
        },
        {
         "data": [
          {
           "geo": "geo",
           "hoverlabel": {
            "namelength": 0
           },
           "hovertemplate": "Region=01-Bas-Saint-Laurent<br>Date of Infection=14th<br>Total Number of Cases=%{marker.size}<br>Lat=%{lat}<br>Long=%{lon}",
           "lat": [
            48.333333
           ],
           "legendgroup": "01-Bas-Saint-Laurent",
           "lon": [
            -68.666667
           ],
           "marker": {
            "color": "#636efa",
            "size": [
             0
            ],
            "sizemode": "area",
            "sizeref": 0.67
           },
           "name": "01-Bas-Saint-Laurent",
           "showlegend": true,
           "type": "scattergeo"
          },
          {
           "geo": "geo",
           "hoverlabel": {
            "namelength": 0
           },
           "hovertemplate": "Region=02- Saguenay-Lac-Saint-Jean<br>Date of Infection=14th<br>Total Number of Cases=%{marker.size}<br>Lat=%{lat}<br>Long=%{lon}",
           "lat": [
            49.8667
           ],
           "legendgroup": "02- Saguenay-Lac-Saint-Jean",
           "lon": [
            -71.75
           ],
           "marker": {
            "color": "#EF553B",
            "size": [
             0
            ],
            "sizemode": "area",
            "sizeref": 0.67
           },
           "name": "02- Saguenay-Lac-Saint-Jean",
           "showlegend": true,
           "type": "scattergeo"
          },
          {
           "geo": "geo",
           "hoverlabel": {
            "namelength": 0
           },
           "hovertemplate": "Region=03- Capitale-Nationale<br>Date of Infection=14th<br>Total Number of Cases=%{marker.size}<br>Lat=%{lat}<br>Long=%{lon}",
           "lat": [
            47.333333
           ],
           "legendgroup": "03- Capitale-Nationale",
           "lon": [
            -71.5
           ],
           "marker": {
            "color": "#00cc96",
            "size": [
             0
            ],
            "sizemode": "area",
            "sizeref": 0.67
           },
           "name": "03- Capitale-Nationale",
           "showlegend": true,
           "type": "scattergeo"
          },
          {
           "geo": "geo",
           "hoverlabel": {
            "namelength": 0
           },
           "hovertemplate": "Region=04-Mauricie<br>Date of Infection=14th<br>Total Number of Cases=%{marker.size}<br>Lat=%{lat}<br>Long=%{lon}",
           "lat": [
            47
           ],
           "legendgroup": "04-Mauricie",
           "lon": [
            -73
           ],
           "marker": {
            "color": "#ab63fa",
            "size": [
             1
            ],
            "sizemode": "area",
            "sizeref": 0.67
           },
           "name": "04-Mauricie",
           "showlegend": true,
           "type": "scattergeo"
          },
          {
           "geo": "geo",
           "hoverlabel": {
            "namelength": 0
           },
           "hovertemplate": "Region=05-Estrie<br>Date of Infection=14th<br>Total Number of Cases=%{marker.size}<br>Lat=%{lat}<br>Long=%{lon}",
           "lat": [
            45.481556
           ],
           "legendgroup": "05-Estrie",
           "lon": [
            -71.667917
           ],
           "marker": {
            "color": "#FFA15A",
            "size": [
             3
            ],
            "sizemode": "area",
            "sizeref": 0.67
           },
           "name": "05-Estrie",
           "showlegend": true,
           "type": "scattergeo"
          },
          {
           "geo": "geo",
           "hoverlabel": {
            "namelength": 0
           },
           "hovertemplate": "Region=06-Montreal<br>Date of Infection=14th<br>Total Number of Cases=%{marker.size}<br>Lat=%{lat}<br>Long=%{lon}",
           "lat": [
            45.5
           ],
           "legendgroup": "06-Montreal",
           "lon": [
            -73.566667
           ],
           "marker": {
            "color": "#19d3f3",
            "size": [
             8
            ],
            "sizemode": "area",
            "sizeref": 0.67
           },
           "name": "06-Montreal",
           "showlegend": true,
           "type": "scattergeo"
          },
          {
           "geo": "geo",
           "hoverlabel": {
            "namelength": 0
           },
           "hovertemplate": "Region=07-Outauais<br>Date of Infection=14th<br>Total Number of Cases=%{marker.size}<br>Lat=%{lat}<br>Long=%{lon}",
           "lat": [
            45.783333
           ],
           "legendgroup": "07-Outauais",
           "lon": [
            -75.083333
           ],
           "marker": {
            "color": "#FF6692",
            "size": [
             0
            ],
            "sizemode": "area",
            "sizeref": 0.67
           },
           "name": "07-Outauais",
           "showlegend": true,
           "type": "scattergeo"
          },
          {
           "geo": "geo",
           "hoverlabel": {
            "namelength": 0
           },
           "hovertemplate": "Region=08-Abititi-Temiscaminigue<br>Date of Infection=14th<br>Total Number of Cases=%{marker.size}<br>Lat=%{lat}<br>Long=%{lon}",
           "lat": [
            48.233333
           ],
           "legendgroup": "08-Abititi-Temiscaminigue",
           "lon": [
            -79.016667
           ],
           "marker": {
            "color": "#B6E880",
            "size": [
             0
            ],
            "sizemode": "area",
            "sizeref": 0.67
           },
           "name": "08-Abititi-Temiscaminigue",
           "showlegend": true,
           "type": "scattergeo"
          },
          {
           "geo": "geo",
           "hoverlabel": {
            "namelength": 0
           },
           "hovertemplate": "Region=9-Cote-Nord<br>Date of Infection=14th<br>Total Number of Cases=%{marker.size}<br>Lat=%{lat}<br>Long=%{lon}",
           "lat": [
            50.866667
           ],
           "legendgroup": "9-Cote-Nord",
           "lon": [
            -65.816667
           ],
           "marker": {
            "color": "#FF97FF",
            "size": [
             0
            ],
            "sizemode": "area",
            "sizeref": 0.67
           },
           "name": "9-Cote-Nord",
           "showlegend": true,
           "type": "scattergeo"
          },
          {
           "geo": "geo",
           "hoverlabel": {
            "namelength": 0
           },
           "hovertemplate": "Region=10-Nord-du-Quebec<br>Date of Infection=14th<br>Total Number of Cases=%{marker.size}<br>Lat=%{lat}<br>Long=%{lon}",
           "lat": [
            56.166667
           ],
           "legendgroup": "10-Nord-du-Quebec",
           "lon": [
            -74.416667
           ],
           "marker": {
            "color": "#FECB52",
            "size": [
             0
            ],
            "sizemode": "area",
            "sizeref": 0.67
           },
           "name": "10-Nord-du-Quebec",
           "showlegend": true,
           "type": "scattergeo"
          },
          {
           "geo": "geo",
           "hoverlabel": {
            "namelength": 0
           },
           "hovertemplate": "Region=11- Gaspesie-Iles-de-la-Madelaine<br>Date of Infection=14th<br>Total Number of Cases=%{marker.size}<br>Lat=%{lat}<br>Long=%{lon}",
           "lat": [
            48.683333
           ],
           "legendgroup": "11- Gaspesie-Iles-de-la-Madelaine",
           "lon": [
            -65.4
           ],
           "marker": {
            "color": "#636efa",
            "size": [
             0
            ],
            "sizemode": "area",
            "sizeref": 0.67
           },
           "name": "11- Gaspesie-Iles-de-la-Madelaine",
           "showlegend": true,
           "type": "scattergeo"
          },
          {
           "geo": "geo",
           "hoverlabel": {
            "namelength": 0
           },
           "hovertemplate": "Region=12-Chaudiere-Appalaches<br>Date of Infection=14th<br>Total Number of Cases=%{marker.size}<br>Lat=%{lat}<br>Long=%{lon}",
           "lat": [
            46.483333
           ],
           "legendgroup": "12-Chaudiere-Appalaches",
           "lon": [
            -70.616667
           ],
           "marker": {
            "color": "#EF553B",
            "size": [
             1
            ],
            "sizemode": "area",
            "sizeref": 0.67
           },
           "name": "12-Chaudiere-Appalaches",
           "showlegend": true,
           "type": "scattergeo"
          },
          {
           "geo": "geo",
           "hoverlabel": {
            "namelength": 0
           },
           "hovertemplate": "Region=13- Laval<br>Date of Infection=14th<br>Total Number of Cases=%{marker.size}<br>Lat=%{lat}<br>Long=%{lon}",
           "lat": [
            45.583333
           ],
           "legendgroup": "13- Laval",
           "lon": [
            -73.75
           ],
           "marker": {
            "color": "#00cc96",
            "size": [
             0
            ],
            "sizemode": "area",
            "sizeref": 0.67
           },
           "name": "13- Laval",
           "showlegend": true,
           "type": "scattergeo"
          },
          {
           "geo": "geo",
           "hoverlabel": {
            "namelength": 0
           },
           "hovertemplate": "Region=14- Lanaudiere<br>Date of Infection=14th<br>Total Number of Cases=%{marker.size}<br>Lat=%{lat}<br>Long=%{lon}",
           "lat": [
            46.766667
           ],
           "legendgroup": "14- Lanaudiere",
           "lon": [
            -73.833333
           ],
           "marker": {
            "color": "#ab63fa",
            "size": [
             1
            ],
            "sizemode": "area",
            "sizeref": 0.67
           },
           "name": "14- Lanaudiere",
           "showlegend": true,
           "type": "scattergeo"
          },
          {
           "geo": "geo",
           "hoverlabel": {
            "namelength": 0
           },
           "hovertemplate": "Region=15- Laurentides<br>Date of Infection=14th<br>Total Number of Cases=%{marker.size}<br>Lat=%{lat}<br>Long=%{lon}",
           "lat": [
            46.433333
           ],
           "legendgroup": "15- Laurentides",
           "lon": [
            -74.983333
           ],
           "marker": {
            "color": "#FFA15A",
            "size": [
             2
            ],
            "sizemode": "area",
            "sizeref": 0.67
           },
           "name": "15- Laurentides",
           "showlegend": true,
           "type": "scattergeo"
          },
          {
           "geo": "geo",
           "hoverlabel": {
            "namelength": 0
           },
           "hovertemplate": "Region=16- Monteregie<br>Date of Infection=14th<br>Total Number of Cases=%{marker.size}<br>Lat=%{lat}<br>Long=%{lon}",
           "lat": [
            45.383333
           ],
           "legendgroup": "16- Monteregie",
           "lon": [
            -73.1
           ],
           "marker": {
            "color": "#19d3f3",
            "size": [
             7
            ],
            "sizemode": "area",
            "sizeref": 0.67
           },
           "name": "16- Monteregie",
           "showlegend": true,
           "type": "scattergeo"
          },
          {
           "geo": "geo",
           "hoverlabel": {
            "namelength": 0
           },
           "hovertemplate": "Region=17- Centre du Quebec<br>Date of Infection=14th<br>Total Number of Cases=%{marker.size}<br>Lat=%{lat}<br>Long=%{lon}",
           "lat": [
            46.283333
           ],
           "legendgroup": "17- Centre du Quebec",
           "lon": [
            -72.066667
           ],
           "marker": {
            "color": "#FF6692",
            "size": [
             0
            ],
            "sizemode": "area",
            "sizeref": 0.67
           },
           "name": "17- Centre du Quebec",
           "showlegend": true,
           "type": "scattergeo"
          },
          {
           "geo": "geo",
           "hoverlabel": {
            "namelength": 0
           },
           "hovertemplate": "Region=Undetermined<br>Date of Infection=14th<br>Total Number of Cases=%{marker.size}<br>Lat=%{lat}<br>Long=%{lon}",
           "lat": [
            "na"
           ],
           "legendgroup": "Undetermined",
           "lon": [
            "na"
           ],
           "marker": {
            "color": "#B6E880",
            "size": [
             1
            ],
            "sizemode": "area",
            "sizeref": 0.67
           },
           "name": "Undetermined",
           "showlegend": true,
           "type": "scattergeo"
          },
          {
           "geo": "geo",
           "hoverlabel": {
            "namelength": 0
           },
           "hovertemplate": "Region=Hors Quebec<br>Date of Infection=14th<br>Total Number of Cases=%{marker.size}<br>Lat=%{lat}<br>Long=%{lon}",
           "lat": [
            "na"
           ],
           "legendgroup": "Hors Quebec",
           "lon": [
            "na"
           ],
           "marker": {
            "color": "#FF97FF",
            "size": [
             0
            ],
            "sizemode": "area",
            "sizeref": 0.67
           },
           "name": "Hors Quebec",
           "showlegend": true,
           "type": "scattergeo"
          }
         ],
         "name": "14th"
        },
        {
         "data": [
          {
           "geo": "geo",
           "hoverlabel": {
            "namelength": 0
           },
           "hovertemplate": "Region=01-Bas-Saint-Laurent<br>Date of Infection=15th<br>Total Number of Cases=%{marker.size}<br>Lat=%{lat}<br>Long=%{lon}",
           "lat": [
            48.333333
           ],
           "legendgroup": "01-Bas-Saint-Laurent",
           "lon": [
            -68.666667
           ],
           "marker": {
            "color": "#636efa",
            "size": [
             0
            ],
            "sizemode": "area",
            "sizeref": 0.67
           },
           "name": "01-Bas-Saint-Laurent",
           "showlegend": true,
           "type": "scattergeo"
          },
          {
           "geo": "geo",
           "hoverlabel": {
            "namelength": 0
           },
           "hovertemplate": "Region=02- Saguenay-Lac-Saint-Jean<br>Date of Infection=15th<br>Total Number of Cases=%{marker.size}<br>Lat=%{lat}<br>Long=%{lon}",
           "lat": [
            49.8667
           ],
           "legendgroup": "02- Saguenay-Lac-Saint-Jean",
           "lon": [
            -71.75
           ],
           "marker": {
            "color": "#EF553B",
            "size": [
             0
            ],
            "sizemode": "area",
            "sizeref": 0.67
           },
           "name": "02- Saguenay-Lac-Saint-Jean",
           "showlegend": true,
           "type": "scattergeo"
          },
          {
           "geo": "geo",
           "hoverlabel": {
            "namelength": 0
           },
           "hovertemplate": "Region=03- Capitale-Nationale<br>Date of Infection=15th<br>Total Number of Cases=%{marker.size}<br>Lat=%{lat}<br>Long=%{lon}",
           "lat": [
            47.333333
           ],
           "legendgroup": "03- Capitale-Nationale",
           "lon": [
            -71.5
           ],
           "marker": {
            "color": "#00cc96",
            "size": [
             2
            ],
            "sizemode": "area",
            "sizeref": 0.67
           },
           "name": "03- Capitale-Nationale",
           "showlegend": true,
           "type": "scattergeo"
          },
          {
           "geo": "geo",
           "hoverlabel": {
            "namelength": 0
           },
           "hovertemplate": "Region=04-Mauricie<br>Date of Infection=15th<br>Total Number of Cases=%{marker.size}<br>Lat=%{lat}<br>Long=%{lon}",
           "lat": [
            47
           ],
           "legendgroup": "04-Mauricie",
           "lon": [
            -73
           ],
           "marker": {
            "color": "#ab63fa",
            "size": [
             3
            ],
            "sizemode": "area",
            "sizeref": 0.67
           },
           "name": "04-Mauricie",
           "showlegend": true,
           "type": "scattergeo"
          },
          {
           "geo": "geo",
           "hoverlabel": {
            "namelength": 0
           },
           "hovertemplate": "Region=05-Estrie<br>Date of Infection=15th<br>Total Number of Cases=%{marker.size}<br>Lat=%{lat}<br>Long=%{lon}",
           "lat": [
            45.481556
           ],
           "legendgroup": "05-Estrie",
           "lon": [
            -71.667917
           ],
           "marker": {
            "color": "#FFA15A",
            "size": [
             4
            ],
            "sizemode": "area",
            "sizeref": 0.67
           },
           "name": "05-Estrie",
           "showlegend": true,
           "type": "scattergeo"
          },
          {
           "geo": "geo",
           "hoverlabel": {
            "namelength": 0
           },
           "hovertemplate": "Region=06-Montreal<br>Date of Infection=15th<br>Total Number of Cases=%{marker.size}<br>Lat=%{lat}<br>Long=%{lon}",
           "lat": [
            45.5
           ],
           "legendgroup": "06-Montreal",
           "lon": [
            -73.566667
           ],
           "marker": {
            "color": "#19d3f3",
            "size": [
             10
            ],
            "sizemode": "area",
            "sizeref": 0.67
           },
           "name": "06-Montreal",
           "showlegend": true,
           "type": "scattergeo"
          },
          {
           "geo": "geo",
           "hoverlabel": {
            "namelength": 0
           },
           "hovertemplate": "Region=07-Outauais<br>Date of Infection=15th<br>Total Number of Cases=%{marker.size}<br>Lat=%{lat}<br>Long=%{lon}",
           "lat": [
            45.783333
           ],
           "legendgroup": "07-Outauais",
           "lon": [
            -75.083333
           ],
           "marker": {
            "color": "#FF6692",
            "size": [
             0
            ],
            "sizemode": "area",
            "sizeref": 0.67
           },
           "name": "07-Outauais",
           "showlegend": true,
           "type": "scattergeo"
          },
          {
           "geo": "geo",
           "hoverlabel": {
            "namelength": 0
           },
           "hovertemplate": "Region=08-Abititi-Temiscaminigue<br>Date of Infection=15th<br>Total Number of Cases=%{marker.size}<br>Lat=%{lat}<br>Long=%{lon}",
           "lat": [
            48.233333
           ],
           "legendgroup": "08-Abititi-Temiscaminigue",
           "lon": [
            -79.016667
           ],
           "marker": {
            "color": "#B6E880",
            "size": [
             0
            ],
            "sizemode": "area",
            "sizeref": 0.67
           },
           "name": "08-Abititi-Temiscaminigue",
           "showlegend": true,
           "type": "scattergeo"
          },
          {
           "geo": "geo",
           "hoverlabel": {
            "namelength": 0
           },
           "hovertemplate": "Region=9-Cote-Nord<br>Date of Infection=15th<br>Total Number of Cases=%{marker.size}<br>Lat=%{lat}<br>Long=%{lon}",
           "lat": [
            50.866667
           ],
           "legendgroup": "9-Cote-Nord",
           "lon": [
            -65.816667
           ],
           "marker": {
            "color": "#FF97FF",
            "size": [
             0
            ],
            "sizemode": "area",
            "sizeref": 0.67
           },
           "name": "9-Cote-Nord",
           "showlegend": true,
           "type": "scattergeo"
          },
          {
           "geo": "geo",
           "hoverlabel": {
            "namelength": 0
           },
           "hovertemplate": "Region=10-Nord-du-Quebec<br>Date of Infection=15th<br>Total Number of Cases=%{marker.size}<br>Lat=%{lat}<br>Long=%{lon}",
           "lat": [
            56.166667
           ],
           "legendgroup": "10-Nord-du-Quebec",
           "lon": [
            -74.416667
           ],
           "marker": {
            "color": "#FECB52",
            "size": [
             0
            ],
            "sizemode": "area",
            "sizeref": 0.67
           },
           "name": "10-Nord-du-Quebec",
           "showlegend": true,
           "type": "scattergeo"
          },
          {
           "geo": "geo",
           "hoverlabel": {
            "namelength": 0
           },
           "hovertemplate": "Region=11- Gaspesie-Iles-de-la-Madelaine<br>Date of Infection=15th<br>Total Number of Cases=%{marker.size}<br>Lat=%{lat}<br>Long=%{lon}",
           "lat": [
            48.683333
           ],
           "legendgroup": "11- Gaspesie-Iles-de-la-Madelaine",
           "lon": [
            -65.4
           ],
           "marker": {
            "color": "#636efa",
            "size": [
             0
            ],
            "sizemode": "area",
            "sizeref": 0.67
           },
           "name": "11- Gaspesie-Iles-de-la-Madelaine",
           "showlegend": true,
           "type": "scattergeo"
          },
          {
           "geo": "geo",
           "hoverlabel": {
            "namelength": 0
           },
           "hovertemplate": "Region=12-Chaudiere-Appalaches<br>Date of Infection=15th<br>Total Number of Cases=%{marker.size}<br>Lat=%{lat}<br>Long=%{lon}",
           "lat": [
            46.483333
           ],
           "legendgroup": "12-Chaudiere-Appalaches",
           "lon": [
            -70.616667
           ],
           "marker": {
            "color": "#EF553B",
            "size": [
             3
            ],
            "sizemode": "area",
            "sizeref": 0.67
           },
           "name": "12-Chaudiere-Appalaches",
           "showlegend": true,
           "type": "scattergeo"
          },
          {
           "geo": "geo",
           "hoverlabel": {
            "namelength": 0
           },
           "hovertemplate": "Region=13- Laval<br>Date of Infection=15th<br>Total Number of Cases=%{marker.size}<br>Lat=%{lat}<br>Long=%{lon}",
           "lat": [
            45.583333
           ],
           "legendgroup": "13- Laval",
           "lon": [
            -73.75
           ],
           "marker": {
            "color": "#00cc96",
            "size": [
             0
            ],
            "sizemode": "area",
            "sizeref": 0.67
           },
           "name": "13- Laval",
           "showlegend": true,
           "type": "scattergeo"
          },
          {
           "geo": "geo",
           "hoverlabel": {
            "namelength": 0
           },
           "hovertemplate": "Region=14- Lanaudiere<br>Date of Infection=15th<br>Total Number of Cases=%{marker.size}<br>Lat=%{lat}<br>Long=%{lon}",
           "lat": [
            46.766667
           ],
           "legendgroup": "14- Lanaudiere",
           "lon": [
            -73.833333
           ],
           "marker": {
            "color": "#ab63fa",
            "size": [
             2
            ],
            "sizemode": "area",
            "sizeref": 0.67
           },
           "name": "14- Lanaudiere",
           "showlegend": true,
           "type": "scattergeo"
          },
          {
           "geo": "geo",
           "hoverlabel": {
            "namelength": 0
           },
           "hovertemplate": "Region=15- Laurentides<br>Date of Infection=15th<br>Total Number of Cases=%{marker.size}<br>Lat=%{lat}<br>Long=%{lon}",
           "lat": [
            46.433333
           ],
           "legendgroup": "15- Laurentides",
           "lon": [
            -74.983333
           ],
           "marker": {
            "color": "#FFA15A",
            "size": [
             3
            ],
            "sizemode": "area",
            "sizeref": 0.67
           },
           "name": "15- Laurentides",
           "showlegend": true,
           "type": "scattergeo"
          },
          {
           "geo": "geo",
           "hoverlabel": {
            "namelength": 0
           },
           "hovertemplate": "Region=16- Monteregie<br>Date of Infection=15th<br>Total Number of Cases=%{marker.size}<br>Lat=%{lat}<br>Long=%{lon}",
           "lat": [
            45.383333
           ],
           "legendgroup": "16- Monteregie",
           "lon": [
            -73.1
           ],
           "marker": {
            "color": "#19d3f3",
            "size": [
             9
            ],
            "sizemode": "area",
            "sizeref": 0.67
           },
           "name": "16- Monteregie",
           "showlegend": true,
           "type": "scattergeo"
          },
          {
           "geo": "geo",
           "hoverlabel": {
            "namelength": 0
           },
           "hovertemplate": "Region=17- Centre du Quebec<br>Date of Infection=15th<br>Total Number of Cases=%{marker.size}<br>Lat=%{lat}<br>Long=%{lon}",
           "lat": [
            46.283333
           ],
           "legendgroup": "17- Centre du Quebec",
           "lon": [
            -72.066667
           ],
           "marker": {
            "color": "#FF6692",
            "size": [
             0
            ],
            "sizemode": "area",
            "sizeref": 0.67
           },
           "name": "17- Centre du Quebec",
           "showlegend": true,
           "type": "scattergeo"
          },
          {
           "geo": "geo",
           "hoverlabel": {
            "namelength": 0
           },
           "hovertemplate": "Region=Undetermined<br>Date of Infection=15th<br>Total Number of Cases=%{marker.size}<br>Lat=%{lat}<br>Long=%{lon}",
           "lat": [
            "na"
           ],
           "legendgroup": "Undetermined",
           "lon": [
            "na"
           ],
           "marker": {
            "color": "#B6E880",
            "size": [
             2
            ],
            "sizemode": "area",
            "sizeref": 0.67
           },
           "name": "Undetermined",
           "showlegend": true,
           "type": "scattergeo"
          },
          {
           "geo": "geo",
           "hoverlabel": {
            "namelength": 0
           },
           "hovertemplate": "Region=Hors Quebec<br>Date of Infection=15th<br>Total Number of Cases=%{marker.size}<br>Lat=%{lat}<br>Long=%{lon}",
           "lat": [
            "na"
           ],
           "legendgroup": "Hors Quebec",
           "lon": [
            "na"
           ],
           "marker": {
            "color": "#FF97FF",
            "size": [
             1
            ],
            "sizemode": "area",
            "sizeref": 0.67
           },
           "name": "Hors Quebec",
           "showlegend": true,
           "type": "scattergeo"
          }
         ],
         "name": "15th"
        },
        {
         "data": [
          {
           "geo": "geo",
           "hoverlabel": {
            "namelength": 0
           },
           "hovertemplate": "Region=01-Bas-Saint-Laurent<br>Date of Infection=16th<br>Total Number of Cases=%{marker.size}<br>Lat=%{lat}<br>Long=%{lon}",
           "lat": [
            48.333333
           ],
           "legendgroup": "01-Bas-Saint-Laurent",
           "lon": [
            -68.666667
           ],
           "marker": {
            "color": "#636efa",
            "size": [
             0
            ],
            "sizemode": "area",
            "sizeref": 0.67
           },
           "name": "01-Bas-Saint-Laurent",
           "showlegend": true,
           "type": "scattergeo"
          },
          {
           "geo": "geo",
           "hoverlabel": {
            "namelength": 0
           },
           "hovertemplate": "Region=02- Saguenay-Lac-Saint-Jean<br>Date of Infection=16th<br>Total Number of Cases=%{marker.size}<br>Lat=%{lat}<br>Long=%{lon}",
           "lat": [
            49.8667
           ],
           "legendgroup": "02- Saguenay-Lac-Saint-Jean",
           "lon": [
            -71.75
           ],
           "marker": {
            "color": "#EF553B",
            "size": [
             0
            ],
            "sizemode": "area",
            "sizeref": 0.67
           },
           "name": "02- Saguenay-Lac-Saint-Jean",
           "showlegend": true,
           "type": "scattergeo"
          },
          {
           "geo": "geo",
           "hoverlabel": {
            "namelength": 0
           },
           "hovertemplate": "Region=03- Capitale-Nationale<br>Date of Infection=16th<br>Total Number of Cases=%{marker.size}<br>Lat=%{lat}<br>Long=%{lon}",
           "lat": [
            47.333333
           ],
           "legendgroup": "03- Capitale-Nationale",
           "lon": [
            -71.5
           ],
           "marker": {
            "color": "#00cc96",
            "size": [
             2
            ],
            "sizemode": "area",
            "sizeref": 0.67
           },
           "name": "03- Capitale-Nationale",
           "showlegend": true,
           "type": "scattergeo"
          },
          {
           "geo": "geo",
           "hoverlabel": {
            "namelength": 0
           },
           "hovertemplate": "Region=04-Mauricie<br>Date of Infection=16th<br>Total Number of Cases=%{marker.size}<br>Lat=%{lat}<br>Long=%{lon}",
           "lat": [
            47
           ],
           "legendgroup": "04-Mauricie",
           "lon": [
            -73
           ],
           "marker": {
            "color": "#ab63fa",
            "size": [
             3
            ],
            "sizemode": "area",
            "sizeref": 0.67
           },
           "name": "04-Mauricie",
           "showlegend": true,
           "type": "scattergeo"
          },
          {
           "geo": "geo",
           "hoverlabel": {
            "namelength": 0
           },
           "hovertemplate": "Region=05-Estrie<br>Date of Infection=16th<br>Total Number of Cases=%{marker.size}<br>Lat=%{lat}<br>Long=%{lon}",
           "lat": [
            45.481556
           ],
           "legendgroup": "05-Estrie",
           "lon": [
            -71.667917
           ],
           "marker": {
            "color": "#FFA15A",
            "size": [
             4
            ],
            "sizemode": "area",
            "sizeref": 0.67
           },
           "name": "05-Estrie",
           "showlegend": true,
           "type": "scattergeo"
          },
          {
           "geo": "geo",
           "hoverlabel": {
            "namelength": 0
           },
           "hovertemplate": "Region=06-Montreal<br>Date of Infection=16th<br>Total Number of Cases=%{marker.size}<br>Lat=%{lat}<br>Long=%{lon}",
           "lat": [
            45.5
           ],
           "legendgroup": "06-Montreal",
           "lon": [
            -73.566667
           ],
           "marker": {
            "color": "#19d3f3",
            "size": [
             18
            ],
            "sizemode": "area",
            "sizeref": 0.67
           },
           "name": "06-Montreal",
           "showlegend": true,
           "type": "scattergeo"
          },
          {
           "geo": "geo",
           "hoverlabel": {
            "namelength": 0
           },
           "hovertemplate": "Region=07-Outauais<br>Date of Infection=16th<br>Total Number of Cases=%{marker.size}<br>Lat=%{lat}<br>Long=%{lon}",
           "lat": [
            45.783333
           ],
           "legendgroup": "07-Outauais",
           "lon": [
            -75.083333
           ],
           "marker": {
            "color": "#FF6692",
            "size": [
             0
            ],
            "sizemode": "area",
            "sizeref": 0.67
           },
           "name": "07-Outauais",
           "showlegend": true,
           "type": "scattergeo"
          },
          {
           "geo": "geo",
           "hoverlabel": {
            "namelength": 0
           },
           "hovertemplate": "Region=08-Abititi-Temiscaminigue<br>Date of Infection=16th<br>Total Number of Cases=%{marker.size}<br>Lat=%{lat}<br>Long=%{lon}",
           "lat": [
            48.233333
           ],
           "legendgroup": "08-Abititi-Temiscaminigue",
           "lon": [
            -79.016667
           ],
           "marker": {
            "color": "#B6E880",
            "size": [
             0
            ],
            "sizemode": "area",
            "sizeref": 0.67
           },
           "name": "08-Abititi-Temiscaminigue",
           "showlegend": true,
           "type": "scattergeo"
          },
          {
           "geo": "geo",
           "hoverlabel": {
            "namelength": 0
           },
           "hovertemplate": "Region=9-Cote-Nord<br>Date of Infection=16th<br>Total Number of Cases=%{marker.size}<br>Lat=%{lat}<br>Long=%{lon}",
           "lat": [
            50.866667
           ],
           "legendgroup": "9-Cote-Nord",
           "lon": [
            -65.816667
           ],
           "marker": {
            "color": "#FF97FF",
            "size": [
             0
            ],
            "sizemode": "area",
            "sizeref": 0.67
           },
           "name": "9-Cote-Nord",
           "showlegend": true,
           "type": "scattergeo"
          },
          {
           "geo": "geo",
           "hoverlabel": {
            "namelength": 0
           },
           "hovertemplate": "Region=10-Nord-du-Quebec<br>Date of Infection=16th<br>Total Number of Cases=%{marker.size}<br>Lat=%{lat}<br>Long=%{lon}",
           "lat": [
            56.166667
           ],
           "legendgroup": "10-Nord-du-Quebec",
           "lon": [
            -74.416667
           ],
           "marker": {
            "color": "#FECB52",
            "size": [
             0
            ],
            "sizemode": "area",
            "sizeref": 0.67
           },
           "name": "10-Nord-du-Quebec",
           "showlegend": true,
           "type": "scattergeo"
          },
          {
           "geo": "geo",
           "hoverlabel": {
            "namelength": 0
           },
           "hovertemplate": "Region=11- Gaspesie-Iles-de-la-Madelaine<br>Date of Infection=16th<br>Total Number of Cases=%{marker.size}<br>Lat=%{lat}<br>Long=%{lon}",
           "lat": [
            48.683333
           ],
           "legendgroup": "11- Gaspesie-Iles-de-la-Madelaine",
           "lon": [
            -65.4
           ],
           "marker": {
            "color": "#636efa",
            "size": [
             0
            ],
            "sizemode": "area",
            "sizeref": 0.67
           },
           "name": "11- Gaspesie-Iles-de-la-Madelaine",
           "showlegend": true,
           "type": "scattergeo"
          },
          {
           "geo": "geo",
           "hoverlabel": {
            "namelength": 0
           },
           "hovertemplate": "Region=12-Chaudiere-Appalaches<br>Date of Infection=16th<br>Total Number of Cases=%{marker.size}<br>Lat=%{lat}<br>Long=%{lon}",
           "lat": [
            46.483333
           ],
           "legendgroup": "12-Chaudiere-Appalaches",
           "lon": [
            -70.616667
           ],
           "marker": {
            "color": "#EF553B",
            "size": [
             4
            ],
            "sizemode": "area",
            "sizeref": 0.67
           },
           "name": "12-Chaudiere-Appalaches",
           "showlegend": true,
           "type": "scattergeo"
          },
          {
           "geo": "geo",
           "hoverlabel": {
            "namelength": 0
           },
           "hovertemplate": "Region=13- Laval<br>Date of Infection=16th<br>Total Number of Cases=%{marker.size}<br>Lat=%{lat}<br>Long=%{lon}",
           "lat": [
            45.583333
           ],
           "legendgroup": "13- Laval",
           "lon": [
            -73.75
           ],
           "marker": {
            "color": "#00cc96",
            "size": [
             0
            ],
            "sizemode": "area",
            "sizeref": 0.67
           },
           "name": "13- Laval",
           "showlegend": true,
           "type": "scattergeo"
          },
          {
           "geo": "geo",
           "hoverlabel": {
            "namelength": 0
           },
           "hovertemplate": "Region=14- Lanaudiere<br>Date of Infection=16th<br>Total Number of Cases=%{marker.size}<br>Lat=%{lat}<br>Long=%{lon}",
           "lat": [
            46.766667
           ],
           "legendgroup": "14- Lanaudiere",
           "lon": [
            -73.833333
           ],
           "marker": {
            "color": "#ab63fa",
            "size": [
             3
            ],
            "sizemode": "area",
            "sizeref": 0.67
           },
           "name": "14- Lanaudiere",
           "showlegend": true,
           "type": "scattergeo"
          },
          {
           "geo": "geo",
           "hoverlabel": {
            "namelength": 0
           },
           "hovertemplate": "Region=15- Laurentides<br>Date of Infection=16th<br>Total Number of Cases=%{marker.size}<br>Lat=%{lat}<br>Long=%{lon}",
           "lat": [
            46.433333
           ],
           "legendgroup": "15- Laurentides",
           "lon": [
            -74.983333
           ],
           "marker": {
            "color": "#FFA15A",
            "size": [
             3
            ],
            "sizemode": "area",
            "sizeref": 0.67
           },
           "name": "15- Laurentides",
           "showlegend": true,
           "type": "scattergeo"
          },
          {
           "geo": "geo",
           "hoverlabel": {
            "namelength": 0
           },
           "hovertemplate": "Region=16- Monteregie<br>Date of Infection=16th<br>Total Number of Cases=%{marker.size}<br>Lat=%{lat}<br>Long=%{lon}",
           "lat": [
            45.383333
           ],
           "legendgroup": "16- Monteregie",
           "lon": [
            -73.1
           ],
           "marker": {
            "color": "#19d3f3",
            "size": [
             10
            ],
            "sizemode": "area",
            "sizeref": 0.67
           },
           "name": "16- Monteregie",
           "showlegend": true,
           "type": "scattergeo"
          },
          {
           "geo": "geo",
           "hoverlabel": {
            "namelength": 0
           },
           "hovertemplate": "Region=17- Centre du Quebec<br>Date of Infection=16th<br>Total Number of Cases=%{marker.size}<br>Lat=%{lat}<br>Long=%{lon}",
           "lat": [
            46.283333
           ],
           "legendgroup": "17- Centre du Quebec",
           "lon": [
            -72.066667
           ],
           "marker": {
            "color": "#FF6692",
            "size": [
             0
            ],
            "sizemode": "area",
            "sizeref": 0.67
           },
           "name": "17- Centre du Quebec",
           "showlegend": true,
           "type": "scattergeo"
          },
          {
           "geo": "geo",
           "hoverlabel": {
            "namelength": 0
           },
           "hovertemplate": "Region=Undetermined<br>Date of Infection=16th<br>Total Number of Cases=%{marker.size}<br>Lat=%{lat}<br>Long=%{lon}",
           "lat": [
            "na"
           ],
           "legendgroup": "Undetermined",
           "lon": [
            "na"
           ],
           "marker": {
            "color": "#B6E880",
            "size": [
             3
            ],
            "sizemode": "area",
            "sizeref": 0.67
           },
           "name": "Undetermined",
           "showlegend": true,
           "type": "scattergeo"
          },
          {
           "geo": "geo",
           "hoverlabel": {
            "namelength": 0
           },
           "hovertemplate": "Region=Hors Quebec<br>Date of Infection=16th<br>Total Number of Cases=%{marker.size}<br>Lat=%{lat}<br>Long=%{lon}",
           "lat": [
            "na"
           ],
           "legendgroup": "Hors Quebec",
           "lon": [
            "na"
           ],
           "marker": {
            "color": "#FF97FF",
            "size": [
             1
            ],
            "sizemode": "area",
            "sizeref": 0.67
           },
           "name": "Hors Quebec",
           "showlegend": true,
           "type": "scattergeo"
          }
         ],
         "name": "16th"
        },
        {
         "data": [
          {
           "geo": "geo",
           "hoverlabel": {
            "namelength": 0
           },
           "hovertemplate": "Region=01-Bas-Saint-Laurent<br>Date of Infection=17th<br>Total Number of Cases=%{marker.size}<br>Lat=%{lat}<br>Long=%{lon}",
           "lat": [
            48.333333
           ],
           "legendgroup": "01-Bas-Saint-Laurent",
           "lon": [
            -68.666667
           ],
           "marker": {
            "color": "#636efa",
            "size": [
             0
            ],
            "sizemode": "area",
            "sizeref": 0.67
           },
           "name": "01-Bas-Saint-Laurent",
           "showlegend": true,
           "type": "scattergeo"
          },
          {
           "geo": "geo",
           "hoverlabel": {
            "namelength": 0
           },
           "hovertemplate": "Region=02- Saguenay-Lac-Saint-Jean<br>Date of Infection=17th<br>Total Number of Cases=%{marker.size}<br>Lat=%{lat}<br>Long=%{lon}",
           "lat": [
            49.8667
           ],
           "legendgroup": "02- Saguenay-Lac-Saint-Jean",
           "lon": [
            -71.75
           ],
           "marker": {
            "color": "#EF553B",
            "size": [
             0
            ],
            "sizemode": "area",
            "sizeref": 0.67
           },
           "name": "02- Saguenay-Lac-Saint-Jean",
           "showlegend": true,
           "type": "scattergeo"
          },
          {
           "geo": "geo",
           "hoverlabel": {
            "namelength": 0
           },
           "hovertemplate": "Region=03- Capitale-Nationale<br>Date of Infection=17th<br>Total Number of Cases=%{marker.size}<br>Lat=%{lat}<br>Long=%{lon}",
           "lat": [
            47.333333
           ],
           "legendgroup": "03- Capitale-Nationale",
           "lon": [
            -71.5
           ],
           "marker": {
            "color": "#00cc96",
            "size": [
             3
            ],
            "sizemode": "area",
            "sizeref": 0.67
           },
           "name": "03- Capitale-Nationale",
           "showlegend": true,
           "type": "scattergeo"
          },
          {
           "geo": "geo",
           "hoverlabel": {
            "namelength": 0
           },
           "hovertemplate": "Region=04-Mauricie<br>Date of Infection=17th<br>Total Number of Cases=%{marker.size}<br>Lat=%{lat}<br>Long=%{lon}",
           "lat": [
            47
           ],
           "legendgroup": "04-Mauricie",
           "lon": [
            -73
           ],
           "marker": {
            "color": "#ab63fa",
            "size": [
             3
            ],
            "sizemode": "area",
            "sizeref": 0.67
           },
           "name": "04-Mauricie",
           "showlegend": true,
           "type": "scattergeo"
          },
          {
           "geo": "geo",
           "hoverlabel": {
            "namelength": 0
           },
           "hovertemplate": "Region=05-Estrie<br>Date of Infection=17th<br>Total Number of Cases=%{marker.size}<br>Lat=%{lat}<br>Long=%{lon}",
           "lat": [
            45.481556
           ],
           "legendgroup": "05-Estrie",
           "lon": [
            -71.667917
           ],
           "marker": {
            "color": "#FFA15A",
            "size": [
             9
            ],
            "sizemode": "area",
            "sizeref": 0.67
           },
           "name": "05-Estrie",
           "showlegend": true,
           "type": "scattergeo"
          },
          {
           "geo": "geo",
           "hoverlabel": {
            "namelength": 0
           },
           "hovertemplate": "Region=06-Montreal<br>Date of Infection=17th<br>Total Number of Cases=%{marker.size}<br>Lat=%{lat}<br>Long=%{lon}",
           "lat": [
            45.5
           ],
           "legendgroup": "06-Montreal",
           "lon": [
            -73.566667
           ],
           "marker": {
            "color": "#19d3f3",
            "size": [
             22
            ],
            "sizemode": "area",
            "sizeref": 0.67
           },
           "name": "06-Montreal",
           "showlegend": true,
           "type": "scattergeo"
          },
          {
           "geo": "geo",
           "hoverlabel": {
            "namelength": 0
           },
           "hovertemplate": "Region=07-Outauais<br>Date of Infection=17th<br>Total Number of Cases=%{marker.size}<br>Lat=%{lat}<br>Long=%{lon}",
           "lat": [
            45.783333
           ],
           "legendgroup": "07-Outauais",
           "lon": [
            -75.083333
           ],
           "marker": {
            "color": "#FF6692",
            "size": [
             0
            ],
            "sizemode": "area",
            "sizeref": 0.67
           },
           "name": "07-Outauais",
           "showlegend": true,
           "type": "scattergeo"
          },
          {
           "geo": "geo",
           "hoverlabel": {
            "namelength": 0
           },
           "hovertemplate": "Region=08-Abititi-Temiscaminigue<br>Date of Infection=17th<br>Total Number of Cases=%{marker.size}<br>Lat=%{lat}<br>Long=%{lon}",
           "lat": [
            48.233333
           ],
           "legendgroup": "08-Abititi-Temiscaminigue",
           "lon": [
            -79.016667
           ],
           "marker": {
            "color": "#B6E880",
            "size": [
             0
            ],
            "sizemode": "area",
            "sizeref": 0.67
           },
           "name": "08-Abititi-Temiscaminigue",
           "showlegend": true,
           "type": "scattergeo"
          },
          {
           "geo": "geo",
           "hoverlabel": {
            "namelength": 0
           },
           "hovertemplate": "Region=9-Cote-Nord<br>Date of Infection=17th<br>Total Number of Cases=%{marker.size}<br>Lat=%{lat}<br>Long=%{lon}",
           "lat": [
            50.866667
           ],
           "legendgroup": "9-Cote-Nord",
           "lon": [
            -65.816667
           ],
           "marker": {
            "color": "#FF97FF",
            "size": [
             0
            ],
            "sizemode": "area",
            "sizeref": 0.67
           },
           "name": "9-Cote-Nord",
           "showlegend": true,
           "type": "scattergeo"
          },
          {
           "geo": "geo",
           "hoverlabel": {
            "namelength": 0
           },
           "hovertemplate": "Region=10-Nord-du-Quebec<br>Date of Infection=17th<br>Total Number of Cases=%{marker.size}<br>Lat=%{lat}<br>Long=%{lon}",
           "lat": [
            56.166667
           ],
           "legendgroup": "10-Nord-du-Quebec",
           "lon": [
            -74.416667
           ],
           "marker": {
            "color": "#FECB52",
            "size": [
             0
            ],
            "sizemode": "area",
            "sizeref": 0.67
           },
           "name": "10-Nord-du-Quebec",
           "showlegend": true,
           "type": "scattergeo"
          },
          {
           "geo": "geo",
           "hoverlabel": {
            "namelength": 0
           },
           "hovertemplate": "Region=11- Gaspesie-Iles-de-la-Madelaine<br>Date of Infection=17th<br>Total Number of Cases=%{marker.size}<br>Lat=%{lat}<br>Long=%{lon}",
           "lat": [
            48.683333
           ],
           "legendgroup": "11- Gaspesie-Iles-de-la-Madelaine",
           "lon": [
            -65.4
           ],
           "marker": {
            "color": "#636efa",
            "size": [
             0
            ],
            "sizemode": "area",
            "sizeref": 0.67
           },
           "name": "11- Gaspesie-Iles-de-la-Madelaine",
           "showlegend": true,
           "type": "scattergeo"
          },
          {
           "geo": "geo",
           "hoverlabel": {
            "namelength": 0
           },
           "hovertemplate": "Region=12-Chaudiere-Appalaches<br>Date of Infection=17th<br>Total Number of Cases=%{marker.size}<br>Lat=%{lat}<br>Long=%{lon}",
           "lat": [
            46.483333
           ],
           "legendgroup": "12-Chaudiere-Appalaches",
           "lon": [
            -70.616667
           ],
           "marker": {
            "color": "#EF553B",
            "size": [
             4
            ],
            "sizemode": "area",
            "sizeref": 0.67
           },
           "name": "12-Chaudiere-Appalaches",
           "showlegend": true,
           "type": "scattergeo"
          },
          {
           "geo": "geo",
           "hoverlabel": {
            "namelength": 0
           },
           "hovertemplate": "Region=13- Laval<br>Date of Infection=17th<br>Total Number of Cases=%{marker.size}<br>Lat=%{lat}<br>Long=%{lon}",
           "lat": [
            45.583333
           ],
           "legendgroup": "13- Laval",
           "lon": [
            -73.75
           ],
           "marker": {
            "color": "#00cc96",
            "size": [
             0
            ],
            "sizemode": "area",
            "sizeref": 0.67
           },
           "name": "13- Laval",
           "showlegend": true,
           "type": "scattergeo"
          },
          {
           "geo": "geo",
           "hoverlabel": {
            "namelength": 0
           },
           "hovertemplate": "Region=14- Lanaudiere<br>Date of Infection=17th<br>Total Number of Cases=%{marker.size}<br>Lat=%{lat}<br>Long=%{lon}",
           "lat": [
            46.766667
           ],
           "legendgroup": "14- Lanaudiere",
           "lon": [
            -73.833333
           ],
           "marker": {
            "color": "#ab63fa",
            "size": [
             6
            ],
            "sizemode": "area",
            "sizeref": 0.67
           },
           "name": "14- Lanaudiere",
           "showlegend": true,
           "type": "scattergeo"
          },
          {
           "geo": "geo",
           "hoverlabel": {
            "namelength": 0
           },
           "hovertemplate": "Region=15- Laurentides<br>Date of Infection=17th<br>Total Number of Cases=%{marker.size}<br>Lat=%{lat}<br>Long=%{lon}",
           "lat": [
            46.433333
           ],
           "legendgroup": "15- Laurentides",
           "lon": [
            -74.983333
           ],
           "marker": {
            "color": "#FFA15A",
            "size": [
             7
            ],
            "sizemode": "area",
            "sizeref": 0.67
           },
           "name": "15- Laurentides",
           "showlegend": true,
           "type": "scattergeo"
          },
          {
           "geo": "geo",
           "hoverlabel": {
            "namelength": 0
           },
           "hovertemplate": "Region=16- Monteregie<br>Date of Infection=17th<br>Total Number of Cases=%{marker.size}<br>Lat=%{lat}<br>Long=%{lon}",
           "lat": [
            45.383333
           ],
           "legendgroup": "16- Monteregie",
           "lon": [
            -73.1
           ],
           "marker": {
            "color": "#19d3f3",
            "size": [
             13
            ],
            "sizemode": "area",
            "sizeref": 0.67
           },
           "name": "16- Monteregie",
           "showlegend": true,
           "type": "scattergeo"
          },
          {
           "geo": "geo",
           "hoverlabel": {
            "namelength": 0
           },
           "hovertemplate": "Region=17- Centre du Quebec<br>Date of Infection=17th<br>Total Number of Cases=%{marker.size}<br>Lat=%{lat}<br>Long=%{lon}",
           "lat": [
            46.283333
           ],
           "legendgroup": "17- Centre du Quebec",
           "lon": [
            -72.066667
           ],
           "marker": {
            "color": "#FF6692",
            "size": [
             0
            ],
            "sizemode": "area",
            "sizeref": 0.67
           },
           "name": "17- Centre du Quebec",
           "showlegend": true,
           "type": "scattergeo"
          },
          {
           "geo": "geo",
           "hoverlabel": {
            "namelength": 0
           },
           "hovertemplate": "Region=Undetermined<br>Date of Infection=17th<br>Total Number of Cases=%{marker.size}<br>Lat=%{lat}<br>Long=%{lon}",
           "lat": [
            "na"
           ],
           "legendgroup": "Undetermined",
           "lon": [
            "na"
           ],
           "marker": {
            "color": "#B6E880",
            "size": [
             5
            ],
            "sizemode": "area",
            "sizeref": 0.67
           },
           "name": "Undetermined",
           "showlegend": true,
           "type": "scattergeo"
          },
          {
           "geo": "geo",
           "hoverlabel": {
            "namelength": 0
           },
           "hovertemplate": "Region=Hors Quebec<br>Date of Infection=17th<br>Total Number of Cases=%{marker.size}<br>Lat=%{lat}<br>Long=%{lon}",
           "lat": [
            "na"
           ],
           "legendgroup": "Hors Quebec",
           "lon": [
            "na"
           ],
           "marker": {
            "color": "#FF97FF",
            "size": [
             2
            ],
            "sizemode": "area",
            "sizeref": 0.67
           },
           "name": "Hors Quebec",
           "showlegend": true,
           "type": "scattergeo"
          }
         ],
         "name": "17th"
        },
        {
         "data": [
          {
           "geo": "geo",
           "hoverlabel": {
            "namelength": 0
           },
           "hovertemplate": "Region=01-Bas-Saint-Laurent<br>Date of Infection=18th<br>Total Number of Cases=%{marker.size}<br>Lat=%{lat}<br>Long=%{lon}",
           "lat": [
            48.333333
           ],
           "legendgroup": "01-Bas-Saint-Laurent",
           "lon": [
            -68.666667
           ],
           "marker": {
            "color": "#636efa",
            "size": [
             0
            ],
            "sizemode": "area",
            "sizeref": 0.67
           },
           "name": "01-Bas-Saint-Laurent",
           "showlegend": true,
           "type": "scattergeo"
          },
          {
           "geo": "geo",
           "hoverlabel": {
            "namelength": 0
           },
           "hovertemplate": "Region=02- Saguenay-Lac-Saint-Jean<br>Date of Infection=18th<br>Total Number of Cases=%{marker.size}<br>Lat=%{lat}<br>Long=%{lon}",
           "lat": [
            49.8667
           ],
           "legendgroup": "02- Saguenay-Lac-Saint-Jean",
           "lon": [
            -71.75
           ],
           "marker": {
            "color": "#EF553B",
            "size": [
             0
            ],
            "sizemode": "area",
            "sizeref": 0.67
           },
           "name": "02- Saguenay-Lac-Saint-Jean",
           "showlegend": true,
           "type": "scattergeo"
          },
          {
           "geo": "geo",
           "hoverlabel": {
            "namelength": 0
           },
           "hovertemplate": "Region=03- Capitale-Nationale<br>Date of Infection=18th<br>Total Number of Cases=%{marker.size}<br>Lat=%{lat}<br>Long=%{lon}",
           "lat": [
            47.333333
           ],
           "legendgroup": "03- Capitale-Nationale",
           "lon": [
            -71.5
           ],
           "marker": {
            "color": "#00cc96",
            "size": [
             8
            ],
            "sizemode": "area",
            "sizeref": 0.67
           },
           "name": "03- Capitale-Nationale",
           "showlegend": true,
           "type": "scattergeo"
          },
          {
           "geo": "geo",
           "hoverlabel": {
            "namelength": 0
           },
           "hovertemplate": "Region=04-Mauricie<br>Date of Infection=18th<br>Total Number of Cases=%{marker.size}<br>Lat=%{lat}<br>Long=%{lon}",
           "lat": [
            47
           ],
           "legendgroup": "04-Mauricie",
           "lon": [
            -73
           ],
           "marker": {
            "color": "#ab63fa",
            "size": [
             3
            ],
            "sizemode": "area",
            "sizeref": 0.67
           },
           "name": "04-Mauricie",
           "showlegend": true,
           "type": "scattergeo"
          },
          {
           "geo": "geo",
           "hoverlabel": {
            "namelength": 0
           },
           "hovertemplate": "Region=05-Estrie<br>Date of Infection=18th<br>Total Number of Cases=%{marker.size}<br>Lat=%{lat}<br>Long=%{lon}",
           "lat": [
            45.481556
           ],
           "legendgroup": "05-Estrie",
           "lon": [
            -71.667917
           ],
           "marker": {
            "color": "#FFA15A",
            "size": [
             18
            ],
            "sizemode": "area",
            "sizeref": 0.67
           },
           "name": "05-Estrie",
           "showlegend": true,
           "type": "scattergeo"
          },
          {
           "geo": "geo",
           "hoverlabel": {
            "namelength": 0
           },
           "hovertemplate": "Region=06-Montreal<br>Date of Infection=18th<br>Total Number of Cases=%{marker.size}<br>Lat=%{lat}<br>Long=%{lon}",
           "lat": [
            45.5
           ],
           "legendgroup": "06-Montreal",
           "lon": [
            -73.566667
           ],
           "marker": {
            "color": "#19d3f3",
            "size": [
             24
            ],
            "sizemode": "area",
            "sizeref": 0.67
           },
           "name": "06-Montreal",
           "showlegend": true,
           "type": "scattergeo"
          },
          {
           "geo": "geo",
           "hoverlabel": {
            "namelength": 0
           },
           "hovertemplate": "Region=07-Outauais<br>Date of Infection=18th<br>Total Number of Cases=%{marker.size}<br>Lat=%{lat}<br>Long=%{lon}",
           "lat": [
            45.783333
           ],
           "legendgroup": "07-Outauais",
           "lon": [
            -75.083333
           ],
           "marker": {
            "color": "#FF6692",
            "size": [
             1
            ],
            "sizemode": "area",
            "sizeref": 0.67
           },
           "name": "07-Outauais",
           "showlegend": true,
           "type": "scattergeo"
          },
          {
           "geo": "geo",
           "hoverlabel": {
            "namelength": 0
           },
           "hovertemplate": "Region=08-Abititi-Temiscaminigue<br>Date of Infection=18th<br>Total Number of Cases=%{marker.size}<br>Lat=%{lat}<br>Long=%{lon}",
           "lat": [
            48.233333
           ],
           "legendgroup": "08-Abititi-Temiscaminigue",
           "lon": [
            -79.016667
           ],
           "marker": {
            "color": "#B6E880",
            "size": [
             0
            ],
            "sizemode": "area",
            "sizeref": 0.67
           },
           "name": "08-Abititi-Temiscaminigue",
           "showlegend": true,
           "type": "scattergeo"
          },
          {
           "geo": "geo",
           "hoverlabel": {
            "namelength": 0
           },
           "hovertemplate": "Region=9-Cote-Nord<br>Date of Infection=18th<br>Total Number of Cases=%{marker.size}<br>Lat=%{lat}<br>Long=%{lon}",
           "lat": [
            50.866667
           ],
           "legendgroup": "9-Cote-Nord",
           "lon": [
            -65.816667
           ],
           "marker": {
            "color": "#FF97FF",
            "size": [
             0
            ],
            "sizemode": "area",
            "sizeref": 0.67
           },
           "name": "9-Cote-Nord",
           "showlegend": true,
           "type": "scattergeo"
          },
          {
           "geo": "geo",
           "hoverlabel": {
            "namelength": 0
           },
           "hovertemplate": "Region=10-Nord-du-Quebec<br>Date of Infection=18th<br>Total Number of Cases=%{marker.size}<br>Lat=%{lat}<br>Long=%{lon}",
           "lat": [
            56.166667
           ],
           "legendgroup": "10-Nord-du-Quebec",
           "lon": [
            -74.416667
           ],
           "marker": {
            "color": "#FECB52",
            "size": [
             0
            ],
            "sizemode": "area",
            "sizeref": 0.67
           },
           "name": "10-Nord-du-Quebec",
           "showlegend": true,
           "type": "scattergeo"
          },
          {
           "geo": "geo",
           "hoverlabel": {
            "namelength": 0
           },
           "hovertemplate": "Region=11- Gaspesie-Iles-de-la-Madelaine<br>Date of Infection=18th<br>Total Number of Cases=%{marker.size}<br>Lat=%{lat}<br>Long=%{lon}",
           "lat": [
            48.683333
           ],
           "legendgroup": "11- Gaspesie-Iles-de-la-Madelaine",
           "lon": [
            -65.4
           ],
           "marker": {
            "color": "#636efa",
            "size": [
             0
            ],
            "sizemode": "area",
            "sizeref": 0.67
           },
           "name": "11- Gaspesie-Iles-de-la-Madelaine",
           "showlegend": true,
           "type": "scattergeo"
          },
          {
           "geo": "geo",
           "hoverlabel": {
            "namelength": 0
           },
           "hovertemplate": "Region=12-Chaudiere-Appalaches<br>Date of Infection=18th<br>Total Number of Cases=%{marker.size}<br>Lat=%{lat}<br>Long=%{lon}",
           "lat": [
            46.483333
           ],
           "legendgroup": "12-Chaudiere-Appalaches",
           "lon": [
            -70.616667
           ],
           "marker": {
            "color": "#EF553B",
            "size": [
             6
            ],
            "sizemode": "area",
            "sizeref": 0.67
           },
           "name": "12-Chaudiere-Appalaches",
           "showlegend": true,
           "type": "scattergeo"
          },
          {
           "geo": "geo",
           "hoverlabel": {
            "namelength": 0
           },
           "hovertemplate": "Region=13- Laval<br>Date of Infection=18th<br>Total Number of Cases=%{marker.size}<br>Lat=%{lat}<br>Long=%{lon}",
           "lat": [
            45.583333
           ],
           "legendgroup": "13- Laval",
           "lon": [
            -73.75
           ],
           "marker": {
            "color": "#00cc96",
            "size": [
             0
            ],
            "sizemode": "area",
            "sizeref": 0.67
           },
           "name": "13- Laval",
           "showlegend": true,
           "type": "scattergeo"
          },
          {
           "geo": "geo",
           "hoverlabel": {
            "namelength": 0
           },
           "hovertemplate": "Region=14- Lanaudiere<br>Date of Infection=18th<br>Total Number of Cases=%{marker.size}<br>Lat=%{lat}<br>Long=%{lon}",
           "lat": [
            46.766667
           ],
           "legendgroup": "14- Lanaudiere",
           "lon": [
            -73.833333
           ],
           "marker": {
            "color": "#ab63fa",
            "size": [
             6
            ],
            "sizemode": "area",
            "sizeref": 0.67
           },
           "name": "14- Lanaudiere",
           "showlegend": true,
           "type": "scattergeo"
          },
          {
           "geo": "geo",
           "hoverlabel": {
            "namelength": 0
           },
           "hovertemplate": "Region=15- Laurentides<br>Date of Infection=18th<br>Total Number of Cases=%{marker.size}<br>Lat=%{lat}<br>Long=%{lon}",
           "lat": [
            46.433333
           ],
           "legendgroup": "15- Laurentides",
           "lon": [
            -74.983333
           ],
           "marker": {
            "color": "#FFA15A",
            "size": [
             8
            ],
            "sizemode": "area",
            "sizeref": 0.67
           },
           "name": "15- Laurentides",
           "showlegend": true,
           "type": "scattergeo"
          },
          {
           "geo": "geo",
           "hoverlabel": {
            "namelength": 0
           },
           "hovertemplate": "Region=16- Monteregie<br>Date of Infection=18th<br>Total Number of Cases=%{marker.size}<br>Lat=%{lat}<br>Long=%{lon}",
           "lat": [
            45.383333
           ],
           "legendgroup": "16- Monteregie",
           "lon": [
            -73.1
           ],
           "marker": {
            "color": "#19d3f3",
            "size": [
             13
            ],
            "sizemode": "area",
            "sizeref": 0.67
           },
           "name": "16- Monteregie",
           "showlegend": true,
           "type": "scattergeo"
          },
          {
           "geo": "geo",
           "hoverlabel": {
            "namelength": 0
           },
           "hovertemplate": "Region=17- Centre du Quebec<br>Date of Infection=18th<br>Total Number of Cases=%{marker.size}<br>Lat=%{lat}<br>Long=%{lon}",
           "lat": [
            46.283333
           ],
           "legendgroup": "17- Centre du Quebec",
           "lon": [
            -72.066667
           ],
           "marker": {
            "color": "#FF6692",
            "size": [
             0
            ],
            "sizemode": "area",
            "sizeref": 0.67
           },
           "name": "17- Centre du Quebec",
           "showlegend": true,
           "type": "scattergeo"
          },
          {
           "geo": "geo",
           "hoverlabel": {
            "namelength": 0
           },
           "hovertemplate": "Region=Undetermined<br>Date of Infection=18th<br>Total Number of Cases=%{marker.size}<br>Lat=%{lat}<br>Long=%{lon}",
           "lat": [
            "na"
           ],
           "legendgroup": "Undetermined",
           "lon": [
            "na"
           ],
           "marker": {
            "color": "#B6E880",
            "size": [
             5
            ],
            "sizemode": "area",
            "sizeref": 0.67
           },
           "name": "Undetermined",
           "showlegend": true,
           "type": "scattergeo"
          },
          {
           "geo": "geo",
           "hoverlabel": {
            "namelength": 0
           },
           "hovertemplate": "Region=Hors Quebec<br>Date of Infection=18th<br>Total Number of Cases=%{marker.size}<br>Lat=%{lat}<br>Long=%{lon}",
           "lat": [
            "na"
           ],
           "legendgroup": "Hors Quebec",
           "lon": [
            "na"
           ],
           "marker": {
            "color": "#FF97FF",
            "size": [
             2
            ],
            "sizemode": "area",
            "sizeref": 0.67
           },
           "name": "Hors Quebec",
           "showlegend": true,
           "type": "scattergeo"
          }
         ],
         "name": "18th"
        },
        {
         "data": [
          {
           "geo": "geo",
           "hoverlabel": {
            "namelength": 0
           },
           "hovertemplate": "Region=01-Bas-Saint-Laurent<br>Date of Infection=19th<br>Total Number of Cases=%{marker.size}<br>Lat=%{lat}<br>Long=%{lon}",
           "lat": [
            48.333333
           ],
           "legendgroup": "01-Bas-Saint-Laurent",
           "lon": [
            -68.666667
           ],
           "marker": {
            "color": "#636efa",
            "size": [
             1
            ],
            "sizemode": "area",
            "sizeref": 0.67
           },
           "name": "01-Bas-Saint-Laurent",
           "showlegend": true,
           "type": "scattergeo"
          },
          {
           "geo": "geo",
           "hoverlabel": {
            "namelength": 0
           },
           "hovertemplate": "Region=02- Saguenay-Lac-Saint-Jean<br>Date of Infection=19th<br>Total Number of Cases=%{marker.size}<br>Lat=%{lat}<br>Long=%{lon}",
           "lat": [
            49.8667
           ],
           "legendgroup": "02- Saguenay-Lac-Saint-Jean",
           "lon": [
            -71.75
           ],
           "marker": {
            "color": "#EF553B",
            "size": [
             0
            ],
            "sizemode": "area",
            "sizeref": 0.67
           },
           "name": "02- Saguenay-Lac-Saint-Jean",
           "showlegend": true,
           "type": "scattergeo"
          },
          {
           "geo": "geo",
           "hoverlabel": {
            "namelength": 0
           },
           "hovertemplate": "Region=03- Capitale-Nationale<br>Date of Infection=19th<br>Total Number of Cases=%{marker.size}<br>Lat=%{lat}<br>Long=%{lon}",
           "lat": [
            47.333333
           ],
           "legendgroup": "03- Capitale-Nationale",
           "lon": [
            -71.5
           ],
           "marker": {
            "color": "#00cc96",
            "size": [
             10
            ],
            "sizemode": "area",
            "sizeref": 0.67
           },
           "name": "03- Capitale-Nationale",
           "showlegend": true,
           "type": "scattergeo"
          },
          {
           "geo": "geo",
           "hoverlabel": {
            "namelength": 0
           },
           "hovertemplate": "Region=04-Mauricie<br>Date of Infection=19th<br>Total Number of Cases=%{marker.size}<br>Lat=%{lat}<br>Long=%{lon}",
           "lat": [
            47
           ],
           "legendgroup": "04-Mauricie",
           "lon": [
            -73
           ],
           "marker": {
            "color": "#ab63fa",
            "size": [
             3
            ],
            "sizemode": "area",
            "sizeref": 0.67
           },
           "name": "04-Mauricie",
           "showlegend": true,
           "type": "scattergeo"
          },
          {
           "geo": "geo",
           "hoverlabel": {
            "namelength": 0
           },
           "hovertemplate": "Region=05-Estrie<br>Date of Infection=19th<br>Total Number of Cases=%{marker.size}<br>Lat=%{lat}<br>Long=%{lon}",
           "lat": [
            45.481556
           ],
           "legendgroup": "05-Estrie",
           "lon": [
            -71.667917
           ],
           "marker": {
            "color": "#FFA15A",
            "size": [
             26
            ],
            "sizemode": "area",
            "sizeref": 0.67
           },
           "name": "05-Estrie",
           "showlegend": true,
           "type": "scattergeo"
          },
          {
           "geo": "geo",
           "hoverlabel": {
            "namelength": 0
           },
           "hovertemplate": "Region=06-Montreal<br>Date of Infection=19th<br>Total Number of Cases=%{marker.size}<br>Lat=%{lat}<br>Long=%{lon}",
           "lat": [
            45.5
           ],
           "legendgroup": "06-Montreal",
           "lon": [
            -73.566667
           ],
           "marker": {
            "color": "#19d3f3",
            "size": [
             28
            ],
            "sizemode": "area",
            "sizeref": 0.67
           },
           "name": "06-Montreal",
           "showlegend": true,
           "type": "scattergeo"
          },
          {
           "geo": "geo",
           "hoverlabel": {
            "namelength": 0
           },
           "hovertemplate": "Region=07-Outauais<br>Date of Infection=19th<br>Total Number of Cases=%{marker.size}<br>Lat=%{lat}<br>Long=%{lon}",
           "lat": [
            45.783333
           ],
           "legendgroup": "07-Outauais",
           "lon": [
            -75.083333
           ],
           "marker": {
            "color": "#FF6692",
            "size": [
             1
            ],
            "sizemode": "area",
            "sizeref": 0.67
           },
           "name": "07-Outauais",
           "showlegend": true,
           "type": "scattergeo"
          },
          {
           "geo": "geo",
           "hoverlabel": {
            "namelength": 0
           },
           "hovertemplate": "Region=08-Abititi-Temiscaminigue<br>Date of Infection=19th<br>Total Number of Cases=%{marker.size}<br>Lat=%{lat}<br>Long=%{lon}",
           "lat": [
            48.233333
           ],
           "legendgroup": "08-Abititi-Temiscaminigue",
           "lon": [
            -79.016667
           ],
           "marker": {
            "color": "#B6E880",
            "size": [
             0
            ],
            "sizemode": "area",
            "sizeref": 0.67
           },
           "name": "08-Abititi-Temiscaminigue",
           "showlegend": true,
           "type": "scattergeo"
          },
          {
           "geo": "geo",
           "hoverlabel": {
            "namelength": 0
           },
           "hovertemplate": "Region=9-Cote-Nord<br>Date of Infection=19th<br>Total Number of Cases=%{marker.size}<br>Lat=%{lat}<br>Long=%{lon}",
           "lat": [
            50.866667
           ],
           "legendgroup": "9-Cote-Nord",
           "lon": [
            -65.816667
           ],
           "marker": {
            "color": "#FF97FF",
            "size": [
             0
            ],
            "sizemode": "area",
            "sizeref": 0.67
           },
           "name": "9-Cote-Nord",
           "showlegend": true,
           "type": "scattergeo"
          },
          {
           "geo": "geo",
           "hoverlabel": {
            "namelength": 0
           },
           "hovertemplate": "Region=10-Nord-du-Quebec<br>Date of Infection=19th<br>Total Number of Cases=%{marker.size}<br>Lat=%{lat}<br>Long=%{lon}",
           "lat": [
            56.166667
           ],
           "legendgroup": "10-Nord-du-Quebec",
           "lon": [
            -74.416667
           ],
           "marker": {
            "color": "#FECB52",
            "size": [
             0
            ],
            "sizemode": "area",
            "sizeref": 0.67
           },
           "name": "10-Nord-du-Quebec",
           "showlegend": true,
           "type": "scattergeo"
          },
          {
           "geo": "geo",
           "hoverlabel": {
            "namelength": 0
           },
           "hovertemplate": "Region=11- Gaspesie-Iles-de-la-Madelaine<br>Date of Infection=19th<br>Total Number of Cases=%{marker.size}<br>Lat=%{lat}<br>Long=%{lon}",
           "lat": [
            48.683333
           ],
           "legendgroup": "11- Gaspesie-Iles-de-la-Madelaine",
           "lon": [
            -65.4
           ],
           "marker": {
            "color": "#636efa",
            "size": [
             0
            ],
            "sizemode": "area",
            "sizeref": 0.67
           },
           "name": "11- Gaspesie-Iles-de-la-Madelaine",
           "showlegend": true,
           "type": "scattergeo"
          },
          {
           "geo": "geo",
           "hoverlabel": {
            "namelength": 0
           },
           "hovertemplate": "Region=12-Chaudiere-Appalaches<br>Date of Infection=19th<br>Total Number of Cases=%{marker.size}<br>Lat=%{lat}<br>Long=%{lon}",
           "lat": [
            46.483333
           ],
           "legendgroup": "12-Chaudiere-Appalaches",
           "lon": [
            -70.616667
           ],
           "marker": {
            "color": "#EF553B",
            "size": [
             6
            ],
            "sizemode": "area",
            "sizeref": 0.67
           },
           "name": "12-Chaudiere-Appalaches",
           "showlegend": true,
           "type": "scattergeo"
          },
          {
           "geo": "geo",
           "hoverlabel": {
            "namelength": 0
           },
           "hovertemplate": "Region=13- Laval<br>Date of Infection=19th<br>Total Number of Cases=%{marker.size}<br>Lat=%{lat}<br>Long=%{lon}",
           "lat": [
            45.583333
           ],
           "legendgroup": "13- Laval",
           "lon": [
            -73.75
           ],
           "marker": {
            "color": "#00cc96",
            "size": [
             1
            ],
            "sizemode": "area",
            "sizeref": 0.67
           },
           "name": "13- Laval",
           "showlegend": true,
           "type": "scattergeo"
          },
          {
           "geo": "geo",
           "hoverlabel": {
            "namelength": 0
           },
           "hovertemplate": "Region=14- Lanaudiere<br>Date of Infection=19th<br>Total Number of Cases=%{marker.size}<br>Lat=%{lat}<br>Long=%{lon}",
           "lat": [
            46.766667
           ],
           "legendgroup": "14- Lanaudiere",
           "lon": [
            -73.833333
           ],
           "marker": {
            "color": "#ab63fa",
            "size": [
             7
            ],
            "sizemode": "area",
            "sizeref": 0.67
           },
           "name": "14- Lanaudiere",
           "showlegend": true,
           "type": "scattergeo"
          },
          {
           "geo": "geo",
           "hoverlabel": {
            "namelength": 0
           },
           "hovertemplate": "Region=15- Laurentides<br>Date of Infection=19th<br>Total Number of Cases=%{marker.size}<br>Lat=%{lat}<br>Long=%{lon}",
           "lat": [
            46.433333
           ],
           "legendgroup": "15- Laurentides",
           "lon": [
            -74.983333
           ],
           "marker": {
            "color": "#FFA15A",
            "size": [
             9
            ],
            "sizemode": "area",
            "sizeref": 0.67
           },
           "name": "15- Laurentides",
           "showlegend": true,
           "type": "scattergeo"
          },
          {
           "geo": "geo",
           "hoverlabel": {
            "namelength": 0
           },
           "hovertemplate": "Region=16- Monteregie<br>Date of Infection=19th<br>Total Number of Cases=%{marker.size}<br>Lat=%{lat}<br>Long=%{lon}",
           "lat": [
            45.383333
           ],
           "legendgroup": "16- Monteregie",
           "lon": [
            -73.1
           ],
           "marker": {
            "color": "#19d3f3",
            "size": [
             19
            ],
            "sizemode": "area",
            "sizeref": 0.67
           },
           "name": "16- Monteregie",
           "showlegend": true,
           "type": "scattergeo"
          },
          {
           "geo": "geo",
           "hoverlabel": {
            "namelength": 0
           },
           "hovertemplate": "Region=17- Centre du Quebec<br>Date of Infection=19th<br>Total Number of Cases=%{marker.size}<br>Lat=%{lat}<br>Long=%{lon}",
           "lat": [
            46.283333
           ],
           "legendgroup": "17- Centre du Quebec",
           "lon": [
            -72.066667
           ],
           "marker": {
            "color": "#FF6692",
            "size": [
             0
            ],
            "sizemode": "area",
            "sizeref": 0.67
           },
           "name": "17- Centre du Quebec",
           "showlegend": true,
           "type": "scattergeo"
          },
          {
           "geo": "geo",
           "hoverlabel": {
            "namelength": 0
           },
           "hovertemplate": "Region=Undetermined<br>Date of Infection=19th<br>Total Number of Cases=%{marker.size}<br>Lat=%{lat}<br>Long=%{lon}",
           "lat": [
            "na"
           ],
           "legendgroup": "Undetermined",
           "lon": [
            "na"
           ],
           "marker": {
            "color": "#B6E880",
            "size": [
             8
            ],
            "sizemode": "area",
            "sizeref": 0.67
           },
           "name": "Undetermined",
           "showlegend": true,
           "type": "scattergeo"
          },
          {
           "geo": "geo",
           "hoverlabel": {
            "namelength": 0
           },
           "hovertemplate": "Region=Hors Quebec<br>Date of Infection=19th<br>Total Number of Cases=%{marker.size}<br>Lat=%{lat}<br>Long=%{lon}",
           "lat": [
            "na"
           ],
           "legendgroup": "Hors Quebec",
           "lon": [
            "na"
           ],
           "marker": {
            "color": "#FF97FF",
            "size": [
             2
            ],
            "sizemode": "area",
            "sizeref": 0.67
           },
           "name": "Hors Quebec",
           "showlegend": true,
           "type": "scattergeo"
          }
         ],
         "name": "19th"
        },
        {
         "data": [
          {
           "geo": "geo",
           "hoverlabel": {
            "namelength": 0
           },
           "hovertemplate": "Region=01-Bas-Saint-Laurent<br>Date of Infection=20th<br>Total Number of Cases=%{marker.size}<br>Lat=%{lat}<br>Long=%{lon}",
           "lat": [
            48.333333
           ],
           "legendgroup": "01-Bas-Saint-Laurent",
           "lon": [
            -68.666667
           ],
           "marker": {
            "color": "#636efa",
            "size": [
             1
            ],
            "sizemode": "area",
            "sizeref": 0.67
           },
           "name": "01-Bas-Saint-Laurent",
           "showlegend": true,
           "type": "scattergeo"
          },
          {
           "geo": "geo",
           "hoverlabel": {
            "namelength": 0
           },
           "hovertemplate": "Region=02- Saguenay-Lac-Saint-Jean<br>Date of Infection=20th<br>Total Number of Cases=%{marker.size}<br>Lat=%{lat}<br>Long=%{lon}",
           "lat": [
            49.8667
           ],
           "legendgroup": "02- Saguenay-Lac-Saint-Jean",
           "lon": [
            -71.75
           ],
           "marker": {
            "color": "#EF553B",
            "size": [
             0
            ],
            "sizemode": "area",
            "sizeref": 0.67
           },
           "name": "02- Saguenay-Lac-Saint-Jean",
           "showlegend": true,
           "type": "scattergeo"
          },
          {
           "geo": "geo",
           "hoverlabel": {
            "namelength": 0
           },
           "hovertemplate": "Region=03- Capitale-Nationale<br>Date of Infection=20th<br>Total Number of Cases=%{marker.size}<br>Lat=%{lat}<br>Long=%{lon}",
           "lat": [
            47.333333
           ],
           "legendgroup": "03- Capitale-Nationale",
           "lon": [
            -71.5
           ],
           "marker": {
            "color": "#00cc96",
            "size": [
             10
            ],
            "sizemode": "area",
            "sizeref": 0.67
           },
           "name": "03- Capitale-Nationale",
           "showlegend": true,
           "type": "scattergeo"
          },
          {
           "geo": "geo",
           "hoverlabel": {
            "namelength": 0
           },
           "hovertemplate": "Region=04-Mauricie<br>Date of Infection=20th<br>Total Number of Cases=%{marker.size}<br>Lat=%{lat}<br>Long=%{lon}",
           "lat": [
            47
           ],
           "legendgroup": "04-Mauricie",
           "lon": [
            -73
           ],
           "marker": {
            "color": "#ab63fa",
            "size": [
             4
            ],
            "sizemode": "area",
            "sizeref": 0.67
           },
           "name": "04-Mauricie",
           "showlegend": true,
           "type": "scattergeo"
          },
          {
           "geo": "geo",
           "hoverlabel": {
            "namelength": 0
           },
           "hovertemplate": "Region=05-Estrie<br>Date of Infection=20th<br>Total Number of Cases=%{marker.size}<br>Lat=%{lat}<br>Long=%{lon}",
           "lat": [
            45.481556
           ],
           "legendgroup": "05-Estrie",
           "lon": [
            -71.667917
           ],
           "marker": {
            "color": "#FFA15A",
            "size": [
             26
            ],
            "sizemode": "area",
            "sizeref": 0.67
           },
           "name": "05-Estrie",
           "showlegend": true,
           "type": "scattergeo"
          },
          {
           "geo": "geo",
           "hoverlabel": {
            "namelength": 0
           },
           "hovertemplate": "Region=06-Montreal<br>Date of Infection=20th<br>Total Number of Cases=%{marker.size}<br>Lat=%{lat}<br>Long=%{lon}",
           "lat": [
            45.5
           ],
           "legendgroup": "06-Montreal",
           "lon": [
            -73.566667
           ],
           "marker": {
            "color": "#19d3f3",
            "size": [
             31
            ],
            "sizemode": "area",
            "sizeref": 0.67
           },
           "name": "06-Montreal",
           "showlegend": true,
           "type": "scattergeo"
          },
          {
           "geo": "geo",
           "hoverlabel": {
            "namelength": 0
           },
           "hovertemplate": "Region=07-Outauais<br>Date of Infection=20th<br>Total Number of Cases=%{marker.size}<br>Lat=%{lat}<br>Long=%{lon}",
           "lat": [
            45.783333
           ],
           "legendgroup": "07-Outauais",
           "lon": [
            -75.083333
           ],
           "marker": {
            "color": "#FF6692",
            "size": [
             1
            ],
            "sizemode": "area",
            "sizeref": 0.67
           },
           "name": "07-Outauais",
           "showlegend": true,
           "type": "scattergeo"
          },
          {
           "geo": "geo",
           "hoverlabel": {
            "namelength": 0
           },
           "hovertemplate": "Region=08-Abititi-Temiscaminigue<br>Date of Infection=20th<br>Total Number of Cases=%{marker.size}<br>Lat=%{lat}<br>Long=%{lon}",
           "lat": [
            48.233333
           ],
           "legendgroup": "08-Abititi-Temiscaminigue",
           "lon": [
            -79.016667
           ],
           "marker": {
            "color": "#B6E880",
            "size": [
             0
            ],
            "sizemode": "area",
            "sizeref": 0.67
           },
           "name": "08-Abititi-Temiscaminigue",
           "showlegend": true,
           "type": "scattergeo"
          },
          {
           "geo": "geo",
           "hoverlabel": {
            "namelength": 0
           },
           "hovertemplate": "Region=9-Cote-Nord<br>Date of Infection=20th<br>Total Number of Cases=%{marker.size}<br>Lat=%{lat}<br>Long=%{lon}",
           "lat": [
            50.866667
           ],
           "legendgroup": "9-Cote-Nord",
           "lon": [
            -65.816667
           ],
           "marker": {
            "color": "#FF97FF",
            "size": [
             0
            ],
            "sizemode": "area",
            "sizeref": 0.67
           },
           "name": "9-Cote-Nord",
           "showlegend": true,
           "type": "scattergeo"
          },
          {
           "geo": "geo",
           "hoverlabel": {
            "namelength": 0
           },
           "hovertemplate": "Region=10-Nord-du-Quebec<br>Date of Infection=20th<br>Total Number of Cases=%{marker.size}<br>Lat=%{lat}<br>Long=%{lon}",
           "lat": [
            56.166667
           ],
           "legendgroup": "10-Nord-du-Quebec",
           "lon": [
            -74.416667
           ],
           "marker": {
            "color": "#FECB52",
            "size": [
             1
            ],
            "sizemode": "area",
            "sizeref": 0.67
           },
           "name": "10-Nord-du-Quebec",
           "showlegend": true,
           "type": "scattergeo"
          },
          {
           "geo": "geo",
           "hoverlabel": {
            "namelength": 0
           },
           "hovertemplate": "Region=11- Gaspesie-Iles-de-la-Madelaine<br>Date of Infection=20th<br>Total Number of Cases=%{marker.size}<br>Lat=%{lat}<br>Long=%{lon}",
           "lat": [
            48.683333
           ],
           "legendgroup": "11- Gaspesie-Iles-de-la-Madelaine",
           "lon": [
            -65.4
           ],
           "marker": {
            "color": "#636efa",
            "size": [
             0
            ],
            "sizemode": "area",
            "sizeref": 0.67
           },
           "name": "11- Gaspesie-Iles-de-la-Madelaine",
           "showlegend": true,
           "type": "scattergeo"
          },
          {
           "geo": "geo",
           "hoverlabel": {
            "namelength": 0
           },
           "hovertemplate": "Region=12-Chaudiere-Appalaches<br>Date of Infection=20th<br>Total Number of Cases=%{marker.size}<br>Lat=%{lat}<br>Long=%{lon}",
           "lat": [
            46.483333
           ],
           "legendgroup": "12-Chaudiere-Appalaches",
           "lon": [
            -70.616667
           ],
           "marker": {
            "color": "#EF553B",
            "size": [
             6
            ],
            "sizemode": "area",
            "sizeref": 0.67
           },
           "name": "12-Chaudiere-Appalaches",
           "showlegend": true,
           "type": "scattergeo"
          },
          {
           "geo": "geo",
           "hoverlabel": {
            "namelength": 0
           },
           "hovertemplate": "Region=13- Laval<br>Date of Infection=20th<br>Total Number of Cases=%{marker.size}<br>Lat=%{lat}<br>Long=%{lon}",
           "lat": [
            45.583333
           ],
           "legendgroup": "13- Laval",
           "lon": [
            -73.75
           ],
           "marker": {
            "color": "#00cc96",
            "size": [
             1
            ],
            "sizemode": "area",
            "sizeref": 0.67
           },
           "name": "13- Laval",
           "showlegend": true,
           "type": "scattergeo"
          },
          {
           "geo": "geo",
           "hoverlabel": {
            "namelength": 0
           },
           "hovertemplate": "Region=14- Lanaudiere<br>Date of Infection=20th<br>Total Number of Cases=%{marker.size}<br>Lat=%{lat}<br>Long=%{lon}",
           "lat": [
            46.766667
           ],
           "legendgroup": "14- Lanaudiere",
           "lon": [
            -73.833333
           ],
           "marker": {
            "color": "#ab63fa",
            "size": [
             7
            ],
            "sizemode": "area",
            "sizeref": 0.67
           },
           "name": "14- Lanaudiere",
           "showlegend": true,
           "type": "scattergeo"
          },
          {
           "geo": "geo",
           "hoverlabel": {
            "namelength": 0
           },
           "hovertemplate": "Region=15- Laurentides<br>Date of Infection=20th<br>Total Number of Cases=%{marker.size}<br>Lat=%{lat}<br>Long=%{lon}",
           "lat": [
            46.433333
           ],
           "legendgroup": "15- Laurentides",
           "lon": [
            -74.983333
           ],
           "marker": {
            "color": "#FFA15A",
            "size": [
             10
            ],
            "sizemode": "area",
            "sizeref": 0.67
           },
           "name": "15- Laurentides",
           "showlegend": true,
           "type": "scattergeo"
          },
          {
           "geo": "geo",
           "hoverlabel": {
            "namelength": 0
           },
           "hovertemplate": "Region=16- Monteregie<br>Date of Infection=20th<br>Total Number of Cases=%{marker.size}<br>Lat=%{lat}<br>Long=%{lon}",
           "lat": [
            45.383333
           ],
           "legendgroup": "16- Monteregie",
           "lon": [
            -73.1
           ],
           "marker": {
            "color": "#19d3f3",
            "size": [
             21
            ],
            "sizemode": "area",
            "sizeref": 0.67
           },
           "name": "16- Monteregie",
           "showlegend": true,
           "type": "scattergeo"
          },
          {
           "geo": "geo",
           "hoverlabel": {
            "namelength": 0
           },
           "hovertemplate": "Region=17- Centre du Quebec<br>Date of Infection=20th<br>Total Number of Cases=%{marker.size}<br>Lat=%{lat}<br>Long=%{lon}",
           "lat": [
            46.283333
           ],
           "legendgroup": "17- Centre du Quebec",
           "lon": [
            -72.066667
           ],
           "marker": {
            "color": "#FF6692",
            "size": [
             0
            ],
            "sizemode": "area",
            "sizeref": 0.67
           },
           "name": "17- Centre du Quebec",
           "showlegend": true,
           "type": "scattergeo"
          },
          {
           "geo": "geo",
           "hoverlabel": {
            "namelength": 0
           },
           "hovertemplate": "Region=Undetermined<br>Date of Infection=20th<br>Total Number of Cases=%{marker.size}<br>Lat=%{lat}<br>Long=%{lon}",
           "lat": [
            "na"
           ],
           "legendgroup": "Undetermined",
           "lon": [
            "na"
           ],
           "marker": {
            "color": "#B6E880",
            "size": [
             18
            ],
            "sizemode": "area",
            "sizeref": 0.67
           },
           "name": "Undetermined",
           "showlegend": true,
           "type": "scattergeo"
          },
          {
           "geo": "geo",
           "hoverlabel": {
            "namelength": 0
           },
           "hovertemplate": "Region=Hors Quebec<br>Date of Infection=20th<br>Total Number of Cases=%{marker.size}<br>Lat=%{lat}<br>Long=%{lon}",
           "lat": [
            "na"
           ],
           "legendgroup": "Hors Quebec",
           "lon": [
            "na"
           ],
           "marker": {
            "color": "#FF97FF",
            "size": [
             2
            ],
            "sizemode": "area",
            "sizeref": 0.67
           },
           "name": "Hors Quebec",
           "showlegend": true,
           "type": "scattergeo"
          }
         ],
         "name": "20th"
        },
        {
         "data": [
          {
           "geo": "geo",
           "hoverlabel": {
            "namelength": 0
           },
           "hovertemplate": "Region=01-Bas-Saint-Laurent<br>Date of Infection=21st<br>Total Number of Cases=%{marker.size}<br>Lat=%{lat}<br>Long=%{lon}",
           "lat": [
            48.333333
           ],
           "legendgroup": "01-Bas-Saint-Laurent",
           "lon": [
            -68.666667
           ],
           "marker": {
            "color": "#636efa",
            "size": [
             1
            ],
            "sizemode": "area",
            "sizeref": 0.67
           },
           "name": "01-Bas-Saint-Laurent",
           "showlegend": true,
           "type": "scattergeo"
          },
          {
           "geo": "geo",
           "hoverlabel": {
            "namelength": 0
           },
           "hovertemplate": "Region=02- Saguenay-Lac-Saint-Jean<br>Date of Infection=21st<br>Total Number of Cases=%{marker.size}<br>Lat=%{lat}<br>Long=%{lon}",
           "lat": [
            49.8667
           ],
           "legendgroup": "02- Saguenay-Lac-Saint-Jean",
           "lon": [
            -71.75
           ],
           "marker": {
            "color": "#EF553B",
            "size": [
             1
            ],
            "sizemode": "area",
            "sizeref": 0.67
           },
           "name": "02- Saguenay-Lac-Saint-Jean",
           "showlegend": true,
           "type": "scattergeo"
          },
          {
           "geo": "geo",
           "hoverlabel": {
            "namelength": 0
           },
           "hovertemplate": "Region=03- Capitale-Nationale<br>Date of Infection=21st<br>Total Number of Cases=%{marker.size}<br>Lat=%{lat}<br>Long=%{lon}",
           "lat": [
            47.333333
           ],
           "legendgroup": "03- Capitale-Nationale",
           "lon": [
            -71.5
           ],
           "marker": {
            "color": "#00cc96",
            "size": [
             13
            ],
            "sizemode": "area",
            "sizeref": 0.67
           },
           "name": "03- Capitale-Nationale",
           "showlegend": true,
           "type": "scattergeo"
          },
          {
           "geo": "geo",
           "hoverlabel": {
            "namelength": 0
           },
           "hovertemplate": "Region=04-Mauricie<br>Date of Infection=21st<br>Total Number of Cases=%{marker.size}<br>Lat=%{lat}<br>Long=%{lon}",
           "lat": [
            47
           ],
           "legendgroup": "04-Mauricie",
           "lon": [
            -73
           ],
           "marker": {
            "color": "#ab63fa",
            "size": [
             5
            ],
            "sizemode": "area",
            "sizeref": 0.67
           },
           "name": "04-Mauricie",
           "showlegend": true,
           "type": "scattergeo"
          },
          {
           "geo": "geo",
           "hoverlabel": {
            "namelength": 0
           },
           "hovertemplate": "Region=05-Estrie<br>Date of Infection=21st<br>Total Number of Cases=%{marker.size}<br>Lat=%{lat}<br>Long=%{lon}",
           "lat": [
            45.481556
           ],
           "legendgroup": "05-Estrie",
           "lon": [
            -71.667917
           ],
           "marker": {
            "color": "#FFA15A",
            "size": [
             27
            ],
            "sizemode": "area",
            "sizeref": 0.67
           },
           "name": "05-Estrie",
           "showlegend": true,
           "type": "scattergeo"
          },
          {
           "geo": "geo",
           "hoverlabel": {
            "namelength": 0
           },
           "hovertemplate": "Region=06-Montreal<br>Date of Infection=21st<br>Total Number of Cases=%{marker.size}<br>Lat=%{lat}<br>Long=%{lon}",
           "lat": [
            45.5
           ],
           "legendgroup": "06-Montreal",
           "lon": [
            -73.566667
           ],
           "marker": {
            "color": "#19d3f3",
            "size": [
             41
            ],
            "sizemode": "area",
            "sizeref": 0.67
           },
           "name": "06-Montreal",
           "showlegend": true,
           "type": "scattergeo"
          },
          {
           "geo": "geo",
           "hoverlabel": {
            "namelength": 0
           },
           "hovertemplate": "Region=07-Outauais<br>Date of Infection=21st<br>Total Number of Cases=%{marker.size}<br>Lat=%{lat}<br>Long=%{lon}",
           "lat": [
            45.783333
           ],
           "legendgroup": "07-Outauais",
           "lon": [
            -75.083333
           ],
           "marker": {
            "color": "#FF6692",
            "size": [
             3
            ],
            "sizemode": "area",
            "sizeref": 0.67
           },
           "name": "07-Outauais",
           "showlegend": true,
           "type": "scattergeo"
          },
          {
           "geo": "geo",
           "hoverlabel": {
            "namelength": 0
           },
           "hovertemplate": "Region=08-Abititi-Temiscaminigue<br>Date of Infection=21st<br>Total Number of Cases=%{marker.size}<br>Lat=%{lat}<br>Long=%{lon}",
           "lat": [
            48.233333
           ],
           "legendgroup": "08-Abititi-Temiscaminigue",
           "lon": [
            -79.016667
           ],
           "marker": {
            "color": "#B6E880",
            "size": [
             0
            ],
            "sizemode": "area",
            "sizeref": 0.67
           },
           "name": "08-Abititi-Temiscaminigue",
           "showlegend": true,
           "type": "scattergeo"
          },
          {
           "geo": "geo",
           "hoverlabel": {
            "namelength": 0
           },
           "hovertemplate": "Region=9-Cote-Nord<br>Date of Infection=21st<br>Total Number of Cases=%{marker.size}<br>Lat=%{lat}<br>Long=%{lon}",
           "lat": [
            50.866667
           ],
           "legendgroup": "9-Cote-Nord",
           "lon": [
            -65.816667
           ],
           "marker": {
            "color": "#FF97FF",
            "size": [
             0
            ],
            "sizemode": "area",
            "sizeref": 0.67
           },
           "name": "9-Cote-Nord",
           "showlegend": true,
           "type": "scattergeo"
          },
          {
           "geo": "geo",
           "hoverlabel": {
            "namelength": 0
           },
           "hovertemplate": "Region=10-Nord-du-Quebec<br>Date of Infection=21st<br>Total Number of Cases=%{marker.size}<br>Lat=%{lat}<br>Long=%{lon}",
           "lat": [
            56.166667
           ],
           "legendgroup": "10-Nord-du-Quebec",
           "lon": [
            -74.416667
           ],
           "marker": {
            "color": "#FECB52",
            "size": [
             1
            ],
            "sizemode": "area",
            "sizeref": 0.67
           },
           "name": "10-Nord-du-Quebec",
           "showlegend": true,
           "type": "scattergeo"
          },
          {
           "geo": "geo",
           "hoverlabel": {
            "namelength": 0
           },
           "hovertemplate": "Region=11- Gaspesie-Iles-de-la-Madelaine<br>Date of Infection=21st<br>Total Number of Cases=%{marker.size}<br>Lat=%{lat}<br>Long=%{lon}",
           "lat": [
            48.683333
           ],
           "legendgroup": "11- Gaspesie-Iles-de-la-Madelaine",
           "lon": [
            -65.4
           ],
           "marker": {
            "color": "#636efa",
            "size": [
             0
            ],
            "sizemode": "area",
            "sizeref": 0.67
           },
           "name": "11- Gaspesie-Iles-de-la-Madelaine",
           "showlegend": true,
           "type": "scattergeo"
          },
          {
           "geo": "geo",
           "hoverlabel": {
            "namelength": 0
           },
           "hovertemplate": "Region=12-Chaudiere-Appalaches<br>Date of Infection=21st<br>Total Number of Cases=%{marker.size}<br>Lat=%{lat}<br>Long=%{lon}",
           "lat": [
            46.483333
           ],
           "legendgroup": "12-Chaudiere-Appalaches",
           "lon": [
            -70.616667
           ],
           "marker": {
            "color": "#EF553B",
            "size": [
             13
            ],
            "sizemode": "area",
            "sizeref": 0.67
           },
           "name": "12-Chaudiere-Appalaches",
           "showlegend": true,
           "type": "scattergeo"
          },
          {
           "geo": "geo",
           "hoverlabel": {
            "namelength": 0
           },
           "hovertemplate": "Region=13- Laval<br>Date of Infection=21st<br>Total Number of Cases=%{marker.size}<br>Lat=%{lat}<br>Long=%{lon}",
           "lat": [
            45.583333
           ],
           "legendgroup": "13- Laval",
           "lon": [
            -73.75
           ],
           "marker": {
            "color": "#00cc96",
            "size": [
             3
            ],
            "sizemode": "area",
            "sizeref": 0.67
           },
           "name": "13- Laval",
           "showlegend": true,
           "type": "scattergeo"
          },
          {
           "geo": "geo",
           "hoverlabel": {
            "namelength": 0
           },
           "hovertemplate": "Region=14- Lanaudiere<br>Date of Infection=21st<br>Total Number of Cases=%{marker.size}<br>Lat=%{lat}<br>Long=%{lon}",
           "lat": [
            46.766667
           ],
           "legendgroup": "14- Lanaudiere",
           "lon": [
            -73.833333
           ],
           "marker": {
            "color": "#ab63fa",
            "size": [
             9
            ],
            "sizemode": "area",
            "sizeref": 0.67
           },
           "name": "14- Lanaudiere",
           "showlegend": true,
           "type": "scattergeo"
          },
          {
           "geo": "geo",
           "hoverlabel": {
            "namelength": 0
           },
           "hovertemplate": "Region=15- Laurentides<br>Date of Infection=21st<br>Total Number of Cases=%{marker.size}<br>Lat=%{lat}<br>Long=%{lon}",
           "lat": [
            46.433333
           ],
           "legendgroup": "15- Laurentides",
           "lon": [
            -74.983333
           ],
           "marker": {
            "color": "#FFA15A",
            "size": [
             14
            ],
            "sizemode": "area",
            "sizeref": 0.67
           },
           "name": "15- Laurentides",
           "showlegend": true,
           "type": "scattergeo"
          },
          {
           "geo": "geo",
           "hoverlabel": {
            "namelength": 0
           },
           "hovertemplate": "Region=16- Monteregie<br>Date of Infection=21st<br>Total Number of Cases=%{marker.size}<br>Lat=%{lat}<br>Long=%{lon}",
           "lat": [
            45.383333
           ],
           "legendgroup": "16- Monteregie",
           "lon": [
            -73.1
           ],
           "marker": {
            "color": "#19d3f3",
            "size": [
             26
            ],
            "sizemode": "area",
            "sizeref": 0.67
           },
           "name": "16- Monteregie",
           "showlegend": true,
           "type": "scattergeo"
          },
          {
           "geo": "geo",
           "hoverlabel": {
            "namelength": 0
           },
           "hovertemplate": "Region=17- Centre du Quebec<br>Date of Infection=21st<br>Total Number of Cases=%{marker.size}<br>Lat=%{lat}<br>Long=%{lon}",
           "lat": [
            46.283333
           ],
           "legendgroup": "17- Centre du Quebec",
           "lon": [
            -72.066667
           ],
           "marker": {
            "color": "#FF6692",
            "size": [
             0
            ],
            "sizemode": "area",
            "sizeref": 0.67
           },
           "name": "17- Centre du Quebec",
           "showlegend": true,
           "type": "scattergeo"
          },
          {
           "geo": "geo",
           "hoverlabel": {
            "namelength": 0
           },
           "hovertemplate": "Region=Undetermined<br>Date of Infection=21st<br>Total Number of Cases=%{marker.size}<br>Lat=%{lat}<br>Long=%{lon}",
           "lat": [
            "na"
           ],
           "legendgroup": "Undetermined",
           "lon": [
            "na"
           ],
           "marker": {
            "color": "#B6E880",
            "size": [
             22
            ],
            "sizemode": "area",
            "sizeref": 0.67
           },
           "name": "Undetermined",
           "showlegend": true,
           "type": "scattergeo"
          },
          {
           "geo": "geo",
           "hoverlabel": {
            "namelength": 0
           },
           "hovertemplate": "Region=Hors Quebec<br>Date of Infection=21st<br>Total Number of Cases=%{marker.size}<br>Lat=%{lat}<br>Long=%{lon}",
           "lat": [
            "na"
           ],
           "legendgroup": "Hors Quebec",
           "lon": [
            "na"
           ],
           "marker": {
            "color": "#FF97FF",
            "size": [
             2
            ],
            "sizemode": "area",
            "sizeref": 0.67
           },
           "name": "Hors Quebec",
           "showlegend": true,
           "type": "scattergeo"
          }
         ],
         "name": "21st"
        },
        {
         "data": [
          {
           "geo": "geo",
           "hoverlabel": {
            "namelength": 0
           },
           "hovertemplate": "Region=01-Bas-Saint-Laurent<br>Date of Infection=22nd<br>Total Number of Cases=%{marker.size}<br>Lat=%{lat}<br>Long=%{lon}",
           "lat": [
            48.333333
           ],
           "legendgroup": "01-Bas-Saint-Laurent",
           "lon": [
            -68.666667
           ],
           "marker": {
            "color": "#636efa",
            "size": [
             1
            ],
            "sizemode": "area",
            "sizeref": 0.67
           },
           "name": "01-Bas-Saint-Laurent",
           "showlegend": true,
           "type": "scattergeo"
          },
          {
           "geo": "geo",
           "hoverlabel": {
            "namelength": 0
           },
           "hovertemplate": "Region=02- Saguenay-Lac-Saint-Jean<br>Date of Infection=22nd<br>Total Number of Cases=%{marker.size}<br>Lat=%{lat}<br>Long=%{lon}",
           "lat": [
            49.8667
           ],
           "legendgroup": "02- Saguenay-Lac-Saint-Jean",
           "lon": [
            -71.75
           ],
           "marker": {
            "color": "#EF553B",
            "size": [
             1
            ],
            "sizemode": "area",
            "sizeref": 0.67
           },
           "name": "02- Saguenay-Lac-Saint-Jean",
           "showlegend": true,
           "type": "scattergeo"
          },
          {
           "geo": "geo",
           "hoverlabel": {
            "namelength": 0
           },
           "hovertemplate": "Region=03- Capitale-Nationale<br>Date of Infection=22nd<br>Total Number of Cases=%{marker.size}<br>Lat=%{lat}<br>Long=%{lon}",
           "lat": [
            47.333333
           ],
           "legendgroup": "03- Capitale-Nationale",
           "lon": [
            -71.5
           ],
           "marker": {
            "color": "#00cc96",
            "size": [
             13
            ],
            "sizemode": "area",
            "sizeref": 0.67
           },
           "name": "03- Capitale-Nationale",
           "showlegend": true,
           "type": "scattergeo"
          },
          {
           "geo": "geo",
           "hoverlabel": {
            "namelength": 0
           },
           "hovertemplate": "Region=04-Mauricie<br>Date of Infection=22nd<br>Total Number of Cases=%{marker.size}<br>Lat=%{lat}<br>Long=%{lon}",
           "lat": [
            47
           ],
           "legendgroup": "04-Mauricie",
           "lon": [
            -73
           ],
           "marker": {
            "color": "#ab63fa",
            "size": [
             7
            ],
            "sizemode": "area",
            "sizeref": 0.67
           },
           "name": "04-Mauricie",
           "showlegend": true,
           "type": "scattergeo"
          },
          {
           "geo": "geo",
           "hoverlabel": {
            "namelength": 0
           },
           "hovertemplate": "Region=05-Estrie<br>Date of Infection=22nd<br>Total Number of Cases=%{marker.size}<br>Lat=%{lat}<br>Long=%{lon}",
           "lat": [
            45.481556
           ],
           "legendgroup": "05-Estrie",
           "lon": [
            -71.667917
           ],
           "marker": {
            "color": "#FFA15A",
            "size": [
             30
            ],
            "sizemode": "area",
            "sizeref": 0.67
           },
           "name": "05-Estrie",
           "showlegend": true,
           "type": "scattergeo"
          },
          {
           "geo": "geo",
           "hoverlabel": {
            "namelength": 0
           },
           "hovertemplate": "Region=06-Montreal<br>Date of Infection=22nd<br>Total Number of Cases=%{marker.size}<br>Lat=%{lat}<br>Long=%{lon}",
           "lat": [
            45.5
           ],
           "legendgroup": "06-Montreal",
           "lon": [
            -73.566667
           ],
           "marker": {
            "color": "#19d3f3",
            "size": [
             46
            ],
            "sizemode": "area",
            "sizeref": 0.67
           },
           "name": "06-Montreal",
           "showlegend": true,
           "type": "scattergeo"
          },
          {
           "geo": "geo",
           "hoverlabel": {
            "namelength": 0
           },
           "hovertemplate": "Region=07-Outauais<br>Date of Infection=22nd<br>Total Number of Cases=%{marker.size}<br>Lat=%{lat}<br>Long=%{lon}",
           "lat": [
            45.783333
           ],
           "legendgroup": "07-Outauais",
           "lon": [
            -75.083333
           ],
           "marker": {
            "color": "#FF6692",
            "size": [
             5
            ],
            "sizemode": "area",
            "sizeref": 0.67
           },
           "name": "07-Outauais",
           "showlegend": true,
           "type": "scattergeo"
          },
          {
           "geo": "geo",
           "hoverlabel": {
            "namelength": 0
           },
           "hovertemplate": "Region=08-Abititi-Temiscaminigue<br>Date of Infection=22nd<br>Total Number of Cases=%{marker.size}<br>Lat=%{lat}<br>Long=%{lon}",
           "lat": [
            48.233333
           ],
           "legendgroup": "08-Abititi-Temiscaminigue",
           "lon": [
            -79.016667
           ],
           "marker": {
            "color": "#B6E880",
            "size": [
             0
            ],
            "sizemode": "area",
            "sizeref": 0.67
           },
           "name": "08-Abititi-Temiscaminigue",
           "showlegend": true,
           "type": "scattergeo"
          },
          {
           "geo": "geo",
           "hoverlabel": {
            "namelength": 0
           },
           "hovertemplate": "Region=9-Cote-Nord<br>Date of Infection=22nd<br>Total Number of Cases=%{marker.size}<br>Lat=%{lat}<br>Long=%{lon}",
           "lat": [
            50.866667
           ],
           "legendgroup": "9-Cote-Nord",
           "lon": [
            -65.816667
           ],
           "marker": {
            "color": "#FF97FF",
            "size": [
             0
            ],
            "sizemode": "area",
            "sizeref": 0.67
           },
           "name": "9-Cote-Nord",
           "showlegend": true,
           "type": "scattergeo"
          },
          {
           "geo": "geo",
           "hoverlabel": {
            "namelength": 0
           },
           "hovertemplate": "Region=10-Nord-du-Quebec<br>Date of Infection=22nd<br>Total Number of Cases=%{marker.size}<br>Lat=%{lat}<br>Long=%{lon}",
           "lat": [
            56.166667
           ],
           "legendgroup": "10-Nord-du-Quebec",
           "lon": [
            -74.416667
           ],
           "marker": {
            "color": "#FECB52",
            "size": [
             1
            ],
            "sizemode": "area",
            "sizeref": 0.67
           },
           "name": "10-Nord-du-Quebec",
           "showlegend": true,
           "type": "scattergeo"
          },
          {
           "geo": "geo",
           "hoverlabel": {
            "namelength": 0
           },
           "hovertemplate": "Region=11- Gaspesie-Iles-de-la-Madelaine<br>Date of Infection=22nd<br>Total Number of Cases=%{marker.size}<br>Lat=%{lat}<br>Long=%{lon}",
           "lat": [
            48.683333
           ],
           "legendgroup": "11- Gaspesie-Iles-de-la-Madelaine",
           "lon": [
            -65.4
           ],
           "marker": {
            "color": "#636efa",
            "size": [
             0
            ],
            "sizemode": "area",
            "sizeref": 0.67
           },
           "name": "11- Gaspesie-Iles-de-la-Madelaine",
           "showlegend": true,
           "type": "scattergeo"
          },
          {
           "geo": "geo",
           "hoverlabel": {
            "namelength": 0
           },
           "hovertemplate": "Region=12-Chaudiere-Appalaches<br>Date of Infection=22nd<br>Total Number of Cases=%{marker.size}<br>Lat=%{lat}<br>Long=%{lon}",
           "lat": [
            46.483333
           ],
           "legendgroup": "12-Chaudiere-Appalaches",
           "lon": [
            -70.616667
           ],
           "marker": {
            "color": "#EF553B",
            "size": [
             13
            ],
            "sizemode": "area",
            "sizeref": 0.67
           },
           "name": "12-Chaudiere-Appalaches",
           "showlegend": true,
           "type": "scattergeo"
          },
          {
           "geo": "geo",
           "hoverlabel": {
            "namelength": 0
           },
           "hovertemplate": "Region=13- Laval<br>Date of Infection=22nd<br>Total Number of Cases=%{marker.size}<br>Lat=%{lat}<br>Long=%{lon}",
           "lat": [
            45.583333
           ],
           "legendgroup": "13- Laval",
           "lon": [
            -73.75
           ],
           "marker": {
            "color": "#00cc96",
            "size": [
             4
            ],
            "sizemode": "area",
            "sizeref": 0.67
           },
           "name": "13- Laval",
           "showlegend": true,
           "type": "scattergeo"
          },
          {
           "geo": "geo",
           "hoverlabel": {
            "namelength": 0
           },
           "hovertemplate": "Region=14- Lanaudiere<br>Date of Infection=22nd<br>Total Number of Cases=%{marker.size}<br>Lat=%{lat}<br>Long=%{lon}",
           "lat": [
            46.766667
           ],
           "legendgroup": "14- Lanaudiere",
           "lon": [
            -73.833333
           ],
           "marker": {
            "color": "#ab63fa",
            "size": [
             15
            ],
            "sizemode": "area",
            "sizeref": 0.67
           },
           "name": "14- Lanaudiere",
           "showlegend": true,
           "type": "scattergeo"
          },
          {
           "geo": "geo",
           "hoverlabel": {
            "namelength": 0
           },
           "hovertemplate": "Region=15- Laurentides<br>Date of Infection=22nd<br>Total Number of Cases=%{marker.size}<br>Lat=%{lat}<br>Long=%{lon}",
           "lat": [
            46.433333
           ],
           "legendgroup": "15- Laurentides",
           "lon": [
            -74.983333
           ],
           "marker": {
            "color": "#FFA15A",
            "size": [
             17
            ],
            "sizemode": "area",
            "sizeref": 0.67
           },
           "name": "15- Laurentides",
           "showlegend": true,
           "type": "scattergeo"
          },
          {
           "geo": "geo",
           "hoverlabel": {
            "namelength": 0
           },
           "hovertemplate": "Region=16- Monteregie<br>Date of Infection=22nd<br>Total Number of Cases=%{marker.size}<br>Lat=%{lat}<br>Long=%{lon}",
           "lat": [
            45.383333
           ],
           "legendgroup": "16- Monteregie",
           "lon": [
            -73.1
           ],
           "marker": {
            "color": "#19d3f3",
            "size": [
             40
            ],
            "sizemode": "area",
            "sizeref": 0.67
           },
           "name": "16- Monteregie",
           "showlegend": true,
           "type": "scattergeo"
          },
          {
           "geo": "geo",
           "hoverlabel": {
            "namelength": 0
           },
           "hovertemplate": "Region=17- Centre du Quebec<br>Date of Infection=22nd<br>Total Number of Cases=%{marker.size}<br>Lat=%{lat}<br>Long=%{lon}",
           "lat": [
            46.283333
           ],
           "legendgroup": "17- Centre du Quebec",
           "lon": [
            -72.066667
           ],
           "marker": {
            "color": "#FF6692",
            "size": [
             0
            ],
            "sizemode": "area",
            "sizeref": 0.67
           },
           "name": "17- Centre du Quebec",
           "showlegend": true,
           "type": "scattergeo"
          },
          {
           "geo": "geo",
           "hoverlabel": {
            "namelength": 0
           },
           "hovertemplate": "Region=Undetermined<br>Date of Infection=22nd<br>Total Number of Cases=%{marker.size}<br>Lat=%{lat}<br>Long=%{lon}",
           "lat": [
            "na"
           ],
           "legendgroup": "Undetermined",
           "lon": [
            "na"
           ],
           "marker": {
            "color": "#B6E880",
            "size": [
             24
            ],
            "sizemode": "area",
            "sizeref": 0.67
           },
           "name": "Undetermined",
           "showlegend": true,
           "type": "scattergeo"
          },
          {
           "geo": "geo",
           "hoverlabel": {
            "namelength": 0
           },
           "hovertemplate": "Region=Hors Quebec<br>Date of Infection=22nd<br>Total Number of Cases=%{marker.size}<br>Lat=%{lat}<br>Long=%{lon}",
           "lat": [
            "na"
           ],
           "legendgroup": "Hors Quebec",
           "lon": [
            "na"
           ],
           "marker": {
            "color": "#FF97FF",
            "size": [
             2
            ],
            "sizemode": "area",
            "sizeref": 0.67
           },
           "name": "Hors Quebec",
           "showlegend": true,
           "type": "scattergeo"
          }
         ],
         "name": "22nd"
        },
        {
         "data": [
          {
           "geo": "geo",
           "hoverlabel": {
            "namelength": 0
           },
           "hovertemplate": "Region=01-Bas-Saint-Laurent<br>Date of Infection=23rd<br>Total Number of Cases=%{marker.size}<br>Lat=%{lat}<br>Long=%{lon}",
           "lat": [
            48.333333
           ],
           "legendgroup": "01-Bas-Saint-Laurent",
           "lon": [
            -68.666667
           ],
           "marker": {
            "color": "#636efa",
            "size": [
             3
            ],
            "sizemode": "area",
            "sizeref": 0.67
           },
           "name": "01-Bas-Saint-Laurent",
           "showlegend": true,
           "type": "scattergeo"
          },
          {
           "geo": "geo",
           "hoverlabel": {
            "namelength": 0
           },
           "hovertemplate": "Region=02- Saguenay-Lac-Saint-Jean<br>Date of Infection=23rd<br>Total Number of Cases=%{marker.size}<br>Lat=%{lat}<br>Long=%{lon}",
           "lat": [
            49.8667
           ],
           "legendgroup": "02- Saguenay-Lac-Saint-Jean",
           "lon": [
            -71.75
           ],
           "marker": {
            "color": "#EF553B",
            "size": [
             1
            ],
            "sizemode": "area",
            "sizeref": 0.67
           },
           "name": "02- Saguenay-Lac-Saint-Jean",
           "showlegend": true,
           "type": "scattergeo"
          },
          {
           "geo": "geo",
           "hoverlabel": {
            "namelength": 0
           },
           "hovertemplate": "Region=03- Capitale-Nationale<br>Date of Infection=23rd<br>Total Number of Cases=%{marker.size}<br>Lat=%{lat}<br>Long=%{lon}",
           "lat": [
            47.333333
           ],
           "legendgroup": "03- Capitale-Nationale",
           "lon": [
            -71.5
           ],
           "marker": {
            "color": "#00cc96",
            "size": [
             33
            ],
            "sizemode": "area",
            "sizeref": 0.67
           },
           "name": "03- Capitale-Nationale",
           "showlegend": true,
           "type": "scattergeo"
          },
          {
           "geo": "geo",
           "hoverlabel": {
            "namelength": 0
           },
           "hovertemplate": "Region=04-Mauricie<br>Date of Infection=23rd<br>Total Number of Cases=%{marker.size}<br>Lat=%{lat}<br>Long=%{lon}",
           "lat": [
            47
           ],
           "legendgroup": "04-Mauricie",
           "lon": [
            -73
           ],
           "marker": {
            "color": "#ab63fa",
            "size": [
             16
            ],
            "sizemode": "area",
            "sizeref": 0.67
           },
           "name": "04-Mauricie",
           "showlegend": true,
           "type": "scattergeo"
          },
          {
           "geo": "geo",
           "hoverlabel": {
            "namelength": 0
           },
           "hovertemplate": "Region=05-Estrie<br>Date of Infection=23rd<br>Total Number of Cases=%{marker.size}<br>Lat=%{lat}<br>Long=%{lon}",
           "lat": [
            45.481556
           ],
           "legendgroup": "05-Estrie",
           "lon": [
            -71.667917
           ],
           "marker": {
            "color": "#FFA15A",
            "size": [
             48
            ],
            "sizemode": "area",
            "sizeref": 0.67
           },
           "name": "05-Estrie",
           "showlegend": true,
           "type": "scattergeo"
          },
          {
           "geo": "geo",
           "hoverlabel": {
            "namelength": 0
           },
           "hovertemplate": "Region=06-Montreal<br>Date of Infection=23rd<br>Total Number of Cases=%{marker.size}<br>Lat=%{lat}<br>Long=%{lon}",
           "lat": [
            45.5
           ],
           "legendgroup": "06-Montreal",
           "lon": [
            -73.566667
           ],
           "marker": {
            "color": "#19d3f3",
            "size": [
             265
            ],
            "sizemode": "area",
            "sizeref": 0.67
           },
           "name": "06-Montreal",
           "showlegend": true,
           "type": "scattergeo"
          },
          {
           "geo": "geo",
           "hoverlabel": {
            "namelength": 0
           },
           "hovertemplate": "Region=07-Outauais<br>Date of Infection=23rd<br>Total Number of Cases=%{marker.size}<br>Lat=%{lat}<br>Long=%{lon}",
           "lat": [
            45.783333
           ],
           "legendgroup": "07-Outauais",
           "lon": [
            -75.083333
           ],
           "marker": {
            "color": "#FF6692",
            "size": [
             8
            ],
            "sizemode": "area",
            "sizeref": 0.67
           },
           "name": "07-Outauais",
           "showlegend": true,
           "type": "scattergeo"
          },
          {
           "geo": "geo",
           "hoverlabel": {
            "namelength": 0
           },
           "hovertemplate": "Region=08-Abititi-Temiscaminigue<br>Date of Infection=23rd<br>Total Number of Cases=%{marker.size}<br>Lat=%{lat}<br>Long=%{lon}",
           "lat": [
            48.233333
           ],
           "legendgroup": "08-Abititi-Temiscaminigue",
           "lon": [
            -79.016667
           ],
           "marker": {
            "color": "#B6E880",
            "size": [
             3
            ],
            "sizemode": "area",
            "sizeref": 0.67
           },
           "name": "08-Abititi-Temiscaminigue",
           "showlegend": true,
           "type": "scattergeo"
          },
          {
           "geo": "geo",
           "hoverlabel": {
            "namelength": 0
           },
           "hovertemplate": "Region=9-Cote-Nord<br>Date of Infection=23rd<br>Total Number of Cases=%{marker.size}<br>Lat=%{lat}<br>Long=%{lon}",
           "lat": [
            50.866667
           ],
           "legendgroup": "9-Cote-Nord",
           "lon": [
            -65.816667
           ],
           "marker": {
            "color": "#FF97FF",
            "size": [
             0
            ],
            "sizemode": "area",
            "sizeref": 0.67
           },
           "name": "9-Cote-Nord",
           "showlegend": true,
           "type": "scattergeo"
          },
          {
           "geo": "geo",
           "hoverlabel": {
            "namelength": 0
           },
           "hovertemplate": "Region=10-Nord-du-Quebec<br>Date of Infection=23rd<br>Total Number of Cases=%{marker.size}<br>Lat=%{lat}<br>Long=%{lon}",
           "lat": [
            56.166667
           ],
           "legendgroup": "10-Nord-du-Quebec",
           "lon": [
            -74.416667
           ],
           "marker": {
            "color": "#FECB52",
            "size": [
             1
            ],
            "sizemode": "area",
            "sizeref": 0.67
           },
           "name": "10-Nord-du-Quebec",
           "showlegend": true,
           "type": "scattergeo"
          },
          {
           "geo": "geo",
           "hoverlabel": {
            "namelength": 0
           },
           "hovertemplate": "Region=11- Gaspesie-Iles-de-la-Madelaine<br>Date of Infection=23rd<br>Total Number of Cases=%{marker.size}<br>Lat=%{lat}<br>Long=%{lon}",
           "lat": [
            48.683333
           ],
           "legendgroup": "11- Gaspesie-Iles-de-la-Madelaine",
           "lon": [
            -65.4
           ],
           "marker": {
            "color": "#636efa",
            "size": [
             3
            ],
            "sizemode": "area",
            "sizeref": 0.67
           },
           "name": "11- Gaspesie-Iles-de-la-Madelaine",
           "showlegend": true,
           "type": "scattergeo"
          },
          {
           "geo": "geo",
           "hoverlabel": {
            "namelength": 0
           },
           "hovertemplate": "Region=12-Chaudiere-Appalaches<br>Date of Infection=23rd<br>Total Number of Cases=%{marker.size}<br>Lat=%{lat}<br>Long=%{lon}",
           "lat": [
            46.483333
           ],
           "legendgroup": "12-Chaudiere-Appalaches",
           "lon": [
            -70.616667
           ],
           "marker": {
            "color": "#EF553B",
            "size": [
             15
            ],
            "sizemode": "area",
            "sizeref": 0.67
           },
           "name": "12-Chaudiere-Appalaches",
           "showlegend": true,
           "type": "scattergeo"
          },
          {
           "geo": "geo",
           "hoverlabel": {
            "namelength": 0
           },
           "hovertemplate": "Region=13- Laval<br>Date of Infection=23rd<br>Total Number of Cases=%{marker.size}<br>Lat=%{lat}<br>Long=%{lon}",
           "lat": [
            45.583333
           ],
           "legendgroup": "13- Laval",
           "lon": [
            -73.75
           ],
           "marker": {
            "color": "#00cc96",
            "size": [
             21
            ],
            "sizemode": "area",
            "sizeref": 0.67
           },
           "name": "13- Laval",
           "showlegend": true,
           "type": "scattergeo"
          },
          {
           "geo": "geo",
           "hoverlabel": {
            "namelength": 0
           },
           "hovertemplate": "Region=14- Lanaudiere<br>Date of Infection=23rd<br>Total Number of Cases=%{marker.size}<br>Lat=%{lat}<br>Long=%{lon}",
           "lat": [
            46.766667
           ],
           "legendgroup": "14- Lanaudiere",
           "lon": [
            -73.833333
           ],
           "marker": {
            "color": "#ab63fa",
            "size": [
             50
            ],
            "sizemode": "area",
            "sizeref": 0.67
           },
           "name": "14- Lanaudiere",
           "showlegend": true,
           "type": "scattergeo"
          },
          {
           "geo": "geo",
           "hoverlabel": {
            "namelength": 0
           },
           "hovertemplate": "Region=15- Laurentides<br>Date of Infection=23rd<br>Total Number of Cases=%{marker.size}<br>Lat=%{lat}<br>Long=%{lon}",
           "lat": [
            46.433333
           ],
           "legendgroup": "15- Laurentides",
           "lon": [
            -74.983333
           ],
           "marker": {
            "color": "#FFA15A",
            "size": [
             30
            ],
            "sizemode": "area",
            "sizeref": 0.67
           },
           "name": "15- Laurentides",
           "showlegend": true,
           "type": "scattergeo"
          },
          {
           "geo": "geo",
           "hoverlabel": {
            "namelength": 0
           },
           "hovertemplate": "Region=16- Monteregie<br>Date of Infection=23rd<br>Total Number of Cases=%{marker.size}<br>Lat=%{lat}<br>Long=%{lon}",
           "lat": [
            45.383333
           ],
           "legendgroup": "16- Monteregie",
           "lon": [
            -73.1
           ],
           "marker": {
            "color": "#19d3f3",
            "size": [
             66
            ],
            "sizemode": "area",
            "sizeref": 0.67
           },
           "name": "16- Monteregie",
           "showlegend": true,
           "type": "scattergeo"
          },
          {
           "geo": "geo",
           "hoverlabel": {
            "namelength": 0
           },
           "hovertemplate": "Region=17- Centre du Quebec<br>Date of Infection=23rd<br>Total Number of Cases=%{marker.size}<br>Lat=%{lat}<br>Long=%{lon}",
           "lat": [
            46.283333
           ],
           "legendgroup": "17- Centre du Quebec",
           "lon": [
            -72.066667
           ],
           "marker": {
            "color": "#FF6692",
            "size": [
             0
            ],
            "sizemode": "area",
            "sizeref": 0.67
           },
           "name": "17- Centre du Quebec",
           "showlegend": true,
           "type": "scattergeo"
          },
          {
           "geo": "geo",
           "hoverlabel": {
            "namelength": 0
           },
           "hovertemplate": "Region=Undetermined<br>Date of Infection=23rd<br>Total Number of Cases=%{marker.size}<br>Lat=%{lat}<br>Long=%{lon}",
           "lat": [
            "na"
           ],
           "legendgroup": "Undetermined",
           "lon": [
            "na"
           ],
           "marker": {
            "color": "#B6E880",
            "size": [
             62
            ],
            "sizemode": "area",
            "sizeref": 0.67
           },
           "name": "Undetermined",
           "showlegend": true,
           "type": "scattergeo"
          },
          {
           "geo": "geo",
           "hoverlabel": {
            "namelength": 0
           },
           "hovertemplate": "Region=Hors Quebec<br>Date of Infection=23rd<br>Total Number of Cases=%{marker.size}<br>Lat=%{lat}<br>Long=%{lon}",
           "lat": [
            "na"
           ],
           "legendgroup": "Hors Quebec",
           "lon": [
            "na"
           ],
           "marker": {
            "color": "#FF97FF",
            "size": [
             3
            ],
            "sizemode": "area",
            "sizeref": 0.67
           },
           "name": "Hors Quebec",
           "showlegend": true,
           "type": "scattergeo"
          }
         ],
         "name": "23rd"
        },
        {
         "data": [
          {
           "geo": "geo",
           "hoverlabel": {
            "namelength": 0
           },
           "hovertemplate": "Region=01-Bas-Saint-Laurent<br>Date of Infection=24th<br>Total Number of Cases=%{marker.size}<br>Lat=%{lat}<br>Long=%{lon}",
           "lat": [
            48.333333
           ],
           "legendgroup": "01-Bas-Saint-Laurent",
           "lon": [
            -68.666667
           ],
           "marker": {
            "color": "#636efa",
            "size": [
             4
            ],
            "sizemode": "area",
            "sizeref": 0.67
           },
           "name": "01-Bas-Saint-Laurent",
           "showlegend": true,
           "type": "scattergeo"
          },
          {
           "geo": "geo",
           "hoverlabel": {
            "namelength": 0
           },
           "hovertemplate": "Region=02- Saguenay-Lac-Saint-Jean<br>Date of Infection=24th<br>Total Number of Cases=%{marker.size}<br>Lat=%{lat}<br>Long=%{lon}",
           "lat": [
            49.8667
           ],
           "legendgroup": "02- Saguenay-Lac-Saint-Jean",
           "lon": [
            -71.75
           ],
           "marker": {
            "color": "#EF553B",
            "size": [
             5
            ],
            "sizemode": "area",
            "sizeref": 0.67
           },
           "name": "02- Saguenay-Lac-Saint-Jean",
           "showlegend": true,
           "type": "scattergeo"
          },
          {
           "geo": "geo",
           "hoverlabel": {
            "namelength": 0
           },
           "hovertemplate": "Region=03- Capitale-Nationale<br>Date of Infection=24th<br>Total Number of Cases=%{marker.size}<br>Lat=%{lat}<br>Long=%{lon}",
           "lat": [
            47.333333
           ],
           "legendgroup": "03- Capitale-Nationale",
           "lon": [
            -71.5
           ],
           "marker": {
            "color": "#00cc96",
            "size": [
             79
            ],
            "sizemode": "area",
            "sizeref": 0.67
           },
           "name": "03- Capitale-Nationale",
           "showlegend": true,
           "type": "scattergeo"
          },
          {
           "geo": "geo",
           "hoverlabel": {
            "namelength": 0
           },
           "hovertemplate": "Region=04-Mauricie<br>Date of Infection=24th<br>Total Number of Cases=%{marker.size}<br>Lat=%{lat}<br>Long=%{lon}",
           "lat": [
            47
           ],
           "legendgroup": "04-Mauricie",
           "lon": [
            -73
           ],
           "marker": {
            "color": "#ab63fa",
            "size": [
             32
            ],
            "sizemode": "area",
            "sizeref": 0.67
           },
           "name": "04-Mauricie",
           "showlegend": true,
           "type": "scattergeo"
          },
          {
           "geo": "geo",
           "hoverlabel": {
            "namelength": 0
           },
           "hovertemplate": "Region=05-Estrie<br>Date of Infection=24th<br>Total Number of Cases=%{marker.size}<br>Lat=%{lat}<br>Long=%{lon}",
           "lat": [
            45.481556
           ],
           "legendgroup": "05-Estrie",
           "lon": [
            -71.667917
           ],
           "marker": {
            "color": "#FFA15A",
            "size": [
             130
            ],
            "sizemode": "area",
            "sizeref": 0.67
           },
           "name": "05-Estrie",
           "showlegend": true,
           "type": "scattergeo"
          },
          {
           "geo": "geo",
           "hoverlabel": {
            "namelength": 0
           },
           "hovertemplate": "Region=06-Montreal<br>Date of Infection=24th<br>Total Number of Cases=%{marker.size}<br>Lat=%{lat}<br>Long=%{lon}",
           "lat": [
            45.5
           ],
           "legendgroup": "06-Montreal",
           "lon": [
            -73.566667
           ],
           "marker": {
            "color": "#19d3f3",
            "size": [
             439
            ],
            "sizemode": "area",
            "sizeref": 0.67
           },
           "name": "06-Montreal",
           "showlegend": true,
           "type": "scattergeo"
          },
          {
           "geo": "geo",
           "hoverlabel": {
            "namelength": 0
           },
           "hovertemplate": "Region=07-Outauais<br>Date of Infection=24th<br>Total Number of Cases=%{marker.size}<br>Lat=%{lat}<br>Long=%{lon}",
           "lat": [
            45.783333
           ],
           "legendgroup": "07-Outauais",
           "lon": [
            -75.083333
           ],
           "marker": {
            "color": "#FF6692",
            "size": [
             12
            ],
            "sizemode": "area",
            "sizeref": 0.67
           },
           "name": "07-Outauais",
           "showlegend": true,
           "type": "scattergeo"
          },
          {
           "geo": "geo",
           "hoverlabel": {
            "namelength": 0
           },
           "hovertemplate": "Region=08-Abititi-Temiscaminigue<br>Date of Infection=24th<br>Total Number of Cases=%{marker.size}<br>Lat=%{lat}<br>Long=%{lon}",
           "lat": [
            48.233333
           ],
           "legendgroup": "08-Abititi-Temiscaminigue",
           "lon": [
            -79.016667
           ],
           "marker": {
            "color": "#B6E880",
            "size": [
             5
            ],
            "sizemode": "area",
            "sizeref": 0.67
           },
           "name": "08-Abititi-Temiscaminigue",
           "showlegend": true,
           "type": "scattergeo"
          },
          {
           "geo": "geo",
           "hoverlabel": {
            "namelength": 0
           },
           "hovertemplate": "Region=9-Cote-Nord<br>Date of Infection=24th<br>Total Number of Cases=%{marker.size}<br>Lat=%{lat}<br>Long=%{lon}",
           "lat": [
            50.866667
           ],
           "legendgroup": "9-Cote-Nord",
           "lon": [
            -65.816667
           ],
           "marker": {
            "color": "#FF97FF",
            "size": [
             1
            ],
            "sizemode": "area",
            "sizeref": 0.67
           },
           "name": "9-Cote-Nord",
           "showlegend": true,
           "type": "scattergeo"
          },
          {
           "geo": "geo",
           "hoverlabel": {
            "namelength": 0
           },
           "hovertemplate": "Region=10-Nord-du-Quebec<br>Date of Infection=24th<br>Total Number of Cases=%{marker.size}<br>Lat=%{lat}<br>Long=%{lon}",
           "lat": [
            56.166667
           ],
           "legendgroup": "10-Nord-du-Quebec",
           "lon": [
            -74.416667
           ],
           "marker": {
            "color": "#FECB52",
            "size": [
             1
            ],
            "sizemode": "area",
            "sizeref": 0.67
           },
           "name": "10-Nord-du-Quebec",
           "showlegend": true,
           "type": "scattergeo"
          },
          {
           "geo": "geo",
           "hoverlabel": {
            "namelength": 0
           },
           "hovertemplate": "Region=11- Gaspesie-Iles-de-la-Madelaine<br>Date of Infection=24th<br>Total Number of Cases=%{marker.size}<br>Lat=%{lat}<br>Long=%{lon}",
           "lat": [
            48.683333
           ],
           "legendgroup": "11- Gaspesie-Iles-de-la-Madelaine",
           "lon": [
            -65.4
           ],
           "marker": {
            "color": "#636efa",
            "size": [
             7
            ],
            "sizemode": "area",
            "sizeref": 0.67
           },
           "name": "11- Gaspesie-Iles-de-la-Madelaine",
           "showlegend": true,
           "type": "scattergeo"
          },
          {
           "geo": "geo",
           "hoverlabel": {
            "namelength": 0
           },
           "hovertemplate": "Region=12-Chaudiere-Appalaches<br>Date of Infection=24th<br>Total Number of Cases=%{marker.size}<br>Lat=%{lat}<br>Long=%{lon}",
           "lat": [
            46.483333
           ],
           "legendgroup": "12-Chaudiere-Appalaches",
           "lon": [
            -70.616667
           ],
           "marker": {
            "color": "#EF553B",
            "size": [
             14
            ],
            "sizemode": "area",
            "sizeref": 0.67
           },
           "name": "12-Chaudiere-Appalaches",
           "showlegend": true,
           "type": "scattergeo"
          },
          {
           "geo": "geo",
           "hoverlabel": {
            "namelength": 0
           },
           "hovertemplate": "Region=13- Laval<br>Date of Infection=24th<br>Total Number of Cases=%{marker.size}<br>Lat=%{lat}<br>Long=%{lon}",
           "lat": [
            45.583333
           ],
           "legendgroup": "13- Laval",
           "lon": [
            -73.75
           ],
           "marker": {
            "color": "#00cc96",
            "size": [
             60
            ],
            "sizemode": "area",
            "sizeref": 0.67
           },
           "name": "13- Laval",
           "showlegend": true,
           "type": "scattergeo"
          },
          {
           "geo": "geo",
           "hoverlabel": {
            "namelength": 0
           },
           "hovertemplate": "Region=14- Lanaudiere<br>Date of Infection=24th<br>Total Number of Cases=%{marker.size}<br>Lat=%{lat}<br>Long=%{lon}",
           "lat": [
            46.766667
           ],
           "legendgroup": "14- Lanaudiere",
           "lon": [
            -73.833333
           ],
           "marker": {
            "color": "#ab63fa",
            "size": [
             55
            ],
            "sizemode": "area",
            "sizeref": 0.67
           },
           "name": "14- Lanaudiere",
           "showlegend": true,
           "type": "scattergeo"
          },
          {
           "geo": "geo",
           "hoverlabel": {
            "namelength": 0
           },
           "hovertemplate": "Region=15- Laurentides<br>Date of Infection=24th<br>Total Number of Cases=%{marker.size}<br>Lat=%{lat}<br>Long=%{lon}",
           "lat": [
            46.433333
           ],
           "legendgroup": "15- Laurentides",
           "lon": [
            -74.983333
           ],
           "marker": {
            "color": "#FFA15A",
            "size": [
             44
            ],
            "sizemode": "area",
            "sizeref": 0.67
           },
           "name": "15- Laurentides",
           "showlegend": true,
           "type": "scattergeo"
          },
          {
           "geo": "geo",
           "hoverlabel": {
            "namelength": 0
           },
           "hovertemplate": "Region=16- Monteregie<br>Date of Infection=24th<br>Total Number of Cases=%{marker.size}<br>Lat=%{lat}<br>Long=%{lon}",
           "lat": [
            45.383333
           ],
           "legendgroup": "16- Monteregie",
           "lon": [
            -73.1
           ],
           "marker": {
            "color": "#19d3f3",
            "size": [
             125
            ],
            "sizemode": "area",
            "sizeref": 0.67
           },
           "name": "16- Monteregie",
           "showlegend": true,
           "type": "scattergeo"
          },
          {
           "geo": "geo",
           "hoverlabel": {
            "namelength": 0
           },
           "hovertemplate": "Region=17- Centre du Quebec<br>Date of Infection=24th<br>Total Number of Cases=%{marker.size}<br>Lat=%{lat}<br>Long=%{lon}",
           "lat": [
            46.283333
           ],
           "legendgroup": "17- Centre du Quebec",
           "lon": [
            -72.066667
           ],
           "marker": {
            "color": "#FF6692",
            "size": [
             0
            ],
            "sizemode": "area",
            "sizeref": 0.67
           },
           "name": "17- Centre du Quebec",
           "showlegend": true,
           "type": "scattergeo"
          },
          {
           "geo": "geo",
           "hoverlabel": {
            "namelength": 0
           },
           "hovertemplate": "Region=Undetermined<br>Date of Infection=24th<br>Total Number of Cases=%{marker.size}<br>Lat=%{lat}<br>Long=%{lon}",
           "lat": [
            "na"
           ],
           "legendgroup": "Undetermined",
           "lon": [
            "na"
           ],
           "marker": {
            "color": "#B6E880",
            "size": [
             0
            ],
            "sizemode": "area",
            "sizeref": 0.67
           },
           "name": "Undetermined",
           "showlegend": true,
           "type": "scattergeo"
          },
          {
           "geo": "geo",
           "hoverlabel": {
            "namelength": 0
           },
           "hovertemplate": "Region=Hors Quebec<br>Date of Infection=24th<br>Total Number of Cases=%{marker.size}<br>Lat=%{lat}<br>Long=%{lon}",
           "lat": [
            "na"
           ],
           "legendgroup": "Hors Quebec",
           "lon": [
            "na"
           ],
           "marker": {
            "color": "#FF97FF",
            "size": [
             0
            ],
            "sizemode": "area",
            "sizeref": 0.67
           },
           "name": "Hors Quebec",
           "showlegend": true,
           "type": "scattergeo"
          }
         ],
         "name": "24th"
        },
        {
         "data": [
          {
           "geo": "geo",
           "hoverlabel": {
            "namelength": 0
           },
           "hovertemplate": "Region=01-Bas-Saint-Laurent<br>Date of Infection=25th<br>Total Number of Cases=%{marker.size}<br>Lat=%{lat}<br>Long=%{lon}",
           "lat": [
            48.333333
           ],
           "legendgroup": "01-Bas-Saint-Laurent",
           "lon": [
            -68.666667
           ],
           "marker": {
            "color": "#636efa",
            "size": [
             6
            ],
            "sizemode": "area",
            "sizeref": 0.67
           },
           "name": "01-Bas-Saint-Laurent",
           "showlegend": true,
           "type": "scattergeo"
          },
          {
           "geo": "geo",
           "hoverlabel": {
            "namelength": 0
           },
           "hovertemplate": "Region=02- Saguenay-Lac-Saint-Jean<br>Date of Infection=25th<br>Total Number of Cases=%{marker.size}<br>Lat=%{lat}<br>Long=%{lon}",
           "lat": [
            49.8667
           ],
           "legendgroup": "02- Saguenay-Lac-Saint-Jean",
           "lon": [
            -71.75
           ],
           "marker": {
            "color": "#EF553B",
            "size": [
             8
            ],
            "sizemode": "area",
            "sizeref": 0.67
           },
           "name": "02- Saguenay-Lac-Saint-Jean",
           "showlegend": true,
           "type": "scattergeo"
          },
          {
           "geo": "geo",
           "hoverlabel": {
            "namelength": 0
           },
           "hovertemplate": "Region=03- Capitale-Nationale<br>Date of Infection=25th<br>Total Number of Cases=%{marker.size}<br>Lat=%{lat}<br>Long=%{lon}",
           "lat": [
            47.333333
           ],
           "legendgroup": "03- Capitale-Nationale",
           "lon": [
            -71.5
           ],
           "marker": {
            "color": "#00cc96",
            "size": [
             95
            ],
            "sizemode": "area",
            "sizeref": 0.67
           },
           "name": "03- Capitale-Nationale",
           "showlegend": true,
           "type": "scattergeo"
          },
          {
           "geo": "geo",
           "hoverlabel": {
            "namelength": 0
           },
           "hovertemplate": "Region=04-Mauricie<br>Date of Infection=25th<br>Total Number of Cases=%{marker.size}<br>Lat=%{lat}<br>Long=%{lon}",
           "lat": [
            47
           ],
           "legendgroup": "04-Mauricie",
           "lon": [
            -73
           ],
           "marker": {
            "color": "#ab63fa",
            "size": [
             35
            ],
            "sizemode": "area",
            "sizeref": 0.67
           },
           "name": "04-Mauricie",
           "showlegend": true,
           "type": "scattergeo"
          },
          {
           "geo": "geo",
           "hoverlabel": {
            "namelength": 0
           },
           "hovertemplate": "Region=05-Estrie<br>Date of Infection=25th<br>Total Number of Cases=%{marker.size}<br>Lat=%{lat}<br>Long=%{lon}",
           "lat": [
            45.481556
           ],
           "legendgroup": "05-Estrie",
           "lon": [
            -71.667917
           ],
           "marker": {
            "color": "#FFA15A",
            "size": [
             169
            ],
            "sizemode": "area",
            "sizeref": 0.67
           },
           "name": "05-Estrie",
           "showlegend": true,
           "type": "scattergeo"
          },
          {
           "geo": "geo",
           "hoverlabel": {
            "namelength": 0
           },
           "hovertemplate": "Region=06-Montreal<br>Date of Infection=25th<br>Total Number of Cases=%{marker.size}<br>Lat=%{lat}<br>Long=%{lon}",
           "lat": [
            45.5
           ],
           "legendgroup": "06-Montreal",
           "lon": [
            -73.566667
           ],
           "marker": {
            "color": "#19d3f3",
            "size": [
             603
            ],
            "sizemode": "area",
            "sizeref": 0.67
           },
           "name": "06-Montreal",
           "showlegend": true,
           "type": "scattergeo"
          },
          {
           "geo": "geo",
           "hoverlabel": {
            "namelength": 0
           },
           "hovertemplate": "Region=07-Outauais<br>Date of Infection=25th<br>Total Number of Cases=%{marker.size}<br>Lat=%{lat}<br>Long=%{lon}",
           "lat": [
            45.783333
           ],
           "legendgroup": "07-Outauais",
           "lon": [
            -75.083333
           ],
           "marker": {
            "color": "#FF6692",
            "size": [
             13
            ],
            "sizemode": "area",
            "sizeref": 0.67
           },
           "name": "07-Outauais",
           "showlegend": true,
           "type": "scattergeo"
          },
          {
           "geo": "geo",
           "hoverlabel": {
            "namelength": 0
           },
           "hovertemplate": "Region=08-Abititi-Temiscaminigue<br>Date of Infection=25th<br>Total Number of Cases=%{marker.size}<br>Lat=%{lat}<br>Long=%{lon}",
           "lat": [
            48.233333
           ],
           "legendgroup": "08-Abititi-Temiscaminigue",
           "lon": [
            -79.016667
           ],
           "marker": {
            "color": "#B6E880",
            "size": [
             5
            ],
            "sizemode": "area",
            "sizeref": 0.67
           },
           "name": "08-Abititi-Temiscaminigue",
           "showlegend": true,
           "type": "scattergeo"
          },
          {
           "geo": "geo",
           "hoverlabel": {
            "namelength": 0
           },
           "hovertemplate": "Region=9-Cote-Nord<br>Date of Infection=25th<br>Total Number of Cases=%{marker.size}<br>Lat=%{lat}<br>Long=%{lon}",
           "lat": [
            50.866667
           ],
           "legendgroup": "9-Cote-Nord",
           "lon": [
            -65.816667
           ],
           "marker": {
            "color": "#FF97FF",
            "size": [
             2
            ],
            "sizemode": "area",
            "sizeref": 0.67
           },
           "name": "9-Cote-Nord",
           "showlegend": true,
           "type": "scattergeo"
          },
          {
           "geo": "geo",
           "hoverlabel": {
            "namelength": 0
           },
           "hovertemplate": "Region=10-Nord-du-Quebec<br>Date of Infection=25th<br>Total Number of Cases=%{marker.size}<br>Lat=%{lat}<br>Long=%{lon}",
           "lat": [
            56.166667
           ],
           "legendgroup": "10-Nord-du-Quebec",
           "lon": [
            -74.416667
           ],
           "marker": {
            "color": "#FECB52",
            "size": [
             1
            ],
            "sizemode": "area",
            "sizeref": 0.67
           },
           "name": "10-Nord-du-Quebec",
           "showlegend": true,
           "type": "scattergeo"
          },
          {
           "geo": "geo",
           "hoverlabel": {
            "namelength": 0
           },
           "hovertemplate": "Region=11- Gaspesie-Iles-de-la-Madelaine<br>Date of Infection=25th<br>Total Number of Cases=%{marker.size}<br>Lat=%{lat}<br>Long=%{lon}",
           "lat": [
            48.683333
           ],
           "legendgroup": "11- Gaspesie-Iles-de-la-Madelaine",
           "lon": [
            -65.4
           ],
           "marker": {
            "color": "#636efa",
            "size": [
             7
            ],
            "sizemode": "area",
            "sizeref": 0.67
           },
           "name": "11- Gaspesie-Iles-de-la-Madelaine",
           "showlegend": true,
           "type": "scattergeo"
          },
          {
           "geo": "geo",
           "hoverlabel": {
            "namelength": 0
           },
           "hovertemplate": "Region=12-Chaudiere-Appalaches<br>Date of Infection=25th<br>Total Number of Cases=%{marker.size}<br>Lat=%{lat}<br>Long=%{lon}",
           "lat": [
            46.483333
           ],
           "legendgroup": "12-Chaudiere-Appalaches",
           "lon": [
            -70.616667
           ],
           "marker": {
            "color": "#EF553B",
            "size": [
             46
            ],
            "sizemode": "area",
            "sizeref": 0.67
           },
           "name": "12-Chaudiere-Appalaches",
           "showlegend": true,
           "type": "scattergeo"
          },
          {
           "geo": "geo",
           "hoverlabel": {
            "namelength": 0
           },
           "hovertemplate": "Region=13- Laval<br>Date of Infection=25th<br>Total Number of Cases=%{marker.size}<br>Lat=%{lat}<br>Long=%{lon}",
           "lat": [
            45.583333
           ],
           "legendgroup": "13- Laval",
           "lon": [
            -73.75
           ],
           "marker": {
            "color": "#00cc96",
            "size": [
             83
            ],
            "sizemode": "area",
            "sizeref": 0.67
           },
           "name": "13- Laval",
           "showlegend": true,
           "type": "scattergeo"
          },
          {
           "geo": "geo",
           "hoverlabel": {
            "namelength": 0
           },
           "hovertemplate": "Region=14- Lanaudiere<br>Date of Infection=25th<br>Total Number of Cases=%{marker.size}<br>Lat=%{lat}<br>Long=%{lon}",
           "lat": [
            46.766667
           ],
           "legendgroup": "14- Lanaudiere",
           "lon": [
            -73.833333
           ],
           "marker": {
            "color": "#ab63fa",
            "size": [
             68
            ],
            "sizemode": "area",
            "sizeref": 0.67
           },
           "name": "14- Lanaudiere",
           "showlegend": true,
           "type": "scattergeo"
          },
          {
           "geo": "geo",
           "hoverlabel": {
            "namelength": 0
           },
           "hovertemplate": "Region=15- Laurentides<br>Date of Infection=25th<br>Total Number of Cases=%{marker.size}<br>Lat=%{lat}<br>Long=%{lon}",
           "lat": [
            46.433333
           ],
           "legendgroup": "15- Laurentides",
           "lon": [
            -74.983333
           ],
           "marker": {
            "color": "#FFA15A",
            "size": [
             50
            ],
            "sizemode": "area",
            "sizeref": 0.67
           },
           "name": "15- Laurentides",
           "showlegend": true,
           "type": "scattergeo"
          },
          {
           "geo": "geo",
           "hoverlabel": {
            "namelength": 0
           },
           "hovertemplate": "Region=16- Monteregie<br>Date of Infection=25th<br>Total Number of Cases=%{marker.size}<br>Lat=%{lat}<br>Long=%{lon}",
           "lat": [
            45.383333
           ],
           "legendgroup": "16- Monteregie",
           "lon": [
            -73.1
           ],
           "marker": {
            "color": "#19d3f3",
            "size": [
             148
            ],
            "sizemode": "area",
            "sizeref": 0.67
           },
           "name": "16- Monteregie",
           "showlegend": true,
           "type": "scattergeo"
          },
          {
           "geo": "geo",
           "hoverlabel": {
            "namelength": 0
           },
           "hovertemplate": "Region=17- Centre du Quebec<br>Date of Infection=25th<br>Total Number of Cases=%{marker.size}<br>Lat=%{lat}<br>Long=%{lon}",
           "lat": [
            46.283333
           ],
           "legendgroup": "17- Centre du Quebec",
           "lon": [
            -72.066667
           ],
           "marker": {
            "color": "#FF6692",
            "size": [
             0
            ],
            "sizemode": "area",
            "sizeref": 0.67
           },
           "name": "17- Centre du Quebec",
           "showlegend": true,
           "type": "scattergeo"
          },
          {
           "geo": "geo",
           "hoverlabel": {
            "namelength": 0
           },
           "hovertemplate": "Region=Undetermined<br>Date of Infection=25th<br>Total Number of Cases=%{marker.size}<br>Lat=%{lat}<br>Long=%{lon}",
           "lat": [
            "na"
           ],
           "legendgroup": "Undetermined",
           "lon": [
            "na"
           ],
           "marker": {
            "color": "#B6E880",
            "size": [
             0
            ],
            "sizemode": "area",
            "sizeref": 0.67
           },
           "name": "Undetermined",
           "showlegend": true,
           "type": "scattergeo"
          },
          {
           "geo": "geo",
           "hoverlabel": {
            "namelength": 0
           },
           "hovertemplate": "Region=Hors Quebec<br>Date of Infection=25th<br>Total Number of Cases=%{marker.size}<br>Lat=%{lat}<br>Long=%{lon}",
           "lat": [
            "na"
           ],
           "legendgroup": "Hors Quebec",
           "lon": [
            "na"
           ],
           "marker": {
            "color": "#FF97FF",
            "size": [
             0
            ],
            "sizemode": "area",
            "sizeref": 0.67
           },
           "name": "Hors Quebec",
           "showlegend": true,
           "type": "scattergeo"
          }
         ],
         "name": "25th"
        }
       ],
       "layout": {
        "geo": {
         "center": {},
         "domain": {
          "x": [
           0,
           1
          ],
          "y": [
           0,
           1
          ]
         },
         "projection": {
          "type": "natural earth"
         }
        },
        "legend": {
         "itemsizing": "constant",
         "title": {
          "text": "Region"
         },
         "tracegroupgap": 0
        },
        "margin": {
         "t": 60
        },
        "sliders": [
         {
          "active": 0,
          "currentvalue": {
           "prefix": "Date of Infection="
          },
          "len": 0.9,
          "pad": {
           "b": 10,
           "t": 60
          },
          "steps": [
           {
            "args": [
             [
              "13th"
             ],
             {
              "frame": {
               "duration": 0,
               "redraw": true
              },
              "fromcurrent": true,
              "mode": "immediate",
              "transition": {
               "duration": 0,
               "easing": "linear"
              }
             }
            ],
            "label": "13th",
            "method": "animate"
           },
           {
            "args": [
             [
              "14th"
             ],
             {
              "frame": {
               "duration": 0,
               "redraw": true
              },
              "fromcurrent": true,
              "mode": "immediate",
              "transition": {
               "duration": 0,
               "easing": "linear"
              }
             }
            ],
            "label": "14th",
            "method": "animate"
           },
           {
            "args": [
             [
              "15th"
             ],
             {
              "frame": {
               "duration": 0,
               "redraw": true
              },
              "fromcurrent": true,
              "mode": "immediate",
              "transition": {
               "duration": 0,
               "easing": "linear"
              }
             }
            ],
            "label": "15th",
            "method": "animate"
           },
           {
            "args": [
             [
              "16th"
             ],
             {
              "frame": {
               "duration": 0,
               "redraw": true
              },
              "fromcurrent": true,
              "mode": "immediate",
              "transition": {
               "duration": 0,
               "easing": "linear"
              }
             }
            ],
            "label": "16th",
            "method": "animate"
           },
           {
            "args": [
             [
              "17th"
             ],
             {
              "frame": {
               "duration": 0,
               "redraw": true
              },
              "fromcurrent": true,
              "mode": "immediate",
              "transition": {
               "duration": 0,
               "easing": "linear"
              }
             }
            ],
            "label": "17th",
            "method": "animate"
           },
           {
            "args": [
             [
              "18th"
             ],
             {
              "frame": {
               "duration": 0,
               "redraw": true
              },
              "fromcurrent": true,
              "mode": "immediate",
              "transition": {
               "duration": 0,
               "easing": "linear"
              }
             }
            ],
            "label": "18th",
            "method": "animate"
           },
           {
            "args": [
             [
              "19th"
             ],
             {
              "frame": {
               "duration": 0,
               "redraw": true
              },
              "fromcurrent": true,
              "mode": "immediate",
              "transition": {
               "duration": 0,
               "easing": "linear"
              }
             }
            ],
            "label": "19th",
            "method": "animate"
           },
           {
            "args": [
             [
              "20th"
             ],
             {
              "frame": {
               "duration": 0,
               "redraw": true
              },
              "fromcurrent": true,
              "mode": "immediate",
              "transition": {
               "duration": 0,
               "easing": "linear"
              }
             }
            ],
            "label": "20th",
            "method": "animate"
           },
           {
            "args": [
             [
              "21st"
             ],
             {
              "frame": {
               "duration": 0,
               "redraw": true
              },
              "fromcurrent": true,
              "mode": "immediate",
              "transition": {
               "duration": 0,
               "easing": "linear"
              }
             }
            ],
            "label": "21st",
            "method": "animate"
           },
           {
            "args": [
             [
              "22nd"
             ],
             {
              "frame": {
               "duration": 0,
               "redraw": true
              },
              "fromcurrent": true,
              "mode": "immediate",
              "transition": {
               "duration": 0,
               "easing": "linear"
              }
             }
            ],
            "label": "22nd",
            "method": "animate"
           },
           {
            "args": [
             [
              "23rd"
             ],
             {
              "frame": {
               "duration": 0,
               "redraw": true
              },
              "fromcurrent": true,
              "mode": "immediate",
              "transition": {
               "duration": 0,
               "easing": "linear"
              }
             }
            ],
            "label": "23rd",
            "method": "animate"
           },
           {
            "args": [
             [
              "24th"
             ],
             {
              "frame": {
               "duration": 0,
               "redraw": true
              },
              "fromcurrent": true,
              "mode": "immediate",
              "transition": {
               "duration": 0,
               "easing": "linear"
              }
             }
            ],
            "label": "24th",
            "method": "animate"
           },
           {
            "args": [
             [
              "25th"
             ],
             {
              "frame": {
               "duration": 0,
               "redraw": true
              },
              "fromcurrent": true,
              "mode": "immediate",
              "transition": {
               "duration": 0,
               "easing": "linear"
              }
             }
            ],
            "label": "25th",
            "method": "animate"
           }
          ],
          "x": 0.1,
          "xanchor": "left",
          "y": 0,
          "yanchor": "top"
         }
        ],
        "template": {
         "data": {
          "bar": [
           {
            "error_x": {
             "color": "#2a3f5f"
            },
            "error_y": {
             "color": "#2a3f5f"
            },
            "marker": {
             "line": {
              "color": "#E5ECF6",
              "width": 0.5
             }
            },
            "type": "bar"
           }
          ],
          "barpolar": [
           {
            "marker": {
             "line": {
              "color": "#E5ECF6",
              "width": 0.5
             }
            },
            "type": "barpolar"
           }
          ],
          "carpet": [
           {
            "aaxis": {
             "endlinecolor": "#2a3f5f",
             "gridcolor": "white",
             "linecolor": "white",
             "minorgridcolor": "white",
             "startlinecolor": "#2a3f5f"
            },
            "baxis": {
             "endlinecolor": "#2a3f5f",
             "gridcolor": "white",
             "linecolor": "white",
             "minorgridcolor": "white",
             "startlinecolor": "#2a3f5f"
            },
            "type": "carpet"
           }
          ],
          "choropleth": [
           {
            "colorbar": {
             "outlinewidth": 0,
             "ticks": ""
            },
            "type": "choropleth"
           }
          ],
          "contour": [
           {
            "colorbar": {
             "outlinewidth": 0,
             "ticks": ""
            },
            "colorscale": [
             [
              0,
              "#0d0887"
             ],
             [
              0.1111111111111111,
              "#46039f"
             ],
             [
              0.2222222222222222,
              "#7201a8"
             ],
             [
              0.3333333333333333,
              "#9c179e"
             ],
             [
              0.4444444444444444,
              "#bd3786"
             ],
             [
              0.5555555555555556,
              "#d8576b"
             ],
             [
              0.6666666666666666,
              "#ed7953"
             ],
             [
              0.7777777777777778,
              "#fb9f3a"
             ],
             [
              0.8888888888888888,
              "#fdca26"
             ],
             [
              1,
              "#f0f921"
             ]
            ],
            "type": "contour"
           }
          ],
          "contourcarpet": [
           {
            "colorbar": {
             "outlinewidth": 0,
             "ticks": ""
            },
            "type": "contourcarpet"
           }
          ],
          "heatmap": [
           {
            "colorbar": {
             "outlinewidth": 0,
             "ticks": ""
            },
            "colorscale": [
             [
              0,
              "#0d0887"
             ],
             [
              0.1111111111111111,
              "#46039f"
             ],
             [
              0.2222222222222222,
              "#7201a8"
             ],
             [
              0.3333333333333333,
              "#9c179e"
             ],
             [
              0.4444444444444444,
              "#bd3786"
             ],
             [
              0.5555555555555556,
              "#d8576b"
             ],
             [
              0.6666666666666666,
              "#ed7953"
             ],
             [
              0.7777777777777778,
              "#fb9f3a"
             ],
             [
              0.8888888888888888,
              "#fdca26"
             ],
             [
              1,
              "#f0f921"
             ]
            ],
            "type": "heatmap"
           }
          ],
          "heatmapgl": [
           {
            "colorbar": {
             "outlinewidth": 0,
             "ticks": ""
            },
            "colorscale": [
             [
              0,
              "#0d0887"
             ],
             [
              0.1111111111111111,
              "#46039f"
             ],
             [
              0.2222222222222222,
              "#7201a8"
             ],
             [
              0.3333333333333333,
              "#9c179e"
             ],
             [
              0.4444444444444444,
              "#bd3786"
             ],
             [
              0.5555555555555556,
              "#d8576b"
             ],
             [
              0.6666666666666666,
              "#ed7953"
             ],
             [
              0.7777777777777778,
              "#fb9f3a"
             ],
             [
              0.8888888888888888,
              "#fdca26"
             ],
             [
              1,
              "#f0f921"
             ]
            ],
            "type": "heatmapgl"
           }
          ],
          "histogram": [
           {
            "marker": {
             "colorbar": {
              "outlinewidth": 0,
              "ticks": ""
             }
            },
            "type": "histogram"
           }
          ],
          "histogram2d": [
           {
            "colorbar": {
             "outlinewidth": 0,
             "ticks": ""
            },
            "colorscale": [
             [
              0,
              "#0d0887"
             ],
             [
              0.1111111111111111,
              "#46039f"
             ],
             [
              0.2222222222222222,
              "#7201a8"
             ],
             [
              0.3333333333333333,
              "#9c179e"
             ],
             [
              0.4444444444444444,
              "#bd3786"
             ],
             [
              0.5555555555555556,
              "#d8576b"
             ],
             [
              0.6666666666666666,
              "#ed7953"
             ],
             [
              0.7777777777777778,
              "#fb9f3a"
             ],
             [
              0.8888888888888888,
              "#fdca26"
             ],
             [
              1,
              "#f0f921"
             ]
            ],
            "type": "histogram2d"
           }
          ],
          "histogram2dcontour": [
           {
            "colorbar": {
             "outlinewidth": 0,
             "ticks": ""
            },
            "colorscale": [
             [
              0,
              "#0d0887"
             ],
             [
              0.1111111111111111,
              "#46039f"
             ],
             [
              0.2222222222222222,
              "#7201a8"
             ],
             [
              0.3333333333333333,
              "#9c179e"
             ],
             [
              0.4444444444444444,
              "#bd3786"
             ],
             [
              0.5555555555555556,
              "#d8576b"
             ],
             [
              0.6666666666666666,
              "#ed7953"
             ],
             [
              0.7777777777777778,
              "#fb9f3a"
             ],
             [
              0.8888888888888888,
              "#fdca26"
             ],
             [
              1,
              "#f0f921"
             ]
            ],
            "type": "histogram2dcontour"
           }
          ],
          "mesh3d": [
           {
            "colorbar": {
             "outlinewidth": 0,
             "ticks": ""
            },
            "type": "mesh3d"
           }
          ],
          "parcoords": [
           {
            "line": {
             "colorbar": {
              "outlinewidth": 0,
              "ticks": ""
             }
            },
            "type": "parcoords"
           }
          ],
          "pie": [
           {
            "automargin": true,
            "type": "pie"
           }
          ],
          "scatter": [
           {
            "marker": {
             "colorbar": {
              "outlinewidth": 0,
              "ticks": ""
             }
            },
            "type": "scatter"
           }
          ],
          "scatter3d": [
           {
            "line": {
             "colorbar": {
              "outlinewidth": 0,
              "ticks": ""
             }
            },
            "marker": {
             "colorbar": {
              "outlinewidth": 0,
              "ticks": ""
             }
            },
            "type": "scatter3d"
           }
          ],
          "scattercarpet": [
           {
            "marker": {
             "colorbar": {
              "outlinewidth": 0,
              "ticks": ""
             }
            },
            "type": "scattercarpet"
           }
          ],
          "scattergeo": [
           {
            "marker": {
             "colorbar": {
              "outlinewidth": 0,
              "ticks": ""
             }
            },
            "type": "scattergeo"
           }
          ],
          "scattergl": [
           {
            "marker": {
             "colorbar": {
              "outlinewidth": 0,
              "ticks": ""
             }
            },
            "type": "scattergl"
           }
          ],
          "scattermapbox": [
           {
            "marker": {
             "colorbar": {
              "outlinewidth": 0,
              "ticks": ""
             }
            },
            "type": "scattermapbox"
           }
          ],
          "scatterpolar": [
           {
            "marker": {
             "colorbar": {
              "outlinewidth": 0,
              "ticks": ""
             }
            },
            "type": "scatterpolar"
           }
          ],
          "scatterpolargl": [
           {
            "marker": {
             "colorbar": {
              "outlinewidth": 0,
              "ticks": ""
             }
            },
            "type": "scatterpolargl"
           }
          ],
          "scatterternary": [
           {
            "marker": {
             "colorbar": {
              "outlinewidth": 0,
              "ticks": ""
             }
            },
            "type": "scatterternary"
           }
          ],
          "surface": [
           {
            "colorbar": {
             "outlinewidth": 0,
             "ticks": ""
            },
            "colorscale": [
             [
              0,
              "#0d0887"
             ],
             [
              0.1111111111111111,
              "#46039f"
             ],
             [
              0.2222222222222222,
              "#7201a8"
             ],
             [
              0.3333333333333333,
              "#9c179e"
             ],
             [
              0.4444444444444444,
              "#bd3786"
             ],
             [
              0.5555555555555556,
              "#d8576b"
             ],
             [
              0.6666666666666666,
              "#ed7953"
             ],
             [
              0.7777777777777778,
              "#fb9f3a"
             ],
             [
              0.8888888888888888,
              "#fdca26"
             ],
             [
              1,
              "#f0f921"
             ]
            ],
            "type": "surface"
           }
          ],
          "table": [
           {
            "cells": {
             "fill": {
              "color": "#EBF0F8"
             },
             "line": {
              "color": "white"
             }
            },
            "header": {
             "fill": {
              "color": "#C8D4E3"
             },
             "line": {
              "color": "white"
             }
            },
            "type": "table"
           }
          ]
         },
         "layout": {
          "annotationdefaults": {
           "arrowcolor": "#2a3f5f",
           "arrowhead": 0,
           "arrowwidth": 1
          },
          "coloraxis": {
           "colorbar": {
            "outlinewidth": 0,
            "ticks": ""
           }
          },
          "colorscale": {
           "diverging": [
            [
             0,
             "#8e0152"
            ],
            [
             0.1,
             "#c51b7d"
            ],
            [
             0.2,
             "#de77ae"
            ],
            [
             0.3,
             "#f1b6da"
            ],
            [
             0.4,
             "#fde0ef"
            ],
            [
             0.5,
             "#f7f7f7"
            ],
            [
             0.6,
             "#e6f5d0"
            ],
            [
             0.7,
             "#b8e186"
            ],
            [
             0.8,
             "#7fbc41"
            ],
            [
             0.9,
             "#4d9221"
            ],
            [
             1,
             "#276419"
            ]
           ],
           "sequential": [
            [
             0,
             "#0d0887"
            ],
            [
             0.1111111111111111,
             "#46039f"
            ],
            [
             0.2222222222222222,
             "#7201a8"
            ],
            [
             0.3333333333333333,
             "#9c179e"
            ],
            [
             0.4444444444444444,
             "#bd3786"
            ],
            [
             0.5555555555555556,
             "#d8576b"
            ],
            [
             0.6666666666666666,
             "#ed7953"
            ],
            [
             0.7777777777777778,
             "#fb9f3a"
            ],
            [
             0.8888888888888888,
             "#fdca26"
            ],
            [
             1,
             "#f0f921"
            ]
           ],
           "sequentialminus": [
            [
             0,
             "#0d0887"
            ],
            [
             0.1111111111111111,
             "#46039f"
            ],
            [
             0.2222222222222222,
             "#7201a8"
            ],
            [
             0.3333333333333333,
             "#9c179e"
            ],
            [
             0.4444444444444444,
             "#bd3786"
            ],
            [
             0.5555555555555556,
             "#d8576b"
            ],
            [
             0.6666666666666666,
             "#ed7953"
            ],
            [
             0.7777777777777778,
             "#fb9f3a"
            ],
            [
             0.8888888888888888,
             "#fdca26"
            ],
            [
             1,
             "#f0f921"
            ]
           ]
          },
          "colorway": [
           "#636efa",
           "#EF553B",
           "#00cc96",
           "#ab63fa",
           "#FFA15A",
           "#19d3f3",
           "#FF6692",
           "#B6E880",
           "#FF97FF",
           "#FECB52"
          ],
          "font": {
           "color": "#2a3f5f"
          },
          "geo": {
           "bgcolor": "white",
           "lakecolor": "white",
           "landcolor": "#E5ECF6",
           "showlakes": true,
           "showland": true,
           "subunitcolor": "white"
          },
          "hoverlabel": {
           "align": "left"
          },
          "hovermode": "closest",
          "mapbox": {
           "style": "light"
          },
          "paper_bgcolor": "white",
          "plot_bgcolor": "#E5ECF6",
          "polar": {
           "angularaxis": {
            "gridcolor": "white",
            "linecolor": "white",
            "ticks": ""
           },
           "bgcolor": "#E5ECF6",
           "radialaxis": {
            "gridcolor": "white",
            "linecolor": "white",
            "ticks": ""
           }
          },
          "scene": {
           "xaxis": {
            "backgroundcolor": "#E5ECF6",
            "gridcolor": "white",
            "gridwidth": 2,
            "linecolor": "white",
            "showbackground": true,
            "ticks": "",
            "zerolinecolor": "white"
           },
           "yaxis": {
            "backgroundcolor": "#E5ECF6",
            "gridcolor": "white",
            "gridwidth": 2,
            "linecolor": "white",
            "showbackground": true,
            "ticks": "",
            "zerolinecolor": "white"
           },
           "zaxis": {
            "backgroundcolor": "#E5ECF6",
            "gridcolor": "white",
            "gridwidth": 2,
            "linecolor": "white",
            "showbackground": true,
            "ticks": "",
            "zerolinecolor": "white"
           }
          },
          "shapedefaults": {
           "line": {
            "color": "#2a3f5f"
           }
          },
          "ternary": {
           "aaxis": {
            "gridcolor": "white",
            "linecolor": "white",
            "ticks": ""
           },
           "baxis": {
            "gridcolor": "white",
            "linecolor": "white",
            "ticks": ""
           },
           "bgcolor": "#E5ECF6",
           "caxis": {
            "gridcolor": "white",
            "linecolor": "white",
            "ticks": ""
           }
          },
          "title": {
           "x": 0.05
          },
          "xaxis": {
           "automargin": true,
           "gridcolor": "white",
           "linecolor": "white",
           "ticks": "",
           "title": {
            "standoff": 15
           },
           "zerolinecolor": "white",
           "zerolinewidth": 2
          },
          "yaxis": {
           "automargin": true,
           "gridcolor": "white",
           "linecolor": "white",
           "ticks": "",
           "title": {
            "standoff": 15
           },
           "zerolinecolor": "white",
           "zerolinewidth": 2
          }
         }
        },
        "updatemenus": [
         {
          "buttons": [
           {
            "args": [
             null,
             {
              "frame": {
               "duration": 500,
               "redraw": true
              },
              "fromcurrent": true,
              "mode": "immediate",
              "transition": {
               "duration": 500,
               "easing": "linear"
              }
             }
            ],
            "label": "&#9654;",
            "method": "animate"
           },
           {
            "args": [
             [
              null
             ],
             {
              "frame": {
               "duration": 0,
               "redraw": true
              },
              "fromcurrent": true,
              "mode": "immediate",
              "transition": {
               "duration": 0,
               "easing": "linear"
              }
             }
            ],
            "label": "&#9724;",
            "method": "animate"
           }
          ],
          "direction": "left",
          "pad": {
           "r": 10,
           "t": 70
          },
          "showactive": false,
          "type": "buttons",
          "x": 0.1,
          "xanchor": "right",
          "y": 0,
          "yanchor": "top"
         }
        ]
       }
      },
      "text/html": [
       "<div>\n",
       "        \n",
       "        \n",
       "            <div id=\"7b49b357-e83e-44cf-bcee-be00049ac652\" class=\"plotly-graph-div\" style=\"height:525px; width:100%;\"></div>\n",
       "            <script type=\"text/javascript\">\n",
       "                require([\"plotly\"], function(Plotly) {\n",
       "                    window.PLOTLYENV=window.PLOTLYENV || {};\n",
       "                    \n",
       "                if (document.getElementById(\"7b49b357-e83e-44cf-bcee-be00049ac652\")) {\n",
       "                    Plotly.newPlot(\n",
       "                        '7b49b357-e83e-44cf-bcee-be00049ac652',\n",
       "                        [{\"geo\": \"geo\", \"hoverlabel\": {\"namelength\": 0}, \"hovertemplate\": \"Region=01-Bas-Saint-Laurent<br>Date of Infection=13th<br>Total Number of Cases=%{marker.size}<br>Lat=%{lat}<br>Long=%{lon}\", \"lat\": [48.333333], \"legendgroup\": \"01-Bas-Saint-Laurent\", \"lon\": [-68.666667], \"marker\": {\"color\": \"#636efa\", \"size\": [0.0], \"sizemode\": \"area\", \"sizeref\": 0.67}, \"name\": \"01-Bas-Saint-Laurent\", \"showlegend\": true, \"type\": \"scattergeo\"}, {\"geo\": \"geo\", \"hoverlabel\": {\"namelength\": 0}, \"hovertemplate\": \"Region=02- Saguenay-Lac-Saint-Jean<br>Date of Infection=13th<br>Total Number of Cases=%{marker.size}<br>Lat=%{lat}<br>Long=%{lon}\", \"lat\": [49.8667], \"legendgroup\": \"02- Saguenay-Lac-Saint-Jean\", \"lon\": [-71.75], \"marker\": {\"color\": \"#EF553B\", \"size\": [0.0], \"sizemode\": \"area\", \"sizeref\": 0.67}, \"name\": \"02- Saguenay-Lac-Saint-Jean\", \"showlegend\": true, \"type\": \"scattergeo\"}, {\"geo\": \"geo\", \"hoverlabel\": {\"namelength\": 0}, \"hovertemplate\": \"Region=03- Capitale-Nationale<br>Date of Infection=13th<br>Total Number of Cases=%{marker.size}<br>Lat=%{lat}<br>Long=%{lon}\", \"lat\": [47.333333], \"legendgroup\": \"03- Capitale-Nationale\", \"lon\": [-71.5], \"marker\": {\"color\": \"#00cc96\", \"size\": [0.0], \"sizemode\": \"area\", \"sizeref\": 0.67}, \"name\": \"03- Capitale-Nationale\", \"showlegend\": true, \"type\": \"scattergeo\"}, {\"geo\": \"geo\", \"hoverlabel\": {\"namelength\": 0}, \"hovertemplate\": \"Region=04-Mauricie<br>Date of Infection=13th<br>Total Number of Cases=%{marker.size}<br>Lat=%{lat}<br>Long=%{lon}\", \"lat\": [47.0], \"legendgroup\": \"04-Mauricie\", \"lon\": [-73.0], \"marker\": {\"color\": \"#ab63fa\", \"size\": [1.0], \"sizemode\": \"area\", \"sizeref\": 0.67}, \"name\": \"04-Mauricie\", \"showlegend\": true, \"type\": \"scattergeo\"}, {\"geo\": \"geo\", \"hoverlabel\": {\"namelength\": 0}, \"hovertemplate\": \"Region=05-Estrie<br>Date of Infection=13th<br>Total Number of Cases=%{marker.size}<br>Lat=%{lat}<br>Long=%{lon}\", \"lat\": [45.481556], \"legendgroup\": \"05-Estrie\", \"lon\": [-71.667917], \"marker\": {\"color\": \"#FFA15A\", \"size\": [2.0], \"sizemode\": \"area\", \"sizeref\": 0.67}, \"name\": \"05-Estrie\", \"showlegend\": true, \"type\": \"scattergeo\"}, {\"geo\": \"geo\", \"hoverlabel\": {\"namelength\": 0}, \"hovertemplate\": \"Region=06-Montreal<br>Date of Infection=13th<br>Total Number of Cases=%{marker.size}<br>Lat=%{lat}<br>Long=%{lon}\", \"lat\": [45.5], \"legendgroup\": \"06-Montreal\", \"lon\": [-73.566667], \"marker\": {\"color\": \"#19d3f3\", \"size\": [7.0], \"sizemode\": \"area\", \"sizeref\": 0.67}, \"name\": \"06-Montreal\", \"showlegend\": true, \"type\": \"scattergeo\"}, {\"geo\": \"geo\", \"hoverlabel\": {\"namelength\": 0}, \"hovertemplate\": \"Region=07-Outauais<br>Date of Infection=13th<br>Total Number of Cases=%{marker.size}<br>Lat=%{lat}<br>Long=%{lon}\", \"lat\": [45.783333], \"legendgroup\": \"07-Outauais\", \"lon\": [-75.083333], \"marker\": {\"color\": \"#FF6692\", \"size\": [0.0], \"sizemode\": \"area\", \"sizeref\": 0.67}, \"name\": \"07-Outauais\", \"showlegend\": true, \"type\": \"scattergeo\"}, {\"geo\": \"geo\", \"hoverlabel\": {\"namelength\": 0}, \"hovertemplate\": \"Region=08-Abititi-Temiscaminigue<br>Date of Infection=13th<br>Total Number of Cases=%{marker.size}<br>Lat=%{lat}<br>Long=%{lon}\", \"lat\": [48.233333], \"legendgroup\": \"08-Abititi-Temiscaminigue\", \"lon\": [-79.016667], \"marker\": {\"color\": \"#B6E880\", \"size\": [0.0], \"sizemode\": \"area\", \"sizeref\": 0.67}, \"name\": \"08-Abititi-Temiscaminigue\", \"showlegend\": true, \"type\": \"scattergeo\"}, {\"geo\": \"geo\", \"hoverlabel\": {\"namelength\": 0}, \"hovertemplate\": \"Region=9-Cote-Nord<br>Date of Infection=13th<br>Total Number of Cases=%{marker.size}<br>Lat=%{lat}<br>Long=%{lon}\", \"lat\": [50.866667], \"legendgroup\": \"9-Cote-Nord\", \"lon\": [-65.816667], \"marker\": {\"color\": \"#FF97FF\", \"size\": [0.0], \"sizemode\": \"area\", \"sizeref\": 0.67}, \"name\": \"9-Cote-Nord\", \"showlegend\": true, \"type\": \"scattergeo\"}, {\"geo\": \"geo\", \"hoverlabel\": {\"namelength\": 0}, \"hovertemplate\": \"Region=10-Nord-du-Quebec<br>Date of Infection=13th<br>Total Number of Cases=%{marker.size}<br>Lat=%{lat}<br>Long=%{lon}\", \"lat\": [56.166667], \"legendgroup\": \"10-Nord-du-Quebec\", \"lon\": [-74.416667], \"marker\": {\"color\": \"#FECB52\", \"size\": [0.0], \"sizemode\": \"area\", \"sizeref\": 0.67}, \"name\": \"10-Nord-du-Quebec\", \"showlegend\": true, \"type\": \"scattergeo\"}, {\"geo\": \"geo\", \"hoverlabel\": {\"namelength\": 0}, \"hovertemplate\": \"Region=11- Gaspesie-Iles-de-la-Madelaine<br>Date of Infection=13th<br>Total Number of Cases=%{marker.size}<br>Lat=%{lat}<br>Long=%{lon}\", \"lat\": [48.683333], \"legendgroup\": \"11- Gaspesie-Iles-de-la-Madelaine\", \"lon\": [-65.4], \"marker\": {\"color\": \"#636efa\", \"size\": [0.0], \"sizemode\": \"area\", \"sizeref\": 0.67}, \"name\": \"11- Gaspesie-Iles-de-la-Madelaine\", \"showlegend\": true, \"type\": \"scattergeo\"}, {\"geo\": \"geo\", \"hoverlabel\": {\"namelength\": 0}, \"hovertemplate\": \"Region=12-Chaudiere-Appalaches<br>Date of Infection=13th<br>Total Number of Cases=%{marker.size}<br>Lat=%{lat}<br>Long=%{lon}\", \"lat\": [46.483333], \"legendgroup\": \"12-Chaudiere-Appalaches\", \"lon\": [-70.616667], \"marker\": {\"color\": \"#EF553B\", \"size\": [1.0], \"sizemode\": \"area\", \"sizeref\": 0.67}, \"name\": \"12-Chaudiere-Appalaches\", \"showlegend\": true, \"type\": \"scattergeo\"}, {\"geo\": \"geo\", \"hoverlabel\": {\"namelength\": 0}, \"hovertemplate\": \"Region=13- Laval<br>Date of Infection=13th<br>Total Number of Cases=%{marker.size}<br>Lat=%{lat}<br>Long=%{lon}\", \"lat\": [45.583333], \"legendgroup\": \"13- Laval\", \"lon\": [-73.75], \"marker\": {\"color\": \"#00cc96\", \"size\": [0.0], \"sizemode\": \"area\", \"sizeref\": 0.67}, \"name\": \"13- Laval\", \"showlegend\": true, \"type\": \"scattergeo\"}, {\"geo\": \"geo\", \"hoverlabel\": {\"namelength\": 0}, \"hovertemplate\": \"Region=14- Lanaudiere<br>Date of Infection=13th<br>Total Number of Cases=%{marker.size}<br>Lat=%{lat}<br>Long=%{lon}\", \"lat\": [46.766667], \"legendgroup\": \"14- Lanaudiere\", \"lon\": [-73.833333], \"marker\": {\"color\": \"#ab63fa\", \"size\": [0.0], \"sizemode\": \"area\", \"sizeref\": 0.67}, \"name\": \"14- Lanaudiere\", \"showlegend\": true, \"type\": \"scattergeo\"}, {\"geo\": \"geo\", \"hoverlabel\": {\"namelength\": 0}, \"hovertemplate\": \"Region=15- Laurentides<br>Date of Infection=13th<br>Total Number of Cases=%{marker.size}<br>Lat=%{lat}<br>Long=%{lon}\", \"lat\": [46.433333], \"legendgroup\": \"15- Laurentides\", \"lon\": [-74.983333], \"marker\": {\"color\": \"#FFA15A\", \"size\": [2.0], \"sizemode\": \"area\", \"sizeref\": 0.67}, \"name\": \"15- Laurentides\", \"showlegend\": true, \"type\": \"scattergeo\"}, {\"geo\": \"geo\", \"hoverlabel\": {\"namelength\": 0}, \"hovertemplate\": \"Region=16- Monteregie<br>Date of Infection=13th<br>Total Number of Cases=%{marker.size}<br>Lat=%{lat}<br>Long=%{lon}\", \"lat\": [45.383333], \"legendgroup\": \"16- Monteregie\", \"lon\": [-73.1], \"marker\": {\"color\": \"#19d3f3\", \"size\": [4.0], \"sizemode\": \"area\", \"sizeref\": 0.67}, \"name\": \"16- Monteregie\", \"showlegend\": true, \"type\": \"scattergeo\"}, {\"geo\": \"geo\", \"hoverlabel\": {\"namelength\": 0}, \"hovertemplate\": \"Region=17- Centre du Quebec<br>Date of Infection=13th<br>Total Number of Cases=%{marker.size}<br>Lat=%{lat}<br>Long=%{lon}\", \"lat\": [46.283333], \"legendgroup\": \"17- Centre du Quebec\", \"lon\": [-72.066667], \"marker\": {\"color\": \"#FF6692\", \"size\": [0.0], \"sizemode\": \"area\", \"sizeref\": 0.67}, \"name\": \"17- Centre du Quebec\", \"showlegend\": true, \"type\": \"scattergeo\"}, {\"geo\": \"geo\", \"hoverlabel\": {\"namelength\": 0}, \"hovertemplate\": \"Region=Undetermined<br>Date of Infection=13th<br>Total Number of Cases=%{marker.size}<br>Lat=%{lat}<br>Long=%{lon}\", \"lat\": [\"na\"], \"legendgroup\": \"Undetermined\", \"lon\": [\"na\"], \"marker\": {\"color\": \"#B6E880\", \"size\": [0.0], \"sizemode\": \"area\", \"sizeref\": 0.67}, \"name\": \"Undetermined\", \"showlegend\": true, \"type\": \"scattergeo\"}, {\"geo\": \"geo\", \"hoverlabel\": {\"namelength\": 0}, \"hovertemplate\": \"Region=Hors Quebec<br>Date of Infection=13th<br>Total Number of Cases=%{marker.size}<br>Lat=%{lat}<br>Long=%{lon}\", \"lat\": [\"na\"], \"legendgroup\": \"Hors Quebec\", \"lon\": [\"na\"], \"marker\": {\"color\": \"#FF97FF\", \"size\": [0.0], \"sizemode\": \"area\", \"sizeref\": 0.67}, \"name\": \"Hors Quebec\", \"showlegend\": true, \"type\": \"scattergeo\"}],\n",
       "                        {\"geo\": {\"center\": {}, \"domain\": {\"x\": [0.0, 1.0], \"y\": [0.0, 1.0]}, \"projection\": {\"type\": \"natural earth\"}}, \"legend\": {\"itemsizing\": \"constant\", \"title\": {\"text\": \"Region\"}, \"tracegroupgap\": 0}, \"margin\": {\"t\": 60}, \"sliders\": [{\"active\": 0, \"currentvalue\": {\"prefix\": \"Date of Infection=\"}, \"len\": 0.9, \"pad\": {\"b\": 10, \"t\": 60}, \"steps\": [{\"args\": [[\"13th\"], {\"frame\": {\"duration\": 0, \"redraw\": true}, \"fromcurrent\": true, \"mode\": \"immediate\", \"transition\": {\"duration\": 0, \"easing\": \"linear\"}}], \"label\": \"13th\", \"method\": \"animate\"}, {\"args\": [[\"14th\"], {\"frame\": {\"duration\": 0, \"redraw\": true}, \"fromcurrent\": true, \"mode\": \"immediate\", \"transition\": {\"duration\": 0, \"easing\": \"linear\"}}], \"label\": \"14th\", \"method\": \"animate\"}, {\"args\": [[\"15th\"], {\"frame\": {\"duration\": 0, \"redraw\": true}, \"fromcurrent\": true, \"mode\": \"immediate\", \"transition\": {\"duration\": 0, \"easing\": \"linear\"}}], \"label\": \"15th\", \"method\": \"animate\"}, {\"args\": [[\"16th\"], {\"frame\": {\"duration\": 0, \"redraw\": true}, \"fromcurrent\": true, \"mode\": \"immediate\", \"transition\": {\"duration\": 0, \"easing\": \"linear\"}}], \"label\": \"16th\", \"method\": \"animate\"}, {\"args\": [[\"17th\"], {\"frame\": {\"duration\": 0, \"redraw\": true}, \"fromcurrent\": true, \"mode\": \"immediate\", \"transition\": {\"duration\": 0, \"easing\": \"linear\"}}], \"label\": \"17th\", \"method\": \"animate\"}, {\"args\": [[\"18th\"], {\"frame\": {\"duration\": 0, \"redraw\": true}, \"fromcurrent\": true, \"mode\": \"immediate\", \"transition\": {\"duration\": 0, \"easing\": \"linear\"}}], \"label\": \"18th\", \"method\": \"animate\"}, {\"args\": [[\"19th\"], {\"frame\": {\"duration\": 0, \"redraw\": true}, \"fromcurrent\": true, \"mode\": \"immediate\", \"transition\": {\"duration\": 0, \"easing\": \"linear\"}}], \"label\": \"19th\", \"method\": \"animate\"}, {\"args\": [[\"20th\"], {\"frame\": {\"duration\": 0, \"redraw\": true}, \"fromcurrent\": true, \"mode\": \"immediate\", \"transition\": {\"duration\": 0, \"easing\": \"linear\"}}], \"label\": \"20th\", \"method\": \"animate\"}, {\"args\": [[\"21st\"], {\"frame\": {\"duration\": 0, \"redraw\": true}, \"fromcurrent\": true, \"mode\": \"immediate\", \"transition\": {\"duration\": 0, \"easing\": \"linear\"}}], \"label\": \"21st\", \"method\": \"animate\"}, {\"args\": [[\"22nd\"], {\"frame\": {\"duration\": 0, \"redraw\": true}, \"fromcurrent\": true, \"mode\": \"immediate\", \"transition\": {\"duration\": 0, \"easing\": \"linear\"}}], \"label\": \"22nd\", \"method\": \"animate\"}, {\"args\": [[\"23rd\"], {\"frame\": {\"duration\": 0, \"redraw\": true}, \"fromcurrent\": true, \"mode\": \"immediate\", \"transition\": {\"duration\": 0, \"easing\": \"linear\"}}], \"label\": \"23rd\", \"method\": \"animate\"}, {\"args\": [[\"24th\"], {\"frame\": {\"duration\": 0, \"redraw\": true}, \"fromcurrent\": true, \"mode\": \"immediate\", \"transition\": {\"duration\": 0, \"easing\": \"linear\"}}], \"label\": \"24th\", \"method\": \"animate\"}, {\"args\": [[\"25th\"], {\"frame\": {\"duration\": 0, \"redraw\": true}, \"fromcurrent\": true, \"mode\": \"immediate\", \"transition\": {\"duration\": 0, \"easing\": \"linear\"}}], \"label\": \"25th\", \"method\": \"animate\"}], \"x\": 0.1, \"xanchor\": \"left\", \"y\": 0, \"yanchor\": \"top\"}], \"template\": {\"data\": {\"bar\": [{\"error_x\": {\"color\": \"#2a3f5f\"}, \"error_y\": {\"color\": \"#2a3f5f\"}, \"marker\": {\"line\": {\"color\": \"#E5ECF6\", \"width\": 0.5}}, \"type\": \"bar\"}], \"barpolar\": [{\"marker\": {\"line\": {\"color\": \"#E5ECF6\", \"width\": 0.5}}, \"type\": \"barpolar\"}], \"carpet\": [{\"aaxis\": {\"endlinecolor\": \"#2a3f5f\", \"gridcolor\": \"white\", \"linecolor\": \"white\", \"minorgridcolor\": \"white\", \"startlinecolor\": \"#2a3f5f\"}, \"baxis\": {\"endlinecolor\": \"#2a3f5f\", \"gridcolor\": \"white\", \"linecolor\": \"white\", \"minorgridcolor\": \"white\", \"startlinecolor\": \"#2a3f5f\"}, \"type\": \"carpet\"}], \"choropleth\": [{\"colorbar\": {\"outlinewidth\": 0, \"ticks\": \"\"}, \"type\": \"choropleth\"}], \"contour\": [{\"colorbar\": {\"outlinewidth\": 0, \"ticks\": \"\"}, \"colorscale\": [[0.0, \"#0d0887\"], [0.1111111111111111, \"#46039f\"], [0.2222222222222222, \"#7201a8\"], [0.3333333333333333, \"#9c179e\"], [0.4444444444444444, \"#bd3786\"], [0.5555555555555556, \"#d8576b\"], [0.6666666666666666, \"#ed7953\"], [0.7777777777777778, \"#fb9f3a\"], [0.8888888888888888, \"#fdca26\"], [1.0, \"#f0f921\"]], \"type\": \"contour\"}], \"contourcarpet\": [{\"colorbar\": {\"outlinewidth\": 0, \"ticks\": \"\"}, \"type\": \"contourcarpet\"}], \"heatmap\": [{\"colorbar\": {\"outlinewidth\": 0, \"ticks\": \"\"}, \"colorscale\": [[0.0, \"#0d0887\"], [0.1111111111111111, \"#46039f\"], [0.2222222222222222, \"#7201a8\"], [0.3333333333333333, \"#9c179e\"], [0.4444444444444444, \"#bd3786\"], [0.5555555555555556, \"#d8576b\"], [0.6666666666666666, \"#ed7953\"], [0.7777777777777778, \"#fb9f3a\"], [0.8888888888888888, \"#fdca26\"], [1.0, \"#f0f921\"]], \"type\": \"heatmap\"}], \"heatmapgl\": [{\"colorbar\": {\"outlinewidth\": 0, \"ticks\": \"\"}, \"colorscale\": [[0.0, \"#0d0887\"], [0.1111111111111111, \"#46039f\"], [0.2222222222222222, \"#7201a8\"], [0.3333333333333333, \"#9c179e\"], [0.4444444444444444, \"#bd3786\"], [0.5555555555555556, \"#d8576b\"], [0.6666666666666666, \"#ed7953\"], [0.7777777777777778, \"#fb9f3a\"], [0.8888888888888888, \"#fdca26\"], [1.0, \"#f0f921\"]], \"type\": \"heatmapgl\"}], \"histogram\": [{\"marker\": {\"colorbar\": {\"outlinewidth\": 0, \"ticks\": \"\"}}, \"type\": \"histogram\"}], \"histogram2d\": [{\"colorbar\": {\"outlinewidth\": 0, \"ticks\": \"\"}, \"colorscale\": [[0.0, \"#0d0887\"], [0.1111111111111111, \"#46039f\"], [0.2222222222222222, \"#7201a8\"], [0.3333333333333333, \"#9c179e\"], [0.4444444444444444, \"#bd3786\"], [0.5555555555555556, \"#d8576b\"], [0.6666666666666666, \"#ed7953\"], [0.7777777777777778, \"#fb9f3a\"], [0.8888888888888888, \"#fdca26\"], [1.0, \"#f0f921\"]], \"type\": \"histogram2d\"}], \"histogram2dcontour\": [{\"colorbar\": {\"outlinewidth\": 0, \"ticks\": \"\"}, \"colorscale\": [[0.0, \"#0d0887\"], [0.1111111111111111, \"#46039f\"], [0.2222222222222222, \"#7201a8\"], [0.3333333333333333, \"#9c179e\"], [0.4444444444444444, \"#bd3786\"], [0.5555555555555556, \"#d8576b\"], [0.6666666666666666, \"#ed7953\"], [0.7777777777777778, \"#fb9f3a\"], [0.8888888888888888, \"#fdca26\"], [1.0, \"#f0f921\"]], \"type\": \"histogram2dcontour\"}], \"mesh3d\": [{\"colorbar\": {\"outlinewidth\": 0, \"ticks\": \"\"}, \"type\": \"mesh3d\"}], \"parcoords\": [{\"line\": {\"colorbar\": {\"outlinewidth\": 0, \"ticks\": \"\"}}, \"type\": \"parcoords\"}], \"pie\": [{\"automargin\": true, \"type\": \"pie\"}], \"scatter\": [{\"marker\": {\"colorbar\": {\"outlinewidth\": 0, \"ticks\": \"\"}}, \"type\": \"scatter\"}], \"scatter3d\": [{\"line\": {\"colorbar\": {\"outlinewidth\": 0, \"ticks\": \"\"}}, \"marker\": {\"colorbar\": {\"outlinewidth\": 0, \"ticks\": \"\"}}, \"type\": \"scatter3d\"}], \"scattercarpet\": [{\"marker\": {\"colorbar\": {\"outlinewidth\": 0, \"ticks\": \"\"}}, \"type\": \"scattercarpet\"}], \"scattergeo\": [{\"marker\": {\"colorbar\": {\"outlinewidth\": 0, \"ticks\": \"\"}}, \"type\": \"scattergeo\"}], \"scattergl\": [{\"marker\": {\"colorbar\": {\"outlinewidth\": 0, \"ticks\": \"\"}}, \"type\": \"scattergl\"}], \"scattermapbox\": [{\"marker\": {\"colorbar\": {\"outlinewidth\": 0, \"ticks\": \"\"}}, \"type\": \"scattermapbox\"}], \"scatterpolar\": [{\"marker\": {\"colorbar\": {\"outlinewidth\": 0, \"ticks\": \"\"}}, \"type\": \"scatterpolar\"}], \"scatterpolargl\": [{\"marker\": {\"colorbar\": {\"outlinewidth\": 0, \"ticks\": \"\"}}, \"type\": \"scatterpolargl\"}], \"scatterternary\": [{\"marker\": {\"colorbar\": {\"outlinewidth\": 0, \"ticks\": \"\"}}, \"type\": \"scatterternary\"}], \"surface\": [{\"colorbar\": {\"outlinewidth\": 0, \"ticks\": \"\"}, \"colorscale\": [[0.0, \"#0d0887\"], [0.1111111111111111, \"#46039f\"], [0.2222222222222222, \"#7201a8\"], [0.3333333333333333, \"#9c179e\"], [0.4444444444444444, \"#bd3786\"], [0.5555555555555556, \"#d8576b\"], [0.6666666666666666, \"#ed7953\"], [0.7777777777777778, \"#fb9f3a\"], [0.8888888888888888, \"#fdca26\"], [1.0, \"#f0f921\"]], \"type\": \"surface\"}], \"table\": [{\"cells\": {\"fill\": {\"color\": \"#EBF0F8\"}, \"line\": {\"color\": \"white\"}}, \"header\": {\"fill\": {\"color\": \"#C8D4E3\"}, \"line\": {\"color\": \"white\"}}, \"type\": \"table\"}]}, \"layout\": {\"annotationdefaults\": {\"arrowcolor\": \"#2a3f5f\", \"arrowhead\": 0, \"arrowwidth\": 1}, \"coloraxis\": {\"colorbar\": {\"outlinewidth\": 0, \"ticks\": \"\"}}, \"colorscale\": {\"diverging\": [[0, \"#8e0152\"], [0.1, \"#c51b7d\"], [0.2, \"#de77ae\"], [0.3, \"#f1b6da\"], [0.4, \"#fde0ef\"], [0.5, \"#f7f7f7\"], [0.6, \"#e6f5d0\"], [0.7, \"#b8e186\"], [0.8, \"#7fbc41\"], [0.9, \"#4d9221\"], [1, \"#276419\"]], \"sequential\": [[0.0, \"#0d0887\"], [0.1111111111111111, \"#46039f\"], [0.2222222222222222, \"#7201a8\"], [0.3333333333333333, \"#9c179e\"], [0.4444444444444444, \"#bd3786\"], [0.5555555555555556, \"#d8576b\"], [0.6666666666666666, \"#ed7953\"], [0.7777777777777778, \"#fb9f3a\"], [0.8888888888888888, \"#fdca26\"], [1.0, \"#f0f921\"]], \"sequentialminus\": [[0.0, \"#0d0887\"], [0.1111111111111111, \"#46039f\"], [0.2222222222222222, \"#7201a8\"], [0.3333333333333333, \"#9c179e\"], [0.4444444444444444, \"#bd3786\"], [0.5555555555555556, \"#d8576b\"], [0.6666666666666666, \"#ed7953\"], [0.7777777777777778, \"#fb9f3a\"], [0.8888888888888888, \"#fdca26\"], [1.0, \"#f0f921\"]]}, \"colorway\": [\"#636efa\", \"#EF553B\", \"#00cc96\", \"#ab63fa\", \"#FFA15A\", \"#19d3f3\", \"#FF6692\", \"#B6E880\", \"#FF97FF\", \"#FECB52\"], \"font\": {\"color\": \"#2a3f5f\"}, \"geo\": {\"bgcolor\": \"white\", \"lakecolor\": \"white\", \"landcolor\": \"#E5ECF6\", \"showlakes\": true, \"showland\": true, \"subunitcolor\": \"white\"}, \"hoverlabel\": {\"align\": \"left\"}, \"hovermode\": \"closest\", \"mapbox\": {\"style\": \"light\"}, \"paper_bgcolor\": \"white\", \"plot_bgcolor\": \"#E5ECF6\", \"polar\": {\"angularaxis\": {\"gridcolor\": \"white\", \"linecolor\": \"white\", \"ticks\": \"\"}, \"bgcolor\": \"#E5ECF6\", \"radialaxis\": {\"gridcolor\": \"white\", \"linecolor\": \"white\", \"ticks\": \"\"}}, \"scene\": {\"xaxis\": {\"backgroundcolor\": \"#E5ECF6\", \"gridcolor\": \"white\", \"gridwidth\": 2, \"linecolor\": \"white\", \"showbackground\": true, \"ticks\": \"\", \"zerolinecolor\": \"white\"}, \"yaxis\": {\"backgroundcolor\": \"#E5ECF6\", \"gridcolor\": \"white\", \"gridwidth\": 2, \"linecolor\": \"white\", \"showbackground\": true, \"ticks\": \"\", \"zerolinecolor\": \"white\"}, \"zaxis\": {\"backgroundcolor\": \"#E5ECF6\", \"gridcolor\": \"white\", \"gridwidth\": 2, \"linecolor\": \"white\", \"showbackground\": true, \"ticks\": \"\", \"zerolinecolor\": \"white\"}}, \"shapedefaults\": {\"line\": {\"color\": \"#2a3f5f\"}}, \"ternary\": {\"aaxis\": {\"gridcolor\": \"white\", \"linecolor\": \"white\", \"ticks\": \"\"}, \"baxis\": {\"gridcolor\": \"white\", \"linecolor\": \"white\", \"ticks\": \"\"}, \"bgcolor\": \"#E5ECF6\", \"caxis\": {\"gridcolor\": \"white\", \"linecolor\": \"white\", \"ticks\": \"\"}}, \"title\": {\"x\": 0.05}, \"xaxis\": {\"automargin\": true, \"gridcolor\": \"white\", \"linecolor\": \"white\", \"ticks\": \"\", \"title\": {\"standoff\": 15}, \"zerolinecolor\": \"white\", \"zerolinewidth\": 2}, \"yaxis\": {\"automargin\": true, \"gridcolor\": \"white\", \"linecolor\": \"white\", \"ticks\": \"\", \"title\": {\"standoff\": 15}, \"zerolinecolor\": \"white\", \"zerolinewidth\": 2}}}, \"updatemenus\": [{\"buttons\": [{\"args\": [null, {\"frame\": {\"duration\": 500, \"redraw\": true}, \"fromcurrent\": true, \"mode\": \"immediate\", \"transition\": {\"duration\": 500, \"easing\": \"linear\"}}], \"label\": \"&#9654;\", \"method\": \"animate\"}, {\"args\": [[null], {\"frame\": {\"duration\": 0, \"redraw\": true}, \"fromcurrent\": true, \"mode\": \"immediate\", \"transition\": {\"duration\": 0, \"easing\": \"linear\"}}], \"label\": \"&#9724;\", \"method\": \"animate\"}], \"direction\": \"left\", \"pad\": {\"r\": 10, \"t\": 70}, \"showactive\": false, \"type\": \"buttons\", \"x\": 0.1, \"xanchor\": \"right\", \"y\": 0, \"yanchor\": \"top\"}]},\n",
       "                        {\"responsive\": true}\n",
       "                    ).then(function(){\n",
       "                            Plotly.addFrames('7b49b357-e83e-44cf-bcee-be00049ac652', [{\"data\": [{\"geo\": \"geo\", \"hoverlabel\": {\"namelength\": 0}, \"hovertemplate\": \"Region=01-Bas-Saint-Laurent<br>Date of Infection=13th<br>Total Number of Cases=%{marker.size}<br>Lat=%{lat}<br>Long=%{lon}\", \"lat\": [48.333333], \"legendgroup\": \"01-Bas-Saint-Laurent\", \"lon\": [-68.666667], \"marker\": {\"color\": \"#636efa\", \"size\": [0.0], \"sizemode\": \"area\", \"sizeref\": 0.67}, \"name\": \"01-Bas-Saint-Laurent\", \"showlegend\": true, \"type\": \"scattergeo\"}, {\"geo\": \"geo\", \"hoverlabel\": {\"namelength\": 0}, \"hovertemplate\": \"Region=02- Saguenay-Lac-Saint-Jean<br>Date of Infection=13th<br>Total Number of Cases=%{marker.size}<br>Lat=%{lat}<br>Long=%{lon}\", \"lat\": [49.8667], \"legendgroup\": \"02- Saguenay-Lac-Saint-Jean\", \"lon\": [-71.75], \"marker\": {\"color\": \"#EF553B\", \"size\": [0.0], \"sizemode\": \"area\", \"sizeref\": 0.67}, \"name\": \"02- Saguenay-Lac-Saint-Jean\", \"showlegend\": true, \"type\": \"scattergeo\"}, {\"geo\": \"geo\", \"hoverlabel\": {\"namelength\": 0}, \"hovertemplate\": \"Region=03- Capitale-Nationale<br>Date of Infection=13th<br>Total Number of Cases=%{marker.size}<br>Lat=%{lat}<br>Long=%{lon}\", \"lat\": [47.333333], \"legendgroup\": \"03- Capitale-Nationale\", \"lon\": [-71.5], \"marker\": {\"color\": \"#00cc96\", \"size\": [0.0], \"sizemode\": \"area\", \"sizeref\": 0.67}, \"name\": \"03- Capitale-Nationale\", \"showlegend\": true, \"type\": \"scattergeo\"}, {\"geo\": \"geo\", \"hoverlabel\": {\"namelength\": 0}, \"hovertemplate\": \"Region=04-Mauricie<br>Date of Infection=13th<br>Total Number of Cases=%{marker.size}<br>Lat=%{lat}<br>Long=%{lon}\", \"lat\": [47.0], \"legendgroup\": \"04-Mauricie\", \"lon\": [-73.0], \"marker\": {\"color\": \"#ab63fa\", \"size\": [1.0], \"sizemode\": \"area\", \"sizeref\": 0.67}, \"name\": \"04-Mauricie\", \"showlegend\": true, \"type\": \"scattergeo\"}, {\"geo\": \"geo\", \"hoverlabel\": {\"namelength\": 0}, \"hovertemplate\": \"Region=05-Estrie<br>Date of Infection=13th<br>Total Number of Cases=%{marker.size}<br>Lat=%{lat}<br>Long=%{lon}\", \"lat\": [45.481556], \"legendgroup\": \"05-Estrie\", \"lon\": [-71.667917], \"marker\": {\"color\": \"#FFA15A\", \"size\": [2.0], \"sizemode\": \"area\", \"sizeref\": 0.67}, \"name\": \"05-Estrie\", \"showlegend\": true, \"type\": \"scattergeo\"}, {\"geo\": \"geo\", \"hoverlabel\": {\"namelength\": 0}, \"hovertemplate\": \"Region=06-Montreal<br>Date of Infection=13th<br>Total Number of Cases=%{marker.size}<br>Lat=%{lat}<br>Long=%{lon}\", \"lat\": [45.5], \"legendgroup\": \"06-Montreal\", \"lon\": [-73.566667], \"marker\": {\"color\": \"#19d3f3\", \"size\": [7.0], \"sizemode\": \"area\", \"sizeref\": 0.67}, \"name\": \"06-Montreal\", \"showlegend\": true, \"type\": \"scattergeo\"}, {\"geo\": \"geo\", \"hoverlabel\": {\"namelength\": 0}, \"hovertemplate\": \"Region=07-Outauais<br>Date of Infection=13th<br>Total Number of Cases=%{marker.size}<br>Lat=%{lat}<br>Long=%{lon}\", \"lat\": [45.783333], \"legendgroup\": \"07-Outauais\", \"lon\": [-75.083333], \"marker\": {\"color\": \"#FF6692\", \"size\": [0.0], \"sizemode\": \"area\", \"sizeref\": 0.67}, \"name\": \"07-Outauais\", \"showlegend\": true, \"type\": \"scattergeo\"}, {\"geo\": \"geo\", \"hoverlabel\": {\"namelength\": 0}, \"hovertemplate\": \"Region=08-Abititi-Temiscaminigue<br>Date of Infection=13th<br>Total Number of Cases=%{marker.size}<br>Lat=%{lat}<br>Long=%{lon}\", \"lat\": [48.233333], \"legendgroup\": \"08-Abititi-Temiscaminigue\", \"lon\": [-79.016667], \"marker\": {\"color\": \"#B6E880\", \"size\": [0.0], \"sizemode\": \"area\", \"sizeref\": 0.67}, \"name\": \"08-Abititi-Temiscaminigue\", \"showlegend\": true, \"type\": \"scattergeo\"}, {\"geo\": \"geo\", \"hoverlabel\": {\"namelength\": 0}, \"hovertemplate\": \"Region=9-Cote-Nord<br>Date of Infection=13th<br>Total Number of Cases=%{marker.size}<br>Lat=%{lat}<br>Long=%{lon}\", \"lat\": [50.866667], \"legendgroup\": \"9-Cote-Nord\", \"lon\": [-65.816667], \"marker\": {\"color\": \"#FF97FF\", \"size\": [0.0], \"sizemode\": \"area\", \"sizeref\": 0.67}, \"name\": \"9-Cote-Nord\", \"showlegend\": true, \"type\": \"scattergeo\"}, {\"geo\": \"geo\", \"hoverlabel\": {\"namelength\": 0}, \"hovertemplate\": \"Region=10-Nord-du-Quebec<br>Date of Infection=13th<br>Total Number of Cases=%{marker.size}<br>Lat=%{lat}<br>Long=%{lon}\", \"lat\": [56.166667], \"legendgroup\": \"10-Nord-du-Quebec\", \"lon\": [-74.416667], \"marker\": {\"color\": \"#FECB52\", \"size\": [0.0], \"sizemode\": \"area\", \"sizeref\": 0.67}, \"name\": \"10-Nord-du-Quebec\", \"showlegend\": true, \"type\": \"scattergeo\"}, {\"geo\": \"geo\", \"hoverlabel\": {\"namelength\": 0}, \"hovertemplate\": \"Region=11- Gaspesie-Iles-de-la-Madelaine<br>Date of Infection=13th<br>Total Number of Cases=%{marker.size}<br>Lat=%{lat}<br>Long=%{lon}\", \"lat\": [48.683333], \"legendgroup\": \"11- Gaspesie-Iles-de-la-Madelaine\", \"lon\": [-65.4], \"marker\": {\"color\": \"#636efa\", \"size\": [0.0], \"sizemode\": \"area\", \"sizeref\": 0.67}, \"name\": \"11- Gaspesie-Iles-de-la-Madelaine\", \"showlegend\": true, \"type\": \"scattergeo\"}, {\"geo\": \"geo\", \"hoverlabel\": {\"namelength\": 0}, \"hovertemplate\": \"Region=12-Chaudiere-Appalaches<br>Date of Infection=13th<br>Total Number of Cases=%{marker.size}<br>Lat=%{lat}<br>Long=%{lon}\", \"lat\": [46.483333], \"legendgroup\": \"12-Chaudiere-Appalaches\", \"lon\": [-70.616667], \"marker\": {\"color\": \"#EF553B\", \"size\": [1.0], \"sizemode\": \"area\", \"sizeref\": 0.67}, \"name\": \"12-Chaudiere-Appalaches\", \"showlegend\": true, \"type\": \"scattergeo\"}, {\"geo\": \"geo\", \"hoverlabel\": {\"namelength\": 0}, \"hovertemplate\": \"Region=13- Laval<br>Date of Infection=13th<br>Total Number of Cases=%{marker.size}<br>Lat=%{lat}<br>Long=%{lon}\", \"lat\": [45.583333], \"legendgroup\": \"13- Laval\", \"lon\": [-73.75], \"marker\": {\"color\": \"#00cc96\", \"size\": [0.0], \"sizemode\": \"area\", \"sizeref\": 0.67}, \"name\": \"13- Laval\", \"showlegend\": true, \"type\": \"scattergeo\"}, {\"geo\": \"geo\", \"hoverlabel\": {\"namelength\": 0}, \"hovertemplate\": \"Region=14- Lanaudiere<br>Date of Infection=13th<br>Total Number of Cases=%{marker.size}<br>Lat=%{lat}<br>Long=%{lon}\", \"lat\": [46.766667], \"legendgroup\": \"14- Lanaudiere\", \"lon\": [-73.833333], \"marker\": {\"color\": \"#ab63fa\", \"size\": [0.0], \"sizemode\": \"area\", \"sizeref\": 0.67}, \"name\": \"14- Lanaudiere\", \"showlegend\": true, \"type\": \"scattergeo\"}, {\"geo\": \"geo\", \"hoverlabel\": {\"namelength\": 0}, \"hovertemplate\": \"Region=15- Laurentides<br>Date of Infection=13th<br>Total Number of Cases=%{marker.size}<br>Lat=%{lat}<br>Long=%{lon}\", \"lat\": [46.433333], \"legendgroup\": \"15- Laurentides\", \"lon\": [-74.983333], \"marker\": {\"color\": \"#FFA15A\", \"size\": [2.0], \"sizemode\": \"area\", \"sizeref\": 0.67}, \"name\": \"15- Laurentides\", \"showlegend\": true, \"type\": \"scattergeo\"}, {\"geo\": \"geo\", \"hoverlabel\": {\"namelength\": 0}, \"hovertemplate\": \"Region=16- Monteregie<br>Date of Infection=13th<br>Total Number of Cases=%{marker.size}<br>Lat=%{lat}<br>Long=%{lon}\", \"lat\": [45.383333], \"legendgroup\": \"16- Monteregie\", \"lon\": [-73.1], \"marker\": {\"color\": \"#19d3f3\", \"size\": [4.0], \"sizemode\": \"area\", \"sizeref\": 0.67}, \"name\": \"16- Monteregie\", \"showlegend\": true, \"type\": \"scattergeo\"}, {\"geo\": \"geo\", \"hoverlabel\": {\"namelength\": 0}, \"hovertemplate\": \"Region=17- Centre du Quebec<br>Date of Infection=13th<br>Total Number of Cases=%{marker.size}<br>Lat=%{lat}<br>Long=%{lon}\", \"lat\": [46.283333], \"legendgroup\": \"17- Centre du Quebec\", \"lon\": [-72.066667], \"marker\": {\"color\": \"#FF6692\", \"size\": [0.0], \"sizemode\": \"area\", \"sizeref\": 0.67}, \"name\": \"17- Centre du Quebec\", \"showlegend\": true, \"type\": \"scattergeo\"}, {\"geo\": \"geo\", \"hoverlabel\": {\"namelength\": 0}, \"hovertemplate\": \"Region=Undetermined<br>Date of Infection=13th<br>Total Number of Cases=%{marker.size}<br>Lat=%{lat}<br>Long=%{lon}\", \"lat\": [\"na\"], \"legendgroup\": \"Undetermined\", \"lon\": [\"na\"], \"marker\": {\"color\": \"#B6E880\", \"size\": [0.0], \"sizemode\": \"area\", \"sizeref\": 0.67}, \"name\": \"Undetermined\", \"showlegend\": true, \"type\": \"scattergeo\"}, {\"geo\": \"geo\", \"hoverlabel\": {\"namelength\": 0}, \"hovertemplate\": \"Region=Hors Quebec<br>Date of Infection=13th<br>Total Number of Cases=%{marker.size}<br>Lat=%{lat}<br>Long=%{lon}\", \"lat\": [\"na\"], \"legendgroup\": \"Hors Quebec\", \"lon\": [\"na\"], \"marker\": {\"color\": \"#FF97FF\", \"size\": [0.0], \"sizemode\": \"area\", \"sizeref\": 0.67}, \"name\": \"Hors Quebec\", \"showlegend\": true, \"type\": \"scattergeo\"}], \"name\": \"13th\"}, {\"data\": [{\"geo\": \"geo\", \"hoverlabel\": {\"namelength\": 0}, \"hovertemplate\": \"Region=01-Bas-Saint-Laurent<br>Date of Infection=14th<br>Total Number of Cases=%{marker.size}<br>Lat=%{lat}<br>Long=%{lon}\", \"lat\": [48.333333], \"legendgroup\": \"01-Bas-Saint-Laurent\", \"lon\": [-68.666667], \"marker\": {\"color\": \"#636efa\", \"size\": [0.0], \"sizemode\": \"area\", \"sizeref\": 0.67}, \"name\": \"01-Bas-Saint-Laurent\", \"showlegend\": true, \"type\": \"scattergeo\"}, {\"geo\": \"geo\", \"hoverlabel\": {\"namelength\": 0}, \"hovertemplate\": \"Region=02- Saguenay-Lac-Saint-Jean<br>Date of Infection=14th<br>Total Number of Cases=%{marker.size}<br>Lat=%{lat}<br>Long=%{lon}\", \"lat\": [49.8667], \"legendgroup\": \"02- Saguenay-Lac-Saint-Jean\", \"lon\": [-71.75], \"marker\": {\"color\": \"#EF553B\", \"size\": [0.0], \"sizemode\": \"area\", \"sizeref\": 0.67}, \"name\": \"02- Saguenay-Lac-Saint-Jean\", \"showlegend\": true, \"type\": \"scattergeo\"}, {\"geo\": \"geo\", \"hoverlabel\": {\"namelength\": 0}, \"hovertemplate\": \"Region=03- Capitale-Nationale<br>Date of Infection=14th<br>Total Number of Cases=%{marker.size}<br>Lat=%{lat}<br>Long=%{lon}\", \"lat\": [47.333333], \"legendgroup\": \"03- Capitale-Nationale\", \"lon\": [-71.5], \"marker\": {\"color\": \"#00cc96\", \"size\": [0.0], \"sizemode\": \"area\", \"sizeref\": 0.67}, \"name\": \"03- Capitale-Nationale\", \"showlegend\": true, \"type\": \"scattergeo\"}, {\"geo\": \"geo\", \"hoverlabel\": {\"namelength\": 0}, \"hovertemplate\": \"Region=04-Mauricie<br>Date of Infection=14th<br>Total Number of Cases=%{marker.size}<br>Lat=%{lat}<br>Long=%{lon}\", \"lat\": [47.0], \"legendgroup\": \"04-Mauricie\", \"lon\": [-73.0], \"marker\": {\"color\": \"#ab63fa\", \"size\": [1.0], \"sizemode\": \"area\", \"sizeref\": 0.67}, \"name\": \"04-Mauricie\", \"showlegend\": true, \"type\": \"scattergeo\"}, {\"geo\": \"geo\", \"hoverlabel\": {\"namelength\": 0}, \"hovertemplate\": \"Region=05-Estrie<br>Date of Infection=14th<br>Total Number of Cases=%{marker.size}<br>Lat=%{lat}<br>Long=%{lon}\", \"lat\": [45.481556], \"legendgroup\": \"05-Estrie\", \"lon\": [-71.667917], \"marker\": {\"color\": \"#FFA15A\", \"size\": [3.0], \"sizemode\": \"area\", \"sizeref\": 0.67}, \"name\": \"05-Estrie\", \"showlegend\": true, \"type\": \"scattergeo\"}, {\"geo\": \"geo\", \"hoverlabel\": {\"namelength\": 0}, \"hovertemplate\": \"Region=06-Montreal<br>Date of Infection=14th<br>Total Number of Cases=%{marker.size}<br>Lat=%{lat}<br>Long=%{lon}\", \"lat\": [45.5], \"legendgroup\": \"06-Montreal\", \"lon\": [-73.566667], \"marker\": {\"color\": \"#19d3f3\", \"size\": [8.0], \"sizemode\": \"area\", \"sizeref\": 0.67}, \"name\": \"06-Montreal\", \"showlegend\": true, \"type\": \"scattergeo\"}, {\"geo\": \"geo\", \"hoverlabel\": {\"namelength\": 0}, \"hovertemplate\": \"Region=07-Outauais<br>Date of Infection=14th<br>Total Number of Cases=%{marker.size}<br>Lat=%{lat}<br>Long=%{lon}\", \"lat\": [45.783333], \"legendgroup\": \"07-Outauais\", \"lon\": [-75.083333], \"marker\": {\"color\": \"#FF6692\", \"size\": [0.0], \"sizemode\": \"area\", \"sizeref\": 0.67}, \"name\": \"07-Outauais\", \"showlegend\": true, \"type\": \"scattergeo\"}, {\"geo\": \"geo\", \"hoverlabel\": {\"namelength\": 0}, \"hovertemplate\": \"Region=08-Abititi-Temiscaminigue<br>Date of Infection=14th<br>Total Number of Cases=%{marker.size}<br>Lat=%{lat}<br>Long=%{lon}\", \"lat\": [48.233333], \"legendgroup\": \"08-Abititi-Temiscaminigue\", \"lon\": [-79.016667], \"marker\": {\"color\": \"#B6E880\", \"size\": [0.0], \"sizemode\": \"area\", \"sizeref\": 0.67}, \"name\": \"08-Abititi-Temiscaminigue\", \"showlegend\": true, \"type\": \"scattergeo\"}, {\"geo\": \"geo\", \"hoverlabel\": {\"namelength\": 0}, \"hovertemplate\": \"Region=9-Cote-Nord<br>Date of Infection=14th<br>Total Number of Cases=%{marker.size}<br>Lat=%{lat}<br>Long=%{lon}\", \"lat\": [50.866667], \"legendgroup\": \"9-Cote-Nord\", \"lon\": [-65.816667], \"marker\": {\"color\": \"#FF97FF\", \"size\": [0.0], \"sizemode\": \"area\", \"sizeref\": 0.67}, \"name\": \"9-Cote-Nord\", \"showlegend\": true, \"type\": \"scattergeo\"}, {\"geo\": \"geo\", \"hoverlabel\": {\"namelength\": 0}, \"hovertemplate\": \"Region=10-Nord-du-Quebec<br>Date of Infection=14th<br>Total Number of Cases=%{marker.size}<br>Lat=%{lat}<br>Long=%{lon}\", \"lat\": [56.166667], \"legendgroup\": \"10-Nord-du-Quebec\", \"lon\": [-74.416667], \"marker\": {\"color\": \"#FECB52\", \"size\": [0.0], \"sizemode\": \"area\", \"sizeref\": 0.67}, \"name\": \"10-Nord-du-Quebec\", \"showlegend\": true, \"type\": \"scattergeo\"}, {\"geo\": \"geo\", \"hoverlabel\": {\"namelength\": 0}, \"hovertemplate\": \"Region=11- Gaspesie-Iles-de-la-Madelaine<br>Date of Infection=14th<br>Total Number of Cases=%{marker.size}<br>Lat=%{lat}<br>Long=%{lon}\", \"lat\": [48.683333], \"legendgroup\": \"11- Gaspesie-Iles-de-la-Madelaine\", \"lon\": [-65.4], \"marker\": {\"color\": \"#636efa\", \"size\": [0.0], \"sizemode\": \"area\", \"sizeref\": 0.67}, \"name\": \"11- Gaspesie-Iles-de-la-Madelaine\", \"showlegend\": true, \"type\": \"scattergeo\"}, {\"geo\": \"geo\", \"hoverlabel\": {\"namelength\": 0}, \"hovertemplate\": \"Region=12-Chaudiere-Appalaches<br>Date of Infection=14th<br>Total Number of Cases=%{marker.size}<br>Lat=%{lat}<br>Long=%{lon}\", \"lat\": [46.483333], \"legendgroup\": \"12-Chaudiere-Appalaches\", \"lon\": [-70.616667], \"marker\": {\"color\": \"#EF553B\", \"size\": [1.0], \"sizemode\": \"area\", \"sizeref\": 0.67}, \"name\": \"12-Chaudiere-Appalaches\", \"showlegend\": true, \"type\": \"scattergeo\"}, {\"geo\": \"geo\", \"hoverlabel\": {\"namelength\": 0}, \"hovertemplate\": \"Region=13- Laval<br>Date of Infection=14th<br>Total Number of Cases=%{marker.size}<br>Lat=%{lat}<br>Long=%{lon}\", \"lat\": [45.583333], \"legendgroup\": \"13- Laval\", \"lon\": [-73.75], \"marker\": {\"color\": \"#00cc96\", \"size\": [0.0], \"sizemode\": \"area\", \"sizeref\": 0.67}, \"name\": \"13- Laval\", \"showlegend\": true, \"type\": \"scattergeo\"}, {\"geo\": \"geo\", \"hoverlabel\": {\"namelength\": 0}, \"hovertemplate\": \"Region=14- Lanaudiere<br>Date of Infection=14th<br>Total Number of Cases=%{marker.size}<br>Lat=%{lat}<br>Long=%{lon}\", \"lat\": [46.766667], \"legendgroup\": \"14- Lanaudiere\", \"lon\": [-73.833333], \"marker\": {\"color\": \"#ab63fa\", \"size\": [1.0], \"sizemode\": \"area\", \"sizeref\": 0.67}, \"name\": \"14- Lanaudiere\", \"showlegend\": true, \"type\": \"scattergeo\"}, {\"geo\": \"geo\", \"hoverlabel\": {\"namelength\": 0}, \"hovertemplate\": \"Region=15- Laurentides<br>Date of Infection=14th<br>Total Number of Cases=%{marker.size}<br>Lat=%{lat}<br>Long=%{lon}\", \"lat\": [46.433333], \"legendgroup\": \"15- Laurentides\", \"lon\": [-74.983333], \"marker\": {\"color\": \"#FFA15A\", \"size\": [2.0], \"sizemode\": \"area\", \"sizeref\": 0.67}, \"name\": \"15- Laurentides\", \"showlegend\": true, \"type\": \"scattergeo\"}, {\"geo\": \"geo\", \"hoverlabel\": {\"namelength\": 0}, \"hovertemplate\": \"Region=16- Monteregie<br>Date of Infection=14th<br>Total Number of Cases=%{marker.size}<br>Lat=%{lat}<br>Long=%{lon}\", \"lat\": [45.383333], \"legendgroup\": \"16- Monteregie\", \"lon\": [-73.1], \"marker\": {\"color\": \"#19d3f3\", \"size\": [7.0], \"sizemode\": \"area\", \"sizeref\": 0.67}, \"name\": \"16- Monteregie\", \"showlegend\": true, \"type\": \"scattergeo\"}, {\"geo\": \"geo\", \"hoverlabel\": {\"namelength\": 0}, \"hovertemplate\": \"Region=17- Centre du Quebec<br>Date of Infection=14th<br>Total Number of Cases=%{marker.size}<br>Lat=%{lat}<br>Long=%{lon}\", \"lat\": [46.283333], \"legendgroup\": \"17- Centre du Quebec\", \"lon\": [-72.066667], \"marker\": {\"color\": \"#FF6692\", \"size\": [0.0], \"sizemode\": \"area\", \"sizeref\": 0.67}, \"name\": \"17- Centre du Quebec\", \"showlegend\": true, \"type\": \"scattergeo\"}, {\"geo\": \"geo\", \"hoverlabel\": {\"namelength\": 0}, \"hovertemplate\": \"Region=Undetermined<br>Date of Infection=14th<br>Total Number of Cases=%{marker.size}<br>Lat=%{lat}<br>Long=%{lon}\", \"lat\": [\"na\"], \"legendgroup\": \"Undetermined\", \"lon\": [\"na\"], \"marker\": {\"color\": \"#B6E880\", \"size\": [1.0], \"sizemode\": \"area\", \"sizeref\": 0.67}, \"name\": \"Undetermined\", \"showlegend\": true, \"type\": \"scattergeo\"}, {\"geo\": \"geo\", \"hoverlabel\": {\"namelength\": 0}, \"hovertemplate\": \"Region=Hors Quebec<br>Date of Infection=14th<br>Total Number of Cases=%{marker.size}<br>Lat=%{lat}<br>Long=%{lon}\", \"lat\": [\"na\"], \"legendgroup\": \"Hors Quebec\", \"lon\": [\"na\"], \"marker\": {\"color\": \"#FF97FF\", \"size\": [0.0], \"sizemode\": \"area\", \"sizeref\": 0.67}, \"name\": \"Hors Quebec\", \"showlegend\": true, \"type\": \"scattergeo\"}], \"name\": \"14th\"}, {\"data\": [{\"geo\": \"geo\", \"hoverlabel\": {\"namelength\": 0}, \"hovertemplate\": \"Region=01-Bas-Saint-Laurent<br>Date of Infection=15th<br>Total Number of Cases=%{marker.size}<br>Lat=%{lat}<br>Long=%{lon}\", \"lat\": [48.333333], \"legendgroup\": \"01-Bas-Saint-Laurent\", \"lon\": [-68.666667], \"marker\": {\"color\": \"#636efa\", \"size\": [0.0], \"sizemode\": \"area\", \"sizeref\": 0.67}, \"name\": \"01-Bas-Saint-Laurent\", \"showlegend\": true, \"type\": \"scattergeo\"}, {\"geo\": \"geo\", \"hoverlabel\": {\"namelength\": 0}, \"hovertemplate\": \"Region=02- Saguenay-Lac-Saint-Jean<br>Date of Infection=15th<br>Total Number of Cases=%{marker.size}<br>Lat=%{lat}<br>Long=%{lon}\", \"lat\": [49.8667], \"legendgroup\": \"02- Saguenay-Lac-Saint-Jean\", \"lon\": [-71.75], \"marker\": {\"color\": \"#EF553B\", \"size\": [0.0], \"sizemode\": \"area\", \"sizeref\": 0.67}, \"name\": \"02- Saguenay-Lac-Saint-Jean\", \"showlegend\": true, \"type\": \"scattergeo\"}, {\"geo\": \"geo\", \"hoverlabel\": {\"namelength\": 0}, \"hovertemplate\": \"Region=03- Capitale-Nationale<br>Date of Infection=15th<br>Total Number of Cases=%{marker.size}<br>Lat=%{lat}<br>Long=%{lon}\", \"lat\": [47.333333], \"legendgroup\": \"03- Capitale-Nationale\", \"lon\": [-71.5], \"marker\": {\"color\": \"#00cc96\", \"size\": [2.0], \"sizemode\": \"area\", \"sizeref\": 0.67}, \"name\": \"03- Capitale-Nationale\", \"showlegend\": true, \"type\": \"scattergeo\"}, {\"geo\": \"geo\", \"hoverlabel\": {\"namelength\": 0}, \"hovertemplate\": \"Region=04-Mauricie<br>Date of Infection=15th<br>Total Number of Cases=%{marker.size}<br>Lat=%{lat}<br>Long=%{lon}\", \"lat\": [47.0], \"legendgroup\": \"04-Mauricie\", \"lon\": [-73.0], \"marker\": {\"color\": \"#ab63fa\", \"size\": [3.0], \"sizemode\": \"area\", \"sizeref\": 0.67}, \"name\": \"04-Mauricie\", \"showlegend\": true, \"type\": \"scattergeo\"}, {\"geo\": \"geo\", \"hoverlabel\": {\"namelength\": 0}, \"hovertemplate\": \"Region=05-Estrie<br>Date of Infection=15th<br>Total Number of Cases=%{marker.size}<br>Lat=%{lat}<br>Long=%{lon}\", \"lat\": [45.481556], \"legendgroup\": \"05-Estrie\", \"lon\": [-71.667917], \"marker\": {\"color\": \"#FFA15A\", \"size\": [4.0], \"sizemode\": \"area\", \"sizeref\": 0.67}, \"name\": \"05-Estrie\", \"showlegend\": true, \"type\": \"scattergeo\"}, {\"geo\": \"geo\", \"hoverlabel\": {\"namelength\": 0}, \"hovertemplate\": \"Region=06-Montreal<br>Date of Infection=15th<br>Total Number of Cases=%{marker.size}<br>Lat=%{lat}<br>Long=%{lon}\", \"lat\": [45.5], \"legendgroup\": \"06-Montreal\", \"lon\": [-73.566667], \"marker\": {\"color\": \"#19d3f3\", \"size\": [10.0], \"sizemode\": \"area\", \"sizeref\": 0.67}, \"name\": \"06-Montreal\", \"showlegend\": true, \"type\": \"scattergeo\"}, {\"geo\": \"geo\", \"hoverlabel\": {\"namelength\": 0}, \"hovertemplate\": \"Region=07-Outauais<br>Date of Infection=15th<br>Total Number of Cases=%{marker.size}<br>Lat=%{lat}<br>Long=%{lon}\", \"lat\": [45.783333], \"legendgroup\": \"07-Outauais\", \"lon\": [-75.083333], \"marker\": {\"color\": \"#FF6692\", \"size\": [0.0], \"sizemode\": \"area\", \"sizeref\": 0.67}, \"name\": \"07-Outauais\", \"showlegend\": true, \"type\": \"scattergeo\"}, {\"geo\": \"geo\", \"hoverlabel\": {\"namelength\": 0}, \"hovertemplate\": \"Region=08-Abititi-Temiscaminigue<br>Date of Infection=15th<br>Total Number of Cases=%{marker.size}<br>Lat=%{lat}<br>Long=%{lon}\", \"lat\": [48.233333], \"legendgroup\": \"08-Abititi-Temiscaminigue\", \"lon\": [-79.016667], \"marker\": {\"color\": \"#B6E880\", \"size\": [0.0], \"sizemode\": \"area\", \"sizeref\": 0.67}, \"name\": \"08-Abititi-Temiscaminigue\", \"showlegend\": true, \"type\": \"scattergeo\"}, {\"geo\": \"geo\", \"hoverlabel\": {\"namelength\": 0}, \"hovertemplate\": \"Region=9-Cote-Nord<br>Date of Infection=15th<br>Total Number of Cases=%{marker.size}<br>Lat=%{lat}<br>Long=%{lon}\", \"lat\": [50.866667], \"legendgroup\": \"9-Cote-Nord\", \"lon\": [-65.816667], \"marker\": {\"color\": \"#FF97FF\", \"size\": [0.0], \"sizemode\": \"area\", \"sizeref\": 0.67}, \"name\": \"9-Cote-Nord\", \"showlegend\": true, \"type\": \"scattergeo\"}, {\"geo\": \"geo\", \"hoverlabel\": {\"namelength\": 0}, \"hovertemplate\": \"Region=10-Nord-du-Quebec<br>Date of Infection=15th<br>Total Number of Cases=%{marker.size}<br>Lat=%{lat}<br>Long=%{lon}\", \"lat\": [56.166667], \"legendgroup\": \"10-Nord-du-Quebec\", \"lon\": [-74.416667], \"marker\": {\"color\": \"#FECB52\", \"size\": [0.0], \"sizemode\": \"area\", \"sizeref\": 0.67}, \"name\": \"10-Nord-du-Quebec\", \"showlegend\": true, \"type\": \"scattergeo\"}, {\"geo\": \"geo\", \"hoverlabel\": {\"namelength\": 0}, \"hovertemplate\": \"Region=11- Gaspesie-Iles-de-la-Madelaine<br>Date of Infection=15th<br>Total Number of Cases=%{marker.size}<br>Lat=%{lat}<br>Long=%{lon}\", \"lat\": [48.683333], \"legendgroup\": \"11- Gaspesie-Iles-de-la-Madelaine\", \"lon\": [-65.4], \"marker\": {\"color\": \"#636efa\", \"size\": [0.0], \"sizemode\": \"area\", \"sizeref\": 0.67}, \"name\": \"11- Gaspesie-Iles-de-la-Madelaine\", \"showlegend\": true, \"type\": \"scattergeo\"}, {\"geo\": \"geo\", \"hoverlabel\": {\"namelength\": 0}, \"hovertemplate\": \"Region=12-Chaudiere-Appalaches<br>Date of Infection=15th<br>Total Number of Cases=%{marker.size}<br>Lat=%{lat}<br>Long=%{lon}\", \"lat\": [46.483333], \"legendgroup\": \"12-Chaudiere-Appalaches\", \"lon\": [-70.616667], \"marker\": {\"color\": \"#EF553B\", \"size\": [3.0], \"sizemode\": \"area\", \"sizeref\": 0.67}, \"name\": \"12-Chaudiere-Appalaches\", \"showlegend\": true, \"type\": \"scattergeo\"}, {\"geo\": \"geo\", \"hoverlabel\": {\"namelength\": 0}, \"hovertemplate\": \"Region=13- Laval<br>Date of Infection=15th<br>Total Number of Cases=%{marker.size}<br>Lat=%{lat}<br>Long=%{lon}\", \"lat\": [45.583333], \"legendgroup\": \"13- Laval\", \"lon\": [-73.75], \"marker\": {\"color\": \"#00cc96\", \"size\": [0.0], \"sizemode\": \"area\", \"sizeref\": 0.67}, \"name\": \"13- Laval\", \"showlegend\": true, \"type\": \"scattergeo\"}, {\"geo\": \"geo\", \"hoverlabel\": {\"namelength\": 0}, \"hovertemplate\": \"Region=14- Lanaudiere<br>Date of Infection=15th<br>Total Number of Cases=%{marker.size}<br>Lat=%{lat}<br>Long=%{lon}\", \"lat\": [46.766667], \"legendgroup\": \"14- Lanaudiere\", \"lon\": [-73.833333], \"marker\": {\"color\": \"#ab63fa\", \"size\": [2.0], \"sizemode\": \"area\", \"sizeref\": 0.67}, \"name\": \"14- Lanaudiere\", \"showlegend\": true, \"type\": \"scattergeo\"}, {\"geo\": \"geo\", \"hoverlabel\": {\"namelength\": 0}, \"hovertemplate\": \"Region=15- Laurentides<br>Date of Infection=15th<br>Total Number of Cases=%{marker.size}<br>Lat=%{lat}<br>Long=%{lon}\", \"lat\": [46.433333], \"legendgroup\": \"15- Laurentides\", \"lon\": [-74.983333], \"marker\": {\"color\": \"#FFA15A\", \"size\": [3.0], \"sizemode\": \"area\", \"sizeref\": 0.67}, \"name\": \"15- Laurentides\", \"showlegend\": true, \"type\": \"scattergeo\"}, {\"geo\": \"geo\", \"hoverlabel\": {\"namelength\": 0}, \"hovertemplate\": \"Region=16- Monteregie<br>Date of Infection=15th<br>Total Number of Cases=%{marker.size}<br>Lat=%{lat}<br>Long=%{lon}\", \"lat\": [45.383333], \"legendgroup\": \"16- Monteregie\", \"lon\": [-73.1], \"marker\": {\"color\": \"#19d3f3\", \"size\": [9.0], \"sizemode\": \"area\", \"sizeref\": 0.67}, \"name\": \"16- Monteregie\", \"showlegend\": true, \"type\": \"scattergeo\"}, {\"geo\": \"geo\", \"hoverlabel\": {\"namelength\": 0}, \"hovertemplate\": \"Region=17- Centre du Quebec<br>Date of Infection=15th<br>Total Number of Cases=%{marker.size}<br>Lat=%{lat}<br>Long=%{lon}\", \"lat\": [46.283333], \"legendgroup\": \"17- Centre du Quebec\", \"lon\": [-72.066667], \"marker\": {\"color\": \"#FF6692\", \"size\": [0.0], \"sizemode\": \"area\", \"sizeref\": 0.67}, \"name\": \"17- Centre du Quebec\", \"showlegend\": true, \"type\": \"scattergeo\"}, {\"geo\": \"geo\", \"hoverlabel\": {\"namelength\": 0}, \"hovertemplate\": \"Region=Undetermined<br>Date of Infection=15th<br>Total Number of Cases=%{marker.size}<br>Lat=%{lat}<br>Long=%{lon}\", \"lat\": [\"na\"], \"legendgroup\": \"Undetermined\", \"lon\": [\"na\"], \"marker\": {\"color\": \"#B6E880\", \"size\": [2.0], \"sizemode\": \"area\", \"sizeref\": 0.67}, \"name\": \"Undetermined\", \"showlegend\": true, \"type\": \"scattergeo\"}, {\"geo\": \"geo\", \"hoverlabel\": {\"namelength\": 0}, \"hovertemplate\": \"Region=Hors Quebec<br>Date of Infection=15th<br>Total Number of Cases=%{marker.size}<br>Lat=%{lat}<br>Long=%{lon}\", \"lat\": [\"na\"], \"legendgroup\": \"Hors Quebec\", \"lon\": [\"na\"], \"marker\": {\"color\": \"#FF97FF\", \"size\": [1.0], \"sizemode\": \"area\", \"sizeref\": 0.67}, \"name\": \"Hors Quebec\", \"showlegend\": true, \"type\": \"scattergeo\"}], \"name\": \"15th\"}, {\"data\": [{\"geo\": \"geo\", \"hoverlabel\": {\"namelength\": 0}, \"hovertemplate\": \"Region=01-Bas-Saint-Laurent<br>Date of Infection=16th<br>Total Number of Cases=%{marker.size}<br>Lat=%{lat}<br>Long=%{lon}\", \"lat\": [48.333333], \"legendgroup\": \"01-Bas-Saint-Laurent\", \"lon\": [-68.666667], \"marker\": {\"color\": \"#636efa\", \"size\": [0.0], \"sizemode\": \"area\", \"sizeref\": 0.67}, \"name\": \"01-Bas-Saint-Laurent\", \"showlegend\": true, \"type\": \"scattergeo\"}, {\"geo\": \"geo\", \"hoverlabel\": {\"namelength\": 0}, \"hovertemplate\": \"Region=02- Saguenay-Lac-Saint-Jean<br>Date of Infection=16th<br>Total Number of Cases=%{marker.size}<br>Lat=%{lat}<br>Long=%{lon}\", \"lat\": [49.8667], \"legendgroup\": \"02- Saguenay-Lac-Saint-Jean\", \"lon\": [-71.75], \"marker\": {\"color\": \"#EF553B\", \"size\": [0.0], \"sizemode\": \"area\", \"sizeref\": 0.67}, \"name\": \"02- Saguenay-Lac-Saint-Jean\", \"showlegend\": true, \"type\": \"scattergeo\"}, {\"geo\": \"geo\", \"hoverlabel\": {\"namelength\": 0}, \"hovertemplate\": \"Region=03- Capitale-Nationale<br>Date of Infection=16th<br>Total Number of Cases=%{marker.size}<br>Lat=%{lat}<br>Long=%{lon}\", \"lat\": [47.333333], \"legendgroup\": \"03- Capitale-Nationale\", \"lon\": [-71.5], \"marker\": {\"color\": \"#00cc96\", \"size\": [2.0], \"sizemode\": \"area\", \"sizeref\": 0.67}, \"name\": \"03- Capitale-Nationale\", \"showlegend\": true, \"type\": \"scattergeo\"}, {\"geo\": \"geo\", \"hoverlabel\": {\"namelength\": 0}, \"hovertemplate\": \"Region=04-Mauricie<br>Date of Infection=16th<br>Total Number of Cases=%{marker.size}<br>Lat=%{lat}<br>Long=%{lon}\", \"lat\": [47.0], \"legendgroup\": \"04-Mauricie\", \"lon\": [-73.0], \"marker\": {\"color\": \"#ab63fa\", \"size\": [3.0], \"sizemode\": \"area\", \"sizeref\": 0.67}, \"name\": \"04-Mauricie\", \"showlegend\": true, \"type\": \"scattergeo\"}, {\"geo\": \"geo\", \"hoverlabel\": {\"namelength\": 0}, \"hovertemplate\": \"Region=05-Estrie<br>Date of Infection=16th<br>Total Number of Cases=%{marker.size}<br>Lat=%{lat}<br>Long=%{lon}\", \"lat\": [45.481556], \"legendgroup\": \"05-Estrie\", \"lon\": [-71.667917], \"marker\": {\"color\": \"#FFA15A\", \"size\": [4.0], \"sizemode\": \"area\", \"sizeref\": 0.67}, \"name\": \"05-Estrie\", \"showlegend\": true, \"type\": \"scattergeo\"}, {\"geo\": \"geo\", \"hoverlabel\": {\"namelength\": 0}, \"hovertemplate\": \"Region=06-Montreal<br>Date of Infection=16th<br>Total Number of Cases=%{marker.size}<br>Lat=%{lat}<br>Long=%{lon}\", \"lat\": [45.5], \"legendgroup\": \"06-Montreal\", \"lon\": [-73.566667], \"marker\": {\"color\": \"#19d3f3\", \"size\": [18.0], \"sizemode\": \"area\", \"sizeref\": 0.67}, \"name\": \"06-Montreal\", \"showlegend\": true, \"type\": \"scattergeo\"}, {\"geo\": \"geo\", \"hoverlabel\": {\"namelength\": 0}, \"hovertemplate\": \"Region=07-Outauais<br>Date of Infection=16th<br>Total Number of Cases=%{marker.size}<br>Lat=%{lat}<br>Long=%{lon}\", \"lat\": [45.783333], \"legendgroup\": \"07-Outauais\", \"lon\": [-75.083333], \"marker\": {\"color\": \"#FF6692\", \"size\": [0.0], \"sizemode\": \"area\", \"sizeref\": 0.67}, \"name\": \"07-Outauais\", \"showlegend\": true, \"type\": \"scattergeo\"}, {\"geo\": \"geo\", \"hoverlabel\": {\"namelength\": 0}, \"hovertemplate\": \"Region=08-Abititi-Temiscaminigue<br>Date of Infection=16th<br>Total Number of Cases=%{marker.size}<br>Lat=%{lat}<br>Long=%{lon}\", \"lat\": [48.233333], \"legendgroup\": \"08-Abititi-Temiscaminigue\", \"lon\": [-79.016667], \"marker\": {\"color\": \"#B6E880\", \"size\": [0.0], \"sizemode\": \"area\", \"sizeref\": 0.67}, \"name\": \"08-Abititi-Temiscaminigue\", \"showlegend\": true, \"type\": \"scattergeo\"}, {\"geo\": \"geo\", \"hoverlabel\": {\"namelength\": 0}, \"hovertemplate\": \"Region=9-Cote-Nord<br>Date of Infection=16th<br>Total Number of Cases=%{marker.size}<br>Lat=%{lat}<br>Long=%{lon}\", \"lat\": [50.866667], \"legendgroup\": \"9-Cote-Nord\", \"lon\": [-65.816667], \"marker\": {\"color\": \"#FF97FF\", \"size\": [0.0], \"sizemode\": \"area\", \"sizeref\": 0.67}, \"name\": \"9-Cote-Nord\", \"showlegend\": true, \"type\": \"scattergeo\"}, {\"geo\": \"geo\", \"hoverlabel\": {\"namelength\": 0}, \"hovertemplate\": \"Region=10-Nord-du-Quebec<br>Date of Infection=16th<br>Total Number of Cases=%{marker.size}<br>Lat=%{lat}<br>Long=%{lon}\", \"lat\": [56.166667], \"legendgroup\": \"10-Nord-du-Quebec\", \"lon\": [-74.416667], \"marker\": {\"color\": \"#FECB52\", \"size\": [0.0], \"sizemode\": \"area\", \"sizeref\": 0.67}, \"name\": \"10-Nord-du-Quebec\", \"showlegend\": true, \"type\": \"scattergeo\"}, {\"geo\": \"geo\", \"hoverlabel\": {\"namelength\": 0}, \"hovertemplate\": \"Region=11- Gaspesie-Iles-de-la-Madelaine<br>Date of Infection=16th<br>Total Number of Cases=%{marker.size}<br>Lat=%{lat}<br>Long=%{lon}\", \"lat\": [48.683333], \"legendgroup\": \"11- Gaspesie-Iles-de-la-Madelaine\", \"lon\": [-65.4], \"marker\": {\"color\": \"#636efa\", \"size\": [0.0], \"sizemode\": \"area\", \"sizeref\": 0.67}, \"name\": \"11- Gaspesie-Iles-de-la-Madelaine\", \"showlegend\": true, \"type\": \"scattergeo\"}, {\"geo\": \"geo\", \"hoverlabel\": {\"namelength\": 0}, \"hovertemplate\": \"Region=12-Chaudiere-Appalaches<br>Date of Infection=16th<br>Total Number of Cases=%{marker.size}<br>Lat=%{lat}<br>Long=%{lon}\", \"lat\": [46.483333], \"legendgroup\": \"12-Chaudiere-Appalaches\", \"lon\": [-70.616667], \"marker\": {\"color\": \"#EF553B\", \"size\": [4.0], \"sizemode\": \"area\", \"sizeref\": 0.67}, \"name\": \"12-Chaudiere-Appalaches\", \"showlegend\": true, \"type\": \"scattergeo\"}, {\"geo\": \"geo\", \"hoverlabel\": {\"namelength\": 0}, \"hovertemplate\": \"Region=13- Laval<br>Date of Infection=16th<br>Total Number of Cases=%{marker.size}<br>Lat=%{lat}<br>Long=%{lon}\", \"lat\": [45.583333], \"legendgroup\": \"13- Laval\", \"lon\": [-73.75], \"marker\": {\"color\": \"#00cc96\", \"size\": [0.0], \"sizemode\": \"area\", \"sizeref\": 0.67}, \"name\": \"13- Laval\", \"showlegend\": true, \"type\": \"scattergeo\"}, {\"geo\": \"geo\", \"hoverlabel\": {\"namelength\": 0}, \"hovertemplate\": \"Region=14- Lanaudiere<br>Date of Infection=16th<br>Total Number of Cases=%{marker.size}<br>Lat=%{lat}<br>Long=%{lon}\", \"lat\": [46.766667], \"legendgroup\": \"14- Lanaudiere\", \"lon\": [-73.833333], \"marker\": {\"color\": \"#ab63fa\", \"size\": [3.0], \"sizemode\": \"area\", \"sizeref\": 0.67}, \"name\": \"14- Lanaudiere\", \"showlegend\": true, \"type\": \"scattergeo\"}, {\"geo\": \"geo\", \"hoverlabel\": {\"namelength\": 0}, \"hovertemplate\": \"Region=15- Laurentides<br>Date of Infection=16th<br>Total Number of Cases=%{marker.size}<br>Lat=%{lat}<br>Long=%{lon}\", \"lat\": [46.433333], \"legendgroup\": \"15- Laurentides\", \"lon\": [-74.983333], \"marker\": {\"color\": \"#FFA15A\", \"size\": [3.0], \"sizemode\": \"area\", \"sizeref\": 0.67}, \"name\": \"15- Laurentides\", \"showlegend\": true, \"type\": \"scattergeo\"}, {\"geo\": \"geo\", \"hoverlabel\": {\"namelength\": 0}, \"hovertemplate\": \"Region=16- Monteregie<br>Date of Infection=16th<br>Total Number of Cases=%{marker.size}<br>Lat=%{lat}<br>Long=%{lon}\", \"lat\": [45.383333], \"legendgroup\": \"16- Monteregie\", \"lon\": [-73.1], \"marker\": {\"color\": \"#19d3f3\", \"size\": [10.0], \"sizemode\": \"area\", \"sizeref\": 0.67}, \"name\": \"16- Monteregie\", \"showlegend\": true, \"type\": \"scattergeo\"}, {\"geo\": \"geo\", \"hoverlabel\": {\"namelength\": 0}, \"hovertemplate\": \"Region=17- Centre du Quebec<br>Date of Infection=16th<br>Total Number of Cases=%{marker.size}<br>Lat=%{lat}<br>Long=%{lon}\", \"lat\": [46.283333], \"legendgroup\": \"17- Centre du Quebec\", \"lon\": [-72.066667], \"marker\": {\"color\": \"#FF6692\", \"size\": [0.0], \"sizemode\": \"area\", \"sizeref\": 0.67}, \"name\": \"17- Centre du Quebec\", \"showlegend\": true, \"type\": \"scattergeo\"}, {\"geo\": \"geo\", \"hoverlabel\": {\"namelength\": 0}, \"hovertemplate\": \"Region=Undetermined<br>Date of Infection=16th<br>Total Number of Cases=%{marker.size}<br>Lat=%{lat}<br>Long=%{lon}\", \"lat\": [\"na\"], \"legendgroup\": \"Undetermined\", \"lon\": [\"na\"], \"marker\": {\"color\": \"#B6E880\", \"size\": [3.0], \"sizemode\": \"area\", \"sizeref\": 0.67}, \"name\": \"Undetermined\", \"showlegend\": true, \"type\": \"scattergeo\"}, {\"geo\": \"geo\", \"hoverlabel\": {\"namelength\": 0}, \"hovertemplate\": \"Region=Hors Quebec<br>Date of Infection=16th<br>Total Number of Cases=%{marker.size}<br>Lat=%{lat}<br>Long=%{lon}\", \"lat\": [\"na\"], \"legendgroup\": \"Hors Quebec\", \"lon\": [\"na\"], \"marker\": {\"color\": \"#FF97FF\", \"size\": [1.0], \"sizemode\": \"area\", \"sizeref\": 0.67}, \"name\": \"Hors Quebec\", \"showlegend\": true, \"type\": \"scattergeo\"}], \"name\": \"16th\"}, {\"data\": [{\"geo\": \"geo\", \"hoverlabel\": {\"namelength\": 0}, \"hovertemplate\": \"Region=01-Bas-Saint-Laurent<br>Date of Infection=17th<br>Total Number of Cases=%{marker.size}<br>Lat=%{lat}<br>Long=%{lon}\", \"lat\": [48.333333], \"legendgroup\": \"01-Bas-Saint-Laurent\", \"lon\": [-68.666667], \"marker\": {\"color\": \"#636efa\", \"size\": [0.0], \"sizemode\": \"area\", \"sizeref\": 0.67}, \"name\": \"01-Bas-Saint-Laurent\", \"showlegend\": true, \"type\": \"scattergeo\"}, {\"geo\": \"geo\", \"hoverlabel\": {\"namelength\": 0}, \"hovertemplate\": \"Region=02- Saguenay-Lac-Saint-Jean<br>Date of Infection=17th<br>Total Number of Cases=%{marker.size}<br>Lat=%{lat}<br>Long=%{lon}\", \"lat\": [49.8667], \"legendgroup\": \"02- Saguenay-Lac-Saint-Jean\", \"lon\": [-71.75], \"marker\": {\"color\": \"#EF553B\", \"size\": [0.0], \"sizemode\": \"area\", \"sizeref\": 0.67}, \"name\": \"02- Saguenay-Lac-Saint-Jean\", \"showlegend\": true, \"type\": \"scattergeo\"}, {\"geo\": \"geo\", \"hoverlabel\": {\"namelength\": 0}, \"hovertemplate\": \"Region=03- Capitale-Nationale<br>Date of Infection=17th<br>Total Number of Cases=%{marker.size}<br>Lat=%{lat}<br>Long=%{lon}\", \"lat\": [47.333333], \"legendgroup\": \"03- Capitale-Nationale\", \"lon\": [-71.5], \"marker\": {\"color\": \"#00cc96\", \"size\": [3.0], \"sizemode\": \"area\", \"sizeref\": 0.67}, \"name\": \"03- Capitale-Nationale\", \"showlegend\": true, \"type\": \"scattergeo\"}, {\"geo\": \"geo\", \"hoverlabel\": {\"namelength\": 0}, \"hovertemplate\": \"Region=04-Mauricie<br>Date of Infection=17th<br>Total Number of Cases=%{marker.size}<br>Lat=%{lat}<br>Long=%{lon}\", \"lat\": [47.0], \"legendgroup\": \"04-Mauricie\", \"lon\": [-73.0], \"marker\": {\"color\": \"#ab63fa\", \"size\": [3.0], \"sizemode\": \"area\", \"sizeref\": 0.67}, \"name\": \"04-Mauricie\", \"showlegend\": true, \"type\": \"scattergeo\"}, {\"geo\": \"geo\", \"hoverlabel\": {\"namelength\": 0}, \"hovertemplate\": \"Region=05-Estrie<br>Date of Infection=17th<br>Total Number of Cases=%{marker.size}<br>Lat=%{lat}<br>Long=%{lon}\", \"lat\": [45.481556], \"legendgroup\": \"05-Estrie\", \"lon\": [-71.667917], \"marker\": {\"color\": \"#FFA15A\", \"size\": [9.0], \"sizemode\": \"area\", \"sizeref\": 0.67}, \"name\": \"05-Estrie\", \"showlegend\": true, \"type\": \"scattergeo\"}, {\"geo\": \"geo\", \"hoverlabel\": {\"namelength\": 0}, \"hovertemplate\": \"Region=06-Montreal<br>Date of Infection=17th<br>Total Number of Cases=%{marker.size}<br>Lat=%{lat}<br>Long=%{lon}\", \"lat\": [45.5], \"legendgroup\": \"06-Montreal\", \"lon\": [-73.566667], \"marker\": {\"color\": \"#19d3f3\", \"size\": [22.0], \"sizemode\": \"area\", \"sizeref\": 0.67}, \"name\": \"06-Montreal\", \"showlegend\": true, \"type\": \"scattergeo\"}, {\"geo\": \"geo\", \"hoverlabel\": {\"namelength\": 0}, \"hovertemplate\": \"Region=07-Outauais<br>Date of Infection=17th<br>Total Number of Cases=%{marker.size}<br>Lat=%{lat}<br>Long=%{lon}\", \"lat\": [45.783333], \"legendgroup\": \"07-Outauais\", \"lon\": [-75.083333], \"marker\": {\"color\": \"#FF6692\", \"size\": [0.0], \"sizemode\": \"area\", \"sizeref\": 0.67}, \"name\": \"07-Outauais\", \"showlegend\": true, \"type\": \"scattergeo\"}, {\"geo\": \"geo\", \"hoverlabel\": {\"namelength\": 0}, \"hovertemplate\": \"Region=08-Abititi-Temiscaminigue<br>Date of Infection=17th<br>Total Number of Cases=%{marker.size}<br>Lat=%{lat}<br>Long=%{lon}\", \"lat\": [48.233333], \"legendgroup\": \"08-Abititi-Temiscaminigue\", \"lon\": [-79.016667], \"marker\": {\"color\": \"#B6E880\", \"size\": [0.0], \"sizemode\": \"area\", \"sizeref\": 0.67}, \"name\": \"08-Abititi-Temiscaminigue\", \"showlegend\": true, \"type\": \"scattergeo\"}, {\"geo\": \"geo\", \"hoverlabel\": {\"namelength\": 0}, \"hovertemplate\": \"Region=9-Cote-Nord<br>Date of Infection=17th<br>Total Number of Cases=%{marker.size}<br>Lat=%{lat}<br>Long=%{lon}\", \"lat\": [50.866667], \"legendgroup\": \"9-Cote-Nord\", \"lon\": [-65.816667], \"marker\": {\"color\": \"#FF97FF\", \"size\": [0.0], \"sizemode\": \"area\", \"sizeref\": 0.67}, \"name\": \"9-Cote-Nord\", \"showlegend\": true, \"type\": \"scattergeo\"}, {\"geo\": \"geo\", \"hoverlabel\": {\"namelength\": 0}, \"hovertemplate\": \"Region=10-Nord-du-Quebec<br>Date of Infection=17th<br>Total Number of Cases=%{marker.size}<br>Lat=%{lat}<br>Long=%{lon}\", \"lat\": [56.166667], \"legendgroup\": \"10-Nord-du-Quebec\", \"lon\": [-74.416667], \"marker\": {\"color\": \"#FECB52\", \"size\": [0.0], \"sizemode\": \"area\", \"sizeref\": 0.67}, \"name\": \"10-Nord-du-Quebec\", \"showlegend\": true, \"type\": \"scattergeo\"}, {\"geo\": \"geo\", \"hoverlabel\": {\"namelength\": 0}, \"hovertemplate\": \"Region=11- Gaspesie-Iles-de-la-Madelaine<br>Date of Infection=17th<br>Total Number of Cases=%{marker.size}<br>Lat=%{lat}<br>Long=%{lon}\", \"lat\": [48.683333], \"legendgroup\": \"11- Gaspesie-Iles-de-la-Madelaine\", \"lon\": [-65.4], \"marker\": {\"color\": \"#636efa\", \"size\": [0.0], \"sizemode\": \"area\", \"sizeref\": 0.67}, \"name\": \"11- Gaspesie-Iles-de-la-Madelaine\", \"showlegend\": true, \"type\": \"scattergeo\"}, {\"geo\": \"geo\", \"hoverlabel\": {\"namelength\": 0}, \"hovertemplate\": \"Region=12-Chaudiere-Appalaches<br>Date of Infection=17th<br>Total Number of Cases=%{marker.size}<br>Lat=%{lat}<br>Long=%{lon}\", \"lat\": [46.483333], \"legendgroup\": \"12-Chaudiere-Appalaches\", \"lon\": [-70.616667], \"marker\": {\"color\": \"#EF553B\", \"size\": [4.0], \"sizemode\": \"area\", \"sizeref\": 0.67}, \"name\": \"12-Chaudiere-Appalaches\", \"showlegend\": true, \"type\": \"scattergeo\"}, {\"geo\": \"geo\", \"hoverlabel\": {\"namelength\": 0}, \"hovertemplate\": \"Region=13- Laval<br>Date of Infection=17th<br>Total Number of Cases=%{marker.size}<br>Lat=%{lat}<br>Long=%{lon}\", \"lat\": [45.583333], \"legendgroup\": \"13- Laval\", \"lon\": [-73.75], \"marker\": {\"color\": \"#00cc96\", \"size\": [0.0], \"sizemode\": \"area\", \"sizeref\": 0.67}, \"name\": \"13- Laval\", \"showlegend\": true, \"type\": \"scattergeo\"}, {\"geo\": \"geo\", \"hoverlabel\": {\"namelength\": 0}, \"hovertemplate\": \"Region=14- Lanaudiere<br>Date of Infection=17th<br>Total Number of Cases=%{marker.size}<br>Lat=%{lat}<br>Long=%{lon}\", \"lat\": [46.766667], \"legendgroup\": \"14- Lanaudiere\", \"lon\": [-73.833333], \"marker\": {\"color\": \"#ab63fa\", \"size\": [6.0], \"sizemode\": \"area\", \"sizeref\": 0.67}, \"name\": \"14- Lanaudiere\", \"showlegend\": true, \"type\": \"scattergeo\"}, {\"geo\": \"geo\", \"hoverlabel\": {\"namelength\": 0}, \"hovertemplate\": \"Region=15- Laurentides<br>Date of Infection=17th<br>Total Number of Cases=%{marker.size}<br>Lat=%{lat}<br>Long=%{lon}\", \"lat\": [46.433333], \"legendgroup\": \"15- Laurentides\", \"lon\": [-74.983333], \"marker\": {\"color\": \"#FFA15A\", \"size\": [7.0], \"sizemode\": \"area\", \"sizeref\": 0.67}, \"name\": \"15- Laurentides\", \"showlegend\": true, \"type\": \"scattergeo\"}, {\"geo\": \"geo\", \"hoverlabel\": {\"namelength\": 0}, \"hovertemplate\": \"Region=16- Monteregie<br>Date of Infection=17th<br>Total Number of Cases=%{marker.size}<br>Lat=%{lat}<br>Long=%{lon}\", \"lat\": [45.383333], \"legendgroup\": \"16- Monteregie\", \"lon\": [-73.1], \"marker\": {\"color\": \"#19d3f3\", \"size\": [13.0], \"sizemode\": \"area\", \"sizeref\": 0.67}, \"name\": \"16- Monteregie\", \"showlegend\": true, \"type\": \"scattergeo\"}, {\"geo\": \"geo\", \"hoverlabel\": {\"namelength\": 0}, \"hovertemplate\": \"Region=17- Centre du Quebec<br>Date of Infection=17th<br>Total Number of Cases=%{marker.size}<br>Lat=%{lat}<br>Long=%{lon}\", \"lat\": [46.283333], \"legendgroup\": \"17- Centre du Quebec\", \"lon\": [-72.066667], \"marker\": {\"color\": \"#FF6692\", \"size\": [0.0], \"sizemode\": \"area\", \"sizeref\": 0.67}, \"name\": \"17- Centre du Quebec\", \"showlegend\": true, \"type\": \"scattergeo\"}, {\"geo\": \"geo\", \"hoverlabel\": {\"namelength\": 0}, \"hovertemplate\": \"Region=Undetermined<br>Date of Infection=17th<br>Total Number of Cases=%{marker.size}<br>Lat=%{lat}<br>Long=%{lon}\", \"lat\": [\"na\"], \"legendgroup\": \"Undetermined\", \"lon\": [\"na\"], \"marker\": {\"color\": \"#B6E880\", \"size\": [5.0], \"sizemode\": \"area\", \"sizeref\": 0.67}, \"name\": \"Undetermined\", \"showlegend\": true, \"type\": \"scattergeo\"}, {\"geo\": \"geo\", \"hoverlabel\": {\"namelength\": 0}, \"hovertemplate\": \"Region=Hors Quebec<br>Date of Infection=17th<br>Total Number of Cases=%{marker.size}<br>Lat=%{lat}<br>Long=%{lon}\", \"lat\": [\"na\"], \"legendgroup\": \"Hors Quebec\", \"lon\": [\"na\"], \"marker\": {\"color\": \"#FF97FF\", \"size\": [2.0], \"sizemode\": \"area\", \"sizeref\": 0.67}, \"name\": \"Hors Quebec\", \"showlegend\": true, \"type\": \"scattergeo\"}], \"name\": \"17th\"}, {\"data\": [{\"geo\": \"geo\", \"hoverlabel\": {\"namelength\": 0}, \"hovertemplate\": \"Region=01-Bas-Saint-Laurent<br>Date of Infection=18th<br>Total Number of Cases=%{marker.size}<br>Lat=%{lat}<br>Long=%{lon}\", \"lat\": [48.333333], \"legendgroup\": \"01-Bas-Saint-Laurent\", \"lon\": [-68.666667], \"marker\": {\"color\": \"#636efa\", \"size\": [0.0], \"sizemode\": \"area\", \"sizeref\": 0.67}, \"name\": \"01-Bas-Saint-Laurent\", \"showlegend\": true, \"type\": \"scattergeo\"}, {\"geo\": \"geo\", \"hoverlabel\": {\"namelength\": 0}, \"hovertemplate\": \"Region=02- Saguenay-Lac-Saint-Jean<br>Date of Infection=18th<br>Total Number of Cases=%{marker.size}<br>Lat=%{lat}<br>Long=%{lon}\", \"lat\": [49.8667], \"legendgroup\": \"02- Saguenay-Lac-Saint-Jean\", \"lon\": [-71.75], \"marker\": {\"color\": \"#EF553B\", \"size\": [0.0], \"sizemode\": \"area\", \"sizeref\": 0.67}, \"name\": \"02- Saguenay-Lac-Saint-Jean\", \"showlegend\": true, \"type\": \"scattergeo\"}, {\"geo\": \"geo\", \"hoverlabel\": {\"namelength\": 0}, \"hovertemplate\": \"Region=03- Capitale-Nationale<br>Date of Infection=18th<br>Total Number of Cases=%{marker.size}<br>Lat=%{lat}<br>Long=%{lon}\", \"lat\": [47.333333], \"legendgroup\": \"03- Capitale-Nationale\", \"lon\": [-71.5], \"marker\": {\"color\": \"#00cc96\", \"size\": [8.0], \"sizemode\": \"area\", \"sizeref\": 0.67}, \"name\": \"03- Capitale-Nationale\", \"showlegend\": true, \"type\": \"scattergeo\"}, {\"geo\": \"geo\", \"hoverlabel\": {\"namelength\": 0}, \"hovertemplate\": \"Region=04-Mauricie<br>Date of Infection=18th<br>Total Number of Cases=%{marker.size}<br>Lat=%{lat}<br>Long=%{lon}\", \"lat\": [47.0], \"legendgroup\": \"04-Mauricie\", \"lon\": [-73.0], \"marker\": {\"color\": \"#ab63fa\", \"size\": [3.0], \"sizemode\": \"area\", \"sizeref\": 0.67}, \"name\": \"04-Mauricie\", \"showlegend\": true, \"type\": \"scattergeo\"}, {\"geo\": \"geo\", \"hoverlabel\": {\"namelength\": 0}, \"hovertemplate\": \"Region=05-Estrie<br>Date of Infection=18th<br>Total Number of Cases=%{marker.size}<br>Lat=%{lat}<br>Long=%{lon}\", \"lat\": [45.481556], \"legendgroup\": \"05-Estrie\", \"lon\": [-71.667917], \"marker\": {\"color\": \"#FFA15A\", \"size\": [18.0], \"sizemode\": \"area\", \"sizeref\": 0.67}, \"name\": \"05-Estrie\", \"showlegend\": true, \"type\": \"scattergeo\"}, {\"geo\": \"geo\", \"hoverlabel\": {\"namelength\": 0}, \"hovertemplate\": \"Region=06-Montreal<br>Date of Infection=18th<br>Total Number of Cases=%{marker.size}<br>Lat=%{lat}<br>Long=%{lon}\", \"lat\": [45.5], \"legendgroup\": \"06-Montreal\", \"lon\": [-73.566667], \"marker\": {\"color\": \"#19d3f3\", \"size\": [24.0], \"sizemode\": \"area\", \"sizeref\": 0.67}, \"name\": \"06-Montreal\", \"showlegend\": true, \"type\": \"scattergeo\"}, {\"geo\": \"geo\", \"hoverlabel\": {\"namelength\": 0}, \"hovertemplate\": \"Region=07-Outauais<br>Date of Infection=18th<br>Total Number of Cases=%{marker.size}<br>Lat=%{lat}<br>Long=%{lon}\", \"lat\": [45.783333], \"legendgroup\": \"07-Outauais\", \"lon\": [-75.083333], \"marker\": {\"color\": \"#FF6692\", \"size\": [1.0], \"sizemode\": \"area\", \"sizeref\": 0.67}, \"name\": \"07-Outauais\", \"showlegend\": true, \"type\": \"scattergeo\"}, {\"geo\": \"geo\", \"hoverlabel\": {\"namelength\": 0}, \"hovertemplate\": \"Region=08-Abititi-Temiscaminigue<br>Date of Infection=18th<br>Total Number of Cases=%{marker.size}<br>Lat=%{lat}<br>Long=%{lon}\", \"lat\": [48.233333], \"legendgroup\": \"08-Abititi-Temiscaminigue\", \"lon\": [-79.016667], \"marker\": {\"color\": \"#B6E880\", \"size\": [0.0], \"sizemode\": \"area\", \"sizeref\": 0.67}, \"name\": \"08-Abititi-Temiscaminigue\", \"showlegend\": true, \"type\": \"scattergeo\"}, {\"geo\": \"geo\", \"hoverlabel\": {\"namelength\": 0}, \"hovertemplate\": \"Region=9-Cote-Nord<br>Date of Infection=18th<br>Total Number of Cases=%{marker.size}<br>Lat=%{lat}<br>Long=%{lon}\", \"lat\": [50.866667], \"legendgroup\": \"9-Cote-Nord\", \"lon\": [-65.816667], \"marker\": {\"color\": \"#FF97FF\", \"size\": [0.0], \"sizemode\": \"area\", \"sizeref\": 0.67}, \"name\": \"9-Cote-Nord\", \"showlegend\": true, \"type\": \"scattergeo\"}, {\"geo\": \"geo\", \"hoverlabel\": {\"namelength\": 0}, \"hovertemplate\": \"Region=10-Nord-du-Quebec<br>Date of Infection=18th<br>Total Number of Cases=%{marker.size}<br>Lat=%{lat}<br>Long=%{lon}\", \"lat\": [56.166667], \"legendgroup\": \"10-Nord-du-Quebec\", \"lon\": [-74.416667], \"marker\": {\"color\": \"#FECB52\", \"size\": [0.0], \"sizemode\": \"area\", \"sizeref\": 0.67}, \"name\": \"10-Nord-du-Quebec\", \"showlegend\": true, \"type\": \"scattergeo\"}, {\"geo\": \"geo\", \"hoverlabel\": {\"namelength\": 0}, \"hovertemplate\": \"Region=11- Gaspesie-Iles-de-la-Madelaine<br>Date of Infection=18th<br>Total Number of Cases=%{marker.size}<br>Lat=%{lat}<br>Long=%{lon}\", \"lat\": [48.683333], \"legendgroup\": \"11- Gaspesie-Iles-de-la-Madelaine\", \"lon\": [-65.4], \"marker\": {\"color\": \"#636efa\", \"size\": [0.0], \"sizemode\": \"area\", \"sizeref\": 0.67}, \"name\": \"11- Gaspesie-Iles-de-la-Madelaine\", \"showlegend\": true, \"type\": \"scattergeo\"}, {\"geo\": \"geo\", \"hoverlabel\": {\"namelength\": 0}, \"hovertemplate\": \"Region=12-Chaudiere-Appalaches<br>Date of Infection=18th<br>Total Number of Cases=%{marker.size}<br>Lat=%{lat}<br>Long=%{lon}\", \"lat\": [46.483333], \"legendgroup\": \"12-Chaudiere-Appalaches\", \"lon\": [-70.616667], \"marker\": {\"color\": \"#EF553B\", \"size\": [6.0], \"sizemode\": \"area\", \"sizeref\": 0.67}, \"name\": \"12-Chaudiere-Appalaches\", \"showlegend\": true, \"type\": \"scattergeo\"}, {\"geo\": \"geo\", \"hoverlabel\": {\"namelength\": 0}, \"hovertemplate\": \"Region=13- Laval<br>Date of Infection=18th<br>Total Number of Cases=%{marker.size}<br>Lat=%{lat}<br>Long=%{lon}\", \"lat\": [45.583333], \"legendgroup\": \"13- Laval\", \"lon\": [-73.75], \"marker\": {\"color\": \"#00cc96\", \"size\": [0.0], \"sizemode\": \"area\", \"sizeref\": 0.67}, \"name\": \"13- Laval\", \"showlegend\": true, \"type\": \"scattergeo\"}, {\"geo\": \"geo\", \"hoverlabel\": {\"namelength\": 0}, \"hovertemplate\": \"Region=14- Lanaudiere<br>Date of Infection=18th<br>Total Number of Cases=%{marker.size}<br>Lat=%{lat}<br>Long=%{lon}\", \"lat\": [46.766667], \"legendgroup\": \"14- Lanaudiere\", \"lon\": [-73.833333], \"marker\": {\"color\": \"#ab63fa\", \"size\": [6.0], \"sizemode\": \"area\", \"sizeref\": 0.67}, \"name\": \"14- Lanaudiere\", \"showlegend\": true, \"type\": \"scattergeo\"}, {\"geo\": \"geo\", \"hoverlabel\": {\"namelength\": 0}, \"hovertemplate\": \"Region=15- Laurentides<br>Date of Infection=18th<br>Total Number of Cases=%{marker.size}<br>Lat=%{lat}<br>Long=%{lon}\", \"lat\": [46.433333], \"legendgroup\": \"15- Laurentides\", \"lon\": [-74.983333], \"marker\": {\"color\": \"#FFA15A\", \"size\": [8.0], \"sizemode\": \"area\", \"sizeref\": 0.67}, \"name\": \"15- Laurentides\", \"showlegend\": true, \"type\": \"scattergeo\"}, {\"geo\": \"geo\", \"hoverlabel\": {\"namelength\": 0}, \"hovertemplate\": \"Region=16- Monteregie<br>Date of Infection=18th<br>Total Number of Cases=%{marker.size}<br>Lat=%{lat}<br>Long=%{lon}\", \"lat\": [45.383333], \"legendgroup\": \"16- Monteregie\", \"lon\": [-73.1], \"marker\": {\"color\": \"#19d3f3\", \"size\": [13.0], \"sizemode\": \"area\", \"sizeref\": 0.67}, \"name\": \"16- Monteregie\", \"showlegend\": true, \"type\": \"scattergeo\"}, {\"geo\": \"geo\", \"hoverlabel\": {\"namelength\": 0}, \"hovertemplate\": \"Region=17- Centre du Quebec<br>Date of Infection=18th<br>Total Number of Cases=%{marker.size}<br>Lat=%{lat}<br>Long=%{lon}\", \"lat\": [46.283333], \"legendgroup\": \"17- Centre du Quebec\", \"lon\": [-72.066667], \"marker\": {\"color\": \"#FF6692\", \"size\": [0.0], \"sizemode\": \"area\", \"sizeref\": 0.67}, \"name\": \"17- Centre du Quebec\", \"showlegend\": true, \"type\": \"scattergeo\"}, {\"geo\": \"geo\", \"hoverlabel\": {\"namelength\": 0}, \"hovertemplate\": \"Region=Undetermined<br>Date of Infection=18th<br>Total Number of Cases=%{marker.size}<br>Lat=%{lat}<br>Long=%{lon}\", \"lat\": [\"na\"], \"legendgroup\": \"Undetermined\", \"lon\": [\"na\"], \"marker\": {\"color\": \"#B6E880\", \"size\": [5.0], \"sizemode\": \"area\", \"sizeref\": 0.67}, \"name\": \"Undetermined\", \"showlegend\": true, \"type\": \"scattergeo\"}, {\"geo\": \"geo\", \"hoverlabel\": {\"namelength\": 0}, \"hovertemplate\": \"Region=Hors Quebec<br>Date of Infection=18th<br>Total Number of Cases=%{marker.size}<br>Lat=%{lat}<br>Long=%{lon}\", \"lat\": [\"na\"], \"legendgroup\": \"Hors Quebec\", \"lon\": [\"na\"], \"marker\": {\"color\": \"#FF97FF\", \"size\": [2.0], \"sizemode\": \"area\", \"sizeref\": 0.67}, \"name\": \"Hors Quebec\", \"showlegend\": true, \"type\": \"scattergeo\"}], \"name\": \"18th\"}, {\"data\": [{\"geo\": \"geo\", \"hoverlabel\": {\"namelength\": 0}, \"hovertemplate\": \"Region=01-Bas-Saint-Laurent<br>Date of Infection=19th<br>Total Number of Cases=%{marker.size}<br>Lat=%{lat}<br>Long=%{lon}\", \"lat\": [48.333333], \"legendgroup\": \"01-Bas-Saint-Laurent\", \"lon\": [-68.666667], \"marker\": {\"color\": \"#636efa\", \"size\": [1.0], \"sizemode\": \"area\", \"sizeref\": 0.67}, \"name\": \"01-Bas-Saint-Laurent\", \"showlegend\": true, \"type\": \"scattergeo\"}, {\"geo\": \"geo\", \"hoverlabel\": {\"namelength\": 0}, \"hovertemplate\": \"Region=02- Saguenay-Lac-Saint-Jean<br>Date of Infection=19th<br>Total Number of Cases=%{marker.size}<br>Lat=%{lat}<br>Long=%{lon}\", \"lat\": [49.8667], \"legendgroup\": \"02- Saguenay-Lac-Saint-Jean\", \"lon\": [-71.75], \"marker\": {\"color\": \"#EF553B\", \"size\": [0.0], \"sizemode\": \"area\", \"sizeref\": 0.67}, \"name\": \"02- Saguenay-Lac-Saint-Jean\", \"showlegend\": true, \"type\": \"scattergeo\"}, {\"geo\": \"geo\", \"hoverlabel\": {\"namelength\": 0}, \"hovertemplate\": \"Region=03- Capitale-Nationale<br>Date of Infection=19th<br>Total Number of Cases=%{marker.size}<br>Lat=%{lat}<br>Long=%{lon}\", \"lat\": [47.333333], \"legendgroup\": \"03- Capitale-Nationale\", \"lon\": [-71.5], \"marker\": {\"color\": \"#00cc96\", \"size\": [10.0], \"sizemode\": \"area\", \"sizeref\": 0.67}, \"name\": \"03- Capitale-Nationale\", \"showlegend\": true, \"type\": \"scattergeo\"}, {\"geo\": \"geo\", \"hoverlabel\": {\"namelength\": 0}, \"hovertemplate\": \"Region=04-Mauricie<br>Date of Infection=19th<br>Total Number of Cases=%{marker.size}<br>Lat=%{lat}<br>Long=%{lon}\", \"lat\": [47.0], \"legendgroup\": \"04-Mauricie\", \"lon\": [-73.0], \"marker\": {\"color\": \"#ab63fa\", \"size\": [3.0], \"sizemode\": \"area\", \"sizeref\": 0.67}, \"name\": \"04-Mauricie\", \"showlegend\": true, \"type\": \"scattergeo\"}, {\"geo\": \"geo\", \"hoverlabel\": {\"namelength\": 0}, \"hovertemplate\": \"Region=05-Estrie<br>Date of Infection=19th<br>Total Number of Cases=%{marker.size}<br>Lat=%{lat}<br>Long=%{lon}\", \"lat\": [45.481556], \"legendgroup\": \"05-Estrie\", \"lon\": [-71.667917], \"marker\": {\"color\": \"#FFA15A\", \"size\": [26.0], \"sizemode\": \"area\", \"sizeref\": 0.67}, \"name\": \"05-Estrie\", \"showlegend\": true, \"type\": \"scattergeo\"}, {\"geo\": \"geo\", \"hoverlabel\": {\"namelength\": 0}, \"hovertemplate\": \"Region=06-Montreal<br>Date of Infection=19th<br>Total Number of Cases=%{marker.size}<br>Lat=%{lat}<br>Long=%{lon}\", \"lat\": [45.5], \"legendgroup\": \"06-Montreal\", \"lon\": [-73.566667], \"marker\": {\"color\": \"#19d3f3\", \"size\": [28.0], \"sizemode\": \"area\", \"sizeref\": 0.67}, \"name\": \"06-Montreal\", \"showlegend\": true, \"type\": \"scattergeo\"}, {\"geo\": \"geo\", \"hoverlabel\": {\"namelength\": 0}, \"hovertemplate\": \"Region=07-Outauais<br>Date of Infection=19th<br>Total Number of Cases=%{marker.size}<br>Lat=%{lat}<br>Long=%{lon}\", \"lat\": [45.783333], \"legendgroup\": \"07-Outauais\", \"lon\": [-75.083333], \"marker\": {\"color\": \"#FF6692\", \"size\": [1.0], \"sizemode\": \"area\", \"sizeref\": 0.67}, \"name\": \"07-Outauais\", \"showlegend\": true, \"type\": \"scattergeo\"}, {\"geo\": \"geo\", \"hoverlabel\": {\"namelength\": 0}, \"hovertemplate\": \"Region=08-Abititi-Temiscaminigue<br>Date of Infection=19th<br>Total Number of Cases=%{marker.size}<br>Lat=%{lat}<br>Long=%{lon}\", \"lat\": [48.233333], \"legendgroup\": \"08-Abititi-Temiscaminigue\", \"lon\": [-79.016667], \"marker\": {\"color\": \"#B6E880\", \"size\": [0.0], \"sizemode\": \"area\", \"sizeref\": 0.67}, \"name\": \"08-Abititi-Temiscaminigue\", \"showlegend\": true, \"type\": \"scattergeo\"}, {\"geo\": \"geo\", \"hoverlabel\": {\"namelength\": 0}, \"hovertemplate\": \"Region=9-Cote-Nord<br>Date of Infection=19th<br>Total Number of Cases=%{marker.size}<br>Lat=%{lat}<br>Long=%{lon}\", \"lat\": [50.866667], \"legendgroup\": \"9-Cote-Nord\", \"lon\": [-65.816667], \"marker\": {\"color\": \"#FF97FF\", \"size\": [0.0], \"sizemode\": \"area\", \"sizeref\": 0.67}, \"name\": \"9-Cote-Nord\", \"showlegend\": true, \"type\": \"scattergeo\"}, {\"geo\": \"geo\", \"hoverlabel\": {\"namelength\": 0}, \"hovertemplate\": \"Region=10-Nord-du-Quebec<br>Date of Infection=19th<br>Total Number of Cases=%{marker.size}<br>Lat=%{lat}<br>Long=%{lon}\", \"lat\": [56.166667], \"legendgroup\": \"10-Nord-du-Quebec\", \"lon\": [-74.416667], \"marker\": {\"color\": \"#FECB52\", \"size\": [0.0], \"sizemode\": \"area\", \"sizeref\": 0.67}, \"name\": \"10-Nord-du-Quebec\", \"showlegend\": true, \"type\": \"scattergeo\"}, {\"geo\": \"geo\", \"hoverlabel\": {\"namelength\": 0}, \"hovertemplate\": \"Region=11- Gaspesie-Iles-de-la-Madelaine<br>Date of Infection=19th<br>Total Number of Cases=%{marker.size}<br>Lat=%{lat}<br>Long=%{lon}\", \"lat\": [48.683333], \"legendgroup\": \"11- Gaspesie-Iles-de-la-Madelaine\", \"lon\": [-65.4], \"marker\": {\"color\": \"#636efa\", \"size\": [0.0], \"sizemode\": \"area\", \"sizeref\": 0.67}, \"name\": \"11- Gaspesie-Iles-de-la-Madelaine\", \"showlegend\": true, \"type\": \"scattergeo\"}, {\"geo\": \"geo\", \"hoverlabel\": {\"namelength\": 0}, \"hovertemplate\": \"Region=12-Chaudiere-Appalaches<br>Date of Infection=19th<br>Total Number of Cases=%{marker.size}<br>Lat=%{lat}<br>Long=%{lon}\", \"lat\": [46.483333], \"legendgroup\": \"12-Chaudiere-Appalaches\", \"lon\": [-70.616667], \"marker\": {\"color\": \"#EF553B\", \"size\": [6.0], \"sizemode\": \"area\", \"sizeref\": 0.67}, \"name\": \"12-Chaudiere-Appalaches\", \"showlegend\": true, \"type\": \"scattergeo\"}, {\"geo\": \"geo\", \"hoverlabel\": {\"namelength\": 0}, \"hovertemplate\": \"Region=13- Laval<br>Date of Infection=19th<br>Total Number of Cases=%{marker.size}<br>Lat=%{lat}<br>Long=%{lon}\", \"lat\": [45.583333], \"legendgroup\": \"13- Laval\", \"lon\": [-73.75], \"marker\": {\"color\": \"#00cc96\", \"size\": [1.0], \"sizemode\": \"area\", \"sizeref\": 0.67}, \"name\": \"13- Laval\", \"showlegend\": true, \"type\": \"scattergeo\"}, {\"geo\": \"geo\", \"hoverlabel\": {\"namelength\": 0}, \"hovertemplate\": \"Region=14- Lanaudiere<br>Date of Infection=19th<br>Total Number of Cases=%{marker.size}<br>Lat=%{lat}<br>Long=%{lon}\", \"lat\": [46.766667], \"legendgroup\": \"14- Lanaudiere\", \"lon\": [-73.833333], \"marker\": {\"color\": \"#ab63fa\", \"size\": [7.0], \"sizemode\": \"area\", \"sizeref\": 0.67}, \"name\": \"14- Lanaudiere\", \"showlegend\": true, \"type\": \"scattergeo\"}, {\"geo\": \"geo\", \"hoverlabel\": {\"namelength\": 0}, \"hovertemplate\": \"Region=15- Laurentides<br>Date of Infection=19th<br>Total Number of Cases=%{marker.size}<br>Lat=%{lat}<br>Long=%{lon}\", \"lat\": [46.433333], \"legendgroup\": \"15- Laurentides\", \"lon\": [-74.983333], \"marker\": {\"color\": \"#FFA15A\", \"size\": [9.0], \"sizemode\": \"area\", \"sizeref\": 0.67}, \"name\": \"15- Laurentides\", \"showlegend\": true, \"type\": \"scattergeo\"}, {\"geo\": \"geo\", \"hoverlabel\": {\"namelength\": 0}, \"hovertemplate\": \"Region=16- Monteregie<br>Date of Infection=19th<br>Total Number of Cases=%{marker.size}<br>Lat=%{lat}<br>Long=%{lon}\", \"lat\": [45.383333], \"legendgroup\": \"16- Monteregie\", \"lon\": [-73.1], \"marker\": {\"color\": \"#19d3f3\", \"size\": [19.0], \"sizemode\": \"area\", \"sizeref\": 0.67}, \"name\": \"16- Monteregie\", \"showlegend\": true, \"type\": \"scattergeo\"}, {\"geo\": \"geo\", \"hoverlabel\": {\"namelength\": 0}, \"hovertemplate\": \"Region=17- Centre du Quebec<br>Date of Infection=19th<br>Total Number of Cases=%{marker.size}<br>Lat=%{lat}<br>Long=%{lon}\", \"lat\": [46.283333], \"legendgroup\": \"17- Centre du Quebec\", \"lon\": [-72.066667], \"marker\": {\"color\": \"#FF6692\", \"size\": [0.0], \"sizemode\": \"area\", \"sizeref\": 0.67}, \"name\": \"17- Centre du Quebec\", \"showlegend\": true, \"type\": \"scattergeo\"}, {\"geo\": \"geo\", \"hoverlabel\": {\"namelength\": 0}, \"hovertemplate\": \"Region=Undetermined<br>Date of Infection=19th<br>Total Number of Cases=%{marker.size}<br>Lat=%{lat}<br>Long=%{lon}\", \"lat\": [\"na\"], \"legendgroup\": \"Undetermined\", \"lon\": [\"na\"], \"marker\": {\"color\": \"#B6E880\", \"size\": [8.0], \"sizemode\": \"area\", \"sizeref\": 0.67}, \"name\": \"Undetermined\", \"showlegend\": true, \"type\": \"scattergeo\"}, {\"geo\": \"geo\", \"hoverlabel\": {\"namelength\": 0}, \"hovertemplate\": \"Region=Hors Quebec<br>Date of Infection=19th<br>Total Number of Cases=%{marker.size}<br>Lat=%{lat}<br>Long=%{lon}\", \"lat\": [\"na\"], \"legendgroup\": \"Hors Quebec\", \"lon\": [\"na\"], \"marker\": {\"color\": \"#FF97FF\", \"size\": [2.0], \"sizemode\": \"area\", \"sizeref\": 0.67}, \"name\": \"Hors Quebec\", \"showlegend\": true, \"type\": \"scattergeo\"}], \"name\": \"19th\"}, {\"data\": [{\"geo\": \"geo\", \"hoverlabel\": {\"namelength\": 0}, \"hovertemplate\": \"Region=01-Bas-Saint-Laurent<br>Date of Infection=20th<br>Total Number of Cases=%{marker.size}<br>Lat=%{lat}<br>Long=%{lon}\", \"lat\": [48.333333], \"legendgroup\": \"01-Bas-Saint-Laurent\", \"lon\": [-68.666667], \"marker\": {\"color\": \"#636efa\", \"size\": [1.0], \"sizemode\": \"area\", \"sizeref\": 0.67}, \"name\": \"01-Bas-Saint-Laurent\", \"showlegend\": true, \"type\": \"scattergeo\"}, {\"geo\": \"geo\", \"hoverlabel\": {\"namelength\": 0}, \"hovertemplate\": \"Region=02- Saguenay-Lac-Saint-Jean<br>Date of Infection=20th<br>Total Number of Cases=%{marker.size}<br>Lat=%{lat}<br>Long=%{lon}\", \"lat\": [49.8667], \"legendgroup\": \"02- Saguenay-Lac-Saint-Jean\", \"lon\": [-71.75], \"marker\": {\"color\": \"#EF553B\", \"size\": [0.0], \"sizemode\": \"area\", \"sizeref\": 0.67}, \"name\": \"02- Saguenay-Lac-Saint-Jean\", \"showlegend\": true, \"type\": \"scattergeo\"}, {\"geo\": \"geo\", \"hoverlabel\": {\"namelength\": 0}, \"hovertemplate\": \"Region=03- Capitale-Nationale<br>Date of Infection=20th<br>Total Number of Cases=%{marker.size}<br>Lat=%{lat}<br>Long=%{lon}\", \"lat\": [47.333333], \"legendgroup\": \"03- Capitale-Nationale\", \"lon\": [-71.5], \"marker\": {\"color\": \"#00cc96\", \"size\": [10.0], \"sizemode\": \"area\", \"sizeref\": 0.67}, \"name\": \"03- Capitale-Nationale\", \"showlegend\": true, \"type\": \"scattergeo\"}, {\"geo\": \"geo\", \"hoverlabel\": {\"namelength\": 0}, \"hovertemplate\": \"Region=04-Mauricie<br>Date of Infection=20th<br>Total Number of Cases=%{marker.size}<br>Lat=%{lat}<br>Long=%{lon}\", \"lat\": [47.0], \"legendgroup\": \"04-Mauricie\", \"lon\": [-73.0], \"marker\": {\"color\": \"#ab63fa\", \"size\": [4.0], \"sizemode\": \"area\", \"sizeref\": 0.67}, \"name\": \"04-Mauricie\", \"showlegend\": true, \"type\": \"scattergeo\"}, {\"geo\": \"geo\", \"hoverlabel\": {\"namelength\": 0}, \"hovertemplate\": \"Region=05-Estrie<br>Date of Infection=20th<br>Total Number of Cases=%{marker.size}<br>Lat=%{lat}<br>Long=%{lon}\", \"lat\": [45.481556], \"legendgroup\": \"05-Estrie\", \"lon\": [-71.667917], \"marker\": {\"color\": \"#FFA15A\", \"size\": [26.0], \"sizemode\": \"area\", \"sizeref\": 0.67}, \"name\": \"05-Estrie\", \"showlegend\": true, \"type\": \"scattergeo\"}, {\"geo\": \"geo\", \"hoverlabel\": {\"namelength\": 0}, \"hovertemplate\": \"Region=06-Montreal<br>Date of Infection=20th<br>Total Number of Cases=%{marker.size}<br>Lat=%{lat}<br>Long=%{lon}\", \"lat\": [45.5], \"legendgroup\": \"06-Montreal\", \"lon\": [-73.566667], \"marker\": {\"color\": \"#19d3f3\", \"size\": [31.0], \"sizemode\": \"area\", \"sizeref\": 0.67}, \"name\": \"06-Montreal\", \"showlegend\": true, \"type\": \"scattergeo\"}, {\"geo\": \"geo\", \"hoverlabel\": {\"namelength\": 0}, \"hovertemplate\": \"Region=07-Outauais<br>Date of Infection=20th<br>Total Number of Cases=%{marker.size}<br>Lat=%{lat}<br>Long=%{lon}\", \"lat\": [45.783333], \"legendgroup\": \"07-Outauais\", \"lon\": [-75.083333], \"marker\": {\"color\": \"#FF6692\", \"size\": [1.0], \"sizemode\": \"area\", \"sizeref\": 0.67}, \"name\": \"07-Outauais\", \"showlegend\": true, \"type\": \"scattergeo\"}, {\"geo\": \"geo\", \"hoverlabel\": {\"namelength\": 0}, \"hovertemplate\": \"Region=08-Abititi-Temiscaminigue<br>Date of Infection=20th<br>Total Number of Cases=%{marker.size}<br>Lat=%{lat}<br>Long=%{lon}\", \"lat\": [48.233333], \"legendgroup\": \"08-Abititi-Temiscaminigue\", \"lon\": [-79.016667], \"marker\": {\"color\": \"#B6E880\", \"size\": [0.0], \"sizemode\": \"area\", \"sizeref\": 0.67}, \"name\": \"08-Abititi-Temiscaminigue\", \"showlegend\": true, \"type\": \"scattergeo\"}, {\"geo\": \"geo\", \"hoverlabel\": {\"namelength\": 0}, \"hovertemplate\": \"Region=9-Cote-Nord<br>Date of Infection=20th<br>Total Number of Cases=%{marker.size}<br>Lat=%{lat}<br>Long=%{lon}\", \"lat\": [50.866667], \"legendgroup\": \"9-Cote-Nord\", \"lon\": [-65.816667], \"marker\": {\"color\": \"#FF97FF\", \"size\": [0.0], \"sizemode\": \"area\", \"sizeref\": 0.67}, \"name\": \"9-Cote-Nord\", \"showlegend\": true, \"type\": \"scattergeo\"}, {\"geo\": \"geo\", \"hoverlabel\": {\"namelength\": 0}, \"hovertemplate\": \"Region=10-Nord-du-Quebec<br>Date of Infection=20th<br>Total Number of Cases=%{marker.size}<br>Lat=%{lat}<br>Long=%{lon}\", \"lat\": [56.166667], \"legendgroup\": \"10-Nord-du-Quebec\", \"lon\": [-74.416667], \"marker\": {\"color\": \"#FECB52\", \"size\": [1.0], \"sizemode\": \"area\", \"sizeref\": 0.67}, \"name\": \"10-Nord-du-Quebec\", \"showlegend\": true, \"type\": \"scattergeo\"}, {\"geo\": \"geo\", \"hoverlabel\": {\"namelength\": 0}, \"hovertemplate\": \"Region=11- Gaspesie-Iles-de-la-Madelaine<br>Date of Infection=20th<br>Total Number of Cases=%{marker.size}<br>Lat=%{lat}<br>Long=%{lon}\", \"lat\": [48.683333], \"legendgroup\": \"11- Gaspesie-Iles-de-la-Madelaine\", \"lon\": [-65.4], \"marker\": {\"color\": \"#636efa\", \"size\": [0.0], \"sizemode\": \"area\", \"sizeref\": 0.67}, \"name\": \"11- Gaspesie-Iles-de-la-Madelaine\", \"showlegend\": true, \"type\": \"scattergeo\"}, {\"geo\": \"geo\", \"hoverlabel\": {\"namelength\": 0}, \"hovertemplate\": \"Region=12-Chaudiere-Appalaches<br>Date of Infection=20th<br>Total Number of Cases=%{marker.size}<br>Lat=%{lat}<br>Long=%{lon}\", \"lat\": [46.483333], \"legendgroup\": \"12-Chaudiere-Appalaches\", \"lon\": [-70.616667], \"marker\": {\"color\": \"#EF553B\", \"size\": [6.0], \"sizemode\": \"area\", \"sizeref\": 0.67}, \"name\": \"12-Chaudiere-Appalaches\", \"showlegend\": true, \"type\": \"scattergeo\"}, {\"geo\": \"geo\", \"hoverlabel\": {\"namelength\": 0}, \"hovertemplate\": \"Region=13- Laval<br>Date of Infection=20th<br>Total Number of Cases=%{marker.size}<br>Lat=%{lat}<br>Long=%{lon}\", \"lat\": [45.583333], \"legendgroup\": \"13- Laval\", \"lon\": [-73.75], \"marker\": {\"color\": \"#00cc96\", \"size\": [1.0], \"sizemode\": \"area\", \"sizeref\": 0.67}, \"name\": \"13- Laval\", \"showlegend\": true, \"type\": \"scattergeo\"}, {\"geo\": \"geo\", \"hoverlabel\": {\"namelength\": 0}, \"hovertemplate\": \"Region=14- Lanaudiere<br>Date of Infection=20th<br>Total Number of Cases=%{marker.size}<br>Lat=%{lat}<br>Long=%{lon}\", \"lat\": [46.766667], \"legendgroup\": \"14- Lanaudiere\", \"lon\": [-73.833333], \"marker\": {\"color\": \"#ab63fa\", \"size\": [7.0], \"sizemode\": \"area\", \"sizeref\": 0.67}, \"name\": \"14- Lanaudiere\", \"showlegend\": true, \"type\": \"scattergeo\"}, {\"geo\": \"geo\", \"hoverlabel\": {\"namelength\": 0}, \"hovertemplate\": \"Region=15- Laurentides<br>Date of Infection=20th<br>Total Number of Cases=%{marker.size}<br>Lat=%{lat}<br>Long=%{lon}\", \"lat\": [46.433333], \"legendgroup\": \"15- Laurentides\", \"lon\": [-74.983333], \"marker\": {\"color\": \"#FFA15A\", \"size\": [10.0], \"sizemode\": \"area\", \"sizeref\": 0.67}, \"name\": \"15- Laurentides\", \"showlegend\": true, \"type\": \"scattergeo\"}, {\"geo\": \"geo\", \"hoverlabel\": {\"namelength\": 0}, \"hovertemplate\": \"Region=16- Monteregie<br>Date of Infection=20th<br>Total Number of Cases=%{marker.size}<br>Lat=%{lat}<br>Long=%{lon}\", \"lat\": [45.383333], \"legendgroup\": \"16- Monteregie\", \"lon\": [-73.1], \"marker\": {\"color\": \"#19d3f3\", \"size\": [21.0], \"sizemode\": \"area\", \"sizeref\": 0.67}, \"name\": \"16- Monteregie\", \"showlegend\": true, \"type\": \"scattergeo\"}, {\"geo\": \"geo\", \"hoverlabel\": {\"namelength\": 0}, \"hovertemplate\": \"Region=17- Centre du Quebec<br>Date of Infection=20th<br>Total Number of Cases=%{marker.size}<br>Lat=%{lat}<br>Long=%{lon}\", \"lat\": [46.283333], \"legendgroup\": \"17- Centre du Quebec\", \"lon\": [-72.066667], \"marker\": {\"color\": \"#FF6692\", \"size\": [0.0], \"sizemode\": \"area\", \"sizeref\": 0.67}, \"name\": \"17- Centre du Quebec\", \"showlegend\": true, \"type\": \"scattergeo\"}, {\"geo\": \"geo\", \"hoverlabel\": {\"namelength\": 0}, \"hovertemplate\": \"Region=Undetermined<br>Date of Infection=20th<br>Total Number of Cases=%{marker.size}<br>Lat=%{lat}<br>Long=%{lon}\", \"lat\": [\"na\"], \"legendgroup\": \"Undetermined\", \"lon\": [\"na\"], \"marker\": {\"color\": \"#B6E880\", \"size\": [18.0], \"sizemode\": \"area\", \"sizeref\": 0.67}, \"name\": \"Undetermined\", \"showlegend\": true, \"type\": \"scattergeo\"}, {\"geo\": \"geo\", \"hoverlabel\": {\"namelength\": 0}, \"hovertemplate\": \"Region=Hors Quebec<br>Date of Infection=20th<br>Total Number of Cases=%{marker.size}<br>Lat=%{lat}<br>Long=%{lon}\", \"lat\": [\"na\"], \"legendgroup\": \"Hors Quebec\", \"lon\": [\"na\"], \"marker\": {\"color\": \"#FF97FF\", \"size\": [2.0], \"sizemode\": \"area\", \"sizeref\": 0.67}, \"name\": \"Hors Quebec\", \"showlegend\": true, \"type\": \"scattergeo\"}], \"name\": \"20th\"}, {\"data\": [{\"geo\": \"geo\", \"hoverlabel\": {\"namelength\": 0}, \"hovertemplate\": \"Region=01-Bas-Saint-Laurent<br>Date of Infection=21st<br>Total Number of Cases=%{marker.size}<br>Lat=%{lat}<br>Long=%{lon}\", \"lat\": [48.333333], \"legendgroup\": \"01-Bas-Saint-Laurent\", \"lon\": [-68.666667], \"marker\": {\"color\": \"#636efa\", \"size\": [1.0], \"sizemode\": \"area\", \"sizeref\": 0.67}, \"name\": \"01-Bas-Saint-Laurent\", \"showlegend\": true, \"type\": \"scattergeo\"}, {\"geo\": \"geo\", \"hoverlabel\": {\"namelength\": 0}, \"hovertemplate\": \"Region=02- Saguenay-Lac-Saint-Jean<br>Date of Infection=21st<br>Total Number of Cases=%{marker.size}<br>Lat=%{lat}<br>Long=%{lon}\", \"lat\": [49.8667], \"legendgroup\": \"02- Saguenay-Lac-Saint-Jean\", \"lon\": [-71.75], \"marker\": {\"color\": \"#EF553B\", \"size\": [1.0], \"sizemode\": \"area\", \"sizeref\": 0.67}, \"name\": \"02- Saguenay-Lac-Saint-Jean\", \"showlegend\": true, \"type\": \"scattergeo\"}, {\"geo\": \"geo\", \"hoverlabel\": {\"namelength\": 0}, \"hovertemplate\": \"Region=03- Capitale-Nationale<br>Date of Infection=21st<br>Total Number of Cases=%{marker.size}<br>Lat=%{lat}<br>Long=%{lon}\", \"lat\": [47.333333], \"legendgroup\": \"03- Capitale-Nationale\", \"lon\": [-71.5], \"marker\": {\"color\": \"#00cc96\", \"size\": [13.0], \"sizemode\": \"area\", \"sizeref\": 0.67}, \"name\": \"03- Capitale-Nationale\", \"showlegend\": true, \"type\": \"scattergeo\"}, {\"geo\": \"geo\", \"hoverlabel\": {\"namelength\": 0}, \"hovertemplate\": \"Region=04-Mauricie<br>Date of Infection=21st<br>Total Number of Cases=%{marker.size}<br>Lat=%{lat}<br>Long=%{lon}\", \"lat\": [47.0], \"legendgroup\": \"04-Mauricie\", \"lon\": [-73.0], \"marker\": {\"color\": \"#ab63fa\", \"size\": [5.0], \"sizemode\": \"area\", \"sizeref\": 0.67}, \"name\": \"04-Mauricie\", \"showlegend\": true, \"type\": \"scattergeo\"}, {\"geo\": \"geo\", \"hoverlabel\": {\"namelength\": 0}, \"hovertemplate\": \"Region=05-Estrie<br>Date of Infection=21st<br>Total Number of Cases=%{marker.size}<br>Lat=%{lat}<br>Long=%{lon}\", \"lat\": [45.481556], \"legendgroup\": \"05-Estrie\", \"lon\": [-71.667917], \"marker\": {\"color\": \"#FFA15A\", \"size\": [27.0], \"sizemode\": \"area\", \"sizeref\": 0.67}, \"name\": \"05-Estrie\", \"showlegend\": true, \"type\": \"scattergeo\"}, {\"geo\": \"geo\", \"hoverlabel\": {\"namelength\": 0}, \"hovertemplate\": \"Region=06-Montreal<br>Date of Infection=21st<br>Total Number of Cases=%{marker.size}<br>Lat=%{lat}<br>Long=%{lon}\", \"lat\": [45.5], \"legendgroup\": \"06-Montreal\", \"lon\": [-73.566667], \"marker\": {\"color\": \"#19d3f3\", \"size\": [41.0], \"sizemode\": \"area\", \"sizeref\": 0.67}, \"name\": \"06-Montreal\", \"showlegend\": true, \"type\": \"scattergeo\"}, {\"geo\": \"geo\", \"hoverlabel\": {\"namelength\": 0}, \"hovertemplate\": \"Region=07-Outauais<br>Date of Infection=21st<br>Total Number of Cases=%{marker.size}<br>Lat=%{lat}<br>Long=%{lon}\", \"lat\": [45.783333], \"legendgroup\": \"07-Outauais\", \"lon\": [-75.083333], \"marker\": {\"color\": \"#FF6692\", \"size\": [3.0], \"sizemode\": \"area\", \"sizeref\": 0.67}, \"name\": \"07-Outauais\", \"showlegend\": true, \"type\": \"scattergeo\"}, {\"geo\": \"geo\", \"hoverlabel\": {\"namelength\": 0}, \"hovertemplate\": \"Region=08-Abititi-Temiscaminigue<br>Date of Infection=21st<br>Total Number of Cases=%{marker.size}<br>Lat=%{lat}<br>Long=%{lon}\", \"lat\": [48.233333], \"legendgroup\": \"08-Abititi-Temiscaminigue\", \"lon\": [-79.016667], \"marker\": {\"color\": \"#B6E880\", \"size\": [0.0], \"sizemode\": \"area\", \"sizeref\": 0.67}, \"name\": \"08-Abititi-Temiscaminigue\", \"showlegend\": true, \"type\": \"scattergeo\"}, {\"geo\": \"geo\", \"hoverlabel\": {\"namelength\": 0}, \"hovertemplate\": \"Region=9-Cote-Nord<br>Date of Infection=21st<br>Total Number of Cases=%{marker.size}<br>Lat=%{lat}<br>Long=%{lon}\", \"lat\": [50.866667], \"legendgroup\": \"9-Cote-Nord\", \"lon\": [-65.816667], \"marker\": {\"color\": \"#FF97FF\", \"size\": [0.0], \"sizemode\": \"area\", \"sizeref\": 0.67}, \"name\": \"9-Cote-Nord\", \"showlegend\": true, \"type\": \"scattergeo\"}, {\"geo\": \"geo\", \"hoverlabel\": {\"namelength\": 0}, \"hovertemplate\": \"Region=10-Nord-du-Quebec<br>Date of Infection=21st<br>Total Number of Cases=%{marker.size}<br>Lat=%{lat}<br>Long=%{lon}\", \"lat\": [56.166667], \"legendgroup\": \"10-Nord-du-Quebec\", \"lon\": [-74.416667], \"marker\": {\"color\": \"#FECB52\", \"size\": [1.0], \"sizemode\": \"area\", \"sizeref\": 0.67}, \"name\": \"10-Nord-du-Quebec\", \"showlegend\": true, \"type\": \"scattergeo\"}, {\"geo\": \"geo\", \"hoverlabel\": {\"namelength\": 0}, \"hovertemplate\": \"Region=11- Gaspesie-Iles-de-la-Madelaine<br>Date of Infection=21st<br>Total Number of Cases=%{marker.size}<br>Lat=%{lat}<br>Long=%{lon}\", \"lat\": [48.683333], \"legendgroup\": \"11- Gaspesie-Iles-de-la-Madelaine\", \"lon\": [-65.4], \"marker\": {\"color\": \"#636efa\", \"size\": [0.0], \"sizemode\": \"area\", \"sizeref\": 0.67}, \"name\": \"11- Gaspesie-Iles-de-la-Madelaine\", \"showlegend\": true, \"type\": \"scattergeo\"}, {\"geo\": \"geo\", \"hoverlabel\": {\"namelength\": 0}, \"hovertemplate\": \"Region=12-Chaudiere-Appalaches<br>Date of Infection=21st<br>Total Number of Cases=%{marker.size}<br>Lat=%{lat}<br>Long=%{lon}\", \"lat\": [46.483333], \"legendgroup\": \"12-Chaudiere-Appalaches\", \"lon\": [-70.616667], \"marker\": {\"color\": \"#EF553B\", \"size\": [13.0], \"sizemode\": \"area\", \"sizeref\": 0.67}, \"name\": \"12-Chaudiere-Appalaches\", \"showlegend\": true, \"type\": \"scattergeo\"}, {\"geo\": \"geo\", \"hoverlabel\": {\"namelength\": 0}, \"hovertemplate\": \"Region=13- Laval<br>Date of Infection=21st<br>Total Number of Cases=%{marker.size}<br>Lat=%{lat}<br>Long=%{lon}\", \"lat\": [45.583333], \"legendgroup\": \"13- Laval\", \"lon\": [-73.75], \"marker\": {\"color\": \"#00cc96\", \"size\": [3.0], \"sizemode\": \"area\", \"sizeref\": 0.67}, \"name\": \"13- Laval\", \"showlegend\": true, \"type\": \"scattergeo\"}, {\"geo\": \"geo\", \"hoverlabel\": {\"namelength\": 0}, \"hovertemplate\": \"Region=14- Lanaudiere<br>Date of Infection=21st<br>Total Number of Cases=%{marker.size}<br>Lat=%{lat}<br>Long=%{lon}\", \"lat\": [46.766667], \"legendgroup\": \"14- Lanaudiere\", \"lon\": [-73.833333], \"marker\": {\"color\": \"#ab63fa\", \"size\": [9.0], \"sizemode\": \"area\", \"sizeref\": 0.67}, \"name\": \"14- Lanaudiere\", \"showlegend\": true, \"type\": \"scattergeo\"}, {\"geo\": \"geo\", \"hoverlabel\": {\"namelength\": 0}, \"hovertemplate\": \"Region=15- Laurentides<br>Date of Infection=21st<br>Total Number of Cases=%{marker.size}<br>Lat=%{lat}<br>Long=%{lon}\", \"lat\": [46.433333], \"legendgroup\": \"15- Laurentides\", \"lon\": [-74.983333], \"marker\": {\"color\": \"#FFA15A\", \"size\": [14.0], \"sizemode\": \"area\", \"sizeref\": 0.67}, \"name\": \"15- Laurentides\", \"showlegend\": true, \"type\": \"scattergeo\"}, {\"geo\": \"geo\", \"hoverlabel\": {\"namelength\": 0}, \"hovertemplate\": \"Region=16- Monteregie<br>Date of Infection=21st<br>Total Number of Cases=%{marker.size}<br>Lat=%{lat}<br>Long=%{lon}\", \"lat\": [45.383333], \"legendgroup\": \"16- Monteregie\", \"lon\": [-73.1], \"marker\": {\"color\": \"#19d3f3\", \"size\": [26.0], \"sizemode\": \"area\", \"sizeref\": 0.67}, \"name\": \"16- Monteregie\", \"showlegend\": true, \"type\": \"scattergeo\"}, {\"geo\": \"geo\", \"hoverlabel\": {\"namelength\": 0}, \"hovertemplate\": \"Region=17- Centre du Quebec<br>Date of Infection=21st<br>Total Number of Cases=%{marker.size}<br>Lat=%{lat}<br>Long=%{lon}\", \"lat\": [46.283333], \"legendgroup\": \"17- Centre du Quebec\", \"lon\": [-72.066667], \"marker\": {\"color\": \"#FF6692\", \"size\": [0.0], \"sizemode\": \"area\", \"sizeref\": 0.67}, \"name\": \"17- Centre du Quebec\", \"showlegend\": true, \"type\": \"scattergeo\"}, {\"geo\": \"geo\", \"hoverlabel\": {\"namelength\": 0}, \"hovertemplate\": \"Region=Undetermined<br>Date of Infection=21st<br>Total Number of Cases=%{marker.size}<br>Lat=%{lat}<br>Long=%{lon}\", \"lat\": [\"na\"], \"legendgroup\": \"Undetermined\", \"lon\": [\"na\"], \"marker\": {\"color\": \"#B6E880\", \"size\": [22.0], \"sizemode\": \"area\", \"sizeref\": 0.67}, \"name\": \"Undetermined\", \"showlegend\": true, \"type\": \"scattergeo\"}, {\"geo\": \"geo\", \"hoverlabel\": {\"namelength\": 0}, \"hovertemplate\": \"Region=Hors Quebec<br>Date of Infection=21st<br>Total Number of Cases=%{marker.size}<br>Lat=%{lat}<br>Long=%{lon}\", \"lat\": [\"na\"], \"legendgroup\": \"Hors Quebec\", \"lon\": [\"na\"], \"marker\": {\"color\": \"#FF97FF\", \"size\": [2.0], \"sizemode\": \"area\", \"sizeref\": 0.67}, \"name\": \"Hors Quebec\", \"showlegend\": true, \"type\": \"scattergeo\"}], \"name\": \"21st\"}, {\"data\": [{\"geo\": \"geo\", \"hoverlabel\": {\"namelength\": 0}, \"hovertemplate\": \"Region=01-Bas-Saint-Laurent<br>Date of Infection=22nd<br>Total Number of Cases=%{marker.size}<br>Lat=%{lat}<br>Long=%{lon}\", \"lat\": [48.333333], \"legendgroup\": \"01-Bas-Saint-Laurent\", \"lon\": [-68.666667], \"marker\": {\"color\": \"#636efa\", \"size\": [1.0], \"sizemode\": \"area\", \"sizeref\": 0.67}, \"name\": \"01-Bas-Saint-Laurent\", \"showlegend\": true, \"type\": \"scattergeo\"}, {\"geo\": \"geo\", \"hoverlabel\": {\"namelength\": 0}, \"hovertemplate\": \"Region=02- Saguenay-Lac-Saint-Jean<br>Date of Infection=22nd<br>Total Number of Cases=%{marker.size}<br>Lat=%{lat}<br>Long=%{lon}\", \"lat\": [49.8667], \"legendgroup\": \"02- Saguenay-Lac-Saint-Jean\", \"lon\": [-71.75], \"marker\": {\"color\": \"#EF553B\", \"size\": [1.0], \"sizemode\": \"area\", \"sizeref\": 0.67}, \"name\": \"02- Saguenay-Lac-Saint-Jean\", \"showlegend\": true, \"type\": \"scattergeo\"}, {\"geo\": \"geo\", \"hoverlabel\": {\"namelength\": 0}, \"hovertemplate\": \"Region=03- Capitale-Nationale<br>Date of Infection=22nd<br>Total Number of Cases=%{marker.size}<br>Lat=%{lat}<br>Long=%{lon}\", \"lat\": [47.333333], \"legendgroup\": \"03- Capitale-Nationale\", \"lon\": [-71.5], \"marker\": {\"color\": \"#00cc96\", \"size\": [13.0], \"sizemode\": \"area\", \"sizeref\": 0.67}, \"name\": \"03- Capitale-Nationale\", \"showlegend\": true, \"type\": \"scattergeo\"}, {\"geo\": \"geo\", \"hoverlabel\": {\"namelength\": 0}, \"hovertemplate\": \"Region=04-Mauricie<br>Date of Infection=22nd<br>Total Number of Cases=%{marker.size}<br>Lat=%{lat}<br>Long=%{lon}\", \"lat\": [47.0], \"legendgroup\": \"04-Mauricie\", \"lon\": [-73.0], \"marker\": {\"color\": \"#ab63fa\", \"size\": [7.0], \"sizemode\": \"area\", \"sizeref\": 0.67}, \"name\": \"04-Mauricie\", \"showlegend\": true, \"type\": \"scattergeo\"}, {\"geo\": \"geo\", \"hoverlabel\": {\"namelength\": 0}, \"hovertemplate\": \"Region=05-Estrie<br>Date of Infection=22nd<br>Total Number of Cases=%{marker.size}<br>Lat=%{lat}<br>Long=%{lon}\", \"lat\": [45.481556], \"legendgroup\": \"05-Estrie\", \"lon\": [-71.667917], \"marker\": {\"color\": \"#FFA15A\", \"size\": [30.0], \"sizemode\": \"area\", \"sizeref\": 0.67}, \"name\": \"05-Estrie\", \"showlegend\": true, \"type\": \"scattergeo\"}, {\"geo\": \"geo\", \"hoverlabel\": {\"namelength\": 0}, \"hovertemplate\": \"Region=06-Montreal<br>Date of Infection=22nd<br>Total Number of Cases=%{marker.size}<br>Lat=%{lat}<br>Long=%{lon}\", \"lat\": [45.5], \"legendgroup\": \"06-Montreal\", \"lon\": [-73.566667], \"marker\": {\"color\": \"#19d3f3\", \"size\": [46.0], \"sizemode\": \"area\", \"sizeref\": 0.67}, \"name\": \"06-Montreal\", \"showlegend\": true, \"type\": \"scattergeo\"}, {\"geo\": \"geo\", \"hoverlabel\": {\"namelength\": 0}, \"hovertemplate\": \"Region=07-Outauais<br>Date of Infection=22nd<br>Total Number of Cases=%{marker.size}<br>Lat=%{lat}<br>Long=%{lon}\", \"lat\": [45.783333], \"legendgroup\": \"07-Outauais\", \"lon\": [-75.083333], \"marker\": {\"color\": \"#FF6692\", \"size\": [5.0], \"sizemode\": \"area\", \"sizeref\": 0.67}, \"name\": \"07-Outauais\", \"showlegend\": true, \"type\": \"scattergeo\"}, {\"geo\": \"geo\", \"hoverlabel\": {\"namelength\": 0}, \"hovertemplate\": \"Region=08-Abititi-Temiscaminigue<br>Date of Infection=22nd<br>Total Number of Cases=%{marker.size}<br>Lat=%{lat}<br>Long=%{lon}\", \"lat\": [48.233333], \"legendgroup\": \"08-Abititi-Temiscaminigue\", \"lon\": [-79.016667], \"marker\": {\"color\": \"#B6E880\", \"size\": [0.0], \"sizemode\": \"area\", \"sizeref\": 0.67}, \"name\": \"08-Abititi-Temiscaminigue\", \"showlegend\": true, \"type\": \"scattergeo\"}, {\"geo\": \"geo\", \"hoverlabel\": {\"namelength\": 0}, \"hovertemplate\": \"Region=9-Cote-Nord<br>Date of Infection=22nd<br>Total Number of Cases=%{marker.size}<br>Lat=%{lat}<br>Long=%{lon}\", \"lat\": [50.866667], \"legendgroup\": \"9-Cote-Nord\", \"lon\": [-65.816667], \"marker\": {\"color\": \"#FF97FF\", \"size\": [0.0], \"sizemode\": \"area\", \"sizeref\": 0.67}, \"name\": \"9-Cote-Nord\", \"showlegend\": true, \"type\": \"scattergeo\"}, {\"geo\": \"geo\", \"hoverlabel\": {\"namelength\": 0}, \"hovertemplate\": \"Region=10-Nord-du-Quebec<br>Date of Infection=22nd<br>Total Number of Cases=%{marker.size}<br>Lat=%{lat}<br>Long=%{lon}\", \"lat\": [56.166667], \"legendgroup\": \"10-Nord-du-Quebec\", \"lon\": [-74.416667], \"marker\": {\"color\": \"#FECB52\", \"size\": [1.0], \"sizemode\": \"area\", \"sizeref\": 0.67}, \"name\": \"10-Nord-du-Quebec\", \"showlegend\": true, \"type\": \"scattergeo\"}, {\"geo\": \"geo\", \"hoverlabel\": {\"namelength\": 0}, \"hovertemplate\": \"Region=11- Gaspesie-Iles-de-la-Madelaine<br>Date of Infection=22nd<br>Total Number of Cases=%{marker.size}<br>Lat=%{lat}<br>Long=%{lon}\", \"lat\": [48.683333], \"legendgroup\": \"11- Gaspesie-Iles-de-la-Madelaine\", \"lon\": [-65.4], \"marker\": {\"color\": \"#636efa\", \"size\": [0.0], \"sizemode\": \"area\", \"sizeref\": 0.67}, \"name\": \"11- Gaspesie-Iles-de-la-Madelaine\", \"showlegend\": true, \"type\": \"scattergeo\"}, {\"geo\": \"geo\", \"hoverlabel\": {\"namelength\": 0}, \"hovertemplate\": \"Region=12-Chaudiere-Appalaches<br>Date of Infection=22nd<br>Total Number of Cases=%{marker.size}<br>Lat=%{lat}<br>Long=%{lon}\", \"lat\": [46.483333], \"legendgroup\": \"12-Chaudiere-Appalaches\", \"lon\": [-70.616667], \"marker\": {\"color\": \"#EF553B\", \"size\": [13.0], \"sizemode\": \"area\", \"sizeref\": 0.67}, \"name\": \"12-Chaudiere-Appalaches\", \"showlegend\": true, \"type\": \"scattergeo\"}, {\"geo\": \"geo\", \"hoverlabel\": {\"namelength\": 0}, \"hovertemplate\": \"Region=13- Laval<br>Date of Infection=22nd<br>Total Number of Cases=%{marker.size}<br>Lat=%{lat}<br>Long=%{lon}\", \"lat\": [45.583333], \"legendgroup\": \"13- Laval\", \"lon\": [-73.75], \"marker\": {\"color\": \"#00cc96\", \"size\": [4.0], \"sizemode\": \"area\", \"sizeref\": 0.67}, \"name\": \"13- Laval\", \"showlegend\": true, \"type\": \"scattergeo\"}, {\"geo\": \"geo\", \"hoverlabel\": {\"namelength\": 0}, \"hovertemplate\": \"Region=14- Lanaudiere<br>Date of Infection=22nd<br>Total Number of Cases=%{marker.size}<br>Lat=%{lat}<br>Long=%{lon}\", \"lat\": [46.766667], \"legendgroup\": \"14- Lanaudiere\", \"lon\": [-73.833333], \"marker\": {\"color\": \"#ab63fa\", \"size\": [15.0], \"sizemode\": \"area\", \"sizeref\": 0.67}, \"name\": \"14- Lanaudiere\", \"showlegend\": true, \"type\": \"scattergeo\"}, {\"geo\": \"geo\", \"hoverlabel\": {\"namelength\": 0}, \"hovertemplate\": \"Region=15- Laurentides<br>Date of Infection=22nd<br>Total Number of Cases=%{marker.size}<br>Lat=%{lat}<br>Long=%{lon}\", \"lat\": [46.433333], \"legendgroup\": \"15- Laurentides\", \"lon\": [-74.983333], \"marker\": {\"color\": \"#FFA15A\", \"size\": [17.0], \"sizemode\": \"area\", \"sizeref\": 0.67}, \"name\": \"15- Laurentides\", \"showlegend\": true, \"type\": \"scattergeo\"}, {\"geo\": \"geo\", \"hoverlabel\": {\"namelength\": 0}, \"hovertemplate\": \"Region=16- Monteregie<br>Date of Infection=22nd<br>Total Number of Cases=%{marker.size}<br>Lat=%{lat}<br>Long=%{lon}\", \"lat\": [45.383333], \"legendgroup\": \"16- Monteregie\", \"lon\": [-73.1], \"marker\": {\"color\": \"#19d3f3\", \"size\": [40.0], \"sizemode\": \"area\", \"sizeref\": 0.67}, \"name\": \"16- Monteregie\", \"showlegend\": true, \"type\": \"scattergeo\"}, {\"geo\": \"geo\", \"hoverlabel\": {\"namelength\": 0}, \"hovertemplate\": \"Region=17- Centre du Quebec<br>Date of Infection=22nd<br>Total Number of Cases=%{marker.size}<br>Lat=%{lat}<br>Long=%{lon}\", \"lat\": [46.283333], \"legendgroup\": \"17- Centre du Quebec\", \"lon\": [-72.066667], \"marker\": {\"color\": \"#FF6692\", \"size\": [0.0], \"sizemode\": \"area\", \"sizeref\": 0.67}, \"name\": \"17- Centre du Quebec\", \"showlegend\": true, \"type\": \"scattergeo\"}, {\"geo\": \"geo\", \"hoverlabel\": {\"namelength\": 0}, \"hovertemplate\": \"Region=Undetermined<br>Date of Infection=22nd<br>Total Number of Cases=%{marker.size}<br>Lat=%{lat}<br>Long=%{lon}\", \"lat\": [\"na\"], \"legendgroup\": \"Undetermined\", \"lon\": [\"na\"], \"marker\": {\"color\": \"#B6E880\", \"size\": [24.0], \"sizemode\": \"area\", \"sizeref\": 0.67}, \"name\": \"Undetermined\", \"showlegend\": true, \"type\": \"scattergeo\"}, {\"geo\": \"geo\", \"hoverlabel\": {\"namelength\": 0}, \"hovertemplate\": \"Region=Hors Quebec<br>Date of Infection=22nd<br>Total Number of Cases=%{marker.size}<br>Lat=%{lat}<br>Long=%{lon}\", \"lat\": [\"na\"], \"legendgroup\": \"Hors Quebec\", \"lon\": [\"na\"], \"marker\": {\"color\": \"#FF97FF\", \"size\": [2.0], \"sizemode\": \"area\", \"sizeref\": 0.67}, \"name\": \"Hors Quebec\", \"showlegend\": true, \"type\": \"scattergeo\"}], \"name\": \"22nd\"}, {\"data\": [{\"geo\": \"geo\", \"hoverlabel\": {\"namelength\": 0}, \"hovertemplate\": \"Region=01-Bas-Saint-Laurent<br>Date of Infection=23rd<br>Total Number of Cases=%{marker.size}<br>Lat=%{lat}<br>Long=%{lon}\", \"lat\": [48.333333], \"legendgroup\": \"01-Bas-Saint-Laurent\", \"lon\": [-68.666667], \"marker\": {\"color\": \"#636efa\", \"size\": [3.0], \"sizemode\": \"area\", \"sizeref\": 0.67}, \"name\": \"01-Bas-Saint-Laurent\", \"showlegend\": true, \"type\": \"scattergeo\"}, {\"geo\": \"geo\", \"hoverlabel\": {\"namelength\": 0}, \"hovertemplate\": \"Region=02- Saguenay-Lac-Saint-Jean<br>Date of Infection=23rd<br>Total Number of Cases=%{marker.size}<br>Lat=%{lat}<br>Long=%{lon}\", \"lat\": [49.8667], \"legendgroup\": \"02- Saguenay-Lac-Saint-Jean\", \"lon\": [-71.75], \"marker\": {\"color\": \"#EF553B\", \"size\": [1.0], \"sizemode\": \"area\", \"sizeref\": 0.67}, \"name\": \"02- Saguenay-Lac-Saint-Jean\", \"showlegend\": true, \"type\": \"scattergeo\"}, {\"geo\": \"geo\", \"hoverlabel\": {\"namelength\": 0}, \"hovertemplate\": \"Region=03- Capitale-Nationale<br>Date of Infection=23rd<br>Total Number of Cases=%{marker.size}<br>Lat=%{lat}<br>Long=%{lon}\", \"lat\": [47.333333], \"legendgroup\": \"03- Capitale-Nationale\", \"lon\": [-71.5], \"marker\": {\"color\": \"#00cc96\", \"size\": [33.0], \"sizemode\": \"area\", \"sizeref\": 0.67}, \"name\": \"03- Capitale-Nationale\", \"showlegend\": true, \"type\": \"scattergeo\"}, {\"geo\": \"geo\", \"hoverlabel\": {\"namelength\": 0}, \"hovertemplate\": \"Region=04-Mauricie<br>Date of Infection=23rd<br>Total Number of Cases=%{marker.size}<br>Lat=%{lat}<br>Long=%{lon}\", \"lat\": [47.0], \"legendgroup\": \"04-Mauricie\", \"lon\": [-73.0], \"marker\": {\"color\": \"#ab63fa\", \"size\": [16.0], \"sizemode\": \"area\", \"sizeref\": 0.67}, \"name\": \"04-Mauricie\", \"showlegend\": true, \"type\": \"scattergeo\"}, {\"geo\": \"geo\", \"hoverlabel\": {\"namelength\": 0}, \"hovertemplate\": \"Region=05-Estrie<br>Date of Infection=23rd<br>Total Number of Cases=%{marker.size}<br>Lat=%{lat}<br>Long=%{lon}\", \"lat\": [45.481556], \"legendgroup\": \"05-Estrie\", \"lon\": [-71.667917], \"marker\": {\"color\": \"#FFA15A\", \"size\": [48.0], \"sizemode\": \"area\", \"sizeref\": 0.67}, \"name\": \"05-Estrie\", \"showlegend\": true, \"type\": \"scattergeo\"}, {\"geo\": \"geo\", \"hoverlabel\": {\"namelength\": 0}, \"hovertemplate\": \"Region=06-Montreal<br>Date of Infection=23rd<br>Total Number of Cases=%{marker.size}<br>Lat=%{lat}<br>Long=%{lon}\", \"lat\": [45.5], \"legendgroup\": \"06-Montreal\", \"lon\": [-73.566667], \"marker\": {\"color\": \"#19d3f3\", \"size\": [265.0], \"sizemode\": \"area\", \"sizeref\": 0.67}, \"name\": \"06-Montreal\", \"showlegend\": true, \"type\": \"scattergeo\"}, {\"geo\": \"geo\", \"hoverlabel\": {\"namelength\": 0}, \"hovertemplate\": \"Region=07-Outauais<br>Date of Infection=23rd<br>Total Number of Cases=%{marker.size}<br>Lat=%{lat}<br>Long=%{lon}\", \"lat\": [45.783333], \"legendgroup\": \"07-Outauais\", \"lon\": [-75.083333], \"marker\": {\"color\": \"#FF6692\", \"size\": [8.0], \"sizemode\": \"area\", \"sizeref\": 0.67}, \"name\": \"07-Outauais\", \"showlegend\": true, \"type\": \"scattergeo\"}, {\"geo\": \"geo\", \"hoverlabel\": {\"namelength\": 0}, \"hovertemplate\": \"Region=08-Abititi-Temiscaminigue<br>Date of Infection=23rd<br>Total Number of Cases=%{marker.size}<br>Lat=%{lat}<br>Long=%{lon}\", \"lat\": [48.233333], \"legendgroup\": \"08-Abititi-Temiscaminigue\", \"lon\": [-79.016667], \"marker\": {\"color\": \"#B6E880\", \"size\": [3.0], \"sizemode\": \"area\", \"sizeref\": 0.67}, \"name\": \"08-Abititi-Temiscaminigue\", \"showlegend\": true, \"type\": \"scattergeo\"}, {\"geo\": \"geo\", \"hoverlabel\": {\"namelength\": 0}, \"hovertemplate\": \"Region=9-Cote-Nord<br>Date of Infection=23rd<br>Total Number of Cases=%{marker.size}<br>Lat=%{lat}<br>Long=%{lon}\", \"lat\": [50.866667], \"legendgroup\": \"9-Cote-Nord\", \"lon\": [-65.816667], \"marker\": {\"color\": \"#FF97FF\", \"size\": [0.0], \"sizemode\": \"area\", \"sizeref\": 0.67}, \"name\": \"9-Cote-Nord\", \"showlegend\": true, \"type\": \"scattergeo\"}, {\"geo\": \"geo\", \"hoverlabel\": {\"namelength\": 0}, \"hovertemplate\": \"Region=10-Nord-du-Quebec<br>Date of Infection=23rd<br>Total Number of Cases=%{marker.size}<br>Lat=%{lat}<br>Long=%{lon}\", \"lat\": [56.166667], \"legendgroup\": \"10-Nord-du-Quebec\", \"lon\": [-74.416667], \"marker\": {\"color\": \"#FECB52\", \"size\": [1.0], \"sizemode\": \"area\", \"sizeref\": 0.67}, \"name\": \"10-Nord-du-Quebec\", \"showlegend\": true, \"type\": \"scattergeo\"}, {\"geo\": \"geo\", \"hoverlabel\": {\"namelength\": 0}, \"hovertemplate\": \"Region=11- Gaspesie-Iles-de-la-Madelaine<br>Date of Infection=23rd<br>Total Number of Cases=%{marker.size}<br>Lat=%{lat}<br>Long=%{lon}\", \"lat\": [48.683333], \"legendgroup\": \"11- Gaspesie-Iles-de-la-Madelaine\", \"lon\": [-65.4], \"marker\": {\"color\": \"#636efa\", \"size\": [3.0], \"sizemode\": \"area\", \"sizeref\": 0.67}, \"name\": \"11- Gaspesie-Iles-de-la-Madelaine\", \"showlegend\": true, \"type\": \"scattergeo\"}, {\"geo\": \"geo\", \"hoverlabel\": {\"namelength\": 0}, \"hovertemplate\": \"Region=12-Chaudiere-Appalaches<br>Date of Infection=23rd<br>Total Number of Cases=%{marker.size}<br>Lat=%{lat}<br>Long=%{lon}\", \"lat\": [46.483333], \"legendgroup\": \"12-Chaudiere-Appalaches\", \"lon\": [-70.616667], \"marker\": {\"color\": \"#EF553B\", \"size\": [15.0], \"sizemode\": \"area\", \"sizeref\": 0.67}, \"name\": \"12-Chaudiere-Appalaches\", \"showlegend\": true, \"type\": \"scattergeo\"}, {\"geo\": \"geo\", \"hoverlabel\": {\"namelength\": 0}, \"hovertemplate\": \"Region=13- Laval<br>Date of Infection=23rd<br>Total Number of Cases=%{marker.size}<br>Lat=%{lat}<br>Long=%{lon}\", \"lat\": [45.583333], \"legendgroup\": \"13- Laval\", \"lon\": [-73.75], \"marker\": {\"color\": \"#00cc96\", \"size\": [21.0], \"sizemode\": \"area\", \"sizeref\": 0.67}, \"name\": \"13- Laval\", \"showlegend\": true, \"type\": \"scattergeo\"}, {\"geo\": \"geo\", \"hoverlabel\": {\"namelength\": 0}, \"hovertemplate\": \"Region=14- Lanaudiere<br>Date of Infection=23rd<br>Total Number of Cases=%{marker.size}<br>Lat=%{lat}<br>Long=%{lon}\", \"lat\": [46.766667], \"legendgroup\": \"14- Lanaudiere\", \"lon\": [-73.833333], \"marker\": {\"color\": \"#ab63fa\", \"size\": [50.0], \"sizemode\": \"area\", \"sizeref\": 0.67}, \"name\": \"14- Lanaudiere\", \"showlegend\": true, \"type\": \"scattergeo\"}, {\"geo\": \"geo\", \"hoverlabel\": {\"namelength\": 0}, \"hovertemplate\": \"Region=15- Laurentides<br>Date of Infection=23rd<br>Total Number of Cases=%{marker.size}<br>Lat=%{lat}<br>Long=%{lon}\", \"lat\": [46.433333], \"legendgroup\": \"15- Laurentides\", \"lon\": [-74.983333], \"marker\": {\"color\": \"#FFA15A\", \"size\": [30.0], \"sizemode\": \"area\", \"sizeref\": 0.67}, \"name\": \"15- Laurentides\", \"showlegend\": true, \"type\": \"scattergeo\"}, {\"geo\": \"geo\", \"hoverlabel\": {\"namelength\": 0}, \"hovertemplate\": \"Region=16- Monteregie<br>Date of Infection=23rd<br>Total Number of Cases=%{marker.size}<br>Lat=%{lat}<br>Long=%{lon}\", \"lat\": [45.383333], \"legendgroup\": \"16- Monteregie\", \"lon\": [-73.1], \"marker\": {\"color\": \"#19d3f3\", \"size\": [66.0], \"sizemode\": \"area\", \"sizeref\": 0.67}, \"name\": \"16- Monteregie\", \"showlegend\": true, \"type\": \"scattergeo\"}, {\"geo\": \"geo\", \"hoverlabel\": {\"namelength\": 0}, \"hovertemplate\": \"Region=17- Centre du Quebec<br>Date of Infection=23rd<br>Total Number of Cases=%{marker.size}<br>Lat=%{lat}<br>Long=%{lon}\", \"lat\": [46.283333], \"legendgroup\": \"17- Centre du Quebec\", \"lon\": [-72.066667], \"marker\": {\"color\": \"#FF6692\", \"size\": [0.0], \"sizemode\": \"area\", \"sizeref\": 0.67}, \"name\": \"17- Centre du Quebec\", \"showlegend\": true, \"type\": \"scattergeo\"}, {\"geo\": \"geo\", \"hoverlabel\": {\"namelength\": 0}, \"hovertemplate\": \"Region=Undetermined<br>Date of Infection=23rd<br>Total Number of Cases=%{marker.size}<br>Lat=%{lat}<br>Long=%{lon}\", \"lat\": [\"na\"], \"legendgroup\": \"Undetermined\", \"lon\": [\"na\"], \"marker\": {\"color\": \"#B6E880\", \"size\": [62.0], \"sizemode\": \"area\", \"sizeref\": 0.67}, \"name\": \"Undetermined\", \"showlegend\": true, \"type\": \"scattergeo\"}, {\"geo\": \"geo\", \"hoverlabel\": {\"namelength\": 0}, \"hovertemplate\": \"Region=Hors Quebec<br>Date of Infection=23rd<br>Total Number of Cases=%{marker.size}<br>Lat=%{lat}<br>Long=%{lon}\", \"lat\": [\"na\"], \"legendgroup\": \"Hors Quebec\", \"lon\": [\"na\"], \"marker\": {\"color\": \"#FF97FF\", \"size\": [3.0], \"sizemode\": \"area\", \"sizeref\": 0.67}, \"name\": \"Hors Quebec\", \"showlegend\": true, \"type\": \"scattergeo\"}], \"name\": \"23rd\"}, {\"data\": [{\"geo\": \"geo\", \"hoverlabel\": {\"namelength\": 0}, \"hovertemplate\": \"Region=01-Bas-Saint-Laurent<br>Date of Infection=24th<br>Total Number of Cases=%{marker.size}<br>Lat=%{lat}<br>Long=%{lon}\", \"lat\": [48.333333], \"legendgroup\": \"01-Bas-Saint-Laurent\", \"lon\": [-68.666667], \"marker\": {\"color\": \"#636efa\", \"size\": [4.0], \"sizemode\": \"area\", \"sizeref\": 0.67}, \"name\": \"01-Bas-Saint-Laurent\", \"showlegend\": true, \"type\": \"scattergeo\"}, {\"geo\": \"geo\", \"hoverlabel\": {\"namelength\": 0}, \"hovertemplate\": \"Region=02- Saguenay-Lac-Saint-Jean<br>Date of Infection=24th<br>Total Number of Cases=%{marker.size}<br>Lat=%{lat}<br>Long=%{lon}\", \"lat\": [49.8667], \"legendgroup\": \"02- Saguenay-Lac-Saint-Jean\", \"lon\": [-71.75], \"marker\": {\"color\": \"#EF553B\", \"size\": [5.0], \"sizemode\": \"area\", \"sizeref\": 0.67}, \"name\": \"02- Saguenay-Lac-Saint-Jean\", \"showlegend\": true, \"type\": \"scattergeo\"}, {\"geo\": \"geo\", \"hoverlabel\": {\"namelength\": 0}, \"hovertemplate\": \"Region=03- Capitale-Nationale<br>Date of Infection=24th<br>Total Number of Cases=%{marker.size}<br>Lat=%{lat}<br>Long=%{lon}\", \"lat\": [47.333333], \"legendgroup\": \"03- Capitale-Nationale\", \"lon\": [-71.5], \"marker\": {\"color\": \"#00cc96\", \"size\": [79.0], \"sizemode\": \"area\", \"sizeref\": 0.67}, \"name\": \"03- Capitale-Nationale\", \"showlegend\": true, \"type\": \"scattergeo\"}, {\"geo\": \"geo\", \"hoverlabel\": {\"namelength\": 0}, \"hovertemplate\": \"Region=04-Mauricie<br>Date of Infection=24th<br>Total Number of Cases=%{marker.size}<br>Lat=%{lat}<br>Long=%{lon}\", \"lat\": [47.0], \"legendgroup\": \"04-Mauricie\", \"lon\": [-73.0], \"marker\": {\"color\": \"#ab63fa\", \"size\": [32.0], \"sizemode\": \"area\", \"sizeref\": 0.67}, \"name\": \"04-Mauricie\", \"showlegend\": true, \"type\": \"scattergeo\"}, {\"geo\": \"geo\", \"hoverlabel\": {\"namelength\": 0}, \"hovertemplate\": \"Region=05-Estrie<br>Date of Infection=24th<br>Total Number of Cases=%{marker.size}<br>Lat=%{lat}<br>Long=%{lon}\", \"lat\": [45.481556], \"legendgroup\": \"05-Estrie\", \"lon\": [-71.667917], \"marker\": {\"color\": \"#FFA15A\", \"size\": [130.0], \"sizemode\": \"area\", \"sizeref\": 0.67}, \"name\": \"05-Estrie\", \"showlegend\": true, \"type\": \"scattergeo\"}, {\"geo\": \"geo\", \"hoverlabel\": {\"namelength\": 0}, \"hovertemplate\": \"Region=06-Montreal<br>Date of Infection=24th<br>Total Number of Cases=%{marker.size}<br>Lat=%{lat}<br>Long=%{lon}\", \"lat\": [45.5], \"legendgroup\": \"06-Montreal\", \"lon\": [-73.566667], \"marker\": {\"color\": \"#19d3f3\", \"size\": [439.0], \"sizemode\": \"area\", \"sizeref\": 0.67}, \"name\": \"06-Montreal\", \"showlegend\": true, \"type\": \"scattergeo\"}, {\"geo\": \"geo\", \"hoverlabel\": {\"namelength\": 0}, \"hovertemplate\": \"Region=07-Outauais<br>Date of Infection=24th<br>Total Number of Cases=%{marker.size}<br>Lat=%{lat}<br>Long=%{lon}\", \"lat\": [45.783333], \"legendgroup\": \"07-Outauais\", \"lon\": [-75.083333], \"marker\": {\"color\": \"#FF6692\", \"size\": [12.0], \"sizemode\": \"area\", \"sizeref\": 0.67}, \"name\": \"07-Outauais\", \"showlegend\": true, \"type\": \"scattergeo\"}, {\"geo\": \"geo\", \"hoverlabel\": {\"namelength\": 0}, \"hovertemplate\": \"Region=08-Abititi-Temiscaminigue<br>Date of Infection=24th<br>Total Number of Cases=%{marker.size}<br>Lat=%{lat}<br>Long=%{lon}\", \"lat\": [48.233333], \"legendgroup\": \"08-Abititi-Temiscaminigue\", \"lon\": [-79.016667], \"marker\": {\"color\": \"#B6E880\", \"size\": [5.0], \"sizemode\": \"area\", \"sizeref\": 0.67}, \"name\": \"08-Abititi-Temiscaminigue\", \"showlegend\": true, \"type\": \"scattergeo\"}, {\"geo\": \"geo\", \"hoverlabel\": {\"namelength\": 0}, \"hovertemplate\": \"Region=9-Cote-Nord<br>Date of Infection=24th<br>Total Number of Cases=%{marker.size}<br>Lat=%{lat}<br>Long=%{lon}\", \"lat\": [50.866667], \"legendgroup\": \"9-Cote-Nord\", \"lon\": [-65.816667], \"marker\": {\"color\": \"#FF97FF\", \"size\": [1.0], \"sizemode\": \"area\", \"sizeref\": 0.67}, \"name\": \"9-Cote-Nord\", \"showlegend\": true, \"type\": \"scattergeo\"}, {\"geo\": \"geo\", \"hoverlabel\": {\"namelength\": 0}, \"hovertemplate\": \"Region=10-Nord-du-Quebec<br>Date of Infection=24th<br>Total Number of Cases=%{marker.size}<br>Lat=%{lat}<br>Long=%{lon}\", \"lat\": [56.166667], \"legendgroup\": \"10-Nord-du-Quebec\", \"lon\": [-74.416667], \"marker\": {\"color\": \"#FECB52\", \"size\": [1.0], \"sizemode\": \"area\", \"sizeref\": 0.67}, \"name\": \"10-Nord-du-Quebec\", \"showlegend\": true, \"type\": \"scattergeo\"}, {\"geo\": \"geo\", \"hoverlabel\": {\"namelength\": 0}, \"hovertemplate\": \"Region=11- Gaspesie-Iles-de-la-Madelaine<br>Date of Infection=24th<br>Total Number of Cases=%{marker.size}<br>Lat=%{lat}<br>Long=%{lon}\", \"lat\": [48.683333], \"legendgroup\": \"11- Gaspesie-Iles-de-la-Madelaine\", \"lon\": [-65.4], \"marker\": {\"color\": \"#636efa\", \"size\": [7.0], \"sizemode\": \"area\", \"sizeref\": 0.67}, \"name\": \"11- Gaspesie-Iles-de-la-Madelaine\", \"showlegend\": true, \"type\": \"scattergeo\"}, {\"geo\": \"geo\", \"hoverlabel\": {\"namelength\": 0}, \"hovertemplate\": \"Region=12-Chaudiere-Appalaches<br>Date of Infection=24th<br>Total Number of Cases=%{marker.size}<br>Lat=%{lat}<br>Long=%{lon}\", \"lat\": [46.483333], \"legendgroup\": \"12-Chaudiere-Appalaches\", \"lon\": [-70.616667], \"marker\": {\"color\": \"#EF553B\", \"size\": [14.0], \"sizemode\": \"area\", \"sizeref\": 0.67}, \"name\": \"12-Chaudiere-Appalaches\", \"showlegend\": true, \"type\": \"scattergeo\"}, {\"geo\": \"geo\", \"hoverlabel\": {\"namelength\": 0}, \"hovertemplate\": \"Region=13- Laval<br>Date of Infection=24th<br>Total Number of Cases=%{marker.size}<br>Lat=%{lat}<br>Long=%{lon}\", \"lat\": [45.583333], \"legendgroup\": \"13- Laval\", \"lon\": [-73.75], \"marker\": {\"color\": \"#00cc96\", \"size\": [60.0], \"sizemode\": \"area\", \"sizeref\": 0.67}, \"name\": \"13- Laval\", \"showlegend\": true, \"type\": \"scattergeo\"}, {\"geo\": \"geo\", \"hoverlabel\": {\"namelength\": 0}, \"hovertemplate\": \"Region=14- Lanaudiere<br>Date of Infection=24th<br>Total Number of Cases=%{marker.size}<br>Lat=%{lat}<br>Long=%{lon}\", \"lat\": [46.766667], \"legendgroup\": \"14- Lanaudiere\", \"lon\": [-73.833333], \"marker\": {\"color\": \"#ab63fa\", \"size\": [55.0], \"sizemode\": \"area\", \"sizeref\": 0.67}, \"name\": \"14- Lanaudiere\", \"showlegend\": true, \"type\": \"scattergeo\"}, {\"geo\": \"geo\", \"hoverlabel\": {\"namelength\": 0}, \"hovertemplate\": \"Region=15- Laurentides<br>Date of Infection=24th<br>Total Number of Cases=%{marker.size}<br>Lat=%{lat}<br>Long=%{lon}\", \"lat\": [46.433333], \"legendgroup\": \"15- Laurentides\", \"lon\": [-74.983333], \"marker\": {\"color\": \"#FFA15A\", \"size\": [44.0], \"sizemode\": \"area\", \"sizeref\": 0.67}, \"name\": \"15- Laurentides\", \"showlegend\": true, \"type\": \"scattergeo\"}, {\"geo\": \"geo\", \"hoverlabel\": {\"namelength\": 0}, \"hovertemplate\": \"Region=16- Monteregie<br>Date of Infection=24th<br>Total Number of Cases=%{marker.size}<br>Lat=%{lat}<br>Long=%{lon}\", \"lat\": [45.383333], \"legendgroup\": \"16- Monteregie\", \"lon\": [-73.1], \"marker\": {\"color\": \"#19d3f3\", \"size\": [125.0], \"sizemode\": \"area\", \"sizeref\": 0.67}, \"name\": \"16- Monteregie\", \"showlegend\": true, \"type\": \"scattergeo\"}, {\"geo\": \"geo\", \"hoverlabel\": {\"namelength\": 0}, \"hovertemplate\": \"Region=17- Centre du Quebec<br>Date of Infection=24th<br>Total Number of Cases=%{marker.size}<br>Lat=%{lat}<br>Long=%{lon}\", \"lat\": [46.283333], \"legendgroup\": \"17- Centre du Quebec\", \"lon\": [-72.066667], \"marker\": {\"color\": \"#FF6692\", \"size\": [0.0], \"sizemode\": \"area\", \"sizeref\": 0.67}, \"name\": \"17- Centre du Quebec\", \"showlegend\": true, \"type\": \"scattergeo\"}, {\"geo\": \"geo\", \"hoverlabel\": {\"namelength\": 0}, \"hovertemplate\": \"Region=Undetermined<br>Date of Infection=24th<br>Total Number of Cases=%{marker.size}<br>Lat=%{lat}<br>Long=%{lon}\", \"lat\": [\"na\"], \"legendgroup\": \"Undetermined\", \"lon\": [\"na\"], \"marker\": {\"color\": \"#B6E880\", \"size\": [0.0], \"sizemode\": \"area\", \"sizeref\": 0.67}, \"name\": \"Undetermined\", \"showlegend\": true, \"type\": \"scattergeo\"}, {\"geo\": \"geo\", \"hoverlabel\": {\"namelength\": 0}, \"hovertemplate\": \"Region=Hors Quebec<br>Date of Infection=24th<br>Total Number of Cases=%{marker.size}<br>Lat=%{lat}<br>Long=%{lon}\", \"lat\": [\"na\"], \"legendgroup\": \"Hors Quebec\", \"lon\": [\"na\"], \"marker\": {\"color\": \"#FF97FF\", \"size\": [0.0], \"sizemode\": \"area\", \"sizeref\": 0.67}, \"name\": \"Hors Quebec\", \"showlegend\": true, \"type\": \"scattergeo\"}], \"name\": \"24th\"}, {\"data\": [{\"geo\": \"geo\", \"hoverlabel\": {\"namelength\": 0}, \"hovertemplate\": \"Region=01-Bas-Saint-Laurent<br>Date of Infection=25th<br>Total Number of Cases=%{marker.size}<br>Lat=%{lat}<br>Long=%{lon}\", \"lat\": [48.333333], \"legendgroup\": \"01-Bas-Saint-Laurent\", \"lon\": [-68.666667], \"marker\": {\"color\": \"#636efa\", \"size\": [6.0], \"sizemode\": \"area\", \"sizeref\": 0.67}, \"name\": \"01-Bas-Saint-Laurent\", \"showlegend\": true, \"type\": \"scattergeo\"}, {\"geo\": \"geo\", \"hoverlabel\": {\"namelength\": 0}, \"hovertemplate\": \"Region=02- Saguenay-Lac-Saint-Jean<br>Date of Infection=25th<br>Total Number of Cases=%{marker.size}<br>Lat=%{lat}<br>Long=%{lon}\", \"lat\": [49.8667], \"legendgroup\": \"02- Saguenay-Lac-Saint-Jean\", \"lon\": [-71.75], \"marker\": {\"color\": \"#EF553B\", \"size\": [8.0], \"sizemode\": \"area\", \"sizeref\": 0.67}, \"name\": \"02- Saguenay-Lac-Saint-Jean\", \"showlegend\": true, \"type\": \"scattergeo\"}, {\"geo\": \"geo\", \"hoverlabel\": {\"namelength\": 0}, \"hovertemplate\": \"Region=03- Capitale-Nationale<br>Date of Infection=25th<br>Total Number of Cases=%{marker.size}<br>Lat=%{lat}<br>Long=%{lon}\", \"lat\": [47.333333], \"legendgroup\": \"03- Capitale-Nationale\", \"lon\": [-71.5], \"marker\": {\"color\": \"#00cc96\", \"size\": [95.0], \"sizemode\": \"area\", \"sizeref\": 0.67}, \"name\": \"03- Capitale-Nationale\", \"showlegend\": true, \"type\": \"scattergeo\"}, {\"geo\": \"geo\", \"hoverlabel\": {\"namelength\": 0}, \"hovertemplate\": \"Region=04-Mauricie<br>Date of Infection=25th<br>Total Number of Cases=%{marker.size}<br>Lat=%{lat}<br>Long=%{lon}\", \"lat\": [47.0], \"legendgroup\": \"04-Mauricie\", \"lon\": [-73.0], \"marker\": {\"color\": \"#ab63fa\", \"size\": [35.0], \"sizemode\": \"area\", \"sizeref\": 0.67}, \"name\": \"04-Mauricie\", \"showlegend\": true, \"type\": \"scattergeo\"}, {\"geo\": \"geo\", \"hoverlabel\": {\"namelength\": 0}, \"hovertemplate\": \"Region=05-Estrie<br>Date of Infection=25th<br>Total Number of Cases=%{marker.size}<br>Lat=%{lat}<br>Long=%{lon}\", \"lat\": [45.481556], \"legendgroup\": \"05-Estrie\", \"lon\": [-71.667917], \"marker\": {\"color\": \"#FFA15A\", \"size\": [169.0], \"sizemode\": \"area\", \"sizeref\": 0.67}, \"name\": \"05-Estrie\", \"showlegend\": true, \"type\": \"scattergeo\"}, {\"geo\": \"geo\", \"hoverlabel\": {\"namelength\": 0}, \"hovertemplate\": \"Region=06-Montreal<br>Date of Infection=25th<br>Total Number of Cases=%{marker.size}<br>Lat=%{lat}<br>Long=%{lon}\", \"lat\": [45.5], \"legendgroup\": \"06-Montreal\", \"lon\": [-73.566667], \"marker\": {\"color\": \"#19d3f3\", \"size\": [603.0], \"sizemode\": \"area\", \"sizeref\": 0.67}, \"name\": \"06-Montreal\", \"showlegend\": true, \"type\": \"scattergeo\"}, {\"geo\": \"geo\", \"hoverlabel\": {\"namelength\": 0}, \"hovertemplate\": \"Region=07-Outauais<br>Date of Infection=25th<br>Total Number of Cases=%{marker.size}<br>Lat=%{lat}<br>Long=%{lon}\", \"lat\": [45.783333], \"legendgroup\": \"07-Outauais\", \"lon\": [-75.083333], \"marker\": {\"color\": \"#FF6692\", \"size\": [13.0], \"sizemode\": \"area\", \"sizeref\": 0.67}, \"name\": \"07-Outauais\", \"showlegend\": true, \"type\": \"scattergeo\"}, {\"geo\": \"geo\", \"hoverlabel\": {\"namelength\": 0}, \"hovertemplate\": \"Region=08-Abititi-Temiscaminigue<br>Date of Infection=25th<br>Total Number of Cases=%{marker.size}<br>Lat=%{lat}<br>Long=%{lon}\", \"lat\": [48.233333], \"legendgroup\": \"08-Abititi-Temiscaminigue\", \"lon\": [-79.016667], \"marker\": {\"color\": \"#B6E880\", \"size\": [5.0], \"sizemode\": \"area\", \"sizeref\": 0.67}, \"name\": \"08-Abititi-Temiscaminigue\", \"showlegend\": true, \"type\": \"scattergeo\"}, {\"geo\": \"geo\", \"hoverlabel\": {\"namelength\": 0}, \"hovertemplate\": \"Region=9-Cote-Nord<br>Date of Infection=25th<br>Total Number of Cases=%{marker.size}<br>Lat=%{lat}<br>Long=%{lon}\", \"lat\": [50.866667], \"legendgroup\": \"9-Cote-Nord\", \"lon\": [-65.816667], \"marker\": {\"color\": \"#FF97FF\", \"size\": [2.0], \"sizemode\": \"area\", \"sizeref\": 0.67}, \"name\": \"9-Cote-Nord\", \"showlegend\": true, \"type\": \"scattergeo\"}, {\"geo\": \"geo\", \"hoverlabel\": {\"namelength\": 0}, \"hovertemplate\": \"Region=10-Nord-du-Quebec<br>Date of Infection=25th<br>Total Number of Cases=%{marker.size}<br>Lat=%{lat}<br>Long=%{lon}\", \"lat\": [56.166667], \"legendgroup\": \"10-Nord-du-Quebec\", \"lon\": [-74.416667], \"marker\": {\"color\": \"#FECB52\", \"size\": [1.0], \"sizemode\": \"area\", \"sizeref\": 0.67}, \"name\": \"10-Nord-du-Quebec\", \"showlegend\": true, \"type\": \"scattergeo\"}, {\"geo\": \"geo\", \"hoverlabel\": {\"namelength\": 0}, \"hovertemplate\": \"Region=11- Gaspesie-Iles-de-la-Madelaine<br>Date of Infection=25th<br>Total Number of Cases=%{marker.size}<br>Lat=%{lat}<br>Long=%{lon}\", \"lat\": [48.683333], \"legendgroup\": \"11- Gaspesie-Iles-de-la-Madelaine\", \"lon\": [-65.4], \"marker\": {\"color\": \"#636efa\", \"size\": [7.0], \"sizemode\": \"area\", \"sizeref\": 0.67}, \"name\": \"11- Gaspesie-Iles-de-la-Madelaine\", \"showlegend\": true, \"type\": \"scattergeo\"}, {\"geo\": \"geo\", \"hoverlabel\": {\"namelength\": 0}, \"hovertemplate\": \"Region=12-Chaudiere-Appalaches<br>Date of Infection=25th<br>Total Number of Cases=%{marker.size}<br>Lat=%{lat}<br>Long=%{lon}\", \"lat\": [46.483333], \"legendgroup\": \"12-Chaudiere-Appalaches\", \"lon\": [-70.616667], \"marker\": {\"color\": \"#EF553B\", \"size\": [46.0], \"sizemode\": \"area\", \"sizeref\": 0.67}, \"name\": \"12-Chaudiere-Appalaches\", \"showlegend\": true, \"type\": \"scattergeo\"}, {\"geo\": \"geo\", \"hoverlabel\": {\"namelength\": 0}, \"hovertemplate\": \"Region=13- Laval<br>Date of Infection=25th<br>Total Number of Cases=%{marker.size}<br>Lat=%{lat}<br>Long=%{lon}\", \"lat\": [45.583333], \"legendgroup\": \"13- Laval\", \"lon\": [-73.75], \"marker\": {\"color\": \"#00cc96\", \"size\": [83.0], \"sizemode\": \"area\", \"sizeref\": 0.67}, \"name\": \"13- Laval\", \"showlegend\": true, \"type\": \"scattergeo\"}, {\"geo\": \"geo\", \"hoverlabel\": {\"namelength\": 0}, \"hovertemplate\": \"Region=14- Lanaudiere<br>Date of Infection=25th<br>Total Number of Cases=%{marker.size}<br>Lat=%{lat}<br>Long=%{lon}\", \"lat\": [46.766667], \"legendgroup\": \"14- Lanaudiere\", \"lon\": [-73.833333], \"marker\": {\"color\": \"#ab63fa\", \"size\": [68.0], \"sizemode\": \"area\", \"sizeref\": 0.67}, \"name\": \"14- Lanaudiere\", \"showlegend\": true, \"type\": \"scattergeo\"}, {\"geo\": \"geo\", \"hoverlabel\": {\"namelength\": 0}, \"hovertemplate\": \"Region=15- Laurentides<br>Date of Infection=25th<br>Total Number of Cases=%{marker.size}<br>Lat=%{lat}<br>Long=%{lon}\", \"lat\": [46.433333], \"legendgroup\": \"15- Laurentides\", \"lon\": [-74.983333], \"marker\": {\"color\": \"#FFA15A\", \"size\": [50.0], \"sizemode\": \"area\", \"sizeref\": 0.67}, \"name\": \"15- Laurentides\", \"showlegend\": true, \"type\": \"scattergeo\"}, {\"geo\": \"geo\", \"hoverlabel\": {\"namelength\": 0}, \"hovertemplate\": \"Region=16- Monteregie<br>Date of Infection=25th<br>Total Number of Cases=%{marker.size}<br>Lat=%{lat}<br>Long=%{lon}\", \"lat\": [45.383333], \"legendgroup\": \"16- Monteregie\", \"lon\": [-73.1], \"marker\": {\"color\": \"#19d3f3\", \"size\": [148.0], \"sizemode\": \"area\", \"sizeref\": 0.67}, \"name\": \"16- Monteregie\", \"showlegend\": true, \"type\": \"scattergeo\"}, {\"geo\": \"geo\", \"hoverlabel\": {\"namelength\": 0}, \"hovertemplate\": \"Region=17- Centre du Quebec<br>Date of Infection=25th<br>Total Number of Cases=%{marker.size}<br>Lat=%{lat}<br>Long=%{lon}\", \"lat\": [46.283333], \"legendgroup\": \"17- Centre du Quebec\", \"lon\": [-72.066667], \"marker\": {\"color\": \"#FF6692\", \"size\": [0.0], \"sizemode\": \"area\", \"sizeref\": 0.67}, \"name\": \"17- Centre du Quebec\", \"showlegend\": true, \"type\": \"scattergeo\"}, {\"geo\": \"geo\", \"hoverlabel\": {\"namelength\": 0}, \"hovertemplate\": \"Region=Undetermined<br>Date of Infection=25th<br>Total Number of Cases=%{marker.size}<br>Lat=%{lat}<br>Long=%{lon}\", \"lat\": [\"na\"], \"legendgroup\": \"Undetermined\", \"lon\": [\"na\"], \"marker\": {\"color\": \"#B6E880\", \"size\": [0.0], \"sizemode\": \"area\", \"sizeref\": 0.67}, \"name\": \"Undetermined\", \"showlegend\": true, \"type\": \"scattergeo\"}, {\"geo\": \"geo\", \"hoverlabel\": {\"namelength\": 0}, \"hovertemplate\": \"Region=Hors Quebec<br>Date of Infection=25th<br>Total Number of Cases=%{marker.size}<br>Lat=%{lat}<br>Long=%{lon}\", \"lat\": [\"na\"], \"legendgroup\": \"Hors Quebec\", \"lon\": [\"na\"], \"marker\": {\"color\": \"#FF97FF\", \"size\": [0.0], \"sizemode\": \"area\", \"sizeref\": 0.67}, \"name\": \"Hors Quebec\", \"showlegend\": true, \"type\": \"scattergeo\"}], \"name\": \"25th\"}]);\n",
       "                        }).then(function(){\n",
       "                            \n",
       "var gd = document.getElementById('7b49b357-e83e-44cf-bcee-be00049ac652');\n",
       "var x = new MutationObserver(function (mutations, observer) {{\n",
       "        var display = window.getComputedStyle(gd).display;\n",
       "        if (!display || display === 'none') {{\n",
       "            console.log([gd, 'removed!']);\n",
       "            Plotly.purge(gd);\n",
       "            observer.disconnect();\n",
       "        }}\n",
       "}});\n",
       "\n",
       "// Listen for the removal of the full notebook cells\n",
       "var notebookContainer = gd.closest('#notebook-container');\n",
       "if (notebookContainer) {{\n",
       "    x.observe(notebookContainer, {childList: true});\n",
       "}}\n",
       "\n",
       "// Listen for the clearing of the current output cell\n",
       "var outputEl = gd.closest('.output');\n",
       "if (outputEl) {{\n",
       "    x.observe(outputEl, {childList: true});\n",
       "}}\n",
       "\n",
       "                        })\n",
       "                };\n",
       "                });\n",
       "            </script>\n",
       "        </div>"
      ]
     },
     "metadata": {},
     "output_type": "display_data"
    }
   ],
   "source": [
    "fig = px.scatter_geo(stacked_df, lat=\"Lat\", lon=\"Long\",     color=\"Region\", size=\"Total Number of Cases\",\n",
    "                     animation_frame=\"Date of Infection\", projection=\"natural earth\",\n",
    "                  color_continuous_scale=px.colors.cyclical.IceFire, size_max=30)\n",
    "fig.show()\n",
    "with open('../plotly/map_timeline.json', 'w') as f:\n",
    "    f.write(fig.to_json())"
   ]
  },
  {
   "cell_type": "code",
   "execution_count": 79,
   "metadata": {},
   "outputs": [
    {
     "data": {
      "application/vnd.plotly.v1+json": {
       "config": {
        "plotlyServerURL": "https://plot.ly"
       },
       "data": [
        {
         "hoverlabel": {
          "namelength": 0
         },
         "hovertemplate": "Region=1 - Bas St Laurent<br>Date=%{x}<br>Number of Cases=%{y}",
         "legendgroup": "1 - Bas St Laurent",
         "line": {
          "color": "#FD3216"
         },
         "mode": "lines",
         "name": "1 - Bas St Laurent",
         "orientation": "v",
         "showlegend": true,
         "stackgroup": "1",
         "type": "scatter",
         "x": [
          "13th",
          "14th",
          "15th",
          "16th",
          "17th",
          "18th",
          "19th",
          "20th"
         ],
         "xaxis": "x",
         "y": [
          0,
          0,
          0,
          0,
          0,
          0,
          1,
          1
         ],
         "yaxis": "y"
        },
        {
         "hoverlabel": {
          "namelength": 0
         },
         "hovertemplate": "Region=2- Sagunay/ Lac St jean<br>Date=%{x}<br>Number of Cases=%{y}",
         "legendgroup": "2- Sagunay/ Lac St jean",
         "line": {
          "color": "#00FE35"
         },
         "mode": "lines",
         "name": "2- Sagunay/ Lac St jean",
         "orientation": "v",
         "showlegend": true,
         "stackgroup": "1",
         "type": "scatter",
         "x": [
          "13th",
          "14th",
          "15th",
          "16th",
          "17th",
          "18th",
          "19th",
          "20th"
         ],
         "xaxis": "x",
         "y": [
          0,
          0,
          0,
          0,
          0,
          0,
          0,
          0
         ],
         "yaxis": "y"
        },
        {
         "hoverlabel": {
          "namelength": 0
         },
         "hovertemplate": "Region=3- Cap Nat<br>Date=%{x}<br>Number of Cases=%{y}",
         "legendgroup": "3- Cap Nat",
         "line": {
          "color": "#6A76FC"
         },
         "mode": "lines",
         "name": "3- Cap Nat",
         "orientation": "v",
         "showlegend": true,
         "stackgroup": "1",
         "type": "scatter",
         "x": [
          "13th",
          "14th",
          "15th",
          "16th",
          "17th",
          "18th",
          "19th",
          "20th"
         ],
         "xaxis": "x",
         "y": [
          0,
          0,
          2,
          2,
          3,
          8,
          10,
          10
         ],
         "yaxis": "y"
        },
        {
         "hoverlabel": {
          "namelength": 0
         },
         "hovertemplate": "Region=4- Mauricie<br>Date=%{x}<br>Number of Cases=%{y}",
         "legendgroup": "4- Mauricie",
         "line": {
          "color": "#FED4C4"
         },
         "mode": "lines",
         "name": "4- Mauricie",
         "orientation": "v",
         "showlegend": true,
         "stackgroup": "1",
         "type": "scatter",
         "x": [
          "13th",
          "14th",
          "15th",
          "16th",
          "17th",
          "18th",
          "19th",
          "20th"
         ],
         "xaxis": "x",
         "y": [
          1,
          1,
          3,
          3,
          3,
          3,
          3,
          4
         ],
         "yaxis": "y"
        },
        {
         "hoverlabel": {
          "namelength": 0
         },
         "hovertemplate": "Region=5-Estrie<br>Date=%{x}<br>Number of Cases=%{y}",
         "legendgroup": "5-Estrie",
         "line": {
          "color": "#FE00CE"
         },
         "mode": "lines",
         "name": "5-Estrie",
         "orientation": "v",
         "showlegend": true,
         "stackgroup": "1",
         "type": "scatter",
         "x": [
          "13th",
          "14th",
          "15th",
          "16th",
          "17th",
          "18th",
          "19th",
          "20th"
         ],
         "xaxis": "x",
         "y": [
          2,
          3,
          4,
          4,
          9,
          18,
          26,
          26
         ],
         "yaxis": "y"
        },
        {
         "hoverlabel": {
          "namelength": 0
         },
         "hovertemplate": "Region=6- Montreal<br>Date=%{x}<br>Number of Cases=%{y}",
         "legendgroup": "6- Montreal",
         "line": {
          "color": "#0DF9FF"
         },
         "mode": "lines",
         "name": "6- Montreal",
         "orientation": "v",
         "showlegend": true,
         "stackgroup": "1",
         "type": "scatter",
         "x": [
          "13th",
          "14th",
          "15th",
          "16th",
          "17th",
          "18th",
          "19th",
          "20th"
         ],
         "xaxis": "x",
         "y": [
          7,
          8,
          10,
          18,
          22,
          24,
          28,
          31
         ],
         "yaxis": "y"
        },
        {
         "hoverlabel": {
          "namelength": 0
         },
         "hovertemplate": "Region=7- Outaouais<br>Date=%{x}<br>Number of Cases=%{y}",
         "legendgroup": "7- Outaouais",
         "line": {
          "color": "#F6F926"
         },
         "mode": "lines",
         "name": "7- Outaouais",
         "orientation": "v",
         "showlegend": true,
         "stackgroup": "1",
         "type": "scatter",
         "x": [
          "13th",
          "14th",
          "15th",
          "16th",
          "17th",
          "18th",
          "19th",
          "20th"
         ],
         "xaxis": "x",
         "y": [
          0,
          0,
          0,
          0,
          0,
          1,
          1,
          1
         ],
         "yaxis": "y"
        },
        {
         "hoverlabel": {
          "namelength": 0
         },
         "hovertemplate": "Region=8- Abititi<br>Date=%{x}<br>Number of Cases=%{y}",
         "legendgroup": "8- Abititi",
         "line": {
          "color": "#FF9616"
         },
         "mode": "lines",
         "name": "8- Abititi",
         "orientation": "v",
         "showlegend": true,
         "stackgroup": "1",
         "type": "scatter",
         "x": [
          "13th",
          "14th",
          "15th",
          "16th",
          "17th",
          "18th",
          "19th",
          "20th"
         ],
         "xaxis": "x",
         "y": [
          0,
          0,
          0,
          0,
          0,
          0,
          0,
          0
         ],
         "yaxis": "y"
        },
        {
         "hoverlabel": {
          "namelength": 0
         },
         "hovertemplate": "Region=9-Cote Nord<br>Date=%{x}<br>Number of Cases=%{y}",
         "legendgroup": "9-Cote Nord",
         "line": {
          "color": "#479B55"
         },
         "mode": "lines",
         "name": "9-Cote Nord",
         "orientation": "v",
         "showlegend": true,
         "stackgroup": "1",
         "type": "scatter",
         "x": [
          "13th",
          "14th",
          "15th",
          "16th",
          "17th",
          "18th",
          "19th",
          "20th"
         ],
         "xaxis": "x",
         "y": [
          0,
          0,
          0,
          0,
          0,
          0,
          0,
          0
         ],
         "yaxis": "y"
        },
        {
         "hoverlabel": {
          "namelength": 0
         },
         "hovertemplate": "Region=10-Nord du Quebec<br>Date=%{x}<br>Number of Cases=%{y}",
         "legendgroup": "10-Nord du Quebec",
         "line": {
          "color": "#EEA6FB"
         },
         "mode": "lines",
         "name": "10-Nord du Quebec",
         "orientation": "v",
         "showlegend": true,
         "stackgroup": "1",
         "type": "scatter",
         "x": [
          "13th",
          "14th",
          "15th",
          "16th",
          "17th",
          "18th",
          "19th",
          "20th"
         ],
         "xaxis": "x",
         "y": [
          0,
          0,
          0,
          0,
          0,
          0,
          0,
          1
         ],
         "yaxis": "y"
        },
        {
         "hoverlabel": {
          "namelength": 0
         },
         "hovertemplate": "Region=11- Gaspesie<br>Date=%{x}<br>Number of Cases=%{y}",
         "legendgroup": "11- Gaspesie",
         "line": {
          "color": "#DC587D"
         },
         "mode": "lines",
         "name": "11- Gaspesie",
         "orientation": "v",
         "showlegend": true,
         "stackgroup": "1",
         "type": "scatter",
         "x": [
          "13th",
          "14th",
          "15th",
          "16th",
          "17th",
          "18th",
          "19th",
          "20th"
         ],
         "xaxis": "x",
         "y": [
          0,
          0,
          0,
          0,
          0,
          0,
          0,
          0
         ],
         "yaxis": "y"
        },
        {
         "hoverlabel": {
          "namelength": 0
         },
         "hovertemplate": "Region=12-Chaudiere<br>Date=%{x}<br>Number of Cases=%{y}",
         "legendgroup": "12-Chaudiere",
         "line": {
          "color": "#D626FF"
         },
         "mode": "lines",
         "name": "12-Chaudiere",
         "orientation": "v",
         "showlegend": true,
         "stackgroup": "1",
         "type": "scatter",
         "x": [
          "13th",
          "14th",
          "15th",
          "16th",
          "17th",
          "18th",
          "19th",
          "20th"
         ],
         "xaxis": "x",
         "y": [
          1,
          1,
          3,
          4,
          4,
          6,
          6,
          6
         ],
         "yaxis": "y"
        },
        {
         "hoverlabel": {
          "namelength": 0
         },
         "hovertemplate": "Region=13- Laval<br>Date=%{x}<br>Number of Cases=%{y}",
         "legendgroup": "13- Laval",
         "line": {
          "color": "#6E899C"
         },
         "mode": "lines",
         "name": "13- Laval",
         "orientation": "v",
         "showlegend": true,
         "stackgroup": "1",
         "type": "scatter",
         "x": [
          "13th",
          "14th",
          "15th",
          "16th",
          "17th",
          "18th",
          "19th",
          "20th"
         ],
         "xaxis": "x",
         "y": [
          0,
          0,
          0,
          0,
          0,
          0,
          1,
          1
         ],
         "yaxis": "y"
        },
        {
         "hoverlabel": {
          "namelength": 0
         },
         "hovertemplate": "Region=14- Lanaudiere<br>Date=%{x}<br>Number of Cases=%{y}",
         "legendgroup": "14- Lanaudiere",
         "line": {
          "color": "#00B5F7"
         },
         "mode": "lines",
         "name": "14- Lanaudiere",
         "orientation": "v",
         "showlegend": true,
         "stackgroup": "1",
         "type": "scatter",
         "x": [
          "13th",
          "14th",
          "15th",
          "16th",
          "17th",
          "18th",
          "19th",
          "20th"
         ],
         "xaxis": "x",
         "y": [
          0,
          1,
          2,
          3,
          6,
          6,
          7,
          7
         ],
         "yaxis": "y"
        },
        {
         "hoverlabel": {
          "namelength": 0
         },
         "hovertemplate": "Region=15- Laurentides<br>Date=%{x}<br>Number of Cases=%{y}",
         "legendgroup": "15- Laurentides",
         "line": {
          "color": "#B68E00"
         },
         "mode": "lines",
         "name": "15- Laurentides",
         "orientation": "v",
         "showlegend": true,
         "stackgroup": "1",
         "type": "scatter",
         "x": [
          "13th",
          "14th",
          "15th",
          "16th",
          "17th",
          "18th",
          "19th",
          "20th"
         ],
         "xaxis": "x",
         "y": [
          2,
          2,
          3,
          3,
          7,
          8,
          9,
          10
         ],
         "yaxis": "y"
        },
        {
         "hoverlabel": {
          "namelength": 0
         },
         "hovertemplate": "Region=16- Monteregie<br>Date=%{x}<br>Number of Cases=%{y}",
         "legendgroup": "16- Monteregie",
         "line": {
          "color": "#C9FBE5"
         },
         "mode": "lines",
         "name": "16- Monteregie",
         "orientation": "v",
         "showlegend": true,
         "stackgroup": "1",
         "type": "scatter",
         "x": [
          "13th",
          "14th",
          "15th",
          "16th",
          "17th",
          "18th",
          "19th",
          "20th"
         ],
         "xaxis": "x",
         "y": [
          4,
          7,
          9,
          10,
          13,
          13,
          19,
          21
         ],
         "yaxis": "y"
        },
        {
         "hoverlabel": {
          "namelength": 0
         },
         "hovertemplate": "Region=17- Centre du Quebec<br>Date=%{x}<br>Number of Cases=%{y}",
         "legendgroup": "17- Centre du Quebec",
         "line": {
          "color": "#FF0092"
         },
         "mode": "lines",
         "name": "17- Centre du Quebec",
         "orientation": "v",
         "showlegend": true,
         "stackgroup": "1",
         "type": "scatter",
         "x": [
          "13th",
          "14th",
          "15th",
          "16th",
          "17th",
          "18th",
          "19th",
          "20th"
         ],
         "xaxis": "x",
         "y": [
          0,
          0,
          0,
          0,
          0,
          0,
          0,
          0
         ],
         "yaxis": "y"
        },
        {
         "hoverlabel": {
          "namelength": 0
         },
         "hovertemplate": "Region=Undetermined<br>Date=%{x}<br>Number of Cases=%{y}",
         "legendgroup": "Undetermined",
         "line": {
          "color": "#22FFA7"
         },
         "mode": "lines",
         "name": "Undetermined",
         "orientation": "v",
         "showlegend": true,
         "stackgroup": "1",
         "type": "scatter",
         "x": [
          "13th",
          "14th",
          "15th",
          "16th",
          "17th",
          "18th",
          "19th",
          "20th"
         ],
         "xaxis": "x",
         "y": [
          0,
          1,
          2,
          3,
          5,
          5,
          8,
          18
         ],
         "yaxis": "y"
        },
        {
         "hoverlabel": {
          "namelength": 0
         },
         "hovertemplate": "Region=Hors Quebec<br>Date=%{x}<br>Number of Cases=%{y}",
         "legendgroup": "Hors Quebec",
         "line": {
          "color": "#E3EE9E"
         },
         "mode": "lines",
         "name": "Hors Quebec",
         "orientation": "v",
         "showlegend": true,
         "stackgroup": "1",
         "type": "scatter",
         "x": [
          "13th",
          "14th",
          "15th",
          "16th",
          "17th",
          "18th",
          "19th",
          "20th"
         ],
         "xaxis": "x",
         "y": [
          0,
          0,
          1,
          1,
          2,
          2,
          2,
          2
         ],
         "yaxis": "y"
        }
       ],
       "layout": {
        "legend": {
         "title": {
          "text": "Region"
         },
         "tracegroupgap": 0
        },
        "margin": {
         "t": 60
        },
        "template": {
         "data": {
          "bar": [
           {
            "error_x": {
             "color": "#2a3f5f"
            },
            "error_y": {
             "color": "#2a3f5f"
            },
            "marker": {
             "line": {
              "color": "#E5ECF6",
              "width": 0.5
             }
            },
            "type": "bar"
           }
          ],
          "barpolar": [
           {
            "marker": {
             "line": {
              "color": "#E5ECF6",
              "width": 0.5
             }
            },
            "type": "barpolar"
           }
          ],
          "carpet": [
           {
            "aaxis": {
             "endlinecolor": "#2a3f5f",
             "gridcolor": "white",
             "linecolor": "white",
             "minorgridcolor": "white",
             "startlinecolor": "#2a3f5f"
            },
            "baxis": {
             "endlinecolor": "#2a3f5f",
             "gridcolor": "white",
             "linecolor": "white",
             "minorgridcolor": "white",
             "startlinecolor": "#2a3f5f"
            },
            "type": "carpet"
           }
          ],
          "choropleth": [
           {
            "colorbar": {
             "outlinewidth": 0,
             "ticks": ""
            },
            "type": "choropleth"
           }
          ],
          "contour": [
           {
            "colorbar": {
             "outlinewidth": 0,
             "ticks": ""
            },
            "colorscale": [
             [
              0,
              "#0d0887"
             ],
             [
              0.1111111111111111,
              "#46039f"
             ],
             [
              0.2222222222222222,
              "#7201a8"
             ],
             [
              0.3333333333333333,
              "#9c179e"
             ],
             [
              0.4444444444444444,
              "#bd3786"
             ],
             [
              0.5555555555555556,
              "#d8576b"
             ],
             [
              0.6666666666666666,
              "#ed7953"
             ],
             [
              0.7777777777777778,
              "#fb9f3a"
             ],
             [
              0.8888888888888888,
              "#fdca26"
             ],
             [
              1,
              "#f0f921"
             ]
            ],
            "type": "contour"
           }
          ],
          "contourcarpet": [
           {
            "colorbar": {
             "outlinewidth": 0,
             "ticks": ""
            },
            "type": "contourcarpet"
           }
          ],
          "heatmap": [
           {
            "colorbar": {
             "outlinewidth": 0,
             "ticks": ""
            },
            "colorscale": [
             [
              0,
              "#0d0887"
             ],
             [
              0.1111111111111111,
              "#46039f"
             ],
             [
              0.2222222222222222,
              "#7201a8"
             ],
             [
              0.3333333333333333,
              "#9c179e"
             ],
             [
              0.4444444444444444,
              "#bd3786"
             ],
             [
              0.5555555555555556,
              "#d8576b"
             ],
             [
              0.6666666666666666,
              "#ed7953"
             ],
             [
              0.7777777777777778,
              "#fb9f3a"
             ],
             [
              0.8888888888888888,
              "#fdca26"
             ],
             [
              1,
              "#f0f921"
             ]
            ],
            "type": "heatmap"
           }
          ],
          "heatmapgl": [
           {
            "colorbar": {
             "outlinewidth": 0,
             "ticks": ""
            },
            "colorscale": [
             [
              0,
              "#0d0887"
             ],
             [
              0.1111111111111111,
              "#46039f"
             ],
             [
              0.2222222222222222,
              "#7201a8"
             ],
             [
              0.3333333333333333,
              "#9c179e"
             ],
             [
              0.4444444444444444,
              "#bd3786"
             ],
             [
              0.5555555555555556,
              "#d8576b"
             ],
             [
              0.6666666666666666,
              "#ed7953"
             ],
             [
              0.7777777777777778,
              "#fb9f3a"
             ],
             [
              0.8888888888888888,
              "#fdca26"
             ],
             [
              1,
              "#f0f921"
             ]
            ],
            "type": "heatmapgl"
           }
          ],
          "histogram": [
           {
            "marker": {
             "colorbar": {
              "outlinewidth": 0,
              "ticks": ""
             }
            },
            "type": "histogram"
           }
          ],
          "histogram2d": [
           {
            "colorbar": {
             "outlinewidth": 0,
             "ticks": ""
            },
            "colorscale": [
             [
              0,
              "#0d0887"
             ],
             [
              0.1111111111111111,
              "#46039f"
             ],
             [
              0.2222222222222222,
              "#7201a8"
             ],
             [
              0.3333333333333333,
              "#9c179e"
             ],
             [
              0.4444444444444444,
              "#bd3786"
             ],
             [
              0.5555555555555556,
              "#d8576b"
             ],
             [
              0.6666666666666666,
              "#ed7953"
             ],
             [
              0.7777777777777778,
              "#fb9f3a"
             ],
             [
              0.8888888888888888,
              "#fdca26"
             ],
             [
              1,
              "#f0f921"
             ]
            ],
            "type": "histogram2d"
           }
          ],
          "histogram2dcontour": [
           {
            "colorbar": {
             "outlinewidth": 0,
             "ticks": ""
            },
            "colorscale": [
             [
              0,
              "#0d0887"
             ],
             [
              0.1111111111111111,
              "#46039f"
             ],
             [
              0.2222222222222222,
              "#7201a8"
             ],
             [
              0.3333333333333333,
              "#9c179e"
             ],
             [
              0.4444444444444444,
              "#bd3786"
             ],
             [
              0.5555555555555556,
              "#d8576b"
             ],
             [
              0.6666666666666666,
              "#ed7953"
             ],
             [
              0.7777777777777778,
              "#fb9f3a"
             ],
             [
              0.8888888888888888,
              "#fdca26"
             ],
             [
              1,
              "#f0f921"
             ]
            ],
            "type": "histogram2dcontour"
           }
          ],
          "mesh3d": [
           {
            "colorbar": {
             "outlinewidth": 0,
             "ticks": ""
            },
            "type": "mesh3d"
           }
          ],
          "parcoords": [
           {
            "line": {
             "colorbar": {
              "outlinewidth": 0,
              "ticks": ""
             }
            },
            "type": "parcoords"
           }
          ],
          "pie": [
           {
            "automargin": true,
            "type": "pie"
           }
          ],
          "scatter": [
           {
            "marker": {
             "colorbar": {
              "outlinewidth": 0,
              "ticks": ""
             }
            },
            "type": "scatter"
           }
          ],
          "scatter3d": [
           {
            "line": {
             "colorbar": {
              "outlinewidth": 0,
              "ticks": ""
             }
            },
            "marker": {
             "colorbar": {
              "outlinewidth": 0,
              "ticks": ""
             }
            },
            "type": "scatter3d"
           }
          ],
          "scattercarpet": [
           {
            "marker": {
             "colorbar": {
              "outlinewidth": 0,
              "ticks": ""
             }
            },
            "type": "scattercarpet"
           }
          ],
          "scattergeo": [
           {
            "marker": {
             "colorbar": {
              "outlinewidth": 0,
              "ticks": ""
             }
            },
            "type": "scattergeo"
           }
          ],
          "scattergl": [
           {
            "marker": {
             "colorbar": {
              "outlinewidth": 0,
              "ticks": ""
             }
            },
            "type": "scattergl"
           }
          ],
          "scattermapbox": [
           {
            "marker": {
             "colorbar": {
              "outlinewidth": 0,
              "ticks": ""
             }
            },
            "type": "scattermapbox"
           }
          ],
          "scatterpolar": [
           {
            "marker": {
             "colorbar": {
              "outlinewidth": 0,
              "ticks": ""
             }
            },
            "type": "scatterpolar"
           }
          ],
          "scatterpolargl": [
           {
            "marker": {
             "colorbar": {
              "outlinewidth": 0,
              "ticks": ""
             }
            },
            "type": "scatterpolargl"
           }
          ],
          "scatterternary": [
           {
            "marker": {
             "colorbar": {
              "outlinewidth": 0,
              "ticks": ""
             }
            },
            "type": "scatterternary"
           }
          ],
          "surface": [
           {
            "colorbar": {
             "outlinewidth": 0,
             "ticks": ""
            },
            "colorscale": [
             [
              0,
              "#0d0887"
             ],
             [
              0.1111111111111111,
              "#46039f"
             ],
             [
              0.2222222222222222,
              "#7201a8"
             ],
             [
              0.3333333333333333,
              "#9c179e"
             ],
             [
              0.4444444444444444,
              "#bd3786"
             ],
             [
              0.5555555555555556,
              "#d8576b"
             ],
             [
              0.6666666666666666,
              "#ed7953"
             ],
             [
              0.7777777777777778,
              "#fb9f3a"
             ],
             [
              0.8888888888888888,
              "#fdca26"
             ],
             [
              1,
              "#f0f921"
             ]
            ],
            "type": "surface"
           }
          ],
          "table": [
           {
            "cells": {
             "fill": {
              "color": "#EBF0F8"
             },
             "line": {
              "color": "white"
             }
            },
            "header": {
             "fill": {
              "color": "#C8D4E3"
             },
             "line": {
              "color": "white"
             }
            },
            "type": "table"
           }
          ]
         },
         "layout": {
          "annotationdefaults": {
           "arrowcolor": "#2a3f5f",
           "arrowhead": 0,
           "arrowwidth": 1
          },
          "coloraxis": {
           "colorbar": {
            "outlinewidth": 0,
            "ticks": ""
           }
          },
          "colorscale": {
           "diverging": [
            [
             0,
             "#8e0152"
            ],
            [
             0.1,
             "#c51b7d"
            ],
            [
             0.2,
             "#de77ae"
            ],
            [
             0.3,
             "#f1b6da"
            ],
            [
             0.4,
             "#fde0ef"
            ],
            [
             0.5,
             "#f7f7f7"
            ],
            [
             0.6,
             "#e6f5d0"
            ],
            [
             0.7,
             "#b8e186"
            ],
            [
             0.8,
             "#7fbc41"
            ],
            [
             0.9,
             "#4d9221"
            ],
            [
             1,
             "#276419"
            ]
           ],
           "sequential": [
            [
             0,
             "#0d0887"
            ],
            [
             0.1111111111111111,
             "#46039f"
            ],
            [
             0.2222222222222222,
             "#7201a8"
            ],
            [
             0.3333333333333333,
             "#9c179e"
            ],
            [
             0.4444444444444444,
             "#bd3786"
            ],
            [
             0.5555555555555556,
             "#d8576b"
            ],
            [
             0.6666666666666666,
             "#ed7953"
            ],
            [
             0.7777777777777778,
             "#fb9f3a"
            ],
            [
             0.8888888888888888,
             "#fdca26"
            ],
            [
             1,
             "#f0f921"
            ]
           ],
           "sequentialminus": [
            [
             0,
             "#0d0887"
            ],
            [
             0.1111111111111111,
             "#46039f"
            ],
            [
             0.2222222222222222,
             "#7201a8"
            ],
            [
             0.3333333333333333,
             "#9c179e"
            ],
            [
             0.4444444444444444,
             "#bd3786"
            ],
            [
             0.5555555555555556,
             "#d8576b"
            ],
            [
             0.6666666666666666,
             "#ed7953"
            ],
            [
             0.7777777777777778,
             "#fb9f3a"
            ],
            [
             0.8888888888888888,
             "#fdca26"
            ],
            [
             1,
             "#f0f921"
            ]
           ]
          },
          "colorway": [
           "#636efa",
           "#EF553B",
           "#00cc96",
           "#ab63fa",
           "#FFA15A",
           "#19d3f3",
           "#FF6692",
           "#B6E880",
           "#FF97FF",
           "#FECB52"
          ],
          "font": {
           "color": "#2a3f5f"
          },
          "geo": {
           "bgcolor": "white",
           "lakecolor": "white",
           "landcolor": "#E5ECF6",
           "showlakes": true,
           "showland": true,
           "subunitcolor": "white"
          },
          "hoverlabel": {
           "align": "left"
          },
          "hovermode": "closest",
          "mapbox": {
           "style": "light"
          },
          "paper_bgcolor": "white",
          "plot_bgcolor": "#E5ECF6",
          "polar": {
           "angularaxis": {
            "gridcolor": "white",
            "linecolor": "white",
            "ticks": ""
           },
           "bgcolor": "#E5ECF6",
           "radialaxis": {
            "gridcolor": "white",
            "linecolor": "white",
            "ticks": ""
           }
          },
          "scene": {
           "xaxis": {
            "backgroundcolor": "#E5ECF6",
            "gridcolor": "white",
            "gridwidth": 2,
            "linecolor": "white",
            "showbackground": true,
            "ticks": "",
            "zerolinecolor": "white"
           },
           "yaxis": {
            "backgroundcolor": "#E5ECF6",
            "gridcolor": "white",
            "gridwidth": 2,
            "linecolor": "white",
            "showbackground": true,
            "ticks": "",
            "zerolinecolor": "white"
           },
           "zaxis": {
            "backgroundcolor": "#E5ECF6",
            "gridcolor": "white",
            "gridwidth": 2,
            "linecolor": "white",
            "showbackground": true,
            "ticks": "",
            "zerolinecolor": "white"
           }
          },
          "shapedefaults": {
           "line": {
            "color": "#2a3f5f"
           }
          },
          "ternary": {
           "aaxis": {
            "gridcolor": "white",
            "linecolor": "white",
            "ticks": ""
           },
           "baxis": {
            "gridcolor": "white",
            "linecolor": "white",
            "ticks": ""
           },
           "bgcolor": "#E5ECF6",
           "caxis": {
            "gridcolor": "white",
            "linecolor": "white",
            "ticks": ""
           }
          },
          "title": {
           "x": 0.05
          },
          "xaxis": {
           "automargin": true,
           "gridcolor": "white",
           "linecolor": "white",
           "ticks": "",
           "title": {
            "standoff": 15
           },
           "zerolinecolor": "white",
           "zerolinewidth": 2
          },
          "yaxis": {
           "automargin": true,
           "gridcolor": "white",
           "linecolor": "white",
           "ticks": "",
           "title": {
            "standoff": 15
           },
           "zerolinecolor": "white",
           "zerolinewidth": 2
          }
         }
        },
        "xaxis": {
         "anchor": "y",
         "domain": [
          0,
          1
         ],
         "title": {
          "text": "Date"
         }
        },
        "yaxis": {
         "anchor": "x",
         "domain": [
          0,
          1
         ],
         "title": {
          "text": "Number of Cases"
         }
        }
       }
      },
      "text/html": [
       "<div>\n",
       "        \n",
       "        \n",
       "            <div id=\"28d03c30-fb62-4142-85e7-68fb4fcb21b4\" class=\"plotly-graph-div\" style=\"height:525px; width:100%;\"></div>\n",
       "            <script type=\"text/javascript\">\n",
       "                require([\"plotly\"], function(Plotly) {\n",
       "                    window.PLOTLYENV=window.PLOTLYENV || {};\n",
       "                    \n",
       "                if (document.getElementById(\"28d03c30-fb62-4142-85e7-68fb4fcb21b4\")) {\n",
       "                    Plotly.newPlot(\n",
       "                        '28d03c30-fb62-4142-85e7-68fb4fcb21b4',\n",
       "                        [{\"hoverlabel\": {\"namelength\": 0}, \"hovertemplate\": \"Region=1 - Bas St Laurent<br>Date=%{x}<br>Number of Cases=%{y}\", \"legendgroup\": \"1 - Bas St Laurent\", \"line\": {\"color\": \"#FD3216\"}, \"mode\": \"lines\", \"name\": \"1 - Bas St Laurent\", \"orientation\": \"v\", \"showlegend\": true, \"stackgroup\": \"1\", \"type\": \"scatter\", \"x\": [\"13th\", \"14th\", \"15th\", \"16th\", \"17th\", \"18th\", \"19th\", \"20th\"], \"xaxis\": \"x\", \"y\": [0.0, 0.0, 0.0, 0.0, 0.0, 0.0, 1.0, 1.0], \"yaxis\": \"y\"}, {\"hoverlabel\": {\"namelength\": 0}, \"hovertemplate\": \"Region=2- Sagunay/ Lac St jean<br>Date=%{x}<br>Number of Cases=%{y}\", \"legendgroup\": \"2- Sagunay/ Lac St jean\", \"line\": {\"color\": \"#00FE35\"}, \"mode\": \"lines\", \"name\": \"2- Sagunay/ Lac St jean\", \"orientation\": \"v\", \"showlegend\": true, \"stackgroup\": \"1\", \"type\": \"scatter\", \"x\": [\"13th\", \"14th\", \"15th\", \"16th\", \"17th\", \"18th\", \"19th\", \"20th\"], \"xaxis\": \"x\", \"y\": [0.0, 0.0, 0.0, 0.0, 0.0, 0.0, 0.0, 0.0], \"yaxis\": \"y\"}, {\"hoverlabel\": {\"namelength\": 0}, \"hovertemplate\": \"Region=3- Cap Nat<br>Date=%{x}<br>Number of Cases=%{y}\", \"legendgroup\": \"3- Cap Nat\", \"line\": {\"color\": \"#6A76FC\"}, \"mode\": \"lines\", \"name\": \"3- Cap Nat\", \"orientation\": \"v\", \"showlegend\": true, \"stackgroup\": \"1\", \"type\": \"scatter\", \"x\": [\"13th\", \"14th\", \"15th\", \"16th\", \"17th\", \"18th\", \"19th\", \"20th\"], \"xaxis\": \"x\", \"y\": [0.0, 0.0, 2.0, 2.0, 3.0, 8.0, 10.0, 10.0], \"yaxis\": \"y\"}, {\"hoverlabel\": {\"namelength\": 0}, \"hovertemplate\": \"Region=4- Mauricie<br>Date=%{x}<br>Number of Cases=%{y}\", \"legendgroup\": \"4- Mauricie\", \"line\": {\"color\": \"#FED4C4\"}, \"mode\": \"lines\", \"name\": \"4- Mauricie\", \"orientation\": \"v\", \"showlegend\": true, \"stackgroup\": \"1\", \"type\": \"scatter\", \"x\": [\"13th\", \"14th\", \"15th\", \"16th\", \"17th\", \"18th\", \"19th\", \"20th\"], \"xaxis\": \"x\", \"y\": [1.0, 1.0, 3.0, 3.0, 3.0, 3.0, 3.0, 4.0], \"yaxis\": \"y\"}, {\"hoverlabel\": {\"namelength\": 0}, \"hovertemplate\": \"Region=5-Estrie<br>Date=%{x}<br>Number of Cases=%{y}\", \"legendgroup\": \"5-Estrie\", \"line\": {\"color\": \"#FE00CE\"}, \"mode\": \"lines\", \"name\": \"5-Estrie\", \"orientation\": \"v\", \"showlegend\": true, \"stackgroup\": \"1\", \"type\": \"scatter\", \"x\": [\"13th\", \"14th\", \"15th\", \"16th\", \"17th\", \"18th\", \"19th\", \"20th\"], \"xaxis\": \"x\", \"y\": [2.0, 3.0, 4.0, 4.0, 9.0, 18.0, 26.0, 26.0], \"yaxis\": \"y\"}, {\"hoverlabel\": {\"namelength\": 0}, \"hovertemplate\": \"Region=6- Montreal<br>Date=%{x}<br>Number of Cases=%{y}\", \"legendgroup\": \"6- Montreal\", \"line\": {\"color\": \"#0DF9FF\"}, \"mode\": \"lines\", \"name\": \"6- Montreal\", \"orientation\": \"v\", \"showlegend\": true, \"stackgroup\": \"1\", \"type\": \"scatter\", \"x\": [\"13th\", \"14th\", \"15th\", \"16th\", \"17th\", \"18th\", \"19th\", \"20th\"], \"xaxis\": \"x\", \"y\": [7.0, 8.0, 10.0, 18.0, 22.0, 24.0, 28.0, 31.0], \"yaxis\": \"y\"}, {\"hoverlabel\": {\"namelength\": 0}, \"hovertemplate\": \"Region=7- Outaouais<br>Date=%{x}<br>Number of Cases=%{y}\", \"legendgroup\": \"7- Outaouais\", \"line\": {\"color\": \"#F6F926\"}, \"mode\": \"lines\", \"name\": \"7- Outaouais\", \"orientation\": \"v\", \"showlegend\": true, \"stackgroup\": \"1\", \"type\": \"scatter\", \"x\": [\"13th\", \"14th\", \"15th\", \"16th\", \"17th\", \"18th\", \"19th\", \"20th\"], \"xaxis\": \"x\", \"y\": [0.0, 0.0, 0.0, 0.0, 0.0, 1.0, 1.0, 1.0], \"yaxis\": \"y\"}, {\"hoverlabel\": {\"namelength\": 0}, \"hovertemplate\": \"Region=8- Abititi<br>Date=%{x}<br>Number of Cases=%{y}\", \"legendgroup\": \"8- Abititi\", \"line\": {\"color\": \"#FF9616\"}, \"mode\": \"lines\", \"name\": \"8- Abititi\", \"orientation\": \"v\", \"showlegend\": true, \"stackgroup\": \"1\", \"type\": \"scatter\", \"x\": [\"13th\", \"14th\", \"15th\", \"16th\", \"17th\", \"18th\", \"19th\", \"20th\"], \"xaxis\": \"x\", \"y\": [0.0, 0.0, 0.0, 0.0, 0.0, 0.0, 0.0, 0.0], \"yaxis\": \"y\"}, {\"hoverlabel\": {\"namelength\": 0}, \"hovertemplate\": \"Region=9-Cote Nord<br>Date=%{x}<br>Number of Cases=%{y}\", \"legendgroup\": \"9-Cote Nord\", \"line\": {\"color\": \"#479B55\"}, \"mode\": \"lines\", \"name\": \"9-Cote Nord\", \"orientation\": \"v\", \"showlegend\": true, \"stackgroup\": \"1\", \"type\": \"scatter\", \"x\": [\"13th\", \"14th\", \"15th\", \"16th\", \"17th\", \"18th\", \"19th\", \"20th\"], \"xaxis\": \"x\", \"y\": [0.0, 0.0, 0.0, 0.0, 0.0, 0.0, 0.0, 0.0], \"yaxis\": \"y\"}, {\"hoverlabel\": {\"namelength\": 0}, \"hovertemplate\": \"Region=10-Nord du Quebec<br>Date=%{x}<br>Number of Cases=%{y}\", \"legendgroup\": \"10-Nord du Quebec\", \"line\": {\"color\": \"#EEA6FB\"}, \"mode\": \"lines\", \"name\": \"10-Nord du Quebec\", \"orientation\": \"v\", \"showlegend\": true, \"stackgroup\": \"1\", \"type\": \"scatter\", \"x\": [\"13th\", \"14th\", \"15th\", \"16th\", \"17th\", \"18th\", \"19th\", \"20th\"], \"xaxis\": \"x\", \"y\": [0.0, 0.0, 0.0, 0.0, 0.0, 0.0, 0.0, 1.0], \"yaxis\": \"y\"}, {\"hoverlabel\": {\"namelength\": 0}, \"hovertemplate\": \"Region=11- Gaspesie<br>Date=%{x}<br>Number of Cases=%{y}\", \"legendgroup\": \"11- Gaspesie\", \"line\": {\"color\": \"#DC587D\"}, \"mode\": \"lines\", \"name\": \"11- Gaspesie\", \"orientation\": \"v\", \"showlegend\": true, \"stackgroup\": \"1\", \"type\": \"scatter\", \"x\": [\"13th\", \"14th\", \"15th\", \"16th\", \"17th\", \"18th\", \"19th\", \"20th\"], \"xaxis\": \"x\", \"y\": [0.0, 0.0, 0.0, 0.0, 0.0, 0.0, 0.0, 0.0], \"yaxis\": \"y\"}, {\"hoverlabel\": {\"namelength\": 0}, \"hovertemplate\": \"Region=12-Chaudiere<br>Date=%{x}<br>Number of Cases=%{y}\", \"legendgroup\": \"12-Chaudiere\", \"line\": {\"color\": \"#D626FF\"}, \"mode\": \"lines\", \"name\": \"12-Chaudiere\", \"orientation\": \"v\", \"showlegend\": true, \"stackgroup\": \"1\", \"type\": \"scatter\", \"x\": [\"13th\", \"14th\", \"15th\", \"16th\", \"17th\", \"18th\", \"19th\", \"20th\"], \"xaxis\": \"x\", \"y\": [1.0, 1.0, 3.0, 4.0, 4.0, 6.0, 6.0, 6.0], \"yaxis\": \"y\"}, {\"hoverlabel\": {\"namelength\": 0}, \"hovertemplate\": \"Region=13- Laval<br>Date=%{x}<br>Number of Cases=%{y}\", \"legendgroup\": \"13- Laval\", \"line\": {\"color\": \"#6E899C\"}, \"mode\": \"lines\", \"name\": \"13- Laval\", \"orientation\": \"v\", \"showlegend\": true, \"stackgroup\": \"1\", \"type\": \"scatter\", \"x\": [\"13th\", \"14th\", \"15th\", \"16th\", \"17th\", \"18th\", \"19th\", \"20th\"], \"xaxis\": \"x\", \"y\": [0.0, 0.0, 0.0, 0.0, 0.0, 0.0, 1.0, 1.0], \"yaxis\": \"y\"}, {\"hoverlabel\": {\"namelength\": 0}, \"hovertemplate\": \"Region=14- Lanaudiere<br>Date=%{x}<br>Number of Cases=%{y}\", \"legendgroup\": \"14- Lanaudiere\", \"line\": {\"color\": \"#00B5F7\"}, \"mode\": \"lines\", \"name\": \"14- Lanaudiere\", \"orientation\": \"v\", \"showlegend\": true, \"stackgroup\": \"1\", \"type\": \"scatter\", \"x\": [\"13th\", \"14th\", \"15th\", \"16th\", \"17th\", \"18th\", \"19th\", \"20th\"], \"xaxis\": \"x\", \"y\": [0.0, 1.0, 2.0, 3.0, 6.0, 6.0, 7.0, 7.0], \"yaxis\": \"y\"}, {\"hoverlabel\": {\"namelength\": 0}, \"hovertemplate\": \"Region=15- Laurentides<br>Date=%{x}<br>Number of Cases=%{y}\", \"legendgroup\": \"15- Laurentides\", \"line\": {\"color\": \"#B68E00\"}, \"mode\": \"lines\", \"name\": \"15- Laurentides\", \"orientation\": \"v\", \"showlegend\": true, \"stackgroup\": \"1\", \"type\": \"scatter\", \"x\": [\"13th\", \"14th\", \"15th\", \"16th\", \"17th\", \"18th\", \"19th\", \"20th\"], \"xaxis\": \"x\", \"y\": [2.0, 2.0, 3.0, 3.0, 7.0, 8.0, 9.0, 10.0], \"yaxis\": \"y\"}, {\"hoverlabel\": {\"namelength\": 0}, \"hovertemplate\": \"Region=16- Monteregie<br>Date=%{x}<br>Number of Cases=%{y}\", \"legendgroup\": \"16- Monteregie\", \"line\": {\"color\": \"#C9FBE5\"}, \"mode\": \"lines\", \"name\": \"16- Monteregie\", \"orientation\": \"v\", \"showlegend\": true, \"stackgroup\": \"1\", \"type\": \"scatter\", \"x\": [\"13th\", \"14th\", \"15th\", \"16th\", \"17th\", \"18th\", \"19th\", \"20th\"], \"xaxis\": \"x\", \"y\": [4.0, 7.0, 9.0, 10.0, 13.0, 13.0, 19.0, 21.0], \"yaxis\": \"y\"}, {\"hoverlabel\": {\"namelength\": 0}, \"hovertemplate\": \"Region=17- Centre du Quebec<br>Date=%{x}<br>Number of Cases=%{y}\", \"legendgroup\": \"17- Centre du Quebec\", \"line\": {\"color\": \"#FF0092\"}, \"mode\": \"lines\", \"name\": \"17- Centre du Quebec\", \"orientation\": \"v\", \"showlegend\": true, \"stackgroup\": \"1\", \"type\": \"scatter\", \"x\": [\"13th\", \"14th\", \"15th\", \"16th\", \"17th\", \"18th\", \"19th\", \"20th\"], \"xaxis\": \"x\", \"y\": [0.0, 0.0, 0.0, 0.0, 0.0, 0.0, 0.0, 0.0], \"yaxis\": \"y\"}, {\"hoverlabel\": {\"namelength\": 0}, \"hovertemplate\": \"Region=Undetermined<br>Date=%{x}<br>Number of Cases=%{y}\", \"legendgroup\": \"Undetermined\", \"line\": {\"color\": \"#22FFA7\"}, \"mode\": \"lines\", \"name\": \"Undetermined\", \"orientation\": \"v\", \"showlegend\": true, \"stackgroup\": \"1\", \"type\": \"scatter\", \"x\": [\"13th\", \"14th\", \"15th\", \"16th\", \"17th\", \"18th\", \"19th\", \"20th\"], \"xaxis\": \"x\", \"y\": [0.0, 1.0, 2.0, 3.0, 5.0, 5.0, 8.0, 18.0], \"yaxis\": \"y\"}, {\"hoverlabel\": {\"namelength\": 0}, \"hovertemplate\": \"Region=Hors Quebec<br>Date=%{x}<br>Number of Cases=%{y}\", \"legendgroup\": \"Hors Quebec\", \"line\": {\"color\": \"#E3EE9E\"}, \"mode\": \"lines\", \"name\": \"Hors Quebec\", \"orientation\": \"v\", \"showlegend\": true, \"stackgroup\": \"1\", \"type\": \"scatter\", \"x\": [\"13th\", \"14th\", \"15th\", \"16th\", \"17th\", \"18th\", \"19th\", \"20th\"], \"xaxis\": \"x\", \"y\": [0.0, 0.0, 1.0, 1.0, 2.0, 2.0, 2.0, 2.0], \"yaxis\": \"y\"}],\n",
       "                        {\"legend\": {\"title\": {\"text\": \"Region\"}, \"tracegroupgap\": 0}, \"margin\": {\"t\": 60}, \"template\": {\"data\": {\"bar\": [{\"error_x\": {\"color\": \"#2a3f5f\"}, \"error_y\": {\"color\": \"#2a3f5f\"}, \"marker\": {\"line\": {\"color\": \"#E5ECF6\", \"width\": 0.5}}, \"type\": \"bar\"}], \"barpolar\": [{\"marker\": {\"line\": {\"color\": \"#E5ECF6\", \"width\": 0.5}}, \"type\": \"barpolar\"}], \"carpet\": [{\"aaxis\": {\"endlinecolor\": \"#2a3f5f\", \"gridcolor\": \"white\", \"linecolor\": \"white\", \"minorgridcolor\": \"white\", \"startlinecolor\": \"#2a3f5f\"}, \"baxis\": {\"endlinecolor\": \"#2a3f5f\", \"gridcolor\": \"white\", \"linecolor\": \"white\", \"minorgridcolor\": \"white\", \"startlinecolor\": \"#2a3f5f\"}, \"type\": \"carpet\"}], \"choropleth\": [{\"colorbar\": {\"outlinewidth\": 0, \"ticks\": \"\"}, \"type\": \"choropleth\"}], \"contour\": [{\"colorbar\": {\"outlinewidth\": 0, \"ticks\": \"\"}, \"colorscale\": [[0.0, \"#0d0887\"], [0.1111111111111111, \"#46039f\"], [0.2222222222222222, \"#7201a8\"], [0.3333333333333333, \"#9c179e\"], [0.4444444444444444, \"#bd3786\"], [0.5555555555555556, \"#d8576b\"], [0.6666666666666666, \"#ed7953\"], [0.7777777777777778, \"#fb9f3a\"], [0.8888888888888888, \"#fdca26\"], [1.0, \"#f0f921\"]], \"type\": \"contour\"}], \"contourcarpet\": [{\"colorbar\": {\"outlinewidth\": 0, \"ticks\": \"\"}, \"type\": \"contourcarpet\"}], \"heatmap\": [{\"colorbar\": {\"outlinewidth\": 0, \"ticks\": \"\"}, \"colorscale\": [[0.0, \"#0d0887\"], [0.1111111111111111, \"#46039f\"], [0.2222222222222222, \"#7201a8\"], [0.3333333333333333, \"#9c179e\"], [0.4444444444444444, \"#bd3786\"], [0.5555555555555556, \"#d8576b\"], [0.6666666666666666, \"#ed7953\"], [0.7777777777777778, \"#fb9f3a\"], [0.8888888888888888, \"#fdca26\"], [1.0, \"#f0f921\"]], \"type\": \"heatmap\"}], \"heatmapgl\": [{\"colorbar\": {\"outlinewidth\": 0, \"ticks\": \"\"}, \"colorscale\": [[0.0, \"#0d0887\"], [0.1111111111111111, \"#46039f\"], [0.2222222222222222, \"#7201a8\"], [0.3333333333333333, \"#9c179e\"], [0.4444444444444444, \"#bd3786\"], [0.5555555555555556, \"#d8576b\"], [0.6666666666666666, \"#ed7953\"], [0.7777777777777778, \"#fb9f3a\"], [0.8888888888888888, \"#fdca26\"], [1.0, \"#f0f921\"]], \"type\": \"heatmapgl\"}], \"histogram\": [{\"marker\": {\"colorbar\": {\"outlinewidth\": 0, \"ticks\": \"\"}}, \"type\": \"histogram\"}], \"histogram2d\": [{\"colorbar\": {\"outlinewidth\": 0, \"ticks\": \"\"}, \"colorscale\": [[0.0, \"#0d0887\"], [0.1111111111111111, \"#46039f\"], [0.2222222222222222, \"#7201a8\"], [0.3333333333333333, \"#9c179e\"], [0.4444444444444444, \"#bd3786\"], [0.5555555555555556, \"#d8576b\"], [0.6666666666666666, \"#ed7953\"], [0.7777777777777778, \"#fb9f3a\"], [0.8888888888888888, \"#fdca26\"], [1.0, \"#f0f921\"]], \"type\": \"histogram2d\"}], \"histogram2dcontour\": [{\"colorbar\": {\"outlinewidth\": 0, \"ticks\": \"\"}, \"colorscale\": [[0.0, \"#0d0887\"], [0.1111111111111111, \"#46039f\"], [0.2222222222222222, \"#7201a8\"], [0.3333333333333333, \"#9c179e\"], [0.4444444444444444, \"#bd3786\"], [0.5555555555555556, \"#d8576b\"], [0.6666666666666666, \"#ed7953\"], [0.7777777777777778, \"#fb9f3a\"], [0.8888888888888888, \"#fdca26\"], [1.0, \"#f0f921\"]], \"type\": \"histogram2dcontour\"}], \"mesh3d\": [{\"colorbar\": {\"outlinewidth\": 0, \"ticks\": \"\"}, \"type\": \"mesh3d\"}], \"parcoords\": [{\"line\": {\"colorbar\": {\"outlinewidth\": 0, \"ticks\": \"\"}}, \"type\": \"parcoords\"}], \"pie\": [{\"automargin\": true, \"type\": \"pie\"}], \"scatter\": [{\"marker\": {\"colorbar\": {\"outlinewidth\": 0, \"ticks\": \"\"}}, \"type\": \"scatter\"}], \"scatter3d\": [{\"line\": {\"colorbar\": {\"outlinewidth\": 0, \"ticks\": \"\"}}, \"marker\": {\"colorbar\": {\"outlinewidth\": 0, \"ticks\": \"\"}}, \"type\": \"scatter3d\"}], \"scattercarpet\": [{\"marker\": {\"colorbar\": {\"outlinewidth\": 0, \"ticks\": \"\"}}, \"type\": \"scattercarpet\"}], \"scattergeo\": [{\"marker\": {\"colorbar\": {\"outlinewidth\": 0, \"ticks\": \"\"}}, \"type\": \"scattergeo\"}], \"scattergl\": [{\"marker\": {\"colorbar\": {\"outlinewidth\": 0, \"ticks\": \"\"}}, \"type\": \"scattergl\"}], \"scattermapbox\": [{\"marker\": {\"colorbar\": {\"outlinewidth\": 0, \"ticks\": \"\"}}, \"type\": \"scattermapbox\"}], \"scatterpolar\": [{\"marker\": {\"colorbar\": {\"outlinewidth\": 0, \"ticks\": \"\"}}, \"type\": \"scatterpolar\"}], \"scatterpolargl\": [{\"marker\": {\"colorbar\": {\"outlinewidth\": 0, \"ticks\": \"\"}}, \"type\": \"scatterpolargl\"}], \"scatterternary\": [{\"marker\": {\"colorbar\": {\"outlinewidth\": 0, \"ticks\": \"\"}}, \"type\": \"scatterternary\"}], \"surface\": [{\"colorbar\": {\"outlinewidth\": 0, \"ticks\": \"\"}, \"colorscale\": [[0.0, \"#0d0887\"], [0.1111111111111111, \"#46039f\"], [0.2222222222222222, \"#7201a8\"], [0.3333333333333333, \"#9c179e\"], [0.4444444444444444, \"#bd3786\"], [0.5555555555555556, \"#d8576b\"], [0.6666666666666666, \"#ed7953\"], [0.7777777777777778, \"#fb9f3a\"], [0.8888888888888888, \"#fdca26\"], [1.0, \"#f0f921\"]], \"type\": \"surface\"}], \"table\": [{\"cells\": {\"fill\": {\"color\": \"#EBF0F8\"}, \"line\": {\"color\": \"white\"}}, \"header\": {\"fill\": {\"color\": \"#C8D4E3\"}, \"line\": {\"color\": \"white\"}}, \"type\": \"table\"}]}, \"layout\": {\"annotationdefaults\": {\"arrowcolor\": \"#2a3f5f\", \"arrowhead\": 0, \"arrowwidth\": 1}, \"coloraxis\": {\"colorbar\": {\"outlinewidth\": 0, \"ticks\": \"\"}}, \"colorscale\": {\"diverging\": [[0, \"#8e0152\"], [0.1, \"#c51b7d\"], [0.2, \"#de77ae\"], [0.3, \"#f1b6da\"], [0.4, \"#fde0ef\"], [0.5, \"#f7f7f7\"], [0.6, \"#e6f5d0\"], [0.7, \"#b8e186\"], [0.8, \"#7fbc41\"], [0.9, \"#4d9221\"], [1, \"#276419\"]], \"sequential\": [[0.0, \"#0d0887\"], [0.1111111111111111, \"#46039f\"], [0.2222222222222222, \"#7201a8\"], [0.3333333333333333, \"#9c179e\"], [0.4444444444444444, \"#bd3786\"], [0.5555555555555556, \"#d8576b\"], [0.6666666666666666, \"#ed7953\"], [0.7777777777777778, \"#fb9f3a\"], [0.8888888888888888, \"#fdca26\"], [1.0, \"#f0f921\"]], \"sequentialminus\": [[0.0, \"#0d0887\"], [0.1111111111111111, \"#46039f\"], [0.2222222222222222, \"#7201a8\"], [0.3333333333333333, \"#9c179e\"], [0.4444444444444444, \"#bd3786\"], [0.5555555555555556, \"#d8576b\"], [0.6666666666666666, \"#ed7953\"], [0.7777777777777778, \"#fb9f3a\"], [0.8888888888888888, \"#fdca26\"], [1.0, \"#f0f921\"]]}, \"colorway\": [\"#636efa\", \"#EF553B\", \"#00cc96\", \"#ab63fa\", \"#FFA15A\", \"#19d3f3\", \"#FF6692\", \"#B6E880\", \"#FF97FF\", \"#FECB52\"], \"font\": {\"color\": \"#2a3f5f\"}, \"geo\": {\"bgcolor\": \"white\", \"lakecolor\": \"white\", \"landcolor\": \"#E5ECF6\", \"showlakes\": true, \"showland\": true, \"subunitcolor\": \"white\"}, \"hoverlabel\": {\"align\": \"left\"}, \"hovermode\": \"closest\", \"mapbox\": {\"style\": \"light\"}, \"paper_bgcolor\": \"white\", \"plot_bgcolor\": \"#E5ECF6\", \"polar\": {\"angularaxis\": {\"gridcolor\": \"white\", \"linecolor\": \"white\", \"ticks\": \"\"}, \"bgcolor\": \"#E5ECF6\", \"radialaxis\": {\"gridcolor\": \"white\", \"linecolor\": \"white\", \"ticks\": \"\"}}, \"scene\": {\"xaxis\": {\"backgroundcolor\": \"#E5ECF6\", \"gridcolor\": \"white\", \"gridwidth\": 2, \"linecolor\": \"white\", \"showbackground\": true, \"ticks\": \"\", \"zerolinecolor\": \"white\"}, \"yaxis\": {\"backgroundcolor\": \"#E5ECF6\", \"gridcolor\": \"white\", \"gridwidth\": 2, \"linecolor\": \"white\", \"showbackground\": true, \"ticks\": \"\", \"zerolinecolor\": \"white\"}, \"zaxis\": {\"backgroundcolor\": \"#E5ECF6\", \"gridcolor\": \"white\", \"gridwidth\": 2, \"linecolor\": \"white\", \"showbackground\": true, \"ticks\": \"\", \"zerolinecolor\": \"white\"}}, \"shapedefaults\": {\"line\": {\"color\": \"#2a3f5f\"}}, \"ternary\": {\"aaxis\": {\"gridcolor\": \"white\", \"linecolor\": \"white\", \"ticks\": \"\"}, \"baxis\": {\"gridcolor\": \"white\", \"linecolor\": \"white\", \"ticks\": \"\"}, \"bgcolor\": \"#E5ECF6\", \"caxis\": {\"gridcolor\": \"white\", \"linecolor\": \"white\", \"ticks\": \"\"}}, \"title\": {\"x\": 0.05}, \"xaxis\": {\"automargin\": true, \"gridcolor\": \"white\", \"linecolor\": \"white\", \"ticks\": \"\", \"title\": {\"standoff\": 15}, \"zerolinecolor\": \"white\", \"zerolinewidth\": 2}, \"yaxis\": {\"automargin\": true, \"gridcolor\": \"white\", \"linecolor\": \"white\", \"ticks\": \"\", \"title\": {\"standoff\": 15}, \"zerolinecolor\": \"white\", \"zerolinewidth\": 2}}}, \"xaxis\": {\"anchor\": \"y\", \"domain\": [0.0, 1.0], \"title\": {\"text\": \"Date\"}}, \"yaxis\": {\"anchor\": \"x\", \"domain\": [0.0, 1.0], \"title\": {\"text\": \"Number of Cases\"}}},\n",
       "                        {\"responsive\": true}\n",
       "                    ).then(function(){\n",
       "                            \n",
       "var gd = document.getElementById('28d03c30-fb62-4142-85e7-68fb4fcb21b4');\n",
       "var x = new MutationObserver(function (mutations, observer) {{\n",
       "        var display = window.getComputedStyle(gd).display;\n",
       "        if (!display || display === 'none') {{\n",
       "            console.log([gd, 'removed!']);\n",
       "            Plotly.purge(gd);\n",
       "            observer.disconnect();\n",
       "        }}\n",
       "}});\n",
       "\n",
       "// Listen for the removal of the full notebook cells\n",
       "var notebookContainer = gd.closest('#notebook-container');\n",
       "if (notebookContainer) {{\n",
       "    x.observe(notebookContainer, {childList: true});\n",
       "}}\n",
       "\n",
       "// Listen for the clearing of the current output cell\n",
       "var outputEl = gd.closest('.output');\n",
       "if (outputEl) {{\n",
       "    x.observe(outputEl, {childList: true});\n",
       "}}\n",
       "\n",
       "                        })\n",
       "                };\n",
       "                });\n",
       "            </script>\n",
       "        </div>"
      ]
     },
     "metadata": {},
     "output_type": "display_data"
    }
   ],
   "source": [
    "fig = px.area(stacked_df, x=\"Date\", y=\"Number of Cases\", color = \"Region\", color_discrete_sequence= px.colors.qualitative.Light24)\n",
    "fig.show()"
   ]
  },
  {
   "cell_type": "code",
   "execution_count": 115,
   "metadata": {},
   "outputs": [],
   "source": [
    "quebec = {\"type\":\"FeatureCollection\", \"features\": [\n",
    "{\"type\":\"Feature\",\"geometry\":{\"type\":\"Polygon\",\"coordinates\":[[[-75.521078,47.846988],[-75.521328,47.763314],[-75.308858,47.547632],[-75.558812,47.207758],[-75.796918,47.319068],[-76.091496,47.188543],[-76.130591,46.924539],[-75.896777,46.817864],[-75.747563,46.842662],[-75.745234,46.438231],[-75.788765,46.274808],[-75.748112,45.972435],[-75.408277,45.97322],[-75.408148,46.097566],[-74.939369,46.105915],[-74.714402,45.8879],[-74.807877,45.638399],[-75.683908,45.459147],[-75.863327,45.378637],[-75.959496,45.465951],[-76.205678,45.51791],[-76.347222,45.456245],[-76.656641,45.558558],[-76.782695,45.874218],[-76.993624,45.787639],[-77.194378,45.86903],[-77.277882,46.009395],[-77.568477,46.157865],[-77.841593,46.20636],[-77.742892,46.409166],[-77.828896,46.764638],[-77.834224,46.771435],[-77.887515,46.836003],[-77.890685,46.842495],[-77.891966,46.844478],[-77.892402,46.853972],[-77.850785,46.891076],[-77.850058,46.884025],[-77.844448,46.886294],[-77.84366,46.896653],[-77.834101,46.926713],[-77.836447,46.934191],[-77.860428,47.239651],[-77.433071,47.290474],[-77.433281,47.144924],[-77.002301,47.145024],[-77.001718,47.289943],[-76.575914,47.289729],[-76.575596,47.604154],[-76.454455,47.622073],[-76.451946,47.627699],[-76.288937,47.681683],[-76.289692,47.683687],[-76.229669,47.73144],[-75.837584,47.750306],[-75.8341,47.749513],[-75.81342,47.68064],[-75.812205,47.67892],[-75.811202,47.674356],[-75.810177,47.67167],[-75.782192,47.799428],[-75.780107,47.800688],[-75.521078,47.846988]]]},\"properties\":{\"cartodb_id\":10,\"res_co_reg\":7,\"regio_s_id\":12,\"regio_s_\":11,\"res_co_ver\":\"V2012-05\",\"res_co_ref\":\"BDGA1M\",\"res_nm_reg\":\"07-Outauais\",\"res_de_ind\":\"RÃ©gion administrative\",\"res_no_ind\":\"50 02 0100 000\",\"perimeter\":15.4275800017612,\"area\":3.99614361096536},\"id\":12},\n",
    "{\"type\":\"Feature\",\"geometry\":{\"type\":\"Polygon\",\"coordinates\":[[[-72.07341,47.949997],[-72.123555,47.998509],[-73.017829,47.998663],[-74.471679,48.945649],[-74.420869,48.925683],[-74.41643,48.925868],[-74.402448,48.923826],[-74.396992,48.926784],[-74.279062,49.000026],[-74.289071,49.00669],[-74.227998,49.218962],[-74.314451,49.260076],[-74.314645,49.266932],[-74.372596,49.311446],[-74.372024,49.314222],[-74.407789,49.427228],[-74.247109,49.564582],[-73.895668,49.945404],[-73.896492,49.952643],[-73.778651,50.081098],[-73.750269,50.230163],[-73.74554,50.232972],[-73.551879,50.364399],[-73.541397,50.36738],[-73.306574,50.611597],[-73.30154,50.614383],[-73.149666,50.747545],[-73.019848,50.668756],[-73.01826,50.670501],[-72.863413,50.804071],[-72.85882,50.810156],[-72.855975,50.81184],[-72.842828,50.810644],[-72.75607,50.819404],[-72.751628,50.818176],[-72.602482,50.814747],[-72.601113,50.831484],[-72.599596,50.837254],[-72.598438,50.839056],[-72.541758,50.757474],[-72.533808,50.75494],[-72.534238,50.747853],[-72.53324,50.746069],[-72.509938,50.747318],[-72.500216,50.747245],[-72.376146,50.886885],[-72.370661,50.88857],[-72.161703,50.978119],[-72.118311,51.105061],[-71.837837,51.355642],[-71.583528,51.510729],[-71.57795,51.516338],[-71.570951,51.530783],[-71.572969,51.536908],[-71.580903,51.57797],[-71.57877,51.581075],[-71.616985,51.615556],[-71.612674,51.621228],[-71.551188,51.827533],[-71.376365,51.845963],[-71.246359,52.070431],[-70.967297,52.231721],[-70.961298,52.235813],[-70.279659,52.353398],[-70.277413,52.426716],[-70.273153,52.431986],[-70.219026,52.554111],[-70.227242,52.554116],[-70.237541,52.559448],[-70.237324,52.56694],[-70.216784,52.711207],[-70.029906,52.832544],[-70.02479,52.000079],[-70.025553,50.750063],[-70.010424,49.796526],[-70.010523,49.000001],[-70.018179,48.256731],[-69.871054,48.186107],[-69.956127,48.056784],[-70.172546,48.128806],[-70.263326,47.994919],[-71.41121,47.995934],[-71.379536,47.950024],[-72.07341,47.949997]]]},\"properties\":{\"cartodb_id\":4,\"res_co_reg\":2,\"regio_s_id\":6,\"regio_s_\":5,\"res_co_ver\":\"V2012-05\",\"res_co_ref\":\"BDGA1M\",\"res_nm_reg\":\"02- Saguenay-Lac-Saint-Jean\",\"res_de_ind\":\"Région administrative\",\"res_no_ind\":\"50 02 0100 000\",\"perimeter\":19.7857933261279,\"area\":13.298006548304},\"id\":6},\n",
    "{\"type\":\"Feature\",\"geometry\":{\"type\":\"Polygon\",\"coordinates\":[[[-67.153341,49.189062],[-66.563434,49.539165],[-66.295707,49.64523],[-66.000015,49.704048],[-65.395762,49.699742],[-64.910024,49.61016],[-64.595671,49.509706],[-64.163784,49.319935],[-63.600509,48.968992],[-62.999129,48.666683],[-61.749088,48.666663],[-60.468609,48.666663],[-60.403772,47.761098],[-60.762679,47.423328],[-60.991849,47.329432],[-61.350481,47.009723],[-61.399367,46.839999],[-62.299956,46.839999],[-62.98636,47.139728],[-63.791667,48.220564],[-64.421965,48.220568],[-65.111678,47.921103],[-65.536139,47.828607],[-65.606408,47.933611],[-65.858147,48.022234],[-66.302721,48.032746],[-66.452257,48.08721],[-66.699094,48.005315],[-66.916487,47.984707],[-67.209206,47.875818],[-67.392456,47.866956],[-67.598344,48.000066],[-67.5867,48.042391],[-67.588931,48.04974],[-67.666615,48.118412],[-67.374601,48.194887],[-67.277586,48.031515],[-66.879578,48.136958],[-66.974198,48.303186],[-65.948463,48.567122],[-66.537875,48.95834],[-66.698123,48.964179],[-66.698745,48.967353],[-66.70181,48.984814],[-66.700265,48.987354],[-66.83247,48.985116],[-67.153341,49.189062]]]},\"properties\":{\"cartodb_id\":5,\"res_co_reg\":11,\"regio_s_id\":7,\"regio_s_\":6,\"res_co_ver\":\"V2012-05\",\"res_co_ref\":\"BDGA1M\",\"res_nm_reg\":\"11- Gaspesie-Iles-de-la-Madelaine\",\"res_de_ind\":\"Région administrative\",\"res_no_ind\":\"50 02 0100 000\",\"perimeter\":20.8678792455471,\"area\":9.48314959730072},\"id\":7},\n",
    "{\"type\":\"Feature\",\"geometry\":{\"type\":\"Polygon\",\"coordinates\":[[[-75.521078,47.846988],[-75.780107,47.800688],[-75.782192,47.799428],[-75.810177,47.67167],[-75.811202,47.674356],[-75.812205,47.67892],[-75.81342,47.68064],[-75.8341,47.749513],[-75.837584,47.750306],[-76.229669,47.73144],[-76.289692,47.683687],[-76.288937,47.681683],[-76.451946,47.627699],[-76.454455,47.622073],[-76.575596,47.604154],[-76.575914,47.289729],[-77.001718,47.289943],[-77.002301,47.145024],[-77.433281,47.144924],[-77.433071,47.290474],[-77.860428,47.239651],[-77.836447,46.934191],[-77.834101,46.926713],[-77.84366,46.896653],[-77.844448,46.886294],[-77.850058,46.884025],[-77.850785,46.891076],[-77.892402,46.853972],[-77.891966,46.844478],[-77.890685,46.842495],[-77.887515,46.836003],[-77.834224,46.771435],[-77.828896,46.764638],[-77.742892,46.409166],[-77.841593,46.20636],[-78.129115,46.272815],[-78.692863,46.31873],[-78.987859,46.547015],[-79.168966,46.823485],[-79.446562,47.110438],[-79.428976,47.240774],[-79.579327,47.432637],[-79.517205,47.533414],[-79.517764,49.009109],[-79.053418,49.000045],[-76.999737,48.999999],[-75.520551,49.000016],[-75.521078,47.846988]]]},\"properties\":{\"cartodb_id\":7,\"res_co_reg\":8,\"regio_s_id\":9,\"regio_s_\":8,\"res_co_ver\":\"V2012-05\",\"res_co_ref\":\"BDGA1M\",\"res_nm_reg\":\"08-Abititi-Temiscaminigue\",\"res_de_ind\":\"Région administrative\",\"res_no_ind\":\"50 02 0100 000\",\"perimeter\":14.9638243152797,\"area\":7.78473054972107},\"id\":9},\n",
    "{\"type\":\"Feature\",\"geometry\":{\"type\":\"Polygon\",\"coordinates\":[[[-74.471679,48.945649],[-73.017829,47.998663],[-72.123555,47.998509],[-72.07341,47.949997],[-71.890536,47.770179],[-72.238828,47.536571],[-72.145723,47.399614],[-72.239878,47.290108],[-72.50337,47.311941],[-72.540745,47.190662],[-72.435868,47.057484],[-72.167602,46.874224],[-72.392221,46.791376],[-72.082727,46.57015],[-72.198901,46.532325],[-72.21268,46.520967],[-72.267698,46.433635],[-72.936232,46.151217],[-73.216489,46.279333],[-73.167306,46.382865],[-73.333101,46.498727],[-73.536358,46.865513],[-73.543432,46.866338],[-73.570849,46.871483],[-73.573687,46.869887],[-73.66083,46.894617],[-73.65012,46.938033],[-73.853208,47.151075],[-74.028553,47.177965],[-73.975508,47.364768],[-73.972952,47.370797],[-74.511525,47.762906],[-74.889411,47.762619],[-75.521328,47.763314],[-75.521078,47.846988],[-75.520551,49.000016],[-74.55934,48.999925],[-74.471679,48.945649]]]},\"properties\":{\"cartodb_id\":8,\"res_co_reg\":4,\"regio_s_id\":10,\"regio_s_\":9,\"res_co_ver\":\"V2012-05\",\"res_co_ref\":\"BDGA1M\",\"res_nm_reg\":\"04-Mauricie\",\"res_de_ind\":\"Région administrative\",\"res_no_ind\":\"50 02 0100 000\",\"perimeter\":13.1966772376706,\"area\":4.78751317999797},\"id\":10},\n",
    "{\"type\":\"Feature\",\"geometry\":{\"type\":\"Polygon\",\"coordinates\":[[[-72.07341,47.949997],[-71.379536,47.950024],[-71.41121,47.995934],[-70.263326,47.994919],[-70.172546,48.128806],[-69.956127,48.056784],[-69.871054,48.186107],[-69.548369,48.049451],[-69.656537,47.99422],[-69.893749,47.701311],[-70.198248,47.411201],[-70.454932,47.253498],[-70.716252,46.993868],[-71.000352,46.84744],[-71.115357,46.839533],[-71.128385,46.8377],[-71.283693,46.746726],[-71.690822,46.649837],[-71.870955,46.677671],[-72.054301,46.570497],[-72.066825,46.569761],[-72.082727,46.57015],[-72.392221,46.791376],[-72.167602,46.874224],[-72.435868,47.057484],[-72.540745,47.190662],[-72.50337,47.311941],[-72.239878,47.290108],[-72.145723,47.399614],[-72.238828,47.536571],[-71.890536,47.770179],[-72.07341,47.949997]]]},\"properties\":{\"cartodb_id\":9,\"res_co_reg\":3,\"regio_s_id\":11,\"regio_s_\":10,\"res_co_ver\":\"V2012-05\",\"res_co_ref\":\"BDGA1M\",\"res_nm_reg\":\"03- Capitale-Nationale\",\"res_de_ind\":\"Région administrative\",\"res_no_ind\":\"50 02 0100 000\",\"perimeter\":8.81817210239763,\"area\":2.49937337388851},\"id\":11},\n",
    "{\"type\":\"Feature\",\"geometry\":{\"type\":\"Polygon\",\"coordinates\":[[[-75.521328,47.763314],[-74.889411,47.762619],[-74.5078,47.502208],[-74.507743,47.502935],[-74.619692,47.251113],[-74.415157,47.100723],[-74.57475,46.997571],[-74.427279,46.896617],[-74.508932,46.646535],[-74.508288,46.642451],[-74.503725,46.640022],[-74.499065,46.639045],[-74.491004,46.593768],[-74.488473,46.596463],[-74.445787,46.620477],[-74.423104,46.605517],[-74.38517,46.578771],[-74.376332,46.527668],[-74.477748,46.454113],[-74.412684,46.298891],[-74.182687,46.250042],[-74.03304,46.148714],[-73.935392,45.944243],[-73.937068,45.925236],[-73.759062,45.727893],[-73.761411,45.714365],[-73.744881,45.668642],[-73.895779,45.525458],[-73.977851,45.46442],[-73.990063,45.459525],[-73.996551,45.457488],[-74.339075,45.513261],[-74.380758,45.565982],[-74.629351,45.63829],[-74.807877,45.638399],[-74.714402,45.8879],[-74.939369,46.105915],[-75.408148,46.097566],[-75.408277,45.97322],[-75.748112,45.972435],[-75.788765,46.274808],[-75.745234,46.438231],[-75.747563,46.842662],[-75.896777,46.817864],[-76.130591,46.924539],[-76.091496,47.188543],[-75.796918,47.319068],[-75.558812,47.207758],[-75.308858,47.547632],[-75.521328,47.763314]]]},\"properties\":{\"cartodb_id\":11,\"res_co_reg\":15,\"regio_s_id\":13,\"regio_s_\":12,\"res_co_ver\":\"V2012-05\",\"res_co_ref\":\"BDGA1M\",\"res_nm_reg\":\"15- Laurentides\",\"res_de_ind\":\"Région administrative\",\"res_no_ind\":\"50 02 0100 000\",\"perimeter\":12.0473497358836,\"area\":2.64627784216984},\"id\":13},\n",
    "{\"type\":\"Feature\",\"geometry\":{\"type\":\"Polygon\",\"coordinates\":[[[-70.198248,47.411201],[-70.003487,47.278656],[-69.985984,47.285714],[-69.625519,47.06655],[-69.997359,46.695246],[-70.057197,46.416557],[-70.208698,46.329344],[-70.315785,46.020046],[-70.242194,45.938925],[-70.413606,45.795991],[-70.895614,45.780022],[-70.899805,45.886751],[-71.461258,45.816568],[-71.68617,45.966808],[-71.509741,46.137326],[-71.478962,46.395879],[-71.617519,46.451759],[-71.759723,46.363955],[-72.054301,46.570497],[-71.870955,46.677671],[-71.690822,46.649837],[-71.283693,46.746726],[-71.128385,46.8377],[-71.115357,46.839533],[-71.000352,46.84744],[-70.716252,46.993868],[-70.454932,47.253498],[-70.198248,47.411201]]]},\"properties\":{\"cartodb_id\":13,\"res_co_reg\":12,\"regio_s_id\":15,\"regio_s_\":14,\"res_co_ver\":\"V2012-05\",\"res_co_ref\":\"BDGA1M\",\"res_nm_reg\":\"Chaudière-Appalaches\",\"res_de_ind\":\"Région administrative\",\"res_no_ind\":\"50 02 0100 000\",\"perimeter\":8.20535335218676,\"area\":1.89098805979165},\"id\":15},\n",
    "{\"type\":\"Feature\",\"geometry\":{\"type\":\"Polygon\",\"coordinates\":[[[-74.889411,47.762619],[-74.511525,47.762906],[-73.972952,47.370797],[-73.975508,47.364768],[-74.028553,47.177965],[-73.853208,47.151075],[-73.65012,46.938033],[-73.66083,46.894617],[-73.573687,46.869887],[-73.570849,46.871483],[-73.543432,46.866338],[-73.536358,46.865513],[-73.333101,46.498727],[-73.167306,46.382865],[-73.216489,46.279333],[-72.936232,46.151217],[-72.992102,46.111805],[-73.158932,46.043609],[-73.290566,45.831375],[-73.474364,45.700024],[-73.523106,45.69786],[-73.744881,45.668642],[-73.761411,45.714365],[-73.759062,45.727893],[-73.937068,45.925236],[-73.935392,45.944243],[-74.03304,46.148714],[-74.182687,46.250042],[-74.412684,46.298891],[-74.477748,46.454113],[-74.376332,46.527668],[-74.38517,46.578771],[-74.423104,46.605517],[-74.445787,46.620477],[-74.488473,46.596463],[-74.491004,46.593768],[-74.499065,46.639045],[-74.503725,46.640022],[-74.508288,46.642451],[-74.508932,46.646535],[-74.427279,46.896617],[-74.57475,46.997571],[-74.415157,47.100723],[-74.619692,47.251113],[-74.507743,47.502935],[-74.5078,47.502208],[-74.889411,47.762619]]]},\"properties\":{\"cartodb_id\":12,\"res_co_reg\":14,\"regio_s_id\":14,\"regio_s_\":13,\"res_co_ver\":\"V2012-05\",\"res_co_ref\":\"BDGA1M\",\"res_nm_reg\":\"14- Lanaudiere\",\"res_de_ind\":\"Région administrative\",\"res_no_ind\":\"50 02 0100 000\",\"perimeter\":9.01209725042588,\"area\":1.58700910317102},\"id\":14},\n",
    "{\"type\":\"Feature\",\"geometry\":{\"type\":\"Polygon\",\"coordinates\":[[[-72.992102,46.111805],[-72.752495,45.942799],[-72.852977,45.86388],[-72.577873,45.752622],[-72.315602,45.599234],[-72.350469,45.589009],[-72.359986,45.589036],[-72.454557,45.451383],[-72.403368,45.155766],[-72.485017,45.008814],[-73.068118,45.015872],[-74.148943,44.991358],[-74.495201,45.064735],[-74.318803,45.187976],[-74.472294,45.302813],[-74.380758,45.565982],[-74.339075,45.513261],[-73.996551,45.457488],[-73.822172,45.385406],[-73.559613,45.419082],[-73.474364,45.700024],[-73.290566,45.831375],[-73.158932,46.043609],[-72.992102,46.111805]]]},\"properties\":{\"cartodb_id\":15,\"res_co_reg\":16,\"regio_s_id\":17,\"regio_s_\":16,\"res_co_ver\":\"V2012-05\",\"res_co_ref\":\"BDGA1M\",\"res_nm_reg\":\"16- Monteregie\",\"res_de_ind\":\"Région administrative\",\"res_no_ind\":\"50 02 0100 000\",\"perimeter\":7.09129879389589,\"area\":1.36183178555221},\"id\":17},\n",
    "{\"type\":\"Feature\",\"geometry\":{\"type\":\"Polygon\",\"coordinates\":[[[-71.461258,45.816568],[-70.899805,45.886751],[-70.895614,45.780022],[-70.413606,45.795991],[-70.645443,45.606152],[-70.825525,45.400367],[-71.228181,45.249407],[-71.384778,45.233288],[-71.500556,45.013252],[-72.485017,45.008814],[-72.403368,45.155766],[-72.454557,45.451383],[-72.359986,45.589036],[-72.350469,45.589009],[-72.315602,45.599234],[-72.029639,45.85343],[-71.798933,45.858038],[-71.780876,45.875051],[-71.461258,45.816568]]]},\"properties\":{\"cartodb_id\":16,\"res_co_reg\":5,\"regio_s_id\":18,\"regio_s_\":17,\"res_co_ver\":\"V2012-05\",\"res_co_ref\":\"BDGA1M\",\"res_nm_reg\":\"05-Estrie\",\"res_de_ind\":\"Région administrative\",\"res_no_ind\":\"50 02 0100 000\",\"perimeter\":7.28698953467045,\"area\":1.20899519667971},\"id\":18},\n",
    "{\"type\":\"Feature\",\"geometry\":{\"type\":\"Polygon\",\"coordinates\":[[[-70.029906,52.832544],[-70.216784,52.711207],[-70.237324,52.56694],[-70.237541,52.559448],[-70.227242,52.554116],[-70.219026,52.554111],[-70.273153,52.431986],[-70.277413,52.426716],[-70.279659,52.353398],[-70.961298,52.235813],[-70.967297,52.231721],[-71.246359,52.070431],[-71.376365,51.845963],[-71.551188,51.827533],[-71.612674,51.621228],[-71.616985,51.615556],[-71.57877,51.581075],[-71.580903,51.57797],[-71.572969,51.536908],[-71.570951,51.530783],[-71.57795,51.516338],[-71.583528,51.510729],[-71.837837,51.355642],[-72.118311,51.105061],[-72.161703,50.978119],[-72.370661,50.88857],[-72.376146,50.886885],[-72.500216,50.747245],[-72.509938,50.747318],[-72.53324,50.746069],[-72.534238,50.747853],[-72.533808,50.75494],[-72.541758,50.757474],[-72.598438,50.839056],[-72.599596,50.837254],[-72.601113,50.831484],[-72.602482,50.814747],[-72.751628,50.818176],[-72.75607,50.819404],[-72.842828,50.810644],[-72.855975,50.81184],[-72.85882,50.810156],[-72.863413,50.804071],[-73.01826,50.670501],[-73.019848,50.668756],[-73.149666,50.747545],[-73.30154,50.614383],[-73.306574,50.611597],[-73.541397,50.36738],[-73.551879,50.364399],[-73.74554,50.232972],[-73.750269,50.230163],[-73.778651,50.081098],[-73.896492,49.952643],[-73.895668,49.945404],[-74.247109,49.564582],[-74.407789,49.427228],[-74.372024,49.314222],[-74.372596,49.311446],[-74.314645,49.266932],[-74.314451,49.260076],[-74.227998,49.218962],[-74.289071,49.00669],[-74.279062,49.000026],[-74.396992,48.926784],[-74.402448,48.923826],[-74.41643,48.925868],[-74.420869,48.925683],[-74.471679,48.945649],[-74.55934,48.999925],[-75.520551,49.000016],[-76.999737,48.999999],[-79.053418,49.000045],[-79.517764,49.009109],[-79.517778,49.750087],[-79.517782,50.749782],[-79.518348,51.582765],[-79.216599,51.64224],[-78.97984,51.461542],[-78.8012,51.47268],[-78.85079,51.616359],[-79.048087,51.764299],[-78.892221,51.9468],[-78.779781,51.969912],[-78.559298,52.160636],[-78.516069,52.332222],[-78.589509,52.517228],[-78.761621,52.540806],[-78.997057,53.094311],[-78.983656,53.399893],[-79.139357,53.493777],[-79.06147,53.613062],[-79.105933,53.903362],[-79.480179,54.233108],[-79.533899,54.519204],[-79.654207,54.689571],[-79.004662,54.83803],[-78.318669,55.041928],[-77.78361,55.268906],[-77.252517,55.577846],[-77.196747,55.669994],[-76.689674,56.049426],[-76.547842,56.302428],[-76.532224,56.798183],[-76.575855,57.128172],[-76.697944,57.435416],[-77.091539,57.939337],[-77.650514,58.263961],[-78.207122,58.404029],[-78.240246,58.495866],[-78.587222,58.648907],[-78.577592,58.917305],[-77.989747,59.262379],[-77.835235,59.588562],[-77.84815,59.726042],[-77.54479,59.756544],[-77.46729,59.918075],[-77.624387,60.054652],[-77.607278,60.292636],[-78.07599,60.791496],[-78.10992,60.917371],[-77.858235,61.053848],[-77.743741,61.259786],[-77.88746,61.623668],[-78.000007,61.692107],[-78.202012,62.254555],[-78.086497,62.362423],[-77.506116,62.582171],[-76.930718,62.537763],[-76.524456,62.443992],[-75.580695,62.286842],[-75.340345,62.317039],[-74.967923,62.265525],[-74.423074,62.242752],[-74.004542,62.365341],[-73.831326,62.459269],[-73.224515,62.322815],[-73.044368,62.202256],[-72.613396,62.112375],[-72.595276,61.976047],[-72.180093,61.85322],[-72.032175,61.731028],[-71.62851,61.653167],[-71.565604,61.544934],[-71.607302,61.262205],[-71.313338,61.153081],[-70.667132,61.055773],[-70.298932,61.101411],[-69.964086,60.945368],[-69.758506,60.917128],[-69.592277,61.081513],[-69.371593,60.916188],[-69.371451,60.79946],[-69.674783,60.673021],[-69.717298,60.40712],[-69.542288,60.094026],[-69.49501,59.611084],[-69.626464,59.471705],[-69.232263,59.346558],[-69.205631,59.223358],[-68.892257,58.924126],[-68.552048,58.941038],[-68.260454,58.823208],[-68.268268,58.616334],[-68.00256,58.590248],[-67.365056,58.31443],[-66.938354,58.515877],[-66.78029,58.501722],[-66.573738,58.665141],[-66.4834,58.857892],[-66.095088,58.861308],[-65.989371,58.918389],[-65.80651,59.209121],[-65.848893,59.283289],[-65.526989,59.469633],[-65.433076,59.588142],[-65.566606,59.690521],[-65.463741,59.815967],[-65.235871,59.925633],[-65.142601,60.063364],[-64.855821,60.268343],[-64.642658,59.906278],[-64.818186,59.821003],[-64.751401,59.725478],[-64.838986,59.554562],[-64.510789,59.421548],[-64.471064,59.179491],[-64.26522,59.01681],[-64.226498,58.783589],[-63.681534,58.880981],[-63.497759,58.745886],[-63.94783,58.689451],[-64.143259,58.601834],[-63.985802,58.442829],[-64.168456,58.364842],[-64.25609,58.224024],[-64.423654,58.193974],[-64.407753,58.062696],[-64.193215,57.932683],[-63.901728,57.913835],[-63.883302,57.716043],[-63.697963,57.36678],[-63.881318,57.268014],[-63.766982,57.143241],[-63.899353,57.079276],[-63.910478,56.925497],[-64.142895,56.704203],[-63.943953,56.540104],[-63.934837,56.265269],[-64.008251,56.076014],[-63.730528,56.068031],[-63.547381,56.005863],[-63.845131,55.886814],[-63.709229,55.754368],[-63.644633,55.286198],[-63.550617,55.19001],[-63.553921,55.000047],[-64.750002,54.999996],[-66.259781,55.000009],[-66.609089,55.269845],[-66.762782,55.136899],[-66.642917,55.000063],[-68.250018,54.999987],[-70.029883,55.000136],[-70.029708,54.000024],[-70.029906,52.832544]]]},\"properties\":{\"cartodb_id\":19,\"res_co_reg\":10,\"regio_s_id\":1,\"regio_s_\":20,\"res_co_ver\":\"V2012-05\",\"res_co_ref\":\"BDGA1M\",\"res_nm_reg\":\"10-Nord-du-Quebec\",\"res_de_ind\":\"Région administrative\",\"res_no_ind\":\"50 02 0100 000\",\"perimeter\":94.6754067058214,\"area\":124.08686903197},\"id\":1},\n",
    "{\"type\":\"Feature\",\"geometry\":{\"type\":\"Polygon\",\"coordinates\":[[[-73.523106,45.69786],[-73.474364,45.700024],[-73.559613,45.419082],[-73.822172,45.385406],[-73.996551,45.457488],[-73.990063,45.459525],[-73.977851,45.46442],[-73.895779,45.525458],[-73.732746,45.531604],[-73.726358,45.534538],[-73.523106,45.69786]]]},\"properties\":{\"cartodb_id\":17,\"res_co_reg\":6,\"regio_s_id\":19,\"regio_s_\":18,\"res_co_ver\":\"V2012-05\",\"res_co_ref\":\"BDGA1M\",\"res_nm_reg\":\"06-Montreal\",\"res_de_ind\":\"Région administrative\",\"res_no_ind\":\"50 02 0100 000\",\"perimeter\":1.46897572891785,\"area\":0.0719384128928997},\"id\":19},\n",
    "{\"type\":\"Feature\",\"geometry\":{\"type\":\"MultiPolygon\",\"coordinates\":[[[[-60.468609,48.666663],[-61.999092,48.666676],[-62.999129,48.666683],[-63.600509,48.968992],[-64.163784,49.319935],[-64.595671,49.509706],[-65.095087,49.652753],[-65.645385,49.717895],[-66.000015,49.704048],[-66.48767,49.575425],[-67.153341,49.189062],[-67.592507,49.078342],[-68.173272,48.881427],[-68.723464,48.621039],[-69.234461,48.291093],[-69.548369,48.049451],[-70.077876,48.252828],[-70.007992,48.357004],[-70.010424,49.796526],[-70.025553,50.750063],[-70.02479,52.000079],[-70.029896,52.916605],[-70.029883,55.000136],[-69,55.000117],[-67.41416,54.994108],[-67.053178,54.695712],[-67.304721,54.514433],[-67.670849,54.446101],[-67.725908,54.334933],[-67.634491,54.159846],[-67.809196,54.017238],[-67.588854,53.917925],[-67.565856,53.794452],[-67.212496,53.539563],[-67.028292,53.533339],[-66.913542,53.420893],[-66.968385,53.203975],[-67.383275,53.08794],[-67.340285,52.893365],[-66.899719,52.686938],[-66.416261,52.846906],[-66.314061,52.732515],[-66.438777,52.623627],[-66.343028,52.398622],[-66.4844,52.348634],[-66.097613,52.200563],[-66.090954,52.108479],[-65.673164,52.120423],[-65.198951,52.260113],[-64.83546,52.034965],[-64.71066,51.873309],[-64.774169,51.804733],[-64.557126,51.580661],[-64.286166,51.727896],[-64.36103,51.864222],[-64.33689,52.009271],[-64.200549,52.176679],[-64.252993,52.274969],[-64.107507,52.407321],[-64.176955,52.585072],[-64.148678,52.728806],[-63.722772,52.773221],[-63.567018,52.944469],[-63.446819,52.944523],[-62.963909,52.758547],[-62.611145,52.79977],[-62.336163,52.736907],[-62.15596,52.780601],[-61.70826,52.573288],[-61.2725,52.513978],[-60.947423,52.36681],[-60.564327,52.318835],[-60.517378,52.454503],[-59.96797,52.496555],[-59.83671,52.662084],[-59.512005,52.612942],[-59.316081,52.626663],[-59.138521,52.516299],[-58.730084,52.481882],[-58.56987,52.652822],[-58.326417,52.690593],[-58.077696,52.544371],[-57.979881,52.431115],[-57.739883,52.370728],[-57.296976,52.09591],[-56.981755,52.030747],[-57.107498,51.805965],[-57.107482,51.202493],[-57.736141,50.998608],[-58.940366,49.84861],[-60,49.112579],[-60.476819,48.781392],[-60.468609,48.666663]]],[[[-66.72991,54.973408],[-66.597631,54.812183],[-66.670161,54.712626],[-66.946476,54.817491],[-67.218818,55.000107],[-66.72991,54.973408]]],[[[-63.563353,54.98803],[-63.786125,54.949003],[-63.909794,54.784361],[-63.763296,54.698498],[-64.052221,54.597304],[-64.324983,54.77317],[-64.600434,54.731281],[-64.964562,54.932565],[-65.427553,54.747206],[-65.679536,54.705263],[-65.919348,54.937431],[-65.374133,55.000096],[-63.563353,54.98803]]],[[[-66.84942,55.306585],[-66.765893,55.248563],[-66.782005,55.041497],[-67.048984,55.230236],[-66.84942,55.306585]]]]},\"properties\":{\"cartodb_id\":1,\"res_co_reg\":9,\"regio_s_id\":2,\"regio_s_\":2,\"res_co_ver\":\"V2012-05\",\"res_co_ref\":\"BDGA1M\",\"res_nm_reg\":\"9-Cote-Nord\",\"res_de_ind\":\"Région administrative\",\"res_no_ind\":\"50 02 0100 000\",\"perimeter\":0.151935634889039,\"area\":0.000753085700268219},\"id\":2},\n",
    "{\"type\":\"Feature\",\"geometry\":{\"type\":\"Polygon\",\"coordinates\":[[[-67.153341,49.189062],[-66.83247,48.985116],[-66.700265,48.987354],[-66.70181,48.984814],[-66.698745,48.967353],[-66.698123,48.964179],[-66.537875,48.95834],[-65.948463,48.567122],[-66.974198,48.303186],[-66.879578,48.136958],[-67.277586,48.031515],[-67.374601,48.194887],[-67.666615,48.118412],[-67.588931,48.04974],[-67.5867,48.042391],[-67.598344,48.000066],[-68.122856,48.000061],[-68.122785,47.916561],[-68.383141,47.916615],[-68.38295,47.553498],[-68.569408,47.427049],[-69.051087,47.300133],[-69.032042,47.408305],[-69.229788,47.454624],[-69.625519,47.06655],[-69.985984,47.285714],[-70.003487,47.278656],[-70.198248,47.411201],[-69.893749,47.701311],[-69.656537,47.99422],[-69.548369,48.049451],[-69.234461,48.291093],[-68.723464,48.621039],[-68.093746,48.909451],[-67.592507,49.078342],[-67.153341,49.189062]]]},\"properties\":{\"cartodb_id\":6,\"res_co_reg\":1,\"regio_s_id\":8,\"regio_s_\":7,\"res_co_ver\":\"V2012-05\",\"res_co_ref\":\"BDGA1M\",\"res_nm_reg\":\"01-Bas-Saint-Laurent\",\"res_de_ind\":\"Région administrative\",\"res_no_ind\":\"50 02 0100 000\",\"perimeter\":11.2654083386742,\"area\":3.43782496715336},\"id\":8},\n",
    "{\"type\":\"Feature\",\"geometry\":{\"type\":\"Polygon\",\"coordinates\":[[[-73.744881,45.668642],[-73.523106,45.69786],[-73.726358,45.534538],[-73.732746,45.531604],[-73.895779,45.525458],[-73.744881,45.668642]]]},\"properties\":{\"cartodb_id\":18,\"res_co_reg\":13,\"regio_s_id\":20,\"regio_s_\":19,\"res_co_ver\":\"V2012-05\",\"res_co_ref\":\"BDGA1M\",\"res_nm_reg\":\"13- Laval\",\"res_de_ind\":\"Région administrative\",\"res_no_ind\":\"50 02 0100 000\",\"perimeter\":0.931105008023468,\"area\":0.0307859846863181},\"id\":20},\n",
    "{\"type\":\"Feature\",\"geometry\":{\"type\":\"Polygon\",\"coordinates\":[[[-72.082727,46.57015],[-72.066825,46.569761],[-72.054301,46.570497],[-71.759723,46.363955],[-71.617519,46.451759],[-71.478962,46.395879],[-71.509741,46.137326],[-71.68617,45.966808],[-71.461258,45.816568],[-71.780876,45.875051],[-71.798933,45.858038],[-72.029639,45.85343],[-72.315602,45.599234],[-72.577873,45.752622],[-72.852977,45.86388],[-72.752495,45.942799],[-72.992102,46.111805],[-72.936232,46.151217],[-72.267698,46.433635],[-72.21268,46.520967],[-72.198901,46.532325],[-72.082727,46.57015]]]},\"properties\":{\"cartodb_id\":14,\"res_co_reg\":17,\"regio_s_id\":16,\"regio_s_\":15,\"res_co_ver\":\"V2012-05\",\"res_co_ref\":\"BDGA1M\",\"res_nm_reg\":\"17- Centre du Quebec\",\"res_de_ind\":\"Région administrative\",\"res_no_ind\":\"50 02 0100 000\",\"perimeter\":5.40454763380291,\"area\":0.844851321836394},\"id\":16}\n",
    "]}"
   ]
  },
  {
   "cell_type": "code",
   "execution_count": 124,
   "metadata": {},
   "outputs": [
    {
     "data": {
      "text/html": [
       "<div>\n",
       "<style scoped>\n",
       "    .dataframe tbody tr th:only-of-type {\n",
       "        vertical-align: middle;\n",
       "    }\n",
       "\n",
       "    .dataframe tbody tr th {\n",
       "        vertical-align: top;\n",
       "    }\n",
       "\n",
       "    .dataframe thead th {\n",
       "        text-align: right;\n",
       "    }\n",
       "</style>\n",
       "<table border=\"1\" class=\"dataframe\">\n",
       "  <thead>\n",
       "    <tr style=\"text-align: right;\">\n",
       "      <th></th>\n",
       "      <th>district</th>\n",
       "      <th>Coderre</th>\n",
       "      <th>Bergeron</th>\n",
       "      <th>Joly</th>\n",
       "      <th>total</th>\n",
       "      <th>winner</th>\n",
       "      <th>result</th>\n",
       "      <th>district_id</th>\n",
       "    </tr>\n",
       "  </thead>\n",
       "  <tbody>\n",
       "    <tr>\n",
       "      <th>0</th>\n",
       "      <td>101-Bois-de-Liesse</td>\n",
       "      <td>2481</td>\n",
       "      <td>1829</td>\n",
       "      <td>3024</td>\n",
       "      <td>7334</td>\n",
       "      <td>Joly</td>\n",
       "      <td>plurality</td>\n",
       "      <td>101</td>\n",
       "    </tr>\n",
       "    <tr>\n",
       "      <th>1</th>\n",
       "      <td>102-Cap-Saint-Jacques</td>\n",
       "      <td>2525</td>\n",
       "      <td>1163</td>\n",
       "      <td>2675</td>\n",
       "      <td>6363</td>\n",
       "      <td>Joly</td>\n",
       "      <td>plurality</td>\n",
       "      <td>102</td>\n",
       "    </tr>\n",
       "    <tr>\n",
       "      <th>2</th>\n",
       "      <td>11-Sault-au-Récollet</td>\n",
       "      <td>3348</td>\n",
       "      <td>2770</td>\n",
       "      <td>2532</td>\n",
       "      <td>8650</td>\n",
       "      <td>Coderre</td>\n",
       "      <td>plurality</td>\n",
       "      <td>11</td>\n",
       "    </tr>\n",
       "    <tr>\n",
       "      <th>3</th>\n",
       "      <td>111-Mile-End</td>\n",
       "      <td>1734</td>\n",
       "      <td>4782</td>\n",
       "      <td>2514</td>\n",
       "      <td>9030</td>\n",
       "      <td>Bergeron</td>\n",
       "      <td>majority</td>\n",
       "      <td>111</td>\n",
       "    </tr>\n",
       "    <tr>\n",
       "      <th>4</th>\n",
       "      <td>112-DeLorimier</td>\n",
       "      <td>1770</td>\n",
       "      <td>5933</td>\n",
       "      <td>3044</td>\n",
       "      <td>10747</td>\n",
       "      <td>Bergeron</td>\n",
       "      <td>majority</td>\n",
       "      <td>112</td>\n",
       "    </tr>\n",
       "    <tr>\n",
       "      <th>5</th>\n",
       "      <td>113-Jeanne-Mance</td>\n",
       "      <td>1455</td>\n",
       "      <td>3599</td>\n",
       "      <td>2316</td>\n",
       "      <td>7370</td>\n",
       "      <td>Bergeron</td>\n",
       "      <td>plurality</td>\n",
       "      <td>113</td>\n",
       "    </tr>\n",
       "    <tr>\n",
       "      <th>6</th>\n",
       "      <td>12-Saint-Sulpice</td>\n",
       "      <td>3252</td>\n",
       "      <td>2521</td>\n",
       "      <td>2543</td>\n",
       "      <td>8316</td>\n",
       "      <td>Coderre</td>\n",
       "      <td>plurality</td>\n",
       "      <td>12</td>\n",
       "    </tr>\n",
       "    <tr>\n",
       "      <th>7</th>\n",
       "      <td>121-La Pointe-aux-Prairies</td>\n",
       "      <td>5456</td>\n",
       "      <td>1760</td>\n",
       "      <td>3330</td>\n",
       "      <td>10546</td>\n",
       "      <td>Coderre</td>\n",
       "      <td>majority</td>\n",
       "      <td>121</td>\n",
       "    </tr>\n",
       "    <tr>\n",
       "      <th>8</th>\n",
       "      <td>122-Pointe-aux-Trembles</td>\n",
       "      <td>4734</td>\n",
       "      <td>1879</td>\n",
       "      <td>2852</td>\n",
       "      <td>9465</td>\n",
       "      <td>Coderre</td>\n",
       "      <td>majority</td>\n",
       "      <td>122</td>\n",
       "    </tr>\n",
       "    <tr>\n",
       "      <th>9</th>\n",
       "      <td>123-Rivière-des-Prairies</td>\n",
       "      <td>5737</td>\n",
       "      <td>958</td>\n",
       "      <td>1656</td>\n",
       "      <td>8351</td>\n",
       "      <td>Coderre</td>\n",
       "      <td>majority</td>\n",
       "      <td>123</td>\n",
       "    </tr>\n",
       "    <tr>\n",
       "      <th>10</th>\n",
       "      <td>13-Ahuntsic</td>\n",
       "      <td>2979</td>\n",
       "      <td>3430</td>\n",
       "      <td>2873</td>\n",
       "      <td>9282</td>\n",
       "      <td>Bergeron</td>\n",
       "      <td>plurality</td>\n",
       "      <td>13</td>\n",
       "    </tr>\n",
       "    <tr>\n",
       "      <th>11</th>\n",
       "      <td>131-Saint-Édouard</td>\n",
       "      <td>1827</td>\n",
       "      <td>6408</td>\n",
       "      <td>2815</td>\n",
       "      <td>11050</td>\n",
       "      <td>Bergeron</td>\n",
       "      <td>majority</td>\n",
       "      <td>131</td>\n",
       "    </tr>\n",
       "    <tr>\n",
       "      <th>12</th>\n",
       "      <td>132-Étienne-Desmarteau</td>\n",
       "      <td>2331</td>\n",
       "      <td>5748</td>\n",
       "      <td>2788</td>\n",
       "      <td>10867</td>\n",
       "      <td>Bergeron</td>\n",
       "      <td>majority</td>\n",
       "      <td>132</td>\n",
       "    </tr>\n",
       "    <tr>\n",
       "      <th>13</th>\n",
       "      <td>133-Vieux-Rosemont</td>\n",
       "      <td>2670</td>\n",
       "      <td>4962</td>\n",
       "      <td>3234</td>\n",
       "      <td>10866</td>\n",
       "      <td>Bergeron</td>\n",
       "      <td>plurality</td>\n",
       "      <td>133</td>\n",
       "    </tr>\n",
       "    <tr>\n",
       "      <th>14</th>\n",
       "      <td>134-Marie-Victorin</td>\n",
       "      <td>3673</td>\n",
       "      <td>3155</td>\n",
       "      <td>2431</td>\n",
       "      <td>9259</td>\n",
       "      <td>Coderre</td>\n",
       "      <td>plurality</td>\n",
       "      <td>134</td>\n",
       "    </tr>\n",
       "    <tr>\n",
       "      <th>15</th>\n",
       "      <td>14-Bordeaux-Cartierville</td>\n",
       "      <td>3612</td>\n",
       "      <td>1554</td>\n",
       "      <td>2081</td>\n",
       "      <td>7247</td>\n",
       "      <td>Coderre</td>\n",
       "      <td>plurality</td>\n",
       "      <td>14</td>\n",
       "    </tr>\n",
       "    <tr>\n",
       "      <th>16</th>\n",
       "      <td>141-Côte-de-Liesse</td>\n",
       "      <td>4308</td>\n",
       "      <td>1320</td>\n",
       "      <td>3959</td>\n",
       "      <td>9587</td>\n",
       "      <td>Coderre</td>\n",
       "      <td>plurality</td>\n",
       "      <td>141</td>\n",
       "    </tr>\n",
       "    <tr>\n",
       "      <th>17</th>\n",
       "      <td>142-Norman-McLaren</td>\n",
       "      <td>4104</td>\n",
       "      <td>1459</td>\n",
       "      <td>2822</td>\n",
       "      <td>8385</td>\n",
       "      <td>Coderre</td>\n",
       "      <td>plurality</td>\n",
       "      <td>142</td>\n",
       "    </tr>\n",
       "    <tr>\n",
       "      <th>18</th>\n",
       "      <td>151-Saint-Léonard-Est</td>\n",
       "      <td>3931</td>\n",
       "      <td>882</td>\n",
       "      <td>1641</td>\n",
       "      <td>6454</td>\n",
       "      <td>Coderre</td>\n",
       "      <td>majority</td>\n",
       "      <td>151</td>\n",
       "    </tr>\n",
       "    <tr>\n",
       "      <th>19</th>\n",
       "      <td>152-Saint-Léonard-Ouest</td>\n",
       "      <td>5387</td>\n",
       "      <td>1184</td>\n",
       "      <td>1908</td>\n",
       "      <td>8479</td>\n",
       "      <td>Coderre</td>\n",
       "      <td>majority</td>\n",
       "      <td>152</td>\n",
       "    </tr>\n",
       "    <tr>\n",
       "      <th>20</th>\n",
       "      <td>161-Saint-HenriPetite-BourgognePointe-Saint-Ch...</td>\n",
       "      <td>2432</td>\n",
       "      <td>3368</td>\n",
       "      <td>3578</td>\n",
       "      <td>9378</td>\n",
       "      <td>Joly</td>\n",
       "      <td>plurality</td>\n",
       "      <td>161</td>\n",
       "    </tr>\n",
       "    <tr>\n",
       "      <th>21</th>\n",
       "      <td>162-Saint-PaulÉmard</td>\n",
       "      <td>2566</td>\n",
       "      <td>2092</td>\n",
       "      <td>2438</td>\n",
       "      <td>7096</td>\n",
       "      <td>Coderre</td>\n",
       "      <td>plurality</td>\n",
       "      <td>162</td>\n",
       "    </tr>\n",
       "    <tr>\n",
       "      <th>22</th>\n",
       "      <td>171-ChamplainL'Île-des-Soeurs</td>\n",
       "      <td>3347</td>\n",
       "      <td>2562</td>\n",
       "      <td>3291</td>\n",
       "      <td>9200</td>\n",
       "      <td>Coderre</td>\n",
       "      <td>plurality</td>\n",
       "      <td>171</td>\n",
       "    </tr>\n",
       "    <tr>\n",
       "      <th>23</th>\n",
       "      <td>172-Desmarchais-Crawford</td>\n",
       "      <td>2476</td>\n",
       "      <td>2631</td>\n",
       "      <td>2849</td>\n",
       "      <td>7956</td>\n",
       "      <td>Joly</td>\n",
       "      <td>plurality</td>\n",
       "      <td>172</td>\n",
       "    </tr>\n",
       "    <tr>\n",
       "      <th>24</th>\n",
       "      <td>181-Peter-McGill</td>\n",
       "      <td>1451</td>\n",
       "      <td>754</td>\n",
       "      <td>1894</td>\n",
       "      <td>4099</td>\n",
       "      <td>Joly</td>\n",
       "      <td>plurality</td>\n",
       "      <td>181</td>\n",
       "    </tr>\n",
       "    <tr>\n",
       "      <th>25</th>\n",
       "      <td>182-Saint-Jacques</td>\n",
       "      <td>1906</td>\n",
       "      <td>2169</td>\n",
       "      <td>2282</td>\n",
       "      <td>6357</td>\n",
       "      <td>Joly</td>\n",
       "      <td>plurality</td>\n",
       "      <td>182</td>\n",
       "    </tr>\n",
       "    <tr>\n",
       "      <th>26</th>\n",
       "      <td>183-Sainte-Marie</td>\n",
       "      <td>1347</td>\n",
       "      <td>2827</td>\n",
       "      <td>2271</td>\n",
       "      <td>6445</td>\n",
       "      <td>Bergeron</td>\n",
       "      <td>plurality</td>\n",
       "      <td>183</td>\n",
       "    </tr>\n",
       "    <tr>\n",
       "      <th>27</th>\n",
       "      <td>191-Saint-Michel</td>\n",
       "      <td>3668</td>\n",
       "      <td>984</td>\n",
       "      <td>1220</td>\n",
       "      <td>5872</td>\n",
       "      <td>Coderre</td>\n",
       "      <td>majority</td>\n",
       "      <td>191</td>\n",
       "    </tr>\n",
       "    <tr>\n",
       "      <th>28</th>\n",
       "      <td>192-François-Perrault</td>\n",
       "      <td>2878</td>\n",
       "      <td>2666</td>\n",
       "      <td>2039</td>\n",
       "      <td>7583</td>\n",
       "      <td>Coderre</td>\n",
       "      <td>plurality</td>\n",
       "      <td>192</td>\n",
       "    </tr>\n",
       "    <tr>\n",
       "      <th>29</th>\n",
       "      <td>193-Villeray</td>\n",
       "      <td>2201</td>\n",
       "      <td>5819</td>\n",
       "      <td>2782</td>\n",
       "      <td>10802</td>\n",
       "      <td>Bergeron</td>\n",
       "      <td>majority</td>\n",
       "      <td>193</td>\n",
       "    </tr>\n",
       "    <tr>\n",
       "      <th>30</th>\n",
       "      <td>194-Parc-Extension</td>\n",
       "      <td>2420</td>\n",
       "      <td>1793</td>\n",
       "      <td>1402</td>\n",
       "      <td>5615</td>\n",
       "      <td>Coderre</td>\n",
       "      <td>plurality</td>\n",
       "      <td>194</td>\n",
       "    </tr>\n",
       "    <tr>\n",
       "      <th>31</th>\n",
       "      <td>21-Ouest</td>\n",
       "      <td>2184</td>\n",
       "      <td>691</td>\n",
       "      <td>1076</td>\n",
       "      <td>3951</td>\n",
       "      <td>Coderre</td>\n",
       "      <td>majority</td>\n",
       "      <td>21</td>\n",
       "    </tr>\n",
       "    <tr>\n",
       "      <th>32</th>\n",
       "      <td>22-Est</td>\n",
       "      <td>1589</td>\n",
       "      <td>708</td>\n",
       "      <td>1172</td>\n",
       "      <td>3469</td>\n",
       "      <td>Coderre</td>\n",
       "      <td>plurality</td>\n",
       "      <td>22</td>\n",
       "    </tr>\n",
       "    <tr>\n",
       "      <th>33</th>\n",
       "      <td>23-Centre</td>\n",
       "      <td>2526</td>\n",
       "      <td>851</td>\n",
       "      <td>1286</td>\n",
       "      <td>4663</td>\n",
       "      <td>Coderre</td>\n",
       "      <td>majority</td>\n",
       "      <td>23</td>\n",
       "    </tr>\n",
       "    <tr>\n",
       "      <th>34</th>\n",
       "      <td>31-Darlington</td>\n",
       "      <td>1873</td>\n",
       "      <td>1182</td>\n",
       "      <td>1232</td>\n",
       "      <td>4287</td>\n",
       "      <td>Coderre</td>\n",
       "      <td>plurality</td>\n",
       "      <td>31</td>\n",
       "    </tr>\n",
       "    <tr>\n",
       "      <th>35</th>\n",
       "      <td>32-Côte-des-Neiges</td>\n",
       "      <td>1644</td>\n",
       "      <td>1950</td>\n",
       "      <td>1578</td>\n",
       "      <td>5172</td>\n",
       "      <td>Bergeron</td>\n",
       "      <td>plurality</td>\n",
       "      <td>32</td>\n",
       "    </tr>\n",
       "    <tr>\n",
       "      <th>36</th>\n",
       "      <td>33-Snowdon</td>\n",
       "      <td>1548</td>\n",
       "      <td>1503</td>\n",
       "      <td>1636</td>\n",
       "      <td>4687</td>\n",
       "      <td>Joly</td>\n",
       "      <td>plurality</td>\n",
       "      <td>33</td>\n",
       "    </tr>\n",
       "    <tr>\n",
       "      <th>37</th>\n",
       "      <td>34-Notre-Dame-de-Grâce</td>\n",
       "      <td>1773</td>\n",
       "      <td>2653</td>\n",
       "      <td>3262</td>\n",
       "      <td>7688</td>\n",
       "      <td>Joly</td>\n",
       "      <td>plurality</td>\n",
       "      <td>34</td>\n",
       "    </tr>\n",
       "    <tr>\n",
       "      <th>38</th>\n",
       "      <td>35-Loyola</td>\n",
       "      <td>2040</td>\n",
       "      <td>1437</td>\n",
       "      <td>2648</td>\n",
       "      <td>6125</td>\n",
       "      <td>Joly</td>\n",
       "      <td>plurality</td>\n",
       "      <td>35</td>\n",
       "    </tr>\n",
       "    <tr>\n",
       "      <th>39</th>\n",
       "      <td>41-du Canal</td>\n",
       "      <td>1165</td>\n",
       "      <td>832</td>\n",
       "      <td>1266</td>\n",
       "      <td>3263</td>\n",
       "      <td>Joly</td>\n",
       "      <td>plurality</td>\n",
       "      <td>41</td>\n",
       "    </tr>\n",
       "    <tr>\n",
       "      <th>40</th>\n",
       "      <td>42-J.-Émery-Provost</td>\n",
       "      <td>1193</td>\n",
       "      <td>653</td>\n",
       "      <td>1157</td>\n",
       "      <td>3003</td>\n",
       "      <td>Coderre</td>\n",
       "      <td>plurality</td>\n",
       "      <td>42</td>\n",
       "    </tr>\n",
       "    <tr>\n",
       "      <th>41</th>\n",
       "      <td>43-Fort-Rolland</td>\n",
       "      <td>1325</td>\n",
       "      <td>1205</td>\n",
       "      <td>1908</td>\n",
       "      <td>4438</td>\n",
       "      <td>Joly</td>\n",
       "      <td>plurality</td>\n",
       "      <td>43</td>\n",
       "    </tr>\n",
       "    <tr>\n",
       "      <th>42</th>\n",
       "      <td>51-Sault-Saint-Louis</td>\n",
       "      <td>4201</td>\n",
       "      <td>1642</td>\n",
       "      <td>3717</td>\n",
       "      <td>9560</td>\n",
       "      <td>Coderre</td>\n",
       "      <td>plurality</td>\n",
       "      <td>51</td>\n",
       "    </tr>\n",
       "    <tr>\n",
       "      <th>43</th>\n",
       "      <td>52-Cecil-P.-Newman</td>\n",
       "      <td>3536</td>\n",
       "      <td>1330</td>\n",
       "      <td>2943</td>\n",
       "      <td>7809</td>\n",
       "      <td>Coderre</td>\n",
       "      <td>plurality</td>\n",
       "      <td>52</td>\n",
       "    </tr>\n",
       "    <tr>\n",
       "      <th>44</th>\n",
       "      <td>61-Pierre-Foretier</td>\n",
       "      <td>631</td>\n",
       "      <td>258</td>\n",
       "      <td>998</td>\n",
       "      <td>1887</td>\n",
       "      <td>Joly</td>\n",
       "      <td>majority</td>\n",
       "      <td>61</td>\n",
       "    </tr>\n",
       "    <tr>\n",
       "      <th>45</th>\n",
       "      <td>62-Denis-Benjamin-Viger</td>\n",
       "      <td>595</td>\n",
       "      <td>226</td>\n",
       "      <td>1068</td>\n",
       "      <td>1889</td>\n",
       "      <td>Joly</td>\n",
       "      <td>majority</td>\n",
       "      <td>62</td>\n",
       "    </tr>\n",
       "    <tr>\n",
       "      <th>46</th>\n",
       "      <td>63-Jacques-Bizard</td>\n",
       "      <td>518</td>\n",
       "      <td>224</td>\n",
       "      <td>690</td>\n",
       "      <td>1432</td>\n",
       "      <td>Joly</td>\n",
       "      <td>plurality</td>\n",
       "      <td>63</td>\n",
       "    </tr>\n",
       "    <tr>\n",
       "      <th>47</th>\n",
       "      <td>64-Sainte-Geneviève</td>\n",
       "      <td>332</td>\n",
       "      <td>131</td>\n",
       "      <td>326</td>\n",
       "      <td>789</td>\n",
       "      <td>Coderre</td>\n",
       "      <td>plurality</td>\n",
       "      <td>64</td>\n",
       "    </tr>\n",
       "    <tr>\n",
       "      <th>48</th>\n",
       "      <td>71-Tétreaultville</td>\n",
       "      <td>3694</td>\n",
       "      <td>2589</td>\n",
       "      <td>3454</td>\n",
       "      <td>9737</td>\n",
       "      <td>Coderre</td>\n",
       "      <td>plurality</td>\n",
       "      <td>71</td>\n",
       "    </tr>\n",
       "    <tr>\n",
       "      <th>49</th>\n",
       "      <td>72-MaisonneuveLongue-Pointe</td>\n",
       "      <td>2746</td>\n",
       "      <td>3250</td>\n",
       "      <td>3139</td>\n",
       "      <td>9135</td>\n",
       "      <td>Bergeron</td>\n",
       "      <td>plurality</td>\n",
       "      <td>72</td>\n",
       "    </tr>\n",
       "    <tr>\n",
       "      <th>50</th>\n",
       "      <td>73-Hochelaga</td>\n",
       "      <td>1546</td>\n",
       "      <td>3679</td>\n",
       "      <td>2675</td>\n",
       "      <td>7900</td>\n",
       "      <td>Bergeron</td>\n",
       "      <td>plurality</td>\n",
       "      <td>73</td>\n",
       "    </tr>\n",
       "    <tr>\n",
       "      <th>51</th>\n",
       "      <td>74-Louis-Riel</td>\n",
       "      <td>3509</td>\n",
       "      <td>2178</td>\n",
       "      <td>2338</td>\n",
       "      <td>8025</td>\n",
       "      <td>Coderre</td>\n",
       "      <td>plurality</td>\n",
       "      <td>74</td>\n",
       "    </tr>\n",
       "    <tr>\n",
       "      <th>52</th>\n",
       "      <td>81-Marie-Clarac</td>\n",
       "      <td>6591</td>\n",
       "      <td>1085</td>\n",
       "      <td>1435</td>\n",
       "      <td>9111</td>\n",
       "      <td>Coderre</td>\n",
       "      <td>majority</td>\n",
       "      <td>81</td>\n",
       "    </tr>\n",
       "    <tr>\n",
       "      <th>53</th>\n",
       "      <td>82-Ovide-Clermont</td>\n",
       "      <td>6229</td>\n",
       "      <td>780</td>\n",
       "      <td>1051</td>\n",
       "      <td>8060</td>\n",
       "      <td>Coderre</td>\n",
       "      <td>majority</td>\n",
       "      <td>82</td>\n",
       "    </tr>\n",
       "    <tr>\n",
       "      <th>54</th>\n",
       "      <td>91-Claude-Ryan</td>\n",
       "      <td>996</td>\n",
       "      <td>643</td>\n",
       "      <td>423</td>\n",
       "      <td>2062</td>\n",
       "      <td>Coderre</td>\n",
       "      <td>plurality</td>\n",
       "      <td>91</td>\n",
       "    </tr>\n",
       "    <tr>\n",
       "      <th>55</th>\n",
       "      <td>92-Joseph-Beaubien</td>\n",
       "      <td>540</td>\n",
       "      <td>833</td>\n",
       "      <td>592</td>\n",
       "      <td>1965</td>\n",
       "      <td>Bergeron</td>\n",
       "      <td>plurality</td>\n",
       "      <td>92</td>\n",
       "    </tr>\n",
       "    <tr>\n",
       "      <th>56</th>\n",
       "      <td>93-Robert-Bourassa</td>\n",
       "      <td>446</td>\n",
       "      <td>465</td>\n",
       "      <td>419</td>\n",
       "      <td>1330</td>\n",
       "      <td>Bergeron</td>\n",
       "      <td>plurality</td>\n",
       "      <td>93</td>\n",
       "    </tr>\n",
       "    <tr>\n",
       "      <th>57</th>\n",
       "      <td>94-Jeanne-Sauvé</td>\n",
       "      <td>491</td>\n",
       "      <td>698</td>\n",
       "      <td>489</td>\n",
       "      <td>1678</td>\n",
       "      <td>Bergeron</td>\n",
       "      <td>plurality</td>\n",
       "      <td>94</td>\n",
       "    </tr>\n",
       "  </tbody>\n",
       "</table>\n",
       "</div>"
      ],
      "text/plain": [
       "                                             district  Coderre  Bergeron  \\\n",
       "0                                  101-Bois-de-Liesse     2481      1829   \n",
       "1                               102-Cap-Saint-Jacques     2525      1163   \n",
       "2                                11-Sault-au-Récollet     3348      2770   \n",
       "3                                        111-Mile-End     1734      4782   \n",
       "4                                      112-DeLorimier     1770      5933   \n",
       "5                                    113-Jeanne-Mance     1455      3599   \n",
       "6                                    12-Saint-Sulpice     3252      2521   \n",
       "7                          121-La Pointe-aux-Prairies     5456      1760   \n",
       "8                             122-Pointe-aux-Trembles     4734      1879   \n",
       "9                            123-Rivière-des-Prairies     5737       958   \n",
       "10                                        13-Ahuntsic     2979      3430   \n",
       "11                                  131-Saint-Édouard     1827      6408   \n",
       "12                             132-Étienne-Desmarteau     2331      5748   \n",
       "13                                 133-Vieux-Rosemont     2670      4962   \n",
       "14                                 134-Marie-Victorin     3673      3155   \n",
       "15                           14-Bordeaux-Cartierville     3612      1554   \n",
       "16                                 141-Côte-de-Liesse     4308      1320   \n",
       "17                                 142-Norman-McLaren     4104      1459   \n",
       "18                              151-Saint-Léonard-Est     3931       882   \n",
       "19                            152-Saint-Léonard-Ouest     5387      1184   \n",
       "20  161-Saint-HenriPetite-BourgognePointe-Saint-Ch...     2432      3368   \n",
       "21                                162-Saint-PaulÉmard     2566      2092   \n",
       "22                      171-ChamplainL'Île-des-Soeurs     3347      2562   \n",
       "23                           172-Desmarchais-Crawford     2476      2631   \n",
       "24                                   181-Peter-McGill     1451       754   \n",
       "25                                  182-Saint-Jacques     1906      2169   \n",
       "26                                   183-Sainte-Marie     1347      2827   \n",
       "27                                   191-Saint-Michel     3668       984   \n",
       "28                              192-François-Perrault     2878      2666   \n",
       "29                                       193-Villeray     2201      5819   \n",
       "30                                 194-Parc-Extension     2420      1793   \n",
       "31                                           21-Ouest     2184       691   \n",
       "32                                             22-Est     1589       708   \n",
       "33                                          23-Centre     2526       851   \n",
       "34                                      31-Darlington     1873      1182   \n",
       "35                                 32-Côte-des-Neiges     1644      1950   \n",
       "36                                         33-Snowdon     1548      1503   \n",
       "37                             34-Notre-Dame-de-Grâce     1773      2653   \n",
       "38                                          35-Loyola     2040      1437   \n",
       "39                                        41-du Canal     1165       832   \n",
       "40                                42-J.-Émery-Provost     1193       653   \n",
       "41                                    43-Fort-Rolland     1325      1205   \n",
       "42                               51-Sault-Saint-Louis     4201      1642   \n",
       "43                                 52-Cecil-P.-Newman     3536      1330   \n",
       "44                                 61-Pierre-Foretier      631       258   \n",
       "45                            62-Denis-Benjamin-Viger      595       226   \n",
       "46                                  63-Jacques-Bizard      518       224   \n",
       "47                                64-Sainte-Geneviève      332       131   \n",
       "48                                  71-Tétreaultville     3694      2589   \n",
       "49                        72-MaisonneuveLongue-Pointe     2746      3250   \n",
       "50                                       73-Hochelaga     1546      3679   \n",
       "51                                      74-Louis-Riel     3509      2178   \n",
       "52                                    81-Marie-Clarac     6591      1085   \n",
       "53                                  82-Ovide-Clermont     6229       780   \n",
       "54                                     91-Claude-Ryan      996       643   \n",
       "55                                 92-Joseph-Beaubien      540       833   \n",
       "56                                 93-Robert-Bourassa      446       465   \n",
       "57                                    94-Jeanne-Sauvé      491       698   \n",
       "\n",
       "    Joly  total    winner     result  district_id  \n",
       "0   3024   7334      Joly  plurality          101  \n",
       "1   2675   6363      Joly  plurality          102  \n",
       "2   2532   8650   Coderre  plurality           11  \n",
       "3   2514   9030  Bergeron   majority          111  \n",
       "4   3044  10747  Bergeron   majority          112  \n",
       "5   2316   7370  Bergeron  plurality          113  \n",
       "6   2543   8316   Coderre  plurality           12  \n",
       "7   3330  10546   Coderre   majority          121  \n",
       "8   2852   9465   Coderre   majority          122  \n",
       "9   1656   8351   Coderre   majority          123  \n",
       "10  2873   9282  Bergeron  plurality           13  \n",
       "11  2815  11050  Bergeron   majority          131  \n",
       "12  2788  10867  Bergeron   majority          132  \n",
       "13  3234  10866  Bergeron  plurality          133  \n",
       "14  2431   9259   Coderre  plurality          134  \n",
       "15  2081   7247   Coderre  plurality           14  \n",
       "16  3959   9587   Coderre  plurality          141  \n",
       "17  2822   8385   Coderre  plurality          142  \n",
       "18  1641   6454   Coderre   majority          151  \n",
       "19  1908   8479   Coderre   majority          152  \n",
       "20  3578   9378      Joly  plurality          161  \n",
       "21  2438   7096   Coderre  plurality          162  \n",
       "22  3291   9200   Coderre  plurality          171  \n",
       "23  2849   7956      Joly  plurality          172  \n",
       "24  1894   4099      Joly  plurality          181  \n",
       "25  2282   6357      Joly  plurality          182  \n",
       "26  2271   6445  Bergeron  plurality          183  \n",
       "27  1220   5872   Coderre   majority          191  \n",
       "28  2039   7583   Coderre  plurality          192  \n",
       "29  2782  10802  Bergeron   majority          193  \n",
       "30  1402   5615   Coderre  plurality          194  \n",
       "31  1076   3951   Coderre   majority           21  \n",
       "32  1172   3469   Coderre  plurality           22  \n",
       "33  1286   4663   Coderre   majority           23  \n",
       "34  1232   4287   Coderre  plurality           31  \n",
       "35  1578   5172  Bergeron  plurality           32  \n",
       "36  1636   4687      Joly  plurality           33  \n",
       "37  3262   7688      Joly  plurality           34  \n",
       "38  2648   6125      Joly  plurality           35  \n",
       "39  1266   3263      Joly  plurality           41  \n",
       "40  1157   3003   Coderre  plurality           42  \n",
       "41  1908   4438      Joly  plurality           43  \n",
       "42  3717   9560   Coderre  plurality           51  \n",
       "43  2943   7809   Coderre  plurality           52  \n",
       "44   998   1887      Joly   majority           61  \n",
       "45  1068   1889      Joly   majority           62  \n",
       "46   690   1432      Joly  plurality           63  \n",
       "47   326    789   Coderre  plurality           64  \n",
       "48  3454   9737   Coderre  plurality           71  \n",
       "49  3139   9135  Bergeron  plurality           72  \n",
       "50  2675   7900  Bergeron  plurality           73  \n",
       "51  2338   8025   Coderre  plurality           74  \n",
       "52  1435   9111   Coderre   majority           81  \n",
       "53  1051   8060   Coderre   majority           82  \n",
       "54   423   2062   Coderre  plurality           91  \n",
       "55   592   1965  Bergeron  plurality           92  \n",
       "56   419   1330  Bergeron  plurality           93  \n",
       "57   489   1678  Bergeron  plurality           94  "
      ]
     },
     "execution_count": 124,
     "metadata": {},
     "output_type": "execute_result"
    }
   ],
   "source": [
    "px.data.election()\n"
   ]
  },
  {
   "cell_type": "code",
   "execution_count": 118,
   "metadata": {},
   "outputs": [
    {
     "data": {
      "text/plain": [
       "{'type': 'FeatureCollection',\n",
       " 'features': [{'type': 'Feature',\n",
       "   'geometry': {'type': 'MultiPolygon',\n",
       "    'coordinates': [[[[-73.6363215300962, 45.5759177646435],\n",
       "       [-73.6362833815582, 45.5758266113331],\n",
       "       [-73.6446417578686, 45.5658132919643],\n",
       "       [-73.6453511352974, 45.5647725775888],\n",
       "       [-73.648867564748, 45.5586898267402],\n",
       "       [-73.6513170845065, 45.5545659435652],\n",
       "       [-73.6515658357324, 45.5554439857955],\n",
       "       [-73.6660837831645, 45.5596724837829],\n",
       "       [-73.6706609041685, 45.5610978251999],\n",
       "       [-73.6676019919116, 45.5632340862888],\n",
       "       [-73.6645385824068, 45.5642716484367],\n",
       "       [-73.663663123697, 45.5654269638586],\n",
       "       [-73.663336397858, 45.5666288247853],\n",
       "       [-73.6637764768649, 45.5678900619231],\n",
       "       [-73.6625073244826, 45.5688479494114],\n",
       "       [-73.6624620526633, 45.5708304456346],\n",
       "       [-73.6620201425015, 45.5713925326191],\n",
       "       [-73.6616100197742, 45.5737924780218],\n",
       "       [-73.6612199500215, 45.5747171555678],\n",
       "       [-73.6625087613399, 45.5748980132699],\n",
       "       [-73.6639172423219, 45.5730041908097],\n",
       "       [-73.6654358660443, 45.5729040009532],\n",
       "       [-73.6661069174428, 45.5737928224235],\n",
       "       [-73.6657870687343, 45.574385118162],\n",
       "       [-73.6636711124334, 45.577018676761],\n",
       "       [-73.6620928771361, 45.578161887933],\n",
       "       [-73.6611738698168, 45.5798517041392],\n",
       "       [-73.660404649744, 45.5806752214364],\n",
       "       [-73.659760079306, 45.5804007503503],\n",
       "       [-73.6604711314507, 45.5793767269523],\n",
       "       [-73.660479658497, 45.5787710701802],\n",
       "       [-73.6613549575147, 45.5780184952852],\n",
       "       [-73.6617871566128, 45.5758213640561],\n",
       "       [-73.6607445476436, 45.5764832852254],\n",
       "       [-73.6608243059909, 45.5774702934068],\n",
       "       [-73.6592236423267, 45.5793785624903],\n",
       "       [-73.6570262958283, 45.5810509513563],\n",
       "       [-73.6552694168748, 45.5819333817794],\n",
       "       [-73.6543058972308, 45.5836262624158],\n",
       "       [-73.652557313063, 45.5826892716542],\n",
       "       [-73.6363215300962, 45.5759177646435]]],\n",
       "     [[[-73.6561004885273, 45.5841347974261],\n",
       "       [-73.656376117147, 45.5845383929424],\n",
       "       [-73.6559939844354, 45.585868003125],\n",
       "       [-73.6552168328229, 45.5855392416017],\n",
       "       [-73.6561004885273, 45.5841347974261]]]]},\n",
       "   'properties': {'district': '11-Sault-au-Récollet'},\n",
       "   'id': '11'},\n",
       "  {'type': 'Feature',\n",
       "   'geometry': {'type': 'Polygon',\n",
       "    'coordinates': [[[-73.6217484540132, 45.5544783077209],\n",
       "      [-73.6235005117779, 45.5536358848324],\n",
       "      [-73.6278096771011, 45.5513024018691],\n",
       "      [-73.6301686544477, 45.5503989164938],\n",
       "      [-73.6325600663803, 45.5499795021129],\n",
       "      [-73.6342899238824, 45.5494628161417],\n",
       "      [-73.6363671046978, 45.548169415833],\n",
       "      [-73.6398673671325, 45.5441488267699],\n",
       "      [-73.6407295659042, 45.5429686686779],\n",
       "      [-73.6485543103777, 45.5308320827376],\n",
       "      [-73.6510270564502, 45.5263874543882],\n",
       "      [-73.6555330494037, 45.5277342274232],\n",
       "      [-73.6698852350516, 45.5318835785726],\n",
       "      [-73.6726124365382, 45.5322997327559],\n",
       "      [-73.6747555535799, 45.5323081056009],\n",
       "      [-73.6764129283619, 45.5321264506516],\n",
       "      [-73.683124268159, 45.5305991300384],\n",
       "      [-73.6807721370907, 45.534331320177],\n",
       "      [-73.6785046215606, 45.5379069417581],\n",
       "      [-73.6752852955733, 45.5369404343695],\n",
       "      [-73.6740837310465, 45.5378868187786],\n",
       "      [-73.6687347480061, 45.5363337408676],\n",
       "      [-73.667891862525, 45.5387409623539],\n",
       "      [-73.664945183105, 45.5382590909533],\n",
       "      [-73.6646235398403, 45.5394847807605],\n",
       "      [-73.662249203322, 45.543633408253],\n",
       "      [-73.6616100449503, 45.5441416421638],\n",
       "      [-73.6604302515405, 45.5460790656787],\n",
       "      [-73.6568659704249, 45.5450525873044],\n",
       "      [-73.6513170845065, 45.5545659435652],\n",
       "      [-73.648867564748, 45.5586898267402],\n",
       "      [-73.6453511352974, 45.5647725775888],\n",
       "      [-73.6240413737876, 45.5555253903511],\n",
       "      [-73.6217484540132, 45.5544783077209]]]},\n",
       "   'properties': {'district': '12-Saint-Sulpice'},\n",
       "   'id': '12'},\n",
       "  {'type': 'Feature',\n",
       "   'geometry': {'type': 'Polygon',\n",
       "    'coordinates': [[[-73.6513170845065, 45.5545659435652],\n",
       "      [-73.6568659704249, 45.5450525873044],\n",
       "      [-73.6604302515405, 45.5460790656787],\n",
       "      [-73.6616100449503, 45.5441416421638],\n",
       "      [-73.662249203322, 45.543633408253],\n",
       "      [-73.6646235398403, 45.5394847807605],\n",
       "      [-73.664945183105, 45.5382590909533],\n",
       "      [-73.667891862525, 45.5387409623539],\n",
       "      [-73.6687347480061, 45.5363337408676],\n",
       "      [-73.6740837310465, 45.5378868187786],\n",
       "      [-73.6752852955733, 45.5369404343695],\n",
       "      [-73.6785046215606, 45.5379069417581],\n",
       "      [-73.6807721370907, 45.534331320177],\n",
       "      [-73.6920199187781, 45.5394683031028],\n",
       "      [-73.702520410412, 45.5431766227664],\n",
       "      [-73.7042065154565, 45.5438906316964],\n",
       "      [-73.7043014929187, 45.5441905861876],\n",
       "      [-73.7027027602765, 45.5451406840713],\n",
       "      [-73.7023335988111, 45.5457621950639],\n",
       "      [-73.7012226911876, 45.5459702396396],\n",
       "      [-73.7004635154173, 45.5466167282154],\n",
       "      [-73.6996123824321, 45.5464852570484],\n",
       "      [-73.6992033294858, 45.5475781625301],\n",
       "      [-73.6968595536907, 45.5481581755357],\n",
       "      [-73.6949311086011, 45.5474604427764],\n",
       "      [-73.6924688517172, 45.5472280284581],\n",
       "      [-73.6891281157722, 45.5477334249253],\n",
       "      [-73.6879273316976, 45.5481318231022],\n",
       "      [-73.6865595013798, 45.5491308196528],\n",
       "      [-73.6852748086046, 45.5488162600605],\n",
       "      [-73.6827845213391, 45.5489146412483],\n",
       "      [-73.6801283681886, 45.549462773374],\n",
       "      [-73.6791182211476, 45.5500801562043],\n",
       "      [-73.6772981030339, 45.5516675115113],\n",
       "      [-73.6765545558035, 45.552766523393],\n",
       "      [-73.6744642269172, 45.5548591969672],\n",
       "      [-73.6730096784532, 45.5582339830541],\n",
       "      [-73.6706609041685, 45.5610978251999],\n",
       "      [-73.6660837831645, 45.5596724837829],\n",
       "      [-73.6515658357324, 45.5554439857955],\n",
       "      [-73.6513170845065, 45.5545659435652]]]},\n",
       "   'properties': {'district': '13-Ahuntsic'},\n",
       "   'id': '13'},\n",
       "  {'type': 'Feature',\n",
       "   'geometry': {'type': 'Polygon',\n",
       "    'coordinates': [[[-73.7043014929187, 45.5441905861876],\n",
       "      [-73.7042065154565, 45.5438906316964],\n",
       "      [-73.702520410412, 45.5431766227664],\n",
       "      [-73.6920199187781, 45.5394683031028],\n",
       "      [-73.6807721370907, 45.534331320177],\n",
       "      [-73.683124268159, 45.5305991300384],\n",
       "      [-73.685195685208, 45.5301022578388],\n",
       "      [-73.6870922504792, 45.5286619976995],\n",
       "      [-73.6897803429098, 45.5288476157777],\n",
       "      [-73.6939612003867, 45.528347826243],\n",
       "      [-73.6963296087078, 45.5276805484038],\n",
       "      [-73.7091218538247, 45.5230954877394],\n",
       "      [-73.7112612170074, 45.5243023856458],\n",
       "      [-73.7131122096208, 45.5251637887575],\n",
       "      [-73.7145584630039, 45.5239315629596],\n",
       "      [-73.7172924358234, 45.5256928911099],\n",
       "      [-73.7185119695016, 45.5247508136954],\n",
       "      [-73.7217031155859, 45.5267447688191],\n",
       "      [-73.7280602953464, 45.5213554616816],\n",
       "      [-73.7317546325275, 45.5236815365784],\n",
       "      [-73.7358987648866, 45.5207291683311],\n",
       "      [-73.7285097856203, 45.5160943522463],\n",
       "      [-73.7350991221023, 45.5137867482303],\n",
       "      [-73.7550630650544, 45.5065238038199],\n",
       "      [-73.7551669017747, 45.5064862077527],\n",
       "      [-73.7612752776246, 45.5104175090183],\n",
       "      [-73.7638683329059, 45.5120860463668],\n",
       "      [-73.762390301954, 45.5126791739444],\n",
       "      [-73.7600609683013, 45.5141288858482],\n",
       "      [-73.7568442082942, 45.5171884494623],\n",
       "      [-73.7548593171474, 45.5180889539846],\n",
       "      [-73.752606980088, 45.5185523798859],\n",
       "      [-73.749151955166, 45.519018390863],\n",
       "      [-73.7452110015187, 45.5215286261207],\n",
       "      [-73.7437662661847, 45.5231373686573],\n",
       "      [-73.7411211602605, 45.526837900694],\n",
       "      [-73.7394306858002, 45.5285277381045],\n",
       "      [-73.7360589393138, 45.5302671129156],\n",
       "      [-73.7343347000828, 45.5309824138834],\n",
       "      [-73.7311072638005, 45.5320095049916],\n",
       "      [-73.7283844986554, 45.533203827821],\n",
       "      [-73.7249729419404, 45.5359178137401],\n",
       "      [-73.7231098233772, 45.5369689627545],\n",
       "      [-73.7202103870331, 45.5381794076214],\n",
       "      [-73.7181375140605, 45.5387109207903],\n",
       "      [-73.7158043157039, 45.5388996570908],\n",
       "      [-73.7135388429561, 45.5396848689224],\n",
       "      [-73.7111454931799, 45.541340948266],\n",
       "      [-73.7091038651233, 45.5430898357363],\n",
       "      [-73.7078456046825, 45.5423008892929],\n",
       "      [-73.7069875096913, 45.5436077713277],\n",
       "      [-73.705614345008, 45.5441267025504],\n",
       "      [-73.7043014929187, 45.5441905861876]]]},\n",
       "   'properties': {'district': '14-Bordeaux-Cartierville'},\n",
       "   'id': '14'},\n",
       "  {'type': 'Feature',\n",
       "   'geometry': {'type': 'Polygon',\n",
       "    'coordinates': [[[-73.5576871015794, 45.5932166140624],\n",
       "      [-73.5694206600629, 45.5971486400825],\n",
       "      [-73.5696609688417, 45.5965806032278],\n",
       "      [-73.5726733802096, 45.5977479911912],\n",
       "      [-73.5745938220503, 45.5986717630315],\n",
       "      [-73.576232424293, 45.5992577290381],\n",
       "      [-73.5771288919308, 45.599852413767],\n",
       "      [-73.5889961999073, 45.6050220349527],\n",
       "      [-73.5971103983983, 45.6085989887758],\n",
       "      [-73.6013378366857, 45.6104025414741],\n",
       "      [-73.6028907661658, 45.6112216102358],\n",
       "      [-73.601559767966, 45.6118073578371],\n",
       "      [-73.6023660828945, 45.6125718329314],\n",
       "      [-73.5984976040034, 45.6140840514745],\n",
       "      [-73.5954830428467, 45.6158123480652],\n",
       "      [-73.5740068269183, 45.6304929149516],\n",
       "      [-73.5683379250343, 45.6341956640577],\n",
       "      [-73.5514095863784, 45.6269444197056],\n",
       "      [-73.5481773494253, 45.6255197854529],\n",
       "      [-73.5585223912755, 45.6137280036474],\n",
       "      [-73.5640615699407, 45.6074316710882],\n",
       "      [-73.564986439275, 45.60561620283],\n",
       "      [-73.5662995431109, 45.6039974029119],\n",
       "      [-73.5631517029922, 45.6031634368599],\n",
       "      [-73.5614050931716, 45.6025489377902],\n",
       "      [-73.5567925816714, 45.6005393547562],\n",
       "      [-73.5589887922886, 45.5979945383903],\n",
       "      [-73.5595164040348, 45.5961661000645],\n",
       "      [-73.5564557704867, 45.5951543577536],\n",
       "      [-73.5576871015794, 45.5932166140624]]]},\n",
       "   'properties': {'district': '21-Ouest'},\n",
       "   'id': '21'},\n",
       "  {'type': 'Feature',\n",
       "   'geometry': {'type': 'Polygon',\n",
       "    'coordinates': [[[-73.5452799498143, 45.5959627917351],\n",
       "      [-73.5491007054645, 45.5975302159963],\n",
       "      [-73.5479841638628, 45.5989434662401],\n",
       "      [-73.5468145864499, 45.6013644519429],\n",
       "      [-73.5461968110206, 45.6046211322422],\n",
       "      [-73.549913736884, 45.605150517886],\n",
       "      [-73.5533688744189, 45.605412630486],\n",
       "      [-73.5524302953106, 45.6080081462088],\n",
       "      [-73.5507759763854, 45.6103339985918],\n",
       "      [-73.5585223912755, 45.6137280036474],\n",
       "      [-73.5481773494253, 45.6255197854529],\n",
       "      [-73.5358870172169, 45.620207093019],\n",
       "      [-73.5374747721378, 45.6166252950092],\n",
       "      [-73.5375256945614, 45.6160673327401],\n",
       "      [-73.5381703589619, 45.6139517855176],\n",
       "      [-73.5437218072693, 45.6149096422408],\n",
       "      [-73.5452777806501, 45.6141657083913],\n",
       "      [-73.5462767505068, 45.6127238289344],\n",
       "      [-73.5444977198785, 45.6121760838565],\n",
       "      [-73.5453373826653, 45.6107633861198],\n",
       "      [-73.5441363974969, 45.6102716461918],\n",
       "      [-73.5412098839782, 45.6095033241271],\n",
       "      [-73.5416434070878, 45.6081797015109],\n",
       "      [-73.540900931842, 45.6078533012629],\n",
       "      [-73.5416213388458, 45.606939681157],\n",
       "      [-73.5375401492111, 45.6052359766051],\n",
       "      [-73.5365038947396, 45.6026457300995],\n",
       "      [-73.5365958888719, 45.602162446611],\n",
       "      [-73.5394321608651, 45.6030910243993],\n",
       "      [-73.5421763850909, 45.6042454438226],\n",
       "      [-73.5429289535666, 45.6032316351511],\n",
       "      [-73.539729971205, 45.6018186221009],\n",
       "      [-73.5407418924341, 45.6006998521118],\n",
       "      [-73.5447576674512, 45.6019410417126],\n",
       "      [-73.5451108447268, 45.6000061818095],\n",
       "      [-73.5445859643042, 45.5999308464328],\n",
       "      [-73.5442050076359, 45.5981948225546],\n",
       "      [-73.5438572127564, 45.5980784963673],\n",
       "      [-73.5452799498143, 45.5959627917351]]]},\n",
       "   'properties': {'district': '22-Est'},\n",
       "   'id': '22'},\n",
       "  {'type': 'Feature',\n",
       "   'geometry': {'type': 'Polygon',\n",
       "    'coordinates': [[[-73.5576871015794, 45.5932166140624],\n",
       "      [-73.5564557704867, 45.5951543577536],\n",
       "      [-73.5595164040348, 45.5961661000645],\n",
       "      [-73.5589887922886, 45.5979945383903],\n",
       "      [-73.5567925816714, 45.6005393547562],\n",
       "      [-73.5614050931716, 45.6025489377902],\n",
       "      [-73.5631517029922, 45.6031634368599],\n",
       "      [-73.5662995431109, 45.6039974029119],\n",
       "      [-73.564986439275, 45.60561620283],\n",
       "      [-73.5640615699407, 45.6074316710882],\n",
       "      [-73.5585223912755, 45.6137280036474],\n",
       "      [-73.5507759763854, 45.6103339985918],\n",
       "      [-73.5524302953106, 45.6080081462088],\n",
       "      [-73.5533688744189, 45.605412630486],\n",
       "      [-73.549913736884, 45.605150517886],\n",
       "      [-73.5461968110206, 45.6046211322422],\n",
       "      [-73.5468145864499, 45.6013644519429],\n",
       "      [-73.5479841638628, 45.5989434662401],\n",
       "      [-73.5491007054645, 45.5975302159963],\n",
       "      [-73.5452799498143, 45.5959627917351],\n",
       "      [-73.5455045323429, 45.5956272275911],\n",
       "      [-73.545930102715, 45.5949937733284],\n",
       "      [-73.5473484500099, 45.5955355370728],\n",
       "      [-73.5481396292151, 45.5946360429193],\n",
       "      [-73.5465394629102, 45.5940712033384],\n",
       "      [-73.5489394765731, 45.5903029802044],\n",
       "      [-73.5576871015794, 45.5932166140624]]]},\n",
       "   'properties': {'district': '23-Centre'},\n",
       "   'id': '23'},\n",
       "  {'type': 'Feature',\n",
       "   'geometry': {'type': 'Polygon',\n",
       "    'coordinates': [[[-73.6207592308166, 45.5138993727882],\n",
       "      [-73.6236560898078, 45.5106541632808],\n",
       "      [-73.624384898555, 45.5091582170891],\n",
       "      [-73.6260875230251, 45.507277208983],\n",
       "      [-73.6279506225702, 45.5061120243158],\n",
       "      [-73.628749836468, 45.5048079525531],\n",
       "      [-73.6304494685866, 45.5028490467289],\n",
       "      [-73.6256440443835, 45.500662130816],\n",
       "      [-73.6331323407225, 45.49234917306],\n",
       "      [-73.6480439724158, 45.4990451424615],\n",
       "      [-73.6458072174417, 45.5016289991394],\n",
       "      [-73.6422399591459, 45.5054987858353],\n",
       "      [-73.6423036889254, 45.5062221151428],\n",
       "      [-73.6415508188144, 45.5069829054595],\n",
       "      [-73.6416660769228, 45.5076101030023],\n",
       "      [-73.6385805807369, 45.5112159439382],\n",
       "      [-73.6365911851412, 45.5146566965285],\n",
       "      [-73.6357295158589, 45.5143963845137],\n",
       "      [-73.6346269691423, 45.5156528191911],\n",
       "      [-73.6289040380069, 45.5140823858644],\n",
       "      [-73.6267223236567, 45.5165801475772],\n",
       "      [-73.6207592308166, 45.5138993727882]]]},\n",
       "   'properties': {'district': '31-Darlington'},\n",
       "   'id': '31'},\n",
       "  {'type': 'Feature',\n",
       "   'geometry': {'type': 'Polygon',\n",
       "    'coordinates': [[[-73.5956108742759, 45.504064067218],\n",
       "      [-73.5941401789655, 45.5033436344744],\n",
       "      [-73.594737745289, 45.5028667176493],\n",
       "      [-73.5977240363362, 45.5016310280474],\n",
       "      [-73.5997960499359, 45.5001439911523],\n",
       "      [-73.6009279740317, 45.4988800346583],\n",
       "      [-73.6033750499038, 45.4967309718248],\n",
       "      [-73.6044775189475, 45.4952226776326],\n",
       "      [-73.6068399722065, 45.4952769144878],\n",
       "      [-73.6083680626652, 45.493592693099],\n",
       "      [-73.6093606035265, 45.4939788081012],\n",
       "      [-73.6115925457235, 45.4916920833656],\n",
       "      [-73.6147351668377, 45.4930299583055],\n",
       "      [-73.6184160919695, 45.4889467204633],\n",
       "      [-73.618423454854, 45.4881800607925],\n",
       "      [-73.6153515138627, 45.4867956883177],\n",
       "      [-73.6169038962737, 45.4851011880198],\n",
       "      [-73.6331323407225, 45.49234917306],\n",
       "      [-73.6256440443835, 45.500662130816],\n",
       "      [-73.6304494685866, 45.5028490467289],\n",
       "      [-73.628749836468, 45.5048079525531],\n",
       "      [-73.6279506225702, 45.5061120243158],\n",
       "      [-73.6260875230251, 45.507277208983],\n",
       "      [-73.624384898555, 45.5091582170891],\n",
       "      [-73.6236560898078, 45.5106541632808],\n",
       "      [-73.6207592308166, 45.5138993727882],\n",
       "      [-73.6176645335398, 45.5125000231349],\n",
       "      [-73.617959519301, 45.5121686212918],\n",
       "      [-73.61888001694, 45.5111346532789],\n",
       "      [-73.6169256431203, 45.5102737338336],\n",
       "      [-73.6178928803835, 45.5091750557282],\n",
       "      [-73.6160933747766, 45.5082725969653],\n",
       "      [-73.6189454361275, 45.5051234940594],\n",
       "      [-73.6182356279483, 45.504722156916],\n",
       "      [-73.6130513861854, 45.5104478685544],\n",
       "      [-73.6063535452531, 45.5074911306599],\n",
       "      [-73.6061344132343, 45.5068772235294],\n",
       "      [-73.6035337540631, 45.5057001623398],\n",
       "      [-73.6024762927983, 45.5068574351344],\n",
       "      [-73.5993805679324, 45.5053898653966],\n",
       "      [-73.5987846893921, 45.5056180649425],\n",
       "      [-73.5956108742759, 45.504064067218]]]},\n",
       "   'properties': {'district': '32-Côte-des-Neiges'},\n",
       "   'id': '32'},\n",
       "  {'type': 'Feature',\n",
       "   'geometry': {'type': 'Polygon',\n",
       "    'coordinates': [[[-73.6458072174417, 45.5016289991394],\n",
       "      [-73.6480439724158, 45.4990451424615],\n",
       "      [-73.6331323407225, 45.49234917306],\n",
       "      [-73.6169038962737, 45.4851011880198],\n",
       "      [-73.6171481421592, 45.4848346166979],\n",
       "      [-73.6143642141962, 45.4835868912093],\n",
       "      [-73.6159143530659, 45.4828328944331],\n",
       "      [-73.6178740199084, 45.4828487105026],\n",
       "      [-73.6188871149392, 45.4826094451865],\n",
       "      [-73.6212759199926, 45.4802684345737],\n",
       "      [-73.6225662166532, 45.4809098124242],\n",
       "      [-73.6236079242847, 45.479859834089],\n",
       "      [-73.6247644644914, 45.4792722536745],\n",
       "      [-73.6274376104247, 45.4787022686984],\n",
       "      [-73.6296262215988, 45.478422071886],\n",
       "      [-73.6309839979771, 45.4790336481084],\n",
       "      [-73.6303804074798, 45.4796761714723],\n",
       "      [-73.6511475576679, 45.4890232837666],\n",
       "      [-73.6486185977978, 45.4918874029923],\n",
       "      [-73.6505027283703, 45.4926843456098],\n",
       "      [-73.6558244313911, 45.4867907549359],\n",
       "      [-73.6554964724779, 45.4865593791057],\n",
       "      [-73.6559518311015, 45.4851214751334],\n",
       "      [-73.6560231568666, 45.4789400952457],\n",
       "      [-73.6611067166692, 45.4811529055447],\n",
       "      [-73.6618618884249, 45.4803203895973],\n",
       "      [-73.6695855765435, 45.483802365291],\n",
       "      [-73.6746342471328, 45.4819683440264],\n",
       "      [-73.6763145414839, 45.4831298265322],\n",
       "      [-73.6776271543493, 45.4823345919293],\n",
       "      [-73.677264286648, 45.4836591822082],\n",
       "      [-73.6751680903633, 45.4912833590877],\n",
       "      [-73.6678730495106, 45.4869534898132],\n",
       "      [-73.6660964808822, 45.4866186123515],\n",
       "      [-73.665349200462, 45.4870183659149],\n",
       "      [-73.6562276688947, 45.49432722353],\n",
       "      [-73.6637510731136, 45.4992450684359],\n",
       "      [-73.6617471598017, 45.4992191258018],\n",
       "      [-73.6623623016746, 45.5022066512214],\n",
       "      [-73.6605369493135, 45.5024306141327],\n",
       "      [-73.6600841825714, 45.50331916613],\n",
       "      [-73.659999506549, 45.5047080114556],\n",
       "      [-73.6566453499119, 45.5037588241059],\n",
       "      [-73.6516126661051, 45.504311872331],\n",
       "      [-73.6458072174417, 45.5016289991394]]]},\n",
       "   'properties': {'district': '33-Snowdon'},\n",
       "   'id': '33'},\n",
       "  {'type': 'Feature',\n",
       "   'geometry': {'type': 'Polygon',\n",
       "    'coordinates': [[[-73.6143642141962, 45.4835868912093],\n",
       "      [-73.6123997707291, 45.4826898974257],\n",
       "      [-73.6143764334436, 45.4805885224868],\n",
       "      [-73.6054346259738, 45.4765925587108],\n",
       "      [-73.605024536716, 45.4770080719998],\n",
       "      [-73.5985471562789, 45.4740708829885],\n",
       "      [-73.5951347718664, 45.4764466331536],\n",
       "      [-73.5966486659517, 45.4732210790839],\n",
       "      [-73.5995923966142, 45.4714885118876],\n",
       "      [-73.6015380888098, 45.4698449656495],\n",
       "      [-73.6025897276388, 45.4690525247808],\n",
       "      [-73.6031619796725, 45.4691032161751],\n",
       "      [-73.6056266168094, 45.4676031109374],\n",
       "      [-73.6058459619009, 45.4672881102352],\n",
       "      [-73.6116004847967, 45.4647691120724],\n",
       "      [-73.6121904900053, 45.4648542087469],\n",
       "      [-73.6157015928197, 45.4632907897894],\n",
       "      [-73.6167538282606, 45.4637150194085],\n",
       "      [-73.6260868871444, 45.4678594502274],\n",
       "      [-73.626514031426, 45.4682540051731],\n",
       "      [-73.6317531402478, 45.4705324186308],\n",
       "      [-73.6328791824832, 45.4692477650227],\n",
       "      [-73.6375349663401, 45.4712784001916],\n",
       "      [-73.636638362928, 45.4717833758261],\n",
       "      [-73.6429334550997, 45.4745543212637],\n",
       "      [-73.6397624769414, 45.4766952953752],\n",
       "      [-73.6393702983563, 45.4768105158646],\n",
       "      [-73.6354876412699, 45.4768957315274],\n",
       "      [-73.6324931664858, 45.477871983287],\n",
       "      [-73.6296262215988, 45.478422071886],\n",
       "      [-73.6274376104247, 45.4787022686984],\n",
       "      [-73.6247644644914, 45.4792722536745],\n",
       "      [-73.6236079242847, 45.479859834089],\n",
       "      [-73.6225662166532, 45.4809098124242],\n",
       "      [-73.6212759199926, 45.4802684345737],\n",
       "      [-73.6188871149392, 45.4826094451865],\n",
       "      [-73.6178740199084, 45.4828487105026],\n",
       "      [-73.6159143530659, 45.4828328944331],\n",
       "      [-73.6143642141962, 45.4835868912093]]]},\n",
       "   'properties': {'district': '34-Notre-Dame-de-Grâce'},\n",
       "   'id': '34'},\n",
       "  {'type': 'Feature',\n",
       "   'geometry': {'type': 'Polygon',\n",
       "    'coordinates': [[[-73.6157015928197, 45.4632907897894],\n",
       "      [-73.6182352042185, 45.4622268121902],\n",
       "      [-73.6200562870233, 45.4616683026575],\n",
       "      [-73.6243236842049, 45.4586553508057],\n",
       "      [-73.6262003043123, 45.4574918787775],\n",
       "      [-73.6314544395632, 45.4527593013115],\n",
       "      [-73.6350181512615, 45.4509158064615],\n",
       "      [-73.6351722497066, 45.4507225431116],\n",
       "      [-73.6579831562151, 45.4595353374805],\n",
       "      [-73.6571683135528, 45.4601081011059],\n",
       "      [-73.6581848068946, 45.4614565130998],\n",
       "      [-73.6556103303451, 45.4629114310011],\n",
       "      [-73.652126146378, 45.4676895103383],\n",
       "      [-73.650271326417, 45.4688055451965],\n",
       "      [-73.6491060800072, 45.4705082201931],\n",
       "      [-73.6456903840605, 45.4732294857318],\n",
       "      [-73.6429334550997, 45.4745543212637],\n",
       "      [-73.636638362928, 45.4717833758261],\n",
       "      [-73.6375349663401, 45.4712784001916],\n",
       "      [-73.6328791824832, 45.4692477650227],\n",
       "      [-73.6317531402478, 45.4705324186308],\n",
       "      [-73.626514031426, 45.4682540051731],\n",
       "      [-73.6260868871444, 45.4678594502274],\n",
       "      [-73.6167538282606, 45.4637150194085],\n",
       "      [-73.6157015928197, 45.4632907897894]]]},\n",
       "   'properties': {'district': '35-Loyola'},\n",
       "   'id': '35'},\n",
       "  {'type': 'Feature',\n",
       "   'geometry': {'type': 'Polygon',\n",
       "    'coordinates': [[[-73.6827804258142, 45.4635658825978],\n",
       "      [-73.680902143784, 45.4623754221733],\n",
       "      [-73.6819797751037, 45.4611465117243],\n",
       "      [-73.6828103840958, 45.4609562889736],\n",
       "      [-73.6837901612144, 45.4594789107516],\n",
       "      [-73.6850645006026, 45.4581450364168],\n",
       "      [-73.6872613190858, 45.45743059602],\n",
       "      [-73.6874478222607, 45.4558195821286],\n",
       "      [-73.6872205285223, 45.4552707229765],\n",
       "      [-73.6763900162006, 45.4523637929963],\n",
       "      [-73.67377108286, 45.4530336717393],\n",
       "      [-73.6720573706002, 45.4528472783153],\n",
       "      [-73.6708095323057, 45.454567942777],\n",
       "      [-73.6685657847746, 45.4567309452231],\n",
       "      [-73.6569820780073, 45.4523202088578],\n",
       "      [-73.6448369147901, 45.4475941198865],\n",
       "      [-73.6433550395347, 45.4477889354918],\n",
       "      [-73.6432919538684, 45.4483609262331],\n",
       "      [-73.6389029083366, 45.4466926413334],\n",
       "      [-73.6367835977829, 45.447838031415],\n",
       "      [-73.6320301276656, 45.4495010416609],\n",
       "      [-73.6290926270452, 45.4483946176344],\n",
       "      [-73.6320762130349, 45.4466558317026],\n",
       "      [-73.6351699979365, 45.445393422083],\n",
       "      [-73.6392793914912, 45.4438396460105],\n",
       "      [-73.6470945537851, 45.4407073290916],\n",
       "      [-73.648051977364, 45.4402561224796],\n",
       "      [-73.6537698617598, 45.4370900482024],\n",
       "      [-73.6593235959903, 45.4348597630844],\n",
       "      [-73.6621186235209, 45.433443013701],\n",
       "      [-73.6659361085031, 45.4320787105657],\n",
       "      [-73.665989308902, 45.4284342302665],\n",
       "      [-73.6689564175307, 45.4291767414944],\n",
       "      [-73.6731193300976, 45.4280636694712],\n",
       "      [-73.6759423999609, 45.4276813808521],\n",
       "      [-73.6833563260685, 45.4282185950861],\n",
       "      [-73.6865003978824, 45.4283124979178],\n",
       "      [-73.6878687931234, 45.4286162358336],\n",
       "      [-73.6882161207604, 45.4292815314123],\n",
       "      [-73.6856210014114, 45.4290337944536],\n",
       "      [-73.6824907873074, 45.4293268197374],\n",
       "      [-73.6802412950549, 45.4292313975545],\n",
       "      [-73.675637946869, 45.4284197115606],\n",
       "      [-73.6730699666729, 45.4286396172162],\n",
       "      [-73.6691630663163, 45.429896298712],\n",
       "      [-73.6694459537283, 45.4304807516148],\n",
       "      [-73.6730208497195, 45.4292965595349],\n",
       "      [-73.6750647146261, 45.4289965544438],\n",
       "      [-73.6767010508474, 45.4291739328909],\n",
       "      [-73.6788386194388, 45.4302144484015],\n",
       "      [-73.6788136864397, 45.4304304732339],\n",
       "      [-73.6733659453582, 45.4293230346261],\n",
       "      [-73.6691401095123, 45.4307511873639],\n",
       "      [-73.6696391042462, 45.4309484342688],\n",
       "      [-73.6714905342855, 45.4303967061942],\n",
       "      [-73.6716716548405, 45.4310983881409],\n",
       "      [-73.6737798875814, 45.4309332101671],\n",
       "      [-73.6775256263951, 45.431305335836],\n",
       "      [-73.6792911320404, 45.4318695414462],\n",
       "      [-73.6820917599341, 45.4323959865103],\n",
       "      [-73.6847244511365, 45.4323557615008],\n",
       "      [-73.6843819981847, 45.4331481730083],\n",
       "      [-73.6862880355843, 45.433675955614],\n",
       "      [-73.6893786382238, 45.43297800821],\n",
       "      [-73.6919766084407, 45.4328477403871],\n",
       "      [-73.6920222789549, 45.4344181753399],\n",
       "      [-73.6924064617963, 45.4372834135916],\n",
       "      [-73.6919192684033, 45.4375875837079],\n",
       "      [-73.6922359492324, 45.4397539275822],\n",
       "      [-73.6790976648257, 45.4399597709378],\n",
       "      [-73.6718763889968, 45.4401679518281],\n",
       "      [-73.6702870397047, 45.440019142569],\n",
       "      [-73.6635037895282, 45.4400929494508],\n",
       "      [-73.6629212228917, 45.4401596573971],\n",
       "      [-73.6629008949467, 45.4422188385912],\n",
       "      [-73.6635315763833, 45.4422179374171],\n",
       "      [-73.6636442247504, 45.4445171206371],\n",
       "      [-73.6650313754737, 45.4449769741284],\n",
       "      [-73.6688238611265, 45.4465533440431],\n",
       "      [-73.6703899048248, 45.4470018886664],\n",
       "      [-73.6723760891366, 45.4472832888363],\n",
       "      [-73.6862003751106, 45.4475701793018],\n",
       "      [-73.6929749468618, 45.4479566183894],\n",
       "      [-73.6931235366321, 45.44814625489],\n",
       "      [-73.6960704968967, 45.4482114291558],\n",
       "      [-73.6970275555854, 45.4488217409105],\n",
       "      [-73.6970986158494, 45.4534198522438],\n",
       "      [-73.6970604739367, 45.4567907245283],\n",
       "      [-73.6967667127171, 45.4587187165095],\n",
       "      [-73.6956922188653, 45.4626538256577],\n",
       "      [-73.6956163827684, 45.4640262681568],\n",
       "      [-73.69619836572, 45.4654974169452],\n",
       "      [-73.6947785817616, 45.4645178045181],\n",
       "      [-73.6933043566279, 45.4703396575946],\n",
       "      [-73.6827804258142, 45.4635658825978]]]},\n",
       "   'properties': {'district': '41-du Canal'},\n",
       "   'id': '41'},\n",
       "  {'type': 'Feature',\n",
       "   'geometry': {'type': 'Polygon',\n",
       "    'coordinates': [[[-73.6922359492324, 45.4397539275822],\n",
       "      [-73.6930646838521, 45.4455152024534],\n",
       "      [-73.6929749468618, 45.4479566183894],\n",
       "      [-73.6862003751106, 45.4475701793018],\n",
       "      [-73.6723760891366, 45.4472832888363],\n",
       "      [-73.6703899048248, 45.4470018886664],\n",
       "      [-73.6688238611265, 45.4465533440431],\n",
       "      [-73.6650313754737, 45.4449769741284],\n",
       "      [-73.6636442247504, 45.4445171206371],\n",
       "      [-73.6635315763833, 45.4422179374171],\n",
       "      [-73.6629008949467, 45.4422188385912],\n",
       "      [-73.6629212228917, 45.4401596573971],\n",
       "      [-73.6635037895282, 45.4400929494508],\n",
       "      [-73.6702870397047, 45.440019142569],\n",
       "      [-73.6718763889968, 45.4401679518281],\n",
       "      [-73.6790976648257, 45.4399597709378],\n",
       "      [-73.6922359492324, 45.4397539275822]]]},\n",
       "   'properties': {'district': '42-J.-Émery-Provost'},\n",
       "   'id': '42'},\n",
       "  {'type': 'Feature',\n",
       "   'geometry': {'type': 'Polygon',\n",
       "    'coordinates': [[[-73.6929749468618, 45.4479566183894],\n",
       "      [-73.6930646838521, 45.4455152024534],\n",
       "      [-73.6922359492324, 45.4397539275822],\n",
       "      [-73.6919192684033, 45.4375875837079],\n",
       "      [-73.6924064617963, 45.4372834135916],\n",
       "      [-73.6920222789549, 45.4344181753399],\n",
       "      [-73.6919766084407, 45.4328477403871],\n",
       "      [-73.6932876958108, 45.4324224970616],\n",
       "      [-73.694195347338, 45.4324839527568],\n",
       "      [-73.6949136010573, 45.4332296803625],\n",
       "      [-73.6988288457718, 45.4344466726102],\n",
       "      [-73.7010791173413, 45.434694716853],\n",
       "      [-73.7030235835285, 45.4351501569008],\n",
       "      [-73.7052464981121, 45.4348762919984],\n",
       "      [-73.7084847193563, 45.4361211648559],\n",
       "      [-73.7108619082078, 45.4360808035114],\n",
       "      [-73.7131770697603, 45.436535476583],\n",
       "      [-73.7141004237697, 45.4373526055584],\n",
       "      [-73.7197027055463, 45.4383497204873],\n",
       "      [-73.7205977591364, 45.438420079974],\n",
       "      [-73.7206259030039, 45.439094891288],\n",
       "      [-73.7192721714824, 45.4393943883616],\n",
       "      [-73.7222362640027, 45.4487922160595],\n",
       "      [-73.7206936272739, 45.4487451257208],\n",
       "      [-73.722831053433, 45.4557427179281],\n",
       "      [-73.7245717150603, 45.4610335488204],\n",
       "      [-73.7198081628308, 45.4644866016957],\n",
       "      [-73.7170519619499, 45.4666015017259],\n",
       "      [-73.7125173690129, 45.4699350201585],\n",
       "      [-73.7080097103994, 45.47334246671],\n",
       "      [-73.7047665432935, 45.4712980390786],\n",
       "      [-73.69619836572, 45.4654974169452],\n",
       "      [-73.6956163827684, 45.4640262681568],\n",
       "      [-73.6956922188653, 45.4626538256577],\n",
       "      [-73.6967667127171, 45.4587187165095],\n",
       "      [-73.6970604739367, 45.4567907245283],\n",
       "      [-73.6970986158494, 45.4534198522438],\n",
       "      [-73.6970275555854, 45.4488217409105],\n",
       "      [-73.6960704968967, 45.4482114291558],\n",
       "      [-73.6931235366321, 45.44814625489],\n",
       "      [-73.6929749468618, 45.4479566183894]]]},\n",
       "   'properties': {'district': '43-Fort-Rolland'},\n",
       "   'id': '43'},\n",
       "  {'type': 'Feature',\n",
       "   'geometry': {'type': 'MultiPolygon',\n",
       "    'coordinates': [[[[-73.5878943026224, 45.4214667320274],\n",
       "       [-73.5863736733671, 45.4214319841574],\n",
       "       [-73.5869474028608, 45.4206395990966],\n",
       "       [-73.5878943026224, 45.4214667320274]]],\n",
       "     [[[-73.5725281473542, 45.4260939579768],\n",
       "       [-73.5704318906483, 45.4257263831213],\n",
       "       [-73.5705580062435, 45.4244124795508],\n",
       "       [-73.5739539624556, 45.4219626672329],\n",
       "       [-73.5766876209735, 45.4212859978906],\n",
       "       [-73.5793575905544, 45.4208612013169],\n",
       "       [-73.5824241611882, 45.4207510361274],\n",
       "       [-73.5840593827098, 45.4204618626093],\n",
       "       [-73.585056506724, 45.4207940136185],\n",
       "       [-73.586554348269, 45.4226195923359],\n",
       "       [-73.5860576024637, 45.4236638110559],\n",
       "       [-73.584295514885, 45.4245289791408],\n",
       "       [-73.5827488367791, 45.424251218775],\n",
       "       [-73.5809343733788, 45.424360511388],\n",
       "       [-73.5784175573386, 45.4248212373305],\n",
       "       [-73.5770508918231, 45.425290048099],\n",
       "       [-73.5731288926102, 45.4262015674713],\n",
       "       [-73.5725281473542, 45.4260939579768]]],\n",
       "     [[[-73.5765170514597, 45.4274230889043],\n",
       "       [-73.5749707241727, 45.4273611190412],\n",
       "       [-73.5723756663881, 45.4267869197677],\n",
       "       [-73.5752500087582, 45.4259752044009],\n",
       "       [-73.5797854469441, 45.4251621784139],\n",
       "       [-73.5803981192377, 45.4246848695548],\n",
       "       [-73.5816888803182, 45.4247468599426],\n",
       "       [-73.5837470045383, 45.4252493371248],\n",
       "       [-73.5811925680258, 45.4261690319939],\n",
       "       [-73.5773858946539, 45.42731451108],\n",
       "       [-73.5765170514597, 45.4274230889043]]],\n",
       "     [[[-73.5993656298056, 45.437522488597],\n",
       "       [-73.5837871545249, 45.4350036826887],\n",
       "       [-73.5864937818087, 45.4330669729378],\n",
       "       [-73.5889455796285, 45.4317602654679],\n",
       "       [-73.5892899771004, 45.4312921174991],\n",
       "       [-73.5917282376663, 45.4295893857394],\n",
       "       [-73.5930673492969, 45.4278875931486],\n",
       "       [-73.5941659028554, 45.4276167102135],\n",
       "       [-73.5970103055467, 45.4244378040521],\n",
       "       [-73.6024582557665, 45.4197537949939],\n",
       "       [-73.6050240641787, 45.418374641288],\n",
       "       [-73.6071441080738, 45.4178597046428],\n",
       "       [-73.6089187571527, 45.4171291621745],\n",
       "       [-73.6111012955212, 45.4159032271],\n",
       "       [-73.6144997511617, 45.4158098763183],\n",
       "       [-73.6157904203163, 45.4159075684946],\n",
       "       [-73.6190093657475, 45.4154992857685],\n",
       "       [-73.6211671693205, 45.4148130602082],\n",
       "       [-73.6256397226365, 45.4151411168221],\n",
       "       [-73.6290762426954, 45.4149482971955],\n",
       "       [-73.6295864341622, 45.4145878316083],\n",
       "       [-73.6326788478802, 45.4147641808428],\n",
       "       [-73.6324382282295, 45.4157003113135],\n",
       "       [-73.6338310649383, 45.4157616841636],\n",
       "       [-73.6373466145775, 45.4154299316521],\n",
       "       [-73.6378211847585, 45.4157853047214],\n",
       "       [-73.6349821404871, 45.4216213986168],\n",
       "       [-73.630914321986, 45.4207058504903],\n",
       "       [-73.629580513036, 45.4205264796284],\n",
       "       [-73.6269794842437, 45.4219064890514],\n",
       "       [-73.6221765288238, 45.4233556809216],\n",
       "       [-73.6235576102796, 45.4251452650735],\n",
       "       [-73.625860660556, 45.4262630893683],\n",
       "       [-73.6213932515199, 45.4290799524068],\n",
       "       [-73.6189096270924, 45.431198716026],\n",
       "       [-73.6153394945845, 45.4349173246406],\n",
       "       [-73.6147722148194, 45.4363801178349],\n",
       "       [-73.6185038157741, 45.4371719975162],\n",
       "       [-73.6203669519898, 45.4381561591494],\n",
       "       [-73.6292793360419, 45.4422437520764],\n",
       "       [-73.6304212122284, 45.4412800353944],\n",
       "       [-73.6319594346838, 45.4420660970196],\n",
       "       [-73.6341339482992, 45.4434436213567],\n",
       "       [-73.6334152486196, 45.4438343169323],\n",
       "       [-73.6348120456809, 45.444546590121],\n",
       "       [-73.6351699979365, 45.445393422083],\n",
       "       [-73.6320762130349, 45.4466558317026],\n",
       "       [-73.6290926270452, 45.4483946176344],\n",
       "       [-73.6288149375869, 45.4482900651074],\n",
       "       [-73.6269986444794, 45.4501430927141],\n",
       "       [-73.6255515041789, 45.4513172221793],\n",
       "       [-73.622324477466, 45.4535901866228],\n",
       "       [-73.6201147014597, 45.4548257159799],\n",
       "       [-73.6136079881888, 45.4576954341346],\n",
       "       [-73.6068239912076, 45.4545470690524],\n",
       "       [-73.6048092799479, 45.4489130784869],\n",
       "       [-73.6052123848584, 45.4479821667775],\n",
       "       [-73.6094089858961, 45.4442773154325],\n",
       "       [-73.6104503124607, 45.4429793199455],\n",
       "       [-73.6118008558715, 45.4394499728596],\n",
       "       [-73.5996082895714, 45.4375187309259],\n",
       "       [-73.5993656298056, 45.437522488597]]]]},\n",
       "   'properties': {'district': '51-Sault-Saint-Louis'},\n",
       "   'id': '51'},\n",
       "  {'type': 'Feature',\n",
       "   'geometry': {'type': 'Polygon',\n",
       "    'coordinates': [[[-73.6373466145775, 45.4154299316521],\n",
       "      [-73.6398482479311, 45.4154574940498],\n",
       "      [-73.6413054445293, 45.4157165943723],\n",
       "      [-73.6441055865314, 45.4165049565242],\n",
       "      [-73.6469598857207, 45.418436018764],\n",
       "      [-73.6496982979192, 45.4199531866296],\n",
       "      [-73.6528057037257, 45.4208669233735],\n",
       "      [-73.6563386875677, 45.4231117299686],\n",
       "      [-73.6574132128538, 45.4235151379827],\n",
       "      [-73.6590899773487, 45.4245026614551],\n",
       "      [-73.6597563681528, 45.4251856881017],\n",
       "      [-73.6622132461692, 45.4263249714976],\n",
       "      [-73.6626617007921, 45.4267473070838],\n",
       "      [-73.6639788872218, 45.4270423138518],\n",
       "      [-73.665989308902, 45.4284342302665],\n",
       "      [-73.6659361085031, 45.4320787105657],\n",
       "      [-73.6621186235209, 45.433443013701],\n",
       "      [-73.6593235959903, 45.4348597630844],\n",
       "      [-73.6537698617598, 45.4370900482024],\n",
       "      [-73.648051977364, 45.4402561224796],\n",
       "      [-73.6470945537851, 45.4407073290916],\n",
       "      [-73.6392793914912, 45.4438396460105],\n",
       "      [-73.6351699979365, 45.445393422083],\n",
       "      [-73.6348120456809, 45.444546590121],\n",
       "      [-73.6334152486196, 45.4438343169323],\n",
       "      [-73.6341339482992, 45.4434436213567],\n",
       "      [-73.6319594346838, 45.4420660970196],\n",
       "      [-73.6304212122284, 45.4412800353944],\n",
       "      [-73.6292793360419, 45.4422437520764],\n",
       "      [-73.6203669519898, 45.4381561591494],\n",
       "      [-73.6185038157741, 45.4371719975162],\n",
       "      [-73.6147722148194, 45.4363801178349],\n",
       "      [-73.6153394945845, 45.4349173246406],\n",
       "      [-73.6189096270924, 45.431198716026],\n",
       "      [-73.6213932515199, 45.4290799524068],\n",
       "      [-73.625860660556, 45.4262630893683],\n",
       "      [-73.6235576102796, 45.4251452650735],\n",
       "      [-73.6221765288238, 45.4233556809216],\n",
       "      [-73.6269794842437, 45.4219064890514],\n",
       "      [-73.629580513036, 45.4205264796284],\n",
       "      [-73.630914321986, 45.4207058504903],\n",
       "      [-73.6349821404871, 45.4216213986168],\n",
       "      [-73.6378211847585, 45.4157853047214],\n",
       "      [-73.6373466145775, 45.4154299316521]]]},\n",
       "   'properties': {'district': '52-Cecil-P.-Newman'},\n",
       "   'id': '52'},\n",
       "  {'type': 'Feature',\n",
       "   'geometry': {'type': 'Polygon',\n",
       "    'coordinates': [[[-73.8688974470136, 45.4882449524107],\n",
       "      [-73.871602833053, 45.4905720481716],\n",
       "      [-73.8694139090223, 45.4919469541754],\n",
       "      [-73.870532930773, 45.4928625205596],\n",
       "      [-73.8716913646707, 45.4933306815312],\n",
       "      [-73.872233047857, 45.4949468141821],\n",
       "      [-73.8714042058561, 45.4965567000138],\n",
       "      [-73.872571305249, 45.4969659674767],\n",
       "      [-73.871134091344, 45.4990564163597],\n",
       "      [-73.8701130707197, 45.5000549627491],\n",
       "      [-73.8690288298613, 45.5007201896345],\n",
       "      [-73.8722903935919, 45.503568954282],\n",
       "      [-73.8716174921312, 45.5042888396132],\n",
       "      [-73.8756305607743, 45.5078228770541],\n",
       "      [-73.8783878189261, 45.5059406633388],\n",
       "      [-73.8803094438111, 45.5042458334118],\n",
       "      [-73.8803341428118, 45.5033993667444],\n",
       "      [-73.879759682167, 45.5029518530572],\n",
       "      [-73.8770152857708, 45.501806378212],\n",
       "      [-73.8789156358527, 45.5017299402712],\n",
       "      [-73.879779371889, 45.5004798588748],\n",
       "      [-73.8810568286333, 45.4999384356033],\n",
       "      [-73.8830127770248, 45.4996741535333],\n",
       "      [-73.884412047715, 45.4990183531015],\n",
       "      [-73.8853262749786, 45.4998100023704],\n",
       "      [-73.8840175555813, 45.5020031308338],\n",
       "      [-73.8845885513537, 45.503100834689],\n",
       "      [-73.8882584256138, 45.5047130635017],\n",
       "      [-73.8902948397667, 45.5048242389134],\n",
       "      [-73.8931298332185, 45.5045492632818],\n",
       "      [-73.8938090092703, 45.5051466368411],\n",
       "      [-73.8930883375795, 45.5061095241892],\n",
       "      [-73.8912989165002, 45.5060276552235],\n",
       "      [-73.8907763512179, 45.5069642008183],\n",
       "      [-73.8894862335895, 45.5075924382318],\n",
       "      [-73.8893630543063, 45.5086347066791],\n",
       "      [-73.8880808924888, 45.5083547817147],\n",
       "      [-73.8870687665439, 45.5091995603904],\n",
       "      [-73.8852521620131, 45.5102059725257],\n",
       "      [-73.8881290541888, 45.5127359235277],\n",
       "      [-73.8890287067442, 45.5122302528857],\n",
       "      [-73.8911436774502, 45.5127840458479],\n",
       "      [-73.8937551506541, 45.5125006850816],\n",
       "      [-73.8953141801776, 45.5130744053201],\n",
       "      [-73.896331119406, 45.5139759395892],\n",
       "      [-73.8972364759115, 45.5131483697101],\n",
       "      [-73.8989649328704, 45.5146837440746],\n",
       "      [-73.9002254469086, 45.5131179581327],\n",
       "      [-73.9008379207362, 45.5136630574361],\n",
       "      [-73.9005919569215, 45.5144536068957],\n",
       "      [-73.9021261241608, 45.5155955053506],\n",
       "      [-73.9009914493894, 45.5161347116661],\n",
       "      [-73.9020712706953, 45.5167877731109],\n",
       "      [-73.9020876361723, 45.5172918560237],\n",
       "      [-73.8999623185899, 45.5172091442281],\n",
       "      [-73.8983416967041, 45.5160989860003],\n",
       "      [-73.8970501718221, 45.5162744685233],\n",
       "      [-73.896506711813, 45.5172571885447],\n",
       "      [-73.8931760247634, 45.5179232635692],\n",
       "      [-73.8918830801879, 45.5186858504077],\n",
       "      [-73.89060443538, 45.5188882146005],\n",
       "      [-73.8899347125325, 45.5182876407975],\n",
       "      [-73.8875283162043, 45.5182958298662],\n",
       "      [-73.8871271342177, 45.5195300009394],\n",
       "      [-73.8860195052025, 45.5203975900766],\n",
       "      [-73.8849337116296, 45.5207252282394],\n",
       "      [-73.8820294235971, 45.5209418712909],\n",
       "      [-73.8801807487187, 45.5201561927542],\n",
       "      [-73.8790398509879, 45.5199080044884],\n",
       "      [-73.8757241818541, 45.5198469639429],\n",
       "      [-73.8712540724591, 45.51942970446],\n",
       "      [-73.8693729830596, 45.5195167954401],\n",
       "      [-73.867959836772, 45.5187475084215],\n",
       "      [-73.8660852612371, 45.518916733747],\n",
       "      [-73.8650447273518, 45.5192607308197],\n",
       "      [-73.8636752254303, 45.5192742783684],\n",
       "      [-73.8642825006245, 45.5181743422849],\n",
       "      [-73.8612862477059, 45.5160062120045],\n",
       "      [-73.8573480782361, 45.5146328898613],\n",
       "      [-73.8576368219668, 45.5137501468995],\n",
       "      [-73.8563777974017, 45.5129982318504],\n",
       "      [-73.8561039739004, 45.5121981492155],\n",
       "      [-73.8550238065929, 45.5113916654122],\n",
       "      [-73.8556577823538, 45.5104448573143],\n",
       "      [-73.8585654378245, 45.508816075481],\n",
       "      [-73.8591760216501, 45.5082382022867],\n",
       "      [-73.8597941402612, 45.5068235473577],\n",
       "      [-73.8595897032533, 45.5048715239796],\n",
       "      [-73.8603509384135, 45.5038432949756],\n",
       "      [-73.8628677193202, 45.5031873776418],\n",
       "      [-73.8634772725348, 45.5024655856932],\n",
       "      [-73.863229031203, 45.4996768609889],\n",
       "      [-73.8624925888829, 45.4985813745818],\n",
       "      [-73.8617450446894, 45.4983353640287],\n",
       "      [-73.8610656712915, 45.4975420638734],\n",
       "      [-73.8614902756333, 45.4959120252572],\n",
       "      [-73.8631347750672, 45.4949799702698],\n",
       "      [-73.8643010381037, 45.4932934742402],\n",
       "      [-73.8637682240978, 45.4920174491202],\n",
       "      [-73.8642488213344, 45.4911520725992],\n",
       "      [-73.8664440380781, 45.4903261139859],\n",
       "      [-73.8688974470136, 45.4882449524107]]]},\n",
       "   'properties': {'district': '61-Pierre-Foretier'},\n",
       "   'id': '61'},\n",
       "  {'type': 'Feature',\n",
       "   'geometry': {'type': 'Polygon',\n",
       "    'coordinates': [[[-73.871602833053, 45.4905720481716],\n",
       "      [-73.8758099807102, 45.4943016403121],\n",
       "      [-73.8832708288195, 45.4900124335721],\n",
       "      [-73.893915982267, 45.4991295138785],\n",
       "      [-73.8978204833524, 45.5021042916793],\n",
       "      [-73.8993079427873, 45.5021890950386],\n",
       "      [-73.901198690394, 45.5019296796061],\n",
       "      [-73.9032166411352, 45.5013944047771],\n",
       "      [-73.9072471667436, 45.4990521662397],\n",
       "      [-73.9097687478128, 45.498420306124],\n",
       "      [-73.910763113645, 45.4979785583287],\n",
       "      [-73.9131442528934, 45.5001505549281],\n",
       "      [-73.9117306033429, 45.5014828251295],\n",
       "      [-73.9105682077776, 45.502919788446],\n",
       "      [-73.9125029822642, 45.5046603019441],\n",
       "      [-73.9125904080641, 45.5059790139203],\n",
       "      [-73.9115367282405, 45.5071346344323],\n",
       "      [-73.9098260610793, 45.5077167397986],\n",
       "      [-73.9095376253027, 45.5082630419981],\n",
       "      [-73.9075790301516, 45.5084626314966],\n",
       "      [-73.9064637954127, 45.5082146250766],\n",
       "      [-73.9052902228377, 45.5087497533613],\n",
       "      [-73.9048304811418, 45.5093648655927],\n",
       "      [-73.9028980165401, 45.5106748854948],\n",
       "      [-73.9025706032313, 45.513213659007],\n",
       "      [-73.9021033388663, 45.5139081604197],\n",
       "      [-73.9026005080814, 45.5156160928628],\n",
       "      [-73.9021261241608, 45.5155955053506],\n",
       "      [-73.9005919569215, 45.5144536068957],\n",
       "      [-73.9008379207362, 45.5136630574361],\n",
       "      [-73.9002254469086, 45.5131179581327],\n",
       "      [-73.8989649328704, 45.5146837440746],\n",
       "      [-73.8972364759115, 45.5131483697101],\n",
       "      [-73.896331119406, 45.5139759395892],\n",
       "      [-73.8953141801776, 45.5130744053201],\n",
       "      [-73.8937551506541, 45.5125006850816],\n",
       "      [-73.8911436774502, 45.5127840458479],\n",
       "      [-73.8890287067442, 45.5122302528857],\n",
       "      [-73.8881290541888, 45.5127359235277],\n",
       "      [-73.8852521620131, 45.5102059725257],\n",
       "      [-73.8870687665439, 45.5091995603904],\n",
       "      [-73.8880808924888, 45.5083547817147],\n",
       "      [-73.8893630543063, 45.5086347066791],\n",
       "      [-73.8894862335895, 45.5075924382318],\n",
       "      [-73.8907763512179, 45.5069642008183],\n",
       "      [-73.8912989165002, 45.5060276552235],\n",
       "      [-73.8930883375795, 45.5061095241892],\n",
       "      [-73.8938090092703, 45.5051466368411],\n",
       "      [-73.8931298332185, 45.5045492632818],\n",
       "      [-73.8902948397667, 45.5048242389134],\n",
       "      [-73.8882584256138, 45.5047130635017],\n",
       "      [-73.8845885513537, 45.503100834689],\n",
       "      [-73.8840175555813, 45.5020031308338],\n",
       "      [-73.8853262749786, 45.4998100023704],\n",
       "      [-73.884412047715, 45.4990183531015],\n",
       "      [-73.8830127770248, 45.4996741535333],\n",
       "      [-73.8810568286333, 45.4999384356033],\n",
       "      [-73.879779371889, 45.5004798588748],\n",
       "      [-73.8789156358527, 45.5017299402712],\n",
       "      [-73.8770152857708, 45.501806378212],\n",
       "      [-73.879759682167, 45.5029518530572],\n",
       "      [-73.8803341428118, 45.5033993667444],\n",
       "      [-73.8803094438111, 45.5042458334118],\n",
       "      [-73.8783878189261, 45.5059406633388],\n",
       "      [-73.8756305607743, 45.5078228770541],\n",
       "      [-73.8716174921312, 45.5042888396132],\n",
       "      [-73.8722903935919, 45.503568954282],\n",
       "      [-73.8690288298613, 45.5007201896345],\n",
       "      [-73.8701130707197, 45.5000549627491],\n",
       "      [-73.871134091344, 45.4990564163597],\n",
       "      [-73.872571305249, 45.4969659674767],\n",
       "      [-73.8714042058561, 45.4965567000138],\n",
       "      [-73.872233047857, 45.4949468141821],\n",
       "      [-73.8716913646707, 45.4933306815312],\n",
       "      [-73.870532930773, 45.4928625205596],\n",
       "      [-73.8694139090223, 45.4919469541754],\n",
       "      [-73.871602833053, 45.4905720481716]]]},\n",
       "   'properties': {'district': '62-Denis-Benjamin-Viger'},\n",
       "   'id': '62'},\n",
       "  {'type': 'Feature',\n",
       "   'geometry': {'type': 'MultiPolygon',\n",
       "    'coordinates': [[[[-73.876179389015, 45.484463443982],\n",
       "       [-73.8748623836763, 45.4845487678604],\n",
       "       [-73.8746531555376, 45.4838655945021],\n",
       "       [-73.8752754756586, 45.4831976914281],\n",
       "       [-73.875332125701, 45.4820996763162],\n",
       "       [-73.8773551113916, 45.4823719006883],\n",
       "       [-73.8773585206136, 45.4838386904758],\n",
       "       [-73.8770492982827, 45.4844695752153],\n",
       "       [-73.876179389015, 45.484463443982]]],\n",
       "     [[[-73.871602833053, 45.4905720481716],\n",
       "       [-73.8688974470136, 45.4882449524107],\n",
       "       [-73.8709851008353, 45.487059190004],\n",
       "       [-73.8725145833884, 45.4854652904542],\n",
       "       [-73.8761955543809, 45.4864641220707],\n",
       "       [-73.8773897323982, 45.4856292741431],\n",
       "       [-73.8778041545601, 45.4844850797772],\n",
       "       [-73.8785921129696, 45.4837086183771],\n",
       "       [-73.8781898959115, 45.4828731025615],\n",
       "       [-73.8784365392884, 45.4814954771698],\n",
       "       [-73.8796440398513, 45.4803396456993],\n",
       "       [-73.8808564171004, 45.4799307290984],\n",
       "       [-73.8818738698332, 45.4790634862107],\n",
       "       [-73.8828567898793, 45.4787722169973],\n",
       "       [-73.8847419788084, 45.4776140567433],\n",
       "       [-73.8874400837697, 45.4756252617452],\n",
       "       [-73.8890406450115, 45.4740361165489],\n",
       "       [-73.8896093964888, 45.473044339843],\n",
       "       [-73.8920158379205, 45.4714793088166],\n",
       "       [-73.8939883829402, 45.4719134901468],\n",
       "       [-73.8962921181107, 45.4721394139777],\n",
       "       [-73.8981449394396, 45.4719079872095],\n",
       "       [-73.8992850543273, 45.4721559893786],\n",
       "       [-73.9014271769693, 45.4712486357827],\n",
       "       [-73.9038056762196, 45.4712042547101],\n",
       "       [-73.9051695937615, 45.4705605613393],\n",
       "       [-73.9045774306121, 45.4700226989345],\n",
       "       [-73.9028488295322, 45.4697318295333],\n",
       "       [-73.9012801121118, 45.4703403082789],\n",
       "       [-73.8996924472568, 45.4700938928558],\n",
       "       [-73.8993825392247, 45.469663097207],\n",
       "       [-73.8999775060713, 45.4688151666323],\n",
       "       [-73.9017348723624, 45.4677561646305],\n",
       "       [-73.9023924422294, 45.468509706018],\n",
       "       [-73.9043441969034, 45.4696096448133],\n",
       "       [-73.9084347070547, 45.4693341104744],\n",
       "       [-73.9120964530199, 45.4682153872984],\n",
       "       [-73.9126431874804, 45.4694449753644],\n",
       "       [-73.9136278859403, 45.4694413239075],\n",
       "       [-73.9154106009438, 45.4701278046013],\n",
       "       [-73.9159006769417, 45.4706838913767],\n",
       "       [-73.9168728992832, 45.4707163448971],\n",
       "       [-73.9159791650457, 45.4726632836215],\n",
       "       [-73.9164275963913, 45.4727606419858],\n",
       "       [-73.9171840487468, 45.4712821683374],\n",
       "       [-73.9179119052825, 45.4711355184565],\n",
       "       [-73.9186742261816, 45.4721675623649],\n",
       "       [-73.9196472003342, 45.4740176773167],\n",
       "       [-73.9200930017441, 45.4737730563005],\n",
       "       [-73.921822149022, 45.4741086594329],\n",
       "       [-73.9226284972793, 45.4752714551831],\n",
       "       [-73.924738453321, 45.4775172443067],\n",
       "       [-73.9253150364798, 45.4776590879844],\n",
       "       [-73.9266000233535, 45.476745452941],\n",
       "       [-73.9277434225804, 45.477398128666],\n",
       "       [-73.9295423138299, 45.4767974221727],\n",
       "       [-73.9302919142255, 45.4778114366407],\n",
       "       [-73.9314189351491, 45.4779961715469],\n",
       "       [-73.9326541103686, 45.4772716425334],\n",
       "       [-73.9335030743869, 45.4762245897937],\n",
       "       [-73.9350412733002, 45.4766507100519],\n",
       "       [-73.9370692452005, 45.4762391230436],\n",
       "       [-73.9406266477915, 45.4761163385087],\n",
       "       [-73.942911201225, 45.475477638423],\n",
       "       [-73.9443213415212, 45.4758861323891],\n",
       "       [-73.9441879968396, 45.4768134931837],\n",
       "       [-73.9428248046939, 45.478697804247],\n",
       "       [-73.9416119001885, 45.4794240216934],\n",
       "       [-73.9405851561781, 45.4789960185208],\n",
       "       [-73.9387460246999, 45.4793540720446],\n",
       "       [-73.9383403023619, 45.4798235952081],\n",
       "       [-73.9385185477879, 45.4813526185292],\n",
       "       [-73.9403810268872, 45.4823442895009],\n",
       "       [-73.9410419166311, 45.4834215699972],\n",
       "       [-73.942256795601, 45.483380875313],\n",
       "       [-73.9426871284147, 45.4827943413787],\n",
       "       [-73.9436978356457, 45.482808418644],\n",
       "       [-73.9433844250482, 45.4836104864635],\n",
       "       [-73.9412104480622, 45.4837088979371],\n",
       "       [-73.941186300091, 45.4855356756957],\n",
       "       [-73.9409258043702, 45.4865805138247],\n",
       "       [-73.940155183621, 45.4878253029672],\n",
       "       [-73.9400375236355, 45.4891394779763],\n",
       "       [-73.939084522942, 45.4899799926108],\n",
       "       [-73.9355316222878, 45.4921352533586],\n",
       "       [-73.9349775409211, 45.4932801876613],\n",
       "       [-73.9328555975538, 45.4935401391563],\n",
       "       [-73.9323151123675, 45.4931193083499],\n",
       "       [-73.9298370141484, 45.4936595300698],\n",
       "       [-73.9291104700923, 45.4940132354185],\n",
       "       [-73.9270348943367, 45.4936430419454],\n",
       "       [-73.925473026234, 45.4952145713303],\n",
       "       [-73.9244092344479, 45.4966763272855],\n",
       "       [-73.9244257212294, 45.4971711381462],\n",
       "       [-73.9233876507023, 45.4982360094313],\n",
       "       [-73.9226520258841, 45.4995263547275],\n",
       "       [-73.9218373692027, 45.5000962326717],\n",
       "       [-73.9209670436555, 45.5000814447197],\n",
       "       [-73.918541557808, 45.5008552086516],\n",
       "       [-73.9174837992266, 45.5014440345453],\n",
       "       [-73.9145252844175, 45.5010948373465],\n",
       "       [-73.9134946418312, 45.5018904208046],\n",
       "       [-73.9127623770829, 45.5032518742003],\n",
       "       [-73.9125029822642, 45.5046603019441],\n",
       "       [-73.9105682077776, 45.502919788446],\n",
       "       [-73.9117306033429, 45.5014828251295],\n",
       "       [-73.9131442528934, 45.5001505549281],\n",
       "       [-73.910763113645, 45.4979785583287],\n",
       "       [-73.9097687478128, 45.498420306124],\n",
       "       [-73.9072471667436, 45.4990521662397],\n",
       "       [-73.9032166411352, 45.5013944047771],\n",
       "       [-73.901198690394, 45.5019296796061],\n",
       "       [-73.8993079427873, 45.5021890950386],\n",
       "       [-73.8978204833524, 45.5021042916793],\n",
       "       [-73.893915982267, 45.4991295138785],\n",
       "       [-73.8832708288195, 45.4900124335721],\n",
       "       [-73.8758099807102, 45.4943016403121],\n",
       "       [-73.871602833053, 45.4905720481716]]]]},\n",
       "   'properties': {'district': '63-Jacques-Bizard'},\n",
       "   'id': '63'},\n",
       "  {'type': 'Feature',\n",
       "   'geometry': {'type': 'MultiPolygon',\n",
       "    'coordinates': [[[[-73.8795251463835, 45.4721694456373],\n",
       "       [-73.8770259047514, 45.4733055656905],\n",
       "       [-73.8771362722445, 45.474146820144],\n",
       "       [-73.8758315302677, 45.4744852213893],\n",
       "       [-73.8761694823241, 45.475285050858],\n",
       "       [-73.8753710533004, 45.4763945070991],\n",
       "       [-73.8754013038998, 45.4771052655959],\n",
       "       [-73.8745581040502, 45.4791867014648],\n",
       "       [-73.873401680597, 45.4803243146019],\n",
       "       [-73.8714778204625, 45.4814913213621],\n",
       "       [-73.8706822810873, 45.4830686993857],\n",
       "       [-73.8688129680033, 45.4847754445001],\n",
       "       [-73.8690502967072, 45.4858455083571],\n",
       "       [-73.8658510539776, 45.4876644845598],\n",
       "       [-73.8647484711707, 45.4872900384824],\n",
       "       [-73.8624368975074, 45.4879093508046],\n",
       "       [-73.8598077012489, 45.4888850004049],\n",
       "       [-73.8587614558506, 45.4873090890375],\n",
       "       [-73.8613316931676, 45.4851413285652],\n",
       "       [-73.8624629228902, 45.4840039194648],\n",
       "       [-73.8650419471552, 45.4821657726431],\n",
       "       [-73.8728715855598, 45.4756017517064],\n",
       "       [-73.871209821762, 45.4733162451191],\n",
       "       [-73.8733213850942, 45.4725990666647],\n",
       "       [-73.8782862116718, 45.4705088548296],\n",
       "       [-73.8795251463835, 45.4721694456373]]],\n",
       "     [[[-73.8598857733827, 45.4911029074784],\n",
       "       [-73.8591675296752, 45.4908171897388],\n",
       "       [-73.8600571674373, 45.4898965476815],\n",
       "       [-73.8612991016732, 45.4900456152652],\n",
       "       [-73.8605639387492, 45.4911097682054],\n",
       "       [-73.8598857733827, 45.4911029074784]]]]},\n",
       "   'properties': {'district': '64-Sainte-Geneviève'},\n",
       "   'id': '64'},\n",
       "  {'type': 'Feature',\n",
       "   'geometry': {'type': 'Polygon',\n",
       "    'coordinates': [[[-73.505845657669, 45.5915064148139],\n",
       "      [-73.5103359282538, 45.5921124591547],\n",
       "      [-73.5206880075519, 45.5952083313336],\n",
       "      [-73.5204207506441, 45.5957326455424],\n",
       "      [-73.5227698757162, 45.5964405193219],\n",
       "      [-73.5231408135446, 45.5957591991736],\n",
       "      [-73.533521772969, 45.5988762603839],\n",
       "      [-73.5369160899836, 45.5931626565659],\n",
       "      [-73.5411715382662, 45.5939767034301],\n",
       "      [-73.5423606148624, 45.5943108573749],\n",
       "      [-73.5455045323429, 45.5956272275911],\n",
       "      [-73.5452799498143, 45.5959627917351],\n",
       "      [-73.5438572127564, 45.5980784963673],\n",
       "      [-73.5442050076359, 45.5981948225546],\n",
       "      [-73.5445859643042, 45.5999308464328],\n",
       "      [-73.5451108447268, 45.6000061818095],\n",
       "      [-73.5447576674512, 45.6019410417126],\n",
       "      [-73.5407418924341, 45.6006998521118],\n",
       "      [-73.539729971205, 45.6018186221009],\n",
       "      [-73.5429289535666, 45.6032316351511],\n",
       "      [-73.5421763850909, 45.6042454438226],\n",
       "      [-73.5394321608651, 45.6030910243993],\n",
       "      [-73.5365958888719, 45.602162446611],\n",
       "      [-73.5365038947396, 45.6026457300995],\n",
       "      [-73.5375401492111, 45.6052359766051],\n",
       "      [-73.5416213388458, 45.606939681157],\n",
       "      [-73.540900931842, 45.6078533012629],\n",
       "      [-73.5416434070878, 45.6081797015109],\n",
       "      [-73.5412098839782, 45.6095033241271],\n",
       "      [-73.5441363974969, 45.6102716461918],\n",
       "      [-73.5453373826653, 45.6107633861198],\n",
       "      [-73.5444977198785, 45.6121760838565],\n",
       "      [-73.5462767505068, 45.6127238289344],\n",
       "      [-73.5452777806501, 45.6141657083913],\n",
       "      [-73.5437218072693, 45.6149096422408],\n",
       "      [-73.5381703589619, 45.6139517855176],\n",
       "      [-73.5375256945614, 45.6160673327401],\n",
       "      [-73.5252332402243, 45.6137951013372],\n",
       "      [-73.5145702896503, 45.6119902043961],\n",
       "      [-73.5073926872162, 45.6107104987953],\n",
       "      [-73.507104042043, 45.6103305736701],\n",
       "      [-73.5088445389914, 45.6059056683277],\n",
       "      [-73.5094016237031, 45.6029289790696],\n",
       "      [-73.5089844073373, 45.5984312397903],\n",
       "      [-73.5085623510741, 45.5964354408978],\n",
       "      [-73.5073994472774, 45.5937585441643],\n",
       "      [-73.505845657669, 45.5915064148139]]]},\n",
       "   'properties': {'district': '71-Tétreaultville'},\n",
       "   'id': '71'},\n",
       "  {'type': 'Feature',\n",
       "   'geometry': {'type': 'Polygon',\n",
       "    'coordinates': [[[-73.505845657669, 45.5915064148139],\n",
       "      [-73.5052335547608, 45.5914035841385],\n",
       "      [-73.5040074172822, 45.5877509637108],\n",
       "      [-73.50548477383, 45.5842108995057],\n",
       "      [-73.5046727489859, 45.5839523001102],\n",
       "      [-73.5060139625714, 45.5806625893987],\n",
       "      [-73.5058561540639, 45.5806068926751],\n",
       "      [-73.5091666956111, 45.5757730349861],\n",
       "      [-73.5141197194594, 45.5708695926608],\n",
       "      [-73.5190039768335, 45.5682773867463],\n",
       "      [-73.5197939453882, 45.5669670591355],\n",
       "      [-73.5180270972663, 45.5661485153046],\n",
       "      [-73.5253430489297, 45.5574887203531],\n",
       "      [-73.5250635489053, 45.5568993328574],\n",
       "      [-73.5236813870747, 45.5568097261785],\n",
       "      [-73.521480081669, 45.5591100901826],\n",
       "      [-73.5209547766993, 45.5588573091504],\n",
       "      [-73.5218702090576, 45.5578763137034],\n",
       "      [-73.5209413390244, 45.5570999459563],\n",
       "      [-73.5191167026398, 45.5588496230043],\n",
       "      [-73.518595216105, 45.5586040300451],\n",
       "      [-73.522051635704, 45.5552304196808],\n",
       "      [-73.5269225613603, 45.549446926412],\n",
       "      [-73.5335765932332, 45.5515757481653],\n",
       "      [-73.5389816134656, 45.5533773670715],\n",
       "      [-73.5382239872366, 45.5549283797349],\n",
       "      [-73.5486183023616, 45.5582491708623],\n",
       "      [-73.5460296824187, 45.562265422129],\n",
       "      [-73.5459659905086, 45.5625254142127],\n",
       "      [-73.5456328946765, 45.5629337545645],\n",
       "      [-73.5413632157982, 45.5709610549351],\n",
       "      [-73.5386884000436, 45.5749269433291],\n",
       "      [-73.5320531965098, 45.5852349268307],\n",
       "      [-73.540035463506, 45.5878529169711],\n",
       "      [-73.5369160899836, 45.5931626565659],\n",
       "      [-73.533521772969, 45.5988762603839],\n",
       "      [-73.5231408135446, 45.5957591991736],\n",
       "      [-73.5227698757162, 45.5964405193219],\n",
       "      [-73.5204207506441, 45.5957326455424],\n",
       "      [-73.5206880075519, 45.5952083313336],\n",
       "      [-73.5103359282538, 45.5921124591547],\n",
       "      [-73.505845657669, 45.5915064148139]]]},\n",
       "   'properties': {'district': '72-MaisonneuveLongue-Pointe'},\n",
       "   'id': '72'},\n",
       "  {'type': 'Feature',\n",
       "   'geometry': {'type': 'Polygon',\n",
       "    'coordinates': [[[-73.5269225613603, 45.549446926412],\n",
       "      [-73.5289560474797, 45.5470320263359],\n",
       "      [-73.5277739913219, 45.547187016061],\n",
       "      [-73.5277290513663, 45.5464490003045],\n",
       "      [-73.5313590128093, 45.5457750092113],\n",
       "      [-73.5321039500724, 45.5447229718789],\n",
       "      [-73.5291969726971, 45.5451540050291],\n",
       "      [-73.5296700173696, 45.5442239930694],\n",
       "      [-73.5329650126455, 45.5436089818848],\n",
       "      [-73.5339429567644, 45.5424780308809],\n",
       "      [-73.5315039994787, 45.5426720333775],\n",
       "      [-73.5316359736222, 45.5420080334177],\n",
       "      [-73.5344850464319, 45.5413149877237],\n",
       "      [-73.5404589754615, 45.5356759920904],\n",
       "      [-73.5417879567955, 45.529933001055],\n",
       "      [-73.5428587889529, 45.5304546205586],\n",
       "      [-73.5439636509721, 45.5334697006227],\n",
       "      [-73.5473499781753, 45.5376709059424],\n",
       "      [-73.5482541001656, 45.5383569002539],\n",
       "      [-73.550216365092, 45.5389758922042],\n",
       "      [-73.5592280432661, 45.5399028690768],\n",
       "      [-73.5552605710227, 45.5474166761255],\n",
       "      [-73.5545655421497, 45.55467023726],\n",
       "      [-73.5542787320438, 45.5568764086233],\n",
       "      [-73.5546496932451, 45.5649641797921],\n",
       "      [-73.5544730757919, 45.5652953442798],\n",
       "      [-73.5459659905086, 45.5625254142127],\n",
       "      [-73.5460296824187, 45.562265422129],\n",
       "      [-73.5486183023616, 45.5582491708623],\n",
       "      [-73.5382239872366, 45.5549283797349],\n",
       "      [-73.5389816134656, 45.5533773670715],\n",
       "      [-73.5335765932332, 45.5515757481653],\n",
       "      [-73.5269225613603, 45.549446926412]]]},\n",
       "   'properties': {'district': '73-Hochelaga'},\n",
       "   'id': '73'},\n",
       "  {'type': 'Feature',\n",
       "   'geometry': {'type': 'Polygon',\n",
       "    'coordinates': [[[-73.5455045323429, 45.5956272275911],\n",
       "      [-73.5423606148624, 45.5943108573749],\n",
       "      [-73.5411715382662, 45.5939767034301],\n",
       "      [-73.5369160899836, 45.5931626565659],\n",
       "      [-73.540035463506, 45.5878529169711],\n",
       "      [-73.5320531965098, 45.5852349268307],\n",
       "      [-73.5386884000436, 45.5749269433291],\n",
       "      [-73.5413632157982, 45.5709610549351],\n",
       "      [-73.5456328946765, 45.5629337545645],\n",
       "      [-73.5459659905086, 45.5625254142127],\n",
       "      [-73.5544730757919, 45.5652953442798],\n",
       "      [-73.5489772535198, 45.5734435433853],\n",
       "      [-73.5557298683366, 45.5757065336466],\n",
       "      [-73.5584435150771, 45.578098690279],\n",
       "      [-73.5683754804235, 45.5814045757918],\n",
       "      [-73.5648413846768, 45.5830623920281],\n",
       "      [-73.566054883333, 45.5843176844033],\n",
       "      [-73.563949176176, 45.5849798671748],\n",
       "      [-73.5642198577817, 45.5854079588427],\n",
       "      [-73.5642246834943, 45.5872483268508],\n",
       "      [-73.5663609324088, 45.5883396268265],\n",
       "      [-73.5686767639537, 45.5922969983003],\n",
       "      [-73.5690474086577, 45.5937353194892],\n",
       "      [-73.5687432258054, 45.5949521683749],\n",
       "      [-73.5696609688417, 45.5965806032278],\n",
       "      [-73.5694206600629, 45.5971486400825],\n",
       "      [-73.5576871015794, 45.5932166140624],\n",
       "      [-73.5489394765731, 45.5903029802044],\n",
       "      [-73.5465394629102, 45.5940712033384],\n",
       "      [-73.5481396292151, 45.5946360429193],\n",
       "      [-73.5473484500099, 45.5955355370728],\n",
       "      [-73.545930102715, 45.5949937733284],\n",
       "      [-73.5455045323429, 45.5956272275911]]]},\n",
       "   'properties': {'district': '74-Louis-Riel'},\n",
       "   'id': '74'},\n",
       "  {'type': 'Feature',\n",
       "   'geometry': {'type': 'Polygon',\n",
       "    'coordinates': [[[-73.6202427208594, 45.5951205335532],\n",
       "      [-73.6296215435427, 45.5838130726522],\n",
       "      [-73.6288186186035, 45.5832571469721],\n",
       "      [-73.631962332515, 45.579640175342],\n",
       "      [-73.6327012962769, 45.5799802985646],\n",
       "      [-73.6363215300962, 45.5759177646435],\n",
       "      [-73.652557313063, 45.5826892716542],\n",
       "      [-73.6543058972308, 45.5836262624158],\n",
       "      [-73.6531900096361, 45.5859698880497],\n",
       "      [-73.6526947978849, 45.5876532157306],\n",
       "      [-73.6523937374702, 45.5900742122073],\n",
       "      [-73.6505401287885, 45.5918403260598],\n",
       "      [-73.6490983475598, 45.5943078055034],\n",
       "      [-73.646028354957, 45.5966872776611],\n",
       "      [-73.6450204850692, 45.598497300652],\n",
       "      [-73.6434244270991, 45.6009558130627],\n",
       "      [-73.6432738605823, 45.6022427894953],\n",
       "      [-73.6418446065649, 45.6048360555341],\n",
       "      [-73.6415278334524, 45.606276219979],\n",
       "      [-73.6400469319338, 45.6087976232294],\n",
       "      [-73.6388534618155, 45.6101933725153],\n",
       "      [-73.6374274156649, 45.6122509805631],\n",
       "      [-73.6349651825723, 45.6101401159366],\n",
       "      [-73.6284179810453, 45.603912893307],\n",
       "      [-73.6227414555439, 45.5985713755102],\n",
       "      [-73.6209924104659, 45.5968531497608],\n",
       "      [-73.6216736698201, 45.5964861898013],\n",
       "      [-73.6202427208594, 45.5951205335532]]]},\n",
       "   'properties': {'district': '81-Marie-Clarac'},\n",
       "   'id': '81'},\n",
       "  {'type': 'Feature',\n",
       "   'geometry': {'type': 'Polygon',\n",
       "    'coordinates': [[[-73.6028907661658, 45.6112216102358],\n",
       "      [-73.6041139394664, 45.6106174089674],\n",
       "      [-73.6035616092243, 45.6101078733853],\n",
       "      [-73.6048043091085, 45.6094292879636],\n",
       "      [-73.6062298901187, 45.610759685103],\n",
       "      [-73.6079197060538, 45.6094530924621],\n",
       "      [-73.6092890313816, 45.6081470965116],\n",
       "      [-73.6125635803426, 45.604373796832],\n",
       "      [-73.61467650443, 45.601820884038],\n",
       "      [-73.6202427208594, 45.5951205335532],\n",
       "      [-73.6216736698201, 45.5964861898013],\n",
       "      [-73.6209924104659, 45.5968531497608],\n",
       "      [-73.6227414555439, 45.5985713755102],\n",
       "      [-73.6284179810453, 45.603912893307],\n",
       "      [-73.6349651825723, 45.6101401159366],\n",
       "      [-73.6374274156649, 45.6122509805631],\n",
       "      [-73.6357315212, 45.6162353900055],\n",
       "      [-73.6334060135125, 45.6196665233391],\n",
       "      [-73.6310514588113, 45.6217838603777],\n",
       "      [-73.6289543944547, 45.6234221648674],\n",
       "      [-73.6269636907653, 45.6247707822286],\n",
       "      [-73.6250472436735, 45.6262897836938],\n",
       "      [-73.6235959602566, 45.6271766849645],\n",
       "      [-73.6206953088035, 45.6298453145986],\n",
       "      [-73.6168081007299, 45.6262083345707],\n",
       "      [-73.6071490341973, 45.6170493269392],\n",
       "      [-73.6023660828945, 45.6125718329314],\n",
       "      [-73.601559767966, 45.6118073578371],\n",
       "      [-73.6028907661658, 45.6112216102358]]]},\n",
       "   'properties': {'district': '82-Ovide-Clermont'},\n",
       "   'id': '82'},\n",
       "  {'type': 'Feature',\n",
       "   'geometry': {'type': 'Polygon',\n",
       "    'coordinates': [[[-73.5989854515795, 45.5160358124743],\n",
       "      [-73.5986563507028, 45.5163499572059],\n",
       "      [-73.601437737118, 45.5176238014654],\n",
       "      [-73.6020308024605, 45.5177034122021],\n",
       "      [-73.613010925262, 45.5225880512056],\n",
       "      [-73.6108850612038, 45.5249602486287],\n",
       "      [-73.5966746401772, 45.5186407402299],\n",
       "      [-73.5982202946245, 45.5169177573452],\n",
       "      [-73.5969109664106, 45.5161364855643],\n",
       "      [-73.5989854515795, 45.5160358124743]]]},\n",
       "   'properties': {'district': '91-Claude-Ryan'},\n",
       "   'id': '91'},\n",
       "  {'type': 'Feature',\n",
       "   'geometry': {'type': 'Polygon',\n",
       "    'coordinates': [[[-73.5989854515795, 45.5160358124743],\n",
       "      [-73.6044730454934, 45.5155769251068],\n",
       "      [-73.6089843852315, 45.5146703511952],\n",
       "      [-73.6091799069916, 45.5148927825],\n",
       "      [-73.6186655613026, 45.5191467549529],\n",
       "      [-73.6148105187034, 45.5234843904785],\n",
       "      [-73.6155485100061, 45.52374152426],\n",
       "      [-73.6253373412254, 45.518414467689],\n",
       "      [-73.6244833769123, 45.5195443162251],\n",
       "      [-73.6208637881685, 45.5236565043515],\n",
       "      [-73.617235572865, 45.5277835686717],\n",
       "      [-73.6170925681517, 45.5277209056734],\n",
       "      [-73.6124143323658, 45.525647330045],\n",
       "      [-73.6108850612038, 45.5249602486287],\n",
       "      [-73.613010925262, 45.5225880512056],\n",
       "      [-73.6020308024605, 45.5177034122021],\n",
       "      [-73.601437737118, 45.5176238014654],\n",
       "      [-73.5986563507028, 45.5163499572059],\n",
       "      [-73.5989854515795, 45.5160358124743]]]},\n",
       "   'properties': {'district': '92-Joseph-Beaubien'},\n",
       "   'id': '92'},\n",
       "  {'type': 'Feature',\n",
       "   'geometry': {'type': 'Polygon',\n",
       "    'coordinates': [[[-73.5956108742759, 45.504064067218],\n",
       "      [-73.5987846893921, 45.5056180649425],\n",
       "      [-73.5993805679324, 45.5053898653966],\n",
       "      [-73.6024762927983, 45.5068574351344],\n",
       "      [-73.6035337540631, 45.5057001623398],\n",
       "      [-73.6061344132343, 45.5068772235294],\n",
       "      [-73.6063535452531, 45.5074911306599],\n",
       "      [-73.6130513861854, 45.5104478685544],\n",
       "      [-73.6182356279483, 45.504722156916],\n",
       "      [-73.6189454361275, 45.5051234940594],\n",
       "      [-73.6160933747766, 45.5082725969653],\n",
       "      [-73.6178928803835, 45.5091750557282],\n",
       "      [-73.6169256431203, 45.5102737338336],\n",
       "      [-73.61888001694, 45.5111346532789],\n",
       "      [-73.617959519301, 45.5121686212918],\n",
       "      [-73.6171142113946, 45.5117885655948],\n",
       "      [-73.6163442345691, 45.5125462730753],\n",
       "      [-73.615038686563, 45.511951761593],\n",
       "      [-73.6111115129373, 45.5140796366228],\n",
       "      [-73.6089843852315, 45.5146703511952],\n",
       "      [-73.6044730454934, 45.5155769251068],\n",
       "      [-73.5989854515795, 45.5160358124743],\n",
       "      [-73.5969109664106, 45.5161364855643],\n",
       "      [-73.5982202946245, 45.5169177573452],\n",
       "      [-73.5966746401772, 45.5186407402299],\n",
       "      [-73.5902604532774, 45.5157813641729],\n",
       "      [-73.5911992183544, 45.5147110287094],\n",
       "      [-73.5918451342772, 45.5144729450241],\n",
       "      [-73.5968586638591, 45.5145623065118],\n",
       "      [-73.5978614314752, 45.5141637733071],\n",
       "      [-73.598896296438, 45.5131127563816],\n",
       "      [-73.5969405107098, 45.5130415385056],\n",
       "      [-73.5969012890154, 45.5117790625741],\n",
       "      [-73.5949672180747, 45.5109069459258],\n",
       "      [-73.5935088435771, 45.5105257693584],\n",
       "      [-73.594191031848, 45.5097864575692],\n",
       "      [-73.591464574106, 45.508070751295],\n",
       "      [-73.5956108742759, 45.504064067218]]]},\n",
       "   'properties': {'district': '93-Robert-Bourassa'},\n",
       "   'id': '93'},\n",
       "  {'type': 'Feature',\n",
       "   'geometry': {'type': 'Polygon',\n",
       "    'coordinates': [[[-73.617959519301, 45.5121686212918],\n",
       "      [-73.6176645335398, 45.5125000231349],\n",
       "      [-73.6207592308166, 45.5138993727882],\n",
       "      [-73.6267223236567, 45.5165801475772],\n",
       "      [-73.6253373412254, 45.518414467689],\n",
       "      [-73.6155485100061, 45.52374152426],\n",
       "      [-73.6148105187034, 45.5234843904785],\n",
       "      [-73.6186655613026, 45.5191467549529],\n",
       "      [-73.6091799069916, 45.5148927825],\n",
       "      [-73.6089843852315, 45.5146703511952],\n",
       "      [-73.6111115129373, 45.5140796366228],\n",
       "      [-73.615038686563, 45.511951761593],\n",
       "      [-73.6163442345691, 45.5125462730753],\n",
       "      [-73.6171142113946, 45.5117885655948],\n",
       "      [-73.617959519301, 45.5121686212918]]]},\n",
       "   'properties': {'district': '94-Jeanne-Sauvé'},\n",
       "   'id': '94'},\n",
       "  {'type': 'Feature',\n",
       "   'geometry': {'type': 'MultiPolygon',\n",
       "    'coordinates': [[[[-73.8187679895316, 45.5140812084438],\n",
       "       [-73.8182383369059, 45.5132188436317],\n",
       "       [-73.8194262685108, 45.5128016511853],\n",
       "       [-73.8210527525633, 45.5129859861948],\n",
       "       [-73.8211602697308, 45.5138855228726],\n",
       "       [-73.8187679895316, 45.5140812084438]]],\n",
       "     [[[-73.7612752776246, 45.5104175090183],\n",
       "       [-73.7551669017747, 45.5064862077527],\n",
       "       [-73.7550630650544, 45.5065238038199],\n",
       "       [-73.7516832079437, 45.5044227485347],\n",
       "       [-73.7530750881715, 45.5037537247243],\n",
       "       [-73.7547114610262, 45.5033812068779],\n",
       "       [-73.756652358581, 45.5024589334263],\n",
       "       [-73.7582371682807, 45.5020414841587],\n",
       "       [-73.7594306007504, 45.5027766325504],\n",
       "       [-73.7609994664832, 45.5016752336666],\n",
       "       [-73.7638615520544, 45.5034953365559],\n",
       "       [-73.764601206777, 45.5029446682134],\n",
       "       [-73.7653841918245, 45.5034648112556],\n",
       "       [-73.7671979733428, 45.5027497284985],\n",
       "       [-73.7692002551043, 45.5040137486001],\n",
       "       [-73.7709616412032, 45.5034073001873],\n",
       "       [-73.7725018897261, 45.5025715611262],\n",
       "       [-73.770851931212, 45.5015263075263],\n",
       "       [-73.7738796981111, 45.5005112554049],\n",
       "       [-73.7716579558132, 45.4991257181769],\n",
       "       [-73.7735738316828, 45.4981363521851],\n",
       "       [-73.7779880975343, 45.5009521734749],\n",
       "       [-73.780555316633, 45.4997211145292],\n",
       "       [-73.7811328878805, 45.5000886664279],\n",
       "       [-73.7828691809435, 45.4992834417083],\n",
       "       [-73.7866716942594, 45.5016560785918],\n",
       "       [-73.7833876826593, 45.5031694957223],\n",
       "       [-73.7921892811359, 45.505162983993],\n",
       "       [-73.790378705595, 45.5039707845666],\n",
       "       [-73.7971312330344, 45.5007319392105],\n",
       "       [-73.800845778582, 45.4990215282087],\n",
       "       [-73.8020719362353, 45.500313400533],\n",
       "       [-73.8090622022287, 45.4969839281454],\n",
       "       [-73.8103152495861, 45.4968275421823],\n",
       "       [-73.8148195197041, 45.5014854076037],\n",
       "       [-73.814130519647, 45.5018291882481],\n",
       "       [-73.8151983502239, 45.5028700758232],\n",
       "       [-73.8158749418108, 45.5025712297953],\n",
       "       [-73.8192989400152, 45.5061341618076],\n",
       "       [-73.8239273064692, 45.5039359215182],\n",
       "       [-73.8260247686459, 45.5028472072531],\n",
       "       [-73.8336495886976, 45.4992478732958],\n",
       "       [-73.8354476552771, 45.4983089444422],\n",
       "       [-73.835851882975, 45.4987134333303],\n",
       "       [-73.8376510464643, 45.4977036685397],\n",
       "       [-73.8352748755507, 45.4946201233283],\n",
       "       [-73.8359064469498, 45.4941865754856],\n",
       "       [-73.8445138674112, 45.4899447538175],\n",
       "       [-73.8461670237813, 45.488985999861],\n",
       "       [-73.8503699985263, 45.4936842455575],\n",
       "       [-73.853113099403, 45.4984292547447],\n",
       "       [-73.8558121436329, 45.5017030001578],\n",
       "       [-73.8554973469563, 45.506068266442],\n",
       "       [-73.8541507320505, 45.5071387755787],\n",
       "       [-73.8547842282295, 45.5078848003326],\n",
       "       [-73.8541503989792, 45.5088568468323],\n",
       "       [-73.8514364847285, 45.5107998956924],\n",
       "       [-73.8509728924279, 45.5113681864054],\n",
       "       [-73.8497265304179, 45.5116149897809],\n",
       "       [-73.8487575861648, 45.5122208147549],\n",
       "       [-73.8486390859537, 45.5137509650076],\n",
       "       [-73.8470767467479, 45.515690388096],\n",
       "       [-73.8459043806884, 45.5165397868316],\n",
       "       [-73.8447612809957, 45.5165252439303],\n",
       "       [-73.8416070645454, 45.5171016749459],\n",
       "       [-73.8379192636275, 45.5168516646645],\n",
       "       [-73.8362532214568, 45.51650560879],\n",
       "       [-73.8321180123678, 45.5163557197529],\n",
       "       [-73.8313656471532, 45.5168348664122],\n",
       "       [-73.8297408583824, 45.5169655584571],\n",
       "       [-73.8282028168338, 45.5166190156169],\n",
       "       [-73.8268661171387, 45.5156510162477],\n",
       "       [-73.8250222653614, 45.5155213777536],\n",
       "       [-73.8246734151281, 45.5149644141917],\n",
       "       [-73.8233629812572, 45.5141042906802],\n",
       "       [-73.8234733111558, 45.5132581353231],\n",
       "       [-73.8218473252627, 45.5131637356642],\n",
       "       [-73.8209366065744, 45.5128154164364],\n",
       "       [-73.8192176588039, 45.5126139694502],\n",
       "       [-73.8179057909873, 45.5132557668608],\n",
       "       [-73.8178065811604, 45.5138229980126],\n",
       "       [-73.8160507514445, 45.5154287971508],\n",
       "       [-73.814770537422, 45.5156310808765],\n",
       "       [-73.8131059190362, 45.5155096653326],\n",
       "       [-73.810217503155, 45.5162914840575],\n",
       "       [-73.8084551833961, 45.5162217432523],\n",
       "       [-73.8064888710304, 45.5155636081875],\n",
       "       [-73.8057027099487, 45.5147919349551],\n",
       "       [-73.8040410010469, 45.5149672884696],\n",
       "       [-73.801546777817, 45.5149829442516],\n",
       "       [-73.8001619454196, 45.5148065602758],\n",
       "       [-73.7995790764703, 45.5135123735559],\n",
       "       [-73.7995988098213, 45.5123965010493],\n",
       "       [-73.7992059489796, 45.5107148435346],\n",
       "       [-73.7978204799485, 45.5101065121228],\n",
       "       [-73.7969591683437, 45.5093799021214],\n",
       "       [-73.7939384028061, 45.509297721884],\n",
       "       [-73.79058311435, 45.5088654314285],\n",
       "       [-73.7870155334484, 45.5094594051816],\n",
       "       [-73.7852614432657, 45.5093198098856],\n",
       "       [-73.7829719822765, 45.5095864846083],\n",
       "       [-73.7806008657296, 45.5088903884048],\n",
       "       [-73.7769513427547, 45.5084674192311],\n",
       "       [-73.7745708564459, 45.5084461679299],\n",
       "       [-73.7719486126198, 45.5087044209407],\n",
       "       [-73.7697639799538, 45.5095104479827],\n",
       "       [-73.7673058990371, 45.5093183322757],\n",
       "       [-73.7625356657639, 45.5100672469129],\n",
       "       [-73.7612752776246, 45.5104175090183]]]]},\n",
       "   'properties': {'district': '101-Bois-de-Liesse'},\n",
       "   'id': '101'},\n",
       "  {'type': 'Feature',\n",
       "   'geometry': {'type': 'MultiPolygon',\n",
       "    'coordinates': [[[[-73.8461670237813, 45.488985999861],\n",
       "       [-73.850532069583, 45.486758681857],\n",
       "       [-73.8458397013725, 45.4794951647217],\n",
       "       [-73.8472019880053, 45.4788779608994],\n",
       "       [-73.8518367097832, 45.4764514219245],\n",
       "       [-73.8573573288562, 45.4736627559579],\n",
       "       [-73.8545371967343, 45.4706120339916],\n",
       "       [-73.8603908221258, 45.4659954945452],\n",
       "       [-73.859889484827, 45.4655831049747],\n",
       "       [-73.8669852747875, 45.4613941823855],\n",
       "       [-73.8659406037748, 45.4600298096328],\n",
       "       [-73.8814395340419, 45.4526362439631],\n",
       "       [-73.8847216555087, 45.4524908762247],\n",
       "       [-73.8890536732734, 45.4491166876217],\n",
       "       [-73.8915462525593, 45.4480217199892],\n",
       "       [-73.8938116724967, 45.4465652096353],\n",
       "       [-73.8981246578432, 45.4475293470406],\n",
       "       [-73.9003739737275, 45.4471542652552],\n",
       "       [-73.9000666991504, 45.4467285005871],\n",
       "       [-73.9015060886188, 45.446358434947],\n",
       "       [-73.9023709077117, 45.4475251321732],\n",
       "       [-73.9043599589048, 45.4467892477034],\n",
       "       [-73.9055608807492, 45.4484676964261],\n",
       "       [-73.9104202259452, 45.4468936252547],\n",
       "       [-73.9231679445166, 45.4420154242323],\n",
       "       [-73.9228839309917, 45.4416385017936],\n",
       "       [-73.9245143656332, 45.4408765943703],\n",
       "       [-73.924830550628, 45.4404255381026],\n",
       "       [-73.9348115551979, 45.4490797759617],\n",
       "       [-73.9369647858857, 45.4508355286695],\n",
       "       [-73.9367305115467, 45.4519612579974],\n",
       "       [-73.936084813848, 45.45278257894],\n",
       "       [-73.9363214019941, 45.4536095287366],\n",
       "       [-73.9384314066949, 45.45366444434],\n",
       "       [-73.93849022267, 45.4546540611182],\n",
       "       [-73.9401870518575, 45.4558173634308],\n",
       "       [-73.9432583349177, 45.4561564624145],\n",
       "       [-73.9444816415584, 45.4572495419421],\n",
       "       [-73.9470042484352, 45.4577165755588],\n",
       "       [-73.9475358331527, 45.4586413391725],\n",
       "       [-73.9466703677291, 45.4591486916182],\n",
       "       [-73.9457347700682, 45.4588823651705],\n",
       "       [-73.9452919598077, 45.4594780510929],\n",
       "       [-73.9438715446993, 45.4593485885153],\n",
       "       [-73.9418275850641, 45.461228202182],\n",
       "       [-73.9418734970443, 45.4621908676335],\n",
       "       [-73.9433996704037, 45.4627518229434],\n",
       "       [-73.9458662537823, 45.4625712338861],\n",
       "       [-73.9452835656909, 45.4632754571652],\n",
       "       [-73.9455865563861, 45.4644081059436],\n",
       "       [-73.9444336707811, 45.464151615889],\n",
       "       [-73.9428244875956, 45.4644188471942],\n",
       "       [-73.9420560006039, 45.4659065384758],\n",
       "       [-73.9397320642846, 45.4663563878557],\n",
       "       [-73.9401770020335, 45.4676594913386],\n",
       "       [-73.9394768022606, 45.4680671581924],\n",
       "       [-73.9395814637767, 45.4700104369658],\n",
       "       [-73.9382622094761, 45.4714102256228],\n",
       "       [-73.9356853954855, 45.4722749319843],\n",
       "       [-73.9346437792633, 45.4731967435679],\n",
       "       [-73.9329374951772, 45.4725193630933],\n",
       "       [-73.9323111235668, 45.4725667323419],\n",
       "       [-73.9299152373346, 45.4737006039578],\n",
       "       [-73.928842473854, 45.4739115313467],\n",
       "       [-73.9275236887696, 45.4737184885069],\n",
       "       [-73.9265293732015, 45.4741631743875],\n",
       "       [-73.925796243829, 45.4736259485905],\n",
       "       [-73.9248000500235, 45.4721089475954],\n",
       "       [-73.9222818122356, 45.4705794857248],\n",
       "       [-73.922965231979, 45.4696141155523],\n",
       "       [-73.9226524205748, 45.4688324194201],\n",
       "       [-73.9212201297683, 45.4688467094977],\n",
       "       [-73.9216571330551, 45.4674143796986],\n",
       "       [-73.921550552687, 45.4668568126713],\n",
       "       [-73.9195312526606, 45.4635798400557],\n",
       "       [-73.9178201887521, 45.4621912996059],\n",
       "       [-73.9148789978459, 45.4619144443475],\n",
       "       [-73.9126660861929, 45.4603383473932],\n",
       "       [-73.91114607451, 45.4605598133876],\n",
       "       [-73.9103819033438, 45.4609764429342],\n",
       "       [-73.9100549453511, 45.4617335639878],\n",
       "       [-73.9082146339227, 45.4617969415567],\n",
       "       [-73.9075688375165, 45.4609865148744],\n",
       "       [-73.9058658349117, 45.4609563776965],\n",
       "       [-73.9051876779266, 45.4605991035458],\n",
       "       [-73.9038323289561, 45.4606219020727],\n",
       "       [-73.9020889859002, 45.4618068799119],\n",
       "       [-73.9017130574761, 45.4628880358479],\n",
       "       [-73.9003152261538, 45.4623259838994],\n",
       "       [-73.899767819995, 45.462669876326],\n",
       "       [-73.8976775036577, 45.4654577069673],\n",
       "       [-73.8962483592814, 45.4658946426154],\n",
       "       [-73.8957916608649, 45.4664270982997],\n",
       "       [-73.8945384007686, 45.4664224345534],\n",
       "       [-73.8936214304942, 45.4669655597388],\n",
       "       [-73.8921732932478, 45.4665295724673],\n",
       "       [-73.8916127412336, 45.4668464725107],\n",
       "       [-73.8913265706041, 45.4679902821467],\n",
       "       [-73.8900901349216, 45.4685793797869],\n",
       "       [-73.8888217813327, 45.4686035027193],\n",
       "       [-73.8860812311329, 45.4695648402732],\n",
       "       [-73.8847899934361, 45.4696321930072],\n",
       "       [-73.8828866868638, 45.4718612485547],\n",
       "       [-73.8823610038276, 45.4716560245278],\n",
       "       [-73.8811747849457, 45.4721459539451],\n",
       "       [-73.8806356311152, 45.471850773116],\n",
       "       [-73.8795251463835, 45.4721694456373],\n",
       "       [-73.8782862116718, 45.4705088548296],\n",
       "       [-73.8733213850942, 45.4725990666647],\n",
       "       [-73.871209821762, 45.4733162451191],\n",
       "       [-73.8728715855598, 45.4756017517064],\n",
       "       [-73.8650419471552, 45.4821657726431],\n",
       "       [-73.8624629228902, 45.4840039194648],\n",
       "       [-73.8613316931676, 45.4851413285652],\n",
       "       [-73.8587614558506, 45.4873090890375],\n",
       "       [-73.8598077012489, 45.4888850004049],\n",
       "       [-73.8592579904622, 45.4889452259737],\n",
       "       [-73.8578565654384, 45.4898674655412],\n",
       "       [-73.8569952719841, 45.4912379676731],\n",
       "       [-73.8545791042202, 45.4935760467931],\n",
       "       [-73.8531479621556, 45.4959201221199],\n",
       "       [-73.8544902230577, 45.4977606434992],\n",
       "       [-73.8548560501467, 45.4989743240793],\n",
       "       [-73.8555516665994, 45.4997100150003],\n",
       "       [-73.8578400891255, 45.4995048836594],\n",
       "       [-73.8585024501129, 45.4997829560785],\n",
       "       [-73.8591539006867, 45.5007425753891],\n",
       "       [-73.8588895885858, 45.501436262307],\n",
       "       [-73.8580145103082, 45.5020213087385],\n",
       "       [-73.8578513100126, 45.5031672055572],\n",
       "       [-73.85712842707, 45.5040318263201],\n",
       "       [-73.8570843291783, 45.505329258001],\n",
       "       [-73.8555961994083, 45.5077731597575],\n",
       "       [-73.8547842282295, 45.5078848003326],\n",
       "       [-73.8541507320505, 45.5071387755787],\n",
       "       [-73.8554973469563, 45.506068266442],\n",
       "       [-73.8558121436329, 45.5017030001578],\n",
       "       [-73.853113099403, 45.4984292547447],\n",
       "       [-73.8503699985263, 45.4936842455575],\n",
       "       [-73.8461670237813, 45.488985999861]]],\n",
       "     [[[-73.8565163230435, 45.5065638456799],\n",
       "       [-73.8570490281172, 45.5058063309797],\n",
       "       [-73.8583878278331, 45.5070438611748],\n",
       "       [-73.8567674874305, 45.5078408713637],\n",
       "       [-73.8559107285537, 45.5079515359158],\n",
       "       [-73.8565163230435, 45.5065638456799]]]]},\n",
       "   'properties': {'district': '102-Cap-Saint-Jacques'},\n",
       "   'id': '102'},\n",
       "  {'type': 'Feature',\n",
       "   'geometry': {'type': 'Polygon',\n",
       "    'coordinates': [[[-73.5792047395127, 45.5280064404383],\n",
       "      [-73.581506814336, 45.5255527662198],\n",
       "      [-73.5893088980696, 45.5167596569974],\n",
       "      [-73.5902604532774, 45.5157813641729],\n",
       "      [-73.5966746401772, 45.5186407402299],\n",
       "      [-73.6108850612038, 45.5249602486287],\n",
       "      [-73.6124143323658, 45.525647330045],\n",
       "      [-73.6088433154766, 45.5276253868022],\n",
       "      [-73.6061835826899, 45.5283650193777],\n",
       "      [-73.6023604559616, 45.5284000664849],\n",
       "      [-73.5992862274652, 45.5288774305058],\n",
       "      [-73.5962116234987, 45.5301487739359],\n",
       "      [-73.5947764680621, 45.5311589735711],\n",
       "      [-73.5863837119054, 45.5382742004886],\n",
       "      [-73.5871054297936, 45.5372069067238],\n",
       "      [-73.5899093482658, 45.5348049045751],\n",
       "      [-73.5847595146863, 45.5324079438366],\n",
       "      [-73.5859421309178, 45.5310790335786],\n",
       "      [-73.5792047395127, 45.5280064404383]]]},\n",
       "   'properties': {'district': '111-Mile-End'},\n",
       "   'id': '111'},\n",
       "  {'type': 'Feature',\n",
       "   'geometry': {'type': 'Polygon',\n",
       "    'coordinates': [[[-73.5655614721314, 45.5213643879447],\n",
       "      [-73.5740572626836, 45.5252747203744],\n",
       "      [-73.5745923823609, 45.5259374612073],\n",
       "      [-73.5792047395127, 45.5280064404383],\n",
       "      [-73.5859421309178, 45.5310790335786],\n",
       "      [-73.5847595146863, 45.5324079438366],\n",
       "      [-73.5899093482658, 45.5348049045751],\n",
       "      [-73.5871054297936, 45.5372069067238],\n",
       "      [-73.5863837119054, 45.5382742004886],\n",
       "      [-73.5862704189394, 45.5383757481773],\n",
       "      [-73.5838512015266, 45.5400861300747],\n",
       "      [-73.5810607519196, 45.5411249464667],\n",
       "      [-73.5786195284797, 45.5415422864787],\n",
       "      [-73.5764926058406, 45.5415739191208],\n",
       "      [-73.5735822926994, 45.5413565189643],\n",
       "      [-73.5592280432661, 45.5399028690768],\n",
       "      [-73.5613401818778, 45.5359226324552],\n",
       "      [-73.5641429566138, 45.5273492053093],\n",
       "      [-73.5652383566418, 45.5238165260966],\n",
       "      [-73.5655614721314, 45.5213643879447]]]},\n",
       "   'properties': {'district': '112-De Lorimier'},\n",
       "   'id': '112'},\n",
       "  {'type': 'Feature',\n",
       "   'geometry': {'type': 'Polygon',\n",
       "    'coordinates': [[[-73.5734800018833, 45.5049709717948],\n",
       "      [-73.580113792401, 45.5081921313855],\n",
       "      [-73.5785542203746, 45.5104511791594],\n",
       "      [-73.5786781018666, 45.5117608495828],\n",
       "      [-73.582430798457, 45.5136019767056],\n",
       "      [-73.5893088980696, 45.5167596569974],\n",
       "      [-73.581506814336, 45.5255527662198],\n",
       "      [-73.5792047395127, 45.5280064404383],\n",
       "      [-73.5745923823609, 45.5259374612073],\n",
       "      [-73.5740572626836, 45.5252747203744],\n",
       "      [-73.5655614721314, 45.5213643879447],\n",
       "      [-73.5655904084691, 45.5210639273018],\n",
       "      [-73.571279665339, 45.5083636436696],\n",
       "      [-73.5729588302122, 45.5055494196855],\n",
       "      [-73.5734800018833, 45.5049709717948]]]},\n",
       "   'properties': {'district': '113-Jeanne-Mance'},\n",
       "   'id': '113'},\n",
       "  {'type': 'Feature',\n",
       "   'geometry': {'type': 'Polygon',\n",
       "    'coordinates': [[[-73.4868984819315, 45.6668163755988],\n",
       "      [-73.4909285596849, 45.6670796662378],\n",
       "      [-73.4943692754526, 45.6676107175883],\n",
       "      [-73.5052117189194, 45.6694506091685],\n",
       "      [-73.5066485322791, 45.66770609928],\n",
       "      [-73.5086661140009, 45.6660376032574],\n",
       "      [-73.514071369879, 45.663410883372],\n",
       "      [-73.5226608995211, 45.6590189476592],\n",
       "      [-73.5409160537594, 45.6501644528664],\n",
       "      [-73.5441930168941, 45.6487914226698],\n",
       "      [-73.544738106063, 45.6482242645147],\n",
       "      [-73.5524611738286, 45.6444112188767],\n",
       "      [-73.5555002141554, 45.6426177060947],\n",
       "      [-73.5652962272313, 45.6362003202316],\n",
       "      [-73.5713393674169, 45.6418436992789],\n",
       "      [-73.5731131247475, 45.6438386857375],\n",
       "      [-73.5764976851296, 45.641270099185],\n",
       "      [-73.5866413495341, 45.6508496604014],\n",
       "      [-73.5898582112291, 45.6537703909976],\n",
       "      [-73.5838459058531, 45.6567113166436],\n",
       "      [-73.5767899673498, 45.6602649640823],\n",
       "      [-73.5719339731853, 45.6626357744781],\n",
       "      [-73.539067309963, 45.678979317943],\n",
       "      [-73.5369552091684, 45.6802676902485],\n",
       "      [-73.5352474248791, 45.6816148433586],\n",
       "      [-73.532629555028, 45.6840504841943],\n",
       "      [-73.5308427113654, 45.6858730099174],\n",
       "      [-73.5292925000853, 45.6880318303705],\n",
       "      [-73.5284527492428, 45.6897324941851],\n",
       "      [-73.5262321777264, 45.695068712866],\n",
       "      [-73.5248704855113, 45.696745979989],\n",
       "      [-73.5234829925507, 45.6977084455985],\n",
       "      [-73.521300714461, 45.6988491350421],\n",
       "      [-73.518072949079, 45.7000844428825],\n",
       "      [-73.5135468623237, 45.7013546459954],\n",
       "      [-73.5051625304534, 45.7033317792418],\n",
       "      [-73.498947493721, 45.7045252458975],\n",
       "      [-73.4954757567513, 45.7049490135942],\n",
       "      [-73.4932103740932, 45.7047553331643],\n",
       "      [-73.4921323200277, 45.7041126467728],\n",
       "      [-73.4909405407531, 45.7027073672294],\n",
       "      [-73.4900498047694, 45.7021797732479],\n",
       "      [-73.4887664394737, 45.7021177409386],\n",
       "      [-73.4856763927507, 45.7030727269477],\n",
       "      [-73.4829186491029, 45.7036523330194],\n",
       "      [-73.4803835661343, 45.7046724098692],\n",
       "      [-73.4783219605948, 45.7052709191606],\n",
       "      [-73.4766385432002, 45.7054709950549],\n",
       "      [-73.4751651064534, 45.7048699119281],\n",
       "      [-73.4745824263264, 45.7033866618514],\n",
       "      [-73.4749382311583, 45.7024425674455],\n",
       "      [-73.4763824131897, 45.7006700752533],\n",
       "      [-73.4784777403736, 45.697652858064],\n",
       "      [-73.4790042639298, 45.6961901697848],\n",
       "      [-73.4792384579055, 45.6941308824961],\n",
       "      [-73.4796140010016, 45.6929943766718],\n",
       "      [-73.4803640884928, 45.6919258774639],\n",
       "      [-73.483643872129, 45.6885943328445],\n",
       "      [-73.4851764024197, 45.6867120396751],\n",
       "      [-73.4857156558079, 45.6857399456762],\n",
       "      [-73.4866448398145, 45.682296765324],\n",
       "      [-73.486914072058, 45.6801843677801],\n",
       "      [-73.4872497030629, 45.6755976940944],\n",
       "      [-73.4873520249609, 45.6730343323445],\n",
       "      [-73.4868984819315, 45.6668163755988]]]},\n",
       "   'properties': {'district': '121-La Pointe-aux-Prairies'},\n",
       "   'id': '121'},\n",
       "  {'type': 'Feature',\n",
       "   'geometry': {'type': 'Polygon',\n",
       "    'coordinates': [[[-73.544738106063, 45.6482242645147],\n",
       "      [-73.5441930168941, 45.6487914226698],\n",
       "      [-73.5409160537594, 45.6501644528664],\n",
       "      [-73.5226608995211, 45.6590189476592],\n",
       "      [-73.514071369879, 45.663410883372],\n",
       "      [-73.5086661140009, 45.6660376032574],\n",
       "      [-73.5066485322791, 45.66770609928],\n",
       "      [-73.5052117189194, 45.6694506091685],\n",
       "      [-73.4943692754526, 45.6676107175883],\n",
       "      [-73.4909285596849, 45.6670796662378],\n",
       "      [-73.4868984819315, 45.6668163755988],\n",
       "      [-73.4865306288933, 45.6640279113745],\n",
       "      [-73.486175917176, 45.6627454155844],\n",
       "      [-73.4851106606772, 45.6602901608252],\n",
       "      [-73.4846809037125, 45.6588306383762],\n",
       "      [-73.4832382097687, 45.6554954757732],\n",
       "      [-73.4821383232798, 45.6536179248291],\n",
       "      [-73.4787636354681, 45.6491486823782],\n",
       "      [-73.4780610185114, 45.6476510142289],\n",
       "      [-73.4774799728854, 45.6454905837529],\n",
       "      [-73.4872757738587, 45.6469779321365],\n",
       "      [-73.4879707187836, 45.6443924831145],\n",
       "      [-73.4878427542795, 45.6430795950772],\n",
       "      [-73.4879726577335, 45.6412664739826],\n",
       "      [-73.4872874543207, 45.6393119798027],\n",
       "      [-73.489854112659, 45.6368295683212],\n",
       "      [-73.4903943370184, 45.6355618234685],\n",
       "      [-73.4916720124889, 45.6345001210246],\n",
       "      [-73.4910397713222, 45.6338422392127],\n",
       "      [-73.491927215926, 45.6328678840833],\n",
       "      [-73.5098459767589, 45.6358225966319],\n",
       "      [-73.5202077969535, 45.6374981237725],\n",
       "      [-73.5214492864595, 45.6377899174742],\n",
       "      [-73.5431729267196, 45.6475814296488],\n",
       "      [-73.544738106063, 45.6482242645147]]]},\n",
       "   'properties': {'district': '122-Pointe-aux-Trembles'},\n",
       "   'id': '122'},\n",
       "  {'type': 'Feature',\n",
       "   'geometry': {'type': 'Polygon',\n",
       "    'coordinates': [[[-73.5652962272313, 45.6362003202316],\n",
       "      [-73.5683379250343, 45.6341956640577],\n",
       "      [-73.5740068269183, 45.6304929149516],\n",
       "      [-73.5954830428467, 45.6158123480652],\n",
       "      [-73.5984976040034, 45.6140840514745],\n",
       "      [-73.6023660828945, 45.6125718329314],\n",
       "      [-73.6071490341973, 45.6170493269392],\n",
       "      [-73.6168081007299, 45.6262083345707],\n",
       "      [-73.6206953088035, 45.6298453145986],\n",
       "      [-73.6241232556812, 45.6330522649771],\n",
       "      [-73.5943845703787, 45.6513674636385],\n",
       "      [-73.5898582112291, 45.6537703909976],\n",
       "      [-73.5866413495341, 45.6508496604014],\n",
       "      [-73.5764976851296, 45.641270099185],\n",
       "      [-73.5731131247475, 45.6438386857375],\n",
       "      [-73.5713393674169, 45.6418436992789],\n",
       "      [-73.5652962272313, 45.6362003202316]]]},\n",
       "   'properties': {'district': '123-Rivière-des-Prairies'},\n",
       "   'id': '123'},\n",
       "  {'type': 'Feature',\n",
       "   'geometry': {'type': 'Polygon',\n",
       "    'coordinates': [[[-73.5864681894816, 45.538468592349],\n",
       "      [-73.5862704189394, 45.5383757481773],\n",
       "      [-73.5863837119054, 45.5382742004886],\n",
       "      [-73.5947764680621, 45.5311589735711],\n",
       "      [-73.5962116234987, 45.5301487739359],\n",
       "      [-73.5992862274652, 45.5288774305058],\n",
       "      [-73.6023604559616, 45.5284000664849],\n",
       "      [-73.6061835826899, 45.5283650193777],\n",
       "      [-73.6088433154766, 45.5276253868022],\n",
       "      [-73.6124143323658, 45.525647330045],\n",
       "      [-73.6170925681517, 45.5277209056734],\n",
       "      [-73.6170629786343, 45.5290836882431],\n",
       "      [-73.6174856875378, 45.5297416402976],\n",
       "      [-73.6190955864224, 45.5306548374863],\n",
       "      [-73.6215351178101, 45.5311083503899],\n",
       "      [-73.6182756954315, 45.5346855542873],\n",
       "      [-73.6168611349556, 45.5357046144078],\n",
       "      [-73.6144250141163, 45.5383032859687],\n",
       "      [-73.6123252903368, 45.5421333051385],\n",
       "      [-73.6086846729618, 45.5461409843801],\n",
       "      [-73.6070387029669, 45.5479557550382],\n",
       "      [-73.6035398110948, 45.5463469119155],\n",
       "      [-73.5864681894816, 45.538468592349]]]},\n",
       "   'properties': {'district': '131-Saint-Édouard'},\n",
       "   'id': '131'},\n",
       "  {'type': 'Feature',\n",
       "   'geometry': {'type': 'Polygon',\n",
       "    'coordinates': [[[-73.5864681894816, 45.538468592349],\n",
       "      [-73.6035398110948, 45.5463469119155],\n",
       "      [-73.6019471163738, 45.5481178990012],\n",
       "      [-73.5975914187124, 45.553207322408],\n",
       "      [-73.5910006798707, 45.5607570868859],\n",
       "      [-73.5774327397367, 45.5565544731088],\n",
       "      [-73.5794549693978, 45.5542318437368],\n",
       "      [-73.5755593123915, 45.5530615312237],\n",
       "      [-73.5800875168702, 45.5456157629748],\n",
       "      [-73.5813297515111, 45.5438139922411],\n",
       "      [-73.5837910525824, 45.541331668411],\n",
       "      [-73.5864681894816, 45.538468592349]]]},\n",
       "   'properties': {'district': '132-Étienne-Desmarteau'},\n",
       "   'id': '132'},\n",
       "  {'type': 'Feature',\n",
       "   'geometry': {'type': 'Polygon',\n",
       "    'coordinates': [[[-73.5592280432661, 45.5399028690768],\n",
       "      [-73.5735822926994, 45.5413565189643],\n",
       "      [-73.5764926058406, 45.5415739191208],\n",
       "      [-73.5786195284797, 45.5415422864787],\n",
       "      [-73.5810607519196, 45.5411249464667],\n",
       "      [-73.5838512015266, 45.5400861300747],\n",
       "      [-73.5862704189394, 45.5383757481773],\n",
       "      [-73.5864681894816, 45.538468592349],\n",
       "      [-73.5837910525824, 45.541331668411],\n",
       "      [-73.5813297515111, 45.5438139922411],\n",
       "      [-73.5800875168702, 45.5456157629748],\n",
       "      [-73.5755593123915, 45.5530615312237],\n",
       "      [-73.5794549693978, 45.5542318437368],\n",
       "      [-73.5774327397367, 45.5565544731088],\n",
       "      [-73.573735635149, 45.5607975285183],\n",
       "      [-73.5588620237975, 45.5560173236498],\n",
       "      [-73.5545655421497, 45.55467023726],\n",
       "      [-73.5552605710227, 45.5474166761255],\n",
       "      [-73.5592280432661, 45.5399028690768]]]},\n",
       "   'properties': {'district': '133-Vieux-Rosemont'},\n",
       "   'id': '133'},\n",
       "  {'type': 'Feature',\n",
       "   'geometry': {'type': 'Polygon',\n",
       "    'coordinates': [[[-73.5694653361432, 45.5816630209033],\n",
       "      [-73.5683754804235, 45.5814045757918],\n",
       "      [-73.5584435150771, 45.578098690279],\n",
       "      [-73.5557298683366, 45.5757065336466],\n",
       "      [-73.5489772535198, 45.5734435433853],\n",
       "      [-73.5544730757919, 45.5652953442798],\n",
       "      [-73.5546496932451, 45.5649641797921],\n",
       "      [-73.5542787320438, 45.5568764086233],\n",
       "      [-73.5545655421497, 45.55467023726],\n",
       "      [-73.5588620237975, 45.5560173236498],\n",
       "      [-73.573735635149, 45.5607975285183],\n",
       "      [-73.5774327397367, 45.5565544731088],\n",
       "      [-73.5910006798707, 45.5607570868859],\n",
       "      [-73.5863094536503, 45.5661499995185],\n",
       "      [-73.5871520545273, 45.566412729231],\n",
       "      [-73.584731908233, 45.5691066724291],\n",
       "      [-73.5772385119147, 45.5776818920023],\n",
       "      [-73.578130955202, 45.5780689341974],\n",
       "      [-73.5752604702031, 45.5805388907561],\n",
       "      [-73.5739953109801, 45.5819266091566],\n",
       "      [-73.5709328233077, 45.5809046758787],\n",
       "      [-73.5705509760525, 45.5814521659595],\n",
       "      [-73.5694653361432, 45.5816630209033]]]},\n",
       "   'properties': {'district': '134-Marie-Victorin'},\n",
       "   'id': '134'},\n",
       "  {'type': 'Feature',\n",
       "   'geometry': {'type': 'Polygon',\n",
       "    'coordinates': [[[-73.7091218538247, 45.5230954877394],\n",
       "      [-73.6918870159802, 45.5123542857052],\n",
       "      [-73.6881524418874, 45.5100541386763],\n",
       "      [-73.6827840991507, 45.5143258168654],\n",
       "      [-73.6744134053365, 45.5090285090174],\n",
       "      [-73.6696337564668, 45.5063911079337],\n",
       "      [-73.6673976326861, 45.5049604588181],\n",
       "      [-73.6660099573454, 45.5044347648104],\n",
       "      [-73.6644157884018, 45.5050492992242],\n",
       "      [-73.6646042365099, 45.504734675849],\n",
       "      [-73.6681641565442, 45.501660999668],\n",
       "      [-73.67484741122, 45.4963374151867],\n",
       "      [-73.680502634204, 45.4920408059609],\n",
       "      [-73.6825483439594, 45.4907732405381],\n",
       "      [-73.6860100016197, 45.4896024241141],\n",
       "      [-73.677264286648, 45.4836591822082],\n",
       "      [-73.6776271543493, 45.4823345919293],\n",
       "      [-73.6827804258142, 45.4635658825978],\n",
       "      [-73.6933043566279, 45.4703396575946],\n",
       "      [-73.6947785817616, 45.4645178045181],\n",
       "      [-73.69619836572, 45.4654974169452],\n",
       "      [-73.7047665432935, 45.4712980390786],\n",
       "      [-73.7080097103994, 45.47334246671],\n",
       "      [-73.7221390583544, 45.4826358450705],\n",
       "      [-73.7241021941398, 45.4814064808358],\n",
       "      [-73.7315756591541, 45.4757155112906],\n",
       "      [-73.7423991292426, 45.4671531227456],\n",
       "      [-73.74247528623, 45.4670360365519],\n",
       "      [-73.7505933570667, 45.4606744381013],\n",
       "      [-73.7626492898165, 45.4684579890562],\n",
       "      [-73.7623181805669, 45.4687557278511],\n",
       "      [-73.7684606113614, 45.4749503791392],\n",
       "      [-73.7661156464615, 45.4767286467613],\n",
       "      [-73.7690019457786, 45.4785035754768],\n",
       "      [-73.7741729540726, 45.4818386741628],\n",
       "      [-73.7681746120908, 45.4847594283289],\n",
       "      [-73.7678463791609, 45.485678039566],\n",
       "      [-73.7664813956616, 45.486482172257],\n",
       "      [-73.7666703097771, 45.4885693048636],\n",
       "      [-73.7671205072924, 45.4890902137182],\n",
       "      [-73.7645934137213, 45.4903739088715],\n",
       "      [-73.7681822983003, 45.4944507802049],\n",
       "      [-73.767927191601, 45.4946223655038],\n",
       "      [-73.7708534417468, 45.4965141396676],\n",
       "      [-73.7735738316828, 45.4981363521851],\n",
       "      [-73.7716579558132, 45.4991257181769],\n",
       "      [-73.7738796981111, 45.5005112554049],\n",
       "      [-73.770851931212, 45.5015263075263],\n",
       "      [-73.7725018897261, 45.5025715611262],\n",
       "      [-73.7709616412032, 45.5034073001873],\n",
       "      [-73.7692002551043, 45.5040137486001],\n",
       "      [-73.7671979733428, 45.5027497284985],\n",
       "      [-73.7653841918245, 45.5034648112556],\n",
       "      [-73.764601206777, 45.5029446682134],\n",
       "      [-73.7638615520544, 45.5034953365559],\n",
       "      [-73.7609994664832, 45.5016752336666],\n",
       "      [-73.7594306007504, 45.5027766325504],\n",
       "      [-73.7582371682807, 45.5020414841587],\n",
       "      [-73.756652358581, 45.5024589334263],\n",
       "      [-73.7547114610262, 45.5033812068779],\n",
       "      [-73.7530750881715, 45.5037537247243],\n",
       "      [-73.7516832079437, 45.5044227485347],\n",
       "      [-73.7550630650544, 45.5065238038199],\n",
       "      [-73.7350991221023, 45.5137867482303],\n",
       "      [-73.7285097856203, 45.5160943522463],\n",
       "      [-73.7358987648866, 45.5207291683311],\n",
       "      [-73.7317546325275, 45.5236815365784],\n",
       "      [-73.7280602953464, 45.5213554616816],\n",
       "      [-73.7217031155859, 45.5267447688191],\n",
       "      [-73.7185119695016, 45.5247508136954],\n",
       "      [-73.7172924358234, 45.5256928911099],\n",
       "      [-73.7145584630039, 45.5239315629596],\n",
       "      [-73.7131122096208, 45.5251637887575],\n",
       "      [-73.7112612170074, 45.5243023856458],\n",
       "      [-73.7091218538247, 45.5230954877394]]]},\n",
       "   'properties': {'district': '141-Côte-de-Liesse'},\n",
       "   'id': '141'},\n",
       "  {'type': 'Feature',\n",
       "   'geometry': {'type': 'Polygon',\n",
       "    'coordinates': [[[-73.6510270564502, 45.5263874543882],\n",
       "      [-73.6529551695687, 45.5229726150982],\n",
       "      [-73.6580588118226, 45.5152954959574],\n",
       "      [-73.6620316014577, 45.509044066038],\n",
       "      [-73.6644157884018, 45.5050492992242],\n",
       "      [-73.6660099573454, 45.5044347648104],\n",
       "      [-73.6673976326861, 45.5049604588181],\n",
       "      [-73.6696337564668, 45.5063911079337],\n",
       "      [-73.6744134053365, 45.5090285090174],\n",
       "      [-73.6827840991507, 45.5143258168654],\n",
       "      [-73.6881524418874, 45.5100541386763],\n",
       "      [-73.6918870159802, 45.5123542857052],\n",
       "      [-73.7091218538247, 45.5230954877394],\n",
       "      [-73.6963296087078, 45.5276805484038],\n",
       "      [-73.6939612003867, 45.528347826243],\n",
       "      [-73.6897803429098, 45.5288476157777],\n",
       "      [-73.6870922504792, 45.5286619976995],\n",
       "      [-73.685195685208, 45.5301022578388],\n",
       "      [-73.683124268159, 45.5305991300384],\n",
       "      [-73.6764129283619, 45.5321264506516],\n",
       "      [-73.6747555535799, 45.5323081056009],\n",
       "      [-73.6726124365382, 45.5322997327559],\n",
       "      [-73.6698852350516, 45.5318835785726],\n",
       "      [-73.6555330494037, 45.5277342274232],\n",
       "      [-73.6510270564502, 45.5263874543882]]]},\n",
       "   'properties': {'district': '142-Norman-McLaren'},\n",
       "   'id': '142'},\n",
       "  {'type': 'Feature',\n",
       "   'geometry': {'type': 'Polygon',\n",
       "    'coordinates': [[[-73.5696609688417, 45.5965806032278],\n",
       "      [-73.5687432258054, 45.5949521683749],\n",
       "      [-73.5690474086577, 45.5937353194892],\n",
       "      [-73.5686767639537, 45.5922969983003],\n",
       "      [-73.5663609324088, 45.5883396268265],\n",
       "      [-73.5642246834943, 45.5872483268508],\n",
       "      [-73.5642198577817, 45.5854079588427],\n",
       "      [-73.563949176176, 45.5849798671748],\n",
       "      [-73.566054883333, 45.5843176844033],\n",
       "      [-73.5648413846768, 45.5830623920281],\n",
       "      [-73.5683754804235, 45.5814045757918],\n",
       "      [-73.5694653361432, 45.5816630209033],\n",
       "      [-73.5732723109658, 45.5829252463303],\n",
       "      [-73.5742252628096, 45.5830975713343],\n",
       "      [-73.5790395581623, 45.5832311484519],\n",
       "      [-73.5817361693186, 45.5828435232896],\n",
       "      [-73.5850508708636, 45.5817485572606],\n",
       "      [-73.5872765077617, 45.5817600646972],\n",
       "      [-73.5896208961855, 45.5825234015516],\n",
       "      [-73.5927968176961, 45.5840511668496],\n",
       "      [-73.5944959844225, 45.585037876555],\n",
       "      [-73.5961671053026, 45.5863788582573],\n",
       "      [-73.5985181690096, 45.5893118445279],\n",
       "      [-73.6020871279873, 45.5931683856944],\n",
       "      [-73.6032485083726, 45.5942192930034],\n",
       "      [-73.6086990780645, 45.5965789895409],\n",
       "      [-73.6101417757025, 45.5974474797099],\n",
       "      [-73.6116347298964, 45.5986698542549],\n",
       "      [-73.6130354491493, 45.6003781128039],\n",
       "      [-73.61467650443, 45.601820884038],\n",
       "      [-73.6125635803426, 45.604373796832],\n",
       "      [-73.6092890313816, 45.6081470965116],\n",
       "      [-73.6079197060538, 45.6094530924621],\n",
       "      [-73.6062298901187, 45.610759685103],\n",
       "      [-73.6048043091085, 45.6094292879636],\n",
       "      [-73.6035616092243, 45.6101078733853],\n",
       "      [-73.6041139394664, 45.6106174089674],\n",
       "      [-73.6028907661658, 45.6112216102358],\n",
       "      [-73.6013378366857, 45.6104025414741],\n",
       "      [-73.5971103983983, 45.6085989887758],\n",
       "      [-73.5889961999073, 45.6050220349527],\n",
       "      [-73.5771288919308, 45.599852413767],\n",
       "      [-73.576232424293, 45.5992577290381],\n",
       "      [-73.5745938220503, 45.5986717630315],\n",
       "      [-73.5726733802096, 45.5977479911912],\n",
       "      [-73.5696609688417, 45.5965806032278]]]},\n",
       "   'properties': {'district': '151-Saint-Léonard-Est'},\n",
       "   'id': '151'},\n",
       "  {'type': 'Feature',\n",
       "   'geometry': {'type': 'Polygon',\n",
       "    'coordinates': [[[-73.5694653361432, 45.5816630209033],\n",
       "      [-73.5705509760525, 45.5814521659595],\n",
       "      [-73.5709328233077, 45.5809046758787],\n",
       "      [-73.5739953109801, 45.5819266091566],\n",
       "      [-73.5752604702031, 45.5805388907561],\n",
       "      [-73.578130955202, 45.5780689341974],\n",
       "      [-73.5772385119147, 45.5776818920023],\n",
       "      [-73.584731908233, 45.5691066724291],\n",
       "      [-73.5871520545273, 45.566412729231],\n",
       "      [-73.5874046777632, 45.5664890958155],\n",
       "      [-73.5986381445569, 45.5714628841478],\n",
       "      [-73.6016424297946, 45.5727835347079],\n",
       "      [-73.6005459884454, 45.5740149891614],\n",
       "      [-73.6023753660902, 45.5742891313383],\n",
       "      [-73.6043589520305, 45.5755705351656],\n",
       "      [-73.6113135304111, 45.5785547523195],\n",
       "      [-73.6148320474836, 45.580191303428],\n",
       "      [-73.6208358233192, 45.5828408672289],\n",
       "      [-73.623269111324, 45.5839925896586],\n",
       "      [-73.6242513055513, 45.5846473290482],\n",
       "      [-73.6267569494518, 45.5854624669655],\n",
       "      [-73.6280749026379, 45.5838243220039],\n",
       "      [-73.6288186186035, 45.5832571469721],\n",
       "      [-73.6296215435427, 45.5838130726522],\n",
       "      [-73.6202427208594, 45.5951205335532],\n",
       "      [-73.61467650443, 45.601820884038],\n",
       "      [-73.6130354491493, 45.6003781128039],\n",
       "      [-73.6116347298964, 45.5986698542549],\n",
       "      [-73.6101417757025, 45.5974474797099],\n",
       "      [-73.6086990780645, 45.5965789895409],\n",
       "      [-73.6032485083726, 45.5942192930034],\n",
       "      [-73.6020871279873, 45.5931683856944],\n",
       "      [-73.5985181690096, 45.5893118445279],\n",
       "      [-73.5961671053026, 45.5863788582573],\n",
       "      [-73.5944959844225, 45.585037876555],\n",
       "      [-73.5927968176961, 45.5840511668496],\n",
       "      [-73.5896208961855, 45.5825234015516],\n",
       "      [-73.5872765077617, 45.5817600646972],\n",
       "      [-73.5850508708636, 45.5817485572606],\n",
       "      [-73.5817361693186, 45.5828435232896],\n",
       "      [-73.5790395581623, 45.5832311484519],\n",
       "      [-73.5742252628096, 45.5830975713343],\n",
       "      [-73.5732723109658, 45.5829252463303],\n",
       "      [-73.5694653361432, 45.5816630209033]]]},\n",
       "   'properties': {'district': '152-Saint-Léonard-Ouest'},\n",
       "   'id': '152'},\n",
       "  {'type': 'Feature',\n",
       "   'geometry': {'type': 'Polygon',\n",
       "    'coordinates': [[[-73.5390758626817, 45.4883382585102],\n",
       "      [-73.5377390087046, 45.4867781311819],\n",
       "      [-73.5371875080419, 45.4847716425103],\n",
       "      [-73.5390896331107, 45.4789579782257],\n",
       "      [-73.5400605004001, 45.4771849523131],\n",
       "      [-73.5409045352268, 45.4770676622637],\n",
       "      [-73.544790989561, 45.4746546504853],\n",
       "      [-73.547897885736, 45.4732945786535],\n",
       "      [-73.5519632604747, 45.4713851205092],\n",
       "      [-73.5535995299322, 45.4704935184097],\n",
       "      [-73.5561183847095, 45.4699434381887],\n",
       "      [-73.5571517699907, 45.4699658746605],\n",
       "      [-73.5630845502664, 45.4721519332886],\n",
       "      [-73.5629773154921, 45.472291406797],\n",
       "      [-73.5680238353449, 45.4742185784751],\n",
       "      [-73.5698754985218, 45.474526598925],\n",
       "      [-73.5723445217071, 45.4741023764959],\n",
       "      [-73.5731337395658, 45.4754020852012],\n",
       "      [-73.5751431743146, 45.4755655583636],\n",
       "      [-73.5776045371727, 45.4761591293053],\n",
       "      [-73.5787522413781, 45.4747754151352],\n",
       "      [-73.5814009760351, 45.4720006793341],\n",
       "      [-73.5831499688592, 45.4704494618721],\n",
       "      [-73.586192167734, 45.4685776819367],\n",
       "      [-73.5902980753151, 45.4669303074751],\n",
       "      [-73.593418397905, 45.4661730419256],\n",
       "      [-73.5952982354664, 45.4653094409894],\n",
       "      [-73.5969113989909, 45.4662290782584],\n",
       "      [-73.6006750017194, 45.4693265503939],\n",
       "      [-73.6015380888098, 45.4698449656495],\n",
       "      [-73.5995923966142, 45.4714885118876],\n",
       "      [-73.5966486659517, 45.4732210790839],\n",
       "      [-73.5951347718664, 45.4764466331536],\n",
       "      [-73.5861251156067, 45.4827228896224],\n",
       "      [-73.5851119123332, 45.4822361060294],\n",
       "      [-73.5842729287511, 45.4830658950147],\n",
       "      [-73.5806528881796, 45.4855782409323],\n",
       "      [-73.5812577295116, 45.4863226865868],\n",
       "      [-73.5788051804801, 45.4879299741214],\n",
       "      [-73.5726247033677, 45.4927252183027],\n",
       "      [-73.5671882558807, 45.4901263927885],\n",
       "      [-73.5653550896585, 45.4921968620631],\n",
       "      [-73.5630011277184, 45.4954107671203],\n",
       "      [-73.561988917097, 45.497173589984],\n",
       "      [-73.5607477815647, 45.4979125426916],\n",
       "      [-73.5594748545018, 45.4973055470605],\n",
       "      [-73.5559728136711, 45.4959454567625],\n",
       "      [-73.5545777017417, 45.4947339282606],\n",
       "      [-73.5533130105218, 45.4921853756885],\n",
       "      [-73.5524160214136, 45.4912899988865],\n",
       "      [-73.5507109567109, 45.4904150448375],\n",
       "      [-73.5496180493079, 45.4900890295113],\n",
       "      [-73.5411879980439, 45.4884799718781],\n",
       "      [-73.5398824970348, 45.4880751564896],\n",
       "      [-73.5390758626817, 45.4883382585102]]]},\n",
       "   'properties': {'district': '161-Saint-HenriPetite-BourgognePointe-Saint-Charles'},\n",
       "   'id': '161'},\n",
       "  {'type': 'Feature',\n",
       "   'geometry': {'type': 'Polygon',\n",
       "    'coordinates': [[[-73.5803978450664, 45.4607242060317],\n",
       "      [-73.580383848446, 45.45869859258],\n",
       "      [-73.5808415940198, 45.4566805659982],\n",
       "      [-73.5822612868352, 45.4543201865436],\n",
       "      [-73.5841878662571, 45.4525126975338],\n",
       "      [-73.5873026203887, 45.4501968887305],\n",
       "      [-73.5895426922804, 45.4479760865095],\n",
       "      [-73.590317536462, 45.4476444830976],\n",
       "      [-73.5946364116012, 45.4432356001591],\n",
       "      [-73.5993656298056, 45.437522488597],\n",
       "      [-73.5996082895714, 45.4375187309259],\n",
       "      [-73.6118008558715, 45.4394499728596],\n",
       "      [-73.6104503124607, 45.4429793199455],\n",
       "      [-73.6094089858961, 45.4442773154325],\n",
       "      [-73.6052123848584, 45.4479821667775],\n",
       "      [-73.6048092799479, 45.4489130784869],\n",
       "      [-73.6068239912076, 45.4545470690524],\n",
       "      [-73.6136079881888, 45.4576954341346],\n",
       "      [-73.6201147014597, 45.4548257159799],\n",
       "      [-73.622324477466, 45.4535901866228],\n",
       "      [-73.6255515041789, 45.4513172221793],\n",
       "      [-73.6269986444794, 45.4501430927141],\n",
       "      [-73.6288149375869, 45.4482900651074],\n",
       "      [-73.6290926270452, 45.4483946176344],\n",
       "      [-73.6320301276656, 45.4495010416609],\n",
       "      [-73.6351722497066, 45.4507225431116],\n",
       "      [-73.6350181512615, 45.4509158064615],\n",
       "      [-73.6314544395632, 45.4527593013115],\n",
       "      [-73.6262003043123, 45.4574918787775],\n",
       "      [-73.6243236842049, 45.4586553508057],\n",
       "      [-73.6200562870233, 45.4616683026575],\n",
       "      [-73.6182352042185, 45.4622268121902],\n",
       "      [-73.6157015928197, 45.4632907897894],\n",
       "      [-73.6121904900053, 45.4648542087469],\n",
       "      [-73.6116004847967, 45.4647691120724],\n",
       "      [-73.6058459619009, 45.4672881102352],\n",
       "      [-73.6056266168094, 45.4676031109374],\n",
       "      [-73.6031619796725, 45.4691032161751],\n",
       "      [-73.6025897276388, 45.4690525247808],\n",
       "      [-73.6015380888098, 45.4698449656495],\n",
       "      [-73.6006750017194, 45.4693265503939],\n",
       "      [-73.5969113989909, 45.4662290782584],\n",
       "      [-73.5952982354664, 45.4653094409894],\n",
       "      [-73.593418397905, 45.4661730419256],\n",
       "      [-73.5902980753151, 45.4669303074751],\n",
       "      [-73.586192167734, 45.4685776819367],\n",
       "      [-73.5831499688592, 45.4704494618721],\n",
       "      [-73.5814009760351, 45.4720006793341],\n",
       "      [-73.5787522413781, 45.4747754151352],\n",
       "      [-73.5776045371727, 45.4761591293053],\n",
       "      [-73.5751431743146, 45.4755655583636],\n",
       "      [-73.5731337395658, 45.4754020852012],\n",
       "      [-73.5723445217071, 45.4741023764959],\n",
       "      [-73.5717046710668, 45.4728345777635],\n",
       "      [-73.5722263249864, 45.4666080942859],\n",
       "      [-73.5725692397967, 45.4663779997673],\n",
       "      [-73.5760636235492, 45.4665267227639],\n",
       "      [-73.57595438059, 45.467731089093],\n",
       "      [-73.5774466724098, 45.4677934094142],\n",
       "      [-73.5787521792962, 45.467573327191],\n",
       "      [-73.5788688512642, 45.4664809032158],\n",
       "      [-73.5806776025411, 45.4665598624633],\n",
       "      [-73.5810988106852, 45.464472934997],\n",
       "      [-73.5809592544789, 45.4629192039784],\n",
       "      [-73.5803978450664, 45.4607242060317]]]},\n",
       "   'properties': {'district': '162-Saint-PaulÉmard'},\n",
       "   'id': '162'},\n",
       "  {'type': 'Feature',\n",
       "   'geometry': {'type': 'MultiPolygon',\n",
       "    'coordinates': [[[[-73.561675647957, 45.457026812229],\n",
       "       [-73.5636503131163, 45.4570986393357],\n",
       "       [-73.5631589565038, 45.4599505630657],\n",
       "       [-73.5803978450664, 45.4607242060317],\n",
       "       [-73.5809592544789, 45.4629192039784],\n",
       "       [-73.5810988106852, 45.464472934997],\n",
       "       [-73.5806776025411, 45.4665598624633],\n",
       "       [-73.5788688512642, 45.4664809032158],\n",
       "       [-73.5787521792962, 45.467573327191],\n",
       "       [-73.5774466724098, 45.4677934094142],\n",
       "       [-73.57595438059, 45.467731089093],\n",
       "       [-73.5760636235492, 45.4665267227639],\n",
       "       [-73.5725692397967, 45.4663779997673],\n",
       "       [-73.5722263249864, 45.4666080942859],\n",
       "       [-73.5717046710668, 45.4728345777635],\n",
       "       [-73.5723445217071, 45.4741023764959],\n",
       "       [-73.5698754985218, 45.474526598925],\n",
       "       [-73.5680238353449, 45.4742185784751],\n",
       "       [-73.5629773154921, 45.472291406797],\n",
       "       [-73.5630845502664, 45.4721519332886],\n",
       "       [-73.5571517699907, 45.4699658746605],\n",
       "       [-73.5566742286267, 45.4697998242277],\n",
       "       [-73.5564729236705, 45.4697250295537],\n",
       "       [-73.5568919723525, 45.4692509155842],\n",
       "       [-73.5584979993156, 45.4688652320405],\n",
       "       [-73.5594741255912, 45.4680886833354],\n",
       "       [-73.5600314607336, 45.4630762897765],\n",
       "       [-73.5602070432843, 45.4599716856435],\n",
       "       [-73.5604361685249, 45.458927727929],\n",
       "       [-73.561675647957, 45.457026812229]]],\n",
       "     [[[-73.531939269639, 45.4668762388698],\n",
       "       [-73.533282030383, 45.4668218592047],\n",
       "       [-73.5391619813113, 45.4629235420104],\n",
       "       [-73.5399777236207, 45.4591888832885],\n",
       "       [-73.5484320046815, 45.4470555292603],\n",
       "       [-73.5539781715369, 45.4450013623675],\n",
       "       [-73.5598960265295, 45.4441434701074],\n",
       "       [-73.5620234184536, 45.4489835563647],\n",
       "       [-73.5598289224776, 45.4530789952144],\n",
       "       [-73.5597287567806, 45.4550947277761],\n",
       "       [-73.5567932176119, 45.4601984189426],\n",
       "       [-73.5563771935053, 45.4660746682549],\n",
       "       [-73.5556877795518, 45.4672628311292],\n",
       "       [-73.5517365614674, 45.4676966587134],\n",
       "       [-73.5498323828317, 45.4691552202777],\n",
       "       [-73.5458565074551, 45.4710106620399],\n",
       "       [-73.544425597308, 45.472837915256],\n",
       "       [-73.541638672543, 45.4745667491612],\n",
       "       [-73.539337021061, 45.4752874231563],\n",
       "       [-73.5374306118892, 45.4744062177182],\n",
       "       [-73.5344866609104, 45.4708347638261],\n",
       "       [-73.5344988591904, 45.4699079767891],\n",
       "       [-73.5334499941273, 45.4695573443126],\n",
       "       [-73.531939269639, 45.4668762388698]]]]},\n",
       "   'properties': {'district': \"171-ChamplainL'Île-des-Soeurs\"},\n",
       "   'id': '171'},\n",
       "  {'type': 'Feature',\n",
       "   'geometry': {'type': 'Polygon',\n",
       "    'coordinates': [[[-73.5837871545249, 45.4350036826887],\n",
       "      [-73.5993656298056, 45.437522488597],\n",
       "      [-73.5946364116012, 45.4432356001591],\n",
       "      [-73.590317536462, 45.4476444830976],\n",
       "      [-73.5895426922804, 45.4479760865095],\n",
       "      [-73.5873026203887, 45.4501968887305],\n",
       "      [-73.5841878662571, 45.4525126975338],\n",
       "      [-73.5822612868352, 45.4543201865436],\n",
       "      [-73.5808415940198, 45.4566805659982],\n",
       "      [-73.580383848446, 45.45869859258],\n",
       "      [-73.5803978450664, 45.4607242060317],\n",
       "      [-73.5631589565038, 45.4599505630657],\n",
       "      [-73.5636503131163, 45.4570986393357],\n",
       "      [-73.561675647957, 45.457026812229],\n",
       "      [-73.5644316339364, 45.4531214887569],\n",
       "      [-73.5653629828168, 45.4514382552214],\n",
       "      [-73.5666188947215, 45.4498773089445],\n",
       "      [-73.5684785830554, 45.4481879229679],\n",
       "      [-73.5692699550472, 45.4471436069185],\n",
       "      [-73.5705853638418, 45.446107961992],\n",
       "      [-73.5722579304274, 45.444469116852],\n",
       "      [-73.5739182313887, 45.4433612189646],\n",
       "      [-73.5756800507555, 45.4416593600233],\n",
       "      [-73.5779148011138, 45.4400830529182],\n",
       "      [-73.5837871545249, 45.4350036826887]]]},\n",
       "   'properties': {'district': '172-Desmarchais-Crawford'},\n",
       "   'id': '172'},\n",
       "  {'type': 'Feature',\n",
       "   'geometry': {'type': 'Polygon',\n",
       "    'coordinates': [[[-73.5734800018833, 45.5049709717948],\n",
       "      [-73.5674300859224, 45.5019457643141],\n",
       "      [-73.5651563545969, 45.5009257536286],\n",
       "      [-73.5607477815647, 45.4979125426916],\n",
       "      [-73.561988917097, 45.497173589984],\n",
       "      [-73.5630011277184, 45.4954107671203],\n",
       "      [-73.5653550896585, 45.4921968620631],\n",
       "      [-73.5671882558807, 45.4901263927885],\n",
       "      [-73.5726247033677, 45.4927252183027],\n",
       "      [-73.5788051804801, 45.4879299741214],\n",
       "      [-73.5812577295116, 45.4863226865868],\n",
       "      [-73.583103429338, 45.4880924257338],\n",
       "      [-73.5822957867321, 45.4883263628527],\n",
       "      [-73.5956809652028, 45.4926003378767],\n",
       "      [-73.5964675380297, 45.491704867985],\n",
       "      [-73.6012074615523, 45.4937019439569],\n",
       "      [-73.6009266859408, 45.4942697485875],\n",
       "      [-73.6045082688859, 45.4947060857692],\n",
       "      [-73.6068399722065, 45.4952769144878],\n",
       "      [-73.6044775189475, 45.4952226776326],\n",
       "      [-73.6033750499038, 45.4967309718248],\n",
       "      [-73.6009279740317, 45.4988800346583],\n",
       "      [-73.5997960499359, 45.5001439911523],\n",
       "      [-73.5977240363362, 45.5016310280474],\n",
       "      [-73.594737745289, 45.5028667176493],\n",
       "      [-73.5941401789655, 45.5033436344744],\n",
       "      [-73.5956108742759, 45.504064067218],\n",
       "      [-73.591464574106, 45.508070751295],\n",
       "      [-73.594191031848, 45.5097864575692],\n",
       "      [-73.5935088435771, 45.5105257693584],\n",
       "      [-73.5949672180747, 45.5109069459258],\n",
       "      [-73.5969012890154, 45.5117790625741],\n",
       "      [-73.5969405107098, 45.5130415385056],\n",
       "      [-73.598896296438, 45.5131127563816],\n",
       "      [-73.5978614314752, 45.5141637733071],\n",
       "      [-73.5968586638591, 45.5145623065118],\n",
       "      [-73.5918451342772, 45.5144729450241],\n",
       "      [-73.5911992183544, 45.5147110287094],\n",
       "      [-73.5902604532774, 45.5157813641729],\n",
       "      [-73.5893088980696, 45.5167596569974],\n",
       "      [-73.582430798457, 45.5136019767056],\n",
       "      [-73.5786781018666, 45.5117608495828],\n",
       "      [-73.5785542203746, 45.5104511791594],\n",
       "      [-73.580113792401, 45.5081921313855],\n",
       "      [-73.5734800018833, 45.5049709717948]]]},\n",
       "   'properties': {'district': '181-Peter-McGill'},\n",
       "   'id': '181'},\n",
       "  {'type': 'Feature',\n",
       "   'geometry': {'type': 'Polygon',\n",
       "    'coordinates': [[[-73.5448806808084, 45.5191907535652],\n",
       "      [-73.5464379266303, 45.5162854363298],\n",
       "      [-73.5468620115755, 45.513857976795],\n",
       "      [-73.5492190367874, 45.5102959685844],\n",
       "      [-73.5477210054261, 45.5103219824598],\n",
       "      [-73.5469030036515, 45.5117340389128],\n",
       "      [-73.54657799908, 45.5129270270646],\n",
       "      [-73.5456969917881, 45.512357998283],\n",
       "      [-73.5463640090514, 45.5093239803744],\n",
       "      [-73.549695020088, 45.5092129682665],\n",
       "      [-73.550625003396, 45.5079019928894],\n",
       "      [-73.5467100456003, 45.5077980094498],\n",
       "      [-73.5469790182482, 45.5067930379886],\n",
       "      [-73.5514338758453, 45.5065970940784],\n",
       "      [-73.5520469804644, 45.5053720127641],\n",
       "      [-73.5473670408895, 45.5056550070783],\n",
       "      [-73.5477130465639, 45.5046509913685],\n",
       "      [-73.552496564402, 45.5042657932143],\n",
       "      [-73.5528089694944, 45.5031050102093],\n",
       "      [-73.5479779947401, 45.5032960364571],\n",
       "      [-73.5483780292475, 45.5021840045336],\n",
       "      [-73.5528640439438, 45.5019529839854],\n",
       "      [-73.5523299208625, 45.4996958153214],\n",
       "      [-73.5495469612169, 45.4995170102135],\n",
       "      [-73.5501069846685, 45.4916750357777],\n",
       "      [-73.5489559611269, 45.4916509673111],\n",
       "      [-73.5478249505202, 45.4998100412319],\n",
       "      [-73.5461249747178, 45.4997069784511],\n",
       "      [-73.5466960251749, 45.494926043877],\n",
       "      [-73.5457370062228, 45.4948960144495],\n",
       "      [-73.5450679617308, 45.4999819687279],\n",
       "      [-73.5437740015677, 45.5074910365882],\n",
       "      [-73.5427789476457, 45.5078289768043],\n",
       "      [-73.542713028629, 45.5014819775582],\n",
       "      [-73.5425669725168, 45.4977269821455],\n",
       "      [-73.5411679652957, 45.4913989983256],\n",
       "      [-73.5390758626817, 45.4883382585102],\n",
       "      [-73.5398824970348, 45.4880751564896],\n",
       "      [-73.5411879980439, 45.4884799718781],\n",
       "      [-73.5496180493079, 45.4900890295113],\n",
       "      [-73.5507109567109, 45.4904150448375],\n",
       "      [-73.5524160214136, 45.4912899988865],\n",
       "      [-73.5533130105218, 45.4921853756885],\n",
       "      [-73.5545777017417, 45.4947339282606],\n",
       "      [-73.5559728136711, 45.4959454567625],\n",
       "      [-73.5594748545018, 45.4973055470605],\n",
       "      [-73.5607477815647, 45.4979125426916],\n",
       "      [-73.5651563545969, 45.5009257536286],\n",
       "      [-73.5674300859224, 45.5019457643141],\n",
       "      [-73.5734800018833, 45.5049709717948],\n",
       "      [-73.5729588302122, 45.5055494196855],\n",
       "      [-73.571279665339, 45.5083636436696],\n",
       "      [-73.5655904084691, 45.5210639273018],\n",
       "      [-73.5655614721314, 45.5213643879447],\n",
       "      [-73.5652383566418, 45.5238165260966],\n",
       "      [-73.5568838251035, 45.5199246700318],\n",
       "      [-73.5537687235941, 45.5232551201153],\n",
       "      [-73.5497109051325, 45.521356149553],\n",
       "      [-73.5448806808084, 45.5191907535652]]]},\n",
       "   'properties': {'district': '182-Saint-Jacques'},\n",
       "   'id': '182'},\n",
       "  {'type': 'Feature',\n",
       "   'geometry': {'type': 'MultiPolygon',\n",
       "    'coordinates': [[[[-73.5274147442424, 45.5235135910537],\n",
       "       [-73.5251840405205, 45.5163154069544],\n",
       "       [-73.5190996853698, 45.4964289566498],\n",
       "       [-73.5196839019087, 45.4963133966792],\n",
       "       [-73.5192316055091, 45.4951826206437],\n",
       "       [-73.5235780132462, 45.4965380018334],\n",
       "       [-73.5262219855313, 45.4982100373889],\n",
       "       [-73.5284680362731, 45.4999489748907],\n",
       "       [-73.5298469696156, 45.5015420394984],\n",
       "       [-73.5305050225488, 45.5047999722322],\n",
       "       [-73.5301920008631, 45.5074609662696],\n",
       "       [-73.5284829714113, 45.5111469746062],\n",
       "       [-73.5295139475797, 45.521700975721],\n",
       "       [-73.5275250227419, 45.5218729979917],\n",
       "       [-73.5274147442424, 45.5235135910537]]],\n",
       "     [[[-73.5323979026789, 45.5309116588315],\n",
       "       [-73.5322539821252, 45.5289053155386],\n",
       "       [-73.532650406906, 45.5287379966455],\n",
       "       [-73.535473289372, 45.5289601566106],\n",
       "       [-73.5360719733226, 45.5280409644584],\n",
       "       [-73.535776948517, 45.527560047342],\n",
       "       [-73.5344149864457, 45.5272360422621],\n",
       "       [-73.5339490789414, 45.5259734056912],\n",
       "       [-73.5318552691702, 45.5248370417729],\n",
       "       [-73.5314333871381, 45.5222881159041],\n",
       "       [-73.5315020312839, 45.5206100031596],\n",
       "       [-73.5304254498686, 45.5175627808954],\n",
       "       [-73.5300105388493, 45.5149954869969],\n",
       "       [-73.530089354595, 45.5141148861583],\n",
       "       [-73.5320378226962, 45.5082952174682],\n",
       "       [-73.5331764353799, 45.5063562405992],\n",
       "       [-73.5349739836122, 45.5062349788193],\n",
       "       [-73.5356400145159, 45.5066940066737],\n",
       "       [-73.5374959977644, 45.5096790170141],\n",
       "       [-73.5387299917373, 45.5139430070273],\n",
       "       [-73.5384300301647, 45.5176120247025],\n",
       "       [-73.5393770324368, 45.5206029708317],\n",
       "       [-73.5399389592119, 45.523607991237],\n",
       "       [-73.5390530375969, 45.5256939673896],\n",
       "       [-73.5354039767675, 45.5305800445252],\n",
       "       [-73.5342920245728, 45.5315010077074],\n",
       "       [-73.5329380014176, 45.53135795749],\n",
       "       [-73.5323979026789, 45.5309116588315]]],\n",
       "     [[[-73.5448806808084, 45.5191907535652],\n",
       "       [-73.5497109051325, 45.521356149553],\n",
       "       [-73.5537687235941, 45.5232551201153],\n",
       "       [-73.5568838251035, 45.5199246700318],\n",
       "       [-73.5652383566418, 45.5238165260966],\n",
       "       [-73.5641429566138, 45.5273492053093],\n",
       "       [-73.5613401818778, 45.5359226324552],\n",
       "       [-73.5592280432661, 45.5399028690768],\n",
       "       [-73.550216365092, 45.5389758922042],\n",
       "       [-73.5482541001656, 45.5383569002539],\n",
       "       [-73.5473499781753, 45.5376709059424],\n",
       "       [-73.5439636509721, 45.5334697006227],\n",
       "       [-73.5428587889529, 45.5304546205586],\n",
       "       [-73.5417879567955, 45.529933001055],\n",
       "       [-73.542631029933, 45.5272240023092],\n",
       "       [-73.5433079570219, 45.5259280339674],\n",
       "       [-73.5450449609183, 45.5202409952069],\n",
       "       [-73.5448806808084, 45.5191907535652]]]]},\n",
       "   'properties': {'district': '183-Sainte-Marie'},\n",
       "   'id': '183'},\n",
       "  {'type': 'Feature',\n",
       "   'geometry': {'type': 'Polygon',\n",
       "    'coordinates': [[[-73.5986381445569, 45.5714628841478],\n",
       "      [-73.6027105259893, 45.5669595870386],\n",
       "      [-73.6076346034193, 45.5613579100341],\n",
       "      [-73.6093881709895, 45.5598575160123],\n",
       "      [-73.6142388370954, 45.5543735967318],\n",
       "      [-73.6161654573353, 45.5519916303917],\n",
       "      [-73.6217484540132, 45.5544783077209],\n",
       "      [-73.6240413737876, 45.5555253903511],\n",
       "      [-73.6453511352974, 45.5647725775888],\n",
       "      [-73.6446417578686, 45.5658132919643],\n",
       "      [-73.6362833815582, 45.5758266113331],\n",
       "      [-73.6363215300962, 45.5759177646435],\n",
       "      [-73.6327012962769, 45.5799802985646],\n",
       "      [-73.631962332515, 45.579640175342],\n",
       "      [-73.6288186186035, 45.5832571469721],\n",
       "      [-73.6280749026379, 45.5838243220039],\n",
       "      [-73.6267569494518, 45.5854624669655],\n",
       "      [-73.6242513055513, 45.5846473290482],\n",
       "      [-73.623269111324, 45.5839925896586],\n",
       "      [-73.6208358233192, 45.5828408672289],\n",
       "      [-73.6148320474836, 45.580191303428],\n",
       "      [-73.6113135304111, 45.5785547523195],\n",
       "      [-73.6043589520305, 45.5755705351656],\n",
       "      [-73.6023753660902, 45.5742891313383],\n",
       "      [-73.6005459884454, 45.5740149891614],\n",
       "      [-73.6016424297946, 45.5727835347079],\n",
       "      [-73.5986381445569, 45.5714628841478]]]},\n",
       "   'properties': {'district': '191-Saint-Michel'},\n",
       "   'id': '191'},\n",
       "  {'type': 'Feature',\n",
       "   'geometry': {'type': 'Polygon',\n",
       "    'coordinates': [[[-73.5871520545273, 45.566412729231],\n",
       "      [-73.5863094536503, 45.5661499995185],\n",
       "      [-73.5910006798707, 45.5607570868859],\n",
       "      [-73.5975914187124, 45.553207322408],\n",
       "      [-73.6019471163738, 45.5481178990012],\n",
       "      [-73.6035398110948, 45.5463469119155],\n",
       "      [-73.6070387029669, 45.5479557550382],\n",
       "      [-73.6086846729618, 45.5461409843801],\n",
       "      [-73.6205880272051, 45.5514560807313],\n",
       "      [-73.6201064769685, 45.5520190517324],\n",
       "      [-73.6235005117779, 45.5536358848324],\n",
       "      [-73.6217484540132, 45.5544783077209],\n",
       "      [-73.6161654573353, 45.5519916303917],\n",
       "      [-73.6142388370954, 45.5543735967318],\n",
       "      [-73.6093881709895, 45.5598575160123],\n",
       "      [-73.6076346034193, 45.5613579100341],\n",
       "      [-73.6027105259893, 45.5669595870386],\n",
       "      [-73.5986381445569, 45.5714628841478],\n",
       "      [-73.5874046777632, 45.5664890958155],\n",
       "      [-73.5871520545273, 45.566412729231]]]},\n",
       "   'properties': {'district': '192-François-Perrault'},\n",
       "   'id': '192'},\n",
       "  {'type': 'Feature',\n",
       "   'geometry': {'type': 'Polygon',\n",
       "    'coordinates': [[[-73.6168611349556, 45.5357046144078],\n",
       "      [-73.618922206967, 45.5366652760056],\n",
       "      [-73.6407295659042, 45.5429686686779],\n",
       "      [-73.6398673671325, 45.5441488267699],\n",
       "      [-73.6363671046978, 45.548169415833],\n",
       "      [-73.6342899238824, 45.5494628161417],\n",
       "      [-73.6325600663803, 45.5499795021129],\n",
       "      [-73.6301686544477, 45.5503989164938],\n",
       "      [-73.6278096771011, 45.5513024018691],\n",
       "      [-73.6235005117779, 45.5536358848324],\n",
       "      [-73.6201064769685, 45.5520190517324],\n",
       "      [-73.6205880272051, 45.5514560807313],\n",
       "      [-73.6086846729618, 45.5461409843801],\n",
       "      [-73.6123252903368, 45.5421333051385],\n",
       "      [-73.6144250141163, 45.5383032859687],\n",
       "      [-73.6168611349556, 45.5357046144078]]]},\n",
       "   'properties': {'district': '193-Villeray'},\n",
       "   'id': '193'},\n",
       "  {'type': 'Feature',\n",
       "   'geometry': {'type': 'Polygon',\n",
       "    'coordinates': [[[-73.6170925681517, 45.5277209056734],\n",
       "      [-73.617235572865, 45.5277835686717],\n",
       "      [-73.6208637881685, 45.5236565043515],\n",
       "      [-73.6221372911404, 45.5240220054992],\n",
       "      [-73.6227576775837, 45.5233405909978],\n",
       "      [-73.6485543103777, 45.5308320827376],\n",
       "      [-73.6407295659042, 45.5429686686779],\n",
       "      [-73.618922206967, 45.5366652760056],\n",
       "      [-73.6168611349556, 45.5357046144078],\n",
       "      [-73.6182756954315, 45.5346855542873],\n",
       "      [-73.6215351178101, 45.5311083503899],\n",
       "      [-73.6190955864224, 45.5306548374863],\n",
       "      [-73.6174856875378, 45.5297416402976],\n",
       "      [-73.6170629786343, 45.5290836882431],\n",
       "      [-73.6170925681517, 45.5277209056734]]]},\n",
       "   'properties': {'district': '194-Parc-Extension'},\n",
       "   'id': '194'}]}"
      ]
     },
     "execution_count": 118,
     "metadata": {},
     "output_type": "execute_result"
    }
   ],
   "source": [
    "px.data.election_geojson()\n"
   ]
  },
  {
   "cell_type": "code",
   "execution_count": null,
   "metadata": {},
   "outputs": [],
   "source": []
  }
 ],
 "metadata": {
  "kernelspec": {
   "display_name": "Python (plakk)",
   "language": "python",
   "name": "plakk"
  },
  "language_info": {
   "codemirror_mode": {
    "name": "ipython",
    "version": 3
   },
   "file_extension": ".py",
   "mimetype": "text/x-python",
   "name": "python",
   "nbconvert_exporter": "python",
   "pygments_lexer": "ipython3",
   "version": "3.6.10"
  }
 },
 "nbformat": 4,
 "nbformat_minor": 4
}
