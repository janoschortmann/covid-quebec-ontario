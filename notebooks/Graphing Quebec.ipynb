{
 "cells": [
  {
   "cell_type": "code",
   "execution_count": 1,
   "metadata": {},
   "outputs": [],
   "source": [
    "import plotly.graph_objects as go\n",
    "import plotly.express as px\n",
    "\n",
    "import numpy as np\n",
    "import pandas as pd"
   ]
  },
  {
   "cell_type": "code",
   "execution_count": 32,
   "metadata": {},
   "outputs": [],
   "source": [
    "quebec_path = \"../data/quebec/Quebec.csv\"\n",
    "headers = [\"Region\",  \"Total Number of Cases\", \"Date of Infection\", \"Lat\", \"Long\"]\n",
    "df = pd.read_csv(quebec_path)\n",
    "regions = df[:19]\n",
    "dates = list(regions)[1:]\n",
    "\n",
    "lat_long = [(48.333333, -68.666667), (49.8667, -71.75), (47.333333, -71.5), (47, -73), (45.481556, -71.667917),\n",
    "               (45.5, -73.566667), (45.783333, -75.083333), (48.233333, -79.016667), (50.866667, -65.816667),\n",
    "               (56.166667, -74.416667), (48.683333, -65.4), (46.483333, -70.616667), (45.583333, -73.75),\n",
    "               (46.766667, -73.833333), (46.433333, -74.983333), (45.383333, -73.1), (46.283333, -72.066667)]"
   ]
  },
  {
   "cell_type": "code",
   "execution_count": 33,
   "metadata": {},
   "outputs": [],
   "source": [
    "stacked_df = pd.DataFrame(columns=headers)\n",
    "for ix,row in regions.iterrows():\n",
    "    region = [list(row)[0]]*(len(row)-1)\n",
    "    if ix < 17:\n",
    "        lat = [lat_long[ix][0]]*(len(row)-1)\n",
    "        long = [lat_long[ix][1]]*(len(row)-1)\n",
    "    else : \n",
    "        lat = [\"na\"]*(len(row)-1)\n",
    "        long = [\"na\"]*(len(row)-1)\n",
    "    num_cases = list(row)[1:]\n",
    "    region_list = [region, num_cases, dates, lat, long]\n",
    "    temp = pd.DataFrame(list(map(list, zip(*region_list))), columns = headers)\n",
    "    stacked_df =stacked_df.append(temp,  ignore_index=True)\n"
   ]
  },
  {
   "cell_type": "code",
   "execution_count": 34,
   "metadata": {},
   "outputs": [
    {
     "data": {
      "text/html": [
       "<div>\n",
       "<style scoped>\n",
       "    .dataframe tbody tr th:only-of-type {\n",
       "        vertical-align: middle;\n",
       "    }\n",
       "\n",
       "    .dataframe tbody tr th {\n",
       "        vertical-align: top;\n",
       "    }\n",
       "\n",
       "    .dataframe thead th {\n",
       "        text-align: right;\n",
       "    }\n",
       "</style>\n",
       "<table border=\"1\" class=\"dataframe\">\n",
       "  <thead>\n",
       "    <tr style=\"text-align: right;\">\n",
       "      <th></th>\n",
       "      <th>Region</th>\n",
       "      <th>Total Number of Cases</th>\n",
       "      <th>Date of Infection</th>\n",
       "      <th>Lat</th>\n",
       "      <th>Long</th>\n",
       "    </tr>\n",
       "  </thead>\n",
       "  <tbody>\n",
       "    <tr>\n",
       "      <th>0</th>\n",
       "      <td>01-Bas-Saint-Laurent</td>\n",
       "      <td>0.0</td>\n",
       "      <td>13th</td>\n",
       "      <td>48.3333</td>\n",
       "      <td>-68.6667</td>\n",
       "    </tr>\n",
       "    <tr>\n",
       "      <th>1</th>\n",
       "      <td>01-Bas-Saint-Laurent</td>\n",
       "      <td>0.0</td>\n",
       "      <td>14th</td>\n",
       "      <td>48.3333</td>\n",
       "      <td>-68.6667</td>\n",
       "    </tr>\n",
       "    <tr>\n",
       "      <th>2</th>\n",
       "      <td>01-Bas-Saint-Laurent</td>\n",
       "      <td>0.0</td>\n",
       "      <td>15th</td>\n",
       "      <td>48.3333</td>\n",
       "      <td>-68.6667</td>\n",
       "    </tr>\n",
       "    <tr>\n",
       "      <th>3</th>\n",
       "      <td>01-Bas-Saint-Laurent</td>\n",
       "      <td>0.0</td>\n",
       "      <td>16th</td>\n",
       "      <td>48.3333</td>\n",
       "      <td>-68.6667</td>\n",
       "    </tr>\n",
       "    <tr>\n",
       "      <th>4</th>\n",
       "      <td>01-Bas-Saint-Laurent</td>\n",
       "      <td>0.0</td>\n",
       "      <td>17th</td>\n",
       "      <td>48.3333</td>\n",
       "      <td>-68.6667</td>\n",
       "    </tr>\n",
       "    <tr>\n",
       "      <th>...</th>\n",
       "      <td>...</td>\n",
       "      <td>...</td>\n",
       "      <td>...</td>\n",
       "      <td>...</td>\n",
       "      <td>...</td>\n",
       "    </tr>\n",
       "    <tr>\n",
       "      <th>185</th>\n",
       "      <td>Hors Quebec</td>\n",
       "      <td>2.0</td>\n",
       "      <td>18th</td>\n",
       "      <td>na</td>\n",
       "      <td>na</td>\n",
       "    </tr>\n",
       "    <tr>\n",
       "      <th>186</th>\n",
       "      <td>Hors Quebec</td>\n",
       "      <td>2.0</td>\n",
       "      <td>19th</td>\n",
       "      <td>na</td>\n",
       "      <td>na</td>\n",
       "    </tr>\n",
       "    <tr>\n",
       "      <th>187</th>\n",
       "      <td>Hors Quebec</td>\n",
       "      <td>2.0</td>\n",
       "      <td>20th</td>\n",
       "      <td>na</td>\n",
       "      <td>na</td>\n",
       "    </tr>\n",
       "    <tr>\n",
       "      <th>188</th>\n",
       "      <td>Hors Quebec</td>\n",
       "      <td>2.0</td>\n",
       "      <td>21st</td>\n",
       "      <td>na</td>\n",
       "      <td>na</td>\n",
       "    </tr>\n",
       "    <tr>\n",
       "      <th>189</th>\n",
       "      <td>Hors Quebec</td>\n",
       "      <td>2.0</td>\n",
       "      <td>22nd</td>\n",
       "      <td>na</td>\n",
       "      <td>na</td>\n",
       "    </tr>\n",
       "  </tbody>\n",
       "</table>\n",
       "<p>190 rows × 5 columns</p>\n",
       "</div>"
      ],
      "text/plain": [
       "                   Region  Total Number of Cases Date of Infection      Lat  \\\n",
       "0    01-Bas-Saint-Laurent                    0.0              13th  48.3333   \n",
       "1    01-Bas-Saint-Laurent                    0.0              14th  48.3333   \n",
       "2    01-Bas-Saint-Laurent                    0.0              15th  48.3333   \n",
       "3    01-Bas-Saint-Laurent                    0.0              16th  48.3333   \n",
       "4    01-Bas-Saint-Laurent                    0.0              17th  48.3333   \n",
       "..                    ...                    ...               ...      ...   \n",
       "185           Hors Quebec                    2.0              18th       na   \n",
       "186           Hors Quebec                    2.0              19th       na   \n",
       "187           Hors Quebec                    2.0              20th       na   \n",
       "188           Hors Quebec                    2.0              21st       na   \n",
       "189           Hors Quebec                    2.0              22nd       na   \n",
       "\n",
       "        Long  \n",
       "0   -68.6667  \n",
       "1   -68.6667  \n",
       "2   -68.6667  \n",
       "3   -68.6667  \n",
       "4   -68.6667  \n",
       "..       ...  \n",
       "185       na  \n",
       "186       na  \n",
       "187       na  \n",
       "188       na  \n",
       "189       na  \n",
       "\n",
       "[190 rows x 5 columns]"
      ]
     },
     "execution_count": 34,
     "metadata": {},
     "output_type": "execute_result"
    }
   ],
   "source": [
    "stacked_df"
   ]
  },
  {
   "cell_type": "code",
   "execution_count": 16,
   "metadata": {},
   "outputs": [],
   "source": [
    "total_cases = list(df.iloc[19])[1:]"
   ]
  },
  {
   "cell_type": "code",
   "execution_count": 17,
   "metadata": {},
   "outputs": [
    {
     "data": {
      "application/vnd.plotly.v1+json": {
       "config": {
        "plotlyServerURL": "https://plot.ly"
       },
       "data": [
        {
         "alignmentgroup": "True",
         "hoverlabel": {
          "namelength": 0
         },
         "hovertemplate": "Region=01-Bas-Saint-Laurent<br>Date of Infection=%{x}<br>Total Number of Cases=%{y}",
         "legendgroup": "01-Bas-Saint-Laurent",
         "marker": {
          "color": "#FD3216"
         },
         "name": "01-Bas-Saint-Laurent",
         "offsetgroup": "01-Bas-Saint-Laurent",
         "orientation": "v",
         "showlegend": true,
         "textposition": "auto",
         "type": "bar",
         "x": [
          "13th",
          "14th",
          "15th",
          "16th",
          "17th",
          "18th",
          "19th",
          "20th",
          "21st",
          "22nd"
         ],
         "xaxis": "x",
         "y": [
          0,
          0,
          0,
          0,
          0,
          0,
          1,
          1,
          1,
          1
         ],
         "yaxis": "y"
        },
        {
         "alignmentgroup": "True",
         "hoverlabel": {
          "namelength": 0
         },
         "hovertemplate": "Region=02- Saguenay-Lac-Saint-Jean<br>Date of Infection=%{x}<br>Total Number of Cases=%{y}",
         "legendgroup": "02- Saguenay-Lac-Saint-Jean",
         "marker": {
          "color": "#00FE35"
         },
         "name": "02- Saguenay-Lac-Saint-Jean",
         "offsetgroup": "02- Saguenay-Lac-Saint-Jean",
         "orientation": "v",
         "showlegend": true,
         "textposition": "auto",
         "type": "bar",
         "x": [
          "13th",
          "14th",
          "15th",
          "16th",
          "17th",
          "18th",
          "19th",
          "20th",
          "21st",
          "22nd"
         ],
         "xaxis": "x",
         "y": [
          0,
          0,
          0,
          0,
          0,
          0,
          0,
          0,
          1,
          1
         ],
         "yaxis": "y"
        },
        {
         "alignmentgroup": "True",
         "hoverlabel": {
          "namelength": 0
         },
         "hovertemplate": "Region=03- Capitale-Nationale<br>Date of Infection=%{x}<br>Total Number of Cases=%{y}",
         "legendgroup": "03- Capitale-Nationale",
         "marker": {
          "color": "#6A76FC"
         },
         "name": "03- Capitale-Nationale",
         "offsetgroup": "03- Capitale-Nationale",
         "orientation": "v",
         "showlegend": true,
         "textposition": "auto",
         "type": "bar",
         "x": [
          "13th",
          "14th",
          "15th",
          "16th",
          "17th",
          "18th",
          "19th",
          "20th",
          "21st",
          "22nd"
         ],
         "xaxis": "x",
         "y": [
          0,
          0,
          2,
          2,
          3,
          8,
          10,
          10,
          13,
          13
         ],
         "yaxis": "y"
        },
        {
         "alignmentgroup": "True",
         "hoverlabel": {
          "namelength": 0
         },
         "hovertemplate": "Region=04-Mauricie<br>Date of Infection=%{x}<br>Total Number of Cases=%{y}",
         "legendgroup": "04-Mauricie",
         "marker": {
          "color": "#FED4C4"
         },
         "name": "04-Mauricie",
         "offsetgroup": "04-Mauricie",
         "orientation": "v",
         "showlegend": true,
         "textposition": "auto",
         "type": "bar",
         "x": [
          "13th",
          "14th",
          "15th",
          "16th",
          "17th",
          "18th",
          "19th",
          "20th",
          "21st",
          "22nd"
         ],
         "xaxis": "x",
         "y": [
          1,
          1,
          3,
          3,
          3,
          3,
          3,
          4,
          5,
          7
         ],
         "yaxis": "y"
        },
        {
         "alignmentgroup": "True",
         "hoverlabel": {
          "namelength": 0
         },
         "hovertemplate": "Region=05-Estrie<br>Date of Infection=%{x}<br>Total Number of Cases=%{y}",
         "legendgroup": "05-Estrie",
         "marker": {
          "color": "#FE00CE"
         },
         "name": "05-Estrie",
         "offsetgroup": "05-Estrie",
         "orientation": "v",
         "showlegend": true,
         "textposition": "auto",
         "type": "bar",
         "x": [
          "13th",
          "14th",
          "15th",
          "16th",
          "17th",
          "18th",
          "19th",
          "20th",
          "21st",
          "22nd"
         ],
         "xaxis": "x",
         "y": [
          2,
          3,
          4,
          4,
          9,
          18,
          26,
          26,
          27,
          30
         ],
         "yaxis": "y"
        },
        {
         "alignmentgroup": "True",
         "hoverlabel": {
          "namelength": 0
         },
         "hovertemplate": "Region=06-Montreal<br>Date of Infection=%{x}<br>Total Number of Cases=%{y}",
         "legendgroup": "06-Montreal",
         "marker": {
          "color": "#0DF9FF"
         },
         "name": "06-Montreal",
         "offsetgroup": "06-Montreal",
         "orientation": "v",
         "showlegend": true,
         "textposition": "auto",
         "type": "bar",
         "x": [
          "13th",
          "14th",
          "15th",
          "16th",
          "17th",
          "18th",
          "19th",
          "20th",
          "21st",
          "22nd"
         ],
         "xaxis": "x",
         "y": [
          7,
          8,
          10,
          18,
          22,
          24,
          28,
          31,
          41,
          46
         ],
         "yaxis": "y"
        },
        {
         "alignmentgroup": "True",
         "hoverlabel": {
          "namelength": 0
         },
         "hovertemplate": "Region=07-Outauais<br>Date of Infection=%{x}<br>Total Number of Cases=%{y}",
         "legendgroup": "07-Outauais",
         "marker": {
          "color": "#F6F926"
         },
         "name": "07-Outauais",
         "offsetgroup": "07-Outauais",
         "orientation": "v",
         "showlegend": true,
         "textposition": "auto",
         "type": "bar",
         "x": [
          "13th",
          "14th",
          "15th",
          "16th",
          "17th",
          "18th",
          "19th",
          "20th",
          "21st",
          "22nd"
         ],
         "xaxis": "x",
         "y": [
          0,
          0,
          0,
          0,
          0,
          1,
          1,
          1,
          3,
          5
         ],
         "yaxis": "y"
        },
        {
         "alignmentgroup": "True",
         "hoverlabel": {
          "namelength": 0
         },
         "hovertemplate": "Region=08-Abititi-Temiscaminigue<br>Date of Infection=%{x}<br>Total Number of Cases=%{y}",
         "legendgroup": "08-Abititi-Temiscaminigue",
         "marker": {
          "color": "#FF9616"
         },
         "name": "08-Abititi-Temiscaminigue",
         "offsetgroup": "08-Abititi-Temiscaminigue",
         "orientation": "v",
         "showlegend": true,
         "textposition": "auto",
         "type": "bar",
         "x": [
          "13th",
          "14th",
          "15th",
          "16th",
          "17th",
          "18th",
          "19th",
          "20th",
          "21st",
          "22nd"
         ],
         "xaxis": "x",
         "y": [
          0,
          0,
          0,
          0,
          0,
          0,
          0,
          0,
          0,
          0
         ],
         "yaxis": "y"
        },
        {
         "alignmentgroup": "True",
         "hoverlabel": {
          "namelength": 0
         },
         "hovertemplate": "Region=9-Cote-Nord<br>Date of Infection=%{x}<br>Total Number of Cases=%{y}",
         "legendgroup": "9-Cote-Nord",
         "marker": {
          "color": "#479B55"
         },
         "name": "9-Cote-Nord",
         "offsetgroup": "9-Cote-Nord",
         "orientation": "v",
         "showlegend": true,
         "textposition": "auto",
         "type": "bar",
         "x": [
          "13th",
          "14th",
          "15th",
          "16th",
          "17th",
          "18th",
          "19th",
          "20th",
          "21st",
          "22nd"
         ],
         "xaxis": "x",
         "y": [
          0,
          0,
          0,
          0,
          0,
          0,
          0,
          0,
          0,
          0
         ],
         "yaxis": "y"
        },
        {
         "alignmentgroup": "True",
         "hoverlabel": {
          "namelength": 0
         },
         "hovertemplate": "Region=10-Nord-du-Quebec<br>Date of Infection=%{x}<br>Total Number of Cases=%{y}",
         "legendgroup": "10-Nord-du-Quebec",
         "marker": {
          "color": "#EEA6FB"
         },
         "name": "10-Nord-du-Quebec",
         "offsetgroup": "10-Nord-du-Quebec",
         "orientation": "v",
         "showlegend": true,
         "textposition": "auto",
         "type": "bar",
         "x": [
          "13th",
          "14th",
          "15th",
          "16th",
          "17th",
          "18th",
          "19th",
          "20th",
          "21st",
          "22nd"
         ],
         "xaxis": "x",
         "y": [
          0,
          0,
          0,
          0,
          0,
          0,
          0,
          1,
          1,
          1
         ],
         "yaxis": "y"
        },
        {
         "alignmentgroup": "True",
         "hoverlabel": {
          "namelength": 0
         },
         "hovertemplate": "Region=11- Gaspesie-Iles-de-la-Madelaine<br>Date of Infection=%{x}<br>Total Number of Cases=%{y}",
         "legendgroup": "11- Gaspesie-Iles-de-la-Madelaine",
         "marker": {
          "color": "#DC587D"
         },
         "name": "11- Gaspesie-Iles-de-la-Madelaine",
         "offsetgroup": "11- Gaspesie-Iles-de-la-Madelaine",
         "orientation": "v",
         "showlegend": true,
         "textposition": "auto",
         "type": "bar",
         "x": [
          "13th",
          "14th",
          "15th",
          "16th",
          "17th",
          "18th",
          "19th",
          "20th",
          "21st",
          "22nd"
         ],
         "xaxis": "x",
         "y": [
          0,
          0,
          0,
          0,
          0,
          0,
          0,
          0,
          0,
          0
         ],
         "yaxis": "y"
        },
        {
         "alignmentgroup": "True",
         "hoverlabel": {
          "namelength": 0
         },
         "hovertemplate": "Region=12-Chaudiere-Appalaches<br>Date of Infection=%{x}<br>Total Number of Cases=%{y}",
         "legendgroup": "12-Chaudiere-Appalaches",
         "marker": {
          "color": "#D626FF"
         },
         "name": "12-Chaudiere-Appalaches",
         "offsetgroup": "12-Chaudiere-Appalaches",
         "orientation": "v",
         "showlegend": true,
         "textposition": "auto",
         "type": "bar",
         "x": [
          "13th",
          "14th",
          "15th",
          "16th",
          "17th",
          "18th",
          "19th",
          "20th",
          "21st",
          "22nd"
         ],
         "xaxis": "x",
         "y": [
          1,
          1,
          3,
          4,
          4,
          6,
          6,
          6,
          13,
          13
         ],
         "yaxis": "y"
        },
        {
         "alignmentgroup": "True",
         "hoverlabel": {
          "namelength": 0
         },
         "hovertemplate": "Region=13- Laval<br>Date of Infection=%{x}<br>Total Number of Cases=%{y}",
         "legendgroup": "13- Laval",
         "marker": {
          "color": "#6E899C"
         },
         "name": "13- Laval",
         "offsetgroup": "13- Laval",
         "orientation": "v",
         "showlegend": true,
         "textposition": "auto",
         "type": "bar",
         "x": [
          "13th",
          "14th",
          "15th",
          "16th",
          "17th",
          "18th",
          "19th",
          "20th",
          "21st",
          "22nd"
         ],
         "xaxis": "x",
         "y": [
          0,
          0,
          0,
          0,
          0,
          0,
          1,
          1,
          3,
          4
         ],
         "yaxis": "y"
        },
        {
         "alignmentgroup": "True",
         "hoverlabel": {
          "namelength": 0
         },
         "hovertemplate": "Region=14- Lanaudiere<br>Date of Infection=%{x}<br>Total Number of Cases=%{y}",
         "legendgroup": "14- Lanaudiere",
         "marker": {
          "color": "#00B5F7"
         },
         "name": "14- Lanaudiere",
         "offsetgroup": "14- Lanaudiere",
         "orientation": "v",
         "showlegend": true,
         "textposition": "auto",
         "type": "bar",
         "x": [
          "13th",
          "14th",
          "15th",
          "16th",
          "17th",
          "18th",
          "19th",
          "20th",
          "21st",
          "22nd"
         ],
         "xaxis": "x",
         "y": [
          0,
          1,
          2,
          3,
          6,
          6,
          7,
          7,
          9,
          15
         ],
         "yaxis": "y"
        },
        {
         "alignmentgroup": "True",
         "hoverlabel": {
          "namelength": 0
         },
         "hovertemplate": "Region=15- Laurentides<br>Date of Infection=%{x}<br>Total Number of Cases=%{y}",
         "legendgroup": "15- Laurentides",
         "marker": {
          "color": "#B68E00"
         },
         "name": "15- Laurentides",
         "offsetgroup": "15- Laurentides",
         "orientation": "v",
         "showlegend": true,
         "textposition": "auto",
         "type": "bar",
         "x": [
          "13th",
          "14th",
          "15th",
          "16th",
          "17th",
          "18th",
          "19th",
          "20th",
          "21st",
          "22nd"
         ],
         "xaxis": "x",
         "y": [
          2,
          2,
          3,
          3,
          7,
          8,
          9,
          10,
          14,
          17
         ],
         "yaxis": "y"
        },
        {
         "alignmentgroup": "True",
         "hoverlabel": {
          "namelength": 0
         },
         "hovertemplate": "Region=16- Monteregie<br>Date of Infection=%{x}<br>Total Number of Cases=%{y}",
         "legendgroup": "16- Monteregie",
         "marker": {
          "color": "#C9FBE5"
         },
         "name": "16- Monteregie",
         "offsetgroup": "16- Monteregie",
         "orientation": "v",
         "showlegend": true,
         "textposition": "auto",
         "type": "bar",
         "x": [
          "13th",
          "14th",
          "15th",
          "16th",
          "17th",
          "18th",
          "19th",
          "20th",
          "21st",
          "22nd"
         ],
         "xaxis": "x",
         "y": [
          4,
          7,
          9,
          10,
          13,
          13,
          19,
          21,
          26,
          40
         ],
         "yaxis": "y"
        },
        {
         "alignmentgroup": "True",
         "hoverlabel": {
          "namelength": 0
         },
         "hovertemplate": "Region=17- Centre du Quebec<br>Date of Infection=%{x}<br>Total Number of Cases=%{y}",
         "legendgroup": "17- Centre du Quebec",
         "marker": {
          "color": "#FF0092"
         },
         "name": "17- Centre du Quebec",
         "offsetgroup": "17- Centre du Quebec",
         "orientation": "v",
         "showlegend": true,
         "textposition": "auto",
         "type": "bar",
         "x": [
          "13th",
          "14th",
          "15th",
          "16th",
          "17th",
          "18th",
          "19th",
          "20th",
          "21st",
          "22nd"
         ],
         "xaxis": "x",
         "y": [
          0,
          0,
          0,
          0,
          0,
          0,
          0,
          0,
          0,
          0
         ],
         "yaxis": "y"
        },
        {
         "alignmentgroup": "True",
         "hoverlabel": {
          "namelength": 0
         },
         "hovertemplate": "Region=Undetermined<br>Date of Infection=%{x}<br>Total Number of Cases=%{y}",
         "legendgroup": "Undetermined",
         "marker": {
          "color": "#22FFA7"
         },
         "name": "Undetermined",
         "offsetgroup": "Undetermined",
         "orientation": "v",
         "showlegend": true,
         "textposition": "auto",
         "type": "bar",
         "x": [
          "13th",
          "14th",
          "15th",
          "16th",
          "17th",
          "18th",
          "19th",
          "20th",
          "21st",
          "22nd"
         ],
         "xaxis": "x",
         "y": [
          0,
          1,
          2,
          3,
          5,
          5,
          8,
          18,
          22,
          24
         ],
         "yaxis": "y"
        },
        {
         "alignmentgroup": "True",
         "hoverlabel": {
          "namelength": 0
         },
         "hovertemplate": "Region=Hors Quebec<br>Date of Infection=%{x}<br>Total Number of Cases=%{y}",
         "legendgroup": "Hors Quebec",
         "marker": {
          "color": "#E3EE9E"
         },
         "name": "Hors Quebec",
         "offsetgroup": "Hors Quebec",
         "orientation": "v",
         "showlegend": true,
         "textposition": "auto",
         "type": "bar",
         "x": [
          "13th",
          "14th",
          "15th",
          "16th",
          "17th",
          "18th",
          "19th",
          "20th",
          "21st",
          "22nd"
         ],
         "xaxis": "x",
         "y": [
          0,
          0,
          1,
          1,
          2,
          2,
          2,
          2,
          2,
          2
         ],
         "yaxis": "y"
        },
        {
         "mode": "lines",
         "name": "Total",
         "type": "scatter",
         "x": [
          "13th",
          "14th",
          "15th",
          "16th",
          "17th",
          "18th",
          "19th",
          "20th",
          "21st",
          "22nd"
         ],
         "y": [
          17,
          24,
          39,
          51,
          74,
          94,
          121,
          139,
          181,
          219
         ]
        }
       ],
       "layout": {
        "barmode": "relative",
        "legend": {
         "title": {
          "text": "Region"
         },
         "tracegroupgap": 0
        },
        "margin": {
         "t": 60
        },
        "template": {
         "data": {
          "bar": [
           {
            "error_x": {
             "color": "#2a3f5f"
            },
            "error_y": {
             "color": "#2a3f5f"
            },
            "marker": {
             "line": {
              "color": "#E5ECF6",
              "width": 0.5
             }
            },
            "type": "bar"
           }
          ],
          "barpolar": [
           {
            "marker": {
             "line": {
              "color": "#E5ECF6",
              "width": 0.5
             }
            },
            "type": "barpolar"
           }
          ],
          "carpet": [
           {
            "aaxis": {
             "endlinecolor": "#2a3f5f",
             "gridcolor": "white",
             "linecolor": "white",
             "minorgridcolor": "white",
             "startlinecolor": "#2a3f5f"
            },
            "baxis": {
             "endlinecolor": "#2a3f5f",
             "gridcolor": "white",
             "linecolor": "white",
             "minorgridcolor": "white",
             "startlinecolor": "#2a3f5f"
            },
            "type": "carpet"
           }
          ],
          "choropleth": [
           {
            "colorbar": {
             "outlinewidth": 0,
             "ticks": ""
            },
            "type": "choropleth"
           }
          ],
          "contour": [
           {
            "colorbar": {
             "outlinewidth": 0,
             "ticks": ""
            },
            "colorscale": [
             [
              0,
              "#0d0887"
             ],
             [
              0.1111111111111111,
              "#46039f"
             ],
             [
              0.2222222222222222,
              "#7201a8"
             ],
             [
              0.3333333333333333,
              "#9c179e"
             ],
             [
              0.4444444444444444,
              "#bd3786"
             ],
             [
              0.5555555555555556,
              "#d8576b"
             ],
             [
              0.6666666666666666,
              "#ed7953"
             ],
             [
              0.7777777777777778,
              "#fb9f3a"
             ],
             [
              0.8888888888888888,
              "#fdca26"
             ],
             [
              1,
              "#f0f921"
             ]
            ],
            "type": "contour"
           }
          ],
          "contourcarpet": [
           {
            "colorbar": {
             "outlinewidth": 0,
             "ticks": ""
            },
            "type": "contourcarpet"
           }
          ],
          "heatmap": [
           {
            "colorbar": {
             "outlinewidth": 0,
             "ticks": ""
            },
            "colorscale": [
             [
              0,
              "#0d0887"
             ],
             [
              0.1111111111111111,
              "#46039f"
             ],
             [
              0.2222222222222222,
              "#7201a8"
             ],
             [
              0.3333333333333333,
              "#9c179e"
             ],
             [
              0.4444444444444444,
              "#bd3786"
             ],
             [
              0.5555555555555556,
              "#d8576b"
             ],
             [
              0.6666666666666666,
              "#ed7953"
             ],
             [
              0.7777777777777778,
              "#fb9f3a"
             ],
             [
              0.8888888888888888,
              "#fdca26"
             ],
             [
              1,
              "#f0f921"
             ]
            ],
            "type": "heatmap"
           }
          ],
          "heatmapgl": [
           {
            "colorbar": {
             "outlinewidth": 0,
             "ticks": ""
            },
            "colorscale": [
             [
              0,
              "#0d0887"
             ],
             [
              0.1111111111111111,
              "#46039f"
             ],
             [
              0.2222222222222222,
              "#7201a8"
             ],
             [
              0.3333333333333333,
              "#9c179e"
             ],
             [
              0.4444444444444444,
              "#bd3786"
             ],
             [
              0.5555555555555556,
              "#d8576b"
             ],
             [
              0.6666666666666666,
              "#ed7953"
             ],
             [
              0.7777777777777778,
              "#fb9f3a"
             ],
             [
              0.8888888888888888,
              "#fdca26"
             ],
             [
              1,
              "#f0f921"
             ]
            ],
            "type": "heatmapgl"
           }
          ],
          "histogram": [
           {
            "marker": {
             "colorbar": {
              "outlinewidth": 0,
              "ticks": ""
             }
            },
            "type": "histogram"
           }
          ],
          "histogram2d": [
           {
            "colorbar": {
             "outlinewidth": 0,
             "ticks": ""
            },
            "colorscale": [
             [
              0,
              "#0d0887"
             ],
             [
              0.1111111111111111,
              "#46039f"
             ],
             [
              0.2222222222222222,
              "#7201a8"
             ],
             [
              0.3333333333333333,
              "#9c179e"
             ],
             [
              0.4444444444444444,
              "#bd3786"
             ],
             [
              0.5555555555555556,
              "#d8576b"
             ],
             [
              0.6666666666666666,
              "#ed7953"
             ],
             [
              0.7777777777777778,
              "#fb9f3a"
             ],
             [
              0.8888888888888888,
              "#fdca26"
             ],
             [
              1,
              "#f0f921"
             ]
            ],
            "type": "histogram2d"
           }
          ],
          "histogram2dcontour": [
           {
            "colorbar": {
             "outlinewidth": 0,
             "ticks": ""
            },
            "colorscale": [
             [
              0,
              "#0d0887"
             ],
             [
              0.1111111111111111,
              "#46039f"
             ],
             [
              0.2222222222222222,
              "#7201a8"
             ],
             [
              0.3333333333333333,
              "#9c179e"
             ],
             [
              0.4444444444444444,
              "#bd3786"
             ],
             [
              0.5555555555555556,
              "#d8576b"
             ],
             [
              0.6666666666666666,
              "#ed7953"
             ],
             [
              0.7777777777777778,
              "#fb9f3a"
             ],
             [
              0.8888888888888888,
              "#fdca26"
             ],
             [
              1,
              "#f0f921"
             ]
            ],
            "type": "histogram2dcontour"
           }
          ],
          "mesh3d": [
           {
            "colorbar": {
             "outlinewidth": 0,
             "ticks": ""
            },
            "type": "mesh3d"
           }
          ],
          "parcoords": [
           {
            "line": {
             "colorbar": {
              "outlinewidth": 0,
              "ticks": ""
             }
            },
            "type": "parcoords"
           }
          ],
          "pie": [
           {
            "automargin": true,
            "type": "pie"
           }
          ],
          "scatter": [
           {
            "marker": {
             "colorbar": {
              "outlinewidth": 0,
              "ticks": ""
             }
            },
            "type": "scatter"
           }
          ],
          "scatter3d": [
           {
            "line": {
             "colorbar": {
              "outlinewidth": 0,
              "ticks": ""
             }
            },
            "marker": {
             "colorbar": {
              "outlinewidth": 0,
              "ticks": ""
             }
            },
            "type": "scatter3d"
           }
          ],
          "scattercarpet": [
           {
            "marker": {
             "colorbar": {
              "outlinewidth": 0,
              "ticks": ""
             }
            },
            "type": "scattercarpet"
           }
          ],
          "scattergeo": [
           {
            "marker": {
             "colorbar": {
              "outlinewidth": 0,
              "ticks": ""
             }
            },
            "type": "scattergeo"
           }
          ],
          "scattergl": [
           {
            "marker": {
             "colorbar": {
              "outlinewidth": 0,
              "ticks": ""
             }
            },
            "type": "scattergl"
           }
          ],
          "scattermapbox": [
           {
            "marker": {
             "colorbar": {
              "outlinewidth": 0,
              "ticks": ""
             }
            },
            "type": "scattermapbox"
           }
          ],
          "scatterpolar": [
           {
            "marker": {
             "colorbar": {
              "outlinewidth": 0,
              "ticks": ""
             }
            },
            "type": "scatterpolar"
           }
          ],
          "scatterpolargl": [
           {
            "marker": {
             "colorbar": {
              "outlinewidth": 0,
              "ticks": ""
             }
            },
            "type": "scatterpolargl"
           }
          ],
          "scatterternary": [
           {
            "marker": {
             "colorbar": {
              "outlinewidth": 0,
              "ticks": ""
             }
            },
            "type": "scatterternary"
           }
          ],
          "surface": [
           {
            "colorbar": {
             "outlinewidth": 0,
             "ticks": ""
            },
            "colorscale": [
             [
              0,
              "#0d0887"
             ],
             [
              0.1111111111111111,
              "#46039f"
             ],
             [
              0.2222222222222222,
              "#7201a8"
             ],
             [
              0.3333333333333333,
              "#9c179e"
             ],
             [
              0.4444444444444444,
              "#bd3786"
             ],
             [
              0.5555555555555556,
              "#d8576b"
             ],
             [
              0.6666666666666666,
              "#ed7953"
             ],
             [
              0.7777777777777778,
              "#fb9f3a"
             ],
             [
              0.8888888888888888,
              "#fdca26"
             ],
             [
              1,
              "#f0f921"
             ]
            ],
            "type": "surface"
           }
          ],
          "table": [
           {
            "cells": {
             "fill": {
              "color": "#EBF0F8"
             },
             "line": {
              "color": "white"
             }
            },
            "header": {
             "fill": {
              "color": "#C8D4E3"
             },
             "line": {
              "color": "white"
             }
            },
            "type": "table"
           }
          ]
         },
         "layout": {
          "annotationdefaults": {
           "arrowcolor": "#2a3f5f",
           "arrowhead": 0,
           "arrowwidth": 1
          },
          "coloraxis": {
           "colorbar": {
            "outlinewidth": 0,
            "ticks": ""
           }
          },
          "colorscale": {
           "diverging": [
            [
             0,
             "#8e0152"
            ],
            [
             0.1,
             "#c51b7d"
            ],
            [
             0.2,
             "#de77ae"
            ],
            [
             0.3,
             "#f1b6da"
            ],
            [
             0.4,
             "#fde0ef"
            ],
            [
             0.5,
             "#f7f7f7"
            ],
            [
             0.6,
             "#e6f5d0"
            ],
            [
             0.7,
             "#b8e186"
            ],
            [
             0.8,
             "#7fbc41"
            ],
            [
             0.9,
             "#4d9221"
            ],
            [
             1,
             "#276419"
            ]
           ],
           "sequential": [
            [
             0,
             "#0d0887"
            ],
            [
             0.1111111111111111,
             "#46039f"
            ],
            [
             0.2222222222222222,
             "#7201a8"
            ],
            [
             0.3333333333333333,
             "#9c179e"
            ],
            [
             0.4444444444444444,
             "#bd3786"
            ],
            [
             0.5555555555555556,
             "#d8576b"
            ],
            [
             0.6666666666666666,
             "#ed7953"
            ],
            [
             0.7777777777777778,
             "#fb9f3a"
            ],
            [
             0.8888888888888888,
             "#fdca26"
            ],
            [
             1,
             "#f0f921"
            ]
           ],
           "sequentialminus": [
            [
             0,
             "#0d0887"
            ],
            [
             0.1111111111111111,
             "#46039f"
            ],
            [
             0.2222222222222222,
             "#7201a8"
            ],
            [
             0.3333333333333333,
             "#9c179e"
            ],
            [
             0.4444444444444444,
             "#bd3786"
            ],
            [
             0.5555555555555556,
             "#d8576b"
            ],
            [
             0.6666666666666666,
             "#ed7953"
            ],
            [
             0.7777777777777778,
             "#fb9f3a"
            ],
            [
             0.8888888888888888,
             "#fdca26"
            ],
            [
             1,
             "#f0f921"
            ]
           ]
          },
          "colorway": [
           "#636efa",
           "#EF553B",
           "#00cc96",
           "#ab63fa",
           "#FFA15A",
           "#19d3f3",
           "#FF6692",
           "#B6E880",
           "#FF97FF",
           "#FECB52"
          ],
          "font": {
           "color": "#2a3f5f"
          },
          "geo": {
           "bgcolor": "white",
           "lakecolor": "white",
           "landcolor": "#E5ECF6",
           "showlakes": true,
           "showland": true,
           "subunitcolor": "white"
          },
          "hoverlabel": {
           "align": "left"
          },
          "hovermode": "closest",
          "mapbox": {
           "style": "light"
          },
          "paper_bgcolor": "white",
          "plot_bgcolor": "#E5ECF6",
          "polar": {
           "angularaxis": {
            "gridcolor": "white",
            "linecolor": "white",
            "ticks": ""
           },
           "bgcolor": "#E5ECF6",
           "radialaxis": {
            "gridcolor": "white",
            "linecolor": "white",
            "ticks": ""
           }
          },
          "scene": {
           "xaxis": {
            "backgroundcolor": "#E5ECF6",
            "gridcolor": "white",
            "gridwidth": 2,
            "linecolor": "white",
            "showbackground": true,
            "ticks": "",
            "zerolinecolor": "white"
           },
           "yaxis": {
            "backgroundcolor": "#E5ECF6",
            "gridcolor": "white",
            "gridwidth": 2,
            "linecolor": "white",
            "showbackground": true,
            "ticks": "",
            "zerolinecolor": "white"
           },
           "zaxis": {
            "backgroundcolor": "#E5ECF6",
            "gridcolor": "white",
            "gridwidth": 2,
            "linecolor": "white",
            "showbackground": true,
            "ticks": "",
            "zerolinecolor": "white"
           }
          },
          "shapedefaults": {
           "line": {
            "color": "#2a3f5f"
           }
          },
          "ternary": {
           "aaxis": {
            "gridcolor": "white",
            "linecolor": "white",
            "ticks": ""
           },
           "baxis": {
            "gridcolor": "white",
            "linecolor": "white",
            "ticks": ""
           },
           "bgcolor": "#E5ECF6",
           "caxis": {
            "gridcolor": "white",
            "linecolor": "white",
            "ticks": ""
           }
          },
          "title": {
           "x": 0.05
          },
          "xaxis": {
           "automargin": true,
           "gridcolor": "white",
           "linecolor": "white",
           "ticks": "",
           "title": {
            "standoff": 15
           },
           "zerolinecolor": "white",
           "zerolinewidth": 2
          },
          "yaxis": {
           "automargin": true,
           "gridcolor": "white",
           "linecolor": "white",
           "ticks": "",
           "title": {
            "standoff": 15
           },
           "zerolinecolor": "white",
           "zerolinewidth": 2
          }
         }
        },
        "xaxis": {
         "anchor": "y",
         "domain": [
          0,
          1
         ],
         "title": {
          "text": "Date of Infection"
         }
        },
        "yaxis": {
         "anchor": "x",
         "domain": [
          0,
          1
         ],
         "title": {
          "text": "Total Number of Cases"
         }
        }
       }
      },
      "text/html": [
       "<div>\n",
       "        \n",
       "        \n",
       "            <div id=\"5bb513f4-3cbc-4aac-87dd-c6417e210fb9\" class=\"plotly-graph-div\" style=\"height:525px; width:100%;\"></div>\n",
       "            <script type=\"text/javascript\">\n",
       "                require([\"plotly\"], function(Plotly) {\n",
       "                    window.PLOTLYENV=window.PLOTLYENV || {};\n",
       "                    \n",
       "                if (document.getElementById(\"5bb513f4-3cbc-4aac-87dd-c6417e210fb9\")) {\n",
       "                    Plotly.newPlot(\n",
       "                        '5bb513f4-3cbc-4aac-87dd-c6417e210fb9',\n",
       "                        [{\"alignmentgroup\": \"True\", \"hoverlabel\": {\"namelength\": 0}, \"hovertemplate\": \"Region=01-Bas-Saint-Laurent<br>Date of Infection=%{x}<br>Total Number of Cases=%{y}\", \"legendgroup\": \"01-Bas-Saint-Laurent\", \"marker\": {\"color\": \"#FD3216\"}, \"name\": \"01-Bas-Saint-Laurent\", \"offsetgroup\": \"01-Bas-Saint-Laurent\", \"orientation\": \"v\", \"showlegend\": true, \"textposition\": \"auto\", \"type\": \"bar\", \"x\": [\"13th\", \"14th\", \"15th\", \"16th\", \"17th\", \"18th\", \"19th\", \"20th\", \"21st\", \"22nd\"], \"xaxis\": \"x\", \"y\": [0.0, 0.0, 0.0, 0.0, 0.0, 0.0, 1.0, 1.0, 1.0, 1.0], \"yaxis\": \"y\"}, {\"alignmentgroup\": \"True\", \"hoverlabel\": {\"namelength\": 0}, \"hovertemplate\": \"Region=02- Saguenay-Lac-Saint-Jean<br>Date of Infection=%{x}<br>Total Number of Cases=%{y}\", \"legendgroup\": \"02- Saguenay-Lac-Saint-Jean\", \"marker\": {\"color\": \"#00FE35\"}, \"name\": \"02- Saguenay-Lac-Saint-Jean\", \"offsetgroup\": \"02- Saguenay-Lac-Saint-Jean\", \"orientation\": \"v\", \"showlegend\": true, \"textposition\": \"auto\", \"type\": \"bar\", \"x\": [\"13th\", \"14th\", \"15th\", \"16th\", \"17th\", \"18th\", \"19th\", \"20th\", \"21st\", \"22nd\"], \"xaxis\": \"x\", \"y\": [0.0, 0.0, 0.0, 0.0, 0.0, 0.0, 0.0, 0.0, 1.0, 1.0], \"yaxis\": \"y\"}, {\"alignmentgroup\": \"True\", \"hoverlabel\": {\"namelength\": 0}, \"hovertemplate\": \"Region=03- Capitale-Nationale<br>Date of Infection=%{x}<br>Total Number of Cases=%{y}\", \"legendgroup\": \"03- Capitale-Nationale\", \"marker\": {\"color\": \"#6A76FC\"}, \"name\": \"03- Capitale-Nationale\", \"offsetgroup\": \"03- Capitale-Nationale\", \"orientation\": \"v\", \"showlegend\": true, \"textposition\": \"auto\", \"type\": \"bar\", \"x\": [\"13th\", \"14th\", \"15th\", \"16th\", \"17th\", \"18th\", \"19th\", \"20th\", \"21st\", \"22nd\"], \"xaxis\": \"x\", \"y\": [0.0, 0.0, 2.0, 2.0, 3.0, 8.0, 10.0, 10.0, 13.0, 13.0], \"yaxis\": \"y\"}, {\"alignmentgroup\": \"True\", \"hoverlabel\": {\"namelength\": 0}, \"hovertemplate\": \"Region=04-Mauricie<br>Date of Infection=%{x}<br>Total Number of Cases=%{y}\", \"legendgroup\": \"04-Mauricie\", \"marker\": {\"color\": \"#FED4C4\"}, \"name\": \"04-Mauricie\", \"offsetgroup\": \"04-Mauricie\", \"orientation\": \"v\", \"showlegend\": true, \"textposition\": \"auto\", \"type\": \"bar\", \"x\": [\"13th\", \"14th\", \"15th\", \"16th\", \"17th\", \"18th\", \"19th\", \"20th\", \"21st\", \"22nd\"], \"xaxis\": \"x\", \"y\": [1.0, 1.0, 3.0, 3.0, 3.0, 3.0, 3.0, 4.0, 5.0, 7.0], \"yaxis\": \"y\"}, {\"alignmentgroup\": \"True\", \"hoverlabel\": {\"namelength\": 0}, \"hovertemplate\": \"Region=05-Estrie<br>Date of Infection=%{x}<br>Total Number of Cases=%{y}\", \"legendgroup\": \"05-Estrie\", \"marker\": {\"color\": \"#FE00CE\"}, \"name\": \"05-Estrie\", \"offsetgroup\": \"05-Estrie\", \"orientation\": \"v\", \"showlegend\": true, \"textposition\": \"auto\", \"type\": \"bar\", \"x\": [\"13th\", \"14th\", \"15th\", \"16th\", \"17th\", \"18th\", \"19th\", \"20th\", \"21st\", \"22nd\"], \"xaxis\": \"x\", \"y\": [2.0, 3.0, 4.0, 4.0, 9.0, 18.0, 26.0, 26.0, 27.0, 30.0], \"yaxis\": \"y\"}, {\"alignmentgroup\": \"True\", \"hoverlabel\": {\"namelength\": 0}, \"hovertemplate\": \"Region=06-Montreal<br>Date of Infection=%{x}<br>Total Number of Cases=%{y}\", \"legendgroup\": \"06-Montreal\", \"marker\": {\"color\": \"#0DF9FF\"}, \"name\": \"06-Montreal\", \"offsetgroup\": \"06-Montreal\", \"orientation\": \"v\", \"showlegend\": true, \"textposition\": \"auto\", \"type\": \"bar\", \"x\": [\"13th\", \"14th\", \"15th\", \"16th\", \"17th\", \"18th\", \"19th\", \"20th\", \"21st\", \"22nd\"], \"xaxis\": \"x\", \"y\": [7.0, 8.0, 10.0, 18.0, 22.0, 24.0, 28.0, 31.0, 41.0, 46.0], \"yaxis\": \"y\"}, {\"alignmentgroup\": \"True\", \"hoverlabel\": {\"namelength\": 0}, \"hovertemplate\": \"Region=07-Outauais<br>Date of Infection=%{x}<br>Total Number of Cases=%{y}\", \"legendgroup\": \"07-Outauais\", \"marker\": {\"color\": \"#F6F926\"}, \"name\": \"07-Outauais\", \"offsetgroup\": \"07-Outauais\", \"orientation\": \"v\", \"showlegend\": true, \"textposition\": \"auto\", \"type\": \"bar\", \"x\": [\"13th\", \"14th\", \"15th\", \"16th\", \"17th\", \"18th\", \"19th\", \"20th\", \"21st\", \"22nd\"], \"xaxis\": \"x\", \"y\": [0.0, 0.0, 0.0, 0.0, 0.0, 1.0, 1.0, 1.0, 3.0, 5.0], \"yaxis\": \"y\"}, {\"alignmentgroup\": \"True\", \"hoverlabel\": {\"namelength\": 0}, \"hovertemplate\": \"Region=08-Abititi-Temiscaminigue<br>Date of Infection=%{x}<br>Total Number of Cases=%{y}\", \"legendgroup\": \"08-Abititi-Temiscaminigue\", \"marker\": {\"color\": \"#FF9616\"}, \"name\": \"08-Abititi-Temiscaminigue\", \"offsetgroup\": \"08-Abititi-Temiscaminigue\", \"orientation\": \"v\", \"showlegend\": true, \"textposition\": \"auto\", \"type\": \"bar\", \"x\": [\"13th\", \"14th\", \"15th\", \"16th\", \"17th\", \"18th\", \"19th\", \"20th\", \"21st\", \"22nd\"], \"xaxis\": \"x\", \"y\": [0.0, 0.0, 0.0, 0.0, 0.0, 0.0, 0.0, 0.0, 0.0, 0.0], \"yaxis\": \"y\"}, {\"alignmentgroup\": \"True\", \"hoverlabel\": {\"namelength\": 0}, \"hovertemplate\": \"Region=9-Cote-Nord<br>Date of Infection=%{x}<br>Total Number of Cases=%{y}\", \"legendgroup\": \"9-Cote-Nord\", \"marker\": {\"color\": \"#479B55\"}, \"name\": \"9-Cote-Nord\", \"offsetgroup\": \"9-Cote-Nord\", \"orientation\": \"v\", \"showlegend\": true, \"textposition\": \"auto\", \"type\": \"bar\", \"x\": [\"13th\", \"14th\", \"15th\", \"16th\", \"17th\", \"18th\", \"19th\", \"20th\", \"21st\", \"22nd\"], \"xaxis\": \"x\", \"y\": [0.0, 0.0, 0.0, 0.0, 0.0, 0.0, 0.0, 0.0, 0.0, 0.0], \"yaxis\": \"y\"}, {\"alignmentgroup\": \"True\", \"hoverlabel\": {\"namelength\": 0}, \"hovertemplate\": \"Region=10-Nord-du-Quebec<br>Date of Infection=%{x}<br>Total Number of Cases=%{y}\", \"legendgroup\": \"10-Nord-du-Quebec\", \"marker\": {\"color\": \"#EEA6FB\"}, \"name\": \"10-Nord-du-Quebec\", \"offsetgroup\": \"10-Nord-du-Quebec\", \"orientation\": \"v\", \"showlegend\": true, \"textposition\": \"auto\", \"type\": \"bar\", \"x\": [\"13th\", \"14th\", \"15th\", \"16th\", \"17th\", \"18th\", \"19th\", \"20th\", \"21st\", \"22nd\"], \"xaxis\": \"x\", \"y\": [0.0, 0.0, 0.0, 0.0, 0.0, 0.0, 0.0, 1.0, 1.0, 1.0], \"yaxis\": \"y\"}, {\"alignmentgroup\": \"True\", \"hoverlabel\": {\"namelength\": 0}, \"hovertemplate\": \"Region=11- Gaspesie-Iles-de-la-Madelaine<br>Date of Infection=%{x}<br>Total Number of Cases=%{y}\", \"legendgroup\": \"11- Gaspesie-Iles-de-la-Madelaine\", \"marker\": {\"color\": \"#DC587D\"}, \"name\": \"11- Gaspesie-Iles-de-la-Madelaine\", \"offsetgroup\": \"11- Gaspesie-Iles-de-la-Madelaine\", \"orientation\": \"v\", \"showlegend\": true, \"textposition\": \"auto\", \"type\": \"bar\", \"x\": [\"13th\", \"14th\", \"15th\", \"16th\", \"17th\", \"18th\", \"19th\", \"20th\", \"21st\", \"22nd\"], \"xaxis\": \"x\", \"y\": [0.0, 0.0, 0.0, 0.0, 0.0, 0.0, 0.0, 0.0, 0.0, 0.0], \"yaxis\": \"y\"}, {\"alignmentgroup\": \"True\", \"hoverlabel\": {\"namelength\": 0}, \"hovertemplate\": \"Region=12-Chaudiere-Appalaches<br>Date of Infection=%{x}<br>Total Number of Cases=%{y}\", \"legendgroup\": \"12-Chaudiere-Appalaches\", \"marker\": {\"color\": \"#D626FF\"}, \"name\": \"12-Chaudiere-Appalaches\", \"offsetgroup\": \"12-Chaudiere-Appalaches\", \"orientation\": \"v\", \"showlegend\": true, \"textposition\": \"auto\", \"type\": \"bar\", \"x\": [\"13th\", \"14th\", \"15th\", \"16th\", \"17th\", \"18th\", \"19th\", \"20th\", \"21st\", \"22nd\"], \"xaxis\": \"x\", \"y\": [1.0, 1.0, 3.0, 4.0, 4.0, 6.0, 6.0, 6.0, 13.0, 13.0], \"yaxis\": \"y\"}, {\"alignmentgroup\": \"True\", \"hoverlabel\": {\"namelength\": 0}, \"hovertemplate\": \"Region=13- Laval<br>Date of Infection=%{x}<br>Total Number of Cases=%{y}\", \"legendgroup\": \"13- Laval\", \"marker\": {\"color\": \"#6E899C\"}, \"name\": \"13- Laval\", \"offsetgroup\": \"13- Laval\", \"orientation\": \"v\", \"showlegend\": true, \"textposition\": \"auto\", \"type\": \"bar\", \"x\": [\"13th\", \"14th\", \"15th\", \"16th\", \"17th\", \"18th\", \"19th\", \"20th\", \"21st\", \"22nd\"], \"xaxis\": \"x\", \"y\": [0.0, 0.0, 0.0, 0.0, 0.0, 0.0, 1.0, 1.0, 3.0, 4.0], \"yaxis\": \"y\"}, {\"alignmentgroup\": \"True\", \"hoverlabel\": {\"namelength\": 0}, \"hovertemplate\": \"Region=14- Lanaudiere<br>Date of Infection=%{x}<br>Total Number of Cases=%{y}\", \"legendgroup\": \"14- Lanaudiere\", \"marker\": {\"color\": \"#00B5F7\"}, \"name\": \"14- Lanaudiere\", \"offsetgroup\": \"14- Lanaudiere\", \"orientation\": \"v\", \"showlegend\": true, \"textposition\": \"auto\", \"type\": \"bar\", \"x\": [\"13th\", \"14th\", \"15th\", \"16th\", \"17th\", \"18th\", \"19th\", \"20th\", \"21st\", \"22nd\"], \"xaxis\": \"x\", \"y\": [0.0, 1.0, 2.0, 3.0, 6.0, 6.0, 7.0, 7.0, 9.0, 15.0], \"yaxis\": \"y\"}, {\"alignmentgroup\": \"True\", \"hoverlabel\": {\"namelength\": 0}, \"hovertemplate\": \"Region=15- Laurentides<br>Date of Infection=%{x}<br>Total Number of Cases=%{y}\", \"legendgroup\": \"15- Laurentides\", \"marker\": {\"color\": \"#B68E00\"}, \"name\": \"15- Laurentides\", \"offsetgroup\": \"15- Laurentides\", \"orientation\": \"v\", \"showlegend\": true, \"textposition\": \"auto\", \"type\": \"bar\", \"x\": [\"13th\", \"14th\", \"15th\", \"16th\", \"17th\", \"18th\", \"19th\", \"20th\", \"21st\", \"22nd\"], \"xaxis\": \"x\", \"y\": [2.0, 2.0, 3.0, 3.0, 7.0, 8.0, 9.0, 10.0, 14.0, 17.0], \"yaxis\": \"y\"}, {\"alignmentgroup\": \"True\", \"hoverlabel\": {\"namelength\": 0}, \"hovertemplate\": \"Region=16- Monteregie<br>Date of Infection=%{x}<br>Total Number of Cases=%{y}\", \"legendgroup\": \"16- Monteregie\", \"marker\": {\"color\": \"#C9FBE5\"}, \"name\": \"16- Monteregie\", \"offsetgroup\": \"16- Monteregie\", \"orientation\": \"v\", \"showlegend\": true, \"textposition\": \"auto\", \"type\": \"bar\", \"x\": [\"13th\", \"14th\", \"15th\", \"16th\", \"17th\", \"18th\", \"19th\", \"20th\", \"21st\", \"22nd\"], \"xaxis\": \"x\", \"y\": [4.0, 7.0, 9.0, 10.0, 13.0, 13.0, 19.0, 21.0, 26.0, 40.0], \"yaxis\": \"y\"}, {\"alignmentgroup\": \"True\", \"hoverlabel\": {\"namelength\": 0}, \"hovertemplate\": \"Region=17- Centre du Quebec<br>Date of Infection=%{x}<br>Total Number of Cases=%{y}\", \"legendgroup\": \"17- Centre du Quebec\", \"marker\": {\"color\": \"#FF0092\"}, \"name\": \"17- Centre du Quebec\", \"offsetgroup\": \"17- Centre du Quebec\", \"orientation\": \"v\", \"showlegend\": true, \"textposition\": \"auto\", \"type\": \"bar\", \"x\": [\"13th\", \"14th\", \"15th\", \"16th\", \"17th\", \"18th\", \"19th\", \"20th\", \"21st\", \"22nd\"], \"xaxis\": \"x\", \"y\": [0.0, 0.0, 0.0, 0.0, 0.0, 0.0, 0.0, 0.0, 0.0, 0.0], \"yaxis\": \"y\"}, {\"alignmentgroup\": \"True\", \"hoverlabel\": {\"namelength\": 0}, \"hovertemplate\": \"Region=Undetermined<br>Date of Infection=%{x}<br>Total Number of Cases=%{y}\", \"legendgroup\": \"Undetermined\", \"marker\": {\"color\": \"#22FFA7\"}, \"name\": \"Undetermined\", \"offsetgroup\": \"Undetermined\", \"orientation\": \"v\", \"showlegend\": true, \"textposition\": \"auto\", \"type\": \"bar\", \"x\": [\"13th\", \"14th\", \"15th\", \"16th\", \"17th\", \"18th\", \"19th\", \"20th\", \"21st\", \"22nd\"], \"xaxis\": \"x\", \"y\": [0.0, 1.0, 2.0, 3.0, 5.0, 5.0, 8.0, 18.0, 22.0, 24.0], \"yaxis\": \"y\"}, {\"alignmentgroup\": \"True\", \"hoverlabel\": {\"namelength\": 0}, \"hovertemplate\": \"Region=Hors Quebec<br>Date of Infection=%{x}<br>Total Number of Cases=%{y}\", \"legendgroup\": \"Hors Quebec\", \"marker\": {\"color\": \"#E3EE9E\"}, \"name\": \"Hors Quebec\", \"offsetgroup\": \"Hors Quebec\", \"orientation\": \"v\", \"showlegend\": true, \"textposition\": \"auto\", \"type\": \"bar\", \"x\": [\"13th\", \"14th\", \"15th\", \"16th\", \"17th\", \"18th\", \"19th\", \"20th\", \"21st\", \"22nd\"], \"xaxis\": \"x\", \"y\": [0.0, 0.0, 1.0, 1.0, 2.0, 2.0, 2.0, 2.0, 2.0, 2.0], \"yaxis\": \"y\"}, {\"mode\": \"lines\", \"name\": \"Total\", \"type\": \"scatter\", \"x\": [\"13th\", \"14th\", \"15th\", \"16th\", \"17th\", \"18th\", \"19th\", \"20th\", \"21st\", \"22nd\"], \"y\": [17.0, 24.0, 39, 51, 74, 94, 121, 139, 181, 219]}],\n",
       "                        {\"barmode\": \"relative\", \"legend\": {\"title\": {\"text\": \"Region\"}, \"tracegroupgap\": 0}, \"margin\": {\"t\": 60}, \"template\": {\"data\": {\"bar\": [{\"error_x\": {\"color\": \"#2a3f5f\"}, \"error_y\": {\"color\": \"#2a3f5f\"}, \"marker\": {\"line\": {\"color\": \"#E5ECF6\", \"width\": 0.5}}, \"type\": \"bar\"}], \"barpolar\": [{\"marker\": {\"line\": {\"color\": \"#E5ECF6\", \"width\": 0.5}}, \"type\": \"barpolar\"}], \"carpet\": [{\"aaxis\": {\"endlinecolor\": \"#2a3f5f\", \"gridcolor\": \"white\", \"linecolor\": \"white\", \"minorgridcolor\": \"white\", \"startlinecolor\": \"#2a3f5f\"}, \"baxis\": {\"endlinecolor\": \"#2a3f5f\", \"gridcolor\": \"white\", \"linecolor\": \"white\", \"minorgridcolor\": \"white\", \"startlinecolor\": \"#2a3f5f\"}, \"type\": \"carpet\"}], \"choropleth\": [{\"colorbar\": {\"outlinewidth\": 0, \"ticks\": \"\"}, \"type\": \"choropleth\"}], \"contour\": [{\"colorbar\": {\"outlinewidth\": 0, \"ticks\": \"\"}, \"colorscale\": [[0.0, \"#0d0887\"], [0.1111111111111111, \"#46039f\"], [0.2222222222222222, \"#7201a8\"], [0.3333333333333333, \"#9c179e\"], [0.4444444444444444, \"#bd3786\"], [0.5555555555555556, \"#d8576b\"], [0.6666666666666666, \"#ed7953\"], [0.7777777777777778, \"#fb9f3a\"], [0.8888888888888888, \"#fdca26\"], [1.0, \"#f0f921\"]], \"type\": \"contour\"}], \"contourcarpet\": [{\"colorbar\": {\"outlinewidth\": 0, \"ticks\": \"\"}, \"type\": \"contourcarpet\"}], \"heatmap\": [{\"colorbar\": {\"outlinewidth\": 0, \"ticks\": \"\"}, \"colorscale\": [[0.0, \"#0d0887\"], [0.1111111111111111, \"#46039f\"], [0.2222222222222222, \"#7201a8\"], [0.3333333333333333, \"#9c179e\"], [0.4444444444444444, \"#bd3786\"], [0.5555555555555556, \"#d8576b\"], [0.6666666666666666, \"#ed7953\"], [0.7777777777777778, \"#fb9f3a\"], [0.8888888888888888, \"#fdca26\"], [1.0, \"#f0f921\"]], \"type\": \"heatmap\"}], \"heatmapgl\": [{\"colorbar\": {\"outlinewidth\": 0, \"ticks\": \"\"}, \"colorscale\": [[0.0, \"#0d0887\"], [0.1111111111111111, \"#46039f\"], [0.2222222222222222, \"#7201a8\"], [0.3333333333333333, \"#9c179e\"], [0.4444444444444444, \"#bd3786\"], [0.5555555555555556, \"#d8576b\"], [0.6666666666666666, \"#ed7953\"], [0.7777777777777778, \"#fb9f3a\"], [0.8888888888888888, \"#fdca26\"], [1.0, \"#f0f921\"]], \"type\": \"heatmapgl\"}], \"histogram\": [{\"marker\": {\"colorbar\": {\"outlinewidth\": 0, \"ticks\": \"\"}}, \"type\": \"histogram\"}], \"histogram2d\": [{\"colorbar\": {\"outlinewidth\": 0, \"ticks\": \"\"}, \"colorscale\": [[0.0, \"#0d0887\"], [0.1111111111111111, \"#46039f\"], [0.2222222222222222, \"#7201a8\"], [0.3333333333333333, \"#9c179e\"], [0.4444444444444444, \"#bd3786\"], [0.5555555555555556, \"#d8576b\"], [0.6666666666666666, \"#ed7953\"], [0.7777777777777778, \"#fb9f3a\"], [0.8888888888888888, \"#fdca26\"], [1.0, \"#f0f921\"]], \"type\": \"histogram2d\"}], \"histogram2dcontour\": [{\"colorbar\": {\"outlinewidth\": 0, \"ticks\": \"\"}, \"colorscale\": [[0.0, \"#0d0887\"], [0.1111111111111111, \"#46039f\"], [0.2222222222222222, \"#7201a8\"], [0.3333333333333333, \"#9c179e\"], [0.4444444444444444, \"#bd3786\"], [0.5555555555555556, \"#d8576b\"], [0.6666666666666666, \"#ed7953\"], [0.7777777777777778, \"#fb9f3a\"], [0.8888888888888888, \"#fdca26\"], [1.0, \"#f0f921\"]], \"type\": \"histogram2dcontour\"}], \"mesh3d\": [{\"colorbar\": {\"outlinewidth\": 0, \"ticks\": \"\"}, \"type\": \"mesh3d\"}], \"parcoords\": [{\"line\": {\"colorbar\": {\"outlinewidth\": 0, \"ticks\": \"\"}}, \"type\": \"parcoords\"}], \"pie\": [{\"automargin\": true, \"type\": \"pie\"}], \"scatter\": [{\"marker\": {\"colorbar\": {\"outlinewidth\": 0, \"ticks\": \"\"}}, \"type\": \"scatter\"}], \"scatter3d\": [{\"line\": {\"colorbar\": {\"outlinewidth\": 0, \"ticks\": \"\"}}, \"marker\": {\"colorbar\": {\"outlinewidth\": 0, \"ticks\": \"\"}}, \"type\": \"scatter3d\"}], \"scattercarpet\": [{\"marker\": {\"colorbar\": {\"outlinewidth\": 0, \"ticks\": \"\"}}, \"type\": \"scattercarpet\"}], \"scattergeo\": [{\"marker\": {\"colorbar\": {\"outlinewidth\": 0, \"ticks\": \"\"}}, \"type\": \"scattergeo\"}], \"scattergl\": [{\"marker\": {\"colorbar\": {\"outlinewidth\": 0, \"ticks\": \"\"}}, \"type\": \"scattergl\"}], \"scattermapbox\": [{\"marker\": {\"colorbar\": {\"outlinewidth\": 0, \"ticks\": \"\"}}, \"type\": \"scattermapbox\"}], \"scatterpolar\": [{\"marker\": {\"colorbar\": {\"outlinewidth\": 0, \"ticks\": \"\"}}, \"type\": \"scatterpolar\"}], \"scatterpolargl\": [{\"marker\": {\"colorbar\": {\"outlinewidth\": 0, \"ticks\": \"\"}}, \"type\": \"scatterpolargl\"}], \"scatterternary\": [{\"marker\": {\"colorbar\": {\"outlinewidth\": 0, \"ticks\": \"\"}}, \"type\": \"scatterternary\"}], \"surface\": [{\"colorbar\": {\"outlinewidth\": 0, \"ticks\": \"\"}, \"colorscale\": [[0.0, \"#0d0887\"], [0.1111111111111111, \"#46039f\"], [0.2222222222222222, \"#7201a8\"], [0.3333333333333333, \"#9c179e\"], [0.4444444444444444, \"#bd3786\"], [0.5555555555555556, \"#d8576b\"], [0.6666666666666666, \"#ed7953\"], [0.7777777777777778, \"#fb9f3a\"], [0.8888888888888888, \"#fdca26\"], [1.0, \"#f0f921\"]], \"type\": \"surface\"}], \"table\": [{\"cells\": {\"fill\": {\"color\": \"#EBF0F8\"}, \"line\": {\"color\": \"white\"}}, \"header\": {\"fill\": {\"color\": \"#C8D4E3\"}, \"line\": {\"color\": \"white\"}}, \"type\": \"table\"}]}, \"layout\": {\"annotationdefaults\": {\"arrowcolor\": \"#2a3f5f\", \"arrowhead\": 0, \"arrowwidth\": 1}, \"coloraxis\": {\"colorbar\": {\"outlinewidth\": 0, \"ticks\": \"\"}}, \"colorscale\": {\"diverging\": [[0, \"#8e0152\"], [0.1, \"#c51b7d\"], [0.2, \"#de77ae\"], [0.3, \"#f1b6da\"], [0.4, \"#fde0ef\"], [0.5, \"#f7f7f7\"], [0.6, \"#e6f5d0\"], [0.7, \"#b8e186\"], [0.8, \"#7fbc41\"], [0.9, \"#4d9221\"], [1, \"#276419\"]], \"sequential\": [[0.0, \"#0d0887\"], [0.1111111111111111, \"#46039f\"], [0.2222222222222222, \"#7201a8\"], [0.3333333333333333, \"#9c179e\"], [0.4444444444444444, \"#bd3786\"], [0.5555555555555556, \"#d8576b\"], [0.6666666666666666, \"#ed7953\"], [0.7777777777777778, \"#fb9f3a\"], [0.8888888888888888, \"#fdca26\"], [1.0, \"#f0f921\"]], \"sequentialminus\": [[0.0, \"#0d0887\"], [0.1111111111111111, \"#46039f\"], [0.2222222222222222, \"#7201a8\"], [0.3333333333333333, \"#9c179e\"], [0.4444444444444444, \"#bd3786\"], [0.5555555555555556, \"#d8576b\"], [0.6666666666666666, \"#ed7953\"], [0.7777777777777778, \"#fb9f3a\"], [0.8888888888888888, \"#fdca26\"], [1.0, \"#f0f921\"]]}, \"colorway\": [\"#636efa\", \"#EF553B\", \"#00cc96\", \"#ab63fa\", \"#FFA15A\", \"#19d3f3\", \"#FF6692\", \"#B6E880\", \"#FF97FF\", \"#FECB52\"], \"font\": {\"color\": \"#2a3f5f\"}, \"geo\": {\"bgcolor\": \"white\", \"lakecolor\": \"white\", \"landcolor\": \"#E5ECF6\", \"showlakes\": true, \"showland\": true, \"subunitcolor\": \"white\"}, \"hoverlabel\": {\"align\": \"left\"}, \"hovermode\": \"closest\", \"mapbox\": {\"style\": \"light\"}, \"paper_bgcolor\": \"white\", \"plot_bgcolor\": \"#E5ECF6\", \"polar\": {\"angularaxis\": {\"gridcolor\": \"white\", \"linecolor\": \"white\", \"ticks\": \"\"}, \"bgcolor\": \"#E5ECF6\", \"radialaxis\": {\"gridcolor\": \"white\", \"linecolor\": \"white\", \"ticks\": \"\"}}, \"scene\": {\"xaxis\": {\"backgroundcolor\": \"#E5ECF6\", \"gridcolor\": \"white\", \"gridwidth\": 2, \"linecolor\": \"white\", \"showbackground\": true, \"ticks\": \"\", \"zerolinecolor\": \"white\"}, \"yaxis\": {\"backgroundcolor\": \"#E5ECF6\", \"gridcolor\": \"white\", \"gridwidth\": 2, \"linecolor\": \"white\", \"showbackground\": true, \"ticks\": \"\", \"zerolinecolor\": \"white\"}, \"zaxis\": {\"backgroundcolor\": \"#E5ECF6\", \"gridcolor\": \"white\", \"gridwidth\": 2, \"linecolor\": \"white\", \"showbackground\": true, \"ticks\": \"\", \"zerolinecolor\": \"white\"}}, \"shapedefaults\": {\"line\": {\"color\": \"#2a3f5f\"}}, \"ternary\": {\"aaxis\": {\"gridcolor\": \"white\", \"linecolor\": \"white\", \"ticks\": \"\"}, \"baxis\": {\"gridcolor\": \"white\", \"linecolor\": \"white\", \"ticks\": \"\"}, \"bgcolor\": \"#E5ECF6\", \"caxis\": {\"gridcolor\": \"white\", \"linecolor\": \"white\", \"ticks\": \"\"}}, \"title\": {\"x\": 0.05}, \"xaxis\": {\"automargin\": true, \"gridcolor\": \"white\", \"linecolor\": \"white\", \"ticks\": \"\", \"title\": {\"standoff\": 15}, \"zerolinecolor\": \"white\", \"zerolinewidth\": 2}, \"yaxis\": {\"automargin\": true, \"gridcolor\": \"white\", \"linecolor\": \"white\", \"ticks\": \"\", \"title\": {\"standoff\": 15}, \"zerolinecolor\": \"white\", \"zerolinewidth\": 2}}}, \"xaxis\": {\"anchor\": \"y\", \"domain\": [0.0, 1.0], \"title\": {\"text\": \"Date of Infection\"}}, \"yaxis\": {\"anchor\": \"x\", \"domain\": [0.0, 1.0], \"title\": {\"text\": \"Total Number of Cases\"}}},\n",
       "                        {\"responsive\": true}\n",
       "                    ).then(function(){\n",
       "                            \n",
       "var gd = document.getElementById('5bb513f4-3cbc-4aac-87dd-c6417e210fb9');\n",
       "var x = new MutationObserver(function (mutations, observer) {{\n",
       "        var display = window.getComputedStyle(gd).display;\n",
       "        if (!display || display === 'none') {{\n",
       "            console.log([gd, 'removed!']);\n",
       "            Plotly.purge(gd);\n",
       "            observer.disconnect();\n",
       "        }}\n",
       "}});\n",
       "\n",
       "// Listen for the removal of the full notebook cells\n",
       "var notebookContainer = gd.closest('#notebook-container');\n",
       "if (notebookContainer) {{\n",
       "    x.observe(notebookContainer, {childList: true});\n",
       "}}\n",
       "\n",
       "// Listen for the clearing of the current output cell\n",
       "var outputEl = gd.closest('.output');\n",
       "if (outputEl) {{\n",
       "    x.observe(outputEl, {childList: true});\n",
       "}}\n",
       "\n",
       "                        })\n",
       "                };\n",
       "                });\n",
       "            </script>\n",
       "        </div>"
      ]
     },
     "metadata": {},
     "output_type": "display_data"
    }
   ],
   "source": [
    "fig = px.bar(stacked_df, x=\"Date of Infection\", y=\"Total Number of Cases\", color = \"Region\", color_discrete_sequence= px.colors.qualitative.Light24)\n",
    "fig.add_trace(go.Scatter(x=dates, y=total_cases,\n",
    "                    mode='lines',\n",
    "                    name='Total'))\n",
    "fig.show()\n",
    "with open('../plotly/Total_cases.html', 'w') as f:\n",
    "    f.write(fig.to_html(include_plotlyjs='cdn'))"
   ]
  },
  {
   "cell_type": "code",
   "execution_count": 18,
   "metadata": {},
   "outputs": [],
   "source": [
    "new_cases = list(df.iloc[20])[2:]"
   ]
  },
  {
   "cell_type": "code",
   "execution_count": 19,
   "metadata": {},
   "outputs": [
    {
     "data": {
      "application/vnd.plotly.v1+json": {
       "config": {
        "plotlyServerURL": "https://plot.ly"
       },
       "data": [
        {
         "mode": "lines",
         "name": "New Cases",
         "type": "scatter",
         "x": [
          "14th",
          "15th",
          "16th",
          "17th",
          "18th",
          "19th",
          "20th",
          "21st",
          "22nd"
         ],
         "y": [
          7,
          15,
          12,
          23,
          20,
          27,
          18,
          42,
          38
         ]
        }
       ],
       "layout": {
        "template": {
         "data": {
          "bar": [
           {
            "error_x": {
             "color": "#2a3f5f"
            },
            "error_y": {
             "color": "#2a3f5f"
            },
            "marker": {
             "line": {
              "color": "#E5ECF6",
              "width": 0.5
             }
            },
            "type": "bar"
           }
          ],
          "barpolar": [
           {
            "marker": {
             "line": {
              "color": "#E5ECF6",
              "width": 0.5
             }
            },
            "type": "barpolar"
           }
          ],
          "carpet": [
           {
            "aaxis": {
             "endlinecolor": "#2a3f5f",
             "gridcolor": "white",
             "linecolor": "white",
             "minorgridcolor": "white",
             "startlinecolor": "#2a3f5f"
            },
            "baxis": {
             "endlinecolor": "#2a3f5f",
             "gridcolor": "white",
             "linecolor": "white",
             "minorgridcolor": "white",
             "startlinecolor": "#2a3f5f"
            },
            "type": "carpet"
           }
          ],
          "choropleth": [
           {
            "colorbar": {
             "outlinewidth": 0,
             "ticks": ""
            },
            "type": "choropleth"
           }
          ],
          "contour": [
           {
            "colorbar": {
             "outlinewidth": 0,
             "ticks": ""
            },
            "colorscale": [
             [
              0,
              "#0d0887"
             ],
             [
              0.1111111111111111,
              "#46039f"
             ],
             [
              0.2222222222222222,
              "#7201a8"
             ],
             [
              0.3333333333333333,
              "#9c179e"
             ],
             [
              0.4444444444444444,
              "#bd3786"
             ],
             [
              0.5555555555555556,
              "#d8576b"
             ],
             [
              0.6666666666666666,
              "#ed7953"
             ],
             [
              0.7777777777777778,
              "#fb9f3a"
             ],
             [
              0.8888888888888888,
              "#fdca26"
             ],
             [
              1,
              "#f0f921"
             ]
            ],
            "type": "contour"
           }
          ],
          "contourcarpet": [
           {
            "colorbar": {
             "outlinewidth": 0,
             "ticks": ""
            },
            "type": "contourcarpet"
           }
          ],
          "heatmap": [
           {
            "colorbar": {
             "outlinewidth": 0,
             "ticks": ""
            },
            "colorscale": [
             [
              0,
              "#0d0887"
             ],
             [
              0.1111111111111111,
              "#46039f"
             ],
             [
              0.2222222222222222,
              "#7201a8"
             ],
             [
              0.3333333333333333,
              "#9c179e"
             ],
             [
              0.4444444444444444,
              "#bd3786"
             ],
             [
              0.5555555555555556,
              "#d8576b"
             ],
             [
              0.6666666666666666,
              "#ed7953"
             ],
             [
              0.7777777777777778,
              "#fb9f3a"
             ],
             [
              0.8888888888888888,
              "#fdca26"
             ],
             [
              1,
              "#f0f921"
             ]
            ],
            "type": "heatmap"
           }
          ],
          "heatmapgl": [
           {
            "colorbar": {
             "outlinewidth": 0,
             "ticks": ""
            },
            "colorscale": [
             [
              0,
              "#0d0887"
             ],
             [
              0.1111111111111111,
              "#46039f"
             ],
             [
              0.2222222222222222,
              "#7201a8"
             ],
             [
              0.3333333333333333,
              "#9c179e"
             ],
             [
              0.4444444444444444,
              "#bd3786"
             ],
             [
              0.5555555555555556,
              "#d8576b"
             ],
             [
              0.6666666666666666,
              "#ed7953"
             ],
             [
              0.7777777777777778,
              "#fb9f3a"
             ],
             [
              0.8888888888888888,
              "#fdca26"
             ],
             [
              1,
              "#f0f921"
             ]
            ],
            "type": "heatmapgl"
           }
          ],
          "histogram": [
           {
            "marker": {
             "colorbar": {
              "outlinewidth": 0,
              "ticks": ""
             }
            },
            "type": "histogram"
           }
          ],
          "histogram2d": [
           {
            "colorbar": {
             "outlinewidth": 0,
             "ticks": ""
            },
            "colorscale": [
             [
              0,
              "#0d0887"
             ],
             [
              0.1111111111111111,
              "#46039f"
             ],
             [
              0.2222222222222222,
              "#7201a8"
             ],
             [
              0.3333333333333333,
              "#9c179e"
             ],
             [
              0.4444444444444444,
              "#bd3786"
             ],
             [
              0.5555555555555556,
              "#d8576b"
             ],
             [
              0.6666666666666666,
              "#ed7953"
             ],
             [
              0.7777777777777778,
              "#fb9f3a"
             ],
             [
              0.8888888888888888,
              "#fdca26"
             ],
             [
              1,
              "#f0f921"
             ]
            ],
            "type": "histogram2d"
           }
          ],
          "histogram2dcontour": [
           {
            "colorbar": {
             "outlinewidth": 0,
             "ticks": ""
            },
            "colorscale": [
             [
              0,
              "#0d0887"
             ],
             [
              0.1111111111111111,
              "#46039f"
             ],
             [
              0.2222222222222222,
              "#7201a8"
             ],
             [
              0.3333333333333333,
              "#9c179e"
             ],
             [
              0.4444444444444444,
              "#bd3786"
             ],
             [
              0.5555555555555556,
              "#d8576b"
             ],
             [
              0.6666666666666666,
              "#ed7953"
             ],
             [
              0.7777777777777778,
              "#fb9f3a"
             ],
             [
              0.8888888888888888,
              "#fdca26"
             ],
             [
              1,
              "#f0f921"
             ]
            ],
            "type": "histogram2dcontour"
           }
          ],
          "mesh3d": [
           {
            "colorbar": {
             "outlinewidth": 0,
             "ticks": ""
            },
            "type": "mesh3d"
           }
          ],
          "parcoords": [
           {
            "line": {
             "colorbar": {
              "outlinewidth": 0,
              "ticks": ""
             }
            },
            "type": "parcoords"
           }
          ],
          "pie": [
           {
            "automargin": true,
            "type": "pie"
           }
          ],
          "scatter": [
           {
            "marker": {
             "colorbar": {
              "outlinewidth": 0,
              "ticks": ""
             }
            },
            "type": "scatter"
           }
          ],
          "scatter3d": [
           {
            "line": {
             "colorbar": {
              "outlinewidth": 0,
              "ticks": ""
             }
            },
            "marker": {
             "colorbar": {
              "outlinewidth": 0,
              "ticks": ""
             }
            },
            "type": "scatter3d"
           }
          ],
          "scattercarpet": [
           {
            "marker": {
             "colorbar": {
              "outlinewidth": 0,
              "ticks": ""
             }
            },
            "type": "scattercarpet"
           }
          ],
          "scattergeo": [
           {
            "marker": {
             "colorbar": {
              "outlinewidth": 0,
              "ticks": ""
             }
            },
            "type": "scattergeo"
           }
          ],
          "scattergl": [
           {
            "marker": {
             "colorbar": {
              "outlinewidth": 0,
              "ticks": ""
             }
            },
            "type": "scattergl"
           }
          ],
          "scattermapbox": [
           {
            "marker": {
             "colorbar": {
              "outlinewidth": 0,
              "ticks": ""
             }
            },
            "type": "scattermapbox"
           }
          ],
          "scatterpolar": [
           {
            "marker": {
             "colorbar": {
              "outlinewidth": 0,
              "ticks": ""
             }
            },
            "type": "scatterpolar"
           }
          ],
          "scatterpolargl": [
           {
            "marker": {
             "colorbar": {
              "outlinewidth": 0,
              "ticks": ""
             }
            },
            "type": "scatterpolargl"
           }
          ],
          "scatterternary": [
           {
            "marker": {
             "colorbar": {
              "outlinewidth": 0,
              "ticks": ""
             }
            },
            "type": "scatterternary"
           }
          ],
          "surface": [
           {
            "colorbar": {
             "outlinewidth": 0,
             "ticks": ""
            },
            "colorscale": [
             [
              0,
              "#0d0887"
             ],
             [
              0.1111111111111111,
              "#46039f"
             ],
             [
              0.2222222222222222,
              "#7201a8"
             ],
             [
              0.3333333333333333,
              "#9c179e"
             ],
             [
              0.4444444444444444,
              "#bd3786"
             ],
             [
              0.5555555555555556,
              "#d8576b"
             ],
             [
              0.6666666666666666,
              "#ed7953"
             ],
             [
              0.7777777777777778,
              "#fb9f3a"
             ],
             [
              0.8888888888888888,
              "#fdca26"
             ],
             [
              1,
              "#f0f921"
             ]
            ],
            "type": "surface"
           }
          ],
          "table": [
           {
            "cells": {
             "fill": {
              "color": "#EBF0F8"
             },
             "line": {
              "color": "white"
             }
            },
            "header": {
             "fill": {
              "color": "#C8D4E3"
             },
             "line": {
              "color": "white"
             }
            },
            "type": "table"
           }
          ]
         },
         "layout": {
          "annotationdefaults": {
           "arrowcolor": "#2a3f5f",
           "arrowhead": 0,
           "arrowwidth": 1
          },
          "coloraxis": {
           "colorbar": {
            "outlinewidth": 0,
            "ticks": ""
           }
          },
          "colorscale": {
           "diverging": [
            [
             0,
             "#8e0152"
            ],
            [
             0.1,
             "#c51b7d"
            ],
            [
             0.2,
             "#de77ae"
            ],
            [
             0.3,
             "#f1b6da"
            ],
            [
             0.4,
             "#fde0ef"
            ],
            [
             0.5,
             "#f7f7f7"
            ],
            [
             0.6,
             "#e6f5d0"
            ],
            [
             0.7,
             "#b8e186"
            ],
            [
             0.8,
             "#7fbc41"
            ],
            [
             0.9,
             "#4d9221"
            ],
            [
             1,
             "#276419"
            ]
           ],
           "sequential": [
            [
             0,
             "#0d0887"
            ],
            [
             0.1111111111111111,
             "#46039f"
            ],
            [
             0.2222222222222222,
             "#7201a8"
            ],
            [
             0.3333333333333333,
             "#9c179e"
            ],
            [
             0.4444444444444444,
             "#bd3786"
            ],
            [
             0.5555555555555556,
             "#d8576b"
            ],
            [
             0.6666666666666666,
             "#ed7953"
            ],
            [
             0.7777777777777778,
             "#fb9f3a"
            ],
            [
             0.8888888888888888,
             "#fdca26"
            ],
            [
             1,
             "#f0f921"
            ]
           ],
           "sequentialminus": [
            [
             0,
             "#0d0887"
            ],
            [
             0.1111111111111111,
             "#46039f"
            ],
            [
             0.2222222222222222,
             "#7201a8"
            ],
            [
             0.3333333333333333,
             "#9c179e"
            ],
            [
             0.4444444444444444,
             "#bd3786"
            ],
            [
             0.5555555555555556,
             "#d8576b"
            ],
            [
             0.6666666666666666,
             "#ed7953"
            ],
            [
             0.7777777777777778,
             "#fb9f3a"
            ],
            [
             0.8888888888888888,
             "#fdca26"
            ],
            [
             1,
             "#f0f921"
            ]
           ]
          },
          "colorway": [
           "#636efa",
           "#EF553B",
           "#00cc96",
           "#ab63fa",
           "#FFA15A",
           "#19d3f3",
           "#FF6692",
           "#B6E880",
           "#FF97FF",
           "#FECB52"
          ],
          "font": {
           "color": "#2a3f5f"
          },
          "geo": {
           "bgcolor": "white",
           "lakecolor": "white",
           "landcolor": "#E5ECF6",
           "showlakes": true,
           "showland": true,
           "subunitcolor": "white"
          },
          "hoverlabel": {
           "align": "left"
          },
          "hovermode": "closest",
          "mapbox": {
           "style": "light"
          },
          "paper_bgcolor": "white",
          "plot_bgcolor": "#E5ECF6",
          "polar": {
           "angularaxis": {
            "gridcolor": "white",
            "linecolor": "white",
            "ticks": ""
           },
           "bgcolor": "#E5ECF6",
           "radialaxis": {
            "gridcolor": "white",
            "linecolor": "white",
            "ticks": ""
           }
          },
          "scene": {
           "xaxis": {
            "backgroundcolor": "#E5ECF6",
            "gridcolor": "white",
            "gridwidth": 2,
            "linecolor": "white",
            "showbackground": true,
            "ticks": "",
            "zerolinecolor": "white"
           },
           "yaxis": {
            "backgroundcolor": "#E5ECF6",
            "gridcolor": "white",
            "gridwidth": 2,
            "linecolor": "white",
            "showbackground": true,
            "ticks": "",
            "zerolinecolor": "white"
           },
           "zaxis": {
            "backgroundcolor": "#E5ECF6",
            "gridcolor": "white",
            "gridwidth": 2,
            "linecolor": "white",
            "showbackground": true,
            "ticks": "",
            "zerolinecolor": "white"
           }
          },
          "shapedefaults": {
           "line": {
            "color": "#2a3f5f"
           }
          },
          "ternary": {
           "aaxis": {
            "gridcolor": "white",
            "linecolor": "white",
            "ticks": ""
           },
           "baxis": {
            "gridcolor": "white",
            "linecolor": "white",
            "ticks": ""
           },
           "bgcolor": "#E5ECF6",
           "caxis": {
            "gridcolor": "white",
            "linecolor": "white",
            "ticks": ""
           }
          },
          "title": {
           "x": 0.05
          },
          "xaxis": {
           "automargin": true,
           "gridcolor": "white",
           "linecolor": "white",
           "ticks": "",
           "title": {
            "standoff": 15
           },
           "zerolinecolor": "white",
           "zerolinewidth": 2
          },
          "yaxis": {
           "automargin": true,
           "gridcolor": "white",
           "linecolor": "white",
           "ticks": "",
           "title": {
            "standoff": 15
           },
           "zerolinecolor": "white",
           "zerolinewidth": 2
          }
         }
        },
        "title": {
         "text": "New Cases Each Day"
        },
        "xaxis": {
         "title": {
          "text": "Day"
         }
        },
        "yaxis": {
         "title": {
          "text": "Number of New Cases"
         }
        }
       }
      },
      "text/html": [
       "<div>\n",
       "        \n",
       "        \n",
       "            <div id=\"fc0bbc38-d563-4b2b-b01d-761d5d0162fa\" class=\"plotly-graph-div\" style=\"height:525px; width:100%;\"></div>\n",
       "            <script type=\"text/javascript\">\n",
       "                require([\"plotly\"], function(Plotly) {\n",
       "                    window.PLOTLYENV=window.PLOTLYENV || {};\n",
       "                    \n",
       "                if (document.getElementById(\"fc0bbc38-d563-4b2b-b01d-761d5d0162fa\")) {\n",
       "                    Plotly.newPlot(\n",
       "                        'fc0bbc38-d563-4b2b-b01d-761d5d0162fa',\n",
       "                        [{\"mode\": \"lines\", \"name\": \"New Cases\", \"type\": \"scatter\", \"x\": [\"14th\", \"15th\", \"16th\", \"17th\", \"18th\", \"19th\", \"20th\", \"21st\", \"22nd\"], \"y\": [7.0, 15, 12, 23, 20, 27, 18, 42, 38]}],\n",
       "                        {\"template\": {\"data\": {\"bar\": [{\"error_x\": {\"color\": \"#2a3f5f\"}, \"error_y\": {\"color\": \"#2a3f5f\"}, \"marker\": {\"line\": {\"color\": \"#E5ECF6\", \"width\": 0.5}}, \"type\": \"bar\"}], \"barpolar\": [{\"marker\": {\"line\": {\"color\": \"#E5ECF6\", \"width\": 0.5}}, \"type\": \"barpolar\"}], \"carpet\": [{\"aaxis\": {\"endlinecolor\": \"#2a3f5f\", \"gridcolor\": \"white\", \"linecolor\": \"white\", \"minorgridcolor\": \"white\", \"startlinecolor\": \"#2a3f5f\"}, \"baxis\": {\"endlinecolor\": \"#2a3f5f\", \"gridcolor\": \"white\", \"linecolor\": \"white\", \"minorgridcolor\": \"white\", \"startlinecolor\": \"#2a3f5f\"}, \"type\": \"carpet\"}], \"choropleth\": [{\"colorbar\": {\"outlinewidth\": 0, \"ticks\": \"\"}, \"type\": \"choropleth\"}], \"contour\": [{\"colorbar\": {\"outlinewidth\": 0, \"ticks\": \"\"}, \"colorscale\": [[0.0, \"#0d0887\"], [0.1111111111111111, \"#46039f\"], [0.2222222222222222, \"#7201a8\"], [0.3333333333333333, \"#9c179e\"], [0.4444444444444444, \"#bd3786\"], [0.5555555555555556, \"#d8576b\"], [0.6666666666666666, \"#ed7953\"], [0.7777777777777778, \"#fb9f3a\"], [0.8888888888888888, \"#fdca26\"], [1.0, \"#f0f921\"]], \"type\": \"contour\"}], \"contourcarpet\": [{\"colorbar\": {\"outlinewidth\": 0, \"ticks\": \"\"}, \"type\": \"contourcarpet\"}], \"heatmap\": [{\"colorbar\": {\"outlinewidth\": 0, \"ticks\": \"\"}, \"colorscale\": [[0.0, \"#0d0887\"], [0.1111111111111111, \"#46039f\"], [0.2222222222222222, \"#7201a8\"], [0.3333333333333333, \"#9c179e\"], [0.4444444444444444, \"#bd3786\"], [0.5555555555555556, \"#d8576b\"], [0.6666666666666666, \"#ed7953\"], [0.7777777777777778, \"#fb9f3a\"], [0.8888888888888888, \"#fdca26\"], [1.0, \"#f0f921\"]], \"type\": \"heatmap\"}], \"heatmapgl\": [{\"colorbar\": {\"outlinewidth\": 0, \"ticks\": \"\"}, \"colorscale\": [[0.0, \"#0d0887\"], [0.1111111111111111, \"#46039f\"], [0.2222222222222222, \"#7201a8\"], [0.3333333333333333, \"#9c179e\"], [0.4444444444444444, \"#bd3786\"], [0.5555555555555556, \"#d8576b\"], [0.6666666666666666, \"#ed7953\"], [0.7777777777777778, \"#fb9f3a\"], [0.8888888888888888, \"#fdca26\"], [1.0, \"#f0f921\"]], \"type\": \"heatmapgl\"}], \"histogram\": [{\"marker\": {\"colorbar\": {\"outlinewidth\": 0, \"ticks\": \"\"}}, \"type\": \"histogram\"}], \"histogram2d\": [{\"colorbar\": {\"outlinewidth\": 0, \"ticks\": \"\"}, \"colorscale\": [[0.0, \"#0d0887\"], [0.1111111111111111, \"#46039f\"], [0.2222222222222222, \"#7201a8\"], [0.3333333333333333, \"#9c179e\"], [0.4444444444444444, \"#bd3786\"], [0.5555555555555556, \"#d8576b\"], [0.6666666666666666, \"#ed7953\"], [0.7777777777777778, \"#fb9f3a\"], [0.8888888888888888, \"#fdca26\"], [1.0, \"#f0f921\"]], \"type\": \"histogram2d\"}], \"histogram2dcontour\": [{\"colorbar\": {\"outlinewidth\": 0, \"ticks\": \"\"}, \"colorscale\": [[0.0, \"#0d0887\"], [0.1111111111111111, \"#46039f\"], [0.2222222222222222, \"#7201a8\"], [0.3333333333333333, \"#9c179e\"], [0.4444444444444444, \"#bd3786\"], [0.5555555555555556, \"#d8576b\"], [0.6666666666666666, \"#ed7953\"], [0.7777777777777778, \"#fb9f3a\"], [0.8888888888888888, \"#fdca26\"], [1.0, \"#f0f921\"]], \"type\": \"histogram2dcontour\"}], \"mesh3d\": [{\"colorbar\": {\"outlinewidth\": 0, \"ticks\": \"\"}, \"type\": \"mesh3d\"}], \"parcoords\": [{\"line\": {\"colorbar\": {\"outlinewidth\": 0, \"ticks\": \"\"}}, \"type\": \"parcoords\"}], \"pie\": [{\"automargin\": true, \"type\": \"pie\"}], \"scatter\": [{\"marker\": {\"colorbar\": {\"outlinewidth\": 0, \"ticks\": \"\"}}, \"type\": \"scatter\"}], \"scatter3d\": [{\"line\": {\"colorbar\": {\"outlinewidth\": 0, \"ticks\": \"\"}}, \"marker\": {\"colorbar\": {\"outlinewidth\": 0, \"ticks\": \"\"}}, \"type\": \"scatter3d\"}], \"scattercarpet\": [{\"marker\": {\"colorbar\": {\"outlinewidth\": 0, \"ticks\": \"\"}}, \"type\": \"scattercarpet\"}], \"scattergeo\": [{\"marker\": {\"colorbar\": {\"outlinewidth\": 0, \"ticks\": \"\"}}, \"type\": \"scattergeo\"}], \"scattergl\": [{\"marker\": {\"colorbar\": {\"outlinewidth\": 0, \"ticks\": \"\"}}, \"type\": \"scattergl\"}], \"scattermapbox\": [{\"marker\": {\"colorbar\": {\"outlinewidth\": 0, \"ticks\": \"\"}}, \"type\": \"scattermapbox\"}], \"scatterpolar\": [{\"marker\": {\"colorbar\": {\"outlinewidth\": 0, \"ticks\": \"\"}}, \"type\": \"scatterpolar\"}], \"scatterpolargl\": [{\"marker\": {\"colorbar\": {\"outlinewidth\": 0, \"ticks\": \"\"}}, \"type\": \"scatterpolargl\"}], \"scatterternary\": [{\"marker\": {\"colorbar\": {\"outlinewidth\": 0, \"ticks\": \"\"}}, \"type\": \"scatterternary\"}], \"surface\": [{\"colorbar\": {\"outlinewidth\": 0, \"ticks\": \"\"}, \"colorscale\": [[0.0, \"#0d0887\"], [0.1111111111111111, \"#46039f\"], [0.2222222222222222, \"#7201a8\"], [0.3333333333333333, \"#9c179e\"], [0.4444444444444444, \"#bd3786\"], [0.5555555555555556, \"#d8576b\"], [0.6666666666666666, \"#ed7953\"], [0.7777777777777778, \"#fb9f3a\"], [0.8888888888888888, \"#fdca26\"], [1.0, \"#f0f921\"]], \"type\": \"surface\"}], \"table\": [{\"cells\": {\"fill\": {\"color\": \"#EBF0F8\"}, \"line\": {\"color\": \"white\"}}, \"header\": {\"fill\": {\"color\": \"#C8D4E3\"}, \"line\": {\"color\": \"white\"}}, \"type\": \"table\"}]}, \"layout\": {\"annotationdefaults\": {\"arrowcolor\": \"#2a3f5f\", \"arrowhead\": 0, \"arrowwidth\": 1}, \"coloraxis\": {\"colorbar\": {\"outlinewidth\": 0, \"ticks\": \"\"}}, \"colorscale\": {\"diverging\": [[0, \"#8e0152\"], [0.1, \"#c51b7d\"], [0.2, \"#de77ae\"], [0.3, \"#f1b6da\"], [0.4, \"#fde0ef\"], [0.5, \"#f7f7f7\"], [0.6, \"#e6f5d0\"], [0.7, \"#b8e186\"], [0.8, \"#7fbc41\"], [0.9, \"#4d9221\"], [1, \"#276419\"]], \"sequential\": [[0.0, \"#0d0887\"], [0.1111111111111111, \"#46039f\"], [0.2222222222222222, \"#7201a8\"], [0.3333333333333333, \"#9c179e\"], [0.4444444444444444, \"#bd3786\"], [0.5555555555555556, \"#d8576b\"], [0.6666666666666666, \"#ed7953\"], [0.7777777777777778, \"#fb9f3a\"], [0.8888888888888888, \"#fdca26\"], [1.0, \"#f0f921\"]], \"sequentialminus\": [[0.0, \"#0d0887\"], [0.1111111111111111, \"#46039f\"], [0.2222222222222222, \"#7201a8\"], [0.3333333333333333, \"#9c179e\"], [0.4444444444444444, \"#bd3786\"], [0.5555555555555556, \"#d8576b\"], [0.6666666666666666, \"#ed7953\"], [0.7777777777777778, \"#fb9f3a\"], [0.8888888888888888, \"#fdca26\"], [1.0, \"#f0f921\"]]}, \"colorway\": [\"#636efa\", \"#EF553B\", \"#00cc96\", \"#ab63fa\", \"#FFA15A\", \"#19d3f3\", \"#FF6692\", \"#B6E880\", \"#FF97FF\", \"#FECB52\"], \"font\": {\"color\": \"#2a3f5f\"}, \"geo\": {\"bgcolor\": \"white\", \"lakecolor\": \"white\", \"landcolor\": \"#E5ECF6\", \"showlakes\": true, \"showland\": true, \"subunitcolor\": \"white\"}, \"hoverlabel\": {\"align\": \"left\"}, \"hovermode\": \"closest\", \"mapbox\": {\"style\": \"light\"}, \"paper_bgcolor\": \"white\", \"plot_bgcolor\": \"#E5ECF6\", \"polar\": {\"angularaxis\": {\"gridcolor\": \"white\", \"linecolor\": \"white\", \"ticks\": \"\"}, \"bgcolor\": \"#E5ECF6\", \"radialaxis\": {\"gridcolor\": \"white\", \"linecolor\": \"white\", \"ticks\": \"\"}}, \"scene\": {\"xaxis\": {\"backgroundcolor\": \"#E5ECF6\", \"gridcolor\": \"white\", \"gridwidth\": 2, \"linecolor\": \"white\", \"showbackground\": true, \"ticks\": \"\", \"zerolinecolor\": \"white\"}, \"yaxis\": {\"backgroundcolor\": \"#E5ECF6\", \"gridcolor\": \"white\", \"gridwidth\": 2, \"linecolor\": \"white\", \"showbackground\": true, \"ticks\": \"\", \"zerolinecolor\": \"white\"}, \"zaxis\": {\"backgroundcolor\": \"#E5ECF6\", \"gridcolor\": \"white\", \"gridwidth\": 2, \"linecolor\": \"white\", \"showbackground\": true, \"ticks\": \"\", \"zerolinecolor\": \"white\"}}, \"shapedefaults\": {\"line\": {\"color\": \"#2a3f5f\"}}, \"ternary\": {\"aaxis\": {\"gridcolor\": \"white\", \"linecolor\": \"white\", \"ticks\": \"\"}, \"baxis\": {\"gridcolor\": \"white\", \"linecolor\": \"white\", \"ticks\": \"\"}, \"bgcolor\": \"#E5ECF6\", \"caxis\": {\"gridcolor\": \"white\", \"linecolor\": \"white\", \"ticks\": \"\"}}, \"title\": {\"x\": 0.05}, \"xaxis\": {\"automargin\": true, \"gridcolor\": \"white\", \"linecolor\": \"white\", \"ticks\": \"\", \"title\": {\"standoff\": 15}, \"zerolinecolor\": \"white\", \"zerolinewidth\": 2}, \"yaxis\": {\"automargin\": true, \"gridcolor\": \"white\", \"linecolor\": \"white\", \"ticks\": \"\", \"title\": {\"standoff\": 15}, \"zerolinecolor\": \"white\", \"zerolinewidth\": 2}}}, \"title\": {\"text\": \"New Cases Each Day\"}, \"xaxis\": {\"title\": {\"text\": \"Day\"}}, \"yaxis\": {\"title\": {\"text\": \"Number of New Cases\"}}},\n",
       "                        {\"responsive\": true}\n",
       "                    ).then(function(){\n",
       "                            \n",
       "var gd = document.getElementById('fc0bbc38-d563-4b2b-b01d-761d5d0162fa');\n",
       "var x = new MutationObserver(function (mutations, observer) {{\n",
       "        var display = window.getComputedStyle(gd).display;\n",
       "        if (!display || display === 'none') {{\n",
       "            console.log([gd, 'removed!']);\n",
       "            Plotly.purge(gd);\n",
       "            observer.disconnect();\n",
       "        }}\n",
       "}});\n",
       "\n",
       "// Listen for the removal of the full notebook cells\n",
       "var notebookContainer = gd.closest('#notebook-container');\n",
       "if (notebookContainer) {{\n",
       "    x.observe(notebookContainer, {childList: true});\n",
       "}}\n",
       "\n",
       "// Listen for the clearing of the current output cell\n",
       "var outputEl = gd.closest('.output');\n",
       "if (outputEl) {{\n",
       "    x.observe(outputEl, {childList: true});\n",
       "}}\n",
       "\n",
       "                        })\n",
       "                };\n",
       "                });\n",
       "            </script>\n",
       "        </div>"
      ]
     },
     "metadata": {},
     "output_type": "display_data"
    }
   ],
   "source": [
    "fig = go.Figure(data=go.Scatter(x=dates[1:], y=new_cases,\n",
    "                    mode='lines',\n",
    "                    name='New Cases'))\n",
    "fig.update_layout(title='New Cases Each Day',\n",
    "                   xaxis_title='Day',\n",
    "                   yaxis_title='Number of New Cases')\n",
    "fig.show()\n",
    "with open('../plotly/new_cases.json', 'w') as f:\n",
    "    f.write(fig.to_json())"
   ]
  },
  {
   "cell_type": "code",
   "execution_count": 20,
   "metadata": {},
   "outputs": [],
   "source": [
    "headers = [\"Results\",  \"People Tested\", \"Lab Report Date\"]\n",
    "positive = list(df.iloc[20])[1:]\n",
    "negative = list(df.iloc[23])[1:]"
   ]
  },
  {
   "cell_type": "code",
   "execution_count": 22,
   "metadata": {},
   "outputs": [
    {
     "data": {
      "application/vnd.plotly.v1+json": {
       "config": {
        "plotlyServerURL": "https://plot.ly"
       },
       "data": [
        {
         "name": "Negative",
         "type": "bar",
         "x": [
          "15th",
          "16th",
          "17th",
          "18th",
          "19th",
          "20th",
          "21st",
          "22nd"
         ],
         "y": [
          1480,
          3073,
          2949,
          3627,
          3997,
          3400,
          1512,
          2063
         ]
        },
        {
         "name": "Positive",
         "type": "bar",
         "x": [
          "15th",
          "16th",
          "17th",
          "18th",
          "19th",
          "20th",
          "21st",
          "22nd"
         ],
         "y": [
          15,
          12,
          23,
          20,
          27,
          18,
          42,
          38
         ]
        }
       ],
       "layout": {
        "barmode": "stack",
        "template": {
         "data": {
          "bar": [
           {
            "error_x": {
             "color": "#2a3f5f"
            },
            "error_y": {
             "color": "#2a3f5f"
            },
            "marker": {
             "line": {
              "color": "#E5ECF6",
              "width": 0.5
             }
            },
            "type": "bar"
           }
          ],
          "barpolar": [
           {
            "marker": {
             "line": {
              "color": "#E5ECF6",
              "width": 0.5
             }
            },
            "type": "barpolar"
           }
          ],
          "carpet": [
           {
            "aaxis": {
             "endlinecolor": "#2a3f5f",
             "gridcolor": "white",
             "linecolor": "white",
             "minorgridcolor": "white",
             "startlinecolor": "#2a3f5f"
            },
            "baxis": {
             "endlinecolor": "#2a3f5f",
             "gridcolor": "white",
             "linecolor": "white",
             "minorgridcolor": "white",
             "startlinecolor": "#2a3f5f"
            },
            "type": "carpet"
           }
          ],
          "choropleth": [
           {
            "colorbar": {
             "outlinewidth": 0,
             "ticks": ""
            },
            "type": "choropleth"
           }
          ],
          "contour": [
           {
            "colorbar": {
             "outlinewidth": 0,
             "ticks": ""
            },
            "colorscale": [
             [
              0,
              "#0d0887"
             ],
             [
              0.1111111111111111,
              "#46039f"
             ],
             [
              0.2222222222222222,
              "#7201a8"
             ],
             [
              0.3333333333333333,
              "#9c179e"
             ],
             [
              0.4444444444444444,
              "#bd3786"
             ],
             [
              0.5555555555555556,
              "#d8576b"
             ],
             [
              0.6666666666666666,
              "#ed7953"
             ],
             [
              0.7777777777777778,
              "#fb9f3a"
             ],
             [
              0.8888888888888888,
              "#fdca26"
             ],
             [
              1,
              "#f0f921"
             ]
            ],
            "type": "contour"
           }
          ],
          "contourcarpet": [
           {
            "colorbar": {
             "outlinewidth": 0,
             "ticks": ""
            },
            "type": "contourcarpet"
           }
          ],
          "heatmap": [
           {
            "colorbar": {
             "outlinewidth": 0,
             "ticks": ""
            },
            "colorscale": [
             [
              0,
              "#0d0887"
             ],
             [
              0.1111111111111111,
              "#46039f"
             ],
             [
              0.2222222222222222,
              "#7201a8"
             ],
             [
              0.3333333333333333,
              "#9c179e"
             ],
             [
              0.4444444444444444,
              "#bd3786"
             ],
             [
              0.5555555555555556,
              "#d8576b"
             ],
             [
              0.6666666666666666,
              "#ed7953"
             ],
             [
              0.7777777777777778,
              "#fb9f3a"
             ],
             [
              0.8888888888888888,
              "#fdca26"
             ],
             [
              1,
              "#f0f921"
             ]
            ],
            "type": "heatmap"
           }
          ],
          "heatmapgl": [
           {
            "colorbar": {
             "outlinewidth": 0,
             "ticks": ""
            },
            "colorscale": [
             [
              0,
              "#0d0887"
             ],
             [
              0.1111111111111111,
              "#46039f"
             ],
             [
              0.2222222222222222,
              "#7201a8"
             ],
             [
              0.3333333333333333,
              "#9c179e"
             ],
             [
              0.4444444444444444,
              "#bd3786"
             ],
             [
              0.5555555555555556,
              "#d8576b"
             ],
             [
              0.6666666666666666,
              "#ed7953"
             ],
             [
              0.7777777777777778,
              "#fb9f3a"
             ],
             [
              0.8888888888888888,
              "#fdca26"
             ],
             [
              1,
              "#f0f921"
             ]
            ],
            "type": "heatmapgl"
           }
          ],
          "histogram": [
           {
            "marker": {
             "colorbar": {
              "outlinewidth": 0,
              "ticks": ""
             }
            },
            "type": "histogram"
           }
          ],
          "histogram2d": [
           {
            "colorbar": {
             "outlinewidth": 0,
             "ticks": ""
            },
            "colorscale": [
             [
              0,
              "#0d0887"
             ],
             [
              0.1111111111111111,
              "#46039f"
             ],
             [
              0.2222222222222222,
              "#7201a8"
             ],
             [
              0.3333333333333333,
              "#9c179e"
             ],
             [
              0.4444444444444444,
              "#bd3786"
             ],
             [
              0.5555555555555556,
              "#d8576b"
             ],
             [
              0.6666666666666666,
              "#ed7953"
             ],
             [
              0.7777777777777778,
              "#fb9f3a"
             ],
             [
              0.8888888888888888,
              "#fdca26"
             ],
             [
              1,
              "#f0f921"
             ]
            ],
            "type": "histogram2d"
           }
          ],
          "histogram2dcontour": [
           {
            "colorbar": {
             "outlinewidth": 0,
             "ticks": ""
            },
            "colorscale": [
             [
              0,
              "#0d0887"
             ],
             [
              0.1111111111111111,
              "#46039f"
             ],
             [
              0.2222222222222222,
              "#7201a8"
             ],
             [
              0.3333333333333333,
              "#9c179e"
             ],
             [
              0.4444444444444444,
              "#bd3786"
             ],
             [
              0.5555555555555556,
              "#d8576b"
             ],
             [
              0.6666666666666666,
              "#ed7953"
             ],
             [
              0.7777777777777778,
              "#fb9f3a"
             ],
             [
              0.8888888888888888,
              "#fdca26"
             ],
             [
              1,
              "#f0f921"
             ]
            ],
            "type": "histogram2dcontour"
           }
          ],
          "mesh3d": [
           {
            "colorbar": {
             "outlinewidth": 0,
             "ticks": ""
            },
            "type": "mesh3d"
           }
          ],
          "parcoords": [
           {
            "line": {
             "colorbar": {
              "outlinewidth": 0,
              "ticks": ""
             }
            },
            "type": "parcoords"
           }
          ],
          "pie": [
           {
            "automargin": true,
            "type": "pie"
           }
          ],
          "scatter": [
           {
            "marker": {
             "colorbar": {
              "outlinewidth": 0,
              "ticks": ""
             }
            },
            "type": "scatter"
           }
          ],
          "scatter3d": [
           {
            "line": {
             "colorbar": {
              "outlinewidth": 0,
              "ticks": ""
             }
            },
            "marker": {
             "colorbar": {
              "outlinewidth": 0,
              "ticks": ""
             }
            },
            "type": "scatter3d"
           }
          ],
          "scattercarpet": [
           {
            "marker": {
             "colorbar": {
              "outlinewidth": 0,
              "ticks": ""
             }
            },
            "type": "scattercarpet"
           }
          ],
          "scattergeo": [
           {
            "marker": {
             "colorbar": {
              "outlinewidth": 0,
              "ticks": ""
             }
            },
            "type": "scattergeo"
           }
          ],
          "scattergl": [
           {
            "marker": {
             "colorbar": {
              "outlinewidth": 0,
              "ticks": ""
             }
            },
            "type": "scattergl"
           }
          ],
          "scattermapbox": [
           {
            "marker": {
             "colorbar": {
              "outlinewidth": 0,
              "ticks": ""
             }
            },
            "type": "scattermapbox"
           }
          ],
          "scatterpolar": [
           {
            "marker": {
             "colorbar": {
              "outlinewidth": 0,
              "ticks": ""
             }
            },
            "type": "scatterpolar"
           }
          ],
          "scatterpolargl": [
           {
            "marker": {
             "colorbar": {
              "outlinewidth": 0,
              "ticks": ""
             }
            },
            "type": "scatterpolargl"
           }
          ],
          "scatterternary": [
           {
            "marker": {
             "colorbar": {
              "outlinewidth": 0,
              "ticks": ""
             }
            },
            "type": "scatterternary"
           }
          ],
          "surface": [
           {
            "colorbar": {
             "outlinewidth": 0,
             "ticks": ""
            },
            "colorscale": [
             [
              0,
              "#0d0887"
             ],
             [
              0.1111111111111111,
              "#46039f"
             ],
             [
              0.2222222222222222,
              "#7201a8"
             ],
             [
              0.3333333333333333,
              "#9c179e"
             ],
             [
              0.4444444444444444,
              "#bd3786"
             ],
             [
              0.5555555555555556,
              "#d8576b"
             ],
             [
              0.6666666666666666,
              "#ed7953"
             ],
             [
              0.7777777777777778,
              "#fb9f3a"
             ],
             [
              0.8888888888888888,
              "#fdca26"
             ],
             [
              1,
              "#f0f921"
             ]
            ],
            "type": "surface"
           }
          ],
          "table": [
           {
            "cells": {
             "fill": {
              "color": "#EBF0F8"
             },
             "line": {
              "color": "white"
             }
            },
            "header": {
             "fill": {
              "color": "#C8D4E3"
             },
             "line": {
              "color": "white"
             }
            },
            "type": "table"
           }
          ]
         },
         "layout": {
          "annotationdefaults": {
           "arrowcolor": "#2a3f5f",
           "arrowhead": 0,
           "arrowwidth": 1
          },
          "coloraxis": {
           "colorbar": {
            "outlinewidth": 0,
            "ticks": ""
           }
          },
          "colorscale": {
           "diverging": [
            [
             0,
             "#8e0152"
            ],
            [
             0.1,
             "#c51b7d"
            ],
            [
             0.2,
             "#de77ae"
            ],
            [
             0.3,
             "#f1b6da"
            ],
            [
             0.4,
             "#fde0ef"
            ],
            [
             0.5,
             "#f7f7f7"
            ],
            [
             0.6,
             "#e6f5d0"
            ],
            [
             0.7,
             "#b8e186"
            ],
            [
             0.8,
             "#7fbc41"
            ],
            [
             0.9,
             "#4d9221"
            ],
            [
             1,
             "#276419"
            ]
           ],
           "sequential": [
            [
             0,
             "#0d0887"
            ],
            [
             0.1111111111111111,
             "#46039f"
            ],
            [
             0.2222222222222222,
             "#7201a8"
            ],
            [
             0.3333333333333333,
             "#9c179e"
            ],
            [
             0.4444444444444444,
             "#bd3786"
            ],
            [
             0.5555555555555556,
             "#d8576b"
            ],
            [
             0.6666666666666666,
             "#ed7953"
            ],
            [
             0.7777777777777778,
             "#fb9f3a"
            ],
            [
             0.8888888888888888,
             "#fdca26"
            ],
            [
             1,
             "#f0f921"
            ]
           ],
           "sequentialminus": [
            [
             0,
             "#0d0887"
            ],
            [
             0.1111111111111111,
             "#46039f"
            ],
            [
             0.2222222222222222,
             "#7201a8"
            ],
            [
             0.3333333333333333,
             "#9c179e"
            ],
            [
             0.4444444444444444,
             "#bd3786"
            ],
            [
             0.5555555555555556,
             "#d8576b"
            ],
            [
             0.6666666666666666,
             "#ed7953"
            ],
            [
             0.7777777777777778,
             "#fb9f3a"
            ],
            [
             0.8888888888888888,
             "#fdca26"
            ],
            [
             1,
             "#f0f921"
            ]
           ]
          },
          "colorway": [
           "#636efa",
           "#EF553B",
           "#00cc96",
           "#ab63fa",
           "#FFA15A",
           "#19d3f3",
           "#FF6692",
           "#B6E880",
           "#FF97FF",
           "#FECB52"
          ],
          "font": {
           "color": "#2a3f5f"
          },
          "geo": {
           "bgcolor": "white",
           "lakecolor": "white",
           "landcolor": "#E5ECF6",
           "showlakes": true,
           "showland": true,
           "subunitcolor": "white"
          },
          "hoverlabel": {
           "align": "left"
          },
          "hovermode": "closest",
          "mapbox": {
           "style": "light"
          },
          "paper_bgcolor": "white",
          "plot_bgcolor": "#E5ECF6",
          "polar": {
           "angularaxis": {
            "gridcolor": "white",
            "linecolor": "white",
            "ticks": ""
           },
           "bgcolor": "#E5ECF6",
           "radialaxis": {
            "gridcolor": "white",
            "linecolor": "white",
            "ticks": ""
           }
          },
          "scene": {
           "xaxis": {
            "backgroundcolor": "#E5ECF6",
            "gridcolor": "white",
            "gridwidth": 2,
            "linecolor": "white",
            "showbackground": true,
            "ticks": "",
            "zerolinecolor": "white"
           },
           "yaxis": {
            "backgroundcolor": "#E5ECF6",
            "gridcolor": "white",
            "gridwidth": 2,
            "linecolor": "white",
            "showbackground": true,
            "ticks": "",
            "zerolinecolor": "white"
           },
           "zaxis": {
            "backgroundcolor": "#E5ECF6",
            "gridcolor": "white",
            "gridwidth": 2,
            "linecolor": "white",
            "showbackground": true,
            "ticks": "",
            "zerolinecolor": "white"
           }
          },
          "shapedefaults": {
           "line": {
            "color": "#2a3f5f"
           }
          },
          "ternary": {
           "aaxis": {
            "gridcolor": "white",
            "linecolor": "white",
            "ticks": ""
           },
           "baxis": {
            "gridcolor": "white",
            "linecolor": "white",
            "ticks": ""
           },
           "bgcolor": "#E5ECF6",
           "caxis": {
            "gridcolor": "white",
            "linecolor": "white",
            "ticks": ""
           }
          },
          "title": {
           "x": 0.05
          },
          "xaxis": {
           "automargin": true,
           "gridcolor": "white",
           "linecolor": "white",
           "ticks": "",
           "title": {
            "standoff": 15
           },
           "zerolinecolor": "white",
           "zerolinewidth": 2
          },
          "yaxis": {
           "automargin": true,
           "gridcolor": "white",
           "linecolor": "white",
           "ticks": "",
           "title": {
            "standoff": 15
           },
           "zerolinecolor": "white",
           "zerolinewidth": 2
          }
         }
        },
        "xaxis": {
         "title": {
          "text": "Lab Report Day"
         }
        },
        "yaxis": {
         "title": {
          "text": "Peope Tested"
         }
        }
       }
      },
      "text/html": [
       "<div>\n",
       "        \n",
       "        \n",
       "            <div id=\"213fb5ef-08ae-4c6c-a5b8-cb1075a50095\" class=\"plotly-graph-div\" style=\"height:525px; width:100%;\"></div>\n",
       "            <script type=\"text/javascript\">\n",
       "                require([\"plotly\"], function(Plotly) {\n",
       "                    window.PLOTLYENV=window.PLOTLYENV || {};\n",
       "                    \n",
       "                if (document.getElementById(\"213fb5ef-08ae-4c6c-a5b8-cb1075a50095\")) {\n",
       "                    Plotly.newPlot(\n",
       "                        '213fb5ef-08ae-4c6c-a5b8-cb1075a50095',\n",
       "                        [{\"name\": \"Negative\", \"type\": \"bar\", \"x\": [\"15th\", \"16th\", \"17th\", \"18th\", \"19th\", \"20th\", \"21st\", \"22nd\"], \"y\": [1480, 3073, 2949, 3627, 3997, 3400, 1512, 2063]}, {\"name\": \"Positive\", \"type\": \"bar\", \"x\": [\"15th\", \"16th\", \"17th\", \"18th\", \"19th\", \"20th\", \"21st\", \"22nd\"], \"y\": [15, 12, 23, 20, 27, 18, 42, 38]}],\n",
       "                        {\"barmode\": \"stack\", \"template\": {\"data\": {\"bar\": [{\"error_x\": {\"color\": \"#2a3f5f\"}, \"error_y\": {\"color\": \"#2a3f5f\"}, \"marker\": {\"line\": {\"color\": \"#E5ECF6\", \"width\": 0.5}}, \"type\": \"bar\"}], \"barpolar\": [{\"marker\": {\"line\": {\"color\": \"#E5ECF6\", \"width\": 0.5}}, \"type\": \"barpolar\"}], \"carpet\": [{\"aaxis\": {\"endlinecolor\": \"#2a3f5f\", \"gridcolor\": \"white\", \"linecolor\": \"white\", \"minorgridcolor\": \"white\", \"startlinecolor\": \"#2a3f5f\"}, \"baxis\": {\"endlinecolor\": \"#2a3f5f\", \"gridcolor\": \"white\", \"linecolor\": \"white\", \"minorgridcolor\": \"white\", \"startlinecolor\": \"#2a3f5f\"}, \"type\": \"carpet\"}], \"choropleth\": [{\"colorbar\": {\"outlinewidth\": 0, \"ticks\": \"\"}, \"type\": \"choropleth\"}], \"contour\": [{\"colorbar\": {\"outlinewidth\": 0, \"ticks\": \"\"}, \"colorscale\": [[0.0, \"#0d0887\"], [0.1111111111111111, \"#46039f\"], [0.2222222222222222, \"#7201a8\"], [0.3333333333333333, \"#9c179e\"], [0.4444444444444444, \"#bd3786\"], [0.5555555555555556, \"#d8576b\"], [0.6666666666666666, \"#ed7953\"], [0.7777777777777778, \"#fb9f3a\"], [0.8888888888888888, \"#fdca26\"], [1.0, \"#f0f921\"]], \"type\": \"contour\"}], \"contourcarpet\": [{\"colorbar\": {\"outlinewidth\": 0, \"ticks\": \"\"}, \"type\": \"contourcarpet\"}], \"heatmap\": [{\"colorbar\": {\"outlinewidth\": 0, \"ticks\": \"\"}, \"colorscale\": [[0.0, \"#0d0887\"], [0.1111111111111111, \"#46039f\"], [0.2222222222222222, \"#7201a8\"], [0.3333333333333333, \"#9c179e\"], [0.4444444444444444, \"#bd3786\"], [0.5555555555555556, \"#d8576b\"], [0.6666666666666666, \"#ed7953\"], [0.7777777777777778, \"#fb9f3a\"], [0.8888888888888888, \"#fdca26\"], [1.0, \"#f0f921\"]], \"type\": \"heatmap\"}], \"heatmapgl\": [{\"colorbar\": {\"outlinewidth\": 0, \"ticks\": \"\"}, \"colorscale\": [[0.0, \"#0d0887\"], [0.1111111111111111, \"#46039f\"], [0.2222222222222222, \"#7201a8\"], [0.3333333333333333, \"#9c179e\"], [0.4444444444444444, \"#bd3786\"], [0.5555555555555556, \"#d8576b\"], [0.6666666666666666, \"#ed7953\"], [0.7777777777777778, \"#fb9f3a\"], [0.8888888888888888, \"#fdca26\"], [1.0, \"#f0f921\"]], \"type\": \"heatmapgl\"}], \"histogram\": [{\"marker\": {\"colorbar\": {\"outlinewidth\": 0, \"ticks\": \"\"}}, \"type\": \"histogram\"}], \"histogram2d\": [{\"colorbar\": {\"outlinewidth\": 0, \"ticks\": \"\"}, \"colorscale\": [[0.0, \"#0d0887\"], [0.1111111111111111, \"#46039f\"], [0.2222222222222222, \"#7201a8\"], [0.3333333333333333, \"#9c179e\"], [0.4444444444444444, \"#bd3786\"], [0.5555555555555556, \"#d8576b\"], [0.6666666666666666, \"#ed7953\"], [0.7777777777777778, \"#fb9f3a\"], [0.8888888888888888, \"#fdca26\"], [1.0, \"#f0f921\"]], \"type\": \"histogram2d\"}], \"histogram2dcontour\": [{\"colorbar\": {\"outlinewidth\": 0, \"ticks\": \"\"}, \"colorscale\": [[0.0, \"#0d0887\"], [0.1111111111111111, \"#46039f\"], [0.2222222222222222, \"#7201a8\"], [0.3333333333333333, \"#9c179e\"], [0.4444444444444444, \"#bd3786\"], [0.5555555555555556, \"#d8576b\"], [0.6666666666666666, \"#ed7953\"], [0.7777777777777778, \"#fb9f3a\"], [0.8888888888888888, \"#fdca26\"], [1.0, \"#f0f921\"]], \"type\": \"histogram2dcontour\"}], \"mesh3d\": [{\"colorbar\": {\"outlinewidth\": 0, \"ticks\": \"\"}, \"type\": \"mesh3d\"}], \"parcoords\": [{\"line\": {\"colorbar\": {\"outlinewidth\": 0, \"ticks\": \"\"}}, \"type\": \"parcoords\"}], \"pie\": [{\"automargin\": true, \"type\": \"pie\"}], \"scatter\": [{\"marker\": {\"colorbar\": {\"outlinewidth\": 0, \"ticks\": \"\"}}, \"type\": \"scatter\"}], \"scatter3d\": [{\"line\": {\"colorbar\": {\"outlinewidth\": 0, \"ticks\": \"\"}}, \"marker\": {\"colorbar\": {\"outlinewidth\": 0, \"ticks\": \"\"}}, \"type\": \"scatter3d\"}], \"scattercarpet\": [{\"marker\": {\"colorbar\": {\"outlinewidth\": 0, \"ticks\": \"\"}}, \"type\": \"scattercarpet\"}], \"scattergeo\": [{\"marker\": {\"colorbar\": {\"outlinewidth\": 0, \"ticks\": \"\"}}, \"type\": \"scattergeo\"}], \"scattergl\": [{\"marker\": {\"colorbar\": {\"outlinewidth\": 0, \"ticks\": \"\"}}, \"type\": \"scattergl\"}], \"scattermapbox\": [{\"marker\": {\"colorbar\": {\"outlinewidth\": 0, \"ticks\": \"\"}}, \"type\": \"scattermapbox\"}], \"scatterpolar\": [{\"marker\": {\"colorbar\": {\"outlinewidth\": 0, \"ticks\": \"\"}}, \"type\": \"scatterpolar\"}], \"scatterpolargl\": [{\"marker\": {\"colorbar\": {\"outlinewidth\": 0, \"ticks\": \"\"}}, \"type\": \"scatterpolargl\"}], \"scatterternary\": [{\"marker\": {\"colorbar\": {\"outlinewidth\": 0, \"ticks\": \"\"}}, \"type\": \"scatterternary\"}], \"surface\": [{\"colorbar\": {\"outlinewidth\": 0, \"ticks\": \"\"}, \"colorscale\": [[0.0, \"#0d0887\"], [0.1111111111111111, \"#46039f\"], [0.2222222222222222, \"#7201a8\"], [0.3333333333333333, \"#9c179e\"], [0.4444444444444444, \"#bd3786\"], [0.5555555555555556, \"#d8576b\"], [0.6666666666666666, \"#ed7953\"], [0.7777777777777778, \"#fb9f3a\"], [0.8888888888888888, \"#fdca26\"], [1.0, \"#f0f921\"]], \"type\": \"surface\"}], \"table\": [{\"cells\": {\"fill\": {\"color\": \"#EBF0F8\"}, \"line\": {\"color\": \"white\"}}, \"header\": {\"fill\": {\"color\": \"#C8D4E3\"}, \"line\": {\"color\": \"white\"}}, \"type\": \"table\"}]}, \"layout\": {\"annotationdefaults\": {\"arrowcolor\": \"#2a3f5f\", \"arrowhead\": 0, \"arrowwidth\": 1}, \"coloraxis\": {\"colorbar\": {\"outlinewidth\": 0, \"ticks\": \"\"}}, \"colorscale\": {\"diverging\": [[0, \"#8e0152\"], [0.1, \"#c51b7d\"], [0.2, \"#de77ae\"], [0.3, \"#f1b6da\"], [0.4, \"#fde0ef\"], [0.5, \"#f7f7f7\"], [0.6, \"#e6f5d0\"], [0.7, \"#b8e186\"], [0.8, \"#7fbc41\"], [0.9, \"#4d9221\"], [1, \"#276419\"]], \"sequential\": [[0.0, \"#0d0887\"], [0.1111111111111111, \"#46039f\"], [0.2222222222222222, \"#7201a8\"], [0.3333333333333333, \"#9c179e\"], [0.4444444444444444, \"#bd3786\"], [0.5555555555555556, \"#d8576b\"], [0.6666666666666666, \"#ed7953\"], [0.7777777777777778, \"#fb9f3a\"], [0.8888888888888888, \"#fdca26\"], [1.0, \"#f0f921\"]], \"sequentialminus\": [[0.0, \"#0d0887\"], [0.1111111111111111, \"#46039f\"], [0.2222222222222222, \"#7201a8\"], [0.3333333333333333, \"#9c179e\"], [0.4444444444444444, \"#bd3786\"], [0.5555555555555556, \"#d8576b\"], [0.6666666666666666, \"#ed7953\"], [0.7777777777777778, \"#fb9f3a\"], [0.8888888888888888, \"#fdca26\"], [1.0, \"#f0f921\"]]}, \"colorway\": [\"#636efa\", \"#EF553B\", \"#00cc96\", \"#ab63fa\", \"#FFA15A\", \"#19d3f3\", \"#FF6692\", \"#B6E880\", \"#FF97FF\", \"#FECB52\"], \"font\": {\"color\": \"#2a3f5f\"}, \"geo\": {\"bgcolor\": \"white\", \"lakecolor\": \"white\", \"landcolor\": \"#E5ECF6\", \"showlakes\": true, \"showland\": true, \"subunitcolor\": \"white\"}, \"hoverlabel\": {\"align\": \"left\"}, \"hovermode\": \"closest\", \"mapbox\": {\"style\": \"light\"}, \"paper_bgcolor\": \"white\", \"plot_bgcolor\": \"#E5ECF6\", \"polar\": {\"angularaxis\": {\"gridcolor\": \"white\", \"linecolor\": \"white\", \"ticks\": \"\"}, \"bgcolor\": \"#E5ECF6\", \"radialaxis\": {\"gridcolor\": \"white\", \"linecolor\": \"white\", \"ticks\": \"\"}}, \"scene\": {\"xaxis\": {\"backgroundcolor\": \"#E5ECF6\", \"gridcolor\": \"white\", \"gridwidth\": 2, \"linecolor\": \"white\", \"showbackground\": true, \"ticks\": \"\", \"zerolinecolor\": \"white\"}, \"yaxis\": {\"backgroundcolor\": \"#E5ECF6\", \"gridcolor\": \"white\", \"gridwidth\": 2, \"linecolor\": \"white\", \"showbackground\": true, \"ticks\": \"\", \"zerolinecolor\": \"white\"}, \"zaxis\": {\"backgroundcolor\": \"#E5ECF6\", \"gridcolor\": \"white\", \"gridwidth\": 2, \"linecolor\": \"white\", \"showbackground\": true, \"ticks\": \"\", \"zerolinecolor\": \"white\"}}, \"shapedefaults\": {\"line\": {\"color\": \"#2a3f5f\"}}, \"ternary\": {\"aaxis\": {\"gridcolor\": \"white\", \"linecolor\": \"white\", \"ticks\": \"\"}, \"baxis\": {\"gridcolor\": \"white\", \"linecolor\": \"white\", \"ticks\": \"\"}, \"bgcolor\": \"#E5ECF6\", \"caxis\": {\"gridcolor\": \"white\", \"linecolor\": \"white\", \"ticks\": \"\"}}, \"title\": {\"x\": 0.05}, \"xaxis\": {\"automargin\": true, \"gridcolor\": \"white\", \"linecolor\": \"white\", \"ticks\": \"\", \"title\": {\"standoff\": 15}, \"zerolinecolor\": \"white\", \"zerolinewidth\": 2}, \"yaxis\": {\"automargin\": true, \"gridcolor\": \"white\", \"linecolor\": \"white\", \"ticks\": \"\", \"title\": {\"standoff\": 15}, \"zerolinecolor\": \"white\", \"zerolinewidth\": 2}}}, \"xaxis\": {\"title\": {\"text\": \"Lab Report Day\"}}, \"yaxis\": {\"title\": {\"text\": \"Peope Tested\"}}},\n",
       "                        {\"responsive\": true}\n",
       "                    ).then(function(){\n",
       "                            \n",
       "var gd = document.getElementById('213fb5ef-08ae-4c6c-a5b8-cb1075a50095');\n",
       "var x = new MutationObserver(function (mutations, observer) {{\n",
       "        var display = window.getComputedStyle(gd).display;\n",
       "        if (!display || display === 'none') {{\n",
       "            console.log([gd, 'removed!']);\n",
       "            Plotly.purge(gd);\n",
       "            observer.disconnect();\n",
       "        }}\n",
       "}});\n",
       "\n",
       "// Listen for the removal of the full notebook cells\n",
       "var notebookContainer = gd.closest('#notebook-container');\n",
       "if (notebookContainer) {{\n",
       "    x.observe(notebookContainer, {childList: true});\n",
       "}}\n",
       "\n",
       "// Listen for the clearing of the current output cell\n",
       "var outputEl = gd.closest('.output');\n",
       "if (outputEl) {{\n",
       "    x.observe(outputEl, {childList: true});\n",
       "}}\n",
       "\n",
       "                        })\n",
       "                };\n",
       "                });\n",
       "            </script>\n",
       "        </div>"
      ]
     },
     "metadata": {},
     "output_type": "display_data"
    }
   ],
   "source": [
    "fig = go.Figure(data=[\n",
    "    go.Bar(name='Negative', x=dates[2:], y=negative[2:]),\n",
    "    go.Bar(name='Positive', x=dates[2:], y=positive[2:])\n",
    "])\n",
    "# Change the bar mode\n",
    "fig.update_layout(barmode='stack')\n",
    "fig.update_layout(\n",
    "                   xaxis_title='Lab Report Day',\n",
    "                   yaxis_title='Peope Tested')\n",
    "fig.show()\n",
    "with open('../plotly/tested.json', 'w') as f:\n",
    "    f.write(fig.to_json())"
   ]
  },
  {
   "cell_type": "code",
   "execution_count": 35,
   "metadata": {},
   "outputs": [],
   "source": [
    "lastday_df = stacked_df.loc[stacked_df['Date of Infection'] == dates[-1]][:17]\n",
    "del lastday_df['Date of Infection']"
   ]
  },
  {
   "cell_type": "code",
   "execution_count": 38,
   "metadata": {
    "scrolled": true
   },
   "outputs": [
    {
     "data": {
      "application/vnd.plotly.v1+json": {
       "config": {
        "plotlyServerURL": "https://plot.ly"
       },
       "data": [
        {
         "hoverlabel": {
          "namelength": 0
         },
         "hovertemplate": "Region=01-Bas-Saint-Laurent<br>Total Number of Cases=%{marker.size}<br>Lat=%{lat}<br>Long=%{lon}",
         "lat": [
          48.333333
         ],
         "legendgroup": "01-Bas-Saint-Laurent",
         "lon": [
          -68.666667
         ],
         "marker": {
          "color": "#636efa",
          "size": [
           1
          ],
          "sizemode": "area",
          "sizeref": 0.051111111111111114
         },
         "mode": "markers",
         "name": "01-Bas-Saint-Laurent",
         "showlegend": true,
         "subplot": "mapbox",
         "type": "scattermapbox"
        },
        {
         "hoverlabel": {
          "namelength": 0
         },
         "hovertemplate": "Region=02- Saguenay-Lac-Saint-Jean<br>Total Number of Cases=%{marker.size}<br>Lat=%{lat}<br>Long=%{lon}",
         "lat": [
          49.8667
         ],
         "legendgroup": "02- Saguenay-Lac-Saint-Jean",
         "lon": [
          -71.75
         ],
         "marker": {
          "color": "#EF553B",
          "size": [
           1
          ],
          "sizemode": "area",
          "sizeref": 0.051111111111111114
         },
         "mode": "markers",
         "name": "02- Saguenay-Lac-Saint-Jean",
         "showlegend": true,
         "subplot": "mapbox",
         "type": "scattermapbox"
        },
        {
         "hoverlabel": {
          "namelength": 0
         },
         "hovertemplate": "Region=03- Capitale-Nationale<br>Total Number of Cases=%{marker.size}<br>Lat=%{lat}<br>Long=%{lon}",
         "lat": [
          47.333333
         ],
         "legendgroup": "03- Capitale-Nationale",
         "lon": [
          -71.5
         ],
         "marker": {
          "color": "#00cc96",
          "size": [
           13
          ],
          "sizemode": "area",
          "sizeref": 0.051111111111111114
         },
         "mode": "markers",
         "name": "03- Capitale-Nationale",
         "showlegend": true,
         "subplot": "mapbox",
         "type": "scattermapbox"
        },
        {
         "hoverlabel": {
          "namelength": 0
         },
         "hovertemplate": "Region=04-Mauricie<br>Total Number of Cases=%{marker.size}<br>Lat=%{lat}<br>Long=%{lon}",
         "lat": [
          47
         ],
         "legendgroup": "04-Mauricie",
         "lon": [
          -73
         ],
         "marker": {
          "color": "#ab63fa",
          "size": [
           7
          ],
          "sizemode": "area",
          "sizeref": 0.051111111111111114
         },
         "mode": "markers",
         "name": "04-Mauricie",
         "showlegend": true,
         "subplot": "mapbox",
         "type": "scattermapbox"
        },
        {
         "hoverlabel": {
          "namelength": 0
         },
         "hovertemplate": "Region=05-Estrie<br>Total Number of Cases=%{marker.size}<br>Lat=%{lat}<br>Long=%{lon}",
         "lat": [
          45.481556
         ],
         "legendgroup": "05-Estrie",
         "lon": [
          -71.667917
         ],
         "marker": {
          "color": "#FFA15A",
          "size": [
           30
          ],
          "sizemode": "area",
          "sizeref": 0.051111111111111114
         },
         "mode": "markers",
         "name": "05-Estrie",
         "showlegend": true,
         "subplot": "mapbox",
         "type": "scattermapbox"
        },
        {
         "hoverlabel": {
          "namelength": 0
         },
         "hovertemplate": "Region=06-Montreal<br>Total Number of Cases=%{marker.size}<br>Lat=%{lat}<br>Long=%{lon}",
         "lat": [
          45.5
         ],
         "legendgroup": "06-Montreal",
         "lon": [
          -73.566667
         ],
         "marker": {
          "color": "#19d3f3",
          "size": [
           46
          ],
          "sizemode": "area",
          "sizeref": 0.051111111111111114
         },
         "mode": "markers",
         "name": "06-Montreal",
         "showlegend": true,
         "subplot": "mapbox",
         "type": "scattermapbox"
        },
        {
         "hoverlabel": {
          "namelength": 0
         },
         "hovertemplate": "Region=07-Outauais<br>Total Number of Cases=%{marker.size}<br>Lat=%{lat}<br>Long=%{lon}",
         "lat": [
          45.783333
         ],
         "legendgroup": "07-Outauais",
         "lon": [
          -75.083333
         ],
         "marker": {
          "color": "#FF6692",
          "size": [
           5
          ],
          "sizemode": "area",
          "sizeref": 0.051111111111111114
         },
         "mode": "markers",
         "name": "07-Outauais",
         "showlegend": true,
         "subplot": "mapbox",
         "type": "scattermapbox"
        },
        {
         "hoverlabel": {
          "namelength": 0
         },
         "hovertemplate": "Region=08-Abititi-Temiscaminigue<br>Total Number of Cases=%{marker.size}<br>Lat=%{lat}<br>Long=%{lon}",
         "lat": [
          48.233333
         ],
         "legendgroup": "08-Abititi-Temiscaminigue",
         "lon": [
          -79.016667
         ],
         "marker": {
          "color": "#B6E880",
          "size": [
           0
          ],
          "sizemode": "area",
          "sizeref": 0.051111111111111114
         },
         "mode": "markers",
         "name": "08-Abititi-Temiscaminigue",
         "showlegend": true,
         "subplot": "mapbox",
         "type": "scattermapbox"
        },
        {
         "hoverlabel": {
          "namelength": 0
         },
         "hovertemplate": "Region=9-Cote-Nord<br>Total Number of Cases=%{marker.size}<br>Lat=%{lat}<br>Long=%{lon}",
         "lat": [
          50.866667
         ],
         "legendgroup": "9-Cote-Nord",
         "lon": [
          -65.816667
         ],
         "marker": {
          "color": "#FF97FF",
          "size": [
           0
          ],
          "sizemode": "area",
          "sizeref": 0.051111111111111114
         },
         "mode": "markers",
         "name": "9-Cote-Nord",
         "showlegend": true,
         "subplot": "mapbox",
         "type": "scattermapbox"
        },
        {
         "hoverlabel": {
          "namelength": 0
         },
         "hovertemplate": "Region=10-Nord-du-Quebec<br>Total Number of Cases=%{marker.size}<br>Lat=%{lat}<br>Long=%{lon}",
         "lat": [
          56.166667
         ],
         "legendgroup": "10-Nord-du-Quebec",
         "lon": [
          -74.416667
         ],
         "marker": {
          "color": "#FECB52",
          "size": [
           1
          ],
          "sizemode": "area",
          "sizeref": 0.051111111111111114
         },
         "mode": "markers",
         "name": "10-Nord-du-Quebec",
         "showlegend": true,
         "subplot": "mapbox",
         "type": "scattermapbox"
        },
        {
         "hoverlabel": {
          "namelength": 0
         },
         "hovertemplate": "Region=11- Gaspesie-Iles-de-la-Madelaine<br>Total Number of Cases=%{marker.size}<br>Lat=%{lat}<br>Long=%{lon}",
         "lat": [
          48.683333
         ],
         "legendgroup": "11- Gaspesie-Iles-de-la-Madelaine",
         "lon": [
          -65.4
         ],
         "marker": {
          "color": "#636efa",
          "size": [
           0
          ],
          "sizemode": "area",
          "sizeref": 0.051111111111111114
         },
         "mode": "markers",
         "name": "11- Gaspesie-Iles-de-la-Madelaine",
         "showlegend": true,
         "subplot": "mapbox",
         "type": "scattermapbox"
        },
        {
         "hoverlabel": {
          "namelength": 0
         },
         "hovertemplate": "Region=12-Chaudiere-Appalaches<br>Total Number of Cases=%{marker.size}<br>Lat=%{lat}<br>Long=%{lon}",
         "lat": [
          46.483333
         ],
         "legendgroup": "12-Chaudiere-Appalaches",
         "lon": [
          -70.616667
         ],
         "marker": {
          "color": "#EF553B",
          "size": [
           13
          ],
          "sizemode": "area",
          "sizeref": 0.051111111111111114
         },
         "mode": "markers",
         "name": "12-Chaudiere-Appalaches",
         "showlegend": true,
         "subplot": "mapbox",
         "type": "scattermapbox"
        },
        {
         "hoverlabel": {
          "namelength": 0
         },
         "hovertemplate": "Region=13- Laval<br>Total Number of Cases=%{marker.size}<br>Lat=%{lat}<br>Long=%{lon}",
         "lat": [
          45.583333
         ],
         "legendgroup": "13- Laval",
         "lon": [
          -73.75
         ],
         "marker": {
          "color": "#00cc96",
          "size": [
           4
          ],
          "sizemode": "area",
          "sizeref": 0.051111111111111114
         },
         "mode": "markers",
         "name": "13- Laval",
         "showlegend": true,
         "subplot": "mapbox",
         "type": "scattermapbox"
        },
        {
         "hoverlabel": {
          "namelength": 0
         },
         "hovertemplate": "Region=14- Lanaudiere<br>Total Number of Cases=%{marker.size}<br>Lat=%{lat}<br>Long=%{lon}",
         "lat": [
          46.766667
         ],
         "legendgroup": "14- Lanaudiere",
         "lon": [
          -73.833333
         ],
         "marker": {
          "color": "#ab63fa",
          "size": [
           15
          ],
          "sizemode": "area",
          "sizeref": 0.051111111111111114
         },
         "mode": "markers",
         "name": "14- Lanaudiere",
         "showlegend": true,
         "subplot": "mapbox",
         "type": "scattermapbox"
        },
        {
         "hoverlabel": {
          "namelength": 0
         },
         "hovertemplate": "Region=15- Laurentides<br>Total Number of Cases=%{marker.size}<br>Lat=%{lat}<br>Long=%{lon}",
         "lat": [
          46.433333
         ],
         "legendgroup": "15- Laurentides",
         "lon": [
          -74.983333
         ],
         "marker": {
          "color": "#FFA15A",
          "size": [
           17
          ],
          "sizemode": "area",
          "sizeref": 0.051111111111111114
         },
         "mode": "markers",
         "name": "15- Laurentides",
         "showlegend": true,
         "subplot": "mapbox",
         "type": "scattermapbox"
        },
        {
         "hoverlabel": {
          "namelength": 0
         },
         "hovertemplate": "Region=16- Monteregie<br>Total Number of Cases=%{marker.size}<br>Lat=%{lat}<br>Long=%{lon}",
         "lat": [
          45.383333
         ],
         "legendgroup": "16- Monteregie",
         "lon": [
          -73.1
         ],
         "marker": {
          "color": "#19d3f3",
          "size": [
           40
          ],
          "sizemode": "area",
          "sizeref": 0.051111111111111114
         },
         "mode": "markers",
         "name": "16- Monteregie",
         "showlegend": true,
         "subplot": "mapbox",
         "type": "scattermapbox"
        },
        {
         "hoverlabel": {
          "namelength": 0
         },
         "hovertemplate": "Region=17- Centre du Quebec<br>Total Number of Cases=%{marker.size}<br>Lat=%{lat}<br>Long=%{lon}",
         "lat": [
          46.283333
         ],
         "legendgroup": "17- Centre du Quebec",
         "lon": [
          -72.066667
         ],
         "marker": {
          "color": "#FF6692",
          "size": [
           0
          ],
          "sizemode": "area",
          "sizeref": 0.051111111111111114
         },
         "mode": "markers",
         "name": "17- Centre du Quebec",
         "showlegend": true,
         "subplot": "mapbox",
         "type": "scattermapbox"
        }
       ],
       "layout": {
        "legend": {
         "itemsizing": "constant",
         "title": {
          "text": "Region"
         },
         "tracegroupgap": 0
        },
        "mapbox": {
         "accesstoken": "pk.eyJ1Ijoibmlja2JlbnQiLCJhIjoiY2s4MjFyejMwMGRhMDNqcnU1aG0wZTdrZSJ9.t7FEmorhX4kygVCGQw17Bg",
         "center": {
          "lat": 47.657740411764706,
          "lon": -72.24909323529411
         },
         "domain": {
          "x": [
           0,
           1
          ],
          "y": [
           0,
           1
          ]
         },
         "style": "carto-positron",
         "zoom": 4
        },
        "margin": {
         "t": 60
        },
        "template": {
         "data": {
          "bar": [
           {
            "error_x": {
             "color": "#2a3f5f"
            },
            "error_y": {
             "color": "#2a3f5f"
            },
            "marker": {
             "line": {
              "color": "#E5ECF6",
              "width": 0.5
             }
            },
            "type": "bar"
           }
          ],
          "barpolar": [
           {
            "marker": {
             "line": {
              "color": "#E5ECF6",
              "width": 0.5
             }
            },
            "type": "barpolar"
           }
          ],
          "carpet": [
           {
            "aaxis": {
             "endlinecolor": "#2a3f5f",
             "gridcolor": "white",
             "linecolor": "white",
             "minorgridcolor": "white",
             "startlinecolor": "#2a3f5f"
            },
            "baxis": {
             "endlinecolor": "#2a3f5f",
             "gridcolor": "white",
             "linecolor": "white",
             "minorgridcolor": "white",
             "startlinecolor": "#2a3f5f"
            },
            "type": "carpet"
           }
          ],
          "choropleth": [
           {
            "colorbar": {
             "outlinewidth": 0,
             "ticks": ""
            },
            "type": "choropleth"
           }
          ],
          "contour": [
           {
            "colorbar": {
             "outlinewidth": 0,
             "ticks": ""
            },
            "colorscale": [
             [
              0,
              "#0d0887"
             ],
             [
              0.1111111111111111,
              "#46039f"
             ],
             [
              0.2222222222222222,
              "#7201a8"
             ],
             [
              0.3333333333333333,
              "#9c179e"
             ],
             [
              0.4444444444444444,
              "#bd3786"
             ],
             [
              0.5555555555555556,
              "#d8576b"
             ],
             [
              0.6666666666666666,
              "#ed7953"
             ],
             [
              0.7777777777777778,
              "#fb9f3a"
             ],
             [
              0.8888888888888888,
              "#fdca26"
             ],
             [
              1,
              "#f0f921"
             ]
            ],
            "type": "contour"
           }
          ],
          "contourcarpet": [
           {
            "colorbar": {
             "outlinewidth": 0,
             "ticks": ""
            },
            "type": "contourcarpet"
           }
          ],
          "heatmap": [
           {
            "colorbar": {
             "outlinewidth": 0,
             "ticks": ""
            },
            "colorscale": [
             [
              0,
              "#0d0887"
             ],
             [
              0.1111111111111111,
              "#46039f"
             ],
             [
              0.2222222222222222,
              "#7201a8"
             ],
             [
              0.3333333333333333,
              "#9c179e"
             ],
             [
              0.4444444444444444,
              "#bd3786"
             ],
             [
              0.5555555555555556,
              "#d8576b"
             ],
             [
              0.6666666666666666,
              "#ed7953"
             ],
             [
              0.7777777777777778,
              "#fb9f3a"
             ],
             [
              0.8888888888888888,
              "#fdca26"
             ],
             [
              1,
              "#f0f921"
             ]
            ],
            "type": "heatmap"
           }
          ],
          "heatmapgl": [
           {
            "colorbar": {
             "outlinewidth": 0,
             "ticks": ""
            },
            "colorscale": [
             [
              0,
              "#0d0887"
             ],
             [
              0.1111111111111111,
              "#46039f"
             ],
             [
              0.2222222222222222,
              "#7201a8"
             ],
             [
              0.3333333333333333,
              "#9c179e"
             ],
             [
              0.4444444444444444,
              "#bd3786"
             ],
             [
              0.5555555555555556,
              "#d8576b"
             ],
             [
              0.6666666666666666,
              "#ed7953"
             ],
             [
              0.7777777777777778,
              "#fb9f3a"
             ],
             [
              0.8888888888888888,
              "#fdca26"
             ],
             [
              1,
              "#f0f921"
             ]
            ],
            "type": "heatmapgl"
           }
          ],
          "histogram": [
           {
            "marker": {
             "colorbar": {
              "outlinewidth": 0,
              "ticks": ""
             }
            },
            "type": "histogram"
           }
          ],
          "histogram2d": [
           {
            "colorbar": {
             "outlinewidth": 0,
             "ticks": ""
            },
            "colorscale": [
             [
              0,
              "#0d0887"
             ],
             [
              0.1111111111111111,
              "#46039f"
             ],
             [
              0.2222222222222222,
              "#7201a8"
             ],
             [
              0.3333333333333333,
              "#9c179e"
             ],
             [
              0.4444444444444444,
              "#bd3786"
             ],
             [
              0.5555555555555556,
              "#d8576b"
             ],
             [
              0.6666666666666666,
              "#ed7953"
             ],
             [
              0.7777777777777778,
              "#fb9f3a"
             ],
             [
              0.8888888888888888,
              "#fdca26"
             ],
             [
              1,
              "#f0f921"
             ]
            ],
            "type": "histogram2d"
           }
          ],
          "histogram2dcontour": [
           {
            "colorbar": {
             "outlinewidth": 0,
             "ticks": ""
            },
            "colorscale": [
             [
              0,
              "#0d0887"
             ],
             [
              0.1111111111111111,
              "#46039f"
             ],
             [
              0.2222222222222222,
              "#7201a8"
             ],
             [
              0.3333333333333333,
              "#9c179e"
             ],
             [
              0.4444444444444444,
              "#bd3786"
             ],
             [
              0.5555555555555556,
              "#d8576b"
             ],
             [
              0.6666666666666666,
              "#ed7953"
             ],
             [
              0.7777777777777778,
              "#fb9f3a"
             ],
             [
              0.8888888888888888,
              "#fdca26"
             ],
             [
              1,
              "#f0f921"
             ]
            ],
            "type": "histogram2dcontour"
           }
          ],
          "mesh3d": [
           {
            "colorbar": {
             "outlinewidth": 0,
             "ticks": ""
            },
            "type": "mesh3d"
           }
          ],
          "parcoords": [
           {
            "line": {
             "colorbar": {
              "outlinewidth": 0,
              "ticks": ""
             }
            },
            "type": "parcoords"
           }
          ],
          "pie": [
           {
            "automargin": true,
            "type": "pie"
           }
          ],
          "scatter": [
           {
            "marker": {
             "colorbar": {
              "outlinewidth": 0,
              "ticks": ""
             }
            },
            "type": "scatter"
           }
          ],
          "scatter3d": [
           {
            "line": {
             "colorbar": {
              "outlinewidth": 0,
              "ticks": ""
             }
            },
            "marker": {
             "colorbar": {
              "outlinewidth": 0,
              "ticks": ""
             }
            },
            "type": "scatter3d"
           }
          ],
          "scattercarpet": [
           {
            "marker": {
             "colorbar": {
              "outlinewidth": 0,
              "ticks": ""
             }
            },
            "type": "scattercarpet"
           }
          ],
          "scattergeo": [
           {
            "marker": {
             "colorbar": {
              "outlinewidth": 0,
              "ticks": ""
             }
            },
            "type": "scattergeo"
           }
          ],
          "scattergl": [
           {
            "marker": {
             "colorbar": {
              "outlinewidth": 0,
              "ticks": ""
             }
            },
            "type": "scattergl"
           }
          ],
          "scattermapbox": [
           {
            "marker": {
             "colorbar": {
              "outlinewidth": 0,
              "ticks": ""
             }
            },
            "type": "scattermapbox"
           }
          ],
          "scatterpolar": [
           {
            "marker": {
             "colorbar": {
              "outlinewidth": 0,
              "ticks": ""
             }
            },
            "type": "scatterpolar"
           }
          ],
          "scatterpolargl": [
           {
            "marker": {
             "colorbar": {
              "outlinewidth": 0,
              "ticks": ""
             }
            },
            "type": "scatterpolargl"
           }
          ],
          "scatterternary": [
           {
            "marker": {
             "colorbar": {
              "outlinewidth": 0,
              "ticks": ""
             }
            },
            "type": "scatterternary"
           }
          ],
          "surface": [
           {
            "colorbar": {
             "outlinewidth": 0,
             "ticks": ""
            },
            "colorscale": [
             [
              0,
              "#0d0887"
             ],
             [
              0.1111111111111111,
              "#46039f"
             ],
             [
              0.2222222222222222,
              "#7201a8"
             ],
             [
              0.3333333333333333,
              "#9c179e"
             ],
             [
              0.4444444444444444,
              "#bd3786"
             ],
             [
              0.5555555555555556,
              "#d8576b"
             ],
             [
              0.6666666666666666,
              "#ed7953"
             ],
             [
              0.7777777777777778,
              "#fb9f3a"
             ],
             [
              0.8888888888888888,
              "#fdca26"
             ],
             [
              1,
              "#f0f921"
             ]
            ],
            "type": "surface"
           }
          ],
          "table": [
           {
            "cells": {
             "fill": {
              "color": "#EBF0F8"
             },
             "line": {
              "color": "white"
             }
            },
            "header": {
             "fill": {
              "color": "#C8D4E3"
             },
             "line": {
              "color": "white"
             }
            },
            "type": "table"
           }
          ]
         },
         "layout": {
          "annotationdefaults": {
           "arrowcolor": "#2a3f5f",
           "arrowhead": 0,
           "arrowwidth": 1
          },
          "coloraxis": {
           "colorbar": {
            "outlinewidth": 0,
            "ticks": ""
           }
          },
          "colorscale": {
           "diverging": [
            [
             0,
             "#8e0152"
            ],
            [
             0.1,
             "#c51b7d"
            ],
            [
             0.2,
             "#de77ae"
            ],
            [
             0.3,
             "#f1b6da"
            ],
            [
             0.4,
             "#fde0ef"
            ],
            [
             0.5,
             "#f7f7f7"
            ],
            [
             0.6,
             "#e6f5d0"
            ],
            [
             0.7,
             "#b8e186"
            ],
            [
             0.8,
             "#7fbc41"
            ],
            [
             0.9,
             "#4d9221"
            ],
            [
             1,
             "#276419"
            ]
           ],
           "sequential": [
            [
             0,
             "#0d0887"
            ],
            [
             0.1111111111111111,
             "#46039f"
            ],
            [
             0.2222222222222222,
             "#7201a8"
            ],
            [
             0.3333333333333333,
             "#9c179e"
            ],
            [
             0.4444444444444444,
             "#bd3786"
            ],
            [
             0.5555555555555556,
             "#d8576b"
            ],
            [
             0.6666666666666666,
             "#ed7953"
            ],
            [
             0.7777777777777778,
             "#fb9f3a"
            ],
            [
             0.8888888888888888,
             "#fdca26"
            ],
            [
             1,
             "#f0f921"
            ]
           ],
           "sequentialminus": [
            [
             0,
             "#0d0887"
            ],
            [
             0.1111111111111111,
             "#46039f"
            ],
            [
             0.2222222222222222,
             "#7201a8"
            ],
            [
             0.3333333333333333,
             "#9c179e"
            ],
            [
             0.4444444444444444,
             "#bd3786"
            ],
            [
             0.5555555555555556,
             "#d8576b"
            ],
            [
             0.6666666666666666,
             "#ed7953"
            ],
            [
             0.7777777777777778,
             "#fb9f3a"
            ],
            [
             0.8888888888888888,
             "#fdca26"
            ],
            [
             1,
             "#f0f921"
            ]
           ]
          },
          "colorway": [
           "#636efa",
           "#EF553B",
           "#00cc96",
           "#ab63fa",
           "#FFA15A",
           "#19d3f3",
           "#FF6692",
           "#B6E880",
           "#FF97FF",
           "#FECB52"
          ],
          "font": {
           "color": "#2a3f5f"
          },
          "geo": {
           "bgcolor": "white",
           "lakecolor": "white",
           "landcolor": "#E5ECF6",
           "showlakes": true,
           "showland": true,
           "subunitcolor": "white"
          },
          "hoverlabel": {
           "align": "left"
          },
          "hovermode": "closest",
          "mapbox": {
           "style": "light"
          },
          "paper_bgcolor": "white",
          "plot_bgcolor": "#E5ECF6",
          "polar": {
           "angularaxis": {
            "gridcolor": "white",
            "linecolor": "white",
            "ticks": ""
           },
           "bgcolor": "#E5ECF6",
           "radialaxis": {
            "gridcolor": "white",
            "linecolor": "white",
            "ticks": ""
           }
          },
          "scene": {
           "xaxis": {
            "backgroundcolor": "#E5ECF6",
            "gridcolor": "white",
            "gridwidth": 2,
            "linecolor": "white",
            "showbackground": true,
            "ticks": "",
            "zerolinecolor": "white"
           },
           "yaxis": {
            "backgroundcolor": "#E5ECF6",
            "gridcolor": "white",
            "gridwidth": 2,
            "linecolor": "white",
            "showbackground": true,
            "ticks": "",
            "zerolinecolor": "white"
           },
           "zaxis": {
            "backgroundcolor": "#E5ECF6",
            "gridcolor": "white",
            "gridwidth": 2,
            "linecolor": "white",
            "showbackground": true,
            "ticks": "",
            "zerolinecolor": "white"
           }
          },
          "shapedefaults": {
           "line": {
            "color": "#2a3f5f"
           }
          },
          "ternary": {
           "aaxis": {
            "gridcolor": "white",
            "linecolor": "white",
            "ticks": ""
           },
           "baxis": {
            "gridcolor": "white",
            "linecolor": "white",
            "ticks": ""
           },
           "bgcolor": "#E5ECF6",
           "caxis": {
            "gridcolor": "white",
            "linecolor": "white",
            "ticks": ""
           }
          },
          "title": {
           "x": 0.05
          },
          "xaxis": {
           "automargin": true,
           "gridcolor": "white",
           "linecolor": "white",
           "ticks": "",
           "title": {
            "standoff": 15
           },
           "zerolinecolor": "white",
           "zerolinewidth": 2
          },
          "yaxis": {
           "automargin": true,
           "gridcolor": "white",
           "linecolor": "white",
           "ticks": "",
           "title": {
            "standoff": 15
           },
           "zerolinecolor": "white",
           "zerolinewidth": 2
          }
         }
        }
       }
      },
      "text/html": [
       "<div>\n",
       "        \n",
       "        \n",
       "            <div id=\"7f7591f0-eb6f-4d4e-a8c0-ed9aba7df979\" class=\"plotly-graph-div\" style=\"height:525px; width:100%;\"></div>\n",
       "            <script type=\"text/javascript\">\n",
       "                require([\"plotly\"], function(Plotly) {\n",
       "                    window.PLOTLYENV=window.PLOTLYENV || {};\n",
       "                    \n",
       "                if (document.getElementById(\"7f7591f0-eb6f-4d4e-a8c0-ed9aba7df979\")) {\n",
       "                    Plotly.newPlot(\n",
       "                        '7f7591f0-eb6f-4d4e-a8c0-ed9aba7df979',\n",
       "                        [{\"hoverlabel\": {\"namelength\": 0}, \"hovertemplate\": \"Region=01-Bas-Saint-Laurent<br>Total Number of Cases=%{marker.size}<br>Lat=%{lat}<br>Long=%{lon}\", \"lat\": [48.333333], \"legendgroup\": \"01-Bas-Saint-Laurent\", \"lon\": [-68.666667], \"marker\": {\"color\": \"#636efa\", \"size\": [1.0], \"sizemode\": \"area\", \"sizeref\": 0.051111111111111114}, \"mode\": \"markers\", \"name\": \"01-Bas-Saint-Laurent\", \"showlegend\": true, \"subplot\": \"mapbox\", \"type\": \"scattermapbox\"}, {\"hoverlabel\": {\"namelength\": 0}, \"hovertemplate\": \"Region=02- Saguenay-Lac-Saint-Jean<br>Total Number of Cases=%{marker.size}<br>Lat=%{lat}<br>Long=%{lon}\", \"lat\": [49.8667], \"legendgroup\": \"02- Saguenay-Lac-Saint-Jean\", \"lon\": [-71.75], \"marker\": {\"color\": \"#EF553B\", \"size\": [1.0], \"sizemode\": \"area\", \"sizeref\": 0.051111111111111114}, \"mode\": \"markers\", \"name\": \"02- Saguenay-Lac-Saint-Jean\", \"showlegend\": true, \"subplot\": \"mapbox\", \"type\": \"scattermapbox\"}, {\"hoverlabel\": {\"namelength\": 0}, \"hovertemplate\": \"Region=03- Capitale-Nationale<br>Total Number of Cases=%{marker.size}<br>Lat=%{lat}<br>Long=%{lon}\", \"lat\": [47.333333], \"legendgroup\": \"03- Capitale-Nationale\", \"lon\": [-71.5], \"marker\": {\"color\": \"#00cc96\", \"size\": [13.0], \"sizemode\": \"area\", \"sizeref\": 0.051111111111111114}, \"mode\": \"markers\", \"name\": \"03- Capitale-Nationale\", \"showlegend\": true, \"subplot\": \"mapbox\", \"type\": \"scattermapbox\"}, {\"hoverlabel\": {\"namelength\": 0}, \"hovertemplate\": \"Region=04-Mauricie<br>Total Number of Cases=%{marker.size}<br>Lat=%{lat}<br>Long=%{lon}\", \"lat\": [47.0], \"legendgroup\": \"04-Mauricie\", \"lon\": [-73.0], \"marker\": {\"color\": \"#ab63fa\", \"size\": [7.0], \"sizemode\": \"area\", \"sizeref\": 0.051111111111111114}, \"mode\": \"markers\", \"name\": \"04-Mauricie\", \"showlegend\": true, \"subplot\": \"mapbox\", \"type\": \"scattermapbox\"}, {\"hoverlabel\": {\"namelength\": 0}, \"hovertemplate\": \"Region=05-Estrie<br>Total Number of Cases=%{marker.size}<br>Lat=%{lat}<br>Long=%{lon}\", \"lat\": [45.481556], \"legendgroup\": \"05-Estrie\", \"lon\": [-71.667917], \"marker\": {\"color\": \"#FFA15A\", \"size\": [30.0], \"sizemode\": \"area\", \"sizeref\": 0.051111111111111114}, \"mode\": \"markers\", \"name\": \"05-Estrie\", \"showlegend\": true, \"subplot\": \"mapbox\", \"type\": \"scattermapbox\"}, {\"hoverlabel\": {\"namelength\": 0}, \"hovertemplate\": \"Region=06-Montreal<br>Total Number of Cases=%{marker.size}<br>Lat=%{lat}<br>Long=%{lon}\", \"lat\": [45.5], \"legendgroup\": \"06-Montreal\", \"lon\": [-73.566667], \"marker\": {\"color\": \"#19d3f3\", \"size\": [46.0], \"sizemode\": \"area\", \"sizeref\": 0.051111111111111114}, \"mode\": \"markers\", \"name\": \"06-Montreal\", \"showlegend\": true, \"subplot\": \"mapbox\", \"type\": \"scattermapbox\"}, {\"hoverlabel\": {\"namelength\": 0}, \"hovertemplate\": \"Region=07-Outauais<br>Total Number of Cases=%{marker.size}<br>Lat=%{lat}<br>Long=%{lon}\", \"lat\": [45.783333], \"legendgroup\": \"07-Outauais\", \"lon\": [-75.083333], \"marker\": {\"color\": \"#FF6692\", \"size\": [5.0], \"sizemode\": \"area\", \"sizeref\": 0.051111111111111114}, \"mode\": \"markers\", \"name\": \"07-Outauais\", \"showlegend\": true, \"subplot\": \"mapbox\", \"type\": \"scattermapbox\"}, {\"hoverlabel\": {\"namelength\": 0}, \"hovertemplate\": \"Region=08-Abititi-Temiscaminigue<br>Total Number of Cases=%{marker.size}<br>Lat=%{lat}<br>Long=%{lon}\", \"lat\": [48.233333], \"legendgroup\": \"08-Abititi-Temiscaminigue\", \"lon\": [-79.016667], \"marker\": {\"color\": \"#B6E880\", \"size\": [0.0], \"sizemode\": \"area\", \"sizeref\": 0.051111111111111114}, \"mode\": \"markers\", \"name\": \"08-Abititi-Temiscaminigue\", \"showlegend\": true, \"subplot\": \"mapbox\", \"type\": \"scattermapbox\"}, {\"hoverlabel\": {\"namelength\": 0}, \"hovertemplate\": \"Region=9-Cote-Nord<br>Total Number of Cases=%{marker.size}<br>Lat=%{lat}<br>Long=%{lon}\", \"lat\": [50.866667], \"legendgroup\": \"9-Cote-Nord\", \"lon\": [-65.816667], \"marker\": {\"color\": \"#FF97FF\", \"size\": [0.0], \"sizemode\": \"area\", \"sizeref\": 0.051111111111111114}, \"mode\": \"markers\", \"name\": \"9-Cote-Nord\", \"showlegend\": true, \"subplot\": \"mapbox\", \"type\": \"scattermapbox\"}, {\"hoverlabel\": {\"namelength\": 0}, \"hovertemplate\": \"Region=10-Nord-du-Quebec<br>Total Number of Cases=%{marker.size}<br>Lat=%{lat}<br>Long=%{lon}\", \"lat\": [56.166667], \"legendgroup\": \"10-Nord-du-Quebec\", \"lon\": [-74.416667], \"marker\": {\"color\": \"#FECB52\", \"size\": [1.0], \"sizemode\": \"area\", \"sizeref\": 0.051111111111111114}, \"mode\": \"markers\", \"name\": \"10-Nord-du-Quebec\", \"showlegend\": true, \"subplot\": \"mapbox\", \"type\": \"scattermapbox\"}, {\"hoverlabel\": {\"namelength\": 0}, \"hovertemplate\": \"Region=11- Gaspesie-Iles-de-la-Madelaine<br>Total Number of Cases=%{marker.size}<br>Lat=%{lat}<br>Long=%{lon}\", \"lat\": [48.683333], \"legendgroup\": \"11- Gaspesie-Iles-de-la-Madelaine\", \"lon\": [-65.4], \"marker\": {\"color\": \"#636efa\", \"size\": [0.0], \"sizemode\": \"area\", \"sizeref\": 0.051111111111111114}, \"mode\": \"markers\", \"name\": \"11- Gaspesie-Iles-de-la-Madelaine\", \"showlegend\": true, \"subplot\": \"mapbox\", \"type\": \"scattermapbox\"}, {\"hoverlabel\": {\"namelength\": 0}, \"hovertemplate\": \"Region=12-Chaudiere-Appalaches<br>Total Number of Cases=%{marker.size}<br>Lat=%{lat}<br>Long=%{lon}\", \"lat\": [46.483333], \"legendgroup\": \"12-Chaudiere-Appalaches\", \"lon\": [-70.616667], \"marker\": {\"color\": \"#EF553B\", \"size\": [13.0], \"sizemode\": \"area\", \"sizeref\": 0.051111111111111114}, \"mode\": \"markers\", \"name\": \"12-Chaudiere-Appalaches\", \"showlegend\": true, \"subplot\": \"mapbox\", \"type\": \"scattermapbox\"}, {\"hoverlabel\": {\"namelength\": 0}, \"hovertemplate\": \"Region=13- Laval<br>Total Number of Cases=%{marker.size}<br>Lat=%{lat}<br>Long=%{lon}\", \"lat\": [45.583333], \"legendgroup\": \"13- Laval\", \"lon\": [-73.75], \"marker\": {\"color\": \"#00cc96\", \"size\": [4.0], \"sizemode\": \"area\", \"sizeref\": 0.051111111111111114}, \"mode\": \"markers\", \"name\": \"13- Laval\", \"showlegend\": true, \"subplot\": \"mapbox\", \"type\": \"scattermapbox\"}, {\"hoverlabel\": {\"namelength\": 0}, \"hovertemplate\": \"Region=14- Lanaudiere<br>Total Number of Cases=%{marker.size}<br>Lat=%{lat}<br>Long=%{lon}\", \"lat\": [46.766667], \"legendgroup\": \"14- Lanaudiere\", \"lon\": [-73.833333], \"marker\": {\"color\": \"#ab63fa\", \"size\": [15.0], \"sizemode\": \"area\", \"sizeref\": 0.051111111111111114}, \"mode\": \"markers\", \"name\": \"14- Lanaudiere\", \"showlegend\": true, \"subplot\": \"mapbox\", \"type\": \"scattermapbox\"}, {\"hoverlabel\": {\"namelength\": 0}, \"hovertemplate\": \"Region=15- Laurentides<br>Total Number of Cases=%{marker.size}<br>Lat=%{lat}<br>Long=%{lon}\", \"lat\": [46.433333], \"legendgroup\": \"15- Laurentides\", \"lon\": [-74.983333], \"marker\": {\"color\": \"#FFA15A\", \"size\": [17.0], \"sizemode\": \"area\", \"sizeref\": 0.051111111111111114}, \"mode\": \"markers\", \"name\": \"15- Laurentides\", \"showlegend\": true, \"subplot\": \"mapbox\", \"type\": \"scattermapbox\"}, {\"hoverlabel\": {\"namelength\": 0}, \"hovertemplate\": \"Region=16- Monteregie<br>Total Number of Cases=%{marker.size}<br>Lat=%{lat}<br>Long=%{lon}\", \"lat\": [45.383333], \"legendgroup\": \"16- Monteregie\", \"lon\": [-73.1], \"marker\": {\"color\": \"#19d3f3\", \"size\": [40.0], \"sizemode\": \"area\", \"sizeref\": 0.051111111111111114}, \"mode\": \"markers\", \"name\": \"16- Monteregie\", \"showlegend\": true, \"subplot\": \"mapbox\", \"type\": \"scattermapbox\"}, {\"hoverlabel\": {\"namelength\": 0}, \"hovertemplate\": \"Region=17- Centre du Quebec<br>Total Number of Cases=%{marker.size}<br>Lat=%{lat}<br>Long=%{lon}\", \"lat\": [46.283333], \"legendgroup\": \"17- Centre du Quebec\", \"lon\": [-72.066667], \"marker\": {\"color\": \"#FF6692\", \"size\": [0.0], \"sizemode\": \"area\", \"sizeref\": 0.051111111111111114}, \"mode\": \"markers\", \"name\": \"17- Centre du Quebec\", \"showlegend\": true, \"subplot\": \"mapbox\", \"type\": \"scattermapbox\"}],\n",
       "                        {\"legend\": {\"itemsizing\": \"constant\", \"title\": {\"text\": \"Region\"}, \"tracegroupgap\": 0}, \"mapbox\": {\"accesstoken\": \"pk.eyJ1Ijoibmlja2JlbnQiLCJhIjoiY2s4MjFyejMwMGRhMDNqcnU1aG0wZTdrZSJ9.t7FEmorhX4kygVCGQw17Bg\", \"center\": {\"lat\": 47.657740411764706, \"lon\": -72.24909323529411}, \"domain\": {\"x\": [0.0, 1.0], \"y\": [0.0, 1.0]}, \"style\": \"carto-positron\", \"zoom\": 4}, \"margin\": {\"t\": 60}, \"template\": {\"data\": {\"bar\": [{\"error_x\": {\"color\": \"#2a3f5f\"}, \"error_y\": {\"color\": \"#2a3f5f\"}, \"marker\": {\"line\": {\"color\": \"#E5ECF6\", \"width\": 0.5}}, \"type\": \"bar\"}], \"barpolar\": [{\"marker\": {\"line\": {\"color\": \"#E5ECF6\", \"width\": 0.5}}, \"type\": \"barpolar\"}], \"carpet\": [{\"aaxis\": {\"endlinecolor\": \"#2a3f5f\", \"gridcolor\": \"white\", \"linecolor\": \"white\", \"minorgridcolor\": \"white\", \"startlinecolor\": \"#2a3f5f\"}, \"baxis\": {\"endlinecolor\": \"#2a3f5f\", \"gridcolor\": \"white\", \"linecolor\": \"white\", \"minorgridcolor\": \"white\", \"startlinecolor\": \"#2a3f5f\"}, \"type\": \"carpet\"}], \"choropleth\": [{\"colorbar\": {\"outlinewidth\": 0, \"ticks\": \"\"}, \"type\": \"choropleth\"}], \"contour\": [{\"colorbar\": {\"outlinewidth\": 0, \"ticks\": \"\"}, \"colorscale\": [[0.0, \"#0d0887\"], [0.1111111111111111, \"#46039f\"], [0.2222222222222222, \"#7201a8\"], [0.3333333333333333, \"#9c179e\"], [0.4444444444444444, \"#bd3786\"], [0.5555555555555556, \"#d8576b\"], [0.6666666666666666, \"#ed7953\"], [0.7777777777777778, \"#fb9f3a\"], [0.8888888888888888, \"#fdca26\"], [1.0, \"#f0f921\"]], \"type\": \"contour\"}], \"contourcarpet\": [{\"colorbar\": {\"outlinewidth\": 0, \"ticks\": \"\"}, \"type\": \"contourcarpet\"}], \"heatmap\": [{\"colorbar\": {\"outlinewidth\": 0, \"ticks\": \"\"}, \"colorscale\": [[0.0, \"#0d0887\"], [0.1111111111111111, \"#46039f\"], [0.2222222222222222, \"#7201a8\"], [0.3333333333333333, \"#9c179e\"], [0.4444444444444444, \"#bd3786\"], [0.5555555555555556, \"#d8576b\"], [0.6666666666666666, \"#ed7953\"], [0.7777777777777778, \"#fb9f3a\"], [0.8888888888888888, \"#fdca26\"], [1.0, \"#f0f921\"]], \"type\": \"heatmap\"}], \"heatmapgl\": [{\"colorbar\": {\"outlinewidth\": 0, \"ticks\": \"\"}, \"colorscale\": [[0.0, \"#0d0887\"], [0.1111111111111111, \"#46039f\"], [0.2222222222222222, \"#7201a8\"], [0.3333333333333333, \"#9c179e\"], [0.4444444444444444, \"#bd3786\"], [0.5555555555555556, \"#d8576b\"], [0.6666666666666666, \"#ed7953\"], [0.7777777777777778, \"#fb9f3a\"], [0.8888888888888888, \"#fdca26\"], [1.0, \"#f0f921\"]], \"type\": \"heatmapgl\"}], \"histogram\": [{\"marker\": {\"colorbar\": {\"outlinewidth\": 0, \"ticks\": \"\"}}, \"type\": \"histogram\"}], \"histogram2d\": [{\"colorbar\": {\"outlinewidth\": 0, \"ticks\": \"\"}, \"colorscale\": [[0.0, \"#0d0887\"], [0.1111111111111111, \"#46039f\"], [0.2222222222222222, \"#7201a8\"], [0.3333333333333333, \"#9c179e\"], [0.4444444444444444, \"#bd3786\"], [0.5555555555555556, \"#d8576b\"], [0.6666666666666666, \"#ed7953\"], [0.7777777777777778, \"#fb9f3a\"], [0.8888888888888888, \"#fdca26\"], [1.0, \"#f0f921\"]], \"type\": \"histogram2d\"}], \"histogram2dcontour\": [{\"colorbar\": {\"outlinewidth\": 0, \"ticks\": \"\"}, \"colorscale\": [[0.0, \"#0d0887\"], [0.1111111111111111, \"#46039f\"], [0.2222222222222222, \"#7201a8\"], [0.3333333333333333, \"#9c179e\"], [0.4444444444444444, \"#bd3786\"], [0.5555555555555556, \"#d8576b\"], [0.6666666666666666, \"#ed7953\"], [0.7777777777777778, \"#fb9f3a\"], [0.8888888888888888, \"#fdca26\"], [1.0, \"#f0f921\"]], \"type\": \"histogram2dcontour\"}], \"mesh3d\": [{\"colorbar\": {\"outlinewidth\": 0, \"ticks\": \"\"}, \"type\": \"mesh3d\"}], \"parcoords\": [{\"line\": {\"colorbar\": {\"outlinewidth\": 0, \"ticks\": \"\"}}, \"type\": \"parcoords\"}], \"pie\": [{\"automargin\": true, \"type\": \"pie\"}], \"scatter\": [{\"marker\": {\"colorbar\": {\"outlinewidth\": 0, \"ticks\": \"\"}}, \"type\": \"scatter\"}], \"scatter3d\": [{\"line\": {\"colorbar\": {\"outlinewidth\": 0, \"ticks\": \"\"}}, \"marker\": {\"colorbar\": {\"outlinewidth\": 0, \"ticks\": \"\"}}, \"type\": \"scatter3d\"}], \"scattercarpet\": [{\"marker\": {\"colorbar\": {\"outlinewidth\": 0, \"ticks\": \"\"}}, \"type\": \"scattercarpet\"}], \"scattergeo\": [{\"marker\": {\"colorbar\": {\"outlinewidth\": 0, \"ticks\": \"\"}}, \"type\": \"scattergeo\"}], \"scattergl\": [{\"marker\": {\"colorbar\": {\"outlinewidth\": 0, \"ticks\": \"\"}}, \"type\": \"scattergl\"}], \"scattermapbox\": [{\"marker\": {\"colorbar\": {\"outlinewidth\": 0, \"ticks\": \"\"}}, \"type\": \"scattermapbox\"}], \"scatterpolar\": [{\"marker\": {\"colorbar\": {\"outlinewidth\": 0, \"ticks\": \"\"}}, \"type\": \"scatterpolar\"}], \"scatterpolargl\": [{\"marker\": {\"colorbar\": {\"outlinewidth\": 0, \"ticks\": \"\"}}, \"type\": \"scatterpolargl\"}], \"scatterternary\": [{\"marker\": {\"colorbar\": {\"outlinewidth\": 0, \"ticks\": \"\"}}, \"type\": \"scatterternary\"}], \"surface\": [{\"colorbar\": {\"outlinewidth\": 0, \"ticks\": \"\"}, \"colorscale\": [[0.0, \"#0d0887\"], [0.1111111111111111, \"#46039f\"], [0.2222222222222222, \"#7201a8\"], [0.3333333333333333, \"#9c179e\"], [0.4444444444444444, \"#bd3786\"], [0.5555555555555556, \"#d8576b\"], [0.6666666666666666, \"#ed7953\"], [0.7777777777777778, \"#fb9f3a\"], [0.8888888888888888, \"#fdca26\"], [1.0, \"#f0f921\"]], \"type\": \"surface\"}], \"table\": [{\"cells\": {\"fill\": {\"color\": \"#EBF0F8\"}, \"line\": {\"color\": \"white\"}}, \"header\": {\"fill\": {\"color\": \"#C8D4E3\"}, \"line\": {\"color\": \"white\"}}, \"type\": \"table\"}]}, \"layout\": {\"annotationdefaults\": {\"arrowcolor\": \"#2a3f5f\", \"arrowhead\": 0, \"arrowwidth\": 1}, \"coloraxis\": {\"colorbar\": {\"outlinewidth\": 0, \"ticks\": \"\"}}, \"colorscale\": {\"diverging\": [[0, \"#8e0152\"], [0.1, \"#c51b7d\"], [0.2, \"#de77ae\"], [0.3, \"#f1b6da\"], [0.4, \"#fde0ef\"], [0.5, \"#f7f7f7\"], [0.6, \"#e6f5d0\"], [0.7, \"#b8e186\"], [0.8, \"#7fbc41\"], [0.9, \"#4d9221\"], [1, \"#276419\"]], \"sequential\": [[0.0, \"#0d0887\"], [0.1111111111111111, \"#46039f\"], [0.2222222222222222, \"#7201a8\"], [0.3333333333333333, \"#9c179e\"], [0.4444444444444444, \"#bd3786\"], [0.5555555555555556, \"#d8576b\"], [0.6666666666666666, \"#ed7953\"], [0.7777777777777778, \"#fb9f3a\"], [0.8888888888888888, \"#fdca26\"], [1.0, \"#f0f921\"]], \"sequentialminus\": [[0.0, \"#0d0887\"], [0.1111111111111111, \"#46039f\"], [0.2222222222222222, \"#7201a8\"], [0.3333333333333333, \"#9c179e\"], [0.4444444444444444, \"#bd3786\"], [0.5555555555555556, \"#d8576b\"], [0.6666666666666666, \"#ed7953\"], [0.7777777777777778, \"#fb9f3a\"], [0.8888888888888888, \"#fdca26\"], [1.0, \"#f0f921\"]]}, \"colorway\": [\"#636efa\", \"#EF553B\", \"#00cc96\", \"#ab63fa\", \"#FFA15A\", \"#19d3f3\", \"#FF6692\", \"#B6E880\", \"#FF97FF\", \"#FECB52\"], \"font\": {\"color\": \"#2a3f5f\"}, \"geo\": {\"bgcolor\": \"white\", \"lakecolor\": \"white\", \"landcolor\": \"#E5ECF6\", \"showlakes\": true, \"showland\": true, \"subunitcolor\": \"white\"}, \"hoverlabel\": {\"align\": \"left\"}, \"hovermode\": \"closest\", \"mapbox\": {\"style\": \"light\"}, \"paper_bgcolor\": \"white\", \"plot_bgcolor\": \"#E5ECF6\", \"polar\": {\"angularaxis\": {\"gridcolor\": \"white\", \"linecolor\": \"white\", \"ticks\": \"\"}, \"bgcolor\": \"#E5ECF6\", \"radialaxis\": {\"gridcolor\": \"white\", \"linecolor\": \"white\", \"ticks\": \"\"}}, \"scene\": {\"xaxis\": {\"backgroundcolor\": \"#E5ECF6\", \"gridcolor\": \"white\", \"gridwidth\": 2, \"linecolor\": \"white\", \"showbackground\": true, \"ticks\": \"\", \"zerolinecolor\": \"white\"}, \"yaxis\": {\"backgroundcolor\": \"#E5ECF6\", \"gridcolor\": \"white\", \"gridwidth\": 2, \"linecolor\": \"white\", \"showbackground\": true, \"ticks\": \"\", \"zerolinecolor\": \"white\"}, \"zaxis\": {\"backgroundcolor\": \"#E5ECF6\", \"gridcolor\": \"white\", \"gridwidth\": 2, \"linecolor\": \"white\", \"showbackground\": true, \"ticks\": \"\", \"zerolinecolor\": \"white\"}}, \"shapedefaults\": {\"line\": {\"color\": \"#2a3f5f\"}}, \"ternary\": {\"aaxis\": {\"gridcolor\": \"white\", \"linecolor\": \"white\", \"ticks\": \"\"}, \"baxis\": {\"gridcolor\": \"white\", \"linecolor\": \"white\", \"ticks\": \"\"}, \"bgcolor\": \"#E5ECF6\", \"caxis\": {\"gridcolor\": \"white\", \"linecolor\": \"white\", \"ticks\": \"\"}}, \"title\": {\"x\": 0.05}, \"xaxis\": {\"automargin\": true, \"gridcolor\": \"white\", \"linecolor\": \"white\", \"ticks\": \"\", \"title\": {\"standoff\": 15}, \"zerolinecolor\": \"white\", \"zerolinewidth\": 2}, \"yaxis\": {\"automargin\": true, \"gridcolor\": \"white\", \"linecolor\": \"white\", \"ticks\": \"\", \"title\": {\"standoff\": 15}, \"zerolinecolor\": \"white\", \"zerolinewidth\": 2}}}},\n",
       "                        {\"responsive\": true}\n",
       "                    ).then(function(){\n",
       "                            \n",
       "var gd = document.getElementById('7f7591f0-eb6f-4d4e-a8c0-ed9aba7df979');\n",
       "var x = new MutationObserver(function (mutations, observer) {{\n",
       "        var display = window.getComputedStyle(gd).display;\n",
       "        if (!display || display === 'none') {{\n",
       "            console.log([gd, 'removed!']);\n",
       "            Plotly.purge(gd);\n",
       "            observer.disconnect();\n",
       "        }}\n",
       "}});\n",
       "\n",
       "// Listen for the removal of the full notebook cells\n",
       "var notebookContainer = gd.closest('#notebook-container');\n",
       "if (notebookContainer) {{\n",
       "    x.observe(notebookContainer, {childList: true});\n",
       "}}\n",
       "\n",
       "// Listen for the clearing of the current output cell\n",
       "var outputEl = gd.closest('.output');\n",
       "if (outputEl) {{\n",
       "    x.observe(outputEl, {childList: true});\n",
       "}}\n",
       "\n",
       "                        })\n",
       "                };\n",
       "                });\n",
       "            </script>\n",
       "        </div>"
      ]
     },
     "metadata": {},
     "output_type": "display_data"
    }
   ],
   "source": [
    "token = \"pk.eyJ1Ijoibmlja2JlbnQiLCJhIjoiY2s4MjFyejMwMGRhMDNqcnU1aG0wZTdrZSJ9.t7FEmorhX4kygVCGQw17Bg\"\n",
    "px.set_mapbox_access_token(token)\n",
    "fig = px.scatter_mapbox(lastday_df, lat=\"Lat\", lon=\"Long\",     color=\"Region\", size=\"Total Number of Cases\",\n",
    "                        mapbox_style=\"carto-positron\", color_continuous_scale=px.colors.cyclical.IceFire, size_max=30, zoom=4)\n",
    "fig.show()\n",
    "with open('../plotly/map.json', 'w') as f:\n",
    "    f.write(fig.to_json())"
   ]
  },
  {
   "cell_type": "code",
   "execution_count": 42,
   "metadata": {},
   "outputs": [
    {
     "data": {
      "application/vnd.plotly.v1+json": {
       "config": {
        "plotlyServerURL": "https://plot.ly"
       },
       "data": [
        {
         "geo": "geo",
         "hoverlabel": {
          "namelength": 0
         },
         "hovertemplate": "Region=01-Bas-Saint-Laurent<br>Date of Infection=13th<br>Total Number of Cases=%{marker.size}<br>Lat=%{lat}<br>Long=%{lon}",
         "lat": [
          48.333333
         ],
         "legendgroup": "01-Bas-Saint-Laurent",
         "lon": [
          -68.666667
         ],
         "marker": {
          "color": "#636efa",
          "size": [
           0
          ],
          "sizemode": "area",
          "sizeref": 0.051111111111111114
         },
         "name": "01-Bas-Saint-Laurent",
         "showlegend": true,
         "type": "scattergeo"
        },
        {
         "geo": "geo",
         "hoverlabel": {
          "namelength": 0
         },
         "hovertemplate": "Region=02- Saguenay-Lac-Saint-Jean<br>Date of Infection=13th<br>Total Number of Cases=%{marker.size}<br>Lat=%{lat}<br>Long=%{lon}",
         "lat": [
          49.8667
         ],
         "legendgroup": "02- Saguenay-Lac-Saint-Jean",
         "lon": [
          -71.75
         ],
         "marker": {
          "color": "#EF553B",
          "size": [
           0
          ],
          "sizemode": "area",
          "sizeref": 0.051111111111111114
         },
         "name": "02- Saguenay-Lac-Saint-Jean",
         "showlegend": true,
         "type": "scattergeo"
        },
        {
         "geo": "geo",
         "hoverlabel": {
          "namelength": 0
         },
         "hovertemplate": "Region=03- Capitale-Nationale<br>Date of Infection=13th<br>Total Number of Cases=%{marker.size}<br>Lat=%{lat}<br>Long=%{lon}",
         "lat": [
          47.333333
         ],
         "legendgroup": "03- Capitale-Nationale",
         "lon": [
          -71.5
         ],
         "marker": {
          "color": "#00cc96",
          "size": [
           0
          ],
          "sizemode": "area",
          "sizeref": 0.051111111111111114
         },
         "name": "03- Capitale-Nationale",
         "showlegend": true,
         "type": "scattergeo"
        },
        {
         "geo": "geo",
         "hoverlabel": {
          "namelength": 0
         },
         "hovertemplate": "Region=04-Mauricie<br>Date of Infection=13th<br>Total Number of Cases=%{marker.size}<br>Lat=%{lat}<br>Long=%{lon}",
         "lat": [
          47
         ],
         "legendgroup": "04-Mauricie",
         "lon": [
          -73
         ],
         "marker": {
          "color": "#ab63fa",
          "size": [
           1
          ],
          "sizemode": "area",
          "sizeref": 0.051111111111111114
         },
         "name": "04-Mauricie",
         "showlegend": true,
         "type": "scattergeo"
        },
        {
         "geo": "geo",
         "hoverlabel": {
          "namelength": 0
         },
         "hovertemplate": "Region=05-Estrie<br>Date of Infection=13th<br>Total Number of Cases=%{marker.size}<br>Lat=%{lat}<br>Long=%{lon}",
         "lat": [
          45.481556
         ],
         "legendgroup": "05-Estrie",
         "lon": [
          -71.667917
         ],
         "marker": {
          "color": "#FFA15A",
          "size": [
           2
          ],
          "sizemode": "area",
          "sizeref": 0.051111111111111114
         },
         "name": "05-Estrie",
         "showlegend": true,
         "type": "scattergeo"
        },
        {
         "geo": "geo",
         "hoverlabel": {
          "namelength": 0
         },
         "hovertemplate": "Region=06-Montreal<br>Date of Infection=13th<br>Total Number of Cases=%{marker.size}<br>Lat=%{lat}<br>Long=%{lon}",
         "lat": [
          45.5
         ],
         "legendgroup": "06-Montreal",
         "lon": [
          -73.566667
         ],
         "marker": {
          "color": "#19d3f3",
          "size": [
           7
          ],
          "sizemode": "area",
          "sizeref": 0.051111111111111114
         },
         "name": "06-Montreal",
         "showlegend": true,
         "type": "scattergeo"
        },
        {
         "geo": "geo",
         "hoverlabel": {
          "namelength": 0
         },
         "hovertemplate": "Region=07-Outauais<br>Date of Infection=13th<br>Total Number of Cases=%{marker.size}<br>Lat=%{lat}<br>Long=%{lon}",
         "lat": [
          45.783333
         ],
         "legendgroup": "07-Outauais",
         "lon": [
          -75.083333
         ],
         "marker": {
          "color": "#FF6692",
          "size": [
           0
          ],
          "sizemode": "area",
          "sizeref": 0.051111111111111114
         },
         "name": "07-Outauais",
         "showlegend": true,
         "type": "scattergeo"
        },
        {
         "geo": "geo",
         "hoverlabel": {
          "namelength": 0
         },
         "hovertemplate": "Region=08-Abititi-Temiscaminigue<br>Date of Infection=13th<br>Total Number of Cases=%{marker.size}<br>Lat=%{lat}<br>Long=%{lon}",
         "lat": [
          48.233333
         ],
         "legendgroup": "08-Abititi-Temiscaminigue",
         "lon": [
          -79.016667
         ],
         "marker": {
          "color": "#B6E880",
          "size": [
           0
          ],
          "sizemode": "area",
          "sizeref": 0.051111111111111114
         },
         "name": "08-Abititi-Temiscaminigue",
         "showlegend": true,
         "type": "scattergeo"
        },
        {
         "geo": "geo",
         "hoverlabel": {
          "namelength": 0
         },
         "hovertemplate": "Region=9-Cote-Nord<br>Date of Infection=13th<br>Total Number of Cases=%{marker.size}<br>Lat=%{lat}<br>Long=%{lon}",
         "lat": [
          50.866667
         ],
         "legendgroup": "9-Cote-Nord",
         "lon": [
          -65.816667
         ],
         "marker": {
          "color": "#FF97FF",
          "size": [
           0
          ],
          "sizemode": "area",
          "sizeref": 0.051111111111111114
         },
         "name": "9-Cote-Nord",
         "showlegend": true,
         "type": "scattergeo"
        },
        {
         "geo": "geo",
         "hoverlabel": {
          "namelength": 0
         },
         "hovertemplate": "Region=10-Nord-du-Quebec<br>Date of Infection=13th<br>Total Number of Cases=%{marker.size}<br>Lat=%{lat}<br>Long=%{lon}",
         "lat": [
          56.166667
         ],
         "legendgroup": "10-Nord-du-Quebec",
         "lon": [
          -74.416667
         ],
         "marker": {
          "color": "#FECB52",
          "size": [
           0
          ],
          "sizemode": "area",
          "sizeref": 0.051111111111111114
         },
         "name": "10-Nord-du-Quebec",
         "showlegend": true,
         "type": "scattergeo"
        },
        {
         "geo": "geo",
         "hoverlabel": {
          "namelength": 0
         },
         "hovertemplate": "Region=11- Gaspesie-Iles-de-la-Madelaine<br>Date of Infection=13th<br>Total Number of Cases=%{marker.size}<br>Lat=%{lat}<br>Long=%{lon}",
         "lat": [
          48.683333
         ],
         "legendgroup": "11- Gaspesie-Iles-de-la-Madelaine",
         "lon": [
          -65.4
         ],
         "marker": {
          "color": "#636efa",
          "size": [
           0
          ],
          "sizemode": "area",
          "sizeref": 0.051111111111111114
         },
         "name": "11- Gaspesie-Iles-de-la-Madelaine",
         "showlegend": true,
         "type": "scattergeo"
        },
        {
         "geo": "geo",
         "hoverlabel": {
          "namelength": 0
         },
         "hovertemplate": "Region=12-Chaudiere-Appalaches<br>Date of Infection=13th<br>Total Number of Cases=%{marker.size}<br>Lat=%{lat}<br>Long=%{lon}",
         "lat": [
          46.483333
         ],
         "legendgroup": "12-Chaudiere-Appalaches",
         "lon": [
          -70.616667
         ],
         "marker": {
          "color": "#EF553B",
          "size": [
           1
          ],
          "sizemode": "area",
          "sizeref": 0.051111111111111114
         },
         "name": "12-Chaudiere-Appalaches",
         "showlegend": true,
         "type": "scattergeo"
        },
        {
         "geo": "geo",
         "hoverlabel": {
          "namelength": 0
         },
         "hovertemplate": "Region=13- Laval<br>Date of Infection=13th<br>Total Number of Cases=%{marker.size}<br>Lat=%{lat}<br>Long=%{lon}",
         "lat": [
          45.583333
         ],
         "legendgroup": "13- Laval",
         "lon": [
          -73.75
         ],
         "marker": {
          "color": "#00cc96",
          "size": [
           0
          ],
          "sizemode": "area",
          "sizeref": 0.051111111111111114
         },
         "name": "13- Laval",
         "showlegend": true,
         "type": "scattergeo"
        },
        {
         "geo": "geo",
         "hoverlabel": {
          "namelength": 0
         },
         "hovertemplate": "Region=14- Lanaudiere<br>Date of Infection=13th<br>Total Number of Cases=%{marker.size}<br>Lat=%{lat}<br>Long=%{lon}",
         "lat": [
          46.766667
         ],
         "legendgroup": "14- Lanaudiere",
         "lon": [
          -73.833333
         ],
         "marker": {
          "color": "#ab63fa",
          "size": [
           0
          ],
          "sizemode": "area",
          "sizeref": 0.051111111111111114
         },
         "name": "14- Lanaudiere",
         "showlegend": true,
         "type": "scattergeo"
        },
        {
         "geo": "geo",
         "hoverlabel": {
          "namelength": 0
         },
         "hovertemplate": "Region=15- Laurentides<br>Date of Infection=13th<br>Total Number of Cases=%{marker.size}<br>Lat=%{lat}<br>Long=%{lon}",
         "lat": [
          46.433333
         ],
         "legendgroup": "15- Laurentides",
         "lon": [
          -74.983333
         ],
         "marker": {
          "color": "#FFA15A",
          "size": [
           2
          ],
          "sizemode": "area",
          "sizeref": 0.051111111111111114
         },
         "name": "15- Laurentides",
         "showlegend": true,
         "type": "scattergeo"
        },
        {
         "geo": "geo",
         "hoverlabel": {
          "namelength": 0
         },
         "hovertemplate": "Region=16- Monteregie<br>Date of Infection=13th<br>Total Number of Cases=%{marker.size}<br>Lat=%{lat}<br>Long=%{lon}",
         "lat": [
          45.383333
         ],
         "legendgroup": "16- Monteregie",
         "lon": [
          -73.1
         ],
         "marker": {
          "color": "#19d3f3",
          "size": [
           4
          ],
          "sizemode": "area",
          "sizeref": 0.051111111111111114
         },
         "name": "16- Monteregie",
         "showlegend": true,
         "type": "scattergeo"
        },
        {
         "geo": "geo",
         "hoverlabel": {
          "namelength": 0
         },
         "hovertemplate": "Region=17- Centre du Quebec<br>Date of Infection=13th<br>Total Number of Cases=%{marker.size}<br>Lat=%{lat}<br>Long=%{lon}",
         "lat": [
          46.283333
         ],
         "legendgroup": "17- Centre du Quebec",
         "lon": [
          -72.066667
         ],
         "marker": {
          "color": "#FF6692",
          "size": [
           0
          ],
          "sizemode": "area",
          "sizeref": 0.051111111111111114
         },
         "name": "17- Centre du Quebec",
         "showlegend": true,
         "type": "scattergeo"
        },
        {
         "geo": "geo",
         "hoverlabel": {
          "namelength": 0
         },
         "hovertemplate": "Region=Undetermined<br>Date of Infection=13th<br>Total Number of Cases=%{marker.size}<br>Lat=%{lat}<br>Long=%{lon}",
         "lat": [
          "na"
         ],
         "legendgroup": "Undetermined",
         "lon": [
          "na"
         ],
         "marker": {
          "color": "#B6E880",
          "size": [
           0
          ],
          "sizemode": "area",
          "sizeref": 0.051111111111111114
         },
         "name": "Undetermined",
         "showlegend": true,
         "type": "scattergeo"
        },
        {
         "geo": "geo",
         "hoverlabel": {
          "namelength": 0
         },
         "hovertemplate": "Region=Hors Quebec<br>Date of Infection=13th<br>Total Number of Cases=%{marker.size}<br>Lat=%{lat}<br>Long=%{lon}",
         "lat": [
          "na"
         ],
         "legendgroup": "Hors Quebec",
         "lon": [
          "na"
         ],
         "marker": {
          "color": "#FF97FF",
          "size": [
           0
          ],
          "sizemode": "area",
          "sizeref": 0.051111111111111114
         },
         "name": "Hors Quebec",
         "showlegend": true,
         "type": "scattergeo"
        }
       ],
       "frames": [
        {
         "data": [
          {
           "geo": "geo",
           "hoverlabel": {
            "namelength": 0
           },
           "hovertemplate": "Region=01-Bas-Saint-Laurent<br>Date of Infection=13th<br>Total Number of Cases=%{marker.size}<br>Lat=%{lat}<br>Long=%{lon}",
           "lat": [
            48.333333
           ],
           "legendgroup": "01-Bas-Saint-Laurent",
           "lon": [
            -68.666667
           ],
           "marker": {
            "color": "#636efa",
            "size": [
             0
            ],
            "sizemode": "area",
            "sizeref": 0.051111111111111114
           },
           "name": "01-Bas-Saint-Laurent",
           "showlegend": true,
           "type": "scattergeo"
          },
          {
           "geo": "geo",
           "hoverlabel": {
            "namelength": 0
           },
           "hovertemplate": "Region=02- Saguenay-Lac-Saint-Jean<br>Date of Infection=13th<br>Total Number of Cases=%{marker.size}<br>Lat=%{lat}<br>Long=%{lon}",
           "lat": [
            49.8667
           ],
           "legendgroup": "02- Saguenay-Lac-Saint-Jean",
           "lon": [
            -71.75
           ],
           "marker": {
            "color": "#EF553B",
            "size": [
             0
            ],
            "sizemode": "area",
            "sizeref": 0.051111111111111114
           },
           "name": "02- Saguenay-Lac-Saint-Jean",
           "showlegend": true,
           "type": "scattergeo"
          },
          {
           "geo": "geo",
           "hoverlabel": {
            "namelength": 0
           },
           "hovertemplate": "Region=03- Capitale-Nationale<br>Date of Infection=13th<br>Total Number of Cases=%{marker.size}<br>Lat=%{lat}<br>Long=%{lon}",
           "lat": [
            47.333333
           ],
           "legendgroup": "03- Capitale-Nationale",
           "lon": [
            -71.5
           ],
           "marker": {
            "color": "#00cc96",
            "size": [
             0
            ],
            "sizemode": "area",
            "sizeref": 0.051111111111111114
           },
           "name": "03- Capitale-Nationale",
           "showlegend": true,
           "type": "scattergeo"
          },
          {
           "geo": "geo",
           "hoverlabel": {
            "namelength": 0
           },
           "hovertemplate": "Region=04-Mauricie<br>Date of Infection=13th<br>Total Number of Cases=%{marker.size}<br>Lat=%{lat}<br>Long=%{lon}",
           "lat": [
            47
           ],
           "legendgroup": "04-Mauricie",
           "lon": [
            -73
           ],
           "marker": {
            "color": "#ab63fa",
            "size": [
             1
            ],
            "sizemode": "area",
            "sizeref": 0.051111111111111114
           },
           "name": "04-Mauricie",
           "showlegend": true,
           "type": "scattergeo"
          },
          {
           "geo": "geo",
           "hoverlabel": {
            "namelength": 0
           },
           "hovertemplate": "Region=05-Estrie<br>Date of Infection=13th<br>Total Number of Cases=%{marker.size}<br>Lat=%{lat}<br>Long=%{lon}",
           "lat": [
            45.481556
           ],
           "legendgroup": "05-Estrie",
           "lon": [
            -71.667917
           ],
           "marker": {
            "color": "#FFA15A",
            "size": [
             2
            ],
            "sizemode": "area",
            "sizeref": 0.051111111111111114
           },
           "name": "05-Estrie",
           "showlegend": true,
           "type": "scattergeo"
          },
          {
           "geo": "geo",
           "hoverlabel": {
            "namelength": 0
           },
           "hovertemplate": "Region=06-Montreal<br>Date of Infection=13th<br>Total Number of Cases=%{marker.size}<br>Lat=%{lat}<br>Long=%{lon}",
           "lat": [
            45.5
           ],
           "legendgroup": "06-Montreal",
           "lon": [
            -73.566667
           ],
           "marker": {
            "color": "#19d3f3",
            "size": [
             7
            ],
            "sizemode": "area",
            "sizeref": 0.051111111111111114
           },
           "name": "06-Montreal",
           "showlegend": true,
           "type": "scattergeo"
          },
          {
           "geo": "geo",
           "hoverlabel": {
            "namelength": 0
           },
           "hovertemplate": "Region=07-Outauais<br>Date of Infection=13th<br>Total Number of Cases=%{marker.size}<br>Lat=%{lat}<br>Long=%{lon}",
           "lat": [
            45.783333
           ],
           "legendgroup": "07-Outauais",
           "lon": [
            -75.083333
           ],
           "marker": {
            "color": "#FF6692",
            "size": [
             0
            ],
            "sizemode": "area",
            "sizeref": 0.051111111111111114
           },
           "name": "07-Outauais",
           "showlegend": true,
           "type": "scattergeo"
          },
          {
           "geo": "geo",
           "hoverlabel": {
            "namelength": 0
           },
           "hovertemplate": "Region=08-Abititi-Temiscaminigue<br>Date of Infection=13th<br>Total Number of Cases=%{marker.size}<br>Lat=%{lat}<br>Long=%{lon}",
           "lat": [
            48.233333
           ],
           "legendgroup": "08-Abititi-Temiscaminigue",
           "lon": [
            -79.016667
           ],
           "marker": {
            "color": "#B6E880",
            "size": [
             0
            ],
            "sizemode": "area",
            "sizeref": 0.051111111111111114
           },
           "name": "08-Abititi-Temiscaminigue",
           "showlegend": true,
           "type": "scattergeo"
          },
          {
           "geo": "geo",
           "hoverlabel": {
            "namelength": 0
           },
           "hovertemplate": "Region=9-Cote-Nord<br>Date of Infection=13th<br>Total Number of Cases=%{marker.size}<br>Lat=%{lat}<br>Long=%{lon}",
           "lat": [
            50.866667
           ],
           "legendgroup": "9-Cote-Nord",
           "lon": [
            -65.816667
           ],
           "marker": {
            "color": "#FF97FF",
            "size": [
             0
            ],
            "sizemode": "area",
            "sizeref": 0.051111111111111114
           },
           "name": "9-Cote-Nord",
           "showlegend": true,
           "type": "scattergeo"
          },
          {
           "geo": "geo",
           "hoverlabel": {
            "namelength": 0
           },
           "hovertemplate": "Region=10-Nord-du-Quebec<br>Date of Infection=13th<br>Total Number of Cases=%{marker.size}<br>Lat=%{lat}<br>Long=%{lon}",
           "lat": [
            56.166667
           ],
           "legendgroup": "10-Nord-du-Quebec",
           "lon": [
            -74.416667
           ],
           "marker": {
            "color": "#FECB52",
            "size": [
             0
            ],
            "sizemode": "area",
            "sizeref": 0.051111111111111114
           },
           "name": "10-Nord-du-Quebec",
           "showlegend": true,
           "type": "scattergeo"
          },
          {
           "geo": "geo",
           "hoverlabel": {
            "namelength": 0
           },
           "hovertemplate": "Region=11- Gaspesie-Iles-de-la-Madelaine<br>Date of Infection=13th<br>Total Number of Cases=%{marker.size}<br>Lat=%{lat}<br>Long=%{lon}",
           "lat": [
            48.683333
           ],
           "legendgroup": "11- Gaspesie-Iles-de-la-Madelaine",
           "lon": [
            -65.4
           ],
           "marker": {
            "color": "#636efa",
            "size": [
             0
            ],
            "sizemode": "area",
            "sizeref": 0.051111111111111114
           },
           "name": "11- Gaspesie-Iles-de-la-Madelaine",
           "showlegend": true,
           "type": "scattergeo"
          },
          {
           "geo": "geo",
           "hoverlabel": {
            "namelength": 0
           },
           "hovertemplate": "Region=12-Chaudiere-Appalaches<br>Date of Infection=13th<br>Total Number of Cases=%{marker.size}<br>Lat=%{lat}<br>Long=%{lon}",
           "lat": [
            46.483333
           ],
           "legendgroup": "12-Chaudiere-Appalaches",
           "lon": [
            -70.616667
           ],
           "marker": {
            "color": "#EF553B",
            "size": [
             1
            ],
            "sizemode": "area",
            "sizeref": 0.051111111111111114
           },
           "name": "12-Chaudiere-Appalaches",
           "showlegend": true,
           "type": "scattergeo"
          },
          {
           "geo": "geo",
           "hoverlabel": {
            "namelength": 0
           },
           "hovertemplate": "Region=13- Laval<br>Date of Infection=13th<br>Total Number of Cases=%{marker.size}<br>Lat=%{lat}<br>Long=%{lon}",
           "lat": [
            45.583333
           ],
           "legendgroup": "13- Laval",
           "lon": [
            -73.75
           ],
           "marker": {
            "color": "#00cc96",
            "size": [
             0
            ],
            "sizemode": "area",
            "sizeref": 0.051111111111111114
           },
           "name": "13- Laval",
           "showlegend": true,
           "type": "scattergeo"
          },
          {
           "geo": "geo",
           "hoverlabel": {
            "namelength": 0
           },
           "hovertemplate": "Region=14- Lanaudiere<br>Date of Infection=13th<br>Total Number of Cases=%{marker.size}<br>Lat=%{lat}<br>Long=%{lon}",
           "lat": [
            46.766667
           ],
           "legendgroup": "14- Lanaudiere",
           "lon": [
            -73.833333
           ],
           "marker": {
            "color": "#ab63fa",
            "size": [
             0
            ],
            "sizemode": "area",
            "sizeref": 0.051111111111111114
           },
           "name": "14- Lanaudiere",
           "showlegend": true,
           "type": "scattergeo"
          },
          {
           "geo": "geo",
           "hoverlabel": {
            "namelength": 0
           },
           "hovertemplate": "Region=15- Laurentides<br>Date of Infection=13th<br>Total Number of Cases=%{marker.size}<br>Lat=%{lat}<br>Long=%{lon}",
           "lat": [
            46.433333
           ],
           "legendgroup": "15- Laurentides",
           "lon": [
            -74.983333
           ],
           "marker": {
            "color": "#FFA15A",
            "size": [
             2
            ],
            "sizemode": "area",
            "sizeref": 0.051111111111111114
           },
           "name": "15- Laurentides",
           "showlegend": true,
           "type": "scattergeo"
          },
          {
           "geo": "geo",
           "hoverlabel": {
            "namelength": 0
           },
           "hovertemplate": "Region=16- Monteregie<br>Date of Infection=13th<br>Total Number of Cases=%{marker.size}<br>Lat=%{lat}<br>Long=%{lon}",
           "lat": [
            45.383333
           ],
           "legendgroup": "16- Monteregie",
           "lon": [
            -73.1
           ],
           "marker": {
            "color": "#19d3f3",
            "size": [
             4
            ],
            "sizemode": "area",
            "sizeref": 0.051111111111111114
           },
           "name": "16- Monteregie",
           "showlegend": true,
           "type": "scattergeo"
          },
          {
           "geo": "geo",
           "hoverlabel": {
            "namelength": 0
           },
           "hovertemplate": "Region=17- Centre du Quebec<br>Date of Infection=13th<br>Total Number of Cases=%{marker.size}<br>Lat=%{lat}<br>Long=%{lon}",
           "lat": [
            46.283333
           ],
           "legendgroup": "17- Centre du Quebec",
           "lon": [
            -72.066667
           ],
           "marker": {
            "color": "#FF6692",
            "size": [
             0
            ],
            "sizemode": "area",
            "sizeref": 0.051111111111111114
           },
           "name": "17- Centre du Quebec",
           "showlegend": true,
           "type": "scattergeo"
          },
          {
           "geo": "geo",
           "hoverlabel": {
            "namelength": 0
           },
           "hovertemplate": "Region=Undetermined<br>Date of Infection=13th<br>Total Number of Cases=%{marker.size}<br>Lat=%{lat}<br>Long=%{lon}",
           "lat": [
            "na"
           ],
           "legendgroup": "Undetermined",
           "lon": [
            "na"
           ],
           "marker": {
            "color": "#B6E880",
            "size": [
             0
            ],
            "sizemode": "area",
            "sizeref": 0.051111111111111114
           },
           "name": "Undetermined",
           "showlegend": true,
           "type": "scattergeo"
          },
          {
           "geo": "geo",
           "hoverlabel": {
            "namelength": 0
           },
           "hovertemplate": "Region=Hors Quebec<br>Date of Infection=13th<br>Total Number of Cases=%{marker.size}<br>Lat=%{lat}<br>Long=%{lon}",
           "lat": [
            "na"
           ],
           "legendgroup": "Hors Quebec",
           "lon": [
            "na"
           ],
           "marker": {
            "color": "#FF97FF",
            "size": [
             0
            ],
            "sizemode": "area",
            "sizeref": 0.051111111111111114
           },
           "name": "Hors Quebec",
           "showlegend": true,
           "type": "scattergeo"
          }
         ],
         "name": "13th"
        },
        {
         "data": [
          {
           "geo": "geo",
           "hoverlabel": {
            "namelength": 0
           },
           "hovertemplate": "Region=01-Bas-Saint-Laurent<br>Date of Infection=14th<br>Total Number of Cases=%{marker.size}<br>Lat=%{lat}<br>Long=%{lon}",
           "lat": [
            48.333333
           ],
           "legendgroup": "01-Bas-Saint-Laurent",
           "lon": [
            -68.666667
           ],
           "marker": {
            "color": "#636efa",
            "size": [
             0
            ],
            "sizemode": "area",
            "sizeref": 0.051111111111111114
           },
           "name": "01-Bas-Saint-Laurent",
           "showlegend": true,
           "type": "scattergeo"
          },
          {
           "geo": "geo",
           "hoverlabel": {
            "namelength": 0
           },
           "hovertemplate": "Region=02- Saguenay-Lac-Saint-Jean<br>Date of Infection=14th<br>Total Number of Cases=%{marker.size}<br>Lat=%{lat}<br>Long=%{lon}",
           "lat": [
            49.8667
           ],
           "legendgroup": "02- Saguenay-Lac-Saint-Jean",
           "lon": [
            -71.75
           ],
           "marker": {
            "color": "#EF553B",
            "size": [
             0
            ],
            "sizemode": "area",
            "sizeref": 0.051111111111111114
           },
           "name": "02- Saguenay-Lac-Saint-Jean",
           "showlegend": true,
           "type": "scattergeo"
          },
          {
           "geo": "geo",
           "hoverlabel": {
            "namelength": 0
           },
           "hovertemplate": "Region=03- Capitale-Nationale<br>Date of Infection=14th<br>Total Number of Cases=%{marker.size}<br>Lat=%{lat}<br>Long=%{lon}",
           "lat": [
            47.333333
           ],
           "legendgroup": "03- Capitale-Nationale",
           "lon": [
            -71.5
           ],
           "marker": {
            "color": "#00cc96",
            "size": [
             0
            ],
            "sizemode": "area",
            "sizeref": 0.051111111111111114
           },
           "name": "03- Capitale-Nationale",
           "showlegend": true,
           "type": "scattergeo"
          },
          {
           "geo": "geo",
           "hoverlabel": {
            "namelength": 0
           },
           "hovertemplate": "Region=04-Mauricie<br>Date of Infection=14th<br>Total Number of Cases=%{marker.size}<br>Lat=%{lat}<br>Long=%{lon}",
           "lat": [
            47
           ],
           "legendgroup": "04-Mauricie",
           "lon": [
            -73
           ],
           "marker": {
            "color": "#ab63fa",
            "size": [
             1
            ],
            "sizemode": "area",
            "sizeref": 0.051111111111111114
           },
           "name": "04-Mauricie",
           "showlegend": true,
           "type": "scattergeo"
          },
          {
           "geo": "geo",
           "hoverlabel": {
            "namelength": 0
           },
           "hovertemplate": "Region=05-Estrie<br>Date of Infection=14th<br>Total Number of Cases=%{marker.size}<br>Lat=%{lat}<br>Long=%{lon}",
           "lat": [
            45.481556
           ],
           "legendgroup": "05-Estrie",
           "lon": [
            -71.667917
           ],
           "marker": {
            "color": "#FFA15A",
            "size": [
             3
            ],
            "sizemode": "area",
            "sizeref": 0.051111111111111114
           },
           "name": "05-Estrie",
           "showlegend": true,
           "type": "scattergeo"
          },
          {
           "geo": "geo",
           "hoverlabel": {
            "namelength": 0
           },
           "hovertemplate": "Region=06-Montreal<br>Date of Infection=14th<br>Total Number of Cases=%{marker.size}<br>Lat=%{lat}<br>Long=%{lon}",
           "lat": [
            45.5
           ],
           "legendgroup": "06-Montreal",
           "lon": [
            -73.566667
           ],
           "marker": {
            "color": "#19d3f3",
            "size": [
             8
            ],
            "sizemode": "area",
            "sizeref": 0.051111111111111114
           },
           "name": "06-Montreal",
           "showlegend": true,
           "type": "scattergeo"
          },
          {
           "geo": "geo",
           "hoverlabel": {
            "namelength": 0
           },
           "hovertemplate": "Region=07-Outauais<br>Date of Infection=14th<br>Total Number of Cases=%{marker.size}<br>Lat=%{lat}<br>Long=%{lon}",
           "lat": [
            45.783333
           ],
           "legendgroup": "07-Outauais",
           "lon": [
            -75.083333
           ],
           "marker": {
            "color": "#FF6692",
            "size": [
             0
            ],
            "sizemode": "area",
            "sizeref": 0.051111111111111114
           },
           "name": "07-Outauais",
           "showlegend": true,
           "type": "scattergeo"
          },
          {
           "geo": "geo",
           "hoverlabel": {
            "namelength": 0
           },
           "hovertemplate": "Region=08-Abititi-Temiscaminigue<br>Date of Infection=14th<br>Total Number of Cases=%{marker.size}<br>Lat=%{lat}<br>Long=%{lon}",
           "lat": [
            48.233333
           ],
           "legendgroup": "08-Abititi-Temiscaminigue",
           "lon": [
            -79.016667
           ],
           "marker": {
            "color": "#B6E880",
            "size": [
             0
            ],
            "sizemode": "area",
            "sizeref": 0.051111111111111114
           },
           "name": "08-Abititi-Temiscaminigue",
           "showlegend": true,
           "type": "scattergeo"
          },
          {
           "geo": "geo",
           "hoverlabel": {
            "namelength": 0
           },
           "hovertemplate": "Region=9-Cote-Nord<br>Date of Infection=14th<br>Total Number of Cases=%{marker.size}<br>Lat=%{lat}<br>Long=%{lon}",
           "lat": [
            50.866667
           ],
           "legendgroup": "9-Cote-Nord",
           "lon": [
            -65.816667
           ],
           "marker": {
            "color": "#FF97FF",
            "size": [
             0
            ],
            "sizemode": "area",
            "sizeref": 0.051111111111111114
           },
           "name": "9-Cote-Nord",
           "showlegend": true,
           "type": "scattergeo"
          },
          {
           "geo": "geo",
           "hoverlabel": {
            "namelength": 0
           },
           "hovertemplate": "Region=10-Nord-du-Quebec<br>Date of Infection=14th<br>Total Number of Cases=%{marker.size}<br>Lat=%{lat}<br>Long=%{lon}",
           "lat": [
            56.166667
           ],
           "legendgroup": "10-Nord-du-Quebec",
           "lon": [
            -74.416667
           ],
           "marker": {
            "color": "#FECB52",
            "size": [
             0
            ],
            "sizemode": "area",
            "sizeref": 0.051111111111111114
           },
           "name": "10-Nord-du-Quebec",
           "showlegend": true,
           "type": "scattergeo"
          },
          {
           "geo": "geo",
           "hoverlabel": {
            "namelength": 0
           },
           "hovertemplate": "Region=11- Gaspesie-Iles-de-la-Madelaine<br>Date of Infection=14th<br>Total Number of Cases=%{marker.size}<br>Lat=%{lat}<br>Long=%{lon}",
           "lat": [
            48.683333
           ],
           "legendgroup": "11- Gaspesie-Iles-de-la-Madelaine",
           "lon": [
            -65.4
           ],
           "marker": {
            "color": "#636efa",
            "size": [
             0
            ],
            "sizemode": "area",
            "sizeref": 0.051111111111111114
           },
           "name": "11- Gaspesie-Iles-de-la-Madelaine",
           "showlegend": true,
           "type": "scattergeo"
          },
          {
           "geo": "geo",
           "hoverlabel": {
            "namelength": 0
           },
           "hovertemplate": "Region=12-Chaudiere-Appalaches<br>Date of Infection=14th<br>Total Number of Cases=%{marker.size}<br>Lat=%{lat}<br>Long=%{lon}",
           "lat": [
            46.483333
           ],
           "legendgroup": "12-Chaudiere-Appalaches",
           "lon": [
            -70.616667
           ],
           "marker": {
            "color": "#EF553B",
            "size": [
             1
            ],
            "sizemode": "area",
            "sizeref": 0.051111111111111114
           },
           "name": "12-Chaudiere-Appalaches",
           "showlegend": true,
           "type": "scattergeo"
          },
          {
           "geo": "geo",
           "hoverlabel": {
            "namelength": 0
           },
           "hovertemplate": "Region=13- Laval<br>Date of Infection=14th<br>Total Number of Cases=%{marker.size}<br>Lat=%{lat}<br>Long=%{lon}",
           "lat": [
            45.583333
           ],
           "legendgroup": "13- Laval",
           "lon": [
            -73.75
           ],
           "marker": {
            "color": "#00cc96",
            "size": [
             0
            ],
            "sizemode": "area",
            "sizeref": 0.051111111111111114
           },
           "name": "13- Laval",
           "showlegend": true,
           "type": "scattergeo"
          },
          {
           "geo": "geo",
           "hoverlabel": {
            "namelength": 0
           },
           "hovertemplate": "Region=14- Lanaudiere<br>Date of Infection=14th<br>Total Number of Cases=%{marker.size}<br>Lat=%{lat}<br>Long=%{lon}",
           "lat": [
            46.766667
           ],
           "legendgroup": "14- Lanaudiere",
           "lon": [
            -73.833333
           ],
           "marker": {
            "color": "#ab63fa",
            "size": [
             1
            ],
            "sizemode": "area",
            "sizeref": 0.051111111111111114
           },
           "name": "14- Lanaudiere",
           "showlegend": true,
           "type": "scattergeo"
          },
          {
           "geo": "geo",
           "hoverlabel": {
            "namelength": 0
           },
           "hovertemplate": "Region=15- Laurentides<br>Date of Infection=14th<br>Total Number of Cases=%{marker.size}<br>Lat=%{lat}<br>Long=%{lon}",
           "lat": [
            46.433333
           ],
           "legendgroup": "15- Laurentides",
           "lon": [
            -74.983333
           ],
           "marker": {
            "color": "#FFA15A",
            "size": [
             2
            ],
            "sizemode": "area",
            "sizeref": 0.051111111111111114
           },
           "name": "15- Laurentides",
           "showlegend": true,
           "type": "scattergeo"
          },
          {
           "geo": "geo",
           "hoverlabel": {
            "namelength": 0
           },
           "hovertemplate": "Region=16- Monteregie<br>Date of Infection=14th<br>Total Number of Cases=%{marker.size}<br>Lat=%{lat}<br>Long=%{lon}",
           "lat": [
            45.383333
           ],
           "legendgroup": "16- Monteregie",
           "lon": [
            -73.1
           ],
           "marker": {
            "color": "#19d3f3",
            "size": [
             7
            ],
            "sizemode": "area",
            "sizeref": 0.051111111111111114
           },
           "name": "16- Monteregie",
           "showlegend": true,
           "type": "scattergeo"
          },
          {
           "geo": "geo",
           "hoverlabel": {
            "namelength": 0
           },
           "hovertemplate": "Region=17- Centre du Quebec<br>Date of Infection=14th<br>Total Number of Cases=%{marker.size}<br>Lat=%{lat}<br>Long=%{lon}",
           "lat": [
            46.283333
           ],
           "legendgroup": "17- Centre du Quebec",
           "lon": [
            -72.066667
           ],
           "marker": {
            "color": "#FF6692",
            "size": [
             0
            ],
            "sizemode": "area",
            "sizeref": 0.051111111111111114
           },
           "name": "17- Centre du Quebec",
           "showlegend": true,
           "type": "scattergeo"
          },
          {
           "geo": "geo",
           "hoverlabel": {
            "namelength": 0
           },
           "hovertemplate": "Region=Undetermined<br>Date of Infection=14th<br>Total Number of Cases=%{marker.size}<br>Lat=%{lat}<br>Long=%{lon}",
           "lat": [
            "na"
           ],
           "legendgroup": "Undetermined",
           "lon": [
            "na"
           ],
           "marker": {
            "color": "#B6E880",
            "size": [
             1
            ],
            "sizemode": "area",
            "sizeref": 0.051111111111111114
           },
           "name": "Undetermined",
           "showlegend": true,
           "type": "scattergeo"
          },
          {
           "geo": "geo",
           "hoverlabel": {
            "namelength": 0
           },
           "hovertemplate": "Region=Hors Quebec<br>Date of Infection=14th<br>Total Number of Cases=%{marker.size}<br>Lat=%{lat}<br>Long=%{lon}",
           "lat": [
            "na"
           ],
           "legendgroup": "Hors Quebec",
           "lon": [
            "na"
           ],
           "marker": {
            "color": "#FF97FF",
            "size": [
             0
            ],
            "sizemode": "area",
            "sizeref": 0.051111111111111114
           },
           "name": "Hors Quebec",
           "showlegend": true,
           "type": "scattergeo"
          }
         ],
         "name": "14th"
        },
        {
         "data": [
          {
           "geo": "geo",
           "hoverlabel": {
            "namelength": 0
           },
           "hovertemplate": "Region=01-Bas-Saint-Laurent<br>Date of Infection=15th<br>Total Number of Cases=%{marker.size}<br>Lat=%{lat}<br>Long=%{lon}",
           "lat": [
            48.333333
           ],
           "legendgroup": "01-Bas-Saint-Laurent",
           "lon": [
            -68.666667
           ],
           "marker": {
            "color": "#636efa",
            "size": [
             0
            ],
            "sizemode": "area",
            "sizeref": 0.051111111111111114
           },
           "name": "01-Bas-Saint-Laurent",
           "showlegend": true,
           "type": "scattergeo"
          },
          {
           "geo": "geo",
           "hoverlabel": {
            "namelength": 0
           },
           "hovertemplate": "Region=02- Saguenay-Lac-Saint-Jean<br>Date of Infection=15th<br>Total Number of Cases=%{marker.size}<br>Lat=%{lat}<br>Long=%{lon}",
           "lat": [
            49.8667
           ],
           "legendgroup": "02- Saguenay-Lac-Saint-Jean",
           "lon": [
            -71.75
           ],
           "marker": {
            "color": "#EF553B",
            "size": [
             0
            ],
            "sizemode": "area",
            "sizeref": 0.051111111111111114
           },
           "name": "02- Saguenay-Lac-Saint-Jean",
           "showlegend": true,
           "type": "scattergeo"
          },
          {
           "geo": "geo",
           "hoverlabel": {
            "namelength": 0
           },
           "hovertemplate": "Region=03- Capitale-Nationale<br>Date of Infection=15th<br>Total Number of Cases=%{marker.size}<br>Lat=%{lat}<br>Long=%{lon}",
           "lat": [
            47.333333
           ],
           "legendgroup": "03- Capitale-Nationale",
           "lon": [
            -71.5
           ],
           "marker": {
            "color": "#00cc96",
            "size": [
             2
            ],
            "sizemode": "area",
            "sizeref": 0.051111111111111114
           },
           "name": "03- Capitale-Nationale",
           "showlegend": true,
           "type": "scattergeo"
          },
          {
           "geo": "geo",
           "hoverlabel": {
            "namelength": 0
           },
           "hovertemplate": "Region=04-Mauricie<br>Date of Infection=15th<br>Total Number of Cases=%{marker.size}<br>Lat=%{lat}<br>Long=%{lon}",
           "lat": [
            47
           ],
           "legendgroup": "04-Mauricie",
           "lon": [
            -73
           ],
           "marker": {
            "color": "#ab63fa",
            "size": [
             3
            ],
            "sizemode": "area",
            "sizeref": 0.051111111111111114
           },
           "name": "04-Mauricie",
           "showlegend": true,
           "type": "scattergeo"
          },
          {
           "geo": "geo",
           "hoverlabel": {
            "namelength": 0
           },
           "hovertemplate": "Region=05-Estrie<br>Date of Infection=15th<br>Total Number of Cases=%{marker.size}<br>Lat=%{lat}<br>Long=%{lon}",
           "lat": [
            45.481556
           ],
           "legendgroup": "05-Estrie",
           "lon": [
            -71.667917
           ],
           "marker": {
            "color": "#FFA15A",
            "size": [
             4
            ],
            "sizemode": "area",
            "sizeref": 0.051111111111111114
           },
           "name": "05-Estrie",
           "showlegend": true,
           "type": "scattergeo"
          },
          {
           "geo": "geo",
           "hoverlabel": {
            "namelength": 0
           },
           "hovertemplate": "Region=06-Montreal<br>Date of Infection=15th<br>Total Number of Cases=%{marker.size}<br>Lat=%{lat}<br>Long=%{lon}",
           "lat": [
            45.5
           ],
           "legendgroup": "06-Montreal",
           "lon": [
            -73.566667
           ],
           "marker": {
            "color": "#19d3f3",
            "size": [
             10
            ],
            "sizemode": "area",
            "sizeref": 0.051111111111111114
           },
           "name": "06-Montreal",
           "showlegend": true,
           "type": "scattergeo"
          },
          {
           "geo": "geo",
           "hoverlabel": {
            "namelength": 0
           },
           "hovertemplate": "Region=07-Outauais<br>Date of Infection=15th<br>Total Number of Cases=%{marker.size}<br>Lat=%{lat}<br>Long=%{lon}",
           "lat": [
            45.783333
           ],
           "legendgroup": "07-Outauais",
           "lon": [
            -75.083333
           ],
           "marker": {
            "color": "#FF6692",
            "size": [
             0
            ],
            "sizemode": "area",
            "sizeref": 0.051111111111111114
           },
           "name": "07-Outauais",
           "showlegend": true,
           "type": "scattergeo"
          },
          {
           "geo": "geo",
           "hoverlabel": {
            "namelength": 0
           },
           "hovertemplate": "Region=08-Abititi-Temiscaminigue<br>Date of Infection=15th<br>Total Number of Cases=%{marker.size}<br>Lat=%{lat}<br>Long=%{lon}",
           "lat": [
            48.233333
           ],
           "legendgroup": "08-Abititi-Temiscaminigue",
           "lon": [
            -79.016667
           ],
           "marker": {
            "color": "#B6E880",
            "size": [
             0
            ],
            "sizemode": "area",
            "sizeref": 0.051111111111111114
           },
           "name": "08-Abititi-Temiscaminigue",
           "showlegend": true,
           "type": "scattergeo"
          },
          {
           "geo": "geo",
           "hoverlabel": {
            "namelength": 0
           },
           "hovertemplate": "Region=9-Cote-Nord<br>Date of Infection=15th<br>Total Number of Cases=%{marker.size}<br>Lat=%{lat}<br>Long=%{lon}",
           "lat": [
            50.866667
           ],
           "legendgroup": "9-Cote-Nord",
           "lon": [
            -65.816667
           ],
           "marker": {
            "color": "#FF97FF",
            "size": [
             0
            ],
            "sizemode": "area",
            "sizeref": 0.051111111111111114
           },
           "name": "9-Cote-Nord",
           "showlegend": true,
           "type": "scattergeo"
          },
          {
           "geo": "geo",
           "hoverlabel": {
            "namelength": 0
           },
           "hovertemplate": "Region=10-Nord-du-Quebec<br>Date of Infection=15th<br>Total Number of Cases=%{marker.size}<br>Lat=%{lat}<br>Long=%{lon}",
           "lat": [
            56.166667
           ],
           "legendgroup": "10-Nord-du-Quebec",
           "lon": [
            -74.416667
           ],
           "marker": {
            "color": "#FECB52",
            "size": [
             0
            ],
            "sizemode": "area",
            "sizeref": 0.051111111111111114
           },
           "name": "10-Nord-du-Quebec",
           "showlegend": true,
           "type": "scattergeo"
          },
          {
           "geo": "geo",
           "hoverlabel": {
            "namelength": 0
           },
           "hovertemplate": "Region=11- Gaspesie-Iles-de-la-Madelaine<br>Date of Infection=15th<br>Total Number of Cases=%{marker.size}<br>Lat=%{lat}<br>Long=%{lon}",
           "lat": [
            48.683333
           ],
           "legendgroup": "11- Gaspesie-Iles-de-la-Madelaine",
           "lon": [
            -65.4
           ],
           "marker": {
            "color": "#636efa",
            "size": [
             0
            ],
            "sizemode": "area",
            "sizeref": 0.051111111111111114
           },
           "name": "11- Gaspesie-Iles-de-la-Madelaine",
           "showlegend": true,
           "type": "scattergeo"
          },
          {
           "geo": "geo",
           "hoverlabel": {
            "namelength": 0
           },
           "hovertemplate": "Region=12-Chaudiere-Appalaches<br>Date of Infection=15th<br>Total Number of Cases=%{marker.size}<br>Lat=%{lat}<br>Long=%{lon}",
           "lat": [
            46.483333
           ],
           "legendgroup": "12-Chaudiere-Appalaches",
           "lon": [
            -70.616667
           ],
           "marker": {
            "color": "#EF553B",
            "size": [
             3
            ],
            "sizemode": "area",
            "sizeref": 0.051111111111111114
           },
           "name": "12-Chaudiere-Appalaches",
           "showlegend": true,
           "type": "scattergeo"
          },
          {
           "geo": "geo",
           "hoverlabel": {
            "namelength": 0
           },
           "hovertemplate": "Region=13- Laval<br>Date of Infection=15th<br>Total Number of Cases=%{marker.size}<br>Lat=%{lat}<br>Long=%{lon}",
           "lat": [
            45.583333
           ],
           "legendgroup": "13- Laval",
           "lon": [
            -73.75
           ],
           "marker": {
            "color": "#00cc96",
            "size": [
             0
            ],
            "sizemode": "area",
            "sizeref": 0.051111111111111114
           },
           "name": "13- Laval",
           "showlegend": true,
           "type": "scattergeo"
          },
          {
           "geo": "geo",
           "hoverlabel": {
            "namelength": 0
           },
           "hovertemplate": "Region=14- Lanaudiere<br>Date of Infection=15th<br>Total Number of Cases=%{marker.size}<br>Lat=%{lat}<br>Long=%{lon}",
           "lat": [
            46.766667
           ],
           "legendgroup": "14- Lanaudiere",
           "lon": [
            -73.833333
           ],
           "marker": {
            "color": "#ab63fa",
            "size": [
             2
            ],
            "sizemode": "area",
            "sizeref": 0.051111111111111114
           },
           "name": "14- Lanaudiere",
           "showlegend": true,
           "type": "scattergeo"
          },
          {
           "geo": "geo",
           "hoverlabel": {
            "namelength": 0
           },
           "hovertemplate": "Region=15- Laurentides<br>Date of Infection=15th<br>Total Number of Cases=%{marker.size}<br>Lat=%{lat}<br>Long=%{lon}",
           "lat": [
            46.433333
           ],
           "legendgroup": "15- Laurentides",
           "lon": [
            -74.983333
           ],
           "marker": {
            "color": "#FFA15A",
            "size": [
             3
            ],
            "sizemode": "area",
            "sizeref": 0.051111111111111114
           },
           "name": "15- Laurentides",
           "showlegend": true,
           "type": "scattergeo"
          },
          {
           "geo": "geo",
           "hoverlabel": {
            "namelength": 0
           },
           "hovertemplate": "Region=16- Monteregie<br>Date of Infection=15th<br>Total Number of Cases=%{marker.size}<br>Lat=%{lat}<br>Long=%{lon}",
           "lat": [
            45.383333
           ],
           "legendgroup": "16- Monteregie",
           "lon": [
            -73.1
           ],
           "marker": {
            "color": "#19d3f3",
            "size": [
             9
            ],
            "sizemode": "area",
            "sizeref": 0.051111111111111114
           },
           "name": "16- Monteregie",
           "showlegend": true,
           "type": "scattergeo"
          },
          {
           "geo": "geo",
           "hoverlabel": {
            "namelength": 0
           },
           "hovertemplate": "Region=17- Centre du Quebec<br>Date of Infection=15th<br>Total Number of Cases=%{marker.size}<br>Lat=%{lat}<br>Long=%{lon}",
           "lat": [
            46.283333
           ],
           "legendgroup": "17- Centre du Quebec",
           "lon": [
            -72.066667
           ],
           "marker": {
            "color": "#FF6692",
            "size": [
             0
            ],
            "sizemode": "area",
            "sizeref": 0.051111111111111114
           },
           "name": "17- Centre du Quebec",
           "showlegend": true,
           "type": "scattergeo"
          },
          {
           "geo": "geo",
           "hoverlabel": {
            "namelength": 0
           },
           "hovertemplate": "Region=Undetermined<br>Date of Infection=15th<br>Total Number of Cases=%{marker.size}<br>Lat=%{lat}<br>Long=%{lon}",
           "lat": [
            "na"
           ],
           "legendgroup": "Undetermined",
           "lon": [
            "na"
           ],
           "marker": {
            "color": "#B6E880",
            "size": [
             2
            ],
            "sizemode": "area",
            "sizeref": 0.051111111111111114
           },
           "name": "Undetermined",
           "showlegend": true,
           "type": "scattergeo"
          },
          {
           "geo": "geo",
           "hoverlabel": {
            "namelength": 0
           },
           "hovertemplate": "Region=Hors Quebec<br>Date of Infection=15th<br>Total Number of Cases=%{marker.size}<br>Lat=%{lat}<br>Long=%{lon}",
           "lat": [
            "na"
           ],
           "legendgroup": "Hors Quebec",
           "lon": [
            "na"
           ],
           "marker": {
            "color": "#FF97FF",
            "size": [
             1
            ],
            "sizemode": "area",
            "sizeref": 0.051111111111111114
           },
           "name": "Hors Quebec",
           "showlegend": true,
           "type": "scattergeo"
          }
         ],
         "name": "15th"
        },
        {
         "data": [
          {
           "geo": "geo",
           "hoverlabel": {
            "namelength": 0
           },
           "hovertemplate": "Region=01-Bas-Saint-Laurent<br>Date of Infection=16th<br>Total Number of Cases=%{marker.size}<br>Lat=%{lat}<br>Long=%{lon}",
           "lat": [
            48.333333
           ],
           "legendgroup": "01-Bas-Saint-Laurent",
           "lon": [
            -68.666667
           ],
           "marker": {
            "color": "#636efa",
            "size": [
             0
            ],
            "sizemode": "area",
            "sizeref": 0.051111111111111114
           },
           "name": "01-Bas-Saint-Laurent",
           "showlegend": true,
           "type": "scattergeo"
          },
          {
           "geo": "geo",
           "hoverlabel": {
            "namelength": 0
           },
           "hovertemplate": "Region=02- Saguenay-Lac-Saint-Jean<br>Date of Infection=16th<br>Total Number of Cases=%{marker.size}<br>Lat=%{lat}<br>Long=%{lon}",
           "lat": [
            49.8667
           ],
           "legendgroup": "02- Saguenay-Lac-Saint-Jean",
           "lon": [
            -71.75
           ],
           "marker": {
            "color": "#EF553B",
            "size": [
             0
            ],
            "sizemode": "area",
            "sizeref": 0.051111111111111114
           },
           "name": "02- Saguenay-Lac-Saint-Jean",
           "showlegend": true,
           "type": "scattergeo"
          },
          {
           "geo": "geo",
           "hoverlabel": {
            "namelength": 0
           },
           "hovertemplate": "Region=03- Capitale-Nationale<br>Date of Infection=16th<br>Total Number of Cases=%{marker.size}<br>Lat=%{lat}<br>Long=%{lon}",
           "lat": [
            47.333333
           ],
           "legendgroup": "03- Capitale-Nationale",
           "lon": [
            -71.5
           ],
           "marker": {
            "color": "#00cc96",
            "size": [
             2
            ],
            "sizemode": "area",
            "sizeref": 0.051111111111111114
           },
           "name": "03- Capitale-Nationale",
           "showlegend": true,
           "type": "scattergeo"
          },
          {
           "geo": "geo",
           "hoverlabel": {
            "namelength": 0
           },
           "hovertemplate": "Region=04-Mauricie<br>Date of Infection=16th<br>Total Number of Cases=%{marker.size}<br>Lat=%{lat}<br>Long=%{lon}",
           "lat": [
            47
           ],
           "legendgroup": "04-Mauricie",
           "lon": [
            -73
           ],
           "marker": {
            "color": "#ab63fa",
            "size": [
             3
            ],
            "sizemode": "area",
            "sizeref": 0.051111111111111114
           },
           "name": "04-Mauricie",
           "showlegend": true,
           "type": "scattergeo"
          },
          {
           "geo": "geo",
           "hoverlabel": {
            "namelength": 0
           },
           "hovertemplate": "Region=05-Estrie<br>Date of Infection=16th<br>Total Number of Cases=%{marker.size}<br>Lat=%{lat}<br>Long=%{lon}",
           "lat": [
            45.481556
           ],
           "legendgroup": "05-Estrie",
           "lon": [
            -71.667917
           ],
           "marker": {
            "color": "#FFA15A",
            "size": [
             4
            ],
            "sizemode": "area",
            "sizeref": 0.051111111111111114
           },
           "name": "05-Estrie",
           "showlegend": true,
           "type": "scattergeo"
          },
          {
           "geo": "geo",
           "hoverlabel": {
            "namelength": 0
           },
           "hovertemplate": "Region=06-Montreal<br>Date of Infection=16th<br>Total Number of Cases=%{marker.size}<br>Lat=%{lat}<br>Long=%{lon}",
           "lat": [
            45.5
           ],
           "legendgroup": "06-Montreal",
           "lon": [
            -73.566667
           ],
           "marker": {
            "color": "#19d3f3",
            "size": [
             18
            ],
            "sizemode": "area",
            "sizeref": 0.051111111111111114
           },
           "name": "06-Montreal",
           "showlegend": true,
           "type": "scattergeo"
          },
          {
           "geo": "geo",
           "hoverlabel": {
            "namelength": 0
           },
           "hovertemplate": "Region=07-Outauais<br>Date of Infection=16th<br>Total Number of Cases=%{marker.size}<br>Lat=%{lat}<br>Long=%{lon}",
           "lat": [
            45.783333
           ],
           "legendgroup": "07-Outauais",
           "lon": [
            -75.083333
           ],
           "marker": {
            "color": "#FF6692",
            "size": [
             0
            ],
            "sizemode": "area",
            "sizeref": 0.051111111111111114
           },
           "name": "07-Outauais",
           "showlegend": true,
           "type": "scattergeo"
          },
          {
           "geo": "geo",
           "hoverlabel": {
            "namelength": 0
           },
           "hovertemplate": "Region=08-Abititi-Temiscaminigue<br>Date of Infection=16th<br>Total Number of Cases=%{marker.size}<br>Lat=%{lat}<br>Long=%{lon}",
           "lat": [
            48.233333
           ],
           "legendgroup": "08-Abititi-Temiscaminigue",
           "lon": [
            -79.016667
           ],
           "marker": {
            "color": "#B6E880",
            "size": [
             0
            ],
            "sizemode": "area",
            "sizeref": 0.051111111111111114
           },
           "name": "08-Abititi-Temiscaminigue",
           "showlegend": true,
           "type": "scattergeo"
          },
          {
           "geo": "geo",
           "hoverlabel": {
            "namelength": 0
           },
           "hovertemplate": "Region=9-Cote-Nord<br>Date of Infection=16th<br>Total Number of Cases=%{marker.size}<br>Lat=%{lat}<br>Long=%{lon}",
           "lat": [
            50.866667
           ],
           "legendgroup": "9-Cote-Nord",
           "lon": [
            -65.816667
           ],
           "marker": {
            "color": "#FF97FF",
            "size": [
             0
            ],
            "sizemode": "area",
            "sizeref": 0.051111111111111114
           },
           "name": "9-Cote-Nord",
           "showlegend": true,
           "type": "scattergeo"
          },
          {
           "geo": "geo",
           "hoverlabel": {
            "namelength": 0
           },
           "hovertemplate": "Region=10-Nord-du-Quebec<br>Date of Infection=16th<br>Total Number of Cases=%{marker.size}<br>Lat=%{lat}<br>Long=%{lon}",
           "lat": [
            56.166667
           ],
           "legendgroup": "10-Nord-du-Quebec",
           "lon": [
            -74.416667
           ],
           "marker": {
            "color": "#FECB52",
            "size": [
             0
            ],
            "sizemode": "area",
            "sizeref": 0.051111111111111114
           },
           "name": "10-Nord-du-Quebec",
           "showlegend": true,
           "type": "scattergeo"
          },
          {
           "geo": "geo",
           "hoverlabel": {
            "namelength": 0
           },
           "hovertemplate": "Region=11- Gaspesie-Iles-de-la-Madelaine<br>Date of Infection=16th<br>Total Number of Cases=%{marker.size}<br>Lat=%{lat}<br>Long=%{lon}",
           "lat": [
            48.683333
           ],
           "legendgroup": "11- Gaspesie-Iles-de-la-Madelaine",
           "lon": [
            -65.4
           ],
           "marker": {
            "color": "#636efa",
            "size": [
             0
            ],
            "sizemode": "area",
            "sizeref": 0.051111111111111114
           },
           "name": "11- Gaspesie-Iles-de-la-Madelaine",
           "showlegend": true,
           "type": "scattergeo"
          },
          {
           "geo": "geo",
           "hoverlabel": {
            "namelength": 0
           },
           "hovertemplate": "Region=12-Chaudiere-Appalaches<br>Date of Infection=16th<br>Total Number of Cases=%{marker.size}<br>Lat=%{lat}<br>Long=%{lon}",
           "lat": [
            46.483333
           ],
           "legendgroup": "12-Chaudiere-Appalaches",
           "lon": [
            -70.616667
           ],
           "marker": {
            "color": "#EF553B",
            "size": [
             4
            ],
            "sizemode": "area",
            "sizeref": 0.051111111111111114
           },
           "name": "12-Chaudiere-Appalaches",
           "showlegend": true,
           "type": "scattergeo"
          },
          {
           "geo": "geo",
           "hoverlabel": {
            "namelength": 0
           },
           "hovertemplate": "Region=13- Laval<br>Date of Infection=16th<br>Total Number of Cases=%{marker.size}<br>Lat=%{lat}<br>Long=%{lon}",
           "lat": [
            45.583333
           ],
           "legendgroup": "13- Laval",
           "lon": [
            -73.75
           ],
           "marker": {
            "color": "#00cc96",
            "size": [
             0
            ],
            "sizemode": "area",
            "sizeref": 0.051111111111111114
           },
           "name": "13- Laval",
           "showlegend": true,
           "type": "scattergeo"
          },
          {
           "geo": "geo",
           "hoverlabel": {
            "namelength": 0
           },
           "hovertemplate": "Region=14- Lanaudiere<br>Date of Infection=16th<br>Total Number of Cases=%{marker.size}<br>Lat=%{lat}<br>Long=%{lon}",
           "lat": [
            46.766667
           ],
           "legendgroup": "14- Lanaudiere",
           "lon": [
            -73.833333
           ],
           "marker": {
            "color": "#ab63fa",
            "size": [
             3
            ],
            "sizemode": "area",
            "sizeref": 0.051111111111111114
           },
           "name": "14- Lanaudiere",
           "showlegend": true,
           "type": "scattergeo"
          },
          {
           "geo": "geo",
           "hoverlabel": {
            "namelength": 0
           },
           "hovertemplate": "Region=15- Laurentides<br>Date of Infection=16th<br>Total Number of Cases=%{marker.size}<br>Lat=%{lat}<br>Long=%{lon}",
           "lat": [
            46.433333
           ],
           "legendgroup": "15- Laurentides",
           "lon": [
            -74.983333
           ],
           "marker": {
            "color": "#FFA15A",
            "size": [
             3
            ],
            "sizemode": "area",
            "sizeref": 0.051111111111111114
           },
           "name": "15- Laurentides",
           "showlegend": true,
           "type": "scattergeo"
          },
          {
           "geo": "geo",
           "hoverlabel": {
            "namelength": 0
           },
           "hovertemplate": "Region=16- Monteregie<br>Date of Infection=16th<br>Total Number of Cases=%{marker.size}<br>Lat=%{lat}<br>Long=%{lon}",
           "lat": [
            45.383333
           ],
           "legendgroup": "16- Monteregie",
           "lon": [
            -73.1
           ],
           "marker": {
            "color": "#19d3f3",
            "size": [
             10
            ],
            "sizemode": "area",
            "sizeref": 0.051111111111111114
           },
           "name": "16- Monteregie",
           "showlegend": true,
           "type": "scattergeo"
          },
          {
           "geo": "geo",
           "hoverlabel": {
            "namelength": 0
           },
           "hovertemplate": "Region=17- Centre du Quebec<br>Date of Infection=16th<br>Total Number of Cases=%{marker.size}<br>Lat=%{lat}<br>Long=%{lon}",
           "lat": [
            46.283333
           ],
           "legendgroup": "17- Centre du Quebec",
           "lon": [
            -72.066667
           ],
           "marker": {
            "color": "#FF6692",
            "size": [
             0
            ],
            "sizemode": "area",
            "sizeref": 0.051111111111111114
           },
           "name": "17- Centre du Quebec",
           "showlegend": true,
           "type": "scattergeo"
          },
          {
           "geo": "geo",
           "hoverlabel": {
            "namelength": 0
           },
           "hovertemplate": "Region=Undetermined<br>Date of Infection=16th<br>Total Number of Cases=%{marker.size}<br>Lat=%{lat}<br>Long=%{lon}",
           "lat": [
            "na"
           ],
           "legendgroup": "Undetermined",
           "lon": [
            "na"
           ],
           "marker": {
            "color": "#B6E880",
            "size": [
             3
            ],
            "sizemode": "area",
            "sizeref": 0.051111111111111114
           },
           "name": "Undetermined",
           "showlegend": true,
           "type": "scattergeo"
          },
          {
           "geo": "geo",
           "hoverlabel": {
            "namelength": 0
           },
           "hovertemplate": "Region=Hors Quebec<br>Date of Infection=16th<br>Total Number of Cases=%{marker.size}<br>Lat=%{lat}<br>Long=%{lon}",
           "lat": [
            "na"
           ],
           "legendgroup": "Hors Quebec",
           "lon": [
            "na"
           ],
           "marker": {
            "color": "#FF97FF",
            "size": [
             1
            ],
            "sizemode": "area",
            "sizeref": 0.051111111111111114
           },
           "name": "Hors Quebec",
           "showlegend": true,
           "type": "scattergeo"
          }
         ],
         "name": "16th"
        },
        {
         "data": [
          {
           "geo": "geo",
           "hoverlabel": {
            "namelength": 0
           },
           "hovertemplate": "Region=01-Bas-Saint-Laurent<br>Date of Infection=17th<br>Total Number of Cases=%{marker.size}<br>Lat=%{lat}<br>Long=%{lon}",
           "lat": [
            48.333333
           ],
           "legendgroup": "01-Bas-Saint-Laurent",
           "lon": [
            -68.666667
           ],
           "marker": {
            "color": "#636efa",
            "size": [
             0
            ],
            "sizemode": "area",
            "sizeref": 0.051111111111111114
           },
           "name": "01-Bas-Saint-Laurent",
           "showlegend": true,
           "type": "scattergeo"
          },
          {
           "geo": "geo",
           "hoverlabel": {
            "namelength": 0
           },
           "hovertemplate": "Region=02- Saguenay-Lac-Saint-Jean<br>Date of Infection=17th<br>Total Number of Cases=%{marker.size}<br>Lat=%{lat}<br>Long=%{lon}",
           "lat": [
            49.8667
           ],
           "legendgroup": "02- Saguenay-Lac-Saint-Jean",
           "lon": [
            -71.75
           ],
           "marker": {
            "color": "#EF553B",
            "size": [
             0
            ],
            "sizemode": "area",
            "sizeref": 0.051111111111111114
           },
           "name": "02- Saguenay-Lac-Saint-Jean",
           "showlegend": true,
           "type": "scattergeo"
          },
          {
           "geo": "geo",
           "hoverlabel": {
            "namelength": 0
           },
           "hovertemplate": "Region=03- Capitale-Nationale<br>Date of Infection=17th<br>Total Number of Cases=%{marker.size}<br>Lat=%{lat}<br>Long=%{lon}",
           "lat": [
            47.333333
           ],
           "legendgroup": "03- Capitale-Nationale",
           "lon": [
            -71.5
           ],
           "marker": {
            "color": "#00cc96",
            "size": [
             3
            ],
            "sizemode": "area",
            "sizeref": 0.051111111111111114
           },
           "name": "03- Capitale-Nationale",
           "showlegend": true,
           "type": "scattergeo"
          },
          {
           "geo": "geo",
           "hoverlabel": {
            "namelength": 0
           },
           "hovertemplate": "Region=04-Mauricie<br>Date of Infection=17th<br>Total Number of Cases=%{marker.size}<br>Lat=%{lat}<br>Long=%{lon}",
           "lat": [
            47
           ],
           "legendgroup": "04-Mauricie",
           "lon": [
            -73
           ],
           "marker": {
            "color": "#ab63fa",
            "size": [
             3
            ],
            "sizemode": "area",
            "sizeref": 0.051111111111111114
           },
           "name": "04-Mauricie",
           "showlegend": true,
           "type": "scattergeo"
          },
          {
           "geo": "geo",
           "hoverlabel": {
            "namelength": 0
           },
           "hovertemplate": "Region=05-Estrie<br>Date of Infection=17th<br>Total Number of Cases=%{marker.size}<br>Lat=%{lat}<br>Long=%{lon}",
           "lat": [
            45.481556
           ],
           "legendgroup": "05-Estrie",
           "lon": [
            -71.667917
           ],
           "marker": {
            "color": "#FFA15A",
            "size": [
             9
            ],
            "sizemode": "area",
            "sizeref": 0.051111111111111114
           },
           "name": "05-Estrie",
           "showlegend": true,
           "type": "scattergeo"
          },
          {
           "geo": "geo",
           "hoverlabel": {
            "namelength": 0
           },
           "hovertemplate": "Region=06-Montreal<br>Date of Infection=17th<br>Total Number of Cases=%{marker.size}<br>Lat=%{lat}<br>Long=%{lon}",
           "lat": [
            45.5
           ],
           "legendgroup": "06-Montreal",
           "lon": [
            -73.566667
           ],
           "marker": {
            "color": "#19d3f3",
            "size": [
             22
            ],
            "sizemode": "area",
            "sizeref": 0.051111111111111114
           },
           "name": "06-Montreal",
           "showlegend": true,
           "type": "scattergeo"
          },
          {
           "geo": "geo",
           "hoverlabel": {
            "namelength": 0
           },
           "hovertemplate": "Region=07-Outauais<br>Date of Infection=17th<br>Total Number of Cases=%{marker.size}<br>Lat=%{lat}<br>Long=%{lon}",
           "lat": [
            45.783333
           ],
           "legendgroup": "07-Outauais",
           "lon": [
            -75.083333
           ],
           "marker": {
            "color": "#FF6692",
            "size": [
             0
            ],
            "sizemode": "area",
            "sizeref": 0.051111111111111114
           },
           "name": "07-Outauais",
           "showlegend": true,
           "type": "scattergeo"
          },
          {
           "geo": "geo",
           "hoverlabel": {
            "namelength": 0
           },
           "hovertemplate": "Region=08-Abititi-Temiscaminigue<br>Date of Infection=17th<br>Total Number of Cases=%{marker.size}<br>Lat=%{lat}<br>Long=%{lon}",
           "lat": [
            48.233333
           ],
           "legendgroup": "08-Abititi-Temiscaminigue",
           "lon": [
            -79.016667
           ],
           "marker": {
            "color": "#B6E880",
            "size": [
             0
            ],
            "sizemode": "area",
            "sizeref": 0.051111111111111114
           },
           "name": "08-Abititi-Temiscaminigue",
           "showlegend": true,
           "type": "scattergeo"
          },
          {
           "geo": "geo",
           "hoverlabel": {
            "namelength": 0
           },
           "hovertemplate": "Region=9-Cote-Nord<br>Date of Infection=17th<br>Total Number of Cases=%{marker.size}<br>Lat=%{lat}<br>Long=%{lon}",
           "lat": [
            50.866667
           ],
           "legendgroup": "9-Cote-Nord",
           "lon": [
            -65.816667
           ],
           "marker": {
            "color": "#FF97FF",
            "size": [
             0
            ],
            "sizemode": "area",
            "sizeref": 0.051111111111111114
           },
           "name": "9-Cote-Nord",
           "showlegend": true,
           "type": "scattergeo"
          },
          {
           "geo": "geo",
           "hoverlabel": {
            "namelength": 0
           },
           "hovertemplate": "Region=10-Nord-du-Quebec<br>Date of Infection=17th<br>Total Number of Cases=%{marker.size}<br>Lat=%{lat}<br>Long=%{lon}",
           "lat": [
            56.166667
           ],
           "legendgroup": "10-Nord-du-Quebec",
           "lon": [
            -74.416667
           ],
           "marker": {
            "color": "#FECB52",
            "size": [
             0
            ],
            "sizemode": "area",
            "sizeref": 0.051111111111111114
           },
           "name": "10-Nord-du-Quebec",
           "showlegend": true,
           "type": "scattergeo"
          },
          {
           "geo": "geo",
           "hoverlabel": {
            "namelength": 0
           },
           "hovertemplate": "Region=11- Gaspesie-Iles-de-la-Madelaine<br>Date of Infection=17th<br>Total Number of Cases=%{marker.size}<br>Lat=%{lat}<br>Long=%{lon}",
           "lat": [
            48.683333
           ],
           "legendgroup": "11- Gaspesie-Iles-de-la-Madelaine",
           "lon": [
            -65.4
           ],
           "marker": {
            "color": "#636efa",
            "size": [
             0
            ],
            "sizemode": "area",
            "sizeref": 0.051111111111111114
           },
           "name": "11- Gaspesie-Iles-de-la-Madelaine",
           "showlegend": true,
           "type": "scattergeo"
          },
          {
           "geo": "geo",
           "hoverlabel": {
            "namelength": 0
           },
           "hovertemplate": "Region=12-Chaudiere-Appalaches<br>Date of Infection=17th<br>Total Number of Cases=%{marker.size}<br>Lat=%{lat}<br>Long=%{lon}",
           "lat": [
            46.483333
           ],
           "legendgroup": "12-Chaudiere-Appalaches",
           "lon": [
            -70.616667
           ],
           "marker": {
            "color": "#EF553B",
            "size": [
             4
            ],
            "sizemode": "area",
            "sizeref": 0.051111111111111114
           },
           "name": "12-Chaudiere-Appalaches",
           "showlegend": true,
           "type": "scattergeo"
          },
          {
           "geo": "geo",
           "hoverlabel": {
            "namelength": 0
           },
           "hovertemplate": "Region=13- Laval<br>Date of Infection=17th<br>Total Number of Cases=%{marker.size}<br>Lat=%{lat}<br>Long=%{lon}",
           "lat": [
            45.583333
           ],
           "legendgroup": "13- Laval",
           "lon": [
            -73.75
           ],
           "marker": {
            "color": "#00cc96",
            "size": [
             0
            ],
            "sizemode": "area",
            "sizeref": 0.051111111111111114
           },
           "name": "13- Laval",
           "showlegend": true,
           "type": "scattergeo"
          },
          {
           "geo": "geo",
           "hoverlabel": {
            "namelength": 0
           },
           "hovertemplate": "Region=14- Lanaudiere<br>Date of Infection=17th<br>Total Number of Cases=%{marker.size}<br>Lat=%{lat}<br>Long=%{lon}",
           "lat": [
            46.766667
           ],
           "legendgroup": "14- Lanaudiere",
           "lon": [
            -73.833333
           ],
           "marker": {
            "color": "#ab63fa",
            "size": [
             6
            ],
            "sizemode": "area",
            "sizeref": 0.051111111111111114
           },
           "name": "14- Lanaudiere",
           "showlegend": true,
           "type": "scattergeo"
          },
          {
           "geo": "geo",
           "hoverlabel": {
            "namelength": 0
           },
           "hovertemplate": "Region=15- Laurentides<br>Date of Infection=17th<br>Total Number of Cases=%{marker.size}<br>Lat=%{lat}<br>Long=%{lon}",
           "lat": [
            46.433333
           ],
           "legendgroup": "15- Laurentides",
           "lon": [
            -74.983333
           ],
           "marker": {
            "color": "#FFA15A",
            "size": [
             7
            ],
            "sizemode": "area",
            "sizeref": 0.051111111111111114
           },
           "name": "15- Laurentides",
           "showlegend": true,
           "type": "scattergeo"
          },
          {
           "geo": "geo",
           "hoverlabel": {
            "namelength": 0
           },
           "hovertemplate": "Region=16- Monteregie<br>Date of Infection=17th<br>Total Number of Cases=%{marker.size}<br>Lat=%{lat}<br>Long=%{lon}",
           "lat": [
            45.383333
           ],
           "legendgroup": "16- Monteregie",
           "lon": [
            -73.1
           ],
           "marker": {
            "color": "#19d3f3",
            "size": [
             13
            ],
            "sizemode": "area",
            "sizeref": 0.051111111111111114
           },
           "name": "16- Monteregie",
           "showlegend": true,
           "type": "scattergeo"
          },
          {
           "geo": "geo",
           "hoverlabel": {
            "namelength": 0
           },
           "hovertemplate": "Region=17- Centre du Quebec<br>Date of Infection=17th<br>Total Number of Cases=%{marker.size}<br>Lat=%{lat}<br>Long=%{lon}",
           "lat": [
            46.283333
           ],
           "legendgroup": "17- Centre du Quebec",
           "lon": [
            -72.066667
           ],
           "marker": {
            "color": "#FF6692",
            "size": [
             0
            ],
            "sizemode": "area",
            "sizeref": 0.051111111111111114
           },
           "name": "17- Centre du Quebec",
           "showlegend": true,
           "type": "scattergeo"
          },
          {
           "geo": "geo",
           "hoverlabel": {
            "namelength": 0
           },
           "hovertemplate": "Region=Undetermined<br>Date of Infection=17th<br>Total Number of Cases=%{marker.size}<br>Lat=%{lat}<br>Long=%{lon}",
           "lat": [
            "na"
           ],
           "legendgroup": "Undetermined",
           "lon": [
            "na"
           ],
           "marker": {
            "color": "#B6E880",
            "size": [
             5
            ],
            "sizemode": "area",
            "sizeref": 0.051111111111111114
           },
           "name": "Undetermined",
           "showlegend": true,
           "type": "scattergeo"
          },
          {
           "geo": "geo",
           "hoverlabel": {
            "namelength": 0
           },
           "hovertemplate": "Region=Hors Quebec<br>Date of Infection=17th<br>Total Number of Cases=%{marker.size}<br>Lat=%{lat}<br>Long=%{lon}",
           "lat": [
            "na"
           ],
           "legendgroup": "Hors Quebec",
           "lon": [
            "na"
           ],
           "marker": {
            "color": "#FF97FF",
            "size": [
             2
            ],
            "sizemode": "area",
            "sizeref": 0.051111111111111114
           },
           "name": "Hors Quebec",
           "showlegend": true,
           "type": "scattergeo"
          }
         ],
         "name": "17th"
        },
        {
         "data": [
          {
           "geo": "geo",
           "hoverlabel": {
            "namelength": 0
           },
           "hovertemplate": "Region=01-Bas-Saint-Laurent<br>Date of Infection=18th<br>Total Number of Cases=%{marker.size}<br>Lat=%{lat}<br>Long=%{lon}",
           "lat": [
            48.333333
           ],
           "legendgroup": "01-Bas-Saint-Laurent",
           "lon": [
            -68.666667
           ],
           "marker": {
            "color": "#636efa",
            "size": [
             0
            ],
            "sizemode": "area",
            "sizeref": 0.051111111111111114
           },
           "name": "01-Bas-Saint-Laurent",
           "showlegend": true,
           "type": "scattergeo"
          },
          {
           "geo": "geo",
           "hoverlabel": {
            "namelength": 0
           },
           "hovertemplate": "Region=02- Saguenay-Lac-Saint-Jean<br>Date of Infection=18th<br>Total Number of Cases=%{marker.size}<br>Lat=%{lat}<br>Long=%{lon}",
           "lat": [
            49.8667
           ],
           "legendgroup": "02- Saguenay-Lac-Saint-Jean",
           "lon": [
            -71.75
           ],
           "marker": {
            "color": "#EF553B",
            "size": [
             0
            ],
            "sizemode": "area",
            "sizeref": 0.051111111111111114
           },
           "name": "02- Saguenay-Lac-Saint-Jean",
           "showlegend": true,
           "type": "scattergeo"
          },
          {
           "geo": "geo",
           "hoverlabel": {
            "namelength": 0
           },
           "hovertemplate": "Region=03- Capitale-Nationale<br>Date of Infection=18th<br>Total Number of Cases=%{marker.size}<br>Lat=%{lat}<br>Long=%{lon}",
           "lat": [
            47.333333
           ],
           "legendgroup": "03- Capitale-Nationale",
           "lon": [
            -71.5
           ],
           "marker": {
            "color": "#00cc96",
            "size": [
             8
            ],
            "sizemode": "area",
            "sizeref": 0.051111111111111114
           },
           "name": "03- Capitale-Nationale",
           "showlegend": true,
           "type": "scattergeo"
          },
          {
           "geo": "geo",
           "hoverlabel": {
            "namelength": 0
           },
           "hovertemplate": "Region=04-Mauricie<br>Date of Infection=18th<br>Total Number of Cases=%{marker.size}<br>Lat=%{lat}<br>Long=%{lon}",
           "lat": [
            47
           ],
           "legendgroup": "04-Mauricie",
           "lon": [
            -73
           ],
           "marker": {
            "color": "#ab63fa",
            "size": [
             3
            ],
            "sizemode": "area",
            "sizeref": 0.051111111111111114
           },
           "name": "04-Mauricie",
           "showlegend": true,
           "type": "scattergeo"
          },
          {
           "geo": "geo",
           "hoverlabel": {
            "namelength": 0
           },
           "hovertemplate": "Region=05-Estrie<br>Date of Infection=18th<br>Total Number of Cases=%{marker.size}<br>Lat=%{lat}<br>Long=%{lon}",
           "lat": [
            45.481556
           ],
           "legendgroup": "05-Estrie",
           "lon": [
            -71.667917
           ],
           "marker": {
            "color": "#FFA15A",
            "size": [
             18
            ],
            "sizemode": "area",
            "sizeref": 0.051111111111111114
           },
           "name": "05-Estrie",
           "showlegend": true,
           "type": "scattergeo"
          },
          {
           "geo": "geo",
           "hoverlabel": {
            "namelength": 0
           },
           "hovertemplate": "Region=06-Montreal<br>Date of Infection=18th<br>Total Number of Cases=%{marker.size}<br>Lat=%{lat}<br>Long=%{lon}",
           "lat": [
            45.5
           ],
           "legendgroup": "06-Montreal",
           "lon": [
            -73.566667
           ],
           "marker": {
            "color": "#19d3f3",
            "size": [
             24
            ],
            "sizemode": "area",
            "sizeref": 0.051111111111111114
           },
           "name": "06-Montreal",
           "showlegend": true,
           "type": "scattergeo"
          },
          {
           "geo": "geo",
           "hoverlabel": {
            "namelength": 0
           },
           "hovertemplate": "Region=07-Outauais<br>Date of Infection=18th<br>Total Number of Cases=%{marker.size}<br>Lat=%{lat}<br>Long=%{lon}",
           "lat": [
            45.783333
           ],
           "legendgroup": "07-Outauais",
           "lon": [
            -75.083333
           ],
           "marker": {
            "color": "#FF6692",
            "size": [
             1
            ],
            "sizemode": "area",
            "sizeref": 0.051111111111111114
           },
           "name": "07-Outauais",
           "showlegend": true,
           "type": "scattergeo"
          },
          {
           "geo": "geo",
           "hoverlabel": {
            "namelength": 0
           },
           "hovertemplate": "Region=08-Abititi-Temiscaminigue<br>Date of Infection=18th<br>Total Number of Cases=%{marker.size}<br>Lat=%{lat}<br>Long=%{lon}",
           "lat": [
            48.233333
           ],
           "legendgroup": "08-Abititi-Temiscaminigue",
           "lon": [
            -79.016667
           ],
           "marker": {
            "color": "#B6E880",
            "size": [
             0
            ],
            "sizemode": "area",
            "sizeref": 0.051111111111111114
           },
           "name": "08-Abititi-Temiscaminigue",
           "showlegend": true,
           "type": "scattergeo"
          },
          {
           "geo": "geo",
           "hoverlabel": {
            "namelength": 0
           },
           "hovertemplate": "Region=9-Cote-Nord<br>Date of Infection=18th<br>Total Number of Cases=%{marker.size}<br>Lat=%{lat}<br>Long=%{lon}",
           "lat": [
            50.866667
           ],
           "legendgroup": "9-Cote-Nord",
           "lon": [
            -65.816667
           ],
           "marker": {
            "color": "#FF97FF",
            "size": [
             0
            ],
            "sizemode": "area",
            "sizeref": 0.051111111111111114
           },
           "name": "9-Cote-Nord",
           "showlegend": true,
           "type": "scattergeo"
          },
          {
           "geo": "geo",
           "hoverlabel": {
            "namelength": 0
           },
           "hovertemplate": "Region=10-Nord-du-Quebec<br>Date of Infection=18th<br>Total Number of Cases=%{marker.size}<br>Lat=%{lat}<br>Long=%{lon}",
           "lat": [
            56.166667
           ],
           "legendgroup": "10-Nord-du-Quebec",
           "lon": [
            -74.416667
           ],
           "marker": {
            "color": "#FECB52",
            "size": [
             0
            ],
            "sizemode": "area",
            "sizeref": 0.051111111111111114
           },
           "name": "10-Nord-du-Quebec",
           "showlegend": true,
           "type": "scattergeo"
          },
          {
           "geo": "geo",
           "hoverlabel": {
            "namelength": 0
           },
           "hovertemplate": "Region=11- Gaspesie-Iles-de-la-Madelaine<br>Date of Infection=18th<br>Total Number of Cases=%{marker.size}<br>Lat=%{lat}<br>Long=%{lon}",
           "lat": [
            48.683333
           ],
           "legendgroup": "11- Gaspesie-Iles-de-la-Madelaine",
           "lon": [
            -65.4
           ],
           "marker": {
            "color": "#636efa",
            "size": [
             0
            ],
            "sizemode": "area",
            "sizeref": 0.051111111111111114
           },
           "name": "11- Gaspesie-Iles-de-la-Madelaine",
           "showlegend": true,
           "type": "scattergeo"
          },
          {
           "geo": "geo",
           "hoverlabel": {
            "namelength": 0
           },
           "hovertemplate": "Region=12-Chaudiere-Appalaches<br>Date of Infection=18th<br>Total Number of Cases=%{marker.size}<br>Lat=%{lat}<br>Long=%{lon}",
           "lat": [
            46.483333
           ],
           "legendgroup": "12-Chaudiere-Appalaches",
           "lon": [
            -70.616667
           ],
           "marker": {
            "color": "#EF553B",
            "size": [
             6
            ],
            "sizemode": "area",
            "sizeref": 0.051111111111111114
           },
           "name": "12-Chaudiere-Appalaches",
           "showlegend": true,
           "type": "scattergeo"
          },
          {
           "geo": "geo",
           "hoverlabel": {
            "namelength": 0
           },
           "hovertemplate": "Region=13- Laval<br>Date of Infection=18th<br>Total Number of Cases=%{marker.size}<br>Lat=%{lat}<br>Long=%{lon}",
           "lat": [
            45.583333
           ],
           "legendgroup": "13- Laval",
           "lon": [
            -73.75
           ],
           "marker": {
            "color": "#00cc96",
            "size": [
             0
            ],
            "sizemode": "area",
            "sizeref": 0.051111111111111114
           },
           "name": "13- Laval",
           "showlegend": true,
           "type": "scattergeo"
          },
          {
           "geo": "geo",
           "hoverlabel": {
            "namelength": 0
           },
           "hovertemplate": "Region=14- Lanaudiere<br>Date of Infection=18th<br>Total Number of Cases=%{marker.size}<br>Lat=%{lat}<br>Long=%{lon}",
           "lat": [
            46.766667
           ],
           "legendgroup": "14- Lanaudiere",
           "lon": [
            -73.833333
           ],
           "marker": {
            "color": "#ab63fa",
            "size": [
             6
            ],
            "sizemode": "area",
            "sizeref": 0.051111111111111114
           },
           "name": "14- Lanaudiere",
           "showlegend": true,
           "type": "scattergeo"
          },
          {
           "geo": "geo",
           "hoverlabel": {
            "namelength": 0
           },
           "hovertemplate": "Region=15- Laurentides<br>Date of Infection=18th<br>Total Number of Cases=%{marker.size}<br>Lat=%{lat}<br>Long=%{lon}",
           "lat": [
            46.433333
           ],
           "legendgroup": "15- Laurentides",
           "lon": [
            -74.983333
           ],
           "marker": {
            "color": "#FFA15A",
            "size": [
             8
            ],
            "sizemode": "area",
            "sizeref": 0.051111111111111114
           },
           "name": "15- Laurentides",
           "showlegend": true,
           "type": "scattergeo"
          },
          {
           "geo": "geo",
           "hoverlabel": {
            "namelength": 0
           },
           "hovertemplate": "Region=16- Monteregie<br>Date of Infection=18th<br>Total Number of Cases=%{marker.size}<br>Lat=%{lat}<br>Long=%{lon}",
           "lat": [
            45.383333
           ],
           "legendgroup": "16- Monteregie",
           "lon": [
            -73.1
           ],
           "marker": {
            "color": "#19d3f3",
            "size": [
             13
            ],
            "sizemode": "area",
            "sizeref": 0.051111111111111114
           },
           "name": "16- Monteregie",
           "showlegend": true,
           "type": "scattergeo"
          },
          {
           "geo": "geo",
           "hoverlabel": {
            "namelength": 0
           },
           "hovertemplate": "Region=17- Centre du Quebec<br>Date of Infection=18th<br>Total Number of Cases=%{marker.size}<br>Lat=%{lat}<br>Long=%{lon}",
           "lat": [
            46.283333
           ],
           "legendgroup": "17- Centre du Quebec",
           "lon": [
            -72.066667
           ],
           "marker": {
            "color": "#FF6692",
            "size": [
             0
            ],
            "sizemode": "area",
            "sizeref": 0.051111111111111114
           },
           "name": "17- Centre du Quebec",
           "showlegend": true,
           "type": "scattergeo"
          },
          {
           "geo": "geo",
           "hoverlabel": {
            "namelength": 0
           },
           "hovertemplate": "Region=Undetermined<br>Date of Infection=18th<br>Total Number of Cases=%{marker.size}<br>Lat=%{lat}<br>Long=%{lon}",
           "lat": [
            "na"
           ],
           "legendgroup": "Undetermined",
           "lon": [
            "na"
           ],
           "marker": {
            "color": "#B6E880",
            "size": [
             5
            ],
            "sizemode": "area",
            "sizeref": 0.051111111111111114
           },
           "name": "Undetermined",
           "showlegend": true,
           "type": "scattergeo"
          },
          {
           "geo": "geo",
           "hoverlabel": {
            "namelength": 0
           },
           "hovertemplate": "Region=Hors Quebec<br>Date of Infection=18th<br>Total Number of Cases=%{marker.size}<br>Lat=%{lat}<br>Long=%{lon}",
           "lat": [
            "na"
           ],
           "legendgroup": "Hors Quebec",
           "lon": [
            "na"
           ],
           "marker": {
            "color": "#FF97FF",
            "size": [
             2
            ],
            "sizemode": "area",
            "sizeref": 0.051111111111111114
           },
           "name": "Hors Quebec",
           "showlegend": true,
           "type": "scattergeo"
          }
         ],
         "name": "18th"
        },
        {
         "data": [
          {
           "geo": "geo",
           "hoverlabel": {
            "namelength": 0
           },
           "hovertemplate": "Region=01-Bas-Saint-Laurent<br>Date of Infection=19th<br>Total Number of Cases=%{marker.size}<br>Lat=%{lat}<br>Long=%{lon}",
           "lat": [
            48.333333
           ],
           "legendgroup": "01-Bas-Saint-Laurent",
           "lon": [
            -68.666667
           ],
           "marker": {
            "color": "#636efa",
            "size": [
             1
            ],
            "sizemode": "area",
            "sizeref": 0.051111111111111114
           },
           "name": "01-Bas-Saint-Laurent",
           "showlegend": true,
           "type": "scattergeo"
          },
          {
           "geo": "geo",
           "hoverlabel": {
            "namelength": 0
           },
           "hovertemplate": "Region=02- Saguenay-Lac-Saint-Jean<br>Date of Infection=19th<br>Total Number of Cases=%{marker.size}<br>Lat=%{lat}<br>Long=%{lon}",
           "lat": [
            49.8667
           ],
           "legendgroup": "02- Saguenay-Lac-Saint-Jean",
           "lon": [
            -71.75
           ],
           "marker": {
            "color": "#EF553B",
            "size": [
             0
            ],
            "sizemode": "area",
            "sizeref": 0.051111111111111114
           },
           "name": "02- Saguenay-Lac-Saint-Jean",
           "showlegend": true,
           "type": "scattergeo"
          },
          {
           "geo": "geo",
           "hoverlabel": {
            "namelength": 0
           },
           "hovertemplate": "Region=03- Capitale-Nationale<br>Date of Infection=19th<br>Total Number of Cases=%{marker.size}<br>Lat=%{lat}<br>Long=%{lon}",
           "lat": [
            47.333333
           ],
           "legendgroup": "03- Capitale-Nationale",
           "lon": [
            -71.5
           ],
           "marker": {
            "color": "#00cc96",
            "size": [
             10
            ],
            "sizemode": "area",
            "sizeref": 0.051111111111111114
           },
           "name": "03- Capitale-Nationale",
           "showlegend": true,
           "type": "scattergeo"
          },
          {
           "geo": "geo",
           "hoverlabel": {
            "namelength": 0
           },
           "hovertemplate": "Region=04-Mauricie<br>Date of Infection=19th<br>Total Number of Cases=%{marker.size}<br>Lat=%{lat}<br>Long=%{lon}",
           "lat": [
            47
           ],
           "legendgroup": "04-Mauricie",
           "lon": [
            -73
           ],
           "marker": {
            "color": "#ab63fa",
            "size": [
             3
            ],
            "sizemode": "area",
            "sizeref": 0.051111111111111114
           },
           "name": "04-Mauricie",
           "showlegend": true,
           "type": "scattergeo"
          },
          {
           "geo": "geo",
           "hoverlabel": {
            "namelength": 0
           },
           "hovertemplate": "Region=05-Estrie<br>Date of Infection=19th<br>Total Number of Cases=%{marker.size}<br>Lat=%{lat}<br>Long=%{lon}",
           "lat": [
            45.481556
           ],
           "legendgroup": "05-Estrie",
           "lon": [
            -71.667917
           ],
           "marker": {
            "color": "#FFA15A",
            "size": [
             26
            ],
            "sizemode": "area",
            "sizeref": 0.051111111111111114
           },
           "name": "05-Estrie",
           "showlegend": true,
           "type": "scattergeo"
          },
          {
           "geo": "geo",
           "hoverlabel": {
            "namelength": 0
           },
           "hovertemplate": "Region=06-Montreal<br>Date of Infection=19th<br>Total Number of Cases=%{marker.size}<br>Lat=%{lat}<br>Long=%{lon}",
           "lat": [
            45.5
           ],
           "legendgroup": "06-Montreal",
           "lon": [
            -73.566667
           ],
           "marker": {
            "color": "#19d3f3",
            "size": [
             28
            ],
            "sizemode": "area",
            "sizeref": 0.051111111111111114
           },
           "name": "06-Montreal",
           "showlegend": true,
           "type": "scattergeo"
          },
          {
           "geo": "geo",
           "hoverlabel": {
            "namelength": 0
           },
           "hovertemplate": "Region=07-Outauais<br>Date of Infection=19th<br>Total Number of Cases=%{marker.size}<br>Lat=%{lat}<br>Long=%{lon}",
           "lat": [
            45.783333
           ],
           "legendgroup": "07-Outauais",
           "lon": [
            -75.083333
           ],
           "marker": {
            "color": "#FF6692",
            "size": [
             1
            ],
            "sizemode": "area",
            "sizeref": 0.051111111111111114
           },
           "name": "07-Outauais",
           "showlegend": true,
           "type": "scattergeo"
          },
          {
           "geo": "geo",
           "hoverlabel": {
            "namelength": 0
           },
           "hovertemplate": "Region=08-Abititi-Temiscaminigue<br>Date of Infection=19th<br>Total Number of Cases=%{marker.size}<br>Lat=%{lat}<br>Long=%{lon}",
           "lat": [
            48.233333
           ],
           "legendgroup": "08-Abititi-Temiscaminigue",
           "lon": [
            -79.016667
           ],
           "marker": {
            "color": "#B6E880",
            "size": [
             0
            ],
            "sizemode": "area",
            "sizeref": 0.051111111111111114
           },
           "name": "08-Abititi-Temiscaminigue",
           "showlegend": true,
           "type": "scattergeo"
          },
          {
           "geo": "geo",
           "hoverlabel": {
            "namelength": 0
           },
           "hovertemplate": "Region=9-Cote-Nord<br>Date of Infection=19th<br>Total Number of Cases=%{marker.size}<br>Lat=%{lat}<br>Long=%{lon}",
           "lat": [
            50.866667
           ],
           "legendgroup": "9-Cote-Nord",
           "lon": [
            -65.816667
           ],
           "marker": {
            "color": "#FF97FF",
            "size": [
             0
            ],
            "sizemode": "area",
            "sizeref": 0.051111111111111114
           },
           "name": "9-Cote-Nord",
           "showlegend": true,
           "type": "scattergeo"
          },
          {
           "geo": "geo",
           "hoverlabel": {
            "namelength": 0
           },
           "hovertemplate": "Region=10-Nord-du-Quebec<br>Date of Infection=19th<br>Total Number of Cases=%{marker.size}<br>Lat=%{lat}<br>Long=%{lon}",
           "lat": [
            56.166667
           ],
           "legendgroup": "10-Nord-du-Quebec",
           "lon": [
            -74.416667
           ],
           "marker": {
            "color": "#FECB52",
            "size": [
             0
            ],
            "sizemode": "area",
            "sizeref": 0.051111111111111114
           },
           "name": "10-Nord-du-Quebec",
           "showlegend": true,
           "type": "scattergeo"
          },
          {
           "geo": "geo",
           "hoverlabel": {
            "namelength": 0
           },
           "hovertemplate": "Region=11- Gaspesie-Iles-de-la-Madelaine<br>Date of Infection=19th<br>Total Number of Cases=%{marker.size}<br>Lat=%{lat}<br>Long=%{lon}",
           "lat": [
            48.683333
           ],
           "legendgroup": "11- Gaspesie-Iles-de-la-Madelaine",
           "lon": [
            -65.4
           ],
           "marker": {
            "color": "#636efa",
            "size": [
             0
            ],
            "sizemode": "area",
            "sizeref": 0.051111111111111114
           },
           "name": "11- Gaspesie-Iles-de-la-Madelaine",
           "showlegend": true,
           "type": "scattergeo"
          },
          {
           "geo": "geo",
           "hoverlabel": {
            "namelength": 0
           },
           "hovertemplate": "Region=12-Chaudiere-Appalaches<br>Date of Infection=19th<br>Total Number of Cases=%{marker.size}<br>Lat=%{lat}<br>Long=%{lon}",
           "lat": [
            46.483333
           ],
           "legendgroup": "12-Chaudiere-Appalaches",
           "lon": [
            -70.616667
           ],
           "marker": {
            "color": "#EF553B",
            "size": [
             6
            ],
            "sizemode": "area",
            "sizeref": 0.051111111111111114
           },
           "name": "12-Chaudiere-Appalaches",
           "showlegend": true,
           "type": "scattergeo"
          },
          {
           "geo": "geo",
           "hoverlabel": {
            "namelength": 0
           },
           "hovertemplate": "Region=13- Laval<br>Date of Infection=19th<br>Total Number of Cases=%{marker.size}<br>Lat=%{lat}<br>Long=%{lon}",
           "lat": [
            45.583333
           ],
           "legendgroup": "13- Laval",
           "lon": [
            -73.75
           ],
           "marker": {
            "color": "#00cc96",
            "size": [
             1
            ],
            "sizemode": "area",
            "sizeref": 0.051111111111111114
           },
           "name": "13- Laval",
           "showlegend": true,
           "type": "scattergeo"
          },
          {
           "geo": "geo",
           "hoverlabel": {
            "namelength": 0
           },
           "hovertemplate": "Region=14- Lanaudiere<br>Date of Infection=19th<br>Total Number of Cases=%{marker.size}<br>Lat=%{lat}<br>Long=%{lon}",
           "lat": [
            46.766667
           ],
           "legendgroup": "14- Lanaudiere",
           "lon": [
            -73.833333
           ],
           "marker": {
            "color": "#ab63fa",
            "size": [
             7
            ],
            "sizemode": "area",
            "sizeref": 0.051111111111111114
           },
           "name": "14- Lanaudiere",
           "showlegend": true,
           "type": "scattergeo"
          },
          {
           "geo": "geo",
           "hoverlabel": {
            "namelength": 0
           },
           "hovertemplate": "Region=15- Laurentides<br>Date of Infection=19th<br>Total Number of Cases=%{marker.size}<br>Lat=%{lat}<br>Long=%{lon}",
           "lat": [
            46.433333
           ],
           "legendgroup": "15- Laurentides",
           "lon": [
            -74.983333
           ],
           "marker": {
            "color": "#FFA15A",
            "size": [
             9
            ],
            "sizemode": "area",
            "sizeref": 0.051111111111111114
           },
           "name": "15- Laurentides",
           "showlegend": true,
           "type": "scattergeo"
          },
          {
           "geo": "geo",
           "hoverlabel": {
            "namelength": 0
           },
           "hovertemplate": "Region=16- Monteregie<br>Date of Infection=19th<br>Total Number of Cases=%{marker.size}<br>Lat=%{lat}<br>Long=%{lon}",
           "lat": [
            45.383333
           ],
           "legendgroup": "16- Monteregie",
           "lon": [
            -73.1
           ],
           "marker": {
            "color": "#19d3f3",
            "size": [
             19
            ],
            "sizemode": "area",
            "sizeref": 0.051111111111111114
           },
           "name": "16- Monteregie",
           "showlegend": true,
           "type": "scattergeo"
          },
          {
           "geo": "geo",
           "hoverlabel": {
            "namelength": 0
           },
           "hovertemplate": "Region=17- Centre du Quebec<br>Date of Infection=19th<br>Total Number of Cases=%{marker.size}<br>Lat=%{lat}<br>Long=%{lon}",
           "lat": [
            46.283333
           ],
           "legendgroup": "17- Centre du Quebec",
           "lon": [
            -72.066667
           ],
           "marker": {
            "color": "#FF6692",
            "size": [
             0
            ],
            "sizemode": "area",
            "sizeref": 0.051111111111111114
           },
           "name": "17- Centre du Quebec",
           "showlegend": true,
           "type": "scattergeo"
          },
          {
           "geo": "geo",
           "hoverlabel": {
            "namelength": 0
           },
           "hovertemplate": "Region=Undetermined<br>Date of Infection=19th<br>Total Number of Cases=%{marker.size}<br>Lat=%{lat}<br>Long=%{lon}",
           "lat": [
            "na"
           ],
           "legendgroup": "Undetermined",
           "lon": [
            "na"
           ],
           "marker": {
            "color": "#B6E880",
            "size": [
             8
            ],
            "sizemode": "area",
            "sizeref": 0.051111111111111114
           },
           "name": "Undetermined",
           "showlegend": true,
           "type": "scattergeo"
          },
          {
           "geo": "geo",
           "hoverlabel": {
            "namelength": 0
           },
           "hovertemplate": "Region=Hors Quebec<br>Date of Infection=19th<br>Total Number of Cases=%{marker.size}<br>Lat=%{lat}<br>Long=%{lon}",
           "lat": [
            "na"
           ],
           "legendgroup": "Hors Quebec",
           "lon": [
            "na"
           ],
           "marker": {
            "color": "#FF97FF",
            "size": [
             2
            ],
            "sizemode": "area",
            "sizeref": 0.051111111111111114
           },
           "name": "Hors Quebec",
           "showlegend": true,
           "type": "scattergeo"
          }
         ],
         "name": "19th"
        },
        {
         "data": [
          {
           "geo": "geo",
           "hoverlabel": {
            "namelength": 0
           },
           "hovertemplate": "Region=01-Bas-Saint-Laurent<br>Date of Infection=20th<br>Total Number of Cases=%{marker.size}<br>Lat=%{lat}<br>Long=%{lon}",
           "lat": [
            48.333333
           ],
           "legendgroup": "01-Bas-Saint-Laurent",
           "lon": [
            -68.666667
           ],
           "marker": {
            "color": "#636efa",
            "size": [
             1
            ],
            "sizemode": "area",
            "sizeref": 0.051111111111111114
           },
           "name": "01-Bas-Saint-Laurent",
           "showlegend": true,
           "type": "scattergeo"
          },
          {
           "geo": "geo",
           "hoverlabel": {
            "namelength": 0
           },
           "hovertemplate": "Region=02- Saguenay-Lac-Saint-Jean<br>Date of Infection=20th<br>Total Number of Cases=%{marker.size}<br>Lat=%{lat}<br>Long=%{lon}",
           "lat": [
            49.8667
           ],
           "legendgroup": "02- Saguenay-Lac-Saint-Jean",
           "lon": [
            -71.75
           ],
           "marker": {
            "color": "#EF553B",
            "size": [
             0
            ],
            "sizemode": "area",
            "sizeref": 0.051111111111111114
           },
           "name": "02- Saguenay-Lac-Saint-Jean",
           "showlegend": true,
           "type": "scattergeo"
          },
          {
           "geo": "geo",
           "hoverlabel": {
            "namelength": 0
           },
           "hovertemplate": "Region=03- Capitale-Nationale<br>Date of Infection=20th<br>Total Number of Cases=%{marker.size}<br>Lat=%{lat}<br>Long=%{lon}",
           "lat": [
            47.333333
           ],
           "legendgroup": "03- Capitale-Nationale",
           "lon": [
            -71.5
           ],
           "marker": {
            "color": "#00cc96",
            "size": [
             10
            ],
            "sizemode": "area",
            "sizeref": 0.051111111111111114
           },
           "name": "03- Capitale-Nationale",
           "showlegend": true,
           "type": "scattergeo"
          },
          {
           "geo": "geo",
           "hoverlabel": {
            "namelength": 0
           },
           "hovertemplate": "Region=04-Mauricie<br>Date of Infection=20th<br>Total Number of Cases=%{marker.size}<br>Lat=%{lat}<br>Long=%{lon}",
           "lat": [
            47
           ],
           "legendgroup": "04-Mauricie",
           "lon": [
            -73
           ],
           "marker": {
            "color": "#ab63fa",
            "size": [
             4
            ],
            "sizemode": "area",
            "sizeref": 0.051111111111111114
           },
           "name": "04-Mauricie",
           "showlegend": true,
           "type": "scattergeo"
          },
          {
           "geo": "geo",
           "hoverlabel": {
            "namelength": 0
           },
           "hovertemplate": "Region=05-Estrie<br>Date of Infection=20th<br>Total Number of Cases=%{marker.size}<br>Lat=%{lat}<br>Long=%{lon}",
           "lat": [
            45.481556
           ],
           "legendgroup": "05-Estrie",
           "lon": [
            -71.667917
           ],
           "marker": {
            "color": "#FFA15A",
            "size": [
             26
            ],
            "sizemode": "area",
            "sizeref": 0.051111111111111114
           },
           "name": "05-Estrie",
           "showlegend": true,
           "type": "scattergeo"
          },
          {
           "geo": "geo",
           "hoverlabel": {
            "namelength": 0
           },
           "hovertemplate": "Region=06-Montreal<br>Date of Infection=20th<br>Total Number of Cases=%{marker.size}<br>Lat=%{lat}<br>Long=%{lon}",
           "lat": [
            45.5
           ],
           "legendgroup": "06-Montreal",
           "lon": [
            -73.566667
           ],
           "marker": {
            "color": "#19d3f3",
            "size": [
             31
            ],
            "sizemode": "area",
            "sizeref": 0.051111111111111114
           },
           "name": "06-Montreal",
           "showlegend": true,
           "type": "scattergeo"
          },
          {
           "geo": "geo",
           "hoverlabel": {
            "namelength": 0
           },
           "hovertemplate": "Region=07-Outauais<br>Date of Infection=20th<br>Total Number of Cases=%{marker.size}<br>Lat=%{lat}<br>Long=%{lon}",
           "lat": [
            45.783333
           ],
           "legendgroup": "07-Outauais",
           "lon": [
            -75.083333
           ],
           "marker": {
            "color": "#FF6692",
            "size": [
             1
            ],
            "sizemode": "area",
            "sizeref": 0.051111111111111114
           },
           "name": "07-Outauais",
           "showlegend": true,
           "type": "scattergeo"
          },
          {
           "geo": "geo",
           "hoverlabel": {
            "namelength": 0
           },
           "hovertemplate": "Region=08-Abititi-Temiscaminigue<br>Date of Infection=20th<br>Total Number of Cases=%{marker.size}<br>Lat=%{lat}<br>Long=%{lon}",
           "lat": [
            48.233333
           ],
           "legendgroup": "08-Abititi-Temiscaminigue",
           "lon": [
            -79.016667
           ],
           "marker": {
            "color": "#B6E880",
            "size": [
             0
            ],
            "sizemode": "area",
            "sizeref": 0.051111111111111114
           },
           "name": "08-Abititi-Temiscaminigue",
           "showlegend": true,
           "type": "scattergeo"
          },
          {
           "geo": "geo",
           "hoverlabel": {
            "namelength": 0
           },
           "hovertemplate": "Region=9-Cote-Nord<br>Date of Infection=20th<br>Total Number of Cases=%{marker.size}<br>Lat=%{lat}<br>Long=%{lon}",
           "lat": [
            50.866667
           ],
           "legendgroup": "9-Cote-Nord",
           "lon": [
            -65.816667
           ],
           "marker": {
            "color": "#FF97FF",
            "size": [
             0
            ],
            "sizemode": "area",
            "sizeref": 0.051111111111111114
           },
           "name": "9-Cote-Nord",
           "showlegend": true,
           "type": "scattergeo"
          },
          {
           "geo": "geo",
           "hoverlabel": {
            "namelength": 0
           },
           "hovertemplate": "Region=10-Nord-du-Quebec<br>Date of Infection=20th<br>Total Number of Cases=%{marker.size}<br>Lat=%{lat}<br>Long=%{lon}",
           "lat": [
            56.166667
           ],
           "legendgroup": "10-Nord-du-Quebec",
           "lon": [
            -74.416667
           ],
           "marker": {
            "color": "#FECB52",
            "size": [
             1
            ],
            "sizemode": "area",
            "sizeref": 0.051111111111111114
           },
           "name": "10-Nord-du-Quebec",
           "showlegend": true,
           "type": "scattergeo"
          },
          {
           "geo": "geo",
           "hoverlabel": {
            "namelength": 0
           },
           "hovertemplate": "Region=11- Gaspesie-Iles-de-la-Madelaine<br>Date of Infection=20th<br>Total Number of Cases=%{marker.size}<br>Lat=%{lat}<br>Long=%{lon}",
           "lat": [
            48.683333
           ],
           "legendgroup": "11- Gaspesie-Iles-de-la-Madelaine",
           "lon": [
            -65.4
           ],
           "marker": {
            "color": "#636efa",
            "size": [
             0
            ],
            "sizemode": "area",
            "sizeref": 0.051111111111111114
           },
           "name": "11- Gaspesie-Iles-de-la-Madelaine",
           "showlegend": true,
           "type": "scattergeo"
          },
          {
           "geo": "geo",
           "hoverlabel": {
            "namelength": 0
           },
           "hovertemplate": "Region=12-Chaudiere-Appalaches<br>Date of Infection=20th<br>Total Number of Cases=%{marker.size}<br>Lat=%{lat}<br>Long=%{lon}",
           "lat": [
            46.483333
           ],
           "legendgroup": "12-Chaudiere-Appalaches",
           "lon": [
            -70.616667
           ],
           "marker": {
            "color": "#EF553B",
            "size": [
             6
            ],
            "sizemode": "area",
            "sizeref": 0.051111111111111114
           },
           "name": "12-Chaudiere-Appalaches",
           "showlegend": true,
           "type": "scattergeo"
          },
          {
           "geo": "geo",
           "hoverlabel": {
            "namelength": 0
           },
           "hovertemplate": "Region=13- Laval<br>Date of Infection=20th<br>Total Number of Cases=%{marker.size}<br>Lat=%{lat}<br>Long=%{lon}",
           "lat": [
            45.583333
           ],
           "legendgroup": "13- Laval",
           "lon": [
            -73.75
           ],
           "marker": {
            "color": "#00cc96",
            "size": [
             1
            ],
            "sizemode": "area",
            "sizeref": 0.051111111111111114
           },
           "name": "13- Laval",
           "showlegend": true,
           "type": "scattergeo"
          },
          {
           "geo": "geo",
           "hoverlabel": {
            "namelength": 0
           },
           "hovertemplate": "Region=14- Lanaudiere<br>Date of Infection=20th<br>Total Number of Cases=%{marker.size}<br>Lat=%{lat}<br>Long=%{lon}",
           "lat": [
            46.766667
           ],
           "legendgroup": "14- Lanaudiere",
           "lon": [
            -73.833333
           ],
           "marker": {
            "color": "#ab63fa",
            "size": [
             7
            ],
            "sizemode": "area",
            "sizeref": 0.051111111111111114
           },
           "name": "14- Lanaudiere",
           "showlegend": true,
           "type": "scattergeo"
          },
          {
           "geo": "geo",
           "hoverlabel": {
            "namelength": 0
           },
           "hovertemplate": "Region=15- Laurentides<br>Date of Infection=20th<br>Total Number of Cases=%{marker.size}<br>Lat=%{lat}<br>Long=%{lon}",
           "lat": [
            46.433333
           ],
           "legendgroup": "15- Laurentides",
           "lon": [
            -74.983333
           ],
           "marker": {
            "color": "#FFA15A",
            "size": [
             10
            ],
            "sizemode": "area",
            "sizeref": 0.051111111111111114
           },
           "name": "15- Laurentides",
           "showlegend": true,
           "type": "scattergeo"
          },
          {
           "geo": "geo",
           "hoverlabel": {
            "namelength": 0
           },
           "hovertemplate": "Region=16- Monteregie<br>Date of Infection=20th<br>Total Number of Cases=%{marker.size}<br>Lat=%{lat}<br>Long=%{lon}",
           "lat": [
            45.383333
           ],
           "legendgroup": "16- Monteregie",
           "lon": [
            -73.1
           ],
           "marker": {
            "color": "#19d3f3",
            "size": [
             21
            ],
            "sizemode": "area",
            "sizeref": 0.051111111111111114
           },
           "name": "16- Monteregie",
           "showlegend": true,
           "type": "scattergeo"
          },
          {
           "geo": "geo",
           "hoverlabel": {
            "namelength": 0
           },
           "hovertemplate": "Region=17- Centre du Quebec<br>Date of Infection=20th<br>Total Number of Cases=%{marker.size}<br>Lat=%{lat}<br>Long=%{lon}",
           "lat": [
            46.283333
           ],
           "legendgroup": "17- Centre du Quebec",
           "lon": [
            -72.066667
           ],
           "marker": {
            "color": "#FF6692",
            "size": [
             0
            ],
            "sizemode": "area",
            "sizeref": 0.051111111111111114
           },
           "name": "17- Centre du Quebec",
           "showlegend": true,
           "type": "scattergeo"
          },
          {
           "geo": "geo",
           "hoverlabel": {
            "namelength": 0
           },
           "hovertemplate": "Region=Undetermined<br>Date of Infection=20th<br>Total Number of Cases=%{marker.size}<br>Lat=%{lat}<br>Long=%{lon}",
           "lat": [
            "na"
           ],
           "legendgroup": "Undetermined",
           "lon": [
            "na"
           ],
           "marker": {
            "color": "#B6E880",
            "size": [
             18
            ],
            "sizemode": "area",
            "sizeref": 0.051111111111111114
           },
           "name": "Undetermined",
           "showlegend": true,
           "type": "scattergeo"
          },
          {
           "geo": "geo",
           "hoverlabel": {
            "namelength": 0
           },
           "hovertemplate": "Region=Hors Quebec<br>Date of Infection=20th<br>Total Number of Cases=%{marker.size}<br>Lat=%{lat}<br>Long=%{lon}",
           "lat": [
            "na"
           ],
           "legendgroup": "Hors Quebec",
           "lon": [
            "na"
           ],
           "marker": {
            "color": "#FF97FF",
            "size": [
             2
            ],
            "sizemode": "area",
            "sizeref": 0.051111111111111114
           },
           "name": "Hors Quebec",
           "showlegend": true,
           "type": "scattergeo"
          }
         ],
         "name": "20th"
        },
        {
         "data": [
          {
           "geo": "geo",
           "hoverlabel": {
            "namelength": 0
           },
           "hovertemplate": "Region=01-Bas-Saint-Laurent<br>Date of Infection=21st<br>Total Number of Cases=%{marker.size}<br>Lat=%{lat}<br>Long=%{lon}",
           "lat": [
            48.333333
           ],
           "legendgroup": "01-Bas-Saint-Laurent",
           "lon": [
            -68.666667
           ],
           "marker": {
            "color": "#636efa",
            "size": [
             1
            ],
            "sizemode": "area",
            "sizeref": 0.051111111111111114
           },
           "name": "01-Bas-Saint-Laurent",
           "showlegend": true,
           "type": "scattergeo"
          },
          {
           "geo": "geo",
           "hoverlabel": {
            "namelength": 0
           },
           "hovertemplate": "Region=02- Saguenay-Lac-Saint-Jean<br>Date of Infection=21st<br>Total Number of Cases=%{marker.size}<br>Lat=%{lat}<br>Long=%{lon}",
           "lat": [
            49.8667
           ],
           "legendgroup": "02- Saguenay-Lac-Saint-Jean",
           "lon": [
            -71.75
           ],
           "marker": {
            "color": "#EF553B",
            "size": [
             1
            ],
            "sizemode": "area",
            "sizeref": 0.051111111111111114
           },
           "name": "02- Saguenay-Lac-Saint-Jean",
           "showlegend": true,
           "type": "scattergeo"
          },
          {
           "geo": "geo",
           "hoverlabel": {
            "namelength": 0
           },
           "hovertemplate": "Region=03- Capitale-Nationale<br>Date of Infection=21st<br>Total Number of Cases=%{marker.size}<br>Lat=%{lat}<br>Long=%{lon}",
           "lat": [
            47.333333
           ],
           "legendgroup": "03- Capitale-Nationale",
           "lon": [
            -71.5
           ],
           "marker": {
            "color": "#00cc96",
            "size": [
             13
            ],
            "sizemode": "area",
            "sizeref": 0.051111111111111114
           },
           "name": "03- Capitale-Nationale",
           "showlegend": true,
           "type": "scattergeo"
          },
          {
           "geo": "geo",
           "hoverlabel": {
            "namelength": 0
           },
           "hovertemplate": "Region=04-Mauricie<br>Date of Infection=21st<br>Total Number of Cases=%{marker.size}<br>Lat=%{lat}<br>Long=%{lon}",
           "lat": [
            47
           ],
           "legendgroup": "04-Mauricie",
           "lon": [
            -73
           ],
           "marker": {
            "color": "#ab63fa",
            "size": [
             5
            ],
            "sizemode": "area",
            "sizeref": 0.051111111111111114
           },
           "name": "04-Mauricie",
           "showlegend": true,
           "type": "scattergeo"
          },
          {
           "geo": "geo",
           "hoverlabel": {
            "namelength": 0
           },
           "hovertemplate": "Region=05-Estrie<br>Date of Infection=21st<br>Total Number of Cases=%{marker.size}<br>Lat=%{lat}<br>Long=%{lon}",
           "lat": [
            45.481556
           ],
           "legendgroup": "05-Estrie",
           "lon": [
            -71.667917
           ],
           "marker": {
            "color": "#FFA15A",
            "size": [
             27
            ],
            "sizemode": "area",
            "sizeref": 0.051111111111111114
           },
           "name": "05-Estrie",
           "showlegend": true,
           "type": "scattergeo"
          },
          {
           "geo": "geo",
           "hoverlabel": {
            "namelength": 0
           },
           "hovertemplate": "Region=06-Montreal<br>Date of Infection=21st<br>Total Number of Cases=%{marker.size}<br>Lat=%{lat}<br>Long=%{lon}",
           "lat": [
            45.5
           ],
           "legendgroup": "06-Montreal",
           "lon": [
            -73.566667
           ],
           "marker": {
            "color": "#19d3f3",
            "size": [
             41
            ],
            "sizemode": "area",
            "sizeref": 0.051111111111111114
           },
           "name": "06-Montreal",
           "showlegend": true,
           "type": "scattergeo"
          },
          {
           "geo": "geo",
           "hoverlabel": {
            "namelength": 0
           },
           "hovertemplate": "Region=07-Outauais<br>Date of Infection=21st<br>Total Number of Cases=%{marker.size}<br>Lat=%{lat}<br>Long=%{lon}",
           "lat": [
            45.783333
           ],
           "legendgroup": "07-Outauais",
           "lon": [
            -75.083333
           ],
           "marker": {
            "color": "#FF6692",
            "size": [
             3
            ],
            "sizemode": "area",
            "sizeref": 0.051111111111111114
           },
           "name": "07-Outauais",
           "showlegend": true,
           "type": "scattergeo"
          },
          {
           "geo": "geo",
           "hoverlabel": {
            "namelength": 0
           },
           "hovertemplate": "Region=08-Abititi-Temiscaminigue<br>Date of Infection=21st<br>Total Number of Cases=%{marker.size}<br>Lat=%{lat}<br>Long=%{lon}",
           "lat": [
            48.233333
           ],
           "legendgroup": "08-Abititi-Temiscaminigue",
           "lon": [
            -79.016667
           ],
           "marker": {
            "color": "#B6E880",
            "size": [
             0
            ],
            "sizemode": "area",
            "sizeref": 0.051111111111111114
           },
           "name": "08-Abititi-Temiscaminigue",
           "showlegend": true,
           "type": "scattergeo"
          },
          {
           "geo": "geo",
           "hoverlabel": {
            "namelength": 0
           },
           "hovertemplate": "Region=9-Cote-Nord<br>Date of Infection=21st<br>Total Number of Cases=%{marker.size}<br>Lat=%{lat}<br>Long=%{lon}",
           "lat": [
            50.866667
           ],
           "legendgroup": "9-Cote-Nord",
           "lon": [
            -65.816667
           ],
           "marker": {
            "color": "#FF97FF",
            "size": [
             0
            ],
            "sizemode": "area",
            "sizeref": 0.051111111111111114
           },
           "name": "9-Cote-Nord",
           "showlegend": true,
           "type": "scattergeo"
          },
          {
           "geo": "geo",
           "hoverlabel": {
            "namelength": 0
           },
           "hovertemplate": "Region=10-Nord-du-Quebec<br>Date of Infection=21st<br>Total Number of Cases=%{marker.size}<br>Lat=%{lat}<br>Long=%{lon}",
           "lat": [
            56.166667
           ],
           "legendgroup": "10-Nord-du-Quebec",
           "lon": [
            -74.416667
           ],
           "marker": {
            "color": "#FECB52",
            "size": [
             1
            ],
            "sizemode": "area",
            "sizeref": 0.051111111111111114
           },
           "name": "10-Nord-du-Quebec",
           "showlegend": true,
           "type": "scattergeo"
          },
          {
           "geo": "geo",
           "hoverlabel": {
            "namelength": 0
           },
           "hovertemplate": "Region=11- Gaspesie-Iles-de-la-Madelaine<br>Date of Infection=21st<br>Total Number of Cases=%{marker.size}<br>Lat=%{lat}<br>Long=%{lon}",
           "lat": [
            48.683333
           ],
           "legendgroup": "11- Gaspesie-Iles-de-la-Madelaine",
           "lon": [
            -65.4
           ],
           "marker": {
            "color": "#636efa",
            "size": [
             0
            ],
            "sizemode": "area",
            "sizeref": 0.051111111111111114
           },
           "name": "11- Gaspesie-Iles-de-la-Madelaine",
           "showlegend": true,
           "type": "scattergeo"
          },
          {
           "geo": "geo",
           "hoverlabel": {
            "namelength": 0
           },
           "hovertemplate": "Region=12-Chaudiere-Appalaches<br>Date of Infection=21st<br>Total Number of Cases=%{marker.size}<br>Lat=%{lat}<br>Long=%{lon}",
           "lat": [
            46.483333
           ],
           "legendgroup": "12-Chaudiere-Appalaches",
           "lon": [
            -70.616667
           ],
           "marker": {
            "color": "#EF553B",
            "size": [
             13
            ],
            "sizemode": "area",
            "sizeref": 0.051111111111111114
           },
           "name": "12-Chaudiere-Appalaches",
           "showlegend": true,
           "type": "scattergeo"
          },
          {
           "geo": "geo",
           "hoverlabel": {
            "namelength": 0
           },
           "hovertemplate": "Region=13- Laval<br>Date of Infection=21st<br>Total Number of Cases=%{marker.size}<br>Lat=%{lat}<br>Long=%{lon}",
           "lat": [
            45.583333
           ],
           "legendgroup": "13- Laval",
           "lon": [
            -73.75
           ],
           "marker": {
            "color": "#00cc96",
            "size": [
             3
            ],
            "sizemode": "area",
            "sizeref": 0.051111111111111114
           },
           "name": "13- Laval",
           "showlegend": true,
           "type": "scattergeo"
          },
          {
           "geo": "geo",
           "hoverlabel": {
            "namelength": 0
           },
           "hovertemplate": "Region=14- Lanaudiere<br>Date of Infection=21st<br>Total Number of Cases=%{marker.size}<br>Lat=%{lat}<br>Long=%{lon}",
           "lat": [
            46.766667
           ],
           "legendgroup": "14- Lanaudiere",
           "lon": [
            -73.833333
           ],
           "marker": {
            "color": "#ab63fa",
            "size": [
             9
            ],
            "sizemode": "area",
            "sizeref": 0.051111111111111114
           },
           "name": "14- Lanaudiere",
           "showlegend": true,
           "type": "scattergeo"
          },
          {
           "geo": "geo",
           "hoverlabel": {
            "namelength": 0
           },
           "hovertemplate": "Region=15- Laurentides<br>Date of Infection=21st<br>Total Number of Cases=%{marker.size}<br>Lat=%{lat}<br>Long=%{lon}",
           "lat": [
            46.433333
           ],
           "legendgroup": "15- Laurentides",
           "lon": [
            -74.983333
           ],
           "marker": {
            "color": "#FFA15A",
            "size": [
             14
            ],
            "sizemode": "area",
            "sizeref": 0.051111111111111114
           },
           "name": "15- Laurentides",
           "showlegend": true,
           "type": "scattergeo"
          },
          {
           "geo": "geo",
           "hoverlabel": {
            "namelength": 0
           },
           "hovertemplate": "Region=16- Monteregie<br>Date of Infection=21st<br>Total Number of Cases=%{marker.size}<br>Lat=%{lat}<br>Long=%{lon}",
           "lat": [
            45.383333
           ],
           "legendgroup": "16- Monteregie",
           "lon": [
            -73.1
           ],
           "marker": {
            "color": "#19d3f3",
            "size": [
             26
            ],
            "sizemode": "area",
            "sizeref": 0.051111111111111114
           },
           "name": "16- Monteregie",
           "showlegend": true,
           "type": "scattergeo"
          },
          {
           "geo": "geo",
           "hoverlabel": {
            "namelength": 0
           },
           "hovertemplate": "Region=17- Centre du Quebec<br>Date of Infection=21st<br>Total Number of Cases=%{marker.size}<br>Lat=%{lat}<br>Long=%{lon}",
           "lat": [
            46.283333
           ],
           "legendgroup": "17- Centre du Quebec",
           "lon": [
            -72.066667
           ],
           "marker": {
            "color": "#FF6692",
            "size": [
             0
            ],
            "sizemode": "area",
            "sizeref": 0.051111111111111114
           },
           "name": "17- Centre du Quebec",
           "showlegend": true,
           "type": "scattergeo"
          },
          {
           "geo": "geo",
           "hoverlabel": {
            "namelength": 0
           },
           "hovertemplate": "Region=Undetermined<br>Date of Infection=21st<br>Total Number of Cases=%{marker.size}<br>Lat=%{lat}<br>Long=%{lon}",
           "lat": [
            "na"
           ],
           "legendgroup": "Undetermined",
           "lon": [
            "na"
           ],
           "marker": {
            "color": "#B6E880",
            "size": [
             22
            ],
            "sizemode": "area",
            "sizeref": 0.051111111111111114
           },
           "name": "Undetermined",
           "showlegend": true,
           "type": "scattergeo"
          },
          {
           "geo": "geo",
           "hoverlabel": {
            "namelength": 0
           },
           "hovertemplate": "Region=Hors Quebec<br>Date of Infection=21st<br>Total Number of Cases=%{marker.size}<br>Lat=%{lat}<br>Long=%{lon}",
           "lat": [
            "na"
           ],
           "legendgroup": "Hors Quebec",
           "lon": [
            "na"
           ],
           "marker": {
            "color": "#FF97FF",
            "size": [
             2
            ],
            "sizemode": "area",
            "sizeref": 0.051111111111111114
           },
           "name": "Hors Quebec",
           "showlegend": true,
           "type": "scattergeo"
          }
         ],
         "name": "21st"
        },
        {
         "data": [
          {
           "geo": "geo",
           "hoverlabel": {
            "namelength": 0
           },
           "hovertemplate": "Region=01-Bas-Saint-Laurent<br>Date of Infection=22nd<br>Total Number of Cases=%{marker.size}<br>Lat=%{lat}<br>Long=%{lon}",
           "lat": [
            48.333333
           ],
           "legendgroup": "01-Bas-Saint-Laurent",
           "lon": [
            -68.666667
           ],
           "marker": {
            "color": "#636efa",
            "size": [
             1
            ],
            "sizemode": "area",
            "sizeref": 0.051111111111111114
           },
           "name": "01-Bas-Saint-Laurent",
           "showlegend": true,
           "type": "scattergeo"
          },
          {
           "geo": "geo",
           "hoverlabel": {
            "namelength": 0
           },
           "hovertemplate": "Region=02- Saguenay-Lac-Saint-Jean<br>Date of Infection=22nd<br>Total Number of Cases=%{marker.size}<br>Lat=%{lat}<br>Long=%{lon}",
           "lat": [
            49.8667
           ],
           "legendgroup": "02- Saguenay-Lac-Saint-Jean",
           "lon": [
            -71.75
           ],
           "marker": {
            "color": "#EF553B",
            "size": [
             1
            ],
            "sizemode": "area",
            "sizeref": 0.051111111111111114
           },
           "name": "02- Saguenay-Lac-Saint-Jean",
           "showlegend": true,
           "type": "scattergeo"
          },
          {
           "geo": "geo",
           "hoverlabel": {
            "namelength": 0
           },
           "hovertemplate": "Region=03- Capitale-Nationale<br>Date of Infection=22nd<br>Total Number of Cases=%{marker.size}<br>Lat=%{lat}<br>Long=%{lon}",
           "lat": [
            47.333333
           ],
           "legendgroup": "03- Capitale-Nationale",
           "lon": [
            -71.5
           ],
           "marker": {
            "color": "#00cc96",
            "size": [
             13
            ],
            "sizemode": "area",
            "sizeref": 0.051111111111111114
           },
           "name": "03- Capitale-Nationale",
           "showlegend": true,
           "type": "scattergeo"
          },
          {
           "geo": "geo",
           "hoverlabel": {
            "namelength": 0
           },
           "hovertemplate": "Region=04-Mauricie<br>Date of Infection=22nd<br>Total Number of Cases=%{marker.size}<br>Lat=%{lat}<br>Long=%{lon}",
           "lat": [
            47
           ],
           "legendgroup": "04-Mauricie",
           "lon": [
            -73
           ],
           "marker": {
            "color": "#ab63fa",
            "size": [
             7
            ],
            "sizemode": "area",
            "sizeref": 0.051111111111111114
           },
           "name": "04-Mauricie",
           "showlegend": true,
           "type": "scattergeo"
          },
          {
           "geo": "geo",
           "hoverlabel": {
            "namelength": 0
           },
           "hovertemplate": "Region=05-Estrie<br>Date of Infection=22nd<br>Total Number of Cases=%{marker.size}<br>Lat=%{lat}<br>Long=%{lon}",
           "lat": [
            45.481556
           ],
           "legendgroup": "05-Estrie",
           "lon": [
            -71.667917
           ],
           "marker": {
            "color": "#FFA15A",
            "size": [
             30
            ],
            "sizemode": "area",
            "sizeref": 0.051111111111111114
           },
           "name": "05-Estrie",
           "showlegend": true,
           "type": "scattergeo"
          },
          {
           "geo": "geo",
           "hoverlabel": {
            "namelength": 0
           },
           "hovertemplate": "Region=06-Montreal<br>Date of Infection=22nd<br>Total Number of Cases=%{marker.size}<br>Lat=%{lat}<br>Long=%{lon}",
           "lat": [
            45.5
           ],
           "legendgroup": "06-Montreal",
           "lon": [
            -73.566667
           ],
           "marker": {
            "color": "#19d3f3",
            "size": [
             46
            ],
            "sizemode": "area",
            "sizeref": 0.051111111111111114
           },
           "name": "06-Montreal",
           "showlegend": true,
           "type": "scattergeo"
          },
          {
           "geo": "geo",
           "hoverlabel": {
            "namelength": 0
           },
           "hovertemplate": "Region=07-Outauais<br>Date of Infection=22nd<br>Total Number of Cases=%{marker.size}<br>Lat=%{lat}<br>Long=%{lon}",
           "lat": [
            45.783333
           ],
           "legendgroup": "07-Outauais",
           "lon": [
            -75.083333
           ],
           "marker": {
            "color": "#FF6692",
            "size": [
             5
            ],
            "sizemode": "area",
            "sizeref": 0.051111111111111114
           },
           "name": "07-Outauais",
           "showlegend": true,
           "type": "scattergeo"
          },
          {
           "geo": "geo",
           "hoverlabel": {
            "namelength": 0
           },
           "hovertemplate": "Region=08-Abititi-Temiscaminigue<br>Date of Infection=22nd<br>Total Number of Cases=%{marker.size}<br>Lat=%{lat}<br>Long=%{lon}",
           "lat": [
            48.233333
           ],
           "legendgroup": "08-Abititi-Temiscaminigue",
           "lon": [
            -79.016667
           ],
           "marker": {
            "color": "#B6E880",
            "size": [
             0
            ],
            "sizemode": "area",
            "sizeref": 0.051111111111111114
           },
           "name": "08-Abititi-Temiscaminigue",
           "showlegend": true,
           "type": "scattergeo"
          },
          {
           "geo": "geo",
           "hoverlabel": {
            "namelength": 0
           },
           "hovertemplate": "Region=9-Cote-Nord<br>Date of Infection=22nd<br>Total Number of Cases=%{marker.size}<br>Lat=%{lat}<br>Long=%{lon}",
           "lat": [
            50.866667
           ],
           "legendgroup": "9-Cote-Nord",
           "lon": [
            -65.816667
           ],
           "marker": {
            "color": "#FF97FF",
            "size": [
             0
            ],
            "sizemode": "area",
            "sizeref": 0.051111111111111114
           },
           "name": "9-Cote-Nord",
           "showlegend": true,
           "type": "scattergeo"
          },
          {
           "geo": "geo",
           "hoverlabel": {
            "namelength": 0
           },
           "hovertemplate": "Region=10-Nord-du-Quebec<br>Date of Infection=22nd<br>Total Number of Cases=%{marker.size}<br>Lat=%{lat}<br>Long=%{lon}",
           "lat": [
            56.166667
           ],
           "legendgroup": "10-Nord-du-Quebec",
           "lon": [
            -74.416667
           ],
           "marker": {
            "color": "#FECB52",
            "size": [
             1
            ],
            "sizemode": "area",
            "sizeref": 0.051111111111111114
           },
           "name": "10-Nord-du-Quebec",
           "showlegend": true,
           "type": "scattergeo"
          },
          {
           "geo": "geo",
           "hoverlabel": {
            "namelength": 0
           },
           "hovertemplate": "Region=11- Gaspesie-Iles-de-la-Madelaine<br>Date of Infection=22nd<br>Total Number of Cases=%{marker.size}<br>Lat=%{lat}<br>Long=%{lon}",
           "lat": [
            48.683333
           ],
           "legendgroup": "11- Gaspesie-Iles-de-la-Madelaine",
           "lon": [
            -65.4
           ],
           "marker": {
            "color": "#636efa",
            "size": [
             0
            ],
            "sizemode": "area",
            "sizeref": 0.051111111111111114
           },
           "name": "11- Gaspesie-Iles-de-la-Madelaine",
           "showlegend": true,
           "type": "scattergeo"
          },
          {
           "geo": "geo",
           "hoverlabel": {
            "namelength": 0
           },
           "hovertemplate": "Region=12-Chaudiere-Appalaches<br>Date of Infection=22nd<br>Total Number of Cases=%{marker.size}<br>Lat=%{lat}<br>Long=%{lon}",
           "lat": [
            46.483333
           ],
           "legendgroup": "12-Chaudiere-Appalaches",
           "lon": [
            -70.616667
           ],
           "marker": {
            "color": "#EF553B",
            "size": [
             13
            ],
            "sizemode": "area",
            "sizeref": 0.051111111111111114
           },
           "name": "12-Chaudiere-Appalaches",
           "showlegend": true,
           "type": "scattergeo"
          },
          {
           "geo": "geo",
           "hoverlabel": {
            "namelength": 0
           },
           "hovertemplate": "Region=13- Laval<br>Date of Infection=22nd<br>Total Number of Cases=%{marker.size}<br>Lat=%{lat}<br>Long=%{lon}",
           "lat": [
            45.583333
           ],
           "legendgroup": "13- Laval",
           "lon": [
            -73.75
           ],
           "marker": {
            "color": "#00cc96",
            "size": [
             4
            ],
            "sizemode": "area",
            "sizeref": 0.051111111111111114
           },
           "name": "13- Laval",
           "showlegend": true,
           "type": "scattergeo"
          },
          {
           "geo": "geo",
           "hoverlabel": {
            "namelength": 0
           },
           "hovertemplate": "Region=14- Lanaudiere<br>Date of Infection=22nd<br>Total Number of Cases=%{marker.size}<br>Lat=%{lat}<br>Long=%{lon}",
           "lat": [
            46.766667
           ],
           "legendgroup": "14- Lanaudiere",
           "lon": [
            -73.833333
           ],
           "marker": {
            "color": "#ab63fa",
            "size": [
             15
            ],
            "sizemode": "area",
            "sizeref": 0.051111111111111114
           },
           "name": "14- Lanaudiere",
           "showlegend": true,
           "type": "scattergeo"
          },
          {
           "geo": "geo",
           "hoverlabel": {
            "namelength": 0
           },
           "hovertemplate": "Region=15- Laurentides<br>Date of Infection=22nd<br>Total Number of Cases=%{marker.size}<br>Lat=%{lat}<br>Long=%{lon}",
           "lat": [
            46.433333
           ],
           "legendgroup": "15- Laurentides",
           "lon": [
            -74.983333
           ],
           "marker": {
            "color": "#FFA15A",
            "size": [
             17
            ],
            "sizemode": "area",
            "sizeref": 0.051111111111111114
           },
           "name": "15- Laurentides",
           "showlegend": true,
           "type": "scattergeo"
          },
          {
           "geo": "geo",
           "hoverlabel": {
            "namelength": 0
           },
           "hovertemplate": "Region=16- Monteregie<br>Date of Infection=22nd<br>Total Number of Cases=%{marker.size}<br>Lat=%{lat}<br>Long=%{lon}",
           "lat": [
            45.383333
           ],
           "legendgroup": "16- Monteregie",
           "lon": [
            -73.1
           ],
           "marker": {
            "color": "#19d3f3",
            "size": [
             40
            ],
            "sizemode": "area",
            "sizeref": 0.051111111111111114
           },
           "name": "16- Monteregie",
           "showlegend": true,
           "type": "scattergeo"
          },
          {
           "geo": "geo",
           "hoverlabel": {
            "namelength": 0
           },
           "hovertemplate": "Region=17- Centre du Quebec<br>Date of Infection=22nd<br>Total Number of Cases=%{marker.size}<br>Lat=%{lat}<br>Long=%{lon}",
           "lat": [
            46.283333
           ],
           "legendgroup": "17- Centre du Quebec",
           "lon": [
            -72.066667
           ],
           "marker": {
            "color": "#FF6692",
            "size": [
             0
            ],
            "sizemode": "area",
            "sizeref": 0.051111111111111114
           },
           "name": "17- Centre du Quebec",
           "showlegend": true,
           "type": "scattergeo"
          },
          {
           "geo": "geo",
           "hoverlabel": {
            "namelength": 0
           },
           "hovertemplate": "Region=Undetermined<br>Date of Infection=22nd<br>Total Number of Cases=%{marker.size}<br>Lat=%{lat}<br>Long=%{lon}",
           "lat": [
            "na"
           ],
           "legendgroup": "Undetermined",
           "lon": [
            "na"
           ],
           "marker": {
            "color": "#B6E880",
            "size": [
             24
            ],
            "sizemode": "area",
            "sizeref": 0.051111111111111114
           },
           "name": "Undetermined",
           "showlegend": true,
           "type": "scattergeo"
          },
          {
           "geo": "geo",
           "hoverlabel": {
            "namelength": 0
           },
           "hovertemplate": "Region=Hors Quebec<br>Date of Infection=22nd<br>Total Number of Cases=%{marker.size}<br>Lat=%{lat}<br>Long=%{lon}",
           "lat": [
            "na"
           ],
           "legendgroup": "Hors Quebec",
           "lon": [
            "na"
           ],
           "marker": {
            "color": "#FF97FF",
            "size": [
             2
            ],
            "sizemode": "area",
            "sizeref": 0.051111111111111114
           },
           "name": "Hors Quebec",
           "showlegend": true,
           "type": "scattergeo"
          }
         ],
         "name": "22nd"
        }
       ],
       "layout": {
        "geo": {
         "center": {},
         "domain": {
          "x": [
           0,
           1
          ],
          "y": [
           0,
           1
          ]
         },
         "projection": {
          "type": "natural earth"
         }
        },
        "legend": {
         "itemsizing": "constant",
         "title": {
          "text": "Region"
         },
         "tracegroupgap": 0
        },
        "margin": {
         "t": 60
        },
        "sliders": [
         {
          "active": 0,
          "currentvalue": {
           "prefix": "Date of Infection="
          },
          "len": 0.9,
          "pad": {
           "b": 10,
           "t": 60
          },
          "steps": [
           {
            "args": [
             [
              "13th"
             ],
             {
              "frame": {
               "duration": 0,
               "redraw": true
              },
              "fromcurrent": true,
              "mode": "immediate",
              "transition": {
               "duration": 0,
               "easing": "linear"
              }
             }
            ],
            "label": "13th",
            "method": "animate"
           },
           {
            "args": [
             [
              "14th"
             ],
             {
              "frame": {
               "duration": 0,
               "redraw": true
              },
              "fromcurrent": true,
              "mode": "immediate",
              "transition": {
               "duration": 0,
               "easing": "linear"
              }
             }
            ],
            "label": "14th",
            "method": "animate"
           },
           {
            "args": [
             [
              "15th"
             ],
             {
              "frame": {
               "duration": 0,
               "redraw": true
              },
              "fromcurrent": true,
              "mode": "immediate",
              "transition": {
               "duration": 0,
               "easing": "linear"
              }
             }
            ],
            "label": "15th",
            "method": "animate"
           },
           {
            "args": [
             [
              "16th"
             ],
             {
              "frame": {
               "duration": 0,
               "redraw": true
              },
              "fromcurrent": true,
              "mode": "immediate",
              "transition": {
               "duration": 0,
               "easing": "linear"
              }
             }
            ],
            "label": "16th",
            "method": "animate"
           },
           {
            "args": [
             [
              "17th"
             ],
             {
              "frame": {
               "duration": 0,
               "redraw": true
              },
              "fromcurrent": true,
              "mode": "immediate",
              "transition": {
               "duration": 0,
               "easing": "linear"
              }
             }
            ],
            "label": "17th",
            "method": "animate"
           },
           {
            "args": [
             [
              "18th"
             ],
             {
              "frame": {
               "duration": 0,
               "redraw": true
              },
              "fromcurrent": true,
              "mode": "immediate",
              "transition": {
               "duration": 0,
               "easing": "linear"
              }
             }
            ],
            "label": "18th",
            "method": "animate"
           },
           {
            "args": [
             [
              "19th"
             ],
             {
              "frame": {
               "duration": 0,
               "redraw": true
              },
              "fromcurrent": true,
              "mode": "immediate",
              "transition": {
               "duration": 0,
               "easing": "linear"
              }
             }
            ],
            "label": "19th",
            "method": "animate"
           },
           {
            "args": [
             [
              "20th"
             ],
             {
              "frame": {
               "duration": 0,
               "redraw": true
              },
              "fromcurrent": true,
              "mode": "immediate",
              "transition": {
               "duration": 0,
               "easing": "linear"
              }
             }
            ],
            "label": "20th",
            "method": "animate"
           },
           {
            "args": [
             [
              "21st"
             ],
             {
              "frame": {
               "duration": 0,
               "redraw": true
              },
              "fromcurrent": true,
              "mode": "immediate",
              "transition": {
               "duration": 0,
               "easing": "linear"
              }
             }
            ],
            "label": "21st",
            "method": "animate"
           },
           {
            "args": [
             [
              "22nd"
             ],
             {
              "frame": {
               "duration": 0,
               "redraw": true
              },
              "fromcurrent": true,
              "mode": "immediate",
              "transition": {
               "duration": 0,
               "easing": "linear"
              }
             }
            ],
            "label": "22nd",
            "method": "animate"
           }
          ],
          "x": 0.1,
          "xanchor": "left",
          "y": 0,
          "yanchor": "top"
         }
        ],
        "template": {
         "data": {
          "bar": [
           {
            "error_x": {
             "color": "#2a3f5f"
            },
            "error_y": {
             "color": "#2a3f5f"
            },
            "marker": {
             "line": {
              "color": "#E5ECF6",
              "width": 0.5
             }
            },
            "type": "bar"
           }
          ],
          "barpolar": [
           {
            "marker": {
             "line": {
              "color": "#E5ECF6",
              "width": 0.5
             }
            },
            "type": "barpolar"
           }
          ],
          "carpet": [
           {
            "aaxis": {
             "endlinecolor": "#2a3f5f",
             "gridcolor": "white",
             "linecolor": "white",
             "minorgridcolor": "white",
             "startlinecolor": "#2a3f5f"
            },
            "baxis": {
             "endlinecolor": "#2a3f5f",
             "gridcolor": "white",
             "linecolor": "white",
             "minorgridcolor": "white",
             "startlinecolor": "#2a3f5f"
            },
            "type": "carpet"
           }
          ],
          "choropleth": [
           {
            "colorbar": {
             "outlinewidth": 0,
             "ticks": ""
            },
            "type": "choropleth"
           }
          ],
          "contour": [
           {
            "colorbar": {
             "outlinewidth": 0,
             "ticks": ""
            },
            "colorscale": [
             [
              0,
              "#0d0887"
             ],
             [
              0.1111111111111111,
              "#46039f"
             ],
             [
              0.2222222222222222,
              "#7201a8"
             ],
             [
              0.3333333333333333,
              "#9c179e"
             ],
             [
              0.4444444444444444,
              "#bd3786"
             ],
             [
              0.5555555555555556,
              "#d8576b"
             ],
             [
              0.6666666666666666,
              "#ed7953"
             ],
             [
              0.7777777777777778,
              "#fb9f3a"
             ],
             [
              0.8888888888888888,
              "#fdca26"
             ],
             [
              1,
              "#f0f921"
             ]
            ],
            "type": "contour"
           }
          ],
          "contourcarpet": [
           {
            "colorbar": {
             "outlinewidth": 0,
             "ticks": ""
            },
            "type": "contourcarpet"
           }
          ],
          "heatmap": [
           {
            "colorbar": {
             "outlinewidth": 0,
             "ticks": ""
            },
            "colorscale": [
             [
              0,
              "#0d0887"
             ],
             [
              0.1111111111111111,
              "#46039f"
             ],
             [
              0.2222222222222222,
              "#7201a8"
             ],
             [
              0.3333333333333333,
              "#9c179e"
             ],
             [
              0.4444444444444444,
              "#bd3786"
             ],
             [
              0.5555555555555556,
              "#d8576b"
             ],
             [
              0.6666666666666666,
              "#ed7953"
             ],
             [
              0.7777777777777778,
              "#fb9f3a"
             ],
             [
              0.8888888888888888,
              "#fdca26"
             ],
             [
              1,
              "#f0f921"
             ]
            ],
            "type": "heatmap"
           }
          ],
          "heatmapgl": [
           {
            "colorbar": {
             "outlinewidth": 0,
             "ticks": ""
            },
            "colorscale": [
             [
              0,
              "#0d0887"
             ],
             [
              0.1111111111111111,
              "#46039f"
             ],
             [
              0.2222222222222222,
              "#7201a8"
             ],
             [
              0.3333333333333333,
              "#9c179e"
             ],
             [
              0.4444444444444444,
              "#bd3786"
             ],
             [
              0.5555555555555556,
              "#d8576b"
             ],
             [
              0.6666666666666666,
              "#ed7953"
             ],
             [
              0.7777777777777778,
              "#fb9f3a"
             ],
             [
              0.8888888888888888,
              "#fdca26"
             ],
             [
              1,
              "#f0f921"
             ]
            ],
            "type": "heatmapgl"
           }
          ],
          "histogram": [
           {
            "marker": {
             "colorbar": {
              "outlinewidth": 0,
              "ticks": ""
             }
            },
            "type": "histogram"
           }
          ],
          "histogram2d": [
           {
            "colorbar": {
             "outlinewidth": 0,
             "ticks": ""
            },
            "colorscale": [
             [
              0,
              "#0d0887"
             ],
             [
              0.1111111111111111,
              "#46039f"
             ],
             [
              0.2222222222222222,
              "#7201a8"
             ],
             [
              0.3333333333333333,
              "#9c179e"
             ],
             [
              0.4444444444444444,
              "#bd3786"
             ],
             [
              0.5555555555555556,
              "#d8576b"
             ],
             [
              0.6666666666666666,
              "#ed7953"
             ],
             [
              0.7777777777777778,
              "#fb9f3a"
             ],
             [
              0.8888888888888888,
              "#fdca26"
             ],
             [
              1,
              "#f0f921"
             ]
            ],
            "type": "histogram2d"
           }
          ],
          "histogram2dcontour": [
           {
            "colorbar": {
             "outlinewidth": 0,
             "ticks": ""
            },
            "colorscale": [
             [
              0,
              "#0d0887"
             ],
             [
              0.1111111111111111,
              "#46039f"
             ],
             [
              0.2222222222222222,
              "#7201a8"
             ],
             [
              0.3333333333333333,
              "#9c179e"
             ],
             [
              0.4444444444444444,
              "#bd3786"
             ],
             [
              0.5555555555555556,
              "#d8576b"
             ],
             [
              0.6666666666666666,
              "#ed7953"
             ],
             [
              0.7777777777777778,
              "#fb9f3a"
             ],
             [
              0.8888888888888888,
              "#fdca26"
             ],
             [
              1,
              "#f0f921"
             ]
            ],
            "type": "histogram2dcontour"
           }
          ],
          "mesh3d": [
           {
            "colorbar": {
             "outlinewidth": 0,
             "ticks": ""
            },
            "type": "mesh3d"
           }
          ],
          "parcoords": [
           {
            "line": {
             "colorbar": {
              "outlinewidth": 0,
              "ticks": ""
             }
            },
            "type": "parcoords"
           }
          ],
          "pie": [
           {
            "automargin": true,
            "type": "pie"
           }
          ],
          "scatter": [
           {
            "marker": {
             "colorbar": {
              "outlinewidth": 0,
              "ticks": ""
             }
            },
            "type": "scatter"
           }
          ],
          "scatter3d": [
           {
            "line": {
             "colorbar": {
              "outlinewidth": 0,
              "ticks": ""
             }
            },
            "marker": {
             "colorbar": {
              "outlinewidth": 0,
              "ticks": ""
             }
            },
            "type": "scatter3d"
           }
          ],
          "scattercarpet": [
           {
            "marker": {
             "colorbar": {
              "outlinewidth": 0,
              "ticks": ""
             }
            },
            "type": "scattercarpet"
           }
          ],
          "scattergeo": [
           {
            "marker": {
             "colorbar": {
              "outlinewidth": 0,
              "ticks": ""
             }
            },
            "type": "scattergeo"
           }
          ],
          "scattergl": [
           {
            "marker": {
             "colorbar": {
              "outlinewidth": 0,
              "ticks": ""
             }
            },
            "type": "scattergl"
           }
          ],
          "scattermapbox": [
           {
            "marker": {
             "colorbar": {
              "outlinewidth": 0,
              "ticks": ""
             }
            },
            "type": "scattermapbox"
           }
          ],
          "scatterpolar": [
           {
            "marker": {
             "colorbar": {
              "outlinewidth": 0,
              "ticks": ""
             }
            },
            "type": "scatterpolar"
           }
          ],
          "scatterpolargl": [
           {
            "marker": {
             "colorbar": {
              "outlinewidth": 0,
              "ticks": ""
             }
            },
            "type": "scatterpolargl"
           }
          ],
          "scatterternary": [
           {
            "marker": {
             "colorbar": {
              "outlinewidth": 0,
              "ticks": ""
             }
            },
            "type": "scatterternary"
           }
          ],
          "surface": [
           {
            "colorbar": {
             "outlinewidth": 0,
             "ticks": ""
            },
            "colorscale": [
             [
              0,
              "#0d0887"
             ],
             [
              0.1111111111111111,
              "#46039f"
             ],
             [
              0.2222222222222222,
              "#7201a8"
             ],
             [
              0.3333333333333333,
              "#9c179e"
             ],
             [
              0.4444444444444444,
              "#bd3786"
             ],
             [
              0.5555555555555556,
              "#d8576b"
             ],
             [
              0.6666666666666666,
              "#ed7953"
             ],
             [
              0.7777777777777778,
              "#fb9f3a"
             ],
             [
              0.8888888888888888,
              "#fdca26"
             ],
             [
              1,
              "#f0f921"
             ]
            ],
            "type": "surface"
           }
          ],
          "table": [
           {
            "cells": {
             "fill": {
              "color": "#EBF0F8"
             },
             "line": {
              "color": "white"
             }
            },
            "header": {
             "fill": {
              "color": "#C8D4E3"
             },
             "line": {
              "color": "white"
             }
            },
            "type": "table"
           }
          ]
         },
         "layout": {
          "annotationdefaults": {
           "arrowcolor": "#2a3f5f",
           "arrowhead": 0,
           "arrowwidth": 1
          },
          "coloraxis": {
           "colorbar": {
            "outlinewidth": 0,
            "ticks": ""
           }
          },
          "colorscale": {
           "diverging": [
            [
             0,
             "#8e0152"
            ],
            [
             0.1,
             "#c51b7d"
            ],
            [
             0.2,
             "#de77ae"
            ],
            [
             0.3,
             "#f1b6da"
            ],
            [
             0.4,
             "#fde0ef"
            ],
            [
             0.5,
             "#f7f7f7"
            ],
            [
             0.6,
             "#e6f5d0"
            ],
            [
             0.7,
             "#b8e186"
            ],
            [
             0.8,
             "#7fbc41"
            ],
            [
             0.9,
             "#4d9221"
            ],
            [
             1,
             "#276419"
            ]
           ],
           "sequential": [
            [
             0,
             "#0d0887"
            ],
            [
             0.1111111111111111,
             "#46039f"
            ],
            [
             0.2222222222222222,
             "#7201a8"
            ],
            [
             0.3333333333333333,
             "#9c179e"
            ],
            [
             0.4444444444444444,
             "#bd3786"
            ],
            [
             0.5555555555555556,
             "#d8576b"
            ],
            [
             0.6666666666666666,
             "#ed7953"
            ],
            [
             0.7777777777777778,
             "#fb9f3a"
            ],
            [
             0.8888888888888888,
             "#fdca26"
            ],
            [
             1,
             "#f0f921"
            ]
           ],
           "sequentialminus": [
            [
             0,
             "#0d0887"
            ],
            [
             0.1111111111111111,
             "#46039f"
            ],
            [
             0.2222222222222222,
             "#7201a8"
            ],
            [
             0.3333333333333333,
             "#9c179e"
            ],
            [
             0.4444444444444444,
             "#bd3786"
            ],
            [
             0.5555555555555556,
             "#d8576b"
            ],
            [
             0.6666666666666666,
             "#ed7953"
            ],
            [
             0.7777777777777778,
             "#fb9f3a"
            ],
            [
             0.8888888888888888,
             "#fdca26"
            ],
            [
             1,
             "#f0f921"
            ]
           ]
          },
          "colorway": [
           "#636efa",
           "#EF553B",
           "#00cc96",
           "#ab63fa",
           "#FFA15A",
           "#19d3f3",
           "#FF6692",
           "#B6E880",
           "#FF97FF",
           "#FECB52"
          ],
          "font": {
           "color": "#2a3f5f"
          },
          "geo": {
           "bgcolor": "white",
           "lakecolor": "white",
           "landcolor": "#E5ECF6",
           "showlakes": true,
           "showland": true,
           "subunitcolor": "white"
          },
          "hoverlabel": {
           "align": "left"
          },
          "hovermode": "closest",
          "mapbox": {
           "style": "light"
          },
          "paper_bgcolor": "white",
          "plot_bgcolor": "#E5ECF6",
          "polar": {
           "angularaxis": {
            "gridcolor": "white",
            "linecolor": "white",
            "ticks": ""
           },
           "bgcolor": "#E5ECF6",
           "radialaxis": {
            "gridcolor": "white",
            "linecolor": "white",
            "ticks": ""
           }
          },
          "scene": {
           "xaxis": {
            "backgroundcolor": "#E5ECF6",
            "gridcolor": "white",
            "gridwidth": 2,
            "linecolor": "white",
            "showbackground": true,
            "ticks": "",
            "zerolinecolor": "white"
           },
           "yaxis": {
            "backgroundcolor": "#E5ECF6",
            "gridcolor": "white",
            "gridwidth": 2,
            "linecolor": "white",
            "showbackground": true,
            "ticks": "",
            "zerolinecolor": "white"
           },
           "zaxis": {
            "backgroundcolor": "#E5ECF6",
            "gridcolor": "white",
            "gridwidth": 2,
            "linecolor": "white",
            "showbackground": true,
            "ticks": "",
            "zerolinecolor": "white"
           }
          },
          "shapedefaults": {
           "line": {
            "color": "#2a3f5f"
           }
          },
          "ternary": {
           "aaxis": {
            "gridcolor": "white",
            "linecolor": "white",
            "ticks": ""
           },
           "baxis": {
            "gridcolor": "white",
            "linecolor": "white",
            "ticks": ""
           },
           "bgcolor": "#E5ECF6",
           "caxis": {
            "gridcolor": "white",
            "linecolor": "white",
            "ticks": ""
           }
          },
          "title": {
           "x": 0.05
          },
          "xaxis": {
           "automargin": true,
           "gridcolor": "white",
           "linecolor": "white",
           "ticks": "",
           "title": {
            "standoff": 15
           },
           "zerolinecolor": "white",
           "zerolinewidth": 2
          },
          "yaxis": {
           "automargin": true,
           "gridcolor": "white",
           "linecolor": "white",
           "ticks": "",
           "title": {
            "standoff": 15
           },
           "zerolinecolor": "white",
           "zerolinewidth": 2
          }
         }
        },
        "updatemenus": [
         {
          "buttons": [
           {
            "args": [
             null,
             {
              "frame": {
               "duration": 500,
               "redraw": true
              },
              "fromcurrent": true,
              "mode": "immediate",
              "transition": {
               "duration": 500,
               "easing": "linear"
              }
             }
            ],
            "label": "&#9654;",
            "method": "animate"
           },
           {
            "args": [
             [
              null
             ],
             {
              "frame": {
               "duration": 0,
               "redraw": true
              },
              "fromcurrent": true,
              "mode": "immediate",
              "transition": {
               "duration": 0,
               "easing": "linear"
              }
             }
            ],
            "label": "&#9724;",
            "method": "animate"
           }
          ],
          "direction": "left",
          "pad": {
           "r": 10,
           "t": 70
          },
          "showactive": false,
          "type": "buttons",
          "x": 0.1,
          "xanchor": "right",
          "y": 0,
          "yanchor": "top"
         }
        ]
       }
      },
      "text/html": [
       "<div>\n",
       "        \n",
       "        \n",
       "            <div id=\"a01d31f1-190a-4976-a8e8-5fbc477ab417\" class=\"plotly-graph-div\" style=\"height:525px; width:100%;\"></div>\n",
       "            <script type=\"text/javascript\">\n",
       "                require([\"plotly\"], function(Plotly) {\n",
       "                    window.PLOTLYENV=window.PLOTLYENV || {};\n",
       "                    \n",
       "                if (document.getElementById(\"a01d31f1-190a-4976-a8e8-5fbc477ab417\")) {\n",
       "                    Plotly.newPlot(\n",
       "                        'a01d31f1-190a-4976-a8e8-5fbc477ab417',\n",
       "                        [{\"geo\": \"geo\", \"hoverlabel\": {\"namelength\": 0}, \"hovertemplate\": \"Region=01-Bas-Saint-Laurent<br>Date of Infection=13th<br>Total Number of Cases=%{marker.size}<br>Lat=%{lat}<br>Long=%{lon}\", \"lat\": [48.333333], \"legendgroup\": \"01-Bas-Saint-Laurent\", \"lon\": [-68.666667], \"marker\": {\"color\": \"#636efa\", \"size\": [0.0], \"sizemode\": \"area\", \"sizeref\": 0.051111111111111114}, \"name\": \"01-Bas-Saint-Laurent\", \"showlegend\": true, \"type\": \"scattergeo\"}, {\"geo\": \"geo\", \"hoverlabel\": {\"namelength\": 0}, \"hovertemplate\": \"Region=02- Saguenay-Lac-Saint-Jean<br>Date of Infection=13th<br>Total Number of Cases=%{marker.size}<br>Lat=%{lat}<br>Long=%{lon}\", \"lat\": [49.8667], \"legendgroup\": \"02- Saguenay-Lac-Saint-Jean\", \"lon\": [-71.75], \"marker\": {\"color\": \"#EF553B\", \"size\": [0.0], \"sizemode\": \"area\", \"sizeref\": 0.051111111111111114}, \"name\": \"02- Saguenay-Lac-Saint-Jean\", \"showlegend\": true, \"type\": \"scattergeo\"}, {\"geo\": \"geo\", \"hoverlabel\": {\"namelength\": 0}, \"hovertemplate\": \"Region=03- Capitale-Nationale<br>Date of Infection=13th<br>Total Number of Cases=%{marker.size}<br>Lat=%{lat}<br>Long=%{lon}\", \"lat\": [47.333333], \"legendgroup\": \"03- Capitale-Nationale\", \"lon\": [-71.5], \"marker\": {\"color\": \"#00cc96\", \"size\": [0.0], \"sizemode\": \"area\", \"sizeref\": 0.051111111111111114}, \"name\": \"03- Capitale-Nationale\", \"showlegend\": true, \"type\": \"scattergeo\"}, {\"geo\": \"geo\", \"hoverlabel\": {\"namelength\": 0}, \"hovertemplate\": \"Region=04-Mauricie<br>Date of Infection=13th<br>Total Number of Cases=%{marker.size}<br>Lat=%{lat}<br>Long=%{lon}\", \"lat\": [47.0], \"legendgroup\": \"04-Mauricie\", \"lon\": [-73.0], \"marker\": {\"color\": \"#ab63fa\", \"size\": [1.0], \"sizemode\": \"area\", \"sizeref\": 0.051111111111111114}, \"name\": \"04-Mauricie\", \"showlegend\": true, \"type\": \"scattergeo\"}, {\"geo\": \"geo\", \"hoverlabel\": {\"namelength\": 0}, \"hovertemplate\": \"Region=05-Estrie<br>Date of Infection=13th<br>Total Number of Cases=%{marker.size}<br>Lat=%{lat}<br>Long=%{lon}\", \"lat\": [45.481556], \"legendgroup\": \"05-Estrie\", \"lon\": [-71.667917], \"marker\": {\"color\": \"#FFA15A\", \"size\": [2.0], \"sizemode\": \"area\", \"sizeref\": 0.051111111111111114}, \"name\": \"05-Estrie\", \"showlegend\": true, \"type\": \"scattergeo\"}, {\"geo\": \"geo\", \"hoverlabel\": {\"namelength\": 0}, \"hovertemplate\": \"Region=06-Montreal<br>Date of Infection=13th<br>Total Number of Cases=%{marker.size}<br>Lat=%{lat}<br>Long=%{lon}\", \"lat\": [45.5], \"legendgroup\": \"06-Montreal\", \"lon\": [-73.566667], \"marker\": {\"color\": \"#19d3f3\", \"size\": [7.0], \"sizemode\": \"area\", \"sizeref\": 0.051111111111111114}, \"name\": \"06-Montreal\", \"showlegend\": true, \"type\": \"scattergeo\"}, {\"geo\": \"geo\", \"hoverlabel\": {\"namelength\": 0}, \"hovertemplate\": \"Region=07-Outauais<br>Date of Infection=13th<br>Total Number of Cases=%{marker.size}<br>Lat=%{lat}<br>Long=%{lon}\", \"lat\": [45.783333], \"legendgroup\": \"07-Outauais\", \"lon\": [-75.083333], \"marker\": {\"color\": \"#FF6692\", \"size\": [0.0], \"sizemode\": \"area\", \"sizeref\": 0.051111111111111114}, \"name\": \"07-Outauais\", \"showlegend\": true, \"type\": \"scattergeo\"}, {\"geo\": \"geo\", \"hoverlabel\": {\"namelength\": 0}, \"hovertemplate\": \"Region=08-Abititi-Temiscaminigue<br>Date of Infection=13th<br>Total Number of Cases=%{marker.size}<br>Lat=%{lat}<br>Long=%{lon}\", \"lat\": [48.233333], \"legendgroup\": \"08-Abititi-Temiscaminigue\", \"lon\": [-79.016667], \"marker\": {\"color\": \"#B6E880\", \"size\": [0.0], \"sizemode\": \"area\", \"sizeref\": 0.051111111111111114}, \"name\": \"08-Abititi-Temiscaminigue\", \"showlegend\": true, \"type\": \"scattergeo\"}, {\"geo\": \"geo\", \"hoverlabel\": {\"namelength\": 0}, \"hovertemplate\": \"Region=9-Cote-Nord<br>Date of Infection=13th<br>Total Number of Cases=%{marker.size}<br>Lat=%{lat}<br>Long=%{lon}\", \"lat\": [50.866667], \"legendgroup\": \"9-Cote-Nord\", \"lon\": [-65.816667], \"marker\": {\"color\": \"#FF97FF\", \"size\": [0.0], \"sizemode\": \"area\", \"sizeref\": 0.051111111111111114}, \"name\": \"9-Cote-Nord\", \"showlegend\": true, \"type\": \"scattergeo\"}, {\"geo\": \"geo\", \"hoverlabel\": {\"namelength\": 0}, \"hovertemplate\": \"Region=10-Nord-du-Quebec<br>Date of Infection=13th<br>Total Number of Cases=%{marker.size}<br>Lat=%{lat}<br>Long=%{lon}\", \"lat\": [56.166667], \"legendgroup\": \"10-Nord-du-Quebec\", \"lon\": [-74.416667], \"marker\": {\"color\": \"#FECB52\", \"size\": [0.0], \"sizemode\": \"area\", \"sizeref\": 0.051111111111111114}, \"name\": \"10-Nord-du-Quebec\", \"showlegend\": true, \"type\": \"scattergeo\"}, {\"geo\": \"geo\", \"hoverlabel\": {\"namelength\": 0}, \"hovertemplate\": \"Region=11- Gaspesie-Iles-de-la-Madelaine<br>Date of Infection=13th<br>Total Number of Cases=%{marker.size}<br>Lat=%{lat}<br>Long=%{lon}\", \"lat\": [48.683333], \"legendgroup\": \"11- Gaspesie-Iles-de-la-Madelaine\", \"lon\": [-65.4], \"marker\": {\"color\": \"#636efa\", \"size\": [0.0], \"sizemode\": \"area\", \"sizeref\": 0.051111111111111114}, \"name\": \"11- Gaspesie-Iles-de-la-Madelaine\", \"showlegend\": true, \"type\": \"scattergeo\"}, {\"geo\": \"geo\", \"hoverlabel\": {\"namelength\": 0}, \"hovertemplate\": \"Region=12-Chaudiere-Appalaches<br>Date of Infection=13th<br>Total Number of Cases=%{marker.size}<br>Lat=%{lat}<br>Long=%{lon}\", \"lat\": [46.483333], \"legendgroup\": \"12-Chaudiere-Appalaches\", \"lon\": [-70.616667], \"marker\": {\"color\": \"#EF553B\", \"size\": [1.0], \"sizemode\": \"area\", \"sizeref\": 0.051111111111111114}, \"name\": \"12-Chaudiere-Appalaches\", \"showlegend\": true, \"type\": \"scattergeo\"}, {\"geo\": \"geo\", \"hoverlabel\": {\"namelength\": 0}, \"hovertemplate\": \"Region=13- Laval<br>Date of Infection=13th<br>Total Number of Cases=%{marker.size}<br>Lat=%{lat}<br>Long=%{lon}\", \"lat\": [45.583333], \"legendgroup\": \"13- Laval\", \"lon\": [-73.75], \"marker\": {\"color\": \"#00cc96\", \"size\": [0.0], \"sizemode\": \"area\", \"sizeref\": 0.051111111111111114}, \"name\": \"13- Laval\", \"showlegend\": true, \"type\": \"scattergeo\"}, {\"geo\": \"geo\", \"hoverlabel\": {\"namelength\": 0}, \"hovertemplate\": \"Region=14- Lanaudiere<br>Date of Infection=13th<br>Total Number of Cases=%{marker.size}<br>Lat=%{lat}<br>Long=%{lon}\", \"lat\": [46.766667], \"legendgroup\": \"14- Lanaudiere\", \"lon\": [-73.833333], \"marker\": {\"color\": \"#ab63fa\", \"size\": [0.0], \"sizemode\": \"area\", \"sizeref\": 0.051111111111111114}, \"name\": \"14- Lanaudiere\", \"showlegend\": true, \"type\": \"scattergeo\"}, {\"geo\": \"geo\", \"hoverlabel\": {\"namelength\": 0}, \"hovertemplate\": \"Region=15- Laurentides<br>Date of Infection=13th<br>Total Number of Cases=%{marker.size}<br>Lat=%{lat}<br>Long=%{lon}\", \"lat\": [46.433333], \"legendgroup\": \"15- Laurentides\", \"lon\": [-74.983333], \"marker\": {\"color\": \"#FFA15A\", \"size\": [2.0], \"sizemode\": \"area\", \"sizeref\": 0.051111111111111114}, \"name\": \"15- Laurentides\", \"showlegend\": true, \"type\": \"scattergeo\"}, {\"geo\": \"geo\", \"hoverlabel\": {\"namelength\": 0}, \"hovertemplate\": \"Region=16- Monteregie<br>Date of Infection=13th<br>Total Number of Cases=%{marker.size}<br>Lat=%{lat}<br>Long=%{lon}\", \"lat\": [45.383333], \"legendgroup\": \"16- Monteregie\", \"lon\": [-73.1], \"marker\": {\"color\": \"#19d3f3\", \"size\": [4.0], \"sizemode\": \"area\", \"sizeref\": 0.051111111111111114}, \"name\": \"16- Monteregie\", \"showlegend\": true, \"type\": \"scattergeo\"}, {\"geo\": \"geo\", \"hoverlabel\": {\"namelength\": 0}, \"hovertemplate\": \"Region=17- Centre du Quebec<br>Date of Infection=13th<br>Total Number of Cases=%{marker.size}<br>Lat=%{lat}<br>Long=%{lon}\", \"lat\": [46.283333], \"legendgroup\": \"17- Centre du Quebec\", \"lon\": [-72.066667], \"marker\": {\"color\": \"#FF6692\", \"size\": [0.0], \"sizemode\": \"area\", \"sizeref\": 0.051111111111111114}, \"name\": \"17- Centre du Quebec\", \"showlegend\": true, \"type\": \"scattergeo\"}, {\"geo\": \"geo\", \"hoverlabel\": {\"namelength\": 0}, \"hovertemplate\": \"Region=Undetermined<br>Date of Infection=13th<br>Total Number of Cases=%{marker.size}<br>Lat=%{lat}<br>Long=%{lon}\", \"lat\": [\"na\"], \"legendgroup\": \"Undetermined\", \"lon\": [\"na\"], \"marker\": {\"color\": \"#B6E880\", \"size\": [0.0], \"sizemode\": \"area\", \"sizeref\": 0.051111111111111114}, \"name\": \"Undetermined\", \"showlegend\": true, \"type\": \"scattergeo\"}, {\"geo\": \"geo\", \"hoverlabel\": {\"namelength\": 0}, \"hovertemplate\": \"Region=Hors Quebec<br>Date of Infection=13th<br>Total Number of Cases=%{marker.size}<br>Lat=%{lat}<br>Long=%{lon}\", \"lat\": [\"na\"], \"legendgroup\": \"Hors Quebec\", \"lon\": [\"na\"], \"marker\": {\"color\": \"#FF97FF\", \"size\": [0.0], \"sizemode\": \"area\", \"sizeref\": 0.051111111111111114}, \"name\": \"Hors Quebec\", \"showlegend\": true, \"type\": \"scattergeo\"}],\n",
       "                        {\"geo\": {\"center\": {}, \"domain\": {\"x\": [0.0, 1.0], \"y\": [0.0, 1.0]}, \"projection\": {\"type\": \"natural earth\"}}, \"legend\": {\"itemsizing\": \"constant\", \"title\": {\"text\": \"Region\"}, \"tracegroupgap\": 0}, \"margin\": {\"t\": 60}, \"sliders\": [{\"active\": 0, \"currentvalue\": {\"prefix\": \"Date of Infection=\"}, \"len\": 0.9, \"pad\": {\"b\": 10, \"t\": 60}, \"steps\": [{\"args\": [[\"13th\"], {\"frame\": {\"duration\": 0, \"redraw\": true}, \"fromcurrent\": true, \"mode\": \"immediate\", \"transition\": {\"duration\": 0, \"easing\": \"linear\"}}], \"label\": \"13th\", \"method\": \"animate\"}, {\"args\": [[\"14th\"], {\"frame\": {\"duration\": 0, \"redraw\": true}, \"fromcurrent\": true, \"mode\": \"immediate\", \"transition\": {\"duration\": 0, \"easing\": \"linear\"}}], \"label\": \"14th\", \"method\": \"animate\"}, {\"args\": [[\"15th\"], {\"frame\": {\"duration\": 0, \"redraw\": true}, \"fromcurrent\": true, \"mode\": \"immediate\", \"transition\": {\"duration\": 0, \"easing\": \"linear\"}}], \"label\": \"15th\", \"method\": \"animate\"}, {\"args\": [[\"16th\"], {\"frame\": {\"duration\": 0, \"redraw\": true}, \"fromcurrent\": true, \"mode\": \"immediate\", \"transition\": {\"duration\": 0, \"easing\": \"linear\"}}], \"label\": \"16th\", \"method\": \"animate\"}, {\"args\": [[\"17th\"], {\"frame\": {\"duration\": 0, \"redraw\": true}, \"fromcurrent\": true, \"mode\": \"immediate\", \"transition\": {\"duration\": 0, \"easing\": \"linear\"}}], \"label\": \"17th\", \"method\": \"animate\"}, {\"args\": [[\"18th\"], {\"frame\": {\"duration\": 0, \"redraw\": true}, \"fromcurrent\": true, \"mode\": \"immediate\", \"transition\": {\"duration\": 0, \"easing\": \"linear\"}}], \"label\": \"18th\", \"method\": \"animate\"}, {\"args\": [[\"19th\"], {\"frame\": {\"duration\": 0, \"redraw\": true}, \"fromcurrent\": true, \"mode\": \"immediate\", \"transition\": {\"duration\": 0, \"easing\": \"linear\"}}], \"label\": \"19th\", \"method\": \"animate\"}, {\"args\": [[\"20th\"], {\"frame\": {\"duration\": 0, \"redraw\": true}, \"fromcurrent\": true, \"mode\": \"immediate\", \"transition\": {\"duration\": 0, \"easing\": \"linear\"}}], \"label\": \"20th\", \"method\": \"animate\"}, {\"args\": [[\"21st\"], {\"frame\": {\"duration\": 0, \"redraw\": true}, \"fromcurrent\": true, \"mode\": \"immediate\", \"transition\": {\"duration\": 0, \"easing\": \"linear\"}}], \"label\": \"21st\", \"method\": \"animate\"}, {\"args\": [[\"22nd\"], {\"frame\": {\"duration\": 0, \"redraw\": true}, \"fromcurrent\": true, \"mode\": \"immediate\", \"transition\": {\"duration\": 0, \"easing\": \"linear\"}}], \"label\": \"22nd\", \"method\": \"animate\"}], \"x\": 0.1, \"xanchor\": \"left\", \"y\": 0, \"yanchor\": \"top\"}], \"template\": {\"data\": {\"bar\": [{\"error_x\": {\"color\": \"#2a3f5f\"}, \"error_y\": {\"color\": \"#2a3f5f\"}, \"marker\": {\"line\": {\"color\": \"#E5ECF6\", \"width\": 0.5}}, \"type\": \"bar\"}], \"barpolar\": [{\"marker\": {\"line\": {\"color\": \"#E5ECF6\", \"width\": 0.5}}, \"type\": \"barpolar\"}], \"carpet\": [{\"aaxis\": {\"endlinecolor\": \"#2a3f5f\", \"gridcolor\": \"white\", \"linecolor\": \"white\", \"minorgridcolor\": \"white\", \"startlinecolor\": \"#2a3f5f\"}, \"baxis\": {\"endlinecolor\": \"#2a3f5f\", \"gridcolor\": \"white\", \"linecolor\": \"white\", \"minorgridcolor\": \"white\", \"startlinecolor\": \"#2a3f5f\"}, \"type\": \"carpet\"}], \"choropleth\": [{\"colorbar\": {\"outlinewidth\": 0, \"ticks\": \"\"}, \"type\": \"choropleth\"}], \"contour\": [{\"colorbar\": {\"outlinewidth\": 0, \"ticks\": \"\"}, \"colorscale\": [[0.0, \"#0d0887\"], [0.1111111111111111, \"#46039f\"], [0.2222222222222222, \"#7201a8\"], [0.3333333333333333, \"#9c179e\"], [0.4444444444444444, \"#bd3786\"], [0.5555555555555556, \"#d8576b\"], [0.6666666666666666, \"#ed7953\"], [0.7777777777777778, \"#fb9f3a\"], [0.8888888888888888, \"#fdca26\"], [1.0, \"#f0f921\"]], \"type\": \"contour\"}], \"contourcarpet\": [{\"colorbar\": {\"outlinewidth\": 0, \"ticks\": \"\"}, \"type\": \"contourcarpet\"}], \"heatmap\": [{\"colorbar\": {\"outlinewidth\": 0, \"ticks\": \"\"}, \"colorscale\": [[0.0, \"#0d0887\"], [0.1111111111111111, \"#46039f\"], [0.2222222222222222, \"#7201a8\"], [0.3333333333333333, \"#9c179e\"], [0.4444444444444444, \"#bd3786\"], [0.5555555555555556, \"#d8576b\"], [0.6666666666666666, \"#ed7953\"], [0.7777777777777778, \"#fb9f3a\"], [0.8888888888888888, \"#fdca26\"], [1.0, \"#f0f921\"]], \"type\": \"heatmap\"}], \"heatmapgl\": [{\"colorbar\": {\"outlinewidth\": 0, \"ticks\": \"\"}, \"colorscale\": [[0.0, \"#0d0887\"], [0.1111111111111111, \"#46039f\"], [0.2222222222222222, \"#7201a8\"], [0.3333333333333333, \"#9c179e\"], [0.4444444444444444, \"#bd3786\"], [0.5555555555555556, \"#d8576b\"], [0.6666666666666666, \"#ed7953\"], [0.7777777777777778, \"#fb9f3a\"], [0.8888888888888888, \"#fdca26\"], [1.0, \"#f0f921\"]], \"type\": \"heatmapgl\"}], \"histogram\": [{\"marker\": {\"colorbar\": {\"outlinewidth\": 0, \"ticks\": \"\"}}, \"type\": \"histogram\"}], \"histogram2d\": [{\"colorbar\": {\"outlinewidth\": 0, \"ticks\": \"\"}, \"colorscale\": [[0.0, \"#0d0887\"], [0.1111111111111111, \"#46039f\"], [0.2222222222222222, \"#7201a8\"], [0.3333333333333333, \"#9c179e\"], [0.4444444444444444, \"#bd3786\"], [0.5555555555555556, \"#d8576b\"], [0.6666666666666666, \"#ed7953\"], [0.7777777777777778, \"#fb9f3a\"], [0.8888888888888888, \"#fdca26\"], [1.0, \"#f0f921\"]], \"type\": \"histogram2d\"}], \"histogram2dcontour\": [{\"colorbar\": {\"outlinewidth\": 0, \"ticks\": \"\"}, \"colorscale\": [[0.0, \"#0d0887\"], [0.1111111111111111, \"#46039f\"], [0.2222222222222222, \"#7201a8\"], [0.3333333333333333, \"#9c179e\"], [0.4444444444444444, \"#bd3786\"], [0.5555555555555556, \"#d8576b\"], [0.6666666666666666, \"#ed7953\"], [0.7777777777777778, \"#fb9f3a\"], [0.8888888888888888, \"#fdca26\"], [1.0, \"#f0f921\"]], \"type\": \"histogram2dcontour\"}], \"mesh3d\": [{\"colorbar\": {\"outlinewidth\": 0, \"ticks\": \"\"}, \"type\": \"mesh3d\"}], \"parcoords\": [{\"line\": {\"colorbar\": {\"outlinewidth\": 0, \"ticks\": \"\"}}, \"type\": \"parcoords\"}], \"pie\": [{\"automargin\": true, \"type\": \"pie\"}], \"scatter\": [{\"marker\": {\"colorbar\": {\"outlinewidth\": 0, \"ticks\": \"\"}}, \"type\": \"scatter\"}], \"scatter3d\": [{\"line\": {\"colorbar\": {\"outlinewidth\": 0, \"ticks\": \"\"}}, \"marker\": {\"colorbar\": {\"outlinewidth\": 0, \"ticks\": \"\"}}, \"type\": \"scatter3d\"}], \"scattercarpet\": [{\"marker\": {\"colorbar\": {\"outlinewidth\": 0, \"ticks\": \"\"}}, \"type\": \"scattercarpet\"}], \"scattergeo\": [{\"marker\": {\"colorbar\": {\"outlinewidth\": 0, \"ticks\": \"\"}}, \"type\": \"scattergeo\"}], \"scattergl\": [{\"marker\": {\"colorbar\": {\"outlinewidth\": 0, \"ticks\": \"\"}}, \"type\": \"scattergl\"}], \"scattermapbox\": [{\"marker\": {\"colorbar\": {\"outlinewidth\": 0, \"ticks\": \"\"}}, \"type\": \"scattermapbox\"}], \"scatterpolar\": [{\"marker\": {\"colorbar\": {\"outlinewidth\": 0, \"ticks\": \"\"}}, \"type\": \"scatterpolar\"}], \"scatterpolargl\": [{\"marker\": {\"colorbar\": {\"outlinewidth\": 0, \"ticks\": \"\"}}, \"type\": \"scatterpolargl\"}], \"scatterternary\": [{\"marker\": {\"colorbar\": {\"outlinewidth\": 0, \"ticks\": \"\"}}, \"type\": \"scatterternary\"}], \"surface\": [{\"colorbar\": {\"outlinewidth\": 0, \"ticks\": \"\"}, \"colorscale\": [[0.0, \"#0d0887\"], [0.1111111111111111, \"#46039f\"], [0.2222222222222222, \"#7201a8\"], [0.3333333333333333, \"#9c179e\"], [0.4444444444444444, \"#bd3786\"], [0.5555555555555556, \"#d8576b\"], [0.6666666666666666, \"#ed7953\"], [0.7777777777777778, \"#fb9f3a\"], [0.8888888888888888, \"#fdca26\"], [1.0, \"#f0f921\"]], \"type\": \"surface\"}], \"table\": [{\"cells\": {\"fill\": {\"color\": \"#EBF0F8\"}, \"line\": {\"color\": \"white\"}}, \"header\": {\"fill\": {\"color\": \"#C8D4E3\"}, \"line\": {\"color\": \"white\"}}, \"type\": \"table\"}]}, \"layout\": {\"annotationdefaults\": {\"arrowcolor\": \"#2a3f5f\", \"arrowhead\": 0, \"arrowwidth\": 1}, \"coloraxis\": {\"colorbar\": {\"outlinewidth\": 0, \"ticks\": \"\"}}, \"colorscale\": {\"diverging\": [[0, \"#8e0152\"], [0.1, \"#c51b7d\"], [0.2, \"#de77ae\"], [0.3, \"#f1b6da\"], [0.4, \"#fde0ef\"], [0.5, \"#f7f7f7\"], [0.6, \"#e6f5d0\"], [0.7, \"#b8e186\"], [0.8, \"#7fbc41\"], [0.9, \"#4d9221\"], [1, \"#276419\"]], \"sequential\": [[0.0, \"#0d0887\"], [0.1111111111111111, \"#46039f\"], [0.2222222222222222, \"#7201a8\"], [0.3333333333333333, \"#9c179e\"], [0.4444444444444444, \"#bd3786\"], [0.5555555555555556, \"#d8576b\"], [0.6666666666666666, \"#ed7953\"], [0.7777777777777778, \"#fb9f3a\"], [0.8888888888888888, \"#fdca26\"], [1.0, \"#f0f921\"]], \"sequentialminus\": [[0.0, \"#0d0887\"], [0.1111111111111111, \"#46039f\"], [0.2222222222222222, \"#7201a8\"], [0.3333333333333333, \"#9c179e\"], [0.4444444444444444, \"#bd3786\"], [0.5555555555555556, \"#d8576b\"], [0.6666666666666666, \"#ed7953\"], [0.7777777777777778, \"#fb9f3a\"], [0.8888888888888888, \"#fdca26\"], [1.0, \"#f0f921\"]]}, \"colorway\": [\"#636efa\", \"#EF553B\", \"#00cc96\", \"#ab63fa\", \"#FFA15A\", \"#19d3f3\", \"#FF6692\", \"#B6E880\", \"#FF97FF\", \"#FECB52\"], \"font\": {\"color\": \"#2a3f5f\"}, \"geo\": {\"bgcolor\": \"white\", \"lakecolor\": \"white\", \"landcolor\": \"#E5ECF6\", \"showlakes\": true, \"showland\": true, \"subunitcolor\": \"white\"}, \"hoverlabel\": {\"align\": \"left\"}, \"hovermode\": \"closest\", \"mapbox\": {\"style\": \"light\"}, \"paper_bgcolor\": \"white\", \"plot_bgcolor\": \"#E5ECF6\", \"polar\": {\"angularaxis\": {\"gridcolor\": \"white\", \"linecolor\": \"white\", \"ticks\": \"\"}, \"bgcolor\": \"#E5ECF6\", \"radialaxis\": {\"gridcolor\": \"white\", \"linecolor\": \"white\", \"ticks\": \"\"}}, \"scene\": {\"xaxis\": {\"backgroundcolor\": \"#E5ECF6\", \"gridcolor\": \"white\", \"gridwidth\": 2, \"linecolor\": \"white\", \"showbackground\": true, \"ticks\": \"\", \"zerolinecolor\": \"white\"}, \"yaxis\": {\"backgroundcolor\": \"#E5ECF6\", \"gridcolor\": \"white\", \"gridwidth\": 2, \"linecolor\": \"white\", \"showbackground\": true, \"ticks\": \"\", \"zerolinecolor\": \"white\"}, \"zaxis\": {\"backgroundcolor\": \"#E5ECF6\", \"gridcolor\": \"white\", \"gridwidth\": 2, \"linecolor\": \"white\", \"showbackground\": true, \"ticks\": \"\", \"zerolinecolor\": \"white\"}}, \"shapedefaults\": {\"line\": {\"color\": \"#2a3f5f\"}}, \"ternary\": {\"aaxis\": {\"gridcolor\": \"white\", \"linecolor\": \"white\", \"ticks\": \"\"}, \"baxis\": {\"gridcolor\": \"white\", \"linecolor\": \"white\", \"ticks\": \"\"}, \"bgcolor\": \"#E5ECF6\", \"caxis\": {\"gridcolor\": \"white\", \"linecolor\": \"white\", \"ticks\": \"\"}}, \"title\": {\"x\": 0.05}, \"xaxis\": {\"automargin\": true, \"gridcolor\": \"white\", \"linecolor\": \"white\", \"ticks\": \"\", \"title\": {\"standoff\": 15}, \"zerolinecolor\": \"white\", \"zerolinewidth\": 2}, \"yaxis\": {\"automargin\": true, \"gridcolor\": \"white\", \"linecolor\": \"white\", \"ticks\": \"\", \"title\": {\"standoff\": 15}, \"zerolinecolor\": \"white\", \"zerolinewidth\": 2}}}, \"updatemenus\": [{\"buttons\": [{\"args\": [null, {\"frame\": {\"duration\": 500, \"redraw\": true}, \"fromcurrent\": true, \"mode\": \"immediate\", \"transition\": {\"duration\": 500, \"easing\": \"linear\"}}], \"label\": \"&#9654;\", \"method\": \"animate\"}, {\"args\": [[null], {\"frame\": {\"duration\": 0, \"redraw\": true}, \"fromcurrent\": true, \"mode\": \"immediate\", \"transition\": {\"duration\": 0, \"easing\": \"linear\"}}], \"label\": \"&#9724;\", \"method\": \"animate\"}], \"direction\": \"left\", \"pad\": {\"r\": 10, \"t\": 70}, \"showactive\": false, \"type\": \"buttons\", \"x\": 0.1, \"xanchor\": \"right\", \"y\": 0, \"yanchor\": \"top\"}]},\n",
       "                        {\"responsive\": true}\n",
       "                    ).then(function(){\n",
       "                            Plotly.addFrames('a01d31f1-190a-4976-a8e8-5fbc477ab417', [{\"data\": [{\"geo\": \"geo\", \"hoverlabel\": {\"namelength\": 0}, \"hovertemplate\": \"Region=01-Bas-Saint-Laurent<br>Date of Infection=13th<br>Total Number of Cases=%{marker.size}<br>Lat=%{lat}<br>Long=%{lon}\", \"lat\": [48.333333], \"legendgroup\": \"01-Bas-Saint-Laurent\", \"lon\": [-68.666667], \"marker\": {\"color\": \"#636efa\", \"size\": [0.0], \"sizemode\": \"area\", \"sizeref\": 0.051111111111111114}, \"name\": \"01-Bas-Saint-Laurent\", \"showlegend\": true, \"type\": \"scattergeo\"}, {\"geo\": \"geo\", \"hoverlabel\": {\"namelength\": 0}, \"hovertemplate\": \"Region=02- Saguenay-Lac-Saint-Jean<br>Date of Infection=13th<br>Total Number of Cases=%{marker.size}<br>Lat=%{lat}<br>Long=%{lon}\", \"lat\": [49.8667], \"legendgroup\": \"02- Saguenay-Lac-Saint-Jean\", \"lon\": [-71.75], \"marker\": {\"color\": \"#EF553B\", \"size\": [0.0], \"sizemode\": \"area\", \"sizeref\": 0.051111111111111114}, \"name\": \"02- Saguenay-Lac-Saint-Jean\", \"showlegend\": true, \"type\": \"scattergeo\"}, {\"geo\": \"geo\", \"hoverlabel\": {\"namelength\": 0}, \"hovertemplate\": \"Region=03- Capitale-Nationale<br>Date of Infection=13th<br>Total Number of Cases=%{marker.size}<br>Lat=%{lat}<br>Long=%{lon}\", \"lat\": [47.333333], \"legendgroup\": \"03- Capitale-Nationale\", \"lon\": [-71.5], \"marker\": {\"color\": \"#00cc96\", \"size\": [0.0], \"sizemode\": \"area\", \"sizeref\": 0.051111111111111114}, \"name\": \"03- Capitale-Nationale\", \"showlegend\": true, \"type\": \"scattergeo\"}, {\"geo\": \"geo\", \"hoverlabel\": {\"namelength\": 0}, \"hovertemplate\": \"Region=04-Mauricie<br>Date of Infection=13th<br>Total Number of Cases=%{marker.size}<br>Lat=%{lat}<br>Long=%{lon}\", \"lat\": [47.0], \"legendgroup\": \"04-Mauricie\", \"lon\": [-73.0], \"marker\": {\"color\": \"#ab63fa\", \"size\": [1.0], \"sizemode\": \"area\", \"sizeref\": 0.051111111111111114}, \"name\": \"04-Mauricie\", \"showlegend\": true, \"type\": \"scattergeo\"}, {\"geo\": \"geo\", \"hoverlabel\": {\"namelength\": 0}, \"hovertemplate\": \"Region=05-Estrie<br>Date of Infection=13th<br>Total Number of Cases=%{marker.size}<br>Lat=%{lat}<br>Long=%{lon}\", \"lat\": [45.481556], \"legendgroup\": \"05-Estrie\", \"lon\": [-71.667917], \"marker\": {\"color\": \"#FFA15A\", \"size\": [2.0], \"sizemode\": \"area\", \"sizeref\": 0.051111111111111114}, \"name\": \"05-Estrie\", \"showlegend\": true, \"type\": \"scattergeo\"}, {\"geo\": \"geo\", \"hoverlabel\": {\"namelength\": 0}, \"hovertemplate\": \"Region=06-Montreal<br>Date of Infection=13th<br>Total Number of Cases=%{marker.size}<br>Lat=%{lat}<br>Long=%{lon}\", \"lat\": [45.5], \"legendgroup\": \"06-Montreal\", \"lon\": [-73.566667], \"marker\": {\"color\": \"#19d3f3\", \"size\": [7.0], \"sizemode\": \"area\", \"sizeref\": 0.051111111111111114}, \"name\": \"06-Montreal\", \"showlegend\": true, \"type\": \"scattergeo\"}, {\"geo\": \"geo\", \"hoverlabel\": {\"namelength\": 0}, \"hovertemplate\": \"Region=07-Outauais<br>Date of Infection=13th<br>Total Number of Cases=%{marker.size}<br>Lat=%{lat}<br>Long=%{lon}\", \"lat\": [45.783333], \"legendgroup\": \"07-Outauais\", \"lon\": [-75.083333], \"marker\": {\"color\": \"#FF6692\", \"size\": [0.0], \"sizemode\": \"area\", \"sizeref\": 0.051111111111111114}, \"name\": \"07-Outauais\", \"showlegend\": true, \"type\": \"scattergeo\"}, {\"geo\": \"geo\", \"hoverlabel\": {\"namelength\": 0}, \"hovertemplate\": \"Region=08-Abititi-Temiscaminigue<br>Date of Infection=13th<br>Total Number of Cases=%{marker.size}<br>Lat=%{lat}<br>Long=%{lon}\", \"lat\": [48.233333], \"legendgroup\": \"08-Abititi-Temiscaminigue\", \"lon\": [-79.016667], \"marker\": {\"color\": \"#B6E880\", \"size\": [0.0], \"sizemode\": \"area\", \"sizeref\": 0.051111111111111114}, \"name\": \"08-Abititi-Temiscaminigue\", \"showlegend\": true, \"type\": \"scattergeo\"}, {\"geo\": \"geo\", \"hoverlabel\": {\"namelength\": 0}, \"hovertemplate\": \"Region=9-Cote-Nord<br>Date of Infection=13th<br>Total Number of Cases=%{marker.size}<br>Lat=%{lat}<br>Long=%{lon}\", \"lat\": [50.866667], \"legendgroup\": \"9-Cote-Nord\", \"lon\": [-65.816667], \"marker\": {\"color\": \"#FF97FF\", \"size\": [0.0], \"sizemode\": \"area\", \"sizeref\": 0.051111111111111114}, \"name\": \"9-Cote-Nord\", \"showlegend\": true, \"type\": \"scattergeo\"}, {\"geo\": \"geo\", \"hoverlabel\": {\"namelength\": 0}, \"hovertemplate\": \"Region=10-Nord-du-Quebec<br>Date of Infection=13th<br>Total Number of Cases=%{marker.size}<br>Lat=%{lat}<br>Long=%{lon}\", \"lat\": [56.166667], \"legendgroup\": \"10-Nord-du-Quebec\", \"lon\": [-74.416667], \"marker\": {\"color\": \"#FECB52\", \"size\": [0.0], \"sizemode\": \"area\", \"sizeref\": 0.051111111111111114}, \"name\": \"10-Nord-du-Quebec\", \"showlegend\": true, \"type\": \"scattergeo\"}, {\"geo\": \"geo\", \"hoverlabel\": {\"namelength\": 0}, \"hovertemplate\": \"Region=11- Gaspesie-Iles-de-la-Madelaine<br>Date of Infection=13th<br>Total Number of Cases=%{marker.size}<br>Lat=%{lat}<br>Long=%{lon}\", \"lat\": [48.683333], \"legendgroup\": \"11- Gaspesie-Iles-de-la-Madelaine\", \"lon\": [-65.4], \"marker\": {\"color\": \"#636efa\", \"size\": [0.0], \"sizemode\": \"area\", \"sizeref\": 0.051111111111111114}, \"name\": \"11- Gaspesie-Iles-de-la-Madelaine\", \"showlegend\": true, \"type\": \"scattergeo\"}, {\"geo\": \"geo\", \"hoverlabel\": {\"namelength\": 0}, \"hovertemplate\": \"Region=12-Chaudiere-Appalaches<br>Date of Infection=13th<br>Total Number of Cases=%{marker.size}<br>Lat=%{lat}<br>Long=%{lon}\", \"lat\": [46.483333], \"legendgroup\": \"12-Chaudiere-Appalaches\", \"lon\": [-70.616667], \"marker\": {\"color\": \"#EF553B\", \"size\": [1.0], \"sizemode\": \"area\", \"sizeref\": 0.051111111111111114}, \"name\": \"12-Chaudiere-Appalaches\", \"showlegend\": true, \"type\": \"scattergeo\"}, {\"geo\": \"geo\", \"hoverlabel\": {\"namelength\": 0}, \"hovertemplate\": \"Region=13- Laval<br>Date of Infection=13th<br>Total Number of Cases=%{marker.size}<br>Lat=%{lat}<br>Long=%{lon}\", \"lat\": [45.583333], \"legendgroup\": \"13- Laval\", \"lon\": [-73.75], \"marker\": {\"color\": \"#00cc96\", \"size\": [0.0], \"sizemode\": \"area\", \"sizeref\": 0.051111111111111114}, \"name\": \"13- Laval\", \"showlegend\": true, \"type\": \"scattergeo\"}, {\"geo\": \"geo\", \"hoverlabel\": {\"namelength\": 0}, \"hovertemplate\": \"Region=14- Lanaudiere<br>Date of Infection=13th<br>Total Number of Cases=%{marker.size}<br>Lat=%{lat}<br>Long=%{lon}\", \"lat\": [46.766667], \"legendgroup\": \"14- Lanaudiere\", \"lon\": [-73.833333], \"marker\": {\"color\": \"#ab63fa\", \"size\": [0.0], \"sizemode\": \"area\", \"sizeref\": 0.051111111111111114}, \"name\": \"14- Lanaudiere\", \"showlegend\": true, \"type\": \"scattergeo\"}, {\"geo\": \"geo\", \"hoverlabel\": {\"namelength\": 0}, \"hovertemplate\": \"Region=15- Laurentides<br>Date of Infection=13th<br>Total Number of Cases=%{marker.size}<br>Lat=%{lat}<br>Long=%{lon}\", \"lat\": [46.433333], \"legendgroup\": \"15- Laurentides\", \"lon\": [-74.983333], \"marker\": {\"color\": \"#FFA15A\", \"size\": [2.0], \"sizemode\": \"area\", \"sizeref\": 0.051111111111111114}, \"name\": \"15- Laurentides\", \"showlegend\": true, \"type\": \"scattergeo\"}, {\"geo\": \"geo\", \"hoverlabel\": {\"namelength\": 0}, \"hovertemplate\": \"Region=16- Monteregie<br>Date of Infection=13th<br>Total Number of Cases=%{marker.size}<br>Lat=%{lat}<br>Long=%{lon}\", \"lat\": [45.383333], \"legendgroup\": \"16- Monteregie\", \"lon\": [-73.1], \"marker\": {\"color\": \"#19d3f3\", \"size\": [4.0], \"sizemode\": \"area\", \"sizeref\": 0.051111111111111114}, \"name\": \"16- Monteregie\", \"showlegend\": true, \"type\": \"scattergeo\"}, {\"geo\": \"geo\", \"hoverlabel\": {\"namelength\": 0}, \"hovertemplate\": \"Region=17- Centre du Quebec<br>Date of Infection=13th<br>Total Number of Cases=%{marker.size}<br>Lat=%{lat}<br>Long=%{lon}\", \"lat\": [46.283333], \"legendgroup\": \"17- Centre du Quebec\", \"lon\": [-72.066667], \"marker\": {\"color\": \"#FF6692\", \"size\": [0.0], \"sizemode\": \"area\", \"sizeref\": 0.051111111111111114}, \"name\": \"17- Centre du Quebec\", \"showlegend\": true, \"type\": \"scattergeo\"}, {\"geo\": \"geo\", \"hoverlabel\": {\"namelength\": 0}, \"hovertemplate\": \"Region=Undetermined<br>Date of Infection=13th<br>Total Number of Cases=%{marker.size}<br>Lat=%{lat}<br>Long=%{lon}\", \"lat\": [\"na\"], \"legendgroup\": \"Undetermined\", \"lon\": [\"na\"], \"marker\": {\"color\": \"#B6E880\", \"size\": [0.0], \"sizemode\": \"area\", \"sizeref\": 0.051111111111111114}, \"name\": \"Undetermined\", \"showlegend\": true, \"type\": \"scattergeo\"}, {\"geo\": \"geo\", \"hoverlabel\": {\"namelength\": 0}, \"hovertemplate\": \"Region=Hors Quebec<br>Date of Infection=13th<br>Total Number of Cases=%{marker.size}<br>Lat=%{lat}<br>Long=%{lon}\", \"lat\": [\"na\"], \"legendgroup\": \"Hors Quebec\", \"lon\": [\"na\"], \"marker\": {\"color\": \"#FF97FF\", \"size\": [0.0], \"sizemode\": \"area\", \"sizeref\": 0.051111111111111114}, \"name\": \"Hors Quebec\", \"showlegend\": true, \"type\": \"scattergeo\"}], \"name\": \"13th\"}, {\"data\": [{\"geo\": \"geo\", \"hoverlabel\": {\"namelength\": 0}, \"hovertemplate\": \"Region=01-Bas-Saint-Laurent<br>Date of Infection=14th<br>Total Number of Cases=%{marker.size}<br>Lat=%{lat}<br>Long=%{lon}\", \"lat\": [48.333333], \"legendgroup\": \"01-Bas-Saint-Laurent\", \"lon\": [-68.666667], \"marker\": {\"color\": \"#636efa\", \"size\": [0.0], \"sizemode\": \"area\", \"sizeref\": 0.051111111111111114}, \"name\": \"01-Bas-Saint-Laurent\", \"showlegend\": true, \"type\": \"scattergeo\"}, {\"geo\": \"geo\", \"hoverlabel\": {\"namelength\": 0}, \"hovertemplate\": \"Region=02- Saguenay-Lac-Saint-Jean<br>Date of Infection=14th<br>Total Number of Cases=%{marker.size}<br>Lat=%{lat}<br>Long=%{lon}\", \"lat\": [49.8667], \"legendgroup\": \"02- Saguenay-Lac-Saint-Jean\", \"lon\": [-71.75], \"marker\": {\"color\": \"#EF553B\", \"size\": [0.0], \"sizemode\": \"area\", \"sizeref\": 0.051111111111111114}, \"name\": \"02- Saguenay-Lac-Saint-Jean\", \"showlegend\": true, \"type\": \"scattergeo\"}, {\"geo\": \"geo\", \"hoverlabel\": {\"namelength\": 0}, \"hovertemplate\": \"Region=03- Capitale-Nationale<br>Date of Infection=14th<br>Total Number of Cases=%{marker.size}<br>Lat=%{lat}<br>Long=%{lon}\", \"lat\": [47.333333], \"legendgroup\": \"03- Capitale-Nationale\", \"lon\": [-71.5], \"marker\": {\"color\": \"#00cc96\", \"size\": [0.0], \"sizemode\": \"area\", \"sizeref\": 0.051111111111111114}, \"name\": \"03- Capitale-Nationale\", \"showlegend\": true, \"type\": \"scattergeo\"}, {\"geo\": \"geo\", \"hoverlabel\": {\"namelength\": 0}, \"hovertemplate\": \"Region=04-Mauricie<br>Date of Infection=14th<br>Total Number of Cases=%{marker.size}<br>Lat=%{lat}<br>Long=%{lon}\", \"lat\": [47.0], \"legendgroup\": \"04-Mauricie\", \"lon\": [-73.0], \"marker\": {\"color\": \"#ab63fa\", \"size\": [1.0], \"sizemode\": \"area\", \"sizeref\": 0.051111111111111114}, \"name\": \"04-Mauricie\", \"showlegend\": true, \"type\": \"scattergeo\"}, {\"geo\": \"geo\", \"hoverlabel\": {\"namelength\": 0}, \"hovertemplate\": \"Region=05-Estrie<br>Date of Infection=14th<br>Total Number of Cases=%{marker.size}<br>Lat=%{lat}<br>Long=%{lon}\", \"lat\": [45.481556], \"legendgroup\": \"05-Estrie\", \"lon\": [-71.667917], \"marker\": {\"color\": \"#FFA15A\", \"size\": [3.0], \"sizemode\": \"area\", \"sizeref\": 0.051111111111111114}, \"name\": \"05-Estrie\", \"showlegend\": true, \"type\": \"scattergeo\"}, {\"geo\": \"geo\", \"hoverlabel\": {\"namelength\": 0}, \"hovertemplate\": \"Region=06-Montreal<br>Date of Infection=14th<br>Total Number of Cases=%{marker.size}<br>Lat=%{lat}<br>Long=%{lon}\", \"lat\": [45.5], \"legendgroup\": \"06-Montreal\", \"lon\": [-73.566667], \"marker\": {\"color\": \"#19d3f3\", \"size\": [8.0], \"sizemode\": \"area\", \"sizeref\": 0.051111111111111114}, \"name\": \"06-Montreal\", \"showlegend\": true, \"type\": \"scattergeo\"}, {\"geo\": \"geo\", \"hoverlabel\": {\"namelength\": 0}, \"hovertemplate\": \"Region=07-Outauais<br>Date of Infection=14th<br>Total Number of Cases=%{marker.size}<br>Lat=%{lat}<br>Long=%{lon}\", \"lat\": [45.783333], \"legendgroup\": \"07-Outauais\", \"lon\": [-75.083333], \"marker\": {\"color\": \"#FF6692\", \"size\": [0.0], \"sizemode\": \"area\", \"sizeref\": 0.051111111111111114}, \"name\": \"07-Outauais\", \"showlegend\": true, \"type\": \"scattergeo\"}, {\"geo\": \"geo\", \"hoverlabel\": {\"namelength\": 0}, \"hovertemplate\": \"Region=08-Abititi-Temiscaminigue<br>Date of Infection=14th<br>Total Number of Cases=%{marker.size}<br>Lat=%{lat}<br>Long=%{lon}\", \"lat\": [48.233333], \"legendgroup\": \"08-Abititi-Temiscaminigue\", \"lon\": [-79.016667], \"marker\": {\"color\": \"#B6E880\", \"size\": [0.0], \"sizemode\": \"area\", \"sizeref\": 0.051111111111111114}, \"name\": \"08-Abititi-Temiscaminigue\", \"showlegend\": true, \"type\": \"scattergeo\"}, {\"geo\": \"geo\", \"hoverlabel\": {\"namelength\": 0}, \"hovertemplate\": \"Region=9-Cote-Nord<br>Date of Infection=14th<br>Total Number of Cases=%{marker.size}<br>Lat=%{lat}<br>Long=%{lon}\", \"lat\": [50.866667], \"legendgroup\": \"9-Cote-Nord\", \"lon\": [-65.816667], \"marker\": {\"color\": \"#FF97FF\", \"size\": [0.0], \"sizemode\": \"area\", \"sizeref\": 0.051111111111111114}, \"name\": \"9-Cote-Nord\", \"showlegend\": true, \"type\": \"scattergeo\"}, {\"geo\": \"geo\", \"hoverlabel\": {\"namelength\": 0}, \"hovertemplate\": \"Region=10-Nord-du-Quebec<br>Date of Infection=14th<br>Total Number of Cases=%{marker.size}<br>Lat=%{lat}<br>Long=%{lon}\", \"lat\": [56.166667], \"legendgroup\": \"10-Nord-du-Quebec\", \"lon\": [-74.416667], \"marker\": {\"color\": \"#FECB52\", \"size\": [0.0], \"sizemode\": \"area\", \"sizeref\": 0.051111111111111114}, \"name\": \"10-Nord-du-Quebec\", \"showlegend\": true, \"type\": \"scattergeo\"}, {\"geo\": \"geo\", \"hoverlabel\": {\"namelength\": 0}, \"hovertemplate\": \"Region=11- Gaspesie-Iles-de-la-Madelaine<br>Date of Infection=14th<br>Total Number of Cases=%{marker.size}<br>Lat=%{lat}<br>Long=%{lon}\", \"lat\": [48.683333], \"legendgroup\": \"11- Gaspesie-Iles-de-la-Madelaine\", \"lon\": [-65.4], \"marker\": {\"color\": \"#636efa\", \"size\": [0.0], \"sizemode\": \"area\", \"sizeref\": 0.051111111111111114}, \"name\": \"11- Gaspesie-Iles-de-la-Madelaine\", \"showlegend\": true, \"type\": \"scattergeo\"}, {\"geo\": \"geo\", \"hoverlabel\": {\"namelength\": 0}, \"hovertemplate\": \"Region=12-Chaudiere-Appalaches<br>Date of Infection=14th<br>Total Number of Cases=%{marker.size}<br>Lat=%{lat}<br>Long=%{lon}\", \"lat\": [46.483333], \"legendgroup\": \"12-Chaudiere-Appalaches\", \"lon\": [-70.616667], \"marker\": {\"color\": \"#EF553B\", \"size\": [1.0], \"sizemode\": \"area\", \"sizeref\": 0.051111111111111114}, \"name\": \"12-Chaudiere-Appalaches\", \"showlegend\": true, \"type\": \"scattergeo\"}, {\"geo\": \"geo\", \"hoverlabel\": {\"namelength\": 0}, \"hovertemplate\": \"Region=13- Laval<br>Date of Infection=14th<br>Total Number of Cases=%{marker.size}<br>Lat=%{lat}<br>Long=%{lon}\", \"lat\": [45.583333], \"legendgroup\": \"13- Laval\", \"lon\": [-73.75], \"marker\": {\"color\": \"#00cc96\", \"size\": [0.0], \"sizemode\": \"area\", \"sizeref\": 0.051111111111111114}, \"name\": \"13- Laval\", \"showlegend\": true, \"type\": \"scattergeo\"}, {\"geo\": \"geo\", \"hoverlabel\": {\"namelength\": 0}, \"hovertemplate\": \"Region=14- Lanaudiere<br>Date of Infection=14th<br>Total Number of Cases=%{marker.size}<br>Lat=%{lat}<br>Long=%{lon}\", \"lat\": [46.766667], \"legendgroup\": \"14- Lanaudiere\", \"lon\": [-73.833333], \"marker\": {\"color\": \"#ab63fa\", \"size\": [1.0], \"sizemode\": \"area\", \"sizeref\": 0.051111111111111114}, \"name\": \"14- Lanaudiere\", \"showlegend\": true, \"type\": \"scattergeo\"}, {\"geo\": \"geo\", \"hoverlabel\": {\"namelength\": 0}, \"hovertemplate\": \"Region=15- Laurentides<br>Date of Infection=14th<br>Total Number of Cases=%{marker.size}<br>Lat=%{lat}<br>Long=%{lon}\", \"lat\": [46.433333], \"legendgroup\": \"15- Laurentides\", \"lon\": [-74.983333], \"marker\": {\"color\": \"#FFA15A\", \"size\": [2.0], \"sizemode\": \"area\", \"sizeref\": 0.051111111111111114}, \"name\": \"15- Laurentides\", \"showlegend\": true, \"type\": \"scattergeo\"}, {\"geo\": \"geo\", \"hoverlabel\": {\"namelength\": 0}, \"hovertemplate\": \"Region=16- Monteregie<br>Date of Infection=14th<br>Total Number of Cases=%{marker.size}<br>Lat=%{lat}<br>Long=%{lon}\", \"lat\": [45.383333], \"legendgroup\": \"16- Monteregie\", \"lon\": [-73.1], \"marker\": {\"color\": \"#19d3f3\", \"size\": [7.0], \"sizemode\": \"area\", \"sizeref\": 0.051111111111111114}, \"name\": \"16- Monteregie\", \"showlegend\": true, \"type\": \"scattergeo\"}, {\"geo\": \"geo\", \"hoverlabel\": {\"namelength\": 0}, \"hovertemplate\": \"Region=17- Centre du Quebec<br>Date of Infection=14th<br>Total Number of Cases=%{marker.size}<br>Lat=%{lat}<br>Long=%{lon}\", \"lat\": [46.283333], \"legendgroup\": \"17- Centre du Quebec\", \"lon\": [-72.066667], \"marker\": {\"color\": \"#FF6692\", \"size\": [0.0], \"sizemode\": \"area\", \"sizeref\": 0.051111111111111114}, \"name\": \"17- Centre du Quebec\", \"showlegend\": true, \"type\": \"scattergeo\"}, {\"geo\": \"geo\", \"hoverlabel\": {\"namelength\": 0}, \"hovertemplate\": \"Region=Undetermined<br>Date of Infection=14th<br>Total Number of Cases=%{marker.size}<br>Lat=%{lat}<br>Long=%{lon}\", \"lat\": [\"na\"], \"legendgroup\": \"Undetermined\", \"lon\": [\"na\"], \"marker\": {\"color\": \"#B6E880\", \"size\": [1.0], \"sizemode\": \"area\", \"sizeref\": 0.051111111111111114}, \"name\": \"Undetermined\", \"showlegend\": true, \"type\": \"scattergeo\"}, {\"geo\": \"geo\", \"hoverlabel\": {\"namelength\": 0}, \"hovertemplate\": \"Region=Hors Quebec<br>Date of Infection=14th<br>Total Number of Cases=%{marker.size}<br>Lat=%{lat}<br>Long=%{lon}\", \"lat\": [\"na\"], \"legendgroup\": \"Hors Quebec\", \"lon\": [\"na\"], \"marker\": {\"color\": \"#FF97FF\", \"size\": [0.0], \"sizemode\": \"area\", \"sizeref\": 0.051111111111111114}, \"name\": \"Hors Quebec\", \"showlegend\": true, \"type\": \"scattergeo\"}], \"name\": \"14th\"}, {\"data\": [{\"geo\": \"geo\", \"hoverlabel\": {\"namelength\": 0}, \"hovertemplate\": \"Region=01-Bas-Saint-Laurent<br>Date of Infection=15th<br>Total Number of Cases=%{marker.size}<br>Lat=%{lat}<br>Long=%{lon}\", \"lat\": [48.333333], \"legendgroup\": \"01-Bas-Saint-Laurent\", \"lon\": [-68.666667], \"marker\": {\"color\": \"#636efa\", \"size\": [0.0], \"sizemode\": \"area\", \"sizeref\": 0.051111111111111114}, \"name\": \"01-Bas-Saint-Laurent\", \"showlegend\": true, \"type\": \"scattergeo\"}, {\"geo\": \"geo\", \"hoverlabel\": {\"namelength\": 0}, \"hovertemplate\": \"Region=02- Saguenay-Lac-Saint-Jean<br>Date of Infection=15th<br>Total Number of Cases=%{marker.size}<br>Lat=%{lat}<br>Long=%{lon}\", \"lat\": [49.8667], \"legendgroup\": \"02- Saguenay-Lac-Saint-Jean\", \"lon\": [-71.75], \"marker\": {\"color\": \"#EF553B\", \"size\": [0.0], \"sizemode\": \"area\", \"sizeref\": 0.051111111111111114}, \"name\": \"02- Saguenay-Lac-Saint-Jean\", \"showlegend\": true, \"type\": \"scattergeo\"}, {\"geo\": \"geo\", \"hoverlabel\": {\"namelength\": 0}, \"hovertemplate\": \"Region=03- Capitale-Nationale<br>Date of Infection=15th<br>Total Number of Cases=%{marker.size}<br>Lat=%{lat}<br>Long=%{lon}\", \"lat\": [47.333333], \"legendgroup\": \"03- Capitale-Nationale\", \"lon\": [-71.5], \"marker\": {\"color\": \"#00cc96\", \"size\": [2.0], \"sizemode\": \"area\", \"sizeref\": 0.051111111111111114}, \"name\": \"03- Capitale-Nationale\", \"showlegend\": true, \"type\": \"scattergeo\"}, {\"geo\": \"geo\", \"hoverlabel\": {\"namelength\": 0}, \"hovertemplate\": \"Region=04-Mauricie<br>Date of Infection=15th<br>Total Number of Cases=%{marker.size}<br>Lat=%{lat}<br>Long=%{lon}\", \"lat\": [47.0], \"legendgroup\": \"04-Mauricie\", \"lon\": [-73.0], \"marker\": {\"color\": \"#ab63fa\", \"size\": [3.0], \"sizemode\": \"area\", \"sizeref\": 0.051111111111111114}, \"name\": \"04-Mauricie\", \"showlegend\": true, \"type\": \"scattergeo\"}, {\"geo\": \"geo\", \"hoverlabel\": {\"namelength\": 0}, \"hovertemplate\": \"Region=05-Estrie<br>Date of Infection=15th<br>Total Number of Cases=%{marker.size}<br>Lat=%{lat}<br>Long=%{lon}\", \"lat\": [45.481556], \"legendgroup\": \"05-Estrie\", \"lon\": [-71.667917], \"marker\": {\"color\": \"#FFA15A\", \"size\": [4.0], \"sizemode\": \"area\", \"sizeref\": 0.051111111111111114}, \"name\": \"05-Estrie\", \"showlegend\": true, \"type\": \"scattergeo\"}, {\"geo\": \"geo\", \"hoverlabel\": {\"namelength\": 0}, \"hovertemplate\": \"Region=06-Montreal<br>Date of Infection=15th<br>Total Number of Cases=%{marker.size}<br>Lat=%{lat}<br>Long=%{lon}\", \"lat\": [45.5], \"legendgroup\": \"06-Montreal\", \"lon\": [-73.566667], \"marker\": {\"color\": \"#19d3f3\", \"size\": [10.0], \"sizemode\": \"area\", \"sizeref\": 0.051111111111111114}, \"name\": \"06-Montreal\", \"showlegend\": true, \"type\": \"scattergeo\"}, {\"geo\": \"geo\", \"hoverlabel\": {\"namelength\": 0}, \"hovertemplate\": \"Region=07-Outauais<br>Date of Infection=15th<br>Total Number of Cases=%{marker.size}<br>Lat=%{lat}<br>Long=%{lon}\", \"lat\": [45.783333], \"legendgroup\": \"07-Outauais\", \"lon\": [-75.083333], \"marker\": {\"color\": \"#FF6692\", \"size\": [0.0], \"sizemode\": \"area\", \"sizeref\": 0.051111111111111114}, \"name\": \"07-Outauais\", \"showlegend\": true, \"type\": \"scattergeo\"}, {\"geo\": \"geo\", \"hoverlabel\": {\"namelength\": 0}, \"hovertemplate\": \"Region=08-Abititi-Temiscaminigue<br>Date of Infection=15th<br>Total Number of Cases=%{marker.size}<br>Lat=%{lat}<br>Long=%{lon}\", \"lat\": [48.233333], \"legendgroup\": \"08-Abititi-Temiscaminigue\", \"lon\": [-79.016667], \"marker\": {\"color\": \"#B6E880\", \"size\": [0.0], \"sizemode\": \"area\", \"sizeref\": 0.051111111111111114}, \"name\": \"08-Abititi-Temiscaminigue\", \"showlegend\": true, \"type\": \"scattergeo\"}, {\"geo\": \"geo\", \"hoverlabel\": {\"namelength\": 0}, \"hovertemplate\": \"Region=9-Cote-Nord<br>Date of Infection=15th<br>Total Number of Cases=%{marker.size}<br>Lat=%{lat}<br>Long=%{lon}\", \"lat\": [50.866667], \"legendgroup\": \"9-Cote-Nord\", \"lon\": [-65.816667], \"marker\": {\"color\": \"#FF97FF\", \"size\": [0.0], \"sizemode\": \"area\", \"sizeref\": 0.051111111111111114}, \"name\": \"9-Cote-Nord\", \"showlegend\": true, \"type\": \"scattergeo\"}, {\"geo\": \"geo\", \"hoverlabel\": {\"namelength\": 0}, \"hovertemplate\": \"Region=10-Nord-du-Quebec<br>Date of Infection=15th<br>Total Number of Cases=%{marker.size}<br>Lat=%{lat}<br>Long=%{lon}\", \"lat\": [56.166667], \"legendgroup\": \"10-Nord-du-Quebec\", \"lon\": [-74.416667], \"marker\": {\"color\": \"#FECB52\", \"size\": [0.0], \"sizemode\": \"area\", \"sizeref\": 0.051111111111111114}, \"name\": \"10-Nord-du-Quebec\", \"showlegend\": true, \"type\": \"scattergeo\"}, {\"geo\": \"geo\", \"hoverlabel\": {\"namelength\": 0}, \"hovertemplate\": \"Region=11- Gaspesie-Iles-de-la-Madelaine<br>Date of Infection=15th<br>Total Number of Cases=%{marker.size}<br>Lat=%{lat}<br>Long=%{lon}\", \"lat\": [48.683333], \"legendgroup\": \"11- Gaspesie-Iles-de-la-Madelaine\", \"lon\": [-65.4], \"marker\": {\"color\": \"#636efa\", \"size\": [0.0], \"sizemode\": \"area\", \"sizeref\": 0.051111111111111114}, \"name\": \"11- Gaspesie-Iles-de-la-Madelaine\", \"showlegend\": true, \"type\": \"scattergeo\"}, {\"geo\": \"geo\", \"hoverlabel\": {\"namelength\": 0}, \"hovertemplate\": \"Region=12-Chaudiere-Appalaches<br>Date of Infection=15th<br>Total Number of Cases=%{marker.size}<br>Lat=%{lat}<br>Long=%{lon}\", \"lat\": [46.483333], \"legendgroup\": \"12-Chaudiere-Appalaches\", \"lon\": [-70.616667], \"marker\": {\"color\": \"#EF553B\", \"size\": [3.0], \"sizemode\": \"area\", \"sizeref\": 0.051111111111111114}, \"name\": \"12-Chaudiere-Appalaches\", \"showlegend\": true, \"type\": \"scattergeo\"}, {\"geo\": \"geo\", \"hoverlabel\": {\"namelength\": 0}, \"hovertemplate\": \"Region=13- Laval<br>Date of Infection=15th<br>Total Number of Cases=%{marker.size}<br>Lat=%{lat}<br>Long=%{lon}\", \"lat\": [45.583333], \"legendgroup\": \"13- Laval\", \"lon\": [-73.75], \"marker\": {\"color\": \"#00cc96\", \"size\": [0.0], \"sizemode\": \"area\", \"sizeref\": 0.051111111111111114}, \"name\": \"13- Laval\", \"showlegend\": true, \"type\": \"scattergeo\"}, {\"geo\": \"geo\", \"hoverlabel\": {\"namelength\": 0}, \"hovertemplate\": \"Region=14- Lanaudiere<br>Date of Infection=15th<br>Total Number of Cases=%{marker.size}<br>Lat=%{lat}<br>Long=%{lon}\", \"lat\": [46.766667], \"legendgroup\": \"14- Lanaudiere\", \"lon\": [-73.833333], \"marker\": {\"color\": \"#ab63fa\", \"size\": [2.0], \"sizemode\": \"area\", \"sizeref\": 0.051111111111111114}, \"name\": \"14- Lanaudiere\", \"showlegend\": true, \"type\": \"scattergeo\"}, {\"geo\": \"geo\", \"hoverlabel\": {\"namelength\": 0}, \"hovertemplate\": \"Region=15- Laurentides<br>Date of Infection=15th<br>Total Number of Cases=%{marker.size}<br>Lat=%{lat}<br>Long=%{lon}\", \"lat\": [46.433333], \"legendgroup\": \"15- Laurentides\", \"lon\": [-74.983333], \"marker\": {\"color\": \"#FFA15A\", \"size\": [3.0], \"sizemode\": \"area\", \"sizeref\": 0.051111111111111114}, \"name\": \"15- Laurentides\", \"showlegend\": true, \"type\": \"scattergeo\"}, {\"geo\": \"geo\", \"hoverlabel\": {\"namelength\": 0}, \"hovertemplate\": \"Region=16- Monteregie<br>Date of Infection=15th<br>Total Number of Cases=%{marker.size}<br>Lat=%{lat}<br>Long=%{lon}\", \"lat\": [45.383333], \"legendgroup\": \"16- Monteregie\", \"lon\": [-73.1], \"marker\": {\"color\": \"#19d3f3\", \"size\": [9.0], \"sizemode\": \"area\", \"sizeref\": 0.051111111111111114}, \"name\": \"16- Monteregie\", \"showlegend\": true, \"type\": \"scattergeo\"}, {\"geo\": \"geo\", \"hoverlabel\": {\"namelength\": 0}, \"hovertemplate\": \"Region=17- Centre du Quebec<br>Date of Infection=15th<br>Total Number of Cases=%{marker.size}<br>Lat=%{lat}<br>Long=%{lon}\", \"lat\": [46.283333], \"legendgroup\": \"17- Centre du Quebec\", \"lon\": [-72.066667], \"marker\": {\"color\": \"#FF6692\", \"size\": [0.0], \"sizemode\": \"area\", \"sizeref\": 0.051111111111111114}, \"name\": \"17- Centre du Quebec\", \"showlegend\": true, \"type\": \"scattergeo\"}, {\"geo\": \"geo\", \"hoverlabel\": {\"namelength\": 0}, \"hovertemplate\": \"Region=Undetermined<br>Date of Infection=15th<br>Total Number of Cases=%{marker.size}<br>Lat=%{lat}<br>Long=%{lon}\", \"lat\": [\"na\"], \"legendgroup\": \"Undetermined\", \"lon\": [\"na\"], \"marker\": {\"color\": \"#B6E880\", \"size\": [2.0], \"sizemode\": \"area\", \"sizeref\": 0.051111111111111114}, \"name\": \"Undetermined\", \"showlegend\": true, \"type\": \"scattergeo\"}, {\"geo\": \"geo\", \"hoverlabel\": {\"namelength\": 0}, \"hovertemplate\": \"Region=Hors Quebec<br>Date of Infection=15th<br>Total Number of Cases=%{marker.size}<br>Lat=%{lat}<br>Long=%{lon}\", \"lat\": [\"na\"], \"legendgroup\": \"Hors Quebec\", \"lon\": [\"na\"], \"marker\": {\"color\": \"#FF97FF\", \"size\": [1.0], \"sizemode\": \"area\", \"sizeref\": 0.051111111111111114}, \"name\": \"Hors Quebec\", \"showlegend\": true, \"type\": \"scattergeo\"}], \"name\": \"15th\"}, {\"data\": [{\"geo\": \"geo\", \"hoverlabel\": {\"namelength\": 0}, \"hovertemplate\": \"Region=01-Bas-Saint-Laurent<br>Date of Infection=16th<br>Total Number of Cases=%{marker.size}<br>Lat=%{lat}<br>Long=%{lon}\", \"lat\": [48.333333], \"legendgroup\": \"01-Bas-Saint-Laurent\", \"lon\": [-68.666667], \"marker\": {\"color\": \"#636efa\", \"size\": [0.0], \"sizemode\": \"area\", \"sizeref\": 0.051111111111111114}, \"name\": \"01-Bas-Saint-Laurent\", \"showlegend\": true, \"type\": \"scattergeo\"}, {\"geo\": \"geo\", \"hoverlabel\": {\"namelength\": 0}, \"hovertemplate\": \"Region=02- Saguenay-Lac-Saint-Jean<br>Date of Infection=16th<br>Total Number of Cases=%{marker.size}<br>Lat=%{lat}<br>Long=%{lon}\", \"lat\": [49.8667], \"legendgroup\": \"02- Saguenay-Lac-Saint-Jean\", \"lon\": [-71.75], \"marker\": {\"color\": \"#EF553B\", \"size\": [0.0], \"sizemode\": \"area\", \"sizeref\": 0.051111111111111114}, \"name\": \"02- Saguenay-Lac-Saint-Jean\", \"showlegend\": true, \"type\": \"scattergeo\"}, {\"geo\": \"geo\", \"hoverlabel\": {\"namelength\": 0}, \"hovertemplate\": \"Region=03- Capitale-Nationale<br>Date of Infection=16th<br>Total Number of Cases=%{marker.size}<br>Lat=%{lat}<br>Long=%{lon}\", \"lat\": [47.333333], \"legendgroup\": \"03- Capitale-Nationale\", \"lon\": [-71.5], \"marker\": {\"color\": \"#00cc96\", \"size\": [2.0], \"sizemode\": \"area\", \"sizeref\": 0.051111111111111114}, \"name\": \"03- Capitale-Nationale\", \"showlegend\": true, \"type\": \"scattergeo\"}, {\"geo\": \"geo\", \"hoverlabel\": {\"namelength\": 0}, \"hovertemplate\": \"Region=04-Mauricie<br>Date of Infection=16th<br>Total Number of Cases=%{marker.size}<br>Lat=%{lat}<br>Long=%{lon}\", \"lat\": [47.0], \"legendgroup\": \"04-Mauricie\", \"lon\": [-73.0], \"marker\": {\"color\": \"#ab63fa\", \"size\": [3.0], \"sizemode\": \"area\", \"sizeref\": 0.051111111111111114}, \"name\": \"04-Mauricie\", \"showlegend\": true, \"type\": \"scattergeo\"}, {\"geo\": \"geo\", \"hoverlabel\": {\"namelength\": 0}, \"hovertemplate\": \"Region=05-Estrie<br>Date of Infection=16th<br>Total Number of Cases=%{marker.size}<br>Lat=%{lat}<br>Long=%{lon}\", \"lat\": [45.481556], \"legendgroup\": \"05-Estrie\", \"lon\": [-71.667917], \"marker\": {\"color\": \"#FFA15A\", \"size\": [4.0], \"sizemode\": \"area\", \"sizeref\": 0.051111111111111114}, \"name\": \"05-Estrie\", \"showlegend\": true, \"type\": \"scattergeo\"}, {\"geo\": \"geo\", \"hoverlabel\": {\"namelength\": 0}, \"hovertemplate\": \"Region=06-Montreal<br>Date of Infection=16th<br>Total Number of Cases=%{marker.size}<br>Lat=%{lat}<br>Long=%{lon}\", \"lat\": [45.5], \"legendgroup\": \"06-Montreal\", \"lon\": [-73.566667], \"marker\": {\"color\": \"#19d3f3\", \"size\": [18.0], \"sizemode\": \"area\", \"sizeref\": 0.051111111111111114}, \"name\": \"06-Montreal\", \"showlegend\": true, \"type\": \"scattergeo\"}, {\"geo\": \"geo\", \"hoverlabel\": {\"namelength\": 0}, \"hovertemplate\": \"Region=07-Outauais<br>Date of Infection=16th<br>Total Number of Cases=%{marker.size}<br>Lat=%{lat}<br>Long=%{lon}\", \"lat\": [45.783333], \"legendgroup\": \"07-Outauais\", \"lon\": [-75.083333], \"marker\": {\"color\": \"#FF6692\", \"size\": [0.0], \"sizemode\": \"area\", \"sizeref\": 0.051111111111111114}, \"name\": \"07-Outauais\", \"showlegend\": true, \"type\": \"scattergeo\"}, {\"geo\": \"geo\", \"hoverlabel\": {\"namelength\": 0}, \"hovertemplate\": \"Region=08-Abititi-Temiscaminigue<br>Date of Infection=16th<br>Total Number of Cases=%{marker.size}<br>Lat=%{lat}<br>Long=%{lon}\", \"lat\": [48.233333], \"legendgroup\": \"08-Abititi-Temiscaminigue\", \"lon\": [-79.016667], \"marker\": {\"color\": \"#B6E880\", \"size\": [0.0], \"sizemode\": \"area\", \"sizeref\": 0.051111111111111114}, \"name\": \"08-Abititi-Temiscaminigue\", \"showlegend\": true, \"type\": \"scattergeo\"}, {\"geo\": \"geo\", \"hoverlabel\": {\"namelength\": 0}, \"hovertemplate\": \"Region=9-Cote-Nord<br>Date of Infection=16th<br>Total Number of Cases=%{marker.size}<br>Lat=%{lat}<br>Long=%{lon}\", \"lat\": [50.866667], \"legendgroup\": \"9-Cote-Nord\", \"lon\": [-65.816667], \"marker\": {\"color\": \"#FF97FF\", \"size\": [0.0], \"sizemode\": \"area\", \"sizeref\": 0.051111111111111114}, \"name\": \"9-Cote-Nord\", \"showlegend\": true, \"type\": \"scattergeo\"}, {\"geo\": \"geo\", \"hoverlabel\": {\"namelength\": 0}, \"hovertemplate\": \"Region=10-Nord-du-Quebec<br>Date of Infection=16th<br>Total Number of Cases=%{marker.size}<br>Lat=%{lat}<br>Long=%{lon}\", \"lat\": [56.166667], \"legendgroup\": \"10-Nord-du-Quebec\", \"lon\": [-74.416667], \"marker\": {\"color\": \"#FECB52\", \"size\": [0.0], \"sizemode\": \"area\", \"sizeref\": 0.051111111111111114}, \"name\": \"10-Nord-du-Quebec\", \"showlegend\": true, \"type\": \"scattergeo\"}, {\"geo\": \"geo\", \"hoverlabel\": {\"namelength\": 0}, \"hovertemplate\": \"Region=11- Gaspesie-Iles-de-la-Madelaine<br>Date of Infection=16th<br>Total Number of Cases=%{marker.size}<br>Lat=%{lat}<br>Long=%{lon}\", \"lat\": [48.683333], \"legendgroup\": \"11- Gaspesie-Iles-de-la-Madelaine\", \"lon\": [-65.4], \"marker\": {\"color\": \"#636efa\", \"size\": [0.0], \"sizemode\": \"area\", \"sizeref\": 0.051111111111111114}, \"name\": \"11- Gaspesie-Iles-de-la-Madelaine\", \"showlegend\": true, \"type\": \"scattergeo\"}, {\"geo\": \"geo\", \"hoverlabel\": {\"namelength\": 0}, \"hovertemplate\": \"Region=12-Chaudiere-Appalaches<br>Date of Infection=16th<br>Total Number of Cases=%{marker.size}<br>Lat=%{lat}<br>Long=%{lon}\", \"lat\": [46.483333], \"legendgroup\": \"12-Chaudiere-Appalaches\", \"lon\": [-70.616667], \"marker\": {\"color\": \"#EF553B\", \"size\": [4.0], \"sizemode\": \"area\", \"sizeref\": 0.051111111111111114}, \"name\": \"12-Chaudiere-Appalaches\", \"showlegend\": true, \"type\": \"scattergeo\"}, {\"geo\": \"geo\", \"hoverlabel\": {\"namelength\": 0}, \"hovertemplate\": \"Region=13- Laval<br>Date of Infection=16th<br>Total Number of Cases=%{marker.size}<br>Lat=%{lat}<br>Long=%{lon}\", \"lat\": [45.583333], \"legendgroup\": \"13- Laval\", \"lon\": [-73.75], \"marker\": {\"color\": \"#00cc96\", \"size\": [0.0], \"sizemode\": \"area\", \"sizeref\": 0.051111111111111114}, \"name\": \"13- Laval\", \"showlegend\": true, \"type\": \"scattergeo\"}, {\"geo\": \"geo\", \"hoverlabel\": {\"namelength\": 0}, \"hovertemplate\": \"Region=14- Lanaudiere<br>Date of Infection=16th<br>Total Number of Cases=%{marker.size}<br>Lat=%{lat}<br>Long=%{lon}\", \"lat\": [46.766667], \"legendgroup\": \"14- Lanaudiere\", \"lon\": [-73.833333], \"marker\": {\"color\": \"#ab63fa\", \"size\": [3.0], \"sizemode\": \"area\", \"sizeref\": 0.051111111111111114}, \"name\": \"14- Lanaudiere\", \"showlegend\": true, \"type\": \"scattergeo\"}, {\"geo\": \"geo\", \"hoverlabel\": {\"namelength\": 0}, \"hovertemplate\": \"Region=15- Laurentides<br>Date of Infection=16th<br>Total Number of Cases=%{marker.size}<br>Lat=%{lat}<br>Long=%{lon}\", \"lat\": [46.433333], \"legendgroup\": \"15- Laurentides\", \"lon\": [-74.983333], \"marker\": {\"color\": \"#FFA15A\", \"size\": [3.0], \"sizemode\": \"area\", \"sizeref\": 0.051111111111111114}, \"name\": \"15- Laurentides\", \"showlegend\": true, \"type\": \"scattergeo\"}, {\"geo\": \"geo\", \"hoverlabel\": {\"namelength\": 0}, \"hovertemplate\": \"Region=16- Monteregie<br>Date of Infection=16th<br>Total Number of Cases=%{marker.size}<br>Lat=%{lat}<br>Long=%{lon}\", \"lat\": [45.383333], \"legendgroup\": \"16- Monteregie\", \"lon\": [-73.1], \"marker\": {\"color\": \"#19d3f3\", \"size\": [10.0], \"sizemode\": \"area\", \"sizeref\": 0.051111111111111114}, \"name\": \"16- Monteregie\", \"showlegend\": true, \"type\": \"scattergeo\"}, {\"geo\": \"geo\", \"hoverlabel\": {\"namelength\": 0}, \"hovertemplate\": \"Region=17- Centre du Quebec<br>Date of Infection=16th<br>Total Number of Cases=%{marker.size}<br>Lat=%{lat}<br>Long=%{lon}\", \"lat\": [46.283333], \"legendgroup\": \"17- Centre du Quebec\", \"lon\": [-72.066667], \"marker\": {\"color\": \"#FF6692\", \"size\": [0.0], \"sizemode\": \"area\", \"sizeref\": 0.051111111111111114}, \"name\": \"17- Centre du Quebec\", \"showlegend\": true, \"type\": \"scattergeo\"}, {\"geo\": \"geo\", \"hoverlabel\": {\"namelength\": 0}, \"hovertemplate\": \"Region=Undetermined<br>Date of Infection=16th<br>Total Number of Cases=%{marker.size}<br>Lat=%{lat}<br>Long=%{lon}\", \"lat\": [\"na\"], \"legendgroup\": \"Undetermined\", \"lon\": [\"na\"], \"marker\": {\"color\": \"#B6E880\", \"size\": [3.0], \"sizemode\": \"area\", \"sizeref\": 0.051111111111111114}, \"name\": \"Undetermined\", \"showlegend\": true, \"type\": \"scattergeo\"}, {\"geo\": \"geo\", \"hoverlabel\": {\"namelength\": 0}, \"hovertemplate\": \"Region=Hors Quebec<br>Date of Infection=16th<br>Total Number of Cases=%{marker.size}<br>Lat=%{lat}<br>Long=%{lon}\", \"lat\": [\"na\"], \"legendgroup\": \"Hors Quebec\", \"lon\": [\"na\"], \"marker\": {\"color\": \"#FF97FF\", \"size\": [1.0], \"sizemode\": \"area\", \"sizeref\": 0.051111111111111114}, \"name\": \"Hors Quebec\", \"showlegend\": true, \"type\": \"scattergeo\"}], \"name\": \"16th\"}, {\"data\": [{\"geo\": \"geo\", \"hoverlabel\": {\"namelength\": 0}, \"hovertemplate\": \"Region=01-Bas-Saint-Laurent<br>Date of Infection=17th<br>Total Number of Cases=%{marker.size}<br>Lat=%{lat}<br>Long=%{lon}\", \"lat\": [48.333333], \"legendgroup\": \"01-Bas-Saint-Laurent\", \"lon\": [-68.666667], \"marker\": {\"color\": \"#636efa\", \"size\": [0.0], \"sizemode\": \"area\", \"sizeref\": 0.051111111111111114}, \"name\": \"01-Bas-Saint-Laurent\", \"showlegend\": true, \"type\": \"scattergeo\"}, {\"geo\": \"geo\", \"hoverlabel\": {\"namelength\": 0}, \"hovertemplate\": \"Region=02- Saguenay-Lac-Saint-Jean<br>Date of Infection=17th<br>Total Number of Cases=%{marker.size}<br>Lat=%{lat}<br>Long=%{lon}\", \"lat\": [49.8667], \"legendgroup\": \"02- Saguenay-Lac-Saint-Jean\", \"lon\": [-71.75], \"marker\": {\"color\": \"#EF553B\", \"size\": [0.0], \"sizemode\": \"area\", \"sizeref\": 0.051111111111111114}, \"name\": \"02- Saguenay-Lac-Saint-Jean\", \"showlegend\": true, \"type\": \"scattergeo\"}, {\"geo\": \"geo\", \"hoverlabel\": {\"namelength\": 0}, \"hovertemplate\": \"Region=03- Capitale-Nationale<br>Date of Infection=17th<br>Total Number of Cases=%{marker.size}<br>Lat=%{lat}<br>Long=%{lon}\", \"lat\": [47.333333], \"legendgroup\": \"03- Capitale-Nationale\", \"lon\": [-71.5], \"marker\": {\"color\": \"#00cc96\", \"size\": [3.0], \"sizemode\": \"area\", \"sizeref\": 0.051111111111111114}, \"name\": \"03- Capitale-Nationale\", \"showlegend\": true, \"type\": \"scattergeo\"}, {\"geo\": \"geo\", \"hoverlabel\": {\"namelength\": 0}, \"hovertemplate\": \"Region=04-Mauricie<br>Date of Infection=17th<br>Total Number of Cases=%{marker.size}<br>Lat=%{lat}<br>Long=%{lon}\", \"lat\": [47.0], \"legendgroup\": \"04-Mauricie\", \"lon\": [-73.0], \"marker\": {\"color\": \"#ab63fa\", \"size\": [3.0], \"sizemode\": \"area\", \"sizeref\": 0.051111111111111114}, \"name\": \"04-Mauricie\", \"showlegend\": true, \"type\": \"scattergeo\"}, {\"geo\": \"geo\", \"hoverlabel\": {\"namelength\": 0}, \"hovertemplate\": \"Region=05-Estrie<br>Date of Infection=17th<br>Total Number of Cases=%{marker.size}<br>Lat=%{lat}<br>Long=%{lon}\", \"lat\": [45.481556], \"legendgroup\": \"05-Estrie\", \"lon\": [-71.667917], \"marker\": {\"color\": \"#FFA15A\", \"size\": [9.0], \"sizemode\": \"area\", \"sizeref\": 0.051111111111111114}, \"name\": \"05-Estrie\", \"showlegend\": true, \"type\": \"scattergeo\"}, {\"geo\": \"geo\", \"hoverlabel\": {\"namelength\": 0}, \"hovertemplate\": \"Region=06-Montreal<br>Date of Infection=17th<br>Total Number of Cases=%{marker.size}<br>Lat=%{lat}<br>Long=%{lon}\", \"lat\": [45.5], \"legendgroup\": \"06-Montreal\", \"lon\": [-73.566667], \"marker\": {\"color\": \"#19d3f3\", \"size\": [22.0], \"sizemode\": \"area\", \"sizeref\": 0.051111111111111114}, \"name\": \"06-Montreal\", \"showlegend\": true, \"type\": \"scattergeo\"}, {\"geo\": \"geo\", \"hoverlabel\": {\"namelength\": 0}, \"hovertemplate\": \"Region=07-Outauais<br>Date of Infection=17th<br>Total Number of Cases=%{marker.size}<br>Lat=%{lat}<br>Long=%{lon}\", \"lat\": [45.783333], \"legendgroup\": \"07-Outauais\", \"lon\": [-75.083333], \"marker\": {\"color\": \"#FF6692\", \"size\": [0.0], \"sizemode\": \"area\", \"sizeref\": 0.051111111111111114}, \"name\": \"07-Outauais\", \"showlegend\": true, \"type\": \"scattergeo\"}, {\"geo\": \"geo\", \"hoverlabel\": {\"namelength\": 0}, \"hovertemplate\": \"Region=08-Abititi-Temiscaminigue<br>Date of Infection=17th<br>Total Number of Cases=%{marker.size}<br>Lat=%{lat}<br>Long=%{lon}\", \"lat\": [48.233333], \"legendgroup\": \"08-Abititi-Temiscaminigue\", \"lon\": [-79.016667], \"marker\": {\"color\": \"#B6E880\", \"size\": [0.0], \"sizemode\": \"area\", \"sizeref\": 0.051111111111111114}, \"name\": \"08-Abititi-Temiscaminigue\", \"showlegend\": true, \"type\": \"scattergeo\"}, {\"geo\": \"geo\", \"hoverlabel\": {\"namelength\": 0}, \"hovertemplate\": \"Region=9-Cote-Nord<br>Date of Infection=17th<br>Total Number of Cases=%{marker.size}<br>Lat=%{lat}<br>Long=%{lon}\", \"lat\": [50.866667], \"legendgroup\": \"9-Cote-Nord\", \"lon\": [-65.816667], \"marker\": {\"color\": \"#FF97FF\", \"size\": [0.0], \"sizemode\": \"area\", \"sizeref\": 0.051111111111111114}, \"name\": \"9-Cote-Nord\", \"showlegend\": true, \"type\": \"scattergeo\"}, {\"geo\": \"geo\", \"hoverlabel\": {\"namelength\": 0}, \"hovertemplate\": \"Region=10-Nord-du-Quebec<br>Date of Infection=17th<br>Total Number of Cases=%{marker.size}<br>Lat=%{lat}<br>Long=%{lon}\", \"lat\": [56.166667], \"legendgroup\": \"10-Nord-du-Quebec\", \"lon\": [-74.416667], \"marker\": {\"color\": \"#FECB52\", \"size\": [0.0], \"sizemode\": \"area\", \"sizeref\": 0.051111111111111114}, \"name\": \"10-Nord-du-Quebec\", \"showlegend\": true, \"type\": \"scattergeo\"}, {\"geo\": \"geo\", \"hoverlabel\": {\"namelength\": 0}, \"hovertemplate\": \"Region=11- Gaspesie-Iles-de-la-Madelaine<br>Date of Infection=17th<br>Total Number of Cases=%{marker.size}<br>Lat=%{lat}<br>Long=%{lon}\", \"lat\": [48.683333], \"legendgroup\": \"11- Gaspesie-Iles-de-la-Madelaine\", \"lon\": [-65.4], \"marker\": {\"color\": \"#636efa\", \"size\": [0.0], \"sizemode\": \"area\", \"sizeref\": 0.051111111111111114}, \"name\": \"11- Gaspesie-Iles-de-la-Madelaine\", \"showlegend\": true, \"type\": \"scattergeo\"}, {\"geo\": \"geo\", \"hoverlabel\": {\"namelength\": 0}, \"hovertemplate\": \"Region=12-Chaudiere-Appalaches<br>Date of Infection=17th<br>Total Number of Cases=%{marker.size}<br>Lat=%{lat}<br>Long=%{lon}\", \"lat\": [46.483333], \"legendgroup\": \"12-Chaudiere-Appalaches\", \"lon\": [-70.616667], \"marker\": {\"color\": \"#EF553B\", \"size\": [4.0], \"sizemode\": \"area\", \"sizeref\": 0.051111111111111114}, \"name\": \"12-Chaudiere-Appalaches\", \"showlegend\": true, \"type\": \"scattergeo\"}, {\"geo\": \"geo\", \"hoverlabel\": {\"namelength\": 0}, \"hovertemplate\": \"Region=13- Laval<br>Date of Infection=17th<br>Total Number of Cases=%{marker.size}<br>Lat=%{lat}<br>Long=%{lon}\", \"lat\": [45.583333], \"legendgroup\": \"13- Laval\", \"lon\": [-73.75], \"marker\": {\"color\": \"#00cc96\", \"size\": [0.0], \"sizemode\": \"area\", \"sizeref\": 0.051111111111111114}, \"name\": \"13- Laval\", \"showlegend\": true, \"type\": \"scattergeo\"}, {\"geo\": \"geo\", \"hoverlabel\": {\"namelength\": 0}, \"hovertemplate\": \"Region=14- Lanaudiere<br>Date of Infection=17th<br>Total Number of Cases=%{marker.size}<br>Lat=%{lat}<br>Long=%{lon}\", \"lat\": [46.766667], \"legendgroup\": \"14- Lanaudiere\", \"lon\": [-73.833333], \"marker\": {\"color\": \"#ab63fa\", \"size\": [6.0], \"sizemode\": \"area\", \"sizeref\": 0.051111111111111114}, \"name\": \"14- Lanaudiere\", \"showlegend\": true, \"type\": \"scattergeo\"}, {\"geo\": \"geo\", \"hoverlabel\": {\"namelength\": 0}, \"hovertemplate\": \"Region=15- Laurentides<br>Date of Infection=17th<br>Total Number of Cases=%{marker.size}<br>Lat=%{lat}<br>Long=%{lon}\", \"lat\": [46.433333], \"legendgroup\": \"15- Laurentides\", \"lon\": [-74.983333], \"marker\": {\"color\": \"#FFA15A\", \"size\": [7.0], \"sizemode\": \"area\", \"sizeref\": 0.051111111111111114}, \"name\": \"15- Laurentides\", \"showlegend\": true, \"type\": \"scattergeo\"}, {\"geo\": \"geo\", \"hoverlabel\": {\"namelength\": 0}, \"hovertemplate\": \"Region=16- Monteregie<br>Date of Infection=17th<br>Total Number of Cases=%{marker.size}<br>Lat=%{lat}<br>Long=%{lon}\", \"lat\": [45.383333], \"legendgroup\": \"16- Monteregie\", \"lon\": [-73.1], \"marker\": {\"color\": \"#19d3f3\", \"size\": [13.0], \"sizemode\": \"area\", \"sizeref\": 0.051111111111111114}, \"name\": \"16- Monteregie\", \"showlegend\": true, \"type\": \"scattergeo\"}, {\"geo\": \"geo\", \"hoverlabel\": {\"namelength\": 0}, \"hovertemplate\": \"Region=17- Centre du Quebec<br>Date of Infection=17th<br>Total Number of Cases=%{marker.size}<br>Lat=%{lat}<br>Long=%{lon}\", \"lat\": [46.283333], \"legendgroup\": \"17- Centre du Quebec\", \"lon\": [-72.066667], \"marker\": {\"color\": \"#FF6692\", \"size\": [0.0], \"sizemode\": \"area\", \"sizeref\": 0.051111111111111114}, \"name\": \"17- Centre du Quebec\", \"showlegend\": true, \"type\": \"scattergeo\"}, {\"geo\": \"geo\", \"hoverlabel\": {\"namelength\": 0}, \"hovertemplate\": \"Region=Undetermined<br>Date of Infection=17th<br>Total Number of Cases=%{marker.size}<br>Lat=%{lat}<br>Long=%{lon}\", \"lat\": [\"na\"], \"legendgroup\": \"Undetermined\", \"lon\": [\"na\"], \"marker\": {\"color\": \"#B6E880\", \"size\": [5.0], \"sizemode\": \"area\", \"sizeref\": 0.051111111111111114}, \"name\": \"Undetermined\", \"showlegend\": true, \"type\": \"scattergeo\"}, {\"geo\": \"geo\", \"hoverlabel\": {\"namelength\": 0}, \"hovertemplate\": \"Region=Hors Quebec<br>Date of Infection=17th<br>Total Number of Cases=%{marker.size}<br>Lat=%{lat}<br>Long=%{lon}\", \"lat\": [\"na\"], \"legendgroup\": \"Hors Quebec\", \"lon\": [\"na\"], \"marker\": {\"color\": \"#FF97FF\", \"size\": [2.0], \"sizemode\": \"area\", \"sizeref\": 0.051111111111111114}, \"name\": \"Hors Quebec\", \"showlegend\": true, \"type\": \"scattergeo\"}], \"name\": \"17th\"}, {\"data\": [{\"geo\": \"geo\", \"hoverlabel\": {\"namelength\": 0}, \"hovertemplate\": \"Region=01-Bas-Saint-Laurent<br>Date of Infection=18th<br>Total Number of Cases=%{marker.size}<br>Lat=%{lat}<br>Long=%{lon}\", \"lat\": [48.333333], \"legendgroup\": \"01-Bas-Saint-Laurent\", \"lon\": [-68.666667], \"marker\": {\"color\": \"#636efa\", \"size\": [0.0], \"sizemode\": \"area\", \"sizeref\": 0.051111111111111114}, \"name\": \"01-Bas-Saint-Laurent\", \"showlegend\": true, \"type\": \"scattergeo\"}, {\"geo\": \"geo\", \"hoverlabel\": {\"namelength\": 0}, \"hovertemplate\": \"Region=02- Saguenay-Lac-Saint-Jean<br>Date of Infection=18th<br>Total Number of Cases=%{marker.size}<br>Lat=%{lat}<br>Long=%{lon}\", \"lat\": [49.8667], \"legendgroup\": \"02- Saguenay-Lac-Saint-Jean\", \"lon\": [-71.75], \"marker\": {\"color\": \"#EF553B\", \"size\": [0.0], \"sizemode\": \"area\", \"sizeref\": 0.051111111111111114}, \"name\": \"02- Saguenay-Lac-Saint-Jean\", \"showlegend\": true, \"type\": \"scattergeo\"}, {\"geo\": \"geo\", \"hoverlabel\": {\"namelength\": 0}, \"hovertemplate\": \"Region=03- Capitale-Nationale<br>Date of Infection=18th<br>Total Number of Cases=%{marker.size}<br>Lat=%{lat}<br>Long=%{lon}\", \"lat\": [47.333333], \"legendgroup\": \"03- Capitale-Nationale\", \"lon\": [-71.5], \"marker\": {\"color\": \"#00cc96\", \"size\": [8.0], \"sizemode\": \"area\", \"sizeref\": 0.051111111111111114}, \"name\": \"03- Capitale-Nationale\", \"showlegend\": true, \"type\": \"scattergeo\"}, {\"geo\": \"geo\", \"hoverlabel\": {\"namelength\": 0}, \"hovertemplate\": \"Region=04-Mauricie<br>Date of Infection=18th<br>Total Number of Cases=%{marker.size}<br>Lat=%{lat}<br>Long=%{lon}\", \"lat\": [47.0], \"legendgroup\": \"04-Mauricie\", \"lon\": [-73.0], \"marker\": {\"color\": \"#ab63fa\", \"size\": [3.0], \"sizemode\": \"area\", \"sizeref\": 0.051111111111111114}, \"name\": \"04-Mauricie\", \"showlegend\": true, \"type\": \"scattergeo\"}, {\"geo\": \"geo\", \"hoverlabel\": {\"namelength\": 0}, \"hovertemplate\": \"Region=05-Estrie<br>Date of Infection=18th<br>Total Number of Cases=%{marker.size}<br>Lat=%{lat}<br>Long=%{lon}\", \"lat\": [45.481556], \"legendgroup\": \"05-Estrie\", \"lon\": [-71.667917], \"marker\": {\"color\": \"#FFA15A\", \"size\": [18.0], \"sizemode\": \"area\", \"sizeref\": 0.051111111111111114}, \"name\": \"05-Estrie\", \"showlegend\": true, \"type\": \"scattergeo\"}, {\"geo\": \"geo\", \"hoverlabel\": {\"namelength\": 0}, \"hovertemplate\": \"Region=06-Montreal<br>Date of Infection=18th<br>Total Number of Cases=%{marker.size}<br>Lat=%{lat}<br>Long=%{lon}\", \"lat\": [45.5], \"legendgroup\": \"06-Montreal\", \"lon\": [-73.566667], \"marker\": {\"color\": \"#19d3f3\", \"size\": [24.0], \"sizemode\": \"area\", \"sizeref\": 0.051111111111111114}, \"name\": \"06-Montreal\", \"showlegend\": true, \"type\": \"scattergeo\"}, {\"geo\": \"geo\", \"hoverlabel\": {\"namelength\": 0}, \"hovertemplate\": \"Region=07-Outauais<br>Date of Infection=18th<br>Total Number of Cases=%{marker.size}<br>Lat=%{lat}<br>Long=%{lon}\", \"lat\": [45.783333], \"legendgroup\": \"07-Outauais\", \"lon\": [-75.083333], \"marker\": {\"color\": \"#FF6692\", \"size\": [1.0], \"sizemode\": \"area\", \"sizeref\": 0.051111111111111114}, \"name\": \"07-Outauais\", \"showlegend\": true, \"type\": \"scattergeo\"}, {\"geo\": \"geo\", \"hoverlabel\": {\"namelength\": 0}, \"hovertemplate\": \"Region=08-Abititi-Temiscaminigue<br>Date of Infection=18th<br>Total Number of Cases=%{marker.size}<br>Lat=%{lat}<br>Long=%{lon}\", \"lat\": [48.233333], \"legendgroup\": \"08-Abititi-Temiscaminigue\", \"lon\": [-79.016667], \"marker\": {\"color\": \"#B6E880\", \"size\": [0.0], \"sizemode\": \"area\", \"sizeref\": 0.051111111111111114}, \"name\": \"08-Abititi-Temiscaminigue\", \"showlegend\": true, \"type\": \"scattergeo\"}, {\"geo\": \"geo\", \"hoverlabel\": {\"namelength\": 0}, \"hovertemplate\": \"Region=9-Cote-Nord<br>Date of Infection=18th<br>Total Number of Cases=%{marker.size}<br>Lat=%{lat}<br>Long=%{lon}\", \"lat\": [50.866667], \"legendgroup\": \"9-Cote-Nord\", \"lon\": [-65.816667], \"marker\": {\"color\": \"#FF97FF\", \"size\": [0.0], \"sizemode\": \"area\", \"sizeref\": 0.051111111111111114}, \"name\": \"9-Cote-Nord\", \"showlegend\": true, \"type\": \"scattergeo\"}, {\"geo\": \"geo\", \"hoverlabel\": {\"namelength\": 0}, \"hovertemplate\": \"Region=10-Nord-du-Quebec<br>Date of Infection=18th<br>Total Number of Cases=%{marker.size}<br>Lat=%{lat}<br>Long=%{lon}\", \"lat\": [56.166667], \"legendgroup\": \"10-Nord-du-Quebec\", \"lon\": [-74.416667], \"marker\": {\"color\": \"#FECB52\", \"size\": [0.0], \"sizemode\": \"area\", \"sizeref\": 0.051111111111111114}, \"name\": \"10-Nord-du-Quebec\", \"showlegend\": true, \"type\": \"scattergeo\"}, {\"geo\": \"geo\", \"hoverlabel\": {\"namelength\": 0}, \"hovertemplate\": \"Region=11- Gaspesie-Iles-de-la-Madelaine<br>Date of Infection=18th<br>Total Number of Cases=%{marker.size}<br>Lat=%{lat}<br>Long=%{lon}\", \"lat\": [48.683333], \"legendgroup\": \"11- Gaspesie-Iles-de-la-Madelaine\", \"lon\": [-65.4], \"marker\": {\"color\": \"#636efa\", \"size\": [0.0], \"sizemode\": \"area\", \"sizeref\": 0.051111111111111114}, \"name\": \"11- Gaspesie-Iles-de-la-Madelaine\", \"showlegend\": true, \"type\": \"scattergeo\"}, {\"geo\": \"geo\", \"hoverlabel\": {\"namelength\": 0}, \"hovertemplate\": \"Region=12-Chaudiere-Appalaches<br>Date of Infection=18th<br>Total Number of Cases=%{marker.size}<br>Lat=%{lat}<br>Long=%{lon}\", \"lat\": [46.483333], \"legendgroup\": \"12-Chaudiere-Appalaches\", \"lon\": [-70.616667], \"marker\": {\"color\": \"#EF553B\", \"size\": [6.0], \"sizemode\": \"area\", \"sizeref\": 0.051111111111111114}, \"name\": \"12-Chaudiere-Appalaches\", \"showlegend\": true, \"type\": \"scattergeo\"}, {\"geo\": \"geo\", \"hoverlabel\": {\"namelength\": 0}, \"hovertemplate\": \"Region=13- Laval<br>Date of Infection=18th<br>Total Number of Cases=%{marker.size}<br>Lat=%{lat}<br>Long=%{lon}\", \"lat\": [45.583333], \"legendgroup\": \"13- Laval\", \"lon\": [-73.75], \"marker\": {\"color\": \"#00cc96\", \"size\": [0.0], \"sizemode\": \"area\", \"sizeref\": 0.051111111111111114}, \"name\": \"13- Laval\", \"showlegend\": true, \"type\": \"scattergeo\"}, {\"geo\": \"geo\", \"hoverlabel\": {\"namelength\": 0}, \"hovertemplate\": \"Region=14- Lanaudiere<br>Date of Infection=18th<br>Total Number of Cases=%{marker.size}<br>Lat=%{lat}<br>Long=%{lon}\", \"lat\": [46.766667], \"legendgroup\": \"14- Lanaudiere\", \"lon\": [-73.833333], \"marker\": {\"color\": \"#ab63fa\", \"size\": [6.0], \"sizemode\": \"area\", \"sizeref\": 0.051111111111111114}, \"name\": \"14- Lanaudiere\", \"showlegend\": true, \"type\": \"scattergeo\"}, {\"geo\": \"geo\", \"hoverlabel\": {\"namelength\": 0}, \"hovertemplate\": \"Region=15- Laurentides<br>Date of Infection=18th<br>Total Number of Cases=%{marker.size}<br>Lat=%{lat}<br>Long=%{lon}\", \"lat\": [46.433333], \"legendgroup\": \"15- Laurentides\", \"lon\": [-74.983333], \"marker\": {\"color\": \"#FFA15A\", \"size\": [8.0], \"sizemode\": \"area\", \"sizeref\": 0.051111111111111114}, \"name\": \"15- Laurentides\", \"showlegend\": true, \"type\": \"scattergeo\"}, {\"geo\": \"geo\", \"hoverlabel\": {\"namelength\": 0}, \"hovertemplate\": \"Region=16- Monteregie<br>Date of Infection=18th<br>Total Number of Cases=%{marker.size}<br>Lat=%{lat}<br>Long=%{lon}\", \"lat\": [45.383333], \"legendgroup\": \"16- Monteregie\", \"lon\": [-73.1], \"marker\": {\"color\": \"#19d3f3\", \"size\": [13.0], \"sizemode\": \"area\", \"sizeref\": 0.051111111111111114}, \"name\": \"16- Monteregie\", \"showlegend\": true, \"type\": \"scattergeo\"}, {\"geo\": \"geo\", \"hoverlabel\": {\"namelength\": 0}, \"hovertemplate\": \"Region=17- Centre du Quebec<br>Date of Infection=18th<br>Total Number of Cases=%{marker.size}<br>Lat=%{lat}<br>Long=%{lon}\", \"lat\": [46.283333], \"legendgroup\": \"17- Centre du Quebec\", \"lon\": [-72.066667], \"marker\": {\"color\": \"#FF6692\", \"size\": [0.0], \"sizemode\": \"area\", \"sizeref\": 0.051111111111111114}, \"name\": \"17- Centre du Quebec\", \"showlegend\": true, \"type\": \"scattergeo\"}, {\"geo\": \"geo\", \"hoverlabel\": {\"namelength\": 0}, \"hovertemplate\": \"Region=Undetermined<br>Date of Infection=18th<br>Total Number of Cases=%{marker.size}<br>Lat=%{lat}<br>Long=%{lon}\", \"lat\": [\"na\"], \"legendgroup\": \"Undetermined\", \"lon\": [\"na\"], \"marker\": {\"color\": \"#B6E880\", \"size\": [5.0], \"sizemode\": \"area\", \"sizeref\": 0.051111111111111114}, \"name\": \"Undetermined\", \"showlegend\": true, \"type\": \"scattergeo\"}, {\"geo\": \"geo\", \"hoverlabel\": {\"namelength\": 0}, \"hovertemplate\": \"Region=Hors Quebec<br>Date of Infection=18th<br>Total Number of Cases=%{marker.size}<br>Lat=%{lat}<br>Long=%{lon}\", \"lat\": [\"na\"], \"legendgroup\": \"Hors Quebec\", \"lon\": [\"na\"], \"marker\": {\"color\": \"#FF97FF\", \"size\": [2.0], \"sizemode\": \"area\", \"sizeref\": 0.051111111111111114}, \"name\": \"Hors Quebec\", \"showlegend\": true, \"type\": \"scattergeo\"}], \"name\": \"18th\"}, {\"data\": [{\"geo\": \"geo\", \"hoverlabel\": {\"namelength\": 0}, \"hovertemplate\": \"Region=01-Bas-Saint-Laurent<br>Date of Infection=19th<br>Total Number of Cases=%{marker.size}<br>Lat=%{lat}<br>Long=%{lon}\", \"lat\": [48.333333], \"legendgroup\": \"01-Bas-Saint-Laurent\", \"lon\": [-68.666667], \"marker\": {\"color\": \"#636efa\", \"size\": [1.0], \"sizemode\": \"area\", \"sizeref\": 0.051111111111111114}, \"name\": \"01-Bas-Saint-Laurent\", \"showlegend\": true, \"type\": \"scattergeo\"}, {\"geo\": \"geo\", \"hoverlabel\": {\"namelength\": 0}, \"hovertemplate\": \"Region=02- Saguenay-Lac-Saint-Jean<br>Date of Infection=19th<br>Total Number of Cases=%{marker.size}<br>Lat=%{lat}<br>Long=%{lon}\", \"lat\": [49.8667], \"legendgroup\": \"02- Saguenay-Lac-Saint-Jean\", \"lon\": [-71.75], \"marker\": {\"color\": \"#EF553B\", \"size\": [0.0], \"sizemode\": \"area\", \"sizeref\": 0.051111111111111114}, \"name\": \"02- Saguenay-Lac-Saint-Jean\", \"showlegend\": true, \"type\": \"scattergeo\"}, {\"geo\": \"geo\", \"hoverlabel\": {\"namelength\": 0}, \"hovertemplate\": \"Region=03- Capitale-Nationale<br>Date of Infection=19th<br>Total Number of Cases=%{marker.size}<br>Lat=%{lat}<br>Long=%{lon}\", \"lat\": [47.333333], \"legendgroup\": \"03- Capitale-Nationale\", \"lon\": [-71.5], \"marker\": {\"color\": \"#00cc96\", \"size\": [10.0], \"sizemode\": \"area\", \"sizeref\": 0.051111111111111114}, \"name\": \"03- Capitale-Nationale\", \"showlegend\": true, \"type\": \"scattergeo\"}, {\"geo\": \"geo\", \"hoverlabel\": {\"namelength\": 0}, \"hovertemplate\": \"Region=04-Mauricie<br>Date of Infection=19th<br>Total Number of Cases=%{marker.size}<br>Lat=%{lat}<br>Long=%{lon}\", \"lat\": [47.0], \"legendgroup\": \"04-Mauricie\", \"lon\": [-73.0], \"marker\": {\"color\": \"#ab63fa\", \"size\": [3.0], \"sizemode\": \"area\", \"sizeref\": 0.051111111111111114}, \"name\": \"04-Mauricie\", \"showlegend\": true, \"type\": \"scattergeo\"}, {\"geo\": \"geo\", \"hoverlabel\": {\"namelength\": 0}, \"hovertemplate\": \"Region=05-Estrie<br>Date of Infection=19th<br>Total Number of Cases=%{marker.size}<br>Lat=%{lat}<br>Long=%{lon}\", \"lat\": [45.481556], \"legendgroup\": \"05-Estrie\", \"lon\": [-71.667917], \"marker\": {\"color\": \"#FFA15A\", \"size\": [26.0], \"sizemode\": \"area\", \"sizeref\": 0.051111111111111114}, \"name\": \"05-Estrie\", \"showlegend\": true, \"type\": \"scattergeo\"}, {\"geo\": \"geo\", \"hoverlabel\": {\"namelength\": 0}, \"hovertemplate\": \"Region=06-Montreal<br>Date of Infection=19th<br>Total Number of Cases=%{marker.size}<br>Lat=%{lat}<br>Long=%{lon}\", \"lat\": [45.5], \"legendgroup\": \"06-Montreal\", \"lon\": [-73.566667], \"marker\": {\"color\": \"#19d3f3\", \"size\": [28.0], \"sizemode\": \"area\", \"sizeref\": 0.051111111111111114}, \"name\": \"06-Montreal\", \"showlegend\": true, \"type\": \"scattergeo\"}, {\"geo\": \"geo\", \"hoverlabel\": {\"namelength\": 0}, \"hovertemplate\": \"Region=07-Outauais<br>Date of Infection=19th<br>Total Number of Cases=%{marker.size}<br>Lat=%{lat}<br>Long=%{lon}\", \"lat\": [45.783333], \"legendgroup\": \"07-Outauais\", \"lon\": [-75.083333], \"marker\": {\"color\": \"#FF6692\", \"size\": [1.0], \"sizemode\": \"area\", \"sizeref\": 0.051111111111111114}, \"name\": \"07-Outauais\", \"showlegend\": true, \"type\": \"scattergeo\"}, {\"geo\": \"geo\", \"hoverlabel\": {\"namelength\": 0}, \"hovertemplate\": \"Region=08-Abititi-Temiscaminigue<br>Date of Infection=19th<br>Total Number of Cases=%{marker.size}<br>Lat=%{lat}<br>Long=%{lon}\", \"lat\": [48.233333], \"legendgroup\": \"08-Abititi-Temiscaminigue\", \"lon\": [-79.016667], \"marker\": {\"color\": \"#B6E880\", \"size\": [0.0], \"sizemode\": \"area\", \"sizeref\": 0.051111111111111114}, \"name\": \"08-Abititi-Temiscaminigue\", \"showlegend\": true, \"type\": \"scattergeo\"}, {\"geo\": \"geo\", \"hoverlabel\": {\"namelength\": 0}, \"hovertemplate\": \"Region=9-Cote-Nord<br>Date of Infection=19th<br>Total Number of Cases=%{marker.size}<br>Lat=%{lat}<br>Long=%{lon}\", \"lat\": [50.866667], \"legendgroup\": \"9-Cote-Nord\", \"lon\": [-65.816667], \"marker\": {\"color\": \"#FF97FF\", \"size\": [0.0], \"sizemode\": \"area\", \"sizeref\": 0.051111111111111114}, \"name\": \"9-Cote-Nord\", \"showlegend\": true, \"type\": \"scattergeo\"}, {\"geo\": \"geo\", \"hoverlabel\": {\"namelength\": 0}, \"hovertemplate\": \"Region=10-Nord-du-Quebec<br>Date of Infection=19th<br>Total Number of Cases=%{marker.size}<br>Lat=%{lat}<br>Long=%{lon}\", \"lat\": [56.166667], \"legendgroup\": \"10-Nord-du-Quebec\", \"lon\": [-74.416667], \"marker\": {\"color\": \"#FECB52\", \"size\": [0.0], \"sizemode\": \"area\", \"sizeref\": 0.051111111111111114}, \"name\": \"10-Nord-du-Quebec\", \"showlegend\": true, \"type\": \"scattergeo\"}, {\"geo\": \"geo\", \"hoverlabel\": {\"namelength\": 0}, \"hovertemplate\": \"Region=11- Gaspesie-Iles-de-la-Madelaine<br>Date of Infection=19th<br>Total Number of Cases=%{marker.size}<br>Lat=%{lat}<br>Long=%{lon}\", \"lat\": [48.683333], \"legendgroup\": \"11- Gaspesie-Iles-de-la-Madelaine\", \"lon\": [-65.4], \"marker\": {\"color\": \"#636efa\", \"size\": [0.0], \"sizemode\": \"area\", \"sizeref\": 0.051111111111111114}, \"name\": \"11- Gaspesie-Iles-de-la-Madelaine\", \"showlegend\": true, \"type\": \"scattergeo\"}, {\"geo\": \"geo\", \"hoverlabel\": {\"namelength\": 0}, \"hovertemplate\": \"Region=12-Chaudiere-Appalaches<br>Date of Infection=19th<br>Total Number of Cases=%{marker.size}<br>Lat=%{lat}<br>Long=%{lon}\", \"lat\": [46.483333], \"legendgroup\": \"12-Chaudiere-Appalaches\", \"lon\": [-70.616667], \"marker\": {\"color\": \"#EF553B\", \"size\": [6.0], \"sizemode\": \"area\", \"sizeref\": 0.051111111111111114}, \"name\": \"12-Chaudiere-Appalaches\", \"showlegend\": true, \"type\": \"scattergeo\"}, {\"geo\": \"geo\", \"hoverlabel\": {\"namelength\": 0}, \"hovertemplate\": \"Region=13- Laval<br>Date of Infection=19th<br>Total Number of Cases=%{marker.size}<br>Lat=%{lat}<br>Long=%{lon}\", \"lat\": [45.583333], \"legendgroup\": \"13- Laval\", \"lon\": [-73.75], \"marker\": {\"color\": \"#00cc96\", \"size\": [1.0], \"sizemode\": \"area\", \"sizeref\": 0.051111111111111114}, \"name\": \"13- Laval\", \"showlegend\": true, \"type\": \"scattergeo\"}, {\"geo\": \"geo\", \"hoverlabel\": {\"namelength\": 0}, \"hovertemplate\": \"Region=14- Lanaudiere<br>Date of Infection=19th<br>Total Number of Cases=%{marker.size}<br>Lat=%{lat}<br>Long=%{lon}\", \"lat\": [46.766667], \"legendgroup\": \"14- Lanaudiere\", \"lon\": [-73.833333], \"marker\": {\"color\": \"#ab63fa\", \"size\": [7.0], \"sizemode\": \"area\", \"sizeref\": 0.051111111111111114}, \"name\": \"14- Lanaudiere\", \"showlegend\": true, \"type\": \"scattergeo\"}, {\"geo\": \"geo\", \"hoverlabel\": {\"namelength\": 0}, \"hovertemplate\": \"Region=15- Laurentides<br>Date of Infection=19th<br>Total Number of Cases=%{marker.size}<br>Lat=%{lat}<br>Long=%{lon}\", \"lat\": [46.433333], \"legendgroup\": \"15- Laurentides\", \"lon\": [-74.983333], \"marker\": {\"color\": \"#FFA15A\", \"size\": [9.0], \"sizemode\": \"area\", \"sizeref\": 0.051111111111111114}, \"name\": \"15- Laurentides\", \"showlegend\": true, \"type\": \"scattergeo\"}, {\"geo\": \"geo\", \"hoverlabel\": {\"namelength\": 0}, \"hovertemplate\": \"Region=16- Monteregie<br>Date of Infection=19th<br>Total Number of Cases=%{marker.size}<br>Lat=%{lat}<br>Long=%{lon}\", \"lat\": [45.383333], \"legendgroup\": \"16- Monteregie\", \"lon\": [-73.1], \"marker\": {\"color\": \"#19d3f3\", \"size\": [19.0], \"sizemode\": \"area\", \"sizeref\": 0.051111111111111114}, \"name\": \"16- Monteregie\", \"showlegend\": true, \"type\": \"scattergeo\"}, {\"geo\": \"geo\", \"hoverlabel\": {\"namelength\": 0}, \"hovertemplate\": \"Region=17- Centre du Quebec<br>Date of Infection=19th<br>Total Number of Cases=%{marker.size}<br>Lat=%{lat}<br>Long=%{lon}\", \"lat\": [46.283333], \"legendgroup\": \"17- Centre du Quebec\", \"lon\": [-72.066667], \"marker\": {\"color\": \"#FF6692\", \"size\": [0.0], \"sizemode\": \"area\", \"sizeref\": 0.051111111111111114}, \"name\": \"17- Centre du Quebec\", \"showlegend\": true, \"type\": \"scattergeo\"}, {\"geo\": \"geo\", \"hoverlabel\": {\"namelength\": 0}, \"hovertemplate\": \"Region=Undetermined<br>Date of Infection=19th<br>Total Number of Cases=%{marker.size}<br>Lat=%{lat}<br>Long=%{lon}\", \"lat\": [\"na\"], \"legendgroup\": \"Undetermined\", \"lon\": [\"na\"], \"marker\": {\"color\": \"#B6E880\", \"size\": [8.0], \"sizemode\": \"area\", \"sizeref\": 0.051111111111111114}, \"name\": \"Undetermined\", \"showlegend\": true, \"type\": \"scattergeo\"}, {\"geo\": \"geo\", \"hoverlabel\": {\"namelength\": 0}, \"hovertemplate\": \"Region=Hors Quebec<br>Date of Infection=19th<br>Total Number of Cases=%{marker.size}<br>Lat=%{lat}<br>Long=%{lon}\", \"lat\": [\"na\"], \"legendgroup\": \"Hors Quebec\", \"lon\": [\"na\"], \"marker\": {\"color\": \"#FF97FF\", \"size\": [2.0], \"sizemode\": \"area\", \"sizeref\": 0.051111111111111114}, \"name\": \"Hors Quebec\", \"showlegend\": true, \"type\": \"scattergeo\"}], \"name\": \"19th\"}, {\"data\": [{\"geo\": \"geo\", \"hoverlabel\": {\"namelength\": 0}, \"hovertemplate\": \"Region=01-Bas-Saint-Laurent<br>Date of Infection=20th<br>Total Number of Cases=%{marker.size}<br>Lat=%{lat}<br>Long=%{lon}\", \"lat\": [48.333333], \"legendgroup\": \"01-Bas-Saint-Laurent\", \"lon\": [-68.666667], \"marker\": {\"color\": \"#636efa\", \"size\": [1.0], \"sizemode\": \"area\", \"sizeref\": 0.051111111111111114}, \"name\": \"01-Bas-Saint-Laurent\", \"showlegend\": true, \"type\": \"scattergeo\"}, {\"geo\": \"geo\", \"hoverlabel\": {\"namelength\": 0}, \"hovertemplate\": \"Region=02- Saguenay-Lac-Saint-Jean<br>Date of Infection=20th<br>Total Number of Cases=%{marker.size}<br>Lat=%{lat}<br>Long=%{lon}\", \"lat\": [49.8667], \"legendgroup\": \"02- Saguenay-Lac-Saint-Jean\", \"lon\": [-71.75], \"marker\": {\"color\": \"#EF553B\", \"size\": [0.0], \"sizemode\": \"area\", \"sizeref\": 0.051111111111111114}, \"name\": \"02- Saguenay-Lac-Saint-Jean\", \"showlegend\": true, \"type\": \"scattergeo\"}, {\"geo\": \"geo\", \"hoverlabel\": {\"namelength\": 0}, \"hovertemplate\": \"Region=03- Capitale-Nationale<br>Date of Infection=20th<br>Total Number of Cases=%{marker.size}<br>Lat=%{lat}<br>Long=%{lon}\", \"lat\": [47.333333], \"legendgroup\": \"03- Capitale-Nationale\", \"lon\": [-71.5], \"marker\": {\"color\": \"#00cc96\", \"size\": [10.0], \"sizemode\": \"area\", \"sizeref\": 0.051111111111111114}, \"name\": \"03- Capitale-Nationale\", \"showlegend\": true, \"type\": \"scattergeo\"}, {\"geo\": \"geo\", \"hoverlabel\": {\"namelength\": 0}, \"hovertemplate\": \"Region=04-Mauricie<br>Date of Infection=20th<br>Total Number of Cases=%{marker.size}<br>Lat=%{lat}<br>Long=%{lon}\", \"lat\": [47.0], \"legendgroup\": \"04-Mauricie\", \"lon\": [-73.0], \"marker\": {\"color\": \"#ab63fa\", \"size\": [4.0], \"sizemode\": \"area\", \"sizeref\": 0.051111111111111114}, \"name\": \"04-Mauricie\", \"showlegend\": true, \"type\": \"scattergeo\"}, {\"geo\": \"geo\", \"hoverlabel\": {\"namelength\": 0}, \"hovertemplate\": \"Region=05-Estrie<br>Date of Infection=20th<br>Total Number of Cases=%{marker.size}<br>Lat=%{lat}<br>Long=%{lon}\", \"lat\": [45.481556], \"legendgroup\": \"05-Estrie\", \"lon\": [-71.667917], \"marker\": {\"color\": \"#FFA15A\", \"size\": [26.0], \"sizemode\": \"area\", \"sizeref\": 0.051111111111111114}, \"name\": \"05-Estrie\", \"showlegend\": true, \"type\": \"scattergeo\"}, {\"geo\": \"geo\", \"hoverlabel\": {\"namelength\": 0}, \"hovertemplate\": \"Region=06-Montreal<br>Date of Infection=20th<br>Total Number of Cases=%{marker.size}<br>Lat=%{lat}<br>Long=%{lon}\", \"lat\": [45.5], \"legendgroup\": \"06-Montreal\", \"lon\": [-73.566667], \"marker\": {\"color\": \"#19d3f3\", \"size\": [31.0], \"sizemode\": \"area\", \"sizeref\": 0.051111111111111114}, \"name\": \"06-Montreal\", \"showlegend\": true, \"type\": \"scattergeo\"}, {\"geo\": \"geo\", \"hoverlabel\": {\"namelength\": 0}, \"hovertemplate\": \"Region=07-Outauais<br>Date of Infection=20th<br>Total Number of Cases=%{marker.size}<br>Lat=%{lat}<br>Long=%{lon}\", \"lat\": [45.783333], \"legendgroup\": \"07-Outauais\", \"lon\": [-75.083333], \"marker\": {\"color\": \"#FF6692\", \"size\": [1.0], \"sizemode\": \"area\", \"sizeref\": 0.051111111111111114}, \"name\": \"07-Outauais\", \"showlegend\": true, \"type\": \"scattergeo\"}, {\"geo\": \"geo\", \"hoverlabel\": {\"namelength\": 0}, \"hovertemplate\": \"Region=08-Abititi-Temiscaminigue<br>Date of Infection=20th<br>Total Number of Cases=%{marker.size}<br>Lat=%{lat}<br>Long=%{lon}\", \"lat\": [48.233333], \"legendgroup\": \"08-Abititi-Temiscaminigue\", \"lon\": [-79.016667], \"marker\": {\"color\": \"#B6E880\", \"size\": [0.0], \"sizemode\": \"area\", \"sizeref\": 0.051111111111111114}, \"name\": \"08-Abititi-Temiscaminigue\", \"showlegend\": true, \"type\": \"scattergeo\"}, {\"geo\": \"geo\", \"hoverlabel\": {\"namelength\": 0}, \"hovertemplate\": \"Region=9-Cote-Nord<br>Date of Infection=20th<br>Total Number of Cases=%{marker.size}<br>Lat=%{lat}<br>Long=%{lon}\", \"lat\": [50.866667], \"legendgroup\": \"9-Cote-Nord\", \"lon\": [-65.816667], \"marker\": {\"color\": \"#FF97FF\", \"size\": [0.0], \"sizemode\": \"area\", \"sizeref\": 0.051111111111111114}, \"name\": \"9-Cote-Nord\", \"showlegend\": true, \"type\": \"scattergeo\"}, {\"geo\": \"geo\", \"hoverlabel\": {\"namelength\": 0}, \"hovertemplate\": \"Region=10-Nord-du-Quebec<br>Date of Infection=20th<br>Total Number of Cases=%{marker.size}<br>Lat=%{lat}<br>Long=%{lon}\", \"lat\": [56.166667], \"legendgroup\": \"10-Nord-du-Quebec\", \"lon\": [-74.416667], \"marker\": {\"color\": \"#FECB52\", \"size\": [1.0], \"sizemode\": \"area\", \"sizeref\": 0.051111111111111114}, \"name\": \"10-Nord-du-Quebec\", \"showlegend\": true, \"type\": \"scattergeo\"}, {\"geo\": \"geo\", \"hoverlabel\": {\"namelength\": 0}, \"hovertemplate\": \"Region=11- Gaspesie-Iles-de-la-Madelaine<br>Date of Infection=20th<br>Total Number of Cases=%{marker.size}<br>Lat=%{lat}<br>Long=%{lon}\", \"lat\": [48.683333], \"legendgroup\": \"11- Gaspesie-Iles-de-la-Madelaine\", \"lon\": [-65.4], \"marker\": {\"color\": \"#636efa\", \"size\": [0.0], \"sizemode\": \"area\", \"sizeref\": 0.051111111111111114}, \"name\": \"11- Gaspesie-Iles-de-la-Madelaine\", \"showlegend\": true, \"type\": \"scattergeo\"}, {\"geo\": \"geo\", \"hoverlabel\": {\"namelength\": 0}, \"hovertemplate\": \"Region=12-Chaudiere-Appalaches<br>Date of Infection=20th<br>Total Number of Cases=%{marker.size}<br>Lat=%{lat}<br>Long=%{lon}\", \"lat\": [46.483333], \"legendgroup\": \"12-Chaudiere-Appalaches\", \"lon\": [-70.616667], \"marker\": {\"color\": \"#EF553B\", \"size\": [6.0], \"sizemode\": \"area\", \"sizeref\": 0.051111111111111114}, \"name\": \"12-Chaudiere-Appalaches\", \"showlegend\": true, \"type\": \"scattergeo\"}, {\"geo\": \"geo\", \"hoverlabel\": {\"namelength\": 0}, \"hovertemplate\": \"Region=13- Laval<br>Date of Infection=20th<br>Total Number of Cases=%{marker.size}<br>Lat=%{lat}<br>Long=%{lon}\", \"lat\": [45.583333], \"legendgroup\": \"13- Laval\", \"lon\": [-73.75], \"marker\": {\"color\": \"#00cc96\", \"size\": [1.0], \"sizemode\": \"area\", \"sizeref\": 0.051111111111111114}, \"name\": \"13- Laval\", \"showlegend\": true, \"type\": \"scattergeo\"}, {\"geo\": \"geo\", \"hoverlabel\": {\"namelength\": 0}, \"hovertemplate\": \"Region=14- Lanaudiere<br>Date of Infection=20th<br>Total Number of Cases=%{marker.size}<br>Lat=%{lat}<br>Long=%{lon}\", \"lat\": [46.766667], \"legendgroup\": \"14- Lanaudiere\", \"lon\": [-73.833333], \"marker\": {\"color\": \"#ab63fa\", \"size\": [7.0], \"sizemode\": \"area\", \"sizeref\": 0.051111111111111114}, \"name\": \"14- Lanaudiere\", \"showlegend\": true, \"type\": \"scattergeo\"}, {\"geo\": \"geo\", \"hoverlabel\": {\"namelength\": 0}, \"hovertemplate\": \"Region=15- Laurentides<br>Date of Infection=20th<br>Total Number of Cases=%{marker.size}<br>Lat=%{lat}<br>Long=%{lon}\", \"lat\": [46.433333], \"legendgroup\": \"15- Laurentides\", \"lon\": [-74.983333], \"marker\": {\"color\": \"#FFA15A\", \"size\": [10.0], \"sizemode\": \"area\", \"sizeref\": 0.051111111111111114}, \"name\": \"15- Laurentides\", \"showlegend\": true, \"type\": \"scattergeo\"}, {\"geo\": \"geo\", \"hoverlabel\": {\"namelength\": 0}, \"hovertemplate\": \"Region=16- Monteregie<br>Date of Infection=20th<br>Total Number of Cases=%{marker.size}<br>Lat=%{lat}<br>Long=%{lon}\", \"lat\": [45.383333], \"legendgroup\": \"16- Monteregie\", \"lon\": [-73.1], \"marker\": {\"color\": \"#19d3f3\", \"size\": [21.0], \"sizemode\": \"area\", \"sizeref\": 0.051111111111111114}, \"name\": \"16- Monteregie\", \"showlegend\": true, \"type\": \"scattergeo\"}, {\"geo\": \"geo\", \"hoverlabel\": {\"namelength\": 0}, \"hovertemplate\": \"Region=17- Centre du Quebec<br>Date of Infection=20th<br>Total Number of Cases=%{marker.size}<br>Lat=%{lat}<br>Long=%{lon}\", \"lat\": [46.283333], \"legendgroup\": \"17- Centre du Quebec\", \"lon\": [-72.066667], \"marker\": {\"color\": \"#FF6692\", \"size\": [0.0], \"sizemode\": \"area\", \"sizeref\": 0.051111111111111114}, \"name\": \"17- Centre du Quebec\", \"showlegend\": true, \"type\": \"scattergeo\"}, {\"geo\": \"geo\", \"hoverlabel\": {\"namelength\": 0}, \"hovertemplate\": \"Region=Undetermined<br>Date of Infection=20th<br>Total Number of Cases=%{marker.size}<br>Lat=%{lat}<br>Long=%{lon}\", \"lat\": [\"na\"], \"legendgroup\": \"Undetermined\", \"lon\": [\"na\"], \"marker\": {\"color\": \"#B6E880\", \"size\": [18.0], \"sizemode\": \"area\", \"sizeref\": 0.051111111111111114}, \"name\": \"Undetermined\", \"showlegend\": true, \"type\": \"scattergeo\"}, {\"geo\": \"geo\", \"hoverlabel\": {\"namelength\": 0}, \"hovertemplate\": \"Region=Hors Quebec<br>Date of Infection=20th<br>Total Number of Cases=%{marker.size}<br>Lat=%{lat}<br>Long=%{lon}\", \"lat\": [\"na\"], \"legendgroup\": \"Hors Quebec\", \"lon\": [\"na\"], \"marker\": {\"color\": \"#FF97FF\", \"size\": [2.0], \"sizemode\": \"area\", \"sizeref\": 0.051111111111111114}, \"name\": \"Hors Quebec\", \"showlegend\": true, \"type\": \"scattergeo\"}], \"name\": \"20th\"}, {\"data\": [{\"geo\": \"geo\", \"hoverlabel\": {\"namelength\": 0}, \"hovertemplate\": \"Region=01-Bas-Saint-Laurent<br>Date of Infection=21st<br>Total Number of Cases=%{marker.size}<br>Lat=%{lat}<br>Long=%{lon}\", \"lat\": [48.333333], \"legendgroup\": \"01-Bas-Saint-Laurent\", \"lon\": [-68.666667], \"marker\": {\"color\": \"#636efa\", \"size\": [1.0], \"sizemode\": \"area\", \"sizeref\": 0.051111111111111114}, \"name\": \"01-Bas-Saint-Laurent\", \"showlegend\": true, \"type\": \"scattergeo\"}, {\"geo\": \"geo\", \"hoverlabel\": {\"namelength\": 0}, \"hovertemplate\": \"Region=02- Saguenay-Lac-Saint-Jean<br>Date of Infection=21st<br>Total Number of Cases=%{marker.size}<br>Lat=%{lat}<br>Long=%{lon}\", \"lat\": [49.8667], \"legendgroup\": \"02- Saguenay-Lac-Saint-Jean\", \"lon\": [-71.75], \"marker\": {\"color\": \"#EF553B\", \"size\": [1.0], \"sizemode\": \"area\", \"sizeref\": 0.051111111111111114}, \"name\": \"02- Saguenay-Lac-Saint-Jean\", \"showlegend\": true, \"type\": \"scattergeo\"}, {\"geo\": \"geo\", \"hoverlabel\": {\"namelength\": 0}, \"hovertemplate\": \"Region=03- Capitale-Nationale<br>Date of Infection=21st<br>Total Number of Cases=%{marker.size}<br>Lat=%{lat}<br>Long=%{lon}\", \"lat\": [47.333333], \"legendgroup\": \"03- Capitale-Nationale\", \"lon\": [-71.5], \"marker\": {\"color\": \"#00cc96\", \"size\": [13.0], \"sizemode\": \"area\", \"sizeref\": 0.051111111111111114}, \"name\": \"03- Capitale-Nationale\", \"showlegend\": true, \"type\": \"scattergeo\"}, {\"geo\": \"geo\", \"hoverlabel\": {\"namelength\": 0}, \"hovertemplate\": \"Region=04-Mauricie<br>Date of Infection=21st<br>Total Number of Cases=%{marker.size}<br>Lat=%{lat}<br>Long=%{lon}\", \"lat\": [47.0], \"legendgroup\": \"04-Mauricie\", \"lon\": [-73.0], \"marker\": {\"color\": \"#ab63fa\", \"size\": [5.0], \"sizemode\": \"area\", \"sizeref\": 0.051111111111111114}, \"name\": \"04-Mauricie\", \"showlegend\": true, \"type\": \"scattergeo\"}, {\"geo\": \"geo\", \"hoverlabel\": {\"namelength\": 0}, \"hovertemplate\": \"Region=05-Estrie<br>Date of Infection=21st<br>Total Number of Cases=%{marker.size}<br>Lat=%{lat}<br>Long=%{lon}\", \"lat\": [45.481556], \"legendgroup\": \"05-Estrie\", \"lon\": [-71.667917], \"marker\": {\"color\": \"#FFA15A\", \"size\": [27.0], \"sizemode\": \"area\", \"sizeref\": 0.051111111111111114}, \"name\": \"05-Estrie\", \"showlegend\": true, \"type\": \"scattergeo\"}, {\"geo\": \"geo\", \"hoverlabel\": {\"namelength\": 0}, \"hovertemplate\": \"Region=06-Montreal<br>Date of Infection=21st<br>Total Number of Cases=%{marker.size}<br>Lat=%{lat}<br>Long=%{lon}\", \"lat\": [45.5], \"legendgroup\": \"06-Montreal\", \"lon\": [-73.566667], \"marker\": {\"color\": \"#19d3f3\", \"size\": [41.0], \"sizemode\": \"area\", \"sizeref\": 0.051111111111111114}, \"name\": \"06-Montreal\", \"showlegend\": true, \"type\": \"scattergeo\"}, {\"geo\": \"geo\", \"hoverlabel\": {\"namelength\": 0}, \"hovertemplate\": \"Region=07-Outauais<br>Date of Infection=21st<br>Total Number of Cases=%{marker.size}<br>Lat=%{lat}<br>Long=%{lon}\", \"lat\": [45.783333], \"legendgroup\": \"07-Outauais\", \"lon\": [-75.083333], \"marker\": {\"color\": \"#FF6692\", \"size\": [3.0], \"sizemode\": \"area\", \"sizeref\": 0.051111111111111114}, \"name\": \"07-Outauais\", \"showlegend\": true, \"type\": \"scattergeo\"}, {\"geo\": \"geo\", \"hoverlabel\": {\"namelength\": 0}, \"hovertemplate\": \"Region=08-Abititi-Temiscaminigue<br>Date of Infection=21st<br>Total Number of Cases=%{marker.size}<br>Lat=%{lat}<br>Long=%{lon}\", \"lat\": [48.233333], \"legendgroup\": \"08-Abititi-Temiscaminigue\", \"lon\": [-79.016667], \"marker\": {\"color\": \"#B6E880\", \"size\": [0.0], \"sizemode\": \"area\", \"sizeref\": 0.051111111111111114}, \"name\": \"08-Abititi-Temiscaminigue\", \"showlegend\": true, \"type\": \"scattergeo\"}, {\"geo\": \"geo\", \"hoverlabel\": {\"namelength\": 0}, \"hovertemplate\": \"Region=9-Cote-Nord<br>Date of Infection=21st<br>Total Number of Cases=%{marker.size}<br>Lat=%{lat}<br>Long=%{lon}\", \"lat\": [50.866667], \"legendgroup\": \"9-Cote-Nord\", \"lon\": [-65.816667], \"marker\": {\"color\": \"#FF97FF\", \"size\": [0.0], \"sizemode\": \"area\", \"sizeref\": 0.051111111111111114}, \"name\": \"9-Cote-Nord\", \"showlegend\": true, \"type\": \"scattergeo\"}, {\"geo\": \"geo\", \"hoverlabel\": {\"namelength\": 0}, \"hovertemplate\": \"Region=10-Nord-du-Quebec<br>Date of Infection=21st<br>Total Number of Cases=%{marker.size}<br>Lat=%{lat}<br>Long=%{lon}\", \"lat\": [56.166667], \"legendgroup\": \"10-Nord-du-Quebec\", \"lon\": [-74.416667], \"marker\": {\"color\": \"#FECB52\", \"size\": [1.0], \"sizemode\": \"area\", \"sizeref\": 0.051111111111111114}, \"name\": \"10-Nord-du-Quebec\", \"showlegend\": true, \"type\": \"scattergeo\"}, {\"geo\": \"geo\", \"hoverlabel\": {\"namelength\": 0}, \"hovertemplate\": \"Region=11- Gaspesie-Iles-de-la-Madelaine<br>Date of Infection=21st<br>Total Number of Cases=%{marker.size}<br>Lat=%{lat}<br>Long=%{lon}\", \"lat\": [48.683333], \"legendgroup\": \"11- Gaspesie-Iles-de-la-Madelaine\", \"lon\": [-65.4], \"marker\": {\"color\": \"#636efa\", \"size\": [0.0], \"sizemode\": \"area\", \"sizeref\": 0.051111111111111114}, \"name\": \"11- Gaspesie-Iles-de-la-Madelaine\", \"showlegend\": true, \"type\": \"scattergeo\"}, {\"geo\": \"geo\", \"hoverlabel\": {\"namelength\": 0}, \"hovertemplate\": \"Region=12-Chaudiere-Appalaches<br>Date of Infection=21st<br>Total Number of Cases=%{marker.size}<br>Lat=%{lat}<br>Long=%{lon}\", \"lat\": [46.483333], \"legendgroup\": \"12-Chaudiere-Appalaches\", \"lon\": [-70.616667], \"marker\": {\"color\": \"#EF553B\", \"size\": [13.0], \"sizemode\": \"area\", \"sizeref\": 0.051111111111111114}, \"name\": \"12-Chaudiere-Appalaches\", \"showlegend\": true, \"type\": \"scattergeo\"}, {\"geo\": \"geo\", \"hoverlabel\": {\"namelength\": 0}, \"hovertemplate\": \"Region=13- Laval<br>Date of Infection=21st<br>Total Number of Cases=%{marker.size}<br>Lat=%{lat}<br>Long=%{lon}\", \"lat\": [45.583333], \"legendgroup\": \"13- Laval\", \"lon\": [-73.75], \"marker\": {\"color\": \"#00cc96\", \"size\": [3.0], \"sizemode\": \"area\", \"sizeref\": 0.051111111111111114}, \"name\": \"13- Laval\", \"showlegend\": true, \"type\": \"scattergeo\"}, {\"geo\": \"geo\", \"hoverlabel\": {\"namelength\": 0}, \"hovertemplate\": \"Region=14- Lanaudiere<br>Date of Infection=21st<br>Total Number of Cases=%{marker.size}<br>Lat=%{lat}<br>Long=%{lon}\", \"lat\": [46.766667], \"legendgroup\": \"14- Lanaudiere\", \"lon\": [-73.833333], \"marker\": {\"color\": \"#ab63fa\", \"size\": [9.0], \"sizemode\": \"area\", \"sizeref\": 0.051111111111111114}, \"name\": \"14- Lanaudiere\", \"showlegend\": true, \"type\": \"scattergeo\"}, {\"geo\": \"geo\", \"hoverlabel\": {\"namelength\": 0}, \"hovertemplate\": \"Region=15- Laurentides<br>Date of Infection=21st<br>Total Number of Cases=%{marker.size}<br>Lat=%{lat}<br>Long=%{lon}\", \"lat\": [46.433333], \"legendgroup\": \"15- Laurentides\", \"lon\": [-74.983333], \"marker\": {\"color\": \"#FFA15A\", \"size\": [14.0], \"sizemode\": \"area\", \"sizeref\": 0.051111111111111114}, \"name\": \"15- Laurentides\", \"showlegend\": true, \"type\": \"scattergeo\"}, {\"geo\": \"geo\", \"hoverlabel\": {\"namelength\": 0}, \"hovertemplate\": \"Region=16- Monteregie<br>Date of Infection=21st<br>Total Number of Cases=%{marker.size}<br>Lat=%{lat}<br>Long=%{lon}\", \"lat\": [45.383333], \"legendgroup\": \"16- Monteregie\", \"lon\": [-73.1], \"marker\": {\"color\": \"#19d3f3\", \"size\": [26.0], \"sizemode\": \"area\", \"sizeref\": 0.051111111111111114}, \"name\": \"16- Monteregie\", \"showlegend\": true, \"type\": \"scattergeo\"}, {\"geo\": \"geo\", \"hoverlabel\": {\"namelength\": 0}, \"hovertemplate\": \"Region=17- Centre du Quebec<br>Date of Infection=21st<br>Total Number of Cases=%{marker.size}<br>Lat=%{lat}<br>Long=%{lon}\", \"lat\": [46.283333], \"legendgroup\": \"17- Centre du Quebec\", \"lon\": [-72.066667], \"marker\": {\"color\": \"#FF6692\", \"size\": [0.0], \"sizemode\": \"area\", \"sizeref\": 0.051111111111111114}, \"name\": \"17- Centre du Quebec\", \"showlegend\": true, \"type\": \"scattergeo\"}, {\"geo\": \"geo\", \"hoverlabel\": {\"namelength\": 0}, \"hovertemplate\": \"Region=Undetermined<br>Date of Infection=21st<br>Total Number of Cases=%{marker.size}<br>Lat=%{lat}<br>Long=%{lon}\", \"lat\": [\"na\"], \"legendgroup\": \"Undetermined\", \"lon\": [\"na\"], \"marker\": {\"color\": \"#B6E880\", \"size\": [22.0], \"sizemode\": \"area\", \"sizeref\": 0.051111111111111114}, \"name\": \"Undetermined\", \"showlegend\": true, \"type\": \"scattergeo\"}, {\"geo\": \"geo\", \"hoverlabel\": {\"namelength\": 0}, \"hovertemplate\": \"Region=Hors Quebec<br>Date of Infection=21st<br>Total Number of Cases=%{marker.size}<br>Lat=%{lat}<br>Long=%{lon}\", \"lat\": [\"na\"], \"legendgroup\": \"Hors Quebec\", \"lon\": [\"na\"], \"marker\": {\"color\": \"#FF97FF\", \"size\": [2.0], \"sizemode\": \"area\", \"sizeref\": 0.051111111111111114}, \"name\": \"Hors Quebec\", \"showlegend\": true, \"type\": \"scattergeo\"}], \"name\": \"21st\"}, {\"data\": [{\"geo\": \"geo\", \"hoverlabel\": {\"namelength\": 0}, \"hovertemplate\": \"Region=01-Bas-Saint-Laurent<br>Date of Infection=22nd<br>Total Number of Cases=%{marker.size}<br>Lat=%{lat}<br>Long=%{lon}\", \"lat\": [48.333333], \"legendgroup\": \"01-Bas-Saint-Laurent\", \"lon\": [-68.666667], \"marker\": {\"color\": \"#636efa\", \"size\": [1.0], \"sizemode\": \"area\", \"sizeref\": 0.051111111111111114}, \"name\": \"01-Bas-Saint-Laurent\", \"showlegend\": true, \"type\": \"scattergeo\"}, {\"geo\": \"geo\", \"hoverlabel\": {\"namelength\": 0}, \"hovertemplate\": \"Region=02- Saguenay-Lac-Saint-Jean<br>Date of Infection=22nd<br>Total Number of Cases=%{marker.size}<br>Lat=%{lat}<br>Long=%{lon}\", \"lat\": [49.8667], \"legendgroup\": \"02- Saguenay-Lac-Saint-Jean\", \"lon\": [-71.75], \"marker\": {\"color\": \"#EF553B\", \"size\": [1.0], \"sizemode\": \"area\", \"sizeref\": 0.051111111111111114}, \"name\": \"02- Saguenay-Lac-Saint-Jean\", \"showlegend\": true, \"type\": \"scattergeo\"}, {\"geo\": \"geo\", \"hoverlabel\": {\"namelength\": 0}, \"hovertemplate\": \"Region=03- Capitale-Nationale<br>Date of Infection=22nd<br>Total Number of Cases=%{marker.size}<br>Lat=%{lat}<br>Long=%{lon}\", \"lat\": [47.333333], \"legendgroup\": \"03- Capitale-Nationale\", \"lon\": [-71.5], \"marker\": {\"color\": \"#00cc96\", \"size\": [13.0], \"sizemode\": \"area\", \"sizeref\": 0.051111111111111114}, \"name\": \"03- Capitale-Nationale\", \"showlegend\": true, \"type\": \"scattergeo\"}, {\"geo\": \"geo\", \"hoverlabel\": {\"namelength\": 0}, \"hovertemplate\": \"Region=04-Mauricie<br>Date of Infection=22nd<br>Total Number of Cases=%{marker.size}<br>Lat=%{lat}<br>Long=%{lon}\", \"lat\": [47.0], \"legendgroup\": \"04-Mauricie\", \"lon\": [-73.0], \"marker\": {\"color\": \"#ab63fa\", \"size\": [7.0], \"sizemode\": \"area\", \"sizeref\": 0.051111111111111114}, \"name\": \"04-Mauricie\", \"showlegend\": true, \"type\": \"scattergeo\"}, {\"geo\": \"geo\", \"hoverlabel\": {\"namelength\": 0}, \"hovertemplate\": \"Region=05-Estrie<br>Date of Infection=22nd<br>Total Number of Cases=%{marker.size}<br>Lat=%{lat}<br>Long=%{lon}\", \"lat\": [45.481556], \"legendgroup\": \"05-Estrie\", \"lon\": [-71.667917], \"marker\": {\"color\": \"#FFA15A\", \"size\": [30.0], \"sizemode\": \"area\", \"sizeref\": 0.051111111111111114}, \"name\": \"05-Estrie\", \"showlegend\": true, \"type\": \"scattergeo\"}, {\"geo\": \"geo\", \"hoverlabel\": {\"namelength\": 0}, \"hovertemplate\": \"Region=06-Montreal<br>Date of Infection=22nd<br>Total Number of Cases=%{marker.size}<br>Lat=%{lat}<br>Long=%{lon}\", \"lat\": [45.5], \"legendgroup\": \"06-Montreal\", \"lon\": [-73.566667], \"marker\": {\"color\": \"#19d3f3\", \"size\": [46.0], \"sizemode\": \"area\", \"sizeref\": 0.051111111111111114}, \"name\": \"06-Montreal\", \"showlegend\": true, \"type\": \"scattergeo\"}, {\"geo\": \"geo\", \"hoverlabel\": {\"namelength\": 0}, \"hovertemplate\": \"Region=07-Outauais<br>Date of Infection=22nd<br>Total Number of Cases=%{marker.size}<br>Lat=%{lat}<br>Long=%{lon}\", \"lat\": [45.783333], \"legendgroup\": \"07-Outauais\", \"lon\": [-75.083333], \"marker\": {\"color\": \"#FF6692\", \"size\": [5.0], \"sizemode\": \"area\", \"sizeref\": 0.051111111111111114}, \"name\": \"07-Outauais\", \"showlegend\": true, \"type\": \"scattergeo\"}, {\"geo\": \"geo\", \"hoverlabel\": {\"namelength\": 0}, \"hovertemplate\": \"Region=08-Abititi-Temiscaminigue<br>Date of Infection=22nd<br>Total Number of Cases=%{marker.size}<br>Lat=%{lat}<br>Long=%{lon}\", \"lat\": [48.233333], \"legendgroup\": \"08-Abititi-Temiscaminigue\", \"lon\": [-79.016667], \"marker\": {\"color\": \"#B6E880\", \"size\": [0.0], \"sizemode\": \"area\", \"sizeref\": 0.051111111111111114}, \"name\": \"08-Abititi-Temiscaminigue\", \"showlegend\": true, \"type\": \"scattergeo\"}, {\"geo\": \"geo\", \"hoverlabel\": {\"namelength\": 0}, \"hovertemplate\": \"Region=9-Cote-Nord<br>Date of Infection=22nd<br>Total Number of Cases=%{marker.size}<br>Lat=%{lat}<br>Long=%{lon}\", \"lat\": [50.866667], \"legendgroup\": \"9-Cote-Nord\", \"lon\": [-65.816667], \"marker\": {\"color\": \"#FF97FF\", \"size\": [0.0], \"sizemode\": \"area\", \"sizeref\": 0.051111111111111114}, \"name\": \"9-Cote-Nord\", \"showlegend\": true, \"type\": \"scattergeo\"}, {\"geo\": \"geo\", \"hoverlabel\": {\"namelength\": 0}, \"hovertemplate\": \"Region=10-Nord-du-Quebec<br>Date of Infection=22nd<br>Total Number of Cases=%{marker.size}<br>Lat=%{lat}<br>Long=%{lon}\", \"lat\": [56.166667], \"legendgroup\": \"10-Nord-du-Quebec\", \"lon\": [-74.416667], \"marker\": {\"color\": \"#FECB52\", \"size\": [1.0], \"sizemode\": \"area\", \"sizeref\": 0.051111111111111114}, \"name\": \"10-Nord-du-Quebec\", \"showlegend\": true, \"type\": \"scattergeo\"}, {\"geo\": \"geo\", \"hoverlabel\": {\"namelength\": 0}, \"hovertemplate\": \"Region=11- Gaspesie-Iles-de-la-Madelaine<br>Date of Infection=22nd<br>Total Number of Cases=%{marker.size}<br>Lat=%{lat}<br>Long=%{lon}\", \"lat\": [48.683333], \"legendgroup\": \"11- Gaspesie-Iles-de-la-Madelaine\", \"lon\": [-65.4], \"marker\": {\"color\": \"#636efa\", \"size\": [0.0], \"sizemode\": \"area\", \"sizeref\": 0.051111111111111114}, \"name\": \"11- Gaspesie-Iles-de-la-Madelaine\", \"showlegend\": true, \"type\": \"scattergeo\"}, {\"geo\": \"geo\", \"hoverlabel\": {\"namelength\": 0}, \"hovertemplate\": \"Region=12-Chaudiere-Appalaches<br>Date of Infection=22nd<br>Total Number of Cases=%{marker.size}<br>Lat=%{lat}<br>Long=%{lon}\", \"lat\": [46.483333], \"legendgroup\": \"12-Chaudiere-Appalaches\", \"lon\": [-70.616667], \"marker\": {\"color\": \"#EF553B\", \"size\": [13.0], \"sizemode\": \"area\", \"sizeref\": 0.051111111111111114}, \"name\": \"12-Chaudiere-Appalaches\", \"showlegend\": true, \"type\": \"scattergeo\"}, {\"geo\": \"geo\", \"hoverlabel\": {\"namelength\": 0}, \"hovertemplate\": \"Region=13- Laval<br>Date of Infection=22nd<br>Total Number of Cases=%{marker.size}<br>Lat=%{lat}<br>Long=%{lon}\", \"lat\": [45.583333], \"legendgroup\": \"13- Laval\", \"lon\": [-73.75], \"marker\": {\"color\": \"#00cc96\", \"size\": [4.0], \"sizemode\": \"area\", \"sizeref\": 0.051111111111111114}, \"name\": \"13- Laval\", \"showlegend\": true, \"type\": \"scattergeo\"}, {\"geo\": \"geo\", \"hoverlabel\": {\"namelength\": 0}, \"hovertemplate\": \"Region=14- Lanaudiere<br>Date of Infection=22nd<br>Total Number of Cases=%{marker.size}<br>Lat=%{lat}<br>Long=%{lon}\", \"lat\": [46.766667], \"legendgroup\": \"14- Lanaudiere\", \"lon\": [-73.833333], \"marker\": {\"color\": \"#ab63fa\", \"size\": [15.0], \"sizemode\": \"area\", \"sizeref\": 0.051111111111111114}, \"name\": \"14- Lanaudiere\", \"showlegend\": true, \"type\": \"scattergeo\"}, {\"geo\": \"geo\", \"hoverlabel\": {\"namelength\": 0}, \"hovertemplate\": \"Region=15- Laurentides<br>Date of Infection=22nd<br>Total Number of Cases=%{marker.size}<br>Lat=%{lat}<br>Long=%{lon}\", \"lat\": [46.433333], \"legendgroup\": \"15- Laurentides\", \"lon\": [-74.983333], \"marker\": {\"color\": \"#FFA15A\", \"size\": [17.0], \"sizemode\": \"area\", \"sizeref\": 0.051111111111111114}, \"name\": \"15- Laurentides\", \"showlegend\": true, \"type\": \"scattergeo\"}, {\"geo\": \"geo\", \"hoverlabel\": {\"namelength\": 0}, \"hovertemplate\": \"Region=16- Monteregie<br>Date of Infection=22nd<br>Total Number of Cases=%{marker.size}<br>Lat=%{lat}<br>Long=%{lon}\", \"lat\": [45.383333], \"legendgroup\": \"16- Monteregie\", \"lon\": [-73.1], \"marker\": {\"color\": \"#19d3f3\", \"size\": [40.0], \"sizemode\": \"area\", \"sizeref\": 0.051111111111111114}, \"name\": \"16- Monteregie\", \"showlegend\": true, \"type\": \"scattergeo\"}, {\"geo\": \"geo\", \"hoverlabel\": {\"namelength\": 0}, \"hovertemplate\": \"Region=17- Centre du Quebec<br>Date of Infection=22nd<br>Total Number of Cases=%{marker.size}<br>Lat=%{lat}<br>Long=%{lon}\", \"lat\": [46.283333], \"legendgroup\": \"17- Centre du Quebec\", \"lon\": [-72.066667], \"marker\": {\"color\": \"#FF6692\", \"size\": [0.0], \"sizemode\": \"area\", \"sizeref\": 0.051111111111111114}, \"name\": \"17- Centre du Quebec\", \"showlegend\": true, \"type\": \"scattergeo\"}, {\"geo\": \"geo\", \"hoverlabel\": {\"namelength\": 0}, \"hovertemplate\": \"Region=Undetermined<br>Date of Infection=22nd<br>Total Number of Cases=%{marker.size}<br>Lat=%{lat}<br>Long=%{lon}\", \"lat\": [\"na\"], \"legendgroup\": \"Undetermined\", \"lon\": [\"na\"], \"marker\": {\"color\": \"#B6E880\", \"size\": [24.0], \"sizemode\": \"area\", \"sizeref\": 0.051111111111111114}, \"name\": \"Undetermined\", \"showlegend\": true, \"type\": \"scattergeo\"}, {\"geo\": \"geo\", \"hoverlabel\": {\"namelength\": 0}, \"hovertemplate\": \"Region=Hors Quebec<br>Date of Infection=22nd<br>Total Number of Cases=%{marker.size}<br>Lat=%{lat}<br>Long=%{lon}\", \"lat\": [\"na\"], \"legendgroup\": \"Hors Quebec\", \"lon\": [\"na\"], \"marker\": {\"color\": \"#FF97FF\", \"size\": [2.0], \"sizemode\": \"area\", \"sizeref\": 0.051111111111111114}, \"name\": \"Hors Quebec\", \"showlegend\": true, \"type\": \"scattergeo\"}], \"name\": \"22nd\"}]);\n",
       "                        }).then(function(){\n",
       "                            \n",
       "var gd = document.getElementById('a01d31f1-190a-4976-a8e8-5fbc477ab417');\n",
       "var x = new MutationObserver(function (mutations, observer) {{\n",
       "        var display = window.getComputedStyle(gd).display;\n",
       "        if (!display || display === 'none') {{\n",
       "            console.log([gd, 'removed!']);\n",
       "            Plotly.purge(gd);\n",
       "            observer.disconnect();\n",
       "        }}\n",
       "}});\n",
       "\n",
       "// Listen for the removal of the full notebook cells\n",
       "var notebookContainer = gd.closest('#notebook-container');\n",
       "if (notebookContainer) {{\n",
       "    x.observe(notebookContainer, {childList: true});\n",
       "}}\n",
       "\n",
       "// Listen for the clearing of the current output cell\n",
       "var outputEl = gd.closest('.output');\n",
       "if (outputEl) {{\n",
       "    x.observe(outputEl, {childList: true});\n",
       "}}\n",
       "\n",
       "                        })\n",
       "                };\n",
       "                });\n",
       "            </script>\n",
       "        </div>"
      ]
     },
     "metadata": {},
     "output_type": "display_data"
    }
   ],
   "source": [
    "fig = px.scatter_geo(stacked_df, lat=\"Lat\", lon=\"Long\",     color=\"Region\", size=\"Total Number of Cases\",\n",
    "                     animation_frame=\"Date of Infection\", projection=\"natural earth\",\n",
    "                  color_continuous_scale=px.colors.cyclical.IceFire, size_max=30)\n",
    "fig.show()\n",
    "with open('../plotly/map_timeline.json', 'w') as f:\n",
    "    f.write(fig.to_json())"
   ]
  },
  {
   "cell_type": "code",
   "execution_count": 79,
   "metadata": {},
   "outputs": [
    {
     "data": {
      "application/vnd.plotly.v1+json": {
       "config": {
        "plotlyServerURL": "https://plot.ly"
       },
       "data": [
        {
         "hoverlabel": {
          "namelength": 0
         },
         "hovertemplate": "Region=1 - Bas St Laurent<br>Date=%{x}<br>Number of Cases=%{y}",
         "legendgroup": "1 - Bas St Laurent",
         "line": {
          "color": "#FD3216"
         },
         "mode": "lines",
         "name": "1 - Bas St Laurent",
         "orientation": "v",
         "showlegend": true,
         "stackgroup": "1",
         "type": "scatter",
         "x": [
          "13th",
          "14th",
          "15th",
          "16th",
          "17th",
          "18th",
          "19th",
          "20th"
         ],
         "xaxis": "x",
         "y": [
          0,
          0,
          0,
          0,
          0,
          0,
          1,
          1
         ],
         "yaxis": "y"
        },
        {
         "hoverlabel": {
          "namelength": 0
         },
         "hovertemplate": "Region=2- Sagunay/ Lac St jean<br>Date=%{x}<br>Number of Cases=%{y}",
         "legendgroup": "2- Sagunay/ Lac St jean",
         "line": {
          "color": "#00FE35"
         },
         "mode": "lines",
         "name": "2- Sagunay/ Lac St jean",
         "orientation": "v",
         "showlegend": true,
         "stackgroup": "1",
         "type": "scatter",
         "x": [
          "13th",
          "14th",
          "15th",
          "16th",
          "17th",
          "18th",
          "19th",
          "20th"
         ],
         "xaxis": "x",
         "y": [
          0,
          0,
          0,
          0,
          0,
          0,
          0,
          0
         ],
         "yaxis": "y"
        },
        {
         "hoverlabel": {
          "namelength": 0
         },
         "hovertemplate": "Region=3- Cap Nat<br>Date=%{x}<br>Number of Cases=%{y}",
         "legendgroup": "3- Cap Nat",
         "line": {
          "color": "#6A76FC"
         },
         "mode": "lines",
         "name": "3- Cap Nat",
         "orientation": "v",
         "showlegend": true,
         "stackgroup": "1",
         "type": "scatter",
         "x": [
          "13th",
          "14th",
          "15th",
          "16th",
          "17th",
          "18th",
          "19th",
          "20th"
         ],
         "xaxis": "x",
         "y": [
          0,
          0,
          2,
          2,
          3,
          8,
          10,
          10
         ],
         "yaxis": "y"
        },
        {
         "hoverlabel": {
          "namelength": 0
         },
         "hovertemplate": "Region=4- Mauricie<br>Date=%{x}<br>Number of Cases=%{y}",
         "legendgroup": "4- Mauricie",
         "line": {
          "color": "#FED4C4"
         },
         "mode": "lines",
         "name": "4- Mauricie",
         "orientation": "v",
         "showlegend": true,
         "stackgroup": "1",
         "type": "scatter",
         "x": [
          "13th",
          "14th",
          "15th",
          "16th",
          "17th",
          "18th",
          "19th",
          "20th"
         ],
         "xaxis": "x",
         "y": [
          1,
          1,
          3,
          3,
          3,
          3,
          3,
          4
         ],
         "yaxis": "y"
        },
        {
         "hoverlabel": {
          "namelength": 0
         },
         "hovertemplate": "Region=5-Estrie<br>Date=%{x}<br>Number of Cases=%{y}",
         "legendgroup": "5-Estrie",
         "line": {
          "color": "#FE00CE"
         },
         "mode": "lines",
         "name": "5-Estrie",
         "orientation": "v",
         "showlegend": true,
         "stackgroup": "1",
         "type": "scatter",
         "x": [
          "13th",
          "14th",
          "15th",
          "16th",
          "17th",
          "18th",
          "19th",
          "20th"
         ],
         "xaxis": "x",
         "y": [
          2,
          3,
          4,
          4,
          9,
          18,
          26,
          26
         ],
         "yaxis": "y"
        },
        {
         "hoverlabel": {
          "namelength": 0
         },
         "hovertemplate": "Region=6- Montreal<br>Date=%{x}<br>Number of Cases=%{y}",
         "legendgroup": "6- Montreal",
         "line": {
          "color": "#0DF9FF"
         },
         "mode": "lines",
         "name": "6- Montreal",
         "orientation": "v",
         "showlegend": true,
         "stackgroup": "1",
         "type": "scatter",
         "x": [
          "13th",
          "14th",
          "15th",
          "16th",
          "17th",
          "18th",
          "19th",
          "20th"
         ],
         "xaxis": "x",
         "y": [
          7,
          8,
          10,
          18,
          22,
          24,
          28,
          31
         ],
         "yaxis": "y"
        },
        {
         "hoverlabel": {
          "namelength": 0
         },
         "hovertemplate": "Region=7- Outaouais<br>Date=%{x}<br>Number of Cases=%{y}",
         "legendgroup": "7- Outaouais",
         "line": {
          "color": "#F6F926"
         },
         "mode": "lines",
         "name": "7- Outaouais",
         "orientation": "v",
         "showlegend": true,
         "stackgroup": "1",
         "type": "scatter",
         "x": [
          "13th",
          "14th",
          "15th",
          "16th",
          "17th",
          "18th",
          "19th",
          "20th"
         ],
         "xaxis": "x",
         "y": [
          0,
          0,
          0,
          0,
          0,
          1,
          1,
          1
         ],
         "yaxis": "y"
        },
        {
         "hoverlabel": {
          "namelength": 0
         },
         "hovertemplate": "Region=8- Abititi<br>Date=%{x}<br>Number of Cases=%{y}",
         "legendgroup": "8- Abititi",
         "line": {
          "color": "#FF9616"
         },
         "mode": "lines",
         "name": "8- Abititi",
         "orientation": "v",
         "showlegend": true,
         "stackgroup": "1",
         "type": "scatter",
         "x": [
          "13th",
          "14th",
          "15th",
          "16th",
          "17th",
          "18th",
          "19th",
          "20th"
         ],
         "xaxis": "x",
         "y": [
          0,
          0,
          0,
          0,
          0,
          0,
          0,
          0
         ],
         "yaxis": "y"
        },
        {
         "hoverlabel": {
          "namelength": 0
         },
         "hovertemplate": "Region=9-Cote Nord<br>Date=%{x}<br>Number of Cases=%{y}",
         "legendgroup": "9-Cote Nord",
         "line": {
          "color": "#479B55"
         },
         "mode": "lines",
         "name": "9-Cote Nord",
         "orientation": "v",
         "showlegend": true,
         "stackgroup": "1",
         "type": "scatter",
         "x": [
          "13th",
          "14th",
          "15th",
          "16th",
          "17th",
          "18th",
          "19th",
          "20th"
         ],
         "xaxis": "x",
         "y": [
          0,
          0,
          0,
          0,
          0,
          0,
          0,
          0
         ],
         "yaxis": "y"
        },
        {
         "hoverlabel": {
          "namelength": 0
         },
         "hovertemplate": "Region=10-Nord du Quebec<br>Date=%{x}<br>Number of Cases=%{y}",
         "legendgroup": "10-Nord du Quebec",
         "line": {
          "color": "#EEA6FB"
         },
         "mode": "lines",
         "name": "10-Nord du Quebec",
         "orientation": "v",
         "showlegend": true,
         "stackgroup": "1",
         "type": "scatter",
         "x": [
          "13th",
          "14th",
          "15th",
          "16th",
          "17th",
          "18th",
          "19th",
          "20th"
         ],
         "xaxis": "x",
         "y": [
          0,
          0,
          0,
          0,
          0,
          0,
          0,
          1
         ],
         "yaxis": "y"
        },
        {
         "hoverlabel": {
          "namelength": 0
         },
         "hovertemplate": "Region=11- Gaspesie<br>Date=%{x}<br>Number of Cases=%{y}",
         "legendgroup": "11- Gaspesie",
         "line": {
          "color": "#DC587D"
         },
         "mode": "lines",
         "name": "11- Gaspesie",
         "orientation": "v",
         "showlegend": true,
         "stackgroup": "1",
         "type": "scatter",
         "x": [
          "13th",
          "14th",
          "15th",
          "16th",
          "17th",
          "18th",
          "19th",
          "20th"
         ],
         "xaxis": "x",
         "y": [
          0,
          0,
          0,
          0,
          0,
          0,
          0,
          0
         ],
         "yaxis": "y"
        },
        {
         "hoverlabel": {
          "namelength": 0
         },
         "hovertemplate": "Region=12-Chaudiere<br>Date=%{x}<br>Number of Cases=%{y}",
         "legendgroup": "12-Chaudiere",
         "line": {
          "color": "#D626FF"
         },
         "mode": "lines",
         "name": "12-Chaudiere",
         "orientation": "v",
         "showlegend": true,
         "stackgroup": "1",
         "type": "scatter",
         "x": [
          "13th",
          "14th",
          "15th",
          "16th",
          "17th",
          "18th",
          "19th",
          "20th"
         ],
         "xaxis": "x",
         "y": [
          1,
          1,
          3,
          4,
          4,
          6,
          6,
          6
         ],
         "yaxis": "y"
        },
        {
         "hoverlabel": {
          "namelength": 0
         },
         "hovertemplate": "Region=13- Laval<br>Date=%{x}<br>Number of Cases=%{y}",
         "legendgroup": "13- Laval",
         "line": {
          "color": "#6E899C"
         },
         "mode": "lines",
         "name": "13- Laval",
         "orientation": "v",
         "showlegend": true,
         "stackgroup": "1",
         "type": "scatter",
         "x": [
          "13th",
          "14th",
          "15th",
          "16th",
          "17th",
          "18th",
          "19th",
          "20th"
         ],
         "xaxis": "x",
         "y": [
          0,
          0,
          0,
          0,
          0,
          0,
          1,
          1
         ],
         "yaxis": "y"
        },
        {
         "hoverlabel": {
          "namelength": 0
         },
         "hovertemplate": "Region=14- Lanaudiere<br>Date=%{x}<br>Number of Cases=%{y}",
         "legendgroup": "14- Lanaudiere",
         "line": {
          "color": "#00B5F7"
         },
         "mode": "lines",
         "name": "14- Lanaudiere",
         "orientation": "v",
         "showlegend": true,
         "stackgroup": "1",
         "type": "scatter",
         "x": [
          "13th",
          "14th",
          "15th",
          "16th",
          "17th",
          "18th",
          "19th",
          "20th"
         ],
         "xaxis": "x",
         "y": [
          0,
          1,
          2,
          3,
          6,
          6,
          7,
          7
         ],
         "yaxis": "y"
        },
        {
         "hoverlabel": {
          "namelength": 0
         },
         "hovertemplate": "Region=15- Laurentides<br>Date=%{x}<br>Number of Cases=%{y}",
         "legendgroup": "15- Laurentides",
         "line": {
          "color": "#B68E00"
         },
         "mode": "lines",
         "name": "15- Laurentides",
         "orientation": "v",
         "showlegend": true,
         "stackgroup": "1",
         "type": "scatter",
         "x": [
          "13th",
          "14th",
          "15th",
          "16th",
          "17th",
          "18th",
          "19th",
          "20th"
         ],
         "xaxis": "x",
         "y": [
          2,
          2,
          3,
          3,
          7,
          8,
          9,
          10
         ],
         "yaxis": "y"
        },
        {
         "hoverlabel": {
          "namelength": 0
         },
         "hovertemplate": "Region=16- Monteregie<br>Date=%{x}<br>Number of Cases=%{y}",
         "legendgroup": "16- Monteregie",
         "line": {
          "color": "#C9FBE5"
         },
         "mode": "lines",
         "name": "16- Monteregie",
         "orientation": "v",
         "showlegend": true,
         "stackgroup": "1",
         "type": "scatter",
         "x": [
          "13th",
          "14th",
          "15th",
          "16th",
          "17th",
          "18th",
          "19th",
          "20th"
         ],
         "xaxis": "x",
         "y": [
          4,
          7,
          9,
          10,
          13,
          13,
          19,
          21
         ],
         "yaxis": "y"
        },
        {
         "hoverlabel": {
          "namelength": 0
         },
         "hovertemplate": "Region=17- Centre du Quebec<br>Date=%{x}<br>Number of Cases=%{y}",
         "legendgroup": "17- Centre du Quebec",
         "line": {
          "color": "#FF0092"
         },
         "mode": "lines",
         "name": "17- Centre du Quebec",
         "orientation": "v",
         "showlegend": true,
         "stackgroup": "1",
         "type": "scatter",
         "x": [
          "13th",
          "14th",
          "15th",
          "16th",
          "17th",
          "18th",
          "19th",
          "20th"
         ],
         "xaxis": "x",
         "y": [
          0,
          0,
          0,
          0,
          0,
          0,
          0,
          0
         ],
         "yaxis": "y"
        },
        {
         "hoverlabel": {
          "namelength": 0
         },
         "hovertemplate": "Region=Undetermined<br>Date=%{x}<br>Number of Cases=%{y}",
         "legendgroup": "Undetermined",
         "line": {
          "color": "#22FFA7"
         },
         "mode": "lines",
         "name": "Undetermined",
         "orientation": "v",
         "showlegend": true,
         "stackgroup": "1",
         "type": "scatter",
         "x": [
          "13th",
          "14th",
          "15th",
          "16th",
          "17th",
          "18th",
          "19th",
          "20th"
         ],
         "xaxis": "x",
         "y": [
          0,
          1,
          2,
          3,
          5,
          5,
          8,
          18
         ],
         "yaxis": "y"
        },
        {
         "hoverlabel": {
          "namelength": 0
         },
         "hovertemplate": "Region=Hors Quebec<br>Date=%{x}<br>Number of Cases=%{y}",
         "legendgroup": "Hors Quebec",
         "line": {
          "color": "#E3EE9E"
         },
         "mode": "lines",
         "name": "Hors Quebec",
         "orientation": "v",
         "showlegend": true,
         "stackgroup": "1",
         "type": "scatter",
         "x": [
          "13th",
          "14th",
          "15th",
          "16th",
          "17th",
          "18th",
          "19th",
          "20th"
         ],
         "xaxis": "x",
         "y": [
          0,
          0,
          1,
          1,
          2,
          2,
          2,
          2
         ],
         "yaxis": "y"
        }
       ],
       "layout": {
        "legend": {
         "title": {
          "text": "Region"
         },
         "tracegroupgap": 0
        },
        "margin": {
         "t": 60
        },
        "template": {
         "data": {
          "bar": [
           {
            "error_x": {
             "color": "#2a3f5f"
            },
            "error_y": {
             "color": "#2a3f5f"
            },
            "marker": {
             "line": {
              "color": "#E5ECF6",
              "width": 0.5
             }
            },
            "type": "bar"
           }
          ],
          "barpolar": [
           {
            "marker": {
             "line": {
              "color": "#E5ECF6",
              "width": 0.5
             }
            },
            "type": "barpolar"
           }
          ],
          "carpet": [
           {
            "aaxis": {
             "endlinecolor": "#2a3f5f",
             "gridcolor": "white",
             "linecolor": "white",
             "minorgridcolor": "white",
             "startlinecolor": "#2a3f5f"
            },
            "baxis": {
             "endlinecolor": "#2a3f5f",
             "gridcolor": "white",
             "linecolor": "white",
             "minorgridcolor": "white",
             "startlinecolor": "#2a3f5f"
            },
            "type": "carpet"
           }
          ],
          "choropleth": [
           {
            "colorbar": {
             "outlinewidth": 0,
             "ticks": ""
            },
            "type": "choropleth"
           }
          ],
          "contour": [
           {
            "colorbar": {
             "outlinewidth": 0,
             "ticks": ""
            },
            "colorscale": [
             [
              0,
              "#0d0887"
             ],
             [
              0.1111111111111111,
              "#46039f"
             ],
             [
              0.2222222222222222,
              "#7201a8"
             ],
             [
              0.3333333333333333,
              "#9c179e"
             ],
             [
              0.4444444444444444,
              "#bd3786"
             ],
             [
              0.5555555555555556,
              "#d8576b"
             ],
             [
              0.6666666666666666,
              "#ed7953"
             ],
             [
              0.7777777777777778,
              "#fb9f3a"
             ],
             [
              0.8888888888888888,
              "#fdca26"
             ],
             [
              1,
              "#f0f921"
             ]
            ],
            "type": "contour"
           }
          ],
          "contourcarpet": [
           {
            "colorbar": {
             "outlinewidth": 0,
             "ticks": ""
            },
            "type": "contourcarpet"
           }
          ],
          "heatmap": [
           {
            "colorbar": {
             "outlinewidth": 0,
             "ticks": ""
            },
            "colorscale": [
             [
              0,
              "#0d0887"
             ],
             [
              0.1111111111111111,
              "#46039f"
             ],
             [
              0.2222222222222222,
              "#7201a8"
             ],
             [
              0.3333333333333333,
              "#9c179e"
             ],
             [
              0.4444444444444444,
              "#bd3786"
             ],
             [
              0.5555555555555556,
              "#d8576b"
             ],
             [
              0.6666666666666666,
              "#ed7953"
             ],
             [
              0.7777777777777778,
              "#fb9f3a"
             ],
             [
              0.8888888888888888,
              "#fdca26"
             ],
             [
              1,
              "#f0f921"
             ]
            ],
            "type": "heatmap"
           }
          ],
          "heatmapgl": [
           {
            "colorbar": {
             "outlinewidth": 0,
             "ticks": ""
            },
            "colorscale": [
             [
              0,
              "#0d0887"
             ],
             [
              0.1111111111111111,
              "#46039f"
             ],
             [
              0.2222222222222222,
              "#7201a8"
             ],
             [
              0.3333333333333333,
              "#9c179e"
             ],
             [
              0.4444444444444444,
              "#bd3786"
             ],
             [
              0.5555555555555556,
              "#d8576b"
             ],
             [
              0.6666666666666666,
              "#ed7953"
             ],
             [
              0.7777777777777778,
              "#fb9f3a"
             ],
             [
              0.8888888888888888,
              "#fdca26"
             ],
             [
              1,
              "#f0f921"
             ]
            ],
            "type": "heatmapgl"
           }
          ],
          "histogram": [
           {
            "marker": {
             "colorbar": {
              "outlinewidth": 0,
              "ticks": ""
             }
            },
            "type": "histogram"
           }
          ],
          "histogram2d": [
           {
            "colorbar": {
             "outlinewidth": 0,
             "ticks": ""
            },
            "colorscale": [
             [
              0,
              "#0d0887"
             ],
             [
              0.1111111111111111,
              "#46039f"
             ],
             [
              0.2222222222222222,
              "#7201a8"
             ],
             [
              0.3333333333333333,
              "#9c179e"
             ],
             [
              0.4444444444444444,
              "#bd3786"
             ],
             [
              0.5555555555555556,
              "#d8576b"
             ],
             [
              0.6666666666666666,
              "#ed7953"
             ],
             [
              0.7777777777777778,
              "#fb9f3a"
             ],
             [
              0.8888888888888888,
              "#fdca26"
             ],
             [
              1,
              "#f0f921"
             ]
            ],
            "type": "histogram2d"
           }
          ],
          "histogram2dcontour": [
           {
            "colorbar": {
             "outlinewidth": 0,
             "ticks": ""
            },
            "colorscale": [
             [
              0,
              "#0d0887"
             ],
             [
              0.1111111111111111,
              "#46039f"
             ],
             [
              0.2222222222222222,
              "#7201a8"
             ],
             [
              0.3333333333333333,
              "#9c179e"
             ],
             [
              0.4444444444444444,
              "#bd3786"
             ],
             [
              0.5555555555555556,
              "#d8576b"
             ],
             [
              0.6666666666666666,
              "#ed7953"
             ],
             [
              0.7777777777777778,
              "#fb9f3a"
             ],
             [
              0.8888888888888888,
              "#fdca26"
             ],
             [
              1,
              "#f0f921"
             ]
            ],
            "type": "histogram2dcontour"
           }
          ],
          "mesh3d": [
           {
            "colorbar": {
             "outlinewidth": 0,
             "ticks": ""
            },
            "type": "mesh3d"
           }
          ],
          "parcoords": [
           {
            "line": {
             "colorbar": {
              "outlinewidth": 0,
              "ticks": ""
             }
            },
            "type": "parcoords"
           }
          ],
          "pie": [
           {
            "automargin": true,
            "type": "pie"
           }
          ],
          "scatter": [
           {
            "marker": {
             "colorbar": {
              "outlinewidth": 0,
              "ticks": ""
             }
            },
            "type": "scatter"
           }
          ],
          "scatter3d": [
           {
            "line": {
             "colorbar": {
              "outlinewidth": 0,
              "ticks": ""
             }
            },
            "marker": {
             "colorbar": {
              "outlinewidth": 0,
              "ticks": ""
             }
            },
            "type": "scatter3d"
           }
          ],
          "scattercarpet": [
           {
            "marker": {
             "colorbar": {
              "outlinewidth": 0,
              "ticks": ""
             }
            },
            "type": "scattercarpet"
           }
          ],
          "scattergeo": [
           {
            "marker": {
             "colorbar": {
              "outlinewidth": 0,
              "ticks": ""
             }
            },
            "type": "scattergeo"
           }
          ],
          "scattergl": [
           {
            "marker": {
             "colorbar": {
              "outlinewidth": 0,
              "ticks": ""
             }
            },
            "type": "scattergl"
           }
          ],
          "scattermapbox": [
           {
            "marker": {
             "colorbar": {
              "outlinewidth": 0,
              "ticks": ""
             }
            },
            "type": "scattermapbox"
           }
          ],
          "scatterpolar": [
           {
            "marker": {
             "colorbar": {
              "outlinewidth": 0,
              "ticks": ""
             }
            },
            "type": "scatterpolar"
           }
          ],
          "scatterpolargl": [
           {
            "marker": {
             "colorbar": {
              "outlinewidth": 0,
              "ticks": ""
             }
            },
            "type": "scatterpolargl"
           }
          ],
          "scatterternary": [
           {
            "marker": {
             "colorbar": {
              "outlinewidth": 0,
              "ticks": ""
             }
            },
            "type": "scatterternary"
           }
          ],
          "surface": [
           {
            "colorbar": {
             "outlinewidth": 0,
             "ticks": ""
            },
            "colorscale": [
             [
              0,
              "#0d0887"
             ],
             [
              0.1111111111111111,
              "#46039f"
             ],
             [
              0.2222222222222222,
              "#7201a8"
             ],
             [
              0.3333333333333333,
              "#9c179e"
             ],
             [
              0.4444444444444444,
              "#bd3786"
             ],
             [
              0.5555555555555556,
              "#d8576b"
             ],
             [
              0.6666666666666666,
              "#ed7953"
             ],
             [
              0.7777777777777778,
              "#fb9f3a"
             ],
             [
              0.8888888888888888,
              "#fdca26"
             ],
             [
              1,
              "#f0f921"
             ]
            ],
            "type": "surface"
           }
          ],
          "table": [
           {
            "cells": {
             "fill": {
              "color": "#EBF0F8"
             },
             "line": {
              "color": "white"
             }
            },
            "header": {
             "fill": {
              "color": "#C8D4E3"
             },
             "line": {
              "color": "white"
             }
            },
            "type": "table"
           }
          ]
         },
         "layout": {
          "annotationdefaults": {
           "arrowcolor": "#2a3f5f",
           "arrowhead": 0,
           "arrowwidth": 1
          },
          "coloraxis": {
           "colorbar": {
            "outlinewidth": 0,
            "ticks": ""
           }
          },
          "colorscale": {
           "diverging": [
            [
             0,
             "#8e0152"
            ],
            [
             0.1,
             "#c51b7d"
            ],
            [
             0.2,
             "#de77ae"
            ],
            [
             0.3,
             "#f1b6da"
            ],
            [
             0.4,
             "#fde0ef"
            ],
            [
             0.5,
             "#f7f7f7"
            ],
            [
             0.6,
             "#e6f5d0"
            ],
            [
             0.7,
             "#b8e186"
            ],
            [
             0.8,
             "#7fbc41"
            ],
            [
             0.9,
             "#4d9221"
            ],
            [
             1,
             "#276419"
            ]
           ],
           "sequential": [
            [
             0,
             "#0d0887"
            ],
            [
             0.1111111111111111,
             "#46039f"
            ],
            [
             0.2222222222222222,
             "#7201a8"
            ],
            [
             0.3333333333333333,
             "#9c179e"
            ],
            [
             0.4444444444444444,
             "#bd3786"
            ],
            [
             0.5555555555555556,
             "#d8576b"
            ],
            [
             0.6666666666666666,
             "#ed7953"
            ],
            [
             0.7777777777777778,
             "#fb9f3a"
            ],
            [
             0.8888888888888888,
             "#fdca26"
            ],
            [
             1,
             "#f0f921"
            ]
           ],
           "sequentialminus": [
            [
             0,
             "#0d0887"
            ],
            [
             0.1111111111111111,
             "#46039f"
            ],
            [
             0.2222222222222222,
             "#7201a8"
            ],
            [
             0.3333333333333333,
             "#9c179e"
            ],
            [
             0.4444444444444444,
             "#bd3786"
            ],
            [
             0.5555555555555556,
             "#d8576b"
            ],
            [
             0.6666666666666666,
             "#ed7953"
            ],
            [
             0.7777777777777778,
             "#fb9f3a"
            ],
            [
             0.8888888888888888,
             "#fdca26"
            ],
            [
             1,
             "#f0f921"
            ]
           ]
          },
          "colorway": [
           "#636efa",
           "#EF553B",
           "#00cc96",
           "#ab63fa",
           "#FFA15A",
           "#19d3f3",
           "#FF6692",
           "#B6E880",
           "#FF97FF",
           "#FECB52"
          ],
          "font": {
           "color": "#2a3f5f"
          },
          "geo": {
           "bgcolor": "white",
           "lakecolor": "white",
           "landcolor": "#E5ECF6",
           "showlakes": true,
           "showland": true,
           "subunitcolor": "white"
          },
          "hoverlabel": {
           "align": "left"
          },
          "hovermode": "closest",
          "mapbox": {
           "style": "light"
          },
          "paper_bgcolor": "white",
          "plot_bgcolor": "#E5ECF6",
          "polar": {
           "angularaxis": {
            "gridcolor": "white",
            "linecolor": "white",
            "ticks": ""
           },
           "bgcolor": "#E5ECF6",
           "radialaxis": {
            "gridcolor": "white",
            "linecolor": "white",
            "ticks": ""
           }
          },
          "scene": {
           "xaxis": {
            "backgroundcolor": "#E5ECF6",
            "gridcolor": "white",
            "gridwidth": 2,
            "linecolor": "white",
            "showbackground": true,
            "ticks": "",
            "zerolinecolor": "white"
           },
           "yaxis": {
            "backgroundcolor": "#E5ECF6",
            "gridcolor": "white",
            "gridwidth": 2,
            "linecolor": "white",
            "showbackground": true,
            "ticks": "",
            "zerolinecolor": "white"
           },
           "zaxis": {
            "backgroundcolor": "#E5ECF6",
            "gridcolor": "white",
            "gridwidth": 2,
            "linecolor": "white",
            "showbackground": true,
            "ticks": "",
            "zerolinecolor": "white"
           }
          },
          "shapedefaults": {
           "line": {
            "color": "#2a3f5f"
           }
          },
          "ternary": {
           "aaxis": {
            "gridcolor": "white",
            "linecolor": "white",
            "ticks": ""
           },
           "baxis": {
            "gridcolor": "white",
            "linecolor": "white",
            "ticks": ""
           },
           "bgcolor": "#E5ECF6",
           "caxis": {
            "gridcolor": "white",
            "linecolor": "white",
            "ticks": ""
           }
          },
          "title": {
           "x": 0.05
          },
          "xaxis": {
           "automargin": true,
           "gridcolor": "white",
           "linecolor": "white",
           "ticks": "",
           "title": {
            "standoff": 15
           },
           "zerolinecolor": "white",
           "zerolinewidth": 2
          },
          "yaxis": {
           "automargin": true,
           "gridcolor": "white",
           "linecolor": "white",
           "ticks": "",
           "title": {
            "standoff": 15
           },
           "zerolinecolor": "white",
           "zerolinewidth": 2
          }
         }
        },
        "xaxis": {
         "anchor": "y",
         "domain": [
          0,
          1
         ],
         "title": {
          "text": "Date"
         }
        },
        "yaxis": {
         "anchor": "x",
         "domain": [
          0,
          1
         ],
         "title": {
          "text": "Number of Cases"
         }
        }
       }
      },
      "text/html": [
       "<div>\n",
       "        \n",
       "        \n",
       "            <div id=\"28d03c30-fb62-4142-85e7-68fb4fcb21b4\" class=\"plotly-graph-div\" style=\"height:525px; width:100%;\"></div>\n",
       "            <script type=\"text/javascript\">\n",
       "                require([\"plotly\"], function(Plotly) {\n",
       "                    window.PLOTLYENV=window.PLOTLYENV || {};\n",
       "                    \n",
       "                if (document.getElementById(\"28d03c30-fb62-4142-85e7-68fb4fcb21b4\")) {\n",
       "                    Plotly.newPlot(\n",
       "                        '28d03c30-fb62-4142-85e7-68fb4fcb21b4',\n",
       "                        [{\"hoverlabel\": {\"namelength\": 0}, \"hovertemplate\": \"Region=1 - Bas St Laurent<br>Date=%{x}<br>Number of Cases=%{y}\", \"legendgroup\": \"1 - Bas St Laurent\", \"line\": {\"color\": \"#FD3216\"}, \"mode\": \"lines\", \"name\": \"1 - Bas St Laurent\", \"orientation\": \"v\", \"showlegend\": true, \"stackgroup\": \"1\", \"type\": \"scatter\", \"x\": [\"13th\", \"14th\", \"15th\", \"16th\", \"17th\", \"18th\", \"19th\", \"20th\"], \"xaxis\": \"x\", \"y\": [0.0, 0.0, 0.0, 0.0, 0.0, 0.0, 1.0, 1.0], \"yaxis\": \"y\"}, {\"hoverlabel\": {\"namelength\": 0}, \"hovertemplate\": \"Region=2- Sagunay/ Lac St jean<br>Date=%{x}<br>Number of Cases=%{y}\", \"legendgroup\": \"2- Sagunay/ Lac St jean\", \"line\": {\"color\": \"#00FE35\"}, \"mode\": \"lines\", \"name\": \"2- Sagunay/ Lac St jean\", \"orientation\": \"v\", \"showlegend\": true, \"stackgroup\": \"1\", \"type\": \"scatter\", \"x\": [\"13th\", \"14th\", \"15th\", \"16th\", \"17th\", \"18th\", \"19th\", \"20th\"], \"xaxis\": \"x\", \"y\": [0.0, 0.0, 0.0, 0.0, 0.0, 0.0, 0.0, 0.0], \"yaxis\": \"y\"}, {\"hoverlabel\": {\"namelength\": 0}, \"hovertemplate\": \"Region=3- Cap Nat<br>Date=%{x}<br>Number of Cases=%{y}\", \"legendgroup\": \"3- Cap Nat\", \"line\": {\"color\": \"#6A76FC\"}, \"mode\": \"lines\", \"name\": \"3- Cap Nat\", \"orientation\": \"v\", \"showlegend\": true, \"stackgroup\": \"1\", \"type\": \"scatter\", \"x\": [\"13th\", \"14th\", \"15th\", \"16th\", \"17th\", \"18th\", \"19th\", \"20th\"], \"xaxis\": \"x\", \"y\": [0.0, 0.0, 2.0, 2.0, 3.0, 8.0, 10.0, 10.0], \"yaxis\": \"y\"}, {\"hoverlabel\": {\"namelength\": 0}, \"hovertemplate\": \"Region=4- Mauricie<br>Date=%{x}<br>Number of Cases=%{y}\", \"legendgroup\": \"4- Mauricie\", \"line\": {\"color\": \"#FED4C4\"}, \"mode\": \"lines\", \"name\": \"4- Mauricie\", \"orientation\": \"v\", \"showlegend\": true, \"stackgroup\": \"1\", \"type\": \"scatter\", \"x\": [\"13th\", \"14th\", \"15th\", \"16th\", \"17th\", \"18th\", \"19th\", \"20th\"], \"xaxis\": \"x\", \"y\": [1.0, 1.0, 3.0, 3.0, 3.0, 3.0, 3.0, 4.0], \"yaxis\": \"y\"}, {\"hoverlabel\": {\"namelength\": 0}, \"hovertemplate\": \"Region=5-Estrie<br>Date=%{x}<br>Number of Cases=%{y}\", \"legendgroup\": \"5-Estrie\", \"line\": {\"color\": \"#FE00CE\"}, \"mode\": \"lines\", \"name\": \"5-Estrie\", \"orientation\": \"v\", \"showlegend\": true, \"stackgroup\": \"1\", \"type\": \"scatter\", \"x\": [\"13th\", \"14th\", \"15th\", \"16th\", \"17th\", \"18th\", \"19th\", \"20th\"], \"xaxis\": \"x\", \"y\": [2.0, 3.0, 4.0, 4.0, 9.0, 18.0, 26.0, 26.0], \"yaxis\": \"y\"}, {\"hoverlabel\": {\"namelength\": 0}, \"hovertemplate\": \"Region=6- Montreal<br>Date=%{x}<br>Number of Cases=%{y}\", \"legendgroup\": \"6- Montreal\", \"line\": {\"color\": \"#0DF9FF\"}, \"mode\": \"lines\", \"name\": \"6- Montreal\", \"orientation\": \"v\", \"showlegend\": true, \"stackgroup\": \"1\", \"type\": \"scatter\", \"x\": [\"13th\", \"14th\", \"15th\", \"16th\", \"17th\", \"18th\", \"19th\", \"20th\"], \"xaxis\": \"x\", \"y\": [7.0, 8.0, 10.0, 18.0, 22.0, 24.0, 28.0, 31.0], \"yaxis\": \"y\"}, {\"hoverlabel\": {\"namelength\": 0}, \"hovertemplate\": \"Region=7- Outaouais<br>Date=%{x}<br>Number of Cases=%{y}\", \"legendgroup\": \"7- Outaouais\", \"line\": {\"color\": \"#F6F926\"}, \"mode\": \"lines\", \"name\": \"7- Outaouais\", \"orientation\": \"v\", \"showlegend\": true, \"stackgroup\": \"1\", \"type\": \"scatter\", \"x\": [\"13th\", \"14th\", \"15th\", \"16th\", \"17th\", \"18th\", \"19th\", \"20th\"], \"xaxis\": \"x\", \"y\": [0.0, 0.0, 0.0, 0.0, 0.0, 1.0, 1.0, 1.0], \"yaxis\": \"y\"}, {\"hoverlabel\": {\"namelength\": 0}, \"hovertemplate\": \"Region=8- Abititi<br>Date=%{x}<br>Number of Cases=%{y}\", \"legendgroup\": \"8- Abititi\", \"line\": {\"color\": \"#FF9616\"}, \"mode\": \"lines\", \"name\": \"8- Abititi\", \"orientation\": \"v\", \"showlegend\": true, \"stackgroup\": \"1\", \"type\": \"scatter\", \"x\": [\"13th\", \"14th\", \"15th\", \"16th\", \"17th\", \"18th\", \"19th\", \"20th\"], \"xaxis\": \"x\", \"y\": [0.0, 0.0, 0.0, 0.0, 0.0, 0.0, 0.0, 0.0], \"yaxis\": \"y\"}, {\"hoverlabel\": {\"namelength\": 0}, \"hovertemplate\": \"Region=9-Cote Nord<br>Date=%{x}<br>Number of Cases=%{y}\", \"legendgroup\": \"9-Cote Nord\", \"line\": {\"color\": \"#479B55\"}, \"mode\": \"lines\", \"name\": \"9-Cote Nord\", \"orientation\": \"v\", \"showlegend\": true, \"stackgroup\": \"1\", \"type\": \"scatter\", \"x\": [\"13th\", \"14th\", \"15th\", \"16th\", \"17th\", \"18th\", \"19th\", \"20th\"], \"xaxis\": \"x\", \"y\": [0.0, 0.0, 0.0, 0.0, 0.0, 0.0, 0.0, 0.0], \"yaxis\": \"y\"}, {\"hoverlabel\": {\"namelength\": 0}, \"hovertemplate\": \"Region=10-Nord du Quebec<br>Date=%{x}<br>Number of Cases=%{y}\", \"legendgroup\": \"10-Nord du Quebec\", \"line\": {\"color\": \"#EEA6FB\"}, \"mode\": \"lines\", \"name\": \"10-Nord du Quebec\", \"orientation\": \"v\", \"showlegend\": true, \"stackgroup\": \"1\", \"type\": \"scatter\", \"x\": [\"13th\", \"14th\", \"15th\", \"16th\", \"17th\", \"18th\", \"19th\", \"20th\"], \"xaxis\": \"x\", \"y\": [0.0, 0.0, 0.0, 0.0, 0.0, 0.0, 0.0, 1.0], \"yaxis\": \"y\"}, {\"hoverlabel\": {\"namelength\": 0}, \"hovertemplate\": \"Region=11- Gaspesie<br>Date=%{x}<br>Number of Cases=%{y}\", \"legendgroup\": \"11- Gaspesie\", \"line\": {\"color\": \"#DC587D\"}, \"mode\": \"lines\", \"name\": \"11- Gaspesie\", \"orientation\": \"v\", \"showlegend\": true, \"stackgroup\": \"1\", \"type\": \"scatter\", \"x\": [\"13th\", \"14th\", \"15th\", \"16th\", \"17th\", \"18th\", \"19th\", \"20th\"], \"xaxis\": \"x\", \"y\": [0.0, 0.0, 0.0, 0.0, 0.0, 0.0, 0.0, 0.0], \"yaxis\": \"y\"}, {\"hoverlabel\": {\"namelength\": 0}, \"hovertemplate\": \"Region=12-Chaudiere<br>Date=%{x}<br>Number of Cases=%{y}\", \"legendgroup\": \"12-Chaudiere\", \"line\": {\"color\": \"#D626FF\"}, \"mode\": \"lines\", \"name\": \"12-Chaudiere\", \"orientation\": \"v\", \"showlegend\": true, \"stackgroup\": \"1\", \"type\": \"scatter\", \"x\": [\"13th\", \"14th\", \"15th\", \"16th\", \"17th\", \"18th\", \"19th\", \"20th\"], \"xaxis\": \"x\", \"y\": [1.0, 1.0, 3.0, 4.0, 4.0, 6.0, 6.0, 6.0], \"yaxis\": \"y\"}, {\"hoverlabel\": {\"namelength\": 0}, \"hovertemplate\": \"Region=13- Laval<br>Date=%{x}<br>Number of Cases=%{y}\", \"legendgroup\": \"13- Laval\", \"line\": {\"color\": \"#6E899C\"}, \"mode\": \"lines\", \"name\": \"13- Laval\", \"orientation\": \"v\", \"showlegend\": true, \"stackgroup\": \"1\", \"type\": \"scatter\", \"x\": [\"13th\", \"14th\", \"15th\", \"16th\", \"17th\", \"18th\", \"19th\", \"20th\"], \"xaxis\": \"x\", \"y\": [0.0, 0.0, 0.0, 0.0, 0.0, 0.0, 1.0, 1.0], \"yaxis\": \"y\"}, {\"hoverlabel\": {\"namelength\": 0}, \"hovertemplate\": \"Region=14- Lanaudiere<br>Date=%{x}<br>Number of Cases=%{y}\", \"legendgroup\": \"14- Lanaudiere\", \"line\": {\"color\": \"#00B5F7\"}, \"mode\": \"lines\", \"name\": \"14- Lanaudiere\", \"orientation\": \"v\", \"showlegend\": true, \"stackgroup\": \"1\", \"type\": \"scatter\", \"x\": [\"13th\", \"14th\", \"15th\", \"16th\", \"17th\", \"18th\", \"19th\", \"20th\"], \"xaxis\": \"x\", \"y\": [0.0, 1.0, 2.0, 3.0, 6.0, 6.0, 7.0, 7.0], \"yaxis\": \"y\"}, {\"hoverlabel\": {\"namelength\": 0}, \"hovertemplate\": \"Region=15- Laurentides<br>Date=%{x}<br>Number of Cases=%{y}\", \"legendgroup\": \"15- Laurentides\", \"line\": {\"color\": \"#B68E00\"}, \"mode\": \"lines\", \"name\": \"15- Laurentides\", \"orientation\": \"v\", \"showlegend\": true, \"stackgroup\": \"1\", \"type\": \"scatter\", \"x\": [\"13th\", \"14th\", \"15th\", \"16th\", \"17th\", \"18th\", \"19th\", \"20th\"], \"xaxis\": \"x\", \"y\": [2.0, 2.0, 3.0, 3.0, 7.0, 8.0, 9.0, 10.0], \"yaxis\": \"y\"}, {\"hoverlabel\": {\"namelength\": 0}, \"hovertemplate\": \"Region=16- Monteregie<br>Date=%{x}<br>Number of Cases=%{y}\", \"legendgroup\": \"16- Monteregie\", \"line\": {\"color\": \"#C9FBE5\"}, \"mode\": \"lines\", \"name\": \"16- Monteregie\", \"orientation\": \"v\", \"showlegend\": true, \"stackgroup\": \"1\", \"type\": \"scatter\", \"x\": [\"13th\", \"14th\", \"15th\", \"16th\", \"17th\", \"18th\", \"19th\", \"20th\"], \"xaxis\": \"x\", \"y\": [4.0, 7.0, 9.0, 10.0, 13.0, 13.0, 19.0, 21.0], \"yaxis\": \"y\"}, {\"hoverlabel\": {\"namelength\": 0}, \"hovertemplate\": \"Region=17- Centre du Quebec<br>Date=%{x}<br>Number of Cases=%{y}\", \"legendgroup\": \"17- Centre du Quebec\", \"line\": {\"color\": \"#FF0092\"}, \"mode\": \"lines\", \"name\": \"17- Centre du Quebec\", \"orientation\": \"v\", \"showlegend\": true, \"stackgroup\": \"1\", \"type\": \"scatter\", \"x\": [\"13th\", \"14th\", \"15th\", \"16th\", \"17th\", \"18th\", \"19th\", \"20th\"], \"xaxis\": \"x\", \"y\": [0.0, 0.0, 0.0, 0.0, 0.0, 0.0, 0.0, 0.0], \"yaxis\": \"y\"}, {\"hoverlabel\": {\"namelength\": 0}, \"hovertemplate\": \"Region=Undetermined<br>Date=%{x}<br>Number of Cases=%{y}\", \"legendgroup\": \"Undetermined\", \"line\": {\"color\": \"#22FFA7\"}, \"mode\": \"lines\", \"name\": \"Undetermined\", \"orientation\": \"v\", \"showlegend\": true, \"stackgroup\": \"1\", \"type\": \"scatter\", \"x\": [\"13th\", \"14th\", \"15th\", \"16th\", \"17th\", \"18th\", \"19th\", \"20th\"], \"xaxis\": \"x\", \"y\": [0.0, 1.0, 2.0, 3.0, 5.0, 5.0, 8.0, 18.0], \"yaxis\": \"y\"}, {\"hoverlabel\": {\"namelength\": 0}, \"hovertemplate\": \"Region=Hors Quebec<br>Date=%{x}<br>Number of Cases=%{y}\", \"legendgroup\": \"Hors Quebec\", \"line\": {\"color\": \"#E3EE9E\"}, \"mode\": \"lines\", \"name\": \"Hors Quebec\", \"orientation\": \"v\", \"showlegend\": true, \"stackgroup\": \"1\", \"type\": \"scatter\", \"x\": [\"13th\", \"14th\", \"15th\", \"16th\", \"17th\", \"18th\", \"19th\", \"20th\"], \"xaxis\": \"x\", \"y\": [0.0, 0.0, 1.0, 1.0, 2.0, 2.0, 2.0, 2.0], \"yaxis\": \"y\"}],\n",
       "                        {\"legend\": {\"title\": {\"text\": \"Region\"}, \"tracegroupgap\": 0}, \"margin\": {\"t\": 60}, \"template\": {\"data\": {\"bar\": [{\"error_x\": {\"color\": \"#2a3f5f\"}, \"error_y\": {\"color\": \"#2a3f5f\"}, \"marker\": {\"line\": {\"color\": \"#E5ECF6\", \"width\": 0.5}}, \"type\": \"bar\"}], \"barpolar\": [{\"marker\": {\"line\": {\"color\": \"#E5ECF6\", \"width\": 0.5}}, \"type\": \"barpolar\"}], \"carpet\": [{\"aaxis\": {\"endlinecolor\": \"#2a3f5f\", \"gridcolor\": \"white\", \"linecolor\": \"white\", \"minorgridcolor\": \"white\", \"startlinecolor\": \"#2a3f5f\"}, \"baxis\": {\"endlinecolor\": \"#2a3f5f\", \"gridcolor\": \"white\", \"linecolor\": \"white\", \"minorgridcolor\": \"white\", \"startlinecolor\": \"#2a3f5f\"}, \"type\": \"carpet\"}], \"choropleth\": [{\"colorbar\": {\"outlinewidth\": 0, \"ticks\": \"\"}, \"type\": \"choropleth\"}], \"contour\": [{\"colorbar\": {\"outlinewidth\": 0, \"ticks\": \"\"}, \"colorscale\": [[0.0, \"#0d0887\"], [0.1111111111111111, \"#46039f\"], [0.2222222222222222, \"#7201a8\"], [0.3333333333333333, \"#9c179e\"], [0.4444444444444444, \"#bd3786\"], [0.5555555555555556, \"#d8576b\"], [0.6666666666666666, \"#ed7953\"], [0.7777777777777778, \"#fb9f3a\"], [0.8888888888888888, \"#fdca26\"], [1.0, \"#f0f921\"]], \"type\": \"contour\"}], \"contourcarpet\": [{\"colorbar\": {\"outlinewidth\": 0, \"ticks\": \"\"}, \"type\": \"contourcarpet\"}], \"heatmap\": [{\"colorbar\": {\"outlinewidth\": 0, \"ticks\": \"\"}, \"colorscale\": [[0.0, \"#0d0887\"], [0.1111111111111111, \"#46039f\"], [0.2222222222222222, \"#7201a8\"], [0.3333333333333333, \"#9c179e\"], [0.4444444444444444, \"#bd3786\"], [0.5555555555555556, \"#d8576b\"], [0.6666666666666666, \"#ed7953\"], [0.7777777777777778, \"#fb9f3a\"], [0.8888888888888888, \"#fdca26\"], [1.0, \"#f0f921\"]], \"type\": \"heatmap\"}], \"heatmapgl\": [{\"colorbar\": {\"outlinewidth\": 0, \"ticks\": \"\"}, \"colorscale\": [[0.0, \"#0d0887\"], [0.1111111111111111, \"#46039f\"], [0.2222222222222222, \"#7201a8\"], [0.3333333333333333, \"#9c179e\"], [0.4444444444444444, \"#bd3786\"], [0.5555555555555556, \"#d8576b\"], [0.6666666666666666, \"#ed7953\"], [0.7777777777777778, \"#fb9f3a\"], [0.8888888888888888, \"#fdca26\"], [1.0, \"#f0f921\"]], \"type\": \"heatmapgl\"}], \"histogram\": [{\"marker\": {\"colorbar\": {\"outlinewidth\": 0, \"ticks\": \"\"}}, \"type\": \"histogram\"}], \"histogram2d\": [{\"colorbar\": {\"outlinewidth\": 0, \"ticks\": \"\"}, \"colorscale\": [[0.0, \"#0d0887\"], [0.1111111111111111, \"#46039f\"], [0.2222222222222222, \"#7201a8\"], [0.3333333333333333, \"#9c179e\"], [0.4444444444444444, \"#bd3786\"], [0.5555555555555556, \"#d8576b\"], [0.6666666666666666, \"#ed7953\"], [0.7777777777777778, \"#fb9f3a\"], [0.8888888888888888, \"#fdca26\"], [1.0, \"#f0f921\"]], \"type\": \"histogram2d\"}], \"histogram2dcontour\": [{\"colorbar\": {\"outlinewidth\": 0, \"ticks\": \"\"}, \"colorscale\": [[0.0, \"#0d0887\"], [0.1111111111111111, \"#46039f\"], [0.2222222222222222, \"#7201a8\"], [0.3333333333333333, \"#9c179e\"], [0.4444444444444444, \"#bd3786\"], [0.5555555555555556, \"#d8576b\"], [0.6666666666666666, \"#ed7953\"], [0.7777777777777778, \"#fb9f3a\"], [0.8888888888888888, \"#fdca26\"], [1.0, \"#f0f921\"]], \"type\": \"histogram2dcontour\"}], \"mesh3d\": [{\"colorbar\": {\"outlinewidth\": 0, \"ticks\": \"\"}, \"type\": \"mesh3d\"}], \"parcoords\": [{\"line\": {\"colorbar\": {\"outlinewidth\": 0, \"ticks\": \"\"}}, \"type\": \"parcoords\"}], \"pie\": [{\"automargin\": true, \"type\": \"pie\"}], \"scatter\": [{\"marker\": {\"colorbar\": {\"outlinewidth\": 0, \"ticks\": \"\"}}, \"type\": \"scatter\"}], \"scatter3d\": [{\"line\": {\"colorbar\": {\"outlinewidth\": 0, \"ticks\": \"\"}}, \"marker\": {\"colorbar\": {\"outlinewidth\": 0, \"ticks\": \"\"}}, \"type\": \"scatter3d\"}], \"scattercarpet\": [{\"marker\": {\"colorbar\": {\"outlinewidth\": 0, \"ticks\": \"\"}}, \"type\": \"scattercarpet\"}], \"scattergeo\": [{\"marker\": {\"colorbar\": {\"outlinewidth\": 0, \"ticks\": \"\"}}, \"type\": \"scattergeo\"}], \"scattergl\": [{\"marker\": {\"colorbar\": {\"outlinewidth\": 0, \"ticks\": \"\"}}, \"type\": \"scattergl\"}], \"scattermapbox\": [{\"marker\": {\"colorbar\": {\"outlinewidth\": 0, \"ticks\": \"\"}}, \"type\": \"scattermapbox\"}], \"scatterpolar\": [{\"marker\": {\"colorbar\": {\"outlinewidth\": 0, \"ticks\": \"\"}}, \"type\": \"scatterpolar\"}], \"scatterpolargl\": [{\"marker\": {\"colorbar\": {\"outlinewidth\": 0, \"ticks\": \"\"}}, \"type\": \"scatterpolargl\"}], \"scatterternary\": [{\"marker\": {\"colorbar\": {\"outlinewidth\": 0, \"ticks\": \"\"}}, \"type\": \"scatterternary\"}], \"surface\": [{\"colorbar\": {\"outlinewidth\": 0, \"ticks\": \"\"}, \"colorscale\": [[0.0, \"#0d0887\"], [0.1111111111111111, \"#46039f\"], [0.2222222222222222, \"#7201a8\"], [0.3333333333333333, \"#9c179e\"], [0.4444444444444444, \"#bd3786\"], [0.5555555555555556, \"#d8576b\"], [0.6666666666666666, \"#ed7953\"], [0.7777777777777778, \"#fb9f3a\"], [0.8888888888888888, \"#fdca26\"], [1.0, \"#f0f921\"]], \"type\": \"surface\"}], \"table\": [{\"cells\": {\"fill\": {\"color\": \"#EBF0F8\"}, \"line\": {\"color\": \"white\"}}, \"header\": {\"fill\": {\"color\": \"#C8D4E3\"}, \"line\": {\"color\": \"white\"}}, \"type\": \"table\"}]}, \"layout\": {\"annotationdefaults\": {\"arrowcolor\": \"#2a3f5f\", \"arrowhead\": 0, \"arrowwidth\": 1}, \"coloraxis\": {\"colorbar\": {\"outlinewidth\": 0, \"ticks\": \"\"}}, \"colorscale\": {\"diverging\": [[0, \"#8e0152\"], [0.1, \"#c51b7d\"], [0.2, \"#de77ae\"], [0.3, \"#f1b6da\"], [0.4, \"#fde0ef\"], [0.5, \"#f7f7f7\"], [0.6, \"#e6f5d0\"], [0.7, \"#b8e186\"], [0.8, \"#7fbc41\"], [0.9, \"#4d9221\"], [1, \"#276419\"]], \"sequential\": [[0.0, \"#0d0887\"], [0.1111111111111111, \"#46039f\"], [0.2222222222222222, \"#7201a8\"], [0.3333333333333333, \"#9c179e\"], [0.4444444444444444, \"#bd3786\"], [0.5555555555555556, \"#d8576b\"], [0.6666666666666666, \"#ed7953\"], [0.7777777777777778, \"#fb9f3a\"], [0.8888888888888888, \"#fdca26\"], [1.0, \"#f0f921\"]], \"sequentialminus\": [[0.0, \"#0d0887\"], [0.1111111111111111, \"#46039f\"], [0.2222222222222222, \"#7201a8\"], [0.3333333333333333, \"#9c179e\"], [0.4444444444444444, \"#bd3786\"], [0.5555555555555556, \"#d8576b\"], [0.6666666666666666, \"#ed7953\"], [0.7777777777777778, \"#fb9f3a\"], [0.8888888888888888, \"#fdca26\"], [1.0, \"#f0f921\"]]}, \"colorway\": [\"#636efa\", \"#EF553B\", \"#00cc96\", \"#ab63fa\", \"#FFA15A\", \"#19d3f3\", \"#FF6692\", \"#B6E880\", \"#FF97FF\", \"#FECB52\"], \"font\": {\"color\": \"#2a3f5f\"}, \"geo\": {\"bgcolor\": \"white\", \"lakecolor\": \"white\", \"landcolor\": \"#E5ECF6\", \"showlakes\": true, \"showland\": true, \"subunitcolor\": \"white\"}, \"hoverlabel\": {\"align\": \"left\"}, \"hovermode\": \"closest\", \"mapbox\": {\"style\": \"light\"}, \"paper_bgcolor\": \"white\", \"plot_bgcolor\": \"#E5ECF6\", \"polar\": {\"angularaxis\": {\"gridcolor\": \"white\", \"linecolor\": \"white\", \"ticks\": \"\"}, \"bgcolor\": \"#E5ECF6\", \"radialaxis\": {\"gridcolor\": \"white\", \"linecolor\": \"white\", \"ticks\": \"\"}}, \"scene\": {\"xaxis\": {\"backgroundcolor\": \"#E5ECF6\", \"gridcolor\": \"white\", \"gridwidth\": 2, \"linecolor\": \"white\", \"showbackground\": true, \"ticks\": \"\", \"zerolinecolor\": \"white\"}, \"yaxis\": {\"backgroundcolor\": \"#E5ECF6\", \"gridcolor\": \"white\", \"gridwidth\": 2, \"linecolor\": \"white\", \"showbackground\": true, \"ticks\": \"\", \"zerolinecolor\": \"white\"}, \"zaxis\": {\"backgroundcolor\": \"#E5ECF6\", \"gridcolor\": \"white\", \"gridwidth\": 2, \"linecolor\": \"white\", \"showbackground\": true, \"ticks\": \"\", \"zerolinecolor\": \"white\"}}, \"shapedefaults\": {\"line\": {\"color\": \"#2a3f5f\"}}, \"ternary\": {\"aaxis\": {\"gridcolor\": \"white\", \"linecolor\": \"white\", \"ticks\": \"\"}, \"baxis\": {\"gridcolor\": \"white\", \"linecolor\": \"white\", \"ticks\": \"\"}, \"bgcolor\": \"#E5ECF6\", \"caxis\": {\"gridcolor\": \"white\", \"linecolor\": \"white\", \"ticks\": \"\"}}, \"title\": {\"x\": 0.05}, \"xaxis\": {\"automargin\": true, \"gridcolor\": \"white\", \"linecolor\": \"white\", \"ticks\": \"\", \"title\": {\"standoff\": 15}, \"zerolinecolor\": \"white\", \"zerolinewidth\": 2}, \"yaxis\": {\"automargin\": true, \"gridcolor\": \"white\", \"linecolor\": \"white\", \"ticks\": \"\", \"title\": {\"standoff\": 15}, \"zerolinecolor\": \"white\", \"zerolinewidth\": 2}}}, \"xaxis\": {\"anchor\": \"y\", \"domain\": [0.0, 1.0], \"title\": {\"text\": \"Date\"}}, \"yaxis\": {\"anchor\": \"x\", \"domain\": [0.0, 1.0], \"title\": {\"text\": \"Number of Cases\"}}},\n",
       "                        {\"responsive\": true}\n",
       "                    ).then(function(){\n",
       "                            \n",
       "var gd = document.getElementById('28d03c30-fb62-4142-85e7-68fb4fcb21b4');\n",
       "var x = new MutationObserver(function (mutations, observer) {{\n",
       "        var display = window.getComputedStyle(gd).display;\n",
       "        if (!display || display === 'none') {{\n",
       "            console.log([gd, 'removed!']);\n",
       "            Plotly.purge(gd);\n",
       "            observer.disconnect();\n",
       "        }}\n",
       "}});\n",
       "\n",
       "// Listen for the removal of the full notebook cells\n",
       "var notebookContainer = gd.closest('#notebook-container');\n",
       "if (notebookContainer) {{\n",
       "    x.observe(notebookContainer, {childList: true});\n",
       "}}\n",
       "\n",
       "// Listen for the clearing of the current output cell\n",
       "var outputEl = gd.closest('.output');\n",
       "if (outputEl) {{\n",
       "    x.observe(outputEl, {childList: true});\n",
       "}}\n",
       "\n",
       "                        })\n",
       "                };\n",
       "                });\n",
       "            </script>\n",
       "        </div>"
      ]
     },
     "metadata": {},
     "output_type": "display_data"
    }
   ],
   "source": [
    "fig = px.area(stacked_df, x=\"Date\", y=\"Number of Cases\", color = \"Region\", color_discrete_sequence= px.colors.qualitative.Light24)\n",
    "fig.show()"
   ]
  },
  {
   "cell_type": "code",
   "execution_count": null,
   "metadata": {},
   "outputs": [],
   "source": []
  }
 ],
 "metadata": {
  "kernelspec": {
   "display_name": "Python (plakk)",
   "language": "python",
   "name": "plakk"
  },
  "language_info": {
   "codemirror_mode": {
    "name": "ipython",
    "version": 3
   },
   "file_extension": ".py",
   "mimetype": "text/x-python",
   "name": "python",
   "nbconvert_exporter": "python",
   "pygments_lexer": "ipython3",
   "version": "3.6.10"
  }
 },
 "nbformat": 4,
 "nbformat_minor": 4
}
