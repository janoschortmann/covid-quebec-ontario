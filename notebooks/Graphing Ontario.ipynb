{
 "cells": [
  {
   "cell_type": "code",
   "execution_count": 1,
   "metadata": {},
   "outputs": [],
   "source": [
    "import plotly.graph_objects as go\n",
    "import plotly.express as px\n",
    "import datetime as dt\n",
    "\n",
    "import numpy as np\n",
    "import pandas as pd\n",
    "import os\n",
    "import json"
   ]
  },
  {
   "cell_type": "code",
   "execution_count": 15,
   "metadata": {},
   "outputs": [
    {
     "data": {
      "text/plain": [
       "'2020-03-23T20:31:45'"
      ]
     },
     "execution_count": 15,
     "metadata": {},
     "output_type": "execute_result"
    }
   ],
   "source": [
    "import datetime as dt\n",
    "dt.datetime.now().strftime('%Y-%m-%dT%H:%M:%S')"
   ]
  },
  {
   "cell_type": "code",
   "execution_count": 42,
   "metadata": {},
   "outputs": [],
   "source": [
    "data_directory = \"data/ontario/\"\n",
    "files = os.listdir(data_directory)\n",
    "table_path = [ f for f in files if \"table\" in f][0]\n",
    "total_path = [ f for f in files if \"total\" in f][0]"
   ]
  },
  {
   "cell_type": "code",
   "execution_count": 2,
   "metadata": {},
   "outputs": [],
   "source": [
    "data_directory = \"../data/ontario/\"\n",
    "\n",
    "individual_prefix = \"table_person_ontario_\"\n",
    "total_prefix = \"total_ontario_\""
   ]
  },
  {
   "cell_type": "code",
   "execution_count": 16,
   "metadata": {},
   "outputs": [],
   "source": [
    "path = \"../data/ontario/cases.jsonl\"\n",
    "with open(path, 'r') as outfile:\n",
    "    all_cases = [ json.loads(c) for c in outfile]"
   ]
  },
  {
   "cell_type": "code",
   "execution_count": 24,
   "metadata": {},
   "outputs": [],
   "source": [
    "path = \"../data/ontario/all_updates.json\"\n",
    "with open(path, 'r') as outfile:\n",
    "    updates = [ json.loads(c) for c in outfile]"
   ]
  },
  {
   "cell_type": "code",
   "execution_count": 17,
   "metadata": {},
   "outputs": [],
   "source": [
    "\n",
    "\n",
    "df = pd.DataFrame.from_dict(all_cases)\n",
    "male = [ {\"age\" :p[\"age\"], \"city\" : p[\"city\"]} for p in all_cases if p[\"gender\"] == \"Male\" and p[\"age\"] != 'pending' ]\n",
    "male = pd.DataFrame.from_dict(male)\n",
    "          \n",
    "female = [ {\"age\" :p[\"age\"], \"city\" : p[\"city\"]} for p in all_cases if p[\"gender\"] == \"Female\" and p[\"age\"] != 'pending']\n",
    "female = pd.DataFrame.from_dict(female)\n"
   ]
  },
  {
   "cell_type": "code",
   "execution_count": 30,
   "metadata": {},
   "outputs": [],
   "source": [
    "updates = sorted(updates, key=lambda k: k['date']) \n",
    "negative = [t['negative'] for t in updates]\n",
    "under = [t['pending'] for t in updates]\n",
    "positive = [t['positive'] for t in updates]\n",
    "resolved = [t['resolved'] for t in updates]\n",
    "dead = [t['deceased'] for t in updates]\n",
    "dates = [t['date'] for t in updates]\n",
    "\n",
    "total_df = pd.DataFrame.from_dict(updates)"
   ]
  },
  {
   "cell_type": "code",
   "execution_count": 32,
   "metadata": {},
   "outputs": [
    {
     "data": {
      "application/vnd.plotly.v1+json": {
       "config": {
        "plotlyServerURL": "https://plot.ly"
       },
       "data": [
        {
         "mode": "lines",
         "name": "Total Number of Cases",
         "type": "scatter",
         "x": [
          "2020-03-05T10:30:00",
          "2020-03-06T10:30:00",
          "2020-03-07T10:30:00",
          "2020-03-09T10:30:00",
          "2020-03-09T10:30:00",
          "2020-03-10T10:30:00",
          "2020-03-11T10:30:00",
          "2020-03-11T10:30:00",
          "2020-03-12T10:30:00",
          "2020-03-13T10:30:00",
          "2020-03-14T17:30:00",
          "2020-03-14T17:30:00",
          "2020-03-14T17:30:00",
          "2020-03-14T17:30:00",
          "2020-03-14T17:30:00",
          "2020-03-14T17:30:00",
          "2020-03-14T17:30:00",
          "2020-03-14T17:30:00",
          "2020-03-14T17:30:00",
          "2020-03-14T17:30:00",
          "2020-03-14T17:30:00",
          "2020-03-14T17:30:00",
          "2020-03-15T10:30:00",
          "2020-03-15T17:30:00",
          "2020-03-16T10:30:00",
          "2020-03-16T17:30:00",
          "2020-03-17T10:30:00",
          "2020-03-17T17:30:00",
          "2020-03-18T10:30:00",
          "2020-03-18T17:30:00",
          "2020-03-19T10:30:00",
          "2020-03-19T17:30:00",
          "2020-03-20T10:30:00",
          "2020-03-20T17:30:00",
          "2020-03-21T10:30:00",
          "2020-03-21T17:30:00",
          "2020-03-22T10:30:00",
          "2020-03-23T20:37:53"
         ],
         "y": [
          18,
          22,
          24,
          30,
          31,
          31,
          36,
          37,
          54,
          74,
          98,
          98,
          98,
          98,
          98,
          98,
          98,
          98,
          98,
          98,
          98,
          98,
          137,
          140,
          172,
          172,
          180,
          183,
          206,
          208,
          251,
          251,
          301,
          311,
          369,
          368,
          413,
          489
         ]
        }
       ],
       "layout": {
        "template": {
         "data": {
          "bar": [
           {
            "error_x": {
             "color": "#2a3f5f"
            },
            "error_y": {
             "color": "#2a3f5f"
            },
            "marker": {
             "line": {
              "color": "#E5ECF6",
              "width": 0.5
             }
            },
            "type": "bar"
           }
          ],
          "barpolar": [
           {
            "marker": {
             "line": {
              "color": "#E5ECF6",
              "width": 0.5
             }
            },
            "type": "barpolar"
           }
          ],
          "carpet": [
           {
            "aaxis": {
             "endlinecolor": "#2a3f5f",
             "gridcolor": "white",
             "linecolor": "white",
             "minorgridcolor": "white",
             "startlinecolor": "#2a3f5f"
            },
            "baxis": {
             "endlinecolor": "#2a3f5f",
             "gridcolor": "white",
             "linecolor": "white",
             "minorgridcolor": "white",
             "startlinecolor": "#2a3f5f"
            },
            "type": "carpet"
           }
          ],
          "choropleth": [
           {
            "colorbar": {
             "outlinewidth": 0,
             "ticks": ""
            },
            "type": "choropleth"
           }
          ],
          "contour": [
           {
            "colorbar": {
             "outlinewidth": 0,
             "ticks": ""
            },
            "colorscale": [
             [
              0,
              "#0d0887"
             ],
             [
              0.1111111111111111,
              "#46039f"
             ],
             [
              0.2222222222222222,
              "#7201a8"
             ],
             [
              0.3333333333333333,
              "#9c179e"
             ],
             [
              0.4444444444444444,
              "#bd3786"
             ],
             [
              0.5555555555555556,
              "#d8576b"
             ],
             [
              0.6666666666666666,
              "#ed7953"
             ],
             [
              0.7777777777777778,
              "#fb9f3a"
             ],
             [
              0.8888888888888888,
              "#fdca26"
             ],
             [
              1,
              "#f0f921"
             ]
            ],
            "type": "contour"
           }
          ],
          "contourcarpet": [
           {
            "colorbar": {
             "outlinewidth": 0,
             "ticks": ""
            },
            "type": "contourcarpet"
           }
          ],
          "heatmap": [
           {
            "colorbar": {
             "outlinewidth": 0,
             "ticks": ""
            },
            "colorscale": [
             [
              0,
              "#0d0887"
             ],
             [
              0.1111111111111111,
              "#46039f"
             ],
             [
              0.2222222222222222,
              "#7201a8"
             ],
             [
              0.3333333333333333,
              "#9c179e"
             ],
             [
              0.4444444444444444,
              "#bd3786"
             ],
             [
              0.5555555555555556,
              "#d8576b"
             ],
             [
              0.6666666666666666,
              "#ed7953"
             ],
             [
              0.7777777777777778,
              "#fb9f3a"
             ],
             [
              0.8888888888888888,
              "#fdca26"
             ],
             [
              1,
              "#f0f921"
             ]
            ],
            "type": "heatmap"
           }
          ],
          "heatmapgl": [
           {
            "colorbar": {
             "outlinewidth": 0,
             "ticks": ""
            },
            "colorscale": [
             [
              0,
              "#0d0887"
             ],
             [
              0.1111111111111111,
              "#46039f"
             ],
             [
              0.2222222222222222,
              "#7201a8"
             ],
             [
              0.3333333333333333,
              "#9c179e"
             ],
             [
              0.4444444444444444,
              "#bd3786"
             ],
             [
              0.5555555555555556,
              "#d8576b"
             ],
             [
              0.6666666666666666,
              "#ed7953"
             ],
             [
              0.7777777777777778,
              "#fb9f3a"
             ],
             [
              0.8888888888888888,
              "#fdca26"
             ],
             [
              1,
              "#f0f921"
             ]
            ],
            "type": "heatmapgl"
           }
          ],
          "histogram": [
           {
            "marker": {
             "colorbar": {
              "outlinewidth": 0,
              "ticks": ""
             }
            },
            "type": "histogram"
           }
          ],
          "histogram2d": [
           {
            "colorbar": {
             "outlinewidth": 0,
             "ticks": ""
            },
            "colorscale": [
             [
              0,
              "#0d0887"
             ],
             [
              0.1111111111111111,
              "#46039f"
             ],
             [
              0.2222222222222222,
              "#7201a8"
             ],
             [
              0.3333333333333333,
              "#9c179e"
             ],
             [
              0.4444444444444444,
              "#bd3786"
             ],
             [
              0.5555555555555556,
              "#d8576b"
             ],
             [
              0.6666666666666666,
              "#ed7953"
             ],
             [
              0.7777777777777778,
              "#fb9f3a"
             ],
             [
              0.8888888888888888,
              "#fdca26"
             ],
             [
              1,
              "#f0f921"
             ]
            ],
            "type": "histogram2d"
           }
          ],
          "histogram2dcontour": [
           {
            "colorbar": {
             "outlinewidth": 0,
             "ticks": ""
            },
            "colorscale": [
             [
              0,
              "#0d0887"
             ],
             [
              0.1111111111111111,
              "#46039f"
             ],
             [
              0.2222222222222222,
              "#7201a8"
             ],
             [
              0.3333333333333333,
              "#9c179e"
             ],
             [
              0.4444444444444444,
              "#bd3786"
             ],
             [
              0.5555555555555556,
              "#d8576b"
             ],
             [
              0.6666666666666666,
              "#ed7953"
             ],
             [
              0.7777777777777778,
              "#fb9f3a"
             ],
             [
              0.8888888888888888,
              "#fdca26"
             ],
             [
              1,
              "#f0f921"
             ]
            ],
            "type": "histogram2dcontour"
           }
          ],
          "mesh3d": [
           {
            "colorbar": {
             "outlinewidth": 0,
             "ticks": ""
            },
            "type": "mesh3d"
           }
          ],
          "parcoords": [
           {
            "line": {
             "colorbar": {
              "outlinewidth": 0,
              "ticks": ""
             }
            },
            "type": "parcoords"
           }
          ],
          "pie": [
           {
            "automargin": true,
            "type": "pie"
           }
          ],
          "scatter": [
           {
            "marker": {
             "colorbar": {
              "outlinewidth": 0,
              "ticks": ""
             }
            },
            "type": "scatter"
           }
          ],
          "scatter3d": [
           {
            "line": {
             "colorbar": {
              "outlinewidth": 0,
              "ticks": ""
             }
            },
            "marker": {
             "colorbar": {
              "outlinewidth": 0,
              "ticks": ""
             }
            },
            "type": "scatter3d"
           }
          ],
          "scattercarpet": [
           {
            "marker": {
             "colorbar": {
              "outlinewidth": 0,
              "ticks": ""
             }
            },
            "type": "scattercarpet"
           }
          ],
          "scattergeo": [
           {
            "marker": {
             "colorbar": {
              "outlinewidth": 0,
              "ticks": ""
             }
            },
            "type": "scattergeo"
           }
          ],
          "scattergl": [
           {
            "marker": {
             "colorbar": {
              "outlinewidth": 0,
              "ticks": ""
             }
            },
            "type": "scattergl"
           }
          ],
          "scattermapbox": [
           {
            "marker": {
             "colorbar": {
              "outlinewidth": 0,
              "ticks": ""
             }
            },
            "type": "scattermapbox"
           }
          ],
          "scatterpolar": [
           {
            "marker": {
             "colorbar": {
              "outlinewidth": 0,
              "ticks": ""
             }
            },
            "type": "scatterpolar"
           }
          ],
          "scatterpolargl": [
           {
            "marker": {
             "colorbar": {
              "outlinewidth": 0,
              "ticks": ""
             }
            },
            "type": "scatterpolargl"
           }
          ],
          "scatterternary": [
           {
            "marker": {
             "colorbar": {
              "outlinewidth": 0,
              "ticks": ""
             }
            },
            "type": "scatterternary"
           }
          ],
          "surface": [
           {
            "colorbar": {
             "outlinewidth": 0,
             "ticks": ""
            },
            "colorscale": [
             [
              0,
              "#0d0887"
             ],
             [
              0.1111111111111111,
              "#46039f"
             ],
             [
              0.2222222222222222,
              "#7201a8"
             ],
             [
              0.3333333333333333,
              "#9c179e"
             ],
             [
              0.4444444444444444,
              "#bd3786"
             ],
             [
              0.5555555555555556,
              "#d8576b"
             ],
             [
              0.6666666666666666,
              "#ed7953"
             ],
             [
              0.7777777777777778,
              "#fb9f3a"
             ],
             [
              0.8888888888888888,
              "#fdca26"
             ],
             [
              1,
              "#f0f921"
             ]
            ],
            "type": "surface"
           }
          ],
          "table": [
           {
            "cells": {
             "fill": {
              "color": "#EBF0F8"
             },
             "line": {
              "color": "white"
             }
            },
            "header": {
             "fill": {
              "color": "#C8D4E3"
             },
             "line": {
              "color": "white"
             }
            },
            "type": "table"
           }
          ]
         },
         "layout": {
          "annotationdefaults": {
           "arrowcolor": "#2a3f5f",
           "arrowhead": 0,
           "arrowwidth": 1
          },
          "coloraxis": {
           "colorbar": {
            "outlinewidth": 0,
            "ticks": ""
           }
          },
          "colorscale": {
           "diverging": [
            [
             0,
             "#8e0152"
            ],
            [
             0.1,
             "#c51b7d"
            ],
            [
             0.2,
             "#de77ae"
            ],
            [
             0.3,
             "#f1b6da"
            ],
            [
             0.4,
             "#fde0ef"
            ],
            [
             0.5,
             "#f7f7f7"
            ],
            [
             0.6,
             "#e6f5d0"
            ],
            [
             0.7,
             "#b8e186"
            ],
            [
             0.8,
             "#7fbc41"
            ],
            [
             0.9,
             "#4d9221"
            ],
            [
             1,
             "#276419"
            ]
           ],
           "sequential": [
            [
             0,
             "#0d0887"
            ],
            [
             0.1111111111111111,
             "#46039f"
            ],
            [
             0.2222222222222222,
             "#7201a8"
            ],
            [
             0.3333333333333333,
             "#9c179e"
            ],
            [
             0.4444444444444444,
             "#bd3786"
            ],
            [
             0.5555555555555556,
             "#d8576b"
            ],
            [
             0.6666666666666666,
             "#ed7953"
            ],
            [
             0.7777777777777778,
             "#fb9f3a"
            ],
            [
             0.8888888888888888,
             "#fdca26"
            ],
            [
             1,
             "#f0f921"
            ]
           ],
           "sequentialminus": [
            [
             0,
             "#0d0887"
            ],
            [
             0.1111111111111111,
             "#46039f"
            ],
            [
             0.2222222222222222,
             "#7201a8"
            ],
            [
             0.3333333333333333,
             "#9c179e"
            ],
            [
             0.4444444444444444,
             "#bd3786"
            ],
            [
             0.5555555555555556,
             "#d8576b"
            ],
            [
             0.6666666666666666,
             "#ed7953"
            ],
            [
             0.7777777777777778,
             "#fb9f3a"
            ],
            [
             0.8888888888888888,
             "#fdca26"
            ],
            [
             1,
             "#f0f921"
            ]
           ]
          },
          "colorway": [
           "#636efa",
           "#EF553B",
           "#00cc96",
           "#ab63fa",
           "#FFA15A",
           "#19d3f3",
           "#FF6692",
           "#B6E880",
           "#FF97FF",
           "#FECB52"
          ],
          "font": {
           "color": "#2a3f5f"
          },
          "geo": {
           "bgcolor": "white",
           "lakecolor": "white",
           "landcolor": "#E5ECF6",
           "showlakes": true,
           "showland": true,
           "subunitcolor": "white"
          },
          "hoverlabel": {
           "align": "left"
          },
          "hovermode": "closest",
          "mapbox": {
           "style": "light"
          },
          "paper_bgcolor": "white",
          "plot_bgcolor": "#E5ECF6",
          "polar": {
           "angularaxis": {
            "gridcolor": "white",
            "linecolor": "white",
            "ticks": ""
           },
           "bgcolor": "#E5ECF6",
           "radialaxis": {
            "gridcolor": "white",
            "linecolor": "white",
            "ticks": ""
           }
          },
          "scene": {
           "xaxis": {
            "backgroundcolor": "#E5ECF6",
            "gridcolor": "white",
            "gridwidth": 2,
            "linecolor": "white",
            "showbackground": true,
            "ticks": "",
            "zerolinecolor": "white"
           },
           "yaxis": {
            "backgroundcolor": "#E5ECF6",
            "gridcolor": "white",
            "gridwidth": 2,
            "linecolor": "white",
            "showbackground": true,
            "ticks": "",
            "zerolinecolor": "white"
           },
           "zaxis": {
            "backgroundcolor": "#E5ECF6",
            "gridcolor": "white",
            "gridwidth": 2,
            "linecolor": "white",
            "showbackground": true,
            "ticks": "",
            "zerolinecolor": "white"
           }
          },
          "shapedefaults": {
           "line": {
            "color": "#2a3f5f"
           }
          },
          "ternary": {
           "aaxis": {
            "gridcolor": "white",
            "linecolor": "white",
            "ticks": ""
           },
           "baxis": {
            "gridcolor": "white",
            "linecolor": "white",
            "ticks": ""
           },
           "bgcolor": "#E5ECF6",
           "caxis": {
            "gridcolor": "white",
            "linecolor": "white",
            "ticks": ""
           }
          },
          "title": {
           "x": 0.05
          },
          "xaxis": {
           "automargin": true,
           "gridcolor": "white",
           "linecolor": "white",
           "ticks": "",
           "title": {
            "standoff": 15
           },
           "zerolinecolor": "white",
           "zerolinewidth": 2
          },
          "yaxis": {
           "automargin": true,
           "gridcolor": "white",
           "linecolor": "white",
           "ticks": "",
           "title": {
            "standoff": 15
           },
           "zerolinecolor": "white",
           "zerolinewidth": 2
          }
         }
        },
        "title": {
         "text": "Total Number of Cases"
        },
        "xaxis": {
         "title": {
          "text": "Date"
         }
        },
        "yaxis": {
         "title": {
          "text": "Infected"
         }
        }
       }
      },
      "text/html": [
       "<div>\n",
       "        \n",
       "        \n",
       "            <div id=\"331cc3d5-d771-4837-b723-e8882834baea\" class=\"plotly-graph-div\" style=\"height:525px; width:100%;\"></div>\n",
       "            <script type=\"text/javascript\">\n",
       "                require([\"plotly\"], function(Plotly) {\n",
       "                    window.PLOTLYENV=window.PLOTLYENV || {};\n",
       "                    \n",
       "                if (document.getElementById(\"331cc3d5-d771-4837-b723-e8882834baea\")) {\n",
       "                    Plotly.newPlot(\n",
       "                        '331cc3d5-d771-4837-b723-e8882834baea',\n",
       "                        [{\"mode\": \"lines\", \"name\": \"Total Number of Cases\", \"type\": \"scatter\", \"x\": [\"2020-03-05T10:30:00\", \"2020-03-06T10:30:00\", \"2020-03-07T10:30:00\", \"2020-03-09T10:30:00\", \"2020-03-09T10:30:00\", \"2020-03-10T10:30:00\", \"2020-03-11T10:30:00\", \"2020-03-11T10:30:00\", \"2020-03-12T10:30:00\", \"2020-03-13T10:30:00\", \"2020-03-14T17:30:00\", \"2020-03-14T17:30:00\", \"2020-03-14T17:30:00\", \"2020-03-14T17:30:00\", \"2020-03-14T17:30:00\", \"2020-03-14T17:30:00\", \"2020-03-14T17:30:00\", \"2020-03-14T17:30:00\", \"2020-03-14T17:30:00\", \"2020-03-14T17:30:00\", \"2020-03-14T17:30:00\", \"2020-03-14T17:30:00\", \"2020-03-15T10:30:00\", \"2020-03-15T17:30:00\", \"2020-03-16T10:30:00\", \"2020-03-16T17:30:00\", \"2020-03-17T10:30:00\", \"2020-03-17T17:30:00\", \"2020-03-18T10:30:00\", \"2020-03-18T17:30:00\", \"2020-03-19T10:30:00\", \"2020-03-19T17:30:00\", \"2020-03-20T10:30:00\", \"2020-03-20T17:30:00\", \"2020-03-21T10:30:00\", \"2020-03-21T17:30:00\", \"2020-03-22T10:30:00\", \"2020-03-23T20:37:53\"], \"y\": [18, 22, 24, 30, 31, 31, 36, 37, 54, 74, 98, 98, 98, 98, 98, 98, 98, 98, 98, 98, 98, 98, 137, 140, 172, 172, 180, 183, 206, 208, 251, 251, 301, 311, 369, 368, 413, 489]}],\n",
       "                        {\"template\": {\"data\": {\"bar\": [{\"error_x\": {\"color\": \"#2a3f5f\"}, \"error_y\": {\"color\": \"#2a3f5f\"}, \"marker\": {\"line\": {\"color\": \"#E5ECF6\", \"width\": 0.5}}, \"type\": \"bar\"}], \"barpolar\": [{\"marker\": {\"line\": {\"color\": \"#E5ECF6\", \"width\": 0.5}}, \"type\": \"barpolar\"}], \"carpet\": [{\"aaxis\": {\"endlinecolor\": \"#2a3f5f\", \"gridcolor\": \"white\", \"linecolor\": \"white\", \"minorgridcolor\": \"white\", \"startlinecolor\": \"#2a3f5f\"}, \"baxis\": {\"endlinecolor\": \"#2a3f5f\", \"gridcolor\": \"white\", \"linecolor\": \"white\", \"minorgridcolor\": \"white\", \"startlinecolor\": \"#2a3f5f\"}, \"type\": \"carpet\"}], \"choropleth\": [{\"colorbar\": {\"outlinewidth\": 0, \"ticks\": \"\"}, \"type\": \"choropleth\"}], \"contour\": [{\"colorbar\": {\"outlinewidth\": 0, \"ticks\": \"\"}, \"colorscale\": [[0.0, \"#0d0887\"], [0.1111111111111111, \"#46039f\"], [0.2222222222222222, \"#7201a8\"], [0.3333333333333333, \"#9c179e\"], [0.4444444444444444, \"#bd3786\"], [0.5555555555555556, \"#d8576b\"], [0.6666666666666666, \"#ed7953\"], [0.7777777777777778, \"#fb9f3a\"], [0.8888888888888888, \"#fdca26\"], [1.0, \"#f0f921\"]], \"type\": \"contour\"}], \"contourcarpet\": [{\"colorbar\": {\"outlinewidth\": 0, \"ticks\": \"\"}, \"type\": \"contourcarpet\"}], \"heatmap\": [{\"colorbar\": {\"outlinewidth\": 0, \"ticks\": \"\"}, \"colorscale\": [[0.0, \"#0d0887\"], [0.1111111111111111, \"#46039f\"], [0.2222222222222222, \"#7201a8\"], [0.3333333333333333, \"#9c179e\"], [0.4444444444444444, \"#bd3786\"], [0.5555555555555556, \"#d8576b\"], [0.6666666666666666, \"#ed7953\"], [0.7777777777777778, \"#fb9f3a\"], [0.8888888888888888, \"#fdca26\"], [1.0, \"#f0f921\"]], \"type\": \"heatmap\"}], \"heatmapgl\": [{\"colorbar\": {\"outlinewidth\": 0, \"ticks\": \"\"}, \"colorscale\": [[0.0, \"#0d0887\"], [0.1111111111111111, \"#46039f\"], [0.2222222222222222, \"#7201a8\"], [0.3333333333333333, \"#9c179e\"], [0.4444444444444444, \"#bd3786\"], [0.5555555555555556, \"#d8576b\"], [0.6666666666666666, \"#ed7953\"], [0.7777777777777778, \"#fb9f3a\"], [0.8888888888888888, \"#fdca26\"], [1.0, \"#f0f921\"]], \"type\": \"heatmapgl\"}], \"histogram\": [{\"marker\": {\"colorbar\": {\"outlinewidth\": 0, \"ticks\": \"\"}}, \"type\": \"histogram\"}], \"histogram2d\": [{\"colorbar\": {\"outlinewidth\": 0, \"ticks\": \"\"}, \"colorscale\": [[0.0, \"#0d0887\"], [0.1111111111111111, \"#46039f\"], [0.2222222222222222, \"#7201a8\"], [0.3333333333333333, \"#9c179e\"], [0.4444444444444444, \"#bd3786\"], [0.5555555555555556, \"#d8576b\"], [0.6666666666666666, \"#ed7953\"], [0.7777777777777778, \"#fb9f3a\"], [0.8888888888888888, \"#fdca26\"], [1.0, \"#f0f921\"]], \"type\": \"histogram2d\"}], \"histogram2dcontour\": [{\"colorbar\": {\"outlinewidth\": 0, \"ticks\": \"\"}, \"colorscale\": [[0.0, \"#0d0887\"], [0.1111111111111111, \"#46039f\"], [0.2222222222222222, \"#7201a8\"], [0.3333333333333333, \"#9c179e\"], [0.4444444444444444, \"#bd3786\"], [0.5555555555555556, \"#d8576b\"], [0.6666666666666666, \"#ed7953\"], [0.7777777777777778, \"#fb9f3a\"], [0.8888888888888888, \"#fdca26\"], [1.0, \"#f0f921\"]], \"type\": \"histogram2dcontour\"}], \"mesh3d\": [{\"colorbar\": {\"outlinewidth\": 0, \"ticks\": \"\"}, \"type\": \"mesh3d\"}], \"parcoords\": [{\"line\": {\"colorbar\": {\"outlinewidth\": 0, \"ticks\": \"\"}}, \"type\": \"parcoords\"}], \"pie\": [{\"automargin\": true, \"type\": \"pie\"}], \"scatter\": [{\"marker\": {\"colorbar\": {\"outlinewidth\": 0, \"ticks\": \"\"}}, \"type\": \"scatter\"}], \"scatter3d\": [{\"line\": {\"colorbar\": {\"outlinewidth\": 0, \"ticks\": \"\"}}, \"marker\": {\"colorbar\": {\"outlinewidth\": 0, \"ticks\": \"\"}}, \"type\": \"scatter3d\"}], \"scattercarpet\": [{\"marker\": {\"colorbar\": {\"outlinewidth\": 0, \"ticks\": \"\"}}, \"type\": \"scattercarpet\"}], \"scattergeo\": [{\"marker\": {\"colorbar\": {\"outlinewidth\": 0, \"ticks\": \"\"}}, \"type\": \"scattergeo\"}], \"scattergl\": [{\"marker\": {\"colorbar\": {\"outlinewidth\": 0, \"ticks\": \"\"}}, \"type\": \"scattergl\"}], \"scattermapbox\": [{\"marker\": {\"colorbar\": {\"outlinewidth\": 0, \"ticks\": \"\"}}, \"type\": \"scattermapbox\"}], \"scatterpolar\": [{\"marker\": {\"colorbar\": {\"outlinewidth\": 0, \"ticks\": \"\"}}, \"type\": \"scatterpolar\"}], \"scatterpolargl\": [{\"marker\": {\"colorbar\": {\"outlinewidth\": 0, \"ticks\": \"\"}}, \"type\": \"scatterpolargl\"}], \"scatterternary\": [{\"marker\": {\"colorbar\": {\"outlinewidth\": 0, \"ticks\": \"\"}}, \"type\": \"scatterternary\"}], \"surface\": [{\"colorbar\": {\"outlinewidth\": 0, \"ticks\": \"\"}, \"colorscale\": [[0.0, \"#0d0887\"], [0.1111111111111111, \"#46039f\"], [0.2222222222222222, \"#7201a8\"], [0.3333333333333333, \"#9c179e\"], [0.4444444444444444, \"#bd3786\"], [0.5555555555555556, \"#d8576b\"], [0.6666666666666666, \"#ed7953\"], [0.7777777777777778, \"#fb9f3a\"], [0.8888888888888888, \"#fdca26\"], [1.0, \"#f0f921\"]], \"type\": \"surface\"}], \"table\": [{\"cells\": {\"fill\": {\"color\": \"#EBF0F8\"}, \"line\": {\"color\": \"white\"}}, \"header\": {\"fill\": {\"color\": \"#C8D4E3\"}, \"line\": {\"color\": \"white\"}}, \"type\": \"table\"}]}, \"layout\": {\"annotationdefaults\": {\"arrowcolor\": \"#2a3f5f\", \"arrowhead\": 0, \"arrowwidth\": 1}, \"coloraxis\": {\"colorbar\": {\"outlinewidth\": 0, \"ticks\": \"\"}}, \"colorscale\": {\"diverging\": [[0, \"#8e0152\"], [0.1, \"#c51b7d\"], [0.2, \"#de77ae\"], [0.3, \"#f1b6da\"], [0.4, \"#fde0ef\"], [0.5, \"#f7f7f7\"], [0.6, \"#e6f5d0\"], [0.7, \"#b8e186\"], [0.8, \"#7fbc41\"], [0.9, \"#4d9221\"], [1, \"#276419\"]], \"sequential\": [[0.0, \"#0d0887\"], [0.1111111111111111, \"#46039f\"], [0.2222222222222222, \"#7201a8\"], [0.3333333333333333, \"#9c179e\"], [0.4444444444444444, \"#bd3786\"], [0.5555555555555556, \"#d8576b\"], [0.6666666666666666, \"#ed7953\"], [0.7777777777777778, \"#fb9f3a\"], [0.8888888888888888, \"#fdca26\"], [1.0, \"#f0f921\"]], \"sequentialminus\": [[0.0, \"#0d0887\"], [0.1111111111111111, \"#46039f\"], [0.2222222222222222, \"#7201a8\"], [0.3333333333333333, \"#9c179e\"], [0.4444444444444444, \"#bd3786\"], [0.5555555555555556, \"#d8576b\"], [0.6666666666666666, \"#ed7953\"], [0.7777777777777778, \"#fb9f3a\"], [0.8888888888888888, \"#fdca26\"], [1.0, \"#f0f921\"]]}, \"colorway\": [\"#636efa\", \"#EF553B\", \"#00cc96\", \"#ab63fa\", \"#FFA15A\", \"#19d3f3\", \"#FF6692\", \"#B6E880\", \"#FF97FF\", \"#FECB52\"], \"font\": {\"color\": \"#2a3f5f\"}, \"geo\": {\"bgcolor\": \"white\", \"lakecolor\": \"white\", \"landcolor\": \"#E5ECF6\", \"showlakes\": true, \"showland\": true, \"subunitcolor\": \"white\"}, \"hoverlabel\": {\"align\": \"left\"}, \"hovermode\": \"closest\", \"mapbox\": {\"style\": \"light\"}, \"paper_bgcolor\": \"white\", \"plot_bgcolor\": \"#E5ECF6\", \"polar\": {\"angularaxis\": {\"gridcolor\": \"white\", \"linecolor\": \"white\", \"ticks\": \"\"}, \"bgcolor\": \"#E5ECF6\", \"radialaxis\": {\"gridcolor\": \"white\", \"linecolor\": \"white\", \"ticks\": \"\"}}, \"scene\": {\"xaxis\": {\"backgroundcolor\": \"#E5ECF6\", \"gridcolor\": \"white\", \"gridwidth\": 2, \"linecolor\": \"white\", \"showbackground\": true, \"ticks\": \"\", \"zerolinecolor\": \"white\"}, \"yaxis\": {\"backgroundcolor\": \"#E5ECF6\", \"gridcolor\": \"white\", \"gridwidth\": 2, \"linecolor\": \"white\", \"showbackground\": true, \"ticks\": \"\", \"zerolinecolor\": \"white\"}, \"zaxis\": {\"backgroundcolor\": \"#E5ECF6\", \"gridcolor\": \"white\", \"gridwidth\": 2, \"linecolor\": \"white\", \"showbackground\": true, \"ticks\": \"\", \"zerolinecolor\": \"white\"}}, \"shapedefaults\": {\"line\": {\"color\": \"#2a3f5f\"}}, \"ternary\": {\"aaxis\": {\"gridcolor\": \"white\", \"linecolor\": \"white\", \"ticks\": \"\"}, \"baxis\": {\"gridcolor\": \"white\", \"linecolor\": \"white\", \"ticks\": \"\"}, \"bgcolor\": \"#E5ECF6\", \"caxis\": {\"gridcolor\": \"white\", \"linecolor\": \"white\", \"ticks\": \"\"}}, \"title\": {\"x\": 0.05}, \"xaxis\": {\"automargin\": true, \"gridcolor\": \"white\", \"linecolor\": \"white\", \"ticks\": \"\", \"title\": {\"standoff\": 15}, \"zerolinecolor\": \"white\", \"zerolinewidth\": 2}, \"yaxis\": {\"automargin\": true, \"gridcolor\": \"white\", \"linecolor\": \"white\", \"ticks\": \"\", \"title\": {\"standoff\": 15}, \"zerolinecolor\": \"white\", \"zerolinewidth\": 2}}}, \"title\": {\"text\": \"Total Number of Cases\"}, \"xaxis\": {\"title\": {\"text\": \"Date\"}}, \"yaxis\": {\"title\": {\"text\": \"Infected\"}}},\n",
       "                        {\"responsive\": true}\n",
       "                    ).then(function(){\n",
       "                            \n",
       "var gd = document.getElementById('331cc3d5-d771-4837-b723-e8882834baea');\n",
       "var x = new MutationObserver(function (mutations, observer) {{\n",
       "        var display = window.getComputedStyle(gd).display;\n",
       "        if (!display || display === 'none') {{\n",
       "            console.log([gd, 'removed!']);\n",
       "            Plotly.purge(gd);\n",
       "            observer.disconnect();\n",
       "        }}\n",
       "}});\n",
       "\n",
       "// Listen for the removal of the full notebook cells\n",
       "var notebookContainer = gd.closest('#notebook-container');\n",
       "if (notebookContainer) {{\n",
       "    x.observe(notebookContainer, {childList: true});\n",
       "}}\n",
       "\n",
       "// Listen for the clearing of the current output cell\n",
       "var outputEl = gd.closest('.output');\n",
       "if (outputEl) {{\n",
       "    x.observe(outputEl, {childList: true});\n",
       "}}\n",
       "\n",
       "                        })\n",
       "                };\n",
       "                });\n",
       "            </script>\n",
       "        </div>"
      ]
     },
     "metadata": {},
     "output_type": "display_data"
    }
   ],
   "source": [
    "fig = go.Figure()\n",
    "fig.add_trace(go.Scatter(x=dates, y=positive,\n",
    "                    mode='lines',\n",
    "                    name='Total Number of Cases'))\n",
    "\n",
    "fig.update_layout(\n",
    "    title_text='Total Number of Cases', # title of plot\n",
    "    xaxis_title_text='Date', # xaxis label\n",
    "    yaxis_title_text='Infected', # yaxis label\n",
    ")\n",
    "fig.show()"
   ]
  },
  {
   "cell_type": "code",
   "execution_count": 33,
   "metadata": {},
   "outputs": [
    {
     "data": {
      "application/vnd.plotly.v1+json": {
       "config": {
        "plotlyServerURL": "https://plot.ly"
       },
       "data": [
        {
         "name": "Negative",
         "type": "bar",
         "x": [
          "2020-03-05T10:30:00",
          "2020-03-06T10:30:00",
          "2020-03-07T10:30:00",
          "2020-03-09T10:30:00",
          "2020-03-09T10:30:00",
          "2020-03-10T10:30:00",
          "2020-03-11T10:30:00",
          "2020-03-11T10:30:00",
          "2020-03-12T10:30:00",
          "2020-03-13T10:30:00",
          "2020-03-14T17:30:00",
          "2020-03-14T17:30:00",
          "2020-03-14T17:30:00",
          "2020-03-14T17:30:00",
          "2020-03-14T17:30:00",
          "2020-03-14T17:30:00",
          "2020-03-14T17:30:00",
          "2020-03-14T17:30:00",
          "2020-03-14T17:30:00",
          "2020-03-14T17:30:00",
          "2020-03-14T17:30:00",
          "2020-03-14T17:30:00",
          "2020-03-15T10:30:00",
          "2020-03-15T17:30:00",
          "2020-03-16T10:30:00",
          "2020-03-16T17:30:00",
          "2020-03-17T10:30:00",
          "2020-03-17T17:30:00",
          "2020-03-18T10:30:00",
          "2020-03-18T17:30:00",
          "2020-03-19T10:30:00",
          "2020-03-19T17:30:00",
          "2020-03-20T10:30:00",
          "2020-03-20T17:30:00",
          "2020-03-21T10:30:00",
          "2020-03-21T17:30:00",
          "2020-03-22T10:30:00",
          "2020-03-23T20:37:53"
         ],
         "y": [
          1466,
          1665,
          1918,
          2347,
          2347,
          2599,
          2888,
          2888,
          3590,
          4470,
          5606,
          5606,
          5606,
          5606,
          5606,
          5606,
          5606,
          5606,
          5606,
          5606,
          5606,
          5606,
          7004,
          7004,
          8464,
          8464,
          9415,
          9415,
          10305,
          10305,
          12421,
          12421,
          13718,
          13718,
          15768,
          15768,
          17634,
          19586
         ]
        },
        {
         "name": "Under Investigation",
         "type": "bar",
         "x": [
          "2020-03-05T10:30:00",
          "2020-03-06T10:30:00",
          "2020-03-07T10:30:00",
          "2020-03-09T10:30:00",
          "2020-03-09T10:30:00",
          "2020-03-10T10:30:00",
          "2020-03-11T10:30:00",
          "2020-03-11T10:30:00",
          "2020-03-12T10:30:00",
          "2020-03-13T10:30:00",
          "2020-03-14T17:30:00",
          "2020-03-14T17:30:00",
          "2020-03-14T17:30:00",
          "2020-03-14T17:30:00",
          "2020-03-14T17:30:00",
          "2020-03-14T17:30:00",
          "2020-03-14T17:30:00",
          "2020-03-14T17:30:00",
          "2020-03-14T17:30:00",
          "2020-03-14T17:30:00",
          "2020-03-14T17:30:00",
          "2020-03-14T17:30:00",
          "2020-03-15T10:30:00",
          "2020-03-15T17:30:00",
          "2020-03-16T10:30:00",
          "2020-03-16T17:30:00",
          "2020-03-17T10:30:00",
          "2020-03-17T17:30:00",
          "2020-03-18T10:30:00",
          "2020-03-18T17:30:00",
          "2020-03-19T10:30:00",
          "2020-03-19T17:30:00",
          "2020-03-20T10:30:00",
          "2020-03-20T17:30:00",
          "2020-03-21T10:30:00",
          "2020-03-21T17:30:00",
          "2020-03-22T10:30:00",
          "2020-03-23T20:37:53"
         ],
         "y": [
          78,
          72,
          36,
          22,
          22,
          112,
          465,
          465,
          536,
          580,
          939,
          939,
          939,
          939,
          939,
          939,
          939,
          939,
          939,
          939,
          939,
          939,
          1316,
          1316,
          1537,
          1537,
          1567,
          1567,
          3379,
          3378,
          3972,
          3971,
          5485,
          5475,
          7239,
          7239,
          8361,
          8417
         ]
        },
        {
         "name": "Confirmed Positive",
         "type": "bar",
         "x": [
          "2020-03-05T10:30:00",
          "2020-03-06T10:30:00",
          "2020-03-07T10:30:00",
          "2020-03-09T10:30:00",
          "2020-03-09T10:30:00",
          "2020-03-10T10:30:00",
          "2020-03-11T10:30:00",
          "2020-03-11T10:30:00",
          "2020-03-12T10:30:00",
          "2020-03-13T10:30:00",
          "2020-03-14T17:30:00",
          "2020-03-14T17:30:00",
          "2020-03-14T17:30:00",
          "2020-03-14T17:30:00",
          "2020-03-14T17:30:00",
          "2020-03-14T17:30:00",
          "2020-03-14T17:30:00",
          "2020-03-14T17:30:00",
          "2020-03-14T17:30:00",
          "2020-03-14T17:30:00",
          "2020-03-14T17:30:00",
          "2020-03-14T17:30:00",
          "2020-03-15T10:30:00",
          "2020-03-15T17:30:00",
          "2020-03-16T10:30:00",
          "2020-03-16T17:30:00",
          "2020-03-17T10:30:00",
          "2020-03-17T17:30:00",
          "2020-03-18T10:30:00",
          "2020-03-18T17:30:00",
          "2020-03-19T10:30:00",
          "2020-03-19T17:30:00",
          "2020-03-20T10:30:00",
          "2020-03-20T17:30:00",
          "2020-03-21T10:30:00",
          "2020-03-21T17:30:00",
          "2020-03-22T10:30:00",
          "2020-03-23T20:37:53"
         ],
         "y": [
          18,
          22,
          24,
          30,
          31,
          31,
          36,
          37,
          54,
          74,
          98,
          98,
          98,
          98,
          98,
          98,
          98,
          98,
          98,
          98,
          98,
          98,
          137,
          140,
          172,
          172,
          180,
          183,
          206,
          208,
          251,
          251,
          301,
          311,
          369,
          368,
          413,
          489
         ]
        },
        {
         "name": "Resolved",
         "type": "bar",
         "x": [
          "2020-03-05T10:30:00",
          "2020-03-06T10:30:00",
          "2020-03-07T10:30:00",
          "2020-03-09T10:30:00",
          "2020-03-09T10:30:00",
          "2020-03-10T10:30:00",
          "2020-03-11T10:30:00",
          "2020-03-11T10:30:00",
          "2020-03-12T10:30:00",
          "2020-03-13T10:30:00",
          "2020-03-14T17:30:00",
          "2020-03-14T17:30:00",
          "2020-03-14T17:30:00",
          "2020-03-14T17:30:00",
          "2020-03-14T17:30:00",
          "2020-03-14T17:30:00",
          "2020-03-14T17:30:00",
          "2020-03-14T17:30:00",
          "2020-03-14T17:30:00",
          "2020-03-14T17:30:00",
          "2020-03-14T17:30:00",
          "2020-03-14T17:30:00",
          "2020-03-15T10:30:00",
          "2020-03-15T17:30:00",
          "2020-03-16T10:30:00",
          "2020-03-16T17:30:00",
          "2020-03-17T10:30:00",
          "2020-03-17T17:30:00",
          "2020-03-18T10:30:00",
          "2020-03-18T17:30:00",
          "2020-03-19T10:30:00",
          "2020-03-19T17:30:00",
          "2020-03-20T10:30:00",
          "2020-03-20T17:30:00",
          "2020-03-21T10:30:00",
          "2020-03-21T17:30:00",
          "2020-03-22T10:30:00",
          "2020-03-23T20:37:53"
         ],
         "y": [
          4,
          4,
          4,
          4,
          4,
          5,
          5,
          5,
          5,
          5,
          5,
          5,
          5,
          5,
          5,
          5,
          5,
          5,
          5,
          5,
          5,
          5,
          5,
          5,
          5,
          5,
          5,
          5,
          5,
          5,
          5,
          5,
          5,
          5,
          6,
          6,
          8,
          8
         ]
        },
        {
         "name": "Dead",
         "type": "bar",
         "x": [
          "2020-03-05T10:30:00",
          "2020-03-06T10:30:00",
          "2020-03-07T10:30:00",
          "2020-03-09T10:30:00",
          "2020-03-09T10:30:00",
          "2020-03-10T10:30:00",
          "2020-03-11T10:30:00",
          "2020-03-11T10:30:00",
          "2020-03-12T10:30:00",
          "2020-03-13T10:30:00",
          "2020-03-14T17:30:00",
          "2020-03-14T17:30:00",
          "2020-03-14T17:30:00",
          "2020-03-14T17:30:00",
          "2020-03-14T17:30:00",
          "2020-03-14T17:30:00",
          "2020-03-14T17:30:00",
          "2020-03-14T17:30:00",
          "2020-03-14T17:30:00",
          "2020-03-14T17:30:00",
          "2020-03-14T17:30:00",
          "2020-03-14T17:30:00",
          "2020-03-15T10:30:00",
          "2020-03-15T17:30:00",
          "2020-03-16T10:30:00",
          "2020-03-16T17:30:00",
          "2020-03-17T10:30:00",
          "2020-03-17T17:30:00",
          "2020-03-18T10:30:00",
          "2020-03-18T17:30:00",
          "2020-03-19T10:30:00",
          "2020-03-19T17:30:00",
          "2020-03-20T10:30:00",
          "2020-03-20T17:30:00",
          "2020-03-21T10:30:00",
          "2020-03-21T17:30:00",
          "2020-03-22T10:30:00",
          "2020-03-23T20:37:53"
         ],
         "y": [
          0,
          0,
          0,
          0,
          0,
          0,
          0,
          0,
          0,
          0,
          0,
          0,
          0,
          0,
          0,
          0,
          0,
          0,
          0,
          0,
          0,
          0,
          0,
          0,
          0,
          0,
          0,
          1,
          1,
          1,
          1,
          2,
          2,
          2,
          2,
          3,
          3,
          6
         ]
        }
       ],
       "layout": {
        "bargap": 0.7,
        "bargroupgap": 0.1,
        "barmode": "stack",
        "template": {
         "data": {
          "bar": [
           {
            "error_x": {
             "color": "#2a3f5f"
            },
            "error_y": {
             "color": "#2a3f5f"
            },
            "marker": {
             "line": {
              "color": "#E5ECF6",
              "width": 0.5
             }
            },
            "type": "bar"
           }
          ],
          "barpolar": [
           {
            "marker": {
             "line": {
              "color": "#E5ECF6",
              "width": 0.5
             }
            },
            "type": "barpolar"
           }
          ],
          "carpet": [
           {
            "aaxis": {
             "endlinecolor": "#2a3f5f",
             "gridcolor": "white",
             "linecolor": "white",
             "minorgridcolor": "white",
             "startlinecolor": "#2a3f5f"
            },
            "baxis": {
             "endlinecolor": "#2a3f5f",
             "gridcolor": "white",
             "linecolor": "white",
             "minorgridcolor": "white",
             "startlinecolor": "#2a3f5f"
            },
            "type": "carpet"
           }
          ],
          "choropleth": [
           {
            "colorbar": {
             "outlinewidth": 0,
             "ticks": ""
            },
            "type": "choropleth"
           }
          ],
          "contour": [
           {
            "colorbar": {
             "outlinewidth": 0,
             "ticks": ""
            },
            "colorscale": [
             [
              0,
              "#0d0887"
             ],
             [
              0.1111111111111111,
              "#46039f"
             ],
             [
              0.2222222222222222,
              "#7201a8"
             ],
             [
              0.3333333333333333,
              "#9c179e"
             ],
             [
              0.4444444444444444,
              "#bd3786"
             ],
             [
              0.5555555555555556,
              "#d8576b"
             ],
             [
              0.6666666666666666,
              "#ed7953"
             ],
             [
              0.7777777777777778,
              "#fb9f3a"
             ],
             [
              0.8888888888888888,
              "#fdca26"
             ],
             [
              1,
              "#f0f921"
             ]
            ],
            "type": "contour"
           }
          ],
          "contourcarpet": [
           {
            "colorbar": {
             "outlinewidth": 0,
             "ticks": ""
            },
            "type": "contourcarpet"
           }
          ],
          "heatmap": [
           {
            "colorbar": {
             "outlinewidth": 0,
             "ticks": ""
            },
            "colorscale": [
             [
              0,
              "#0d0887"
             ],
             [
              0.1111111111111111,
              "#46039f"
             ],
             [
              0.2222222222222222,
              "#7201a8"
             ],
             [
              0.3333333333333333,
              "#9c179e"
             ],
             [
              0.4444444444444444,
              "#bd3786"
             ],
             [
              0.5555555555555556,
              "#d8576b"
             ],
             [
              0.6666666666666666,
              "#ed7953"
             ],
             [
              0.7777777777777778,
              "#fb9f3a"
             ],
             [
              0.8888888888888888,
              "#fdca26"
             ],
             [
              1,
              "#f0f921"
             ]
            ],
            "type": "heatmap"
           }
          ],
          "heatmapgl": [
           {
            "colorbar": {
             "outlinewidth": 0,
             "ticks": ""
            },
            "colorscale": [
             [
              0,
              "#0d0887"
             ],
             [
              0.1111111111111111,
              "#46039f"
             ],
             [
              0.2222222222222222,
              "#7201a8"
             ],
             [
              0.3333333333333333,
              "#9c179e"
             ],
             [
              0.4444444444444444,
              "#bd3786"
             ],
             [
              0.5555555555555556,
              "#d8576b"
             ],
             [
              0.6666666666666666,
              "#ed7953"
             ],
             [
              0.7777777777777778,
              "#fb9f3a"
             ],
             [
              0.8888888888888888,
              "#fdca26"
             ],
             [
              1,
              "#f0f921"
             ]
            ],
            "type": "heatmapgl"
           }
          ],
          "histogram": [
           {
            "marker": {
             "colorbar": {
              "outlinewidth": 0,
              "ticks": ""
             }
            },
            "type": "histogram"
           }
          ],
          "histogram2d": [
           {
            "colorbar": {
             "outlinewidth": 0,
             "ticks": ""
            },
            "colorscale": [
             [
              0,
              "#0d0887"
             ],
             [
              0.1111111111111111,
              "#46039f"
             ],
             [
              0.2222222222222222,
              "#7201a8"
             ],
             [
              0.3333333333333333,
              "#9c179e"
             ],
             [
              0.4444444444444444,
              "#bd3786"
             ],
             [
              0.5555555555555556,
              "#d8576b"
             ],
             [
              0.6666666666666666,
              "#ed7953"
             ],
             [
              0.7777777777777778,
              "#fb9f3a"
             ],
             [
              0.8888888888888888,
              "#fdca26"
             ],
             [
              1,
              "#f0f921"
             ]
            ],
            "type": "histogram2d"
           }
          ],
          "histogram2dcontour": [
           {
            "colorbar": {
             "outlinewidth": 0,
             "ticks": ""
            },
            "colorscale": [
             [
              0,
              "#0d0887"
             ],
             [
              0.1111111111111111,
              "#46039f"
             ],
             [
              0.2222222222222222,
              "#7201a8"
             ],
             [
              0.3333333333333333,
              "#9c179e"
             ],
             [
              0.4444444444444444,
              "#bd3786"
             ],
             [
              0.5555555555555556,
              "#d8576b"
             ],
             [
              0.6666666666666666,
              "#ed7953"
             ],
             [
              0.7777777777777778,
              "#fb9f3a"
             ],
             [
              0.8888888888888888,
              "#fdca26"
             ],
             [
              1,
              "#f0f921"
             ]
            ],
            "type": "histogram2dcontour"
           }
          ],
          "mesh3d": [
           {
            "colorbar": {
             "outlinewidth": 0,
             "ticks": ""
            },
            "type": "mesh3d"
           }
          ],
          "parcoords": [
           {
            "line": {
             "colorbar": {
              "outlinewidth": 0,
              "ticks": ""
             }
            },
            "type": "parcoords"
           }
          ],
          "pie": [
           {
            "automargin": true,
            "type": "pie"
           }
          ],
          "scatter": [
           {
            "marker": {
             "colorbar": {
              "outlinewidth": 0,
              "ticks": ""
             }
            },
            "type": "scatter"
           }
          ],
          "scatter3d": [
           {
            "line": {
             "colorbar": {
              "outlinewidth": 0,
              "ticks": ""
             }
            },
            "marker": {
             "colorbar": {
              "outlinewidth": 0,
              "ticks": ""
             }
            },
            "type": "scatter3d"
           }
          ],
          "scattercarpet": [
           {
            "marker": {
             "colorbar": {
              "outlinewidth": 0,
              "ticks": ""
             }
            },
            "type": "scattercarpet"
           }
          ],
          "scattergeo": [
           {
            "marker": {
             "colorbar": {
              "outlinewidth": 0,
              "ticks": ""
             }
            },
            "type": "scattergeo"
           }
          ],
          "scattergl": [
           {
            "marker": {
             "colorbar": {
              "outlinewidth": 0,
              "ticks": ""
             }
            },
            "type": "scattergl"
           }
          ],
          "scattermapbox": [
           {
            "marker": {
             "colorbar": {
              "outlinewidth": 0,
              "ticks": ""
             }
            },
            "type": "scattermapbox"
           }
          ],
          "scatterpolar": [
           {
            "marker": {
             "colorbar": {
              "outlinewidth": 0,
              "ticks": ""
             }
            },
            "type": "scatterpolar"
           }
          ],
          "scatterpolargl": [
           {
            "marker": {
             "colorbar": {
              "outlinewidth": 0,
              "ticks": ""
             }
            },
            "type": "scatterpolargl"
           }
          ],
          "scatterternary": [
           {
            "marker": {
             "colorbar": {
              "outlinewidth": 0,
              "ticks": ""
             }
            },
            "type": "scatterternary"
           }
          ],
          "surface": [
           {
            "colorbar": {
             "outlinewidth": 0,
             "ticks": ""
            },
            "colorscale": [
             [
              0,
              "#0d0887"
             ],
             [
              0.1111111111111111,
              "#46039f"
             ],
             [
              0.2222222222222222,
              "#7201a8"
             ],
             [
              0.3333333333333333,
              "#9c179e"
             ],
             [
              0.4444444444444444,
              "#bd3786"
             ],
             [
              0.5555555555555556,
              "#d8576b"
             ],
             [
              0.6666666666666666,
              "#ed7953"
             ],
             [
              0.7777777777777778,
              "#fb9f3a"
             ],
             [
              0.8888888888888888,
              "#fdca26"
             ],
             [
              1,
              "#f0f921"
             ]
            ],
            "type": "surface"
           }
          ],
          "table": [
           {
            "cells": {
             "fill": {
              "color": "#EBF0F8"
             },
             "line": {
              "color": "white"
             }
            },
            "header": {
             "fill": {
              "color": "#C8D4E3"
             },
             "line": {
              "color": "white"
             }
            },
            "type": "table"
           }
          ]
         },
         "layout": {
          "annotationdefaults": {
           "arrowcolor": "#2a3f5f",
           "arrowhead": 0,
           "arrowwidth": 1
          },
          "coloraxis": {
           "colorbar": {
            "outlinewidth": 0,
            "ticks": ""
           }
          },
          "colorscale": {
           "diverging": [
            [
             0,
             "#8e0152"
            ],
            [
             0.1,
             "#c51b7d"
            ],
            [
             0.2,
             "#de77ae"
            ],
            [
             0.3,
             "#f1b6da"
            ],
            [
             0.4,
             "#fde0ef"
            ],
            [
             0.5,
             "#f7f7f7"
            ],
            [
             0.6,
             "#e6f5d0"
            ],
            [
             0.7,
             "#b8e186"
            ],
            [
             0.8,
             "#7fbc41"
            ],
            [
             0.9,
             "#4d9221"
            ],
            [
             1,
             "#276419"
            ]
           ],
           "sequential": [
            [
             0,
             "#0d0887"
            ],
            [
             0.1111111111111111,
             "#46039f"
            ],
            [
             0.2222222222222222,
             "#7201a8"
            ],
            [
             0.3333333333333333,
             "#9c179e"
            ],
            [
             0.4444444444444444,
             "#bd3786"
            ],
            [
             0.5555555555555556,
             "#d8576b"
            ],
            [
             0.6666666666666666,
             "#ed7953"
            ],
            [
             0.7777777777777778,
             "#fb9f3a"
            ],
            [
             0.8888888888888888,
             "#fdca26"
            ],
            [
             1,
             "#f0f921"
            ]
           ],
           "sequentialminus": [
            [
             0,
             "#0d0887"
            ],
            [
             0.1111111111111111,
             "#46039f"
            ],
            [
             0.2222222222222222,
             "#7201a8"
            ],
            [
             0.3333333333333333,
             "#9c179e"
            ],
            [
             0.4444444444444444,
             "#bd3786"
            ],
            [
             0.5555555555555556,
             "#d8576b"
            ],
            [
             0.6666666666666666,
             "#ed7953"
            ],
            [
             0.7777777777777778,
             "#fb9f3a"
            ],
            [
             0.8888888888888888,
             "#fdca26"
            ],
            [
             1,
             "#f0f921"
            ]
           ]
          },
          "colorway": [
           "#636efa",
           "#EF553B",
           "#00cc96",
           "#ab63fa",
           "#FFA15A",
           "#19d3f3",
           "#FF6692",
           "#B6E880",
           "#FF97FF",
           "#FECB52"
          ],
          "font": {
           "color": "#2a3f5f"
          },
          "geo": {
           "bgcolor": "white",
           "lakecolor": "white",
           "landcolor": "#E5ECF6",
           "showlakes": true,
           "showland": true,
           "subunitcolor": "white"
          },
          "hoverlabel": {
           "align": "left"
          },
          "hovermode": "closest",
          "mapbox": {
           "style": "light"
          },
          "paper_bgcolor": "white",
          "plot_bgcolor": "#E5ECF6",
          "polar": {
           "angularaxis": {
            "gridcolor": "white",
            "linecolor": "white",
            "ticks": ""
           },
           "bgcolor": "#E5ECF6",
           "radialaxis": {
            "gridcolor": "white",
            "linecolor": "white",
            "ticks": ""
           }
          },
          "scene": {
           "xaxis": {
            "backgroundcolor": "#E5ECF6",
            "gridcolor": "white",
            "gridwidth": 2,
            "linecolor": "white",
            "showbackground": true,
            "ticks": "",
            "zerolinecolor": "white"
           },
           "yaxis": {
            "backgroundcolor": "#E5ECF6",
            "gridcolor": "white",
            "gridwidth": 2,
            "linecolor": "white",
            "showbackground": true,
            "ticks": "",
            "zerolinecolor": "white"
           },
           "zaxis": {
            "backgroundcolor": "#E5ECF6",
            "gridcolor": "white",
            "gridwidth": 2,
            "linecolor": "white",
            "showbackground": true,
            "ticks": "",
            "zerolinecolor": "white"
           }
          },
          "shapedefaults": {
           "line": {
            "color": "#2a3f5f"
           }
          },
          "ternary": {
           "aaxis": {
            "gridcolor": "white",
            "linecolor": "white",
            "ticks": ""
           },
           "baxis": {
            "gridcolor": "white",
            "linecolor": "white",
            "ticks": ""
           },
           "bgcolor": "#E5ECF6",
           "caxis": {
            "gridcolor": "white",
            "linecolor": "white",
            "ticks": ""
           }
          },
          "title": {
           "x": 0.05
          },
          "xaxis": {
           "automargin": true,
           "gridcolor": "white",
           "linecolor": "white",
           "ticks": "",
           "title": {
            "standoff": 15
           },
           "zerolinecolor": "white",
           "zerolinewidth": 2
          },
          "yaxis": {
           "automargin": true,
           "gridcolor": "white",
           "linecolor": "white",
           "ticks": "",
           "title": {
            "standoff": 15
           },
           "zerolinecolor": "white",
           "zerolinewidth": 2
          }
         }
        },
        "title": {
         "text": "Infection over time"
        },
        "xaxis": {
         "title": {
          "text": "Date"
         }
        },
        "yaxis": {
         "title": {
          "text": "Infected"
         }
        }
       }
      },
      "text/html": [
       "<div>\n",
       "        \n",
       "        \n",
       "            <div id=\"92bb4b22-356f-4182-83bd-66c267187a90\" class=\"plotly-graph-div\" style=\"height:525px; width:100%;\"></div>\n",
       "            <script type=\"text/javascript\">\n",
       "                require([\"plotly\"], function(Plotly) {\n",
       "                    window.PLOTLYENV=window.PLOTLYENV || {};\n",
       "                    \n",
       "                if (document.getElementById(\"92bb4b22-356f-4182-83bd-66c267187a90\")) {\n",
       "                    Plotly.newPlot(\n",
       "                        '92bb4b22-356f-4182-83bd-66c267187a90',\n",
       "                        [{\"name\": \"Negative\", \"type\": \"bar\", \"x\": [\"2020-03-05T10:30:00\", \"2020-03-06T10:30:00\", \"2020-03-07T10:30:00\", \"2020-03-09T10:30:00\", \"2020-03-09T10:30:00\", \"2020-03-10T10:30:00\", \"2020-03-11T10:30:00\", \"2020-03-11T10:30:00\", \"2020-03-12T10:30:00\", \"2020-03-13T10:30:00\", \"2020-03-14T17:30:00\", \"2020-03-14T17:30:00\", \"2020-03-14T17:30:00\", \"2020-03-14T17:30:00\", \"2020-03-14T17:30:00\", \"2020-03-14T17:30:00\", \"2020-03-14T17:30:00\", \"2020-03-14T17:30:00\", \"2020-03-14T17:30:00\", \"2020-03-14T17:30:00\", \"2020-03-14T17:30:00\", \"2020-03-14T17:30:00\", \"2020-03-15T10:30:00\", \"2020-03-15T17:30:00\", \"2020-03-16T10:30:00\", \"2020-03-16T17:30:00\", \"2020-03-17T10:30:00\", \"2020-03-17T17:30:00\", \"2020-03-18T10:30:00\", \"2020-03-18T17:30:00\", \"2020-03-19T10:30:00\", \"2020-03-19T17:30:00\", \"2020-03-20T10:30:00\", \"2020-03-20T17:30:00\", \"2020-03-21T10:30:00\", \"2020-03-21T17:30:00\", \"2020-03-22T10:30:00\", \"2020-03-23T20:37:53\"], \"y\": [1466, 1665, 1918, 2347, 2347, 2599, 2888, 2888, 3590, 4470, 5606, 5606, 5606, 5606, 5606, 5606, 5606, 5606, 5606, 5606, 5606, 5606, 7004, 7004, 8464, 8464, 9415, 9415, 10305, 10305, 12421, 12421, 13718, 13718, 15768, 15768, 17634, 19586]}, {\"name\": \"Under Investigation\", \"type\": \"bar\", \"x\": [\"2020-03-05T10:30:00\", \"2020-03-06T10:30:00\", \"2020-03-07T10:30:00\", \"2020-03-09T10:30:00\", \"2020-03-09T10:30:00\", \"2020-03-10T10:30:00\", \"2020-03-11T10:30:00\", \"2020-03-11T10:30:00\", \"2020-03-12T10:30:00\", \"2020-03-13T10:30:00\", \"2020-03-14T17:30:00\", \"2020-03-14T17:30:00\", \"2020-03-14T17:30:00\", \"2020-03-14T17:30:00\", \"2020-03-14T17:30:00\", \"2020-03-14T17:30:00\", \"2020-03-14T17:30:00\", \"2020-03-14T17:30:00\", \"2020-03-14T17:30:00\", \"2020-03-14T17:30:00\", \"2020-03-14T17:30:00\", \"2020-03-14T17:30:00\", \"2020-03-15T10:30:00\", \"2020-03-15T17:30:00\", \"2020-03-16T10:30:00\", \"2020-03-16T17:30:00\", \"2020-03-17T10:30:00\", \"2020-03-17T17:30:00\", \"2020-03-18T10:30:00\", \"2020-03-18T17:30:00\", \"2020-03-19T10:30:00\", \"2020-03-19T17:30:00\", \"2020-03-20T10:30:00\", \"2020-03-20T17:30:00\", \"2020-03-21T10:30:00\", \"2020-03-21T17:30:00\", \"2020-03-22T10:30:00\", \"2020-03-23T20:37:53\"], \"y\": [78, 72, 36, 22, 22, 112, 465, 465, 536, 580, 939, 939, 939, 939, 939, 939, 939, 939, 939, 939, 939, 939, 1316, 1316, 1537, 1537, 1567, 1567, 3379, 3378, 3972, 3971, 5485, 5475, 7239, 7239, 8361, 8417]}, {\"name\": \"Confirmed Positive\", \"type\": \"bar\", \"x\": [\"2020-03-05T10:30:00\", \"2020-03-06T10:30:00\", \"2020-03-07T10:30:00\", \"2020-03-09T10:30:00\", \"2020-03-09T10:30:00\", \"2020-03-10T10:30:00\", \"2020-03-11T10:30:00\", \"2020-03-11T10:30:00\", \"2020-03-12T10:30:00\", \"2020-03-13T10:30:00\", \"2020-03-14T17:30:00\", \"2020-03-14T17:30:00\", \"2020-03-14T17:30:00\", \"2020-03-14T17:30:00\", \"2020-03-14T17:30:00\", \"2020-03-14T17:30:00\", \"2020-03-14T17:30:00\", \"2020-03-14T17:30:00\", \"2020-03-14T17:30:00\", \"2020-03-14T17:30:00\", \"2020-03-14T17:30:00\", \"2020-03-14T17:30:00\", \"2020-03-15T10:30:00\", \"2020-03-15T17:30:00\", \"2020-03-16T10:30:00\", \"2020-03-16T17:30:00\", \"2020-03-17T10:30:00\", \"2020-03-17T17:30:00\", \"2020-03-18T10:30:00\", \"2020-03-18T17:30:00\", \"2020-03-19T10:30:00\", \"2020-03-19T17:30:00\", \"2020-03-20T10:30:00\", \"2020-03-20T17:30:00\", \"2020-03-21T10:30:00\", \"2020-03-21T17:30:00\", \"2020-03-22T10:30:00\", \"2020-03-23T20:37:53\"], \"y\": [18, 22, 24, 30, 31, 31, 36, 37, 54, 74, 98, 98, 98, 98, 98, 98, 98, 98, 98, 98, 98, 98, 137, 140, 172, 172, 180, 183, 206, 208, 251, 251, 301, 311, 369, 368, 413, 489]}, {\"name\": \"Resolved\", \"type\": \"bar\", \"x\": [\"2020-03-05T10:30:00\", \"2020-03-06T10:30:00\", \"2020-03-07T10:30:00\", \"2020-03-09T10:30:00\", \"2020-03-09T10:30:00\", \"2020-03-10T10:30:00\", \"2020-03-11T10:30:00\", \"2020-03-11T10:30:00\", \"2020-03-12T10:30:00\", \"2020-03-13T10:30:00\", \"2020-03-14T17:30:00\", \"2020-03-14T17:30:00\", \"2020-03-14T17:30:00\", \"2020-03-14T17:30:00\", \"2020-03-14T17:30:00\", \"2020-03-14T17:30:00\", \"2020-03-14T17:30:00\", \"2020-03-14T17:30:00\", \"2020-03-14T17:30:00\", \"2020-03-14T17:30:00\", \"2020-03-14T17:30:00\", \"2020-03-14T17:30:00\", \"2020-03-15T10:30:00\", \"2020-03-15T17:30:00\", \"2020-03-16T10:30:00\", \"2020-03-16T17:30:00\", \"2020-03-17T10:30:00\", \"2020-03-17T17:30:00\", \"2020-03-18T10:30:00\", \"2020-03-18T17:30:00\", \"2020-03-19T10:30:00\", \"2020-03-19T17:30:00\", \"2020-03-20T10:30:00\", \"2020-03-20T17:30:00\", \"2020-03-21T10:30:00\", \"2020-03-21T17:30:00\", \"2020-03-22T10:30:00\", \"2020-03-23T20:37:53\"], \"y\": [4, 4, 4, 4, 4, 5, 5, 5, 5, 5, 5, 5, 5, 5, 5, 5, 5, 5, 5, 5, 5, 5, 5, 5, 5, 5, 5, 5, 5, 5, 5, 5, 5, 5, 6, 6, 8, 8]}, {\"name\": \"Dead\", \"type\": \"bar\", \"x\": [\"2020-03-05T10:30:00\", \"2020-03-06T10:30:00\", \"2020-03-07T10:30:00\", \"2020-03-09T10:30:00\", \"2020-03-09T10:30:00\", \"2020-03-10T10:30:00\", \"2020-03-11T10:30:00\", \"2020-03-11T10:30:00\", \"2020-03-12T10:30:00\", \"2020-03-13T10:30:00\", \"2020-03-14T17:30:00\", \"2020-03-14T17:30:00\", \"2020-03-14T17:30:00\", \"2020-03-14T17:30:00\", \"2020-03-14T17:30:00\", \"2020-03-14T17:30:00\", \"2020-03-14T17:30:00\", \"2020-03-14T17:30:00\", \"2020-03-14T17:30:00\", \"2020-03-14T17:30:00\", \"2020-03-14T17:30:00\", \"2020-03-14T17:30:00\", \"2020-03-15T10:30:00\", \"2020-03-15T17:30:00\", \"2020-03-16T10:30:00\", \"2020-03-16T17:30:00\", \"2020-03-17T10:30:00\", \"2020-03-17T17:30:00\", \"2020-03-18T10:30:00\", \"2020-03-18T17:30:00\", \"2020-03-19T10:30:00\", \"2020-03-19T17:30:00\", \"2020-03-20T10:30:00\", \"2020-03-20T17:30:00\", \"2020-03-21T10:30:00\", \"2020-03-21T17:30:00\", \"2020-03-22T10:30:00\", \"2020-03-23T20:37:53\"], \"y\": [0, 0, 0, 0, 0, 0, 0, 0, 0, 0, 0, 0, 0, 0, 0, 0, 0, 0, 0, 0, 0, 0, 0, 0, 0, 0, 0, 1, 1, 1, 1, 2, 2, 2, 2, 3, 3, 6]}],\n",
       "                        {\"bargap\": 0.7, \"bargroupgap\": 0.1, \"barmode\": \"stack\", \"template\": {\"data\": {\"bar\": [{\"error_x\": {\"color\": \"#2a3f5f\"}, \"error_y\": {\"color\": \"#2a3f5f\"}, \"marker\": {\"line\": {\"color\": \"#E5ECF6\", \"width\": 0.5}}, \"type\": \"bar\"}], \"barpolar\": [{\"marker\": {\"line\": {\"color\": \"#E5ECF6\", \"width\": 0.5}}, \"type\": \"barpolar\"}], \"carpet\": [{\"aaxis\": {\"endlinecolor\": \"#2a3f5f\", \"gridcolor\": \"white\", \"linecolor\": \"white\", \"minorgridcolor\": \"white\", \"startlinecolor\": \"#2a3f5f\"}, \"baxis\": {\"endlinecolor\": \"#2a3f5f\", \"gridcolor\": \"white\", \"linecolor\": \"white\", \"minorgridcolor\": \"white\", \"startlinecolor\": \"#2a3f5f\"}, \"type\": \"carpet\"}], \"choropleth\": [{\"colorbar\": {\"outlinewidth\": 0, \"ticks\": \"\"}, \"type\": \"choropleth\"}], \"contour\": [{\"colorbar\": {\"outlinewidth\": 0, \"ticks\": \"\"}, \"colorscale\": [[0.0, \"#0d0887\"], [0.1111111111111111, \"#46039f\"], [0.2222222222222222, \"#7201a8\"], [0.3333333333333333, \"#9c179e\"], [0.4444444444444444, \"#bd3786\"], [0.5555555555555556, \"#d8576b\"], [0.6666666666666666, \"#ed7953\"], [0.7777777777777778, \"#fb9f3a\"], [0.8888888888888888, \"#fdca26\"], [1.0, \"#f0f921\"]], \"type\": \"contour\"}], \"contourcarpet\": [{\"colorbar\": {\"outlinewidth\": 0, \"ticks\": \"\"}, \"type\": \"contourcarpet\"}], \"heatmap\": [{\"colorbar\": {\"outlinewidth\": 0, \"ticks\": \"\"}, \"colorscale\": [[0.0, \"#0d0887\"], [0.1111111111111111, \"#46039f\"], [0.2222222222222222, \"#7201a8\"], [0.3333333333333333, \"#9c179e\"], [0.4444444444444444, \"#bd3786\"], [0.5555555555555556, \"#d8576b\"], [0.6666666666666666, \"#ed7953\"], [0.7777777777777778, \"#fb9f3a\"], [0.8888888888888888, \"#fdca26\"], [1.0, \"#f0f921\"]], \"type\": \"heatmap\"}], \"heatmapgl\": [{\"colorbar\": {\"outlinewidth\": 0, \"ticks\": \"\"}, \"colorscale\": [[0.0, \"#0d0887\"], [0.1111111111111111, \"#46039f\"], [0.2222222222222222, \"#7201a8\"], [0.3333333333333333, \"#9c179e\"], [0.4444444444444444, \"#bd3786\"], [0.5555555555555556, \"#d8576b\"], [0.6666666666666666, \"#ed7953\"], [0.7777777777777778, \"#fb9f3a\"], [0.8888888888888888, \"#fdca26\"], [1.0, \"#f0f921\"]], \"type\": \"heatmapgl\"}], \"histogram\": [{\"marker\": {\"colorbar\": {\"outlinewidth\": 0, \"ticks\": \"\"}}, \"type\": \"histogram\"}], \"histogram2d\": [{\"colorbar\": {\"outlinewidth\": 0, \"ticks\": \"\"}, \"colorscale\": [[0.0, \"#0d0887\"], [0.1111111111111111, \"#46039f\"], [0.2222222222222222, \"#7201a8\"], [0.3333333333333333, \"#9c179e\"], [0.4444444444444444, \"#bd3786\"], [0.5555555555555556, \"#d8576b\"], [0.6666666666666666, \"#ed7953\"], [0.7777777777777778, \"#fb9f3a\"], [0.8888888888888888, \"#fdca26\"], [1.0, \"#f0f921\"]], \"type\": \"histogram2d\"}], \"histogram2dcontour\": [{\"colorbar\": {\"outlinewidth\": 0, \"ticks\": \"\"}, \"colorscale\": [[0.0, \"#0d0887\"], [0.1111111111111111, \"#46039f\"], [0.2222222222222222, \"#7201a8\"], [0.3333333333333333, \"#9c179e\"], [0.4444444444444444, \"#bd3786\"], [0.5555555555555556, \"#d8576b\"], [0.6666666666666666, \"#ed7953\"], [0.7777777777777778, \"#fb9f3a\"], [0.8888888888888888, \"#fdca26\"], [1.0, \"#f0f921\"]], \"type\": \"histogram2dcontour\"}], \"mesh3d\": [{\"colorbar\": {\"outlinewidth\": 0, \"ticks\": \"\"}, \"type\": \"mesh3d\"}], \"parcoords\": [{\"line\": {\"colorbar\": {\"outlinewidth\": 0, \"ticks\": \"\"}}, \"type\": \"parcoords\"}], \"pie\": [{\"automargin\": true, \"type\": \"pie\"}], \"scatter\": [{\"marker\": {\"colorbar\": {\"outlinewidth\": 0, \"ticks\": \"\"}}, \"type\": \"scatter\"}], \"scatter3d\": [{\"line\": {\"colorbar\": {\"outlinewidth\": 0, \"ticks\": \"\"}}, \"marker\": {\"colorbar\": {\"outlinewidth\": 0, \"ticks\": \"\"}}, \"type\": \"scatter3d\"}], \"scattercarpet\": [{\"marker\": {\"colorbar\": {\"outlinewidth\": 0, \"ticks\": \"\"}}, \"type\": \"scattercarpet\"}], \"scattergeo\": [{\"marker\": {\"colorbar\": {\"outlinewidth\": 0, \"ticks\": \"\"}}, \"type\": \"scattergeo\"}], \"scattergl\": [{\"marker\": {\"colorbar\": {\"outlinewidth\": 0, \"ticks\": \"\"}}, \"type\": \"scattergl\"}], \"scattermapbox\": [{\"marker\": {\"colorbar\": {\"outlinewidth\": 0, \"ticks\": \"\"}}, \"type\": \"scattermapbox\"}], \"scatterpolar\": [{\"marker\": {\"colorbar\": {\"outlinewidth\": 0, \"ticks\": \"\"}}, \"type\": \"scatterpolar\"}], \"scatterpolargl\": [{\"marker\": {\"colorbar\": {\"outlinewidth\": 0, \"ticks\": \"\"}}, \"type\": \"scatterpolargl\"}], \"scatterternary\": [{\"marker\": {\"colorbar\": {\"outlinewidth\": 0, \"ticks\": \"\"}}, \"type\": \"scatterternary\"}], \"surface\": [{\"colorbar\": {\"outlinewidth\": 0, \"ticks\": \"\"}, \"colorscale\": [[0.0, \"#0d0887\"], [0.1111111111111111, \"#46039f\"], [0.2222222222222222, \"#7201a8\"], [0.3333333333333333, \"#9c179e\"], [0.4444444444444444, \"#bd3786\"], [0.5555555555555556, \"#d8576b\"], [0.6666666666666666, \"#ed7953\"], [0.7777777777777778, \"#fb9f3a\"], [0.8888888888888888, \"#fdca26\"], [1.0, \"#f0f921\"]], \"type\": \"surface\"}], \"table\": [{\"cells\": {\"fill\": {\"color\": \"#EBF0F8\"}, \"line\": {\"color\": \"white\"}}, \"header\": {\"fill\": {\"color\": \"#C8D4E3\"}, \"line\": {\"color\": \"white\"}}, \"type\": \"table\"}]}, \"layout\": {\"annotationdefaults\": {\"arrowcolor\": \"#2a3f5f\", \"arrowhead\": 0, \"arrowwidth\": 1}, \"coloraxis\": {\"colorbar\": {\"outlinewidth\": 0, \"ticks\": \"\"}}, \"colorscale\": {\"diverging\": [[0, \"#8e0152\"], [0.1, \"#c51b7d\"], [0.2, \"#de77ae\"], [0.3, \"#f1b6da\"], [0.4, \"#fde0ef\"], [0.5, \"#f7f7f7\"], [0.6, \"#e6f5d0\"], [0.7, \"#b8e186\"], [0.8, \"#7fbc41\"], [0.9, \"#4d9221\"], [1, \"#276419\"]], \"sequential\": [[0.0, \"#0d0887\"], [0.1111111111111111, \"#46039f\"], [0.2222222222222222, \"#7201a8\"], [0.3333333333333333, \"#9c179e\"], [0.4444444444444444, \"#bd3786\"], [0.5555555555555556, \"#d8576b\"], [0.6666666666666666, \"#ed7953\"], [0.7777777777777778, \"#fb9f3a\"], [0.8888888888888888, \"#fdca26\"], [1.0, \"#f0f921\"]], \"sequentialminus\": [[0.0, \"#0d0887\"], [0.1111111111111111, \"#46039f\"], [0.2222222222222222, \"#7201a8\"], [0.3333333333333333, \"#9c179e\"], [0.4444444444444444, \"#bd3786\"], [0.5555555555555556, \"#d8576b\"], [0.6666666666666666, \"#ed7953\"], [0.7777777777777778, \"#fb9f3a\"], [0.8888888888888888, \"#fdca26\"], [1.0, \"#f0f921\"]]}, \"colorway\": [\"#636efa\", \"#EF553B\", \"#00cc96\", \"#ab63fa\", \"#FFA15A\", \"#19d3f3\", \"#FF6692\", \"#B6E880\", \"#FF97FF\", \"#FECB52\"], \"font\": {\"color\": \"#2a3f5f\"}, \"geo\": {\"bgcolor\": \"white\", \"lakecolor\": \"white\", \"landcolor\": \"#E5ECF6\", \"showlakes\": true, \"showland\": true, \"subunitcolor\": \"white\"}, \"hoverlabel\": {\"align\": \"left\"}, \"hovermode\": \"closest\", \"mapbox\": {\"style\": \"light\"}, \"paper_bgcolor\": \"white\", \"plot_bgcolor\": \"#E5ECF6\", \"polar\": {\"angularaxis\": {\"gridcolor\": \"white\", \"linecolor\": \"white\", \"ticks\": \"\"}, \"bgcolor\": \"#E5ECF6\", \"radialaxis\": {\"gridcolor\": \"white\", \"linecolor\": \"white\", \"ticks\": \"\"}}, \"scene\": {\"xaxis\": {\"backgroundcolor\": \"#E5ECF6\", \"gridcolor\": \"white\", \"gridwidth\": 2, \"linecolor\": \"white\", \"showbackground\": true, \"ticks\": \"\", \"zerolinecolor\": \"white\"}, \"yaxis\": {\"backgroundcolor\": \"#E5ECF6\", \"gridcolor\": \"white\", \"gridwidth\": 2, \"linecolor\": \"white\", \"showbackground\": true, \"ticks\": \"\", \"zerolinecolor\": \"white\"}, \"zaxis\": {\"backgroundcolor\": \"#E5ECF6\", \"gridcolor\": \"white\", \"gridwidth\": 2, \"linecolor\": \"white\", \"showbackground\": true, \"ticks\": \"\", \"zerolinecolor\": \"white\"}}, \"shapedefaults\": {\"line\": {\"color\": \"#2a3f5f\"}}, \"ternary\": {\"aaxis\": {\"gridcolor\": \"white\", \"linecolor\": \"white\", \"ticks\": \"\"}, \"baxis\": {\"gridcolor\": \"white\", \"linecolor\": \"white\", \"ticks\": \"\"}, \"bgcolor\": \"#E5ECF6\", \"caxis\": {\"gridcolor\": \"white\", \"linecolor\": \"white\", \"ticks\": \"\"}}, \"title\": {\"x\": 0.05}, \"xaxis\": {\"automargin\": true, \"gridcolor\": \"white\", \"linecolor\": \"white\", \"ticks\": \"\", \"title\": {\"standoff\": 15}, \"zerolinecolor\": \"white\", \"zerolinewidth\": 2}, \"yaxis\": {\"automargin\": true, \"gridcolor\": \"white\", \"linecolor\": \"white\", \"ticks\": \"\", \"title\": {\"standoff\": 15}, \"zerolinecolor\": \"white\", \"zerolinewidth\": 2}}}, \"title\": {\"text\": \"Infection over time\"}, \"xaxis\": {\"title\": {\"text\": \"Date\"}}, \"yaxis\": {\"title\": {\"text\": \"Infected\"}}},\n",
       "                        {\"responsive\": true}\n",
       "                    ).then(function(){\n",
       "                            \n",
       "var gd = document.getElementById('92bb4b22-356f-4182-83bd-66c267187a90');\n",
       "var x = new MutationObserver(function (mutations, observer) {{\n",
       "        var display = window.getComputedStyle(gd).display;\n",
       "        if (!display || display === 'none') {{\n",
       "            console.log([gd, 'removed!']);\n",
       "            Plotly.purge(gd);\n",
       "            observer.disconnect();\n",
       "        }}\n",
       "}});\n",
       "\n",
       "// Listen for the removal of the full notebook cells\n",
       "var notebookContainer = gd.closest('#notebook-container');\n",
       "if (notebookContainer) {{\n",
       "    x.observe(notebookContainer, {childList: true});\n",
       "}}\n",
       "\n",
       "// Listen for the clearing of the current output cell\n",
       "var outputEl = gd.closest('.output');\n",
       "if (outputEl) {{\n",
       "    x.observe(outputEl, {childList: true});\n",
       "}}\n",
       "\n",
       "                        })\n",
       "                };\n",
       "                });\n",
       "            </script>\n",
       "        </div>"
      ]
     },
     "metadata": {},
     "output_type": "display_data"
    }
   ],
   "source": [
    "\n",
    "fig = go.Figure(data=[\n",
    "    go.Bar(name='Negative', x=dates, y=negative),\n",
    "    go.Bar(name='Under Investigation', x=dates, y=under),\n",
    "    go.Bar(name='Confirmed Positive', x=dates, y=positive),\n",
    "    go.Bar(name='Resolved', x=dates, y=resolved),\n",
    "    go.Bar(name='Dead', x=dates, y=dead),\n",
    "])\n",
    "fig.update_layout(\n",
    "    title_text='Infection over time', # title of plot\n",
    "    xaxis_title_text='Date', # xaxis label\n",
    "    yaxis_title_text='Infected', # yaxis label\n",
    "    bargap=0.7, # gap between bars of adjacent location coordinates\n",
    "    bargroupgap=0.1 # gap between bars of the same location coordinates\n",
    ")\n",
    "# Change the bar mode\n",
    "fig.update_layout(barmode='stack')\n",
    "fig.show()"
   ]
  },
  {
   "cell_type": "code",
   "execution_count": 22,
   "metadata": {},
   "outputs": [
    {
     "data": {
      "application/vnd.plotly.v1+json": {
       "config": {
        "plotlyServerURL": "https://plot.ly"
       },
       "data": [
        {
         "alignmentgroup": "True",
         "bingroup": "x",
         "hoverlabel": {
          "namelength": 0
         },
         "hovertemplate": "city=Toronto<br>date=%{x}<br>count=%{y}",
         "legendgroup": "Toronto",
         "marker": {
          "color": "#FD3216"
         },
         "name": "Toronto",
         "offsetgroup": "Toronto",
         "orientation": "v",
         "showlegend": true,
         "type": "histogram",
         "x": [
          "2020-01-23T00:00:00",
          "2020-02-21T00:00:00",
          "2020-02-24T00:00:00",
          "2020-02-25T00:00:00",
          "2020-02-28T00:00:00",
          "2020-03-03T00:00:00",
          "2020-03-03T00:00:00",
          "2020-02-28T00:00:00",
          "2020-03-03T00:00:00",
          "2020-03-02T00:00:00",
          "2020-03-07T00:00:00",
          "2020-03-14T17:30:00",
          "2020-03-14T17:30:00",
          "2020-03-14T17:30:00",
          "2020-03-14T17:30:00",
          "2020-03-14T17:30:00",
          "2020-03-14T17:30:00",
          "2020-03-14T17:30:00",
          "2020-03-14T17:30:00",
          "2020-03-14T17:30:00",
          "2020-03-16T10:30:00",
          "2020-03-16T10:30:00",
          "2020-03-16T10:30:00",
          "2020-03-16T10:30:00",
          "2020-03-16T10:30:00",
          "2020-03-16T10:30:00",
          "2020-03-16T10:30:00",
          "2020-03-16T10:30:00",
          "2020-03-16T10:30:00",
          "2020-03-16T10:30:00",
          "2020-03-16T10:30:00",
          "2020-03-18T17:30:00",
          "2020-03-18T17:30:00",
          "2020-03-18T17:30:00",
          "2020-03-09T10:30:00",
          "2020-03-09T10:30:00",
          "2020-03-15T17:30:00",
          "2020-03-15T17:30:00",
          "2020-03-15T17:30:00",
          "2020-03-15T17:30:00",
          "2020-03-15T17:30:00",
          "2020-03-15T17:30:00",
          "2020-03-15T17:30:00",
          "2020-03-15T17:30:00",
          "2020-03-15T17:30:00",
          "2020-03-15T17:30:00",
          "2020-03-15T17:30:00",
          "2020-03-15T17:30:00",
          "2020-03-15T17:30:00",
          "2020-03-15T17:30:00",
          "2020-03-11T10:30:00",
          "2020-03-21T10:30:00",
          "2020-03-21T10:30:00",
          "2020-03-12T10:30:00",
          "2020-03-12T10:30:00",
          "2020-03-12T10:30:00",
          "2020-03-12T10:30:00",
          "2020-03-12T10:30:00",
          "2020-03-12T10:30:00",
          "2020-03-12T10:30:00",
          "2020-03-12T10:30:00",
          "2020-03-12T10:30:00",
          "2020-03-20T17:30:00",
          "2020-03-20T17:30:00",
          "2020-03-22T10:30:00",
          "2020-03-19T10:30:00",
          "2020-03-19T10:30:00",
          "2020-03-19T10:30:00",
          "2020-03-19T10:30:00",
          "2020-03-19T10:30:00",
          "2020-03-19T10:30:00",
          "2020-03-19T10:30:00",
          "2020-03-19T10:30:00",
          "2020-03-10T10:30:00",
          "2020-03-13T10:30:00",
          "2020-03-13T10:30:00",
          "2020-03-13T10:30:00",
          "2020-03-13T10:30:00",
          "2020-03-13T10:30:00",
          "2020-03-13T10:30:00",
          "2020-03-13T10:30:00",
          "2020-03-13T10:30:00",
          "2020-03-13T10:30:00",
          "2020-03-13T10:30:00",
          "2020-03-13T10:30:00",
          "2020-03-13T10:30:00",
          "2020-03-11T10:30:00",
          "2020-03-23T20:37:53",
          "2020-03-23T20:37:53",
          "2020-03-23T20:37:53",
          "2020-03-23T20:37:53",
          "2020-03-23T20:37:53",
          "2020-03-23T20:37:53",
          "2020-03-23T20:37:53",
          "2020-03-23T20:37:53",
          "2020-03-23T20:37:53",
          "2020-03-23T20:37:53",
          "2020-03-23T20:37:53",
          "2020-03-23T20:37:53",
          "2020-03-23T20:37:53",
          "2020-03-23T20:37:53",
          "2020-03-23T20:37:53"
         ],
         "xaxis": "x",
         "yaxis": "y"
        },
        {
         "alignmentgroup": "True",
         "bingroup": "x",
         "hoverlabel": {
          "namelength": 0
         },
         "hovertemplate": "city=Unspecified<br>date=%{x}<br>count=%{y}",
         "legendgroup": "Unspecified",
         "marker": {
          "color": "#00FE35"
         },
         "name": "Unspecified",
         "offsetgroup": "Unspecified",
         "orientation": "v",
         "showlegend": true,
         "type": "histogram",
         "x": [
          "2020-01-27T00:00:00",
          "2020-02-27T00:00:00",
          "2020-02-28T00:00:00",
          "2020-02-29T00:00:00",
          "2020-02-29T00:00:00",
          "2020-02-23T00:00:00",
          "2020-03-02T00:00:00"
         ],
         "xaxis": "x",
         "yaxis": "y"
        },
        {
         "alignmentgroup": "True",
         "bingroup": "x",
         "hoverlabel": {
          "namelength": 0
         },
         "hovertemplate": "city=London<br>date=%{x}<br>count=%{y}",
         "legendgroup": "London",
         "marker": {
          "color": "#6A76FC"
         },
         "name": "London",
         "offsetgroup": "London",
         "orientation": "v",
         "showlegend": true,
         "type": "histogram",
         "x": [
          "2020-01-24T00:00:00",
          "2020-03-14T17:30:00",
          "2020-03-18T17:30:00",
          "2020-03-17T17:30:00",
          "2020-03-17T17:30:00",
          "2020-03-20T17:30:00",
          "2020-03-20T17:30:00",
          "2020-03-20T17:30:00",
          "2020-03-20T17:30:00",
          "2020-03-20T17:30:00",
          "2020-03-20T17:30:00"
         ],
         "xaxis": "x",
         "yaxis": "y"
        },
        {
         "alignmentgroup": "True",
         "bingroup": "x",
         "hoverlabel": {
          "namelength": 0
         },
         "hovertemplate": "city=Scarborough<br>date=%{x}<br>count=%{y}",
         "legendgroup": "Scarborough",
         "marker": {
          "color": "#FED4C4"
         },
         "name": "Scarborough",
         "offsetgroup": "Scarborough",
         "orientation": "v",
         "showlegend": true,
         "type": "histogram",
         "x": [
          "2020-02-27T00:00:00",
          "2020-03-07T00:00:00"
         ],
         "xaxis": "x",
         "yaxis": "y"
        },
        {
         "alignmentgroup": "True",
         "bingroup": "x",
         "hoverlabel": {
          "namelength": 0
         },
         "hovertemplate": "city=Richmond Hill<br>date=%{x}<br>count=%{y}",
         "legendgroup": "Richmond Hill",
         "marker": {
          "color": "#FE00CE"
         },
         "name": "Richmond Hill",
         "offsetgroup": "Richmond Hill",
         "orientation": "v",
         "showlegend": true,
         "type": "histogram",
         "x": [
          "2020-02-27T00:00:00",
          "2020-02-28T00:00:00",
          "2020-02-28T00:00:00",
          "2020-03-01T00:00:00"
         ],
         "xaxis": "x",
         "yaxis": "y"
        },
        {
         "alignmentgroup": "True",
         "bingroup": "x",
         "hoverlabel": {
          "namelength": 0
         },
         "hovertemplate": "city=Ajax<br>date=%{x}<br>count=%{y}",
         "legendgroup": "Ajax",
         "marker": {
          "color": "#0DF9FF"
         },
         "name": "Ajax",
         "offsetgroup": "Ajax",
         "orientation": "v",
         "showlegend": true,
         "type": "histogram",
         "x": [
          "2020-02-28T00:00:00"
         ],
         "xaxis": "x",
         "yaxis": "y"
        },
        {
         "alignmentgroup": "True",
         "bingroup": "x",
         "hoverlabel": {
          "namelength": 0
         },
         "hovertemplate": "city=Newmarket<br>date=%{x}<br>count=%{y}",
         "legendgroup": "Newmarket",
         "marker": {
          "color": "#F6F926"
         },
         "name": "Newmarket",
         "offsetgroup": "Newmarket",
         "orientation": "v",
         "showlegend": true,
         "type": "histogram",
         "x": [
          "2020-02-29T00:00:00"
         ],
         "xaxis": "x",
         "yaxis": "y"
        },
        {
         "alignmentgroup": "True",
         "bingroup": "x",
         "hoverlabel": {
          "namelength": 0
         },
         "hovertemplate": "city=York<br>date=%{x}<br>count=%{y}",
         "legendgroup": "York",
         "marker": {
          "color": "#FF9616"
         },
         "name": "York",
         "offsetgroup": "York",
         "orientation": "v",
         "showlegend": true,
         "type": "histogram",
         "x": [
          "2020-02-29T00:00:00",
          "2020-03-16T10:30:00",
          "2020-03-16T10:30:00",
          "2020-03-16T10:30:00",
          "2020-03-16T10:30:00",
          "2020-03-16T10:30:00",
          "2020-03-18T17:30:00",
          "2020-03-15T17:30:00",
          "2020-03-15T17:30:00",
          "2020-03-15T17:30:00",
          "2020-03-11T10:30:00",
          "2020-03-17T17:30:00",
          "2020-03-21T10:30:00",
          "2020-03-21T10:30:00",
          "2020-03-21T10:30:00",
          "2020-03-21T10:30:00",
          "2020-03-21T10:30:00",
          "2020-03-20T17:30:00",
          "2020-03-13T10:30:00",
          "2020-03-23T20:37:53",
          "2020-03-23T20:37:53",
          "2020-03-23T20:37:53",
          "2020-03-23T20:37:53",
          "2020-03-23T20:37:53",
          "2020-03-23T20:37:53",
          "2020-03-23T20:37:53",
          "2020-03-23T20:37:53"
         ],
         "xaxis": "x",
         "yaxis": "y"
        },
        {
         "alignmentgroup": "True",
         "bingroup": "x",
         "hoverlabel": {
          "namelength": 0
         },
         "hovertemplate": "city=Kitchener<br>date=%{x}<br>count=%{y}",
         "legendgroup": "Kitchener",
         "marker": {
          "color": "#479B55"
         },
         "name": "Kitchener",
         "offsetgroup": "Kitchener",
         "orientation": "v",
         "showlegend": true,
         "type": "histogram",
         "x": [
          "2020-03-03T00:00:00"
         ],
         "xaxis": "x",
         "yaxis": "y"
        },
        {
         "alignmentgroup": "True",
         "bingroup": "x",
         "hoverlabel": {
          "namelength": 0
         },
         "hovertemplate": "city=Mississauga<br>date=%{x}<br>count=%{y}",
         "legendgroup": "Mississauga",
         "marker": {
          "color": "#EEA6FB"
         },
         "name": "Mississauga",
         "offsetgroup": "Mississauga",
         "orientation": "v",
         "showlegend": true,
         "type": "histogram",
         "x": [
          "2020-02-28T00:00:00",
          "2020-02-28T00:00:00"
         ],
         "xaxis": "x",
         "yaxis": "y"
        },
        {
         "alignmentgroup": "True",
         "bingroup": "x",
         "hoverlabel": {
          "namelength": 0
         },
         "hovertemplate": "city=Ottawa<br>date=%{x}<br>count=%{y}",
         "legendgroup": "Ottawa",
         "marker": {
          "color": "#DC587D"
         },
         "name": "Ottawa",
         "offsetgroup": "Ottawa",
         "orientation": "v",
         "showlegend": true,
         "type": "histogram",
         "x": [
          "2020-03-14T17:30:00",
          "2020-03-14T17:30:00",
          "2020-03-16T10:30:00",
          "2020-03-16T10:30:00",
          "2020-03-16T10:30:00",
          "2020-03-18T17:30:00",
          "2020-03-15T17:30:00",
          "2020-03-15T17:30:00",
          "2020-03-15T17:30:00",
          "2020-03-15T17:30:00",
          "2020-03-15T17:30:00",
          "2020-03-11T10:30:00",
          "2020-03-21T10:30:00",
          "2020-03-12T10:30:00",
          "2020-03-20T17:30:00",
          "2020-03-20T17:30:00",
          "2020-03-20T17:30:00",
          "2020-03-22T10:30:00",
          "2020-03-19T10:30:00",
          "2020-03-19T10:30:00",
          "2020-03-13T10:30:00",
          "2020-03-23T20:37:53",
          "2020-03-23T20:37:53",
          "2020-03-23T20:37:53"
         ],
         "xaxis": "x",
         "yaxis": "y"
        },
        {
         "alignmentgroup": "True",
         "bingroup": "x",
         "hoverlabel": {
          "namelength": 0
         },
         "hovertemplate": "city=Peel<br>date=%{x}<br>count=%{y}",
         "legendgroup": "Peel",
         "marker": {
          "color": "#D626FF"
         },
         "name": "Peel",
         "offsetgroup": "Peel",
         "orientation": "v",
         "showlegend": true,
         "type": "histogram",
         "x": [
          "2020-03-14T17:30:00",
          "2020-03-16T10:30:00",
          "2020-03-16T10:30:00",
          "2020-03-16T10:30:00",
          "2020-03-16T10:30:00",
          "2020-03-18T17:30:00",
          "2020-03-18T17:30:00",
          "2020-03-09T10:30:00",
          "2020-03-15T17:30:00",
          "2020-03-15T17:30:00",
          "2020-03-15T17:30:00",
          "2020-03-15T17:30:00",
          "2020-03-15T17:30:00",
          "2020-03-21T10:30:00",
          "2020-03-21T10:30:00",
          "2020-03-21T10:30:00",
          "2020-03-21T10:30:00",
          "2020-03-12T10:30:00",
          "2020-03-12T10:30:00",
          "2020-03-20T17:30:00",
          "2020-03-20T17:30:00",
          "2020-03-22T10:30:00",
          "2020-03-19T10:30:00",
          "2020-03-19T10:30:00",
          "2020-03-19T10:30:00",
          "2020-03-09T10:30:00",
          "2020-03-13T10:30:00",
          "2020-03-13T10:30:00",
          "2020-03-13T10:30:00",
          "2020-03-13T10:30:00",
          "2020-03-23T20:37:53",
          "2020-03-23T20:37:53",
          "2020-03-23T20:37:53",
          "2020-03-23T20:37:53",
          "2020-03-23T20:37:53",
          "2020-03-23T20:37:53"
         ],
         "xaxis": "x",
         "yaxis": "y"
        },
        {
         "alignmentgroup": "True",
         "bingroup": "x",
         "hoverlabel": {
          "namelength": 0
         },
         "hovertemplate": "city=Waterloo<br>date=%{x}<br>count=%{y}",
         "legendgroup": "Waterloo",
         "marker": {
          "color": "#6E899C"
         },
         "name": "Waterloo",
         "offsetgroup": "Waterloo",
         "orientation": "v",
         "showlegend": true,
         "type": "histogram",
         "x": [
          "2020-03-14T17:30:00",
          "2020-03-14T17:30:00",
          "2020-03-18T17:30:00",
          "2020-03-15T17:30:00",
          "2020-03-15T17:30:00",
          "2020-03-12T10:30:00",
          "2020-03-12T10:30:00",
          "2020-03-20T17:30:00",
          "2020-03-20T17:30:00",
          "2020-03-20T17:30:00",
          "2020-03-20T17:30:00",
          "2020-03-22T10:30:00",
          "2020-03-19T10:30:00",
          "2020-03-13T10:30:00",
          "2020-03-23T20:37:53"
         ],
         "xaxis": "x",
         "yaxis": "y"
        },
        {
         "alignmentgroup": "True",
         "bingroup": "x",
         "hoverlabel": {
          "namelength": 0
         },
         "hovertemplate": "city=Whitby<br>date=%{x}<br>count=%{y}",
         "legendgroup": "Whitby",
         "marker": {
          "color": "#00B5F7"
         },
         "name": "Whitby",
         "offsetgroup": "Whitby",
         "orientation": "v",
         "showlegend": true,
         "type": "histogram",
         "x": [
          "2020-03-14T17:30:00",
          "2020-03-14T17:30:00",
          "2020-03-14T17:30:00",
          "2020-03-16T10:30:00",
          "2020-03-15T17:30:00",
          "2020-03-15T17:30:00",
          "2020-03-21T10:30:00",
          "2020-03-20T17:30:00",
          "2020-03-20T17:30:00",
          "2020-03-20T17:30:00",
          "2020-03-20T17:30:00",
          "2020-03-20T17:30:00",
          "2020-03-20T17:30:00",
          "2020-03-19T10:30:00",
          "2020-03-23T20:37:53",
          "2020-03-23T20:37:53",
          "2020-03-23T20:37:53"
         ],
         "xaxis": "x",
         "yaxis": "y"
        },
        {
         "alignmentgroup": "True",
         "bingroup": "x",
         "hoverlabel": {
          "namelength": 0
         },
         "hovertemplate": "city=Port Hope<br>date=%{x}<br>count=%{y}",
         "legendgroup": "Port Hope",
         "marker": {
          "color": "#B68E00"
         },
         "name": "Port Hope",
         "offsetgroup": "Port Hope",
         "orientation": "v",
         "showlegend": true,
         "type": "histogram",
         "x": [
          "2020-03-14T17:30:00",
          "2020-03-15T17:30:00",
          "2020-03-20T17:30:00",
          "2020-03-20T17:30:00",
          "2020-03-20T17:30:00",
          "2020-03-20T17:30:00",
          "2020-03-20T17:30:00",
          "2020-03-19T10:30:00",
          "2020-03-23T20:37:53",
          "2020-03-23T20:37:53"
         ],
         "xaxis": "x",
         "yaxis": "y"
        },
        {
         "alignmentgroup": "True",
         "bingroup": "x",
         "hoverlabel": {
          "namelength": 0
         },
         "hovertemplate": "city=Stratford<br>date=%{x}<br>count=%{y}",
         "legendgroup": "Stratford",
         "marker": {
          "color": "#C9FBE5"
         },
         "name": "Stratford",
         "offsetgroup": "Stratford",
         "orientation": "v",
         "showlegend": true,
         "type": "histogram",
         "x": [
          "2020-03-14T17:30:00"
         ],
         "xaxis": "x",
         "yaxis": "y"
        },
        {
         "alignmentgroup": "True",
         "bingroup": "x",
         "hoverlabel": {
          "namelength": 0
         },
         "hovertemplate": "city=Oakville<br>date=%{x}<br>count=%{y}",
         "legendgroup": "Oakville",
         "marker": {
          "color": "#FF0092"
         },
         "name": "Oakville",
         "offsetgroup": "Oakville",
         "orientation": "v",
         "showlegend": true,
         "type": "histogram",
         "x": [
          "2020-03-14T17:30:00",
          "2020-03-16T10:30:00",
          "2020-03-18T17:30:00",
          "2020-03-18T17:30:00",
          "2020-03-18T17:30:00",
          "2020-03-18T17:30:00",
          "2020-03-11T10:30:00",
          "2020-03-12T10:30:00",
          "2020-03-19T10:30:00",
          "2020-03-19T10:30:00",
          "2020-03-19T17:30:00",
          "2020-03-23T20:37:53",
          "2020-03-23T20:37:53"
         ],
         "xaxis": "x",
         "yaxis": "y"
        },
        {
         "alignmentgroup": "True",
         "bingroup": "x",
         "hoverlabel": {
          "namelength": 0
         },
         "hovertemplate": "city=Hamilton<br>date=%{x}<br>count=%{y}",
         "legendgroup": "Hamilton",
         "marker": {
          "color": "#22FFA7"
         },
         "name": "Hamilton",
         "offsetgroup": "Hamilton",
         "orientation": "v",
         "showlegend": true,
         "type": "histogram",
         "x": [
          "2020-03-14T17:30:00",
          "2020-03-16T10:30:00",
          "2020-03-16T10:30:00",
          "2020-03-16T10:30:00",
          "2020-03-16T10:30:00",
          "2020-03-18T17:30:00",
          "2020-03-18T17:30:00",
          "2020-03-15T17:30:00",
          "2020-03-15T17:30:00",
          "2020-03-15T17:30:00",
          "2020-03-17T17:30:00",
          "2020-03-17T17:30:00",
          "2020-03-17T17:30:00",
          "2020-03-17T17:30:00",
          "2020-03-17T17:30:00",
          "2020-03-12T10:30:00",
          "2020-03-20T17:30:00",
          "2020-03-20T17:30:00",
          "2020-03-22T10:30:00",
          "2020-03-19T10:30:00",
          "2020-03-19T10:30:00",
          "2020-03-23T20:37:53",
          "2020-03-23T20:37:53",
          "2020-03-23T20:37:53"
         ],
         "xaxis": "x",
         "yaxis": "y"
        },
        {
         "alignmentgroup": "True",
         "bingroup": "x",
         "hoverlabel": {
          "namelength": 0
         },
         "hovertemplate": "city=Kenora<br>date=%{x}<br>count=%{y}",
         "legendgroup": "Kenora",
         "marker": {
          "color": "#E3EE9E"
         },
         "name": "Kenora",
         "offsetgroup": "Kenora",
         "orientation": "v",
         "showlegend": true,
         "type": "histogram",
         "x": [
          "2020-03-14T17:30:00"
         ],
         "xaxis": "x",
         "yaxis": "y"
        },
        {
         "alignmentgroup": "True",
         "bingroup": "x",
         "hoverlabel": {
          "namelength": 0
         },
         "hovertemplate": "city=Cornwall<br>date=%{x}<br>count=%{y}",
         "legendgroup": "Cornwall",
         "marker": {
          "color": "#86CE00"
         },
         "name": "Cornwall",
         "offsetgroup": "Cornwall",
         "orientation": "v",
         "showlegend": true,
         "type": "histogram",
         "x": [
          "2020-03-14T17:30:00",
          "2020-03-22T10:30:00",
          "2020-03-19T10:30:00",
          "2020-03-23T20:37:53"
         ],
         "xaxis": "x",
         "yaxis": "y"
        },
        {
         "alignmentgroup": "True",
         "bingroup": "x",
         "hoverlabel": {
          "namelength": 0
         },
         "hovertemplate": "city=Guelph<br>date=%{x}<br>count=%{y}",
         "legendgroup": "Guelph",
         "marker": {
          "color": "#BC7196"
         },
         "name": "Guelph",
         "offsetgroup": "Guelph",
         "orientation": "v",
         "showlegend": true,
         "type": "histogram",
         "x": [
          "2020-03-16T10:30:00",
          "2020-03-23T20:37:53"
         ],
         "xaxis": "x",
         "yaxis": "y"
        },
        {
         "alignmentgroup": "True",
         "bingroup": "x",
         "hoverlabel": {
          "namelength": 0
         },
         "hovertemplate": "city=Sudbury<br>date=%{x}<br>count=%{y}",
         "legendgroup": "Sudbury",
         "marker": {
          "color": "#7E7DCD"
         },
         "name": "Sudbury",
         "offsetgroup": "Sudbury",
         "orientation": "v",
         "showlegend": true,
         "type": "histogram",
         "x": [
          "2020-03-16T10:30:00",
          "2020-03-11T10:30:00",
          "2020-03-23T20:37:53"
         ],
         "xaxis": "x",
         "yaxis": "y"
        },
        {
         "alignmentgroup": "True",
         "bingroup": "x",
         "hoverlabel": {
          "namelength": 0
         },
         "hovertemplate": "city=Niagara<br>date=%{x}<br>count=%{y}",
         "legendgroup": "Niagara",
         "marker": {
          "color": "#FC6955"
         },
         "name": "Niagara",
         "offsetgroup": "Niagara",
         "orientation": "v",
         "showlegend": true,
         "type": "histogram",
         "x": [
          "2020-03-16T10:30:00",
          "2020-03-18T17:30:00",
          "2020-03-15T17:30:00",
          "2020-03-13T10:30:00"
         ],
         "xaxis": "x",
         "yaxis": "y"
        },
        {
         "alignmentgroup": "True",
         "bingroup": "x",
         "hoverlabel": {
          "namelength": 0
         },
         "hovertemplate": "city=Chatham<br>date=%{x}<br>count=%{y}",
         "legendgroup": "Chatham",
         "marker": {
          "color": "#E48F72"
         },
         "name": "Chatham",
         "offsetgroup": "Chatham",
         "orientation": "v",
         "showlegend": true,
         "type": "histogram",
         "x": [
          "2020-03-18T17:30:00",
          "2020-03-18T17:30:00"
         ],
         "xaxis": "x",
         "yaxis": "y"
        },
        {
         "alignmentgroup": "True",
         "bingroup": "x",
         "hoverlabel": {
          "namelength": 0
         },
         "hovertemplate": "city=Owen Sound<br>date=%{x}<br>count=%{y}",
         "legendgroup": "Owen Sound",
         "marker": {
          "color": "#FD3216"
         },
         "name": "Owen Sound",
         "offsetgroup": "Owen Sound",
         "orientation": "v",
         "showlegend": true,
         "type": "histogram",
         "x": [
          "2020-03-18T17:30:00",
          "2020-03-15T17:30:00",
          "2020-03-15T17:30:00"
         ],
         "xaxis": "x",
         "yaxis": "y"
        },
        {
         "alignmentgroup": "True",
         "bingroup": "x",
         "hoverlabel": {
          "namelength": 0
         },
         "hovertemplate": "city=Simcoe<br>date=%{x}<br>count=%{y}",
         "legendgroup": "Simcoe",
         "marker": {
          "color": "#00FE35"
         },
         "name": "Simcoe",
         "offsetgroup": "Simcoe",
         "orientation": "v",
         "showlegend": true,
         "type": "histogram",
         "x": [
          "2020-03-18T17:30:00",
          "2020-03-15T17:30:00",
          "2020-03-15T17:30:00",
          "2020-03-17T17:30:00",
          "2020-03-21T10:30:00",
          "2020-03-21T10:30:00",
          "2020-03-21T10:30:00",
          "2020-03-12T10:30:00",
          "2020-03-23T20:37:53"
         ],
         "xaxis": "x",
         "yaxis": "y"
        },
        {
         "alignmentgroup": "True",
         "bingroup": "x",
         "hoverlabel": {
          "namelength": 0
         },
         "hovertemplate": "city=Brantford<br>date=%{x}<br>count=%{y}",
         "legendgroup": "Brantford",
         "marker": {
          "color": "#6A76FC"
         },
         "name": "Brantford",
         "offsetgroup": "Brantford",
         "orientation": "v",
         "showlegend": true,
         "type": "histogram",
         "x": [
          "2020-03-18T17:30:00"
         ],
         "xaxis": "x",
         "yaxis": "y"
        },
        {
         "alignmentgroup": "True",
         "bingroup": "x",
         "hoverlabel": {
          "namelength": 0
         },
         "hovertemplate": "city=Sault Ste. Marie<br>date=%{x}<br>count=%{y}",
         "legendgroup": "Sault Ste. Marie",
         "marker": {
          "color": "#FED4C4"
         },
         "name": "Sault Ste. Marie",
         "offsetgroup": "Sault Ste. Marie",
         "orientation": "v",
         "showlegend": true,
         "type": "histogram",
         "x": [
          "2020-03-18T17:30:00"
         ],
         "xaxis": "x",
         "yaxis": "y"
        },
        {
         "alignmentgroup": "True",
         "bingroup": "x",
         "hoverlabel": {
          "namelength": 0
         },
         "hovertemplate": "city=pending<br>date=%{x}<br>count=%{y}",
         "legendgroup": "pending",
         "marker": {
          "color": "#FE00CE"
         },
         "name": "pending",
         "offsetgroup": "pending",
         "orientation": "v",
         "showlegend": true,
         "type": "histogram",
         "x": [
          "2020-03-18T17:30:00",
          "2020-03-18T17:30:00",
          "2020-03-18T17:30:00",
          "2020-03-15T17:30:00",
          "2020-03-21T10:30:00",
          "2020-03-21T10:30:00",
          "2020-03-21T10:30:00",
          "2020-03-21T10:30:00",
          "2020-03-21T10:30:00",
          "2020-03-21T10:30:00",
          "2020-03-21T10:30:00",
          "2020-03-21T10:30:00",
          "2020-03-21T10:30:00",
          "2020-03-21T10:30:00",
          "2020-03-21T10:30:00",
          "2020-03-21T10:30:00",
          "2020-03-21T10:30:00",
          "2020-03-21T10:30:00",
          "2020-03-21T10:30:00",
          "2020-03-21T10:30:00",
          "2020-03-21T10:30:00",
          "2020-03-21T10:30:00",
          "2020-03-21T10:30:00",
          "2020-03-21T10:30:00",
          "2020-03-21T10:30:00",
          "2020-03-21T10:30:00",
          "2020-03-21T10:30:00",
          "2020-03-21T10:30:00",
          "2020-03-21T10:30:00",
          "2020-03-21T10:30:00",
          "2020-03-21T10:30:00",
          "2020-03-21T10:30:00",
          "2020-03-21T10:30:00",
          "2020-03-21T10:30:00",
          "2020-03-21T10:30:00",
          "2020-03-21T10:30:00",
          "2020-03-21T10:30:00",
          "2020-03-21T10:30:00",
          "2020-03-21T10:30:00",
          "2020-03-21T10:30:00",
          "2020-03-21T10:30:00",
          "2020-03-21T10:30:00",
          "2020-03-21T10:30:00",
          "2020-03-21T10:30:00",
          "2020-03-21T10:30:00",
          "2020-03-21T10:30:00",
          "2020-03-20T17:30:00",
          "2020-03-20T17:30:00",
          "2020-03-20T17:30:00",
          "2020-03-20T17:30:00",
          "2020-03-20T17:30:00",
          "2020-03-20T17:30:00",
          "2020-03-20T17:30:00",
          "2020-03-20T17:30:00",
          "2020-03-20T17:30:00",
          "2020-03-20T17:30:00",
          "2020-03-20T17:30:00",
          "2020-03-20T17:30:00",
          "2020-03-20T17:30:00",
          "2020-03-20T17:30:00",
          "2020-03-20T17:30:00",
          "2020-03-20T17:30:00",
          "2020-03-20T17:30:00",
          "2020-03-20T17:30:00",
          "2020-03-20T17:30:00",
          "2020-03-20T17:30:00",
          "2020-03-20T17:30:00",
          "2020-03-20T17:30:00",
          "2020-03-20T17:30:00",
          "2020-03-20T17:30:00",
          "2020-03-20T17:30:00",
          "2020-03-20T17:30:00",
          "2020-03-22T10:30:00",
          "2020-03-22T10:30:00",
          "2020-03-22T10:30:00",
          "2020-03-22T10:30:00",
          "2020-03-22T10:30:00",
          "2020-03-22T10:30:00",
          "2020-03-22T10:30:00",
          "2020-03-22T10:30:00",
          "2020-03-22T10:30:00",
          "2020-03-22T10:30:00",
          "2020-03-22T10:30:00",
          "2020-03-22T10:30:00",
          "2020-03-22T10:30:00",
          "2020-03-22T10:30:00",
          "2020-03-22T10:30:00",
          "2020-03-22T10:30:00",
          "2020-03-22T10:30:00",
          "2020-03-22T10:30:00",
          "2020-03-22T10:30:00",
          "2020-03-22T10:30:00",
          "2020-03-22T10:30:00",
          "2020-03-22T10:30:00",
          "2020-03-22T10:30:00",
          "2020-03-22T10:30:00",
          "2020-03-22T10:30:00",
          "2020-03-22T10:30:00",
          "2020-03-22T10:30:00",
          "2020-03-22T10:30:00",
          "2020-03-22T10:30:00",
          "2020-03-22T10:30:00",
          "2020-03-22T10:30:00",
          "2020-03-22T10:30:00",
          "2020-03-22T10:30:00",
          "2020-03-22T10:30:00",
          "2020-03-22T10:30:00",
          "2020-03-22T10:30:00",
          "2020-03-22T10:30:00",
          "2020-03-22T10:30:00",
          "2020-03-22T10:30:00",
          "2020-03-22T10:30:00",
          "2020-03-19T10:30:00",
          "2020-03-19T10:30:00",
          "2020-03-19T10:30:00",
          "2020-03-19T10:30:00",
          "2020-03-19T10:30:00",
          "2020-03-19T10:30:00",
          "2020-03-19T10:30:00",
          "2020-03-19T10:30:00",
          "2020-03-19T10:30:00",
          "2020-03-19T10:30:00",
          "2020-03-19T10:30:00",
          "2020-03-19T10:30:00",
          "2020-03-19T10:30:00",
          "2020-03-19T10:30:00",
          "2020-03-19T10:30:00",
          "2020-03-19T10:30:00",
          "2020-03-19T10:30:00",
          "2020-03-19T10:30:00",
          "2020-03-19T10:30:00",
          "2020-03-19T10:30:00",
          "2020-03-19T10:30:00",
          "2020-03-23T20:37:53",
          "2020-03-23T20:37:53",
          "2020-03-23T20:37:53",
          "2020-03-23T20:37:53",
          "2020-03-23T20:37:53",
          "2020-03-23T20:37:53",
          "2020-03-23T20:37:53",
          "2020-03-23T20:37:53",
          "2020-03-23T20:37:53",
          "2020-03-23T20:37:53",
          "2020-03-23T20:37:53",
          "2020-03-23T20:37:53",
          "2020-03-23T20:37:53",
          "2020-03-23T20:37:53",
          "2020-03-23T20:37:53",
          "2020-03-23T20:37:53",
          "2020-03-23T20:37:53",
          "2020-03-23T20:37:53",
          "2020-03-23T20:37:53",
          "2020-03-23T20:37:53",
          "2020-03-23T20:37:53",
          "2020-03-23T20:37:53",
          "2020-03-23T20:37:53",
          "2020-03-23T20:37:53",
          "2020-03-23T20:37:53",
          "2020-03-23T20:37:53",
          "2020-03-23T20:37:53",
          "2020-03-23T20:37:53",
          "2020-03-23T20:37:53"
         ],
         "xaxis": "x",
         "yaxis": "y"
        },
        {
         "alignmentgroup": "True",
         "bingroup": "x",
         "hoverlabel": {
          "namelength": 0
         },
         "hovertemplate": "city=Peterborough<br>date=%{x}<br>count=%{y}",
         "legendgroup": "Peterborough",
         "marker": {
          "color": "#0DF9FF"
         },
         "name": "Peterborough",
         "offsetgroup": "Peterborough",
         "orientation": "v",
         "showlegend": true,
         "type": "histogram",
         "x": [
          "2020-03-15T17:30:00",
          "2020-03-20T17:30:00"
         ],
         "xaxis": "x",
         "yaxis": "y"
        },
        {
         "alignmentgroup": "True",
         "bingroup": "x",
         "hoverlabel": {
          "namelength": 0
         },
         "hovertemplate": "city=Kingston<br>date=%{x}<br>count=%{y}",
         "legendgroup": "Kingston",
         "marker": {
          "color": "#F6F926"
         },
         "name": "Kingston",
         "offsetgroup": "Kingston",
         "orientation": "v",
         "showlegend": true,
         "type": "histogram",
         "x": [
          "2020-03-17T17:30:00",
          "2020-03-17T17:30:00",
          "2020-03-17T17:30:00",
          "2020-03-23T20:37:53"
         ],
         "xaxis": "x",
         "yaxis": "y"
        },
        {
         "alignmentgroup": "True",
         "bingroup": "x",
         "hoverlabel": {
          "namelength": 0
         },
         "hovertemplate": "city=Belleville<br>date=%{x}<br>count=%{y}",
         "legendgroup": "Belleville",
         "marker": {
          "color": "#FF9616"
         },
         "name": "Belleville",
         "offsetgroup": "Belleville",
         "orientation": "v",
         "showlegend": true,
         "type": "histogram",
         "x": [
          "2020-03-21T10:30:00",
          "2020-03-20T17:30:00",
          "2020-03-23T20:37:53"
         ],
         "xaxis": "x",
         "yaxis": "y"
        },
        {
         "alignmentgroup": "True",
         "bingroup": "x",
         "hoverlabel": {
          "namelength": 0
         },
         "hovertemplate": "city=Timmins<br>date=%{x}<br>count=%{y}",
         "legendgroup": "Timmins",
         "marker": {
          "color": "#479B55"
         },
         "name": "Timmins",
         "offsetgroup": "Timmins",
         "orientation": "v",
         "showlegend": true,
         "type": "histogram",
         "x": [
          "2020-03-20T17:30:00"
         ],
         "xaxis": "x",
         "yaxis": "y"
        },
        {
         "alignmentgroup": "True",
         "bingroup": "x",
         "hoverlabel": {
          "namelength": 0
         },
         "hovertemplate": "city=Windsor<br>date=%{x}<br>count=%{y}",
         "legendgroup": "Windsor",
         "marker": {
          "color": "#EEA6FB"
         },
         "name": "Windsor",
         "offsetgroup": "Windsor",
         "orientation": "v",
         "showlegend": true,
         "type": "histogram",
         "x": [
          "2020-03-22T10:30:00"
         ],
         "xaxis": "x",
         "yaxis": "y"
        }
       ],
       "layout": {
        "bargap": 0.7,
        "bargroupgap": 0.1,
        "barmode": "relative",
        "legend": {
         "title": {
          "text": "city"
         },
         "tracegroupgap": 0
        },
        "margin": {
         "t": 60
        },
        "template": {
         "data": {
          "bar": [
           {
            "error_x": {
             "color": "#2a3f5f"
            },
            "error_y": {
             "color": "#2a3f5f"
            },
            "marker": {
             "line": {
              "color": "#E5ECF6",
              "width": 0.5
             }
            },
            "type": "bar"
           }
          ],
          "barpolar": [
           {
            "marker": {
             "line": {
              "color": "#E5ECF6",
              "width": 0.5
             }
            },
            "type": "barpolar"
           }
          ],
          "carpet": [
           {
            "aaxis": {
             "endlinecolor": "#2a3f5f",
             "gridcolor": "white",
             "linecolor": "white",
             "minorgridcolor": "white",
             "startlinecolor": "#2a3f5f"
            },
            "baxis": {
             "endlinecolor": "#2a3f5f",
             "gridcolor": "white",
             "linecolor": "white",
             "minorgridcolor": "white",
             "startlinecolor": "#2a3f5f"
            },
            "type": "carpet"
           }
          ],
          "choropleth": [
           {
            "colorbar": {
             "outlinewidth": 0,
             "ticks": ""
            },
            "type": "choropleth"
           }
          ],
          "contour": [
           {
            "colorbar": {
             "outlinewidth": 0,
             "ticks": ""
            },
            "colorscale": [
             [
              0,
              "#0d0887"
             ],
             [
              0.1111111111111111,
              "#46039f"
             ],
             [
              0.2222222222222222,
              "#7201a8"
             ],
             [
              0.3333333333333333,
              "#9c179e"
             ],
             [
              0.4444444444444444,
              "#bd3786"
             ],
             [
              0.5555555555555556,
              "#d8576b"
             ],
             [
              0.6666666666666666,
              "#ed7953"
             ],
             [
              0.7777777777777778,
              "#fb9f3a"
             ],
             [
              0.8888888888888888,
              "#fdca26"
             ],
             [
              1,
              "#f0f921"
             ]
            ],
            "type": "contour"
           }
          ],
          "contourcarpet": [
           {
            "colorbar": {
             "outlinewidth": 0,
             "ticks": ""
            },
            "type": "contourcarpet"
           }
          ],
          "heatmap": [
           {
            "colorbar": {
             "outlinewidth": 0,
             "ticks": ""
            },
            "colorscale": [
             [
              0,
              "#0d0887"
             ],
             [
              0.1111111111111111,
              "#46039f"
             ],
             [
              0.2222222222222222,
              "#7201a8"
             ],
             [
              0.3333333333333333,
              "#9c179e"
             ],
             [
              0.4444444444444444,
              "#bd3786"
             ],
             [
              0.5555555555555556,
              "#d8576b"
             ],
             [
              0.6666666666666666,
              "#ed7953"
             ],
             [
              0.7777777777777778,
              "#fb9f3a"
             ],
             [
              0.8888888888888888,
              "#fdca26"
             ],
             [
              1,
              "#f0f921"
             ]
            ],
            "type": "heatmap"
           }
          ],
          "heatmapgl": [
           {
            "colorbar": {
             "outlinewidth": 0,
             "ticks": ""
            },
            "colorscale": [
             [
              0,
              "#0d0887"
             ],
             [
              0.1111111111111111,
              "#46039f"
             ],
             [
              0.2222222222222222,
              "#7201a8"
             ],
             [
              0.3333333333333333,
              "#9c179e"
             ],
             [
              0.4444444444444444,
              "#bd3786"
             ],
             [
              0.5555555555555556,
              "#d8576b"
             ],
             [
              0.6666666666666666,
              "#ed7953"
             ],
             [
              0.7777777777777778,
              "#fb9f3a"
             ],
             [
              0.8888888888888888,
              "#fdca26"
             ],
             [
              1,
              "#f0f921"
             ]
            ],
            "type": "heatmapgl"
           }
          ],
          "histogram": [
           {
            "marker": {
             "colorbar": {
              "outlinewidth": 0,
              "ticks": ""
             }
            },
            "type": "histogram"
           }
          ],
          "histogram2d": [
           {
            "colorbar": {
             "outlinewidth": 0,
             "ticks": ""
            },
            "colorscale": [
             [
              0,
              "#0d0887"
             ],
             [
              0.1111111111111111,
              "#46039f"
             ],
             [
              0.2222222222222222,
              "#7201a8"
             ],
             [
              0.3333333333333333,
              "#9c179e"
             ],
             [
              0.4444444444444444,
              "#bd3786"
             ],
             [
              0.5555555555555556,
              "#d8576b"
             ],
             [
              0.6666666666666666,
              "#ed7953"
             ],
             [
              0.7777777777777778,
              "#fb9f3a"
             ],
             [
              0.8888888888888888,
              "#fdca26"
             ],
             [
              1,
              "#f0f921"
             ]
            ],
            "type": "histogram2d"
           }
          ],
          "histogram2dcontour": [
           {
            "colorbar": {
             "outlinewidth": 0,
             "ticks": ""
            },
            "colorscale": [
             [
              0,
              "#0d0887"
             ],
             [
              0.1111111111111111,
              "#46039f"
             ],
             [
              0.2222222222222222,
              "#7201a8"
             ],
             [
              0.3333333333333333,
              "#9c179e"
             ],
             [
              0.4444444444444444,
              "#bd3786"
             ],
             [
              0.5555555555555556,
              "#d8576b"
             ],
             [
              0.6666666666666666,
              "#ed7953"
             ],
             [
              0.7777777777777778,
              "#fb9f3a"
             ],
             [
              0.8888888888888888,
              "#fdca26"
             ],
             [
              1,
              "#f0f921"
             ]
            ],
            "type": "histogram2dcontour"
           }
          ],
          "mesh3d": [
           {
            "colorbar": {
             "outlinewidth": 0,
             "ticks": ""
            },
            "type": "mesh3d"
           }
          ],
          "parcoords": [
           {
            "line": {
             "colorbar": {
              "outlinewidth": 0,
              "ticks": ""
             }
            },
            "type": "parcoords"
           }
          ],
          "pie": [
           {
            "automargin": true,
            "type": "pie"
           }
          ],
          "scatter": [
           {
            "marker": {
             "colorbar": {
              "outlinewidth": 0,
              "ticks": ""
             }
            },
            "type": "scatter"
           }
          ],
          "scatter3d": [
           {
            "line": {
             "colorbar": {
              "outlinewidth": 0,
              "ticks": ""
             }
            },
            "marker": {
             "colorbar": {
              "outlinewidth": 0,
              "ticks": ""
             }
            },
            "type": "scatter3d"
           }
          ],
          "scattercarpet": [
           {
            "marker": {
             "colorbar": {
              "outlinewidth": 0,
              "ticks": ""
             }
            },
            "type": "scattercarpet"
           }
          ],
          "scattergeo": [
           {
            "marker": {
             "colorbar": {
              "outlinewidth": 0,
              "ticks": ""
             }
            },
            "type": "scattergeo"
           }
          ],
          "scattergl": [
           {
            "marker": {
             "colorbar": {
              "outlinewidth": 0,
              "ticks": ""
             }
            },
            "type": "scattergl"
           }
          ],
          "scattermapbox": [
           {
            "marker": {
             "colorbar": {
              "outlinewidth": 0,
              "ticks": ""
             }
            },
            "type": "scattermapbox"
           }
          ],
          "scatterpolar": [
           {
            "marker": {
             "colorbar": {
              "outlinewidth": 0,
              "ticks": ""
             }
            },
            "type": "scatterpolar"
           }
          ],
          "scatterpolargl": [
           {
            "marker": {
             "colorbar": {
              "outlinewidth": 0,
              "ticks": ""
             }
            },
            "type": "scatterpolargl"
           }
          ],
          "scatterternary": [
           {
            "marker": {
             "colorbar": {
              "outlinewidth": 0,
              "ticks": ""
             }
            },
            "type": "scatterternary"
           }
          ],
          "surface": [
           {
            "colorbar": {
             "outlinewidth": 0,
             "ticks": ""
            },
            "colorscale": [
             [
              0,
              "#0d0887"
             ],
             [
              0.1111111111111111,
              "#46039f"
             ],
             [
              0.2222222222222222,
              "#7201a8"
             ],
             [
              0.3333333333333333,
              "#9c179e"
             ],
             [
              0.4444444444444444,
              "#bd3786"
             ],
             [
              0.5555555555555556,
              "#d8576b"
             ],
             [
              0.6666666666666666,
              "#ed7953"
             ],
             [
              0.7777777777777778,
              "#fb9f3a"
             ],
             [
              0.8888888888888888,
              "#fdca26"
             ],
             [
              1,
              "#f0f921"
             ]
            ],
            "type": "surface"
           }
          ],
          "table": [
           {
            "cells": {
             "fill": {
              "color": "#EBF0F8"
             },
             "line": {
              "color": "white"
             }
            },
            "header": {
             "fill": {
              "color": "#C8D4E3"
             },
             "line": {
              "color": "white"
             }
            },
            "type": "table"
           }
          ]
         },
         "layout": {
          "annotationdefaults": {
           "arrowcolor": "#2a3f5f",
           "arrowhead": 0,
           "arrowwidth": 1
          },
          "coloraxis": {
           "colorbar": {
            "outlinewidth": 0,
            "ticks": ""
           }
          },
          "colorscale": {
           "diverging": [
            [
             0,
             "#8e0152"
            ],
            [
             0.1,
             "#c51b7d"
            ],
            [
             0.2,
             "#de77ae"
            ],
            [
             0.3,
             "#f1b6da"
            ],
            [
             0.4,
             "#fde0ef"
            ],
            [
             0.5,
             "#f7f7f7"
            ],
            [
             0.6,
             "#e6f5d0"
            ],
            [
             0.7,
             "#b8e186"
            ],
            [
             0.8,
             "#7fbc41"
            ],
            [
             0.9,
             "#4d9221"
            ],
            [
             1,
             "#276419"
            ]
           ],
           "sequential": [
            [
             0,
             "#0d0887"
            ],
            [
             0.1111111111111111,
             "#46039f"
            ],
            [
             0.2222222222222222,
             "#7201a8"
            ],
            [
             0.3333333333333333,
             "#9c179e"
            ],
            [
             0.4444444444444444,
             "#bd3786"
            ],
            [
             0.5555555555555556,
             "#d8576b"
            ],
            [
             0.6666666666666666,
             "#ed7953"
            ],
            [
             0.7777777777777778,
             "#fb9f3a"
            ],
            [
             0.8888888888888888,
             "#fdca26"
            ],
            [
             1,
             "#f0f921"
            ]
           ],
           "sequentialminus": [
            [
             0,
             "#0d0887"
            ],
            [
             0.1111111111111111,
             "#46039f"
            ],
            [
             0.2222222222222222,
             "#7201a8"
            ],
            [
             0.3333333333333333,
             "#9c179e"
            ],
            [
             0.4444444444444444,
             "#bd3786"
            ],
            [
             0.5555555555555556,
             "#d8576b"
            ],
            [
             0.6666666666666666,
             "#ed7953"
            ],
            [
             0.7777777777777778,
             "#fb9f3a"
            ],
            [
             0.8888888888888888,
             "#fdca26"
            ],
            [
             1,
             "#f0f921"
            ]
           ]
          },
          "colorway": [
           "#636efa",
           "#EF553B",
           "#00cc96",
           "#ab63fa",
           "#FFA15A",
           "#19d3f3",
           "#FF6692",
           "#B6E880",
           "#FF97FF",
           "#FECB52"
          ],
          "font": {
           "color": "#2a3f5f"
          },
          "geo": {
           "bgcolor": "white",
           "lakecolor": "white",
           "landcolor": "#E5ECF6",
           "showlakes": true,
           "showland": true,
           "subunitcolor": "white"
          },
          "hoverlabel": {
           "align": "left"
          },
          "hovermode": "closest",
          "mapbox": {
           "style": "light"
          },
          "paper_bgcolor": "white",
          "plot_bgcolor": "#E5ECF6",
          "polar": {
           "angularaxis": {
            "gridcolor": "white",
            "linecolor": "white",
            "ticks": ""
           },
           "bgcolor": "#E5ECF6",
           "radialaxis": {
            "gridcolor": "white",
            "linecolor": "white",
            "ticks": ""
           }
          },
          "scene": {
           "xaxis": {
            "backgroundcolor": "#E5ECF6",
            "gridcolor": "white",
            "gridwidth": 2,
            "linecolor": "white",
            "showbackground": true,
            "ticks": "",
            "zerolinecolor": "white"
           },
           "yaxis": {
            "backgroundcolor": "#E5ECF6",
            "gridcolor": "white",
            "gridwidth": 2,
            "linecolor": "white",
            "showbackground": true,
            "ticks": "",
            "zerolinecolor": "white"
           },
           "zaxis": {
            "backgroundcolor": "#E5ECF6",
            "gridcolor": "white",
            "gridwidth": 2,
            "linecolor": "white",
            "showbackground": true,
            "ticks": "",
            "zerolinecolor": "white"
           }
          },
          "shapedefaults": {
           "line": {
            "color": "#2a3f5f"
           }
          },
          "ternary": {
           "aaxis": {
            "gridcolor": "white",
            "linecolor": "white",
            "ticks": ""
           },
           "baxis": {
            "gridcolor": "white",
            "linecolor": "white",
            "ticks": ""
           },
           "bgcolor": "#E5ECF6",
           "caxis": {
            "gridcolor": "white",
            "linecolor": "white",
            "ticks": ""
           }
          },
          "title": {
           "x": 0.05
          },
          "xaxis": {
           "automargin": true,
           "gridcolor": "white",
           "linecolor": "white",
           "ticks": "",
           "title": {
            "standoff": 15
           },
           "zerolinecolor": "white",
           "zerolinewidth": 2
          },
          "yaxis": {
           "automargin": true,
           "gridcolor": "white",
           "linecolor": "white",
           "ticks": "",
           "title": {
            "standoff": 15
           },
           "zerolinecolor": "white",
           "zerolinewidth": 2
          }
         }
        },
        "title": {
         "text": "New Infections"
        },
        "xaxis": {
         "anchor": "y",
         "domain": [
          0,
          1
         ],
         "title": {
          "text": "Date"
         }
        },
        "yaxis": {
         "anchor": "x",
         "domain": [
          0,
          1
         ],
         "title": {
          "text": "Infected"
         }
        }
       }
      },
      "text/html": [
       "<div>\n",
       "        \n",
       "        \n",
       "            <div id=\"e11eb4fe-9a75-4286-ba2b-98b93812a727\" class=\"plotly-graph-div\" style=\"height:525px; width:100%;\"></div>\n",
       "            <script type=\"text/javascript\">\n",
       "                require([\"plotly\"], function(Plotly) {\n",
       "                    window.PLOTLYENV=window.PLOTLYENV || {};\n",
       "                    \n",
       "                if (document.getElementById(\"e11eb4fe-9a75-4286-ba2b-98b93812a727\")) {\n",
       "                    Plotly.newPlot(\n",
       "                        'e11eb4fe-9a75-4286-ba2b-98b93812a727',\n",
       "                        [{\"alignmentgroup\": \"True\", \"bingroup\": \"x\", \"hoverlabel\": {\"namelength\": 0}, \"hovertemplate\": \"city=Toronto<br>date=%{x}<br>count=%{y}\", \"legendgroup\": \"Toronto\", \"marker\": {\"color\": \"#FD3216\"}, \"name\": \"Toronto\", \"offsetgroup\": \"Toronto\", \"orientation\": \"v\", \"showlegend\": true, \"type\": \"histogram\", \"x\": [\"2020-01-23T00:00:00\", \"2020-02-21T00:00:00\", \"2020-02-24T00:00:00\", \"2020-02-25T00:00:00\", \"2020-02-28T00:00:00\", \"2020-03-03T00:00:00\", \"2020-03-03T00:00:00\", \"2020-02-28T00:00:00\", \"2020-03-03T00:00:00\", \"2020-03-02T00:00:00\", \"2020-03-07T00:00:00\", \"2020-03-14T17:30:00\", \"2020-03-14T17:30:00\", \"2020-03-14T17:30:00\", \"2020-03-14T17:30:00\", \"2020-03-14T17:30:00\", \"2020-03-14T17:30:00\", \"2020-03-14T17:30:00\", \"2020-03-14T17:30:00\", \"2020-03-14T17:30:00\", \"2020-03-16T10:30:00\", \"2020-03-16T10:30:00\", \"2020-03-16T10:30:00\", \"2020-03-16T10:30:00\", \"2020-03-16T10:30:00\", \"2020-03-16T10:30:00\", \"2020-03-16T10:30:00\", \"2020-03-16T10:30:00\", \"2020-03-16T10:30:00\", \"2020-03-16T10:30:00\", \"2020-03-16T10:30:00\", \"2020-03-18T17:30:00\", \"2020-03-18T17:30:00\", \"2020-03-18T17:30:00\", \"2020-03-09T10:30:00\", \"2020-03-09T10:30:00\", \"2020-03-15T17:30:00\", \"2020-03-15T17:30:00\", \"2020-03-15T17:30:00\", \"2020-03-15T17:30:00\", \"2020-03-15T17:30:00\", \"2020-03-15T17:30:00\", \"2020-03-15T17:30:00\", \"2020-03-15T17:30:00\", \"2020-03-15T17:30:00\", \"2020-03-15T17:30:00\", \"2020-03-15T17:30:00\", \"2020-03-15T17:30:00\", \"2020-03-15T17:30:00\", \"2020-03-15T17:30:00\", \"2020-03-11T10:30:00\", \"2020-03-21T10:30:00\", \"2020-03-21T10:30:00\", \"2020-03-12T10:30:00\", \"2020-03-12T10:30:00\", \"2020-03-12T10:30:00\", \"2020-03-12T10:30:00\", \"2020-03-12T10:30:00\", \"2020-03-12T10:30:00\", \"2020-03-12T10:30:00\", \"2020-03-12T10:30:00\", \"2020-03-12T10:30:00\", \"2020-03-20T17:30:00\", \"2020-03-20T17:30:00\", \"2020-03-22T10:30:00\", \"2020-03-19T10:30:00\", \"2020-03-19T10:30:00\", \"2020-03-19T10:30:00\", \"2020-03-19T10:30:00\", \"2020-03-19T10:30:00\", \"2020-03-19T10:30:00\", \"2020-03-19T10:30:00\", \"2020-03-19T10:30:00\", \"2020-03-10T10:30:00\", \"2020-03-13T10:30:00\", \"2020-03-13T10:30:00\", \"2020-03-13T10:30:00\", \"2020-03-13T10:30:00\", \"2020-03-13T10:30:00\", \"2020-03-13T10:30:00\", \"2020-03-13T10:30:00\", \"2020-03-13T10:30:00\", \"2020-03-13T10:30:00\", \"2020-03-13T10:30:00\", \"2020-03-13T10:30:00\", \"2020-03-13T10:30:00\", \"2020-03-11T10:30:00\", \"2020-03-23T20:37:53\", \"2020-03-23T20:37:53\", \"2020-03-23T20:37:53\", \"2020-03-23T20:37:53\", \"2020-03-23T20:37:53\", \"2020-03-23T20:37:53\", \"2020-03-23T20:37:53\", \"2020-03-23T20:37:53\", \"2020-03-23T20:37:53\", \"2020-03-23T20:37:53\", \"2020-03-23T20:37:53\", \"2020-03-23T20:37:53\", \"2020-03-23T20:37:53\", \"2020-03-23T20:37:53\", \"2020-03-23T20:37:53\"], \"xaxis\": \"x\", \"yaxis\": \"y\"}, {\"alignmentgroup\": \"True\", \"bingroup\": \"x\", \"hoverlabel\": {\"namelength\": 0}, \"hovertemplate\": \"city=Unspecified<br>date=%{x}<br>count=%{y}\", \"legendgroup\": \"Unspecified\", \"marker\": {\"color\": \"#00FE35\"}, \"name\": \"Unspecified\", \"offsetgroup\": \"Unspecified\", \"orientation\": \"v\", \"showlegend\": true, \"type\": \"histogram\", \"x\": [\"2020-01-27T00:00:00\", \"2020-02-27T00:00:00\", \"2020-02-28T00:00:00\", \"2020-02-29T00:00:00\", \"2020-02-29T00:00:00\", \"2020-02-23T00:00:00\", \"2020-03-02T00:00:00\"], \"xaxis\": \"x\", \"yaxis\": \"y\"}, {\"alignmentgroup\": \"True\", \"bingroup\": \"x\", \"hoverlabel\": {\"namelength\": 0}, \"hovertemplate\": \"city=London<br>date=%{x}<br>count=%{y}\", \"legendgroup\": \"London\", \"marker\": {\"color\": \"#6A76FC\"}, \"name\": \"London\", \"offsetgroup\": \"London\", \"orientation\": \"v\", \"showlegend\": true, \"type\": \"histogram\", \"x\": [\"2020-01-24T00:00:00\", \"2020-03-14T17:30:00\", \"2020-03-18T17:30:00\", \"2020-03-17T17:30:00\", \"2020-03-17T17:30:00\", \"2020-03-20T17:30:00\", \"2020-03-20T17:30:00\", \"2020-03-20T17:30:00\", \"2020-03-20T17:30:00\", \"2020-03-20T17:30:00\", \"2020-03-20T17:30:00\"], \"xaxis\": \"x\", \"yaxis\": \"y\"}, {\"alignmentgroup\": \"True\", \"bingroup\": \"x\", \"hoverlabel\": {\"namelength\": 0}, \"hovertemplate\": \"city=Scarborough<br>date=%{x}<br>count=%{y}\", \"legendgroup\": \"Scarborough\", \"marker\": {\"color\": \"#FED4C4\"}, \"name\": \"Scarborough\", \"offsetgroup\": \"Scarborough\", \"orientation\": \"v\", \"showlegend\": true, \"type\": \"histogram\", \"x\": [\"2020-02-27T00:00:00\", \"2020-03-07T00:00:00\"], \"xaxis\": \"x\", \"yaxis\": \"y\"}, {\"alignmentgroup\": \"True\", \"bingroup\": \"x\", \"hoverlabel\": {\"namelength\": 0}, \"hovertemplate\": \"city=Richmond Hill<br>date=%{x}<br>count=%{y}\", \"legendgroup\": \"Richmond Hill\", \"marker\": {\"color\": \"#FE00CE\"}, \"name\": \"Richmond Hill\", \"offsetgroup\": \"Richmond Hill\", \"orientation\": \"v\", \"showlegend\": true, \"type\": \"histogram\", \"x\": [\"2020-02-27T00:00:00\", \"2020-02-28T00:00:00\", \"2020-02-28T00:00:00\", \"2020-03-01T00:00:00\"], \"xaxis\": \"x\", \"yaxis\": \"y\"}, {\"alignmentgroup\": \"True\", \"bingroup\": \"x\", \"hoverlabel\": {\"namelength\": 0}, \"hovertemplate\": \"city=Ajax<br>date=%{x}<br>count=%{y}\", \"legendgroup\": \"Ajax\", \"marker\": {\"color\": \"#0DF9FF\"}, \"name\": \"Ajax\", \"offsetgroup\": \"Ajax\", \"orientation\": \"v\", \"showlegend\": true, \"type\": \"histogram\", \"x\": [\"2020-02-28T00:00:00\"], \"xaxis\": \"x\", \"yaxis\": \"y\"}, {\"alignmentgroup\": \"True\", \"bingroup\": \"x\", \"hoverlabel\": {\"namelength\": 0}, \"hovertemplate\": \"city=Newmarket<br>date=%{x}<br>count=%{y}\", \"legendgroup\": \"Newmarket\", \"marker\": {\"color\": \"#F6F926\"}, \"name\": \"Newmarket\", \"offsetgroup\": \"Newmarket\", \"orientation\": \"v\", \"showlegend\": true, \"type\": \"histogram\", \"x\": [\"2020-02-29T00:00:00\"], \"xaxis\": \"x\", \"yaxis\": \"y\"}, {\"alignmentgroup\": \"True\", \"bingroup\": \"x\", \"hoverlabel\": {\"namelength\": 0}, \"hovertemplate\": \"city=York<br>date=%{x}<br>count=%{y}\", \"legendgroup\": \"York\", \"marker\": {\"color\": \"#FF9616\"}, \"name\": \"York\", \"offsetgroup\": \"York\", \"orientation\": \"v\", \"showlegend\": true, \"type\": \"histogram\", \"x\": [\"2020-02-29T00:00:00\", \"2020-03-16T10:30:00\", \"2020-03-16T10:30:00\", \"2020-03-16T10:30:00\", \"2020-03-16T10:30:00\", \"2020-03-16T10:30:00\", \"2020-03-18T17:30:00\", \"2020-03-15T17:30:00\", \"2020-03-15T17:30:00\", \"2020-03-15T17:30:00\", \"2020-03-11T10:30:00\", \"2020-03-17T17:30:00\", \"2020-03-21T10:30:00\", \"2020-03-21T10:30:00\", \"2020-03-21T10:30:00\", \"2020-03-21T10:30:00\", \"2020-03-21T10:30:00\", \"2020-03-20T17:30:00\", \"2020-03-13T10:30:00\", \"2020-03-23T20:37:53\", \"2020-03-23T20:37:53\", \"2020-03-23T20:37:53\", \"2020-03-23T20:37:53\", \"2020-03-23T20:37:53\", \"2020-03-23T20:37:53\", \"2020-03-23T20:37:53\", \"2020-03-23T20:37:53\"], \"xaxis\": \"x\", \"yaxis\": \"y\"}, {\"alignmentgroup\": \"True\", \"bingroup\": \"x\", \"hoverlabel\": {\"namelength\": 0}, \"hovertemplate\": \"city=Kitchener<br>date=%{x}<br>count=%{y}\", \"legendgroup\": \"Kitchener\", \"marker\": {\"color\": \"#479B55\"}, \"name\": \"Kitchener\", \"offsetgroup\": \"Kitchener\", \"orientation\": \"v\", \"showlegend\": true, \"type\": \"histogram\", \"x\": [\"2020-03-03T00:00:00\"], \"xaxis\": \"x\", \"yaxis\": \"y\"}, {\"alignmentgroup\": \"True\", \"bingroup\": \"x\", \"hoverlabel\": {\"namelength\": 0}, \"hovertemplate\": \"city=Mississauga<br>date=%{x}<br>count=%{y}\", \"legendgroup\": \"Mississauga\", \"marker\": {\"color\": \"#EEA6FB\"}, \"name\": \"Mississauga\", \"offsetgroup\": \"Mississauga\", \"orientation\": \"v\", \"showlegend\": true, \"type\": \"histogram\", \"x\": [\"2020-02-28T00:00:00\", \"2020-02-28T00:00:00\"], \"xaxis\": \"x\", \"yaxis\": \"y\"}, {\"alignmentgroup\": \"True\", \"bingroup\": \"x\", \"hoverlabel\": {\"namelength\": 0}, \"hovertemplate\": \"city=Ottawa<br>date=%{x}<br>count=%{y}\", \"legendgroup\": \"Ottawa\", \"marker\": {\"color\": \"#DC587D\"}, \"name\": \"Ottawa\", \"offsetgroup\": \"Ottawa\", \"orientation\": \"v\", \"showlegend\": true, \"type\": \"histogram\", \"x\": [\"2020-03-14T17:30:00\", \"2020-03-14T17:30:00\", \"2020-03-16T10:30:00\", \"2020-03-16T10:30:00\", \"2020-03-16T10:30:00\", \"2020-03-18T17:30:00\", \"2020-03-15T17:30:00\", \"2020-03-15T17:30:00\", \"2020-03-15T17:30:00\", \"2020-03-15T17:30:00\", \"2020-03-15T17:30:00\", \"2020-03-11T10:30:00\", \"2020-03-21T10:30:00\", \"2020-03-12T10:30:00\", \"2020-03-20T17:30:00\", \"2020-03-20T17:30:00\", \"2020-03-20T17:30:00\", \"2020-03-22T10:30:00\", \"2020-03-19T10:30:00\", \"2020-03-19T10:30:00\", \"2020-03-13T10:30:00\", \"2020-03-23T20:37:53\", \"2020-03-23T20:37:53\", \"2020-03-23T20:37:53\"], \"xaxis\": \"x\", \"yaxis\": \"y\"}, {\"alignmentgroup\": \"True\", \"bingroup\": \"x\", \"hoverlabel\": {\"namelength\": 0}, \"hovertemplate\": \"city=Peel<br>date=%{x}<br>count=%{y}\", \"legendgroup\": \"Peel\", \"marker\": {\"color\": \"#D626FF\"}, \"name\": \"Peel\", \"offsetgroup\": \"Peel\", \"orientation\": \"v\", \"showlegend\": true, \"type\": \"histogram\", \"x\": [\"2020-03-14T17:30:00\", \"2020-03-16T10:30:00\", \"2020-03-16T10:30:00\", \"2020-03-16T10:30:00\", \"2020-03-16T10:30:00\", \"2020-03-18T17:30:00\", \"2020-03-18T17:30:00\", \"2020-03-09T10:30:00\", \"2020-03-15T17:30:00\", \"2020-03-15T17:30:00\", \"2020-03-15T17:30:00\", \"2020-03-15T17:30:00\", \"2020-03-15T17:30:00\", \"2020-03-21T10:30:00\", \"2020-03-21T10:30:00\", \"2020-03-21T10:30:00\", \"2020-03-21T10:30:00\", \"2020-03-12T10:30:00\", \"2020-03-12T10:30:00\", \"2020-03-20T17:30:00\", \"2020-03-20T17:30:00\", \"2020-03-22T10:30:00\", \"2020-03-19T10:30:00\", \"2020-03-19T10:30:00\", \"2020-03-19T10:30:00\", \"2020-03-09T10:30:00\", \"2020-03-13T10:30:00\", \"2020-03-13T10:30:00\", \"2020-03-13T10:30:00\", \"2020-03-13T10:30:00\", \"2020-03-23T20:37:53\", \"2020-03-23T20:37:53\", \"2020-03-23T20:37:53\", \"2020-03-23T20:37:53\", \"2020-03-23T20:37:53\", \"2020-03-23T20:37:53\"], \"xaxis\": \"x\", \"yaxis\": \"y\"}, {\"alignmentgroup\": \"True\", \"bingroup\": \"x\", \"hoverlabel\": {\"namelength\": 0}, \"hovertemplate\": \"city=Waterloo<br>date=%{x}<br>count=%{y}\", \"legendgroup\": \"Waterloo\", \"marker\": {\"color\": \"#6E899C\"}, \"name\": \"Waterloo\", \"offsetgroup\": \"Waterloo\", \"orientation\": \"v\", \"showlegend\": true, \"type\": \"histogram\", \"x\": [\"2020-03-14T17:30:00\", \"2020-03-14T17:30:00\", \"2020-03-18T17:30:00\", \"2020-03-15T17:30:00\", \"2020-03-15T17:30:00\", \"2020-03-12T10:30:00\", \"2020-03-12T10:30:00\", \"2020-03-20T17:30:00\", \"2020-03-20T17:30:00\", \"2020-03-20T17:30:00\", \"2020-03-20T17:30:00\", \"2020-03-22T10:30:00\", \"2020-03-19T10:30:00\", \"2020-03-13T10:30:00\", \"2020-03-23T20:37:53\"], \"xaxis\": \"x\", \"yaxis\": \"y\"}, {\"alignmentgroup\": \"True\", \"bingroup\": \"x\", \"hoverlabel\": {\"namelength\": 0}, \"hovertemplate\": \"city=Whitby<br>date=%{x}<br>count=%{y}\", \"legendgroup\": \"Whitby\", \"marker\": {\"color\": \"#00B5F7\"}, \"name\": \"Whitby\", \"offsetgroup\": \"Whitby\", \"orientation\": \"v\", \"showlegend\": true, \"type\": \"histogram\", \"x\": [\"2020-03-14T17:30:00\", \"2020-03-14T17:30:00\", \"2020-03-14T17:30:00\", \"2020-03-16T10:30:00\", \"2020-03-15T17:30:00\", \"2020-03-15T17:30:00\", \"2020-03-21T10:30:00\", \"2020-03-20T17:30:00\", \"2020-03-20T17:30:00\", \"2020-03-20T17:30:00\", \"2020-03-20T17:30:00\", \"2020-03-20T17:30:00\", \"2020-03-20T17:30:00\", \"2020-03-19T10:30:00\", \"2020-03-23T20:37:53\", \"2020-03-23T20:37:53\", \"2020-03-23T20:37:53\"], \"xaxis\": \"x\", \"yaxis\": \"y\"}, {\"alignmentgroup\": \"True\", \"bingroup\": \"x\", \"hoverlabel\": {\"namelength\": 0}, \"hovertemplate\": \"city=Port Hope<br>date=%{x}<br>count=%{y}\", \"legendgroup\": \"Port Hope\", \"marker\": {\"color\": \"#B68E00\"}, \"name\": \"Port Hope\", \"offsetgroup\": \"Port Hope\", \"orientation\": \"v\", \"showlegend\": true, \"type\": \"histogram\", \"x\": [\"2020-03-14T17:30:00\", \"2020-03-15T17:30:00\", \"2020-03-20T17:30:00\", \"2020-03-20T17:30:00\", \"2020-03-20T17:30:00\", \"2020-03-20T17:30:00\", \"2020-03-20T17:30:00\", \"2020-03-19T10:30:00\", \"2020-03-23T20:37:53\", \"2020-03-23T20:37:53\"], \"xaxis\": \"x\", \"yaxis\": \"y\"}, {\"alignmentgroup\": \"True\", \"bingroup\": \"x\", \"hoverlabel\": {\"namelength\": 0}, \"hovertemplate\": \"city=Stratford<br>date=%{x}<br>count=%{y}\", \"legendgroup\": \"Stratford\", \"marker\": {\"color\": \"#C9FBE5\"}, \"name\": \"Stratford\", \"offsetgroup\": \"Stratford\", \"orientation\": \"v\", \"showlegend\": true, \"type\": \"histogram\", \"x\": [\"2020-03-14T17:30:00\"], \"xaxis\": \"x\", \"yaxis\": \"y\"}, {\"alignmentgroup\": \"True\", \"bingroup\": \"x\", \"hoverlabel\": {\"namelength\": 0}, \"hovertemplate\": \"city=Oakville<br>date=%{x}<br>count=%{y}\", \"legendgroup\": \"Oakville\", \"marker\": {\"color\": \"#FF0092\"}, \"name\": \"Oakville\", \"offsetgroup\": \"Oakville\", \"orientation\": \"v\", \"showlegend\": true, \"type\": \"histogram\", \"x\": [\"2020-03-14T17:30:00\", \"2020-03-16T10:30:00\", \"2020-03-18T17:30:00\", \"2020-03-18T17:30:00\", \"2020-03-18T17:30:00\", \"2020-03-18T17:30:00\", \"2020-03-11T10:30:00\", \"2020-03-12T10:30:00\", \"2020-03-19T10:30:00\", \"2020-03-19T10:30:00\", \"2020-03-19T17:30:00\", \"2020-03-23T20:37:53\", \"2020-03-23T20:37:53\"], \"xaxis\": \"x\", \"yaxis\": \"y\"}, {\"alignmentgroup\": \"True\", \"bingroup\": \"x\", \"hoverlabel\": {\"namelength\": 0}, \"hovertemplate\": \"city=Hamilton<br>date=%{x}<br>count=%{y}\", \"legendgroup\": \"Hamilton\", \"marker\": {\"color\": \"#22FFA7\"}, \"name\": \"Hamilton\", \"offsetgroup\": \"Hamilton\", \"orientation\": \"v\", \"showlegend\": true, \"type\": \"histogram\", \"x\": [\"2020-03-14T17:30:00\", \"2020-03-16T10:30:00\", \"2020-03-16T10:30:00\", \"2020-03-16T10:30:00\", \"2020-03-16T10:30:00\", \"2020-03-18T17:30:00\", \"2020-03-18T17:30:00\", \"2020-03-15T17:30:00\", \"2020-03-15T17:30:00\", \"2020-03-15T17:30:00\", \"2020-03-17T17:30:00\", \"2020-03-17T17:30:00\", \"2020-03-17T17:30:00\", \"2020-03-17T17:30:00\", \"2020-03-17T17:30:00\", \"2020-03-12T10:30:00\", \"2020-03-20T17:30:00\", \"2020-03-20T17:30:00\", \"2020-03-22T10:30:00\", \"2020-03-19T10:30:00\", \"2020-03-19T10:30:00\", \"2020-03-23T20:37:53\", \"2020-03-23T20:37:53\", \"2020-03-23T20:37:53\"], \"xaxis\": \"x\", \"yaxis\": \"y\"}, {\"alignmentgroup\": \"True\", \"bingroup\": \"x\", \"hoverlabel\": {\"namelength\": 0}, \"hovertemplate\": \"city=Kenora<br>date=%{x}<br>count=%{y}\", \"legendgroup\": \"Kenora\", \"marker\": {\"color\": \"#E3EE9E\"}, \"name\": \"Kenora\", \"offsetgroup\": \"Kenora\", \"orientation\": \"v\", \"showlegend\": true, \"type\": \"histogram\", \"x\": [\"2020-03-14T17:30:00\"], \"xaxis\": \"x\", \"yaxis\": \"y\"}, {\"alignmentgroup\": \"True\", \"bingroup\": \"x\", \"hoverlabel\": {\"namelength\": 0}, \"hovertemplate\": \"city=Cornwall<br>date=%{x}<br>count=%{y}\", \"legendgroup\": \"Cornwall\", \"marker\": {\"color\": \"#86CE00\"}, \"name\": \"Cornwall\", \"offsetgroup\": \"Cornwall\", \"orientation\": \"v\", \"showlegend\": true, \"type\": \"histogram\", \"x\": [\"2020-03-14T17:30:00\", \"2020-03-22T10:30:00\", \"2020-03-19T10:30:00\", \"2020-03-23T20:37:53\"], \"xaxis\": \"x\", \"yaxis\": \"y\"}, {\"alignmentgroup\": \"True\", \"bingroup\": \"x\", \"hoverlabel\": {\"namelength\": 0}, \"hovertemplate\": \"city=Guelph<br>date=%{x}<br>count=%{y}\", \"legendgroup\": \"Guelph\", \"marker\": {\"color\": \"#BC7196\"}, \"name\": \"Guelph\", \"offsetgroup\": \"Guelph\", \"orientation\": \"v\", \"showlegend\": true, \"type\": \"histogram\", \"x\": [\"2020-03-16T10:30:00\", \"2020-03-23T20:37:53\"], \"xaxis\": \"x\", \"yaxis\": \"y\"}, {\"alignmentgroup\": \"True\", \"bingroup\": \"x\", \"hoverlabel\": {\"namelength\": 0}, \"hovertemplate\": \"city=Sudbury<br>date=%{x}<br>count=%{y}\", \"legendgroup\": \"Sudbury\", \"marker\": {\"color\": \"#7E7DCD\"}, \"name\": \"Sudbury\", \"offsetgroup\": \"Sudbury\", \"orientation\": \"v\", \"showlegend\": true, \"type\": \"histogram\", \"x\": [\"2020-03-16T10:30:00\", \"2020-03-11T10:30:00\", \"2020-03-23T20:37:53\"], \"xaxis\": \"x\", \"yaxis\": \"y\"}, {\"alignmentgroup\": \"True\", \"bingroup\": \"x\", \"hoverlabel\": {\"namelength\": 0}, \"hovertemplate\": \"city=Niagara<br>date=%{x}<br>count=%{y}\", \"legendgroup\": \"Niagara\", \"marker\": {\"color\": \"#FC6955\"}, \"name\": \"Niagara\", \"offsetgroup\": \"Niagara\", \"orientation\": \"v\", \"showlegend\": true, \"type\": \"histogram\", \"x\": [\"2020-03-16T10:30:00\", \"2020-03-18T17:30:00\", \"2020-03-15T17:30:00\", \"2020-03-13T10:30:00\"], \"xaxis\": \"x\", \"yaxis\": \"y\"}, {\"alignmentgroup\": \"True\", \"bingroup\": \"x\", \"hoverlabel\": {\"namelength\": 0}, \"hovertemplate\": \"city=Chatham<br>date=%{x}<br>count=%{y}\", \"legendgroup\": \"Chatham\", \"marker\": {\"color\": \"#E48F72\"}, \"name\": \"Chatham\", \"offsetgroup\": \"Chatham\", \"orientation\": \"v\", \"showlegend\": true, \"type\": \"histogram\", \"x\": [\"2020-03-18T17:30:00\", \"2020-03-18T17:30:00\"], \"xaxis\": \"x\", \"yaxis\": \"y\"}, {\"alignmentgroup\": \"True\", \"bingroup\": \"x\", \"hoverlabel\": {\"namelength\": 0}, \"hovertemplate\": \"city=Owen Sound<br>date=%{x}<br>count=%{y}\", \"legendgroup\": \"Owen Sound\", \"marker\": {\"color\": \"#FD3216\"}, \"name\": \"Owen Sound\", \"offsetgroup\": \"Owen Sound\", \"orientation\": \"v\", \"showlegend\": true, \"type\": \"histogram\", \"x\": [\"2020-03-18T17:30:00\", \"2020-03-15T17:30:00\", \"2020-03-15T17:30:00\"], \"xaxis\": \"x\", \"yaxis\": \"y\"}, {\"alignmentgroup\": \"True\", \"bingroup\": \"x\", \"hoverlabel\": {\"namelength\": 0}, \"hovertemplate\": \"city=Simcoe<br>date=%{x}<br>count=%{y}\", \"legendgroup\": \"Simcoe\", \"marker\": {\"color\": \"#00FE35\"}, \"name\": \"Simcoe\", \"offsetgroup\": \"Simcoe\", \"orientation\": \"v\", \"showlegend\": true, \"type\": \"histogram\", \"x\": [\"2020-03-18T17:30:00\", \"2020-03-15T17:30:00\", \"2020-03-15T17:30:00\", \"2020-03-17T17:30:00\", \"2020-03-21T10:30:00\", \"2020-03-21T10:30:00\", \"2020-03-21T10:30:00\", \"2020-03-12T10:30:00\", \"2020-03-23T20:37:53\"], \"xaxis\": \"x\", \"yaxis\": \"y\"}, {\"alignmentgroup\": \"True\", \"bingroup\": \"x\", \"hoverlabel\": {\"namelength\": 0}, \"hovertemplate\": \"city=Brantford<br>date=%{x}<br>count=%{y}\", \"legendgroup\": \"Brantford\", \"marker\": {\"color\": \"#6A76FC\"}, \"name\": \"Brantford\", \"offsetgroup\": \"Brantford\", \"orientation\": \"v\", \"showlegend\": true, \"type\": \"histogram\", \"x\": [\"2020-03-18T17:30:00\"], \"xaxis\": \"x\", \"yaxis\": \"y\"}, {\"alignmentgroup\": \"True\", \"bingroup\": \"x\", \"hoverlabel\": {\"namelength\": 0}, \"hovertemplate\": \"city=Sault Ste. Marie<br>date=%{x}<br>count=%{y}\", \"legendgroup\": \"Sault Ste. Marie\", \"marker\": {\"color\": \"#FED4C4\"}, \"name\": \"Sault Ste. Marie\", \"offsetgroup\": \"Sault Ste. Marie\", \"orientation\": \"v\", \"showlegend\": true, \"type\": \"histogram\", \"x\": [\"2020-03-18T17:30:00\"], \"xaxis\": \"x\", \"yaxis\": \"y\"}, {\"alignmentgroup\": \"True\", \"bingroup\": \"x\", \"hoverlabel\": {\"namelength\": 0}, \"hovertemplate\": \"city=pending<br>date=%{x}<br>count=%{y}\", \"legendgroup\": \"pending\", \"marker\": {\"color\": \"#FE00CE\"}, \"name\": \"pending\", \"offsetgroup\": \"pending\", \"orientation\": \"v\", \"showlegend\": true, \"type\": \"histogram\", \"x\": [\"2020-03-18T17:30:00\", \"2020-03-18T17:30:00\", \"2020-03-18T17:30:00\", \"2020-03-15T17:30:00\", \"2020-03-21T10:30:00\", \"2020-03-21T10:30:00\", \"2020-03-21T10:30:00\", \"2020-03-21T10:30:00\", \"2020-03-21T10:30:00\", \"2020-03-21T10:30:00\", \"2020-03-21T10:30:00\", \"2020-03-21T10:30:00\", \"2020-03-21T10:30:00\", \"2020-03-21T10:30:00\", \"2020-03-21T10:30:00\", \"2020-03-21T10:30:00\", \"2020-03-21T10:30:00\", \"2020-03-21T10:30:00\", \"2020-03-21T10:30:00\", \"2020-03-21T10:30:00\", \"2020-03-21T10:30:00\", \"2020-03-21T10:30:00\", \"2020-03-21T10:30:00\", \"2020-03-21T10:30:00\", \"2020-03-21T10:30:00\", \"2020-03-21T10:30:00\", \"2020-03-21T10:30:00\", \"2020-03-21T10:30:00\", \"2020-03-21T10:30:00\", \"2020-03-21T10:30:00\", \"2020-03-21T10:30:00\", \"2020-03-21T10:30:00\", \"2020-03-21T10:30:00\", \"2020-03-21T10:30:00\", \"2020-03-21T10:30:00\", \"2020-03-21T10:30:00\", \"2020-03-21T10:30:00\", \"2020-03-21T10:30:00\", \"2020-03-21T10:30:00\", \"2020-03-21T10:30:00\", \"2020-03-21T10:30:00\", \"2020-03-21T10:30:00\", \"2020-03-21T10:30:00\", \"2020-03-21T10:30:00\", \"2020-03-21T10:30:00\", \"2020-03-21T10:30:00\", \"2020-03-20T17:30:00\", \"2020-03-20T17:30:00\", \"2020-03-20T17:30:00\", \"2020-03-20T17:30:00\", \"2020-03-20T17:30:00\", \"2020-03-20T17:30:00\", \"2020-03-20T17:30:00\", \"2020-03-20T17:30:00\", \"2020-03-20T17:30:00\", \"2020-03-20T17:30:00\", \"2020-03-20T17:30:00\", \"2020-03-20T17:30:00\", \"2020-03-20T17:30:00\", \"2020-03-20T17:30:00\", \"2020-03-20T17:30:00\", \"2020-03-20T17:30:00\", \"2020-03-20T17:30:00\", \"2020-03-20T17:30:00\", \"2020-03-20T17:30:00\", \"2020-03-20T17:30:00\", \"2020-03-20T17:30:00\", \"2020-03-20T17:30:00\", \"2020-03-20T17:30:00\", \"2020-03-20T17:30:00\", \"2020-03-20T17:30:00\", \"2020-03-20T17:30:00\", \"2020-03-22T10:30:00\", \"2020-03-22T10:30:00\", \"2020-03-22T10:30:00\", \"2020-03-22T10:30:00\", \"2020-03-22T10:30:00\", \"2020-03-22T10:30:00\", \"2020-03-22T10:30:00\", \"2020-03-22T10:30:00\", \"2020-03-22T10:30:00\", \"2020-03-22T10:30:00\", \"2020-03-22T10:30:00\", \"2020-03-22T10:30:00\", \"2020-03-22T10:30:00\", \"2020-03-22T10:30:00\", \"2020-03-22T10:30:00\", \"2020-03-22T10:30:00\", \"2020-03-22T10:30:00\", \"2020-03-22T10:30:00\", \"2020-03-22T10:30:00\", \"2020-03-22T10:30:00\", \"2020-03-22T10:30:00\", \"2020-03-22T10:30:00\", \"2020-03-22T10:30:00\", \"2020-03-22T10:30:00\", \"2020-03-22T10:30:00\", \"2020-03-22T10:30:00\", \"2020-03-22T10:30:00\", \"2020-03-22T10:30:00\", \"2020-03-22T10:30:00\", \"2020-03-22T10:30:00\", \"2020-03-22T10:30:00\", \"2020-03-22T10:30:00\", \"2020-03-22T10:30:00\", \"2020-03-22T10:30:00\", \"2020-03-22T10:30:00\", \"2020-03-22T10:30:00\", \"2020-03-22T10:30:00\", \"2020-03-22T10:30:00\", \"2020-03-22T10:30:00\", \"2020-03-22T10:30:00\", \"2020-03-19T10:30:00\", \"2020-03-19T10:30:00\", \"2020-03-19T10:30:00\", \"2020-03-19T10:30:00\", \"2020-03-19T10:30:00\", \"2020-03-19T10:30:00\", \"2020-03-19T10:30:00\", \"2020-03-19T10:30:00\", \"2020-03-19T10:30:00\", \"2020-03-19T10:30:00\", \"2020-03-19T10:30:00\", \"2020-03-19T10:30:00\", \"2020-03-19T10:30:00\", \"2020-03-19T10:30:00\", \"2020-03-19T10:30:00\", \"2020-03-19T10:30:00\", \"2020-03-19T10:30:00\", \"2020-03-19T10:30:00\", \"2020-03-19T10:30:00\", \"2020-03-19T10:30:00\", \"2020-03-19T10:30:00\", \"2020-03-23T20:37:53\", \"2020-03-23T20:37:53\", \"2020-03-23T20:37:53\", \"2020-03-23T20:37:53\", \"2020-03-23T20:37:53\", \"2020-03-23T20:37:53\", \"2020-03-23T20:37:53\", \"2020-03-23T20:37:53\", \"2020-03-23T20:37:53\", \"2020-03-23T20:37:53\", \"2020-03-23T20:37:53\", \"2020-03-23T20:37:53\", \"2020-03-23T20:37:53\", \"2020-03-23T20:37:53\", \"2020-03-23T20:37:53\", \"2020-03-23T20:37:53\", \"2020-03-23T20:37:53\", \"2020-03-23T20:37:53\", \"2020-03-23T20:37:53\", \"2020-03-23T20:37:53\", \"2020-03-23T20:37:53\", \"2020-03-23T20:37:53\", \"2020-03-23T20:37:53\", \"2020-03-23T20:37:53\", \"2020-03-23T20:37:53\", \"2020-03-23T20:37:53\", \"2020-03-23T20:37:53\", \"2020-03-23T20:37:53\", \"2020-03-23T20:37:53\"], \"xaxis\": \"x\", \"yaxis\": \"y\"}, {\"alignmentgroup\": \"True\", \"bingroup\": \"x\", \"hoverlabel\": {\"namelength\": 0}, \"hovertemplate\": \"city=Peterborough<br>date=%{x}<br>count=%{y}\", \"legendgroup\": \"Peterborough\", \"marker\": {\"color\": \"#0DF9FF\"}, \"name\": \"Peterborough\", \"offsetgroup\": \"Peterborough\", \"orientation\": \"v\", \"showlegend\": true, \"type\": \"histogram\", \"x\": [\"2020-03-15T17:30:00\", \"2020-03-20T17:30:00\"], \"xaxis\": \"x\", \"yaxis\": \"y\"}, {\"alignmentgroup\": \"True\", \"bingroup\": \"x\", \"hoverlabel\": {\"namelength\": 0}, \"hovertemplate\": \"city=Kingston<br>date=%{x}<br>count=%{y}\", \"legendgroup\": \"Kingston\", \"marker\": {\"color\": \"#F6F926\"}, \"name\": \"Kingston\", \"offsetgroup\": \"Kingston\", \"orientation\": \"v\", \"showlegend\": true, \"type\": \"histogram\", \"x\": [\"2020-03-17T17:30:00\", \"2020-03-17T17:30:00\", \"2020-03-17T17:30:00\", \"2020-03-23T20:37:53\"], \"xaxis\": \"x\", \"yaxis\": \"y\"}, {\"alignmentgroup\": \"True\", \"bingroup\": \"x\", \"hoverlabel\": {\"namelength\": 0}, \"hovertemplate\": \"city=Belleville<br>date=%{x}<br>count=%{y}\", \"legendgroup\": \"Belleville\", \"marker\": {\"color\": \"#FF9616\"}, \"name\": \"Belleville\", \"offsetgroup\": \"Belleville\", \"orientation\": \"v\", \"showlegend\": true, \"type\": \"histogram\", \"x\": [\"2020-03-21T10:30:00\", \"2020-03-20T17:30:00\", \"2020-03-23T20:37:53\"], \"xaxis\": \"x\", \"yaxis\": \"y\"}, {\"alignmentgroup\": \"True\", \"bingroup\": \"x\", \"hoverlabel\": {\"namelength\": 0}, \"hovertemplate\": \"city=Timmins<br>date=%{x}<br>count=%{y}\", \"legendgroup\": \"Timmins\", \"marker\": {\"color\": \"#479B55\"}, \"name\": \"Timmins\", \"offsetgroup\": \"Timmins\", \"orientation\": \"v\", \"showlegend\": true, \"type\": \"histogram\", \"x\": [\"2020-03-20T17:30:00\"], \"xaxis\": \"x\", \"yaxis\": \"y\"}, {\"alignmentgroup\": \"True\", \"bingroup\": \"x\", \"hoverlabel\": {\"namelength\": 0}, \"hovertemplate\": \"city=Windsor<br>date=%{x}<br>count=%{y}\", \"legendgroup\": \"Windsor\", \"marker\": {\"color\": \"#EEA6FB\"}, \"name\": \"Windsor\", \"offsetgroup\": \"Windsor\", \"orientation\": \"v\", \"showlegend\": true, \"type\": \"histogram\", \"x\": [\"2020-03-22T10:30:00\"], \"xaxis\": \"x\", \"yaxis\": \"y\"}],\n",
       "                        {\"bargap\": 0.7, \"bargroupgap\": 0.1, \"barmode\": \"relative\", \"legend\": {\"title\": {\"text\": \"city\"}, \"tracegroupgap\": 0}, \"margin\": {\"t\": 60}, \"template\": {\"data\": {\"bar\": [{\"error_x\": {\"color\": \"#2a3f5f\"}, \"error_y\": {\"color\": \"#2a3f5f\"}, \"marker\": {\"line\": {\"color\": \"#E5ECF6\", \"width\": 0.5}}, \"type\": \"bar\"}], \"barpolar\": [{\"marker\": {\"line\": {\"color\": \"#E5ECF6\", \"width\": 0.5}}, \"type\": \"barpolar\"}], \"carpet\": [{\"aaxis\": {\"endlinecolor\": \"#2a3f5f\", \"gridcolor\": \"white\", \"linecolor\": \"white\", \"minorgridcolor\": \"white\", \"startlinecolor\": \"#2a3f5f\"}, \"baxis\": {\"endlinecolor\": \"#2a3f5f\", \"gridcolor\": \"white\", \"linecolor\": \"white\", \"minorgridcolor\": \"white\", \"startlinecolor\": \"#2a3f5f\"}, \"type\": \"carpet\"}], \"choropleth\": [{\"colorbar\": {\"outlinewidth\": 0, \"ticks\": \"\"}, \"type\": \"choropleth\"}], \"contour\": [{\"colorbar\": {\"outlinewidth\": 0, \"ticks\": \"\"}, \"colorscale\": [[0.0, \"#0d0887\"], [0.1111111111111111, \"#46039f\"], [0.2222222222222222, \"#7201a8\"], [0.3333333333333333, \"#9c179e\"], [0.4444444444444444, \"#bd3786\"], [0.5555555555555556, \"#d8576b\"], [0.6666666666666666, \"#ed7953\"], [0.7777777777777778, \"#fb9f3a\"], [0.8888888888888888, \"#fdca26\"], [1.0, \"#f0f921\"]], \"type\": \"contour\"}], \"contourcarpet\": [{\"colorbar\": {\"outlinewidth\": 0, \"ticks\": \"\"}, \"type\": \"contourcarpet\"}], \"heatmap\": [{\"colorbar\": {\"outlinewidth\": 0, \"ticks\": \"\"}, \"colorscale\": [[0.0, \"#0d0887\"], [0.1111111111111111, \"#46039f\"], [0.2222222222222222, \"#7201a8\"], [0.3333333333333333, \"#9c179e\"], [0.4444444444444444, \"#bd3786\"], [0.5555555555555556, \"#d8576b\"], [0.6666666666666666, \"#ed7953\"], [0.7777777777777778, \"#fb9f3a\"], [0.8888888888888888, \"#fdca26\"], [1.0, \"#f0f921\"]], \"type\": \"heatmap\"}], \"heatmapgl\": [{\"colorbar\": {\"outlinewidth\": 0, \"ticks\": \"\"}, \"colorscale\": [[0.0, \"#0d0887\"], [0.1111111111111111, \"#46039f\"], [0.2222222222222222, \"#7201a8\"], [0.3333333333333333, \"#9c179e\"], [0.4444444444444444, \"#bd3786\"], [0.5555555555555556, \"#d8576b\"], [0.6666666666666666, \"#ed7953\"], [0.7777777777777778, \"#fb9f3a\"], [0.8888888888888888, \"#fdca26\"], [1.0, \"#f0f921\"]], \"type\": \"heatmapgl\"}], \"histogram\": [{\"marker\": {\"colorbar\": {\"outlinewidth\": 0, \"ticks\": \"\"}}, \"type\": \"histogram\"}], \"histogram2d\": [{\"colorbar\": {\"outlinewidth\": 0, \"ticks\": \"\"}, \"colorscale\": [[0.0, \"#0d0887\"], [0.1111111111111111, \"#46039f\"], [0.2222222222222222, \"#7201a8\"], [0.3333333333333333, \"#9c179e\"], [0.4444444444444444, \"#bd3786\"], [0.5555555555555556, \"#d8576b\"], [0.6666666666666666, \"#ed7953\"], [0.7777777777777778, \"#fb9f3a\"], [0.8888888888888888, \"#fdca26\"], [1.0, \"#f0f921\"]], \"type\": \"histogram2d\"}], \"histogram2dcontour\": [{\"colorbar\": {\"outlinewidth\": 0, \"ticks\": \"\"}, \"colorscale\": [[0.0, \"#0d0887\"], [0.1111111111111111, \"#46039f\"], [0.2222222222222222, \"#7201a8\"], [0.3333333333333333, \"#9c179e\"], [0.4444444444444444, \"#bd3786\"], [0.5555555555555556, \"#d8576b\"], [0.6666666666666666, \"#ed7953\"], [0.7777777777777778, \"#fb9f3a\"], [0.8888888888888888, \"#fdca26\"], [1.0, \"#f0f921\"]], \"type\": \"histogram2dcontour\"}], \"mesh3d\": [{\"colorbar\": {\"outlinewidth\": 0, \"ticks\": \"\"}, \"type\": \"mesh3d\"}], \"parcoords\": [{\"line\": {\"colorbar\": {\"outlinewidth\": 0, \"ticks\": \"\"}}, \"type\": \"parcoords\"}], \"pie\": [{\"automargin\": true, \"type\": \"pie\"}], \"scatter\": [{\"marker\": {\"colorbar\": {\"outlinewidth\": 0, \"ticks\": \"\"}}, \"type\": \"scatter\"}], \"scatter3d\": [{\"line\": {\"colorbar\": {\"outlinewidth\": 0, \"ticks\": \"\"}}, \"marker\": {\"colorbar\": {\"outlinewidth\": 0, \"ticks\": \"\"}}, \"type\": \"scatter3d\"}], \"scattercarpet\": [{\"marker\": {\"colorbar\": {\"outlinewidth\": 0, \"ticks\": \"\"}}, \"type\": \"scattercarpet\"}], \"scattergeo\": [{\"marker\": {\"colorbar\": {\"outlinewidth\": 0, \"ticks\": \"\"}}, \"type\": \"scattergeo\"}], \"scattergl\": [{\"marker\": {\"colorbar\": {\"outlinewidth\": 0, \"ticks\": \"\"}}, \"type\": \"scattergl\"}], \"scattermapbox\": [{\"marker\": {\"colorbar\": {\"outlinewidth\": 0, \"ticks\": \"\"}}, \"type\": \"scattermapbox\"}], \"scatterpolar\": [{\"marker\": {\"colorbar\": {\"outlinewidth\": 0, \"ticks\": \"\"}}, \"type\": \"scatterpolar\"}], \"scatterpolargl\": [{\"marker\": {\"colorbar\": {\"outlinewidth\": 0, \"ticks\": \"\"}}, \"type\": \"scatterpolargl\"}], \"scatterternary\": [{\"marker\": {\"colorbar\": {\"outlinewidth\": 0, \"ticks\": \"\"}}, \"type\": \"scatterternary\"}], \"surface\": [{\"colorbar\": {\"outlinewidth\": 0, \"ticks\": \"\"}, \"colorscale\": [[0.0, \"#0d0887\"], [0.1111111111111111, \"#46039f\"], [0.2222222222222222, \"#7201a8\"], [0.3333333333333333, \"#9c179e\"], [0.4444444444444444, \"#bd3786\"], [0.5555555555555556, \"#d8576b\"], [0.6666666666666666, \"#ed7953\"], [0.7777777777777778, \"#fb9f3a\"], [0.8888888888888888, \"#fdca26\"], [1.0, \"#f0f921\"]], \"type\": \"surface\"}], \"table\": [{\"cells\": {\"fill\": {\"color\": \"#EBF0F8\"}, \"line\": {\"color\": \"white\"}}, \"header\": {\"fill\": {\"color\": \"#C8D4E3\"}, \"line\": {\"color\": \"white\"}}, \"type\": \"table\"}]}, \"layout\": {\"annotationdefaults\": {\"arrowcolor\": \"#2a3f5f\", \"arrowhead\": 0, \"arrowwidth\": 1}, \"coloraxis\": {\"colorbar\": {\"outlinewidth\": 0, \"ticks\": \"\"}}, \"colorscale\": {\"diverging\": [[0, \"#8e0152\"], [0.1, \"#c51b7d\"], [0.2, \"#de77ae\"], [0.3, \"#f1b6da\"], [0.4, \"#fde0ef\"], [0.5, \"#f7f7f7\"], [0.6, \"#e6f5d0\"], [0.7, \"#b8e186\"], [0.8, \"#7fbc41\"], [0.9, \"#4d9221\"], [1, \"#276419\"]], \"sequential\": [[0.0, \"#0d0887\"], [0.1111111111111111, \"#46039f\"], [0.2222222222222222, \"#7201a8\"], [0.3333333333333333, \"#9c179e\"], [0.4444444444444444, \"#bd3786\"], [0.5555555555555556, \"#d8576b\"], [0.6666666666666666, \"#ed7953\"], [0.7777777777777778, \"#fb9f3a\"], [0.8888888888888888, \"#fdca26\"], [1.0, \"#f0f921\"]], \"sequentialminus\": [[0.0, \"#0d0887\"], [0.1111111111111111, \"#46039f\"], [0.2222222222222222, \"#7201a8\"], [0.3333333333333333, \"#9c179e\"], [0.4444444444444444, \"#bd3786\"], [0.5555555555555556, \"#d8576b\"], [0.6666666666666666, \"#ed7953\"], [0.7777777777777778, \"#fb9f3a\"], [0.8888888888888888, \"#fdca26\"], [1.0, \"#f0f921\"]]}, \"colorway\": [\"#636efa\", \"#EF553B\", \"#00cc96\", \"#ab63fa\", \"#FFA15A\", \"#19d3f3\", \"#FF6692\", \"#B6E880\", \"#FF97FF\", \"#FECB52\"], \"font\": {\"color\": \"#2a3f5f\"}, \"geo\": {\"bgcolor\": \"white\", \"lakecolor\": \"white\", \"landcolor\": \"#E5ECF6\", \"showlakes\": true, \"showland\": true, \"subunitcolor\": \"white\"}, \"hoverlabel\": {\"align\": \"left\"}, \"hovermode\": \"closest\", \"mapbox\": {\"style\": \"light\"}, \"paper_bgcolor\": \"white\", \"plot_bgcolor\": \"#E5ECF6\", \"polar\": {\"angularaxis\": {\"gridcolor\": \"white\", \"linecolor\": \"white\", \"ticks\": \"\"}, \"bgcolor\": \"#E5ECF6\", \"radialaxis\": {\"gridcolor\": \"white\", \"linecolor\": \"white\", \"ticks\": \"\"}}, \"scene\": {\"xaxis\": {\"backgroundcolor\": \"#E5ECF6\", \"gridcolor\": \"white\", \"gridwidth\": 2, \"linecolor\": \"white\", \"showbackground\": true, \"ticks\": \"\", \"zerolinecolor\": \"white\"}, \"yaxis\": {\"backgroundcolor\": \"#E5ECF6\", \"gridcolor\": \"white\", \"gridwidth\": 2, \"linecolor\": \"white\", \"showbackground\": true, \"ticks\": \"\", \"zerolinecolor\": \"white\"}, \"zaxis\": {\"backgroundcolor\": \"#E5ECF6\", \"gridcolor\": \"white\", \"gridwidth\": 2, \"linecolor\": \"white\", \"showbackground\": true, \"ticks\": \"\", \"zerolinecolor\": \"white\"}}, \"shapedefaults\": {\"line\": {\"color\": \"#2a3f5f\"}}, \"ternary\": {\"aaxis\": {\"gridcolor\": \"white\", \"linecolor\": \"white\", \"ticks\": \"\"}, \"baxis\": {\"gridcolor\": \"white\", \"linecolor\": \"white\", \"ticks\": \"\"}, \"bgcolor\": \"#E5ECF6\", \"caxis\": {\"gridcolor\": \"white\", \"linecolor\": \"white\", \"ticks\": \"\"}}, \"title\": {\"x\": 0.05}, \"xaxis\": {\"automargin\": true, \"gridcolor\": \"white\", \"linecolor\": \"white\", \"ticks\": \"\", \"title\": {\"standoff\": 15}, \"zerolinecolor\": \"white\", \"zerolinewidth\": 2}, \"yaxis\": {\"automargin\": true, \"gridcolor\": \"white\", \"linecolor\": \"white\", \"ticks\": \"\", \"title\": {\"standoff\": 15}, \"zerolinecolor\": \"white\", \"zerolinewidth\": 2}}}, \"title\": {\"text\": \"New Infections\"}, \"xaxis\": {\"anchor\": \"y\", \"domain\": [0.0, 1.0], \"title\": {\"text\": \"Date\"}}, \"yaxis\": {\"anchor\": \"x\", \"domain\": [0.0, 1.0], \"title\": {\"text\": \"Infected\"}}},\n",
       "                        {\"responsive\": true}\n",
       "                    ).then(function(){\n",
       "                            \n",
       "var gd = document.getElementById('e11eb4fe-9a75-4286-ba2b-98b93812a727');\n",
       "var x = new MutationObserver(function (mutations, observer) {{\n",
       "        var display = window.getComputedStyle(gd).display;\n",
       "        if (!display || display === 'none') {{\n",
       "            console.log([gd, 'removed!']);\n",
       "            Plotly.purge(gd);\n",
       "            observer.disconnect();\n",
       "        }}\n",
       "}});\n",
       "\n",
       "// Listen for the removal of the full notebook cells\n",
       "var notebookContainer = gd.closest('#notebook-container');\n",
       "if (notebookContainer) {{\n",
       "    x.observe(notebookContainer, {childList: true});\n",
       "}}\n",
       "\n",
       "// Listen for the clearing of the current output cell\n",
       "var outputEl = gd.closest('.output');\n",
       "if (outputEl) {{\n",
       "    x.observe(outputEl, {childList: true});\n",
       "}}\n",
       "\n",
       "                        })\n",
       "                };\n",
       "                });\n",
       "            </script>\n",
       "        </div>"
      ]
     },
     "metadata": {},
     "output_type": "display_data"
    }
   ],
   "source": [
    "fig = px.histogram(df, x=\"date\", color = \"city\", color_discrete_sequence= px.colors.qualitative.Light24)\n",
    "fig.update_layout(\n",
    "    title_text='New Infections', # title of plot\n",
    "    xaxis_title_text='Date', # xaxis label\n",
    "    yaxis_title_text='Infected', # yaxis label\n",
    "    bargap=0.7, # gap between bars of adjacent location coordinates\n",
    "    bargroupgap=0.1 # gap between bars of the same location coordinates\n",
    ")\n",
    "\n",
    "fig.show()"
   ]
  },
  {
   "cell_type": "code",
   "execution_count": 38,
   "metadata": {},
   "outputs": [
    {
     "data": {
      "application/vnd.plotly.v1+json": {
       "config": {
        "plotlyServerURL": "https://plot.ly"
       },
       "data": [
        {
         "alignmentgroup": "True",
         "bingroup": "x",
         "hoverlabel": {
          "namelength": 0
         },
         "hovertemplate": "city=Toronto<br>age=%{x}<br>count=%{y}",
         "legendgroup": "Toronto",
         "marker": {
          "color": "#FD3216"
         },
         "name": "Toronto",
         "offsetgroup": "Toronto",
         "orientation": "v",
         "showlegend": true,
         "type": "histogram",
         "x": [
          50,
          60,
          60,
          50,
          40,
          20,
          60,
          60,
          30,
          50,
          80,
          30,
          60,
          20,
          70,
          40,
          10,
          30,
          20,
          60,
          30,
          20,
          20,
          40,
          20,
          40,
          40,
          70,
          40,
          60,
          20,
          50,
          50,
          60,
          90,
          20,
          40
         ],
         "xaxis": "x",
         "yaxis": "y"
        },
        {
         "alignmentgroup": "True",
         "bingroup": "x",
         "hoverlabel": {
          "namelength": 0
         },
         "hovertemplate": "city=Scarborough<br>age=%{x}<br>count=%{y}",
         "legendgroup": "Scarborough",
         "marker": {
          "color": "#00FE35"
         },
         "name": "Scarborough",
         "offsetgroup": "Scarborough",
         "orientation": "v",
         "showlegend": true,
         "type": "histogram",
         "x": [
          80
         ],
         "xaxis": "x",
         "yaxis": "y"
        },
        {
         "alignmentgroup": "True",
         "bingroup": "x",
         "hoverlabel": {
          "namelength": 0
         },
         "hovertemplate": "city=Unspecified<br>age=%{x}<br>count=%{y}",
         "legendgroup": "Unspecified",
         "marker": {
          "color": "#6A76FC"
         },
         "name": "Unspecified",
         "offsetgroup": "Unspecified",
         "orientation": "v",
         "showlegend": true,
         "type": "histogram",
         "x": [
          69,
          60
         ],
         "xaxis": "x",
         "yaxis": "y"
        },
        {
         "alignmentgroup": "True",
         "bingroup": "x",
         "hoverlabel": {
          "namelength": 0
         },
         "hovertemplate": "city=Richmond Hill<br>age=%{x}<br>count=%{y}",
         "legendgroup": "Richmond Hill",
         "marker": {
          "color": "#FED4C4"
         },
         "name": "Richmond Hill",
         "offsetgroup": "Richmond Hill",
         "orientation": "v",
         "showlegend": true,
         "type": "histogram",
         "x": [
          50,
          40
         ],
         "xaxis": "x",
         "yaxis": "y"
        },
        {
         "alignmentgroup": "True",
         "bingroup": "x",
         "hoverlabel": {
          "namelength": 0
         },
         "hovertemplate": "city=York<br>age=%{x}<br>count=%{y}",
         "legendgroup": "York",
         "marker": {
          "color": "#FE00CE"
         },
         "name": "York",
         "offsetgroup": "York",
         "orientation": "v",
         "showlegend": true,
         "type": "histogram",
         "x": [
          50,
          60,
          30,
          30,
          50,
          60,
          30,
          40
         ],
         "xaxis": "x",
         "yaxis": "y"
        },
        {
         "alignmentgroup": "True",
         "bingroup": "x",
         "hoverlabel": {
          "namelength": 0
         },
         "hovertemplate": "city=Mississauga<br>age=%{x}<br>count=%{y}",
         "legendgroup": "Mississauga",
         "marker": {
          "color": "#0DF9FF"
         },
         "name": "Mississauga",
         "offsetgroup": "Mississauga",
         "orientation": "v",
         "showlegend": true,
         "type": "histogram",
         "x": [
          60
         ],
         "xaxis": "x",
         "yaxis": "y"
        },
        {
         "alignmentgroup": "True",
         "bingroup": "x",
         "hoverlabel": {
          "namelength": 0
         },
         "hovertemplate": "city=Waterloo<br>age=%{x}<br>count=%{y}",
         "legendgroup": "Waterloo",
         "marker": {
          "color": "#F6F926"
         },
         "name": "Waterloo",
         "offsetgroup": "Waterloo",
         "orientation": "v",
         "showlegend": true,
         "type": "histogram",
         "x": [
          40,
          40,
          70,
          20,
          40
         ],
         "xaxis": "x",
         "yaxis": "y"
        },
        {
         "alignmentgroup": "True",
         "bingroup": "x",
         "hoverlabel": {
          "namelength": 0
         },
         "hovertemplate": "city=Whitby<br>age=%{x}<br>count=%{y}",
         "legendgroup": "Whitby",
         "marker": {
          "color": "#FF9616"
         },
         "name": "Whitby",
         "offsetgroup": "Whitby",
         "orientation": "v",
         "showlegend": true,
         "type": "histogram",
         "x": [
          50,
          50,
          60,
          70,
          80,
          40,
          70
         ],
         "xaxis": "x",
         "yaxis": "y"
        },
        {
         "alignmentgroup": "True",
         "bingroup": "x",
         "hoverlabel": {
          "namelength": 0
         },
         "hovertemplate": "city=Guelph<br>age=%{x}<br>count=%{y}",
         "legendgroup": "Guelph",
         "marker": {
          "color": "#479B55"
         },
         "name": "Guelph",
         "offsetgroup": "Guelph",
         "orientation": "v",
         "showlegend": true,
         "type": "histogram",
         "x": [
          40,
          60
         ],
         "xaxis": "x",
         "yaxis": "y"
        },
        {
         "alignmentgroup": "True",
         "bingroup": "x",
         "hoverlabel": {
          "namelength": 0
         },
         "hovertemplate": "city=Oakville<br>age=%{x}<br>count=%{y}",
         "legendgroup": "Oakville",
         "marker": {
          "color": "#EEA6FB"
         },
         "name": "Oakville",
         "offsetgroup": "Oakville",
         "orientation": "v",
         "showlegend": true,
         "type": "histogram",
         "x": [
          30,
          40,
          50,
          50,
          50,
          40
         ],
         "xaxis": "x",
         "yaxis": "y"
        },
        {
         "alignmentgroup": "True",
         "bingroup": "x",
         "hoverlabel": {
          "namelength": 0
         },
         "hovertemplate": "city=Peel<br>age=%{x}<br>count=%{y}",
         "legendgroup": "Peel",
         "marker": {
          "color": "#DC587D"
         },
         "name": "Peel",
         "offsetgroup": "Peel",
         "orientation": "v",
         "showlegend": true,
         "type": "histogram",
         "x": [
          20,
          50,
          50,
          40,
          70,
          20,
          40,
          60,
          40,
          70
         ],
         "xaxis": "x",
         "yaxis": "y"
        },
        {
         "alignmentgroup": "True",
         "bingroup": "x",
         "hoverlabel": {
          "namelength": 0
         },
         "hovertemplate": "city=Hamilton<br>age=%{x}<br>count=%{y}",
         "legendgroup": "Hamilton",
         "marker": {
          "color": "#D626FF"
         },
         "name": "Hamilton",
         "offsetgroup": "Hamilton",
         "orientation": "v",
         "showlegend": true,
         "type": "histogram",
         "x": [
          70,
          50,
          40,
          50,
          60,
          70
         ],
         "xaxis": "x",
         "yaxis": "y"
        },
        {
         "alignmentgroup": "True",
         "bingroup": "x",
         "hoverlabel": {
          "namelength": 0
         },
         "hovertemplate": "city=Ottawa<br>age=%{x}<br>count=%{y}",
         "legendgroup": "Ottawa",
         "marker": {
          "color": "#6E899C"
         },
         "name": "Ottawa",
         "offsetgroup": "Ottawa",
         "orientation": "v",
         "showlegend": true,
         "type": "histogram",
         "x": [
          20,
          40,
          30,
          80,
          40,
          40,
          40,
          50
         ],
         "xaxis": "x",
         "yaxis": "y"
        },
        {
         "alignmentgroup": "True",
         "bingroup": "x",
         "hoverlabel": {
          "namelength": 0
         },
         "hovertemplate": "city=Chatham<br>age=%{x}<br>count=%{y}",
         "legendgroup": "Chatham",
         "marker": {
          "color": "#00B5F7"
         },
         "name": "Chatham",
         "offsetgroup": "Chatham",
         "orientation": "v",
         "showlegend": true,
         "type": "histogram",
         "x": [
          50
         ],
         "xaxis": "x",
         "yaxis": "y"
        },
        {
         "alignmentgroup": "True",
         "bingroup": "x",
         "hoverlabel": {
          "namelength": 0
         },
         "hovertemplate": "city=Owen Sound<br>age=%{x}<br>count=%{y}",
         "legendgroup": "Owen Sound",
         "marker": {
          "color": "#B68E00"
         },
         "name": "Owen Sound",
         "offsetgroup": "Owen Sound",
         "orientation": "v",
         "showlegend": true,
         "type": "histogram",
         "x": [
          60,
          50
         ],
         "xaxis": "x",
         "yaxis": "y"
        },
        {
         "alignmentgroup": "True",
         "bingroup": "x",
         "hoverlabel": {
          "namelength": 0
         },
         "hovertemplate": "city=Simcoe<br>age=%{x}<br>count=%{y}",
         "legendgroup": "Simcoe",
         "marker": {
          "color": "#C9FBE5"
         },
         "name": "Simcoe",
         "offsetgroup": "Simcoe",
         "orientation": "v",
         "showlegend": true,
         "type": "histogram",
         "x": [
          60,
          70,
          70,
          50,
          20,
          40,
          40
         ],
         "xaxis": "x",
         "yaxis": "y"
        },
        {
         "alignmentgroup": "True",
         "bingroup": "x",
         "hoverlabel": {
          "namelength": 0
         },
         "hovertemplate": "city=Niagara<br>age=%{x}<br>count=%{y}",
         "legendgroup": "Niagara",
         "marker": {
          "color": "#FF0092"
         },
         "name": "Niagara",
         "offsetgroup": "Niagara",
         "orientation": "v",
         "showlegend": true,
         "type": "histogram",
         "x": [
          50,
          80
         ],
         "xaxis": "x",
         "yaxis": "y"
        },
        {
         "alignmentgroup": "True",
         "bingroup": "x",
         "hoverlabel": {
          "namelength": 0
         },
         "hovertemplate": "city=Peterborough<br>age=%{x}<br>count=%{y}",
         "legendgroup": "Peterborough",
         "marker": {
          "color": "#22FFA7"
         },
         "name": "Peterborough",
         "offsetgroup": "Peterborough",
         "orientation": "v",
         "showlegend": true,
         "type": "histogram",
         "x": [
          30,
          30
         ],
         "xaxis": "x",
         "yaxis": "y"
        },
        {
         "alignmentgroup": "True",
         "bingroup": "x",
         "hoverlabel": {
          "namelength": 0
         },
         "hovertemplate": "city=Sudbury<br>age=%{x}<br>count=%{y}",
         "legendgroup": "Sudbury",
         "marker": {
          "color": "#E3EE9E"
         },
         "name": "Sudbury",
         "offsetgroup": "Sudbury",
         "orientation": "v",
         "showlegend": true,
         "type": "histogram",
         "x": [
          50
         ],
         "xaxis": "x",
         "yaxis": "y"
        },
        {
         "alignmentgroup": "True",
         "bingroup": "x",
         "hoverlabel": {
          "namelength": 0
         },
         "hovertemplate": "city=Kingston<br>age=%{x}<br>count=%{y}",
         "legendgroup": "Kingston",
         "marker": {
          "color": "#86CE00"
         },
         "name": "Kingston",
         "offsetgroup": "Kingston",
         "orientation": "v",
         "showlegend": true,
         "type": "histogram",
         "x": [
          40
         ],
         "xaxis": "x",
         "yaxis": "y"
        },
        {
         "alignmentgroup": "True",
         "bingroup": "x",
         "hoverlabel": {
          "namelength": 0
         },
         "hovertemplate": "city=Belleville<br>age=%{x}<br>count=%{y}",
         "legendgroup": "Belleville",
         "marker": {
          "color": "#BC7196"
         },
         "name": "Belleville",
         "offsetgroup": "Belleville",
         "orientation": "v",
         "showlegend": true,
         "type": "histogram",
         "x": [
          20,
          80
         ],
         "xaxis": "x",
         "yaxis": "y"
        },
        {
         "alignmentgroup": "True",
         "bingroup": "x",
         "hoverlabel": {
          "namelength": 0
         },
         "hovertemplate": "city=Port Hope<br>age=%{x}<br>count=%{y}",
         "legendgroup": "Port Hope",
         "marker": {
          "color": "#7E7DCD"
         },
         "name": "Port Hope",
         "offsetgroup": "Port Hope",
         "orientation": "v",
         "showlegend": true,
         "type": "histogram",
         "x": [
          60,
          80,
          60,
          70,
          80,
          80
         ],
         "xaxis": "x",
         "yaxis": "y"
        },
        {
         "alignmentgroup": "True",
         "bingroup": "x",
         "hoverlabel": {
          "namelength": 0
         },
         "hovertemplate": "city=Timmins<br>age=%{x}<br>count=%{y}",
         "legendgroup": "Timmins",
         "marker": {
          "color": "#FC6955"
         },
         "name": "Timmins",
         "offsetgroup": "Timmins",
         "orientation": "v",
         "showlegend": true,
         "type": "histogram",
         "x": [
          50
         ],
         "xaxis": "x",
         "yaxis": "y"
        },
        {
         "alignmentgroup": "True",
         "bingroup": "x",
         "hoverlabel": {
          "namelength": 0
         },
         "hovertemplate": "city=Cornwall<br>age=%{x}<br>count=%{y}",
         "legendgroup": "Cornwall",
         "marker": {
          "color": "#E48F72"
         },
         "name": "Cornwall",
         "offsetgroup": "Cornwall",
         "orientation": "v",
         "showlegend": true,
         "type": "histogram",
         "x": [
          30,
          60
         ],
         "xaxis": "x",
         "yaxis": "y"
        },
        {
         "alignmentgroup": "True",
         "bingroup": "x",
         "hoverlabel": {
          "namelength": 0
         },
         "hovertemplate": "city=Windsor<br>age=%{x}<br>count=%{y}",
         "legendgroup": "Windsor",
         "marker": {
          "color": "#FD3216"
         },
         "name": "Windsor",
         "offsetgroup": "Windsor",
         "orientation": "v",
         "showlegend": true,
         "type": "histogram",
         "x": [
          60
         ],
         "xaxis": "x",
         "yaxis": "y"
        }
       ],
       "layout": {
        "bargap": 0.2,
        "bargroupgap": 0.1,
        "barmode": "relative",
        "legend": {
         "title": {
          "text": "city"
         },
         "tracegroupgap": 0
        },
        "margin": {
         "t": 60
        },
        "template": {
         "data": {
          "bar": [
           {
            "error_x": {
             "color": "#2a3f5f"
            },
            "error_y": {
             "color": "#2a3f5f"
            },
            "marker": {
             "line": {
              "color": "#E5ECF6",
              "width": 0.5
             }
            },
            "type": "bar"
           }
          ],
          "barpolar": [
           {
            "marker": {
             "line": {
              "color": "#E5ECF6",
              "width": 0.5
             }
            },
            "type": "barpolar"
           }
          ],
          "carpet": [
           {
            "aaxis": {
             "endlinecolor": "#2a3f5f",
             "gridcolor": "white",
             "linecolor": "white",
             "minorgridcolor": "white",
             "startlinecolor": "#2a3f5f"
            },
            "baxis": {
             "endlinecolor": "#2a3f5f",
             "gridcolor": "white",
             "linecolor": "white",
             "minorgridcolor": "white",
             "startlinecolor": "#2a3f5f"
            },
            "type": "carpet"
           }
          ],
          "choropleth": [
           {
            "colorbar": {
             "outlinewidth": 0,
             "ticks": ""
            },
            "type": "choropleth"
           }
          ],
          "contour": [
           {
            "colorbar": {
             "outlinewidth": 0,
             "ticks": ""
            },
            "colorscale": [
             [
              0,
              "#0d0887"
             ],
             [
              0.1111111111111111,
              "#46039f"
             ],
             [
              0.2222222222222222,
              "#7201a8"
             ],
             [
              0.3333333333333333,
              "#9c179e"
             ],
             [
              0.4444444444444444,
              "#bd3786"
             ],
             [
              0.5555555555555556,
              "#d8576b"
             ],
             [
              0.6666666666666666,
              "#ed7953"
             ],
             [
              0.7777777777777778,
              "#fb9f3a"
             ],
             [
              0.8888888888888888,
              "#fdca26"
             ],
             [
              1,
              "#f0f921"
             ]
            ],
            "type": "contour"
           }
          ],
          "contourcarpet": [
           {
            "colorbar": {
             "outlinewidth": 0,
             "ticks": ""
            },
            "type": "contourcarpet"
           }
          ],
          "heatmap": [
           {
            "colorbar": {
             "outlinewidth": 0,
             "ticks": ""
            },
            "colorscale": [
             [
              0,
              "#0d0887"
             ],
             [
              0.1111111111111111,
              "#46039f"
             ],
             [
              0.2222222222222222,
              "#7201a8"
             ],
             [
              0.3333333333333333,
              "#9c179e"
             ],
             [
              0.4444444444444444,
              "#bd3786"
             ],
             [
              0.5555555555555556,
              "#d8576b"
             ],
             [
              0.6666666666666666,
              "#ed7953"
             ],
             [
              0.7777777777777778,
              "#fb9f3a"
             ],
             [
              0.8888888888888888,
              "#fdca26"
             ],
             [
              1,
              "#f0f921"
             ]
            ],
            "type": "heatmap"
           }
          ],
          "heatmapgl": [
           {
            "colorbar": {
             "outlinewidth": 0,
             "ticks": ""
            },
            "colorscale": [
             [
              0,
              "#0d0887"
             ],
             [
              0.1111111111111111,
              "#46039f"
             ],
             [
              0.2222222222222222,
              "#7201a8"
             ],
             [
              0.3333333333333333,
              "#9c179e"
             ],
             [
              0.4444444444444444,
              "#bd3786"
             ],
             [
              0.5555555555555556,
              "#d8576b"
             ],
             [
              0.6666666666666666,
              "#ed7953"
             ],
             [
              0.7777777777777778,
              "#fb9f3a"
             ],
             [
              0.8888888888888888,
              "#fdca26"
             ],
             [
              1,
              "#f0f921"
             ]
            ],
            "type": "heatmapgl"
           }
          ],
          "histogram": [
           {
            "marker": {
             "colorbar": {
              "outlinewidth": 0,
              "ticks": ""
             }
            },
            "type": "histogram"
           }
          ],
          "histogram2d": [
           {
            "colorbar": {
             "outlinewidth": 0,
             "ticks": ""
            },
            "colorscale": [
             [
              0,
              "#0d0887"
             ],
             [
              0.1111111111111111,
              "#46039f"
             ],
             [
              0.2222222222222222,
              "#7201a8"
             ],
             [
              0.3333333333333333,
              "#9c179e"
             ],
             [
              0.4444444444444444,
              "#bd3786"
             ],
             [
              0.5555555555555556,
              "#d8576b"
             ],
             [
              0.6666666666666666,
              "#ed7953"
             ],
             [
              0.7777777777777778,
              "#fb9f3a"
             ],
             [
              0.8888888888888888,
              "#fdca26"
             ],
             [
              1,
              "#f0f921"
             ]
            ],
            "type": "histogram2d"
           }
          ],
          "histogram2dcontour": [
           {
            "colorbar": {
             "outlinewidth": 0,
             "ticks": ""
            },
            "colorscale": [
             [
              0,
              "#0d0887"
             ],
             [
              0.1111111111111111,
              "#46039f"
             ],
             [
              0.2222222222222222,
              "#7201a8"
             ],
             [
              0.3333333333333333,
              "#9c179e"
             ],
             [
              0.4444444444444444,
              "#bd3786"
             ],
             [
              0.5555555555555556,
              "#d8576b"
             ],
             [
              0.6666666666666666,
              "#ed7953"
             ],
             [
              0.7777777777777778,
              "#fb9f3a"
             ],
             [
              0.8888888888888888,
              "#fdca26"
             ],
             [
              1,
              "#f0f921"
             ]
            ],
            "type": "histogram2dcontour"
           }
          ],
          "mesh3d": [
           {
            "colorbar": {
             "outlinewidth": 0,
             "ticks": ""
            },
            "type": "mesh3d"
           }
          ],
          "parcoords": [
           {
            "line": {
             "colorbar": {
              "outlinewidth": 0,
              "ticks": ""
             }
            },
            "type": "parcoords"
           }
          ],
          "pie": [
           {
            "automargin": true,
            "type": "pie"
           }
          ],
          "scatter": [
           {
            "marker": {
             "colorbar": {
              "outlinewidth": 0,
              "ticks": ""
             }
            },
            "type": "scatter"
           }
          ],
          "scatter3d": [
           {
            "line": {
             "colorbar": {
              "outlinewidth": 0,
              "ticks": ""
             }
            },
            "marker": {
             "colorbar": {
              "outlinewidth": 0,
              "ticks": ""
             }
            },
            "type": "scatter3d"
           }
          ],
          "scattercarpet": [
           {
            "marker": {
             "colorbar": {
              "outlinewidth": 0,
              "ticks": ""
             }
            },
            "type": "scattercarpet"
           }
          ],
          "scattergeo": [
           {
            "marker": {
             "colorbar": {
              "outlinewidth": 0,
              "ticks": ""
             }
            },
            "type": "scattergeo"
           }
          ],
          "scattergl": [
           {
            "marker": {
             "colorbar": {
              "outlinewidth": 0,
              "ticks": ""
             }
            },
            "type": "scattergl"
           }
          ],
          "scattermapbox": [
           {
            "marker": {
             "colorbar": {
              "outlinewidth": 0,
              "ticks": ""
             }
            },
            "type": "scattermapbox"
           }
          ],
          "scatterpolar": [
           {
            "marker": {
             "colorbar": {
              "outlinewidth": 0,
              "ticks": ""
             }
            },
            "type": "scatterpolar"
           }
          ],
          "scatterpolargl": [
           {
            "marker": {
             "colorbar": {
              "outlinewidth": 0,
              "ticks": ""
             }
            },
            "type": "scatterpolargl"
           }
          ],
          "scatterternary": [
           {
            "marker": {
             "colorbar": {
              "outlinewidth": 0,
              "ticks": ""
             }
            },
            "type": "scatterternary"
           }
          ],
          "surface": [
           {
            "colorbar": {
             "outlinewidth": 0,
             "ticks": ""
            },
            "colorscale": [
             [
              0,
              "#0d0887"
             ],
             [
              0.1111111111111111,
              "#46039f"
             ],
             [
              0.2222222222222222,
              "#7201a8"
             ],
             [
              0.3333333333333333,
              "#9c179e"
             ],
             [
              0.4444444444444444,
              "#bd3786"
             ],
             [
              0.5555555555555556,
              "#d8576b"
             ],
             [
              0.6666666666666666,
              "#ed7953"
             ],
             [
              0.7777777777777778,
              "#fb9f3a"
             ],
             [
              0.8888888888888888,
              "#fdca26"
             ],
             [
              1,
              "#f0f921"
             ]
            ],
            "type": "surface"
           }
          ],
          "table": [
           {
            "cells": {
             "fill": {
              "color": "#EBF0F8"
             },
             "line": {
              "color": "white"
             }
            },
            "header": {
             "fill": {
              "color": "#C8D4E3"
             },
             "line": {
              "color": "white"
             }
            },
            "type": "table"
           }
          ]
         },
         "layout": {
          "annotationdefaults": {
           "arrowcolor": "#2a3f5f",
           "arrowhead": 0,
           "arrowwidth": 1
          },
          "coloraxis": {
           "colorbar": {
            "outlinewidth": 0,
            "ticks": ""
           }
          },
          "colorscale": {
           "diverging": [
            [
             0,
             "#8e0152"
            ],
            [
             0.1,
             "#c51b7d"
            ],
            [
             0.2,
             "#de77ae"
            ],
            [
             0.3,
             "#f1b6da"
            ],
            [
             0.4,
             "#fde0ef"
            ],
            [
             0.5,
             "#f7f7f7"
            ],
            [
             0.6,
             "#e6f5d0"
            ],
            [
             0.7,
             "#b8e186"
            ],
            [
             0.8,
             "#7fbc41"
            ],
            [
             0.9,
             "#4d9221"
            ],
            [
             1,
             "#276419"
            ]
           ],
           "sequential": [
            [
             0,
             "#0d0887"
            ],
            [
             0.1111111111111111,
             "#46039f"
            ],
            [
             0.2222222222222222,
             "#7201a8"
            ],
            [
             0.3333333333333333,
             "#9c179e"
            ],
            [
             0.4444444444444444,
             "#bd3786"
            ],
            [
             0.5555555555555556,
             "#d8576b"
            ],
            [
             0.6666666666666666,
             "#ed7953"
            ],
            [
             0.7777777777777778,
             "#fb9f3a"
            ],
            [
             0.8888888888888888,
             "#fdca26"
            ],
            [
             1,
             "#f0f921"
            ]
           ],
           "sequentialminus": [
            [
             0,
             "#0d0887"
            ],
            [
             0.1111111111111111,
             "#46039f"
            ],
            [
             0.2222222222222222,
             "#7201a8"
            ],
            [
             0.3333333333333333,
             "#9c179e"
            ],
            [
             0.4444444444444444,
             "#bd3786"
            ],
            [
             0.5555555555555556,
             "#d8576b"
            ],
            [
             0.6666666666666666,
             "#ed7953"
            ],
            [
             0.7777777777777778,
             "#fb9f3a"
            ],
            [
             0.8888888888888888,
             "#fdca26"
            ],
            [
             1,
             "#f0f921"
            ]
           ]
          },
          "colorway": [
           "#636efa",
           "#EF553B",
           "#00cc96",
           "#ab63fa",
           "#FFA15A",
           "#19d3f3",
           "#FF6692",
           "#B6E880",
           "#FF97FF",
           "#FECB52"
          ],
          "font": {
           "color": "#2a3f5f"
          },
          "geo": {
           "bgcolor": "white",
           "lakecolor": "white",
           "landcolor": "#E5ECF6",
           "showlakes": true,
           "showland": true,
           "subunitcolor": "white"
          },
          "hoverlabel": {
           "align": "left"
          },
          "hovermode": "closest",
          "mapbox": {
           "style": "light"
          },
          "paper_bgcolor": "white",
          "plot_bgcolor": "#E5ECF6",
          "polar": {
           "angularaxis": {
            "gridcolor": "white",
            "linecolor": "white",
            "ticks": ""
           },
           "bgcolor": "#E5ECF6",
           "radialaxis": {
            "gridcolor": "white",
            "linecolor": "white",
            "ticks": ""
           }
          },
          "scene": {
           "xaxis": {
            "backgroundcolor": "#E5ECF6",
            "gridcolor": "white",
            "gridwidth": 2,
            "linecolor": "white",
            "showbackground": true,
            "ticks": "",
            "zerolinecolor": "white"
           },
           "yaxis": {
            "backgroundcolor": "#E5ECF6",
            "gridcolor": "white",
            "gridwidth": 2,
            "linecolor": "white",
            "showbackground": true,
            "ticks": "",
            "zerolinecolor": "white"
           },
           "zaxis": {
            "backgroundcolor": "#E5ECF6",
            "gridcolor": "white",
            "gridwidth": 2,
            "linecolor": "white",
            "showbackground": true,
            "ticks": "",
            "zerolinecolor": "white"
           }
          },
          "shapedefaults": {
           "line": {
            "color": "#2a3f5f"
           }
          },
          "ternary": {
           "aaxis": {
            "gridcolor": "white",
            "linecolor": "white",
            "ticks": ""
           },
           "baxis": {
            "gridcolor": "white",
            "linecolor": "white",
            "ticks": ""
           },
           "bgcolor": "#E5ECF6",
           "caxis": {
            "gridcolor": "white",
            "linecolor": "white",
            "ticks": ""
           }
          },
          "title": {
           "x": 0.05
          },
          "xaxis": {
           "automargin": true,
           "gridcolor": "white",
           "linecolor": "white",
           "ticks": "",
           "title": {
            "standoff": 15
           },
           "zerolinecolor": "white",
           "zerolinewidth": 2
          },
          "yaxis": {
           "automargin": true,
           "gridcolor": "white",
           "linecolor": "white",
           "ticks": "",
           "title": {
            "standoff": 15
           },
           "zerolinecolor": "white",
           "zerolinewidth": 2
          }
         }
        },
        "title": {
         "text": "Male Infected by Age"
        },
        "xaxis": {
         "anchor": "y",
         "domain": [
          0,
          1
         ],
         "title": {
          "text": "Age"
         }
        },
        "yaxis": {
         "anchor": "x",
         "domain": [
          0,
          1
         ],
         "title": {
          "text": "Count"
         }
        }
       }
      },
      "text/html": [
       "<div>\n",
       "        \n",
       "        \n",
       "            <div id=\"9f0333a2-5567-428e-b00a-89e235a23204\" class=\"plotly-graph-div\" style=\"height:525px; width:100%;\"></div>\n",
       "            <script type=\"text/javascript\">\n",
       "                require([\"plotly\"], function(Plotly) {\n",
       "                    window.PLOTLYENV=window.PLOTLYENV || {};\n",
       "                    \n",
       "                if (document.getElementById(\"9f0333a2-5567-428e-b00a-89e235a23204\")) {\n",
       "                    Plotly.newPlot(\n",
       "                        '9f0333a2-5567-428e-b00a-89e235a23204',\n",
       "                        [{\"alignmentgroup\": \"True\", \"bingroup\": \"x\", \"hoverlabel\": {\"namelength\": 0}, \"hovertemplate\": \"city=Toronto<br>age=%{x}<br>count=%{y}\", \"legendgroup\": \"Toronto\", \"marker\": {\"color\": \"#FD3216\"}, \"name\": \"Toronto\", \"offsetgroup\": \"Toronto\", \"orientation\": \"v\", \"showlegend\": true, \"type\": \"histogram\", \"x\": [50, 60, 60, 50, 40, 20, 60, 60, 30, 50, 80, 30, 60, 20, 70, 40, 10, 30, 20, 60, 30, 20, 20, 40, 20, 40, 40, 70, 40, 60, 20, 50, 50, 60, 90, 20, 40], \"xaxis\": \"x\", \"yaxis\": \"y\"}, {\"alignmentgroup\": \"True\", \"bingroup\": \"x\", \"hoverlabel\": {\"namelength\": 0}, \"hovertemplate\": \"city=Scarborough<br>age=%{x}<br>count=%{y}\", \"legendgroup\": \"Scarborough\", \"marker\": {\"color\": \"#00FE35\"}, \"name\": \"Scarborough\", \"offsetgroup\": \"Scarborough\", \"orientation\": \"v\", \"showlegend\": true, \"type\": \"histogram\", \"x\": [80], \"xaxis\": \"x\", \"yaxis\": \"y\"}, {\"alignmentgroup\": \"True\", \"bingroup\": \"x\", \"hoverlabel\": {\"namelength\": 0}, \"hovertemplate\": \"city=Unspecified<br>age=%{x}<br>count=%{y}\", \"legendgroup\": \"Unspecified\", \"marker\": {\"color\": \"#6A76FC\"}, \"name\": \"Unspecified\", \"offsetgroup\": \"Unspecified\", \"orientation\": \"v\", \"showlegend\": true, \"type\": \"histogram\", \"x\": [69, 60], \"xaxis\": \"x\", \"yaxis\": \"y\"}, {\"alignmentgroup\": \"True\", \"bingroup\": \"x\", \"hoverlabel\": {\"namelength\": 0}, \"hovertemplate\": \"city=Richmond Hill<br>age=%{x}<br>count=%{y}\", \"legendgroup\": \"Richmond Hill\", \"marker\": {\"color\": \"#FED4C4\"}, \"name\": \"Richmond Hill\", \"offsetgroup\": \"Richmond Hill\", \"orientation\": \"v\", \"showlegend\": true, \"type\": \"histogram\", \"x\": [50, 40], \"xaxis\": \"x\", \"yaxis\": \"y\"}, {\"alignmentgroup\": \"True\", \"bingroup\": \"x\", \"hoverlabel\": {\"namelength\": 0}, \"hovertemplate\": \"city=York<br>age=%{x}<br>count=%{y}\", \"legendgroup\": \"York\", \"marker\": {\"color\": \"#FE00CE\"}, \"name\": \"York\", \"offsetgroup\": \"York\", \"orientation\": \"v\", \"showlegend\": true, \"type\": \"histogram\", \"x\": [50, 60, 30, 30, 50, 60, 30, 40], \"xaxis\": \"x\", \"yaxis\": \"y\"}, {\"alignmentgroup\": \"True\", \"bingroup\": \"x\", \"hoverlabel\": {\"namelength\": 0}, \"hovertemplate\": \"city=Mississauga<br>age=%{x}<br>count=%{y}\", \"legendgroup\": \"Mississauga\", \"marker\": {\"color\": \"#0DF9FF\"}, \"name\": \"Mississauga\", \"offsetgroup\": \"Mississauga\", \"orientation\": \"v\", \"showlegend\": true, \"type\": \"histogram\", \"x\": [60], \"xaxis\": \"x\", \"yaxis\": \"y\"}, {\"alignmentgroup\": \"True\", \"bingroup\": \"x\", \"hoverlabel\": {\"namelength\": 0}, \"hovertemplate\": \"city=Waterloo<br>age=%{x}<br>count=%{y}\", \"legendgroup\": \"Waterloo\", \"marker\": {\"color\": \"#F6F926\"}, \"name\": \"Waterloo\", \"offsetgroup\": \"Waterloo\", \"orientation\": \"v\", \"showlegend\": true, \"type\": \"histogram\", \"x\": [40, 40, 70, 20, 40], \"xaxis\": \"x\", \"yaxis\": \"y\"}, {\"alignmentgroup\": \"True\", \"bingroup\": \"x\", \"hoverlabel\": {\"namelength\": 0}, \"hovertemplate\": \"city=Whitby<br>age=%{x}<br>count=%{y}\", \"legendgroup\": \"Whitby\", \"marker\": {\"color\": \"#FF9616\"}, \"name\": \"Whitby\", \"offsetgroup\": \"Whitby\", \"orientation\": \"v\", \"showlegend\": true, \"type\": \"histogram\", \"x\": [50, 50, 60, 70, 80, 40, 70], \"xaxis\": \"x\", \"yaxis\": \"y\"}, {\"alignmentgroup\": \"True\", \"bingroup\": \"x\", \"hoverlabel\": {\"namelength\": 0}, \"hovertemplate\": \"city=Guelph<br>age=%{x}<br>count=%{y}\", \"legendgroup\": \"Guelph\", \"marker\": {\"color\": \"#479B55\"}, \"name\": \"Guelph\", \"offsetgroup\": \"Guelph\", \"orientation\": \"v\", \"showlegend\": true, \"type\": \"histogram\", \"x\": [40, 60], \"xaxis\": \"x\", \"yaxis\": \"y\"}, {\"alignmentgroup\": \"True\", \"bingroup\": \"x\", \"hoverlabel\": {\"namelength\": 0}, \"hovertemplate\": \"city=Oakville<br>age=%{x}<br>count=%{y}\", \"legendgroup\": \"Oakville\", \"marker\": {\"color\": \"#EEA6FB\"}, \"name\": \"Oakville\", \"offsetgroup\": \"Oakville\", \"orientation\": \"v\", \"showlegend\": true, \"type\": \"histogram\", \"x\": [30, 40, 50, 50, 50, 40], \"xaxis\": \"x\", \"yaxis\": \"y\"}, {\"alignmentgroup\": \"True\", \"bingroup\": \"x\", \"hoverlabel\": {\"namelength\": 0}, \"hovertemplate\": \"city=Peel<br>age=%{x}<br>count=%{y}\", \"legendgroup\": \"Peel\", \"marker\": {\"color\": \"#DC587D\"}, \"name\": \"Peel\", \"offsetgroup\": \"Peel\", \"orientation\": \"v\", \"showlegend\": true, \"type\": \"histogram\", \"x\": [20, 50, 50, 40, 70, 20, 40, 60, 40, 70], \"xaxis\": \"x\", \"yaxis\": \"y\"}, {\"alignmentgroup\": \"True\", \"bingroup\": \"x\", \"hoverlabel\": {\"namelength\": 0}, \"hovertemplate\": \"city=Hamilton<br>age=%{x}<br>count=%{y}\", \"legendgroup\": \"Hamilton\", \"marker\": {\"color\": \"#D626FF\"}, \"name\": \"Hamilton\", \"offsetgroup\": \"Hamilton\", \"orientation\": \"v\", \"showlegend\": true, \"type\": \"histogram\", \"x\": [70, 50, 40, 50, 60, 70], \"xaxis\": \"x\", \"yaxis\": \"y\"}, {\"alignmentgroup\": \"True\", \"bingroup\": \"x\", \"hoverlabel\": {\"namelength\": 0}, \"hovertemplate\": \"city=Ottawa<br>age=%{x}<br>count=%{y}\", \"legendgroup\": \"Ottawa\", \"marker\": {\"color\": \"#6E899C\"}, \"name\": \"Ottawa\", \"offsetgroup\": \"Ottawa\", \"orientation\": \"v\", \"showlegend\": true, \"type\": \"histogram\", \"x\": [20, 40, 30, 80, 40, 40, 40, 50], \"xaxis\": \"x\", \"yaxis\": \"y\"}, {\"alignmentgroup\": \"True\", \"bingroup\": \"x\", \"hoverlabel\": {\"namelength\": 0}, \"hovertemplate\": \"city=Chatham<br>age=%{x}<br>count=%{y}\", \"legendgroup\": \"Chatham\", \"marker\": {\"color\": \"#00B5F7\"}, \"name\": \"Chatham\", \"offsetgroup\": \"Chatham\", \"orientation\": \"v\", \"showlegend\": true, \"type\": \"histogram\", \"x\": [50], \"xaxis\": \"x\", \"yaxis\": \"y\"}, {\"alignmentgroup\": \"True\", \"bingroup\": \"x\", \"hoverlabel\": {\"namelength\": 0}, \"hovertemplate\": \"city=Owen Sound<br>age=%{x}<br>count=%{y}\", \"legendgroup\": \"Owen Sound\", \"marker\": {\"color\": \"#B68E00\"}, \"name\": \"Owen Sound\", \"offsetgroup\": \"Owen Sound\", \"orientation\": \"v\", \"showlegend\": true, \"type\": \"histogram\", \"x\": [60, 50], \"xaxis\": \"x\", \"yaxis\": \"y\"}, {\"alignmentgroup\": \"True\", \"bingroup\": \"x\", \"hoverlabel\": {\"namelength\": 0}, \"hovertemplate\": \"city=Simcoe<br>age=%{x}<br>count=%{y}\", \"legendgroup\": \"Simcoe\", \"marker\": {\"color\": \"#C9FBE5\"}, \"name\": \"Simcoe\", \"offsetgroup\": \"Simcoe\", \"orientation\": \"v\", \"showlegend\": true, \"type\": \"histogram\", \"x\": [60, 70, 70, 50, 20, 40, 40], \"xaxis\": \"x\", \"yaxis\": \"y\"}, {\"alignmentgroup\": \"True\", \"bingroup\": \"x\", \"hoverlabel\": {\"namelength\": 0}, \"hovertemplate\": \"city=Niagara<br>age=%{x}<br>count=%{y}\", \"legendgroup\": \"Niagara\", \"marker\": {\"color\": \"#FF0092\"}, \"name\": \"Niagara\", \"offsetgroup\": \"Niagara\", \"orientation\": \"v\", \"showlegend\": true, \"type\": \"histogram\", \"x\": [50, 80], \"xaxis\": \"x\", \"yaxis\": \"y\"}, {\"alignmentgroup\": \"True\", \"bingroup\": \"x\", \"hoverlabel\": {\"namelength\": 0}, \"hovertemplate\": \"city=Peterborough<br>age=%{x}<br>count=%{y}\", \"legendgroup\": \"Peterborough\", \"marker\": {\"color\": \"#22FFA7\"}, \"name\": \"Peterborough\", \"offsetgroup\": \"Peterborough\", \"orientation\": \"v\", \"showlegend\": true, \"type\": \"histogram\", \"x\": [30, 30], \"xaxis\": \"x\", \"yaxis\": \"y\"}, {\"alignmentgroup\": \"True\", \"bingroup\": \"x\", \"hoverlabel\": {\"namelength\": 0}, \"hovertemplate\": \"city=Sudbury<br>age=%{x}<br>count=%{y}\", \"legendgroup\": \"Sudbury\", \"marker\": {\"color\": \"#E3EE9E\"}, \"name\": \"Sudbury\", \"offsetgroup\": \"Sudbury\", \"orientation\": \"v\", \"showlegend\": true, \"type\": \"histogram\", \"x\": [50], \"xaxis\": \"x\", \"yaxis\": \"y\"}, {\"alignmentgroup\": \"True\", \"bingroup\": \"x\", \"hoverlabel\": {\"namelength\": 0}, \"hovertemplate\": \"city=Kingston<br>age=%{x}<br>count=%{y}\", \"legendgroup\": \"Kingston\", \"marker\": {\"color\": \"#86CE00\"}, \"name\": \"Kingston\", \"offsetgroup\": \"Kingston\", \"orientation\": \"v\", \"showlegend\": true, \"type\": \"histogram\", \"x\": [40], \"xaxis\": \"x\", \"yaxis\": \"y\"}, {\"alignmentgroup\": \"True\", \"bingroup\": \"x\", \"hoverlabel\": {\"namelength\": 0}, \"hovertemplate\": \"city=Belleville<br>age=%{x}<br>count=%{y}\", \"legendgroup\": \"Belleville\", \"marker\": {\"color\": \"#BC7196\"}, \"name\": \"Belleville\", \"offsetgroup\": \"Belleville\", \"orientation\": \"v\", \"showlegend\": true, \"type\": \"histogram\", \"x\": [20, 80], \"xaxis\": \"x\", \"yaxis\": \"y\"}, {\"alignmentgroup\": \"True\", \"bingroup\": \"x\", \"hoverlabel\": {\"namelength\": 0}, \"hovertemplate\": \"city=Port Hope<br>age=%{x}<br>count=%{y}\", \"legendgroup\": \"Port Hope\", \"marker\": {\"color\": \"#7E7DCD\"}, \"name\": \"Port Hope\", \"offsetgroup\": \"Port Hope\", \"orientation\": \"v\", \"showlegend\": true, \"type\": \"histogram\", \"x\": [60, 80, 60, 70, 80, 80], \"xaxis\": \"x\", \"yaxis\": \"y\"}, {\"alignmentgroup\": \"True\", \"bingroup\": \"x\", \"hoverlabel\": {\"namelength\": 0}, \"hovertemplate\": \"city=Timmins<br>age=%{x}<br>count=%{y}\", \"legendgroup\": \"Timmins\", \"marker\": {\"color\": \"#FC6955\"}, \"name\": \"Timmins\", \"offsetgroup\": \"Timmins\", \"orientation\": \"v\", \"showlegend\": true, \"type\": \"histogram\", \"x\": [50], \"xaxis\": \"x\", \"yaxis\": \"y\"}, {\"alignmentgroup\": \"True\", \"bingroup\": \"x\", \"hoverlabel\": {\"namelength\": 0}, \"hovertemplate\": \"city=Cornwall<br>age=%{x}<br>count=%{y}\", \"legendgroup\": \"Cornwall\", \"marker\": {\"color\": \"#E48F72\"}, \"name\": \"Cornwall\", \"offsetgroup\": \"Cornwall\", \"orientation\": \"v\", \"showlegend\": true, \"type\": \"histogram\", \"x\": [30, 60], \"xaxis\": \"x\", \"yaxis\": \"y\"}, {\"alignmentgroup\": \"True\", \"bingroup\": \"x\", \"hoverlabel\": {\"namelength\": 0}, \"hovertemplate\": \"city=Windsor<br>age=%{x}<br>count=%{y}\", \"legendgroup\": \"Windsor\", \"marker\": {\"color\": \"#FD3216\"}, \"name\": \"Windsor\", \"offsetgroup\": \"Windsor\", \"orientation\": \"v\", \"showlegend\": true, \"type\": \"histogram\", \"x\": [60], \"xaxis\": \"x\", \"yaxis\": \"y\"}],\n",
       "                        {\"bargap\": 0.2, \"bargroupgap\": 0.1, \"barmode\": \"relative\", \"legend\": {\"title\": {\"text\": \"city\"}, \"tracegroupgap\": 0}, \"margin\": {\"t\": 60}, \"template\": {\"data\": {\"bar\": [{\"error_x\": {\"color\": \"#2a3f5f\"}, \"error_y\": {\"color\": \"#2a3f5f\"}, \"marker\": {\"line\": {\"color\": \"#E5ECF6\", \"width\": 0.5}}, \"type\": \"bar\"}], \"barpolar\": [{\"marker\": {\"line\": {\"color\": \"#E5ECF6\", \"width\": 0.5}}, \"type\": \"barpolar\"}], \"carpet\": [{\"aaxis\": {\"endlinecolor\": \"#2a3f5f\", \"gridcolor\": \"white\", \"linecolor\": \"white\", \"minorgridcolor\": \"white\", \"startlinecolor\": \"#2a3f5f\"}, \"baxis\": {\"endlinecolor\": \"#2a3f5f\", \"gridcolor\": \"white\", \"linecolor\": \"white\", \"minorgridcolor\": \"white\", \"startlinecolor\": \"#2a3f5f\"}, \"type\": \"carpet\"}], \"choropleth\": [{\"colorbar\": {\"outlinewidth\": 0, \"ticks\": \"\"}, \"type\": \"choropleth\"}], \"contour\": [{\"colorbar\": {\"outlinewidth\": 0, \"ticks\": \"\"}, \"colorscale\": [[0.0, \"#0d0887\"], [0.1111111111111111, \"#46039f\"], [0.2222222222222222, \"#7201a8\"], [0.3333333333333333, \"#9c179e\"], [0.4444444444444444, \"#bd3786\"], [0.5555555555555556, \"#d8576b\"], [0.6666666666666666, \"#ed7953\"], [0.7777777777777778, \"#fb9f3a\"], [0.8888888888888888, \"#fdca26\"], [1.0, \"#f0f921\"]], \"type\": \"contour\"}], \"contourcarpet\": [{\"colorbar\": {\"outlinewidth\": 0, \"ticks\": \"\"}, \"type\": \"contourcarpet\"}], \"heatmap\": [{\"colorbar\": {\"outlinewidth\": 0, \"ticks\": \"\"}, \"colorscale\": [[0.0, \"#0d0887\"], [0.1111111111111111, \"#46039f\"], [0.2222222222222222, \"#7201a8\"], [0.3333333333333333, \"#9c179e\"], [0.4444444444444444, \"#bd3786\"], [0.5555555555555556, \"#d8576b\"], [0.6666666666666666, \"#ed7953\"], [0.7777777777777778, \"#fb9f3a\"], [0.8888888888888888, \"#fdca26\"], [1.0, \"#f0f921\"]], \"type\": \"heatmap\"}], \"heatmapgl\": [{\"colorbar\": {\"outlinewidth\": 0, \"ticks\": \"\"}, \"colorscale\": [[0.0, \"#0d0887\"], [0.1111111111111111, \"#46039f\"], [0.2222222222222222, \"#7201a8\"], [0.3333333333333333, \"#9c179e\"], [0.4444444444444444, \"#bd3786\"], [0.5555555555555556, \"#d8576b\"], [0.6666666666666666, \"#ed7953\"], [0.7777777777777778, \"#fb9f3a\"], [0.8888888888888888, \"#fdca26\"], [1.0, \"#f0f921\"]], \"type\": \"heatmapgl\"}], \"histogram\": [{\"marker\": {\"colorbar\": {\"outlinewidth\": 0, \"ticks\": \"\"}}, \"type\": \"histogram\"}], \"histogram2d\": [{\"colorbar\": {\"outlinewidth\": 0, \"ticks\": \"\"}, \"colorscale\": [[0.0, \"#0d0887\"], [0.1111111111111111, \"#46039f\"], [0.2222222222222222, \"#7201a8\"], [0.3333333333333333, \"#9c179e\"], [0.4444444444444444, \"#bd3786\"], [0.5555555555555556, \"#d8576b\"], [0.6666666666666666, \"#ed7953\"], [0.7777777777777778, \"#fb9f3a\"], [0.8888888888888888, \"#fdca26\"], [1.0, \"#f0f921\"]], \"type\": \"histogram2d\"}], \"histogram2dcontour\": [{\"colorbar\": {\"outlinewidth\": 0, \"ticks\": \"\"}, \"colorscale\": [[0.0, \"#0d0887\"], [0.1111111111111111, \"#46039f\"], [0.2222222222222222, \"#7201a8\"], [0.3333333333333333, \"#9c179e\"], [0.4444444444444444, \"#bd3786\"], [0.5555555555555556, \"#d8576b\"], [0.6666666666666666, \"#ed7953\"], [0.7777777777777778, \"#fb9f3a\"], [0.8888888888888888, \"#fdca26\"], [1.0, \"#f0f921\"]], \"type\": \"histogram2dcontour\"}], \"mesh3d\": [{\"colorbar\": {\"outlinewidth\": 0, \"ticks\": \"\"}, \"type\": \"mesh3d\"}], \"parcoords\": [{\"line\": {\"colorbar\": {\"outlinewidth\": 0, \"ticks\": \"\"}}, \"type\": \"parcoords\"}], \"pie\": [{\"automargin\": true, \"type\": \"pie\"}], \"scatter\": [{\"marker\": {\"colorbar\": {\"outlinewidth\": 0, \"ticks\": \"\"}}, \"type\": \"scatter\"}], \"scatter3d\": [{\"line\": {\"colorbar\": {\"outlinewidth\": 0, \"ticks\": \"\"}}, \"marker\": {\"colorbar\": {\"outlinewidth\": 0, \"ticks\": \"\"}}, \"type\": \"scatter3d\"}], \"scattercarpet\": [{\"marker\": {\"colorbar\": {\"outlinewidth\": 0, \"ticks\": \"\"}}, \"type\": \"scattercarpet\"}], \"scattergeo\": [{\"marker\": {\"colorbar\": {\"outlinewidth\": 0, \"ticks\": \"\"}}, \"type\": \"scattergeo\"}], \"scattergl\": [{\"marker\": {\"colorbar\": {\"outlinewidth\": 0, \"ticks\": \"\"}}, \"type\": \"scattergl\"}], \"scattermapbox\": [{\"marker\": {\"colorbar\": {\"outlinewidth\": 0, \"ticks\": \"\"}}, \"type\": \"scattermapbox\"}], \"scatterpolar\": [{\"marker\": {\"colorbar\": {\"outlinewidth\": 0, \"ticks\": \"\"}}, \"type\": \"scatterpolar\"}], \"scatterpolargl\": [{\"marker\": {\"colorbar\": {\"outlinewidth\": 0, \"ticks\": \"\"}}, \"type\": \"scatterpolargl\"}], \"scatterternary\": [{\"marker\": {\"colorbar\": {\"outlinewidth\": 0, \"ticks\": \"\"}}, \"type\": \"scatterternary\"}], \"surface\": [{\"colorbar\": {\"outlinewidth\": 0, \"ticks\": \"\"}, \"colorscale\": [[0.0, \"#0d0887\"], [0.1111111111111111, \"#46039f\"], [0.2222222222222222, \"#7201a8\"], [0.3333333333333333, \"#9c179e\"], [0.4444444444444444, \"#bd3786\"], [0.5555555555555556, \"#d8576b\"], [0.6666666666666666, \"#ed7953\"], [0.7777777777777778, \"#fb9f3a\"], [0.8888888888888888, \"#fdca26\"], [1.0, \"#f0f921\"]], \"type\": \"surface\"}], \"table\": [{\"cells\": {\"fill\": {\"color\": \"#EBF0F8\"}, \"line\": {\"color\": \"white\"}}, \"header\": {\"fill\": {\"color\": \"#C8D4E3\"}, \"line\": {\"color\": \"white\"}}, \"type\": \"table\"}]}, \"layout\": {\"annotationdefaults\": {\"arrowcolor\": \"#2a3f5f\", \"arrowhead\": 0, \"arrowwidth\": 1}, \"coloraxis\": {\"colorbar\": {\"outlinewidth\": 0, \"ticks\": \"\"}}, \"colorscale\": {\"diverging\": [[0, \"#8e0152\"], [0.1, \"#c51b7d\"], [0.2, \"#de77ae\"], [0.3, \"#f1b6da\"], [0.4, \"#fde0ef\"], [0.5, \"#f7f7f7\"], [0.6, \"#e6f5d0\"], [0.7, \"#b8e186\"], [0.8, \"#7fbc41\"], [0.9, \"#4d9221\"], [1, \"#276419\"]], \"sequential\": [[0.0, \"#0d0887\"], [0.1111111111111111, \"#46039f\"], [0.2222222222222222, \"#7201a8\"], [0.3333333333333333, \"#9c179e\"], [0.4444444444444444, \"#bd3786\"], [0.5555555555555556, \"#d8576b\"], [0.6666666666666666, \"#ed7953\"], [0.7777777777777778, \"#fb9f3a\"], [0.8888888888888888, \"#fdca26\"], [1.0, \"#f0f921\"]], \"sequentialminus\": [[0.0, \"#0d0887\"], [0.1111111111111111, \"#46039f\"], [0.2222222222222222, \"#7201a8\"], [0.3333333333333333, \"#9c179e\"], [0.4444444444444444, \"#bd3786\"], [0.5555555555555556, \"#d8576b\"], [0.6666666666666666, \"#ed7953\"], [0.7777777777777778, \"#fb9f3a\"], [0.8888888888888888, \"#fdca26\"], [1.0, \"#f0f921\"]]}, \"colorway\": [\"#636efa\", \"#EF553B\", \"#00cc96\", \"#ab63fa\", \"#FFA15A\", \"#19d3f3\", \"#FF6692\", \"#B6E880\", \"#FF97FF\", \"#FECB52\"], \"font\": {\"color\": \"#2a3f5f\"}, \"geo\": {\"bgcolor\": \"white\", \"lakecolor\": \"white\", \"landcolor\": \"#E5ECF6\", \"showlakes\": true, \"showland\": true, \"subunitcolor\": \"white\"}, \"hoverlabel\": {\"align\": \"left\"}, \"hovermode\": \"closest\", \"mapbox\": {\"style\": \"light\"}, \"paper_bgcolor\": \"white\", \"plot_bgcolor\": \"#E5ECF6\", \"polar\": {\"angularaxis\": {\"gridcolor\": \"white\", \"linecolor\": \"white\", \"ticks\": \"\"}, \"bgcolor\": \"#E5ECF6\", \"radialaxis\": {\"gridcolor\": \"white\", \"linecolor\": \"white\", \"ticks\": \"\"}}, \"scene\": {\"xaxis\": {\"backgroundcolor\": \"#E5ECF6\", \"gridcolor\": \"white\", \"gridwidth\": 2, \"linecolor\": \"white\", \"showbackground\": true, \"ticks\": \"\", \"zerolinecolor\": \"white\"}, \"yaxis\": {\"backgroundcolor\": \"#E5ECF6\", \"gridcolor\": \"white\", \"gridwidth\": 2, \"linecolor\": \"white\", \"showbackground\": true, \"ticks\": \"\", \"zerolinecolor\": \"white\"}, \"zaxis\": {\"backgroundcolor\": \"#E5ECF6\", \"gridcolor\": \"white\", \"gridwidth\": 2, \"linecolor\": \"white\", \"showbackground\": true, \"ticks\": \"\", \"zerolinecolor\": \"white\"}}, \"shapedefaults\": {\"line\": {\"color\": \"#2a3f5f\"}}, \"ternary\": {\"aaxis\": {\"gridcolor\": \"white\", \"linecolor\": \"white\", \"ticks\": \"\"}, \"baxis\": {\"gridcolor\": \"white\", \"linecolor\": \"white\", \"ticks\": \"\"}, \"bgcolor\": \"#E5ECF6\", \"caxis\": {\"gridcolor\": \"white\", \"linecolor\": \"white\", \"ticks\": \"\"}}, \"title\": {\"x\": 0.05}, \"xaxis\": {\"automargin\": true, \"gridcolor\": \"white\", \"linecolor\": \"white\", \"ticks\": \"\", \"title\": {\"standoff\": 15}, \"zerolinecolor\": \"white\", \"zerolinewidth\": 2}, \"yaxis\": {\"automargin\": true, \"gridcolor\": \"white\", \"linecolor\": \"white\", \"ticks\": \"\", \"title\": {\"standoff\": 15}, \"zerolinecolor\": \"white\", \"zerolinewidth\": 2}}}, \"title\": {\"text\": \"Male Infected by Age\"}, \"xaxis\": {\"anchor\": \"y\", \"domain\": [0.0, 1.0], \"title\": {\"text\": \"Age\"}}, \"yaxis\": {\"anchor\": \"x\", \"domain\": [0.0, 1.0], \"title\": {\"text\": \"Count\"}}},\n",
       "                        {\"responsive\": true}\n",
       "                    ).then(function(){\n",
       "                            \n",
       "var gd = document.getElementById('9f0333a2-5567-428e-b00a-89e235a23204');\n",
       "var x = new MutationObserver(function (mutations, observer) {{\n",
       "        var display = window.getComputedStyle(gd).display;\n",
       "        if (!display || display === 'none') {{\n",
       "            console.log([gd, 'removed!']);\n",
       "            Plotly.purge(gd);\n",
       "            observer.disconnect();\n",
       "        }}\n",
       "}});\n",
       "\n",
       "// Listen for the removal of the full notebook cells\n",
       "var notebookContainer = gd.closest('#notebook-container');\n",
       "if (notebookContainer) {{\n",
       "    x.observe(notebookContainer, {childList: true});\n",
       "}}\n",
       "\n",
       "// Listen for the clearing of the current output cell\n",
       "var outputEl = gd.closest('.output');\n",
       "if (outputEl) {{\n",
       "    x.observe(outputEl, {childList: true});\n",
       "}}\n",
       "\n",
       "                        })\n",
       "                };\n",
       "                });\n",
       "            </script>\n",
       "        </div>"
      ]
     },
     "metadata": {},
     "output_type": "display_data"
    }
   ],
   "source": [
    "fig = px.histogram(male, x=\"age\", color = \"city\", color_discrete_sequence= px.colors.qualitative.Light24)\n",
    "fig.update_layout(\n",
    "    title_text='Male Infected by Age', # title of plot\n",
    "    xaxis_title_text='Age', # xaxis label\n",
    "    yaxis_title_text='Count', # yaxis label\n",
    "     bargap=0.2, # gap between bars of adjacent location coordinates\n",
    "     bargroupgap=0.1 # gap between bars of the same location coordinates\n",
    ")\n",
    "\n",
    "fig.show()"
   ]
  },
  {
   "cell_type": "code",
   "execution_count": 40,
   "metadata": {},
   "outputs": [
    {
     "data": {
      "application/vnd.plotly.v1+json": {
       "config": {
        "plotlyServerURL": "https://plot.ly"
       },
       "data": [
        {
         "alignmentgroup": "True",
         "bingroup": "x",
         "hoverlabel": {
          "namelength": 0
         },
         "hovertemplate": "city=London<br>age=%{x}<br>count=%{y}",
         "legendgroup": "London",
         "marker": {
          "color": "#FD3216"
         },
         "name": "London",
         "offsetgroup": "London",
         "orientation": "v",
         "showlegend": true,
         "type": "histogram",
         "x": [
          20,
          50,
          60,
          20,
          40
         ],
         "xaxis": "x",
         "yaxis": "y"
        },
        {
         "alignmentgroup": "True",
         "bingroup": "x",
         "hoverlabel": {
          "namelength": 0
         },
         "hovertemplate": "city=Toronto<br>age=%{x}<br>count=%{y}",
         "legendgroup": "Toronto",
         "marker": {
          "color": "#00FE35"
         },
         "name": "Toronto",
         "offsetgroup": "Toronto",
         "orientation": "v",
         "showlegend": true,
         "type": "histogram",
         "x": [
          60,
          40,
          50,
          70,
          50,
          20,
          60,
          40,
          50,
          30,
          20,
          30,
          70,
          20,
          60,
          40,
          20,
          20,
          90,
          30,
          40,
          20
         ],
         "xaxis": "x",
         "yaxis": "y"
        },
        {
         "alignmentgroup": "True",
         "bingroup": "x",
         "hoverlabel": {
          "namelength": 0
         },
         "hovertemplate": "city=Richmond Hill<br>age=%{x}<br>count=%{y}",
         "legendgroup": "Richmond Hill",
         "marker": {
          "color": "#6A76FC"
         },
         "name": "Richmond Hill",
         "offsetgroup": "Richmond Hill",
         "orientation": "v",
         "showlegend": true,
         "type": "histogram",
         "x": [
          34,
          70
         ],
         "xaxis": "x",
         "yaxis": "y"
        },
        {
         "alignmentgroup": "True",
         "bingroup": "x",
         "hoverlabel": {
          "namelength": 0
         },
         "hovertemplate": "city=Ajax<br>age=%{x}<br>count=%{y}",
         "legendgroup": "Ajax",
         "marker": {
          "color": "#FED4C4"
         },
         "name": "Ajax",
         "offsetgroup": "Ajax",
         "orientation": "v",
         "showlegend": true,
         "type": "histogram",
         "x": [
          51
         ],
         "xaxis": "x",
         "yaxis": "y"
        },
        {
         "alignmentgroup": "True",
         "bingroup": "x",
         "hoverlabel": {
          "namelength": 0
         },
         "hovertemplate": "city=Newmarket<br>age=%{x}<br>count=%{y}",
         "legendgroup": "Newmarket",
         "marker": {
          "color": "#FE00CE"
         },
         "name": "Newmarket",
         "offsetgroup": "Newmarket",
         "orientation": "v",
         "showlegend": true,
         "type": "histogram",
         "x": [
          70
         ],
         "xaxis": "x",
         "yaxis": "y"
        },
        {
         "alignmentgroup": "True",
         "bingroup": "x",
         "hoverlabel": {
          "namelength": 0
         },
         "hovertemplate": "city=Unspecified<br>age=%{x}<br>count=%{y}",
         "legendgroup": "Unspecified",
         "marker": {
          "color": "#0DF9FF"
         },
         "name": "Unspecified",
         "offsetgroup": "Unspecified",
         "orientation": "v",
         "showlegend": true,
         "type": "histogram",
         "x": [
          60,
          70,
          60
         ],
         "xaxis": "x",
         "yaxis": "y"
        },
        {
         "alignmentgroup": "True",
         "bingroup": "x",
         "hoverlabel": {
          "namelength": 0
         },
         "hovertemplate": "city=Kitchener<br>age=%{x}<br>count=%{y}",
         "legendgroup": "Kitchener",
         "marker": {
          "color": "#F6F926"
         },
         "name": "Kitchener",
         "offsetgroup": "Kitchener",
         "orientation": "v",
         "showlegend": true,
         "type": "histogram",
         "x": [
          50
         ],
         "xaxis": "x",
         "yaxis": "y"
        },
        {
         "alignmentgroup": "True",
         "bingroup": "x",
         "hoverlabel": {
          "namelength": 0
         },
         "hovertemplate": "city=Mississauga<br>age=%{x}<br>count=%{y}",
         "legendgroup": "Mississauga",
         "marker": {
          "color": "#FF9616"
         },
         "name": "Mississauga",
         "offsetgroup": "Mississauga",
         "orientation": "v",
         "showlegend": true,
         "type": "histogram",
         "x": [
          60
         ],
         "xaxis": "x",
         "yaxis": "y"
        },
        {
         "alignmentgroup": "True",
         "bingroup": "x",
         "hoverlabel": {
          "namelength": 0
         },
         "hovertemplate": "city=Scarborough<br>age=%{x}<br>count=%{y}",
         "legendgroup": "Scarborough",
         "marker": {
          "color": "#479B55"
         },
         "name": "Scarborough",
         "offsetgroup": "Scarborough",
         "orientation": "v",
         "showlegend": true,
         "type": "histogram",
         "x": [
          60
         ],
         "xaxis": "x",
         "yaxis": "y"
        },
        {
         "alignmentgroup": "True",
         "bingroup": "x",
         "hoverlabel": {
          "namelength": 0
         },
         "hovertemplate": "city=Whitby<br>age=%{x}<br>count=%{y}",
         "legendgroup": "Whitby",
         "marker": {
          "color": "#EEA6FB"
         },
         "name": "Whitby",
         "offsetgroup": "Whitby",
         "orientation": "v",
         "showlegend": true,
         "type": "histogram",
         "x": [
          70,
          60,
          70,
          90,
          80,
          50,
          70
         ],
         "xaxis": "x",
         "yaxis": "y"
        },
        {
         "alignmentgroup": "True",
         "bingroup": "x",
         "hoverlabel": {
          "namelength": 0
         },
         "hovertemplate": "city=Port Hope<br>age=%{x}<br>count=%{y}",
         "legendgroup": "Port Hope",
         "marker": {
          "color": "#DC587D"
         },
         "name": "Port Hope",
         "offsetgroup": "Port Hope",
         "orientation": "v",
         "showlegend": true,
         "type": "histogram",
         "x": [
          60,
          60,
          90
         ],
         "xaxis": "x",
         "yaxis": "y"
        },
        {
         "alignmentgroup": "True",
         "bingroup": "x",
         "hoverlabel": {
          "namelength": 0
         },
         "hovertemplate": "city=Oakville<br>age=%{x}<br>count=%{y}",
         "legendgroup": "Oakville",
         "marker": {
          "color": "#D626FF"
         },
         "name": "Oakville",
         "offsetgroup": "Oakville",
         "orientation": "v",
         "showlegend": true,
         "type": "histogram",
         "x": [
          50,
          50,
          50,
          50,
          30,
          40,
          50
         ],
         "xaxis": "x",
         "yaxis": "y"
        },
        {
         "alignmentgroup": "True",
         "bingroup": "x",
         "hoverlabel": {
          "namelength": 0
         },
         "hovertemplate": "city=Cornwall<br>age=%{x}<br>count=%{y}",
         "legendgroup": "Cornwall",
         "marker": {
          "color": "#6E899C"
         },
         "name": "Cornwall",
         "offsetgroup": "Cornwall",
         "orientation": "v",
         "showlegend": true,
         "type": "histogram",
         "x": [
          30,
          60
         ],
         "xaxis": "x",
         "yaxis": "y"
        },
        {
         "alignmentgroup": "True",
         "bingroup": "x",
         "hoverlabel": {
          "namelength": 0
         },
         "hovertemplate": "city=Sudbury<br>age=%{x}<br>count=%{y}",
         "legendgroup": "Sudbury",
         "marker": {
          "color": "#00B5F7"
         },
         "name": "Sudbury",
         "offsetgroup": "Sudbury",
         "orientation": "v",
         "showlegend": true,
         "type": "histogram",
         "x": [
          50,
          40
         ],
         "xaxis": "x",
         "yaxis": "y"
        },
        {
         "alignmentgroup": "True",
         "bingroup": "x",
         "hoverlabel": {
          "namelength": 0
         },
         "hovertemplate": "city=York<br>age=%{x}<br>count=%{y}",
         "legendgroup": "York",
         "marker": {
          "color": "#B68E00"
         },
         "name": "York",
         "offsetgroup": "York",
         "orientation": "v",
         "showlegend": true,
         "type": "histogram",
         "x": [
          20,
          30,
          50,
          40,
          40,
          70,
          20,
          30,
          50,
          60
         ],
         "xaxis": "x",
         "yaxis": "y"
        },
        {
         "alignmentgroup": "True",
         "bingroup": "x",
         "hoverlabel": {
          "namelength": 0
         },
         "hovertemplate": "city=Peel<br>age=%{x}<br>count=%{y}",
         "legendgroup": "Peel",
         "marker": {
          "color": "#C9FBE5"
         },
         "name": "Peel",
         "offsetgroup": "Peel",
         "orientation": "v",
         "showlegend": true,
         "type": "histogram",
         "x": [
          60,
          40,
          50,
          50,
          10,
          20,
          20,
          50,
          50,
          50,
          30,
          20,
          60,
          20,
          80
         ],
         "xaxis": "x",
         "yaxis": "y"
        },
        {
         "alignmentgroup": "True",
         "bingroup": "x",
         "hoverlabel": {
          "namelength": 0
         },
         "hovertemplate": "city=Waterloo<br>age=%{x}<br>count=%{y}",
         "legendgroup": "Waterloo",
         "marker": {
          "color": "#FF0092"
         },
         "name": "Waterloo",
         "offsetgroup": "Waterloo",
         "orientation": "v",
         "showlegend": true,
         "type": "histogram",
         "x": [
          40,
          60,
          20,
          50,
          20,
          20,
          50
         ],
         "xaxis": "x",
         "yaxis": "y"
        },
        {
         "alignmentgroup": "True",
         "bingroup": "x",
         "hoverlabel": {
          "namelength": 0
         },
         "hovertemplate": "city=Hamilton<br>age=%{x}<br>count=%{y}",
         "legendgroup": "Hamilton",
         "marker": {
          "color": "#22FFA7"
         },
         "name": "Hamilton",
         "offsetgroup": "Hamilton",
         "orientation": "v",
         "showlegend": true,
         "type": "histogram",
         "x": [
          30,
          70,
          60,
          20,
          70
         ],
         "xaxis": "x",
         "yaxis": "y"
        },
        {
         "alignmentgroup": "True",
         "bingroup": "x",
         "hoverlabel": {
          "namelength": 0
         },
         "hovertemplate": "city=Brantford<br>age=%{x}<br>count=%{y}",
         "legendgroup": "Brantford",
         "marker": {
          "color": "#E3EE9E"
         },
         "name": "Brantford",
         "offsetgroup": "Brantford",
         "orientation": "v",
         "showlegend": true,
         "type": "histogram",
         "x": [
          40
         ],
         "xaxis": "x",
         "yaxis": "y"
        },
        {
         "alignmentgroup": "True",
         "bingroup": "x",
         "hoverlabel": {
          "namelength": 0
         },
         "hovertemplate": "city=Sault Ste. Marie<br>age=%{x}<br>count=%{y}",
         "legendgroup": "Sault Ste. Marie",
         "marker": {
          "color": "#86CE00"
         },
         "name": "Sault Ste. Marie",
         "offsetgroup": "Sault Ste. Marie",
         "orientation": "v",
         "showlegend": true,
         "type": "histogram",
         "x": [
          50
         ],
         "xaxis": "x",
         "yaxis": "y"
        },
        {
         "alignmentgroup": "True",
         "bingroup": "x",
         "hoverlabel": {
          "namelength": 0
         },
         "hovertemplate": "city=Chatham<br>age=%{x}<br>count=%{y}",
         "legendgroup": "Chatham",
         "marker": {
          "color": "#BC7196"
         },
         "name": "Chatham",
         "offsetgroup": "Chatham",
         "orientation": "v",
         "showlegend": true,
         "type": "histogram",
         "x": [
          80
         ],
         "xaxis": "x",
         "yaxis": "y"
        },
        {
         "alignmentgroup": "True",
         "bingroup": "x",
         "hoverlabel": {
          "namelength": 0
         },
         "hovertemplate": "city=Niagara<br>age=%{x}<br>count=%{y}",
         "legendgroup": "Niagara",
         "marker": {
          "color": "#7E7DCD"
         },
         "name": "Niagara",
         "offsetgroup": "Niagara",
         "orientation": "v",
         "showlegend": true,
         "type": "histogram",
         "x": [
          50
         ],
         "xaxis": "x",
         "yaxis": "y"
        },
        {
         "alignmentgroup": "True",
         "bingroup": "x",
         "hoverlabel": {
          "namelength": 0
         },
         "hovertemplate": "city=Simcoe<br>age=%{x}<br>count=%{y}",
         "legendgroup": "Simcoe",
         "marker": {
          "color": "#FC6955"
         },
         "name": "Simcoe",
         "offsetgroup": "Simcoe",
         "orientation": "v",
         "showlegend": true,
         "type": "histogram",
         "x": [
          40,
          60
         ],
         "xaxis": "x",
         "yaxis": "y"
        },
        {
         "alignmentgroup": "True",
         "bingroup": "x",
         "hoverlabel": {
          "namelength": 0
         },
         "hovertemplate": "city=Owen Sound<br>age=%{x}<br>count=%{y}",
         "legendgroup": "Owen Sound",
         "marker": {
          "color": "#E48F72"
         },
         "name": "Owen Sound",
         "offsetgroup": "Owen Sound",
         "orientation": "v",
         "showlegend": true,
         "type": "histogram",
         "x": [
          50
         ],
         "xaxis": "x",
         "yaxis": "y"
        },
        {
         "alignmentgroup": "True",
         "bingroup": "x",
         "hoverlabel": {
          "namelength": 0
         },
         "hovertemplate": "city=Kingston<br>age=%{x}<br>count=%{y}",
         "legendgroup": "Kingston",
         "marker": {
          "color": "#FD3216"
         },
         "name": "Kingston",
         "offsetgroup": "Kingston",
         "orientation": "v",
         "showlegend": true,
         "type": "histogram",
         "x": [
          40,
          60,
          70
         ],
         "xaxis": "x",
         "yaxis": "y"
        },
        {
         "alignmentgroup": "True",
         "bingroup": "x",
         "hoverlabel": {
          "namelength": 0
         },
         "hovertemplate": "city=Ottawa<br>age=%{x}<br>count=%{y}",
         "legendgroup": "Ottawa",
         "marker": {
          "color": "#00FE35"
         },
         "name": "Ottawa",
         "offsetgroup": "Ottawa",
         "orientation": "v",
         "showlegend": true,
         "type": "histogram",
         "x": [
          40,
          20,
          60,
          40,
          10,
          50
         ],
         "xaxis": "x",
         "yaxis": "y"
        },
        {
         "alignmentgroup": "True",
         "bingroup": "x",
         "hoverlabel": {
          "namelength": 0
         },
         "hovertemplate": "city=Belleville<br>age=%{x}<br>count=%{y}",
         "legendgroup": "Belleville",
         "marker": {
          "color": "#6A76FC"
         },
         "name": "Belleville",
         "offsetgroup": "Belleville",
         "orientation": "v",
         "showlegend": true,
         "type": "histogram",
         "x": [
          20
         ],
         "xaxis": "x",
         "yaxis": "y"
        }
       ],
       "layout": {
        "bargap": 0.2,
        "barmode": "relative",
        "legend": {
         "title": {
          "text": "city"
         },
         "tracegroupgap": 0
        },
        "margin": {
         "t": 60
        },
        "template": {
         "data": {
          "bar": [
           {
            "error_x": {
             "color": "#2a3f5f"
            },
            "error_y": {
             "color": "#2a3f5f"
            },
            "marker": {
             "line": {
              "color": "#E5ECF6",
              "width": 0.5
             }
            },
            "type": "bar"
           }
          ],
          "barpolar": [
           {
            "marker": {
             "line": {
              "color": "#E5ECF6",
              "width": 0.5
             }
            },
            "type": "barpolar"
           }
          ],
          "carpet": [
           {
            "aaxis": {
             "endlinecolor": "#2a3f5f",
             "gridcolor": "white",
             "linecolor": "white",
             "minorgridcolor": "white",
             "startlinecolor": "#2a3f5f"
            },
            "baxis": {
             "endlinecolor": "#2a3f5f",
             "gridcolor": "white",
             "linecolor": "white",
             "minorgridcolor": "white",
             "startlinecolor": "#2a3f5f"
            },
            "type": "carpet"
           }
          ],
          "choropleth": [
           {
            "colorbar": {
             "outlinewidth": 0,
             "ticks": ""
            },
            "type": "choropleth"
           }
          ],
          "contour": [
           {
            "colorbar": {
             "outlinewidth": 0,
             "ticks": ""
            },
            "colorscale": [
             [
              0,
              "#0d0887"
             ],
             [
              0.1111111111111111,
              "#46039f"
             ],
             [
              0.2222222222222222,
              "#7201a8"
             ],
             [
              0.3333333333333333,
              "#9c179e"
             ],
             [
              0.4444444444444444,
              "#bd3786"
             ],
             [
              0.5555555555555556,
              "#d8576b"
             ],
             [
              0.6666666666666666,
              "#ed7953"
             ],
             [
              0.7777777777777778,
              "#fb9f3a"
             ],
             [
              0.8888888888888888,
              "#fdca26"
             ],
             [
              1,
              "#f0f921"
             ]
            ],
            "type": "contour"
           }
          ],
          "contourcarpet": [
           {
            "colorbar": {
             "outlinewidth": 0,
             "ticks": ""
            },
            "type": "contourcarpet"
           }
          ],
          "heatmap": [
           {
            "colorbar": {
             "outlinewidth": 0,
             "ticks": ""
            },
            "colorscale": [
             [
              0,
              "#0d0887"
             ],
             [
              0.1111111111111111,
              "#46039f"
             ],
             [
              0.2222222222222222,
              "#7201a8"
             ],
             [
              0.3333333333333333,
              "#9c179e"
             ],
             [
              0.4444444444444444,
              "#bd3786"
             ],
             [
              0.5555555555555556,
              "#d8576b"
             ],
             [
              0.6666666666666666,
              "#ed7953"
             ],
             [
              0.7777777777777778,
              "#fb9f3a"
             ],
             [
              0.8888888888888888,
              "#fdca26"
             ],
             [
              1,
              "#f0f921"
             ]
            ],
            "type": "heatmap"
           }
          ],
          "heatmapgl": [
           {
            "colorbar": {
             "outlinewidth": 0,
             "ticks": ""
            },
            "colorscale": [
             [
              0,
              "#0d0887"
             ],
             [
              0.1111111111111111,
              "#46039f"
             ],
             [
              0.2222222222222222,
              "#7201a8"
             ],
             [
              0.3333333333333333,
              "#9c179e"
             ],
             [
              0.4444444444444444,
              "#bd3786"
             ],
             [
              0.5555555555555556,
              "#d8576b"
             ],
             [
              0.6666666666666666,
              "#ed7953"
             ],
             [
              0.7777777777777778,
              "#fb9f3a"
             ],
             [
              0.8888888888888888,
              "#fdca26"
             ],
             [
              1,
              "#f0f921"
             ]
            ],
            "type": "heatmapgl"
           }
          ],
          "histogram": [
           {
            "marker": {
             "colorbar": {
              "outlinewidth": 0,
              "ticks": ""
             }
            },
            "type": "histogram"
           }
          ],
          "histogram2d": [
           {
            "colorbar": {
             "outlinewidth": 0,
             "ticks": ""
            },
            "colorscale": [
             [
              0,
              "#0d0887"
             ],
             [
              0.1111111111111111,
              "#46039f"
             ],
             [
              0.2222222222222222,
              "#7201a8"
             ],
             [
              0.3333333333333333,
              "#9c179e"
             ],
             [
              0.4444444444444444,
              "#bd3786"
             ],
             [
              0.5555555555555556,
              "#d8576b"
             ],
             [
              0.6666666666666666,
              "#ed7953"
             ],
             [
              0.7777777777777778,
              "#fb9f3a"
             ],
             [
              0.8888888888888888,
              "#fdca26"
             ],
             [
              1,
              "#f0f921"
             ]
            ],
            "type": "histogram2d"
           }
          ],
          "histogram2dcontour": [
           {
            "colorbar": {
             "outlinewidth": 0,
             "ticks": ""
            },
            "colorscale": [
             [
              0,
              "#0d0887"
             ],
             [
              0.1111111111111111,
              "#46039f"
             ],
             [
              0.2222222222222222,
              "#7201a8"
             ],
             [
              0.3333333333333333,
              "#9c179e"
             ],
             [
              0.4444444444444444,
              "#bd3786"
             ],
             [
              0.5555555555555556,
              "#d8576b"
             ],
             [
              0.6666666666666666,
              "#ed7953"
             ],
             [
              0.7777777777777778,
              "#fb9f3a"
             ],
             [
              0.8888888888888888,
              "#fdca26"
             ],
             [
              1,
              "#f0f921"
             ]
            ],
            "type": "histogram2dcontour"
           }
          ],
          "mesh3d": [
           {
            "colorbar": {
             "outlinewidth": 0,
             "ticks": ""
            },
            "type": "mesh3d"
           }
          ],
          "parcoords": [
           {
            "line": {
             "colorbar": {
              "outlinewidth": 0,
              "ticks": ""
             }
            },
            "type": "parcoords"
           }
          ],
          "pie": [
           {
            "automargin": true,
            "type": "pie"
           }
          ],
          "scatter": [
           {
            "marker": {
             "colorbar": {
              "outlinewidth": 0,
              "ticks": ""
             }
            },
            "type": "scatter"
           }
          ],
          "scatter3d": [
           {
            "line": {
             "colorbar": {
              "outlinewidth": 0,
              "ticks": ""
             }
            },
            "marker": {
             "colorbar": {
              "outlinewidth": 0,
              "ticks": ""
             }
            },
            "type": "scatter3d"
           }
          ],
          "scattercarpet": [
           {
            "marker": {
             "colorbar": {
              "outlinewidth": 0,
              "ticks": ""
             }
            },
            "type": "scattercarpet"
           }
          ],
          "scattergeo": [
           {
            "marker": {
             "colorbar": {
              "outlinewidth": 0,
              "ticks": ""
             }
            },
            "type": "scattergeo"
           }
          ],
          "scattergl": [
           {
            "marker": {
             "colorbar": {
              "outlinewidth": 0,
              "ticks": ""
             }
            },
            "type": "scattergl"
           }
          ],
          "scattermapbox": [
           {
            "marker": {
             "colorbar": {
              "outlinewidth": 0,
              "ticks": ""
             }
            },
            "type": "scattermapbox"
           }
          ],
          "scatterpolar": [
           {
            "marker": {
             "colorbar": {
              "outlinewidth": 0,
              "ticks": ""
             }
            },
            "type": "scatterpolar"
           }
          ],
          "scatterpolargl": [
           {
            "marker": {
             "colorbar": {
              "outlinewidth": 0,
              "ticks": ""
             }
            },
            "type": "scatterpolargl"
           }
          ],
          "scatterternary": [
           {
            "marker": {
             "colorbar": {
              "outlinewidth": 0,
              "ticks": ""
             }
            },
            "type": "scatterternary"
           }
          ],
          "surface": [
           {
            "colorbar": {
             "outlinewidth": 0,
             "ticks": ""
            },
            "colorscale": [
             [
              0,
              "#0d0887"
             ],
             [
              0.1111111111111111,
              "#46039f"
             ],
             [
              0.2222222222222222,
              "#7201a8"
             ],
             [
              0.3333333333333333,
              "#9c179e"
             ],
             [
              0.4444444444444444,
              "#bd3786"
             ],
             [
              0.5555555555555556,
              "#d8576b"
             ],
             [
              0.6666666666666666,
              "#ed7953"
             ],
             [
              0.7777777777777778,
              "#fb9f3a"
             ],
             [
              0.8888888888888888,
              "#fdca26"
             ],
             [
              1,
              "#f0f921"
             ]
            ],
            "type": "surface"
           }
          ],
          "table": [
           {
            "cells": {
             "fill": {
              "color": "#EBF0F8"
             },
             "line": {
              "color": "white"
             }
            },
            "header": {
             "fill": {
              "color": "#C8D4E3"
             },
             "line": {
              "color": "white"
             }
            },
            "type": "table"
           }
          ]
         },
         "layout": {
          "annotationdefaults": {
           "arrowcolor": "#2a3f5f",
           "arrowhead": 0,
           "arrowwidth": 1
          },
          "coloraxis": {
           "colorbar": {
            "outlinewidth": 0,
            "ticks": ""
           }
          },
          "colorscale": {
           "diverging": [
            [
             0,
             "#8e0152"
            ],
            [
             0.1,
             "#c51b7d"
            ],
            [
             0.2,
             "#de77ae"
            ],
            [
             0.3,
             "#f1b6da"
            ],
            [
             0.4,
             "#fde0ef"
            ],
            [
             0.5,
             "#f7f7f7"
            ],
            [
             0.6,
             "#e6f5d0"
            ],
            [
             0.7,
             "#b8e186"
            ],
            [
             0.8,
             "#7fbc41"
            ],
            [
             0.9,
             "#4d9221"
            ],
            [
             1,
             "#276419"
            ]
           ],
           "sequential": [
            [
             0,
             "#0d0887"
            ],
            [
             0.1111111111111111,
             "#46039f"
            ],
            [
             0.2222222222222222,
             "#7201a8"
            ],
            [
             0.3333333333333333,
             "#9c179e"
            ],
            [
             0.4444444444444444,
             "#bd3786"
            ],
            [
             0.5555555555555556,
             "#d8576b"
            ],
            [
             0.6666666666666666,
             "#ed7953"
            ],
            [
             0.7777777777777778,
             "#fb9f3a"
            ],
            [
             0.8888888888888888,
             "#fdca26"
            ],
            [
             1,
             "#f0f921"
            ]
           ],
           "sequentialminus": [
            [
             0,
             "#0d0887"
            ],
            [
             0.1111111111111111,
             "#46039f"
            ],
            [
             0.2222222222222222,
             "#7201a8"
            ],
            [
             0.3333333333333333,
             "#9c179e"
            ],
            [
             0.4444444444444444,
             "#bd3786"
            ],
            [
             0.5555555555555556,
             "#d8576b"
            ],
            [
             0.6666666666666666,
             "#ed7953"
            ],
            [
             0.7777777777777778,
             "#fb9f3a"
            ],
            [
             0.8888888888888888,
             "#fdca26"
            ],
            [
             1,
             "#f0f921"
            ]
           ]
          },
          "colorway": [
           "#636efa",
           "#EF553B",
           "#00cc96",
           "#ab63fa",
           "#FFA15A",
           "#19d3f3",
           "#FF6692",
           "#B6E880",
           "#FF97FF",
           "#FECB52"
          ],
          "font": {
           "color": "#2a3f5f"
          },
          "geo": {
           "bgcolor": "white",
           "lakecolor": "white",
           "landcolor": "#E5ECF6",
           "showlakes": true,
           "showland": true,
           "subunitcolor": "white"
          },
          "hoverlabel": {
           "align": "left"
          },
          "hovermode": "closest",
          "mapbox": {
           "style": "light"
          },
          "paper_bgcolor": "white",
          "plot_bgcolor": "#E5ECF6",
          "polar": {
           "angularaxis": {
            "gridcolor": "white",
            "linecolor": "white",
            "ticks": ""
           },
           "bgcolor": "#E5ECF6",
           "radialaxis": {
            "gridcolor": "white",
            "linecolor": "white",
            "ticks": ""
           }
          },
          "scene": {
           "xaxis": {
            "backgroundcolor": "#E5ECF6",
            "gridcolor": "white",
            "gridwidth": 2,
            "linecolor": "white",
            "showbackground": true,
            "ticks": "",
            "zerolinecolor": "white"
           },
           "yaxis": {
            "backgroundcolor": "#E5ECF6",
            "gridcolor": "white",
            "gridwidth": 2,
            "linecolor": "white",
            "showbackground": true,
            "ticks": "",
            "zerolinecolor": "white"
           },
           "zaxis": {
            "backgroundcolor": "#E5ECF6",
            "gridcolor": "white",
            "gridwidth": 2,
            "linecolor": "white",
            "showbackground": true,
            "ticks": "",
            "zerolinecolor": "white"
           }
          },
          "shapedefaults": {
           "line": {
            "color": "#2a3f5f"
           }
          },
          "ternary": {
           "aaxis": {
            "gridcolor": "white",
            "linecolor": "white",
            "ticks": ""
           },
           "baxis": {
            "gridcolor": "white",
            "linecolor": "white",
            "ticks": ""
           },
           "bgcolor": "#E5ECF6",
           "caxis": {
            "gridcolor": "white",
            "linecolor": "white",
            "ticks": ""
           }
          },
          "title": {
           "x": 0.05
          },
          "xaxis": {
           "automargin": true,
           "gridcolor": "white",
           "linecolor": "white",
           "ticks": "",
           "title": {
            "standoff": 15
           },
           "zerolinecolor": "white",
           "zerolinewidth": 2
          },
          "yaxis": {
           "automargin": true,
           "gridcolor": "white",
           "linecolor": "white",
           "ticks": "",
           "title": {
            "standoff": 15
           },
           "zerolinecolor": "white",
           "zerolinewidth": 2
          }
         }
        },
        "title": {
         "text": "Female Infected by Age"
        },
        "xaxis": {
         "anchor": "y",
         "domain": [
          0,
          1
         ],
         "title": {
          "text": "Age"
         }
        },
        "yaxis": {
         "anchor": "x",
         "domain": [
          0,
          1
         ],
         "title": {
          "text": "Count"
         }
        }
       }
      },
      "text/html": [
       "<div>\n",
       "        \n",
       "        \n",
       "            <div id=\"221ddf4a-f661-4b90-90c7-1a73a92ee404\" class=\"plotly-graph-div\" style=\"height:525px; width:100%;\"></div>\n",
       "            <script type=\"text/javascript\">\n",
       "                require([\"plotly\"], function(Plotly) {\n",
       "                    window.PLOTLYENV=window.PLOTLYENV || {};\n",
       "                    \n",
       "                if (document.getElementById(\"221ddf4a-f661-4b90-90c7-1a73a92ee404\")) {\n",
       "                    Plotly.newPlot(\n",
       "                        '221ddf4a-f661-4b90-90c7-1a73a92ee404',\n",
       "                        [{\"alignmentgroup\": \"True\", \"bingroup\": \"x\", \"hoverlabel\": {\"namelength\": 0}, \"hovertemplate\": \"city=London<br>age=%{x}<br>count=%{y}\", \"legendgroup\": \"London\", \"marker\": {\"color\": \"#FD3216\"}, \"name\": \"London\", \"offsetgroup\": \"London\", \"orientation\": \"v\", \"showlegend\": true, \"type\": \"histogram\", \"x\": [20, 50, 60, 20, 40], \"xaxis\": \"x\", \"yaxis\": \"y\"}, {\"alignmentgroup\": \"True\", \"bingroup\": \"x\", \"hoverlabel\": {\"namelength\": 0}, \"hovertemplate\": \"city=Toronto<br>age=%{x}<br>count=%{y}\", \"legendgroup\": \"Toronto\", \"marker\": {\"color\": \"#00FE35\"}, \"name\": \"Toronto\", \"offsetgroup\": \"Toronto\", \"orientation\": \"v\", \"showlegend\": true, \"type\": \"histogram\", \"x\": [60, 40, 50, 70, 50, 20, 60, 40, 50, 30, 20, 30, 70, 20, 60, 40, 20, 20, 90, 30, 40, 20], \"xaxis\": \"x\", \"yaxis\": \"y\"}, {\"alignmentgroup\": \"True\", \"bingroup\": \"x\", \"hoverlabel\": {\"namelength\": 0}, \"hovertemplate\": \"city=Richmond Hill<br>age=%{x}<br>count=%{y}\", \"legendgroup\": \"Richmond Hill\", \"marker\": {\"color\": \"#6A76FC\"}, \"name\": \"Richmond Hill\", \"offsetgroup\": \"Richmond Hill\", \"orientation\": \"v\", \"showlegend\": true, \"type\": \"histogram\", \"x\": [34, 70], \"xaxis\": \"x\", \"yaxis\": \"y\"}, {\"alignmentgroup\": \"True\", \"bingroup\": \"x\", \"hoverlabel\": {\"namelength\": 0}, \"hovertemplate\": \"city=Ajax<br>age=%{x}<br>count=%{y}\", \"legendgroup\": \"Ajax\", \"marker\": {\"color\": \"#FED4C4\"}, \"name\": \"Ajax\", \"offsetgroup\": \"Ajax\", \"orientation\": \"v\", \"showlegend\": true, \"type\": \"histogram\", \"x\": [51], \"xaxis\": \"x\", \"yaxis\": \"y\"}, {\"alignmentgroup\": \"True\", \"bingroup\": \"x\", \"hoverlabel\": {\"namelength\": 0}, \"hovertemplate\": \"city=Newmarket<br>age=%{x}<br>count=%{y}\", \"legendgroup\": \"Newmarket\", \"marker\": {\"color\": \"#FE00CE\"}, \"name\": \"Newmarket\", \"offsetgroup\": \"Newmarket\", \"orientation\": \"v\", \"showlegend\": true, \"type\": \"histogram\", \"x\": [70], \"xaxis\": \"x\", \"yaxis\": \"y\"}, {\"alignmentgroup\": \"True\", \"bingroup\": \"x\", \"hoverlabel\": {\"namelength\": 0}, \"hovertemplate\": \"city=Unspecified<br>age=%{x}<br>count=%{y}\", \"legendgroup\": \"Unspecified\", \"marker\": {\"color\": \"#0DF9FF\"}, \"name\": \"Unspecified\", \"offsetgroup\": \"Unspecified\", \"orientation\": \"v\", \"showlegend\": true, \"type\": \"histogram\", \"x\": [60, 70, 60], \"xaxis\": \"x\", \"yaxis\": \"y\"}, {\"alignmentgroup\": \"True\", \"bingroup\": \"x\", \"hoverlabel\": {\"namelength\": 0}, \"hovertemplate\": \"city=Kitchener<br>age=%{x}<br>count=%{y}\", \"legendgroup\": \"Kitchener\", \"marker\": {\"color\": \"#F6F926\"}, \"name\": \"Kitchener\", \"offsetgroup\": \"Kitchener\", \"orientation\": \"v\", \"showlegend\": true, \"type\": \"histogram\", \"x\": [50], \"xaxis\": \"x\", \"yaxis\": \"y\"}, {\"alignmentgroup\": \"True\", \"bingroup\": \"x\", \"hoverlabel\": {\"namelength\": 0}, \"hovertemplate\": \"city=Mississauga<br>age=%{x}<br>count=%{y}\", \"legendgroup\": \"Mississauga\", \"marker\": {\"color\": \"#FF9616\"}, \"name\": \"Mississauga\", \"offsetgroup\": \"Mississauga\", \"orientation\": \"v\", \"showlegend\": true, \"type\": \"histogram\", \"x\": [60], \"xaxis\": \"x\", \"yaxis\": \"y\"}, {\"alignmentgroup\": \"True\", \"bingroup\": \"x\", \"hoverlabel\": {\"namelength\": 0}, \"hovertemplate\": \"city=Scarborough<br>age=%{x}<br>count=%{y}\", \"legendgroup\": \"Scarborough\", \"marker\": {\"color\": \"#479B55\"}, \"name\": \"Scarborough\", \"offsetgroup\": \"Scarborough\", \"orientation\": \"v\", \"showlegend\": true, \"type\": \"histogram\", \"x\": [60], \"xaxis\": \"x\", \"yaxis\": \"y\"}, {\"alignmentgroup\": \"True\", \"bingroup\": \"x\", \"hoverlabel\": {\"namelength\": 0}, \"hovertemplate\": \"city=Whitby<br>age=%{x}<br>count=%{y}\", \"legendgroup\": \"Whitby\", \"marker\": {\"color\": \"#EEA6FB\"}, \"name\": \"Whitby\", \"offsetgroup\": \"Whitby\", \"orientation\": \"v\", \"showlegend\": true, \"type\": \"histogram\", \"x\": [70, 60, 70, 90, 80, 50, 70], \"xaxis\": \"x\", \"yaxis\": \"y\"}, {\"alignmentgroup\": \"True\", \"bingroup\": \"x\", \"hoverlabel\": {\"namelength\": 0}, \"hovertemplate\": \"city=Port Hope<br>age=%{x}<br>count=%{y}\", \"legendgroup\": \"Port Hope\", \"marker\": {\"color\": \"#DC587D\"}, \"name\": \"Port Hope\", \"offsetgroup\": \"Port Hope\", \"orientation\": \"v\", \"showlegend\": true, \"type\": \"histogram\", \"x\": [60, 60, 90], \"xaxis\": \"x\", \"yaxis\": \"y\"}, {\"alignmentgroup\": \"True\", \"bingroup\": \"x\", \"hoverlabel\": {\"namelength\": 0}, \"hovertemplate\": \"city=Oakville<br>age=%{x}<br>count=%{y}\", \"legendgroup\": \"Oakville\", \"marker\": {\"color\": \"#D626FF\"}, \"name\": \"Oakville\", \"offsetgroup\": \"Oakville\", \"orientation\": \"v\", \"showlegend\": true, \"type\": \"histogram\", \"x\": [50, 50, 50, 50, 30, 40, 50], \"xaxis\": \"x\", \"yaxis\": \"y\"}, {\"alignmentgroup\": \"True\", \"bingroup\": \"x\", \"hoverlabel\": {\"namelength\": 0}, \"hovertemplate\": \"city=Cornwall<br>age=%{x}<br>count=%{y}\", \"legendgroup\": \"Cornwall\", \"marker\": {\"color\": \"#6E899C\"}, \"name\": \"Cornwall\", \"offsetgroup\": \"Cornwall\", \"orientation\": \"v\", \"showlegend\": true, \"type\": \"histogram\", \"x\": [30, 60], \"xaxis\": \"x\", \"yaxis\": \"y\"}, {\"alignmentgroup\": \"True\", \"bingroup\": \"x\", \"hoverlabel\": {\"namelength\": 0}, \"hovertemplate\": \"city=Sudbury<br>age=%{x}<br>count=%{y}\", \"legendgroup\": \"Sudbury\", \"marker\": {\"color\": \"#00B5F7\"}, \"name\": \"Sudbury\", \"offsetgroup\": \"Sudbury\", \"orientation\": \"v\", \"showlegend\": true, \"type\": \"histogram\", \"x\": [50, 40], \"xaxis\": \"x\", \"yaxis\": \"y\"}, {\"alignmentgroup\": \"True\", \"bingroup\": \"x\", \"hoverlabel\": {\"namelength\": 0}, \"hovertemplate\": \"city=York<br>age=%{x}<br>count=%{y}\", \"legendgroup\": \"York\", \"marker\": {\"color\": \"#B68E00\"}, \"name\": \"York\", \"offsetgroup\": \"York\", \"orientation\": \"v\", \"showlegend\": true, \"type\": \"histogram\", \"x\": [20, 30, 50, 40, 40, 70, 20, 30, 50, 60], \"xaxis\": \"x\", \"yaxis\": \"y\"}, {\"alignmentgroup\": \"True\", \"bingroup\": \"x\", \"hoverlabel\": {\"namelength\": 0}, \"hovertemplate\": \"city=Peel<br>age=%{x}<br>count=%{y}\", \"legendgroup\": \"Peel\", \"marker\": {\"color\": \"#C9FBE5\"}, \"name\": \"Peel\", \"offsetgroup\": \"Peel\", \"orientation\": \"v\", \"showlegend\": true, \"type\": \"histogram\", \"x\": [60, 40, 50, 50, 10, 20, 20, 50, 50, 50, 30, 20, 60, 20, 80], \"xaxis\": \"x\", \"yaxis\": \"y\"}, {\"alignmentgroup\": \"True\", \"bingroup\": \"x\", \"hoverlabel\": {\"namelength\": 0}, \"hovertemplate\": \"city=Waterloo<br>age=%{x}<br>count=%{y}\", \"legendgroup\": \"Waterloo\", \"marker\": {\"color\": \"#FF0092\"}, \"name\": \"Waterloo\", \"offsetgroup\": \"Waterloo\", \"orientation\": \"v\", \"showlegend\": true, \"type\": \"histogram\", \"x\": [40, 60, 20, 50, 20, 20, 50], \"xaxis\": \"x\", \"yaxis\": \"y\"}, {\"alignmentgroup\": \"True\", \"bingroup\": \"x\", \"hoverlabel\": {\"namelength\": 0}, \"hovertemplate\": \"city=Hamilton<br>age=%{x}<br>count=%{y}\", \"legendgroup\": \"Hamilton\", \"marker\": {\"color\": \"#22FFA7\"}, \"name\": \"Hamilton\", \"offsetgroup\": \"Hamilton\", \"orientation\": \"v\", \"showlegend\": true, \"type\": \"histogram\", \"x\": [30, 70, 60, 20, 70], \"xaxis\": \"x\", \"yaxis\": \"y\"}, {\"alignmentgroup\": \"True\", \"bingroup\": \"x\", \"hoverlabel\": {\"namelength\": 0}, \"hovertemplate\": \"city=Brantford<br>age=%{x}<br>count=%{y}\", \"legendgroup\": \"Brantford\", \"marker\": {\"color\": \"#E3EE9E\"}, \"name\": \"Brantford\", \"offsetgroup\": \"Brantford\", \"orientation\": \"v\", \"showlegend\": true, \"type\": \"histogram\", \"x\": [40], \"xaxis\": \"x\", \"yaxis\": \"y\"}, {\"alignmentgroup\": \"True\", \"bingroup\": \"x\", \"hoverlabel\": {\"namelength\": 0}, \"hovertemplate\": \"city=Sault Ste. Marie<br>age=%{x}<br>count=%{y}\", \"legendgroup\": \"Sault Ste. Marie\", \"marker\": {\"color\": \"#86CE00\"}, \"name\": \"Sault Ste. Marie\", \"offsetgroup\": \"Sault Ste. Marie\", \"orientation\": \"v\", \"showlegend\": true, \"type\": \"histogram\", \"x\": [50], \"xaxis\": \"x\", \"yaxis\": \"y\"}, {\"alignmentgroup\": \"True\", \"bingroup\": \"x\", \"hoverlabel\": {\"namelength\": 0}, \"hovertemplate\": \"city=Chatham<br>age=%{x}<br>count=%{y}\", \"legendgroup\": \"Chatham\", \"marker\": {\"color\": \"#BC7196\"}, \"name\": \"Chatham\", \"offsetgroup\": \"Chatham\", \"orientation\": \"v\", \"showlegend\": true, \"type\": \"histogram\", \"x\": [80], \"xaxis\": \"x\", \"yaxis\": \"y\"}, {\"alignmentgroup\": \"True\", \"bingroup\": \"x\", \"hoverlabel\": {\"namelength\": 0}, \"hovertemplate\": \"city=Niagara<br>age=%{x}<br>count=%{y}\", \"legendgroup\": \"Niagara\", \"marker\": {\"color\": \"#7E7DCD\"}, \"name\": \"Niagara\", \"offsetgroup\": \"Niagara\", \"orientation\": \"v\", \"showlegend\": true, \"type\": \"histogram\", \"x\": [50], \"xaxis\": \"x\", \"yaxis\": \"y\"}, {\"alignmentgroup\": \"True\", \"bingroup\": \"x\", \"hoverlabel\": {\"namelength\": 0}, \"hovertemplate\": \"city=Simcoe<br>age=%{x}<br>count=%{y}\", \"legendgroup\": \"Simcoe\", \"marker\": {\"color\": \"#FC6955\"}, \"name\": \"Simcoe\", \"offsetgroup\": \"Simcoe\", \"orientation\": \"v\", \"showlegend\": true, \"type\": \"histogram\", \"x\": [40, 60], \"xaxis\": \"x\", \"yaxis\": \"y\"}, {\"alignmentgroup\": \"True\", \"bingroup\": \"x\", \"hoverlabel\": {\"namelength\": 0}, \"hovertemplate\": \"city=Owen Sound<br>age=%{x}<br>count=%{y}\", \"legendgroup\": \"Owen Sound\", \"marker\": {\"color\": \"#E48F72\"}, \"name\": \"Owen Sound\", \"offsetgroup\": \"Owen Sound\", \"orientation\": \"v\", \"showlegend\": true, \"type\": \"histogram\", \"x\": [50], \"xaxis\": \"x\", \"yaxis\": \"y\"}, {\"alignmentgroup\": \"True\", \"bingroup\": \"x\", \"hoverlabel\": {\"namelength\": 0}, \"hovertemplate\": \"city=Kingston<br>age=%{x}<br>count=%{y}\", \"legendgroup\": \"Kingston\", \"marker\": {\"color\": \"#FD3216\"}, \"name\": \"Kingston\", \"offsetgroup\": \"Kingston\", \"orientation\": \"v\", \"showlegend\": true, \"type\": \"histogram\", \"x\": [40, 60, 70], \"xaxis\": \"x\", \"yaxis\": \"y\"}, {\"alignmentgroup\": \"True\", \"bingroup\": \"x\", \"hoverlabel\": {\"namelength\": 0}, \"hovertemplate\": \"city=Ottawa<br>age=%{x}<br>count=%{y}\", \"legendgroup\": \"Ottawa\", \"marker\": {\"color\": \"#00FE35\"}, \"name\": \"Ottawa\", \"offsetgroup\": \"Ottawa\", \"orientation\": \"v\", \"showlegend\": true, \"type\": \"histogram\", \"x\": [40, 20, 60, 40, 10, 50], \"xaxis\": \"x\", \"yaxis\": \"y\"}, {\"alignmentgroup\": \"True\", \"bingroup\": \"x\", \"hoverlabel\": {\"namelength\": 0}, \"hovertemplate\": \"city=Belleville<br>age=%{x}<br>count=%{y}\", \"legendgroup\": \"Belleville\", \"marker\": {\"color\": \"#6A76FC\"}, \"name\": \"Belleville\", \"offsetgroup\": \"Belleville\", \"orientation\": \"v\", \"showlegend\": true, \"type\": \"histogram\", \"x\": [20], \"xaxis\": \"x\", \"yaxis\": \"y\"}],\n",
       "                        {\"bargap\": 0.2, \"barmode\": \"relative\", \"legend\": {\"title\": {\"text\": \"city\"}, \"tracegroupgap\": 0}, \"margin\": {\"t\": 60}, \"template\": {\"data\": {\"bar\": [{\"error_x\": {\"color\": \"#2a3f5f\"}, \"error_y\": {\"color\": \"#2a3f5f\"}, \"marker\": {\"line\": {\"color\": \"#E5ECF6\", \"width\": 0.5}}, \"type\": \"bar\"}], \"barpolar\": [{\"marker\": {\"line\": {\"color\": \"#E5ECF6\", \"width\": 0.5}}, \"type\": \"barpolar\"}], \"carpet\": [{\"aaxis\": {\"endlinecolor\": \"#2a3f5f\", \"gridcolor\": \"white\", \"linecolor\": \"white\", \"minorgridcolor\": \"white\", \"startlinecolor\": \"#2a3f5f\"}, \"baxis\": {\"endlinecolor\": \"#2a3f5f\", \"gridcolor\": \"white\", \"linecolor\": \"white\", \"minorgridcolor\": \"white\", \"startlinecolor\": \"#2a3f5f\"}, \"type\": \"carpet\"}], \"choropleth\": [{\"colorbar\": {\"outlinewidth\": 0, \"ticks\": \"\"}, \"type\": \"choropleth\"}], \"contour\": [{\"colorbar\": {\"outlinewidth\": 0, \"ticks\": \"\"}, \"colorscale\": [[0.0, \"#0d0887\"], [0.1111111111111111, \"#46039f\"], [0.2222222222222222, \"#7201a8\"], [0.3333333333333333, \"#9c179e\"], [0.4444444444444444, \"#bd3786\"], [0.5555555555555556, \"#d8576b\"], [0.6666666666666666, \"#ed7953\"], [0.7777777777777778, \"#fb9f3a\"], [0.8888888888888888, \"#fdca26\"], [1.0, \"#f0f921\"]], \"type\": \"contour\"}], \"contourcarpet\": [{\"colorbar\": {\"outlinewidth\": 0, \"ticks\": \"\"}, \"type\": \"contourcarpet\"}], \"heatmap\": [{\"colorbar\": {\"outlinewidth\": 0, \"ticks\": \"\"}, \"colorscale\": [[0.0, \"#0d0887\"], [0.1111111111111111, \"#46039f\"], [0.2222222222222222, \"#7201a8\"], [0.3333333333333333, \"#9c179e\"], [0.4444444444444444, \"#bd3786\"], [0.5555555555555556, \"#d8576b\"], [0.6666666666666666, \"#ed7953\"], [0.7777777777777778, \"#fb9f3a\"], [0.8888888888888888, \"#fdca26\"], [1.0, \"#f0f921\"]], \"type\": \"heatmap\"}], \"heatmapgl\": [{\"colorbar\": {\"outlinewidth\": 0, \"ticks\": \"\"}, \"colorscale\": [[0.0, \"#0d0887\"], [0.1111111111111111, \"#46039f\"], [0.2222222222222222, \"#7201a8\"], [0.3333333333333333, \"#9c179e\"], [0.4444444444444444, \"#bd3786\"], [0.5555555555555556, \"#d8576b\"], [0.6666666666666666, \"#ed7953\"], [0.7777777777777778, \"#fb9f3a\"], [0.8888888888888888, \"#fdca26\"], [1.0, \"#f0f921\"]], \"type\": \"heatmapgl\"}], \"histogram\": [{\"marker\": {\"colorbar\": {\"outlinewidth\": 0, \"ticks\": \"\"}}, \"type\": \"histogram\"}], \"histogram2d\": [{\"colorbar\": {\"outlinewidth\": 0, \"ticks\": \"\"}, \"colorscale\": [[0.0, \"#0d0887\"], [0.1111111111111111, \"#46039f\"], [0.2222222222222222, \"#7201a8\"], [0.3333333333333333, \"#9c179e\"], [0.4444444444444444, \"#bd3786\"], [0.5555555555555556, \"#d8576b\"], [0.6666666666666666, \"#ed7953\"], [0.7777777777777778, \"#fb9f3a\"], [0.8888888888888888, \"#fdca26\"], [1.0, \"#f0f921\"]], \"type\": \"histogram2d\"}], \"histogram2dcontour\": [{\"colorbar\": {\"outlinewidth\": 0, \"ticks\": \"\"}, \"colorscale\": [[0.0, \"#0d0887\"], [0.1111111111111111, \"#46039f\"], [0.2222222222222222, \"#7201a8\"], [0.3333333333333333, \"#9c179e\"], [0.4444444444444444, \"#bd3786\"], [0.5555555555555556, \"#d8576b\"], [0.6666666666666666, \"#ed7953\"], [0.7777777777777778, \"#fb9f3a\"], [0.8888888888888888, \"#fdca26\"], [1.0, \"#f0f921\"]], \"type\": \"histogram2dcontour\"}], \"mesh3d\": [{\"colorbar\": {\"outlinewidth\": 0, \"ticks\": \"\"}, \"type\": \"mesh3d\"}], \"parcoords\": [{\"line\": {\"colorbar\": {\"outlinewidth\": 0, \"ticks\": \"\"}}, \"type\": \"parcoords\"}], \"pie\": [{\"automargin\": true, \"type\": \"pie\"}], \"scatter\": [{\"marker\": {\"colorbar\": {\"outlinewidth\": 0, \"ticks\": \"\"}}, \"type\": \"scatter\"}], \"scatter3d\": [{\"line\": {\"colorbar\": {\"outlinewidth\": 0, \"ticks\": \"\"}}, \"marker\": {\"colorbar\": {\"outlinewidth\": 0, \"ticks\": \"\"}}, \"type\": \"scatter3d\"}], \"scattercarpet\": [{\"marker\": {\"colorbar\": {\"outlinewidth\": 0, \"ticks\": \"\"}}, \"type\": \"scattercarpet\"}], \"scattergeo\": [{\"marker\": {\"colorbar\": {\"outlinewidth\": 0, \"ticks\": \"\"}}, \"type\": \"scattergeo\"}], \"scattergl\": [{\"marker\": {\"colorbar\": {\"outlinewidth\": 0, \"ticks\": \"\"}}, \"type\": \"scattergl\"}], \"scattermapbox\": [{\"marker\": {\"colorbar\": {\"outlinewidth\": 0, \"ticks\": \"\"}}, \"type\": \"scattermapbox\"}], \"scatterpolar\": [{\"marker\": {\"colorbar\": {\"outlinewidth\": 0, \"ticks\": \"\"}}, \"type\": \"scatterpolar\"}], \"scatterpolargl\": [{\"marker\": {\"colorbar\": {\"outlinewidth\": 0, \"ticks\": \"\"}}, \"type\": \"scatterpolargl\"}], \"scatterternary\": [{\"marker\": {\"colorbar\": {\"outlinewidth\": 0, \"ticks\": \"\"}}, \"type\": \"scatterternary\"}], \"surface\": [{\"colorbar\": {\"outlinewidth\": 0, \"ticks\": \"\"}, \"colorscale\": [[0.0, \"#0d0887\"], [0.1111111111111111, \"#46039f\"], [0.2222222222222222, \"#7201a8\"], [0.3333333333333333, \"#9c179e\"], [0.4444444444444444, \"#bd3786\"], [0.5555555555555556, \"#d8576b\"], [0.6666666666666666, \"#ed7953\"], [0.7777777777777778, \"#fb9f3a\"], [0.8888888888888888, \"#fdca26\"], [1.0, \"#f0f921\"]], \"type\": \"surface\"}], \"table\": [{\"cells\": {\"fill\": {\"color\": \"#EBF0F8\"}, \"line\": {\"color\": \"white\"}}, \"header\": {\"fill\": {\"color\": \"#C8D4E3\"}, \"line\": {\"color\": \"white\"}}, \"type\": \"table\"}]}, \"layout\": {\"annotationdefaults\": {\"arrowcolor\": \"#2a3f5f\", \"arrowhead\": 0, \"arrowwidth\": 1}, \"coloraxis\": {\"colorbar\": {\"outlinewidth\": 0, \"ticks\": \"\"}}, \"colorscale\": {\"diverging\": [[0, \"#8e0152\"], [0.1, \"#c51b7d\"], [0.2, \"#de77ae\"], [0.3, \"#f1b6da\"], [0.4, \"#fde0ef\"], [0.5, \"#f7f7f7\"], [0.6, \"#e6f5d0\"], [0.7, \"#b8e186\"], [0.8, \"#7fbc41\"], [0.9, \"#4d9221\"], [1, \"#276419\"]], \"sequential\": [[0.0, \"#0d0887\"], [0.1111111111111111, \"#46039f\"], [0.2222222222222222, \"#7201a8\"], [0.3333333333333333, \"#9c179e\"], [0.4444444444444444, \"#bd3786\"], [0.5555555555555556, \"#d8576b\"], [0.6666666666666666, \"#ed7953\"], [0.7777777777777778, \"#fb9f3a\"], [0.8888888888888888, \"#fdca26\"], [1.0, \"#f0f921\"]], \"sequentialminus\": [[0.0, \"#0d0887\"], [0.1111111111111111, \"#46039f\"], [0.2222222222222222, \"#7201a8\"], [0.3333333333333333, \"#9c179e\"], [0.4444444444444444, \"#bd3786\"], [0.5555555555555556, \"#d8576b\"], [0.6666666666666666, \"#ed7953\"], [0.7777777777777778, \"#fb9f3a\"], [0.8888888888888888, \"#fdca26\"], [1.0, \"#f0f921\"]]}, \"colorway\": [\"#636efa\", \"#EF553B\", \"#00cc96\", \"#ab63fa\", \"#FFA15A\", \"#19d3f3\", \"#FF6692\", \"#B6E880\", \"#FF97FF\", \"#FECB52\"], \"font\": {\"color\": \"#2a3f5f\"}, \"geo\": {\"bgcolor\": \"white\", \"lakecolor\": \"white\", \"landcolor\": \"#E5ECF6\", \"showlakes\": true, \"showland\": true, \"subunitcolor\": \"white\"}, \"hoverlabel\": {\"align\": \"left\"}, \"hovermode\": \"closest\", \"mapbox\": {\"style\": \"light\"}, \"paper_bgcolor\": \"white\", \"plot_bgcolor\": \"#E5ECF6\", \"polar\": {\"angularaxis\": {\"gridcolor\": \"white\", \"linecolor\": \"white\", \"ticks\": \"\"}, \"bgcolor\": \"#E5ECF6\", \"radialaxis\": {\"gridcolor\": \"white\", \"linecolor\": \"white\", \"ticks\": \"\"}}, \"scene\": {\"xaxis\": {\"backgroundcolor\": \"#E5ECF6\", \"gridcolor\": \"white\", \"gridwidth\": 2, \"linecolor\": \"white\", \"showbackground\": true, \"ticks\": \"\", \"zerolinecolor\": \"white\"}, \"yaxis\": {\"backgroundcolor\": \"#E5ECF6\", \"gridcolor\": \"white\", \"gridwidth\": 2, \"linecolor\": \"white\", \"showbackground\": true, \"ticks\": \"\", \"zerolinecolor\": \"white\"}, \"zaxis\": {\"backgroundcolor\": \"#E5ECF6\", \"gridcolor\": \"white\", \"gridwidth\": 2, \"linecolor\": \"white\", \"showbackground\": true, \"ticks\": \"\", \"zerolinecolor\": \"white\"}}, \"shapedefaults\": {\"line\": {\"color\": \"#2a3f5f\"}}, \"ternary\": {\"aaxis\": {\"gridcolor\": \"white\", \"linecolor\": \"white\", \"ticks\": \"\"}, \"baxis\": {\"gridcolor\": \"white\", \"linecolor\": \"white\", \"ticks\": \"\"}, \"bgcolor\": \"#E5ECF6\", \"caxis\": {\"gridcolor\": \"white\", \"linecolor\": \"white\", \"ticks\": \"\"}}, \"title\": {\"x\": 0.05}, \"xaxis\": {\"automargin\": true, \"gridcolor\": \"white\", \"linecolor\": \"white\", \"ticks\": \"\", \"title\": {\"standoff\": 15}, \"zerolinecolor\": \"white\", \"zerolinewidth\": 2}, \"yaxis\": {\"automargin\": true, \"gridcolor\": \"white\", \"linecolor\": \"white\", \"ticks\": \"\", \"title\": {\"standoff\": 15}, \"zerolinecolor\": \"white\", \"zerolinewidth\": 2}}}, \"title\": {\"text\": \"Female Infected by Age\"}, \"xaxis\": {\"anchor\": \"y\", \"domain\": [0.0, 1.0], \"title\": {\"text\": \"Age\"}}, \"yaxis\": {\"anchor\": \"x\", \"domain\": [0.0, 1.0], \"title\": {\"text\": \"Count\"}}},\n",
       "                        {\"responsive\": true}\n",
       "                    ).then(function(){\n",
       "                            \n",
       "var gd = document.getElementById('221ddf4a-f661-4b90-90c7-1a73a92ee404');\n",
       "var x = new MutationObserver(function (mutations, observer) {{\n",
       "        var display = window.getComputedStyle(gd).display;\n",
       "        if (!display || display === 'none') {{\n",
       "            console.log([gd, 'removed!']);\n",
       "            Plotly.purge(gd);\n",
       "            observer.disconnect();\n",
       "        }}\n",
       "}});\n",
       "\n",
       "// Listen for the removal of the full notebook cells\n",
       "var notebookContainer = gd.closest('#notebook-container');\n",
       "if (notebookContainer) {{\n",
       "    x.observe(notebookContainer, {childList: true});\n",
       "}}\n",
       "\n",
       "// Listen for the clearing of the current output cell\n",
       "var outputEl = gd.closest('.output');\n",
       "if (outputEl) {{\n",
       "    x.observe(outputEl, {childList: true});\n",
       "}}\n",
       "\n",
       "                        })\n",
       "                };\n",
       "                });\n",
       "            </script>\n",
       "        </div>"
      ]
     },
     "metadata": {},
     "output_type": "display_data"
    }
   ],
   "source": [
    "fig = px.histogram(female, x=\"age\", color = \"city\", color_discrete_sequence= px.colors.qualitative.Light24)\n",
    "fig.update_layout(\n",
    "    title_text='Female Infected by Age', # title of plot\n",
    "    xaxis_title_text='Age', # xaxis label\n",
    "    yaxis_title_text='Count', # yaxis label\n",
    "    bargap=0.2, # gap between bars of adjacent location coordinates\n",
    "    #bargroupgap=0.1 # gap between bars of the same location coordinates\n",
    ")\n",
    "\n",
    "fig.show()"
   ]
  },
  {
   "cell_type": "code",
   "execution_count": 158,
   "metadata": {},
   "outputs": [],
   "source": [
    "#Add logic to get cumualtive transmission over time\n",
    "\n",
    "\n",
    "#change trans"
   ]
  },
  {
   "cell_type": "code",
   "execution_count": 41,
   "metadata": {},
   "outputs": [
    {
     "ename": "KeyError",
     "evalue": "(nan, '', '', '')",
     "output_type": "error",
     "traceback": [
      "\u001b[0;31m---------------------------------------------------------------------------\u001b[0m",
      "\u001b[0;31mKeyError\u001b[0m                                  Traceback (most recent call last)",
      "\u001b[0;32m<ipython-input-41-39c7292d79c2>\u001b[0m in \u001b[0;36m<module>\u001b[0;34m\u001b[0m\n\u001b[1;32m      1\u001b[0m \u001b[0;31m#NEED TO GET THIS TO CUMULATIVE TRANSMISSION OVER TIME\u001b[0m\u001b[0;34m\u001b[0m\u001b[0;34m\u001b[0m\u001b[0;34m\u001b[0m\u001b[0m\n\u001b[1;32m      2\u001b[0m \u001b[0;34m\u001b[0m\u001b[0m\n\u001b[0;32m----> 3\u001b[0;31m \u001b[0mfig\u001b[0m \u001b[0;34m=\u001b[0m \u001b[0mpx\u001b[0m\u001b[0;34m.\u001b[0m\u001b[0mhistogram\u001b[0m\u001b[0;34m(\u001b[0m\u001b[0mdf\u001b[0m\u001b[0;34m,\u001b[0m \u001b[0mx\u001b[0m\u001b[0;34m=\u001b[0m \u001b[0;34m\"date\"\u001b[0m\u001b[0;34m,\u001b[0m \u001b[0mcolor\u001b[0m \u001b[0;34m=\u001b[0m \u001b[0;34m\"transmission\"\u001b[0m\u001b[0;34m)\u001b[0m\u001b[0;34m\u001b[0m\u001b[0;34m\u001b[0m\u001b[0m\n\u001b[0m\u001b[1;32m      4\u001b[0m fig.update_layout(\n\u001b[1;32m      5\u001b[0m     \u001b[0mtitle_text\u001b[0m\u001b[0;34m=\u001b[0m\u001b[0;34m'Transmission over time'\u001b[0m\u001b[0;34m,\u001b[0m \u001b[0;31m# title of plot\u001b[0m\u001b[0;34m\u001b[0m\u001b[0;34m\u001b[0m\u001b[0m\n",
      "\u001b[0;32m/opt/anaconda3/envs/plakk/lib/python3.6/site-packages/plotly/express/_chart_types.py\u001b[0m in \u001b[0;36mhistogram\u001b[0;34m(data_frame, x, y, color, facet_row, facet_col, facet_col_wrap, hover_name, hover_data, animation_frame, animation_group, category_orders, labels, color_discrete_sequence, color_discrete_map, marginal, opacity, orientation, barmode, barnorm, histnorm, log_x, log_y, range_x, range_y, histfunc, cumulative, nbins, title, template, width, height)\u001b[0m\n\u001b[1;32m    370\u001b[0m             \u001b[0mbingroup\u001b[0m\u001b[0;34m=\u001b[0m\u001b[0;34m\"x\"\u001b[0m \u001b[0;32mif\u001b[0m \u001b[0morientation\u001b[0m \u001b[0;34m==\u001b[0m \u001b[0;34m\"v\"\u001b[0m \u001b[0;32melse\u001b[0m \u001b[0;34m\"y\"\u001b[0m\u001b[0;34m,\u001b[0m\u001b[0;34m\u001b[0m\u001b[0;34m\u001b[0m\u001b[0m\n\u001b[1;32m    371\u001b[0m         ),\n\u001b[0;32m--> 372\u001b[0;31m         \u001b[0mlayout_patch\u001b[0m\u001b[0;34m=\u001b[0m\u001b[0mdict\u001b[0m\u001b[0;34m(\u001b[0m\u001b[0mbarmode\u001b[0m\u001b[0;34m=\u001b[0m\u001b[0mbarmode\u001b[0m\u001b[0;34m,\u001b[0m \u001b[0mbarnorm\u001b[0m\u001b[0;34m=\u001b[0m\u001b[0mbarnorm\u001b[0m\u001b[0;34m)\u001b[0m\u001b[0;34m,\u001b[0m\u001b[0;34m\u001b[0m\u001b[0;34m\u001b[0m\u001b[0m\n\u001b[0m\u001b[1;32m    373\u001b[0m     )\n\u001b[1;32m    374\u001b[0m \u001b[0;34m\u001b[0m\u001b[0m\n",
      "\u001b[0;32m/opt/anaconda3/envs/plakk/lib/python3.6/site-packages/plotly/express/_core.py\u001b[0m in \u001b[0;36mmake_figure\u001b[0;34m(args, constructor, trace_patch, layout_patch)\u001b[0m\n\u001b[1;32m   1395\u001b[0m     \u001b[0mtrace_name_labels\u001b[0m \u001b[0;34m=\u001b[0m \u001b[0;32mNone\u001b[0m\u001b[0;34m\u001b[0m\u001b[0;34m\u001b[0m\u001b[0m\n\u001b[1;32m   1396\u001b[0m     \u001b[0;32mfor\u001b[0m \u001b[0mgroup_name\u001b[0m \u001b[0;32min\u001b[0m \u001b[0msorted_group_names\u001b[0m\u001b[0;34m:\u001b[0m\u001b[0;34m\u001b[0m\u001b[0;34m\u001b[0m\u001b[0m\n\u001b[0;32m-> 1397\u001b[0;31m         \u001b[0mgroup\u001b[0m \u001b[0;34m=\u001b[0m \u001b[0mgrouped\u001b[0m\u001b[0;34m.\u001b[0m\u001b[0mget_group\u001b[0m\u001b[0;34m(\u001b[0m\u001b[0mgroup_name\u001b[0m \u001b[0;32mif\u001b[0m \u001b[0mlen\u001b[0m\u001b[0;34m(\u001b[0m\u001b[0mgroup_name\u001b[0m\u001b[0;34m)\u001b[0m \u001b[0;34m>\u001b[0m \u001b[0;36m1\u001b[0m \u001b[0;32melse\u001b[0m \u001b[0mgroup_name\u001b[0m\u001b[0;34m[\u001b[0m\u001b[0;36m0\u001b[0m\u001b[0;34m]\u001b[0m\u001b[0;34m)\u001b[0m\u001b[0;34m\u001b[0m\u001b[0;34m\u001b[0m\u001b[0m\n\u001b[0m\u001b[1;32m   1398\u001b[0m         \u001b[0mmapping_labels\u001b[0m \u001b[0;34m=\u001b[0m \u001b[0mOrderedDict\u001b[0m\u001b[0;34m(\u001b[0m\u001b[0;34m)\u001b[0m\u001b[0;34m\u001b[0m\u001b[0;34m\u001b[0m\u001b[0m\n\u001b[1;32m   1399\u001b[0m         \u001b[0mtrace_name_labels\u001b[0m \u001b[0;34m=\u001b[0m \u001b[0mOrderedDict\u001b[0m\u001b[0;34m(\u001b[0m\u001b[0;34m)\u001b[0m\u001b[0;34m\u001b[0m\u001b[0;34m\u001b[0m\u001b[0m\n",
      "\u001b[0;32m/opt/anaconda3/envs/plakk/lib/python3.6/site-packages/pandas/core/groupby/groupby.py\u001b[0m in \u001b[0;36mget_group\u001b[0;34m(self, name, obj)\u001b[0m\n\u001b[1;32m    684\u001b[0m         \u001b[0minds\u001b[0m \u001b[0;34m=\u001b[0m \u001b[0mself\u001b[0m\u001b[0;34m.\u001b[0m\u001b[0m_get_index\u001b[0m\u001b[0;34m(\u001b[0m\u001b[0mname\u001b[0m\u001b[0;34m)\u001b[0m\u001b[0;34m\u001b[0m\u001b[0;34m\u001b[0m\u001b[0m\n\u001b[1;32m    685\u001b[0m         \u001b[0;32mif\u001b[0m \u001b[0;32mnot\u001b[0m \u001b[0mlen\u001b[0m\u001b[0;34m(\u001b[0m\u001b[0minds\u001b[0m\u001b[0;34m)\u001b[0m\u001b[0;34m:\u001b[0m\u001b[0;34m\u001b[0m\u001b[0;34m\u001b[0m\u001b[0m\n\u001b[0;32m--> 686\u001b[0;31m             \u001b[0;32mraise\u001b[0m \u001b[0mKeyError\u001b[0m\u001b[0;34m(\u001b[0m\u001b[0mname\u001b[0m\u001b[0;34m)\u001b[0m\u001b[0;34m\u001b[0m\u001b[0;34m\u001b[0m\u001b[0m\n\u001b[0m\u001b[1;32m    687\u001b[0m \u001b[0;34m\u001b[0m\u001b[0m\n\u001b[1;32m    688\u001b[0m         \u001b[0;32mreturn\u001b[0m \u001b[0mobj\u001b[0m\u001b[0;34m.\u001b[0m\u001b[0m_take_with_is_copy\u001b[0m\u001b[0;34m(\u001b[0m\u001b[0minds\u001b[0m\u001b[0;34m,\u001b[0m \u001b[0maxis\u001b[0m\u001b[0;34m=\u001b[0m\u001b[0mself\u001b[0m\u001b[0;34m.\u001b[0m\u001b[0maxis\u001b[0m\u001b[0;34m)\u001b[0m\u001b[0;34m\u001b[0m\u001b[0;34m\u001b[0m\u001b[0m\n",
      "\u001b[0;31mKeyError\u001b[0m: (nan, '', '', '')"
     ]
    }
   ],
   "source": [
    "#NEED TO GET THIS TO CUMULATIVE TRANSMISSION OVER TIME\n",
    "\n",
    "fig = px.histogram(df, x= \"date\", color = \"transmission\")\n",
    "fig.update_layout(\n",
    "    title_text='Transmission over time', # title of plot\n",
    "    xaxis_title_text='Date', # xaxis label\n",
    "    yaxis_title_text='Infected', # yaxis label\n",
    "    bargap=0.7, # gap between bars of adjacent location coordinates\n",
    "    bargroupgap=0.1 # gap between bars of the same location coordinates\n",
    ")\n",
    "fig.show()"
   ]
  },
  {
   "cell_type": "code",
   "execution_count": null,
   "metadata": {},
   "outputs": [],
   "source": []
  }
 ],
 "metadata": {
  "kernelspec": {
   "display_name": "Python (plakk)",
   "language": "python",
   "name": "plakk"
  },
  "language_info": {
   "codemirror_mode": {
    "name": "ipython",
    "version": 3
   },
   "file_extension": ".py",
   "mimetype": "text/x-python",
   "name": "python",
   "nbconvert_exporter": "python",
   "pygments_lexer": "ipython3",
   "version": "3.6.10"
  }
 },
 "nbformat": 4,
 "nbformat_minor": 4
}
