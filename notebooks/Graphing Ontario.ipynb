{
 "cells": [
  {
   "cell_type": "code",
   "execution_count": 165,
   "metadata": {},
   "outputs": [],
   "source": [
    "import plotly.graph_objects as go\n",
    "import plotly.express as px\n",
    "import datetime as dt\n",
    "\n",
    "import numpy as np\n",
    "import pandas as pd\n",
    "import os\n",
    "import json"
   ]
  },
  {
   "cell_type": "code",
   "execution_count": 245,
   "metadata": {},
   "outputs": [
    {
     "data": {
      "text/plain": [
       "'2020-03-25T20:35:50'"
      ]
     },
     "execution_count": 245,
     "metadata": {},
     "output_type": "execute_result"
    }
   ],
   "source": [
    "import datetime as dt\n",
    "dt.datetime.now().strftime('%Y-%m-%dT%H:%M:%S')"
   ]
  },
  {
   "cell_type": "code",
   "execution_count": 246,
   "metadata": {},
   "outputs": [],
   "source": [
    "path = \"../data/ontario/cases.jsonl\"\n",
    "with open(path, 'r') as outfile:\n",
    "    all_cases = [ json.loads(c) for c in outfile]\n",
    "df =  pd.DataFrame.from_dict(all_cases)"
   ]
  },
  {
   "cell_type": "code",
   "execution_count": 247,
   "metadata": {},
   "outputs": [],
   "source": [
    "cities = list(df.city.unique())\n",
    "\n",
    "infections = [[case[\"date\"][:10] for case in all_cases if case[\"city\"]== city and case[\"date\"][:10] > \"2020-02-01\"] for city in cities ]\n"
   ]
  },
  {
   "cell_type": "code",
   "execution_count": 248,
   "metadata": {},
   "outputs": [],
   "source": [
    "path = \"../data/ontario/all_updates.json\"\n",
    "with open(path, 'r') as outfile:\n",
    "    updates = [ json.loads(c) for c in outfile]\n",
    "    \n"
   ]
  },
  {
   "cell_type": "code",
   "execution_count": 249,
   "metadata": {},
   "outputs": [],
   "source": [
    "updates = sorted(updates, key=lambda k: k['date']) \n",
    "\n",
    "dates = { t['date'][:10]:i for i, t in enumerate(updates)}\n",
    "\n",
    "unique_dates_ix = list(dates.values())\n",
    "dates = list(dates.keys())"
   ]
  },
  {
   "cell_type": "code",
   "execution_count": 250,
   "metadata": {},
   "outputs": [],
   "source": [
    "\n",
    "\n",
    "negative = [t['negative'] for i,t in enumerate(updates) if i in unique_dates_ix]\n",
    "under = [t['pending'] for i,t in enumerate(updates)  if i in unique_dates_ix]\n",
    "positive = [t['positive'] for i,t in enumerate(updates)  if i in unique_dates_ix]\n",
    "resolved = [t['resolved'] for i,t in enumerate(updates) if i in unique_dates_ix]\n",
    "dead = [t['deceased'] for i,t in enumerate(updates)  if i in unique_dates_ix]\n",
    "\n",
    "total_df = pd.DataFrame.from_dict(updates)"
   ]
  },
  {
   "cell_type": "code",
   "execution_count": 251,
   "metadata": {},
   "outputs": [
    {
     "data": {
      "application/vnd.plotly.v1+json": {
       "config": {
        "plotlyServerURL": "https://plot.ly"
       },
       "data": [
        {
         "mode": "lines",
         "name": "Total Number of Cases",
         "type": "scatter",
         "x": [
          "2020-03-05",
          "2020-03-06",
          "2020-03-07",
          "2020-03-09",
          "2020-03-10",
          "2020-03-11",
          "2020-03-12",
          "2020-03-13",
          "2020-03-14",
          "2020-03-15",
          "2020-03-16",
          "2020-03-17",
          "2020-03-18",
          "2020-03-19",
          "2020-03-20",
          "2020-03-21",
          "2020-03-22",
          "2020-03-23",
          "2020-03-24",
          "2020-03-25"
         ],
         "y": [
          18,
          22,
          24,
          31,
          31,
          37,
          54,
          74,
          98,
          140,
          172,
          183,
          208,
          251,
          311,
          368,
          413,
          489,
          572,
          667
         ]
        }
       ],
       "layout": {
        "template": {
         "data": {
          "bar": [
           {
            "error_x": {
             "color": "#2a3f5f"
            },
            "error_y": {
             "color": "#2a3f5f"
            },
            "marker": {
             "line": {
              "color": "#E5ECF6",
              "width": 0.5
             }
            },
            "type": "bar"
           }
          ],
          "barpolar": [
           {
            "marker": {
             "line": {
              "color": "#E5ECF6",
              "width": 0.5
             }
            },
            "type": "barpolar"
           }
          ],
          "carpet": [
           {
            "aaxis": {
             "endlinecolor": "#2a3f5f",
             "gridcolor": "white",
             "linecolor": "white",
             "minorgridcolor": "white",
             "startlinecolor": "#2a3f5f"
            },
            "baxis": {
             "endlinecolor": "#2a3f5f",
             "gridcolor": "white",
             "linecolor": "white",
             "minorgridcolor": "white",
             "startlinecolor": "#2a3f5f"
            },
            "type": "carpet"
           }
          ],
          "choropleth": [
           {
            "colorbar": {
             "outlinewidth": 0,
             "ticks": ""
            },
            "type": "choropleth"
           }
          ],
          "contour": [
           {
            "colorbar": {
             "outlinewidth": 0,
             "ticks": ""
            },
            "colorscale": [
             [
              0,
              "#0d0887"
             ],
             [
              0.1111111111111111,
              "#46039f"
             ],
             [
              0.2222222222222222,
              "#7201a8"
             ],
             [
              0.3333333333333333,
              "#9c179e"
             ],
             [
              0.4444444444444444,
              "#bd3786"
             ],
             [
              0.5555555555555556,
              "#d8576b"
             ],
             [
              0.6666666666666666,
              "#ed7953"
             ],
             [
              0.7777777777777778,
              "#fb9f3a"
             ],
             [
              0.8888888888888888,
              "#fdca26"
             ],
             [
              1,
              "#f0f921"
             ]
            ],
            "type": "contour"
           }
          ],
          "contourcarpet": [
           {
            "colorbar": {
             "outlinewidth": 0,
             "ticks": ""
            },
            "type": "contourcarpet"
           }
          ],
          "heatmap": [
           {
            "colorbar": {
             "outlinewidth": 0,
             "ticks": ""
            },
            "colorscale": [
             [
              0,
              "#0d0887"
             ],
             [
              0.1111111111111111,
              "#46039f"
             ],
             [
              0.2222222222222222,
              "#7201a8"
             ],
             [
              0.3333333333333333,
              "#9c179e"
             ],
             [
              0.4444444444444444,
              "#bd3786"
             ],
             [
              0.5555555555555556,
              "#d8576b"
             ],
             [
              0.6666666666666666,
              "#ed7953"
             ],
             [
              0.7777777777777778,
              "#fb9f3a"
             ],
             [
              0.8888888888888888,
              "#fdca26"
             ],
             [
              1,
              "#f0f921"
             ]
            ],
            "type": "heatmap"
           }
          ],
          "heatmapgl": [
           {
            "colorbar": {
             "outlinewidth": 0,
             "ticks": ""
            },
            "colorscale": [
             [
              0,
              "#0d0887"
             ],
             [
              0.1111111111111111,
              "#46039f"
             ],
             [
              0.2222222222222222,
              "#7201a8"
             ],
             [
              0.3333333333333333,
              "#9c179e"
             ],
             [
              0.4444444444444444,
              "#bd3786"
             ],
             [
              0.5555555555555556,
              "#d8576b"
             ],
             [
              0.6666666666666666,
              "#ed7953"
             ],
             [
              0.7777777777777778,
              "#fb9f3a"
             ],
             [
              0.8888888888888888,
              "#fdca26"
             ],
             [
              1,
              "#f0f921"
             ]
            ],
            "type": "heatmapgl"
           }
          ],
          "histogram": [
           {
            "marker": {
             "colorbar": {
              "outlinewidth": 0,
              "ticks": ""
             }
            },
            "type": "histogram"
           }
          ],
          "histogram2d": [
           {
            "colorbar": {
             "outlinewidth": 0,
             "ticks": ""
            },
            "colorscale": [
             [
              0,
              "#0d0887"
             ],
             [
              0.1111111111111111,
              "#46039f"
             ],
             [
              0.2222222222222222,
              "#7201a8"
             ],
             [
              0.3333333333333333,
              "#9c179e"
             ],
             [
              0.4444444444444444,
              "#bd3786"
             ],
             [
              0.5555555555555556,
              "#d8576b"
             ],
             [
              0.6666666666666666,
              "#ed7953"
             ],
             [
              0.7777777777777778,
              "#fb9f3a"
             ],
             [
              0.8888888888888888,
              "#fdca26"
             ],
             [
              1,
              "#f0f921"
             ]
            ],
            "type": "histogram2d"
           }
          ],
          "histogram2dcontour": [
           {
            "colorbar": {
             "outlinewidth": 0,
             "ticks": ""
            },
            "colorscale": [
             [
              0,
              "#0d0887"
             ],
             [
              0.1111111111111111,
              "#46039f"
             ],
             [
              0.2222222222222222,
              "#7201a8"
             ],
             [
              0.3333333333333333,
              "#9c179e"
             ],
             [
              0.4444444444444444,
              "#bd3786"
             ],
             [
              0.5555555555555556,
              "#d8576b"
             ],
             [
              0.6666666666666666,
              "#ed7953"
             ],
             [
              0.7777777777777778,
              "#fb9f3a"
             ],
             [
              0.8888888888888888,
              "#fdca26"
             ],
             [
              1,
              "#f0f921"
             ]
            ],
            "type": "histogram2dcontour"
           }
          ],
          "mesh3d": [
           {
            "colorbar": {
             "outlinewidth": 0,
             "ticks": ""
            },
            "type": "mesh3d"
           }
          ],
          "parcoords": [
           {
            "line": {
             "colorbar": {
              "outlinewidth": 0,
              "ticks": ""
             }
            },
            "type": "parcoords"
           }
          ],
          "pie": [
           {
            "automargin": true,
            "type": "pie"
           }
          ],
          "scatter": [
           {
            "marker": {
             "colorbar": {
              "outlinewidth": 0,
              "ticks": ""
             }
            },
            "type": "scatter"
           }
          ],
          "scatter3d": [
           {
            "line": {
             "colorbar": {
              "outlinewidth": 0,
              "ticks": ""
             }
            },
            "marker": {
             "colorbar": {
              "outlinewidth": 0,
              "ticks": ""
             }
            },
            "type": "scatter3d"
           }
          ],
          "scattercarpet": [
           {
            "marker": {
             "colorbar": {
              "outlinewidth": 0,
              "ticks": ""
             }
            },
            "type": "scattercarpet"
           }
          ],
          "scattergeo": [
           {
            "marker": {
             "colorbar": {
              "outlinewidth": 0,
              "ticks": ""
             }
            },
            "type": "scattergeo"
           }
          ],
          "scattergl": [
           {
            "marker": {
             "colorbar": {
              "outlinewidth": 0,
              "ticks": ""
             }
            },
            "type": "scattergl"
           }
          ],
          "scattermapbox": [
           {
            "marker": {
             "colorbar": {
              "outlinewidth": 0,
              "ticks": ""
             }
            },
            "type": "scattermapbox"
           }
          ],
          "scatterpolar": [
           {
            "marker": {
             "colorbar": {
              "outlinewidth": 0,
              "ticks": ""
             }
            },
            "type": "scatterpolar"
           }
          ],
          "scatterpolargl": [
           {
            "marker": {
             "colorbar": {
              "outlinewidth": 0,
              "ticks": ""
             }
            },
            "type": "scatterpolargl"
           }
          ],
          "scatterternary": [
           {
            "marker": {
             "colorbar": {
              "outlinewidth": 0,
              "ticks": ""
             }
            },
            "type": "scatterternary"
           }
          ],
          "surface": [
           {
            "colorbar": {
             "outlinewidth": 0,
             "ticks": ""
            },
            "colorscale": [
             [
              0,
              "#0d0887"
             ],
             [
              0.1111111111111111,
              "#46039f"
             ],
             [
              0.2222222222222222,
              "#7201a8"
             ],
             [
              0.3333333333333333,
              "#9c179e"
             ],
             [
              0.4444444444444444,
              "#bd3786"
             ],
             [
              0.5555555555555556,
              "#d8576b"
             ],
             [
              0.6666666666666666,
              "#ed7953"
             ],
             [
              0.7777777777777778,
              "#fb9f3a"
             ],
             [
              0.8888888888888888,
              "#fdca26"
             ],
             [
              1,
              "#f0f921"
             ]
            ],
            "type": "surface"
           }
          ],
          "table": [
           {
            "cells": {
             "fill": {
              "color": "#EBF0F8"
             },
             "line": {
              "color": "white"
             }
            },
            "header": {
             "fill": {
              "color": "#C8D4E3"
             },
             "line": {
              "color": "white"
             }
            },
            "type": "table"
           }
          ]
         },
         "layout": {
          "annotationdefaults": {
           "arrowcolor": "#2a3f5f",
           "arrowhead": 0,
           "arrowwidth": 1
          },
          "coloraxis": {
           "colorbar": {
            "outlinewidth": 0,
            "ticks": ""
           }
          },
          "colorscale": {
           "diverging": [
            [
             0,
             "#8e0152"
            ],
            [
             0.1,
             "#c51b7d"
            ],
            [
             0.2,
             "#de77ae"
            ],
            [
             0.3,
             "#f1b6da"
            ],
            [
             0.4,
             "#fde0ef"
            ],
            [
             0.5,
             "#f7f7f7"
            ],
            [
             0.6,
             "#e6f5d0"
            ],
            [
             0.7,
             "#b8e186"
            ],
            [
             0.8,
             "#7fbc41"
            ],
            [
             0.9,
             "#4d9221"
            ],
            [
             1,
             "#276419"
            ]
           ],
           "sequential": [
            [
             0,
             "#0d0887"
            ],
            [
             0.1111111111111111,
             "#46039f"
            ],
            [
             0.2222222222222222,
             "#7201a8"
            ],
            [
             0.3333333333333333,
             "#9c179e"
            ],
            [
             0.4444444444444444,
             "#bd3786"
            ],
            [
             0.5555555555555556,
             "#d8576b"
            ],
            [
             0.6666666666666666,
             "#ed7953"
            ],
            [
             0.7777777777777778,
             "#fb9f3a"
            ],
            [
             0.8888888888888888,
             "#fdca26"
            ],
            [
             1,
             "#f0f921"
            ]
           ],
           "sequentialminus": [
            [
             0,
             "#0d0887"
            ],
            [
             0.1111111111111111,
             "#46039f"
            ],
            [
             0.2222222222222222,
             "#7201a8"
            ],
            [
             0.3333333333333333,
             "#9c179e"
            ],
            [
             0.4444444444444444,
             "#bd3786"
            ],
            [
             0.5555555555555556,
             "#d8576b"
            ],
            [
             0.6666666666666666,
             "#ed7953"
            ],
            [
             0.7777777777777778,
             "#fb9f3a"
            ],
            [
             0.8888888888888888,
             "#fdca26"
            ],
            [
             1,
             "#f0f921"
            ]
           ]
          },
          "colorway": [
           "#636efa",
           "#EF553B",
           "#00cc96",
           "#ab63fa",
           "#FFA15A",
           "#19d3f3",
           "#FF6692",
           "#B6E880",
           "#FF97FF",
           "#FECB52"
          ],
          "font": {
           "color": "#2a3f5f"
          },
          "geo": {
           "bgcolor": "white",
           "lakecolor": "white",
           "landcolor": "#E5ECF6",
           "showlakes": true,
           "showland": true,
           "subunitcolor": "white"
          },
          "hoverlabel": {
           "align": "left"
          },
          "hovermode": "closest",
          "mapbox": {
           "style": "light"
          },
          "paper_bgcolor": "white",
          "plot_bgcolor": "#E5ECF6",
          "polar": {
           "angularaxis": {
            "gridcolor": "white",
            "linecolor": "white",
            "ticks": ""
           },
           "bgcolor": "#E5ECF6",
           "radialaxis": {
            "gridcolor": "white",
            "linecolor": "white",
            "ticks": ""
           }
          },
          "scene": {
           "xaxis": {
            "backgroundcolor": "#E5ECF6",
            "gridcolor": "white",
            "gridwidth": 2,
            "linecolor": "white",
            "showbackground": true,
            "ticks": "",
            "zerolinecolor": "white"
           },
           "yaxis": {
            "backgroundcolor": "#E5ECF6",
            "gridcolor": "white",
            "gridwidth": 2,
            "linecolor": "white",
            "showbackground": true,
            "ticks": "",
            "zerolinecolor": "white"
           },
           "zaxis": {
            "backgroundcolor": "#E5ECF6",
            "gridcolor": "white",
            "gridwidth": 2,
            "linecolor": "white",
            "showbackground": true,
            "ticks": "",
            "zerolinecolor": "white"
           }
          },
          "shapedefaults": {
           "line": {
            "color": "#2a3f5f"
           }
          },
          "ternary": {
           "aaxis": {
            "gridcolor": "white",
            "linecolor": "white",
            "ticks": ""
           },
           "baxis": {
            "gridcolor": "white",
            "linecolor": "white",
            "ticks": ""
           },
           "bgcolor": "#E5ECF6",
           "caxis": {
            "gridcolor": "white",
            "linecolor": "white",
            "ticks": ""
           }
          },
          "title": {
           "x": 0.05
          },
          "xaxis": {
           "automargin": true,
           "gridcolor": "white",
           "linecolor": "white",
           "ticks": "",
           "title": {
            "standoff": 15
           },
           "zerolinecolor": "white",
           "zerolinewidth": 2
          },
          "yaxis": {
           "automargin": true,
           "gridcolor": "white",
           "linecolor": "white",
           "ticks": "",
           "title": {
            "standoff": 15
           },
           "zerolinecolor": "white",
           "zerolinewidth": 2
          }
         }
        },
        "title": {
         "text": "Total Number of Cases"
        },
        "xaxis": {
         "title": {
          "text": "Date"
         }
        },
        "yaxis": {
         "title": {
          "text": "Infected"
         }
        }
       }
      },
      "text/html": [
       "<div>\n",
       "        \n",
       "        \n",
       "            <div id=\"88af3f6b-cb3b-41b6-8196-4b37b9ee9082\" class=\"plotly-graph-div\" style=\"height:525px; width:100%;\"></div>\n",
       "            <script type=\"text/javascript\">\n",
       "                require([\"plotly\"], function(Plotly) {\n",
       "                    window.PLOTLYENV=window.PLOTLYENV || {};\n",
       "                    \n",
       "                if (document.getElementById(\"88af3f6b-cb3b-41b6-8196-4b37b9ee9082\")) {\n",
       "                    Plotly.newPlot(\n",
       "                        '88af3f6b-cb3b-41b6-8196-4b37b9ee9082',\n",
       "                        [{\"mode\": \"lines\", \"name\": \"Total Number of Cases\", \"type\": \"scatter\", \"x\": [\"2020-03-05\", \"2020-03-06\", \"2020-03-07\", \"2020-03-09\", \"2020-03-10\", \"2020-03-11\", \"2020-03-12\", \"2020-03-13\", \"2020-03-14\", \"2020-03-15\", \"2020-03-16\", \"2020-03-17\", \"2020-03-18\", \"2020-03-19\", \"2020-03-20\", \"2020-03-21\", \"2020-03-22\", \"2020-03-23\", \"2020-03-24\", \"2020-03-25\"], \"y\": [18, 22, 24, 31, 31, 37, 54, 74, 98, 140, 172, 183, 208, 251, 311, 368, 413, 489, 572, 667]}],\n",
       "                        {\"template\": {\"data\": {\"bar\": [{\"error_x\": {\"color\": \"#2a3f5f\"}, \"error_y\": {\"color\": \"#2a3f5f\"}, \"marker\": {\"line\": {\"color\": \"#E5ECF6\", \"width\": 0.5}}, \"type\": \"bar\"}], \"barpolar\": [{\"marker\": {\"line\": {\"color\": \"#E5ECF6\", \"width\": 0.5}}, \"type\": \"barpolar\"}], \"carpet\": [{\"aaxis\": {\"endlinecolor\": \"#2a3f5f\", \"gridcolor\": \"white\", \"linecolor\": \"white\", \"minorgridcolor\": \"white\", \"startlinecolor\": \"#2a3f5f\"}, \"baxis\": {\"endlinecolor\": \"#2a3f5f\", \"gridcolor\": \"white\", \"linecolor\": \"white\", \"minorgridcolor\": \"white\", \"startlinecolor\": \"#2a3f5f\"}, \"type\": \"carpet\"}], \"choropleth\": [{\"colorbar\": {\"outlinewidth\": 0, \"ticks\": \"\"}, \"type\": \"choropleth\"}], \"contour\": [{\"colorbar\": {\"outlinewidth\": 0, \"ticks\": \"\"}, \"colorscale\": [[0.0, \"#0d0887\"], [0.1111111111111111, \"#46039f\"], [0.2222222222222222, \"#7201a8\"], [0.3333333333333333, \"#9c179e\"], [0.4444444444444444, \"#bd3786\"], [0.5555555555555556, \"#d8576b\"], [0.6666666666666666, \"#ed7953\"], [0.7777777777777778, \"#fb9f3a\"], [0.8888888888888888, \"#fdca26\"], [1.0, \"#f0f921\"]], \"type\": \"contour\"}], \"contourcarpet\": [{\"colorbar\": {\"outlinewidth\": 0, \"ticks\": \"\"}, \"type\": \"contourcarpet\"}], \"heatmap\": [{\"colorbar\": {\"outlinewidth\": 0, \"ticks\": \"\"}, \"colorscale\": [[0.0, \"#0d0887\"], [0.1111111111111111, \"#46039f\"], [0.2222222222222222, \"#7201a8\"], [0.3333333333333333, \"#9c179e\"], [0.4444444444444444, \"#bd3786\"], [0.5555555555555556, \"#d8576b\"], [0.6666666666666666, \"#ed7953\"], [0.7777777777777778, \"#fb9f3a\"], [0.8888888888888888, \"#fdca26\"], [1.0, \"#f0f921\"]], \"type\": \"heatmap\"}], \"heatmapgl\": [{\"colorbar\": {\"outlinewidth\": 0, \"ticks\": \"\"}, \"colorscale\": [[0.0, \"#0d0887\"], [0.1111111111111111, \"#46039f\"], [0.2222222222222222, \"#7201a8\"], [0.3333333333333333, \"#9c179e\"], [0.4444444444444444, \"#bd3786\"], [0.5555555555555556, \"#d8576b\"], [0.6666666666666666, \"#ed7953\"], [0.7777777777777778, \"#fb9f3a\"], [0.8888888888888888, \"#fdca26\"], [1.0, \"#f0f921\"]], \"type\": \"heatmapgl\"}], \"histogram\": [{\"marker\": {\"colorbar\": {\"outlinewidth\": 0, \"ticks\": \"\"}}, \"type\": \"histogram\"}], \"histogram2d\": [{\"colorbar\": {\"outlinewidth\": 0, \"ticks\": \"\"}, \"colorscale\": [[0.0, \"#0d0887\"], [0.1111111111111111, \"#46039f\"], [0.2222222222222222, \"#7201a8\"], [0.3333333333333333, \"#9c179e\"], [0.4444444444444444, \"#bd3786\"], [0.5555555555555556, \"#d8576b\"], [0.6666666666666666, \"#ed7953\"], [0.7777777777777778, \"#fb9f3a\"], [0.8888888888888888, \"#fdca26\"], [1.0, \"#f0f921\"]], \"type\": \"histogram2d\"}], \"histogram2dcontour\": [{\"colorbar\": {\"outlinewidth\": 0, \"ticks\": \"\"}, \"colorscale\": [[0.0, \"#0d0887\"], [0.1111111111111111, \"#46039f\"], [0.2222222222222222, \"#7201a8\"], [0.3333333333333333, \"#9c179e\"], [0.4444444444444444, \"#bd3786\"], [0.5555555555555556, \"#d8576b\"], [0.6666666666666666, \"#ed7953\"], [0.7777777777777778, \"#fb9f3a\"], [0.8888888888888888, \"#fdca26\"], [1.0, \"#f0f921\"]], \"type\": \"histogram2dcontour\"}], \"mesh3d\": [{\"colorbar\": {\"outlinewidth\": 0, \"ticks\": \"\"}, \"type\": \"mesh3d\"}], \"parcoords\": [{\"line\": {\"colorbar\": {\"outlinewidth\": 0, \"ticks\": \"\"}}, \"type\": \"parcoords\"}], \"pie\": [{\"automargin\": true, \"type\": \"pie\"}], \"scatter\": [{\"marker\": {\"colorbar\": {\"outlinewidth\": 0, \"ticks\": \"\"}}, \"type\": \"scatter\"}], \"scatter3d\": [{\"line\": {\"colorbar\": {\"outlinewidth\": 0, \"ticks\": \"\"}}, \"marker\": {\"colorbar\": {\"outlinewidth\": 0, \"ticks\": \"\"}}, \"type\": \"scatter3d\"}], \"scattercarpet\": [{\"marker\": {\"colorbar\": {\"outlinewidth\": 0, \"ticks\": \"\"}}, \"type\": \"scattercarpet\"}], \"scattergeo\": [{\"marker\": {\"colorbar\": {\"outlinewidth\": 0, \"ticks\": \"\"}}, \"type\": \"scattergeo\"}], \"scattergl\": [{\"marker\": {\"colorbar\": {\"outlinewidth\": 0, \"ticks\": \"\"}}, \"type\": \"scattergl\"}], \"scattermapbox\": [{\"marker\": {\"colorbar\": {\"outlinewidth\": 0, \"ticks\": \"\"}}, \"type\": \"scattermapbox\"}], \"scatterpolar\": [{\"marker\": {\"colorbar\": {\"outlinewidth\": 0, \"ticks\": \"\"}}, \"type\": \"scatterpolar\"}], \"scatterpolargl\": [{\"marker\": {\"colorbar\": {\"outlinewidth\": 0, \"ticks\": \"\"}}, \"type\": \"scatterpolargl\"}], \"scatterternary\": [{\"marker\": {\"colorbar\": {\"outlinewidth\": 0, \"ticks\": \"\"}}, \"type\": \"scatterternary\"}], \"surface\": [{\"colorbar\": {\"outlinewidth\": 0, \"ticks\": \"\"}, \"colorscale\": [[0.0, \"#0d0887\"], [0.1111111111111111, \"#46039f\"], [0.2222222222222222, \"#7201a8\"], [0.3333333333333333, \"#9c179e\"], [0.4444444444444444, \"#bd3786\"], [0.5555555555555556, \"#d8576b\"], [0.6666666666666666, \"#ed7953\"], [0.7777777777777778, \"#fb9f3a\"], [0.8888888888888888, \"#fdca26\"], [1.0, \"#f0f921\"]], \"type\": \"surface\"}], \"table\": [{\"cells\": {\"fill\": {\"color\": \"#EBF0F8\"}, \"line\": {\"color\": \"white\"}}, \"header\": {\"fill\": {\"color\": \"#C8D4E3\"}, \"line\": {\"color\": \"white\"}}, \"type\": \"table\"}]}, \"layout\": {\"annotationdefaults\": {\"arrowcolor\": \"#2a3f5f\", \"arrowhead\": 0, \"arrowwidth\": 1}, \"coloraxis\": {\"colorbar\": {\"outlinewidth\": 0, \"ticks\": \"\"}}, \"colorscale\": {\"diverging\": [[0, \"#8e0152\"], [0.1, \"#c51b7d\"], [0.2, \"#de77ae\"], [0.3, \"#f1b6da\"], [0.4, \"#fde0ef\"], [0.5, \"#f7f7f7\"], [0.6, \"#e6f5d0\"], [0.7, \"#b8e186\"], [0.8, \"#7fbc41\"], [0.9, \"#4d9221\"], [1, \"#276419\"]], \"sequential\": [[0.0, \"#0d0887\"], [0.1111111111111111, \"#46039f\"], [0.2222222222222222, \"#7201a8\"], [0.3333333333333333, \"#9c179e\"], [0.4444444444444444, \"#bd3786\"], [0.5555555555555556, \"#d8576b\"], [0.6666666666666666, \"#ed7953\"], [0.7777777777777778, \"#fb9f3a\"], [0.8888888888888888, \"#fdca26\"], [1.0, \"#f0f921\"]], \"sequentialminus\": [[0.0, \"#0d0887\"], [0.1111111111111111, \"#46039f\"], [0.2222222222222222, \"#7201a8\"], [0.3333333333333333, \"#9c179e\"], [0.4444444444444444, \"#bd3786\"], [0.5555555555555556, \"#d8576b\"], [0.6666666666666666, \"#ed7953\"], [0.7777777777777778, \"#fb9f3a\"], [0.8888888888888888, \"#fdca26\"], [1.0, \"#f0f921\"]]}, \"colorway\": [\"#636efa\", \"#EF553B\", \"#00cc96\", \"#ab63fa\", \"#FFA15A\", \"#19d3f3\", \"#FF6692\", \"#B6E880\", \"#FF97FF\", \"#FECB52\"], \"font\": {\"color\": \"#2a3f5f\"}, \"geo\": {\"bgcolor\": \"white\", \"lakecolor\": \"white\", \"landcolor\": \"#E5ECF6\", \"showlakes\": true, \"showland\": true, \"subunitcolor\": \"white\"}, \"hoverlabel\": {\"align\": \"left\"}, \"hovermode\": \"closest\", \"mapbox\": {\"style\": \"light\"}, \"paper_bgcolor\": \"white\", \"plot_bgcolor\": \"#E5ECF6\", \"polar\": {\"angularaxis\": {\"gridcolor\": \"white\", \"linecolor\": \"white\", \"ticks\": \"\"}, \"bgcolor\": \"#E5ECF6\", \"radialaxis\": {\"gridcolor\": \"white\", \"linecolor\": \"white\", \"ticks\": \"\"}}, \"scene\": {\"xaxis\": {\"backgroundcolor\": \"#E5ECF6\", \"gridcolor\": \"white\", \"gridwidth\": 2, \"linecolor\": \"white\", \"showbackground\": true, \"ticks\": \"\", \"zerolinecolor\": \"white\"}, \"yaxis\": {\"backgroundcolor\": \"#E5ECF6\", \"gridcolor\": \"white\", \"gridwidth\": 2, \"linecolor\": \"white\", \"showbackground\": true, \"ticks\": \"\", \"zerolinecolor\": \"white\"}, \"zaxis\": {\"backgroundcolor\": \"#E5ECF6\", \"gridcolor\": \"white\", \"gridwidth\": 2, \"linecolor\": \"white\", \"showbackground\": true, \"ticks\": \"\", \"zerolinecolor\": \"white\"}}, \"shapedefaults\": {\"line\": {\"color\": \"#2a3f5f\"}}, \"ternary\": {\"aaxis\": {\"gridcolor\": \"white\", \"linecolor\": \"white\", \"ticks\": \"\"}, \"baxis\": {\"gridcolor\": \"white\", \"linecolor\": \"white\", \"ticks\": \"\"}, \"bgcolor\": \"#E5ECF6\", \"caxis\": {\"gridcolor\": \"white\", \"linecolor\": \"white\", \"ticks\": \"\"}}, \"title\": {\"x\": 0.05}, \"xaxis\": {\"automargin\": true, \"gridcolor\": \"white\", \"linecolor\": \"white\", \"ticks\": \"\", \"title\": {\"standoff\": 15}, \"zerolinecolor\": \"white\", \"zerolinewidth\": 2}, \"yaxis\": {\"automargin\": true, \"gridcolor\": \"white\", \"linecolor\": \"white\", \"ticks\": \"\", \"title\": {\"standoff\": 15}, \"zerolinecolor\": \"white\", \"zerolinewidth\": 2}}}, \"title\": {\"text\": \"Total Number of Cases\"}, \"xaxis\": {\"title\": {\"text\": \"Date\"}}, \"yaxis\": {\"title\": {\"text\": \"Infected\"}}},\n",
       "                        {\"responsive\": true}\n",
       "                    ).then(function(){\n",
       "                            \n",
       "var gd = document.getElementById('88af3f6b-cb3b-41b6-8196-4b37b9ee9082');\n",
       "var x = new MutationObserver(function (mutations, observer) {{\n",
       "        var display = window.getComputedStyle(gd).display;\n",
       "        if (!display || display === 'none') {{\n",
       "            console.log([gd, 'removed!']);\n",
       "            Plotly.purge(gd);\n",
       "            observer.disconnect();\n",
       "        }}\n",
       "}});\n",
       "\n",
       "// Listen for the removal of the full notebook cells\n",
       "var notebookContainer = gd.closest('#notebook-container');\n",
       "if (notebookContainer) {{\n",
       "    x.observe(notebookContainer, {childList: true});\n",
       "}}\n",
       "\n",
       "// Listen for the clearing of the current output cell\n",
       "var outputEl = gd.closest('.output');\n",
       "if (outputEl) {{\n",
       "    x.observe(outputEl, {childList: true});\n",
       "}}\n",
       "\n",
       "                        })\n",
       "                };\n",
       "                });\n",
       "            </script>\n",
       "        </div>"
      ]
     },
     "metadata": {},
     "output_type": "display_data"
    }
   ],
   "source": [
    "fig = go.Figure()\n",
    "fig.add_trace(go.Scatter(x=dates, y=positive,\n",
    "                    mode='lines',\n",
    "                    name='Total Number of Cases'))\n",
    "\n",
    "fig.update_layout(\n",
    "    title_text='Total Number of Cases', # title of plot\n",
    "    xaxis_title_text='Date', # xaxis label\n",
    "    yaxis_title_text='Infected', # yaxis label\n",
    ")\n",
    "fig.show()"
   ]
  },
  {
   "cell_type": "code",
   "execution_count": 253,
   "metadata": {},
   "outputs": [
    {
     "data": {
      "application/vnd.plotly.v1+json": {
       "config": {
        "plotlyServerURL": "https://plot.ly"
       },
       "data": [
        {
         "name": "Negative",
         "type": "bar",
         "x": [
          "2020-03-05",
          "2020-03-06",
          "2020-03-07",
          "2020-03-09",
          "2020-03-10",
          "2020-03-11",
          "2020-03-12",
          "2020-03-13",
          "2020-03-14",
          "2020-03-15",
          "2020-03-16",
          "2020-03-17",
          "2020-03-18",
          "2020-03-19",
          "2020-03-20",
          "2020-03-21",
          "2020-03-22",
          "2020-03-23",
          "2020-03-24",
          "2020-03-25"
         ],
         "y": [
          1466,
          1665,
          1918,
          2347,
          2599,
          2888,
          3590,
          4470,
          5606,
          7004,
          8464,
          9415,
          10305,
          12421,
          13718,
          15768,
          17634,
          19586,
          21795,
          24458
         ]
        },
        {
         "name": "Under Investigation",
         "type": "bar",
         "x": [
          "2020-03-05",
          "2020-03-06",
          "2020-03-07",
          "2020-03-09",
          "2020-03-10",
          "2020-03-11",
          "2020-03-12",
          "2020-03-13",
          "2020-03-14",
          "2020-03-15",
          "2020-03-16",
          "2020-03-17",
          "2020-03-18",
          "2020-03-19",
          "2020-03-20",
          "2020-03-21",
          "2020-03-22",
          "2020-03-23",
          "2020-03-24",
          "2020-03-25"
         ],
         "y": [
          78,
          72,
          36,
          22,
          112,
          465,
          536,
          580,
          939,
          1316,
          1537,
          1567,
          3378,
          3971,
          5475,
          7239,
          8361,
          8417,
          10074,
          10489
         ]
        },
        {
         "name": "Confirmed Positive",
         "type": "bar",
         "x": [
          "2020-03-05",
          "2020-03-06",
          "2020-03-07",
          "2020-03-09",
          "2020-03-10",
          "2020-03-11",
          "2020-03-12",
          "2020-03-13",
          "2020-03-14",
          "2020-03-15",
          "2020-03-16",
          "2020-03-17",
          "2020-03-18",
          "2020-03-19",
          "2020-03-20",
          "2020-03-21",
          "2020-03-22",
          "2020-03-23",
          "2020-03-24",
          "2020-03-25"
         ],
         "y": [
          18,
          22,
          24,
          31,
          31,
          37,
          54,
          74,
          98,
          140,
          172,
          183,
          208,
          251,
          311,
          368,
          413,
          489,
          572,
          667
         ]
        },
        {
         "name": "Resolved",
         "type": "bar",
         "x": [
          "2020-03-05",
          "2020-03-06",
          "2020-03-07",
          "2020-03-09",
          "2020-03-10",
          "2020-03-11",
          "2020-03-12",
          "2020-03-13",
          "2020-03-14",
          "2020-03-15",
          "2020-03-16",
          "2020-03-17",
          "2020-03-18",
          "2020-03-19",
          "2020-03-20",
          "2020-03-21",
          "2020-03-22",
          "2020-03-23",
          "2020-03-24",
          "2020-03-25"
         ],
         "y": [
          4,
          4,
          4,
          4,
          5,
          5,
          5,
          5,
          5,
          5,
          5,
          5,
          5,
          5,
          5,
          6,
          8,
          8,
          8,
          8
         ]
        },
        {
         "name": "Dead",
         "type": "bar",
         "x": [
          "2020-03-05",
          "2020-03-06",
          "2020-03-07",
          "2020-03-09",
          "2020-03-10",
          "2020-03-11",
          "2020-03-12",
          "2020-03-13",
          "2020-03-14",
          "2020-03-15",
          "2020-03-16",
          "2020-03-17",
          "2020-03-18",
          "2020-03-19",
          "2020-03-20",
          "2020-03-21",
          "2020-03-22",
          "2020-03-23",
          "2020-03-24",
          "2020-03-25"
         ],
         "y": [
          0,
          0,
          0,
          0,
          0,
          0,
          0,
          0,
          0,
          0,
          0,
          1,
          1,
          2,
          2,
          3,
          3,
          6,
          8,
          13
         ]
        }
       ],
       "layout": {
        "bargap": 0.7,
        "bargroupgap": 0.1,
        "barmode": "stack",
        "template": {
         "data": {
          "bar": [
           {
            "error_x": {
             "color": "#2a3f5f"
            },
            "error_y": {
             "color": "#2a3f5f"
            },
            "marker": {
             "line": {
              "color": "#E5ECF6",
              "width": 0.5
             }
            },
            "type": "bar"
           }
          ],
          "barpolar": [
           {
            "marker": {
             "line": {
              "color": "#E5ECF6",
              "width": 0.5
             }
            },
            "type": "barpolar"
           }
          ],
          "carpet": [
           {
            "aaxis": {
             "endlinecolor": "#2a3f5f",
             "gridcolor": "white",
             "linecolor": "white",
             "minorgridcolor": "white",
             "startlinecolor": "#2a3f5f"
            },
            "baxis": {
             "endlinecolor": "#2a3f5f",
             "gridcolor": "white",
             "linecolor": "white",
             "minorgridcolor": "white",
             "startlinecolor": "#2a3f5f"
            },
            "type": "carpet"
           }
          ],
          "choropleth": [
           {
            "colorbar": {
             "outlinewidth": 0,
             "ticks": ""
            },
            "type": "choropleth"
           }
          ],
          "contour": [
           {
            "colorbar": {
             "outlinewidth": 0,
             "ticks": ""
            },
            "colorscale": [
             [
              0,
              "#0d0887"
             ],
             [
              0.1111111111111111,
              "#46039f"
             ],
             [
              0.2222222222222222,
              "#7201a8"
             ],
             [
              0.3333333333333333,
              "#9c179e"
             ],
             [
              0.4444444444444444,
              "#bd3786"
             ],
             [
              0.5555555555555556,
              "#d8576b"
             ],
             [
              0.6666666666666666,
              "#ed7953"
             ],
             [
              0.7777777777777778,
              "#fb9f3a"
             ],
             [
              0.8888888888888888,
              "#fdca26"
             ],
             [
              1,
              "#f0f921"
             ]
            ],
            "type": "contour"
           }
          ],
          "contourcarpet": [
           {
            "colorbar": {
             "outlinewidth": 0,
             "ticks": ""
            },
            "type": "contourcarpet"
           }
          ],
          "heatmap": [
           {
            "colorbar": {
             "outlinewidth": 0,
             "ticks": ""
            },
            "colorscale": [
             [
              0,
              "#0d0887"
             ],
             [
              0.1111111111111111,
              "#46039f"
             ],
             [
              0.2222222222222222,
              "#7201a8"
             ],
             [
              0.3333333333333333,
              "#9c179e"
             ],
             [
              0.4444444444444444,
              "#bd3786"
             ],
             [
              0.5555555555555556,
              "#d8576b"
             ],
             [
              0.6666666666666666,
              "#ed7953"
             ],
             [
              0.7777777777777778,
              "#fb9f3a"
             ],
             [
              0.8888888888888888,
              "#fdca26"
             ],
             [
              1,
              "#f0f921"
             ]
            ],
            "type": "heatmap"
           }
          ],
          "heatmapgl": [
           {
            "colorbar": {
             "outlinewidth": 0,
             "ticks": ""
            },
            "colorscale": [
             [
              0,
              "#0d0887"
             ],
             [
              0.1111111111111111,
              "#46039f"
             ],
             [
              0.2222222222222222,
              "#7201a8"
             ],
             [
              0.3333333333333333,
              "#9c179e"
             ],
             [
              0.4444444444444444,
              "#bd3786"
             ],
             [
              0.5555555555555556,
              "#d8576b"
             ],
             [
              0.6666666666666666,
              "#ed7953"
             ],
             [
              0.7777777777777778,
              "#fb9f3a"
             ],
             [
              0.8888888888888888,
              "#fdca26"
             ],
             [
              1,
              "#f0f921"
             ]
            ],
            "type": "heatmapgl"
           }
          ],
          "histogram": [
           {
            "marker": {
             "colorbar": {
              "outlinewidth": 0,
              "ticks": ""
             }
            },
            "type": "histogram"
           }
          ],
          "histogram2d": [
           {
            "colorbar": {
             "outlinewidth": 0,
             "ticks": ""
            },
            "colorscale": [
             [
              0,
              "#0d0887"
             ],
             [
              0.1111111111111111,
              "#46039f"
             ],
             [
              0.2222222222222222,
              "#7201a8"
             ],
             [
              0.3333333333333333,
              "#9c179e"
             ],
             [
              0.4444444444444444,
              "#bd3786"
             ],
             [
              0.5555555555555556,
              "#d8576b"
             ],
             [
              0.6666666666666666,
              "#ed7953"
             ],
             [
              0.7777777777777778,
              "#fb9f3a"
             ],
             [
              0.8888888888888888,
              "#fdca26"
             ],
             [
              1,
              "#f0f921"
             ]
            ],
            "type": "histogram2d"
           }
          ],
          "histogram2dcontour": [
           {
            "colorbar": {
             "outlinewidth": 0,
             "ticks": ""
            },
            "colorscale": [
             [
              0,
              "#0d0887"
             ],
             [
              0.1111111111111111,
              "#46039f"
             ],
             [
              0.2222222222222222,
              "#7201a8"
             ],
             [
              0.3333333333333333,
              "#9c179e"
             ],
             [
              0.4444444444444444,
              "#bd3786"
             ],
             [
              0.5555555555555556,
              "#d8576b"
             ],
             [
              0.6666666666666666,
              "#ed7953"
             ],
             [
              0.7777777777777778,
              "#fb9f3a"
             ],
             [
              0.8888888888888888,
              "#fdca26"
             ],
             [
              1,
              "#f0f921"
             ]
            ],
            "type": "histogram2dcontour"
           }
          ],
          "mesh3d": [
           {
            "colorbar": {
             "outlinewidth": 0,
             "ticks": ""
            },
            "type": "mesh3d"
           }
          ],
          "parcoords": [
           {
            "line": {
             "colorbar": {
              "outlinewidth": 0,
              "ticks": ""
             }
            },
            "type": "parcoords"
           }
          ],
          "pie": [
           {
            "automargin": true,
            "type": "pie"
           }
          ],
          "scatter": [
           {
            "marker": {
             "colorbar": {
              "outlinewidth": 0,
              "ticks": ""
             }
            },
            "type": "scatter"
           }
          ],
          "scatter3d": [
           {
            "line": {
             "colorbar": {
              "outlinewidth": 0,
              "ticks": ""
             }
            },
            "marker": {
             "colorbar": {
              "outlinewidth": 0,
              "ticks": ""
             }
            },
            "type": "scatter3d"
           }
          ],
          "scattercarpet": [
           {
            "marker": {
             "colorbar": {
              "outlinewidth": 0,
              "ticks": ""
             }
            },
            "type": "scattercarpet"
           }
          ],
          "scattergeo": [
           {
            "marker": {
             "colorbar": {
              "outlinewidth": 0,
              "ticks": ""
             }
            },
            "type": "scattergeo"
           }
          ],
          "scattergl": [
           {
            "marker": {
             "colorbar": {
              "outlinewidth": 0,
              "ticks": ""
             }
            },
            "type": "scattergl"
           }
          ],
          "scattermapbox": [
           {
            "marker": {
             "colorbar": {
              "outlinewidth": 0,
              "ticks": ""
             }
            },
            "type": "scattermapbox"
           }
          ],
          "scatterpolar": [
           {
            "marker": {
             "colorbar": {
              "outlinewidth": 0,
              "ticks": ""
             }
            },
            "type": "scatterpolar"
           }
          ],
          "scatterpolargl": [
           {
            "marker": {
             "colorbar": {
              "outlinewidth": 0,
              "ticks": ""
             }
            },
            "type": "scatterpolargl"
           }
          ],
          "scatterternary": [
           {
            "marker": {
             "colorbar": {
              "outlinewidth": 0,
              "ticks": ""
             }
            },
            "type": "scatterternary"
           }
          ],
          "surface": [
           {
            "colorbar": {
             "outlinewidth": 0,
             "ticks": ""
            },
            "colorscale": [
             [
              0,
              "#0d0887"
             ],
             [
              0.1111111111111111,
              "#46039f"
             ],
             [
              0.2222222222222222,
              "#7201a8"
             ],
             [
              0.3333333333333333,
              "#9c179e"
             ],
             [
              0.4444444444444444,
              "#bd3786"
             ],
             [
              0.5555555555555556,
              "#d8576b"
             ],
             [
              0.6666666666666666,
              "#ed7953"
             ],
             [
              0.7777777777777778,
              "#fb9f3a"
             ],
             [
              0.8888888888888888,
              "#fdca26"
             ],
             [
              1,
              "#f0f921"
             ]
            ],
            "type": "surface"
           }
          ],
          "table": [
           {
            "cells": {
             "fill": {
              "color": "#EBF0F8"
             },
             "line": {
              "color": "white"
             }
            },
            "header": {
             "fill": {
              "color": "#C8D4E3"
             },
             "line": {
              "color": "white"
             }
            },
            "type": "table"
           }
          ]
         },
         "layout": {
          "annotationdefaults": {
           "arrowcolor": "#2a3f5f",
           "arrowhead": 0,
           "arrowwidth": 1
          },
          "coloraxis": {
           "colorbar": {
            "outlinewidth": 0,
            "ticks": ""
           }
          },
          "colorscale": {
           "diverging": [
            [
             0,
             "#8e0152"
            ],
            [
             0.1,
             "#c51b7d"
            ],
            [
             0.2,
             "#de77ae"
            ],
            [
             0.3,
             "#f1b6da"
            ],
            [
             0.4,
             "#fde0ef"
            ],
            [
             0.5,
             "#f7f7f7"
            ],
            [
             0.6,
             "#e6f5d0"
            ],
            [
             0.7,
             "#b8e186"
            ],
            [
             0.8,
             "#7fbc41"
            ],
            [
             0.9,
             "#4d9221"
            ],
            [
             1,
             "#276419"
            ]
           ],
           "sequential": [
            [
             0,
             "#0d0887"
            ],
            [
             0.1111111111111111,
             "#46039f"
            ],
            [
             0.2222222222222222,
             "#7201a8"
            ],
            [
             0.3333333333333333,
             "#9c179e"
            ],
            [
             0.4444444444444444,
             "#bd3786"
            ],
            [
             0.5555555555555556,
             "#d8576b"
            ],
            [
             0.6666666666666666,
             "#ed7953"
            ],
            [
             0.7777777777777778,
             "#fb9f3a"
            ],
            [
             0.8888888888888888,
             "#fdca26"
            ],
            [
             1,
             "#f0f921"
            ]
           ],
           "sequentialminus": [
            [
             0,
             "#0d0887"
            ],
            [
             0.1111111111111111,
             "#46039f"
            ],
            [
             0.2222222222222222,
             "#7201a8"
            ],
            [
             0.3333333333333333,
             "#9c179e"
            ],
            [
             0.4444444444444444,
             "#bd3786"
            ],
            [
             0.5555555555555556,
             "#d8576b"
            ],
            [
             0.6666666666666666,
             "#ed7953"
            ],
            [
             0.7777777777777778,
             "#fb9f3a"
            ],
            [
             0.8888888888888888,
             "#fdca26"
            ],
            [
             1,
             "#f0f921"
            ]
           ]
          },
          "colorway": [
           "#636efa",
           "#EF553B",
           "#00cc96",
           "#ab63fa",
           "#FFA15A",
           "#19d3f3",
           "#FF6692",
           "#B6E880",
           "#FF97FF",
           "#FECB52"
          ],
          "font": {
           "color": "#2a3f5f"
          },
          "geo": {
           "bgcolor": "white",
           "lakecolor": "white",
           "landcolor": "#E5ECF6",
           "showlakes": true,
           "showland": true,
           "subunitcolor": "white"
          },
          "hoverlabel": {
           "align": "left"
          },
          "hovermode": "closest",
          "mapbox": {
           "style": "light"
          },
          "paper_bgcolor": "white",
          "plot_bgcolor": "#E5ECF6",
          "polar": {
           "angularaxis": {
            "gridcolor": "white",
            "linecolor": "white",
            "ticks": ""
           },
           "bgcolor": "#E5ECF6",
           "radialaxis": {
            "gridcolor": "white",
            "linecolor": "white",
            "ticks": ""
           }
          },
          "scene": {
           "xaxis": {
            "backgroundcolor": "#E5ECF6",
            "gridcolor": "white",
            "gridwidth": 2,
            "linecolor": "white",
            "showbackground": true,
            "ticks": "",
            "zerolinecolor": "white"
           },
           "yaxis": {
            "backgroundcolor": "#E5ECF6",
            "gridcolor": "white",
            "gridwidth": 2,
            "linecolor": "white",
            "showbackground": true,
            "ticks": "",
            "zerolinecolor": "white"
           },
           "zaxis": {
            "backgroundcolor": "#E5ECF6",
            "gridcolor": "white",
            "gridwidth": 2,
            "linecolor": "white",
            "showbackground": true,
            "ticks": "",
            "zerolinecolor": "white"
           }
          },
          "shapedefaults": {
           "line": {
            "color": "#2a3f5f"
           }
          },
          "ternary": {
           "aaxis": {
            "gridcolor": "white",
            "linecolor": "white",
            "ticks": ""
           },
           "baxis": {
            "gridcolor": "white",
            "linecolor": "white",
            "ticks": ""
           },
           "bgcolor": "#E5ECF6",
           "caxis": {
            "gridcolor": "white",
            "linecolor": "white",
            "ticks": ""
           }
          },
          "title": {
           "x": 0.05
          },
          "xaxis": {
           "automargin": true,
           "gridcolor": "white",
           "linecolor": "white",
           "ticks": "",
           "title": {
            "standoff": 15
           },
           "zerolinecolor": "white",
           "zerolinewidth": 2
          },
          "yaxis": {
           "automargin": true,
           "gridcolor": "white",
           "linecolor": "white",
           "ticks": "",
           "title": {
            "standoff": 15
           },
           "zerolinecolor": "white",
           "zerolinewidth": 2
          }
         }
        },
        "title": {
         "text": "Infection over time"
        },
        "xaxis": {
         "title": {
          "text": "Date"
         }
        },
        "yaxis": {
         "title": {
          "text": "Infected"
         }
        }
       }
      },
      "text/html": [
       "<div>\n",
       "        \n",
       "        \n",
       "            <div id=\"9cfc00d5-c219-4b07-8547-2a42d8f613fe\" class=\"plotly-graph-div\" style=\"height:525px; width:100%;\"></div>\n",
       "            <script type=\"text/javascript\">\n",
       "                require([\"plotly\"], function(Plotly) {\n",
       "                    window.PLOTLYENV=window.PLOTLYENV || {};\n",
       "                    \n",
       "                if (document.getElementById(\"9cfc00d5-c219-4b07-8547-2a42d8f613fe\")) {\n",
       "                    Plotly.newPlot(\n",
       "                        '9cfc00d5-c219-4b07-8547-2a42d8f613fe',\n",
       "                        [{\"name\": \"Negative\", \"type\": \"bar\", \"x\": [\"2020-03-05\", \"2020-03-06\", \"2020-03-07\", \"2020-03-09\", \"2020-03-10\", \"2020-03-11\", \"2020-03-12\", \"2020-03-13\", \"2020-03-14\", \"2020-03-15\", \"2020-03-16\", \"2020-03-17\", \"2020-03-18\", \"2020-03-19\", \"2020-03-20\", \"2020-03-21\", \"2020-03-22\", \"2020-03-23\", \"2020-03-24\", \"2020-03-25\"], \"y\": [1466, 1665, 1918, 2347, 2599, 2888, 3590, 4470, 5606, 7004, 8464, 9415, 10305, 12421, 13718, 15768, 17634, 19586, 21795, 24458]}, {\"name\": \"Under Investigation\", \"type\": \"bar\", \"x\": [\"2020-03-05\", \"2020-03-06\", \"2020-03-07\", \"2020-03-09\", \"2020-03-10\", \"2020-03-11\", \"2020-03-12\", \"2020-03-13\", \"2020-03-14\", \"2020-03-15\", \"2020-03-16\", \"2020-03-17\", \"2020-03-18\", \"2020-03-19\", \"2020-03-20\", \"2020-03-21\", \"2020-03-22\", \"2020-03-23\", \"2020-03-24\", \"2020-03-25\"], \"y\": [78, 72, 36, 22, 112, 465, 536, 580, 939, 1316, 1537, 1567, 3378, 3971, 5475, 7239, 8361, 8417, 10074, 10489]}, {\"name\": \"Confirmed Positive\", \"type\": \"bar\", \"x\": [\"2020-03-05\", \"2020-03-06\", \"2020-03-07\", \"2020-03-09\", \"2020-03-10\", \"2020-03-11\", \"2020-03-12\", \"2020-03-13\", \"2020-03-14\", \"2020-03-15\", \"2020-03-16\", \"2020-03-17\", \"2020-03-18\", \"2020-03-19\", \"2020-03-20\", \"2020-03-21\", \"2020-03-22\", \"2020-03-23\", \"2020-03-24\", \"2020-03-25\"], \"y\": [18, 22, 24, 31, 31, 37, 54, 74, 98, 140, 172, 183, 208, 251, 311, 368, 413, 489, 572, 667]}, {\"name\": \"Resolved\", \"type\": \"bar\", \"x\": [\"2020-03-05\", \"2020-03-06\", \"2020-03-07\", \"2020-03-09\", \"2020-03-10\", \"2020-03-11\", \"2020-03-12\", \"2020-03-13\", \"2020-03-14\", \"2020-03-15\", \"2020-03-16\", \"2020-03-17\", \"2020-03-18\", \"2020-03-19\", \"2020-03-20\", \"2020-03-21\", \"2020-03-22\", \"2020-03-23\", \"2020-03-24\", \"2020-03-25\"], \"y\": [4, 4, 4, 4, 5, 5, 5, 5, 5, 5, 5, 5, 5, 5, 5, 6, 8, 8, 8, 8]}, {\"name\": \"Dead\", \"type\": \"bar\", \"x\": [\"2020-03-05\", \"2020-03-06\", \"2020-03-07\", \"2020-03-09\", \"2020-03-10\", \"2020-03-11\", \"2020-03-12\", \"2020-03-13\", \"2020-03-14\", \"2020-03-15\", \"2020-03-16\", \"2020-03-17\", \"2020-03-18\", \"2020-03-19\", \"2020-03-20\", \"2020-03-21\", \"2020-03-22\", \"2020-03-23\", \"2020-03-24\", \"2020-03-25\"], \"y\": [0, 0, 0, 0, 0, 0, 0, 0, 0, 0, 0, 1, 1, 2, 2, 3, 3, 6, 8, 13]}],\n",
       "                        {\"bargap\": 0.7, \"bargroupgap\": 0.1, \"barmode\": \"stack\", \"template\": {\"data\": {\"bar\": [{\"error_x\": {\"color\": \"#2a3f5f\"}, \"error_y\": {\"color\": \"#2a3f5f\"}, \"marker\": {\"line\": {\"color\": \"#E5ECF6\", \"width\": 0.5}}, \"type\": \"bar\"}], \"barpolar\": [{\"marker\": {\"line\": {\"color\": \"#E5ECF6\", \"width\": 0.5}}, \"type\": \"barpolar\"}], \"carpet\": [{\"aaxis\": {\"endlinecolor\": \"#2a3f5f\", \"gridcolor\": \"white\", \"linecolor\": \"white\", \"minorgridcolor\": \"white\", \"startlinecolor\": \"#2a3f5f\"}, \"baxis\": {\"endlinecolor\": \"#2a3f5f\", \"gridcolor\": \"white\", \"linecolor\": \"white\", \"minorgridcolor\": \"white\", \"startlinecolor\": \"#2a3f5f\"}, \"type\": \"carpet\"}], \"choropleth\": [{\"colorbar\": {\"outlinewidth\": 0, \"ticks\": \"\"}, \"type\": \"choropleth\"}], \"contour\": [{\"colorbar\": {\"outlinewidth\": 0, \"ticks\": \"\"}, \"colorscale\": [[0.0, \"#0d0887\"], [0.1111111111111111, \"#46039f\"], [0.2222222222222222, \"#7201a8\"], [0.3333333333333333, \"#9c179e\"], [0.4444444444444444, \"#bd3786\"], [0.5555555555555556, \"#d8576b\"], [0.6666666666666666, \"#ed7953\"], [0.7777777777777778, \"#fb9f3a\"], [0.8888888888888888, \"#fdca26\"], [1.0, \"#f0f921\"]], \"type\": \"contour\"}], \"contourcarpet\": [{\"colorbar\": {\"outlinewidth\": 0, \"ticks\": \"\"}, \"type\": \"contourcarpet\"}], \"heatmap\": [{\"colorbar\": {\"outlinewidth\": 0, \"ticks\": \"\"}, \"colorscale\": [[0.0, \"#0d0887\"], [0.1111111111111111, \"#46039f\"], [0.2222222222222222, \"#7201a8\"], [0.3333333333333333, \"#9c179e\"], [0.4444444444444444, \"#bd3786\"], [0.5555555555555556, \"#d8576b\"], [0.6666666666666666, \"#ed7953\"], [0.7777777777777778, \"#fb9f3a\"], [0.8888888888888888, \"#fdca26\"], [1.0, \"#f0f921\"]], \"type\": \"heatmap\"}], \"heatmapgl\": [{\"colorbar\": {\"outlinewidth\": 0, \"ticks\": \"\"}, \"colorscale\": [[0.0, \"#0d0887\"], [0.1111111111111111, \"#46039f\"], [0.2222222222222222, \"#7201a8\"], [0.3333333333333333, \"#9c179e\"], [0.4444444444444444, \"#bd3786\"], [0.5555555555555556, \"#d8576b\"], [0.6666666666666666, \"#ed7953\"], [0.7777777777777778, \"#fb9f3a\"], [0.8888888888888888, \"#fdca26\"], [1.0, \"#f0f921\"]], \"type\": \"heatmapgl\"}], \"histogram\": [{\"marker\": {\"colorbar\": {\"outlinewidth\": 0, \"ticks\": \"\"}}, \"type\": \"histogram\"}], \"histogram2d\": [{\"colorbar\": {\"outlinewidth\": 0, \"ticks\": \"\"}, \"colorscale\": [[0.0, \"#0d0887\"], [0.1111111111111111, \"#46039f\"], [0.2222222222222222, \"#7201a8\"], [0.3333333333333333, \"#9c179e\"], [0.4444444444444444, \"#bd3786\"], [0.5555555555555556, \"#d8576b\"], [0.6666666666666666, \"#ed7953\"], [0.7777777777777778, \"#fb9f3a\"], [0.8888888888888888, \"#fdca26\"], [1.0, \"#f0f921\"]], \"type\": \"histogram2d\"}], \"histogram2dcontour\": [{\"colorbar\": {\"outlinewidth\": 0, \"ticks\": \"\"}, \"colorscale\": [[0.0, \"#0d0887\"], [0.1111111111111111, \"#46039f\"], [0.2222222222222222, \"#7201a8\"], [0.3333333333333333, \"#9c179e\"], [0.4444444444444444, \"#bd3786\"], [0.5555555555555556, \"#d8576b\"], [0.6666666666666666, \"#ed7953\"], [0.7777777777777778, \"#fb9f3a\"], [0.8888888888888888, \"#fdca26\"], [1.0, \"#f0f921\"]], \"type\": \"histogram2dcontour\"}], \"mesh3d\": [{\"colorbar\": {\"outlinewidth\": 0, \"ticks\": \"\"}, \"type\": \"mesh3d\"}], \"parcoords\": [{\"line\": {\"colorbar\": {\"outlinewidth\": 0, \"ticks\": \"\"}}, \"type\": \"parcoords\"}], \"pie\": [{\"automargin\": true, \"type\": \"pie\"}], \"scatter\": [{\"marker\": {\"colorbar\": {\"outlinewidth\": 0, \"ticks\": \"\"}}, \"type\": \"scatter\"}], \"scatter3d\": [{\"line\": {\"colorbar\": {\"outlinewidth\": 0, \"ticks\": \"\"}}, \"marker\": {\"colorbar\": {\"outlinewidth\": 0, \"ticks\": \"\"}}, \"type\": \"scatter3d\"}], \"scattercarpet\": [{\"marker\": {\"colorbar\": {\"outlinewidth\": 0, \"ticks\": \"\"}}, \"type\": \"scattercarpet\"}], \"scattergeo\": [{\"marker\": {\"colorbar\": {\"outlinewidth\": 0, \"ticks\": \"\"}}, \"type\": \"scattergeo\"}], \"scattergl\": [{\"marker\": {\"colorbar\": {\"outlinewidth\": 0, \"ticks\": \"\"}}, \"type\": \"scattergl\"}], \"scattermapbox\": [{\"marker\": {\"colorbar\": {\"outlinewidth\": 0, \"ticks\": \"\"}}, \"type\": \"scattermapbox\"}], \"scatterpolar\": [{\"marker\": {\"colorbar\": {\"outlinewidth\": 0, \"ticks\": \"\"}}, \"type\": \"scatterpolar\"}], \"scatterpolargl\": [{\"marker\": {\"colorbar\": {\"outlinewidth\": 0, \"ticks\": \"\"}}, \"type\": \"scatterpolargl\"}], \"scatterternary\": [{\"marker\": {\"colorbar\": {\"outlinewidth\": 0, \"ticks\": \"\"}}, \"type\": \"scatterternary\"}], \"surface\": [{\"colorbar\": {\"outlinewidth\": 0, \"ticks\": \"\"}, \"colorscale\": [[0.0, \"#0d0887\"], [0.1111111111111111, \"#46039f\"], [0.2222222222222222, \"#7201a8\"], [0.3333333333333333, \"#9c179e\"], [0.4444444444444444, \"#bd3786\"], [0.5555555555555556, \"#d8576b\"], [0.6666666666666666, \"#ed7953\"], [0.7777777777777778, \"#fb9f3a\"], [0.8888888888888888, \"#fdca26\"], [1.0, \"#f0f921\"]], \"type\": \"surface\"}], \"table\": [{\"cells\": {\"fill\": {\"color\": \"#EBF0F8\"}, \"line\": {\"color\": \"white\"}}, \"header\": {\"fill\": {\"color\": \"#C8D4E3\"}, \"line\": {\"color\": \"white\"}}, \"type\": \"table\"}]}, \"layout\": {\"annotationdefaults\": {\"arrowcolor\": \"#2a3f5f\", \"arrowhead\": 0, \"arrowwidth\": 1}, \"coloraxis\": {\"colorbar\": {\"outlinewidth\": 0, \"ticks\": \"\"}}, \"colorscale\": {\"diverging\": [[0, \"#8e0152\"], [0.1, \"#c51b7d\"], [0.2, \"#de77ae\"], [0.3, \"#f1b6da\"], [0.4, \"#fde0ef\"], [0.5, \"#f7f7f7\"], [0.6, \"#e6f5d0\"], [0.7, \"#b8e186\"], [0.8, \"#7fbc41\"], [0.9, \"#4d9221\"], [1, \"#276419\"]], \"sequential\": [[0.0, \"#0d0887\"], [0.1111111111111111, \"#46039f\"], [0.2222222222222222, \"#7201a8\"], [0.3333333333333333, \"#9c179e\"], [0.4444444444444444, \"#bd3786\"], [0.5555555555555556, \"#d8576b\"], [0.6666666666666666, \"#ed7953\"], [0.7777777777777778, \"#fb9f3a\"], [0.8888888888888888, \"#fdca26\"], [1.0, \"#f0f921\"]], \"sequentialminus\": [[0.0, \"#0d0887\"], [0.1111111111111111, \"#46039f\"], [0.2222222222222222, \"#7201a8\"], [0.3333333333333333, \"#9c179e\"], [0.4444444444444444, \"#bd3786\"], [0.5555555555555556, \"#d8576b\"], [0.6666666666666666, \"#ed7953\"], [0.7777777777777778, \"#fb9f3a\"], [0.8888888888888888, \"#fdca26\"], [1.0, \"#f0f921\"]]}, \"colorway\": [\"#636efa\", \"#EF553B\", \"#00cc96\", \"#ab63fa\", \"#FFA15A\", \"#19d3f3\", \"#FF6692\", \"#B6E880\", \"#FF97FF\", \"#FECB52\"], \"font\": {\"color\": \"#2a3f5f\"}, \"geo\": {\"bgcolor\": \"white\", \"lakecolor\": \"white\", \"landcolor\": \"#E5ECF6\", \"showlakes\": true, \"showland\": true, \"subunitcolor\": \"white\"}, \"hoverlabel\": {\"align\": \"left\"}, \"hovermode\": \"closest\", \"mapbox\": {\"style\": \"light\"}, \"paper_bgcolor\": \"white\", \"plot_bgcolor\": \"#E5ECF6\", \"polar\": {\"angularaxis\": {\"gridcolor\": \"white\", \"linecolor\": \"white\", \"ticks\": \"\"}, \"bgcolor\": \"#E5ECF6\", \"radialaxis\": {\"gridcolor\": \"white\", \"linecolor\": \"white\", \"ticks\": \"\"}}, \"scene\": {\"xaxis\": {\"backgroundcolor\": \"#E5ECF6\", \"gridcolor\": \"white\", \"gridwidth\": 2, \"linecolor\": \"white\", \"showbackground\": true, \"ticks\": \"\", \"zerolinecolor\": \"white\"}, \"yaxis\": {\"backgroundcolor\": \"#E5ECF6\", \"gridcolor\": \"white\", \"gridwidth\": 2, \"linecolor\": \"white\", \"showbackground\": true, \"ticks\": \"\", \"zerolinecolor\": \"white\"}, \"zaxis\": {\"backgroundcolor\": \"#E5ECF6\", \"gridcolor\": \"white\", \"gridwidth\": 2, \"linecolor\": \"white\", \"showbackground\": true, \"ticks\": \"\", \"zerolinecolor\": \"white\"}}, \"shapedefaults\": {\"line\": {\"color\": \"#2a3f5f\"}}, \"ternary\": {\"aaxis\": {\"gridcolor\": \"white\", \"linecolor\": \"white\", \"ticks\": \"\"}, \"baxis\": {\"gridcolor\": \"white\", \"linecolor\": \"white\", \"ticks\": \"\"}, \"bgcolor\": \"#E5ECF6\", \"caxis\": {\"gridcolor\": \"white\", \"linecolor\": \"white\", \"ticks\": \"\"}}, \"title\": {\"x\": 0.05}, \"xaxis\": {\"automargin\": true, \"gridcolor\": \"white\", \"linecolor\": \"white\", \"ticks\": \"\", \"title\": {\"standoff\": 15}, \"zerolinecolor\": \"white\", \"zerolinewidth\": 2}, \"yaxis\": {\"automargin\": true, \"gridcolor\": \"white\", \"linecolor\": \"white\", \"ticks\": \"\", \"title\": {\"standoff\": 15}, \"zerolinecolor\": \"white\", \"zerolinewidth\": 2}}}, \"title\": {\"text\": \"Infection over time\"}, \"xaxis\": {\"title\": {\"text\": \"Date\"}}, \"yaxis\": {\"title\": {\"text\": \"Infected\"}}},\n",
       "                        {\"responsive\": true}\n",
       "                    ).then(function(){\n",
       "                            \n",
       "var gd = document.getElementById('9cfc00d5-c219-4b07-8547-2a42d8f613fe');\n",
       "var x = new MutationObserver(function (mutations, observer) {{\n",
       "        var display = window.getComputedStyle(gd).display;\n",
       "        if (!display || display === 'none') {{\n",
       "            console.log([gd, 'removed!']);\n",
       "            Plotly.purge(gd);\n",
       "            observer.disconnect();\n",
       "        }}\n",
       "}});\n",
       "\n",
       "// Listen for the removal of the full notebook cells\n",
       "var notebookContainer = gd.closest('#notebook-container');\n",
       "if (notebookContainer) {{\n",
       "    x.observe(notebookContainer, {childList: true});\n",
       "}}\n",
       "\n",
       "// Listen for the clearing of the current output cell\n",
       "var outputEl = gd.closest('.output');\n",
       "if (outputEl) {{\n",
       "    x.observe(outputEl, {childList: true});\n",
       "}}\n",
       "\n",
       "                        })\n",
       "                };\n",
       "                });\n",
       "            </script>\n",
       "        </div>"
      ]
     },
     "metadata": {},
     "output_type": "display_data"
    }
   ],
   "source": [
    "\n",
    "fig = go.Figure(data=[\n",
    "    go.Bar(name='Negative', x=dates, y=negative),\n",
    "    go.Bar(name='Under Investigation', x=dates, y=under),\n",
    "    go.Bar(name='Confirmed Positive', x=dates, y=positive),\n",
    "    go.Bar(name='Resolved', x=dates, y=resolved),\n",
    "    go.Bar(name='Dead', x=dates, y=dead),\n",
    "])\n",
    "fig.update_layout(\n",
    "    title_text='Infection over time', # title of plot\n",
    "    xaxis_title_text='Date', # xaxis label\n",
    "    yaxis_title_text='Infected', # yaxis label\n",
    "    bargap=0.7, # gap between bars of adjacent location coordinates\n",
    "    bargroupgap=0.1 # gap between bars of the same location coordinates\n",
    ")\n",
    "# Change the bar mode\n",
    "fig.update_layout(barmode='stack')\n",
    "fig.show()"
   ]
  },
  {
   "cell_type": "code",
   "execution_count": 254,
   "metadata": {},
   "outputs": [
    {
     "data": {
      "application/vnd.plotly.v1+json": {
       "config": {
        "plotlyServerURL": "https://plot.ly"
       },
       "data": [
        {
         "marker": {
          "color": "#EB89B5"
         },
         "name": "Toronto",
         "type": "histogram",
         "x": [
          "2020-02-21",
          "2020-02-24",
          "2020-02-25",
          "2020-02-28",
          "2020-03-03",
          "2020-03-03",
          "2020-02-28",
          "2020-03-03",
          "2020-03-02",
          "2020-03-07",
          "2020-03-14",
          "2020-03-14",
          "2020-03-14",
          "2020-03-14",
          "2020-03-14",
          "2020-03-14",
          "2020-03-14",
          "2020-03-14",
          "2020-03-14",
          "2020-03-16",
          "2020-03-16",
          "2020-03-16",
          "2020-03-16",
          "2020-03-16",
          "2020-03-16",
          "2020-03-16",
          "2020-03-16",
          "2020-03-16",
          "2020-03-16",
          "2020-03-16",
          "2020-03-18",
          "2020-03-18",
          "2020-03-18",
          "2020-03-09",
          "2020-03-09",
          "2020-03-15",
          "2020-03-15",
          "2020-03-15",
          "2020-03-15",
          "2020-03-15",
          "2020-03-15",
          "2020-03-15",
          "2020-03-15",
          "2020-03-15",
          "2020-03-15",
          "2020-03-15",
          "2020-03-15",
          "2020-03-15",
          "2020-03-15",
          "2020-03-11",
          "2020-03-21",
          "2020-03-21",
          "2020-03-12",
          "2020-03-12",
          "2020-03-12",
          "2020-03-12",
          "2020-03-12",
          "2020-03-12",
          "2020-03-12",
          "2020-03-12",
          "2020-03-12",
          "2020-03-20",
          "2020-03-20",
          "2020-03-22",
          "2020-03-19",
          "2020-03-19",
          "2020-03-19",
          "2020-03-19",
          "2020-03-19",
          "2020-03-19",
          "2020-03-19",
          "2020-03-19",
          "2020-03-10",
          "2020-03-13",
          "2020-03-13",
          "2020-03-13",
          "2020-03-13",
          "2020-03-13",
          "2020-03-13",
          "2020-03-13",
          "2020-03-13",
          "2020-03-13",
          "2020-03-13",
          "2020-03-13",
          "2020-03-13",
          "2020-03-11",
          "2020-03-23",
          "2020-03-23",
          "2020-03-23",
          "2020-03-23",
          "2020-03-23",
          "2020-03-23",
          "2020-03-23",
          "2020-03-23",
          "2020-03-23",
          "2020-03-23",
          "2020-03-23",
          "2020-03-23",
          "2020-03-23",
          "2020-03-23",
          "2020-03-23",
          "2020-03-24",
          "2020-03-24",
          "2020-03-24",
          "2020-03-24",
          "2020-03-24",
          "2020-03-24",
          "2020-03-24",
          "2020-03-24",
          "2020-03-24",
          "2020-03-24",
          "2020-03-24",
          "2020-03-24",
          "2020-03-24",
          "2020-03-24",
          "2020-03-24",
          "2020-03-24",
          "2020-03-24",
          "2020-03-25",
          "2020-03-25",
          "2020-03-25",
          "2020-03-25",
          "2020-03-25",
          "2020-03-25",
          "2020-03-25",
          "2020-03-25",
          "2020-03-25",
          "2020-03-25",
          "2020-03-25",
          "2020-03-25",
          "2020-03-25",
          "2020-03-25",
          "2020-03-25",
          "2020-03-25",
          "2020-03-25",
          "2020-03-25",
          "2020-03-25",
          "2020-03-25",
          "2020-03-25"
         ]
        },
        {
         "marker": {
          "color": "#5b7bd6"
         },
         "name": "Unspecified",
         "type": "histogram",
         "x": [
          "2020-02-27",
          "2020-02-28",
          "2020-02-29",
          "2020-02-29",
          "2020-02-23",
          "2020-03-02"
         ]
        },
        {
         "marker": {
          "color": "#ff6960"
         },
         "name": "London",
         "type": "histogram",
         "x": [
          "2020-03-14",
          "2020-03-18",
          "2020-03-17",
          "2020-03-17",
          "2020-03-20",
          "2020-03-20",
          "2020-03-20",
          "2020-03-20",
          "2020-03-20",
          "2020-03-20",
          "2020-03-25",
          "2020-03-25"
         ]
        },
        {
         "marker": {
          "color": "#d11411"
         },
         "name": "Scarborough",
         "type": "histogram",
         "x": [
          "2020-02-27",
          "2020-03-07"
         ]
        },
        {
         "marker": {
          "color": "#00b159"
         },
         "name": "Richmond Hill",
         "type": "histogram",
         "x": [
          "2020-02-27",
          "2020-02-28",
          "2020-02-28",
          "2020-03-01"
         ]
        },
        {
         "marker": {
          "color": "#00aedb"
         },
         "name": "Ajax",
         "type": "histogram",
         "x": [
          "2020-02-28"
         ]
        },
        {
         "marker": {
          "color": "#f37735"
         },
         "name": "Newmarket",
         "type": "histogram",
         "x": [
          "2020-02-29"
         ]
        },
        {
         "marker": {
          "color": "#ffc425"
         },
         "name": "York",
         "type": "histogram",
         "x": [
          "2020-02-29",
          "2020-03-16",
          "2020-03-16",
          "2020-03-16",
          "2020-03-16",
          "2020-03-16",
          "2020-03-18",
          "2020-03-15",
          "2020-03-15",
          "2020-03-15",
          "2020-03-11",
          "2020-03-17",
          "2020-03-21",
          "2020-03-21",
          "2020-03-21",
          "2020-03-21",
          "2020-03-21",
          "2020-03-20",
          "2020-03-13",
          "2020-03-23",
          "2020-03-23",
          "2020-03-23",
          "2020-03-23",
          "2020-03-23",
          "2020-03-23",
          "2020-03-23",
          "2020-03-23",
          "2020-03-24",
          "2020-03-24",
          "2020-03-24",
          "2020-03-24",
          "2020-03-24",
          "2020-03-25",
          "2020-03-25",
          "2020-03-25",
          "2020-03-25",
          "2020-03-25"
         ]
        },
        {
         "marker": {
          "color": "#a200ff"
         },
         "name": "Kitchener",
         "type": "histogram",
         "x": [
          "2020-03-03"
         ]
        },
        {
         "marker": {
          "color": "#f47835"
         },
         "name": "Mississauga",
         "type": "histogram",
         "x": [
          "2020-02-28",
          "2020-02-28"
         ]
        },
        {
         "marker": {
          "color": "#d41243"
         },
         "name": "Ottawa",
         "type": "histogram",
         "x": [
          "2020-03-14",
          "2020-03-14",
          "2020-03-16",
          "2020-03-16",
          "2020-03-16",
          "2020-03-18",
          "2020-03-15",
          "2020-03-15",
          "2020-03-15",
          "2020-03-15",
          "2020-03-15",
          "2020-03-11",
          "2020-03-21",
          "2020-03-12",
          "2020-03-20",
          "2020-03-20",
          "2020-03-20",
          "2020-03-22",
          "2020-03-19",
          "2020-03-19",
          "2020-03-13",
          "2020-03-23",
          "2020-03-23",
          "2020-03-23",
          "2020-03-24",
          "2020-03-24",
          "2020-03-24"
         ]
        },
        {
         "marker": {
          "color": "#8ec127"
         },
         "name": "Peel",
         "type": "histogram",
         "x": [
          "2020-03-14",
          "2020-03-16",
          "2020-03-16",
          "2020-03-16",
          "2020-03-16",
          "2020-03-18",
          "2020-03-18",
          "2020-03-09",
          "2020-03-15",
          "2020-03-15",
          "2020-03-15",
          "2020-03-15",
          "2020-03-15",
          "2020-03-21",
          "2020-03-21",
          "2020-03-21",
          "2020-03-21",
          "2020-03-12",
          "2020-03-12",
          "2020-03-20",
          "2020-03-20",
          "2020-03-22",
          "2020-03-19",
          "2020-03-19",
          "2020-03-19",
          "2020-03-09",
          "2020-03-13",
          "2020-03-13",
          "2020-03-13",
          "2020-03-13",
          "2020-03-23",
          "2020-03-23",
          "2020-03-23",
          "2020-03-23",
          "2020-03-23",
          "2020-03-23",
          "2020-03-24",
          "2020-03-24",
          "2020-03-24",
          "2020-03-25",
          "2020-03-25",
          "2020-03-25",
          "2020-03-25",
          "2020-03-25",
          "2020-03-25",
          "2020-03-25",
          "2020-03-25",
          "2020-03-25",
          "2020-03-25",
          "2020-03-25",
          "2020-03-25",
          "2020-03-25"
         ]
        },
        {
         "marker": {
          "color": "#feda75"
         },
         "name": "Waterloo",
         "type": "histogram",
         "x": [
          "2020-03-14",
          "2020-03-14",
          "2020-03-18",
          "2020-03-15",
          "2020-03-15",
          "2020-03-12",
          "2020-03-12",
          "2020-03-20",
          "2020-03-20",
          "2020-03-20",
          "2020-03-20",
          "2020-03-22",
          "2020-03-19",
          "2020-03-13",
          "2020-03-23",
          "2020-03-24",
          "2020-03-24"
         ]
        },
        {
         "marker": {
          "color": "#fa7e1e"
         },
         "name": "Whitby",
         "type": "histogram",
         "x": [
          "2020-03-14",
          "2020-03-14",
          "2020-03-14",
          "2020-03-16",
          "2020-03-15",
          "2020-03-15",
          "2020-03-21",
          "2020-03-20",
          "2020-03-20",
          "2020-03-20",
          "2020-03-20",
          "2020-03-20",
          "2020-03-20",
          "2020-03-19",
          "2020-03-23",
          "2020-03-23",
          "2020-03-23",
          "2020-03-24",
          "2020-03-24",
          "2020-03-24",
          "2020-03-25"
         ]
        },
        {
         "marker": {
          "color": "#962fbf"
         },
         "name": "Port Hope",
         "type": "histogram",
         "x": [
          "2020-03-14",
          "2020-03-15",
          "2020-03-20",
          "2020-03-20",
          "2020-03-20",
          "2020-03-20",
          "2020-03-20",
          "2020-03-19",
          "2020-03-23",
          "2020-03-23",
          "2020-03-25"
         ]
        },
        {
         "marker": {
          "color": "#EB89B5"
         },
         "name": "Stratford",
         "type": "histogram",
         "x": [
          "2020-03-14"
         ]
        },
        {
         "marker": {
          "color": "#5b7bd6"
         },
         "name": "Oakville",
         "type": "histogram",
         "x": [
          "2020-03-14",
          "2020-03-16",
          "2020-03-18",
          "2020-03-18",
          "2020-03-18",
          "2020-03-18",
          "2020-03-11",
          "2020-03-12",
          "2020-03-19",
          "2020-03-19",
          "2020-03-19",
          "2020-03-23",
          "2020-03-23",
          "2020-03-24",
          "2020-03-25",
          "2020-03-25",
          "2020-03-25",
          "2020-03-25"
         ]
        },
        {
         "marker": {
          "color": "#ff6960"
         },
         "name": "Hamilton",
         "type": "histogram",
         "x": [
          "2020-03-14",
          "2020-03-16",
          "2020-03-16",
          "2020-03-16",
          "2020-03-16",
          "2020-03-18",
          "2020-03-18",
          "2020-03-15",
          "2020-03-15",
          "2020-03-15",
          "2020-03-17",
          "2020-03-17",
          "2020-03-17",
          "2020-03-17",
          "2020-03-17",
          "2020-03-12",
          "2020-03-20",
          "2020-03-20",
          "2020-03-22",
          "2020-03-19",
          "2020-03-19",
          "2020-03-23",
          "2020-03-23",
          "2020-03-23",
          "2020-03-24",
          "2020-03-24",
          "2020-03-24",
          "2020-03-25",
          "2020-03-25",
          "2020-03-25",
          "2020-03-25"
         ]
        },
        {
         "marker": {
          "color": "#d11411"
         },
         "name": "Kenora",
         "type": "histogram",
         "x": [
          "2020-03-14"
         ]
        },
        {
         "marker": {
          "color": "#00b159"
         },
         "name": "Cornwall",
         "type": "histogram",
         "x": [
          "2020-03-14",
          "2020-03-22",
          "2020-03-19",
          "2020-03-23"
         ]
        },
        {
         "marker": {
          "color": "#00aedb"
         },
         "name": "Guelph",
         "type": "histogram",
         "x": [
          "2020-03-16",
          "2020-03-23",
          "2020-03-24",
          "2020-03-25"
         ]
        },
        {
         "marker": {
          "color": "#f37735"
         },
         "name": "Sudbury",
         "type": "histogram",
         "x": [
          "2020-03-16",
          "2020-03-11",
          "2020-03-23",
          "2020-03-24"
         ]
        },
        {
         "marker": {
          "color": "#ffc425"
         },
         "name": "Niagara",
         "type": "histogram",
         "x": [
          "2020-03-16",
          "2020-03-18",
          "2020-03-15",
          "2020-03-13",
          "2020-03-24",
          "2020-03-25"
         ]
        },
        {
         "marker": {
          "color": "#a200ff"
         },
         "name": "Chatham",
         "type": "histogram",
         "x": [
          "2020-03-18",
          "2020-03-18"
         ]
        },
        {
         "marker": {
          "color": "#f47835"
         },
         "name": "Owen Sound",
         "type": "histogram",
         "x": [
          "2020-03-18",
          "2020-03-15",
          "2020-03-15",
          "2020-03-24"
         ]
        },
        {
         "marker": {
          "color": "#d41243"
         },
         "name": "Simcoe",
         "type": "histogram",
         "x": [
          "2020-03-18",
          "2020-03-15",
          "2020-03-15",
          "2020-03-17",
          "2020-03-21",
          "2020-03-21",
          "2020-03-21",
          "2020-03-12",
          "2020-03-23",
          "2020-03-25"
         ]
        },
        {
         "marker": {
          "color": "#8ec127"
         },
         "name": "Brantford",
         "type": "histogram",
         "x": [
          "2020-03-18",
          "2020-03-24"
         ]
        },
        {
         "marker": {
          "color": "#feda75"
         },
         "name": "Sault Ste. Marie",
         "type": "histogram",
         "x": [
          "2020-03-18"
         ]
        },
        {
         "marker": {
          "color": "#fa7e1e"
         },
         "name": "pending",
         "type": "histogram",
         "x": [
          "2020-03-18",
          "2020-03-18",
          "2020-03-18",
          "2020-03-15",
          "2020-03-21",
          "2020-03-21",
          "2020-03-21",
          "2020-03-21",
          "2020-03-21",
          "2020-03-21",
          "2020-03-21",
          "2020-03-21",
          "2020-03-21",
          "2020-03-21",
          "2020-03-21",
          "2020-03-21",
          "2020-03-21",
          "2020-03-21",
          "2020-03-21",
          "2020-03-21",
          "2020-03-21",
          "2020-03-21",
          "2020-03-21",
          "2020-03-21",
          "2020-03-21",
          "2020-03-21",
          "2020-03-21",
          "2020-03-21",
          "2020-03-21",
          "2020-03-21",
          "2020-03-21",
          "2020-03-21",
          "2020-03-21",
          "2020-03-21",
          "2020-03-21",
          "2020-03-21",
          "2020-03-21",
          "2020-03-21",
          "2020-03-21",
          "2020-03-21",
          "2020-03-21",
          "2020-03-21",
          "2020-03-21",
          "2020-03-21",
          "2020-03-21",
          "2020-03-21",
          "2020-03-20",
          "2020-03-20",
          "2020-03-20",
          "2020-03-20",
          "2020-03-20",
          "2020-03-20",
          "2020-03-20",
          "2020-03-20",
          "2020-03-20",
          "2020-03-20",
          "2020-03-20",
          "2020-03-20",
          "2020-03-20",
          "2020-03-20",
          "2020-03-20",
          "2020-03-20",
          "2020-03-20",
          "2020-03-20",
          "2020-03-20",
          "2020-03-20",
          "2020-03-20",
          "2020-03-20",
          "2020-03-20",
          "2020-03-20",
          "2020-03-20",
          "2020-03-20",
          "2020-03-22",
          "2020-03-22",
          "2020-03-22",
          "2020-03-22",
          "2020-03-22",
          "2020-03-22",
          "2020-03-22",
          "2020-03-22",
          "2020-03-22",
          "2020-03-22",
          "2020-03-22",
          "2020-03-22",
          "2020-03-22",
          "2020-03-22",
          "2020-03-22",
          "2020-03-22",
          "2020-03-22",
          "2020-03-22",
          "2020-03-22",
          "2020-03-22",
          "2020-03-22",
          "2020-03-22",
          "2020-03-22",
          "2020-03-22",
          "2020-03-22",
          "2020-03-22",
          "2020-03-22",
          "2020-03-22",
          "2020-03-22",
          "2020-03-22",
          "2020-03-22",
          "2020-03-22",
          "2020-03-22",
          "2020-03-22",
          "2020-03-22",
          "2020-03-22",
          "2020-03-22",
          "2020-03-22",
          "2020-03-22",
          "2020-03-22",
          "2020-03-19",
          "2020-03-19",
          "2020-03-19",
          "2020-03-19",
          "2020-03-19",
          "2020-03-19",
          "2020-03-19",
          "2020-03-19",
          "2020-03-19",
          "2020-03-19",
          "2020-03-19",
          "2020-03-19",
          "2020-03-19",
          "2020-03-19",
          "2020-03-19",
          "2020-03-19",
          "2020-03-19",
          "2020-03-19",
          "2020-03-19",
          "2020-03-19",
          "2020-03-19",
          "2020-03-23",
          "2020-03-23",
          "2020-03-23",
          "2020-03-23",
          "2020-03-23",
          "2020-03-23",
          "2020-03-23",
          "2020-03-23",
          "2020-03-23",
          "2020-03-23",
          "2020-03-23",
          "2020-03-23",
          "2020-03-23",
          "2020-03-23",
          "2020-03-23",
          "2020-03-23",
          "2020-03-23",
          "2020-03-23",
          "2020-03-23",
          "2020-03-23",
          "2020-03-23",
          "2020-03-23",
          "2020-03-23",
          "2020-03-23",
          "2020-03-23",
          "2020-03-23",
          "2020-03-23",
          "2020-03-23",
          "2020-03-23",
          "2020-03-24",
          "2020-03-24",
          "2020-03-24",
          "2020-03-24",
          "2020-03-24",
          "2020-03-24",
          "2020-03-24",
          "2020-03-24",
          "2020-03-24",
          "2020-03-24",
          "2020-03-24",
          "2020-03-24",
          "2020-03-24",
          "2020-03-24",
          "2020-03-24",
          "2020-03-24",
          "2020-03-24",
          "2020-03-24",
          "2020-03-24",
          "2020-03-24",
          "2020-03-24",
          "2020-03-24",
          "2020-03-24",
          "2020-03-24",
          "2020-03-24",
          "2020-03-24",
          "2020-03-24",
          "2020-03-24",
          "2020-03-24",
          "2020-03-24",
          "2020-03-24",
          "2020-03-24",
          "2020-03-24",
          "2020-03-24",
          "2020-03-24",
          "2020-03-24",
          "2020-03-24",
          "2020-03-24",
          "2020-03-24",
          "2020-03-25",
          "2020-03-25",
          "2020-03-25",
          "2020-03-25",
          "2020-03-25",
          "2020-03-25",
          "2020-03-25",
          "2020-03-25",
          "2020-03-25",
          "2020-03-25",
          "2020-03-25",
          "2020-03-25",
          "2020-03-25",
          "2020-03-25",
          "2020-03-25",
          "2020-03-25",
          "2020-03-25",
          "2020-03-25",
          "2020-03-25",
          "2020-03-25",
          "2020-03-25",
          "2020-03-25",
          "2020-03-25",
          "2020-03-25",
          "2020-03-25",
          "2020-03-25",
          "2020-03-25",
          "2020-03-25",
          "2020-03-25",
          "2020-03-25",
          "2020-03-25"
         ]
        },
        {
         "marker": {
          "color": "#962fbf"
         },
         "name": "Peterborough",
         "type": "histogram",
         "x": [
          "2020-03-15",
          "2020-03-20",
          "2020-03-25",
          "2020-03-25"
         ]
        }
       ],
       "layout": {
        "bargap": 0.2,
        "bargroupgap": 0.1,
        "barmode": "stack",
        "template": {
         "data": {
          "bar": [
           {
            "error_x": {
             "color": "#2a3f5f"
            },
            "error_y": {
             "color": "#2a3f5f"
            },
            "marker": {
             "line": {
              "color": "#E5ECF6",
              "width": 0.5
             }
            },
            "type": "bar"
           }
          ],
          "barpolar": [
           {
            "marker": {
             "line": {
              "color": "#E5ECF6",
              "width": 0.5
             }
            },
            "type": "barpolar"
           }
          ],
          "carpet": [
           {
            "aaxis": {
             "endlinecolor": "#2a3f5f",
             "gridcolor": "white",
             "linecolor": "white",
             "minorgridcolor": "white",
             "startlinecolor": "#2a3f5f"
            },
            "baxis": {
             "endlinecolor": "#2a3f5f",
             "gridcolor": "white",
             "linecolor": "white",
             "minorgridcolor": "white",
             "startlinecolor": "#2a3f5f"
            },
            "type": "carpet"
           }
          ],
          "choropleth": [
           {
            "colorbar": {
             "outlinewidth": 0,
             "ticks": ""
            },
            "type": "choropleth"
           }
          ],
          "contour": [
           {
            "colorbar": {
             "outlinewidth": 0,
             "ticks": ""
            },
            "colorscale": [
             [
              0,
              "#0d0887"
             ],
             [
              0.1111111111111111,
              "#46039f"
             ],
             [
              0.2222222222222222,
              "#7201a8"
             ],
             [
              0.3333333333333333,
              "#9c179e"
             ],
             [
              0.4444444444444444,
              "#bd3786"
             ],
             [
              0.5555555555555556,
              "#d8576b"
             ],
             [
              0.6666666666666666,
              "#ed7953"
             ],
             [
              0.7777777777777778,
              "#fb9f3a"
             ],
             [
              0.8888888888888888,
              "#fdca26"
             ],
             [
              1,
              "#f0f921"
             ]
            ],
            "type": "contour"
           }
          ],
          "contourcarpet": [
           {
            "colorbar": {
             "outlinewidth": 0,
             "ticks": ""
            },
            "type": "contourcarpet"
           }
          ],
          "heatmap": [
           {
            "colorbar": {
             "outlinewidth": 0,
             "ticks": ""
            },
            "colorscale": [
             [
              0,
              "#0d0887"
             ],
             [
              0.1111111111111111,
              "#46039f"
             ],
             [
              0.2222222222222222,
              "#7201a8"
             ],
             [
              0.3333333333333333,
              "#9c179e"
             ],
             [
              0.4444444444444444,
              "#bd3786"
             ],
             [
              0.5555555555555556,
              "#d8576b"
             ],
             [
              0.6666666666666666,
              "#ed7953"
             ],
             [
              0.7777777777777778,
              "#fb9f3a"
             ],
             [
              0.8888888888888888,
              "#fdca26"
             ],
             [
              1,
              "#f0f921"
             ]
            ],
            "type": "heatmap"
           }
          ],
          "heatmapgl": [
           {
            "colorbar": {
             "outlinewidth": 0,
             "ticks": ""
            },
            "colorscale": [
             [
              0,
              "#0d0887"
             ],
             [
              0.1111111111111111,
              "#46039f"
             ],
             [
              0.2222222222222222,
              "#7201a8"
             ],
             [
              0.3333333333333333,
              "#9c179e"
             ],
             [
              0.4444444444444444,
              "#bd3786"
             ],
             [
              0.5555555555555556,
              "#d8576b"
             ],
             [
              0.6666666666666666,
              "#ed7953"
             ],
             [
              0.7777777777777778,
              "#fb9f3a"
             ],
             [
              0.8888888888888888,
              "#fdca26"
             ],
             [
              1,
              "#f0f921"
             ]
            ],
            "type": "heatmapgl"
           }
          ],
          "histogram": [
           {
            "marker": {
             "colorbar": {
              "outlinewidth": 0,
              "ticks": ""
             }
            },
            "type": "histogram"
           }
          ],
          "histogram2d": [
           {
            "colorbar": {
             "outlinewidth": 0,
             "ticks": ""
            },
            "colorscale": [
             [
              0,
              "#0d0887"
             ],
             [
              0.1111111111111111,
              "#46039f"
             ],
             [
              0.2222222222222222,
              "#7201a8"
             ],
             [
              0.3333333333333333,
              "#9c179e"
             ],
             [
              0.4444444444444444,
              "#bd3786"
             ],
             [
              0.5555555555555556,
              "#d8576b"
             ],
             [
              0.6666666666666666,
              "#ed7953"
             ],
             [
              0.7777777777777778,
              "#fb9f3a"
             ],
             [
              0.8888888888888888,
              "#fdca26"
             ],
             [
              1,
              "#f0f921"
             ]
            ],
            "type": "histogram2d"
           }
          ],
          "histogram2dcontour": [
           {
            "colorbar": {
             "outlinewidth": 0,
             "ticks": ""
            },
            "colorscale": [
             [
              0,
              "#0d0887"
             ],
             [
              0.1111111111111111,
              "#46039f"
             ],
             [
              0.2222222222222222,
              "#7201a8"
             ],
             [
              0.3333333333333333,
              "#9c179e"
             ],
             [
              0.4444444444444444,
              "#bd3786"
             ],
             [
              0.5555555555555556,
              "#d8576b"
             ],
             [
              0.6666666666666666,
              "#ed7953"
             ],
             [
              0.7777777777777778,
              "#fb9f3a"
             ],
             [
              0.8888888888888888,
              "#fdca26"
             ],
             [
              1,
              "#f0f921"
             ]
            ],
            "type": "histogram2dcontour"
           }
          ],
          "mesh3d": [
           {
            "colorbar": {
             "outlinewidth": 0,
             "ticks": ""
            },
            "type": "mesh3d"
           }
          ],
          "parcoords": [
           {
            "line": {
             "colorbar": {
              "outlinewidth": 0,
              "ticks": ""
             }
            },
            "type": "parcoords"
           }
          ],
          "pie": [
           {
            "automargin": true,
            "type": "pie"
           }
          ],
          "scatter": [
           {
            "marker": {
             "colorbar": {
              "outlinewidth": 0,
              "ticks": ""
             }
            },
            "type": "scatter"
           }
          ],
          "scatter3d": [
           {
            "line": {
             "colorbar": {
              "outlinewidth": 0,
              "ticks": ""
             }
            },
            "marker": {
             "colorbar": {
              "outlinewidth": 0,
              "ticks": ""
             }
            },
            "type": "scatter3d"
           }
          ],
          "scattercarpet": [
           {
            "marker": {
             "colorbar": {
              "outlinewidth": 0,
              "ticks": ""
             }
            },
            "type": "scattercarpet"
           }
          ],
          "scattergeo": [
           {
            "marker": {
             "colorbar": {
              "outlinewidth": 0,
              "ticks": ""
             }
            },
            "type": "scattergeo"
           }
          ],
          "scattergl": [
           {
            "marker": {
             "colorbar": {
              "outlinewidth": 0,
              "ticks": ""
             }
            },
            "type": "scattergl"
           }
          ],
          "scattermapbox": [
           {
            "marker": {
             "colorbar": {
              "outlinewidth": 0,
              "ticks": ""
             }
            },
            "type": "scattermapbox"
           }
          ],
          "scatterpolar": [
           {
            "marker": {
             "colorbar": {
              "outlinewidth": 0,
              "ticks": ""
             }
            },
            "type": "scatterpolar"
           }
          ],
          "scatterpolargl": [
           {
            "marker": {
             "colorbar": {
              "outlinewidth": 0,
              "ticks": ""
             }
            },
            "type": "scatterpolargl"
           }
          ],
          "scatterternary": [
           {
            "marker": {
             "colorbar": {
              "outlinewidth": 0,
              "ticks": ""
             }
            },
            "type": "scatterternary"
           }
          ],
          "surface": [
           {
            "colorbar": {
             "outlinewidth": 0,
             "ticks": ""
            },
            "colorscale": [
             [
              0,
              "#0d0887"
             ],
             [
              0.1111111111111111,
              "#46039f"
             ],
             [
              0.2222222222222222,
              "#7201a8"
             ],
             [
              0.3333333333333333,
              "#9c179e"
             ],
             [
              0.4444444444444444,
              "#bd3786"
             ],
             [
              0.5555555555555556,
              "#d8576b"
             ],
             [
              0.6666666666666666,
              "#ed7953"
             ],
             [
              0.7777777777777778,
              "#fb9f3a"
             ],
             [
              0.8888888888888888,
              "#fdca26"
             ],
             [
              1,
              "#f0f921"
             ]
            ],
            "type": "surface"
           }
          ],
          "table": [
           {
            "cells": {
             "fill": {
              "color": "#EBF0F8"
             },
             "line": {
              "color": "white"
             }
            },
            "header": {
             "fill": {
              "color": "#C8D4E3"
             },
             "line": {
              "color": "white"
             }
            },
            "type": "table"
           }
          ]
         },
         "layout": {
          "annotationdefaults": {
           "arrowcolor": "#2a3f5f",
           "arrowhead": 0,
           "arrowwidth": 1
          },
          "coloraxis": {
           "colorbar": {
            "outlinewidth": 0,
            "ticks": ""
           }
          },
          "colorscale": {
           "diverging": [
            [
             0,
             "#8e0152"
            ],
            [
             0.1,
             "#c51b7d"
            ],
            [
             0.2,
             "#de77ae"
            ],
            [
             0.3,
             "#f1b6da"
            ],
            [
             0.4,
             "#fde0ef"
            ],
            [
             0.5,
             "#f7f7f7"
            ],
            [
             0.6,
             "#e6f5d0"
            ],
            [
             0.7,
             "#b8e186"
            ],
            [
             0.8,
             "#7fbc41"
            ],
            [
             0.9,
             "#4d9221"
            ],
            [
             1,
             "#276419"
            ]
           ],
           "sequential": [
            [
             0,
             "#0d0887"
            ],
            [
             0.1111111111111111,
             "#46039f"
            ],
            [
             0.2222222222222222,
             "#7201a8"
            ],
            [
             0.3333333333333333,
             "#9c179e"
            ],
            [
             0.4444444444444444,
             "#bd3786"
            ],
            [
             0.5555555555555556,
             "#d8576b"
            ],
            [
             0.6666666666666666,
             "#ed7953"
            ],
            [
             0.7777777777777778,
             "#fb9f3a"
            ],
            [
             0.8888888888888888,
             "#fdca26"
            ],
            [
             1,
             "#f0f921"
            ]
           ],
           "sequentialminus": [
            [
             0,
             "#0d0887"
            ],
            [
             0.1111111111111111,
             "#46039f"
            ],
            [
             0.2222222222222222,
             "#7201a8"
            ],
            [
             0.3333333333333333,
             "#9c179e"
            ],
            [
             0.4444444444444444,
             "#bd3786"
            ],
            [
             0.5555555555555556,
             "#d8576b"
            ],
            [
             0.6666666666666666,
             "#ed7953"
            ],
            [
             0.7777777777777778,
             "#fb9f3a"
            ],
            [
             0.8888888888888888,
             "#fdca26"
            ],
            [
             1,
             "#f0f921"
            ]
           ]
          },
          "colorway": [
           "#636efa",
           "#EF553B",
           "#00cc96",
           "#ab63fa",
           "#FFA15A",
           "#19d3f3",
           "#FF6692",
           "#B6E880",
           "#FF97FF",
           "#FECB52"
          ],
          "font": {
           "color": "#2a3f5f"
          },
          "geo": {
           "bgcolor": "white",
           "lakecolor": "white",
           "landcolor": "#E5ECF6",
           "showlakes": true,
           "showland": true,
           "subunitcolor": "white"
          },
          "hoverlabel": {
           "align": "left"
          },
          "hovermode": "closest",
          "mapbox": {
           "style": "light"
          },
          "paper_bgcolor": "white",
          "plot_bgcolor": "#E5ECF6",
          "polar": {
           "angularaxis": {
            "gridcolor": "white",
            "linecolor": "white",
            "ticks": ""
           },
           "bgcolor": "#E5ECF6",
           "radialaxis": {
            "gridcolor": "white",
            "linecolor": "white",
            "ticks": ""
           }
          },
          "scene": {
           "xaxis": {
            "backgroundcolor": "#E5ECF6",
            "gridcolor": "white",
            "gridwidth": 2,
            "linecolor": "white",
            "showbackground": true,
            "ticks": "",
            "zerolinecolor": "white"
           },
           "yaxis": {
            "backgroundcolor": "#E5ECF6",
            "gridcolor": "white",
            "gridwidth": 2,
            "linecolor": "white",
            "showbackground": true,
            "ticks": "",
            "zerolinecolor": "white"
           },
           "zaxis": {
            "backgroundcolor": "#E5ECF6",
            "gridcolor": "white",
            "gridwidth": 2,
            "linecolor": "white",
            "showbackground": true,
            "ticks": "",
            "zerolinecolor": "white"
           }
          },
          "shapedefaults": {
           "line": {
            "color": "#2a3f5f"
           }
          },
          "ternary": {
           "aaxis": {
            "gridcolor": "white",
            "linecolor": "white",
            "ticks": ""
           },
           "baxis": {
            "gridcolor": "white",
            "linecolor": "white",
            "ticks": ""
           },
           "bgcolor": "#E5ECF6",
           "caxis": {
            "gridcolor": "white",
            "linecolor": "white",
            "ticks": ""
           }
          },
          "title": {
           "x": 0.05
          },
          "xaxis": {
           "automargin": true,
           "gridcolor": "white",
           "linecolor": "white",
           "ticks": "",
           "title": {
            "standoff": 15
           },
           "zerolinecolor": "white",
           "zerolinewidth": 2
          },
          "yaxis": {
           "automargin": true,
           "gridcolor": "white",
           "linecolor": "white",
           "ticks": "",
           "title": {
            "standoff": 15
           },
           "zerolinecolor": "white",
           "zerolinewidth": 2
          }
         }
        },
        "title": {
         "text": "New Infections over Time"
        },
        "xaxis": {
         "title": {
          "text": "Date"
         }
        },
        "yaxis": {
         "title": {
          "text": "Infected"
         }
        }
       }
      },
      "text/html": [
       "<div>\n",
       "        \n",
       "        \n",
       "            <div id=\"03eacef7-c019-4e82-b3e9-cbdc5aa3f3dd\" class=\"plotly-graph-div\" style=\"height:525px; width:100%;\"></div>\n",
       "            <script type=\"text/javascript\">\n",
       "                require([\"plotly\"], function(Plotly) {\n",
       "                    window.PLOTLYENV=window.PLOTLYENV || {};\n",
       "                    \n",
       "                if (document.getElementById(\"03eacef7-c019-4e82-b3e9-cbdc5aa3f3dd\")) {\n",
       "                    Plotly.newPlot(\n",
       "                        '03eacef7-c019-4e82-b3e9-cbdc5aa3f3dd',\n",
       "                        [{\"marker\": {\"color\": \"#EB89B5\"}, \"name\": \"Toronto\", \"type\": \"histogram\", \"x\": [\"2020-02-21\", \"2020-02-24\", \"2020-02-25\", \"2020-02-28\", \"2020-03-03\", \"2020-03-03\", \"2020-02-28\", \"2020-03-03\", \"2020-03-02\", \"2020-03-07\", \"2020-03-14\", \"2020-03-14\", \"2020-03-14\", \"2020-03-14\", \"2020-03-14\", \"2020-03-14\", \"2020-03-14\", \"2020-03-14\", \"2020-03-14\", \"2020-03-16\", \"2020-03-16\", \"2020-03-16\", \"2020-03-16\", \"2020-03-16\", \"2020-03-16\", \"2020-03-16\", \"2020-03-16\", \"2020-03-16\", \"2020-03-16\", \"2020-03-16\", \"2020-03-18\", \"2020-03-18\", \"2020-03-18\", \"2020-03-09\", \"2020-03-09\", \"2020-03-15\", \"2020-03-15\", \"2020-03-15\", \"2020-03-15\", \"2020-03-15\", \"2020-03-15\", \"2020-03-15\", \"2020-03-15\", \"2020-03-15\", \"2020-03-15\", \"2020-03-15\", \"2020-03-15\", \"2020-03-15\", \"2020-03-15\", \"2020-03-11\", \"2020-03-21\", \"2020-03-21\", \"2020-03-12\", \"2020-03-12\", \"2020-03-12\", \"2020-03-12\", \"2020-03-12\", \"2020-03-12\", \"2020-03-12\", \"2020-03-12\", \"2020-03-12\", \"2020-03-20\", \"2020-03-20\", \"2020-03-22\", \"2020-03-19\", \"2020-03-19\", \"2020-03-19\", \"2020-03-19\", \"2020-03-19\", \"2020-03-19\", \"2020-03-19\", \"2020-03-19\", \"2020-03-10\", \"2020-03-13\", \"2020-03-13\", \"2020-03-13\", \"2020-03-13\", \"2020-03-13\", \"2020-03-13\", \"2020-03-13\", \"2020-03-13\", \"2020-03-13\", \"2020-03-13\", \"2020-03-13\", \"2020-03-13\", \"2020-03-11\", \"2020-03-23\", \"2020-03-23\", \"2020-03-23\", \"2020-03-23\", \"2020-03-23\", \"2020-03-23\", \"2020-03-23\", \"2020-03-23\", \"2020-03-23\", \"2020-03-23\", \"2020-03-23\", \"2020-03-23\", \"2020-03-23\", \"2020-03-23\", \"2020-03-23\", \"2020-03-24\", \"2020-03-24\", \"2020-03-24\", \"2020-03-24\", \"2020-03-24\", \"2020-03-24\", \"2020-03-24\", \"2020-03-24\", \"2020-03-24\", \"2020-03-24\", \"2020-03-24\", \"2020-03-24\", \"2020-03-24\", \"2020-03-24\", \"2020-03-24\", \"2020-03-24\", \"2020-03-24\", \"2020-03-25\", \"2020-03-25\", \"2020-03-25\", \"2020-03-25\", \"2020-03-25\", \"2020-03-25\", \"2020-03-25\", \"2020-03-25\", \"2020-03-25\", \"2020-03-25\", \"2020-03-25\", \"2020-03-25\", \"2020-03-25\", \"2020-03-25\", \"2020-03-25\", \"2020-03-25\", \"2020-03-25\", \"2020-03-25\", \"2020-03-25\", \"2020-03-25\", \"2020-03-25\"]}, {\"marker\": {\"color\": \"#5b7bd6\"}, \"name\": \"Unspecified\", \"type\": \"histogram\", \"x\": [\"2020-02-27\", \"2020-02-28\", \"2020-02-29\", \"2020-02-29\", \"2020-02-23\", \"2020-03-02\"]}, {\"marker\": {\"color\": \"#ff6960\"}, \"name\": \"London\", \"type\": \"histogram\", \"x\": [\"2020-03-14\", \"2020-03-18\", \"2020-03-17\", \"2020-03-17\", \"2020-03-20\", \"2020-03-20\", \"2020-03-20\", \"2020-03-20\", \"2020-03-20\", \"2020-03-20\", \"2020-03-25\", \"2020-03-25\"]}, {\"marker\": {\"color\": \"#d11411\"}, \"name\": \"Scarborough\", \"type\": \"histogram\", \"x\": [\"2020-02-27\", \"2020-03-07\"]}, {\"marker\": {\"color\": \"#00b159\"}, \"name\": \"Richmond Hill\", \"type\": \"histogram\", \"x\": [\"2020-02-27\", \"2020-02-28\", \"2020-02-28\", \"2020-03-01\"]}, {\"marker\": {\"color\": \"#00aedb\"}, \"name\": \"Ajax\", \"type\": \"histogram\", \"x\": [\"2020-02-28\"]}, {\"marker\": {\"color\": \"#f37735\"}, \"name\": \"Newmarket\", \"type\": \"histogram\", \"x\": [\"2020-02-29\"]}, {\"marker\": {\"color\": \"#ffc425\"}, \"name\": \"York\", \"type\": \"histogram\", \"x\": [\"2020-02-29\", \"2020-03-16\", \"2020-03-16\", \"2020-03-16\", \"2020-03-16\", \"2020-03-16\", \"2020-03-18\", \"2020-03-15\", \"2020-03-15\", \"2020-03-15\", \"2020-03-11\", \"2020-03-17\", \"2020-03-21\", \"2020-03-21\", \"2020-03-21\", \"2020-03-21\", \"2020-03-21\", \"2020-03-20\", \"2020-03-13\", \"2020-03-23\", \"2020-03-23\", \"2020-03-23\", \"2020-03-23\", \"2020-03-23\", \"2020-03-23\", \"2020-03-23\", \"2020-03-23\", \"2020-03-24\", \"2020-03-24\", \"2020-03-24\", \"2020-03-24\", \"2020-03-24\", \"2020-03-25\", \"2020-03-25\", \"2020-03-25\", \"2020-03-25\", \"2020-03-25\"]}, {\"marker\": {\"color\": \"#a200ff\"}, \"name\": \"Kitchener\", \"type\": \"histogram\", \"x\": [\"2020-03-03\"]}, {\"marker\": {\"color\": \"#f47835\"}, \"name\": \"Mississauga\", \"type\": \"histogram\", \"x\": [\"2020-02-28\", \"2020-02-28\"]}, {\"marker\": {\"color\": \"#d41243\"}, \"name\": \"Ottawa\", \"type\": \"histogram\", \"x\": [\"2020-03-14\", \"2020-03-14\", \"2020-03-16\", \"2020-03-16\", \"2020-03-16\", \"2020-03-18\", \"2020-03-15\", \"2020-03-15\", \"2020-03-15\", \"2020-03-15\", \"2020-03-15\", \"2020-03-11\", \"2020-03-21\", \"2020-03-12\", \"2020-03-20\", \"2020-03-20\", \"2020-03-20\", \"2020-03-22\", \"2020-03-19\", \"2020-03-19\", \"2020-03-13\", \"2020-03-23\", \"2020-03-23\", \"2020-03-23\", \"2020-03-24\", \"2020-03-24\", \"2020-03-24\"]}, {\"marker\": {\"color\": \"#8ec127\"}, \"name\": \"Peel\", \"type\": \"histogram\", \"x\": [\"2020-03-14\", \"2020-03-16\", \"2020-03-16\", \"2020-03-16\", \"2020-03-16\", \"2020-03-18\", \"2020-03-18\", \"2020-03-09\", \"2020-03-15\", \"2020-03-15\", \"2020-03-15\", \"2020-03-15\", \"2020-03-15\", \"2020-03-21\", \"2020-03-21\", \"2020-03-21\", \"2020-03-21\", \"2020-03-12\", \"2020-03-12\", \"2020-03-20\", \"2020-03-20\", \"2020-03-22\", \"2020-03-19\", \"2020-03-19\", \"2020-03-19\", \"2020-03-09\", \"2020-03-13\", \"2020-03-13\", \"2020-03-13\", \"2020-03-13\", \"2020-03-23\", \"2020-03-23\", \"2020-03-23\", \"2020-03-23\", \"2020-03-23\", \"2020-03-23\", \"2020-03-24\", \"2020-03-24\", \"2020-03-24\", \"2020-03-25\", \"2020-03-25\", \"2020-03-25\", \"2020-03-25\", \"2020-03-25\", \"2020-03-25\", \"2020-03-25\", \"2020-03-25\", \"2020-03-25\", \"2020-03-25\", \"2020-03-25\", \"2020-03-25\", \"2020-03-25\"]}, {\"marker\": {\"color\": \"#feda75\"}, \"name\": \"Waterloo\", \"type\": \"histogram\", \"x\": [\"2020-03-14\", \"2020-03-14\", \"2020-03-18\", \"2020-03-15\", \"2020-03-15\", \"2020-03-12\", \"2020-03-12\", \"2020-03-20\", \"2020-03-20\", \"2020-03-20\", \"2020-03-20\", \"2020-03-22\", \"2020-03-19\", \"2020-03-13\", \"2020-03-23\", \"2020-03-24\", \"2020-03-24\"]}, {\"marker\": {\"color\": \"#fa7e1e\"}, \"name\": \"Whitby\", \"type\": \"histogram\", \"x\": [\"2020-03-14\", \"2020-03-14\", \"2020-03-14\", \"2020-03-16\", \"2020-03-15\", \"2020-03-15\", \"2020-03-21\", \"2020-03-20\", \"2020-03-20\", \"2020-03-20\", \"2020-03-20\", \"2020-03-20\", \"2020-03-20\", \"2020-03-19\", \"2020-03-23\", \"2020-03-23\", \"2020-03-23\", \"2020-03-24\", \"2020-03-24\", \"2020-03-24\", \"2020-03-25\"]}, {\"marker\": {\"color\": \"#962fbf\"}, \"name\": \"Port Hope\", \"type\": \"histogram\", \"x\": [\"2020-03-14\", \"2020-03-15\", \"2020-03-20\", \"2020-03-20\", \"2020-03-20\", \"2020-03-20\", \"2020-03-20\", \"2020-03-19\", \"2020-03-23\", \"2020-03-23\", \"2020-03-25\"]}, {\"marker\": {\"color\": \"#EB89B5\"}, \"name\": \"Stratford\", \"type\": \"histogram\", \"x\": [\"2020-03-14\"]}, {\"marker\": {\"color\": \"#5b7bd6\"}, \"name\": \"Oakville\", \"type\": \"histogram\", \"x\": [\"2020-03-14\", \"2020-03-16\", \"2020-03-18\", \"2020-03-18\", \"2020-03-18\", \"2020-03-18\", \"2020-03-11\", \"2020-03-12\", \"2020-03-19\", \"2020-03-19\", \"2020-03-19\", \"2020-03-23\", \"2020-03-23\", \"2020-03-24\", \"2020-03-25\", \"2020-03-25\", \"2020-03-25\", \"2020-03-25\"]}, {\"marker\": {\"color\": \"#ff6960\"}, \"name\": \"Hamilton\", \"type\": \"histogram\", \"x\": [\"2020-03-14\", \"2020-03-16\", \"2020-03-16\", \"2020-03-16\", \"2020-03-16\", \"2020-03-18\", \"2020-03-18\", \"2020-03-15\", \"2020-03-15\", \"2020-03-15\", \"2020-03-17\", \"2020-03-17\", \"2020-03-17\", \"2020-03-17\", \"2020-03-17\", \"2020-03-12\", \"2020-03-20\", \"2020-03-20\", \"2020-03-22\", \"2020-03-19\", \"2020-03-19\", \"2020-03-23\", \"2020-03-23\", \"2020-03-23\", \"2020-03-24\", \"2020-03-24\", \"2020-03-24\", \"2020-03-25\", \"2020-03-25\", \"2020-03-25\", \"2020-03-25\"]}, {\"marker\": {\"color\": \"#d11411\"}, \"name\": \"Kenora\", \"type\": \"histogram\", \"x\": [\"2020-03-14\"]}, {\"marker\": {\"color\": \"#00b159\"}, \"name\": \"Cornwall\", \"type\": \"histogram\", \"x\": [\"2020-03-14\", \"2020-03-22\", \"2020-03-19\", \"2020-03-23\"]}, {\"marker\": {\"color\": \"#00aedb\"}, \"name\": \"Guelph\", \"type\": \"histogram\", \"x\": [\"2020-03-16\", \"2020-03-23\", \"2020-03-24\", \"2020-03-25\"]}, {\"marker\": {\"color\": \"#f37735\"}, \"name\": \"Sudbury\", \"type\": \"histogram\", \"x\": [\"2020-03-16\", \"2020-03-11\", \"2020-03-23\", \"2020-03-24\"]}, {\"marker\": {\"color\": \"#ffc425\"}, \"name\": \"Niagara\", \"type\": \"histogram\", \"x\": [\"2020-03-16\", \"2020-03-18\", \"2020-03-15\", \"2020-03-13\", \"2020-03-24\", \"2020-03-25\"]}, {\"marker\": {\"color\": \"#a200ff\"}, \"name\": \"Chatham\", \"type\": \"histogram\", \"x\": [\"2020-03-18\", \"2020-03-18\"]}, {\"marker\": {\"color\": \"#f47835\"}, \"name\": \"Owen Sound\", \"type\": \"histogram\", \"x\": [\"2020-03-18\", \"2020-03-15\", \"2020-03-15\", \"2020-03-24\"]}, {\"marker\": {\"color\": \"#d41243\"}, \"name\": \"Simcoe\", \"type\": \"histogram\", \"x\": [\"2020-03-18\", \"2020-03-15\", \"2020-03-15\", \"2020-03-17\", \"2020-03-21\", \"2020-03-21\", \"2020-03-21\", \"2020-03-12\", \"2020-03-23\", \"2020-03-25\"]}, {\"marker\": {\"color\": \"#8ec127\"}, \"name\": \"Brantford\", \"type\": \"histogram\", \"x\": [\"2020-03-18\", \"2020-03-24\"]}, {\"marker\": {\"color\": \"#feda75\"}, \"name\": \"Sault Ste. Marie\", \"type\": \"histogram\", \"x\": [\"2020-03-18\"]}, {\"marker\": {\"color\": \"#fa7e1e\"}, \"name\": \"pending\", \"type\": \"histogram\", \"x\": [\"2020-03-18\", \"2020-03-18\", \"2020-03-18\", \"2020-03-15\", \"2020-03-21\", \"2020-03-21\", \"2020-03-21\", \"2020-03-21\", \"2020-03-21\", \"2020-03-21\", \"2020-03-21\", \"2020-03-21\", \"2020-03-21\", \"2020-03-21\", \"2020-03-21\", \"2020-03-21\", \"2020-03-21\", \"2020-03-21\", \"2020-03-21\", \"2020-03-21\", \"2020-03-21\", \"2020-03-21\", \"2020-03-21\", \"2020-03-21\", \"2020-03-21\", \"2020-03-21\", \"2020-03-21\", \"2020-03-21\", \"2020-03-21\", \"2020-03-21\", \"2020-03-21\", \"2020-03-21\", \"2020-03-21\", \"2020-03-21\", \"2020-03-21\", \"2020-03-21\", \"2020-03-21\", \"2020-03-21\", \"2020-03-21\", \"2020-03-21\", \"2020-03-21\", \"2020-03-21\", \"2020-03-21\", \"2020-03-21\", \"2020-03-21\", \"2020-03-21\", \"2020-03-20\", \"2020-03-20\", \"2020-03-20\", \"2020-03-20\", \"2020-03-20\", \"2020-03-20\", \"2020-03-20\", \"2020-03-20\", \"2020-03-20\", \"2020-03-20\", \"2020-03-20\", \"2020-03-20\", \"2020-03-20\", \"2020-03-20\", \"2020-03-20\", \"2020-03-20\", \"2020-03-20\", \"2020-03-20\", \"2020-03-20\", \"2020-03-20\", \"2020-03-20\", \"2020-03-20\", \"2020-03-20\", \"2020-03-20\", \"2020-03-20\", \"2020-03-20\", \"2020-03-22\", \"2020-03-22\", \"2020-03-22\", \"2020-03-22\", \"2020-03-22\", \"2020-03-22\", \"2020-03-22\", \"2020-03-22\", \"2020-03-22\", \"2020-03-22\", \"2020-03-22\", \"2020-03-22\", \"2020-03-22\", \"2020-03-22\", \"2020-03-22\", \"2020-03-22\", \"2020-03-22\", \"2020-03-22\", \"2020-03-22\", \"2020-03-22\", \"2020-03-22\", \"2020-03-22\", \"2020-03-22\", \"2020-03-22\", \"2020-03-22\", \"2020-03-22\", \"2020-03-22\", \"2020-03-22\", \"2020-03-22\", \"2020-03-22\", \"2020-03-22\", \"2020-03-22\", \"2020-03-22\", \"2020-03-22\", \"2020-03-22\", \"2020-03-22\", \"2020-03-22\", \"2020-03-22\", \"2020-03-22\", \"2020-03-22\", \"2020-03-19\", \"2020-03-19\", \"2020-03-19\", \"2020-03-19\", \"2020-03-19\", \"2020-03-19\", \"2020-03-19\", \"2020-03-19\", \"2020-03-19\", \"2020-03-19\", \"2020-03-19\", \"2020-03-19\", \"2020-03-19\", \"2020-03-19\", \"2020-03-19\", \"2020-03-19\", \"2020-03-19\", \"2020-03-19\", \"2020-03-19\", \"2020-03-19\", \"2020-03-19\", \"2020-03-23\", \"2020-03-23\", \"2020-03-23\", \"2020-03-23\", \"2020-03-23\", \"2020-03-23\", \"2020-03-23\", \"2020-03-23\", \"2020-03-23\", \"2020-03-23\", \"2020-03-23\", \"2020-03-23\", \"2020-03-23\", \"2020-03-23\", \"2020-03-23\", \"2020-03-23\", \"2020-03-23\", \"2020-03-23\", \"2020-03-23\", \"2020-03-23\", \"2020-03-23\", \"2020-03-23\", \"2020-03-23\", \"2020-03-23\", \"2020-03-23\", \"2020-03-23\", \"2020-03-23\", \"2020-03-23\", \"2020-03-23\", \"2020-03-24\", \"2020-03-24\", \"2020-03-24\", \"2020-03-24\", \"2020-03-24\", \"2020-03-24\", \"2020-03-24\", \"2020-03-24\", \"2020-03-24\", \"2020-03-24\", \"2020-03-24\", \"2020-03-24\", \"2020-03-24\", \"2020-03-24\", \"2020-03-24\", \"2020-03-24\", \"2020-03-24\", \"2020-03-24\", \"2020-03-24\", \"2020-03-24\", \"2020-03-24\", \"2020-03-24\", \"2020-03-24\", \"2020-03-24\", \"2020-03-24\", \"2020-03-24\", \"2020-03-24\", \"2020-03-24\", \"2020-03-24\", \"2020-03-24\", \"2020-03-24\", \"2020-03-24\", \"2020-03-24\", \"2020-03-24\", \"2020-03-24\", \"2020-03-24\", \"2020-03-24\", \"2020-03-24\", \"2020-03-24\", \"2020-03-25\", \"2020-03-25\", \"2020-03-25\", \"2020-03-25\", \"2020-03-25\", \"2020-03-25\", \"2020-03-25\", \"2020-03-25\", \"2020-03-25\", \"2020-03-25\", \"2020-03-25\", \"2020-03-25\", \"2020-03-25\", \"2020-03-25\", \"2020-03-25\", \"2020-03-25\", \"2020-03-25\", \"2020-03-25\", \"2020-03-25\", \"2020-03-25\", \"2020-03-25\", \"2020-03-25\", \"2020-03-25\", \"2020-03-25\", \"2020-03-25\", \"2020-03-25\", \"2020-03-25\", \"2020-03-25\", \"2020-03-25\", \"2020-03-25\", \"2020-03-25\"]}, {\"marker\": {\"color\": \"#962fbf\"}, \"name\": \"Peterborough\", \"type\": \"histogram\", \"x\": [\"2020-03-15\", \"2020-03-20\", \"2020-03-25\", \"2020-03-25\"]}],\n",
       "                        {\"bargap\": 0.2, \"bargroupgap\": 0.1, \"barmode\": \"stack\", \"template\": {\"data\": {\"bar\": [{\"error_x\": {\"color\": \"#2a3f5f\"}, \"error_y\": {\"color\": \"#2a3f5f\"}, \"marker\": {\"line\": {\"color\": \"#E5ECF6\", \"width\": 0.5}}, \"type\": \"bar\"}], \"barpolar\": [{\"marker\": {\"line\": {\"color\": \"#E5ECF6\", \"width\": 0.5}}, \"type\": \"barpolar\"}], \"carpet\": [{\"aaxis\": {\"endlinecolor\": \"#2a3f5f\", \"gridcolor\": \"white\", \"linecolor\": \"white\", \"minorgridcolor\": \"white\", \"startlinecolor\": \"#2a3f5f\"}, \"baxis\": {\"endlinecolor\": \"#2a3f5f\", \"gridcolor\": \"white\", \"linecolor\": \"white\", \"minorgridcolor\": \"white\", \"startlinecolor\": \"#2a3f5f\"}, \"type\": \"carpet\"}], \"choropleth\": [{\"colorbar\": {\"outlinewidth\": 0, \"ticks\": \"\"}, \"type\": \"choropleth\"}], \"contour\": [{\"colorbar\": {\"outlinewidth\": 0, \"ticks\": \"\"}, \"colorscale\": [[0.0, \"#0d0887\"], [0.1111111111111111, \"#46039f\"], [0.2222222222222222, \"#7201a8\"], [0.3333333333333333, \"#9c179e\"], [0.4444444444444444, \"#bd3786\"], [0.5555555555555556, \"#d8576b\"], [0.6666666666666666, \"#ed7953\"], [0.7777777777777778, \"#fb9f3a\"], [0.8888888888888888, \"#fdca26\"], [1.0, \"#f0f921\"]], \"type\": \"contour\"}], \"contourcarpet\": [{\"colorbar\": {\"outlinewidth\": 0, \"ticks\": \"\"}, \"type\": \"contourcarpet\"}], \"heatmap\": [{\"colorbar\": {\"outlinewidth\": 0, \"ticks\": \"\"}, \"colorscale\": [[0.0, \"#0d0887\"], [0.1111111111111111, \"#46039f\"], [0.2222222222222222, \"#7201a8\"], [0.3333333333333333, \"#9c179e\"], [0.4444444444444444, \"#bd3786\"], [0.5555555555555556, \"#d8576b\"], [0.6666666666666666, \"#ed7953\"], [0.7777777777777778, \"#fb9f3a\"], [0.8888888888888888, \"#fdca26\"], [1.0, \"#f0f921\"]], \"type\": \"heatmap\"}], \"heatmapgl\": [{\"colorbar\": {\"outlinewidth\": 0, \"ticks\": \"\"}, \"colorscale\": [[0.0, \"#0d0887\"], [0.1111111111111111, \"#46039f\"], [0.2222222222222222, \"#7201a8\"], [0.3333333333333333, \"#9c179e\"], [0.4444444444444444, \"#bd3786\"], [0.5555555555555556, \"#d8576b\"], [0.6666666666666666, \"#ed7953\"], [0.7777777777777778, \"#fb9f3a\"], [0.8888888888888888, \"#fdca26\"], [1.0, \"#f0f921\"]], \"type\": \"heatmapgl\"}], \"histogram\": [{\"marker\": {\"colorbar\": {\"outlinewidth\": 0, \"ticks\": \"\"}}, \"type\": \"histogram\"}], \"histogram2d\": [{\"colorbar\": {\"outlinewidth\": 0, \"ticks\": \"\"}, \"colorscale\": [[0.0, \"#0d0887\"], [0.1111111111111111, \"#46039f\"], [0.2222222222222222, \"#7201a8\"], [0.3333333333333333, \"#9c179e\"], [0.4444444444444444, \"#bd3786\"], [0.5555555555555556, \"#d8576b\"], [0.6666666666666666, \"#ed7953\"], [0.7777777777777778, \"#fb9f3a\"], [0.8888888888888888, \"#fdca26\"], [1.0, \"#f0f921\"]], \"type\": \"histogram2d\"}], \"histogram2dcontour\": [{\"colorbar\": {\"outlinewidth\": 0, \"ticks\": \"\"}, \"colorscale\": [[0.0, \"#0d0887\"], [0.1111111111111111, \"#46039f\"], [0.2222222222222222, \"#7201a8\"], [0.3333333333333333, \"#9c179e\"], [0.4444444444444444, \"#bd3786\"], [0.5555555555555556, \"#d8576b\"], [0.6666666666666666, \"#ed7953\"], [0.7777777777777778, \"#fb9f3a\"], [0.8888888888888888, \"#fdca26\"], [1.0, \"#f0f921\"]], \"type\": \"histogram2dcontour\"}], \"mesh3d\": [{\"colorbar\": {\"outlinewidth\": 0, \"ticks\": \"\"}, \"type\": \"mesh3d\"}], \"parcoords\": [{\"line\": {\"colorbar\": {\"outlinewidth\": 0, \"ticks\": \"\"}}, \"type\": \"parcoords\"}], \"pie\": [{\"automargin\": true, \"type\": \"pie\"}], \"scatter\": [{\"marker\": {\"colorbar\": {\"outlinewidth\": 0, \"ticks\": \"\"}}, \"type\": \"scatter\"}], \"scatter3d\": [{\"line\": {\"colorbar\": {\"outlinewidth\": 0, \"ticks\": \"\"}}, \"marker\": {\"colorbar\": {\"outlinewidth\": 0, \"ticks\": \"\"}}, \"type\": \"scatter3d\"}], \"scattercarpet\": [{\"marker\": {\"colorbar\": {\"outlinewidth\": 0, \"ticks\": \"\"}}, \"type\": \"scattercarpet\"}], \"scattergeo\": [{\"marker\": {\"colorbar\": {\"outlinewidth\": 0, \"ticks\": \"\"}}, \"type\": \"scattergeo\"}], \"scattergl\": [{\"marker\": {\"colorbar\": {\"outlinewidth\": 0, \"ticks\": \"\"}}, \"type\": \"scattergl\"}], \"scattermapbox\": [{\"marker\": {\"colorbar\": {\"outlinewidth\": 0, \"ticks\": \"\"}}, \"type\": \"scattermapbox\"}], \"scatterpolar\": [{\"marker\": {\"colorbar\": {\"outlinewidth\": 0, \"ticks\": \"\"}}, \"type\": \"scatterpolar\"}], \"scatterpolargl\": [{\"marker\": {\"colorbar\": {\"outlinewidth\": 0, \"ticks\": \"\"}}, \"type\": \"scatterpolargl\"}], \"scatterternary\": [{\"marker\": {\"colorbar\": {\"outlinewidth\": 0, \"ticks\": \"\"}}, \"type\": \"scatterternary\"}], \"surface\": [{\"colorbar\": {\"outlinewidth\": 0, \"ticks\": \"\"}, \"colorscale\": [[0.0, \"#0d0887\"], [0.1111111111111111, \"#46039f\"], [0.2222222222222222, \"#7201a8\"], [0.3333333333333333, \"#9c179e\"], [0.4444444444444444, \"#bd3786\"], [0.5555555555555556, \"#d8576b\"], [0.6666666666666666, \"#ed7953\"], [0.7777777777777778, \"#fb9f3a\"], [0.8888888888888888, \"#fdca26\"], [1.0, \"#f0f921\"]], \"type\": \"surface\"}], \"table\": [{\"cells\": {\"fill\": {\"color\": \"#EBF0F8\"}, \"line\": {\"color\": \"white\"}}, \"header\": {\"fill\": {\"color\": \"#C8D4E3\"}, \"line\": {\"color\": \"white\"}}, \"type\": \"table\"}]}, \"layout\": {\"annotationdefaults\": {\"arrowcolor\": \"#2a3f5f\", \"arrowhead\": 0, \"arrowwidth\": 1}, \"coloraxis\": {\"colorbar\": {\"outlinewidth\": 0, \"ticks\": \"\"}}, \"colorscale\": {\"diverging\": [[0, \"#8e0152\"], [0.1, \"#c51b7d\"], [0.2, \"#de77ae\"], [0.3, \"#f1b6da\"], [0.4, \"#fde0ef\"], [0.5, \"#f7f7f7\"], [0.6, \"#e6f5d0\"], [0.7, \"#b8e186\"], [0.8, \"#7fbc41\"], [0.9, \"#4d9221\"], [1, \"#276419\"]], \"sequential\": [[0.0, \"#0d0887\"], [0.1111111111111111, \"#46039f\"], [0.2222222222222222, \"#7201a8\"], [0.3333333333333333, \"#9c179e\"], [0.4444444444444444, \"#bd3786\"], [0.5555555555555556, \"#d8576b\"], [0.6666666666666666, \"#ed7953\"], [0.7777777777777778, \"#fb9f3a\"], [0.8888888888888888, \"#fdca26\"], [1.0, \"#f0f921\"]], \"sequentialminus\": [[0.0, \"#0d0887\"], [0.1111111111111111, \"#46039f\"], [0.2222222222222222, \"#7201a8\"], [0.3333333333333333, \"#9c179e\"], [0.4444444444444444, \"#bd3786\"], [0.5555555555555556, \"#d8576b\"], [0.6666666666666666, \"#ed7953\"], [0.7777777777777778, \"#fb9f3a\"], [0.8888888888888888, \"#fdca26\"], [1.0, \"#f0f921\"]]}, \"colorway\": [\"#636efa\", \"#EF553B\", \"#00cc96\", \"#ab63fa\", \"#FFA15A\", \"#19d3f3\", \"#FF6692\", \"#B6E880\", \"#FF97FF\", \"#FECB52\"], \"font\": {\"color\": \"#2a3f5f\"}, \"geo\": {\"bgcolor\": \"white\", \"lakecolor\": \"white\", \"landcolor\": \"#E5ECF6\", \"showlakes\": true, \"showland\": true, \"subunitcolor\": \"white\"}, \"hoverlabel\": {\"align\": \"left\"}, \"hovermode\": \"closest\", \"mapbox\": {\"style\": \"light\"}, \"paper_bgcolor\": \"white\", \"plot_bgcolor\": \"#E5ECF6\", \"polar\": {\"angularaxis\": {\"gridcolor\": \"white\", \"linecolor\": \"white\", \"ticks\": \"\"}, \"bgcolor\": \"#E5ECF6\", \"radialaxis\": {\"gridcolor\": \"white\", \"linecolor\": \"white\", \"ticks\": \"\"}}, \"scene\": {\"xaxis\": {\"backgroundcolor\": \"#E5ECF6\", \"gridcolor\": \"white\", \"gridwidth\": 2, \"linecolor\": \"white\", \"showbackground\": true, \"ticks\": \"\", \"zerolinecolor\": \"white\"}, \"yaxis\": {\"backgroundcolor\": \"#E5ECF6\", \"gridcolor\": \"white\", \"gridwidth\": 2, \"linecolor\": \"white\", \"showbackground\": true, \"ticks\": \"\", \"zerolinecolor\": \"white\"}, \"zaxis\": {\"backgroundcolor\": \"#E5ECF6\", \"gridcolor\": \"white\", \"gridwidth\": 2, \"linecolor\": \"white\", \"showbackground\": true, \"ticks\": \"\", \"zerolinecolor\": \"white\"}}, \"shapedefaults\": {\"line\": {\"color\": \"#2a3f5f\"}}, \"ternary\": {\"aaxis\": {\"gridcolor\": \"white\", \"linecolor\": \"white\", \"ticks\": \"\"}, \"baxis\": {\"gridcolor\": \"white\", \"linecolor\": \"white\", \"ticks\": \"\"}, \"bgcolor\": \"#E5ECF6\", \"caxis\": {\"gridcolor\": \"white\", \"linecolor\": \"white\", \"ticks\": \"\"}}, \"title\": {\"x\": 0.05}, \"xaxis\": {\"automargin\": true, \"gridcolor\": \"white\", \"linecolor\": \"white\", \"ticks\": \"\", \"title\": {\"standoff\": 15}, \"zerolinecolor\": \"white\", \"zerolinewidth\": 2}, \"yaxis\": {\"automargin\": true, \"gridcolor\": \"white\", \"linecolor\": \"white\", \"ticks\": \"\", \"title\": {\"standoff\": 15}, \"zerolinecolor\": \"white\", \"zerolinewidth\": 2}}}, \"title\": {\"text\": \"New Infections over Time\"}, \"xaxis\": {\"title\": {\"text\": \"Date\"}}, \"yaxis\": {\"title\": {\"text\": \"Infected\"}}},\n",
       "                        {\"responsive\": true}\n",
       "                    ).then(function(){\n",
       "                            \n",
       "var gd = document.getElementById('03eacef7-c019-4e82-b3e9-cbdc5aa3f3dd');\n",
       "var x = new MutationObserver(function (mutations, observer) {{\n",
       "        var display = window.getComputedStyle(gd).display;\n",
       "        if (!display || display === 'none') {{\n",
       "            console.log([gd, 'removed!']);\n",
       "            Plotly.purge(gd);\n",
       "            observer.disconnect();\n",
       "        }}\n",
       "}});\n",
       "\n",
       "// Listen for the removal of the full notebook cells\n",
       "var notebookContainer = gd.closest('#notebook-container');\n",
       "if (notebookContainer) {{\n",
       "    x.observe(notebookContainer, {childList: true});\n",
       "}}\n",
       "\n",
       "// Listen for the clearing of the current output cell\n",
       "var outputEl = gd.closest('.output');\n",
       "if (outputEl) {{\n",
       "    x.observe(outputEl, {childList: true});\n",
       "}}\n",
       "\n",
       "                        })\n",
       "                };\n",
       "                });\n",
       "            </script>\n",
       "        </div>"
      ]
     },
     "metadata": {},
     "output_type": "display_data"
    }
   ],
   "source": [
    "color = ['#EB89B5', '#5b7bd6','#ff6960', '#d11411', '#00b159', '#00aedb', '#f37735', '#ffc425',\n",
    "          '#a200ff', '#f47835', '#d41243', '#8ec127', '#feda75', '#fa7e1e', '#962fbf']*2\n",
    "\n",
    "\n",
    "fig = go.Figure()\n",
    "for  m, c, co in zip(infections, cities, color) : \n",
    "    fig.add_trace(go.Histogram( x=m, name = c, marker_color = co))\n",
    "\n",
    "fig.update_layout(barmode='stack')\n",
    "\n",
    "#fig = px.histogram(df, x=\"date\", color = \"city\", color_discrete_sequence= px.colors.qualitative.Light24)\n",
    "fig.update_layout(\n",
    "    title_text='New Infections over Time', # title of plot\n",
    "    xaxis_title_text='Date', # xaxis label\n",
    "    yaxis_title_text='Infected', # yaxis label\n",
    "    bargap=0.2, # gap between bars of adjacent location coordinates\n",
    "    bargroupgap=0.1 # gap between bars of the same location coordinates\n",
    ")\n",
    "\n",
    "fig.show()"
   ]
  },
  {
   "cell_type": "code",
   "execution_count": 258,
   "metadata": {},
   "outputs": [],
   "source": [
    "\n",
    "\n",
    "df = pd.DataFrame.from_dict(all_cases)\n",
    "\n",
    "cities = list(df.city.unique())\n",
    "\n",
    "male = [[case[\"age\"] for case in all_cases if case[\"city\"]== city and case[\"gender\"] == \"Male\" and case[\"age\"] != 'pending'] for city in cities ]\n",
    "\n",
    "#male = [ {\"age\" :p[\"age\"], \"city\" : p[\"city\"]} for p in all_cases if p[\"gender\"] == \"Male\" and p[\"age\"] != 'pending' ]\n",
    "#male = pd.DataFrame.from_dict(male)\n",
    "          \n",
    "#female = [ {\"age\" :p[\"age\"], \"city\" : p[\"city\"]} for p in all_cases if p[\"gender\"] == \"Female\" and p[\"age\"] != 'pending']\n",
    "#female = pd.DataFrame.from_dict(female)\n",
    "\n",
    "female = [[case[\"age\"] for case in all_cases if case[\"city\"]== city and case[\"gender\"] == \"Female\" and case[\"age\"] != 'pending'] for city in cities ]\n",
    "\n",
    "male[1][0] = 60"
   ]
  },
  {
   "cell_type": "code",
   "execution_count": 256,
   "metadata": {},
   "outputs": [
    {
     "data": {
      "application/vnd.plotly.v1+json": {
       "config": {
        "plotlyServerURL": "https://plot.ly"
       },
       "data": [
        {
         "marker": {
          "color": "#EB89B5"
         },
         "name": "Toronto",
         "type": "histogram",
         "x": [
          50,
          60,
          60,
          50,
          40,
          20,
          60,
          60,
          30,
          50,
          80,
          30,
          60,
          20,
          70,
          40,
          10,
          30,
          20,
          60,
          30,
          20,
          20,
          40,
          20,
          40,
          40,
          70,
          40,
          60,
          20,
          50,
          50,
          60,
          90,
          20,
          40,
          30,
          60,
          30,
          70,
          50,
          70,
          60,
          50,
          50,
          50,
          30,
          40,
          30,
          30,
          60,
          40,
          30,
          30,
          10,
          70,
          50
         ]
        },
        {
         "marker": {
          "color": "#5b7bd6"
         },
         "name": "Unspecified",
         "type": "histogram",
         "x": [
          60,
          60
         ]
        },
        {
         "marker": {
          "color": "#ff6960"
         },
         "name": "London",
         "type": "histogram",
         "x": []
        },
        {
         "marker": {
          "color": "#d11411"
         },
         "name": "Scarborough",
         "type": "histogram",
         "x": [
          80
         ]
        },
        {
         "marker": {
          "color": "#00b159"
         },
         "name": "Richmond Hill",
         "type": "histogram",
         "x": [
          50,
          40
         ]
        },
        {
         "marker": {
          "color": "#00aedb"
         },
         "name": "Ajax",
         "type": "histogram",
         "x": []
        },
        {
         "marker": {
          "color": "#f37735"
         },
         "name": "Newmarket",
         "type": "histogram",
         "x": []
        },
        {
         "marker": {
          "color": "#ffc425"
         },
         "name": "York",
         "type": "histogram",
         "x": [
          50,
          60,
          30,
          30,
          50,
          60,
          30,
          40,
          80,
          40,
          70,
          60,
          20,
          20,
          40
         ]
        },
        {
         "marker": {
          "color": "#a200ff"
         },
         "name": "Kitchener",
         "type": "histogram",
         "x": []
        },
        {
         "marker": {
          "color": "#f47835"
         },
         "name": "Mississauga",
         "type": "histogram",
         "x": [
          60
         ]
        },
        {
         "marker": {
          "color": "#d41243"
         },
         "name": "Ottawa",
         "type": "histogram",
         "x": [
          20,
          40,
          30,
          80,
          40,
          40,
          40,
          50,
          40,
          50
         ]
        },
        {
         "marker": {
          "color": "#8ec127"
         },
         "name": "Peel",
         "type": "histogram",
         "x": [
          20,
          50,
          50,
          40,
          70,
          20,
          40,
          60,
          40,
          70,
          30,
          60,
          60,
          20,
          10,
          70,
          10,
          60,
          50
         ]
        },
        {
         "marker": {
          "color": "#feda75"
         },
         "name": "Waterloo",
         "type": "histogram",
         "x": [
          40,
          40,
          70,
          20,
          40,
          60
         ]
        },
        {
         "marker": {
          "color": "#fa7e1e"
         },
         "name": "Whitby",
         "type": "histogram",
         "x": [
          50,
          50,
          60,
          70,
          80,
          40,
          70,
          40,
          90,
          30
         ]
        },
        {
         "marker": {
          "color": "#962fbf"
         },
         "name": "Port Hope",
         "type": "histogram",
         "x": [
          60,
          80,
          60,
          70,
          80,
          80
         ]
        },
        {
         "marker": {
          "color": "#EB89B5"
         },
         "name": "Stratford",
         "type": "histogram",
         "x": []
        },
        {
         "marker": {
          "color": "#5b7bd6"
         },
         "name": "Oakville",
         "type": "histogram",
         "x": [
          30,
          40,
          50,
          50,
          50,
          40,
          30,
          30,
          40
         ]
        },
        {
         "marker": {
          "color": "#ff6960"
         },
         "name": "Hamilton",
         "type": "histogram",
         "x": [
          70,
          50,
          40,
          50,
          60,
          70,
          60
         ]
        },
        {
         "marker": {
          "color": "#d11411"
         },
         "name": "Kenora",
         "type": "histogram",
         "x": []
        },
        {
         "marker": {
          "color": "#00b159"
         },
         "name": "Cornwall",
         "type": "histogram",
         "x": [
          30,
          60
         ]
        },
        {
         "marker": {
          "color": "#00aedb"
         },
         "name": "Guelph",
         "type": "histogram",
         "x": [
          40,
          60,
          80,
          70
         ]
        },
        {
         "marker": {
          "color": "#f37735"
         },
         "name": "Sudbury",
         "type": "histogram",
         "x": [
          50
         ]
        },
        {
         "marker": {
          "color": "#ffc425"
         },
         "name": "Niagara",
         "type": "histogram",
         "x": [
          50,
          80,
          40
         ]
        },
        {
         "marker": {
          "color": "#a200ff"
         },
         "name": "Chatham",
         "type": "histogram",
         "x": [
          50
         ]
        },
        {
         "marker": {
          "color": "#f47835"
         },
         "name": "Owen Sound",
         "type": "histogram",
         "x": [
          60,
          50
         ]
        },
        {
         "marker": {
          "color": "#d41243"
         },
         "name": "Simcoe",
         "type": "histogram",
         "x": [
          60,
          70,
          70,
          50,
          20,
          40,
          40,
          20
         ]
        },
        {
         "marker": {
          "color": "#8ec127"
         },
         "name": "Brantford",
         "type": "histogram",
         "x": []
        },
        {
         "marker": {
          "color": "#feda75"
         },
         "name": "Sault Ste. Marie",
         "type": "histogram",
         "x": []
        },
        {
         "marker": {
          "color": "#fa7e1e"
         },
         "name": "pending",
         "type": "histogram",
         "x": []
        },
        {
         "marker": {
          "color": "#962fbf"
         },
         "name": "Peterborough",
         "type": "histogram",
         "x": [
          30,
          30,
          60
         ]
        }
       ],
       "layout": {
        "bargap": 0.2,
        "bargroupgap": 0.1,
        "barmode": "stack",
        "template": {
         "data": {
          "bar": [
           {
            "error_x": {
             "color": "#2a3f5f"
            },
            "error_y": {
             "color": "#2a3f5f"
            },
            "marker": {
             "line": {
              "color": "#E5ECF6",
              "width": 0.5
             }
            },
            "type": "bar"
           }
          ],
          "barpolar": [
           {
            "marker": {
             "line": {
              "color": "#E5ECF6",
              "width": 0.5
             }
            },
            "type": "barpolar"
           }
          ],
          "carpet": [
           {
            "aaxis": {
             "endlinecolor": "#2a3f5f",
             "gridcolor": "white",
             "linecolor": "white",
             "minorgridcolor": "white",
             "startlinecolor": "#2a3f5f"
            },
            "baxis": {
             "endlinecolor": "#2a3f5f",
             "gridcolor": "white",
             "linecolor": "white",
             "minorgridcolor": "white",
             "startlinecolor": "#2a3f5f"
            },
            "type": "carpet"
           }
          ],
          "choropleth": [
           {
            "colorbar": {
             "outlinewidth": 0,
             "ticks": ""
            },
            "type": "choropleth"
           }
          ],
          "contour": [
           {
            "colorbar": {
             "outlinewidth": 0,
             "ticks": ""
            },
            "colorscale": [
             [
              0,
              "#0d0887"
             ],
             [
              0.1111111111111111,
              "#46039f"
             ],
             [
              0.2222222222222222,
              "#7201a8"
             ],
             [
              0.3333333333333333,
              "#9c179e"
             ],
             [
              0.4444444444444444,
              "#bd3786"
             ],
             [
              0.5555555555555556,
              "#d8576b"
             ],
             [
              0.6666666666666666,
              "#ed7953"
             ],
             [
              0.7777777777777778,
              "#fb9f3a"
             ],
             [
              0.8888888888888888,
              "#fdca26"
             ],
             [
              1,
              "#f0f921"
             ]
            ],
            "type": "contour"
           }
          ],
          "contourcarpet": [
           {
            "colorbar": {
             "outlinewidth": 0,
             "ticks": ""
            },
            "type": "contourcarpet"
           }
          ],
          "heatmap": [
           {
            "colorbar": {
             "outlinewidth": 0,
             "ticks": ""
            },
            "colorscale": [
             [
              0,
              "#0d0887"
             ],
             [
              0.1111111111111111,
              "#46039f"
             ],
             [
              0.2222222222222222,
              "#7201a8"
             ],
             [
              0.3333333333333333,
              "#9c179e"
             ],
             [
              0.4444444444444444,
              "#bd3786"
             ],
             [
              0.5555555555555556,
              "#d8576b"
             ],
             [
              0.6666666666666666,
              "#ed7953"
             ],
             [
              0.7777777777777778,
              "#fb9f3a"
             ],
             [
              0.8888888888888888,
              "#fdca26"
             ],
             [
              1,
              "#f0f921"
             ]
            ],
            "type": "heatmap"
           }
          ],
          "heatmapgl": [
           {
            "colorbar": {
             "outlinewidth": 0,
             "ticks": ""
            },
            "colorscale": [
             [
              0,
              "#0d0887"
             ],
             [
              0.1111111111111111,
              "#46039f"
             ],
             [
              0.2222222222222222,
              "#7201a8"
             ],
             [
              0.3333333333333333,
              "#9c179e"
             ],
             [
              0.4444444444444444,
              "#bd3786"
             ],
             [
              0.5555555555555556,
              "#d8576b"
             ],
             [
              0.6666666666666666,
              "#ed7953"
             ],
             [
              0.7777777777777778,
              "#fb9f3a"
             ],
             [
              0.8888888888888888,
              "#fdca26"
             ],
             [
              1,
              "#f0f921"
             ]
            ],
            "type": "heatmapgl"
           }
          ],
          "histogram": [
           {
            "marker": {
             "colorbar": {
              "outlinewidth": 0,
              "ticks": ""
             }
            },
            "type": "histogram"
           }
          ],
          "histogram2d": [
           {
            "colorbar": {
             "outlinewidth": 0,
             "ticks": ""
            },
            "colorscale": [
             [
              0,
              "#0d0887"
             ],
             [
              0.1111111111111111,
              "#46039f"
             ],
             [
              0.2222222222222222,
              "#7201a8"
             ],
             [
              0.3333333333333333,
              "#9c179e"
             ],
             [
              0.4444444444444444,
              "#bd3786"
             ],
             [
              0.5555555555555556,
              "#d8576b"
             ],
             [
              0.6666666666666666,
              "#ed7953"
             ],
             [
              0.7777777777777778,
              "#fb9f3a"
             ],
             [
              0.8888888888888888,
              "#fdca26"
             ],
             [
              1,
              "#f0f921"
             ]
            ],
            "type": "histogram2d"
           }
          ],
          "histogram2dcontour": [
           {
            "colorbar": {
             "outlinewidth": 0,
             "ticks": ""
            },
            "colorscale": [
             [
              0,
              "#0d0887"
             ],
             [
              0.1111111111111111,
              "#46039f"
             ],
             [
              0.2222222222222222,
              "#7201a8"
             ],
             [
              0.3333333333333333,
              "#9c179e"
             ],
             [
              0.4444444444444444,
              "#bd3786"
             ],
             [
              0.5555555555555556,
              "#d8576b"
             ],
             [
              0.6666666666666666,
              "#ed7953"
             ],
             [
              0.7777777777777778,
              "#fb9f3a"
             ],
             [
              0.8888888888888888,
              "#fdca26"
             ],
             [
              1,
              "#f0f921"
             ]
            ],
            "type": "histogram2dcontour"
           }
          ],
          "mesh3d": [
           {
            "colorbar": {
             "outlinewidth": 0,
             "ticks": ""
            },
            "type": "mesh3d"
           }
          ],
          "parcoords": [
           {
            "line": {
             "colorbar": {
              "outlinewidth": 0,
              "ticks": ""
             }
            },
            "type": "parcoords"
           }
          ],
          "pie": [
           {
            "automargin": true,
            "type": "pie"
           }
          ],
          "scatter": [
           {
            "marker": {
             "colorbar": {
              "outlinewidth": 0,
              "ticks": ""
             }
            },
            "type": "scatter"
           }
          ],
          "scatter3d": [
           {
            "line": {
             "colorbar": {
              "outlinewidth": 0,
              "ticks": ""
             }
            },
            "marker": {
             "colorbar": {
              "outlinewidth": 0,
              "ticks": ""
             }
            },
            "type": "scatter3d"
           }
          ],
          "scattercarpet": [
           {
            "marker": {
             "colorbar": {
              "outlinewidth": 0,
              "ticks": ""
             }
            },
            "type": "scattercarpet"
           }
          ],
          "scattergeo": [
           {
            "marker": {
             "colorbar": {
              "outlinewidth": 0,
              "ticks": ""
             }
            },
            "type": "scattergeo"
           }
          ],
          "scattergl": [
           {
            "marker": {
             "colorbar": {
              "outlinewidth": 0,
              "ticks": ""
             }
            },
            "type": "scattergl"
           }
          ],
          "scattermapbox": [
           {
            "marker": {
             "colorbar": {
              "outlinewidth": 0,
              "ticks": ""
             }
            },
            "type": "scattermapbox"
           }
          ],
          "scatterpolar": [
           {
            "marker": {
             "colorbar": {
              "outlinewidth": 0,
              "ticks": ""
             }
            },
            "type": "scatterpolar"
           }
          ],
          "scatterpolargl": [
           {
            "marker": {
             "colorbar": {
              "outlinewidth": 0,
              "ticks": ""
             }
            },
            "type": "scatterpolargl"
           }
          ],
          "scatterternary": [
           {
            "marker": {
             "colorbar": {
              "outlinewidth": 0,
              "ticks": ""
             }
            },
            "type": "scatterternary"
           }
          ],
          "surface": [
           {
            "colorbar": {
             "outlinewidth": 0,
             "ticks": ""
            },
            "colorscale": [
             [
              0,
              "#0d0887"
             ],
             [
              0.1111111111111111,
              "#46039f"
             ],
             [
              0.2222222222222222,
              "#7201a8"
             ],
             [
              0.3333333333333333,
              "#9c179e"
             ],
             [
              0.4444444444444444,
              "#bd3786"
             ],
             [
              0.5555555555555556,
              "#d8576b"
             ],
             [
              0.6666666666666666,
              "#ed7953"
             ],
             [
              0.7777777777777778,
              "#fb9f3a"
             ],
             [
              0.8888888888888888,
              "#fdca26"
             ],
             [
              1,
              "#f0f921"
             ]
            ],
            "type": "surface"
           }
          ],
          "table": [
           {
            "cells": {
             "fill": {
              "color": "#EBF0F8"
             },
             "line": {
              "color": "white"
             }
            },
            "header": {
             "fill": {
              "color": "#C8D4E3"
             },
             "line": {
              "color": "white"
             }
            },
            "type": "table"
           }
          ]
         },
         "layout": {
          "annotationdefaults": {
           "arrowcolor": "#2a3f5f",
           "arrowhead": 0,
           "arrowwidth": 1
          },
          "coloraxis": {
           "colorbar": {
            "outlinewidth": 0,
            "ticks": ""
           }
          },
          "colorscale": {
           "diverging": [
            [
             0,
             "#8e0152"
            ],
            [
             0.1,
             "#c51b7d"
            ],
            [
             0.2,
             "#de77ae"
            ],
            [
             0.3,
             "#f1b6da"
            ],
            [
             0.4,
             "#fde0ef"
            ],
            [
             0.5,
             "#f7f7f7"
            ],
            [
             0.6,
             "#e6f5d0"
            ],
            [
             0.7,
             "#b8e186"
            ],
            [
             0.8,
             "#7fbc41"
            ],
            [
             0.9,
             "#4d9221"
            ],
            [
             1,
             "#276419"
            ]
           ],
           "sequential": [
            [
             0,
             "#0d0887"
            ],
            [
             0.1111111111111111,
             "#46039f"
            ],
            [
             0.2222222222222222,
             "#7201a8"
            ],
            [
             0.3333333333333333,
             "#9c179e"
            ],
            [
             0.4444444444444444,
             "#bd3786"
            ],
            [
             0.5555555555555556,
             "#d8576b"
            ],
            [
             0.6666666666666666,
             "#ed7953"
            ],
            [
             0.7777777777777778,
             "#fb9f3a"
            ],
            [
             0.8888888888888888,
             "#fdca26"
            ],
            [
             1,
             "#f0f921"
            ]
           ],
           "sequentialminus": [
            [
             0,
             "#0d0887"
            ],
            [
             0.1111111111111111,
             "#46039f"
            ],
            [
             0.2222222222222222,
             "#7201a8"
            ],
            [
             0.3333333333333333,
             "#9c179e"
            ],
            [
             0.4444444444444444,
             "#bd3786"
            ],
            [
             0.5555555555555556,
             "#d8576b"
            ],
            [
             0.6666666666666666,
             "#ed7953"
            ],
            [
             0.7777777777777778,
             "#fb9f3a"
            ],
            [
             0.8888888888888888,
             "#fdca26"
            ],
            [
             1,
             "#f0f921"
            ]
           ]
          },
          "colorway": [
           "#636efa",
           "#EF553B",
           "#00cc96",
           "#ab63fa",
           "#FFA15A",
           "#19d3f3",
           "#FF6692",
           "#B6E880",
           "#FF97FF",
           "#FECB52"
          ],
          "font": {
           "color": "#2a3f5f"
          },
          "geo": {
           "bgcolor": "white",
           "lakecolor": "white",
           "landcolor": "#E5ECF6",
           "showlakes": true,
           "showland": true,
           "subunitcolor": "white"
          },
          "hoverlabel": {
           "align": "left"
          },
          "hovermode": "closest",
          "mapbox": {
           "style": "light"
          },
          "paper_bgcolor": "white",
          "plot_bgcolor": "#E5ECF6",
          "polar": {
           "angularaxis": {
            "gridcolor": "white",
            "linecolor": "white",
            "ticks": ""
           },
           "bgcolor": "#E5ECF6",
           "radialaxis": {
            "gridcolor": "white",
            "linecolor": "white",
            "ticks": ""
           }
          },
          "scene": {
           "xaxis": {
            "backgroundcolor": "#E5ECF6",
            "gridcolor": "white",
            "gridwidth": 2,
            "linecolor": "white",
            "showbackground": true,
            "ticks": "",
            "zerolinecolor": "white"
           },
           "yaxis": {
            "backgroundcolor": "#E5ECF6",
            "gridcolor": "white",
            "gridwidth": 2,
            "linecolor": "white",
            "showbackground": true,
            "ticks": "",
            "zerolinecolor": "white"
           },
           "zaxis": {
            "backgroundcolor": "#E5ECF6",
            "gridcolor": "white",
            "gridwidth": 2,
            "linecolor": "white",
            "showbackground": true,
            "ticks": "",
            "zerolinecolor": "white"
           }
          },
          "shapedefaults": {
           "line": {
            "color": "#2a3f5f"
           }
          },
          "ternary": {
           "aaxis": {
            "gridcolor": "white",
            "linecolor": "white",
            "ticks": ""
           },
           "baxis": {
            "gridcolor": "white",
            "linecolor": "white",
            "ticks": ""
           },
           "bgcolor": "#E5ECF6",
           "caxis": {
            "gridcolor": "white",
            "linecolor": "white",
            "ticks": ""
           }
          },
          "title": {
           "x": 0.05
          },
          "xaxis": {
           "automargin": true,
           "gridcolor": "white",
           "linecolor": "white",
           "ticks": "",
           "title": {
            "standoff": 15
           },
           "zerolinecolor": "white",
           "zerolinewidth": 2
          },
          "yaxis": {
           "automargin": true,
           "gridcolor": "white",
           "linecolor": "white",
           "ticks": "",
           "title": {
            "standoff": 15
           },
           "zerolinecolor": "white",
           "zerolinewidth": 2
          }
         }
        },
        "title": {
         "text": "Male Infection over Age"
        },
        "xaxis": {
         "title": {
          "text": "Age "
         }
        },
        "yaxis": {
         "title": {
          "text": "Count"
         }
        }
       }
      },
      "text/html": [
       "<div>\n",
       "        \n",
       "        \n",
       "            <div id=\"4930086a-c417-44e1-9a6c-16ef06798d4c\" class=\"plotly-graph-div\" style=\"height:525px; width:100%;\"></div>\n",
       "            <script type=\"text/javascript\">\n",
       "                require([\"plotly\"], function(Plotly) {\n",
       "                    window.PLOTLYENV=window.PLOTLYENV || {};\n",
       "                    \n",
       "                if (document.getElementById(\"4930086a-c417-44e1-9a6c-16ef06798d4c\")) {\n",
       "                    Plotly.newPlot(\n",
       "                        '4930086a-c417-44e1-9a6c-16ef06798d4c',\n",
       "                        [{\"marker\": {\"color\": \"#EB89B5\"}, \"name\": \"Toronto\", \"type\": \"histogram\", \"x\": [50, 60, 60, 50, 40, 20, 60, 60, 30, 50, 80, 30, 60, 20, 70, 40, 10, 30, 20, 60, 30, 20, 20, 40, 20, 40, 40, 70, 40, 60, 20, 50, 50, 60, 90, 20, 40, 30, 60, 30, 70, 50, 70, 60, 50, 50, 50, 30, 40, 30, 30, 60, 40, 30, 30, 10, 70, 50]}, {\"marker\": {\"color\": \"#5b7bd6\"}, \"name\": \"Unspecified\", \"type\": \"histogram\", \"x\": [60, 60]}, {\"marker\": {\"color\": \"#ff6960\"}, \"name\": \"London\", \"type\": \"histogram\", \"x\": []}, {\"marker\": {\"color\": \"#d11411\"}, \"name\": \"Scarborough\", \"type\": \"histogram\", \"x\": [80]}, {\"marker\": {\"color\": \"#00b159\"}, \"name\": \"Richmond Hill\", \"type\": \"histogram\", \"x\": [50, 40]}, {\"marker\": {\"color\": \"#00aedb\"}, \"name\": \"Ajax\", \"type\": \"histogram\", \"x\": []}, {\"marker\": {\"color\": \"#f37735\"}, \"name\": \"Newmarket\", \"type\": \"histogram\", \"x\": []}, {\"marker\": {\"color\": \"#ffc425\"}, \"name\": \"York\", \"type\": \"histogram\", \"x\": [50, 60, 30, 30, 50, 60, 30, 40, 80, 40, 70, 60, 20, 20, 40]}, {\"marker\": {\"color\": \"#a200ff\"}, \"name\": \"Kitchener\", \"type\": \"histogram\", \"x\": []}, {\"marker\": {\"color\": \"#f47835\"}, \"name\": \"Mississauga\", \"type\": \"histogram\", \"x\": [60]}, {\"marker\": {\"color\": \"#d41243\"}, \"name\": \"Ottawa\", \"type\": \"histogram\", \"x\": [20, 40, 30, 80, 40, 40, 40, 50, 40, 50]}, {\"marker\": {\"color\": \"#8ec127\"}, \"name\": \"Peel\", \"type\": \"histogram\", \"x\": [20, 50, 50, 40, 70, 20, 40, 60, 40, 70, 30, 60, 60, 20, 10, 70, 10, 60, 50]}, {\"marker\": {\"color\": \"#feda75\"}, \"name\": \"Waterloo\", \"type\": \"histogram\", \"x\": [40, 40, 70, 20, 40, 60]}, {\"marker\": {\"color\": \"#fa7e1e\"}, \"name\": \"Whitby\", \"type\": \"histogram\", \"x\": [50, 50, 60, 70, 80, 40, 70, 40, 90, 30]}, {\"marker\": {\"color\": \"#962fbf\"}, \"name\": \"Port Hope\", \"type\": \"histogram\", \"x\": [60, 80, 60, 70, 80, 80]}, {\"marker\": {\"color\": \"#EB89B5\"}, \"name\": \"Stratford\", \"type\": \"histogram\", \"x\": []}, {\"marker\": {\"color\": \"#5b7bd6\"}, \"name\": \"Oakville\", \"type\": \"histogram\", \"x\": [30, 40, 50, 50, 50, 40, 30, 30, 40]}, {\"marker\": {\"color\": \"#ff6960\"}, \"name\": \"Hamilton\", \"type\": \"histogram\", \"x\": [70, 50, 40, 50, 60, 70, 60]}, {\"marker\": {\"color\": \"#d11411\"}, \"name\": \"Kenora\", \"type\": \"histogram\", \"x\": []}, {\"marker\": {\"color\": \"#00b159\"}, \"name\": \"Cornwall\", \"type\": \"histogram\", \"x\": [30, 60]}, {\"marker\": {\"color\": \"#00aedb\"}, \"name\": \"Guelph\", \"type\": \"histogram\", \"x\": [40, 60, 80, 70]}, {\"marker\": {\"color\": \"#f37735\"}, \"name\": \"Sudbury\", \"type\": \"histogram\", \"x\": [50]}, {\"marker\": {\"color\": \"#ffc425\"}, \"name\": \"Niagara\", \"type\": \"histogram\", \"x\": [50, 80, 40]}, {\"marker\": {\"color\": \"#a200ff\"}, \"name\": \"Chatham\", \"type\": \"histogram\", \"x\": [50]}, {\"marker\": {\"color\": \"#f47835\"}, \"name\": \"Owen Sound\", \"type\": \"histogram\", \"x\": [60, 50]}, {\"marker\": {\"color\": \"#d41243\"}, \"name\": \"Simcoe\", \"type\": \"histogram\", \"x\": [60, 70, 70, 50, 20, 40, 40, 20]}, {\"marker\": {\"color\": \"#8ec127\"}, \"name\": \"Brantford\", \"type\": \"histogram\", \"x\": []}, {\"marker\": {\"color\": \"#feda75\"}, \"name\": \"Sault Ste. Marie\", \"type\": \"histogram\", \"x\": []}, {\"marker\": {\"color\": \"#fa7e1e\"}, \"name\": \"pending\", \"type\": \"histogram\", \"x\": []}, {\"marker\": {\"color\": \"#962fbf\"}, \"name\": \"Peterborough\", \"type\": \"histogram\", \"x\": [30, 30, 60]}],\n",
       "                        {\"bargap\": 0.2, \"bargroupgap\": 0.1, \"barmode\": \"stack\", \"template\": {\"data\": {\"bar\": [{\"error_x\": {\"color\": \"#2a3f5f\"}, \"error_y\": {\"color\": \"#2a3f5f\"}, \"marker\": {\"line\": {\"color\": \"#E5ECF6\", \"width\": 0.5}}, \"type\": \"bar\"}], \"barpolar\": [{\"marker\": {\"line\": {\"color\": \"#E5ECF6\", \"width\": 0.5}}, \"type\": \"barpolar\"}], \"carpet\": [{\"aaxis\": {\"endlinecolor\": \"#2a3f5f\", \"gridcolor\": \"white\", \"linecolor\": \"white\", \"minorgridcolor\": \"white\", \"startlinecolor\": \"#2a3f5f\"}, \"baxis\": {\"endlinecolor\": \"#2a3f5f\", \"gridcolor\": \"white\", \"linecolor\": \"white\", \"minorgridcolor\": \"white\", \"startlinecolor\": \"#2a3f5f\"}, \"type\": \"carpet\"}], \"choropleth\": [{\"colorbar\": {\"outlinewidth\": 0, \"ticks\": \"\"}, \"type\": \"choropleth\"}], \"contour\": [{\"colorbar\": {\"outlinewidth\": 0, \"ticks\": \"\"}, \"colorscale\": [[0.0, \"#0d0887\"], [0.1111111111111111, \"#46039f\"], [0.2222222222222222, \"#7201a8\"], [0.3333333333333333, \"#9c179e\"], [0.4444444444444444, \"#bd3786\"], [0.5555555555555556, \"#d8576b\"], [0.6666666666666666, \"#ed7953\"], [0.7777777777777778, \"#fb9f3a\"], [0.8888888888888888, \"#fdca26\"], [1.0, \"#f0f921\"]], \"type\": \"contour\"}], \"contourcarpet\": [{\"colorbar\": {\"outlinewidth\": 0, \"ticks\": \"\"}, \"type\": \"contourcarpet\"}], \"heatmap\": [{\"colorbar\": {\"outlinewidth\": 0, \"ticks\": \"\"}, \"colorscale\": [[0.0, \"#0d0887\"], [0.1111111111111111, \"#46039f\"], [0.2222222222222222, \"#7201a8\"], [0.3333333333333333, \"#9c179e\"], [0.4444444444444444, \"#bd3786\"], [0.5555555555555556, \"#d8576b\"], [0.6666666666666666, \"#ed7953\"], [0.7777777777777778, \"#fb9f3a\"], [0.8888888888888888, \"#fdca26\"], [1.0, \"#f0f921\"]], \"type\": \"heatmap\"}], \"heatmapgl\": [{\"colorbar\": {\"outlinewidth\": 0, \"ticks\": \"\"}, \"colorscale\": [[0.0, \"#0d0887\"], [0.1111111111111111, \"#46039f\"], [0.2222222222222222, \"#7201a8\"], [0.3333333333333333, \"#9c179e\"], [0.4444444444444444, \"#bd3786\"], [0.5555555555555556, \"#d8576b\"], [0.6666666666666666, \"#ed7953\"], [0.7777777777777778, \"#fb9f3a\"], [0.8888888888888888, \"#fdca26\"], [1.0, \"#f0f921\"]], \"type\": \"heatmapgl\"}], \"histogram\": [{\"marker\": {\"colorbar\": {\"outlinewidth\": 0, \"ticks\": \"\"}}, \"type\": \"histogram\"}], \"histogram2d\": [{\"colorbar\": {\"outlinewidth\": 0, \"ticks\": \"\"}, \"colorscale\": [[0.0, \"#0d0887\"], [0.1111111111111111, \"#46039f\"], [0.2222222222222222, \"#7201a8\"], [0.3333333333333333, \"#9c179e\"], [0.4444444444444444, \"#bd3786\"], [0.5555555555555556, \"#d8576b\"], [0.6666666666666666, \"#ed7953\"], [0.7777777777777778, \"#fb9f3a\"], [0.8888888888888888, \"#fdca26\"], [1.0, \"#f0f921\"]], \"type\": \"histogram2d\"}], \"histogram2dcontour\": [{\"colorbar\": {\"outlinewidth\": 0, \"ticks\": \"\"}, \"colorscale\": [[0.0, \"#0d0887\"], [0.1111111111111111, \"#46039f\"], [0.2222222222222222, \"#7201a8\"], [0.3333333333333333, \"#9c179e\"], [0.4444444444444444, \"#bd3786\"], [0.5555555555555556, \"#d8576b\"], [0.6666666666666666, \"#ed7953\"], [0.7777777777777778, \"#fb9f3a\"], [0.8888888888888888, \"#fdca26\"], [1.0, \"#f0f921\"]], \"type\": \"histogram2dcontour\"}], \"mesh3d\": [{\"colorbar\": {\"outlinewidth\": 0, \"ticks\": \"\"}, \"type\": \"mesh3d\"}], \"parcoords\": [{\"line\": {\"colorbar\": {\"outlinewidth\": 0, \"ticks\": \"\"}}, \"type\": \"parcoords\"}], \"pie\": [{\"automargin\": true, \"type\": \"pie\"}], \"scatter\": [{\"marker\": {\"colorbar\": {\"outlinewidth\": 0, \"ticks\": \"\"}}, \"type\": \"scatter\"}], \"scatter3d\": [{\"line\": {\"colorbar\": {\"outlinewidth\": 0, \"ticks\": \"\"}}, \"marker\": {\"colorbar\": {\"outlinewidth\": 0, \"ticks\": \"\"}}, \"type\": \"scatter3d\"}], \"scattercarpet\": [{\"marker\": {\"colorbar\": {\"outlinewidth\": 0, \"ticks\": \"\"}}, \"type\": \"scattercarpet\"}], \"scattergeo\": [{\"marker\": {\"colorbar\": {\"outlinewidth\": 0, \"ticks\": \"\"}}, \"type\": \"scattergeo\"}], \"scattergl\": [{\"marker\": {\"colorbar\": {\"outlinewidth\": 0, \"ticks\": \"\"}}, \"type\": \"scattergl\"}], \"scattermapbox\": [{\"marker\": {\"colorbar\": {\"outlinewidth\": 0, \"ticks\": \"\"}}, \"type\": \"scattermapbox\"}], \"scatterpolar\": [{\"marker\": {\"colorbar\": {\"outlinewidth\": 0, \"ticks\": \"\"}}, \"type\": \"scatterpolar\"}], \"scatterpolargl\": [{\"marker\": {\"colorbar\": {\"outlinewidth\": 0, \"ticks\": \"\"}}, \"type\": \"scatterpolargl\"}], \"scatterternary\": [{\"marker\": {\"colorbar\": {\"outlinewidth\": 0, \"ticks\": \"\"}}, \"type\": \"scatterternary\"}], \"surface\": [{\"colorbar\": {\"outlinewidth\": 0, \"ticks\": \"\"}, \"colorscale\": [[0.0, \"#0d0887\"], [0.1111111111111111, \"#46039f\"], [0.2222222222222222, \"#7201a8\"], [0.3333333333333333, \"#9c179e\"], [0.4444444444444444, \"#bd3786\"], [0.5555555555555556, \"#d8576b\"], [0.6666666666666666, \"#ed7953\"], [0.7777777777777778, \"#fb9f3a\"], [0.8888888888888888, \"#fdca26\"], [1.0, \"#f0f921\"]], \"type\": \"surface\"}], \"table\": [{\"cells\": {\"fill\": {\"color\": \"#EBF0F8\"}, \"line\": {\"color\": \"white\"}}, \"header\": {\"fill\": {\"color\": \"#C8D4E3\"}, \"line\": {\"color\": \"white\"}}, \"type\": \"table\"}]}, \"layout\": {\"annotationdefaults\": {\"arrowcolor\": \"#2a3f5f\", \"arrowhead\": 0, \"arrowwidth\": 1}, \"coloraxis\": {\"colorbar\": {\"outlinewidth\": 0, \"ticks\": \"\"}}, \"colorscale\": {\"diverging\": [[0, \"#8e0152\"], [0.1, \"#c51b7d\"], [0.2, \"#de77ae\"], [0.3, \"#f1b6da\"], [0.4, \"#fde0ef\"], [0.5, \"#f7f7f7\"], [0.6, \"#e6f5d0\"], [0.7, \"#b8e186\"], [0.8, \"#7fbc41\"], [0.9, \"#4d9221\"], [1, \"#276419\"]], \"sequential\": [[0.0, \"#0d0887\"], [0.1111111111111111, \"#46039f\"], [0.2222222222222222, \"#7201a8\"], [0.3333333333333333, \"#9c179e\"], [0.4444444444444444, \"#bd3786\"], [0.5555555555555556, \"#d8576b\"], [0.6666666666666666, \"#ed7953\"], [0.7777777777777778, \"#fb9f3a\"], [0.8888888888888888, \"#fdca26\"], [1.0, \"#f0f921\"]], \"sequentialminus\": [[0.0, \"#0d0887\"], [0.1111111111111111, \"#46039f\"], [0.2222222222222222, \"#7201a8\"], [0.3333333333333333, \"#9c179e\"], [0.4444444444444444, \"#bd3786\"], [0.5555555555555556, \"#d8576b\"], [0.6666666666666666, \"#ed7953\"], [0.7777777777777778, \"#fb9f3a\"], [0.8888888888888888, \"#fdca26\"], [1.0, \"#f0f921\"]]}, \"colorway\": [\"#636efa\", \"#EF553B\", \"#00cc96\", \"#ab63fa\", \"#FFA15A\", \"#19d3f3\", \"#FF6692\", \"#B6E880\", \"#FF97FF\", \"#FECB52\"], \"font\": {\"color\": \"#2a3f5f\"}, \"geo\": {\"bgcolor\": \"white\", \"lakecolor\": \"white\", \"landcolor\": \"#E5ECF6\", \"showlakes\": true, \"showland\": true, \"subunitcolor\": \"white\"}, \"hoverlabel\": {\"align\": \"left\"}, \"hovermode\": \"closest\", \"mapbox\": {\"style\": \"light\"}, \"paper_bgcolor\": \"white\", \"plot_bgcolor\": \"#E5ECF6\", \"polar\": {\"angularaxis\": {\"gridcolor\": \"white\", \"linecolor\": \"white\", \"ticks\": \"\"}, \"bgcolor\": \"#E5ECF6\", \"radialaxis\": {\"gridcolor\": \"white\", \"linecolor\": \"white\", \"ticks\": \"\"}}, \"scene\": {\"xaxis\": {\"backgroundcolor\": \"#E5ECF6\", \"gridcolor\": \"white\", \"gridwidth\": 2, \"linecolor\": \"white\", \"showbackground\": true, \"ticks\": \"\", \"zerolinecolor\": \"white\"}, \"yaxis\": {\"backgroundcolor\": \"#E5ECF6\", \"gridcolor\": \"white\", \"gridwidth\": 2, \"linecolor\": \"white\", \"showbackground\": true, \"ticks\": \"\", \"zerolinecolor\": \"white\"}, \"zaxis\": {\"backgroundcolor\": \"#E5ECF6\", \"gridcolor\": \"white\", \"gridwidth\": 2, \"linecolor\": \"white\", \"showbackground\": true, \"ticks\": \"\", \"zerolinecolor\": \"white\"}}, \"shapedefaults\": {\"line\": {\"color\": \"#2a3f5f\"}}, \"ternary\": {\"aaxis\": {\"gridcolor\": \"white\", \"linecolor\": \"white\", \"ticks\": \"\"}, \"baxis\": {\"gridcolor\": \"white\", \"linecolor\": \"white\", \"ticks\": \"\"}, \"bgcolor\": \"#E5ECF6\", \"caxis\": {\"gridcolor\": \"white\", \"linecolor\": \"white\", \"ticks\": \"\"}}, \"title\": {\"x\": 0.05}, \"xaxis\": {\"automargin\": true, \"gridcolor\": \"white\", \"linecolor\": \"white\", \"ticks\": \"\", \"title\": {\"standoff\": 15}, \"zerolinecolor\": \"white\", \"zerolinewidth\": 2}, \"yaxis\": {\"automargin\": true, \"gridcolor\": \"white\", \"linecolor\": \"white\", \"ticks\": \"\", \"title\": {\"standoff\": 15}, \"zerolinecolor\": \"white\", \"zerolinewidth\": 2}}}, \"title\": {\"text\": \"Male Infection over Age\"}, \"xaxis\": {\"title\": {\"text\": \"Age \"}}, \"yaxis\": {\"title\": {\"text\": \"Count\"}}},\n",
       "                        {\"responsive\": true}\n",
       "                    ).then(function(){\n",
       "                            \n",
       "var gd = document.getElementById('4930086a-c417-44e1-9a6c-16ef06798d4c');\n",
       "var x = new MutationObserver(function (mutations, observer) {{\n",
       "        var display = window.getComputedStyle(gd).display;\n",
       "        if (!display || display === 'none') {{\n",
       "            console.log([gd, 'removed!']);\n",
       "            Plotly.purge(gd);\n",
       "            observer.disconnect();\n",
       "        }}\n",
       "}});\n",
       "\n",
       "// Listen for the removal of the full notebook cells\n",
       "var notebookContainer = gd.closest('#notebook-container');\n",
       "if (notebookContainer) {{\n",
       "    x.observe(notebookContainer, {childList: true});\n",
       "}}\n",
       "\n",
       "// Listen for the clearing of the current output cell\n",
       "var outputEl = gd.closest('.output');\n",
       "if (outputEl) {{\n",
       "    x.observe(outputEl, {childList: true});\n",
       "}}\n",
       "\n",
       "                        })\n",
       "                };\n",
       "                });\n",
       "            </script>\n",
       "        </div>"
      ]
     },
     "metadata": {},
     "output_type": "display_data"
    }
   ],
   "source": [
    "\n",
    "color = ['#EB89B5', '#5b7bd6','#ff6960', '#d11411', '#00b159', '#00aedb', '#f37735', '#ffc425',\n",
    "          '#a200ff', '#f47835', '#d41243', '#8ec127', '#feda75', '#fa7e1e', '#962fbf']*2\n",
    "fig = go.Figure()\n",
    "for  m, c, co in zip(male, cities, color) : \n",
    "    fig.add_trace(go.Histogram(x=m, name = c, marker_color = co))\n",
    "\n",
    "fig.update_layout(barmode='stack')\n",
    "\n",
    "fig.update_layout(\n",
    "    title_text='Male Infection over Age', # title of plot\n",
    "    xaxis_title_text='Age ', # xaxis label\n",
    "    yaxis_title_text='Count', # yaxis label\n",
    "    bargap=0.2, # gap between bars of adjacent location coordinates\n",
    "    bargroupgap=0.1 # gap between bars of the same location coordinates\n",
    ")\n",
    "\n",
    "fig.show()"
   ]
  },
  {
   "cell_type": "code",
   "execution_count": 261,
   "metadata": {},
   "outputs": [
    {
     "data": {
      "application/vnd.plotly.v1+json": {
       "config": {
        "plotlyServerURL": "https://plot.ly"
       },
       "data": [
        {
         "marker": {
          "color": "#EB89B5"
         },
         "name": "Toronto",
         "type": "histogram",
         "x": [
          60,
          40,
          50,
          70,
          50,
          20,
          60,
          40,
          50,
          30,
          20,
          30,
          70,
          20,
          60,
          40,
          20,
          20,
          90,
          30,
          40,
          20,
          30,
          50,
          20,
          30,
          50,
          50,
          40,
          50,
          60,
          50,
          90,
          30,
          40,
          30,
          30,
          80,
          20
         ]
        },
        {
         "marker": {
          "color": "#5b7bd6"
         },
         "name": "Unspecified",
         "type": "histogram",
         "x": [
          60,
          70,
          60
         ]
        },
        {
         "marker": {
          "color": "#ff6960"
         },
         "name": "London",
         "type": "histogram",
         "x": [
          20,
          50,
          60,
          20,
          40,
          80,
          70
         ]
        },
        {
         "marker": {
          "color": "#d11411"
         },
         "name": "Scarborough",
         "type": "histogram",
         "x": [
          60
         ]
        },
        {
         "marker": {
          "color": "#00b159"
         },
         "name": "Richmond Hill",
         "type": "histogram",
         "x": [
          34,
          70
         ]
        },
        {
         "marker": {
          "color": "#00aedb"
         },
         "name": "Ajax",
         "type": "histogram",
         "x": [
          51
         ]
        },
        {
         "marker": {
          "color": "#f37735"
         },
         "name": "Newmarket",
         "type": "histogram",
         "x": [
          70
         ]
        },
        {
         "marker": {
          "color": "#ffc425"
         },
         "name": "York",
         "type": "histogram",
         "x": [
          20,
          30,
          50,
          40,
          40,
          70,
          20,
          30,
          50,
          60,
          60,
          20,
          50
         ]
        },
        {
         "marker": {
          "color": "#a200ff"
         },
         "name": "Kitchener",
         "type": "histogram",
         "x": [
          50
         ]
        },
        {
         "marker": {
          "color": "#f47835"
         },
         "name": "Mississauga",
         "type": "histogram",
         "x": [
          60
         ]
        },
        {
         "marker": {
          "color": "#d41243"
         },
         "name": "Ottawa",
         "type": "histogram",
         "x": [
          40,
          20,
          60,
          40,
          10,
          50,
          30
         ]
        },
        {
         "marker": {
          "color": "#8ec127"
         },
         "name": "Peel",
         "type": "histogram",
         "x": [
          60,
          40,
          50,
          50,
          10,
          20,
          20,
          50,
          50,
          50,
          30,
          20,
          60,
          20,
          80,
          20,
          50,
          60,
          20,
          50,
          20,
          20
         ]
        },
        {
         "marker": {
          "color": "#feda75"
         },
         "name": "Waterloo",
         "type": "histogram",
         "x": [
          40,
          60,
          20,
          50,
          20,
          20,
          50,
          40
         ]
        },
        {
         "marker": {
          "color": "#fa7e1e"
         },
         "name": "Whitby",
         "type": "histogram",
         "x": [
          70,
          60,
          70,
          90,
          80,
          50,
          70,
          50
         ]
        },
        {
         "marker": {
          "color": "#962fbf"
         },
         "name": "Port Hope",
         "type": "histogram",
         "x": [
          60,
          60,
          90,
          50
         ]
        },
        {
         "marker": {
          "color": "#EB89B5"
         },
         "name": "Stratford",
         "type": "histogram",
         "x": []
        },
        {
         "marker": {
          "color": "#5b7bd6"
         },
         "name": "Oakville",
         "type": "histogram",
         "x": [
          50,
          50,
          50,
          50,
          30,
          40,
          50,
          30,
          70
         ]
        },
        {
         "marker": {
          "color": "#ff6960"
         },
         "name": "Hamilton",
         "type": "histogram",
         "x": [
          30,
          70,
          60,
          20,
          70,
          50,
          30,
          50,
          40,
          70,
          70
         ]
        },
        {
         "marker": {
          "color": "#d11411"
         },
         "name": "Kenora",
         "type": "histogram",
         "x": []
        },
        {
         "marker": {
          "color": "#00b159"
         },
         "name": "Cornwall",
         "type": "histogram",
         "x": [
          30,
          60
         ]
        },
        {
         "marker": {
          "color": "#00aedb"
         },
         "name": "Guelph",
         "type": "histogram",
         "x": []
        },
        {
         "marker": {
          "color": "#f37735"
         },
         "name": "Sudbury",
         "type": "histogram",
         "x": [
          50,
          40,
          70
         ]
        },
        {
         "marker": {
          "color": "#ffc425"
         },
         "name": "Niagara",
         "type": "histogram",
         "x": [
          50,
          40
         ]
        },
        {
         "marker": {
          "color": "#a200ff"
         },
         "name": "Chatham",
         "type": "histogram",
         "x": [
          80
         ]
        },
        {
         "marker": {
          "color": "#f47835"
         },
         "name": "Owen Sound",
         "type": "histogram",
         "x": [
          50,
          30
         ]
        },
        {
         "marker": {
          "color": "#d41243"
         },
         "name": "Simcoe",
         "type": "histogram",
         "x": [
          40,
          60
         ]
        },
        {
         "marker": {
          "color": "#8ec127"
         },
         "name": "Brantford",
         "type": "histogram",
         "x": [
          40,
          40
         ]
        },
        {
         "marker": {
          "color": "#feda75"
         },
         "name": "Sault Ste. Marie",
         "type": "histogram",
         "x": [
          50
         ]
        },
        {
         "marker": {
          "color": "#fa7e1e"
         },
         "name": "pending",
         "type": "histogram",
         "x": []
        },
        {
         "marker": {
          "color": "#962fbf"
         },
         "name": "Peterborough",
         "type": "histogram",
         "x": [
          70
         ]
        }
       ],
       "layout": {
        "barmode": "stack",
        "template": {
         "data": {
          "bar": [
           {
            "error_x": {
             "color": "#2a3f5f"
            },
            "error_y": {
             "color": "#2a3f5f"
            },
            "marker": {
             "line": {
              "color": "#E5ECF6",
              "width": 0.5
             }
            },
            "type": "bar"
           }
          ],
          "barpolar": [
           {
            "marker": {
             "line": {
              "color": "#E5ECF6",
              "width": 0.5
             }
            },
            "type": "barpolar"
           }
          ],
          "carpet": [
           {
            "aaxis": {
             "endlinecolor": "#2a3f5f",
             "gridcolor": "white",
             "linecolor": "white",
             "minorgridcolor": "white",
             "startlinecolor": "#2a3f5f"
            },
            "baxis": {
             "endlinecolor": "#2a3f5f",
             "gridcolor": "white",
             "linecolor": "white",
             "minorgridcolor": "white",
             "startlinecolor": "#2a3f5f"
            },
            "type": "carpet"
           }
          ],
          "choropleth": [
           {
            "colorbar": {
             "outlinewidth": 0,
             "ticks": ""
            },
            "type": "choropleth"
           }
          ],
          "contour": [
           {
            "colorbar": {
             "outlinewidth": 0,
             "ticks": ""
            },
            "colorscale": [
             [
              0,
              "#0d0887"
             ],
             [
              0.1111111111111111,
              "#46039f"
             ],
             [
              0.2222222222222222,
              "#7201a8"
             ],
             [
              0.3333333333333333,
              "#9c179e"
             ],
             [
              0.4444444444444444,
              "#bd3786"
             ],
             [
              0.5555555555555556,
              "#d8576b"
             ],
             [
              0.6666666666666666,
              "#ed7953"
             ],
             [
              0.7777777777777778,
              "#fb9f3a"
             ],
             [
              0.8888888888888888,
              "#fdca26"
             ],
             [
              1,
              "#f0f921"
             ]
            ],
            "type": "contour"
           }
          ],
          "contourcarpet": [
           {
            "colorbar": {
             "outlinewidth": 0,
             "ticks": ""
            },
            "type": "contourcarpet"
           }
          ],
          "heatmap": [
           {
            "colorbar": {
             "outlinewidth": 0,
             "ticks": ""
            },
            "colorscale": [
             [
              0,
              "#0d0887"
             ],
             [
              0.1111111111111111,
              "#46039f"
             ],
             [
              0.2222222222222222,
              "#7201a8"
             ],
             [
              0.3333333333333333,
              "#9c179e"
             ],
             [
              0.4444444444444444,
              "#bd3786"
             ],
             [
              0.5555555555555556,
              "#d8576b"
             ],
             [
              0.6666666666666666,
              "#ed7953"
             ],
             [
              0.7777777777777778,
              "#fb9f3a"
             ],
             [
              0.8888888888888888,
              "#fdca26"
             ],
             [
              1,
              "#f0f921"
             ]
            ],
            "type": "heatmap"
           }
          ],
          "heatmapgl": [
           {
            "colorbar": {
             "outlinewidth": 0,
             "ticks": ""
            },
            "colorscale": [
             [
              0,
              "#0d0887"
             ],
             [
              0.1111111111111111,
              "#46039f"
             ],
             [
              0.2222222222222222,
              "#7201a8"
             ],
             [
              0.3333333333333333,
              "#9c179e"
             ],
             [
              0.4444444444444444,
              "#bd3786"
             ],
             [
              0.5555555555555556,
              "#d8576b"
             ],
             [
              0.6666666666666666,
              "#ed7953"
             ],
             [
              0.7777777777777778,
              "#fb9f3a"
             ],
             [
              0.8888888888888888,
              "#fdca26"
             ],
             [
              1,
              "#f0f921"
             ]
            ],
            "type": "heatmapgl"
           }
          ],
          "histogram": [
           {
            "marker": {
             "colorbar": {
              "outlinewidth": 0,
              "ticks": ""
             }
            },
            "type": "histogram"
           }
          ],
          "histogram2d": [
           {
            "colorbar": {
             "outlinewidth": 0,
             "ticks": ""
            },
            "colorscale": [
             [
              0,
              "#0d0887"
             ],
             [
              0.1111111111111111,
              "#46039f"
             ],
             [
              0.2222222222222222,
              "#7201a8"
             ],
             [
              0.3333333333333333,
              "#9c179e"
             ],
             [
              0.4444444444444444,
              "#bd3786"
             ],
             [
              0.5555555555555556,
              "#d8576b"
             ],
             [
              0.6666666666666666,
              "#ed7953"
             ],
             [
              0.7777777777777778,
              "#fb9f3a"
             ],
             [
              0.8888888888888888,
              "#fdca26"
             ],
             [
              1,
              "#f0f921"
             ]
            ],
            "type": "histogram2d"
           }
          ],
          "histogram2dcontour": [
           {
            "colorbar": {
             "outlinewidth": 0,
             "ticks": ""
            },
            "colorscale": [
             [
              0,
              "#0d0887"
             ],
             [
              0.1111111111111111,
              "#46039f"
             ],
             [
              0.2222222222222222,
              "#7201a8"
             ],
             [
              0.3333333333333333,
              "#9c179e"
             ],
             [
              0.4444444444444444,
              "#bd3786"
             ],
             [
              0.5555555555555556,
              "#d8576b"
             ],
             [
              0.6666666666666666,
              "#ed7953"
             ],
             [
              0.7777777777777778,
              "#fb9f3a"
             ],
             [
              0.8888888888888888,
              "#fdca26"
             ],
             [
              1,
              "#f0f921"
             ]
            ],
            "type": "histogram2dcontour"
           }
          ],
          "mesh3d": [
           {
            "colorbar": {
             "outlinewidth": 0,
             "ticks": ""
            },
            "type": "mesh3d"
           }
          ],
          "parcoords": [
           {
            "line": {
             "colorbar": {
              "outlinewidth": 0,
              "ticks": ""
             }
            },
            "type": "parcoords"
           }
          ],
          "pie": [
           {
            "automargin": true,
            "type": "pie"
           }
          ],
          "scatter": [
           {
            "marker": {
             "colorbar": {
              "outlinewidth": 0,
              "ticks": ""
             }
            },
            "type": "scatter"
           }
          ],
          "scatter3d": [
           {
            "line": {
             "colorbar": {
              "outlinewidth": 0,
              "ticks": ""
             }
            },
            "marker": {
             "colorbar": {
              "outlinewidth": 0,
              "ticks": ""
             }
            },
            "type": "scatter3d"
           }
          ],
          "scattercarpet": [
           {
            "marker": {
             "colorbar": {
              "outlinewidth": 0,
              "ticks": ""
             }
            },
            "type": "scattercarpet"
           }
          ],
          "scattergeo": [
           {
            "marker": {
             "colorbar": {
              "outlinewidth": 0,
              "ticks": ""
             }
            },
            "type": "scattergeo"
           }
          ],
          "scattergl": [
           {
            "marker": {
             "colorbar": {
              "outlinewidth": 0,
              "ticks": ""
             }
            },
            "type": "scattergl"
           }
          ],
          "scattermapbox": [
           {
            "marker": {
             "colorbar": {
              "outlinewidth": 0,
              "ticks": ""
             }
            },
            "type": "scattermapbox"
           }
          ],
          "scatterpolar": [
           {
            "marker": {
             "colorbar": {
              "outlinewidth": 0,
              "ticks": ""
             }
            },
            "type": "scatterpolar"
           }
          ],
          "scatterpolargl": [
           {
            "marker": {
             "colorbar": {
              "outlinewidth": 0,
              "ticks": ""
             }
            },
            "type": "scatterpolargl"
           }
          ],
          "scatterternary": [
           {
            "marker": {
             "colorbar": {
              "outlinewidth": 0,
              "ticks": ""
             }
            },
            "type": "scatterternary"
           }
          ],
          "surface": [
           {
            "colorbar": {
             "outlinewidth": 0,
             "ticks": ""
            },
            "colorscale": [
             [
              0,
              "#0d0887"
             ],
             [
              0.1111111111111111,
              "#46039f"
             ],
             [
              0.2222222222222222,
              "#7201a8"
             ],
             [
              0.3333333333333333,
              "#9c179e"
             ],
             [
              0.4444444444444444,
              "#bd3786"
             ],
             [
              0.5555555555555556,
              "#d8576b"
             ],
             [
              0.6666666666666666,
              "#ed7953"
             ],
             [
              0.7777777777777778,
              "#fb9f3a"
             ],
             [
              0.8888888888888888,
              "#fdca26"
             ],
             [
              1,
              "#f0f921"
             ]
            ],
            "type": "surface"
           }
          ],
          "table": [
           {
            "cells": {
             "fill": {
              "color": "#EBF0F8"
             },
             "line": {
              "color": "white"
             }
            },
            "header": {
             "fill": {
              "color": "#C8D4E3"
             },
             "line": {
              "color": "white"
             }
            },
            "type": "table"
           }
          ]
         },
         "layout": {
          "annotationdefaults": {
           "arrowcolor": "#2a3f5f",
           "arrowhead": 0,
           "arrowwidth": 1
          },
          "coloraxis": {
           "colorbar": {
            "outlinewidth": 0,
            "ticks": ""
           }
          },
          "colorscale": {
           "diverging": [
            [
             0,
             "#8e0152"
            ],
            [
             0.1,
             "#c51b7d"
            ],
            [
             0.2,
             "#de77ae"
            ],
            [
             0.3,
             "#f1b6da"
            ],
            [
             0.4,
             "#fde0ef"
            ],
            [
             0.5,
             "#f7f7f7"
            ],
            [
             0.6,
             "#e6f5d0"
            ],
            [
             0.7,
             "#b8e186"
            ],
            [
             0.8,
             "#7fbc41"
            ],
            [
             0.9,
             "#4d9221"
            ],
            [
             1,
             "#276419"
            ]
           ],
           "sequential": [
            [
             0,
             "#0d0887"
            ],
            [
             0.1111111111111111,
             "#46039f"
            ],
            [
             0.2222222222222222,
             "#7201a8"
            ],
            [
             0.3333333333333333,
             "#9c179e"
            ],
            [
             0.4444444444444444,
             "#bd3786"
            ],
            [
             0.5555555555555556,
             "#d8576b"
            ],
            [
             0.6666666666666666,
             "#ed7953"
            ],
            [
             0.7777777777777778,
             "#fb9f3a"
            ],
            [
             0.8888888888888888,
             "#fdca26"
            ],
            [
             1,
             "#f0f921"
            ]
           ],
           "sequentialminus": [
            [
             0,
             "#0d0887"
            ],
            [
             0.1111111111111111,
             "#46039f"
            ],
            [
             0.2222222222222222,
             "#7201a8"
            ],
            [
             0.3333333333333333,
             "#9c179e"
            ],
            [
             0.4444444444444444,
             "#bd3786"
            ],
            [
             0.5555555555555556,
             "#d8576b"
            ],
            [
             0.6666666666666666,
             "#ed7953"
            ],
            [
             0.7777777777777778,
             "#fb9f3a"
            ],
            [
             0.8888888888888888,
             "#fdca26"
            ],
            [
             1,
             "#f0f921"
            ]
           ]
          },
          "colorway": [
           "#636efa",
           "#EF553B",
           "#00cc96",
           "#ab63fa",
           "#FFA15A",
           "#19d3f3",
           "#FF6692",
           "#B6E880",
           "#FF97FF",
           "#FECB52"
          ],
          "font": {
           "color": "#2a3f5f"
          },
          "geo": {
           "bgcolor": "white",
           "lakecolor": "white",
           "landcolor": "#E5ECF6",
           "showlakes": true,
           "showland": true,
           "subunitcolor": "white"
          },
          "hoverlabel": {
           "align": "left"
          },
          "hovermode": "closest",
          "mapbox": {
           "style": "light"
          },
          "paper_bgcolor": "white",
          "plot_bgcolor": "#E5ECF6",
          "polar": {
           "angularaxis": {
            "gridcolor": "white",
            "linecolor": "white",
            "ticks": ""
           },
           "bgcolor": "#E5ECF6",
           "radialaxis": {
            "gridcolor": "white",
            "linecolor": "white",
            "ticks": ""
           }
          },
          "scene": {
           "xaxis": {
            "backgroundcolor": "#E5ECF6",
            "gridcolor": "white",
            "gridwidth": 2,
            "linecolor": "white",
            "showbackground": true,
            "ticks": "",
            "zerolinecolor": "white"
           },
           "yaxis": {
            "backgroundcolor": "#E5ECF6",
            "gridcolor": "white",
            "gridwidth": 2,
            "linecolor": "white",
            "showbackground": true,
            "ticks": "",
            "zerolinecolor": "white"
           },
           "zaxis": {
            "backgroundcolor": "#E5ECF6",
            "gridcolor": "white",
            "gridwidth": 2,
            "linecolor": "white",
            "showbackground": true,
            "ticks": "",
            "zerolinecolor": "white"
           }
          },
          "shapedefaults": {
           "line": {
            "color": "#2a3f5f"
           }
          },
          "ternary": {
           "aaxis": {
            "gridcolor": "white",
            "linecolor": "white",
            "ticks": ""
           },
           "baxis": {
            "gridcolor": "white",
            "linecolor": "white",
            "ticks": ""
           },
           "bgcolor": "#E5ECF6",
           "caxis": {
            "gridcolor": "white",
            "linecolor": "white",
            "ticks": ""
           }
          },
          "title": {
           "x": 0.05
          },
          "xaxis": {
           "automargin": true,
           "gridcolor": "white",
           "linecolor": "white",
           "ticks": "",
           "title": {
            "standoff": 15
           },
           "zerolinecolor": "white",
           "zerolinewidth": 2
          },
          "yaxis": {
           "automargin": true,
           "gridcolor": "white",
           "linecolor": "white",
           "ticks": "",
           "title": {
            "standoff": 15
           },
           "zerolinecolor": "white",
           "zerolinewidth": 2
          }
         }
        },
        "title": {
         "text": "Female Infection over Age"
        },
        "xaxis": {
         "title": {
          "text": "Age "
         }
        },
        "yaxis": {
         "title": {
          "text": "Count"
         }
        }
       }
      },
      "text/html": [
       "<div>\n",
       "        \n",
       "        \n",
       "            <div id=\"f77f9ef3-f741-4525-afcd-7f01d8e626c8\" class=\"plotly-graph-div\" style=\"height:525px; width:100%;\"></div>\n",
       "            <script type=\"text/javascript\">\n",
       "                require([\"plotly\"], function(Plotly) {\n",
       "                    window.PLOTLYENV=window.PLOTLYENV || {};\n",
       "                    \n",
       "                if (document.getElementById(\"f77f9ef3-f741-4525-afcd-7f01d8e626c8\")) {\n",
       "                    Plotly.newPlot(\n",
       "                        'f77f9ef3-f741-4525-afcd-7f01d8e626c8',\n",
       "                        [{\"marker\": {\"color\": \"#EB89B5\"}, \"name\": \"Toronto\", \"type\": \"histogram\", \"x\": [60, 40, 50, 70, 50, 20, 60, 40, 50, 30, 20, 30, 70, 20, 60, 40, 20, 20, 90, 30, 40, 20, 30, 50, 20, 30, 50, 50, 40, 50, 60, 50, 90, 30, 40, 30, 30, 80, 20]}, {\"marker\": {\"color\": \"#5b7bd6\"}, \"name\": \"Unspecified\", \"type\": \"histogram\", \"x\": [60, 70, 60]}, {\"marker\": {\"color\": \"#ff6960\"}, \"name\": \"London\", \"type\": \"histogram\", \"x\": [20, 50, 60, 20, 40, 80, 70]}, {\"marker\": {\"color\": \"#d11411\"}, \"name\": \"Scarborough\", \"type\": \"histogram\", \"x\": [60]}, {\"marker\": {\"color\": \"#00b159\"}, \"name\": \"Richmond Hill\", \"type\": \"histogram\", \"x\": [34, 70]}, {\"marker\": {\"color\": \"#00aedb\"}, \"name\": \"Ajax\", \"type\": \"histogram\", \"x\": [51]}, {\"marker\": {\"color\": \"#f37735\"}, \"name\": \"Newmarket\", \"type\": \"histogram\", \"x\": [70]}, {\"marker\": {\"color\": \"#ffc425\"}, \"name\": \"York\", \"type\": \"histogram\", \"x\": [20, 30, 50, 40, 40, 70, 20, 30, 50, 60, 60, 20, 50]}, {\"marker\": {\"color\": \"#a200ff\"}, \"name\": \"Kitchener\", \"type\": \"histogram\", \"x\": [50]}, {\"marker\": {\"color\": \"#f47835\"}, \"name\": \"Mississauga\", \"type\": \"histogram\", \"x\": [60]}, {\"marker\": {\"color\": \"#d41243\"}, \"name\": \"Ottawa\", \"type\": \"histogram\", \"x\": [40, 20, 60, 40, 10, 50, 30]}, {\"marker\": {\"color\": \"#8ec127\"}, \"name\": \"Peel\", \"type\": \"histogram\", \"x\": [60, 40, 50, 50, 10, 20, 20, 50, 50, 50, 30, 20, 60, 20, 80, 20, 50, 60, 20, 50, 20, 20]}, {\"marker\": {\"color\": \"#feda75\"}, \"name\": \"Waterloo\", \"type\": \"histogram\", \"x\": [40, 60, 20, 50, 20, 20, 50, 40]}, {\"marker\": {\"color\": \"#fa7e1e\"}, \"name\": \"Whitby\", \"type\": \"histogram\", \"x\": [70, 60, 70, 90, 80, 50, 70, 50]}, {\"marker\": {\"color\": \"#962fbf\"}, \"name\": \"Port Hope\", \"type\": \"histogram\", \"x\": [60, 60, 90, 50]}, {\"marker\": {\"color\": \"#EB89B5\"}, \"name\": \"Stratford\", \"type\": \"histogram\", \"x\": []}, {\"marker\": {\"color\": \"#5b7bd6\"}, \"name\": \"Oakville\", \"type\": \"histogram\", \"x\": [50, 50, 50, 50, 30, 40, 50, 30, 70]}, {\"marker\": {\"color\": \"#ff6960\"}, \"name\": \"Hamilton\", \"type\": \"histogram\", \"x\": [30, 70, 60, 20, 70, 50, 30, 50, 40, 70, 70]}, {\"marker\": {\"color\": \"#d11411\"}, \"name\": \"Kenora\", \"type\": \"histogram\", \"x\": []}, {\"marker\": {\"color\": \"#00b159\"}, \"name\": \"Cornwall\", \"type\": \"histogram\", \"x\": [30, 60]}, {\"marker\": {\"color\": \"#00aedb\"}, \"name\": \"Guelph\", \"type\": \"histogram\", \"x\": []}, {\"marker\": {\"color\": \"#f37735\"}, \"name\": \"Sudbury\", \"type\": \"histogram\", \"x\": [50, 40, 70]}, {\"marker\": {\"color\": \"#ffc425\"}, \"name\": \"Niagara\", \"type\": \"histogram\", \"x\": [50, 40]}, {\"marker\": {\"color\": \"#a200ff\"}, \"name\": \"Chatham\", \"type\": \"histogram\", \"x\": [80]}, {\"marker\": {\"color\": \"#f47835\"}, \"name\": \"Owen Sound\", \"type\": \"histogram\", \"x\": [50, 30]}, {\"marker\": {\"color\": \"#d41243\"}, \"name\": \"Simcoe\", \"type\": \"histogram\", \"x\": [40, 60]}, {\"marker\": {\"color\": \"#8ec127\"}, \"name\": \"Brantford\", \"type\": \"histogram\", \"x\": [40, 40]}, {\"marker\": {\"color\": \"#feda75\"}, \"name\": \"Sault Ste. Marie\", \"type\": \"histogram\", \"x\": [50]}, {\"marker\": {\"color\": \"#fa7e1e\"}, \"name\": \"pending\", \"type\": \"histogram\", \"x\": []}, {\"marker\": {\"color\": \"#962fbf\"}, \"name\": \"Peterborough\", \"type\": \"histogram\", \"x\": [70]}],\n",
       "                        {\"barmode\": \"stack\", \"template\": {\"data\": {\"bar\": [{\"error_x\": {\"color\": \"#2a3f5f\"}, \"error_y\": {\"color\": \"#2a3f5f\"}, \"marker\": {\"line\": {\"color\": \"#E5ECF6\", \"width\": 0.5}}, \"type\": \"bar\"}], \"barpolar\": [{\"marker\": {\"line\": {\"color\": \"#E5ECF6\", \"width\": 0.5}}, \"type\": \"barpolar\"}], \"carpet\": [{\"aaxis\": {\"endlinecolor\": \"#2a3f5f\", \"gridcolor\": \"white\", \"linecolor\": \"white\", \"minorgridcolor\": \"white\", \"startlinecolor\": \"#2a3f5f\"}, \"baxis\": {\"endlinecolor\": \"#2a3f5f\", \"gridcolor\": \"white\", \"linecolor\": \"white\", \"minorgridcolor\": \"white\", \"startlinecolor\": \"#2a3f5f\"}, \"type\": \"carpet\"}], \"choropleth\": [{\"colorbar\": {\"outlinewidth\": 0, \"ticks\": \"\"}, \"type\": \"choropleth\"}], \"contour\": [{\"colorbar\": {\"outlinewidth\": 0, \"ticks\": \"\"}, \"colorscale\": [[0.0, \"#0d0887\"], [0.1111111111111111, \"#46039f\"], [0.2222222222222222, \"#7201a8\"], [0.3333333333333333, \"#9c179e\"], [0.4444444444444444, \"#bd3786\"], [0.5555555555555556, \"#d8576b\"], [0.6666666666666666, \"#ed7953\"], [0.7777777777777778, \"#fb9f3a\"], [0.8888888888888888, \"#fdca26\"], [1.0, \"#f0f921\"]], \"type\": \"contour\"}], \"contourcarpet\": [{\"colorbar\": {\"outlinewidth\": 0, \"ticks\": \"\"}, \"type\": \"contourcarpet\"}], \"heatmap\": [{\"colorbar\": {\"outlinewidth\": 0, \"ticks\": \"\"}, \"colorscale\": [[0.0, \"#0d0887\"], [0.1111111111111111, \"#46039f\"], [0.2222222222222222, \"#7201a8\"], [0.3333333333333333, \"#9c179e\"], [0.4444444444444444, \"#bd3786\"], [0.5555555555555556, \"#d8576b\"], [0.6666666666666666, \"#ed7953\"], [0.7777777777777778, \"#fb9f3a\"], [0.8888888888888888, \"#fdca26\"], [1.0, \"#f0f921\"]], \"type\": \"heatmap\"}], \"heatmapgl\": [{\"colorbar\": {\"outlinewidth\": 0, \"ticks\": \"\"}, \"colorscale\": [[0.0, \"#0d0887\"], [0.1111111111111111, \"#46039f\"], [0.2222222222222222, \"#7201a8\"], [0.3333333333333333, \"#9c179e\"], [0.4444444444444444, \"#bd3786\"], [0.5555555555555556, \"#d8576b\"], [0.6666666666666666, \"#ed7953\"], [0.7777777777777778, \"#fb9f3a\"], [0.8888888888888888, \"#fdca26\"], [1.0, \"#f0f921\"]], \"type\": \"heatmapgl\"}], \"histogram\": [{\"marker\": {\"colorbar\": {\"outlinewidth\": 0, \"ticks\": \"\"}}, \"type\": \"histogram\"}], \"histogram2d\": [{\"colorbar\": {\"outlinewidth\": 0, \"ticks\": \"\"}, \"colorscale\": [[0.0, \"#0d0887\"], [0.1111111111111111, \"#46039f\"], [0.2222222222222222, \"#7201a8\"], [0.3333333333333333, \"#9c179e\"], [0.4444444444444444, \"#bd3786\"], [0.5555555555555556, \"#d8576b\"], [0.6666666666666666, \"#ed7953\"], [0.7777777777777778, \"#fb9f3a\"], [0.8888888888888888, \"#fdca26\"], [1.0, \"#f0f921\"]], \"type\": \"histogram2d\"}], \"histogram2dcontour\": [{\"colorbar\": {\"outlinewidth\": 0, \"ticks\": \"\"}, \"colorscale\": [[0.0, \"#0d0887\"], [0.1111111111111111, \"#46039f\"], [0.2222222222222222, \"#7201a8\"], [0.3333333333333333, \"#9c179e\"], [0.4444444444444444, \"#bd3786\"], [0.5555555555555556, \"#d8576b\"], [0.6666666666666666, \"#ed7953\"], [0.7777777777777778, \"#fb9f3a\"], [0.8888888888888888, \"#fdca26\"], [1.0, \"#f0f921\"]], \"type\": \"histogram2dcontour\"}], \"mesh3d\": [{\"colorbar\": {\"outlinewidth\": 0, \"ticks\": \"\"}, \"type\": \"mesh3d\"}], \"parcoords\": [{\"line\": {\"colorbar\": {\"outlinewidth\": 0, \"ticks\": \"\"}}, \"type\": \"parcoords\"}], \"pie\": [{\"automargin\": true, \"type\": \"pie\"}], \"scatter\": [{\"marker\": {\"colorbar\": {\"outlinewidth\": 0, \"ticks\": \"\"}}, \"type\": \"scatter\"}], \"scatter3d\": [{\"line\": {\"colorbar\": {\"outlinewidth\": 0, \"ticks\": \"\"}}, \"marker\": {\"colorbar\": {\"outlinewidth\": 0, \"ticks\": \"\"}}, \"type\": \"scatter3d\"}], \"scattercarpet\": [{\"marker\": {\"colorbar\": {\"outlinewidth\": 0, \"ticks\": \"\"}}, \"type\": \"scattercarpet\"}], \"scattergeo\": [{\"marker\": {\"colorbar\": {\"outlinewidth\": 0, \"ticks\": \"\"}}, \"type\": \"scattergeo\"}], \"scattergl\": [{\"marker\": {\"colorbar\": {\"outlinewidth\": 0, \"ticks\": \"\"}}, \"type\": \"scattergl\"}], \"scattermapbox\": [{\"marker\": {\"colorbar\": {\"outlinewidth\": 0, \"ticks\": \"\"}}, \"type\": \"scattermapbox\"}], \"scatterpolar\": [{\"marker\": {\"colorbar\": {\"outlinewidth\": 0, \"ticks\": \"\"}}, \"type\": \"scatterpolar\"}], \"scatterpolargl\": [{\"marker\": {\"colorbar\": {\"outlinewidth\": 0, \"ticks\": \"\"}}, \"type\": \"scatterpolargl\"}], \"scatterternary\": [{\"marker\": {\"colorbar\": {\"outlinewidth\": 0, \"ticks\": \"\"}}, \"type\": \"scatterternary\"}], \"surface\": [{\"colorbar\": {\"outlinewidth\": 0, \"ticks\": \"\"}, \"colorscale\": [[0.0, \"#0d0887\"], [0.1111111111111111, \"#46039f\"], [0.2222222222222222, \"#7201a8\"], [0.3333333333333333, \"#9c179e\"], [0.4444444444444444, \"#bd3786\"], [0.5555555555555556, \"#d8576b\"], [0.6666666666666666, \"#ed7953\"], [0.7777777777777778, \"#fb9f3a\"], [0.8888888888888888, \"#fdca26\"], [1.0, \"#f0f921\"]], \"type\": \"surface\"}], \"table\": [{\"cells\": {\"fill\": {\"color\": \"#EBF0F8\"}, \"line\": {\"color\": \"white\"}}, \"header\": {\"fill\": {\"color\": \"#C8D4E3\"}, \"line\": {\"color\": \"white\"}}, \"type\": \"table\"}]}, \"layout\": {\"annotationdefaults\": {\"arrowcolor\": \"#2a3f5f\", \"arrowhead\": 0, \"arrowwidth\": 1}, \"coloraxis\": {\"colorbar\": {\"outlinewidth\": 0, \"ticks\": \"\"}}, \"colorscale\": {\"diverging\": [[0, \"#8e0152\"], [0.1, \"#c51b7d\"], [0.2, \"#de77ae\"], [0.3, \"#f1b6da\"], [0.4, \"#fde0ef\"], [0.5, \"#f7f7f7\"], [0.6, \"#e6f5d0\"], [0.7, \"#b8e186\"], [0.8, \"#7fbc41\"], [0.9, \"#4d9221\"], [1, \"#276419\"]], \"sequential\": [[0.0, \"#0d0887\"], [0.1111111111111111, \"#46039f\"], [0.2222222222222222, \"#7201a8\"], [0.3333333333333333, \"#9c179e\"], [0.4444444444444444, \"#bd3786\"], [0.5555555555555556, \"#d8576b\"], [0.6666666666666666, \"#ed7953\"], [0.7777777777777778, \"#fb9f3a\"], [0.8888888888888888, \"#fdca26\"], [1.0, \"#f0f921\"]], \"sequentialminus\": [[0.0, \"#0d0887\"], [0.1111111111111111, \"#46039f\"], [0.2222222222222222, \"#7201a8\"], [0.3333333333333333, \"#9c179e\"], [0.4444444444444444, \"#bd3786\"], [0.5555555555555556, \"#d8576b\"], [0.6666666666666666, \"#ed7953\"], [0.7777777777777778, \"#fb9f3a\"], [0.8888888888888888, \"#fdca26\"], [1.0, \"#f0f921\"]]}, \"colorway\": [\"#636efa\", \"#EF553B\", \"#00cc96\", \"#ab63fa\", \"#FFA15A\", \"#19d3f3\", \"#FF6692\", \"#B6E880\", \"#FF97FF\", \"#FECB52\"], \"font\": {\"color\": \"#2a3f5f\"}, \"geo\": {\"bgcolor\": \"white\", \"lakecolor\": \"white\", \"landcolor\": \"#E5ECF6\", \"showlakes\": true, \"showland\": true, \"subunitcolor\": \"white\"}, \"hoverlabel\": {\"align\": \"left\"}, \"hovermode\": \"closest\", \"mapbox\": {\"style\": \"light\"}, \"paper_bgcolor\": \"white\", \"plot_bgcolor\": \"#E5ECF6\", \"polar\": {\"angularaxis\": {\"gridcolor\": \"white\", \"linecolor\": \"white\", \"ticks\": \"\"}, \"bgcolor\": \"#E5ECF6\", \"radialaxis\": {\"gridcolor\": \"white\", \"linecolor\": \"white\", \"ticks\": \"\"}}, \"scene\": {\"xaxis\": {\"backgroundcolor\": \"#E5ECF6\", \"gridcolor\": \"white\", \"gridwidth\": 2, \"linecolor\": \"white\", \"showbackground\": true, \"ticks\": \"\", \"zerolinecolor\": \"white\"}, \"yaxis\": {\"backgroundcolor\": \"#E5ECF6\", \"gridcolor\": \"white\", \"gridwidth\": 2, \"linecolor\": \"white\", \"showbackground\": true, \"ticks\": \"\", \"zerolinecolor\": \"white\"}, \"zaxis\": {\"backgroundcolor\": \"#E5ECF6\", \"gridcolor\": \"white\", \"gridwidth\": 2, \"linecolor\": \"white\", \"showbackground\": true, \"ticks\": \"\", \"zerolinecolor\": \"white\"}}, \"shapedefaults\": {\"line\": {\"color\": \"#2a3f5f\"}}, \"ternary\": {\"aaxis\": {\"gridcolor\": \"white\", \"linecolor\": \"white\", \"ticks\": \"\"}, \"baxis\": {\"gridcolor\": \"white\", \"linecolor\": \"white\", \"ticks\": \"\"}, \"bgcolor\": \"#E5ECF6\", \"caxis\": {\"gridcolor\": \"white\", \"linecolor\": \"white\", \"ticks\": \"\"}}, \"title\": {\"x\": 0.05}, \"xaxis\": {\"automargin\": true, \"gridcolor\": \"white\", \"linecolor\": \"white\", \"ticks\": \"\", \"title\": {\"standoff\": 15}, \"zerolinecolor\": \"white\", \"zerolinewidth\": 2}, \"yaxis\": {\"automargin\": true, \"gridcolor\": \"white\", \"linecolor\": \"white\", \"ticks\": \"\", \"title\": {\"standoff\": 15}, \"zerolinecolor\": \"white\", \"zerolinewidth\": 2}}}, \"title\": {\"text\": \"Female Infection over Age\"}, \"xaxis\": {\"title\": {\"text\": \"Age \"}}, \"yaxis\": {\"title\": {\"text\": \"Count\"}}},\n",
       "                        {\"responsive\": true}\n",
       "                    ).then(function(){\n",
       "                            \n",
       "var gd = document.getElementById('f77f9ef3-f741-4525-afcd-7f01d8e626c8');\n",
       "var x = new MutationObserver(function (mutations, observer) {{\n",
       "        var display = window.getComputedStyle(gd).display;\n",
       "        if (!display || display === 'none') {{\n",
       "            console.log([gd, 'removed!']);\n",
       "            Plotly.purge(gd);\n",
       "            observer.disconnect();\n",
       "        }}\n",
       "}});\n",
       "\n",
       "// Listen for the removal of the full notebook cells\n",
       "var notebookContainer = gd.closest('#notebook-container');\n",
       "if (notebookContainer) {{\n",
       "    x.observe(notebookContainer, {childList: true});\n",
       "}}\n",
       "\n",
       "// Listen for the clearing of the current output cell\n",
       "var outputEl = gd.closest('.output');\n",
       "if (outputEl) {{\n",
       "    x.observe(outputEl, {childList: true});\n",
       "}}\n",
       "\n",
       "                        })\n",
       "                };\n",
       "                });\n",
       "            </script>\n",
       "        </div>"
      ]
     },
     "metadata": {},
     "output_type": "display_data"
    }
   ],
   "source": [
    "color = ['#EB89B5', '#5b7bd6','#ff6960', '#d11411', '#00b159', '#00aedb', '#f37735', '#ffc425',\n",
    "          '#a200ff', '#f47835', '#d41243', '#8ec127', '#feda75', '#fa7e1e', '#962fbf']*2\n",
    "fig = go.Figure()\n",
    "for  m, c, co in zip(female, cities, color) : \n",
    "    fig.add_trace(go.Histogram(x=m, name = c, marker_color = co))\n",
    "\n",
    "fig.update_layout(barmode='stack')\n",
    "\n",
    "fig.update_layout(\n",
    "    title_text='Female Infection over Age', # title of plot\n",
    "    xaxis_title_text='Age ', # xaxis label\n",
    "    yaxis_title_text='Count', # yaxis label\n",
    "    #bargap=0.2, # gap between bars of adjacent location coordinates\n",
    "    #bargroupgap=0.1 # gap between bars of the same location coordinates\n",
    ")\n",
    "\n",
    "fig.show()"
   ]
  },
  {
   "cell_type": "code",
   "execution_count": 262,
   "metadata": {},
   "outputs": [],
   "source": [
    "\n",
    "\n",
    "transmission = ['travel', 'close contact', 'pending']\n",
    "infections = []\n",
    "for t in transmission:\n",
    "    temp = []\n",
    "    for case in all_cases: \n",
    "        if \"transmission\" in case:\n",
    "            if t in case['transmission']:\n",
    "                temp.append(case[\"date\"][:10])\n",
    "    infections.append(temp)\n",
    "            \n",
    "\n"
   ]
  },
  {
   "cell_type": "code",
   "execution_count": 263,
   "metadata": {},
   "outputs": [
    {
     "data": {
      "application/vnd.plotly.v1+json": {
       "config": {
        "plotlyServerURL": "https://plot.ly"
       },
       "data": [
        {
         "name": "travel",
         "type": "histogram",
         "x": [
          "2020-03-14",
          "2020-03-14",
          "2020-03-14",
          "2020-03-14",
          "2020-03-14",
          "2020-03-14",
          "2020-03-14",
          "2020-03-14",
          "2020-03-16",
          "2020-03-16",
          "2020-03-18",
          "2020-03-18",
          "2020-03-18",
          "2020-03-18",
          "2020-03-18",
          "2020-03-18",
          "2020-03-18",
          "2020-03-18",
          "2020-03-18",
          "2020-03-18",
          "2020-03-18",
          "2020-03-18",
          "2020-03-18",
          "2020-03-18",
          "2020-03-18",
          "2020-03-18",
          "2020-03-18",
          "2020-03-09",
          "2020-03-09",
          "2020-03-09",
          "2020-03-15",
          "2020-03-15",
          "2020-03-15",
          "2020-03-15",
          "2020-03-15",
          "2020-03-11",
          "2020-03-11",
          "2020-03-11",
          "2020-03-11",
          "2020-03-17",
          "2020-03-17",
          "2020-03-17",
          "2020-03-17",
          "2020-03-17",
          "2020-03-17",
          "2020-03-21",
          "2020-03-21",
          "2020-03-21",
          "2020-03-21",
          "2020-03-21",
          "2020-03-21",
          "2020-03-21",
          "2020-03-21",
          "2020-03-21",
          "2020-03-12",
          "2020-03-12",
          "2020-03-12",
          "2020-03-12",
          "2020-03-12",
          "2020-03-12",
          "2020-03-12",
          "2020-03-12",
          "2020-03-12",
          "2020-03-12",
          "2020-03-12",
          "2020-03-12",
          "2020-03-12",
          "2020-03-20",
          "2020-03-20",
          "2020-03-20",
          "2020-03-20",
          "2020-03-20",
          "2020-03-20",
          "2020-03-20",
          "2020-03-20",
          "2020-03-20",
          "2020-03-20",
          "2020-03-22",
          "2020-03-22",
          "2020-03-19",
          "2020-03-19",
          "2020-03-19",
          "2020-03-19",
          "2020-03-19",
          "2020-03-19",
          "2020-03-19",
          "2020-03-19",
          "2020-03-19",
          "2020-03-19",
          "2020-03-19",
          "2020-03-10",
          "2020-03-13",
          "2020-03-13",
          "2020-03-13",
          "2020-03-13",
          "2020-03-13",
          "2020-03-13",
          "2020-03-13",
          "2020-03-13",
          "2020-03-13",
          "2020-03-13",
          "2020-03-13",
          "2020-03-13",
          "2020-03-11",
          "2020-03-23",
          "2020-03-23",
          "2020-03-23",
          "2020-03-23",
          "2020-03-23",
          "2020-03-23",
          "2020-03-23",
          "2020-03-23",
          "2020-03-23",
          "2020-03-23",
          "2020-03-23",
          "2020-03-23",
          "2020-03-23",
          "2020-03-23",
          "2020-03-24",
          "2020-03-24",
          "2020-03-24",
          "2020-03-24",
          "2020-03-24",
          "2020-03-24",
          "2020-03-24",
          "2020-03-24",
          "2020-03-24",
          "2020-03-24",
          "2020-03-24",
          "2020-03-24",
          "2020-03-24",
          "2020-03-24",
          "2020-03-24",
          "2020-03-24",
          "2020-03-24",
          "2020-03-24",
          "2020-03-24",
          "2020-03-25",
          "2020-03-25",
          "2020-03-25",
          "2020-03-25",
          "2020-03-25",
          "2020-03-25",
          "2020-03-25",
          "2020-03-25",
          "2020-03-25",
          "2020-03-25",
          "2020-03-25",
          "2020-03-25",
          "2020-03-25",
          "2020-03-25",
          "2020-03-25",
          "2020-03-25",
          "2020-03-25",
          "2020-03-25",
          "2020-03-25",
          "2020-03-25",
          "2020-03-25",
          "2020-03-25"
         ]
        },
        {
         "name": "close contact",
         "type": "histogram",
         "x": [
          "2020-03-16",
          "2020-03-18",
          "2020-03-18",
          "2020-03-18",
          "2020-03-18",
          "2020-03-18",
          "2020-03-18",
          "2020-03-17",
          "2020-03-21",
          "2020-03-21",
          "2020-03-21",
          "2020-03-21",
          "2020-03-21",
          "2020-03-12",
          "2020-03-12",
          "2020-03-12",
          "2020-03-12",
          "2020-03-20",
          "2020-03-20",
          "2020-03-20",
          "2020-03-20",
          "2020-03-20",
          "2020-03-20",
          "2020-03-20",
          "2020-03-20",
          "2020-03-20",
          "2020-03-22",
          "2020-03-19",
          "2020-03-19",
          "2020-03-19",
          "2020-03-19",
          "2020-03-09",
          "2020-03-13",
          "2020-03-13",
          "2020-03-13",
          "2020-03-13",
          "2020-03-13",
          "2020-03-23",
          "2020-03-23",
          "2020-03-23",
          "2020-03-23",
          "2020-03-23",
          "2020-03-23",
          "2020-03-23",
          "2020-03-23",
          "2020-03-23",
          "2020-03-23",
          "2020-03-23",
          "2020-03-23",
          "2020-03-23",
          "2020-03-23",
          "2020-03-23",
          "2020-03-23",
          "2020-03-24",
          "2020-03-24",
          "2020-03-24",
          "2020-03-24",
          "2020-03-24",
          "2020-03-25",
          "2020-03-25",
          "2020-03-25",
          "2020-03-25",
          "2020-03-25",
          "2020-03-25",
          "2020-03-25",
          "2020-03-25",
          "2020-03-25",
          "2020-03-25",
          "2020-03-25",
          "2020-03-25",
          "2020-03-25",
          "2020-03-25",
          "2020-03-25",
          "2020-03-25",
          "2020-03-25",
          "2020-03-25",
          "2020-03-25",
          "2020-03-25",
          "2020-03-25",
          "2020-03-25"
         ]
        },
        {
         "name": "pending",
         "type": "histogram",
         "x": [
          "2020-03-14",
          "2020-03-14",
          "2020-03-14",
          "2020-03-14",
          "2020-03-14",
          "2020-03-14",
          "2020-03-14",
          "2020-03-14",
          "2020-03-14",
          "2020-03-14",
          "2020-03-14",
          "2020-03-14",
          "2020-03-14",
          "2020-03-14",
          "2020-03-14",
          "2020-03-14",
          "2020-03-14",
          "2020-03-16",
          "2020-03-16",
          "2020-03-16",
          "2020-03-16",
          "2020-03-16",
          "2020-03-16",
          "2020-03-16",
          "2020-03-16",
          "2020-03-16",
          "2020-03-16",
          "2020-03-16",
          "2020-03-16",
          "2020-03-16",
          "2020-03-16",
          "2020-03-16",
          "2020-03-16",
          "2020-03-16",
          "2020-03-16",
          "2020-03-16",
          "2020-03-16",
          "2020-03-16",
          "2020-03-16",
          "2020-03-16",
          "2020-03-16",
          "2020-03-16",
          "2020-03-16",
          "2020-03-16",
          "2020-03-16",
          "2020-03-16",
          "2020-03-18",
          "2020-03-18",
          "2020-03-18",
          "2020-03-18",
          "2020-03-18",
          "2020-03-15",
          "2020-03-15",
          "2020-03-15",
          "2020-03-15",
          "2020-03-15",
          "2020-03-15",
          "2020-03-15",
          "2020-03-15",
          "2020-03-15",
          "2020-03-15",
          "2020-03-15",
          "2020-03-15",
          "2020-03-15",
          "2020-03-15",
          "2020-03-15",
          "2020-03-15",
          "2020-03-15",
          "2020-03-15",
          "2020-03-15",
          "2020-03-15",
          "2020-03-15",
          "2020-03-15",
          "2020-03-15",
          "2020-03-15",
          "2020-03-15",
          "2020-03-15",
          "2020-03-15",
          "2020-03-15",
          "2020-03-15",
          "2020-03-15",
          "2020-03-15",
          "2020-03-15",
          "2020-03-15",
          "2020-03-15",
          "2020-03-15",
          "2020-03-15",
          "2020-03-15",
          "2020-03-15",
          "2020-03-11",
          "2020-03-17",
          "2020-03-17",
          "2020-03-17",
          "2020-03-17",
          "2020-03-17",
          "2020-03-21",
          "2020-03-21",
          "2020-03-21",
          "2020-03-21",
          "2020-03-21",
          "2020-03-21",
          "2020-03-21",
          "2020-03-21",
          "2020-03-21",
          "2020-03-21",
          "2020-03-21",
          "2020-03-21",
          "2020-03-21",
          "2020-03-21",
          "2020-03-21",
          "2020-03-21",
          "2020-03-21",
          "2020-03-21",
          "2020-03-21",
          "2020-03-21",
          "2020-03-21",
          "2020-03-21",
          "2020-03-21",
          "2020-03-21",
          "2020-03-21",
          "2020-03-21",
          "2020-03-21",
          "2020-03-21",
          "2020-03-21",
          "2020-03-21",
          "2020-03-21",
          "2020-03-21",
          "2020-03-21",
          "2020-03-21",
          "2020-03-21",
          "2020-03-21",
          "2020-03-21",
          "2020-03-21",
          "2020-03-21",
          "2020-03-21",
          "2020-03-21",
          "2020-03-21",
          "2020-03-21",
          "2020-03-21",
          "2020-03-21",
          "2020-03-12",
          "2020-03-12",
          "2020-03-20",
          "2020-03-20",
          "2020-03-20",
          "2020-03-20",
          "2020-03-20",
          "2020-03-20",
          "2020-03-20",
          "2020-03-20",
          "2020-03-20",
          "2020-03-20",
          "2020-03-20",
          "2020-03-20",
          "2020-03-20",
          "2020-03-20",
          "2020-03-20",
          "2020-03-20",
          "2020-03-20",
          "2020-03-20",
          "2020-03-20",
          "2020-03-20",
          "2020-03-20",
          "2020-03-20",
          "2020-03-20",
          "2020-03-20",
          "2020-03-20",
          "2020-03-20",
          "2020-03-20",
          "2020-03-20",
          "2020-03-20",
          "2020-03-20",
          "2020-03-20",
          "2020-03-20",
          "2020-03-20",
          "2020-03-20",
          "2020-03-20",
          "2020-03-20",
          "2020-03-20",
          "2020-03-20",
          "2020-03-20",
          "2020-03-20",
          "2020-03-20",
          "2020-03-22",
          "2020-03-22",
          "2020-03-22",
          "2020-03-22",
          "2020-03-22",
          "2020-03-22",
          "2020-03-22",
          "2020-03-22",
          "2020-03-22",
          "2020-03-22",
          "2020-03-22",
          "2020-03-22",
          "2020-03-22",
          "2020-03-22",
          "2020-03-22",
          "2020-03-22",
          "2020-03-22",
          "2020-03-22",
          "2020-03-22",
          "2020-03-22",
          "2020-03-22",
          "2020-03-22",
          "2020-03-22",
          "2020-03-22",
          "2020-03-22",
          "2020-03-22",
          "2020-03-22",
          "2020-03-22",
          "2020-03-22",
          "2020-03-22",
          "2020-03-22",
          "2020-03-22",
          "2020-03-22",
          "2020-03-22",
          "2020-03-22",
          "2020-03-22",
          "2020-03-22",
          "2020-03-22",
          "2020-03-22",
          "2020-03-22",
          "2020-03-22",
          "2020-03-22",
          "2020-03-22",
          "2020-03-22",
          "2020-03-19",
          "2020-03-19",
          "2020-03-19",
          "2020-03-19",
          "2020-03-19",
          "2020-03-19",
          "2020-03-19",
          "2020-03-19",
          "2020-03-19",
          "2020-03-19",
          "2020-03-19",
          "2020-03-19",
          "2020-03-19",
          "2020-03-19",
          "2020-03-19",
          "2020-03-19",
          "2020-03-19",
          "2020-03-19",
          "2020-03-19",
          "2020-03-19",
          "2020-03-19",
          "2020-03-19",
          "2020-03-19",
          "2020-03-19",
          "2020-03-19",
          "2020-03-19",
          "2020-03-19",
          "2020-03-19",
          "2020-03-19",
          "2020-03-13",
          "2020-03-13",
          "2020-03-13",
          "2020-03-13",
          "2020-03-13",
          "2020-03-13",
          "2020-03-13",
          "2020-03-13",
          "2020-03-13",
          "2020-03-13",
          "2020-03-13",
          "2020-03-19",
          "2020-03-23",
          "2020-03-23",
          "2020-03-23",
          "2020-03-23",
          "2020-03-23",
          "2020-03-23",
          "2020-03-23",
          "2020-03-23",
          "2020-03-23",
          "2020-03-23",
          "2020-03-23",
          "2020-03-23",
          "2020-03-23",
          "2020-03-23",
          "2020-03-23",
          "2020-03-23",
          "2020-03-23",
          "2020-03-23",
          "2020-03-23",
          "2020-03-23",
          "2020-03-23",
          "2020-03-23",
          "2020-03-23",
          "2020-03-23",
          "2020-03-23",
          "2020-03-23",
          "2020-03-23",
          "2020-03-23",
          "2020-03-23",
          "2020-03-23",
          "2020-03-23",
          "2020-03-23",
          "2020-03-23",
          "2020-03-23",
          "2020-03-23",
          "2020-03-23",
          "2020-03-23",
          "2020-03-23",
          "2020-03-23",
          "2020-03-23",
          "2020-03-23",
          "2020-03-23",
          "2020-03-23",
          "2020-03-23",
          "2020-03-23",
          "2020-03-23",
          "2020-03-23",
          "2020-03-23",
          "2020-03-24",
          "2020-03-24",
          "2020-03-24",
          "2020-03-24",
          "2020-03-24",
          "2020-03-24",
          "2020-03-24",
          "2020-03-24",
          "2020-03-24",
          "2020-03-24",
          "2020-03-24",
          "2020-03-24",
          "2020-03-24",
          "2020-03-24",
          "2020-03-24",
          "2020-03-24",
          "2020-03-24",
          "2020-03-24",
          "2020-03-24",
          "2020-03-24",
          "2020-03-24",
          "2020-03-24",
          "2020-03-24",
          "2020-03-24",
          "2020-03-24",
          "2020-03-24",
          "2020-03-24",
          "2020-03-24",
          "2020-03-24",
          "2020-03-24",
          "2020-03-24",
          "2020-03-24",
          "2020-03-24",
          "2020-03-24",
          "2020-03-24",
          "2020-03-24",
          "2020-03-24",
          "2020-03-24",
          "2020-03-24",
          "2020-03-24",
          "2020-03-24",
          "2020-03-24",
          "2020-03-24",
          "2020-03-24",
          "2020-03-24",
          "2020-03-24",
          "2020-03-24",
          "2020-03-24",
          "2020-03-24",
          "2020-03-24",
          "2020-03-24",
          "2020-03-24",
          "2020-03-24",
          "2020-03-24",
          "2020-03-24",
          "2020-03-24",
          "2020-03-24",
          "2020-03-24",
          "2020-03-24",
          "2020-03-24",
          "2020-03-24",
          "2020-03-25",
          "2020-03-25",
          "2020-03-25",
          "2020-03-25",
          "2020-03-25",
          "2020-03-25",
          "2020-03-25",
          "2020-03-25",
          "2020-03-25",
          "2020-03-25",
          "2020-03-25",
          "2020-03-25",
          "2020-03-25",
          "2020-03-25",
          "2020-03-25",
          "2020-03-25",
          "2020-03-25",
          "2020-03-25",
          "2020-03-25",
          "2020-03-25",
          "2020-03-25",
          "2020-03-25",
          "2020-03-25",
          "2020-03-25",
          "2020-03-25",
          "2020-03-25",
          "2020-03-25",
          "2020-03-25",
          "2020-03-25",
          "2020-03-25",
          "2020-03-25",
          "2020-03-25",
          "2020-03-25",
          "2020-03-25",
          "2020-03-25",
          "2020-03-25",
          "2020-03-25",
          "2020-03-25",
          "2020-03-25",
          "2020-03-25",
          "2020-03-25",
          "2020-03-25",
          "2020-03-25",
          "2020-03-25",
          "2020-03-25",
          "2020-03-25",
          "2020-03-25",
          "2020-03-25",
          "2020-03-25",
          "2020-03-25",
          "2020-03-25",
          "2020-03-25",
          "2020-03-25",
          "2020-03-25",
          "2020-03-25",
          "2020-03-25"
         ]
        }
       ],
       "layout": {
        "bargap": 0.2,
        "bargroupgap": 0.1,
        "barmode": "stack",
        "template": {
         "data": {
          "bar": [
           {
            "error_x": {
             "color": "#2a3f5f"
            },
            "error_y": {
             "color": "#2a3f5f"
            },
            "marker": {
             "line": {
              "color": "#E5ECF6",
              "width": 0.5
             }
            },
            "type": "bar"
           }
          ],
          "barpolar": [
           {
            "marker": {
             "line": {
              "color": "#E5ECF6",
              "width": 0.5
             }
            },
            "type": "barpolar"
           }
          ],
          "carpet": [
           {
            "aaxis": {
             "endlinecolor": "#2a3f5f",
             "gridcolor": "white",
             "linecolor": "white",
             "minorgridcolor": "white",
             "startlinecolor": "#2a3f5f"
            },
            "baxis": {
             "endlinecolor": "#2a3f5f",
             "gridcolor": "white",
             "linecolor": "white",
             "minorgridcolor": "white",
             "startlinecolor": "#2a3f5f"
            },
            "type": "carpet"
           }
          ],
          "choropleth": [
           {
            "colorbar": {
             "outlinewidth": 0,
             "ticks": ""
            },
            "type": "choropleth"
           }
          ],
          "contour": [
           {
            "colorbar": {
             "outlinewidth": 0,
             "ticks": ""
            },
            "colorscale": [
             [
              0,
              "#0d0887"
             ],
             [
              0.1111111111111111,
              "#46039f"
             ],
             [
              0.2222222222222222,
              "#7201a8"
             ],
             [
              0.3333333333333333,
              "#9c179e"
             ],
             [
              0.4444444444444444,
              "#bd3786"
             ],
             [
              0.5555555555555556,
              "#d8576b"
             ],
             [
              0.6666666666666666,
              "#ed7953"
             ],
             [
              0.7777777777777778,
              "#fb9f3a"
             ],
             [
              0.8888888888888888,
              "#fdca26"
             ],
             [
              1,
              "#f0f921"
             ]
            ],
            "type": "contour"
           }
          ],
          "contourcarpet": [
           {
            "colorbar": {
             "outlinewidth": 0,
             "ticks": ""
            },
            "type": "contourcarpet"
           }
          ],
          "heatmap": [
           {
            "colorbar": {
             "outlinewidth": 0,
             "ticks": ""
            },
            "colorscale": [
             [
              0,
              "#0d0887"
             ],
             [
              0.1111111111111111,
              "#46039f"
             ],
             [
              0.2222222222222222,
              "#7201a8"
             ],
             [
              0.3333333333333333,
              "#9c179e"
             ],
             [
              0.4444444444444444,
              "#bd3786"
             ],
             [
              0.5555555555555556,
              "#d8576b"
             ],
             [
              0.6666666666666666,
              "#ed7953"
             ],
             [
              0.7777777777777778,
              "#fb9f3a"
             ],
             [
              0.8888888888888888,
              "#fdca26"
             ],
             [
              1,
              "#f0f921"
             ]
            ],
            "type": "heatmap"
           }
          ],
          "heatmapgl": [
           {
            "colorbar": {
             "outlinewidth": 0,
             "ticks": ""
            },
            "colorscale": [
             [
              0,
              "#0d0887"
             ],
             [
              0.1111111111111111,
              "#46039f"
             ],
             [
              0.2222222222222222,
              "#7201a8"
             ],
             [
              0.3333333333333333,
              "#9c179e"
             ],
             [
              0.4444444444444444,
              "#bd3786"
             ],
             [
              0.5555555555555556,
              "#d8576b"
             ],
             [
              0.6666666666666666,
              "#ed7953"
             ],
             [
              0.7777777777777778,
              "#fb9f3a"
             ],
             [
              0.8888888888888888,
              "#fdca26"
             ],
             [
              1,
              "#f0f921"
             ]
            ],
            "type": "heatmapgl"
           }
          ],
          "histogram": [
           {
            "marker": {
             "colorbar": {
              "outlinewidth": 0,
              "ticks": ""
             }
            },
            "type": "histogram"
           }
          ],
          "histogram2d": [
           {
            "colorbar": {
             "outlinewidth": 0,
             "ticks": ""
            },
            "colorscale": [
             [
              0,
              "#0d0887"
             ],
             [
              0.1111111111111111,
              "#46039f"
             ],
             [
              0.2222222222222222,
              "#7201a8"
             ],
             [
              0.3333333333333333,
              "#9c179e"
             ],
             [
              0.4444444444444444,
              "#bd3786"
             ],
             [
              0.5555555555555556,
              "#d8576b"
             ],
             [
              0.6666666666666666,
              "#ed7953"
             ],
             [
              0.7777777777777778,
              "#fb9f3a"
             ],
             [
              0.8888888888888888,
              "#fdca26"
             ],
             [
              1,
              "#f0f921"
             ]
            ],
            "type": "histogram2d"
           }
          ],
          "histogram2dcontour": [
           {
            "colorbar": {
             "outlinewidth": 0,
             "ticks": ""
            },
            "colorscale": [
             [
              0,
              "#0d0887"
             ],
             [
              0.1111111111111111,
              "#46039f"
             ],
             [
              0.2222222222222222,
              "#7201a8"
             ],
             [
              0.3333333333333333,
              "#9c179e"
             ],
             [
              0.4444444444444444,
              "#bd3786"
             ],
             [
              0.5555555555555556,
              "#d8576b"
             ],
             [
              0.6666666666666666,
              "#ed7953"
             ],
             [
              0.7777777777777778,
              "#fb9f3a"
             ],
             [
              0.8888888888888888,
              "#fdca26"
             ],
             [
              1,
              "#f0f921"
             ]
            ],
            "type": "histogram2dcontour"
           }
          ],
          "mesh3d": [
           {
            "colorbar": {
             "outlinewidth": 0,
             "ticks": ""
            },
            "type": "mesh3d"
           }
          ],
          "parcoords": [
           {
            "line": {
             "colorbar": {
              "outlinewidth": 0,
              "ticks": ""
             }
            },
            "type": "parcoords"
           }
          ],
          "pie": [
           {
            "automargin": true,
            "type": "pie"
           }
          ],
          "scatter": [
           {
            "marker": {
             "colorbar": {
              "outlinewidth": 0,
              "ticks": ""
             }
            },
            "type": "scatter"
           }
          ],
          "scatter3d": [
           {
            "line": {
             "colorbar": {
              "outlinewidth": 0,
              "ticks": ""
             }
            },
            "marker": {
             "colorbar": {
              "outlinewidth": 0,
              "ticks": ""
             }
            },
            "type": "scatter3d"
           }
          ],
          "scattercarpet": [
           {
            "marker": {
             "colorbar": {
              "outlinewidth": 0,
              "ticks": ""
             }
            },
            "type": "scattercarpet"
           }
          ],
          "scattergeo": [
           {
            "marker": {
             "colorbar": {
              "outlinewidth": 0,
              "ticks": ""
             }
            },
            "type": "scattergeo"
           }
          ],
          "scattergl": [
           {
            "marker": {
             "colorbar": {
              "outlinewidth": 0,
              "ticks": ""
             }
            },
            "type": "scattergl"
           }
          ],
          "scattermapbox": [
           {
            "marker": {
             "colorbar": {
              "outlinewidth": 0,
              "ticks": ""
             }
            },
            "type": "scattermapbox"
           }
          ],
          "scatterpolar": [
           {
            "marker": {
             "colorbar": {
              "outlinewidth": 0,
              "ticks": ""
             }
            },
            "type": "scatterpolar"
           }
          ],
          "scatterpolargl": [
           {
            "marker": {
             "colorbar": {
              "outlinewidth": 0,
              "ticks": ""
             }
            },
            "type": "scatterpolargl"
           }
          ],
          "scatterternary": [
           {
            "marker": {
             "colorbar": {
              "outlinewidth": 0,
              "ticks": ""
             }
            },
            "type": "scatterternary"
           }
          ],
          "surface": [
           {
            "colorbar": {
             "outlinewidth": 0,
             "ticks": ""
            },
            "colorscale": [
             [
              0,
              "#0d0887"
             ],
             [
              0.1111111111111111,
              "#46039f"
             ],
             [
              0.2222222222222222,
              "#7201a8"
             ],
             [
              0.3333333333333333,
              "#9c179e"
             ],
             [
              0.4444444444444444,
              "#bd3786"
             ],
             [
              0.5555555555555556,
              "#d8576b"
             ],
             [
              0.6666666666666666,
              "#ed7953"
             ],
             [
              0.7777777777777778,
              "#fb9f3a"
             ],
             [
              0.8888888888888888,
              "#fdca26"
             ],
             [
              1,
              "#f0f921"
             ]
            ],
            "type": "surface"
           }
          ],
          "table": [
           {
            "cells": {
             "fill": {
              "color": "#EBF0F8"
             },
             "line": {
              "color": "white"
             }
            },
            "header": {
             "fill": {
              "color": "#C8D4E3"
             },
             "line": {
              "color": "white"
             }
            },
            "type": "table"
           }
          ]
         },
         "layout": {
          "annotationdefaults": {
           "arrowcolor": "#2a3f5f",
           "arrowhead": 0,
           "arrowwidth": 1
          },
          "coloraxis": {
           "colorbar": {
            "outlinewidth": 0,
            "ticks": ""
           }
          },
          "colorscale": {
           "diverging": [
            [
             0,
             "#8e0152"
            ],
            [
             0.1,
             "#c51b7d"
            ],
            [
             0.2,
             "#de77ae"
            ],
            [
             0.3,
             "#f1b6da"
            ],
            [
             0.4,
             "#fde0ef"
            ],
            [
             0.5,
             "#f7f7f7"
            ],
            [
             0.6,
             "#e6f5d0"
            ],
            [
             0.7,
             "#b8e186"
            ],
            [
             0.8,
             "#7fbc41"
            ],
            [
             0.9,
             "#4d9221"
            ],
            [
             1,
             "#276419"
            ]
           ],
           "sequential": [
            [
             0,
             "#0d0887"
            ],
            [
             0.1111111111111111,
             "#46039f"
            ],
            [
             0.2222222222222222,
             "#7201a8"
            ],
            [
             0.3333333333333333,
             "#9c179e"
            ],
            [
             0.4444444444444444,
             "#bd3786"
            ],
            [
             0.5555555555555556,
             "#d8576b"
            ],
            [
             0.6666666666666666,
             "#ed7953"
            ],
            [
             0.7777777777777778,
             "#fb9f3a"
            ],
            [
             0.8888888888888888,
             "#fdca26"
            ],
            [
             1,
             "#f0f921"
            ]
           ],
           "sequentialminus": [
            [
             0,
             "#0d0887"
            ],
            [
             0.1111111111111111,
             "#46039f"
            ],
            [
             0.2222222222222222,
             "#7201a8"
            ],
            [
             0.3333333333333333,
             "#9c179e"
            ],
            [
             0.4444444444444444,
             "#bd3786"
            ],
            [
             0.5555555555555556,
             "#d8576b"
            ],
            [
             0.6666666666666666,
             "#ed7953"
            ],
            [
             0.7777777777777778,
             "#fb9f3a"
            ],
            [
             0.8888888888888888,
             "#fdca26"
            ],
            [
             1,
             "#f0f921"
            ]
           ]
          },
          "colorway": [
           "#636efa",
           "#EF553B",
           "#00cc96",
           "#ab63fa",
           "#FFA15A",
           "#19d3f3",
           "#FF6692",
           "#B6E880",
           "#FF97FF",
           "#FECB52"
          ],
          "font": {
           "color": "#2a3f5f"
          },
          "geo": {
           "bgcolor": "white",
           "lakecolor": "white",
           "landcolor": "#E5ECF6",
           "showlakes": true,
           "showland": true,
           "subunitcolor": "white"
          },
          "hoverlabel": {
           "align": "left"
          },
          "hovermode": "closest",
          "mapbox": {
           "style": "light"
          },
          "paper_bgcolor": "white",
          "plot_bgcolor": "#E5ECF6",
          "polar": {
           "angularaxis": {
            "gridcolor": "white",
            "linecolor": "white",
            "ticks": ""
           },
           "bgcolor": "#E5ECF6",
           "radialaxis": {
            "gridcolor": "white",
            "linecolor": "white",
            "ticks": ""
           }
          },
          "scene": {
           "xaxis": {
            "backgroundcolor": "#E5ECF6",
            "gridcolor": "white",
            "gridwidth": 2,
            "linecolor": "white",
            "showbackground": true,
            "ticks": "",
            "zerolinecolor": "white"
           },
           "yaxis": {
            "backgroundcolor": "#E5ECF6",
            "gridcolor": "white",
            "gridwidth": 2,
            "linecolor": "white",
            "showbackground": true,
            "ticks": "",
            "zerolinecolor": "white"
           },
           "zaxis": {
            "backgroundcolor": "#E5ECF6",
            "gridcolor": "white",
            "gridwidth": 2,
            "linecolor": "white",
            "showbackground": true,
            "ticks": "",
            "zerolinecolor": "white"
           }
          },
          "shapedefaults": {
           "line": {
            "color": "#2a3f5f"
           }
          },
          "ternary": {
           "aaxis": {
            "gridcolor": "white",
            "linecolor": "white",
            "ticks": ""
           },
           "baxis": {
            "gridcolor": "white",
            "linecolor": "white",
            "ticks": ""
           },
           "bgcolor": "#E5ECF6",
           "caxis": {
            "gridcolor": "white",
            "linecolor": "white",
            "ticks": ""
           }
          },
          "title": {
           "x": 0.05
          },
          "xaxis": {
           "automargin": true,
           "gridcolor": "white",
           "linecolor": "white",
           "ticks": "",
           "title": {
            "standoff": 15
           },
           "zerolinecolor": "white",
           "zerolinewidth": 2
          },
          "yaxis": {
           "automargin": true,
           "gridcolor": "white",
           "linecolor": "white",
           "ticks": "",
           "title": {
            "standoff": 15
           },
           "zerolinecolor": "white",
           "zerolinewidth": 2
          }
         }
        },
        "title": {
         "text": "New transmission over time"
        },
        "xaxis": {
         "title": {
          "text": "Date"
         }
        },
        "yaxis": {
         "title": {
          "text": "Infected"
         }
        }
       }
      },
      "text/html": [
       "<div>\n",
       "        \n",
       "        \n",
       "            <div id=\"5a752f75-f391-407e-94a6-0160599b9a3a\" class=\"plotly-graph-div\" style=\"height:525px; width:100%;\"></div>\n",
       "            <script type=\"text/javascript\">\n",
       "                require([\"plotly\"], function(Plotly) {\n",
       "                    window.PLOTLYENV=window.PLOTLYENV || {};\n",
       "                    \n",
       "                if (document.getElementById(\"5a752f75-f391-407e-94a6-0160599b9a3a\")) {\n",
       "                    Plotly.newPlot(\n",
       "                        '5a752f75-f391-407e-94a6-0160599b9a3a',\n",
       "                        [{\"name\": \"travel\", \"type\": \"histogram\", \"x\": [\"2020-03-14\", \"2020-03-14\", \"2020-03-14\", \"2020-03-14\", \"2020-03-14\", \"2020-03-14\", \"2020-03-14\", \"2020-03-14\", \"2020-03-16\", \"2020-03-16\", \"2020-03-18\", \"2020-03-18\", \"2020-03-18\", \"2020-03-18\", \"2020-03-18\", \"2020-03-18\", \"2020-03-18\", \"2020-03-18\", \"2020-03-18\", \"2020-03-18\", \"2020-03-18\", \"2020-03-18\", \"2020-03-18\", \"2020-03-18\", \"2020-03-18\", \"2020-03-18\", \"2020-03-18\", \"2020-03-09\", \"2020-03-09\", \"2020-03-09\", \"2020-03-15\", \"2020-03-15\", \"2020-03-15\", \"2020-03-15\", \"2020-03-15\", \"2020-03-11\", \"2020-03-11\", \"2020-03-11\", \"2020-03-11\", \"2020-03-17\", \"2020-03-17\", \"2020-03-17\", \"2020-03-17\", \"2020-03-17\", \"2020-03-17\", \"2020-03-21\", \"2020-03-21\", \"2020-03-21\", \"2020-03-21\", \"2020-03-21\", \"2020-03-21\", \"2020-03-21\", \"2020-03-21\", \"2020-03-21\", \"2020-03-12\", \"2020-03-12\", \"2020-03-12\", \"2020-03-12\", \"2020-03-12\", \"2020-03-12\", \"2020-03-12\", \"2020-03-12\", \"2020-03-12\", \"2020-03-12\", \"2020-03-12\", \"2020-03-12\", \"2020-03-12\", \"2020-03-20\", \"2020-03-20\", \"2020-03-20\", \"2020-03-20\", \"2020-03-20\", \"2020-03-20\", \"2020-03-20\", \"2020-03-20\", \"2020-03-20\", \"2020-03-20\", \"2020-03-22\", \"2020-03-22\", \"2020-03-19\", \"2020-03-19\", \"2020-03-19\", \"2020-03-19\", \"2020-03-19\", \"2020-03-19\", \"2020-03-19\", \"2020-03-19\", \"2020-03-19\", \"2020-03-19\", \"2020-03-19\", \"2020-03-10\", \"2020-03-13\", \"2020-03-13\", \"2020-03-13\", \"2020-03-13\", \"2020-03-13\", \"2020-03-13\", \"2020-03-13\", \"2020-03-13\", \"2020-03-13\", \"2020-03-13\", \"2020-03-13\", \"2020-03-13\", \"2020-03-11\", \"2020-03-23\", \"2020-03-23\", \"2020-03-23\", \"2020-03-23\", \"2020-03-23\", \"2020-03-23\", \"2020-03-23\", \"2020-03-23\", \"2020-03-23\", \"2020-03-23\", \"2020-03-23\", \"2020-03-23\", \"2020-03-23\", \"2020-03-23\", \"2020-03-24\", \"2020-03-24\", \"2020-03-24\", \"2020-03-24\", \"2020-03-24\", \"2020-03-24\", \"2020-03-24\", \"2020-03-24\", \"2020-03-24\", \"2020-03-24\", \"2020-03-24\", \"2020-03-24\", \"2020-03-24\", \"2020-03-24\", \"2020-03-24\", \"2020-03-24\", \"2020-03-24\", \"2020-03-24\", \"2020-03-24\", \"2020-03-25\", \"2020-03-25\", \"2020-03-25\", \"2020-03-25\", \"2020-03-25\", \"2020-03-25\", \"2020-03-25\", \"2020-03-25\", \"2020-03-25\", \"2020-03-25\", \"2020-03-25\", \"2020-03-25\", \"2020-03-25\", \"2020-03-25\", \"2020-03-25\", \"2020-03-25\", \"2020-03-25\", \"2020-03-25\", \"2020-03-25\", \"2020-03-25\", \"2020-03-25\", \"2020-03-25\"]}, {\"name\": \"close contact\", \"type\": \"histogram\", \"x\": [\"2020-03-16\", \"2020-03-18\", \"2020-03-18\", \"2020-03-18\", \"2020-03-18\", \"2020-03-18\", \"2020-03-18\", \"2020-03-17\", \"2020-03-21\", \"2020-03-21\", \"2020-03-21\", \"2020-03-21\", \"2020-03-21\", \"2020-03-12\", \"2020-03-12\", \"2020-03-12\", \"2020-03-12\", \"2020-03-20\", \"2020-03-20\", \"2020-03-20\", \"2020-03-20\", \"2020-03-20\", \"2020-03-20\", \"2020-03-20\", \"2020-03-20\", \"2020-03-20\", \"2020-03-22\", \"2020-03-19\", \"2020-03-19\", \"2020-03-19\", \"2020-03-19\", \"2020-03-09\", \"2020-03-13\", \"2020-03-13\", \"2020-03-13\", \"2020-03-13\", \"2020-03-13\", \"2020-03-23\", \"2020-03-23\", \"2020-03-23\", \"2020-03-23\", \"2020-03-23\", \"2020-03-23\", \"2020-03-23\", \"2020-03-23\", \"2020-03-23\", \"2020-03-23\", \"2020-03-23\", \"2020-03-23\", \"2020-03-23\", \"2020-03-23\", \"2020-03-23\", \"2020-03-23\", \"2020-03-24\", \"2020-03-24\", \"2020-03-24\", \"2020-03-24\", \"2020-03-24\", \"2020-03-25\", \"2020-03-25\", \"2020-03-25\", \"2020-03-25\", \"2020-03-25\", \"2020-03-25\", \"2020-03-25\", \"2020-03-25\", \"2020-03-25\", \"2020-03-25\", \"2020-03-25\", \"2020-03-25\", \"2020-03-25\", \"2020-03-25\", \"2020-03-25\", \"2020-03-25\", \"2020-03-25\", \"2020-03-25\", \"2020-03-25\", \"2020-03-25\", \"2020-03-25\", \"2020-03-25\"]}, {\"name\": \"pending\", \"type\": \"histogram\", \"x\": [\"2020-03-14\", \"2020-03-14\", \"2020-03-14\", \"2020-03-14\", \"2020-03-14\", \"2020-03-14\", \"2020-03-14\", \"2020-03-14\", \"2020-03-14\", \"2020-03-14\", \"2020-03-14\", \"2020-03-14\", \"2020-03-14\", \"2020-03-14\", \"2020-03-14\", \"2020-03-14\", \"2020-03-14\", \"2020-03-16\", \"2020-03-16\", \"2020-03-16\", \"2020-03-16\", \"2020-03-16\", \"2020-03-16\", \"2020-03-16\", \"2020-03-16\", \"2020-03-16\", \"2020-03-16\", \"2020-03-16\", \"2020-03-16\", \"2020-03-16\", \"2020-03-16\", \"2020-03-16\", \"2020-03-16\", \"2020-03-16\", \"2020-03-16\", \"2020-03-16\", \"2020-03-16\", \"2020-03-16\", \"2020-03-16\", \"2020-03-16\", \"2020-03-16\", \"2020-03-16\", \"2020-03-16\", \"2020-03-16\", \"2020-03-16\", \"2020-03-16\", \"2020-03-18\", \"2020-03-18\", \"2020-03-18\", \"2020-03-18\", \"2020-03-18\", \"2020-03-15\", \"2020-03-15\", \"2020-03-15\", \"2020-03-15\", \"2020-03-15\", \"2020-03-15\", \"2020-03-15\", \"2020-03-15\", \"2020-03-15\", \"2020-03-15\", \"2020-03-15\", \"2020-03-15\", \"2020-03-15\", \"2020-03-15\", \"2020-03-15\", \"2020-03-15\", \"2020-03-15\", \"2020-03-15\", \"2020-03-15\", \"2020-03-15\", \"2020-03-15\", \"2020-03-15\", \"2020-03-15\", \"2020-03-15\", \"2020-03-15\", \"2020-03-15\", \"2020-03-15\", \"2020-03-15\", \"2020-03-15\", \"2020-03-15\", \"2020-03-15\", \"2020-03-15\", \"2020-03-15\", \"2020-03-15\", \"2020-03-15\", \"2020-03-15\", \"2020-03-15\", \"2020-03-15\", \"2020-03-11\", \"2020-03-17\", \"2020-03-17\", \"2020-03-17\", \"2020-03-17\", \"2020-03-17\", \"2020-03-21\", \"2020-03-21\", \"2020-03-21\", \"2020-03-21\", \"2020-03-21\", \"2020-03-21\", \"2020-03-21\", \"2020-03-21\", \"2020-03-21\", \"2020-03-21\", \"2020-03-21\", \"2020-03-21\", \"2020-03-21\", \"2020-03-21\", \"2020-03-21\", \"2020-03-21\", \"2020-03-21\", \"2020-03-21\", \"2020-03-21\", \"2020-03-21\", \"2020-03-21\", \"2020-03-21\", \"2020-03-21\", \"2020-03-21\", \"2020-03-21\", \"2020-03-21\", \"2020-03-21\", \"2020-03-21\", \"2020-03-21\", \"2020-03-21\", \"2020-03-21\", \"2020-03-21\", \"2020-03-21\", \"2020-03-21\", \"2020-03-21\", \"2020-03-21\", \"2020-03-21\", \"2020-03-21\", \"2020-03-21\", \"2020-03-21\", \"2020-03-21\", \"2020-03-21\", \"2020-03-21\", \"2020-03-21\", \"2020-03-21\", \"2020-03-12\", \"2020-03-12\", \"2020-03-20\", \"2020-03-20\", \"2020-03-20\", \"2020-03-20\", \"2020-03-20\", \"2020-03-20\", \"2020-03-20\", \"2020-03-20\", \"2020-03-20\", \"2020-03-20\", \"2020-03-20\", \"2020-03-20\", \"2020-03-20\", \"2020-03-20\", \"2020-03-20\", \"2020-03-20\", \"2020-03-20\", \"2020-03-20\", \"2020-03-20\", \"2020-03-20\", \"2020-03-20\", \"2020-03-20\", \"2020-03-20\", \"2020-03-20\", \"2020-03-20\", \"2020-03-20\", \"2020-03-20\", \"2020-03-20\", \"2020-03-20\", \"2020-03-20\", \"2020-03-20\", \"2020-03-20\", \"2020-03-20\", \"2020-03-20\", \"2020-03-20\", \"2020-03-20\", \"2020-03-20\", \"2020-03-20\", \"2020-03-20\", \"2020-03-20\", \"2020-03-20\", \"2020-03-22\", \"2020-03-22\", \"2020-03-22\", \"2020-03-22\", \"2020-03-22\", \"2020-03-22\", \"2020-03-22\", \"2020-03-22\", \"2020-03-22\", \"2020-03-22\", \"2020-03-22\", \"2020-03-22\", \"2020-03-22\", \"2020-03-22\", \"2020-03-22\", \"2020-03-22\", \"2020-03-22\", \"2020-03-22\", \"2020-03-22\", \"2020-03-22\", \"2020-03-22\", \"2020-03-22\", \"2020-03-22\", \"2020-03-22\", \"2020-03-22\", \"2020-03-22\", \"2020-03-22\", \"2020-03-22\", \"2020-03-22\", \"2020-03-22\", \"2020-03-22\", \"2020-03-22\", \"2020-03-22\", \"2020-03-22\", \"2020-03-22\", \"2020-03-22\", \"2020-03-22\", \"2020-03-22\", \"2020-03-22\", \"2020-03-22\", \"2020-03-22\", \"2020-03-22\", \"2020-03-22\", \"2020-03-22\", \"2020-03-19\", \"2020-03-19\", \"2020-03-19\", \"2020-03-19\", \"2020-03-19\", \"2020-03-19\", \"2020-03-19\", \"2020-03-19\", \"2020-03-19\", \"2020-03-19\", \"2020-03-19\", \"2020-03-19\", \"2020-03-19\", \"2020-03-19\", \"2020-03-19\", \"2020-03-19\", \"2020-03-19\", \"2020-03-19\", \"2020-03-19\", \"2020-03-19\", \"2020-03-19\", \"2020-03-19\", \"2020-03-19\", \"2020-03-19\", \"2020-03-19\", \"2020-03-19\", \"2020-03-19\", \"2020-03-19\", \"2020-03-19\", \"2020-03-13\", \"2020-03-13\", \"2020-03-13\", \"2020-03-13\", \"2020-03-13\", \"2020-03-13\", \"2020-03-13\", \"2020-03-13\", \"2020-03-13\", \"2020-03-13\", \"2020-03-13\", \"2020-03-19\", \"2020-03-23\", \"2020-03-23\", \"2020-03-23\", \"2020-03-23\", \"2020-03-23\", \"2020-03-23\", \"2020-03-23\", \"2020-03-23\", \"2020-03-23\", \"2020-03-23\", \"2020-03-23\", \"2020-03-23\", \"2020-03-23\", \"2020-03-23\", \"2020-03-23\", \"2020-03-23\", \"2020-03-23\", \"2020-03-23\", \"2020-03-23\", \"2020-03-23\", \"2020-03-23\", \"2020-03-23\", \"2020-03-23\", \"2020-03-23\", \"2020-03-23\", \"2020-03-23\", \"2020-03-23\", \"2020-03-23\", \"2020-03-23\", \"2020-03-23\", \"2020-03-23\", \"2020-03-23\", \"2020-03-23\", \"2020-03-23\", \"2020-03-23\", \"2020-03-23\", \"2020-03-23\", \"2020-03-23\", \"2020-03-23\", \"2020-03-23\", \"2020-03-23\", \"2020-03-23\", \"2020-03-23\", \"2020-03-23\", \"2020-03-23\", \"2020-03-23\", \"2020-03-23\", \"2020-03-23\", \"2020-03-24\", \"2020-03-24\", \"2020-03-24\", \"2020-03-24\", \"2020-03-24\", \"2020-03-24\", \"2020-03-24\", \"2020-03-24\", \"2020-03-24\", \"2020-03-24\", \"2020-03-24\", \"2020-03-24\", \"2020-03-24\", \"2020-03-24\", \"2020-03-24\", \"2020-03-24\", \"2020-03-24\", \"2020-03-24\", \"2020-03-24\", \"2020-03-24\", \"2020-03-24\", \"2020-03-24\", \"2020-03-24\", \"2020-03-24\", \"2020-03-24\", \"2020-03-24\", \"2020-03-24\", \"2020-03-24\", \"2020-03-24\", \"2020-03-24\", \"2020-03-24\", \"2020-03-24\", \"2020-03-24\", \"2020-03-24\", \"2020-03-24\", \"2020-03-24\", \"2020-03-24\", \"2020-03-24\", \"2020-03-24\", \"2020-03-24\", \"2020-03-24\", \"2020-03-24\", \"2020-03-24\", \"2020-03-24\", \"2020-03-24\", \"2020-03-24\", \"2020-03-24\", \"2020-03-24\", \"2020-03-24\", \"2020-03-24\", \"2020-03-24\", \"2020-03-24\", \"2020-03-24\", \"2020-03-24\", \"2020-03-24\", \"2020-03-24\", \"2020-03-24\", \"2020-03-24\", \"2020-03-24\", \"2020-03-24\", \"2020-03-24\", \"2020-03-25\", \"2020-03-25\", \"2020-03-25\", \"2020-03-25\", \"2020-03-25\", \"2020-03-25\", \"2020-03-25\", \"2020-03-25\", \"2020-03-25\", \"2020-03-25\", \"2020-03-25\", \"2020-03-25\", \"2020-03-25\", \"2020-03-25\", \"2020-03-25\", \"2020-03-25\", \"2020-03-25\", \"2020-03-25\", \"2020-03-25\", \"2020-03-25\", \"2020-03-25\", \"2020-03-25\", \"2020-03-25\", \"2020-03-25\", \"2020-03-25\", \"2020-03-25\", \"2020-03-25\", \"2020-03-25\", \"2020-03-25\", \"2020-03-25\", \"2020-03-25\", \"2020-03-25\", \"2020-03-25\", \"2020-03-25\", \"2020-03-25\", \"2020-03-25\", \"2020-03-25\", \"2020-03-25\", \"2020-03-25\", \"2020-03-25\", \"2020-03-25\", \"2020-03-25\", \"2020-03-25\", \"2020-03-25\", \"2020-03-25\", \"2020-03-25\", \"2020-03-25\", \"2020-03-25\", \"2020-03-25\", \"2020-03-25\", \"2020-03-25\", \"2020-03-25\", \"2020-03-25\", \"2020-03-25\", \"2020-03-25\", \"2020-03-25\"]}],\n",
       "                        {\"bargap\": 0.2, \"bargroupgap\": 0.1, \"barmode\": \"stack\", \"template\": {\"data\": {\"bar\": [{\"error_x\": {\"color\": \"#2a3f5f\"}, \"error_y\": {\"color\": \"#2a3f5f\"}, \"marker\": {\"line\": {\"color\": \"#E5ECF6\", \"width\": 0.5}}, \"type\": \"bar\"}], \"barpolar\": [{\"marker\": {\"line\": {\"color\": \"#E5ECF6\", \"width\": 0.5}}, \"type\": \"barpolar\"}], \"carpet\": [{\"aaxis\": {\"endlinecolor\": \"#2a3f5f\", \"gridcolor\": \"white\", \"linecolor\": \"white\", \"minorgridcolor\": \"white\", \"startlinecolor\": \"#2a3f5f\"}, \"baxis\": {\"endlinecolor\": \"#2a3f5f\", \"gridcolor\": \"white\", \"linecolor\": \"white\", \"minorgridcolor\": \"white\", \"startlinecolor\": \"#2a3f5f\"}, \"type\": \"carpet\"}], \"choropleth\": [{\"colorbar\": {\"outlinewidth\": 0, \"ticks\": \"\"}, \"type\": \"choropleth\"}], \"contour\": [{\"colorbar\": {\"outlinewidth\": 0, \"ticks\": \"\"}, \"colorscale\": [[0.0, \"#0d0887\"], [0.1111111111111111, \"#46039f\"], [0.2222222222222222, \"#7201a8\"], [0.3333333333333333, \"#9c179e\"], [0.4444444444444444, \"#bd3786\"], [0.5555555555555556, \"#d8576b\"], [0.6666666666666666, \"#ed7953\"], [0.7777777777777778, \"#fb9f3a\"], [0.8888888888888888, \"#fdca26\"], [1.0, \"#f0f921\"]], \"type\": \"contour\"}], \"contourcarpet\": [{\"colorbar\": {\"outlinewidth\": 0, \"ticks\": \"\"}, \"type\": \"contourcarpet\"}], \"heatmap\": [{\"colorbar\": {\"outlinewidth\": 0, \"ticks\": \"\"}, \"colorscale\": [[0.0, \"#0d0887\"], [0.1111111111111111, \"#46039f\"], [0.2222222222222222, \"#7201a8\"], [0.3333333333333333, \"#9c179e\"], [0.4444444444444444, \"#bd3786\"], [0.5555555555555556, \"#d8576b\"], [0.6666666666666666, \"#ed7953\"], [0.7777777777777778, \"#fb9f3a\"], [0.8888888888888888, \"#fdca26\"], [1.0, \"#f0f921\"]], \"type\": \"heatmap\"}], \"heatmapgl\": [{\"colorbar\": {\"outlinewidth\": 0, \"ticks\": \"\"}, \"colorscale\": [[0.0, \"#0d0887\"], [0.1111111111111111, \"#46039f\"], [0.2222222222222222, \"#7201a8\"], [0.3333333333333333, \"#9c179e\"], [0.4444444444444444, \"#bd3786\"], [0.5555555555555556, \"#d8576b\"], [0.6666666666666666, \"#ed7953\"], [0.7777777777777778, \"#fb9f3a\"], [0.8888888888888888, \"#fdca26\"], [1.0, \"#f0f921\"]], \"type\": \"heatmapgl\"}], \"histogram\": [{\"marker\": {\"colorbar\": {\"outlinewidth\": 0, \"ticks\": \"\"}}, \"type\": \"histogram\"}], \"histogram2d\": [{\"colorbar\": {\"outlinewidth\": 0, \"ticks\": \"\"}, \"colorscale\": [[0.0, \"#0d0887\"], [0.1111111111111111, \"#46039f\"], [0.2222222222222222, \"#7201a8\"], [0.3333333333333333, \"#9c179e\"], [0.4444444444444444, \"#bd3786\"], [0.5555555555555556, \"#d8576b\"], [0.6666666666666666, \"#ed7953\"], [0.7777777777777778, \"#fb9f3a\"], [0.8888888888888888, \"#fdca26\"], [1.0, \"#f0f921\"]], \"type\": \"histogram2d\"}], \"histogram2dcontour\": [{\"colorbar\": {\"outlinewidth\": 0, \"ticks\": \"\"}, \"colorscale\": [[0.0, \"#0d0887\"], [0.1111111111111111, \"#46039f\"], [0.2222222222222222, \"#7201a8\"], [0.3333333333333333, \"#9c179e\"], [0.4444444444444444, \"#bd3786\"], [0.5555555555555556, \"#d8576b\"], [0.6666666666666666, \"#ed7953\"], [0.7777777777777778, \"#fb9f3a\"], [0.8888888888888888, \"#fdca26\"], [1.0, \"#f0f921\"]], \"type\": \"histogram2dcontour\"}], \"mesh3d\": [{\"colorbar\": {\"outlinewidth\": 0, \"ticks\": \"\"}, \"type\": \"mesh3d\"}], \"parcoords\": [{\"line\": {\"colorbar\": {\"outlinewidth\": 0, \"ticks\": \"\"}}, \"type\": \"parcoords\"}], \"pie\": [{\"automargin\": true, \"type\": \"pie\"}], \"scatter\": [{\"marker\": {\"colorbar\": {\"outlinewidth\": 0, \"ticks\": \"\"}}, \"type\": \"scatter\"}], \"scatter3d\": [{\"line\": {\"colorbar\": {\"outlinewidth\": 0, \"ticks\": \"\"}}, \"marker\": {\"colorbar\": {\"outlinewidth\": 0, \"ticks\": \"\"}}, \"type\": \"scatter3d\"}], \"scattercarpet\": [{\"marker\": {\"colorbar\": {\"outlinewidth\": 0, \"ticks\": \"\"}}, \"type\": \"scattercarpet\"}], \"scattergeo\": [{\"marker\": {\"colorbar\": {\"outlinewidth\": 0, \"ticks\": \"\"}}, \"type\": \"scattergeo\"}], \"scattergl\": [{\"marker\": {\"colorbar\": {\"outlinewidth\": 0, \"ticks\": \"\"}}, \"type\": \"scattergl\"}], \"scattermapbox\": [{\"marker\": {\"colorbar\": {\"outlinewidth\": 0, \"ticks\": \"\"}}, \"type\": \"scattermapbox\"}], \"scatterpolar\": [{\"marker\": {\"colorbar\": {\"outlinewidth\": 0, \"ticks\": \"\"}}, \"type\": \"scatterpolar\"}], \"scatterpolargl\": [{\"marker\": {\"colorbar\": {\"outlinewidth\": 0, \"ticks\": \"\"}}, \"type\": \"scatterpolargl\"}], \"scatterternary\": [{\"marker\": {\"colorbar\": {\"outlinewidth\": 0, \"ticks\": \"\"}}, \"type\": \"scatterternary\"}], \"surface\": [{\"colorbar\": {\"outlinewidth\": 0, \"ticks\": \"\"}, \"colorscale\": [[0.0, \"#0d0887\"], [0.1111111111111111, \"#46039f\"], [0.2222222222222222, \"#7201a8\"], [0.3333333333333333, \"#9c179e\"], [0.4444444444444444, \"#bd3786\"], [0.5555555555555556, \"#d8576b\"], [0.6666666666666666, \"#ed7953\"], [0.7777777777777778, \"#fb9f3a\"], [0.8888888888888888, \"#fdca26\"], [1.0, \"#f0f921\"]], \"type\": \"surface\"}], \"table\": [{\"cells\": {\"fill\": {\"color\": \"#EBF0F8\"}, \"line\": {\"color\": \"white\"}}, \"header\": {\"fill\": {\"color\": \"#C8D4E3\"}, \"line\": {\"color\": \"white\"}}, \"type\": \"table\"}]}, \"layout\": {\"annotationdefaults\": {\"arrowcolor\": \"#2a3f5f\", \"arrowhead\": 0, \"arrowwidth\": 1}, \"coloraxis\": {\"colorbar\": {\"outlinewidth\": 0, \"ticks\": \"\"}}, \"colorscale\": {\"diverging\": [[0, \"#8e0152\"], [0.1, \"#c51b7d\"], [0.2, \"#de77ae\"], [0.3, \"#f1b6da\"], [0.4, \"#fde0ef\"], [0.5, \"#f7f7f7\"], [0.6, \"#e6f5d0\"], [0.7, \"#b8e186\"], [0.8, \"#7fbc41\"], [0.9, \"#4d9221\"], [1, \"#276419\"]], \"sequential\": [[0.0, \"#0d0887\"], [0.1111111111111111, \"#46039f\"], [0.2222222222222222, \"#7201a8\"], [0.3333333333333333, \"#9c179e\"], [0.4444444444444444, \"#bd3786\"], [0.5555555555555556, \"#d8576b\"], [0.6666666666666666, \"#ed7953\"], [0.7777777777777778, \"#fb9f3a\"], [0.8888888888888888, \"#fdca26\"], [1.0, \"#f0f921\"]], \"sequentialminus\": [[0.0, \"#0d0887\"], [0.1111111111111111, \"#46039f\"], [0.2222222222222222, \"#7201a8\"], [0.3333333333333333, \"#9c179e\"], [0.4444444444444444, \"#bd3786\"], [0.5555555555555556, \"#d8576b\"], [0.6666666666666666, \"#ed7953\"], [0.7777777777777778, \"#fb9f3a\"], [0.8888888888888888, \"#fdca26\"], [1.0, \"#f0f921\"]]}, \"colorway\": [\"#636efa\", \"#EF553B\", \"#00cc96\", \"#ab63fa\", \"#FFA15A\", \"#19d3f3\", \"#FF6692\", \"#B6E880\", \"#FF97FF\", \"#FECB52\"], \"font\": {\"color\": \"#2a3f5f\"}, \"geo\": {\"bgcolor\": \"white\", \"lakecolor\": \"white\", \"landcolor\": \"#E5ECF6\", \"showlakes\": true, \"showland\": true, \"subunitcolor\": \"white\"}, \"hoverlabel\": {\"align\": \"left\"}, \"hovermode\": \"closest\", \"mapbox\": {\"style\": \"light\"}, \"paper_bgcolor\": \"white\", \"plot_bgcolor\": \"#E5ECF6\", \"polar\": {\"angularaxis\": {\"gridcolor\": \"white\", \"linecolor\": \"white\", \"ticks\": \"\"}, \"bgcolor\": \"#E5ECF6\", \"radialaxis\": {\"gridcolor\": \"white\", \"linecolor\": \"white\", \"ticks\": \"\"}}, \"scene\": {\"xaxis\": {\"backgroundcolor\": \"#E5ECF6\", \"gridcolor\": \"white\", \"gridwidth\": 2, \"linecolor\": \"white\", \"showbackground\": true, \"ticks\": \"\", \"zerolinecolor\": \"white\"}, \"yaxis\": {\"backgroundcolor\": \"#E5ECF6\", \"gridcolor\": \"white\", \"gridwidth\": 2, \"linecolor\": \"white\", \"showbackground\": true, \"ticks\": \"\", \"zerolinecolor\": \"white\"}, \"zaxis\": {\"backgroundcolor\": \"#E5ECF6\", \"gridcolor\": \"white\", \"gridwidth\": 2, \"linecolor\": \"white\", \"showbackground\": true, \"ticks\": \"\", \"zerolinecolor\": \"white\"}}, \"shapedefaults\": {\"line\": {\"color\": \"#2a3f5f\"}}, \"ternary\": {\"aaxis\": {\"gridcolor\": \"white\", \"linecolor\": \"white\", \"ticks\": \"\"}, \"baxis\": {\"gridcolor\": \"white\", \"linecolor\": \"white\", \"ticks\": \"\"}, \"bgcolor\": \"#E5ECF6\", \"caxis\": {\"gridcolor\": \"white\", \"linecolor\": \"white\", \"ticks\": \"\"}}, \"title\": {\"x\": 0.05}, \"xaxis\": {\"automargin\": true, \"gridcolor\": \"white\", \"linecolor\": \"white\", \"ticks\": \"\", \"title\": {\"standoff\": 15}, \"zerolinecolor\": \"white\", \"zerolinewidth\": 2}, \"yaxis\": {\"automargin\": true, \"gridcolor\": \"white\", \"linecolor\": \"white\", \"ticks\": \"\", \"title\": {\"standoff\": 15}, \"zerolinecolor\": \"white\", \"zerolinewidth\": 2}}}, \"title\": {\"text\": \"New transmission over time\"}, \"xaxis\": {\"title\": {\"text\": \"Date\"}}, \"yaxis\": {\"title\": {\"text\": \"Infected\"}}},\n",
       "                        {\"responsive\": true}\n",
       "                    ).then(function(){\n",
       "                            \n",
       "var gd = document.getElementById('5a752f75-f391-407e-94a6-0160599b9a3a');\n",
       "var x = new MutationObserver(function (mutations, observer) {{\n",
       "        var display = window.getComputedStyle(gd).display;\n",
       "        if (!display || display === 'none') {{\n",
       "            console.log([gd, 'removed!']);\n",
       "            Plotly.purge(gd);\n",
       "            observer.disconnect();\n",
       "        }}\n",
       "}});\n",
       "\n",
       "// Listen for the removal of the full notebook cells\n",
       "var notebookContainer = gd.closest('#notebook-container');\n",
       "if (notebookContainer) {{\n",
       "    x.observe(notebookContainer, {childList: true});\n",
       "}}\n",
       "\n",
       "// Listen for the clearing of the current output cell\n",
       "var outputEl = gd.closest('.output');\n",
       "if (outputEl) {{\n",
       "    x.observe(outputEl, {childList: true});\n",
       "}}\n",
       "\n",
       "                        })\n",
       "                };\n",
       "                });\n",
       "            </script>\n",
       "        </div>"
      ]
     },
     "metadata": {},
     "output_type": "display_data"
    }
   ],
   "source": [
    "fig = go.Figure()\n",
    "for  m, t in zip(infections, transmission) : \n",
    "    fig.add_trace(go.Histogram( x=m, name = t))\n",
    "\n",
    "fig.update_layout(barmode='stack')\n",
    "\n",
    "#fig = px.histogram(df, x=\"date\", color = \"city\", color_discrete_sequence= px.colors.qualitative.Light24)\n",
    "fig.update_layout(\n",
    "    title_text='New transmission over time', # title of plot\n",
    "    xaxis_title_text='Date', # xaxis label\n",
    "    yaxis_title_text='Infected', # yaxis label\n",
    "    bargap=0.2, # gap between bars of adjacent location coordinates\n",
    "    bargroupgap=0.1 # gap between bars of the same location coordinates\n",
    ")\n",
    "\n",
    "fig.show()"
   ]
  },
  {
   "cell_type": "code",
   "execution_count": 264,
   "metadata": {},
   "outputs": [],
   "source": [
    "import collections\n",
    "cum_infections = []\n",
    "\n",
    "for infection in infections[:2] : \n",
    "    sorted_inf = sorted(infection)\n",
    "    counter = collections.Counter(sorted_inf)\n",
    "    for d in dates : \n",
    "        if d not in counter: \n",
    "            counter[d] = 0\n",
    "    counter = {k: v for k, v in sorted(counter.items(), key=lambda item: item[0])}\n",
    "    values = list(counter.values())\n",
    "    cum_infections.append( list(np.cumsum(values)))"
   ]
  },
  {
   "cell_type": "code",
   "execution_count": 265,
   "metadata": {},
   "outputs": [
    {
     "data": {
      "application/vnd.plotly.v1+json": {
       "config": {
        "plotlyServerURL": "https://plot.ly"
       },
       "data": [
        {
         "mode": "lines",
         "name": "Travel",
         "type": "scatter",
         "x": [
          "2020-03-05",
          "2020-03-06",
          "2020-03-07",
          "2020-03-09",
          "2020-03-10",
          "2020-03-11",
          "2020-03-12",
          "2020-03-13",
          "2020-03-14",
          "2020-03-15",
          "2020-03-16",
          "2020-03-17",
          "2020-03-18",
          "2020-03-19",
          "2020-03-20",
          "2020-03-21",
          "2020-03-22",
          "2020-03-23",
          "2020-03-24",
          "2020-03-25"
         ],
         "y": [
          0,
          0,
          0,
          3,
          4,
          9,
          22,
          34,
          42,
          47,
          49,
          55,
          72,
          83,
          93,
          102,
          104,
          118,
          137,
          159
         ]
        },
        {
         "mode": "lines",
         "name": "Close Contact",
         "type": "scatter",
         "x": [
          "2020-03-05",
          "2020-03-06",
          "2020-03-07",
          "2020-03-09",
          "2020-03-10",
          "2020-03-11",
          "2020-03-12",
          "2020-03-13",
          "2020-03-14",
          "2020-03-15",
          "2020-03-16",
          "2020-03-17",
          "2020-03-18",
          "2020-03-19",
          "2020-03-20",
          "2020-03-21",
          "2020-03-22",
          "2020-03-23",
          "2020-03-24",
          "2020-03-25"
         ],
         "y": [
          0,
          0,
          0,
          1,
          1,
          1,
          5,
          10,
          10,
          10,
          11,
          12,
          18,
          22,
          31,
          36,
          37,
          53,
          58,
          80
         ]
        }
       ],
       "layout": {
        "template": {
         "data": {
          "bar": [
           {
            "error_x": {
             "color": "#2a3f5f"
            },
            "error_y": {
             "color": "#2a3f5f"
            },
            "marker": {
             "line": {
              "color": "#E5ECF6",
              "width": 0.5
             }
            },
            "type": "bar"
           }
          ],
          "barpolar": [
           {
            "marker": {
             "line": {
              "color": "#E5ECF6",
              "width": 0.5
             }
            },
            "type": "barpolar"
           }
          ],
          "carpet": [
           {
            "aaxis": {
             "endlinecolor": "#2a3f5f",
             "gridcolor": "white",
             "linecolor": "white",
             "minorgridcolor": "white",
             "startlinecolor": "#2a3f5f"
            },
            "baxis": {
             "endlinecolor": "#2a3f5f",
             "gridcolor": "white",
             "linecolor": "white",
             "minorgridcolor": "white",
             "startlinecolor": "#2a3f5f"
            },
            "type": "carpet"
           }
          ],
          "choropleth": [
           {
            "colorbar": {
             "outlinewidth": 0,
             "ticks": ""
            },
            "type": "choropleth"
           }
          ],
          "contour": [
           {
            "colorbar": {
             "outlinewidth": 0,
             "ticks": ""
            },
            "colorscale": [
             [
              0,
              "#0d0887"
             ],
             [
              0.1111111111111111,
              "#46039f"
             ],
             [
              0.2222222222222222,
              "#7201a8"
             ],
             [
              0.3333333333333333,
              "#9c179e"
             ],
             [
              0.4444444444444444,
              "#bd3786"
             ],
             [
              0.5555555555555556,
              "#d8576b"
             ],
             [
              0.6666666666666666,
              "#ed7953"
             ],
             [
              0.7777777777777778,
              "#fb9f3a"
             ],
             [
              0.8888888888888888,
              "#fdca26"
             ],
             [
              1,
              "#f0f921"
             ]
            ],
            "type": "contour"
           }
          ],
          "contourcarpet": [
           {
            "colorbar": {
             "outlinewidth": 0,
             "ticks": ""
            },
            "type": "contourcarpet"
           }
          ],
          "heatmap": [
           {
            "colorbar": {
             "outlinewidth": 0,
             "ticks": ""
            },
            "colorscale": [
             [
              0,
              "#0d0887"
             ],
             [
              0.1111111111111111,
              "#46039f"
             ],
             [
              0.2222222222222222,
              "#7201a8"
             ],
             [
              0.3333333333333333,
              "#9c179e"
             ],
             [
              0.4444444444444444,
              "#bd3786"
             ],
             [
              0.5555555555555556,
              "#d8576b"
             ],
             [
              0.6666666666666666,
              "#ed7953"
             ],
             [
              0.7777777777777778,
              "#fb9f3a"
             ],
             [
              0.8888888888888888,
              "#fdca26"
             ],
             [
              1,
              "#f0f921"
             ]
            ],
            "type": "heatmap"
           }
          ],
          "heatmapgl": [
           {
            "colorbar": {
             "outlinewidth": 0,
             "ticks": ""
            },
            "colorscale": [
             [
              0,
              "#0d0887"
             ],
             [
              0.1111111111111111,
              "#46039f"
             ],
             [
              0.2222222222222222,
              "#7201a8"
             ],
             [
              0.3333333333333333,
              "#9c179e"
             ],
             [
              0.4444444444444444,
              "#bd3786"
             ],
             [
              0.5555555555555556,
              "#d8576b"
             ],
             [
              0.6666666666666666,
              "#ed7953"
             ],
             [
              0.7777777777777778,
              "#fb9f3a"
             ],
             [
              0.8888888888888888,
              "#fdca26"
             ],
             [
              1,
              "#f0f921"
             ]
            ],
            "type": "heatmapgl"
           }
          ],
          "histogram": [
           {
            "marker": {
             "colorbar": {
              "outlinewidth": 0,
              "ticks": ""
             }
            },
            "type": "histogram"
           }
          ],
          "histogram2d": [
           {
            "colorbar": {
             "outlinewidth": 0,
             "ticks": ""
            },
            "colorscale": [
             [
              0,
              "#0d0887"
             ],
             [
              0.1111111111111111,
              "#46039f"
             ],
             [
              0.2222222222222222,
              "#7201a8"
             ],
             [
              0.3333333333333333,
              "#9c179e"
             ],
             [
              0.4444444444444444,
              "#bd3786"
             ],
             [
              0.5555555555555556,
              "#d8576b"
             ],
             [
              0.6666666666666666,
              "#ed7953"
             ],
             [
              0.7777777777777778,
              "#fb9f3a"
             ],
             [
              0.8888888888888888,
              "#fdca26"
             ],
             [
              1,
              "#f0f921"
             ]
            ],
            "type": "histogram2d"
           }
          ],
          "histogram2dcontour": [
           {
            "colorbar": {
             "outlinewidth": 0,
             "ticks": ""
            },
            "colorscale": [
             [
              0,
              "#0d0887"
             ],
             [
              0.1111111111111111,
              "#46039f"
             ],
             [
              0.2222222222222222,
              "#7201a8"
             ],
             [
              0.3333333333333333,
              "#9c179e"
             ],
             [
              0.4444444444444444,
              "#bd3786"
             ],
             [
              0.5555555555555556,
              "#d8576b"
             ],
             [
              0.6666666666666666,
              "#ed7953"
             ],
             [
              0.7777777777777778,
              "#fb9f3a"
             ],
             [
              0.8888888888888888,
              "#fdca26"
             ],
             [
              1,
              "#f0f921"
             ]
            ],
            "type": "histogram2dcontour"
           }
          ],
          "mesh3d": [
           {
            "colorbar": {
             "outlinewidth": 0,
             "ticks": ""
            },
            "type": "mesh3d"
           }
          ],
          "parcoords": [
           {
            "line": {
             "colorbar": {
              "outlinewidth": 0,
              "ticks": ""
             }
            },
            "type": "parcoords"
           }
          ],
          "pie": [
           {
            "automargin": true,
            "type": "pie"
           }
          ],
          "scatter": [
           {
            "marker": {
             "colorbar": {
              "outlinewidth": 0,
              "ticks": ""
             }
            },
            "type": "scatter"
           }
          ],
          "scatter3d": [
           {
            "line": {
             "colorbar": {
              "outlinewidth": 0,
              "ticks": ""
             }
            },
            "marker": {
             "colorbar": {
              "outlinewidth": 0,
              "ticks": ""
             }
            },
            "type": "scatter3d"
           }
          ],
          "scattercarpet": [
           {
            "marker": {
             "colorbar": {
              "outlinewidth": 0,
              "ticks": ""
             }
            },
            "type": "scattercarpet"
           }
          ],
          "scattergeo": [
           {
            "marker": {
             "colorbar": {
              "outlinewidth": 0,
              "ticks": ""
             }
            },
            "type": "scattergeo"
           }
          ],
          "scattergl": [
           {
            "marker": {
             "colorbar": {
              "outlinewidth": 0,
              "ticks": ""
             }
            },
            "type": "scattergl"
           }
          ],
          "scattermapbox": [
           {
            "marker": {
             "colorbar": {
              "outlinewidth": 0,
              "ticks": ""
             }
            },
            "type": "scattermapbox"
           }
          ],
          "scatterpolar": [
           {
            "marker": {
             "colorbar": {
              "outlinewidth": 0,
              "ticks": ""
             }
            },
            "type": "scatterpolar"
           }
          ],
          "scatterpolargl": [
           {
            "marker": {
             "colorbar": {
              "outlinewidth": 0,
              "ticks": ""
             }
            },
            "type": "scatterpolargl"
           }
          ],
          "scatterternary": [
           {
            "marker": {
             "colorbar": {
              "outlinewidth": 0,
              "ticks": ""
             }
            },
            "type": "scatterternary"
           }
          ],
          "surface": [
           {
            "colorbar": {
             "outlinewidth": 0,
             "ticks": ""
            },
            "colorscale": [
             [
              0,
              "#0d0887"
             ],
             [
              0.1111111111111111,
              "#46039f"
             ],
             [
              0.2222222222222222,
              "#7201a8"
             ],
             [
              0.3333333333333333,
              "#9c179e"
             ],
             [
              0.4444444444444444,
              "#bd3786"
             ],
             [
              0.5555555555555556,
              "#d8576b"
             ],
             [
              0.6666666666666666,
              "#ed7953"
             ],
             [
              0.7777777777777778,
              "#fb9f3a"
             ],
             [
              0.8888888888888888,
              "#fdca26"
             ],
             [
              1,
              "#f0f921"
             ]
            ],
            "type": "surface"
           }
          ],
          "table": [
           {
            "cells": {
             "fill": {
              "color": "#EBF0F8"
             },
             "line": {
              "color": "white"
             }
            },
            "header": {
             "fill": {
              "color": "#C8D4E3"
             },
             "line": {
              "color": "white"
             }
            },
            "type": "table"
           }
          ]
         },
         "layout": {
          "annotationdefaults": {
           "arrowcolor": "#2a3f5f",
           "arrowhead": 0,
           "arrowwidth": 1
          },
          "coloraxis": {
           "colorbar": {
            "outlinewidth": 0,
            "ticks": ""
           }
          },
          "colorscale": {
           "diverging": [
            [
             0,
             "#8e0152"
            ],
            [
             0.1,
             "#c51b7d"
            ],
            [
             0.2,
             "#de77ae"
            ],
            [
             0.3,
             "#f1b6da"
            ],
            [
             0.4,
             "#fde0ef"
            ],
            [
             0.5,
             "#f7f7f7"
            ],
            [
             0.6,
             "#e6f5d0"
            ],
            [
             0.7,
             "#b8e186"
            ],
            [
             0.8,
             "#7fbc41"
            ],
            [
             0.9,
             "#4d9221"
            ],
            [
             1,
             "#276419"
            ]
           ],
           "sequential": [
            [
             0,
             "#0d0887"
            ],
            [
             0.1111111111111111,
             "#46039f"
            ],
            [
             0.2222222222222222,
             "#7201a8"
            ],
            [
             0.3333333333333333,
             "#9c179e"
            ],
            [
             0.4444444444444444,
             "#bd3786"
            ],
            [
             0.5555555555555556,
             "#d8576b"
            ],
            [
             0.6666666666666666,
             "#ed7953"
            ],
            [
             0.7777777777777778,
             "#fb9f3a"
            ],
            [
             0.8888888888888888,
             "#fdca26"
            ],
            [
             1,
             "#f0f921"
            ]
           ],
           "sequentialminus": [
            [
             0,
             "#0d0887"
            ],
            [
             0.1111111111111111,
             "#46039f"
            ],
            [
             0.2222222222222222,
             "#7201a8"
            ],
            [
             0.3333333333333333,
             "#9c179e"
            ],
            [
             0.4444444444444444,
             "#bd3786"
            ],
            [
             0.5555555555555556,
             "#d8576b"
            ],
            [
             0.6666666666666666,
             "#ed7953"
            ],
            [
             0.7777777777777778,
             "#fb9f3a"
            ],
            [
             0.8888888888888888,
             "#fdca26"
            ],
            [
             1,
             "#f0f921"
            ]
           ]
          },
          "colorway": [
           "#636efa",
           "#EF553B",
           "#00cc96",
           "#ab63fa",
           "#FFA15A",
           "#19d3f3",
           "#FF6692",
           "#B6E880",
           "#FF97FF",
           "#FECB52"
          ],
          "font": {
           "color": "#2a3f5f"
          },
          "geo": {
           "bgcolor": "white",
           "lakecolor": "white",
           "landcolor": "#E5ECF6",
           "showlakes": true,
           "showland": true,
           "subunitcolor": "white"
          },
          "hoverlabel": {
           "align": "left"
          },
          "hovermode": "closest",
          "mapbox": {
           "style": "light"
          },
          "paper_bgcolor": "white",
          "plot_bgcolor": "#E5ECF6",
          "polar": {
           "angularaxis": {
            "gridcolor": "white",
            "linecolor": "white",
            "ticks": ""
           },
           "bgcolor": "#E5ECF6",
           "radialaxis": {
            "gridcolor": "white",
            "linecolor": "white",
            "ticks": ""
           }
          },
          "scene": {
           "xaxis": {
            "backgroundcolor": "#E5ECF6",
            "gridcolor": "white",
            "gridwidth": 2,
            "linecolor": "white",
            "showbackground": true,
            "ticks": "",
            "zerolinecolor": "white"
           },
           "yaxis": {
            "backgroundcolor": "#E5ECF6",
            "gridcolor": "white",
            "gridwidth": 2,
            "linecolor": "white",
            "showbackground": true,
            "ticks": "",
            "zerolinecolor": "white"
           },
           "zaxis": {
            "backgroundcolor": "#E5ECF6",
            "gridcolor": "white",
            "gridwidth": 2,
            "linecolor": "white",
            "showbackground": true,
            "ticks": "",
            "zerolinecolor": "white"
           }
          },
          "shapedefaults": {
           "line": {
            "color": "#2a3f5f"
           }
          },
          "ternary": {
           "aaxis": {
            "gridcolor": "white",
            "linecolor": "white",
            "ticks": ""
           },
           "baxis": {
            "gridcolor": "white",
            "linecolor": "white",
            "ticks": ""
           },
           "bgcolor": "#E5ECF6",
           "caxis": {
            "gridcolor": "white",
            "linecolor": "white",
            "ticks": ""
           }
          },
          "title": {
           "x": 0.05
          },
          "xaxis": {
           "automargin": true,
           "gridcolor": "white",
           "linecolor": "white",
           "ticks": "",
           "title": {
            "standoff": 15
           },
           "zerolinecolor": "white",
           "zerolinewidth": 2
          },
          "yaxis": {
           "automargin": true,
           "gridcolor": "white",
           "linecolor": "white",
           "ticks": "",
           "title": {
            "standoff": 15
           },
           "zerolinecolor": "white",
           "zerolinewidth": 2
          }
         }
        },
        "title": {
         "text": "Cumulative Transmission over Time"
        },
        "xaxis": {
         "title": {
          "text": "Date"
         }
        },
        "yaxis": {
         "title": {
          "text": "Number Infected"
         }
        }
       }
      },
      "text/html": [
       "<div>\n",
       "        \n",
       "        \n",
       "            <div id=\"e4f41496-8abb-47f0-988a-588059c008c3\" class=\"plotly-graph-div\" style=\"height:525px; width:100%;\"></div>\n",
       "            <script type=\"text/javascript\">\n",
       "                require([\"plotly\"], function(Plotly) {\n",
       "                    window.PLOTLYENV=window.PLOTLYENV || {};\n",
       "                    \n",
       "                if (document.getElementById(\"e4f41496-8abb-47f0-988a-588059c008c3\")) {\n",
       "                    Plotly.newPlot(\n",
       "                        'e4f41496-8abb-47f0-988a-588059c008c3',\n",
       "                        [{\"mode\": \"lines\", \"name\": \"Travel\", \"type\": \"scatter\", \"x\": [\"2020-03-05\", \"2020-03-06\", \"2020-03-07\", \"2020-03-09\", \"2020-03-10\", \"2020-03-11\", \"2020-03-12\", \"2020-03-13\", \"2020-03-14\", \"2020-03-15\", \"2020-03-16\", \"2020-03-17\", \"2020-03-18\", \"2020-03-19\", \"2020-03-20\", \"2020-03-21\", \"2020-03-22\", \"2020-03-23\", \"2020-03-24\", \"2020-03-25\"], \"y\": [0, 0, 0, 3, 4, 9, 22, 34, 42, 47, 49, 55, 72, 83, 93, 102, 104, 118, 137, 159]}, {\"mode\": \"lines\", \"name\": \"Close Contact\", \"type\": \"scatter\", \"x\": [\"2020-03-05\", \"2020-03-06\", \"2020-03-07\", \"2020-03-09\", \"2020-03-10\", \"2020-03-11\", \"2020-03-12\", \"2020-03-13\", \"2020-03-14\", \"2020-03-15\", \"2020-03-16\", \"2020-03-17\", \"2020-03-18\", \"2020-03-19\", \"2020-03-20\", \"2020-03-21\", \"2020-03-22\", \"2020-03-23\", \"2020-03-24\", \"2020-03-25\"], \"y\": [0, 0, 0, 1, 1, 1, 5, 10, 10, 10, 11, 12, 18, 22, 31, 36, 37, 53, 58, 80]}],\n",
       "                        {\"template\": {\"data\": {\"bar\": [{\"error_x\": {\"color\": \"#2a3f5f\"}, \"error_y\": {\"color\": \"#2a3f5f\"}, \"marker\": {\"line\": {\"color\": \"#E5ECF6\", \"width\": 0.5}}, \"type\": \"bar\"}], \"barpolar\": [{\"marker\": {\"line\": {\"color\": \"#E5ECF6\", \"width\": 0.5}}, \"type\": \"barpolar\"}], \"carpet\": [{\"aaxis\": {\"endlinecolor\": \"#2a3f5f\", \"gridcolor\": \"white\", \"linecolor\": \"white\", \"minorgridcolor\": \"white\", \"startlinecolor\": \"#2a3f5f\"}, \"baxis\": {\"endlinecolor\": \"#2a3f5f\", \"gridcolor\": \"white\", \"linecolor\": \"white\", \"minorgridcolor\": \"white\", \"startlinecolor\": \"#2a3f5f\"}, \"type\": \"carpet\"}], \"choropleth\": [{\"colorbar\": {\"outlinewidth\": 0, \"ticks\": \"\"}, \"type\": \"choropleth\"}], \"contour\": [{\"colorbar\": {\"outlinewidth\": 0, \"ticks\": \"\"}, \"colorscale\": [[0.0, \"#0d0887\"], [0.1111111111111111, \"#46039f\"], [0.2222222222222222, \"#7201a8\"], [0.3333333333333333, \"#9c179e\"], [0.4444444444444444, \"#bd3786\"], [0.5555555555555556, \"#d8576b\"], [0.6666666666666666, \"#ed7953\"], [0.7777777777777778, \"#fb9f3a\"], [0.8888888888888888, \"#fdca26\"], [1.0, \"#f0f921\"]], \"type\": \"contour\"}], \"contourcarpet\": [{\"colorbar\": {\"outlinewidth\": 0, \"ticks\": \"\"}, \"type\": \"contourcarpet\"}], \"heatmap\": [{\"colorbar\": {\"outlinewidth\": 0, \"ticks\": \"\"}, \"colorscale\": [[0.0, \"#0d0887\"], [0.1111111111111111, \"#46039f\"], [0.2222222222222222, \"#7201a8\"], [0.3333333333333333, \"#9c179e\"], [0.4444444444444444, \"#bd3786\"], [0.5555555555555556, \"#d8576b\"], [0.6666666666666666, \"#ed7953\"], [0.7777777777777778, \"#fb9f3a\"], [0.8888888888888888, \"#fdca26\"], [1.0, \"#f0f921\"]], \"type\": \"heatmap\"}], \"heatmapgl\": [{\"colorbar\": {\"outlinewidth\": 0, \"ticks\": \"\"}, \"colorscale\": [[0.0, \"#0d0887\"], [0.1111111111111111, \"#46039f\"], [0.2222222222222222, \"#7201a8\"], [0.3333333333333333, \"#9c179e\"], [0.4444444444444444, \"#bd3786\"], [0.5555555555555556, \"#d8576b\"], [0.6666666666666666, \"#ed7953\"], [0.7777777777777778, \"#fb9f3a\"], [0.8888888888888888, \"#fdca26\"], [1.0, \"#f0f921\"]], \"type\": \"heatmapgl\"}], \"histogram\": [{\"marker\": {\"colorbar\": {\"outlinewidth\": 0, \"ticks\": \"\"}}, \"type\": \"histogram\"}], \"histogram2d\": [{\"colorbar\": {\"outlinewidth\": 0, \"ticks\": \"\"}, \"colorscale\": [[0.0, \"#0d0887\"], [0.1111111111111111, \"#46039f\"], [0.2222222222222222, \"#7201a8\"], [0.3333333333333333, \"#9c179e\"], [0.4444444444444444, \"#bd3786\"], [0.5555555555555556, \"#d8576b\"], [0.6666666666666666, \"#ed7953\"], [0.7777777777777778, \"#fb9f3a\"], [0.8888888888888888, \"#fdca26\"], [1.0, \"#f0f921\"]], \"type\": \"histogram2d\"}], \"histogram2dcontour\": [{\"colorbar\": {\"outlinewidth\": 0, \"ticks\": \"\"}, \"colorscale\": [[0.0, \"#0d0887\"], [0.1111111111111111, \"#46039f\"], [0.2222222222222222, \"#7201a8\"], [0.3333333333333333, \"#9c179e\"], [0.4444444444444444, \"#bd3786\"], [0.5555555555555556, \"#d8576b\"], [0.6666666666666666, \"#ed7953\"], [0.7777777777777778, \"#fb9f3a\"], [0.8888888888888888, \"#fdca26\"], [1.0, \"#f0f921\"]], \"type\": \"histogram2dcontour\"}], \"mesh3d\": [{\"colorbar\": {\"outlinewidth\": 0, \"ticks\": \"\"}, \"type\": \"mesh3d\"}], \"parcoords\": [{\"line\": {\"colorbar\": {\"outlinewidth\": 0, \"ticks\": \"\"}}, \"type\": \"parcoords\"}], \"pie\": [{\"automargin\": true, \"type\": \"pie\"}], \"scatter\": [{\"marker\": {\"colorbar\": {\"outlinewidth\": 0, \"ticks\": \"\"}}, \"type\": \"scatter\"}], \"scatter3d\": [{\"line\": {\"colorbar\": {\"outlinewidth\": 0, \"ticks\": \"\"}}, \"marker\": {\"colorbar\": {\"outlinewidth\": 0, \"ticks\": \"\"}}, \"type\": \"scatter3d\"}], \"scattercarpet\": [{\"marker\": {\"colorbar\": {\"outlinewidth\": 0, \"ticks\": \"\"}}, \"type\": \"scattercarpet\"}], \"scattergeo\": [{\"marker\": {\"colorbar\": {\"outlinewidth\": 0, \"ticks\": \"\"}}, \"type\": \"scattergeo\"}], \"scattergl\": [{\"marker\": {\"colorbar\": {\"outlinewidth\": 0, \"ticks\": \"\"}}, \"type\": \"scattergl\"}], \"scattermapbox\": [{\"marker\": {\"colorbar\": {\"outlinewidth\": 0, \"ticks\": \"\"}}, \"type\": \"scattermapbox\"}], \"scatterpolar\": [{\"marker\": {\"colorbar\": {\"outlinewidth\": 0, \"ticks\": \"\"}}, \"type\": \"scatterpolar\"}], \"scatterpolargl\": [{\"marker\": {\"colorbar\": {\"outlinewidth\": 0, \"ticks\": \"\"}}, \"type\": \"scatterpolargl\"}], \"scatterternary\": [{\"marker\": {\"colorbar\": {\"outlinewidth\": 0, \"ticks\": \"\"}}, \"type\": \"scatterternary\"}], \"surface\": [{\"colorbar\": {\"outlinewidth\": 0, \"ticks\": \"\"}, \"colorscale\": [[0.0, \"#0d0887\"], [0.1111111111111111, \"#46039f\"], [0.2222222222222222, \"#7201a8\"], [0.3333333333333333, \"#9c179e\"], [0.4444444444444444, \"#bd3786\"], [0.5555555555555556, \"#d8576b\"], [0.6666666666666666, \"#ed7953\"], [0.7777777777777778, \"#fb9f3a\"], [0.8888888888888888, \"#fdca26\"], [1.0, \"#f0f921\"]], \"type\": \"surface\"}], \"table\": [{\"cells\": {\"fill\": {\"color\": \"#EBF0F8\"}, \"line\": {\"color\": \"white\"}}, \"header\": {\"fill\": {\"color\": \"#C8D4E3\"}, \"line\": {\"color\": \"white\"}}, \"type\": \"table\"}]}, \"layout\": {\"annotationdefaults\": {\"arrowcolor\": \"#2a3f5f\", \"arrowhead\": 0, \"arrowwidth\": 1}, \"coloraxis\": {\"colorbar\": {\"outlinewidth\": 0, \"ticks\": \"\"}}, \"colorscale\": {\"diverging\": [[0, \"#8e0152\"], [0.1, \"#c51b7d\"], [0.2, \"#de77ae\"], [0.3, \"#f1b6da\"], [0.4, \"#fde0ef\"], [0.5, \"#f7f7f7\"], [0.6, \"#e6f5d0\"], [0.7, \"#b8e186\"], [0.8, \"#7fbc41\"], [0.9, \"#4d9221\"], [1, \"#276419\"]], \"sequential\": [[0.0, \"#0d0887\"], [0.1111111111111111, \"#46039f\"], [0.2222222222222222, \"#7201a8\"], [0.3333333333333333, \"#9c179e\"], [0.4444444444444444, \"#bd3786\"], [0.5555555555555556, \"#d8576b\"], [0.6666666666666666, \"#ed7953\"], [0.7777777777777778, \"#fb9f3a\"], [0.8888888888888888, \"#fdca26\"], [1.0, \"#f0f921\"]], \"sequentialminus\": [[0.0, \"#0d0887\"], [0.1111111111111111, \"#46039f\"], [0.2222222222222222, \"#7201a8\"], [0.3333333333333333, \"#9c179e\"], [0.4444444444444444, \"#bd3786\"], [0.5555555555555556, \"#d8576b\"], [0.6666666666666666, \"#ed7953\"], [0.7777777777777778, \"#fb9f3a\"], [0.8888888888888888, \"#fdca26\"], [1.0, \"#f0f921\"]]}, \"colorway\": [\"#636efa\", \"#EF553B\", \"#00cc96\", \"#ab63fa\", \"#FFA15A\", \"#19d3f3\", \"#FF6692\", \"#B6E880\", \"#FF97FF\", \"#FECB52\"], \"font\": {\"color\": \"#2a3f5f\"}, \"geo\": {\"bgcolor\": \"white\", \"lakecolor\": \"white\", \"landcolor\": \"#E5ECF6\", \"showlakes\": true, \"showland\": true, \"subunitcolor\": \"white\"}, \"hoverlabel\": {\"align\": \"left\"}, \"hovermode\": \"closest\", \"mapbox\": {\"style\": \"light\"}, \"paper_bgcolor\": \"white\", \"plot_bgcolor\": \"#E5ECF6\", \"polar\": {\"angularaxis\": {\"gridcolor\": \"white\", \"linecolor\": \"white\", \"ticks\": \"\"}, \"bgcolor\": \"#E5ECF6\", \"radialaxis\": {\"gridcolor\": \"white\", \"linecolor\": \"white\", \"ticks\": \"\"}}, \"scene\": {\"xaxis\": {\"backgroundcolor\": \"#E5ECF6\", \"gridcolor\": \"white\", \"gridwidth\": 2, \"linecolor\": \"white\", \"showbackground\": true, \"ticks\": \"\", \"zerolinecolor\": \"white\"}, \"yaxis\": {\"backgroundcolor\": \"#E5ECF6\", \"gridcolor\": \"white\", \"gridwidth\": 2, \"linecolor\": \"white\", \"showbackground\": true, \"ticks\": \"\", \"zerolinecolor\": \"white\"}, \"zaxis\": {\"backgroundcolor\": \"#E5ECF6\", \"gridcolor\": \"white\", \"gridwidth\": 2, \"linecolor\": \"white\", \"showbackground\": true, \"ticks\": \"\", \"zerolinecolor\": \"white\"}}, \"shapedefaults\": {\"line\": {\"color\": \"#2a3f5f\"}}, \"ternary\": {\"aaxis\": {\"gridcolor\": \"white\", \"linecolor\": \"white\", \"ticks\": \"\"}, \"baxis\": {\"gridcolor\": \"white\", \"linecolor\": \"white\", \"ticks\": \"\"}, \"bgcolor\": \"#E5ECF6\", \"caxis\": {\"gridcolor\": \"white\", \"linecolor\": \"white\", \"ticks\": \"\"}}, \"title\": {\"x\": 0.05}, \"xaxis\": {\"automargin\": true, \"gridcolor\": \"white\", \"linecolor\": \"white\", \"ticks\": \"\", \"title\": {\"standoff\": 15}, \"zerolinecolor\": \"white\", \"zerolinewidth\": 2}, \"yaxis\": {\"automargin\": true, \"gridcolor\": \"white\", \"linecolor\": \"white\", \"ticks\": \"\", \"title\": {\"standoff\": 15}, \"zerolinecolor\": \"white\", \"zerolinewidth\": 2}}}, \"title\": {\"text\": \"Cumulative Transmission over Time\"}, \"xaxis\": {\"title\": {\"text\": \"Date\"}}, \"yaxis\": {\"title\": {\"text\": \"Number Infected\"}}},\n",
       "                        {\"responsive\": true}\n",
       "                    ).then(function(){\n",
       "                            \n",
       "var gd = document.getElementById('e4f41496-8abb-47f0-988a-588059c008c3');\n",
       "var x = new MutationObserver(function (mutations, observer) {{\n",
       "        var display = window.getComputedStyle(gd).display;\n",
       "        if (!display || display === 'none') {{\n",
       "            console.log([gd, 'removed!']);\n",
       "            Plotly.purge(gd);\n",
       "            observer.disconnect();\n",
       "        }}\n",
       "}});\n",
       "\n",
       "// Listen for the removal of the full notebook cells\n",
       "var notebookContainer = gd.closest('#notebook-container');\n",
       "if (notebookContainer) {{\n",
       "    x.observe(notebookContainer, {childList: true});\n",
       "}}\n",
       "\n",
       "// Listen for the clearing of the current output cell\n",
       "var outputEl = gd.closest('.output');\n",
       "if (outputEl) {{\n",
       "    x.observe(outputEl, {childList: true});\n",
       "}}\n",
       "\n",
       "                        })\n",
       "                };\n",
       "                });\n",
       "            </script>\n",
       "        </div>"
      ]
     },
     "metadata": {},
     "output_type": "display_data"
    }
   ],
   "source": [
    "fig = go.Figure()\n",
    "fig.add_trace(go.Scatter(x=dates, y=cum_infections[0],\n",
    "                    mode='lines',\n",
    "                    name='Travel'))\n",
    "fig.add_trace(go.Scatter(x=dates, y=cum_infections[1],\n",
    "                    mode='lines',\n",
    "                    name='Close Contact'))\n",
    "fig.update_layout(\n",
    "    title_text='Cumulative Transmission over Time', # title of plot\n",
    "    xaxis_title_text='Date', # xaxis label\n",
    "    yaxis_title_text='Number Infected', # yaxis label\n",
    ")\n",
    "\n",
    "fig.show()"
   ]
  },
  {
   "cell_type": "code",
   "execution_count": null,
   "metadata": {},
   "outputs": [],
   "source": []
  }
 ],
 "metadata": {
  "kernelspec": {
   "display_name": "Python (plakk)",
   "language": "python",
   "name": "plakk"
  },
  "language_info": {
   "codemirror_mode": {
    "name": "ipython",
    "version": 3
   },
   "file_extension": ".py",
   "mimetype": "text/x-python",
   "name": "python",
   "nbconvert_exporter": "python",
   "pygments_lexer": "ipython3",
   "version": "3.6.10"
  }
 },
 "nbformat": 4,
 "nbformat_minor": 4
}
